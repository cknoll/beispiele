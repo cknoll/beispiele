{
 "metadata": {
  "name": "",
  "signature": "sha256:71853439f7ca250f5d56cc418af288df100be485e620523a92bd14dd5632983e"
 },
 "nbformat": 3,
 "nbformat_minor": 0,
 "worksheets": [
  {
   "cells": [
    {
     "cell_type": "code",
     "collapsed": false,
     "input": [
      "import time\n",
      "print time.ctime()"
     ],
     "language": "python",
     "metadata": {},
     "outputs": [
      {
       "output_type": "stream",
       "stream": "stdout",
       "text": [
        "Mon Jun  6 08:03:42 2016\n"
       ]
      }
     ],
     "prompt_number": 1
    },
    {
     "cell_type": "markdown",
     "metadata": {},
     "source": [
      "<sub>Bei diesem IPython-Notebook handelt es sich um eine Beispiel-Rechnung als Erg\u00e4nzung zur Dissertationsschrift von C. Knoll. Allgemeine Hinweise zu den Beispielen sind in der [readme.md-Datei des entsprechenden Repositoriums](https://github.com/cknoll/beispiele/blob/master/readme.md) zu finden.</sub>\n",
      "\n",
      "---"
     ]
    },
    {
     "cell_type": "markdown",
     "metadata": {},
     "source": [
      "**Betrachtetes System**: Zwei translatorisch verschiebbare Massen, die \u00fcber ein Feder-D\u00e4mpfer-Element miteinander verbunden sind. Auf eine der beiden Massen wirkt eine Stellkraft.<br>\n",
      "\n",
      "<img src=\"files/images/wagen_feder_wagen.png\">\n",
      "\n",
      "**Betrachtete Fragen**:\n",
      "* Herleitung der Modellgleichungen\n",
      "* Bestimmung eines flachen bzw. eines konfigurationsflachen Ausgangs\n",
      "\n",
      "[//]: # (custom_config_start)\n",
      "$$\n",
      "\\newcommand{\\d}{\\mathrm{d}}\n",
      "\\newcommand{\\col}{\\mathrm{col}}\n",
      "\\newcommand{\\bs}{\\boldsymbol}\n",
      "\\newcommand{\\tt}{\\boldsymbol{\\theta}}\n",
      "\\newcommand{\\Ddt}{\\left(\\tfrac{d}{dt}\\right)}\n",
      "\\newcommand{\\ddt}{\\tfrac{d}{dt}}\n",
      "$$\n",
      "[//]: # (custom_config_end)\n"
     ]
    },
    {
     "cell_type": "code",
     "collapsed": false,
     "input": [
      "%load_ext displaytools\n",
      "import sympy as sp\n",
      "from sympy import sin, cos, pi, Matrix\n",
      "import symbtools.modeltools as mt\n",
      "import symbtools as st\n",
      "from sympy.interactive import printing\n",
      "printing.init_printing()"
     ],
     "language": "python",
     "metadata": {},
     "outputs": [],
     "prompt_number": 2
    },
    {
     "cell_type": "code",
     "collapsed": false,
     "input": [
      "np = 1\n",
      "nq = 1\n",
      "n = np + nq\n",
      "pp = st.symb_vector(\"p1:{0}\".format(np+1))\n",
      "qq = st.symb_vector(\"q1:{0}\".format(nq+1))\n",
      "\n",
      "theta = st.row_stack(pp, qq) ##T\n",
      "thetad = st.time_deriv(theta, theta) ##T\n",
      "thetadd = st.time_deriv(theta, theta, order=2) ##T\n",
      "\n",
      "st.make_global(theta, thetad)"
     ],
     "language": "python",
     "metadata": {},
     "outputs": [
      {
       "latex": [
        "$$\\left[\\begin{matrix}p_{1} & q_{1}\\end{matrix}\\right]$$"
       ],
       "metadata": {},
       "output_type": "display_data",
       "png": "[encoded data removed]",
       "text": [
        "[p\u2081  q\u2081]"
       ]
      },
      {
       "output_type": "stream",
       "stream": "stdout",
       "text": [
        "---\n"
       ]
      },
      {
       "latex": [
        "$$\\left[\\begin{matrix}\\dot{p}_{1} & \\dot{q}_{1}\\end{matrix}\\right]$$"
       ],
       "metadata": {},
       "output_type": "display_data",
       "png": "[encoded data removed]",
       "text": [
        "[p\u0307\u2081  q\u0307\u2081]"
       ]
      },
      {
       "output_type": "stream",
       "stream": "stdout",
       "text": [
        "---\n"
       ]
      },
      {
       "latex": [
        "$$\\left[\\begin{matrix}\\ddot{p}_{1} & \\ddot{q}_{1}\\end{matrix}\\right]$$"
       ],
       "metadata": {},
       "output_type": "display_data",
       "png": "[encoded data removed]",
       "text": [
        "[p\u0308\u2081  q\u0308\u2081]"
       ]
      },
      {
       "output_type": "stream",
       "stream": "stdout",
       "text": [
        "---\n"
       ]
      }
     ],
     "prompt_number": 3
    },
    {
     "cell_type": "code",
     "collapsed": false,
     "input": [
      "params = sp.symbols('m1, m2, d0, d1, c1')\n",
      "\n",
      "\n",
      "ttau = sp.symbols(\"tau_dissi, tau1\")\n",
      "st.make_global(ttau, params)"
     ],
     "language": "python",
     "metadata": {},
     "outputs": [],
     "prompt_number": 5
    },
    {
     "cell_type": "code",
     "collapsed": false,
     "input": [
      "# Geometrie: (Einheitsvektoren)\n",
      "ex = Matrix([1,0])\n",
      "ey = Matrix([0,1])\n",
      "\n",
      "S1 = q1\n",
      "S2 = q1 + p1\n",
      "\n",
      "S1d = st.time_deriv(S1, theta)\n",
      "S2d = st.time_deriv(S2, theta)"
     ],
     "language": "python",
     "metadata": {},
     "outputs": [],
     "prompt_number": 7
    },
    {
     "cell_type": "code",
     "collapsed": false,
     "input": [
      "# Energie\n",
      "T = ( m1*S1d*S1d  +  m2*S2d*S2d )/2\n",
      "\n",
      "\n",
      "V = c1/2*p1**2"
     ],
     "language": "python",
     "metadata": {},
     "outputs": [],
     "prompt_number": 8
    },
    {
     "cell_type": "code",
     "collapsed": false,
     "input": [
      "mod = mt.generate_symbolic_model(T, V, theta, ttau)\n",
      "mod.eqns = sp.simplify(mod.eqns.subs([(tau_dissi, -d1*pdot1), (tau1, tau1 - d0*qdot1)]))"
     ],
     "language": "python",
     "metadata": {},
     "outputs": [],
     "prompt_number": 9
    },
    {
     "cell_type": "code",
     "collapsed": false,
     "input": [
      "mod.eqns ##:\n",
      "mod.MM ##:"
     ],
     "language": "python",
     "metadata": {},
     "outputs": [
      {
       "latex": [
        "mod.eqns  := $$\\left[\\begin{matrix}c_{1} p_{1} + d_{1} \\dot{p}_{1} + m_{2} \\left(\\ddot{p}_{1} + \\ddot{q}_{1}\\right)\\\\d_{0} \\dot{q}_{1} + m_{1} \\ddot{q}_{1} + m_{2} \\left(\\ddot{p}_{1} + \\ddot{q}_{1}\\right) - \\tau_{1}\\end{matrix}\\right]$$"
       ],
       "metadata": {},
       "output_type": "display_data",
       "png": "[encoded data removed]",
       "text": [
        "mod.eqns  := \u23a1   c\u2081\u22c5p\u2081 + d\u2081\u22c5p\u0307\u2081 + m\u2082\u22c5(p\u0308\u2081 + q\u0308\u2081)   \u23a4\n",
        "\u23a2                                     \u23a5\n",
        "\u23a3d\u2080\u22c5q\u0307\u2081 + m\u2081\u22c5q\u0308\u2081 + m\u2082\u22c5(p\u0308\u2081 + q\u0308\u2081) - \u03c4\u2081\u23a6"
       ]
      },
      {
       "output_type": "stream",
       "stream": "stdout",
       "text": [
        "___\n"
       ]
      },
      {
       "latex": [
        "mod.MM  := $$\\left[\\begin{matrix}m_{2} & m_{2}\\\\m_{2} & m_{1} + m_{2}\\end{matrix}\\right]$$"
       ],
       "metadata": {},
       "output_type": "display_data",
       "png": "[encoded data removed]",
       "text": [
        "mod.MM  := \u23a1m\u2082    m\u2082   \u23a4\n",
        "\u23a2           \u23a5\n",
        "\u23a3m\u2082  m\u2081 + m\u2082\u23a6"
       ]
      },
      {
       "output_type": "stream",
       "stream": "stdout",
       "text": [
        "___\n"
       ]
      }
     ],
     "prompt_number": 10
    },
    {
     "cell_type": "markdown",
     "metadata": {},
     "source": [
      "Implizites Modell $\\bs F(\\tt)$ aufstellen (nur die ersten $n_{\\bs p}$ Gleichungen ber\u00fccksichtigen)."
     ]
    },
    {
     "cell_type": "code",
     "collapsed": false,
     "input": [
      "FF = mod.eqns[:np, :]"
     ],
     "language": "python",
     "metadata": {},
     "outputs": [],
     "prompt_number": 11
    },
    {
     "cell_type": "code",
     "collapsed": false,
     "input": [
      "P0 = FF.jacobian(theta) ##:\n",
      "P1 = FF.jacobian(thetad) ##:\n",
      "P2 = FF.jacobian(thetadd) ##:"
     ],
     "language": "python",
     "metadata": {},
     "outputs": [
      {
       "latex": [
        "P0 := $$\\left[\\begin{matrix}c_{1} & 0\\end{matrix}\\right]$$"
       ],
       "metadata": {},
       "output_type": "display_data",
       "png": "[encoded data removed]",
       "text": [
        "P0 := [c\u2081  0]"
       ]
      },
      {
       "output_type": "stream",
       "stream": "stdout",
       "text": [
        "---\n"
       ]
      },
      {
       "latex": [
        "P1 := $$\\left[\\begin{matrix}d_{1} & 0\\end{matrix}\\right]$$"
       ],
       "metadata": {},
       "output_type": "display_data",
       "png": "[encoded data removed]",
       "text": [
        "P1 := [d\u2081  0]"
       ]
      },
      {
       "output_type": "stream",
       "stream": "stdout",
       "text": [
        "---\n"
       ]
      },
      {
       "latex": [
        "P2 := $$\\left[\\begin{matrix}m_{2} & m_{2}\\end{matrix}\\right]$$"
       ],
       "metadata": {},
       "output_type": "display_data",
       "png": "[encoded data removed]",
       "text": [
        "P2 := [m\u2082  m\u2082]"
       ]
      },
      {
       "output_type": "stream",
       "stream": "stdout",
       "text": [
        "---\n"
       ]
      }
     ],
     "prompt_number": 13
    },
    {
     "cell_type": "code",
     "collapsed": false,
     "input": [
      "s = sp.Symbol('s')\n",
      "PF = P0 + P1*s + P2*s**2 ##"
     ],
     "language": "python",
     "metadata": {},
     "outputs": [
      {
       "latex": [
        "$$\\left[\\begin{matrix}c_{1} + d_{1} s + m_{2} s^{2} & m_{2} s^{2}\\end{matrix}\\right]$$"
       ],
       "metadata": {},
       "output_type": "display_data",
       "png": "[encoded data removed]",
       "text": [
        "\u23a1                2      2\u23a4\n",
        "\u23a3c\u2081 + d\u2081\u22c5s + m\u2082\u22c5s   m\u2082\u22c5s \u23a6"
       ]
      },
      {
       "output_type": "stream",
       "stream": "stdout",
       "text": [
        "---\n"
       ]
      }
     ],
     "prompt_number": 16
    },
    {
     "cell_type": "code",
     "collapsed": false,
     "input": [
      "a10, a11, a20, a21 = aa = st.symb_vector(\"a10, a11, a20, a21\")\n",
      "\n",
      "# Ansatz-Zeile f\u00fcr die unimodulare Erg\u00e4nzung\n",
      "Q_ansatz0 = sp.Matrix([[a10 , a20 ]]) ##:"
     ],
     "language": "python",
     "metadata": {},
     "outputs": [
      {
       "latex": [
        "Q_ansatz0 := $$\\left[\\begin{matrix}a_{10} & a_{20}\\end{matrix}\\right]$$"
       ],
       "metadata": {},
       "output_type": "display_data",
       "png": "[encoded data removed]",
       "text": [
        "Q_ansatz0 := [a\u2081\u2080  a\u2082\u2080]"
       ]
      },
      {
       "output_type": "stream",
       "stream": "stdout",
       "text": [
        "---\n"
       ]
      }
     ],
     "prompt_number": 14
    },
    {
     "cell_type": "code",
     "collapsed": false,
     "input": [
      "PQ0 = st.row_stack(PF, Q_ansatz0) ##"
     ],
     "language": "python",
     "metadata": {},
     "outputs": [
      {
       "latex": [
        "$$\\left[\\begin{matrix}c_{1} + d_{1} s + m_{2} s^{2} & m_{2} s^{2}\\\\a_{10} & a_{20}\\end{matrix}\\right]$$"
       ],
       "metadata": {},
       "output_type": "display_data",
       "png": "[encoded data removed]",
       "text": [
        "\u23a1                2      2\u23a4\n",
        "\u23a2c\u2081 + d\u2081\u22c5s + m\u2082\u22c5s   m\u2082\u22c5s \u23a5\n",
        "\u23a2                        \u23a5\n",
        "\u23a3       a\u2081\u2080          a\u2082\u2080 \u23a6"
       ]
      },
      {
       "output_type": "stream",
       "stream": "stdout",
       "text": [
        "---\n"
       ]
      }
     ],
     "prompt_number": 17
    },
    {
     "cell_type": "code",
     "collapsed": false,
     "input": [
      "det0 = PQ0.det() ##:"
     ],
     "language": "python",
     "metadata": {},
     "outputs": [
      {
       "latex": [
        "det0 := $$- a_{10} m_{2} s^{2} + a_{20} c_{1} + a_{20} d_{1} s + a_{20} m_{2} s^{2}$$"
       ],
       "metadata": {},
       "output_type": "display_data",
       "png": "[encoded data removed]",
       "text": [
        "det0 :=           2                               2\n",
        "- a\u2081\u2080\u22c5m\u2082\u22c5s  + a\u2082\u2080\u22c5c\u2081 + a\u2082\u2080\u22c5d\u2081\u22c5s + a\u2082\u2080\u22c5m\u2082\u22c5s "
       ]
      },
      {
       "output_type": "stream",
       "stream": "stdout",
       "text": [
        "---\n"
       ]
      }
     ],
     "prompt_number": 18
    },
    {
     "cell_type": "code",
     "collapsed": false,
     "input": [
      "coeffs0 = st.poly_coeffs(det0, s) ##"
     ],
     "language": "python",
     "metadata": {},
     "outputs": [
      {
       "latex": [
        "$$\\left [ - a_{10} m_{2} + a_{20} m_{2}, \\quad a_{20} d_{1}, \\quad a_{20} c_{1}\\right ]$$"
       ],
       "metadata": {},
       "output_type": "display_data",
       "png": "[encoded data removed]",
       "text": [
        "[-a\u2081\u2080\u22c5m\u2082 + a\u2082\u2080\u22c5m\u2082, a\u2082\u2080\u22c5d\u2081, a\u2082\u2080\u22c5c\u2081]"
       ]
      },
      {
       "output_type": "stream",
       "stream": "stdout",
       "text": [
        "---\n"
       ]
      }
     ],
     "prompt_number": 19
    },
    {
     "cell_type": "markdown",
     "metadata": {},
     "source": [
      "### Fall $d_1 \\neq 0$:\n",
      "\n",
      "F\u00fcr $d_1 \\neq 0$ werden die Koeffizienten f\u00fcr $s^2$ und $s$ nur dannn Null, wenn $a_{10} = a_{20} = 0$ gilt. Dann w\u00e4re $\\bs Q$ die Nullmatrix. Das System hat f\u00fcr $d_1$ also keinen konfigurationsflachen Ausgang. (Es ist auch nicht quasikonservativ).\n",
      "\n",
      "\n",
      "### Fall $d_1 = 0$ (quasi-konservativ):\n"
     ]
    },
    {
     "cell_type": "code",
     "collapsed": false,
     "input": [
      "det0_qk = det0.subs(d1, 0) ##:"
     ],
     "language": "python",
     "metadata": {},
     "outputs": [
      {
       "latex": [
        "det0_qk := $$- a_{10} m_{2} s^{2} + a_{20} c_{1} + a_{20} m_{2} s^{2}$$"
       ],
       "metadata": {},
       "output_type": "display_data",
       "png": "[encoded data removed]",
       "text": [
        "det0_qk :=           2                    2\n",
        "- a\u2081\u2080\u22c5m\u2082\u22c5s  + a\u2082\u2080\u22c5c\u2081 + a\u2082\u2080\u22c5m\u2082\u22c5s "
       ]
      },
      {
       "output_type": "stream",
       "stream": "stdout",
       "text": [
        "---\n"
       ]
      }
     ],
     "prompt_number": 20
    },
    {
     "cell_type": "markdown",
     "metadata": {},
     "source": [
      "Mit der Wahl $a_{10} = a_{20} = 1$ erh\u00e4lt man "
     ]
    },
    {
     "cell_type": "code",
     "collapsed": false,
     "input": [
      "det0_qk.subs([(a10, 1), (a20, 1)])"
     ],
     "language": "python",
     "metadata": {},
     "outputs": [
      {
       "latex": [
        "$$c_{1}$$"
       ],
       "metadata": {},
       "output_type": "pyout",
       "png": "[encoded data removed]",
       "prompt_number": 21,
       "text": [
        "c\u2081"
       ]
      }
     ],
     "prompt_number": 21
    },
    {
     "cell_type": "markdown",
     "metadata": {},
     "source": [
      "Das hei\u00df, y = $p_1$ + $q_1$ ist ein konfigurationsflacher Ausgang.\n",
      "\n",
      "**Bemerkung**: Falls $c_1 = 0$ gilt, ist das System nicht steuerbar (Dimension der Ruhelagenmannigfaltigkeit > Eingangsdimension $n_{\\bs q}$)"
     ]
    },
    {
     "cell_type": "markdown",
     "metadata": {},
     "source": [
      "### Bestimmung eines allgemeinen flachen Ausgangs f\u00fcr $d_1 \\neq 0$"
     ]
    },
    {
     "cell_type": "code",
     "collapsed": false,
     "input": [
      "# Auch Ableitungen in y zulassen -> s^1 Terme im Ansatz\n",
      "Q_ansatz1 = sp.Matrix([[a10 + a11*s, a20 + a21*s]]) ##:\n",
      "PQ1 = st.row_stack(PF, Q_ansatz1) ##:\n",
      "det1 = PQ1.det() ##:\n",
      "coeffs1 = sp.Matrix(st.poly_coeffs(det1, s)) ##:"
     ],
     "language": "python",
     "metadata": {},
     "outputs": [
      {
       "latex": [
        "Q_ansatz1 := $$\\left[\\begin{matrix}a_{10} + a_{11} s & a_{20} + a_{21} s\\end{matrix}\\right]$$"
       ],
       "metadata": {},
       "output_type": "display_data",
       "png": "[encoded data removed]",
       "text": [
        "Q_ansatz1 := [a\u2081\u2080 + a\u2081\u2081\u22c5s  a\u2082\u2080 + a\u2082\u2081\u22c5s]"
       ]
      },
      {
       "output_type": "stream",
       "stream": "stdout",
       "text": [
        "---\n"
       ]
      },
      {
       "latex": [
        "PQ1 := $$\\left[\\begin{matrix}c_{1} + d_{1} s + m_{2} s^{2} & m_{2} s^{2}\\\\a_{10} + a_{11} s & a_{20} + a_{21} s\\end{matrix}\\right]$$"
       ],
       "metadata": {},
       "output_type": "display_data",
       "png": "[encoded data removed]",
       "text": [
        "PQ1 := \u23a1                2         2   \u23a4\n",
        "\u23a2c\u2081 + d\u2081\u22c5s + m\u2082\u22c5s      m\u2082\u22c5s    \u23a5\n",
        "\u23a2                              \u23a5\n",
        "\u23a3   a\u2081\u2080 + a\u2081\u2081\u22c5s     a\u2082\u2080 + a\u2082\u2081\u22c5s\u23a6"
       ]
      },
      {
       "output_type": "stream",
       "stream": "stdout",
       "text": [
        "---\n"
       ]
      },
      {
       "latex": [
        "det1 := $$- a_{10} m_{2} s^{2} - a_{11} m_{2} s^{3} + a_{20} c_{1} + a_{20} d_{1} s + a_{20} m_{2} s^{2} + a_{21} c_{1} s + a_{21} d_{1} s^{2} + a_{21} m_{2} s^{3}$$"
       ],
       "metadata": {},
       "output_type": "display_data",
       "png": "[encoded data removed]",
       "text": [
        "det1 :=           2           3                               2                      2\n",
        "- a\u2081\u2080\u22c5m\u2082\u22c5s  - a\u2081\u2081\u22c5m\u2082\u22c5s  + a\u2082\u2080\u22c5c\u2081 + a\u2082\u2080\u22c5d\u2081\u22c5s + a\u2082\u2080\u22c5m\u2082\u22c5s  + a\u2082\u2081\u22c5c\u2081\u22c5s + a\u2082\u2081\u22c5d\u2081\u22c5s \n",
        "\n",
        "           3\n",
        " + a\u2082\u2081\u22c5m\u2082\u22c5s "
       ]
      },
      {
       "output_type": "stream",
       "stream": "stdout",
       "text": [
        "---\n"
       ]
      },
      {
       "latex": [
        "coeffs1 := $$\\left[\\begin{matrix}- a_{11} m_{2} + a_{21} m_{2}\\\\- a_{10} m_{2} + a_{20} m_{2} + a_{21} d_{1}\\\\a_{20} d_{1} + a_{21} c_{1}\\\\a_{20} c_{1}\\end{matrix}\\right]$$"
       ],
       "metadata": {},
       "output_type": "display_data",
       "png": "[encoded data removed]",
       "text": [
        "coeffs1 := \u23a1    -a\u2081\u2081\u22c5m\u2082 + a\u2082\u2081\u22c5m\u2082     \u23a4\n",
        "\u23a2                         \u23a5\n",
        "\u23a2-a\u2081\u2080\u22c5m\u2082 + a\u2082\u2080\u22c5m\u2082 + a\u2082\u2081\u22c5d\u2081\u23a5\n",
        "\u23a2                         \u23a5\n",
        "\u23a2     a\u2082\u2080\u22c5d\u2081 + a\u2082\u2081\u22c5c\u2081     \u23a5\n",
        "\u23a2                         \u23a5\n",
        "\u23a3         a\u2082\u2080\u22c5c\u2081          \u23a6"
       ]
      },
      {
       "output_type": "stream",
       "stream": "stdout",
       "text": [
        "---\n"
       ]
      }
     ],
     "prompt_number": 22
    },
    {
     "cell_type": "markdown",
     "metadata": {},
     "source": [
      "Forderung: $\\det\n",
      "\\left(\\begin{smallmatrix}\n",
      "     \\bs P \\\\\n",
      "\\bs Q\n",
      "\\end{smallmatrix} \\right)\n",
      " \\stackrel{!}{=}c_1 = \\mathrm{konst}.$"
     ]
    },
    {
     "cell_type": "code",
     "collapsed": false,
     "input": [
      "sol  = sp.solve(coeffs1-sp.Matrix([0, 0, 0, c1]), aa) ##:"
     ],
     "language": "python",
     "metadata": {},
     "outputs": [
      {
       "latex": [
        "sol := $$\\left \\{ a_{10} : 1 - \\frac{d_{1}^{2}}{c_{1} m_{2}}, \\quad a_{11} : - \\frac{d_{1}}{c_{1}}, \\quad a_{20} : 1, \\quad a_{21} : - \\frac{d_{1}}{c_{1}}\\right \\}$$"
       ],
       "metadata": {},
       "output_type": "display_data",
       "png": "[encoded data removed]",
       "text": [
        "sol := \u23a7            2                               \u23ab\n",
        "\u23aa          d\u2081         -d\u2081                -d\u2081 \u23aa\n",
        "\u23a8a\u2081\u2080: 1 - \u2500\u2500\u2500\u2500\u2500, a\u2081\u2081: \u2500\u2500\u2500\u2500, a\u2082\u2080: 1, a\u2082\u2081: \u2500\u2500\u2500\u2500\u23ac\n",
        "\u23aa         c\u2081\u22c5m\u2082        c\u2081                 c\u2081 \u23aa\n",
        "\u23a9                                            \u23ad"
       ]
      },
      {
       "output_type": "stream",
       "stream": "stdout",
       "text": [
        "---\n"
       ]
      }
     ],
     "prompt_number": 23
    },
    {
     "cell_type": "code",
     "collapsed": false,
     "input": [
      "Q_ansatz1.subs(sol)"
     ],
     "language": "python",
     "metadata": {},
     "outputs": [
      {
       "latex": [
        "$$\\left[\\begin{matrix}1 - \\frac{d_{1}^{2}}{c_{1} m_{2}} - \\frac{d_{1} s}{c_{1}} & 1 - \\frac{d_{1} s}{c_{1}}\\end{matrix}\\right]$$"
       ],
       "metadata": {},
       "output_type": "pyout",
       "png": "[encoded data removed]",
       "prompt_number": 24,
       "text": [
        "\u23a1       2                  \u23a4\n",
        "\u23a2     d\u2081     d\u2081\u22c5s      d\u2081\u22c5s\u23a5\n",
        "\u23a21 - \u2500\u2500\u2500\u2500\u2500 - \u2500\u2500\u2500\u2500  1 - \u2500\u2500\u2500\u2500\u23a5\n",
        "\u23a3    c\u2081\u22c5m\u2082    c\u2081        c\u2081 \u23a6"
       ]
      }
     ],
     "prompt_number": 24
    },
    {
     "cell_type": "code",
     "collapsed": false,
     "input": [
      "y_non_qk = aa.subs(sol).T * sp.Matrix([p1, pdot1, q1, qdot1]) ##"
     ],
     "language": "python",
     "metadata": {},
     "outputs": [
      {
       "latex": [
        "$$\\left[\\begin{matrix}p_{1} \\left(1 - \\frac{d_{1}^{2}}{c_{1} m_{2}}\\right) + q_{1} - \\frac{d_{1} \\dot{p}_{1}}{c_{1}} - \\frac{d_{1} \\dot{q}_{1}}{c_{1}}\\end{matrix}\\right]$$"
       ],
       "metadata": {},
       "output_type": "display_data",
       "png": "[encoded data removed]",
       "text": [
        "\u23a1   \u239b       2 \u239e                       \u23a4\n",
        "\u23a2   \u239c     d\u2081  \u239f        d\u2081\u22c5p\u0307\u2081   d\u2081\u22c5q\u0307\u2081\u23a5\n",
        "\u23a2p\u2081\u22c5\u239c1 - \u2500\u2500\u2500\u2500\u2500\u239f + q\u2081 - \u2500\u2500\u2500\u2500\u2500\u2500 - \u2500\u2500\u2500\u2500\u2500\u2500\u23a5\n",
        "\u23a3   \u239d    c\u2081\u22c5m\u2082\u23a0          c\u2081       c\u2081  \u23a6"
       ]
      },
      {
       "output_type": "stream",
       "stream": "stdout",
       "text": [
        "---\n"
       ]
      }
     ],
     "prompt_number": 25
    },
    {
     "cell_type": "markdown",
     "metadata": {},
     "source": [
      "Bei diesem Ergebnis handelt es sich um einen flachen Ausgang des Systems mit $d_1 \\neq 0$. Dieser h\u00e4ngt offensichtlich von den Geschwindigkeiten ab."
     ]
    }
   ],
   "metadata": {}
  }
 ]
}