{
 "metadata": {
  "name": "",
  "signature": "sha256:92fa80e8953cd821436778382633160cf238f04b74ca21dff11099adbbe07b75"
 },
 "nbformat": 3,
 "nbformat_minor": 0,
 "worksheets": [
  {
   "cells": [
    {
     "cell_type": "code",
     "collapsed": false,
     "input": [
      "import time\n",
      "print time.ctime()\n",
      "%load_ext displaytools\n",
      "%matplotlib inline\n",
      "\n",
      "from diss_aux import latex"
     ],
     "language": "python",
     "metadata": {},
     "outputs": [
      {
       "output_type": "stream",
       "stream": "stdout",
       "text": [
        "Wed May 11 19:26:49 2016\n"
       ]
      }
     ],
     "prompt_number": 1
    },
    {
     "cell_type": "markdown",
     "metadata": {},
     "source": [
      "**Betrachtetes System**: Paralleles Zweifachpendel mit horizontal verschieblicher Aufh\u00e4ngung \n",
      "\n",
      "\ufffc <img src=\"files/images/pendel_wagen.png\">\n",
      "\n",
      "**Inhalt**:\n",
      "* Herleitung der Modellgleichungen in partiell linearisierter Form\n",
      " \n",
      "* Bestimmung eines linearen Reglers, welcher die untere Ruhelage stabilisiert\n",
      "\n",
      "* Bestimmung einer Trajektorie, von der unteren in die obere Ruhelage\n",
      "\n",
      "\n",
      "\n",
      "[//]: # (custom_config_start)\n",
      "$$\n",
      "\\newcommand{\\d}{\\mathrm{d}}\n",
      "\\newcommand{\\col}{\\mathrm{col}}\n",
      "\\newcommand{\\bs}{\\boldsymbol}\n",
      "\\newcommand{\\Ddt}{\\left(\\tfrac{d}{dt}\\right)}\n",
      "\\newcommand{\\ddt}{\\tfrac{d}{dt}}\n",
      "$$\n",
      "[//]: # (custom_config_end)"
     ]
    },
    {
     "cell_type": "code",
     "collapsed": false,
     "input": [
      "import sympy as sp\n",
      "from sympy import sin, cos, pi\n",
      "from sympy.interactive import printing\n",
      "import pickle\n",
      "import numpy as np\n",
      "from scipy.integrate import odeint\n",
      "import matplotlib.pyplot as pl\n",
      "\n",
      "import symbtools as st\n",
      "import symbtools.modeltools as mt\n",
      "import symbtools.noncommutativetools as nct\n",
      "\n",
      "printing.init_printing(1)"
     ],
     "language": "python",
     "metadata": {},
     "outputs": [],
     "prompt_number": 2
    },
    {
     "cell_type": "code",
     "collapsed": false,
     "input": [
      "t = sp.Symbol('t')\n",
      "Np = 2\n",
      "Nq = 1\n",
      "n = Np + Nq\n",
      "pp = st.symb_vector(\"p1:{0}\".format(Np+1))\n",
      "qq = st.symb_vector(\"q1:{0}\".format(Nq+1))\n",
      "aa = st.symb_vector(\"a1:{0}\".format(Nq+1))\n",
      "ww = st.symb_vector(\"w1:{0}\".format(Nq+1))\n",
      "\n",
      "ttheta = st.row_stack(pp, qq) ##:T\n",
      "tthetad = st.time_deriv(ttheta, ttheta) ##:T\n",
      "tthetadd = st.time_deriv(ttheta, ttheta, order=2) ##:T\n",
      "st.make_global(ttheta, tthetad)"
     ],
     "language": "python",
     "metadata": {},
     "outputs": [
      {
       "latex": [
        "ttheta.T := $$\\left[\\begin{matrix}p_{1} & p_{2} & q_{1}\\end{matrix}\\right]$$"
       ],
       "metadata": {},
       "output_type": "display_data",
       "png": "[encoded data removed]",
       "text": [
        "ttheta.T := [p\u2081  p\u2082  q\u2081]"
       ]
      },
      {
       "output_type": "stream",
       "stream": "stdout",
       "text": [
        "---\n"
       ]
      },
      {
       "latex": [
        "tthetad.T := $$\\left[\\begin{matrix}\\dot{p}_{1} & \\dot{p}_{2} & \\dot{q}_{1}\\end{matrix}\\right]$$"
       ],
       "metadata": {},
       "output_type": "display_data",
       "png": "[encoded data removed]",
       "text": [
        "tthetad.T := [p\u0307\u2081  p\u0307\u2082  q\u0307\u2081]"
       ]
      },
      {
       "output_type": "stream",
       "stream": "stdout",
       "text": [
        "---\n"
       ]
      },
      {
       "latex": [
        "tthetadd.T := $$\\left[\\begin{matrix}\\ddot{p}_{1} & \\ddot{p}_{2} & \\ddot{q}_{1}\\end{matrix}\\right]$$"
       ],
       "metadata": {},
       "output_type": "display_data",
       "png": "[encoded data removed]",
       "text": [
        "tthetadd.T := [p\u0308\u2081  p\u0308\u2082  q\u0308\u2081]"
       ]
      },
      {
       "output_type": "stream",
       "stream": "stdout",
       "text": [
        "---\n"
       ]
      }
     ],
     "prompt_number": 3
    },
    {
     "cell_type": "code",
     "collapsed": false,
     "input": [
      "params = sp.symbols('m1, m2, m3, s2, s3, g')\n",
      "st.make_global(params)\n",
      "\n",
      "tau1 = sp.Symbol(\"tau1\")"
     ],
     "language": "python",
     "metadata": {},
     "outputs": [],
     "prompt_number": 4
    },
    {
     "cell_type": "markdown",
     "metadata": {},
     "source": [
      "### Festlegung der Geometrie des mechanischen Systemes"
     ]
    },
    {
     "cell_type": "code",
     "collapsed": false,
     "input": [
      "#Einheitsvektoren\n",
      "\n",
      "ex = sp.Matrix([1,0])\n",
      "ey = sp.Matrix([0,1])\n",
      "\n",
      "\n",
      "# Koordinaten der Schwerpunkte und Gelenke\n",
      "\n",
      "S1 = ex*q1 # Schwerpunkt Wagen\n",
      "G2 = S1 # Pendel-Gelenk\n",
      "G3 = S1 # Pendel-Gelenk\n",
      "\n",
      "# Schwerpunkt des Pendels (Pendel zeigt f\u00fcr kleine Winkel nach unten)\n",
      "S2 = G2 + mt.Rz(p1)*(-ey)*s2\n",
      "S3 = G3 + mt.Rz(p2)*(-ey)*s3\n",
      "\n",
      "# Zeitableitungen der Schwerpunktskoordinaten\n",
      "Sd1, Sd2, Sd3  = st.col_split(st.time_deriv(st.col_stack(S1, S2, S3), ttheta)) ##"
     ],
     "language": "python",
     "metadata": {},
     "outputs": [
      {
       "latex": [
        "$$\\left[\\begin{matrix}\\dot{q}_{1}\\\\0\\end{matrix}\\right]$$"
       ],
       "metadata": {},
       "output_type": "display_data",
       "png": "[encoded data removed]",
       "text": [
        "\u23a1q\u0307\u2081\u23a4\n",
        "\u23a2   \u23a5\n",
        "\u23a3 0 \u23a6"
       ]
      },
      {
       "latex": [
        "$$\\left[\\begin{matrix}\\dot{p}_{1} s_{2} \\cos{\\left (p_{1} \\right )} + \\dot{q}_{1}\\\\\\dot{p}_{1} s_{2} \\sin{\\left (p_{1} \\right )}\\end{matrix}\\right]$$"
       ],
       "metadata": {},
       "output_type": "display_data",
       "png": "[encoded data removed]",
       "text": [
        "\u23a1p\u0307\u2081\u22c5s\u2082\u22c5cos(p\u2081) + q\u0307\u2081\u23a4\n",
        "\u23a2                    \u23a5\n",
        "\u23a3   p\u0307\u2081\u22c5s\u2082\u22c5sin(p\u2081)   \u23a6"
       ]
      },
      {
       "latex": [
        "$$\\left[\\begin{matrix}\\dot{p}_{2} s_{3} \\cos{\\left (p_{2} \\right )} + \\dot{q}_{1}\\\\\\dot{p}_{2} s_{3} \\sin{\\left (p_{2} \\right )}\\end{matrix}\\right]$$"
       ],
       "metadata": {},
       "output_type": "display_data",
       "png": "[encoded data removed]",
       "text": [
        "\u23a1p\u0307\u2082\u22c5s\u2083\u22c5cos(p\u2082) + q\u0307\u2081\u23a4\n",
        "\u23a2                    \u23a5\n",
        "\u23a3   p\u0307\u2082\u22c5s\u2083\u22c5sin(p\u2082)   \u23a6"
       ]
      },
      {
       "output_type": "stream",
       "stream": "stdout",
       "text": [
        "---\n"
       ]
      }
     ],
     "prompt_number": 5
    },
    {
     "cell_type": "code",
     "collapsed": false,
     "input": [
      "# Energie\n",
      "T_rot = 0 # (Punktmassenmodell, keine Tr\u00e4gheitsmomente)\n",
      "T_trans = ( m1*Sd1.T*Sd1  +  m2*Sd2.T*Sd2 +  m3*Sd3.T*Sd3 )/2\n",
      "\n",
      "T = T_rot + T_trans[0]\n",
      "\n",
      "V = m2*g*S2[1] + m3*g*S3[1]"
     ],
     "language": "python",
     "metadata": {},
     "outputs": [],
     "prompt_number": 6
    },
    {
     "cell_type": "code",
     "collapsed": false,
     "input": [
      "mod = mt.generate_symbolic_model(T, V, ttheta, [0, 0, tau1])"
     ],
     "language": "python",
     "metadata": {},
     "outputs": [],
     "prompt_number": 7
    },
    {
     "cell_type": "code",
     "collapsed": false,
     "input": [
      "mod.MM.simplify()\n",
      "mod.MM"
     ],
     "language": "python",
     "metadata": {},
     "outputs": [
      {
       "latex": [
        "$$\\left[\\begin{matrix}m_{2} s_{2}^{2} & 0 & m_{2} s_{2} \\cos{\\left (p_{1} \\right )}\\\\0 & m_{3} s_{3}^{2} & m_{3} s_{3} \\cos{\\left (p_{2} \\right )}\\\\m_{2} s_{2} \\cos{\\left (p_{1} \\right )} & m_{3} s_{3} \\cos{\\left (p_{2} \\right )} & m_{1} + m_{2} + m_{3}\\end{matrix}\\right]$$"
       ],
       "metadata": {},
       "output_type": "pyout",
       "png": "[encoded data removed]",
       "prompt_number": 8,
       "text": [
        "\u23a1        2                                  \u23a4\n",
        "\u23a2   m\u2082\u22c5s\u2082             0        m\u2082\u22c5s\u2082\u22c5cos(p\u2081)\u23a5\n",
        "\u23a2                                           \u23a5\n",
        "\u23a2                       2                   \u23a5\n",
        "\u23a2      0           m\u2083\u22c5s\u2083       m\u2083\u22c5s\u2083\u22c5cos(p\u2082)\u23a5\n",
        "\u23a2                                           \u23a5\n",
        "\u23a3m\u2082\u22c5s\u2082\u22c5cos(p\u2081)  m\u2083\u22c5s\u2083\u22c5cos(p\u2082)  m\u2081 + m\u2082 + m\u2083 \u23a6"
       ]
      }
     ],
     "prompt_number": 8
    },
    {
     "cell_type": "markdown",
     "metadata": {},
     "source": [
      "### Bestimmung der partiell lineariserten Systemgleichungen"
     ]
    },
    {
     "cell_type": "code",
     "collapsed": false,
     "input": [
      "mod.calc_coll_part_lin_state_eq(simplify=True)"
     ],
     "language": "python",
     "metadata": {},
     "outputs": [],
     "prompt_number": 9
    },
    {
     "cell_type": "code",
     "collapsed": false,
     "input": [
      "xx = mod.x ##:T\n",
      "f = mod.ff ##:\n",
      "G = mod.gg \n",
      "g1, = st.col_split(G) ##:"
     ],
     "language": "python",
     "metadata": {},
     "outputs": [
      {
       "latex": [
        "xx.T := $$\\left[\\begin{matrix}p_{1} & p_{2} & q_{1} & \\dot{p}_{1} & \\dot{p}_{2} & \\dot{q}_{1}\\end{matrix}\\right]$$"
       ],
       "metadata": {},
       "output_type": "display_data",
       "png": "[encoded data removed]",
       "text": [
        "xx.T := [p\u2081  p\u2082  q\u2081  p\u0307\u2081  p\u0307\u2082  q\u0307\u2081]"
       ]
      },
      {
       "output_type": "stream",
       "stream": "stdout",
       "text": [
        "---\n"
       ]
      },
      {
       "latex": [
        "f := $$\\left[\\begin{matrix}\\dot{p}_{1}\\\\\\dot{p}_{2}\\\\\\dot{q}_{1}\\\\- \\frac{g}{s_{2}} \\sin{\\left (p_{1} \\right )}\\\\- \\frac{g}{s_{3}} \\sin{\\left (p_{2} \\right )}\\\\0\\end{matrix}\\right]$$"
       ],
       "metadata": {},
       "output_type": "display_data",
       "png": "[encoded data removed]",
       "text": [
        "f := \u23a1    p\u0307\u2081    \u23a4\n",
        "\u23a2           \u23a5\n",
        "\u23a2    p\u0307\u2082    \u23a5\n",
        "\u23a2           \u23a5\n",
        "\u23a2    q\u0307\u2081    \u23a5\n",
        "\u23a2           \u23a5\n",
        "\u23a2-g\u22c5sin(p\u2081) \u23a5\n",
        "\u23a2\u2500\u2500\u2500\u2500\u2500\u2500\u2500\u2500\u2500\u2500\u2500\u23a5\n",
        "\u23a2     s\u2082    \u23a5\n",
        "\u23a2           \u23a5\n",
        "\u23a2-g\u22c5sin(p\u2082) \u23a5\n",
        "\u23a2\u2500\u2500\u2500\u2500\u2500\u2500\u2500\u2500\u2500\u2500\u2500\u23a5\n",
        "\u23a2     s\u2083    \u23a5\n",
        "\u23a2           \u23a5\n",
        "\u23a3     0     \u23a6"
       ]
      },
      {
       "output_type": "stream",
       "stream": "stdout",
       "text": [
        "---\n"
       ]
      },
      {
       "latex": [
        "g1, := $$\\left[\\begin{matrix}0\\\\0\\\\0\\\\- \\frac{1}{s_{2}} \\cos{\\left (p_{1} \\right )}\\\\- \\frac{1}{s_{3}} \\cos{\\left (p_{2} \\right )}\\\\1\\end{matrix}\\right]$$"
       ],
       "metadata": {},
       "output_type": "display_data",
       "png": "[encoded data removed]",
       "text": [
        "g1, := \u23a1    0    \u23a4\n",
        "\u23a2         \u23a5\n",
        "\u23a2    0    \u23a5\n",
        "\u23a2         \u23a5\n",
        "\u23a2    0    \u23a5\n",
        "\u23a2         \u23a5\n",
        "\u23a2-cos(p\u2081) \u23a5\n",
        "\u23a2\u2500\u2500\u2500\u2500\u2500\u2500\u2500\u2500\u2500\u23a5\n",
        "\u23a2    s\u2082   \u23a5\n",
        "\u23a2         \u23a5\n",
        "\u23a2-cos(p\u2082) \u23a5\n",
        "\u23a2\u2500\u2500\u2500\u2500\u2500\u2500\u2500\u2500\u2500\u23a5\n",
        "\u23a2    s\u2083   \u23a5\n",
        "\u23a2         \u23a5\n",
        "\u23a3    1    \u23a6"
       ]
      },
      {
       "output_type": "stream",
       "stream": "stdout",
       "text": [
        "---\n"
       ]
      }
     ],
     "prompt_number": 10
    },
    {
     "cell_type": "markdown",
     "metadata": {},
     "source": [
      "### Ruhelage:"
     ]
    },
    {
     "cell_type": "code",
     "collapsed": false,
     "input": [
      "eqp1 = sp.Matrix([0, 0, 0, 0, 0, 0]) ##:T\n",
      "eqp2 = sp.Matrix([sp.pi, sp.pi, 0, 0, 0, 0]) ##:T\n",
      "\n",
      "# Probe:\n",
      "f.subz(xx, eqp1) ##:T\n",
      "f.subz(xx, eqp2) ##:T"
     ],
     "language": "python",
     "metadata": {},
     "outputs": [
      {
       "latex": [
        "eqp1.T := $$\\left[\\begin{matrix}0 & 0 & 0 & 0 & 0 & 0\\end{matrix}\\right]$$"
       ],
       "metadata": {},
       "output_type": "display_data",
       "png": "[encoded data removed]",
       "text": [
        "eqp1.T := [0  0  0  0  0  0]"
       ]
      },
      {
       "output_type": "stream",
       "stream": "stdout",
       "text": [
        "---\n"
       ]
      },
      {
       "latex": [
        "eqp2.T := $$\\left[\\begin{matrix}\\pi & \\pi & 0 & 0 & 0 & 0\\end{matrix}\\right]$$"
       ],
       "metadata": {},
       "output_type": "display_data",
       "png": "[encoded data removed]",
       "text": [
        "eqp2.T := [\u03c0  \u03c0  0  0  0  0]"
       ]
      },
      {
       "output_type": "stream",
       "stream": "stdout",
       "text": [
        "---\n"
       ]
      },
      {
       "latex": [
        "(f.subz(xx, eqp1) ).T := $$\\left[\\begin{matrix}0 & 0 & 0 & 0 & 0 & 0\\end{matrix}\\right]$$"
       ],
       "metadata": {},
       "output_type": "display_data",
       "png": "[encoded data removed]",
       "text": [
        "(f.subz(xx, eqp1) ).T := [0  0  0  0  0  0]"
       ]
      },
      {
       "output_type": "stream",
       "stream": "stdout",
       "text": [
        "___\n"
       ]
      },
      {
       "latex": [
        "(f.subz(xx, eqp2) ).T := $$\\left[\\begin{matrix}0 & 0 & 0 & 0 & 0 & 0\\end{matrix}\\right]$$"
       ],
       "metadata": {},
       "output_type": "display_data",
       "png": "[encoded data removed]",
       "text": [
        "(f.subz(xx, eqp2) ).T := [0  0  0  0  0  0]"
       ]
      },
      {
       "output_type": "stream",
       "stream": "stdout",
       "text": [
        "___\n"
       ]
      }
     ],
     "prompt_number": 11
    },
    {
     "cell_type": "code",
     "collapsed": false,
     "input": [
      "# Parameterwerte\n",
      "parameter_values = [(g, 9.81), (s2, .6), (s3, .2), (m1, 2), (m2, .5), (m3, .3)]\n",
      "replm =  parameter_values + zip(xx, eqp1) ##"
     ],
     "language": "python",
     "metadata": {},
     "outputs": [
      {
       "latex": [
        "$$\\left [ \\left ( g, \\quad 9.81\\right ), \\quad \\left ( s_{2}, \\quad 0.6\\right ), \\quad \\left ( s_{3}, \\quad 0.2\\right ), \\quad \\left ( m_{1}, \\quad 2\\right ), \\quad \\left ( m_{2}, \\quad 0.5\\right ), \\quad \\left ( m_{3}, \\quad 0.3\\right ), \\quad \\left ( p_{1}, \\quad 0\\right ), \\quad \\left ( p_{2}, \\quad 0\\right ), \\quad \\left ( q_{1}, \\quad 0\\right ), \\quad \\left ( \\dot{p}_{1}, \\quad 0\\right ), \\quad \\left ( \\dot{p}_{2}, \\quad 0\\right ), \\quad \\left ( \\dot{q}_{1}, \\quad 0\\right )\\right ]$$"
       ],
       "metadata": {},
       "output_type": "display_data",
       "png": "[encoded data removed]",
       "text": [
        "[(g, 9.81), (s\u2082, 0.6), (s\u2083, 0.2), (m\u2081, 2), (m\u2082, 0.5), (m\u2083, 0.3), (p\u2081, 0), (p\u2082,\n",
        " 0), (q\u2081, 0), (p\u0307\u2081, 0), (p\u0307\u2082, 0), (q\u0307\u2081, 0)]"
       ]
      },
      {
       "output_type": "stream",
       "stream": "stdout",
       "text": [
        "---\n"
       ]
      }
     ],
     "prompt_number": 12
    },
    {
     "cell_type": "code",
     "collapsed": false,
     "input": [
      "A1 = f.jacobian(xx) ##:\n",
      "\n",
      "\n",
      "#latex(A1.subz(xx, eqp1))\n",
      "\n",
      "#latex(G.subz(xx, eqp1))\n"
     ],
     "language": "python",
     "metadata": {},
     "outputs": [
      {
       "latex": [
        "A1 := $$\\left[\\begin{matrix}0 & 0 & 0 & 1 & 0 & 0\\\\0 & 0 & 0 & 0 & 1 & 0\\\\0 & 0 & 0 & 0 & 0 & 1\\\\- \\frac{g}{s_{2}} \\cos{\\left (p_{1} \\right )} & 0 & 0 & 0 & 0 & 0\\\\0 & - \\frac{g}{s_{3}} \\cos{\\left (p_{2} \\right )} & 0 & 0 & 0 & 0\\\\0 & 0 & 0 & 0 & 0 & 0\\end{matrix}\\right]$$"
       ],
       "metadata": {},
       "output_type": "display_data",
       "png": "[encoded data removed]",
       "text": [
        "A1 := \u23a1     0            0       0  1  0  0\u23a4\n",
        "\u23a2                                    \u23a5\n",
        "\u23a2     0            0       0  0  1  0\u23a5\n",
        "\u23a2                                    \u23a5\n",
        "\u23a2     0            0       0  0  0  1\u23a5\n",
        "\u23a2                                    \u23a5\n",
        "\u23a2-g\u22c5cos(p\u2081)                          \u23a5\n",
        "\u23a2\u2500\u2500\u2500\u2500\u2500\u2500\u2500\u2500\u2500\u2500\u2500       0       0  0  0  0\u23a5\n",
        "\u23a2     s\u2082                             \u23a5\n",
        "\u23a2                                    \u23a5\n",
        "\u23a2             -g\u22c5cos(p\u2082)             \u23a5\n",
        "\u23a2     0       \u2500\u2500\u2500\u2500\u2500\u2500\u2500\u2500\u2500\u2500\u2500  0  0  0  0\u23a5\n",
        "\u23a2                  s\u2083                \u23a5\n",
        "\u23a2                                    \u23a5\n",
        "\u23a3     0            0       0  0  0  0\u23a6"
       ]
      },
      {
       "output_type": "stream",
       "stream": "stdout",
       "text": [
        "---\n"
       ]
      }
     ],
     "prompt_number": 13
    },
    {
     "cell_type": "code",
     "collapsed": false,
     "input": [
      "A1 = f.jacobian(xx).subs(replm) ##\n",
      "b1 = G.subs(replm) ##"
     ],
     "language": "python",
     "metadata": {},
     "outputs": [
      {
       "latex": [
        "$$\\left[\\begin{matrix}0 & 0 & 0 & 1 & 0 & 0\\\\0 & 0 & 0 & 0 & 1 & 0\\\\0 & 0 & 0 & 0 & 0 & 1\\\\-16.35 & 0 & 0 & 0 & 0 & 0\\\\0 & -49.05 & 0 & 0 & 0 & 0\\\\0 & 0 & 0 & 0 & 0 & 0\\end{matrix}\\right]$$"
       ],
       "metadata": {},
       "output_type": "display_data",
       "png": "[encoded data removed]",
       "text": [
        "\u23a1  0       0     0  1  0  0\u23a4\n",
        "\u23a2                          \u23a5\n",
        "\u23a2  0       0     0  0  1  0\u23a5\n",
        "\u23a2                          \u23a5\n",
        "\u23a2  0       0     0  0  0  1\u23a5\n",
        "\u23a2                          \u23a5\n",
        "\u23a2-16.35    0     0  0  0  0\u23a5\n",
        "\u23a2                          \u23a5\n",
        "\u23a2  0     -49.05  0  0  0  0\u23a5\n",
        "\u23a2                          \u23a5\n",
        "\u23a3  0       0     0  0  0  0\u23a6"
       ]
      },
      {
       "output_type": "stream",
       "stream": "stdout",
       "text": [
        "---\n"
       ]
      },
      {
       "latex": [
        "$$\\left[\\begin{matrix}0\\\\0\\\\0\\\\-1.66666666666667\\\\-5.0\\\\1\\end{matrix}\\right]$$"
       ],
       "metadata": {},
       "output_type": "display_data",
       "png": "[encoded data removed]",
       "text": [
        "\u23a1        0        \u23a4\n",
        "\u23a2                 \u23a5\n",
        "\u23a2        0        \u23a5\n",
        "\u23a2                 \u23a5\n",
        "\u23a2        0        \u23a5\n",
        "\u23a2                 \u23a5\n",
        "\u23a2-1.66666666666667\u23a5\n",
        "\u23a2                 \u23a5\n",
        "\u23a2      -5.0       \u23a5\n",
        "\u23a2                 \u23a5\n",
        "\u23a3        1        \u23a6"
       ]
      },
      {
       "output_type": "stream",
       "stream": "stdout",
       "text": [
        "---\n"
       ]
      }
     ],
     "prompt_number": 14
    },
    {
     "cell_type": "markdown",
     "metadata": {},
     "source": [
      "Lineare R\u00fcckf\u00fchrung zur Platzierung der Eigenwerte"
     ]
    },
    {
     "cell_type": "code",
     "collapsed": false,
     "input": [
      "A1"
     ],
     "language": "python",
     "metadata": {},
     "outputs": [
      {
       "latex": [
        "$$\\left[\\begin{matrix}0 & 0 & 0 & 1 & 0 & 0\\\\0 & 0 & 0 & 0 & 1 & 0\\\\0 & 0 & 0 & 0 & 0 & 1\\\\-16.35 & 0 & 0 & 0 & 0 & 0\\\\0 & -49.05 & 0 & 0 & 0 & 0\\\\0 & 0 & 0 & 0 & 0 & 0\\end{matrix}\\right]$$"
       ],
       "metadata": {},
       "output_type": "pyout",
       "png": "[encoded data removed]",
       "prompt_number": 15,
       "text": [
        "\u23a1  0       0     0  1  0  0\u23a4\n",
        "\u23a2                          \u23a5\n",
        "\u23a2  0       0     0  0  1  0\u23a5\n",
        "\u23a2                          \u23a5\n",
        "\u23a2  0       0     0  0  0  1\u23a5\n",
        "\u23a2                          \u23a5\n",
        "\u23a2-16.35    0     0  0  0  0\u23a5\n",
        "\u23a2                          \u23a5\n",
        "\u23a2  0     -49.05  0  0  0  0\u23a5\n",
        "\u23a2                          \u23a5\n",
        "\u23a3  0       0     0  0  0  0\u23a6"
       ]
      }
     ],
     "prompt_number": 15
    },
    {
     "cell_type": "code",
     "collapsed": false,
     "input": [
      "k1 = st.siso_place(A1, b1, np.r_[-4, -5, -6, -7, -8, -9]*0.1) ##:T"
     ],
     "language": "python",
     "metadata": {},
     "outputs": [
      {
       "latex": [
        "k1.T := $$\\left[\\begin{matrix}3.07502203518222 & -12.8550224279662 & -7.54145273966838 \\cdot 10^{-5} & -1.07407026344584 & 1.13787325047461 & -0.000750853369993173\\end{matrix}\\right]$$"
       ],
       "metadata": {},
       "output_type": "display_data",
       "png": "[encoded data removed]",
       "text": [
        "k1.T := [3.07502203518222  -12.8550224279662  -7.54145273966838e-5  -1.07407026344584 \n",
        " 1.13787325047461  -0.000750853369993173]"
       ]
      },
      {
       "output_type": "stream",
       "stream": "stdout",
       "text": [
        "---\n"
       ]
      }
     ],
     "prompt_number": 16
    },
    {
     "cell_type": "code",
     "collapsed": false,
     "input": [
      "A = A1 + b1*k1.T"
     ],
     "language": "python",
     "metadata": {},
     "outputs": [],
     "prompt_number": 17
    },
    {
     "cell_type": "code",
     "collapsed": false,
     "input": [
      "A.eigenvals(rational=False)"
     ],
     "language": "python",
     "metadata": {},
     "outputs": [
      {
       "latex": [
        "$$\\left \\{ -0.900000000030392 : 1, \\quad -0.799999999873668 : 1, \\quad -0.700000000203373 : 1, \\quad -0.599999999842888 : 1, \\quad -0.500000000057477 : 1, \\quad -0.399999999992201 : 1\\right \\}$$"
       ],
       "metadata": {},
       "output_type": "pyout",
       "png": "[encoded data removed]",
       "prompt_number": 18,
       "text": [
        "{-0.900000000030392: 1, -0.799999999873668: 1, -0.700000000203373: 1, -0.59999\n",
        "9999842888: 1, -0.500000000057477: 1, -0.399999999992201: 1}"
       ]
      }
     ],
     "prompt_number": 18
    },
    {
     "cell_type": "code",
     "collapsed": false,
     "input": [
      "controller1_expr1 = k1.T*mod.xx\n",
      "controller1_func1_intern = st.expr_to_func(mod.xx, k1.T*mod.xx)\n",
      "\n",
      "def controller1_func(xx, t):\n",
      "    # Zeit t ignorieren\n",
      "    return controller1_func1_intern(*xx)"
     ],
     "language": "python",
     "metadata": {},
     "outputs": [],
     "prompt_number": 19
    },
    {
     "cell_type": "code",
     "collapsed": false,
     "input": [],
     "language": "python",
     "metadata": {},
     "outputs": [],
     "prompt_number": 19
    },
    {
     "cell_type": "code",
     "collapsed": false,
     "input": [
      "sm = st.SimulationModel(mod.ff, mod.gg, mod.xx, model_parameters=parameter_values)\n",
      "rhs1 = sm.create_simfunction(controller_function=None)#controller1_func)"
     ],
     "language": "python",
     "metadata": {},
     "outputs": [],
     "prompt_number": 20
    },
    {
     "cell_type": "code",
     "collapsed": false,
     "input": [
      "xx0 = st.to_np(eqp2).ravel()*1.01 ##\n",
      "tt = np.arange(0, 30, 1e-3)\n"
     ],
     "language": "python",
     "metadata": {},
     "outputs": [
      {
       "metadata": {},
       "output_type": "display_data",
       "text": [
        "array([ 3.17300858,  3.17300858,  0.        ,  0.        ,  0.        ,  0.        ])"
       ]
      },
      {
       "output_type": "stream",
       "stream": "stdout",
       "text": [
        "---\n"
       ]
      }
     ],
     "prompt_number": 21
    },
    {
     "cell_type": "code",
     "collapsed": false,
     "input": [
      "res = odeint(rhs1, xx0, tt)\n",
      "x1, x2, x3, x4, x5, x6 = res.T"
     ],
     "language": "python",
     "metadata": {},
     "outputs": [],
     "prompt_number": 22
    },
    {
     "cell_type": "code",
     "collapsed": false,
     "input": [
      "pl.plot(tt, x2)"
     ],
     "language": "python",
     "metadata": {},
     "outputs": [
      {
       "metadata": {},
       "output_type": "pyout",
       "prompt_number": 23,
       "text": [
        "[<matplotlib.lines.Line2D at 0xb90744c>]"
       ]
      },
      {
       "metadata": {},
       "output_type": "display_data",
       "png": "[encoded data removed]",
       "text": [
        "<matplotlib.figure.Figure at 0xb79af0c>"
       ]
      }
     ],
     "prompt_number": 23
    },
    {
     "cell_type": "code",
     "collapsed": false,
     "input": [
      "Eges = T+V"
     ],
     "language": "python",
     "metadata": {},
     "outputs": [],
     "prompt_number": 24
    },
    {
     "cell_type": "code",
     "collapsed": false,
     "input": [
      "st.lie_deriv(Eges, mod.ff, mod.xx).simplify()"
     ],
     "language": "python",
     "metadata": {},
     "outputs": [
      {
       "latex": [
        "$$- \\frac{\\dot{q}_{1}}{2} \\left(g m_{2} \\sin{\\left (2 p_{1} \\right )} + g m_{3} \\sin{\\left (2 p_{2} \\right )} + 2 m_{2} \\dot{p}_{1}^{2} s_{2} \\sin{\\left (p_{1} \\right )} + 2 m_{3} \\dot{p}_{2}^{2} s_{3} \\sin{\\left (p_{2} \\right )}\\right)$$"
       ],
       "metadata": {},
       "output_type": "pyout",
       "png": "[encoded data removed]",
       "prompt_number": 66,
       "text": [
        "     \u239b                                          2                      2      \n",
        "-q\u0307\u2081\u22c5\u239dg\u22c5m\u2082\u22c5sin(2\u22c5p\u2081) + g\u22c5m\u2083\u22c5sin(2\u22c5p\u2082) + 2\u22c5m\u2082\u22c5p\u0307\u2081 \u22c5s\u2082\u22c5sin(p\u2081) + 2\u22c5m\u2083\u22c5p\u0307\u2082 \u22c5s\u2083\u22c5si\n",
        "\u2500\u2500\u2500\u2500\u2500\u2500\u2500\u2500\u2500\u2500\u2500\u2500\u2500\u2500\u2500\u2500\u2500\u2500\u2500\u2500\u2500\u2500\u2500\u2500\u2500\u2500\u2500\u2500\u2500\u2500\u2500\u2500\u2500\u2500\u2500\u2500\u2500\u2500\u2500\u2500\u2500\u2500\u2500\u2500\u2500\u2500\u2500\u2500\u2500\u2500\u2500\u2500\u2500\u2500\u2500\u2500\u2500\u2500\u2500\u2500\u2500\u2500\u2500\u2500\u2500\u2500\u2500\u2500\u2500\u2500\u2500\u2500\u2500\u2500\u2500\u2500\u2500\u2500\n",
        "                                          2                                   \n",
        "\n",
        "     \u239e \n",
        "n(p\u2082)\u23a0 \n",
        "\u2500\u2500\u2500\u2500\u2500\u2500\u2500\n",
        "       "
       ]
      }
     ],
     "prompt_number": 66
    },
    {
     "cell_type": "code",
     "collapsed": false,
     "input": [
      "Lgnum = st.lie_deriv(Eges, mod.gg, mod.xx).simplify().subs(parameter_values) ##:\n",
      "\n",
      "\n"
     ],
     "language": "python",
     "metadata": {},
     "outputs": [
      {
       "latex": [
        "Lgnum := $$\\dot{q}_{1} \\left(0.5 \\sin^{2}{\\left (p_{1} \\right )} + 0.3 \\sin^{2}{\\left (p_{2} \\right )} + 2\\right)$$"
       ],
       "metadata": {},
       "output_type": "display_data",
       "png": "[encoded data removed]",
       "text": [
        "Lgnum :=     \u239b       2              2        \u239e\n",
        "q\u0307\u2081\u22c5\u239d0.5\u22c5sin (p\u2081) + 0.3\u22c5sin (p\u2082) + 2\u23a0"
       ]
      },
      {
       "output_type": "stream",
       "stream": "stdout",
       "text": [
        "---\n"
       ]
      }
     ],
     "prompt_number": 130
    },
    {
     "cell_type": "code",
     "collapsed": false,
     "input": [
      "k1 = .25\n",
      "k2 = .75\n",
      "\n",
      "amax = 10\n",
      "\n",
      "\n",
      "#sp.Piecewise((amax*sp.tanh(100*q1), sin(p1)**2 < k1 and p1 < 2), (3, True))\n",
      "def controller_heu(xx, t):\n",
      "    p1, p2, q1, pdot1, pdot2, qdot2 = xx\n",
      "    \n",
      "    if np.sin(p1)**2 < k1 and np.sin(p2)**2 < k1:\n",
      "        # beschleunigen\n",
      "        res = amax*np.tanh(10000*q1)\n",
      "    elif np.sin(p1)**2 > k2 and np.sin(p2)**2 > k2:\n",
      "        # bremsen\n",
      "        res = -amax*np.tanh(10*q1)\n",
      "    else:\n",
      "        res = 0\n",
      "    \n",
      "    return res\n",
      "        "
     ],
     "language": "python",
     "metadata": {},
     "outputs": [],
     "prompt_number": 62
    },
    {
     "cell_type": "code",
     "collapsed": false,
     "input": [],
     "language": "python",
     "metadata": {},
     "outputs": []
    },
    {
     "cell_type": "code",
     "collapsed": false,
     "input": [],
     "language": "python",
     "metadata": {},
     "outputs": []
    },
    {
     "cell_type": "code",
     "collapsed": false,
     "input": [
      "\n",
      "\n",
      "\n",
      "controller2 = 5*sp.tanh(100*q1)*(1- sin(p1)**2 - sin(p2)**2)\n",
      "\n",
      "controller2_func_intern = st.expr_to_func(mod.xx, controller2)\n",
      "\n",
      "def controller2_func(xx, t):\n",
      "    r = controller2_func_intern(*xx)\n",
      "    # print r\n",
      "    return r"
     ],
     "language": "python",
     "metadata": {},
     "outputs": [],
     "prompt_number": 46
    },
    {
     "cell_type": "code",
     "collapsed": false,
     "input": [
      "rhs2 = sm.create_simfunction(controller_function=controller_heu)"
     ],
     "language": "python",
     "metadata": {},
     "outputs": [],
     "prompt_number": 57
    },
    {
     "cell_type": "code",
     "collapsed": false,
     "input": [
      "xx0 = st.to_np(eqp2).ravel()*1.01\n",
      "xx0[-1] = .1\n",
      "\n",
      "xx0\n",
      "\n",
      "res = odeint(rhs2, xx0, tt*.9)\n",
      "x1, x2, x3, x4, x5, x6 = res.T"
     ],
     "language": "python",
     "metadata": {},
     "outputs": [],
     "prompt_number": 60
    },
    {
     "cell_type": "code",
     "collapsed": false,
     "input": [
      "pl.figure(figsize=(12,4))\n",
      "pl.subplot(1, 2, 1)\n",
      "pl.plot(tt, x1)\n",
      "pl.plot(tt, x2)\n",
      "pl.subplot(1, 2, 2)\n",
      "pl.plot(tt, x6)"
     ],
     "language": "python",
     "metadata": {},
     "outputs": [
      {
       "metadata": {},
       "output_type": "pyout",
       "prompt_number": 61,
       "text": [
        "[<matplotlib.lines.Line2D at 0xc8add2c>]"
       ]
      },
      {
       "metadata": {},
       "output_type": "display_data",
       "png": "[encoded data removed]",
       "text": [
        "<matplotlib.figure.Figure at 0xcc4484c>"
       ]
      }
     ],
     "prompt_number": 61
    },
    {
     "cell_type": "code",
     "collapsed": false,
     "input": [
      "controller2 = -1*Lgnum\n",
      "\n",
      "controller2_func_intern = st.expr_to_func(mod.xx, controller2)\n",
      "\n",
      "def controller2_func(xx, t):\n",
      "    r = controller2_func_intern(*xx)\n",
      "    # print r\n",
      "    return r"
     ],
     "language": "python",
     "metadata": {},
     "outputs": [],
     "prompt_number": 137
    },
    {
     "cell_type": "code",
     "collapsed": false,
     "input": [
      "rhs2 = sm.create_simfunction(controller_function=controller2_func)"
     ],
     "language": "python",
     "metadata": {},
     "outputs": [],
     "prompt_number": 138
    },
    {
     "cell_type": "code",
     "collapsed": false,
     "input": [
      "xx0 = st.to_np(eqp2).ravel()*1.01\n",
      "xx0[-1] = .1\n",
      "\n",
      "xx0"
     ],
     "language": "python",
     "metadata": {},
     "outputs": [
      {
       "metadata": {},
       "output_type": "pyout",
       "prompt_number": 139,
       "text": [
        "array([ 3.17300858,  3.17300858,  0.        ,  0.        ,  0.        ,  0.1       ])"
       ]
      }
     ],
     "prompt_number": 139
    },
    {
     "cell_type": "code",
     "collapsed": false,
     "input": [
      "res = odeint(rhs2, xx0, tt)\n",
      "x1, x2, x3, x4, x5, x6 = res.T"
     ],
     "language": "python",
     "metadata": {},
     "outputs": [],
     "prompt_number": 140
    },
    {
     "cell_type": "code",
     "collapsed": false,
     "input": [
      "pl.plot(tt, x3)"
     ],
     "language": "python",
     "metadata": {},
     "outputs": [
      {
       "metadata": {},
       "output_type": "pyout",
       "prompt_number": 143,
       "text": [
        "[<matplotlib.lines.Line2D at 0xe095f0c>]"
       ]
      },
      {
       "metadata": {},
       "output_type": "display_data",
       "png": "[encoded data removed]",
       "text": [
        "<matplotlib.figure.Figure at 0xe096a2c>"
       ]
      }
     ],
     "prompt_number": 143
    },
    {
     "cell_type": "code",
     "collapsed": false,
     "input": [],
     "language": "python",
     "metadata": {},
     "outputs": []
    },
    {
     "cell_type": "code",
     "collapsed": false,
     "input": [
      "Lg_func = st.expr_to_func(mod.xx, Lgnum)"
     ],
     "language": "python",
     "metadata": {},
     "outputs": [],
     "prompt_number": 108
    },
    {
     "cell_type": "code",
     "collapsed": false,
     "input": [
      "Lg_func(0, 0, 0, 0, 0, 1)"
     ],
     "language": "python",
     "metadata": {},
     "outputs": [
      {
       "metadata": {},
       "output_type": "pyout",
       "prompt_number": 115,
       "text": [
        "array(2.0)"
       ]
      }
     ],
     "prompt_number": 115
    },
    {
     "cell_type": "code",
     "collapsed": false,
     "input": [
      "Lg_func(x1, x2, x3, x4, x5, x6).shape"
     ],
     "language": "python",
     "metadata": {},
     "outputs": [
      {
       "latex": [
        "$$\\left ( 30000\\right )$$"
       ],
       "metadata": {},
       "output_type": "pyout",
       "png": "[encoded data removed]",
       "prompt_number": 117,
       "text": [
        "(30000,)"
       ]
      }
     ],
     "prompt_number": 117
    },
    {
     "cell_type": "code",
     "collapsed": false,
     "input": [
      "pl.plot(x6)"
     ],
     "language": "python",
     "metadata": {},
     "outputs": [
      {
       "metadata": {},
       "output_type": "pyout",
       "prompt_number": 118,
       "text": [
        "[<matplotlib.lines.Line2D at 0xd07772c>]"
       ]
      },
      {
       "metadata": {},
       "output_type": "display_data",
       "png": "[encoded data removed]",
       "text": [
        "<matplotlib.figure.Figure at 0xca9522c>"
       ]
      }
     ],
     "prompt_number": 118
    },
    {
     "cell_type": "code",
     "collapsed": false,
     "input": [],
     "language": "python",
     "metadata": {},
     "outputs": [
      {
       "latex": [
        "$$\\left[\\begin{matrix}p_{1}\\\\p_{2}\\\\q_{1}\\\\\\dot{p}_{1}\\\\\\dot{p}_{2}\\\\\\dot{q}_{1}\\end{matrix}\\right]$$"
       ],
       "metadata": {},
       "output_type": "pyout",
       "png": "[encoded data removed]",
       "prompt_number": 113,
       "text": [
        "\u23a1p\u2081 \u23a4\n",
        "\u23a2   \u23a5\n",
        "\u23a2p\u2082 \u23a5\n",
        "\u23a2   \u23a5\n",
        "\u23a2q\u2081 \u23a5\n",
        "\u23a2   \u23a5\n",
        "\u23a2p\u0307\u2081\u23a5\n",
        "\u23a2   \u23a5\n",
        "\u23a2p\u0307\u2082\u23a5\n",
        "\u23a2   \u23a5\n",
        "\u23a3q\u0307\u2081\u23a6"
       ]
      }
     ],
     "prompt_number": 113
    },
    {
     "cell_type": "code",
     "collapsed": false,
     "input": [],
     "language": "python",
     "metadata": {},
     "outputs": []
    },
    {
     "cell_type": "code",
     "collapsed": false,
     "input": [
      "Lgnum.subs(parameter_values)"
     ],
     "language": "python",
     "metadata": {},
     "outputs": [
      {
       "latex": [
        "$$\\dot{q}_{1} \\left(0.5 \\sin^{2}{\\left (p_{1} \\right )} + 0.3 \\sin^{2}{\\left (p_{2} \\right )} + 2\\right)$$"
       ],
       "metadata": {},
       "output_type": "pyout",
       "png": "[encoded data removed]",
       "prompt_number": 106,
       "text": [
        "    \u239b       2              2        \u239e\n",
        "q\u0307\u2081\u22c5\u239d0.5\u22c5sin (p\u2081) + 0.3\u22c5sin (p\u2082) + 2\u23a0"
       ]
      }
     ],
     "prompt_number": 106
    },
    {
     "cell_type": "code",
     "collapsed": false,
     "input": [
      "parameter_values"
     ],
     "language": "python",
     "metadata": {},
     "outputs": [
      {
       "latex": [
        "$$\\left [ \\left ( g, \\quad 9.81\\right ), \\quad \\left ( s_{2}, \\quad 0.6\\right ), \\quad \\left ( s_{3}, \\quad 0.2\\right )\\right ]$$"
       ],
       "metadata": {},
       "output_type": "pyout",
       "png": "[encoded data removed]",
       "prompt_number": 97,
       "text": [
        "[(g, 9.81), (s\u2082, 0.6), (s\u2083, 0.2)]"
       ]
      }
     ],
     "prompt_number": 97
    },
    {
     "cell_type": "markdown",
     "metadata": {},
     "source": [
      "Objekt f\u00fcr Simulationsmodel anlegen und Funktion f\u00fcr die rechte Seite des DGL-Systems erstellen (`rhs`-Funktion)"
     ]
    },
    {
     "cell_type": "code",
     "collapsed": false,
     "input": [
      "sim_model = st.SimulationModel(f, G, xx, model_parameters=parameter_values)\n",
      "rhs = sim_model.create_simfunction(controller_function=controller)"
     ],
     "language": "python",
     "metadata": {},
     "outputs": [],
     "prompt_number": 151
    },
    {
     "cell_type": "code",
     "collapsed": false,
     "input": [
      "C = st.Container(model=sim_model, tau=tau, xx=xx, eqp=eqp)\n",
      "\n",
      "\n",
      "st.pickle_full_dump(C, 'data/wagen_pendel_gz.pcl')"
     ],
     "language": "python",
     "metadata": {},
     "outputs": [],
     "prompt_number": 180
    },
    {
     "cell_type": "code",
     "collapsed": false,
     "input": [
      "# Anfangswert = Ruhelage + kleiner Anfangsfehler\n",
      "x0 = st.to_np(xx.subs(replm)).ravel() + np.r_[.1, 0, 0, 0]"
     ],
     "language": "python",
     "metadata": {},
     "outputs": [],
     "prompt_number": 155
    },
    {
     "cell_type": "code",
     "collapsed": false,
     "input": [
      "tt = np.linspace(0, 10, 1e3)"
     ],
     "language": "python",
     "metadata": {},
     "outputs": [],
     "prompt_number": 156
    },
    {
     "cell_type": "code",
     "collapsed": false,
     "input": [
      "res = odeint(rhs, x0, tt)\n",
      "x1, x2, x3, x4 = res.T"
     ],
     "language": "python",
     "metadata": {},
     "outputs": [
      {
       "metadata": {},
       "output_type": "pyout",
       "prompt_number": 167,
       "text": [
        "<module 'pickle' from '/usr/lib/python2.7/pickle.pyc'>"
       ]
      }
     ],
     "prompt_number": 167
    },
    {
     "cell_type": "code",
     "collapsed": false,
     "input": [
      "np.save('data/wagen_pendel_grenzzyklus.npy', np.c_[tt, res])"
     ],
     "language": "python",
     "metadata": {},
     "outputs": [],
     "prompt_number": 170
    },
    {
     "cell_type": "code",
     "collapsed": false,
     "input": [
      "pl.plot(tt, x1/np.pi*180)\n",
      "pl.figure()\n",
      "pl.plot(tt, x2)"
     ],
     "language": "python",
     "metadata": {},
     "outputs": [
      {
       "metadata": {},
       "output_type": "pyout",
       "prompt_number": 182,
       "text": [
        "[<matplotlib.lines.Line2D at 0xccce4cc>]"
       ]
      },
      {
       "metadata": {},
       "output_type": "display_data",
       "png": "[encoded data removed]",
       "text": [
        "<matplotlib.figure.Figure at 0xcaf20ac>"
       ]
      },
      {
       "metadata": {},
       "output_type": "display_data",
       "png": "[encoded data removed]",
       "text": [
        "<matplotlib.figure.Figure at 0xcc27d2c>"
       ]
      }
     ],
     "prompt_number": 182
    },
    {
     "cell_type": "code",
     "collapsed": false,
     "input": [
      "pl.plot(x1, x3)"
     ],
     "language": "python",
     "metadata": {},
     "outputs": [
      {
       "metadata": {},
       "output_type": "pyout",
       "prompt_number": 161,
       "text": [
        "[<matplotlib.lines.Line2D at 0xc6f4dac>]"
       ]
      },
      {
       "metadata": {},
       "output_type": "display_data",
       "png": "[encoded data removed]",
       "text": [
        "<matplotlib.figure.Figure at 0xc54610c>"
       ]
      }
     ],
     "prompt_number": 161
    },
    {
     "cell_type": "code",
     "collapsed": false,
     "input": [
      "pl.plot(x2, x4)"
     ],
     "language": "python",
     "metadata": {},
     "outputs": [
      {
       "metadata": {},
       "output_type": "pyout",
       "prompt_number": 160,
       "text": [
        "[<matplotlib.lines.Line2D at 0xc55fb4c>]"
       ]
      },
      {
       "metadata": {},
       "output_type": "display_data",
       "png": "[encoded data removed]",
       "text": [
        "<matplotlib.figure.Figure at 0xc3b1a8c>"
       ]
      }
     ],
     "prompt_number": 160
    }
   ],
   "metadata": {}
  }
 ]
}