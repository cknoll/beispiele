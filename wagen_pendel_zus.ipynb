{
 "metadata": {
  "name": "",
  "signature": "sha256:5d0df8791a4f89f2a919c803673fb197476bb448e6ef482e0c03ee8f728aa7bd"
 },
 "nbformat": 3,
 "nbformat_minor": 0,
 "worksheets": [
  {
   "cells": [
    {
     "cell_type": "code",
     "collapsed": false,
     "input": [
      "import time\n",
      "print time.ctime()\n"
     ],
     "language": "python",
     "metadata": {},
     "outputs": [
      {
       "output_type": "stream",
       "stream": "stdout",
       "text": [
        "Mon Jun  6 13:50:58 2016\n"
       ]
      }
     ],
     "prompt_number": 1
    },
    {
     "cell_type": "markdown",
     "metadata": {},
     "source": [
      "<sub>Bei diesem IPython-Notebook handelt es sich um eine Beispiel-Rechnung als Erg\u00e4nzung zur Dissertationsschrift von C. Knoll. Allgemeine Hinweise zu den Beispielen sind in der [readme.md-Datei des entsprechenden Repositoriums](https://github.com/cknoll/beispiele/blob/master/readme.md) zu finden.</sub>\n",
      "\n",
      "---"
     ]
    },
    {
     "cell_type": "markdown",
     "metadata": {},
     "source": [
      "**Betrachtetes System**: Pendel mit horizontal verschieblicher Aufh\u00e4ngung (\"Wagen-Pendel-System\")\n",
      "\n",
      "\ufffc <img src=\"files/images/pendel_wagen.png\">\n",
      "\n",
      "**Inhalt**:\n",
      "* Herleitung der Modellgleichungen in partiell linearisierter Form\n",
      " \n",
      "* Bestimmung eines linearen Reglers, welcher die untere Ruhelage stabilisiert\n",
      "\n",
      "* Bestimmung einer Trajektorie, von der unteren in die obere Ruhelage\n",
      "\n",
      "\n",
      "\n",
      "[//]: # (custom_config_start)\n",
      "$$\n",
      "\\newcommand{\\d}{\\mathrm{d}}\n",
      "\\newcommand{\\col}{\\mathrm{col}}\n",
      "\\newcommand{\\bs}{\\boldsymbol}\n",
      "\\newcommand{\\Ddt}{\\left(\\tfrac{d}{dt}\\right)}\n",
      "\\newcommand{\\ddt}{\\tfrac{d}{dt}}\n",
      "$$\n",
      "[//]: # (custom_config_end)"
     ]
    },
    {
     "cell_type": "code",
     "collapsed": false,
     "input": [
      "%load_ext displaytools\n",
      "%matplotlib inline\n",
      "\n",
      "import sympy as sp\n",
      "from sympy import sin, cos, pi\n",
      "from sympy.interactive import printing\n",
      "import pickle\n",
      "import numpy as np\n",
      "import scipy as sc\n",
      "import scipy.interpolate\n",
      "from scipy.integrate import odeint\n",
      "import matplotlib.pyplot as pl\n",
      "\n",
      "import symbtools as st\n",
      "import symbtools.modeltools as mt\n",
      "import symbtools.noncommutativetools as nct\n",
      "\n",
      "import pycartan as pc\n",
      "zip0 = st.zip0\n",
      "printing.init_printing(1)\n",
      "\n",
      "from diss_aux import latex"
     ],
     "language": "python",
     "metadata": {},
     "outputs": [],
     "prompt_number": 2
    },
    {
     "cell_type": "code",
     "collapsed": false,
     "input": [
      "t = sp.Symbol('t')\n",
      "Np = 1\n",
      "Nq = 1\n",
      "n = Np + Nq\n",
      "pp = st.symb_vector(\"p1:{0}\".format(Np+1))\n",
      "qq = st.symb_vector(\"q1:{0}\".format(Nq+1))\n",
      "aa = st.symb_vector(\"a1:{0}\".format(Nq+1))\n",
      "ww = st.symb_vector(\"w1:{0}\".format(Nq+1))\n",
      "\n",
      "ttheta = st.row_stack(pp, qq) ##:T\n",
      "tthetad = st.time_deriv(ttheta, ttheta) ##:T\n",
      "tthetadd = st.time_deriv(ttheta, ttheta, order=2) ##:T\n",
      "st.make_global(ttheta, tthetad)"
     ],
     "language": "python",
     "metadata": {},
     "outputs": [
      {
       "latex": [
        "ttheta.T := $$\\left[\\begin{matrix}p_{1} & q_{1}\\end{matrix}\\right]$$"
       ],
       "metadata": {},
       "output_type": "display_data",
       "png": "[encoded data removed]",
       "text": [
        "ttheta.T := [p\u2081  q\u2081]"
       ]
      },
      {
       "output_type": "stream",
       "stream": "stdout",
       "text": [
        "---\n"
       ]
      },
      {
       "latex": [
        "tthetad.T := $$\\left[\\begin{matrix}\\dot{p}_{1} & \\dot{q}_{1}\\end{matrix}\\right]$$"
       ],
       "metadata": {},
       "output_type": "display_data",
       "png": "[encoded data removed]",
       "text": [
        "tthetad.T := [p\u0307\u2081  q\u0307\u2081]"
       ]
      },
      {
       "output_type": "stream",
       "stream": "stdout",
       "text": [
        "---\n"
       ]
      },
      {
       "latex": [
        "tthetadd.T := $$\\left[\\begin{matrix}\\ddot{p}_{1} & \\ddot{q}_{1}\\end{matrix}\\right]$$"
       ],
       "metadata": {},
       "output_type": "display_data",
       "png": "[encoded data removed]",
       "text": [
        "tthetadd.T := [p\u0308\u2081  q\u0308\u2081]"
       ]
      },
      {
       "output_type": "stream",
       "stream": "stdout",
       "text": [
        "---\n"
       ]
      }
     ],
     "prompt_number": 3
    },
    {
     "cell_type": "code",
     "collapsed": false,
     "input": [
      "params = sp.symbols('m1, m2, s2, g')\n",
      "st.make_global(params)\n",
      "\n",
      "tau1 = sp.Symbol(\"tau1\")"
     ],
     "language": "python",
     "metadata": {},
     "outputs": [],
     "prompt_number": 4
    },
    {
     "cell_type": "markdown",
     "metadata": {},
     "source": [
      "### Festlegung der Geometrie des mechanischen Systemes"
     ]
    },
    {
     "cell_type": "code",
     "collapsed": false,
     "input": [
      "#Einheitsvektoren\n",
      "\n",
      "ex = sp.Matrix([1,0])\n",
      "ey = sp.Matrix([0,1])\n",
      "\n",
      "\n",
      "# Koordinaten der Schwerpunkte und Gelenke\n",
      "\n",
      "S1 = ex*q1 # Schwerpunkt Wagen\n",
      "G2 = S1 # Pendel-Gelenk\n",
      "\n",
      "# Schwerpunkt des Pendels (Pendel zeigt f\u00fcr kleine Winkel nach unten)\n",
      "S2 = G2 + mt.Rz(p1)*(-ey)*s2\n",
      "\n",
      "# Zeitableitungen der Schwerpunktskoordinaten\n",
      "Sd1, Sd2  = st.col_split(st.time_deriv(st.col_stack(S1, S2), ttheta)) ##"
     ],
     "language": "python",
     "metadata": {},
     "outputs": [
      {
       "latex": [
        "$$\\left[\\begin{matrix}\\dot{q}_{1}\\\\0\\end{matrix}\\right]$$"
       ],
       "metadata": {},
       "output_type": "display_data",
       "png": "[encoded data removed]",
       "text": [
        "\u23a1q\u0307\u2081\u23a4\n",
        "\u23a2   \u23a5\n",
        "\u23a3 0 \u23a6"
       ]
      },
      {
       "latex": [
        "$$\\left[\\begin{matrix}\\dot{p}_{1} s_{2} \\cos{\\left (p_{1} \\right )} + \\dot{q}_{1}\\\\\\dot{p}_{1} s_{2} \\sin{\\left (p_{1} \\right )}\\end{matrix}\\right]$$"
       ],
       "metadata": {},
       "output_type": "display_data",
       "png": "[encoded data removed]",
       "text": [
        "\u23a1p\u0307\u2081\u22c5s\u2082\u22c5cos(p\u2081) + q\u0307\u2081\u23a4\n",
        "\u23a2                    \u23a5\n",
        "\u23a3   p\u0307\u2081\u22c5s\u2082\u22c5sin(p\u2081)   \u23a6"
       ]
      },
      {
       "output_type": "stream",
       "stream": "stdout",
       "text": [
        "---\n"
       ]
      }
     ],
     "prompt_number": 5
    },
    {
     "cell_type": "code",
     "collapsed": false,
     "input": [
      "# Energie\n",
      "T_rot = 0 # (Punktmassenmodell)\n",
      "T_trans = ( m1*Sd1.T*Sd1  +  m2*Sd2.T*Sd2 )/2\n",
      "\n",
      "T = T_rot + T_trans[0]\n",
      "\n",
      "V = m2*g*S2[1]"
     ],
     "language": "python",
     "metadata": {},
     "outputs": [],
     "prompt_number": 6
    },
    {
     "cell_type": "code",
     "collapsed": false,
     "input": [
      "mod = mt.generate_symbolic_model(T, V, ttheta, [0, tau1])"
     ],
     "language": "python",
     "metadata": {},
     "outputs": [],
     "prompt_number": 7
    },
    {
     "cell_type": "code",
     "collapsed": false,
     "input": [
      "mod.MM.simplify()\n",
      "mod.MM"
     ],
     "language": "python",
     "metadata": {},
     "outputs": [
      {
       "latex": [
        "$$\\left[\\begin{matrix}m_{2} s_{2}^{2} & m_{2} s_{2} \\cos{\\left (p_{1} \\right )}\\\\m_{2} s_{2} \\cos{\\left (p_{1} \\right )} & m_{1} + m_{2}\\end{matrix}\\right]$$"
       ],
       "metadata": {},
       "output_type": "pyout",
       "png": "[encoded data removed]",
       "prompt_number": 8,
       "text": [
        "\u23a1        2                   \u23a4\n",
        "\u23a2   m\u2082\u22c5s\u2082       m\u2082\u22c5s\u2082\u22c5cos(p\u2081)\u23a5\n",
        "\u23a2                            \u23a5\n",
        "\u23a3m\u2082\u22c5s\u2082\u22c5cos(p\u2081)     m\u2081 + m\u2082   \u23a6"
       ]
      }
     ],
     "prompt_number": 8
    },
    {
     "cell_type": "markdown",
     "metadata": {},
     "source": [
      "### Bestimmung der partiell lineariserten Systemgleichungen"
     ]
    },
    {
     "cell_type": "code",
     "collapsed": false,
     "input": [
      "mod.calc_coll_part_lin_state_eq(simplify=True)"
     ],
     "language": "python",
     "metadata": {},
     "outputs": [],
     "prompt_number": 9
    },
    {
     "cell_type": "code",
     "collapsed": false,
     "input": [
      "xx = mod.x ##:T\n",
      "f = mod.ff ##:\n",
      "G = mod.gg \n",
      "g1, = st.col_split(G) ##:"
     ],
     "language": "python",
     "metadata": {},
     "outputs": [
      {
       "latex": [
        "xx.T := $$\\left[\\begin{matrix}p_{1} & q_{1} & \\dot{p}_{1} & \\dot{q}_{1}\\end{matrix}\\right]$$"
       ],
       "metadata": {},
       "output_type": "display_data",
       "png": "[encoded data removed]",
       "text": [
        "xx.T := [p\u2081  q\u2081  p\u0307\u2081  q\u0307\u2081]"
       ]
      },
      {
       "output_type": "stream",
       "stream": "stdout",
       "text": [
        "---\n"
       ]
      },
      {
       "latex": [
        "f := $$\\left[\\begin{matrix}\\dot{p}_{1}\\\\\\dot{q}_{1}\\\\- \\frac{g}{s_{2}} \\sin{\\left (p_{1} \\right )}\\\\0\\end{matrix}\\right]$$"
       ],
       "metadata": {},
       "output_type": "display_data",
       "png": "[encoded data removed]",
       "text": [
        "f := \u23a1    p\u0307\u2081    \u23a4\n",
        "\u23a2           \u23a5\n",
        "\u23a2    q\u0307\u2081    \u23a5\n",
        "\u23a2           \u23a5\n",
        "\u23a2-g\u22c5sin(p\u2081) \u23a5\n",
        "\u23a2\u2500\u2500\u2500\u2500\u2500\u2500\u2500\u2500\u2500\u2500\u2500\u23a5\n",
        "\u23a2     s\u2082    \u23a5\n",
        "\u23a2           \u23a5\n",
        "\u23a3     0     \u23a6"
       ]
      },
      {
       "output_type": "stream",
       "stream": "stdout",
       "text": [
        "---\n"
       ]
      },
      {
       "latex": [
        "g1, := $$\\left[\\begin{matrix}0\\\\0\\\\- \\frac{1}{s_{2}} \\cos{\\left (p_{1} \\right )}\\\\1\\end{matrix}\\right]$$"
       ],
       "metadata": {},
       "output_type": "display_data",
       "png": "[encoded data removed]",
       "text": [
        "g1, := \u23a1    0    \u23a4\n",
        "\u23a2         \u23a5\n",
        "\u23a2    0    \u23a5\n",
        "\u23a2         \u23a5\n",
        "\u23a2-cos(p\u2081) \u23a5\n",
        "\u23a2\u2500\u2500\u2500\u2500\u2500\u2500\u2500\u2500\u2500\u23a5\n",
        "\u23a2    s\u2082   \u23a5\n",
        "\u23a2         \u23a5\n",
        "\u23a3    1    \u23a6"
       ]
      },
      {
       "output_type": "stream",
       "stream": "stdout",
       "text": [
        "---\n"
       ]
      }
     ],
     "prompt_number": 10
    },
    {
     "cell_type": "markdown",
     "metadata": {},
     "source": [
      "### Ruhelagen:"
     ]
    },
    {
     "cell_type": "code",
     "collapsed": false,
     "input": [
      "eqp1 = sp.Matrix([0, 0, 0, 0 ]) ##:T\n",
      "eqp2 = sp.Matrix([sp.pi, 0, 0, 0]) ##:T\n",
      "\n",
      "# Probe:\n",
      "f.subz(xx, eqp1) ##:T\n",
      "f.subz(xx, eqp2) ##:T"
     ],
     "language": "python",
     "metadata": {},
     "outputs": [
      {
       "latex": [
        "eqp1.T := $$\\left[\\begin{matrix}0 & 0 & 0 & 0\\end{matrix}\\right]$$"
       ],
       "metadata": {},
       "output_type": "display_data",
       "png": "[encoded data removed]",
       "text": [
        "eqp1.T := [0  0  0  0]"
       ]
      },
      {
       "output_type": "stream",
       "stream": "stdout",
       "text": [
        "---\n"
       ]
      },
      {
       "latex": [
        "eqp2.T := $$\\left[\\begin{matrix}\\pi & 0 & 0 & 0\\end{matrix}\\right]$$"
       ],
       "metadata": {},
       "output_type": "display_data",
       "png": "[encoded data removed]",
       "text": [
        "eqp2.T := [\u03c0  0  0  0]"
       ]
      },
      {
       "output_type": "stream",
       "stream": "stdout",
       "text": [
        "---\n"
       ]
      },
      {
       "latex": [
        "(f.subz(xx, eqp1) ).T := $$\\left[\\begin{matrix}0 & 0 & 0 & 0\\end{matrix}\\right]$$"
       ],
       "metadata": {},
       "output_type": "display_data",
       "png": "[encoded data removed]",
       "text": [
        "(f.subz(xx, eqp1) ).T := [0  0  0  0]"
       ]
      },
      {
       "output_type": "stream",
       "stream": "stdout",
       "text": [
        "___\n"
       ]
      },
      {
       "latex": [
        "(f.subz(xx, eqp2) ).T := $$\\left[\\begin{matrix}0 & 0 & 0 & 0\\end{matrix}\\right]$$"
       ],
       "metadata": {},
       "output_type": "display_data",
       "png": "[encoded data removed]",
       "text": [
        "(f.subz(xx, eqp2) ).T := [0  0  0  0]"
       ]
      },
      {
       "output_type": "stream",
       "stream": "stdout",
       "text": [
        "___\n"
       ]
      }
     ],
     "prompt_number": 11
    },
    {
     "cell_type": "code",
     "collapsed": false,
     "input": [
      "# Parameterwerte\n",
      "parameter_values = [(g, 9.81), (s2, .5)]\n",
      "replm =  parameter_values + zip(xx, eqp1) ##"
     ],
     "language": "python",
     "metadata": {},
     "outputs": [
      {
       "latex": [
        "$$\\left [ \\left ( g, \\quad 9.81\\right ), \\quad \\left ( s_{2}, \\quad 0.5\\right ), \\quad \\left ( p_{1}, \\quad 0\\right ), \\quad \\left ( q_{1}, \\quad 0\\right ), \\quad \\left ( \\dot{p}_{1}, \\quad 0\\right ), \\quad \\left ( \\dot{q}_{1}, \\quad 0\\right )\\right ]$$"
       ],
       "metadata": {},
       "output_type": "display_data",
       "png": "[encoded data removed]",
       "text": [
        "[(g, 9.81), (s\u2082, 0.5), (p\u2081, 0), (q\u2081, 0), (p\u0307\u2081, 0), (q\u0307\u2081, 0)]"
       ]
      },
      {
       "output_type": "stream",
       "stream": "stdout",
       "text": [
        "---\n"
       ]
      }
     ],
     "prompt_number": 12
    },
    {
     "cell_type": "code",
     "collapsed": false,
     "input": [
      "A1 = f.jacobian(xx).subs(replm) ##\n",
      "b1 = G.subs(replm) ##"
     ],
     "language": "python",
     "metadata": {},
     "outputs": [
      {
       "latex": [
        "$$\\left[\\begin{matrix}0 & 0 & 1 & 0\\\\0 & 0 & 0 & 1\\\\-19.62 & 0 & 0 & 0\\\\0 & 0 & 0 & 0\\end{matrix}\\right]$$"
       ],
       "metadata": {},
       "output_type": "display_data",
       "png": "[encoded data removed]",
       "text": [
        "\u23a1  0     0  1  0\u23a4\n",
        "\u23a2               \u23a5\n",
        "\u23a2  0     0  0  1\u23a5\n",
        "\u23a2               \u23a5\n",
        "\u23a2-19.62  0  0  0\u23a5\n",
        "\u23a2               \u23a5\n",
        "\u23a3  0     0  0  0\u23a6"
       ]
      },
      {
       "output_type": "stream",
       "stream": "stdout",
       "text": [
        "---\n"
       ]
      },
      {
       "latex": [
        "$$\\left[\\begin{matrix}0\\\\0\\\\-2.0\\\\1\\end{matrix}\\right]$$"
       ],
       "metadata": {},
       "output_type": "display_data",
       "png": "[encoded data removed]",
       "text": [
        "\u23a1 0  \u23a4\n",
        "\u23a2    \u23a5\n",
        "\u23a2 0  \u23a5\n",
        "\u23a2    \u23a5\n",
        "\u23a2-2.0\u23a5\n",
        "\u23a2    \u23a5\n",
        "\u23a3 1  \u23a6"
       ]
      },
      {
       "output_type": "stream",
       "stream": "stdout",
       "text": [
        "---\n"
       ]
      }
     ],
     "prompt_number": 13
    },
    {
     "cell_type": "code",
     "collapsed": false,
     "input": [
      "#latex(A2)"
     ],
     "language": "python",
     "metadata": {},
     "outputs": [],
     "prompt_number": 14
    },
    {
     "cell_type": "markdown",
     "metadata": {},
     "source": [
      "Lineare R\u00fcckf\u00fchrung zur Platzierung der Eigenwerte"
     ]
    },
    {
     "cell_type": "code",
     "collapsed": false,
     "input": [
      "# Empirische Bestimmung der Eigenwerte\n",
      "\n",
      "\n",
      "# a = 3\n",
      "# b = 1.4\n",
      "# k1 = st.siso_place(A1, b1, np.r_[-1+a*1j, -1-a*1j, -1.5*b, -2*b])*.8 ##:T\n",
      "\n",
      "#k1 = st.siso_place(A1, b1, [-1+a*1j, -1-a*1j, -1.5+b*1j, -1.5-b*1j])*.8 ##:T\n",
      "#k1 = st.siso_place(A1, b1, [-1, -2, -2.5, -3])\n",
      "\n",
      "\n",
      "a = 1.2\n",
      "b = 3.4\n",
      "\n",
      "poles = np.r_[-1.5+a*1j, -1.5-a*1j, -1.3 + b*1j, -1.3 - b*1j] ##:\n",
      "k1 = st.siso_place(A1, b1, poles)##:T\n",
      "\n",
      "controller1_expr1 = k1.T*mod.xx\n",
      "controller1_func_intern = st.expr_to_func(mod.xx, k1.T*mod.xx)\n",
      "\n",
      "def controller1_func(xx, t):\n",
      "    # Zeit t ignorieren\n",
      "    return controller1_func_intern(*xx)"
     ],
     "language": "python",
     "metadata": {},
     "outputs": [
      {
       "metadata": {},
       "output_type": "display_data",
       "text": [
        "poles := array([-1.5+1.2j, -1.5-1.2j, -1.3+3.4j, -1.3-3.4j])"
       ]
      },
      {
       "output_type": "stream",
       "stream": "stdout",
       "text": [
        "---\n"
       ]
      },
      {
       "latex": [
        "k1.T := $$\\left[\\begin{matrix}1.31401376146789 & -2.49197247706422 & 1.54250764525994 & -2.51498470948012\\end{matrix}\\right]$$"
       ],
       "metadata": {},
       "output_type": "display_data",
       "png": "[encoded data removed]",
       "text": [
        "k1.T := [1.31401376146789  -2.49197247706422  1.54250764525994  -2.51498470948012]"
       ]
      },
      {
       "output_type": "stream",
       "stream": "stdout",
       "text": [
        "---\n"
       ]
      }
     ],
     "prompt_number": 15
    },
    {
     "cell_type": "code",
     "collapsed": false,
     "input": [
      "# Probe\n",
      "A = A1 + b1*k1.T\n",
      "A.eigenvals(rational=False)"
     ],
     "language": "python",
     "metadata": {},
     "outputs": [
      {
       "latex": [
        "$$\\left \\{ -1.5 - 1.2 i : 1, \\quad -1.5 + 1.2 i : 1, \\quad -1.3 - 3.4 i : 1, \\quad -1.3 + 3.4 i : 1\\right \\}$$"
       ],
       "metadata": {},
       "output_type": "pyout",
       "png": "[encoded data removed]",
       "prompt_number": 16,
       "text": [
        "{-1.5 - -1.2\u22c5(-1)\u22c5\u2148: 1, -1.5 + 1.2\u22c5\u2148: 1, -1.3 - -3.4\u22c5(-1)\u22c5\u2148: 1, -1.3 + 3.4\u22c5\u2148: \n",
        "1}"
       ]
      }
     ],
     "prompt_number": 16
    },
    {
     "cell_type": "code",
     "collapsed": false,
     "input": [
      "# Zeit-Array und Anfangswerte\n",
      "tt = np.arange(0, 10, 1e-3)\n",
      "xx0 = st.to_np(eqp2).ravel()*0.9 ##\n",
      "\n",
      "#Erstellung des Simulationsmodells\n",
      "sm = st.SimulationModel(mod.ff, mod.gg, mod.xx, model_parameters=parameter_values)\n",
      "rhs1 = sm.create_simfunction(controller_function=controller1_func)\n",
      "\n",
      "# Durchf\u00fchrung der Simulation\n",
      "res = odeint(rhs1, xx0, tt)\n",
      "X1, X2, X3, X4 = res.T"
     ],
     "language": "python",
     "metadata": {},
     "outputs": [
      {
       "metadata": {},
       "output_type": "display_data",
       "text": [
        "array([ 2.82743339,  0.        ,  0.        ,  0.        ])"
       ]
      },
      {
       "output_type": "stream",
       "stream": "stdout",
       "text": [
        "---\n"
       ]
      }
     ],
     "prompt_number": 17
    },
    {
     "cell_type": "markdown",
     "metadata": {},
     "source": [
      "Eingangsverlauf (Wagenbeschleunigung) aus dem Zustandsverlauf berechnen"
     ]
    },
    {
     "cell_type": "code",
     "collapsed": false,
     "input": [
      "aa1 = controller1_func_intern(X1, X2, X3, X4)"
     ],
     "language": "python",
     "metadata": {},
     "outputs": [],
     "prompt_number": 18
    },
    {
     "cell_type": "code",
     "collapsed": false,
     "input": [
      "# Zeit nach der die \u00dcberf\u00fchrung als abgeschlossen betrachtet wird\n",
      "T_fin = 6"
     ],
     "language": "python",
     "metadata": {},
     "outputs": [],
     "prompt_number": 19
    },
    {
     "cell_type": "code",
     "collapsed": false,
     "input": [
      "# Daten f\u00fcr externe plots speichern\n",
      "res_tt = np.c_[tt, res, aa1]\n",
      "np.save('data/wp_zus/transition1.npy', res_tt)"
     ],
     "language": "python",
     "metadata": {},
     "outputs": [],
     "prompt_number": 20
    },
    {
     "cell_type": "code",
     "collapsed": false,
     "input": [
      "pl.figure(figsize=(15,4))\n",
      "pl.subplot(1, 3, 1)\n",
      "pl.plot(tt, X1, label=\"$p_1$\")\n",
      "pl.legend(loc='best', fontsize=16)\n",
      "pl.subplot(1, 3, 2)\n",
      "pl.plot(tt, X2, label=\"$q_1$\")\n",
      "pl.legend(loc='best', fontsize=16)\n",
      "pl.subplot(1, 3, 3)\n",
      "pl.plot(tt, aa1, label=\"$a_1$\")\n",
      "pl.vlines([T_fin], -20, 20, color='0.8', label=r'$t=T_\\mathrm{fin}$')\n",
      "pl.legend(loc='best', fontsize=16)"
     ],
     "language": "python",
     "metadata": {},
     "outputs": [
      {
       "metadata": {},
       "output_type": "pyout",
       "prompt_number": 21,
       "text": [
        "<matplotlib.legend.Legend at 0xbb848ac>"
       ]
      },
      {
       "metadata": {},
       "output_type": "display_data",
       "png": "[encoded data removed]",
       "text": [
        "<matplotlib.figure.Figure at 0xbba97cc>"
       ]
      }
     ],
     "prompt_number": 21
    },
    {
     "cell_type": "code",
     "collapsed": false,
     "input": [
      "# Index zur \"Endzeit\" der \u00dcberf\u00fchrung finden\n",
      "idx_fin = np.where(tt <= T_fin)[0][-1]"
     ],
     "language": "python",
     "metadata": {},
     "outputs": [],
     "prompt_number": 22
    },
    {
     "cell_type": "code",
     "collapsed": false,
     "input": [
      "tt1 = T_fin - tt[:idx_fin][::-1]\n",
      "aa_func_open_loop = sc.interpolate.interp1d(tt1, aa1[:idx_fin][::-1], bounds_error=False, fill_value=0)\n",
      "\n",
      "#pl.plot(tt1, aa_func(tt1))"
     ],
     "language": "python",
     "metadata": {},
     "outputs": [],
     "prompt_number": 23
    },
    {
     "cell_type": "code",
     "collapsed": false,
     "input": [
      "pl.plot(tt1, aa_func_open_loop(tt1))"
     ],
     "language": "python",
     "metadata": {},
     "outputs": [
      {
       "metadata": {},
       "output_type": "pyout",
       "prompt_number": 24,
       "text": [
        "[<matplotlib.lines.Line2D at 0xc01abcc>]"
       ]
      },
      {
       "metadata": {},
       "output_type": "display_data",
       "png": "[encoded data removed]",
       "text": [
        "<matplotlib.figure.Figure at 0xbb8ecec>"
       ]
      }
     ],
     "prompt_number": 24
    },
    {
     "cell_type": "code",
     "collapsed": false,
     "input": [
      "xx0"
     ],
     "language": "python",
     "metadata": {},
     "outputs": [
      {
       "metadata": {},
       "output_type": "pyout",
       "prompt_number": 25,
       "text": [
        "array([ 2.82743339,  0.        ,  0.        ,  0.        ])"
       ]
      }
     ],
     "prompt_number": 25
    },
    {
     "cell_type": "markdown",
     "metadata": {},
     "source": [
      "Reglerentwurf f\u00fcr obere Ruhelage"
     ]
    },
    {
     "cell_type": "code",
     "collapsed": false,
     "input": [
      "replm2 =  parameter_values + zip(xx, eqp2)\n",
      "\n",
      "A2 = f.jacobian(xx).subs(replm2)\n",
      "b2 = G.subs(replm2) "
     ],
     "language": "python",
     "metadata": {},
     "outputs": [],
     "prompt_number": 26
    },
    {
     "cell_type": "code",
     "collapsed": false,
     "input": [
      "#k2 = st.siso_place(A2, b2, np.r_[-1.5+a*1j, -1.5-a*1j, -1.3 + b*1j, -1.3 - b*1j])##:T\n",
      "#k2 = st.siso_place(A2, b2, np.r_[-3.3, -3.7, -3, -4]*2) # #:T\n",
      "k2 = st.siso_place(A2, b2, np.linspace(-6, -8, 4))"
     ],
     "language": "python",
     "metadata": {},
     "outputs": [],
     "prompt_number": 27
    },
    {
     "cell_type": "markdown",
     "metadata": {},
     "source": [
      "Simulativer Nachweis, dass $\\bs x^\\times + \\Delta \\bs x$ im Attraktivit\u00e4tsgebiet liegt:"
     ]
    },
    {
     "cell_type": "code",
     "collapsed": false,
     "input": [
      "controller2_func_intern = st.expr_to_func(mod.xx, k2.T*(mod.xx-eqp2))\n",
      "\n",
      "def controller2_func(xx, t):\n",
      "    # Zeit t ignorieren\n",
      "    return controller2_func_intern(*xx)\n",
      "\n",
      "xx0 = st.to_np(eqp2).ravel()*0.9 ##\n",
      "\n",
      "\n",
      "rhs2 = sm.create_simfunction(controller_function=controller2_func)\n",
      "res = odeint(rhs2, xx0, tt)\n",
      "X1, X2, X3, X4 = res.T\n",
      "\n",
      "pl.figure(figsize=(15,4))\n",
      "pl.subplot(1, 3, 1)\n",
      "pl.plot(tt, X1, label=\"$p_1$\")\n",
      "pl.legend(loc='best', fontsize=16)\n",
      "pl.subplot(1, 3, 2)\n",
      "pl.plot(tt, X2, label=\"$q_1$\")\n",
      "pl.legend(loc='best', fontsize=16)"
     ],
     "language": "python",
     "metadata": {},
     "outputs": [
      {
       "metadata": {},
       "output_type": "display_data",
       "text": [
        "array([ 2.82743339,  0.        ,  0.        ,  0.        ])"
       ]
      },
      {
       "output_type": "stream",
       "stream": "stdout",
       "text": [
        "---\n"
       ]
      },
      {
       "metadata": {},
       "output_type": "pyout",
       "prompt_number": 28,
       "text": [
        "<matplotlib.legend.Legend at 0xc01d14c>"
       ]
      },
      {
       "metadata": {},
       "output_type": "display_data",
       "png": "[encoded data removed]",
       "text": [
        "<matplotlib.figure.Figure at 0xc02b5cc>"
       ]
      }
     ],
     "prompt_number": 28
    },
    {
     "cell_type": "markdown",
     "metadata": {},
     "source": [
      "Gesamtregler festlegen"
     ]
    },
    {
     "cell_type": "code",
     "collapsed": false,
     "input": [
      "# Sinnvoll, kurz vor Ende der Solltrajektorie, den Fangregler zu aktivieren\n",
      "dT = 0.5\n",
      "def swingup_controller(xx, t):\n",
      "    \n",
      "    T_fin2 = T_fin - dT\n",
      "    if t <= T_fin2:\n",
      "    #if xx[0] > 0.88*np.pi:\n",
      "        # In die N\u00e4he der oberen Ruhelage f\u00fchren\n",
      "        return aa_func_open_loop(t)\n",
      "    else:\n",
      "        # Auf Stabilisierung der oberen Ruhelage umschalten\n",
      "        return controller2_func_intern(*xx)"
     ],
     "language": "python",
     "metadata": {},
     "outputs": [],
     "prompt_number": 43
    },
    {
     "cell_type": "code",
     "collapsed": false,
     "input": [
      "# Simulation durchf\u00fchren\n",
      "\n",
      "rhs3 = sm.create_simfunction(controller_function=swingup_controller)\n",
      "res = odeint(rhs3, xx0*0, tt)\n",
      "X1, X2, X3, X4 = res.T\n",
      "\n",
      "# Nachtr\u00e4glich nochmal das Stellsignal bestimmen\n",
      "\n",
      "aa1_values = tt*0\n",
      "for i, tval in enumerate(tt):\n",
      "    aa1_values[i]=swingup_controller(res[i,:], tval)\n",
      "\n",
      "    \n",
      "# Daten f\u00fcr externe plots speichern\n",
      "res_tt = np.c_[tt, res, aa1_values]\n",
      "np.save('data/wp_zus/transition2.npy', res_tt)\n",
      "    \n",
      "pl.figure(figsize=(15,4))\n",
      "pl.subplot(1, 3, 1)\n",
      "pl.plot(tt, X1, label=\"$p_1$\")\n",
      "pl.legend(loc='best', fontsize=16)\n",
      "pl.subplot(1, 3, 2)\n",
      "pl.plot(tt, X2, label=\"$q_1$\")\n",
      "pl.legend(loc='best', fontsize=16)\n",
      "\n",
      "pl.subplot(1, 3, 3)\n",
      "pl.plot(tt, aa1_values, label=\"$a_1$\")\n",
      "pl.vlines([T_fin-dT], -20, 20, color='0.8', label=r'$t=T_{\\mathrm{S}5}$')\n",
      "\n",
      "pl.legend(loc='best', fontsize=16)"
     ],
     "language": "python",
     "metadata": {},
     "outputs": [
      {
       "metadata": {},
       "output_type": "pyout",
       "prompt_number": 44,
       "text": [
        "<matplotlib.legend.Legend at 0xdea612c>"
       ]
      },
      {
       "metadata": {},
       "output_type": "display_data",
       "png": "[encoded data removed]",
       "text": [
        "<matplotlib.figure.Figure at 0xd98020c>"
       ]
      }
     ],
     "prompt_number": 44
    },
    {
     "cell_type": "markdown",
     "metadata": {},
     "source": [
      "---\n",
      "\n",
      "### Motivation der Wahl von $\\Delta \\bs x$ und $T_{\\mathrm{S}5}$\n",
      "\n",
      "Wenn $\\Delta \\bs x = \\bs 0$ gew\u00e4hlt wird konvergiert das mit R1 zur\u00fcckgef\u00fchrte System nicht in die Ruhelage $(0  ~~ 0 ~~ 0 ~~ 0)^T$ sondern nach $(2  ~~ 0 ~~ 0 ~~ 0)^T$ wie die folgende Simulation zeigt:"
     ]
    },
    {
     "cell_type": "code",
     "collapsed": false,
     "input": [
      "xx0 = st.to_np(eqp2).ravel()*1.0 ##\n",
      "\n",
      "rhs1 = sm.create_simfunction(controller_function=controller1_func)\n",
      "res = odeint(rhs1, xx0, tt)\n",
      "X1, X2, X3, X4 = res.T\n",
      "\n",
      "pl.figure(figsize=(15,4))\n",
      "pl.subplot(1, 3, 1)\n",
      "pl.plot(tt, X1, label=\"$p_1$\")\n",
      "pl.legend(loc='best', fontsize=16)\n",
      "pl.subplot(1, 3, 2)\n",
      "pl.plot(tt, X2, label=\"$q_1$\")\n",
      "pl.legend(loc='best', fontsize=16)\n",
      "pl.subplot(1, 3, 3)\n",
      "pl.plot(tt, aa1, label=\"$a_1$\")\n",
      "pl.legend(loc='best', fontsize=16)"
     ],
     "language": "python",
     "metadata": {},
     "outputs": [
      {
       "metadata": {},
       "output_type": "display_data",
       "text": [
        "array([ 3.14159265,  0.        ,  0.        ,  0.        ])"
       ]
      },
      {
       "output_type": "stream",
       "stream": "stdout",
       "text": [
        "---\n"
       ]
      },
      {
       "metadata": {},
       "output_type": "pyout",
       "prompt_number": 32,
       "text": [
        "<matplotlib.legend.Legend at 0xce09dcc>"
       ]
      },
      {
       "metadata": {},
       "output_type": "display_data",
       "png": "[encoded data removed]",
       "text": [
        "<matplotlib.figure.Figure at 0xc17e7cc>"
       ]
      }
     ],
     "prompt_number": 32
    },
    {
     "cell_type": "markdown",
     "metadata": {},
     "source": [
      "----\n",
      "\n",
      "Jetzt Betrachtung von $T_{\\mathrm{S}5} T_{\\mathrm{S}3}$ (hier realisiert mit `dT`=0)."
     ]
    },
    {
     "cell_type": "code",
     "collapsed": false,
     "input": [
      "dT = 0\n",
      "\n",
      "res = odeint(rhs3, xx0*0, tt)\n",
      "X1, X2, X3, X4 = res.T\n",
      "\n",
      "# Nachtr\u00e4glich nochmal das Stellsignal bestimmen\n",
      "\n",
      "aa1_values = tt*0\n",
      "for i, tval in enumerate(tt):\n",
      "    aa1_values[i]=swingup_controller(res[i,:], tval)\n"
     ],
     "language": "python",
     "metadata": {},
     "outputs": [],
     "prompt_number": 33
    },
    {
     "cell_type": "code",
     "collapsed": false,
     "input": [
      "pl.figure(figsize=(15,4))\n",
      "pl.subplot(1, 3, 1)\n",
      "pl.plot(tt, X1, label=\"$p_1$\")\n",
      "axl = pl.axis()\n",
      "pl.vlines([T_fin-dT], -1000, 1000, color='0.8')\n",
      "pl.axis(axl)\n",
      "pl.legend(loc='best', fontsize=16)\n",
      "\n",
      "pl.subplot(1, 3, 2)\n",
      "pl.plot(tt, X2, label=\"$q_1$\")\n",
      "axl = pl.axis()\n",
      "pl.vlines([T_fin-dT], -1000, 1000, color='0.8')\n",
      "pl.axis(axl)\n",
      "pl.legend(loc='best', fontsize=16)\n",
      "\n",
      "pl.subplot(1, 3, 3)\n",
      "pl.plot(tt, aa1_values, label=\"$a_1$\")\n",
      "axl = pl.axis()\n",
      "pl.vlines([T_fin-dT], -1000, 1000, color='0.8', label=r'$t=T_{\\mathrm{S}3}$')\n",
      "pl.axis(axl)\n",
      "\n",
      "pl.legend(loc='upper left', fontsize=16)"
     ],
     "language": "python",
     "metadata": {},
     "outputs": [
      {
       "metadata": {},
       "output_type": "pyout",
       "prompt_number": 34,
       "text": [
        "<matplotlib.legend.Legend at 0xc5f7b4c>"
       ]
      },
      {
       "metadata": {},
       "output_type": "display_data",
       "png": "[encoded data removed]",
       "text": [
        "<matplotlib.figure.Figure at 0xcdef14c>"
       ]
      }
     ],
     "prompt_number": 34
    },
    {
     "cell_type": "markdown",
     "metadata": {},
     "source": [
      "Fazit wenn $T_{\\mathrm{S}5} = T_{\\mathrm{S}3}$ gew\u00e4hlt wird, ist $\\dot p_1 \\approx 0$ wenn der Regler R2 aktiviert wird. Dann ist erheblich mehr Stellgliedaktivit\u00e4t erforderlich, als im Fall von $T_{\\mathrm{S}5} = T_{\\mathrm{S}3 -0.5s}$ (siehe oben)."
     ]
    }
   ],
   "metadata": {}
  }
 ]
}