{
 "metadata": {
  "name": "",
  "signature": "sha256:efc321eb80a4fdf7a3704d4dd4a9858817cc0403c59e79c53d8fe29b4394a431"
 },
 "nbformat": 3,
 "nbformat_minor": 0,
 "worksheets": [
  {
   "cells": [
    {
     "cell_type": "code",
     "collapsed": false,
     "input": [
      "from diss_aux import latex"
     ],
     "language": "python",
     "metadata": {},
     "outputs": [],
     "prompt_number": 1
    },
    {
     "cell_type": "code",
     "collapsed": false,
     "input": [
      "%load_ext displaytools\n",
      "import time\n",
      "print time.ctime()"
     ],
     "language": "python",
     "metadata": {},
     "outputs": [
      {
       "output_type": "stream",
       "stream": "stdout",
       "text": [
        "Tue Feb 23 19:47:46 2016\n"
       ]
      }
     ],
     "prompt_number": 2
    },
    {
     "cell_type": "markdown",
     "metadata": {},
     "source": [
      "[//]: # (custom_config_start)\n",
      "$$\n",
      "\\newcommand{\\col}{\\mathrm{col}}\n",
      "\\newcommand{\\opspan}{\\operatorname{span}}\n",
      "\\newcommand{\\bs}{\\boldsymbol}\n",
      "\\newcommand{\\mb}{\\mathbf}\n",
      "\\newcommand{\\nx}{n_{\\boldsymbol x}}\n",
      "\\newcommand{\\Ddt}{\\left(\\tfrac{d}{dt}\\right)}\n",
      "$$\n",
      "[//]: # (custom_config_end)\n",
      "\n",
      "**Betrachtetes System**: unteraktuierten Zweigelenkmanipulator.<br>\n",
      "\n",
      "<img src=\"files/images/manipulator_def2.png\">\n",
      "\n",
      "**Betrachtete Fragen**:\n",
      "* Herleitung der Modellgleichungen\n",
      " * Zustandsdarstellung zum Eingang $\\bs \\tau$\n",
      " * partiell linearisiert\n",
      " * LBI-NF \n",
      "\n",
      "* \u00dcberpr\u00fcfung verschiedener Steuerbarkeitsbedingungen\n",
      " * Steuerbarkeit der Linearisierung um eine Ruhelage !!\n",
      " * lokale Zug\u00e4nglichkeit\n",
      " * starke lokale Zug\u00e4nglichkeit\n"
     ]
    },
    {
     "cell_type": "code",
     "collapsed": false,
     "input": [
      "import sympy as sp\n",
      "from sympy import sin, cos, pi\n",
      "from sympy.interactive import printing\n",
      "import symbtools as st\n",
      "import symbtools.modeltools as mt\n",
      "from symbtools.modeltools import Rz # Rotationsmatrix\n",
      "\n",
      "\n",
      "printing.init_printing(1)"
     ],
     "language": "python",
     "metadata": {},
     "outputs": [],
     "prompt_number": 3
    },
    {
     "cell_type": "code",
     "collapsed": false,
     "input": [
      "t = sp.Symbol('t')\n",
      "np = 1\n",
      "nq = 1\n",
      "n = np + nq\n",
      "pp = st.symb_vector(\"p1:{0}\".format(np+1))\n",
      "qq = st.symb_vector(\"q1:{0}\".format(nq+1))\n",
      "\n",
      "\n",
      "aa = st.symb_vector(\"a1:{0}\".format(nq+1))\n",
      "\n",
      "ttheta = st.row_stack(pp, qq) ##:T\n",
      "tthetad = st.time_deriv(ttheta, ttheta) ##:T\n",
      "tthetadd = st.time_deriv(ttheta, ttheta, order=2) ##:T\n",
      "st.make_global(ttheta, tthetad)"
     ],
     "language": "python",
     "metadata": {},
     "outputs": [
      {
       "latex": [
        "ttheta.T := $$\\left[\\begin{matrix}p_{1} & q_{1}\\end{matrix}\\right]$$"
       ],
       "metadata": {},
       "output_type": "display_data",
       "png": "[encoded data removed]",
       "text": [
        "ttheta.T := [p\u2081  q\u2081]"
       ]
      },
      {
       "output_type": "stream",
       "stream": "stdout",
       "text": [
        "---\n"
       ]
      },
      {
       "latex": [
        "tthetad.T := $$\\left[\\begin{matrix}\\dot{p}_{1} & \\dot{q}_{1}\\end{matrix}\\right]$$"
       ],
       "metadata": {},
       "output_type": "display_data",
       "png": "[encoded data removed]",
       "text": [
        "tthetad.T := [p\u0307\u2081  q\u0307\u2081]"
       ]
      },
      {
       "output_type": "stream",
       "stream": "stdout",
       "text": [
        "---\n"
       ]
      },
      {
       "latex": [
        "tthetadd.T := $$\\left[\\begin{matrix}\\ddot{p}_{1} & \\ddot{q}_{1}\\end{matrix}\\right]$$"
       ],
       "metadata": {},
       "output_type": "display_data",
       "png": "[encoded data removed]",
       "text": [
        "tthetadd.T := [p\u0308\u2081  q\u0308\u2081]"
       ]
      },
      {
       "output_type": "stream",
       "stream": "stdout",
       "text": [
        "---\n"
       ]
      }
     ],
     "prompt_number": 4
    },
    {
     "cell_type": "code",
     "collapsed": false,
     "input": [
      "params = sp.symbols('s1, s2, m1, m2, J1, J2, l1, kappa')\n",
      "st.make_global(params)\n",
      "\n",
      "tau1, tau2 = ttau = st.symb_vector(\"tau1, tau2\")"
     ],
     "language": "python",
     "metadata": {},
     "outputs": [],
     "prompt_number": 5
    },
    {
     "cell_type": "markdown",
     "metadata": {},
     "source": [
      "### Festlegung der Geometrie des mechanischen Systemes"
     ]
    },
    {
     "cell_type": "code",
     "collapsed": false,
     "input": [
      "Rz(q1) # Rotationsmatirx"
     ],
     "language": "python",
     "metadata": {},
     "outputs": [
      {
       "latex": [
        "$$\\left[\\begin{matrix}\\cos{\\left (q_{1} \\right )} & - \\sin{\\left (q_{1} \\right )}\\\\\\sin{\\left (q_{1} \\right )} & \\cos{\\left (q_{1} \\right )}\\end{matrix}\\right]$$"
       ],
       "metadata": {},
       "output_type": "pyout",
       "png": "[encoded data removed]",
       "prompt_number": 6,
       "text": [
        "\u23a1cos(q\u2081)  -sin(q\u2081)\u23a4\n",
        "\u23a2                 \u23a5\n",
        "\u23a3sin(q\u2081)  cos(q\u2081) \u23a6"
       ]
      }
     ],
     "prompt_number": 6
    },
    {
     "cell_type": "code",
     "collapsed": false,
     "input": [
      "#Einheitsvektoren\n",
      "\n",
      "ex = sp.Matrix([1, 0])\n",
      "ey = sp.Matrix([0, 1])\n",
      "\n",
      "# Koordinaten der Schwerpunkte und Gelenke\n",
      "S1 = Rz(q1)*ex*s1\n",
      "G1 = Rz(q1)*ex*l1 # \"Elllenbogengelenk\"\n",
      "S2 = G1 + Rz(q1 + p1)*ex*s2\n",
      "\n",
      "\n",
      "# Zeitableitungen der Schwerpunktskoordinaten\n",
      "Sd1, Sd2 = st.col_split(st.time_deriv(st.col_stack(S1, S2), ttheta)) ##"
     ],
     "language": "python",
     "metadata": {},
     "outputs": [
      {
       "latex": [
        "$$\\left[\\begin{matrix}- \\dot{q}_{1} s_{1} \\sin{\\left (q_{1} \\right )}\\\\\\dot{q}_{1} s_{1} \\cos{\\left (q_{1} \\right )}\\end{matrix}\\right]$$"
       ],
       "metadata": {},
       "output_type": "display_data",
       "png": "[encoded data removed]",
       "text": [
        "\u23a1-q\u0307\u2081\u22c5s\u2081\u22c5sin(q\u2081)\u23a4\n",
        "\u23a2               \u23a5\n",
        "\u23a3q\u0307\u2081\u22c5s\u2081\u22c5cos(q\u2081) \u23a6"
       ]
      },
      {
       "latex": [
        "$$\\left[\\begin{matrix}- l_{1} \\dot{q}_{1} \\sin{\\left (q_{1} \\right )} - s_{2} \\left(\\dot{p}_{1} + \\dot{q}_{1}\\right) \\sin{\\left (p_{1} + q_{1} \\right )}\\\\l_{1} \\dot{q}_{1} \\cos{\\left (q_{1} \\right )} + s_{2} \\left(\\dot{p}_{1} + \\dot{q}_{1}\\right) \\cos{\\left (p_{1} + q_{1} \\right )}\\end{matrix}\\right]$$"
       ],
       "metadata": {},
       "output_type": "display_data",
       "png": "[encoded data removed]",
       "text": [
        "\u23a1-l\u2081\u22c5q\u0307\u2081\u22c5sin(q\u2081) - s\u2082\u22c5(p\u0307\u2081 + q\u0307\u2081)\u22c5sin(p\u2081 + q\u2081)\u23a4\n",
        "\u23a2                                             \u23a5\n",
        "\u23a3l\u2081\u22c5q\u0307\u2081\u22c5cos(q\u2081) + s\u2082\u22c5(p\u0307\u2081 + q\u0307\u2081)\u22c5cos(p\u2081 + q\u2081) \u23a6"
       ]
      },
      {
       "output_type": "stream",
       "stream": "stdout",
       "text": [
        "---\n"
       ]
      }
     ],
     "prompt_number": 7
    },
    {
     "cell_type": "code",
     "collapsed": false,
     "input": [
      "# Kinetische Energie\n",
      "T_rot = (J1*qdot1**2)/2 + (J2*(qdot1 + pdot1)**2)/2\n",
      "T_trans = ( m1*Sd1.T*Sd1  +  m2*Sd2.T*Sd2 )/2\n",
      "\n",
      "T = T_rot + T_trans[0] ##:\n",
      "\n",
      "# Potentielle Energie\n",
      "V = 0"
     ],
     "language": "python",
     "metadata": {},
     "outputs": [
      {
       "latex": [
        "T := $$\\frac{J_{1} \\dot{q}_{1}^{2}}{2} + \\frac{J_{2}}{2} \\left(\\dot{p}_{1} + \\dot{q}_{1}\\right)^{2} + \\frac{m_{1} \\dot{q}_{1}^{2}}{2} s_{1}^{2} \\sin^{2}{\\left (q_{1} \\right )} + \\frac{m_{1} \\dot{q}_{1}^{2}}{2} s_{1}^{2} \\cos^{2}{\\left (q_{1} \\right )} + \\frac{m_{2}}{2} \\left(- l_{1} \\dot{q}_{1} \\sin{\\left (q_{1} \\right )} - s_{2} \\left(\\dot{p}_{1} + \\dot{q}_{1}\\right) \\sin{\\left (p_{1} + q_{1} \\right )}\\right)^{2} + \\frac{m_{2}}{2} \\left(l_{1} \\dot{q}_{1} \\cos{\\left (q_{1} \\right )} + s_{2} \\left(\\dot{p}_{1} + \\dot{q}_{1}\\right) \\cos{\\left (p_{1} + q_{1} \\right )}\\right)^{2}$$"
       ],
       "metadata": {},
       "output_type": "display_data",
       "png": "[encoded data removed]",
       "text": [
        "T :=       2                 2         2   2    2             2   2    2           \n",
        "J\u2081\u22c5q\u0307\u2081    J\u2082\u22c5(p\u0307\u2081 + q\u0307\u2081)    m\u2081\u22c5q\u0307\u2081 \u22c5s\u2081 \u22c5sin (q\u2081)   m\u2081\u22c5q\u0307\u2081 \u22c5s\u2081 \u22c5cos (q\u2081)   m\u2082\u22c5(\n",
        "\u2500\u2500\u2500\u2500\u2500\u2500\u2500 + \u2500\u2500\u2500\u2500\u2500\u2500\u2500\u2500\u2500\u2500\u2500\u2500\u2500\u2500\u2500 + \u2500\u2500\u2500\u2500\u2500\u2500\u2500\u2500\u2500\u2500\u2500\u2500\u2500\u2500\u2500\u2500\u2500\u2500\u2500\u2500 + \u2500\u2500\u2500\u2500\u2500\u2500\u2500\u2500\u2500\u2500\u2500\u2500\u2500\u2500\u2500\u2500\u2500\u2500\u2500\u2500 + \u2500\u2500\u2500\u2500\n",
        "   2             2                   2                      2                 \n",
        "\n",
        "                                              2                               \n",
        "-l\u2081\u22c5q\u0307\u2081\u22c5sin(q\u2081) - s\u2082\u22c5(p\u0307\u2081 + q\u0307\u2081)\u22c5sin(p\u2081 + q\u2081))    m\u2082\u22c5(l\u2081\u22c5q\u0307\u2081\u22c5cos(q\u2081) + s\u2082\u22c5(p\u0307\u2081\n",
        "\u2500\u2500\u2500\u2500\u2500\u2500\u2500\u2500\u2500\u2500\u2500\u2500\u2500\u2500\u2500\u2500\u2500\u2500\u2500\u2500\u2500\u2500\u2500\u2500\u2500\u2500\u2500\u2500\u2500\u2500\u2500\u2500\u2500\u2500\u2500\u2500\u2500\u2500\u2500\u2500\u2500\u2500\u2500\u2500\u2500\u2500\u2500 + \u2500\u2500\u2500\u2500\u2500\u2500\u2500\u2500\u2500\u2500\u2500\u2500\u2500\u2500\u2500\u2500\u2500\u2500\u2500\u2500\u2500\u2500\u2500\u2500\u2500\u2500\u2500\u2500\n",
        "                     2                                                    2   \n",
        "\n",
        "                     2\n",
        " + q\u0307\u2081)\u22c5cos(p\u2081 + q\u2081)) \n",
        "\u2500\u2500\u2500\u2500\u2500\u2500\u2500\u2500\u2500\u2500\u2500\u2500\u2500\u2500\u2500\u2500\u2500\u2500\u2500\u2500\u2500\u2500\n",
        "                      "
       ]
      },
      {
       "output_type": "stream",
       "stream": "stdout",
       "text": [
        "---\n"
       ]
      }
     ],
     "prompt_number": 8
    },
    {
     "cell_type": "code",
     "collapsed": false,
     "input": [
      "# Kinetische Energie mit Platzhaltersymbolen einf\u00fchren:\n",
      "\n",
      "M1, M2, M3 = MM = st.symb_vector('M1:4')\n",
      "MM_subs = [(J1 + m1*s1**2 + m2*l1**2, M1), (J2 + m2*s2**2, M2), (m2*l1*s2, M3)]\n",
      "MM_rplm = st.rev_tuple(MM_subs) # Umkehrung der inneren Tupel -> [(M1, J1+... ), ...]\n",
      "\n",
      "T_plh = M1*qdot1**2/2 + M2*pdot1**2/2 + M2*pdot1*qdot1 + M2*qdot1**2/2 + M3*pdot1*qdot1*cos(p1) + M3*qdot1**2*cos(p1)\n",
      "\n",
      "# Probe:\n",
      "assert sp.simplify(T_plh.subs(MM_rplm) - T) == 0"
     ],
     "language": "python",
     "metadata": {},
     "outputs": [],
     "prompt_number": 9
    },
    {
     "cell_type": "code",
     "collapsed": false,
     "input": [
      "external_forces = [0, tau1]\n",
      "assert not any(external_forces[:np])\n",
      "mod = mt.generate_symbolic_model(T_plh, V, ttheta, external_forces)"
     ],
     "language": "python",
     "metadata": {},
     "outputs": [],
     "prompt_number": 10
    },
    {
     "cell_type": "code",
     "collapsed": false,
     "input": [
      "mod.eqns "
     ],
     "language": "python",
     "metadata": {},
     "outputs": [
      {
       "latex": [
        "$$\\left[\\begin{matrix}M_{2} \\ddot{p}_{1} + M_{2} \\ddot{q}_{1} + M_{3} \\ddot{q}_{1} \\cos{\\left (p_{1} \\right )} + M_{3} \\dot{q}_{1}^{2} \\sin{\\left (p_{1} \\right )}\\\\M_{1} \\ddot{q}_{1} + M_{2} \\ddot{p}_{1} + M_{2} \\ddot{q}_{1} + M_{3} \\ddot{p}_{1} \\cos{\\left (p_{1} \\right )} - M_{3} \\dot{p}_{1}^{2} \\sin{\\left (p_{1} \\right )} - 2 M_{3} \\dot{p}_{1} \\dot{q}_{1} \\sin{\\left (p_{1} \\right )} + 2 M_{3} \\ddot{q}_{1} \\cos{\\left (p_{1} \\right )} - \\tau_{1}\\end{matrix}\\right]$$"
       ],
       "metadata": {},
       "output_type": "pyout",
       "png": "[encoded data removed]",
       "prompt_number": 11,
       "text": [
        "\u23a1                                                                     2       \n",
        "\u23a2                            M\u2082\u22c5p\u0308\u2081 + M\u2082\u22c5q\u0308\u2081 + M\u2083\u22c5q\u0308\u2081\u22c5cos(p\u2081) + M\u2083\u22c5q\u0307\u2081 \u22c5sin(p\u2081\n",
        "\u23a2                                                                             \n",
        "\u23a2                                                  2                          \n",
        "\u23a3M\u2081\u22c5q\u0308\u2081 + M\u2082\u22c5p\u0308\u2081 + M\u2082\u22c5q\u0308\u2081 + M\u2083\u22c5p\u0308\u2081\u22c5cos(p\u2081) - M\u2083\u22c5p\u0307\u2081 \u22c5sin(p\u2081) - 2\u22c5M\u2083\u22c5p\u0307\u2081\u22c5q\u0307\u2081\u22c5si\n",
        "\n",
        "                             \u23a4\n",
        ")                            \u23a5\n",
        "                             \u23a5\n",
        "                             \u23a5\n",
        "n(p\u2081) + 2\u22c5M\u2083\u22c5q\u0308\u2081\u22c5cos(p\u2081) - \u03c4\u2081\u23a6"
       ]
      }
     ],
     "prompt_number": 11
    },
    {
     "cell_type": "markdown",
     "metadata": {},
     "source": [
      "### Verschiedene Zustandsdarstellungen\n",
      "#### Vektorfelder der Zustandsdarstellung mit Eingang $\\bs \\tau$"
     ]
    },
    {
     "cell_type": "code",
     "collapsed": false,
     "input": [
      "mod.calc_state_eq()"
     ],
     "language": "python",
     "metadata": {},
     "outputs": [],
     "prompt_number": 12
    },
    {
     "cell_type": "code",
     "collapsed": false,
     "input": [
      "# Symbole f\u00fcr Geschwindigkeiten\n",
      "tthetad_replm = zip(tthetad, st.symb_vector('u1, v1'))"
     ],
     "language": "python",
     "metadata": {},
     "outputs": [],
     "prompt_number": 13
    },
    {
     "cell_type": "code",
     "collapsed": false,
     "input": [
      "f = mod.f.subs(tthetad_replm) ##:\n",
      "g = mod.g.subs(tthetad_replm) ##:"
     ],
     "language": "python",
     "metadata": {},
     "outputs": [
      {
       "latex": [
        "f := $$\\left[\\begin{matrix}u_{1}\\\\v_{1}\\\\- \\frac{M_{3} \\sin{\\left (p_{1} \\right )}}{M_{1} M_{2} - M_{3}^{2} \\cos^{2}{\\left (p_{1} \\right )}} \\left(u_{1} \\left(M_{2} + M_{3} \\cos{\\left (p_{1} \\right )}\\right) \\left(u_{1} + 2 v_{1}\\right) + v_{1}^{2} \\left(M_{1} + M_{2} + 2 M_{3} \\cos{\\left (p_{1} \\right )}\\right)\\right)\\\\\\frac{M_{3} \\sin{\\left (p_{1} \\right )}}{M_{1} M_{2} - M_{3}^{2} \\cos^{2}{\\left (p_{1} \\right )}} \\left(M_{2} u_{1} \\left(u_{1} + 2 v_{1}\\right) + v_{1}^{2} \\left(M_{2} + M_{3} \\cos{\\left (p_{1} \\right )}\\right)\\right)\\end{matrix}\\right]$$"
       ],
       "metadata": {},
       "output_type": "display_data",
       "png": "[encoded data removed]",
       "text": [
        "f := \u23a1                                      u\u2081                                     \n",
        "\u23a2                                                                             \n",
        "\u23a2                                      v\u2081                                     \n",
        "\u23a2                                                                             \n",
        "\u23a2    \u239b                                     2                         \u239e        \n",
        "\u23a2-M\u2083\u22c5\u239du\u2081\u22c5(M\u2082 + M\u2083\u22c5cos(p\u2081))\u22c5(u\u2081 + 2\u22c5v\u2081) + v\u2081 \u22c5(M\u2081 + M\u2082 + 2\u22c5M\u2083\u22c5cos(p\u2081))\u23a0\u22c5sin(p\u2081)\n",
        "\u23a2\u2500\u2500\u2500\u2500\u2500\u2500\u2500\u2500\u2500\u2500\u2500\u2500\u2500\u2500\u2500\u2500\u2500\u2500\u2500\u2500\u2500\u2500\u2500\u2500\u2500\u2500\u2500\u2500\u2500\u2500\u2500\u2500\u2500\u2500\u2500\u2500\u2500\u2500\u2500\u2500\u2500\u2500\u2500\u2500\u2500\u2500\u2500\u2500\u2500\u2500\u2500\u2500\u2500\u2500\u2500\u2500\u2500\u2500\u2500\u2500\u2500\u2500\u2500\u2500\u2500\u2500\u2500\u2500\u2500\u2500\u2500\u2500\u2500\u2500\u2500\u2500\u2500\n",
        "\u23a2                                       2    2                                \n",
        "\u23a2                             M\u2081\u22c5M\u2082 - M\u2083 \u22c5cos (p\u2081)                            \n",
        "\u23a2                                                                             \n",
        "\u23a2               \u239b                      2                  \u239e                   \n",
        "\u23a2            M\u2083\u22c5\u239dM\u2082\u22c5u\u2081\u22c5(u\u2081 + 2\u22c5v\u2081) + v\u2081 \u22c5(M\u2082 + M\u2083\u22c5cos(p\u2081))\u23a0\u22c5sin(p\u2081)           \n",
        "\u23a2            \u2500\u2500\u2500\u2500\u2500\u2500\u2500\u2500\u2500\u2500\u2500\u2500\u2500\u2500\u2500\u2500\u2500\u2500\u2500\u2500\u2500\u2500\u2500\u2500\u2500\u2500\u2500\u2500\u2500\u2500\u2500\u2500\u2500\u2500\u2500\u2500\u2500\u2500\u2500\u2500\u2500\u2500\u2500\u2500\u2500\u2500\u2500\u2500\u2500\u2500\u2500\u2500\u2500\u2500           \n",
        "\u23a2                                       2    2                                \n",
        "\u23a3                             M\u2081\u22c5M\u2082 - M\u2083 \u22c5cos (p\u2081)                            \n",
        "\n",
        " \u23a4\n",
        " \u23a5\n",
        " \u23a5\n",
        " \u23a5\n",
        " \u23a5\n",
        " \u23a5\n",
        "\u2500\u23a5\n",
        " \u23a5\n",
        " \u23a5\n",
        " \u23a5\n",
        " \u23a5\n",
        " \u23a5\n",
        " \u23a5\n",
        " \u23a5\n",
        " \u23a6"
       ]
      },
      {
       "output_type": "stream",
       "stream": "stdout",
       "text": [
        "---\n"
       ]
      },
      {
       "latex": [
        "g := $$\\left[\\begin{matrix}0\\\\0\\\\- \\frac{M_{2} + M_{3} \\cos{\\left (p_{1} \\right )}}{M_{1} M_{2} - M_{3}^{2} \\cos^{2}{\\left (p_{1} \\right )}}\\\\\\frac{M_{2}}{M_{1} M_{2} - M_{3}^{2} \\cos^{2}{\\left (p_{1} \\right )}}\\end{matrix}\\right]$$"
       ],
       "metadata": {},
       "output_type": "display_data",
       "png": "[encoded data removed]",
       "text": [
        "g := \u23a1         0          \u23a4\n",
        "\u23a2                    \u23a5\n",
        "\u23a2         0          \u23a5\n",
        "\u23a2                    \u23a5\n",
        "\u23a2-(M\u2082 + M\u2083\u22c5cos(p\u2081))  \u23a5\n",
        "\u23a2\u2500\u2500\u2500\u2500\u2500\u2500\u2500\u2500\u2500\u2500\u2500\u2500\u2500\u2500\u2500\u2500\u2500\u2500\u2500\u2500\u23a5\n",
        "\u23a2          2    2    \u23a5\n",
        "\u23a2M\u2081\u22c5M\u2082 - M\u2083 \u22c5cos (p\u2081)\u23a5\n",
        "\u23a2                    \u23a5\n",
        "\u23a2         M\u2082         \u23a5\n",
        "\u23a2\u2500\u2500\u2500\u2500\u2500\u2500\u2500\u2500\u2500\u2500\u2500\u2500\u2500\u2500\u2500\u2500\u2500\u2500\u2500\u2500\u23a5\n",
        "\u23a2          2    2    \u23a5\n",
        "\u23a3M\u2081\u22c5M\u2082 - M\u2083 \u22c5cos (p\u2081)\u23a6"
       ]
      },
      {
       "output_type": "stream",
       "stream": "stdout",
       "text": [
        "---\n"
       ]
      }
     ],
     "prompt_number": 14
    },
    {
     "cell_type": "code",
     "collapsed": false,
     "input": [
      "# Zustandsvektor\n",
      "xx = mod.xx ##:T"
     ],
     "language": "python",
     "metadata": {},
     "outputs": [
      {
       "latex": [
        "xx.T := $$\\left[\\begin{matrix}p_{1} & q_{1} & \\dot{p}_{1} & \\dot{q}_{1}\\end{matrix}\\right]$$"
       ],
       "metadata": {},
       "output_type": "display_data",
       "png": "[encoded data removed]",
       "text": [
        "xx.T := [p\u2081  q\u2081  p\u0307\u2081  q\u0307\u2081]"
       ]
      },
      {
       "output_type": "stream",
       "stream": "stdout",
       "text": [
        "---\n"
       ]
      }
     ],
     "prompt_number": 15
    },
    {
     "cell_type": "markdown",
     "metadata": {},
     "source": [
      "#### Vektorfelder der kollokierten partiellen Linearisierung"
     ]
    },
    {
     "cell_type": "code",
     "collapsed": false,
     "input": [
      "mod.calc_coll_part_lin_state_eq()\n",
      "kappa_subs = M3/M2 # l1*s2*m2/(J2+m2*s2**2)\n",
      "\n",
      "ff = mod.ff.subs(kappa_subs, kappa) ##:\n",
      "gg = mod.gg.expand().subs(kappa_subs, kappa)\n",
      "gg ##"
     ],
     "language": "python",
     "metadata": {},
     "outputs": [
      {
       "latex": [
        "ff := $$\\left[\\begin{matrix}\\dot{p}_{1}\\\\\\dot{q}_{1}\\\\- \\kappa \\dot{q}_{1}^{2} \\sin{\\left (p_{1} \\right )}\\\\0\\end{matrix}\\right]$$"
       ],
       "metadata": {},
       "output_type": "display_data",
       "png": "[encoded data removed]",
       "text": [
        "ff := \u23a1      p\u0307\u2081      \u23a4\n",
        "\u23a2               \u23a5\n",
        "\u23a2      q\u0307\u2081      \u23a5\n",
        "\u23a2               \u23a5\n",
        "\u23a2      2        \u23a5\n",
        "\u23a2-\u03ba\u22c5q\u0307\u2081 \u22c5sin(p\u2081)\u23a5\n",
        "\u23a2               \u23a5\n",
        "\u23a3       0       \u23a6"
       ]
      },
      {
       "output_type": "stream",
       "stream": "stdout",
       "text": [
        "---\n"
       ]
      },
      {
       "latex": [
        "$$\\left[\\begin{matrix}0\\\\0\\\\- \\kappa \\cos{\\left (p_{1} \\right )} - 1\\\\1\\end{matrix}\\right]$$"
       ],
       "metadata": {},
       "output_type": "display_data",
       "png": "[encoded data removed]",
       "text": [
        "\u23a1      0       \u23a4\n",
        "\u23a2              \u23a5\n",
        "\u23a2      0       \u23a5\n",
        "\u23a2              \u23a5\n",
        "\u23a2-\u03ba\u22c5cos(p\u2081) - 1\u23a5\n",
        "\u23a2              \u23a5\n",
        "\u23a3      1       \u23a6"
       ]
      },
      {
       "output_type": "stream",
       "stream": "stdout",
       "text": [
        "___\n"
       ]
      }
     ],
     "prompt_number": 16
    },
    {
     "cell_type": "markdown",
     "metadata": {},
     "source": [
      "#### Zustandsvektor und Vektorfelder der LBI-Normalform"
     ]
    },
    {
     "cell_type": "code",
     "collapsed": false,
     "input": [
      "mod.calc_lbi_nf_state_eq()\n",
      "mod.zz ##:T\n",
      "f_z = mod.fz.expand().subs(kappa_subs, kappa).smplf ##:\n",
      "g_z = mod.gz ##:"
     ],
     "language": "python",
     "metadata": {},
     "outputs": [
      {
       "latex": [
        "(mod.zz ).T := $$\\left[\\begin{matrix}q_{1} & \\dot{q}_{1} & p_{1} & w_{1}\\end{matrix}\\right]$$"
       ],
       "metadata": {},
       "output_type": "display_data",
       "png": "[encoded data removed]",
       "text": [
        "(mod.zz ).T := [q\u2081  q\u0307\u2081  p\u2081  w\u2081]"
       ]
      },
      {
       "output_type": "stream",
       "stream": "stdout",
       "text": [
        "___\n"
       ]
      },
      {
       "latex": [
        "f_z := $$\\left[\\begin{matrix}\\dot{q}_{1}\\\\0\\\\- \\kappa \\dot{q}_{1} \\cos{\\left (p_{1} \\right )} - \\dot{q}_{1} + w_{1}\\\\\\kappa \\dot{q}_{1} \\left(\\kappa \\dot{q}_{1} \\cos{\\left (p_{1} \\right )} - w_{1}\\right) \\sin{\\left (p_{1} \\right )}\\end{matrix}\\right]$$"
       ],
       "metadata": {},
       "output_type": "display_data",
       "png": "[encoded data removed]",
       "text": [
        "f_z := \u23a1               q\u0307\u2081                \u23a4\n",
        "\u23a2                                  \u23a5\n",
        "\u23a2                0                 \u23a5\n",
        "\u23a2                                  \u23a5\n",
        "\u23a2    -\u03ba\u22c5q\u0307\u2081\u22c5cos(p\u2081) - q\u0307\u2081 + w\u2081     \u23a5\n",
        "\u23a2                                  \u23a5\n",
        "\u23a3\u03ba\u22c5q\u0307\u2081\u22c5(\u03ba\u22c5q\u0307\u2081\u22c5cos(p\u2081) - w\u2081)\u22c5sin(p\u2081)\u23a6"
       ]
      },
      {
       "output_type": "stream",
       "stream": "stdout",
       "text": [
        "---\n"
       ]
      },
      {
       "latex": [
        "g_z := $$\\left[\\begin{matrix}0\\\\1\\\\0\\\\0\\end{matrix}\\right]$$"
       ],
       "metadata": {},
       "output_type": "display_data",
       "png": "[encoded data removed]",
       "text": [
        "g_z := \u23a10\u23a4\n",
        "\u23a2 \u23a5\n",
        "\u23a21\u23a5\n",
        "\u23a2 \u23a5\n",
        "\u23a20\u23a5\n",
        "\u23a2 \u23a5\n",
        "\u23a30\u23a6"
       ]
      },
      {
       "output_type": "stream",
       "stream": "stdout",
       "text": [
        "---\n"
       ]
      }
     ],
     "prompt_number": 17
    },
    {
     "cell_type": "markdown",
     "metadata": {},
     "source": [
      "### Lokale Zug\u00e4nglichkeit pr\u00fcfen"
     ]
    },
    {
     "cell_type": "markdown",
     "metadata": {},
     "source": [
      "Distribution $\\Delta_\\text{z}$ bilden (aufgespannt von $\\mb f$ und $\\mb g$):"
     ]
    },
    {
     "cell_type": "code",
     "collapsed": false,
     "input": [
      "Delta_z = st.col_stack(ff, gg) ##"
     ],
     "language": "python",
     "metadata": {},
     "outputs": [
      {
       "latex": [
        "$$\\left[\\begin{matrix}\\dot{p}_{1} & 0\\\\\\dot{q}_{1} & 0\\\\- \\kappa \\dot{q}_{1}^{2} \\sin{\\left (p_{1} \\right )} & - \\kappa \\cos{\\left (p_{1} \\right )} - 1\\\\0 & 1\\end{matrix}\\right]$$"
       ],
       "metadata": {},
       "output_type": "display_data",
       "png": "[encoded data removed]",
       "text": [
        "\u23a1      p\u0307\u2081              0       \u23a4\n",
        "\u23a2                               \u23a5\n",
        "\u23a2      q\u0307\u2081              0       \u23a5\n",
        "\u23a2                               \u23a5\n",
        "\u23a2      2                        \u23a5\n",
        "\u23a2-\u03ba\u22c5q\u0307\u2081 \u22c5sin(p\u2081)  -\u03ba\u22c5cos(p\u2081) - 1\u23a5\n",
        "\u23a2                               \u23a5\n",
        "\u23a3       0               1       \u23a6"
       ]
      },
      {
       "output_type": "stream",
       "stream": "stdout",
       "text": [
        "---\n"
       ]
      }
     ],
     "prompt_number": 18
    },
    {
     "cell_type": "markdown",
     "metadata": {},
     "source": [
      "#### Schrittweise Involutiven Abschluss $c := \\operatorname{inv}(\\Delta_\\text{z})$ bilden:\n",
      "\u2192 sukzessive Lieklammern hinzuf\u00fcgen"
     ]
    },
    {
     "cell_type": "code",
     "collapsed": false,
     "input": [
      "lb_f1g = st.lie_bracket(ff, gg, xx) ##"
     ],
     "language": "python",
     "metadata": {},
     "outputs": [
      {
       "latex": [
        "$$\\left[\\begin{matrix}\\kappa \\cos{\\left (p_{1} \\right )} + 1\\\\-1\\\\\\kappa \\dot{p}_{1} \\sin{\\left (p_{1} \\right )} + 2 \\kappa \\dot{q}_{1} \\sin{\\left (p_{1} \\right )}\\\\0\\end{matrix}\\right]$$"
       ],
       "metadata": {},
       "output_type": "display_data",
       "png": "[encoded data removed]",
       "text": [
        "\u23a1         \u03ba\u22c5cos(p\u2081) + 1         \u23a4\n",
        "\u23a2                               \u23a5\n",
        "\u23a2              -1               \u23a5\n",
        "\u23a2                               \u23a5\n",
        "\u23a2\u03ba\u22c5p\u0307\u2081\u22c5sin(p\u2081) + 2\u22c5\u03ba\u22c5q\u0307\u2081\u22c5sin(p\u2081)\u23a5\n",
        "\u23a2                               \u23a5\n",
        "\u23a3               0               \u23a6"
       ]
      },
      {
       "output_type": "stream",
       "stream": "stdout",
       "text": [
        "---\n"
       ]
      }
     ],
     "prompt_number": 19
    },
    {
     "cell_type": "code",
     "collapsed": false,
     "input": [
      "D1 = st.col_stack(Delta_z, lb_f1g) ##\n",
      "st.involutivity_test(D1, xx)"
     ],
     "language": "python",
     "metadata": {},
     "outputs": [
      {
       "latex": [
        "$$\\left[\\begin{matrix}\\dot{p}_{1} & 0 & \\kappa \\cos{\\left (p_{1} \\right )} + 1\\\\\\dot{q}_{1} & 0 & -1\\\\- \\kappa \\dot{q}_{1}^{2} \\sin{\\left (p_{1} \\right )} & - \\kappa \\cos{\\left (p_{1} \\right )} - 1 & \\kappa \\dot{p}_{1} \\sin{\\left (p_{1} \\right )} + 2 \\kappa \\dot{q}_{1} \\sin{\\left (p_{1} \\right )}\\\\0 & 1 & 0\\end{matrix}\\right]$$"
       ],
       "metadata": {},
       "output_type": "display_data",
       "png": "[encoded data removed]",
       "text": [
        "\u23a1      p\u0307\u2081              0                  \u03ba\u22c5cos(p\u2081) + 1         \u23a4\n",
        "\u23a2                                                                \u23a5\n",
        "\u23a2      q\u0307\u2081              0                       -1               \u23a5\n",
        "\u23a2                                                                \u23a5\n",
        "\u23a2      2                                                         \u23a5\n",
        "\u23a2-\u03ba\u22c5q\u0307\u2081 \u22c5sin(p\u2081)  -\u03ba\u22c5cos(p\u2081) - 1  \u03ba\u22c5p\u0307\u2081\u22c5sin(p\u2081) + 2\u22c5\u03ba\u22c5q\u0307\u2081\u22c5sin(p\u2081)\u23a5\n",
        "\u23a2                                                                \u23a5\n",
        "\u23a3       0               1                        0               \u23a6"
       ]
      },
      {
       "output_type": "stream",
       "stream": "stdout",
       "text": [
        "---\n"
       ]
      },
      {
       "metadata": {},
       "output_type": "pyout",
       "prompt_number": 20,
       "text": [
        "(False, (0, 2))"
       ]
      }
     ],
     "prompt_number": 20
    },
    {
     "cell_type": "markdown",
     "metadata": {},
     "source": [
      "\u2192 Zwischenergebnis: $\\opspan(\\{\\mb f, \\mb g, [\\mb f, \\mb g]\\})$ ist nocht nicht involutiv. <br><br><br>"
     ]
    },
    {
     "cell_type": "code",
     "collapsed": false,
     "input": [
      "lb_g1f1g = st.lie_bracket(D1[:,1], D1[:,2], xx) ##\n",
      "lb_g1f1g.simplify()"
     ],
     "language": "python",
     "metadata": {},
     "outputs": [
      {
       "latex": [
        "$$\\left[\\begin{matrix}0\\\\0\\\\\\kappa \\left(- \\kappa \\cos{\\left (p_{1} \\right )} - 1\\right) \\sin{\\left (p_{1} \\right )} - \\kappa \\left(\\kappa \\cos{\\left (p_{1} \\right )} + 1\\right) \\sin{\\left (p_{1} \\right )} + 2 \\kappa \\sin{\\left (p_{1} \\right )}\\\\0\\end{matrix}\\right]$$"
       ],
       "metadata": {},
       "output_type": "display_data",
       "png": "[encoded data removed]",
       "text": [
        "\u23a1                                 0                                  \u23a4\n",
        "\u23a2                                                                    \u23a5\n",
        "\u23a2                                 0                                  \u23a5\n",
        "\u23a2                                                                    \u23a5\n",
        "\u23a2\u03ba\u22c5(-\u03ba\u22c5cos(p\u2081) - 1)\u22c5sin(p\u2081) - \u03ba\u22c5(\u03ba\u22c5cos(p\u2081) + 1)\u22c5sin(p\u2081) + 2\u22c5\u03ba\u22c5sin(p\u2081)\u23a5\n",
        "\u23a2                                                                    \u23a5\n",
        "\u23a3                                 0                                  \u23a6"
       ]
      },
      {
       "output_type": "stream",
       "stream": "stdout",
       "text": [
        "---\n"
       ]
      }
     ],
     "prompt_number": 21
    },
    {
     "cell_type": "code",
     "collapsed": false,
     "input": [
      "D2 = st.col_stack(D1, lb_g1f1g) ##\n",
      "st.involutivity_test(D2, xx)"
     ],
     "language": "python",
     "metadata": {},
     "outputs": [
      {
       "latex": [
        "$$\\left[\\begin{matrix}\\dot{p}_{1} & 0 & \\kappa \\cos{\\left (p_{1} \\right )} + 1 & 0\\\\\\dot{q}_{1} & 0 & -1 & 0\\\\- \\kappa \\dot{q}_{1}^{2} \\sin{\\left (p_{1} \\right )} & - \\kappa \\cos{\\left (p_{1} \\right )} - 1 & \\kappa \\dot{p}_{1} \\sin{\\left (p_{1} \\right )} + 2 \\kappa \\dot{q}_{1} \\sin{\\left (p_{1} \\right )} & - \\kappa^{2} \\sin{\\left (2 p_{1} \\right )}\\\\0 & 1 & 0 & 0\\end{matrix}\\right]$$"
       ],
       "metadata": {},
       "output_type": "display_data",
       "png": "[encoded data removed]",
       "text": [
        "\u23a1      p\u0307\u2081              0                  \u03ba\u22c5cos(p\u2081) + 1                 0    \n",
        "\u23a2                                                                             \n",
        "\u23a2      q\u0307\u2081              0                       -1                       0    \n",
        "\u23a2                                                                             \n",
        "\u23a2      2                                                             2        \n",
        "\u23a2-\u03ba\u22c5q\u0307\u2081 \u22c5sin(p\u2081)  -\u03ba\u22c5cos(p\u2081) - 1  \u03ba\u22c5p\u0307\u2081\u22c5sin(p\u2081) + 2\u22c5\u03ba\u22c5q\u0307\u2081\u22c5sin(p\u2081)  -\u03ba \u22c5sin(2\u22c5p\n",
        "\u23a2                                                                             \n",
        "\u23a3       0               1                        0                       0    \n",
        "\n",
        "  \u23a4\n",
        "  \u23a5\n",
        "  \u23a5\n",
        "  \u23a5\n",
        "  \u23a5\n",
        "\u2081)\u23a5\n",
        "  \u23a5\n",
        "  \u23a6"
       ]
      },
      {
       "output_type": "stream",
       "stream": "stdout",
       "text": [
        "---\n"
       ]
      },
      {
       "metadata": {},
       "output_type": "pyout",
       "prompt_number": 22,
       "text": [
        "(True, [])"
       ]
      }
     ],
     "prompt_number": 22
    },
    {
     "cell_type": "markdown",
     "metadata": {},
     "source": [
      "\u2192 $\\opspan(\\{\\mb f, \\mb g, [\\mb f, \\mb g], [\\mb g, [\\mb f, \\mb g]]\\})$ ist involutiv."
     ]
    },
    {
     "cell_type": "code",
     "collapsed": false,
     "input": [
      "Delta_Z = D2\n",
      "st.generic_rank(Delta_Z)"
     ],
     "language": "python",
     "metadata": {},
     "outputs": [
      {
       "latex": [
        "$$4$$"
       ],
       "metadata": {},
       "output_type": "pyout",
       "png": "[encoded data removed]",
       "prompt_number": 23,
       "text": [
        "4"
       ]
      }
     ],
     "prompt_number": 23
    },
    {
     "cell_type": "markdown",
     "metadata": {},
     "source": [
      "#### Fazit:\n",
      "Die Distribution $\\Delta_{\\text{Z}}$ hat also f\u00fcr einen generischen Zustand vollen Rang. Das System ist lokal zug\u00e4nglich.\n",
      "\n",
      "---"
     ]
    },
    {
     "cell_type": "code",
     "collapsed": false,
     "input": [
      "Delta_Z.det()"
     ],
     "language": "python",
     "metadata": {},
     "outputs": [
      {
       "latex": [
        "$$\\kappa^{3} \\dot{q}_{1} \\sin{\\left (2 p_{1} \\right )} \\cos{\\left (p_{1} \\right )} + \\kappa^{2} \\dot{p}_{1} \\sin{\\left (2 p_{1} \\right )} + \\kappa^{2} \\dot{q}_{1} \\sin{\\left (2 p_{1} \\right )}$$"
       ],
       "metadata": {},
       "output_type": "pyout",
       "png": "[encoded data removed]",
       "prompt_number": 24,
       "text": [
        " 3                          2                  2              \n",
        "\u03ba \u22c5q\u0307\u2081\u22c5sin(2\u22c5p\u2081)\u22c5cos(p\u2081) + \u03ba \u22c5p\u0307\u2081\u22c5sin(2\u22c5p\u2081) + \u03ba \u22c5q\u0307\u2081\u22c5sin(2\u22c5p\u2081)"
       ]
      }
     ],
     "prompt_number": 24
    },
    {
     "cell_type": "markdown",
     "metadata": {},
     "source": [
      "\n",
      "\n",
      "### Starke lokale Zug\u00e4nglichkeit pr\u00fcfen\n",
      "\n",
      "Aus $\\Delta_0 := \\opspan \\bs g_1$ schrittweise die Distribution $\\Delta_{\\text{sZ}}$ bilden:"
     ]
    },
    {
     "cell_type": "code",
     "collapsed": false,
     "input": [
      "D1 = st.col_stack(gg, lb_f1g)\n",
      "st.generic_rank(D1) ##"
     ],
     "language": "python",
     "metadata": {},
     "outputs": [
      {
       "latex": [
        "$$2$$"
       ],
       "metadata": {},
       "output_type": "display_data",
       "png": "[encoded data removed]",
       "text": [
        "2"
       ]
      },
      {
       "output_type": "stream",
       "stream": "stdout",
       "text": [
        "___\n"
       ]
      }
     ],
     "prompt_number": 25
    },
    {
     "cell_type": "code",
     "collapsed": false,
     "input": [
      "lb_f2g = st.lie_bracket(ff, D1[:, -1], xx) ##\n",
      "D2 = st.col_stack(D1, lb_f2g)\n",
      "st.generic_rank(D2) ##"
     ],
     "language": "python",
     "metadata": {},
     "outputs": [
      {
       "latex": [
        "$$\\left[\\begin{matrix}- 2 \\kappa \\dot{p}_{1} \\sin{\\left (p_{1} \\right )} - 2 \\kappa \\dot{q}_{1} \\sin{\\left (p_{1} \\right )}\\\\0\\\\- \\kappa^{2} \\dot{q}_{1}^{2} \\sin^{2}{\\left (p_{1} \\right )} + \\kappa \\dot{q}_{1}^{2} \\left(\\kappa \\cos{\\left (p_{1} \\right )} + 1\\right) \\cos{\\left (p_{1} \\right )} + \\dot{p}_{1} \\left(\\kappa \\dot{p}_{1} \\cos{\\left (p_{1} \\right )} + 2 \\kappa \\dot{q}_{1} \\cos{\\left (p_{1} \\right )}\\right)\\\\0\\end{matrix}\\right]$$"
       ],
       "metadata": {},
       "output_type": "display_data",
       "png": "[encoded data removed]",
       "text": [
        "\u23a1                            -2\u22c5\u03ba\u22c5p\u0307\u2081\u22c5sin(p\u2081) - 2\u22c5\u03ba\u22c5q\u0307\u2081\u22c5sin(p\u2081)               \n",
        "\u23a2                                                                             \n",
        "\u23a2                                             0                               \n",
        "\u23a2                                                                             \n",
        "\u23a2   2    2    2            2                                                  \n",
        "\u23a2- \u03ba \u22c5q\u0307\u2081 \u22c5sin (p\u2081) + \u03ba\u22c5q\u0307\u2081 \u22c5(\u03ba\u22c5cos(p\u2081) + 1)\u22c5cos(p\u2081) + p\u0307\u2081\u22c5(\u03ba\u22c5p\u0307\u2081\u22c5cos(p\u2081) + 2\u22c5\n",
        "\u23a2                                                                             \n",
        "\u23a3                                             0                               \n",
        "\n",
        "              \u23a4\n",
        "              \u23a5\n",
        "              \u23a5\n",
        "              \u23a5\n",
        "              \u23a5\n",
        "\u03ba\u22c5q\u0307\u2081\u22c5cos(p\u2081))\u23a5\n",
        "              \u23a5\n",
        "              \u23a6"
       ]
      },
      {
       "output_type": "stream",
       "stream": "stdout",
       "text": [
        "---\n"
       ]
      },
      {
       "latex": [
        "$$3$$"
       ],
       "metadata": {},
       "output_type": "display_data",
       "png": "[encoded data removed]",
       "text": [
        "3"
       ]
      },
      {
       "output_type": "stream",
       "stream": "stdout",
       "text": [
        "___\n"
       ]
      }
     ],
     "prompt_number": 26
    },
    {
     "cell_type": "code",
     "collapsed": false,
     "input": [
      "lb_f3g = st.lie_bracket(ff, D2[:, -1], xx) ##\n",
      "D3 = st.col_stack(D2, lb_f3g)\n",
      "st.generic_rank(D3) ##"
     ],
     "language": "python",
     "metadata": {},
     "outputs": [
      {
       "latex": [
        "$$\\left[\\begin{matrix}3 \\kappa^{2} \\dot{q}_{1}^{2} \\sin^{2}{\\left (p_{1} \\right )} - \\kappa \\dot{q}_{1}^{2} \\left(\\kappa \\cos{\\left (p_{1} \\right )} + 1\\right) \\cos{\\left (p_{1} \\right )} + \\dot{p}_{1} \\left(- 2 \\kappa \\dot{p}_{1} \\cos{\\left (p_{1} \\right )} - 2 \\kappa \\dot{q}_{1} \\cos{\\left (p_{1} \\right )}\\right) - \\dot{p}_{1} \\left(\\kappa \\dot{p}_{1} \\cos{\\left (p_{1} \\right )} + 2 \\kappa \\dot{q}_{1} \\cos{\\left (p_{1} \\right )}\\right)\\\\0\\\\\\kappa \\dot{q}_{1}^{2} \\left(- 2 \\kappa \\dot{p}_{1} \\sin{\\left (p_{1} \\right )} - 2 \\kappa \\dot{q}_{1} \\sin{\\left (p_{1} \\right )}\\right) \\cos{\\left (p_{1} \\right )} - \\kappa \\dot{q}_{1}^{2} \\left(2 \\kappa \\dot{p}_{1} \\cos{\\left (p_{1} \\right )} + 2 \\kappa \\dot{q}_{1} \\cos{\\left (p_{1} \\right )}\\right) \\sin{\\left (p_{1} \\right )} + \\dot{p}_{1} \\left(- 3 \\kappa^{2} \\dot{q}_{1}^{2} \\sin{\\left (p_{1} \\right )} \\cos{\\left (p_{1} \\right )} - \\kappa \\dot{q}_{1}^{2} \\left(\\kappa \\cos{\\left (p_{1} \\right )} + 1\\right) \\sin{\\left (p_{1} \\right )} + \\dot{p}_{1} \\left(- \\kappa \\dot{p}_{1} \\sin{\\left (p_{1} \\right )} - 2 \\kappa \\dot{q}_{1} \\sin{\\left (p_{1} \\right )}\\right)\\right)\\\\0\\end{matrix}\\right]$$"
       ],
       "metadata": {},
       "output_type": "display_data",
       "png": "[encoded data removed]",
       "text": [
        "\u23a1                                           2    2    2            2          \n",
        "\u23a2                                        3\u22c5\u03ba \u22c5q\u0307\u2081 \u22c5sin (p\u2081) - \u03ba\u22c5q\u0307\u2081 \u22c5(\u03ba\u22c5cos(p\u2081\n",
        "\u23a2                                                                             \n",
        "\u23a2                                                                             \n",
        "\u23a2                                                                             \n",
        "\u23a2     2                                                     2                 \n",
        "\u23a2\u03ba\u22c5q\u0307\u2081 \u22c5(-2\u22c5\u03ba\u22c5p\u0307\u2081\u22c5sin(p\u2081) - 2\u22c5\u03ba\u22c5q\u0307\u2081\u22c5sin(p\u2081))\u22c5cos(p\u2081) - \u03ba\u22c5q\u0307\u2081 \u22c5(2\u22c5\u03ba\u22c5p\u0307\u2081\u22c5cos(p\u2081)\n",
        "\u23a2                                                                             \n",
        "\u23a3                                                                             \n",
        "\n",
        "                                                                              \n",
        ") + 1)\u22c5cos(p\u2081) + p\u0307\u2081\u22c5(-2\u22c5\u03ba\u22c5p\u0307\u2081\u22c5cos(p\u2081) - 2\u22c5\u03ba\u22c5q\u0307\u2081\u22c5cos(p\u2081)) - p\u0307\u2081\u22c5(\u03ba\u22c5p\u0307\u2081\u22c5cos(p\u2081)\n",
        "                                                                              \n",
        "                             0                                                \n",
        "                                                                              \n",
        "                                  \u239b     2    2                        2       \n",
        " + 2\u22c5\u03ba\u22c5q\u0307\u2081\u22c5cos(p\u2081))\u22c5sin(p\u2081) + p\u0307\u2081\u22c5\u239d- 3\u22c5\u03ba \u22c5q\u0307\u2081 \u22c5sin(p\u2081)\u22c5cos(p\u2081) - \u03ba\u22c5q\u0307\u2081 \u22c5(\u03ba\u22c5cos\n",
        "                                                                              \n",
        "                             0                                                \n",
        "\n",
        "                                                           \u23a4\n",
        " + 2\u22c5\u03ba\u22c5q\u0307\u2081\u22c5cos(p\u2081))                                        \u23a5\n",
        "                                                           \u23a5\n",
        "                                                           \u23a5\n",
        "                                                           \u23a5\n",
        "                                                          \u239e\u23a5\n",
        "(p\u2081) + 1)\u22c5sin(p\u2081) + p\u0307\u2081\u22c5(-\u03ba\u22c5p\u0307\u2081\u22c5sin(p\u2081) - 2\u22c5\u03ba\u22c5q\u0307\u2081\u22c5sin(p\u2081))\u23a0\u23a5\n",
        "                                                           \u23a5\n",
        "                                                           \u23a6"
       ]
      },
      {
       "output_type": "stream",
       "stream": "stdout",
       "text": [
        "---\n"
       ]
      },
      {
       "latex": [
        "$$4$$"
       ],
       "metadata": {},
       "output_type": "display_data",
       "png": "[encoded data removed]",
       "text": [
        "4"
       ]
      },
      {
       "output_type": "stream",
       "stream": "stdout",
       "text": [
        "___\n"
       ]
      }
     ],
     "prompt_number": 27
    },
    {
     "cell_type": "markdown",
     "metadata": {},
     "source": [
      "Durch Hinzunahme (bezogen auf die lineare H\u00fclle) der Vektorfelder $[\\mb f, \\mb g], [\\mb f, [\\mb f, \\mb g]]$ und $[\\mb f, [\\mb f, [\\mb f, \\mb g]]]$ zu $\\Delta_0$ erh\u00e4lt man $\\Delta_{\\text{sZ}}$ mit $\\dim \\Delta_{\\text{sZ}}= 4 = n$ (f\u00fcr einen generischen Zustand).\n",
      "Weniger VF hinzuzunehmen h\u00e4tte nicht ausgereicht, weil der Rang mit jedem Schritt gr\u00f6\u00dfer wurde. Weil die Matrix `D3` vollen Zeilenrang hat, ist die Bedingung (b) aus dem Satz \u00fcber starke lokale Zug\u00e4nglichkeit automatisch erf\u00fcllt.\n"
     ]
    },
    {
     "cell_type": "code",
     "collapsed": false,
     "input": [
      "Delta_sZ = D3"
     ],
     "language": "python",
     "metadata": {},
     "outputs": [],
     "prompt_number": 28
    },
    {
     "cell_type": "markdown",
     "metadata": {},
     "source": [
      "\n",
      "#### Fazit: Das System ist lokal stark zug\u00e4nglich."
     ]
    }
   ],
   "metadata": {}
  }
 ]
}