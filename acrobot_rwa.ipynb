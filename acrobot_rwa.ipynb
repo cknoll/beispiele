{
 "cells": [
  {
   "cell_type": "code",
   "execution_count": 1,
   "metadata": {
    "collapsed": false
   },
   "outputs": [
    {
     "name": "stdout",
     "output_type": "stream",
     "text": [
      "Mon Jun  6 02:02:54 2016\n"
     ]
    }
   ],
   "source": [
    "import time\n",
    "print time.ctime()"
   ]
  },
  {
   "cell_type": "markdown",
   "metadata": {},
   "source": [
    "<sub>Bei diesem IPython-Notebook handelt es sich um eine Beispiel-Rechnung als Ergänzung zur Dissertationsschrift von C. Knoll. Allgemeine Hinweise zu den Beispielen sind in der [readme.md-Datei des entsprechenden Repositoriums](https://github.com/cknoll/beispiele/blob/master/readme.md) zu finden.</sub>\n",
    "\n",
    "---"
   ]
  },
  {
   "cell_type": "markdown",
   "metadata": {},
   "source": [
    "**Betrachtetes System**: Acrobot (=unteraktuierter Zweigelenkmanipulator, Stellglied im Ellenbogengelenk).<br>\n",
    "\n",
    "<img src=\"files/images/acrobot_def.png\">\n",
    "\n",
    "**Betrachtete Aspekte**:\n",
    "\n",
    "* Herleitung der Modellgleichungen in partiell linearisierter Form\n",
    "\n",
    "* Bestimmung von Trajektorien durch Lösung einer Randwertaufgabe\n",
    "  * Vergleich: Mit und ohne Berücksichtigung der Integratorketten\n",
    "\n",
    "\n",
    "[//]: # (custom_config_start)\n",
    "$$\n",
    "\\newcommand{\\col}{\\mathrm{col}}\n",
    "\\newcommand{\\opspan}{\\operatorname{span}}\n",
    "\\newcommand{\\bs}{\\boldsymbol}\n",
    "\\newcommand{\\mb}{\\mathbf}\n",
    "\\newcommand{\\nx}{n_{\\boldsymbol x}}\n",
    "\\newcommand{\\Ddt}{\\left(\\tfrac{d}{dt}\\right)}\n",
    "$$\n",
    "[//]: # (custom_config_end)\n"
   ]
  },
  {
   "cell_type": "code",
   "execution_count": 2,
   "metadata": {
    "collapsed": false
   },
   "outputs": [],
   "source": [
    "%load_ext displaytools\n",
    "import sympy as sp\n",
    "from sympy import sin, cos, pi, simplify\n",
    "from sympy.interactive import printing\n",
    "import pickle\n",
    "\n",
    "import matplotlib.pyplot as pl\n",
    "%matplotlib inline\n",
    "\n",
    "import symbtools as st\n",
    "import symbtools.modeltools as mt\n",
    "import pycartan as pc\n",
    "\n",
    "printing.init_printing(1)"
   ]
  },
  {
   "cell_type": "code",
   "execution_count": 3,
   "metadata": {
    "collapsed": false
   },
   "outputs": [
    {
     "data": {
      "image/png": "[encoded data removed]",
      "text/latex": [
       "$$\\left[\\begin{matrix}p_{1}\\\\q_{1}\\end{matrix}\\right]$$"
      ],
      "text/plain": [
       "⎡p₁⎤\n",
       "⎢  ⎥\n",
       "⎣q₁⎦"
      ]
     },
     "metadata": {},
     "output_type": "display_data"
    },
    {
     "name": "stdout",
     "output_type": "stream",
     "text": [
      "---\n"
     ]
    },
    {
     "data": {
      "image/png": "[encoded data removed]",
      "text/latex": [
       "$$\\left[\\begin{matrix}\\dot{p}_{1}\\\\\\dot{q}_{1}\\end{matrix}\\right]$$"
      ],
      "text/plain": [
       "⎡ṗ₁⎤\n",
       "⎢   ⎥\n",
       "⎣q̇₁⎦"
      ]
     },
     "metadata": {},
     "output_type": "display_data"
    },
    {
     "name": "stdout",
     "output_type": "stream",
     "text": [
      "---\n"
     ]
    },
    {
     "data": {
      "image/png": "[encoded data removed]",
      "text/latex": [
       "$$\\left[\\begin{matrix}\\ddot{p}_{1}\\\\\\ddot{q}_{1}\\end{matrix}\\right]$$"
      ],
      "text/plain": [
       "⎡p̈₁⎤\n",
       "⎢   ⎥\n",
       "⎣q̈₁⎦"
      ]
     },
     "metadata": {},
     "output_type": "display_data"
    },
    {
     "name": "stdout",
     "output_type": "stream",
     "text": [
      "---\n"
     ]
    }
   ],
   "source": [
    "t = sp.Symbol('t')\n",
    "np = 1\n",
    "nq = 1\n",
    "n = np + nq\n",
    "pp = st.symb_vector(\"p1:{0}\".format(np+1))\n",
    "qq = st.symb_vector(\"q1:{0}\".format(nq+1))\n",
    "\n",
    "\n",
    "aa = st.symb_vector(\"a1:{0}\".format(nq+1))\n",
    "\n",
    "ttheta = st.row_stack(pp, qq) ##\n",
    "tthetad = st.time_deriv(ttheta, ttheta) ##\n",
    "tthetadd = st.time_deriv(ttheta, ttheta, order=2) ##\n",
    "st.make_global(ttheta, tthetad)"
   ]
  },
  {
   "cell_type": "code",
   "execution_count": 4,
   "metadata": {
    "collapsed": false
   },
   "outputs": [],
   "source": [
    "params = sp.symbols('s1, s2, m1, m2, J1, J2, l1, g, kappa1, kappa2, kappa3, kappa4, kappa5, k')\n",
    "st.make_global(params)\n",
    "\n",
    "tau1, tau2 = QQ = st.symb_vector(\"tau1, tau2\")"
   ]
  },
  {
   "cell_type": "markdown",
   "metadata": {},
   "source": [
    "### Festlegung der Geometrie des mechanischen Systemes"
   ]
  },
  {
   "cell_type": "code",
   "execution_count": 5,
   "metadata": {
    "collapsed": false
   },
   "outputs": [
    {
     "data": {
      "image/png": "[encoded data removed]",
      "text/latex": [
       "$$\\left[\\begin{matrix}\\cos{\\left (q_{1} \\right )} & - \\sin{\\left (q_{1} \\right )}\\\\\\sin{\\left (q_{1} \\right )} & \\cos{\\left (q_{1} \\right )}\\end{matrix}\\right]$$"
      ],
      "text/plain": [
       "⎡cos(q₁)  -sin(q₁)⎤\n",
       "⎢                 ⎥\n",
       "⎣sin(q₁)  cos(q₁) ⎦"
      ]
     },
     "execution_count": 5,
     "metadata": {},
     "output_type": "execute_result"
    }
   ],
   "source": [
    "mt.Rz(q1) # Rotationsmatrix"
   ]
  },
  {
   "cell_type": "code",
   "execution_count": 6,
   "metadata": {
    "collapsed": false
   },
   "outputs": [
    {
     "data": {
      "image/png": "[encoded data removed]",
      "text/latex": [
       "$$\\left[\\begin{matrix}- \\dot{p}_{1} s_{1} \\sin{\\left (p_{1} \\right )}\\\\\\dot{p}_{1} s_{1} \\cos{\\left (p_{1} \\right )}\\end{matrix}\\right]$$"
      ],
      "text/plain": [
       "⎡-ṗ₁⋅s₁⋅sin(p₁)⎤\n",
       "⎢               ⎥\n",
       "⎣ṗ₁⋅s₁⋅cos(p₁) ⎦"
      ]
     },
     "metadata": {},
     "output_type": "display_data"
    },
    {
     "data": {
      "image/png": "[encoded data removed]",
      "text/latex": [
       "$$\\left[\\begin{matrix}- l_{1} \\dot{p}_{1} \\sin{\\left (p_{1} \\right )} - s_{2} \\left(\\dot{p}_{1} + \\dot{q}_{1}\\right) \\sin{\\left (p_{1} + q_{1} \\right )}\\\\l_{1} \\dot{p}_{1} \\cos{\\left (p_{1} \\right )} + s_{2} \\left(\\dot{p}_{1} + \\dot{q}_{1}\\right) \\cos{\\left (p_{1} + q_{1} \\right )}\\end{matrix}\\right]$$"
      ],
      "text/plain": [
       "⎡-l₁⋅ṗ₁⋅sin(p₁) - s₂⋅(ṗ₁ + q̇₁)⋅sin(p₁ + q₁)⎤\n",
       "⎢                                             ⎥\n",
       "⎣l₁⋅ṗ₁⋅cos(p₁) + s₂⋅(ṗ₁ + q̇₁)⋅cos(p₁ + q₁) ⎦"
      ]
     },
     "metadata": {},
     "output_type": "display_data"
    },
    {
     "name": "stdout",
     "output_type": "stream",
     "text": [
      "---\n"
     ]
    }
   ],
   "source": [
    "#Einheitsvektoren\n",
    "\n",
    "ex = sp.Matrix([1, 0])\n",
    "ey = sp.Matrix([0, 1])\n",
    "\n",
    "# Koordinaten der Schwerpunkte und Gelenke\n",
    "S1 = mt.Rz(p1)*ex*s1\n",
    "G1 = mt.Rz(p1)*ex*l1 # \"Elllenbogengelenk\"\n",
    "S2 = G1 + mt.Rz(q1 + p1)*ex*s2\n",
    "\n",
    "\n",
    "# Zeitableitungen der Schwerpunktskoordinaten\n",
    "Sd1, Sd2 = st.col_split(st.time_deriv(st.col_stack(S1, S2), ttheta)) ##"
   ]
  },
  {
   "cell_type": "code",
   "execution_count": 7,
   "metadata": {
    "collapsed": false
   },
   "outputs": [
    {
     "data": {
      "image/png": "[encoded data removed]",
      "text/latex": [
       "T := $$\\frac{J_{1} \\dot{p}_{1}^{2}}{2} + \\frac{J_{2}}{2} \\left(\\dot{p}_{1} + \\dot{q}_{1}\\right)^{2} + \\frac{m_{1} \\dot{p}_{1}^{2}}{2} s_{1}^{2} \\sin^{2}{\\left (p_{1} \\right )} + \\frac{m_{1} \\dot{p}_{1}^{2}}{2} s_{1}^{2} \\cos^{2}{\\left (p_{1} \\right )} + \\frac{m_{2}}{2} \\left(- l_{1} \\dot{p}_{1} \\sin{\\left (p_{1} \\right )} - s_{2} \\left(\\dot{p}_{1} + \\dot{q}_{1}\\right) \\sin{\\left (p_{1} + q_{1} \\right )}\\right)^{2} + \\frac{m_{2}}{2} \\left(l_{1} \\dot{p}_{1} \\cos{\\left (p_{1} \\right )} + s_{2} \\left(\\dot{p}_{1} + \\dot{q}_{1}\\right) \\cos{\\left (p_{1} + q_{1} \\right )}\\right)^{2}$$"
      ],
      "text/plain": [
       "T :=       2                 2         2   2    2             2   2    2           \n",
       "J₁⋅ṗ₁    J₂⋅(ṗ₁ + q̇₁)    m₁⋅ṗ₁ ⋅s₁ ⋅sin (p₁)   m₁⋅ṗ₁ ⋅s₁ ⋅cos (p₁)   m₂⋅(\n",
       "─────── + ─────────────── + ──────────────────── + ──────────────────── + ────\n",
       "   2             2                   2                      2                 \n",
       "\n",
       "                                              2                               \n",
       "-l₁⋅ṗ₁⋅sin(p₁) - s₂⋅(ṗ₁ + q̇₁)⋅sin(p₁ + q₁))    m₂⋅(l₁⋅ṗ₁⋅cos(p₁) + s₂⋅(ṗ₁\n",
       "─────────────────────────────────────────────── + ────────────────────────────\n",
       "                     2                                                    2   \n",
       "\n",
       "                     2\n",
       " + q̇₁)⋅cos(p₁ + q₁)) \n",
       "──────────────────────\n",
       "                      "
      ]
     },
     "metadata": {},
     "output_type": "display_data"
    },
    {
     "name": "stdout",
     "output_type": "stream",
     "text": [
      "---\n"
     ]
    },
    {
     "data": {
      "image/png": "[encoded data removed]",
      "text/latex": [
       "V := $$g m_{1} s_{1} \\sin{\\left (p_{1} \\right )} + g m_{2} \\left(l_{1} \\sin{\\left (p_{1} \\right )} + s_{2} \\sin{\\left (p_{1} + q_{1} \\right )}\\right)$$"
      ],
      "text/plain": [
       "V := g⋅m₁⋅s₁⋅sin(p₁) + g⋅m₂⋅(l₁⋅sin(p₁) + s₂⋅sin(p₁ + q₁))"
      ]
     },
     "metadata": {},
     "output_type": "display_data"
    },
    {
     "name": "stdout",
     "output_type": "stream",
     "text": [
      "---\n"
     ]
    }
   ],
   "source": [
    "# Kinetische Energie\n",
    "\n",
    "T_rot = (J1*pdot1**2)/2 + (J2*(qdot1 + pdot1)**2)/2\n",
    "T_trans = ( m1*Sd1.T*Sd1  +  m2*Sd2.T*Sd2 )/2\n",
    "\n",
    "T = T_rot + T_trans[0] ##:\n",
    "\n",
    "# Potentielle Energie\n",
    "V = m1*g*S1[1] + m2*g*S2[1] ##:"
   ]
  },
  {
   "cell_type": "code",
   "execution_count": 8,
   "metadata": {
    "collapsed": false
   },
   "outputs": [],
   "source": [
    "external_forces = [0, tau1]\n",
    "assert not any(external_forces[:np])\n",
    "mod = mt.generate_symbolic_model(T, V, ttheta, external_forces)\n",
    "mod.eqns.simplify()"
   ]
  },
  {
   "cell_type": "code",
   "execution_count": 9,
   "metadata": {
    "collapsed": false
   },
   "outputs": [
    {
     "data": {
      "image/png": "[encoded data removed]",
      "text/latex": [
       "$$\\left[\\begin{matrix}J_{1} + J_{2} + l_{1}^{2} m_{2} + 2 l_{1} m_{2} s_{2} \\cos{\\left (q_{1} \\right )} + m_{1} s_{1}^{2} + m_{2} s_{2}^{2} & J_{2} + l_{1} m_{2} s_{2} \\cos{\\left (q_{1} \\right )} + m_{2} s_{2}^{2}\\\\J_{2} + l_{1} m_{2} s_{2} \\cos{\\left (q_{1} \\right )} + m_{2} s_{2}^{2} & J_{2} + m_{2} s_{2}^{2}\\end{matrix}\\right]$$"
      ],
      "text/plain": [
       "⎡            2                                2        2                      \n",
       "⎢J₁ + J₂ + l₁ ⋅m₂ + 2⋅l₁⋅m₂⋅s₂⋅cos(q₁) + m₁⋅s₁  + m₂⋅s₂   J₂ + l₁⋅m₂⋅s₂⋅cos(q₁\n",
       "⎢                                                                             \n",
       "⎢                                         2                                  2\n",
       "⎣            J₂ + l₁⋅m₂⋅s₂⋅cos(q₁) + m₂⋅s₂                         J₂ + m₂⋅s₂ \n",
       "\n",
       "         2⎤\n",
       ") + m₂⋅s₂ ⎥\n",
       "          ⎥\n",
       "          ⎥\n",
       "          ⎦"
      ]
     },
     "execution_count": 9,
     "metadata": {},
     "output_type": "execute_result"
    }
   ],
   "source": [
    "# Massenmatrix\n",
    "mod.MM"
   ]
  },
  {
   "cell_type": "code",
   "execution_count": 10,
   "metadata": {
    "collapsed": false
   },
   "outputs": [],
   "source": [
    "mod.calc_coll_part_lin_state_eq(simplify=True)\n"
   ]
  },
  {
   "cell_type": "markdown",
   "metadata": {},
   "source": [
    "### Bestimmung von Trajektorien durch Lösung einer Randwertaufgabe\n"
   ]
  },
  {
   "cell_type": "code",
   "execution_count": 11,
   "metadata": {
    "collapsed": false
   },
   "outputs": [],
   "source": [
    "parameter_values = [(J1, 1.0/6*m1*l1**2), (J2, 1.0/3*m1*l1**2), (l1, .5), (s1, .25), (s2, .25), (m1, 1), (m2, 1), (g, 9.81)]\n",
    "\n",
    "xx_aa = st.row_stack(mod.xx, mod.aa)\n",
    "\n",
    "vector_field = (mod.ff + mod.gg*mod.aa).subs(parameter_values)\n",
    "vf_intern = st.expr_to_func(xx_aa, vector_field, modules='sympy', eltw_vectorize=False, list_wrapper=True)\n",
    "\n",
    "def vf(x, u):\n",
    "    xu = list(x) + list(u)\n",
    "    return vf_intern(*xu)"
   ]
  },
  {
   "cell_type": "code",
   "execution_count": 12,
   "metadata": {
    "collapsed": false
   },
   "outputs": [],
   "source": [
    "import pytrajectory\n",
    "\n",
    "pytrajectory.log.logger.setLevel(20)\n",
    "\n",
    "# im IPython-Notebook ist stderr-Ausgabe störend. Abschalten:\n",
    "pytrajectory.logging.root.handlers = [h for h in pytrajectory.logging.root.handlers if not h.stream.name == u'stderr']\n",
    "\n",
    "\n",
    "# In[24]:\n",
    "\n",
    "# Randbedingungen:\n",
    "T0 = 0.0\n",
    "pi = st.np.pi\n",
    "xx_start = [3*pi/2, 0, 0, 0]\n",
    "\n",
    "T_end = 2.0\n",
    "xx_end = [pi/2, 0, 0, 0]\n",
    "\n",
    "aa_start = [0.0]*1\n",
    "aa_end = [0.0]*1\n",
    "\n",
    "\n",
    "pytrajectory.log.logger.setLevel(30)\n",
    "\n",
    "\n",
    "results_chains = []\n",
    "results_no_chains = []\n",
    "\n",
    "\n",
    "N = 100\n",
    "#  Das iterierte Lösen der RWA für unterschiendliche Startschätzungen dauert ziemlich lange\n",
    "# -> Daten zur Anzeige aus Datei laden\n",
    "pfname = \"data/chain_compare_acrobot%i.pcl\" % N\n",
    "\n",
    "if 0:\n",
    "    for i in range(1):\n",
    "        print i, \"------\"\n",
    "        first_guess = {'seed' : i}\n",
    "        S_chains = pytrajectory.ControlSystem(vf, T0, T_end, xx_start, xx_end, aa_start, aa_end, use_chains=True, first_guess=first_guess, ierr=None, maxIt=5)\n",
    "        S_chains.solve()\n",
    "        nA = S_chains.eqs.trajectories.n_parts_x\n",
    "        res = (S_chains.reached_accuracy, nA, S_chains.T_sol)\n",
    "        results_chains.append(res)\n",
    "        print res\n",
    "        del S_chains\n",
    "\n",
    "\n",
    "        S_no_chains = pytrajectory.ControlSystem(vf, T0, T_end, xx_start, xx_end, aa_start, aa_end, use_chains=False, first_guess=first_guess, ierr=None, maxIt=5)\n",
    "        S_no_chains.solve()\n",
    "        nA = S_no_chains.eqs.trajectories.n_parts_x\n",
    "        res = (S_no_chains.reached_accuracy, nA, S_no_chains.T_sol)\n",
    "        results_no_chains.append(res)\n",
    "        print res\n",
    "        del S_no_chains\n",
    "\n",
    "        print \"\\n\"\n",
    "\n",
    "    C = st.Container()\n",
    "    C.results_chains = results_chains\n",
    "    C.results_no_chains = results_no_chains\n",
    "\n",
    "\n",
    "    with open(pfname, 'w') as pfile:\n",
    "        pickle.dump(C, pfile)\n",
    "else:\n",
    "    with open(pfname) as pfile:\n",
    "        C = pickle.load(pfile)\n",
    "    "
   ]
  },
  {
   "cell_type": "code",
   "execution_count": 13,
   "metadata": {
    "collapsed": false
   },
   "outputs": [],
   "source": [
    "#C.results_chains \n",
    "#C.results_no_chains "
   ]
  },
  {
   "cell_type": "markdown",
   "metadata": {},
   "source": [
    "### Grafische Darstellung der Ergebnisse"
   ]
  },
  {
   "cell_type": "code",
   "execution_count": 14,
   "metadata": {
    "collapsed": false
   },
   "outputs": [
    {
     "name": "stdout",
     "output_type": "stream",
     "text": [
      "[0 1 2 3 4]\n"
     ]
    },
    {
     "data": {
      "image/png": "[encoded data removed]",
      "text/plain": [
       "<matplotlib.figure.Figure at 0xc1aed0c>"
      ]
     },
     "metadata": {},
     "output_type": "display_data"
    }
   ],
   "source": [
    "mm = 1./25.4 #mm to inch\n",
    "scale = 1.5\n",
    "fs = [78*mm*scale*2, 60*mm*scale*.8]\n",
    "\n",
    "color_list = ['#5778d5', '#2aa42a', '#d45656', '#000000']\n",
    "\n",
    "pl.rc('text', usetex=True)\n",
    "\n",
    "np = st.np\n",
    "\n",
    "\n",
    "\n",
    "\n",
    "L = len(C.results_chains)\n",
    "assert L == len(C.results_no_chains)\n",
    "\n",
    "def unpack(tuplist):\n",
    "    \n",
    "    res_dict = {20: [], 40: [], 80:[], 160:[], 1000:[]}\n",
    "    \n",
    "    for acc, nA, T in tuplist:\n",
    "        if not acc:\n",
    "            res_dict[1000].append(T)\n",
    "        else:\n",
    "            res_dict[nA].append(T)\n",
    "    \n",
    "    times_list = []\n",
    "    avg_list = []\n",
    "    for key, times in sorted(res_dict.items()):\n",
    "        times_list.append(len(times))\n",
    "        if len(times) ==0:\n",
    "            avg_list.append(0)\n",
    "        else:\n",
    "            avg_list.append(np.average(times))\n",
    "            \n",
    "        \n",
    "    \n",
    "    return times_list, avg_list\n",
    "\n",
    "times_c, avg_c = unpack(C.results_chains)\n",
    "times_nc, avg_nc = unpack(C.results_no_chains)\n",
    "\n",
    "T_fin = 6\n",
    "y_label_X = -.16\n",
    "\n",
    "if 1:\n",
    "    \n",
    "    egal, (ax1, ax2) = pl.subplots(1, 2, figsize=fs)\n",
    "    \n",
    "    ax = ax1\n",
    "    \n",
    "    #IPS()\n",
    "    xx = np.arange(len(times_c)) \n",
    "    width = 0.8\n",
    "    ax.bar(xx, times_c, width, color=color_list[0])\n",
    "    \n",
    "    yticks = np.r_[25, 50, 75, 100]\n",
    "    ax.set_yticks(yticks)\n",
    "    ax.set_xticklabels(yticks)\n",
    "    \n",
    "    ax.set_xticks(np.r_[0, 1, 2, 3, 4] + .375)\n",
    "    #ax.set_xticklabels([20, 40, 80, 160, r'X'], size=10, weight=100)\n",
    "    ax.set_xticklabels([ \"$%s$\" % k for k in  [20, 40, 80, 160, r'\\mathrm{X}']], size=10, weight=10)\n",
    "    \n",
    "    ax.set_ylabel(r'Anteil in \\%')\n",
    "    ax.set_xlabel(r'$n_\\mathrm{A}$')\n",
    "    \n",
    "    tcl = text_color_list = ['#000000', '#d45656', '#000000', '#000000', '#000000']\n",
    "    \n",
    "    # hintergrund für kontrast  \n",
    "    print xx\n",
    "    ax.bar(xx[1:2], 30, width, bottom=40, color='white', alpha=.4)\n",
    "    \n",
    "    for i in range(len(times_c)):\n",
    "        ax.text(i+.1, 50, \"%i\" % times_c[i] + r\"\\%\", size=9)\n",
    "    \n",
    "    hT = 115\n",
    "    hTt = 138\n",
    "    xTt = 0\n",
    "    \n",
    "    ax.set_title(r\"Mit Integratorkettenber\\\"{u}cksichtigung\", size=9)\n",
    "    #ax.text(-.2, 140, r\"Mit Integratorkettenber\\\"{u}cksichtigung\", size=9)\n",
    "    ax.text(xTt, hTt, r\"\\O ~ Rechenzeit:\", size=9)\n",
    "    for i in range(len(times_c)):\n",
    "        if np.isnan(avg_c[i]):\n",
    "            continue\n",
    "        ax.text(i+.2, hT, \"%3.0fs\" % avg_c[i], size=9)\n",
    "    \n",
    "    \n",
    "    ax.axis([-.3, 5.2, -1, 165])\n",
    "    \n",
    "if 1:    \n",
    "    ax = ax2\n",
    "    \n",
    "    #IPS()\n",
    "    ax.bar(xx, times_nc, width, color=color_list[0])\n",
    "    \n",
    "    ax.set_yticks(np.r_[25, 50, 75, 100])\n",
    "    ax.set_xticks(np.r_[0, 1, 2, 3, 4] + .375)\n",
    "    ax.set_xticklabels([ \"$%s$\" % k for k in  [20, 40, 80, 160, r'\\mathrm{X}']])#, size=10, weight=10)\n",
    "    \n",
    "    \n",
    "    #IPS()\n",
    "    for i in range(len(times_nc)):\n",
    "        ax.text(i+.1, 50, \"%i\" % times_nc[i] + r\"\\%\", size=9)\n",
    "    \n",
    "    ax.set_title(r\"Ohne Integratorkettenber\\\"{u}cksichtigung\", size=9)\n",
    "    #ax.text(-.2, 140, r\"Ohne Integratorkettenber\\\"{u}cksichtigung\", size=9)\n",
    "    ax.text(xTt, hTt, r\"\\O ~ Rechenzeit:\", size=9)\n",
    "    for i in range(len(times_nc)):\n",
    "        if np.isnan(avg_nc[i]):\n",
    "            continue\n",
    "        ax.text(i+.2, hT, \"%3.0fs\" % avg_nc[i], size=9)\n",
    "        ax.set_xlabel(r'$n_\\mathrm{A}$')\n",
    "    \n",
    "    \n",
    "    ax.axis([-.3, 5.2, -1, 165])"
   ]
  }
 ],
 "metadata": {
  "kernelspec": {
   "display_name": "Python 3",
   "language": "python",
   "name": "python3"
  },
  "language_info": {
   "codemirror_mode": {
    "name": "ipython",
    "version": 3
   },
   "file_extension": ".py",
   "mimetype": "text/x-python",
   "name": "python",
   "nbconvert_exporter": "python",
   "pygments_lexer": "ipython3",
   "version": "3.4.2"
  }
 },
 "nbformat": 4,
 "nbformat_minor": 0
}
