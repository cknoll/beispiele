{
 "metadata": {
  "name": "",
  "signature": "sha256:bb34305f89a8d95e134c99fa343c5aaaaa50c45da520459147c1bf11e7540ce2"
 },
 "nbformat": 3,
 "nbformat_minor": 0,
 "worksheets": [
  {
   "cells": [
    {
     "cell_type": "code",
     "collapsed": false,
     "input": [
      "import time\n",
      "print time.ctime()\n"
     ],
     "language": "python",
     "metadata": {},
     "outputs": [
      {
       "output_type": "stream",
       "stream": "stdout",
       "text": [
        "Mon Jun  6 13:37:09 2016\n"
       ]
      }
     ],
     "prompt_number": 1
    },
    {
     "cell_type": "markdown",
     "metadata": {},
     "source": [
      "<sub>Bei diesem IPython-Notebook handelt es sich um eine Beispiel-Rechnung als Erg\u00e4nzung zur Dissertationsschrift von C. Knoll. Allgemeine Hinweise zu den Beispielen sind in der [readme.md-Datei des entsprechenden Repositoriums](https://github.com/cknoll/beispiele/blob/master/readme.md) zu finden.</sub>\n",
      "\n",
      "---"
     ]
    },
    {
     "cell_type": "markdown",
     "metadata": {},
     "source": [
      "**Betrachtetes System:** Planar verschiebliches Pendel (K$_1$ und K$_2$) mit elastisch angekoppelter Zusatzmasse K$_3$.\n",
      "\n",
      "<img src=\"files/images/planar_verschieb_pendel_elast_masse.png\">\n",
      "\n",
      "\n",
      "\n",
      "**Betrachtete Aspekte**\n",
      "* Aufstellen der Bewegungsgleichungen\n",
      "* Aufstellen des Tangentialsystems\n",
      "* Angabe einer unimodularen Erg\u00e4nzung der Systemmatrix \n",
      "* Untersuchung der notwendigen Integrabilit\u00e4tsbedingung\n",
      "  * Bestimmung der Anzahl der Koeffizienten in den Differentialformen $\\Xi_{i, k}$\n",
      "  * Auswertung von $\\Xi_{i,k}$ bis f\u00fcr $k=0,1,2$\n",
      "\n",
      "[//]: # (custom_config_start)\n",
      "$$\n",
      "\\newcommand{\\d}{\\mathrm{d}}\n",
      "\\newcommand{\\col}{\\mathrm{col}}\n",
      "\\newcommand{\\bs}{\\boldsymbol}\n",
      "\\newcommand{\\Ddt}{\\left(\\tfrac{d}{dt}\\right)}\n",
      "\\newcommand{\\ddt}{\\tfrac{d}{dt}}\n",
      "$$\n",
      "[//]: # (custom_config_end)"
     ]
    },
    {
     "cell_type": "code",
     "collapsed": false,
     "input": [
      "%load_ext displaytools\n",
      "\n",
      "import sympy as sp\n",
      "from sympy import sin, cos, pi, Matrix\n",
      "from sympy.interactive import printing\n",
      "import symbtools.modeltools as mt\n",
      "import symbtools as st\n",
      "from symbtools import symbs_to_func\n",
      "import pycartan as pc\n",
      "import symbtools.noncommutativetools as nct\n",
      "\n",
      "printing.init_printing()"
     ],
     "language": "python",
     "metadata": {},
     "outputs": [],
     "prompt_number": 2
    },
    {
     "cell_type": "code",
     "collapsed": false,
     "input": [
      "np = 2\n",
      "nq = 2\n",
      "n = np + nq\n",
      "pp = st.symb_vector(\"p1:{0}\".format(np+1))\n",
      "qq = st.symb_vector(\"q1:{0}\".format(nq+1))\n",
      "\n",
      "theta = st.row_stack(pp, qq) ##:T\n",
      "tthetad = st.time_deriv(theta, theta) ##:T\n",
      "tthetadd = st.time_deriv(theta, theta, order=2)\n",
      "tthetaddd = st.time_deriv(theta, theta, order=3)\n",
      "st.make_global(theta, tthetad)"
     ],
     "language": "python",
     "metadata": {},
     "outputs": [
      {
       "latex": [
        "theta.T := $$\\left[\\begin{matrix}p_{1} & p_{2} & q_{1} & q_{2}\\end{matrix}\\right]$$"
       ],
       "metadata": {},
       "output_type": "display_data",
       "png": "[encoded data removed]",
       "text": [
        "theta.T := [p\u2081  p\u2082  q\u2081  q\u2082]"
       ]
      },
      {
       "output_type": "stream",
       "stream": "stdout",
       "text": [
        "---\n"
       ]
      },
      {
       "latex": [
        "tthetad.T := $$\\left[\\begin{matrix}\\dot{p}_{1} & \\dot{p}_{2} & \\dot{q}_{1} & \\dot{q}_{2}\\end{matrix}\\right]$$"
       ],
       "metadata": {},
       "output_type": "display_data",
       "png": "[encoded data removed]",
       "text": [
        "tthetad.T := [p\u0307\u2081  p\u0307\u2082  q\u0307\u2081  q\u0307\u2082]"
       ]
      },
      {
       "output_type": "stream",
       "stream": "stdout",
       "text": [
        "---\n"
       ]
      }
     ],
     "prompt_number": 3
    },
    {
     "cell_type": "code",
     "collapsed": false,
     "input": [
      "params = sp.symbols('s2, c3, m1, m2, m3, g')\n",
      "st.make_global(params)\n",
      "\n",
      "# \u00c4u\u00dfere Kr\u00e4fe\n",
      "tau1, tau2 = ttau = st.symb_vector(\"tau1, tau2\") ##"
     ],
     "language": "python",
     "metadata": {},
     "outputs": [
      {
       "latex": [
        "$$\\tau_{1}$$"
       ],
       "metadata": {},
       "output_type": "display_data",
       "png": "[encoded data removed]",
       "text": [
        "\u03c4\u2081"
       ]
      },
      {
       "latex": [
        "$$\\tau_{2}$$"
       ],
       "metadata": {},
       "output_type": "display_data",
       "png": "[encoded data removed]",
       "text": [
        "\u03c4\u2082"
       ]
      },
      {
       "output_type": "stream",
       "stream": "stdout",
       "text": [
        "---\n"
       ]
      }
     ],
     "prompt_number": 55
    },
    {
     "cell_type": "markdown",
     "metadata": {},
     "source": [
      "### Festlegung der Geometrie des mechanischen Systemes"
     ]
    },
    {
     "cell_type": "code",
     "collapsed": false,
     "input": [
      "# Einheitsvektoren\n",
      "\n",
      "ex = sp.Matrix([1,0])\n",
      "ey = sp.Matrix([0,1])\n",
      "\n",
      "\n",
      "# Koordinaten der Schwerpunkte und Gelenke\n",
      "\n",
      "S1 = ex*q1 + ey*q2\n",
      "G4 = G3 = S1 # Gelenke\n",
      "\n",
      "# Schwerpunkt Pendel\n",
      "S2 = G3 + mt.Rz(p1)*ey*s2*(-1)\n",
      "\n",
      "# Schwerpunkt K3\n",
      "S3 = G4 + p2*ex\n",
      "\n",
      "# Zeitableitungen der Schwerpunktskoordinaten\n",
      "Sd1, Sd2, Sd3 = st.col_split(st.time_deriv(st.col_stack(S1, S2, S3), theta)) ##"
     ],
     "language": "python",
     "metadata": {},
     "outputs": [
      {
       "latex": [
        "$$\\left[\\begin{matrix}\\dot{q}_{1}\\\\\\dot{q}_{2}\\end{matrix}\\right]$$"
       ],
       "metadata": {},
       "output_type": "display_data",
       "png": "[encoded data removed]",
       "text": [
        "\u23a1q\u0307\u2081\u23a4\n",
        "\u23a2   \u23a5\n",
        "\u23a3q\u0307\u2082\u23a6"
       ]
      },
      {
       "latex": [
        "$$\\left[\\begin{matrix}\\dot{p}_{1} s_{2} \\cos{\\left (p_{1} \\right )} + \\dot{q}_{1}\\\\\\dot{p}_{1} s_{2} \\sin{\\left (p_{1} \\right )} + \\dot{q}_{2}\\end{matrix}\\right]$$"
       ],
       "metadata": {},
       "output_type": "display_data",
       "png": "[encoded data removed]",
       "text": [
        "\u23a1p\u0307\u2081\u22c5s\u2082\u22c5cos(p\u2081) + q\u0307\u2081\u23a4\n",
        "\u23a2                    \u23a5\n",
        "\u23a3p\u0307\u2081\u22c5s\u2082\u22c5sin(p\u2081) + q\u0307\u2082\u23a6"
       ]
      },
      {
       "latex": [
        "$$\\left[\\begin{matrix}\\dot{p}_{2} + \\dot{q}_{1}\\\\\\dot{q}_{2}\\end{matrix}\\right]$$"
       ],
       "metadata": {},
       "output_type": "display_data",
       "png": "[encoded data removed]",
       "text": [
        "\u23a1p\u0307\u2082 + q\u0307\u2081\u23a4\n",
        "\u23a2         \u23a5\n",
        "\u23a3   q\u0307\u2082   \u23a6"
       ]
      },
      {
       "output_type": "stream",
       "stream": "stdout",
       "text": [
        "---\n"
       ]
      }
     ],
     "prompt_number": 5
    },
    {
     "cell_type": "code",
     "collapsed": false,
     "input": [
      "# Energie\n",
      "T_rot = 0 \n",
      "T_trans = ( m1*Sd1.T*Sd1  +  m2*Sd2.T*Sd2 + m3*Sd3.T*Sd3 )/2\n",
      "\n",
      "T = T_rot + T_trans[0]\n",
      "\n",
      "V = m1*g*S1[1] + m2*g*S2[1] + m3*g*S3[1] + c3/2*p2**2"
     ],
     "language": "python",
     "metadata": {},
     "outputs": [],
     "prompt_number": 6
    },
    {
     "cell_type": "code",
     "collapsed": false,
     "input": [
      "external_forces = [0, 0, tau1, tau2]\n",
      "assert not any(external_forces[:np])\n",
      "mod = mt.generate_symbolic_model(T, V, theta, external_forces)"
     ],
     "language": "python",
     "metadata": {},
     "outputs": [],
     "prompt_number": 7
    },
    {
     "cell_type": "code",
     "collapsed": false,
     "input": [
      "mod.eqns.simplify()"
     ],
     "language": "python",
     "metadata": {},
     "outputs": [],
     "prompt_number": 8
    },
    {
     "cell_type": "code",
     "collapsed": false,
     "input": [
      "mod.calc_lbi_nf_state_eq()"
     ],
     "language": "python",
     "metadata": {},
     "outputs": [],
     "prompt_number": 10
    },
    {
     "cell_type": "code",
     "collapsed": false,
     "input": [
      "mod.fz.simplify()"
     ],
     "language": "python",
     "metadata": {},
     "outputs": [],
     "prompt_number": 11
    },
    {
     "cell_type": "code",
     "collapsed": false,
     "input": [
      "fz4 = mod.fz[-np:, :] ##"
     ],
     "language": "python",
     "metadata": {},
     "outputs": [
      {
       "latex": [
        "$$\\left[\\begin{matrix}\\frac{1}{s_{2}^{2}} \\left(- g s_{2} \\sin{\\left (p_{1} \\right )} + \\left(\\dot{q}_{1} \\sin{\\left (p_{1} \\right )} - \\dot{q}_{2} \\cos{\\left (p_{1} \\right )}\\right) \\left(\\dot{q}_{1} \\cos{\\left (p_{1} \\right )} + \\dot{q}_{2} \\sin{\\left (p_{1} \\right )} - s_{2} w_{1}\\right)\\right)\\\\- \\frac{c_{3} p_{2}}{m_{3}}\\end{matrix}\\right]$$"
       ],
       "metadata": {},
       "output_type": "display_data",
       "png": "[encoded data removed]",
       "text": [
        "\u23a1-g\u22c5s\u2082\u22c5sin(p\u2081) + (q\u0307\u2081\u22c5sin(p\u2081) - q\u0307\u2082\u22c5cos(p\u2081))\u22c5(q\u0307\u2081\u22c5cos(p\u2081) + q\u0307\u2082\u22c5sin(p\u2081) - s\u2082\u22c5w\n",
        "\u23a2\u2500\u2500\u2500\u2500\u2500\u2500\u2500\u2500\u2500\u2500\u2500\u2500\u2500\u2500\u2500\u2500\u2500\u2500\u2500\u2500\u2500\u2500\u2500\u2500\u2500\u2500\u2500\u2500\u2500\u2500\u2500\u2500\u2500\u2500\u2500\u2500\u2500\u2500\u2500\u2500\u2500\u2500\u2500\u2500\u2500\u2500\u2500\u2500\u2500\u2500\u2500\u2500\u2500\u2500\u2500\u2500\u2500\u2500\u2500\u2500\u2500\u2500\u2500\u2500\u2500\u2500\u2500\u2500\u2500\u2500\u2500\u2500\u2500\u2500\u2500\u2500\u2500\n",
        "\u23a2                                        2                                    \n",
        "\u23a2                                      s\u2082                                     \n",
        "\u23a2                                                                             \n",
        "\u23a2                                    -c\u2083\u22c5p\u2082                                   \n",
        "\u23a2                                    \u2500\u2500\u2500\u2500\u2500\u2500\u2500                                  \n",
        "\u23a3                                       m\u2083                                    \n",
        "\n",
        "\u2081)\u23a4\n",
        "\u2500\u2500\u23a5\n",
        "  \u23a5\n",
        "  \u23a5\n",
        "  \u23a5\n",
        "  \u23a5\n",
        "  \u23a5\n",
        "  \u23a6"
       ]
      },
      {
       "output_type": "stream",
       "stream": "stdout",
       "text": [
        "---\n"
       ]
      }
     ],
     "prompt_number": 12
    },
    {
     "cell_type": "code",
     "collapsed": false,
     "input": [
      "qqd = st.time_deriv(qq, qq)\n",
      "H1 = sp.hessian(fz4[0], qqd) ##\n",
      "H2 = sp.hessian(fz4[1], qqd) ##"
     ],
     "language": "python",
     "metadata": {},
     "outputs": [
      {
       "latex": [
        "$$\\left[\\begin{matrix}\\frac{2}{s_{2}^{2}} \\sin{\\left (p_{1} \\right )} \\cos{\\left (p_{1} \\right )} & \\frac{1}{s_{2}^{2}} \\left(\\sin^{2}{\\left (p_{1} \\right )} - \\cos^{2}{\\left (p_{1} \\right )}\\right)\\\\\\frac{1}{s_{2}^{2}} \\left(\\sin^{2}{\\left (p_{1} \\right )} - \\cos^{2}{\\left (p_{1} \\right )}\\right) & - \\frac{2}{s_{2}^{2}} \\sin{\\left (p_{1} \\right )} \\cos{\\left (p_{1} \\right )}\\end{matrix}\\right]$$"
       ],
       "metadata": {},
       "output_type": "display_data",
       "png": "[encoded data removed]",
       "text": [
        "\u23a1                        2          2    \u23a4\n",
        "\u23a2 2\u22c5sin(p\u2081)\u22c5cos(p\u2081)   sin (p\u2081) - cos (p\u2081)\u23a5\n",
        "\u23a2 \u2500\u2500\u2500\u2500\u2500\u2500\u2500\u2500\u2500\u2500\u2500\u2500\u2500\u2500\u2500\u2500\u2500   \u2500\u2500\u2500\u2500\u2500\u2500\u2500\u2500\u2500\u2500\u2500\u2500\u2500\u2500\u2500\u2500\u2500\u2500\u2500\u23a5\n",
        "\u23a2          2                    2        \u23a5\n",
        "\u23a2        s\u2082                   s\u2082         \u23a5\n",
        "\u23a2                                        \u23a5\n",
        "\u23a2   2          2                         \u23a5\n",
        "\u23a2sin (p\u2081) - cos (p\u2081)  -2\u22c5sin(p\u2081)\u22c5cos(p\u2081) \u23a5\n",
        "\u23a2\u2500\u2500\u2500\u2500\u2500\u2500\u2500\u2500\u2500\u2500\u2500\u2500\u2500\u2500\u2500\u2500\u2500\u2500\u2500  \u2500\u2500\u2500\u2500\u2500\u2500\u2500\u2500\u2500\u2500\u2500\u2500\u2500\u2500\u2500\u2500\u2500\u2500\u2500\u23a5\n",
        "\u23a2          2                    2        \u23a5\n",
        "\u23a3        s\u2082                   s\u2082         \u23a6"
       ]
      },
      {
       "output_type": "stream",
       "stream": "stdout",
       "text": [
        "---\n"
       ]
      },
      {
       "latex": [
        "$$\\left[\\begin{matrix}0 & 0\\\\0 & 0\\end{matrix}\\right]$$"
       ],
       "metadata": {},
       "output_type": "display_data",
       "png": "[encoded data removed]",
       "text": [
        "\u23a10  0\u23a4\n",
        "\u23a2    \u23a5\n",
        "\u23a30  0\u23a6"
       ]
      },
      {
       "output_type": "stream",
       "stream": "stdout",
       "text": [
        "---\n"
       ]
      }
     ],
     "prompt_number": 13
    },
    {
     "cell_type": "code",
     "collapsed": false,
     "input": [
      "# Zur Vereinfachung: mit konstantem Faktor multiplizieren\n",
      "h1 = sp.simplify(H1*s2**2)\n",
      "h1 ##"
     ],
     "language": "python",
     "metadata": {},
     "outputs": [
      {
       "latex": [
        "$$\\left[\\begin{matrix}\\sin{\\left (2 p_{1} \\right )} & - \\cos{\\left (2 p_{1} \\right )}\\\\- \\cos{\\left (2 p_{1} \\right )} & - \\sin{\\left (2 p_{1} \\right )}\\end{matrix}\\right]$$"
       ],
       "metadata": {},
       "output_type": "display_data",
       "png": "[encoded data removed]",
       "text": [
        "\u23a1sin(2\u22c5p\u2081)   -cos(2\u22c5p\u2081)\u23a4\n",
        "\u23a2                      \u23a5\n",
        "\u23a3-cos(2\u22c5p\u2081)  -sin(2\u22c5p\u2081)\u23a6"
       ]
      },
      {
       "output_type": "stream",
       "stream": "stdout",
       "text": [
        "___\n"
       ]
      }
     ],
     "prompt_number": 14
    },
    {
     "cell_type": "code",
     "collapsed": false,
     "input": [
      "h1.eigenvals()"
     ],
     "language": "python",
     "metadata": {},
     "outputs": [
      {
       "latex": [
        "$$\\left \\{ -1 : 1, \\quad 1 : 1\\right \\}$$"
       ],
       "metadata": {},
       "output_type": "pyout",
       "png": "[encoded data removed]",
       "prompt_number": 15,
       "text": [
        "{-1: 1, 1: 1}"
       ]
      }
     ],
     "prompt_number": 15
    },
    {
     "cell_type": "markdown",
     "metadata": {},
     "source": [
      "Die Hesse-Matrix ist indefinit. Ansatz f\u00fcr die L\u00f6sung der quadratischen Gleichung $\\bs b^T \\bs H_1 \\bs b=0$"
     ]
    },
    {
     "cell_type": "code",
     "collapsed": false,
     "input": [
      "a = sp.Symbol('a')\n",
      "b = sp.Matrix([sin(2*p1), a])\n",
      "\n",
      "# Gleichung\n",
      "eq = sp.simplify(b.T*h1*b) ##\n",
      "\n",
      "# L\u00f6sung\n",
      "a_sol = sp.solve(eq, a)[0][0]\n",
      "\n",
      "# L\u00f6sungsvektor\n",
      "b_sol = b.subs(a, a_sol) ##:\n",
      "\n",
      "# Probe:\n",
      "\n",
      "eq_sol = sp.simplify(b_sol.T *H1*b_sol) ##:"
     ],
     "language": "python",
     "metadata": {},
     "outputs": [
      {
       "latex": [
        "$$\\left[\\begin{matrix}\\left(- a^{2} - 2 a \\cos{\\left (2 p_{1} \\right )} + \\sin^{2}{\\left (2 p_{1} \\right )}\\right) \\sin{\\left (2 p_{1} \\right )}\\end{matrix}\\right]$$"
       ],
       "metadata": {},
       "output_type": "display_data",
       "png": "[encoded data removed]",
       "text": [
        "\u23a1\u239b   2                      2      \u239e          \u23a4\n",
        "\u23a3\u239d- a  - 2\u22c5a\u22c5cos(2\u22c5p\u2081) + sin (2\u22c5p\u2081)\u23a0\u22c5sin(2\u22c5p\u2081)\u23a6"
       ]
      },
      {
       "output_type": "stream",
       "stream": "stdout",
       "text": [
        "---\n"
       ]
      },
      {
       "latex": [
        "b_sol := $$\\left[\\begin{matrix}\\sin{\\left (2 p_{1} \\right )}\\\\2 \\sin^{2}{\\left (p_{1} \\right )}\\end{matrix}\\right]$$"
       ],
       "metadata": {},
       "output_type": "display_data",
       "png": "[encoded data removed]",
       "text": [
        "b_sol := \u23a1sin(2\u22c5p\u2081) \u23a4\n",
        "\u23a2          \u23a5\n",
        "\u23a2     2    \u23a5\n",
        "\u23a32\u22c5sin (p\u2081)\u23a6"
       ]
      },
      {
       "output_type": "stream",
       "stream": "stdout",
       "text": [
        "---\n"
       ]
      },
      {
       "latex": [
        "eq_sol := $$\\left[\\begin{matrix}0\\end{matrix}\\right]$$"
       ],
       "metadata": {},
       "output_type": "display_data",
       "png": "[encoded data removed]",
       "text": [
        "eq_sol := [0]"
       ]
      },
      {
       "output_type": "stream",
       "stream": "stdout",
       "text": [
        "---\n"
       ]
      }
     ],
     "prompt_number": 16
    },
    {
     "cell_type": "markdown",
     "metadata": {},
     "source": [
      "**Zwischenfazit**:\n",
      "Es existiert eine nichtriviale L\u00f6sung $\\bs b$. Die Ruled-Manifold-Bedingung ist f\u00fcr dieses Beispiel erf\u00fcllt.\n",
      "\n",
      "---\n",
      "\n",
      "### Untersuchung der notwendigen Integrabilit\u00e4tsbedingung\n",
      "\n",
      "Implizite Systemgleichungen $\\bs F(\\bs \\theta, \\dot{\\bs \\theta}, \\ddot{\\bs \\theta})=\\bs 0$ aufstellen (nicht-aktuierte Bewegungsgleichungen)."
     ]
    },
    {
     "cell_type": "code",
     "collapsed": false,
     "input": [
      "# nur die nicht-aktuierten Gleichungen ausw\u00e4hlen\n",
      "FF = mod.eq_list[:np, :]\n",
      "FF.simplify()"
     ],
     "language": "python",
     "metadata": {},
     "outputs": [],
     "prompt_number": 62
    },
    {
     "cell_type": "code",
     "collapsed": false,
     "input": [
      "if 0:\n",
      "    P0 = FF.jacobian(theta) ##:\n",
      "    P1 = FF.jacobian(tthetad) ##:\n",
      "    P2 = FF.jacobian(tthetadd) ##:\n",
      "    s = sp.Symbol('s', commutative=False)\n",
      "    XX = st.row_stack(theta, tthetad, tthetadd)##T\n",
      "    XXnc = nct.make_all_symbols_noncommutative(XX)[0]\n",
      "\n",
      "    # Zur Ersetzung der kommutativen durch nichtkommutative Symbole\n",
      "    nc_replm = zip(XX, XXnc)\n",
      "    P = P0.subs(nc_replm) + P1.subs(nc_replm)*s + P2.subs(nc_replm)*s**2 ##:\n",
      "\n",
      "    # Ansatz f\u00fcr Q\n",
      "    Q = P2.subs(nc_replm)\n",
      "    PQ = st.row_stack(P, Q) ##\n",
      "    #%time res = nct.unimod_inv(PQ, s, time_dep_symbs=XXnc)"
     ],
     "language": "python",
     "metadata": {},
     "outputs": [
      {
       "latex": [
        "P0 := $$\\left[\\begin{matrix}m_{2} s_{2} \\left(g \\cos{\\left (p_{1} \\right )} - \\ddot{q}_{1} \\sin{\\left (p_{1} \\right )} + \\ddot{q}_{2} \\cos{\\left (p_{1} \\right )}\\right) & 0 & 0 & 0\\\\0 & c_{3} & 0 & 0\\end{matrix}\\right]$$"
       ],
       "metadata": {},
       "output_type": "display_data",
       "png": "[encoded data removed]",
       "text": [
        "P0 := \u23a1m\u2082\u22c5s\u2082\u22c5(g\u22c5cos(p\u2081) - q\u0308\u2081\u22c5sin(p\u2081) + q\u0308\u2082\u22c5cos(p\u2081))  0   0  0\u23a4\n",
        "\u23a2                                                       \u23a5\n",
        "\u23a3                      0                        c\u2083  0  0\u23a6"
       ]
      },
      {
       "output_type": "stream",
       "stream": "stdout",
       "text": [
        "---\n"
       ]
      },
      {
       "latex": [
        "P1 := $$\\left[\\begin{matrix}0 & 0 & 0 & 0\\\\0 & 0 & 0 & 0\\end{matrix}\\right]$$"
       ],
       "metadata": {},
       "output_type": "display_data",
       "png": "[encoded data removed]",
       "text": [
        "P1 := \u23a10  0  0  0\u23a4\n",
        "\u23a2          \u23a5\n",
        "\u23a30  0  0  0\u23a6"
       ]
      },
      {
       "output_type": "stream",
       "stream": "stdout",
       "text": [
        "---\n"
       ]
      },
      {
       "latex": [
        "P2 := $$\\left[\\begin{matrix}m_{2} s_{2}^{2} & 0 & m_{2} s_{2} \\cos{\\left (p_{1} \\right )} & m_{2} s_{2} \\sin{\\left (p_{1} \\right )}\\\\0 & m_{3} & m_{3} & 0\\end{matrix}\\right]$$"
       ],
       "metadata": {},
       "output_type": "display_data",
       "png": "[encoded data removed]",
       "text": [
        "P2 := \u23a1     2                                  \u23a4\n",
        "\u23a2m\u2082\u22c5s\u2082   0   m\u2082\u22c5s\u2082\u22c5cos(p\u2081)  m\u2082\u22c5s\u2082\u22c5sin(p\u2081)\u23a5\n",
        "\u23a2                                        \u23a5\n",
        "\u23a3  0     m\u2083       m\u2083              0      \u23a6"
       ]
      },
      {
       "output_type": "stream",
       "stream": "stdout",
       "text": [
        "---\n"
       ]
      }
     ],
     "prompt_number": 63
    },
    {
     "cell_type": "markdown",
     "metadata": {},
     "source": [
      "Unimodulare Erg\u00e4nzung laden, die mit in [Franke, 2014] beschriebenen Algorithmus bestimmt wurde.\n",
      "Zur Implementierung des Algorithmus siehe: https://github.com/klim-/uc_algorithm"
     ]
    },
    {
     "cell_type": "code",
     "collapsed": false,
     "input": [
      "data = st.pickle_full_load('Q_matrix_mechanik_ph_planar_versch_pendel_elast_masse.pcl')\n",
      "Q0 = data.Q"
     ],
     "language": "python",
     "metadata": {},
     "outputs": [],
     "prompt_number": 41
    },
    {
     "cell_type": "code",
     "collapsed": false,
     "input": [
      "# Der Algorithmus wurde auf Basis des Systems 1. Ordnung (mit definitorischen Gleichungen) durchgef\u00fchrt\n",
      "# Das Ergebnis (Q0) muss passend zum PF f\u00fcr das System 2. Ordnung umgeformt werden\n",
      "s = sp.Symbol('s', commutative=False)\n",
      "P = data.user_data.P0 + data.user_data.P1*s + data.user_data.P2*s**2 ##:\n",
      "PQ = st.row_stack(P, Q0[:,:n] + Q0[:,n:]*s)\n",
      "PQ ##:"
     ],
     "language": "python",
     "metadata": {},
     "outputs": [
      {
       "latex": [
        "P := $$\\left[\\begin{matrix}A_{11} + C_{11} s^{2} & 0 & C_{13} s^{2} & C_{14} s^{2}\\\\0 & A_{22} + C_{22} s^{2} & C_{22} s^{2} & 0\\end{matrix}\\right]$$"
       ],
       "metadata": {},
       "output_type": "display_data",
       "png": "[encoded data removed]",
       "text": [
        "P := \u23a1           2                     2       2\u23a4\n",
        "\u23a2A\u2081\u2081 + C\u2081\u2081\u22c5s        0        C\u2081\u2083\u22c5s   C\u2081\u2084\u22c5s \u23a5\n",
        "\u23a2                                          \u23a5\n",
        "\u23a2                         2       2        \u23a5\n",
        "\u23a3     0        A\u2082\u2082 + C\u2082\u2082\u22c5s   C\u2082\u2082\u22c5s     0   \u23a6"
       ]
      },
      {
       "output_type": "stream",
       "stream": "stdout",
       "text": [
        "---\n"
       ]
      },
      {
       "latex": [
        "PQ  := $$\\left[\\begin{matrix}A_{11} + C_{11} s^{2} & 0 & C_{13} s^{2} & C_{14} s^{2}\\\\0 & A_{22} + C_{22} s^{2} & C_{22} s^{2} & 0\\\\0 & 1 & 1 & 0\\\\2 C_{11} \\dot{C}_{11} s + \\left(A_{11} + \\ddot{C}_{11}\\right) C_{11} - 2 \\dot{C}_{11}^{2} & - C_{13} \\left(A_{11} + \\ddot{C}_{11}\\right) & 2 C_{13} \\dot{C}_{11} s & 2 C_{14} \\dot{C}_{11} s + \\left(A_{11} + \\ddot{C}_{11}\\right) C_{14}\\end{matrix}\\right]$$"
       ],
       "metadata": {},
       "output_type": "display_data",
       "png": "[encoded data removed]",
       "text": [
        "PQ  := \u23a1                         2                                            2      \n",
        "\u23a2              A\u2081\u2081 + C\u2081\u2081\u22c5s                          0             C\u2081\u2083\u22c5s       \n",
        "\u23a2                                                                             \n",
        "\u23a2                                                        2             2      \n",
        "\u23a2                    0                        A\u2082\u2082 + C\u2082\u2082\u22c5s         C\u2082\u2082\u22c5s       \n",
        "\u23a2                                                                             \n",
        "\u23a2                    0                              1               1         \n",
        "\u23a2                                                                             \n",
        "\u23a2                                        2                                    \n",
        "\u23a32\u22c5C\u2081\u2081\u22c5C\u0307\u2081\u2081\u22c5s + (A\u2081\u2081 + C\u0308\u2081\u2081)\u22c5C\u2081\u2081 - 2\u22c5C\u0307\u2081\u2081   -(A\u2081\u2081 + C\u0308\u2081\u2081)\u22c5C\u2081\u2083  2\u22c5C\u2081\u2083\u22c5C\u0307\u2081\u2081\u22c5s  2\n",
        "\n",
        "                2             \u23a4\n",
        "           C\u2081\u2084\u22c5s              \u23a5\n",
        "                              \u23a5\n",
        "                              \u23a5\n",
        "              0               \u23a5\n",
        "                              \u23a5\n",
        "              0               \u23a5\n",
        "                              \u23a5\n",
        "                              \u23a5\n",
        "\u22c5C\u2081\u2084\u22c5C\u0307\u2081\u2081\u22c5s + (A\u2081\u2081 + C\u0308\u2081\u2081)\u22c5C\u2081\u2084\u23a6"
       ]
      },
      {
       "output_type": "stream",
       "stream": "stdout",
       "text": [
        "___\n"
       ]
      }
     ],
     "prompt_number": 44
    },
    {
     "cell_type": "markdown",
     "metadata": {},
     "source": [
      "Nachweis, dass das mit dem Algorithmus bestimmte $\\bs Q$ tats\u00e4chlich eine unimodulare Vervollst\u00e4ndigung ist"
     ]
    },
    {
     "cell_type": "code",
     "collapsed": false,
     "input": [
      "# F\u00fcr Berechnung der Inversen m\u00fcssen die Eintr\u00e4ge nichtkommutativ sein.\n",
      "PQ = nct.make_all_symbols_noncommutative(PQ, '')[0]\n",
      "\n",
      "# auch nichtkommutative zeithabh\u00e4ngige Platzhalter-Symbole ben\u00f6tigt\n",
      "tds = nct.make_all_symbols_noncommutative(data.user_data.time_dep_symbols, '')[0]"
     ],
     "language": "python",
     "metadata": {},
     "outputs": [],
     "prompt_number": 47
    },
    {
     "cell_type": "code",
     "collapsed": false,
     "input": [
      "# ca. 3:20 min\n",
      "%time inv = nct.unimod_inv(PQ, s, time_dep_symbs=tds)\n",
      "\n",
      "prod = nct.nc_mul(inv, PQ)\n",
      "# ca 24s\n",
      "prod2 = nct.right_shift_all(prod, s, func_symbols=tds)\n",
      "# 20s\n",
      "prod3 = nct.make_all_symbols_commutative(prod2)[0].smplf ##:"
     ],
     "language": "python",
     "metadata": {},
     "outputs": [
      {
       "latex": [
        "prod3 := $$\\left[\\begin{matrix}1 & 0 & 0 & 0\\\\0 & 1 & 0 & 0\\\\0 & 0 & 1 & 0\\\\0 & 0 & 0 & 1\\end{matrix}\\right]$$"
       ],
       "metadata": {},
       "output_type": "display_data",
       "png": "[encoded data removed]",
       "text": [
        "prod3 := \u23a11  0  0  0\u23a4\n",
        "\u23a2          \u23a5\n",
        "\u23a20  1  0  0\u23a5\n",
        "\u23a2          \u23a5\n",
        "\u23a20  0  1  0\u23a5\n",
        "\u23a2          \u23a5\n",
        "\u23a30  0  0  1\u23a6"
       ]
      },
      {
       "output_type": "stream",
       "stream": "stdout",
       "text": [
        "---\n"
       ]
      }
     ],
     "prompt_number": 48
    },
    {
     "cell_type": "markdown",
     "metadata": {},
     "source": [
      "**Zwischenfazit**: die oben geladene Erg\u00e4nzungsmatrix $\\bs Q$ ist tats\u00e4chlich eine unimodulare Erg\u00e4nzung von $\\bs P$.\n",
      "\n",
      "---\n",
      "\n",
      "**N\u00e4chster Schritt:** Ersetzen der Platzhalter durch tats\u00e4chliche Ausdr\u00fccke und Bestimmung von $\\d \\bs \\omega $ und $\\d \\bs F$."
     ]
    },
    {
     "cell_type": "code",
     "collapsed": false,
     "input": [
      "ph_symbs = sp.Matrix(list(data.user_data.P0) + list(data.user_data.P1) + list(data.user_data.P2))\n",
      "replm_terms = sp.Matrix(list(P0) + list(P1) + list(P2))\n",
      "\n",
      "\n",
      "# Ableitungen der Platzhalter-Ersetzungen anlegen:\n",
      "ph_symbs_dot = st.time_deriv(ph_symbs, ph_symbs)\n",
      "ph_symbs_ddot = st.time_deriv(ph_symbs, ph_symbs, order=2)\n",
      "\n",
      "replm_terms_dot = st.time_deriv(replm_terms, theta)\n",
      "replm_terms_ddot = st.time_deriv(replm_terms, theta, order=2)\n",
      "\n",
      "replm_tups = zip(ph_symbs, replm_terms) + zip(ph_symbs_dot, replm_terms_dot)\n",
      "replm_tups += zip(ph_symbs_ddot, replm_terms_ddot)"
     ],
     "language": "python",
     "metadata": {},
     "outputs": [],
     "prompt_number": 50
    },
    {
     "cell_type": "code",
     "collapsed": false,
     "input": [
      "Qs = Q0.subs(replm_tups)\n",
      "\n",
      "XX = st.row_stack(theta, tthetad, tthetadd, tthetaddd)\n",
      "Q_ = st.col_stack(Qs, sp.zeros(nq, n*2))\n",
      "\n",
      "P_ = st.col_stack(P0, P1, P2, sp.zeros(np, n))\n",
      "w1 = pc.DifferentialForm(1, XX, coeff=Q_[0, :]) ##:\n",
      "w2 = pc.DifferentialForm(1, XX, coeff=Q_[1, :]) ##:\n",
      "dF1 = pc.DifferentialForm(1, XX, coeff=P_[0, :]) ##:\n",
      "dF2 = pc.DifferentialForm(1, XX, coeff=P_[1, :]) ##:\n"
     ],
     "language": "python",
     "metadata": {},
     "outputs": [
      {
       "metadata": {},
       "output_type": "display_data",
       "text": [
        "w1 := (1)dp2  +  (1)dq1"
       ]
      },
      {
       "output_type": "stream",
       "stream": "stdout",
       "text": [
        "---\n"
       ]
      },
      {
       "metadata": {},
       "output_type": "display_data",
       "text": [
        "w2 := (m2**2*s2**3*(g*cos(p1) - qddot1*sin(p1) + qddot2*cos(p1)))dp1  +  (-m2**2*s2**2*(g*cos(p1) - qddot1*sin(p1) + qddot2*cos(p1))*cos(p1))dp2  +  (m2**2*s2**2*(g*cos(p1) - qddot1*sin(p1) + qddot2*cos(p1))*sin(p1))dq2"
       ]
      },
      {
       "output_type": "stream",
       "stream": "stdout",
       "text": [
        "---\n"
       ]
      },
      {
       "metadata": {},
       "output_type": "display_data",
       "text": [
        "dF1 := (m2*s2*(g*cos(p1) - qddot1*sin(p1) + qddot2*cos(p1)))dp1  +  (m2*s2**2)dpddot1  +  (m2*s2*cos(p1))dqddot1  +  (m2*s2*sin(p1))dqddot2"
       ]
      },
      {
       "output_type": "stream",
       "stream": "stdout",
       "text": [
        "---\n"
       ]
      },
      {
       "metadata": {},
       "output_type": "display_data",
       "text": [
        "dF2 := (c3)dp2  +  (m3)dpddot2  +  (m3)dqddot1"
       ]
      },
      {
       "output_type": "stream",
       "stream": "stdout",
       "text": [
        "---\n"
       ]
      }
     ],
     "prompt_number": 52
    },
    {
     "cell_type": "code",
     "collapsed": false,
     "input": [
      "w1.d ##:"
     ],
     "language": "python",
     "metadata": {},
     "outputs": [
      {
       "metadata": {},
       "output_type": "display_data",
       "text": [
        "w1.d  := (0)dp1^dp2"
       ]
      },
      {
       "output_type": "stream",
       "stream": "stdout",
       "text": [
        "___\n"
       ]
      }
     ],
     "prompt_number": 53
    },
    {
     "cell_type": "markdown",
     "metadata": {},
     "source": [
      "Damit ist $\\Xi_{1,k} = 0$ f\u00fcr alle $k\\geq 0$."
     ]
    },
    {
     "cell_type": "markdown",
     "metadata": {},
     "source": [
      "---\n",
      "Einschr\u00e4nkung auf $\\mathcal{F}$ vornehmen. Dazu implizite Systemgleichungen $\\bs F$ nach $\\ddot {\\bs p}$ aufl\u00f6sen."
     ]
    },
    {
     "cell_type": "code",
     "collapsed": false,
     "input": [
      "pp_dd = tthetadd[:np,:] ##\n",
      "FF_sol = sp.solve(FF, pp_dd) ##:"
     ],
     "language": "python",
     "metadata": {},
     "outputs": [
      {
       "latex": [
        "$$\\left[\\begin{matrix}\\ddot{p}_{1}\\\\\\ddot{p}_{2}\\end{matrix}\\right]$$"
       ],
       "metadata": {},
       "output_type": "display_data",
       "png": "[encoded data removed]",
       "text": [
        "\u23a1p\u0308\u2081\u23a4\n",
        "\u23a2   \u23a5\n",
        "\u23a3p\u0308\u2082\u23a6"
       ]
      },
      {
       "output_type": "stream",
       "stream": "stdout",
       "text": [
        "---\n"
       ]
      },
      {
       "latex": [
        "FF_sol := $$\\left \\{ \\ddot{p}_{1} : - \\frac{1}{s_{2}} \\left(g \\sin{\\left (p_{1} \\right )} + \\ddot{q}_{1} \\cos{\\left (p_{1} \\right )} + \\ddot{q}_{2} \\sin{\\left (p_{1} \\right )}\\right), \\quad \\ddot{p}_{2} : - \\frac{c_{3} p_{2}}{m_{3}} - \\ddot{q}_{1}\\right \\}$$"
       ],
       "metadata": {},
       "output_type": "display_data",
       "png": "[encoded data removed]",
       "text": [
        "FF_sol := \u23a7     -(g\u22c5sin(p\u2081) + q\u0308\u2081\u22c5cos(p\u2081) + q\u0308\u2082\u22c5sin(p\u2081))          c\u2083\u22c5p\u2082      \u23ab\n",
        "\u23a8p\u0308\u2081: \u2500\u2500\u2500\u2500\u2500\u2500\u2500\u2500\u2500\u2500\u2500\u2500\u2500\u2500\u2500\u2500\u2500\u2500\u2500\u2500\u2500\u2500\u2500\u2500\u2500\u2500\u2500\u2500\u2500\u2500\u2500\u2500\u2500\u2500\u2500\u2500\u2500\u2500\u2500\u2500\u2500, p\u0308\u2082: - \u2500\u2500\u2500\u2500\u2500 - q\u0308\u2081\u23ac\n",
        "\u23a9                         s\u2082                              m\u2083       \u23ad"
       ]
      },
      {
       "output_type": "stream",
       "stream": "stdout",
       "text": [
        "---\n"
       ]
      }
     ],
     "prompt_number": 69
    },
    {
     "cell_type": "code",
     "collapsed": false,
     "input": [
      "w2.subs(FF_sol) - w2"
     ],
     "language": "python",
     "metadata": {},
     "outputs": [
      {
       "metadata": {},
       "output_type": "pyout",
       "prompt_number": 71,
       "text": [
        "(0)dp1"
       ]
      }
     ],
     "prompt_number": 71
    },
    {
     "cell_type": "markdown",
     "metadata": {},
     "source": [
      "Beobachtung: Einschr\u00e4nkung auf $\\mathcal{F}$ hat hier keine Wirkung.\n",
      "\n",
      "---"
     ]
    },
    {
     "cell_type": "markdown",
     "metadata": {},
     "source": [
      "**Frage:**\n",
      "Wieviele Koeffizienten treten in $\\Xi_{2,k}$ f\u00fcr jedes $k$ auf? \u2192 $r(k), s(k)$ bestimmen und Tabelle erstellen.\n",
      "\n",
      "Zur Bestimmung von $s( k):=n +  n \\cdot \\max(\\mathrm{ord}_{\\d \\bs \\theta}(\\d \\omega_2), k )$ wird die h\u00f6chste auftretende Ableitungsordnung der Basis-1-Formen in $\\d \\omega_2$ ben\u00f6tigt.\n"
     ]
    },
    {
     "cell_type": "code",
     "collapsed": false,
     "input": [
      "ord_d_omega_2  = w2.d.ord ##"
     ],
     "language": "python",
     "metadata": {},
     "outputs": [
      {
       "latex": [
        "$$2$$"
       ],
       "metadata": {},
       "output_type": "display_data",
       "png": "[encoded data removed]",
       "text": [
        "2"
       ]
      },
      {
       "output_type": "stream",
       "stream": "stdout",
       "text": [
        "---\n"
       ]
      }
     ],
     "prompt_number": 73
    },
    {
     "cell_type": "markdown",
     "metadata": {},
     "source": [
      "Bestimmung von $k_{\\Omega_0}$"
     ]
    },
    {
     "cell_type": "code",
     "collapsed": false,
     "input": [
      "Omega0 = w1^w2\n",
      "kOmega0 = Omega0.ord ##:"
     ],
     "language": "python",
     "metadata": {},
     "outputs": [
      {
       "latex": [
        "kOmega0 := $$0$$"
       ],
       "metadata": {},
       "output_type": "display_data",
       "png": "[encoded data removed]",
       "text": [
        "kOmega0 := 0"
       ]
      },
      {
       "output_type": "stream",
       "stream": "stdout",
       "text": [
        "---\n"
       ]
      }
     ],
     "prompt_number": 74
    },
    {
     "cell_type": "code",
     "collapsed": false,
     "input": [
      "def r(k):\n",
      "    return 2 + nq*max(0, k + 1 - kOmega0) + np*max(0, k - 1)\n",
      "\n",
      "def s(k):\n",
      "    return n*(max(ord_d_omega_2, k ) + 1)\n",
      "\n",
      "kmax = 4\n",
      "table = sp.zeros(4, kmax+1)\n",
      "legend = Matrix([sp.S('k'), sp.S('s(k)'), sp.S('r(k)'), sp.Symbol('s(k)~over~r(k)')])\n",
      "\n",
      "\n",
      "# Ausf\u00fcllen der Tabelle\n",
      "for k in range(kmax+1):\n",
      "    table[:, k] = k, s(k), r(k), sp.binomial(s(k), r(k))\n",
      "\n",
      "st.col_stack(legend, table)"
     ],
     "language": "python",
     "metadata": {},
     "outputs": [
      {
       "latex": [
        "$$\\left[\\begin{matrix}k & 0 & 1 & 2 & 3 & 4\\\\s{\\left (k \\right )} & 12 & 12 & 12 & 16 & 20\\\\r{\\left (k \\right )} & 4 & 6 & 10 & 14 & 18\\\\s(k)~over~r(k) & 495 & 924 & 66 & 120 & 190\\end{matrix}\\right]$$"
       ],
       "metadata": {},
       "output_type": "pyout",
       "png": "[encoded data removed]",
       "prompt_number": 75,
       "text": [
        "\u23a1      k          0    1   2    3    4 \u23a4\n",
        "\u23a2                                      \u23a5\n",
        "\u23a2     s(k)       12   12   12  16   20 \u23a5\n",
        "\u23a2                                      \u23a5\n",
        "\u23a2     r(k)        4    6   10  14   18 \u23a5\n",
        "\u23a2                                      \u23a5\n",
        "\u23a3s(k)~over~r(k)  495  924  66  120  190\u23a6"
       ]
      }
     ],
     "prompt_number": 75
    },
    {
     "cell_type": "code",
     "collapsed": false,
     "input": [
      "w_dot1 = w1.dot() ##:\n",
      "w_ddot1 = w_dot1.dot() ##:\n",
      "\n",
      "w_dot2 = w2.dot() # Ordnung 2 bez\u00fcglich der Basis theta\n",
      "\n",
      "w_dot2.ord ##:"
     ],
     "language": "python",
     "metadata": {},
     "outputs": [
      {
       "metadata": {},
       "output_type": "display_data",
       "text": [
        "w_dot1 := (1)dpdot2  +  (1)dqdot1"
       ]
      },
      {
       "output_type": "stream",
       "stream": "stdout",
       "text": [
        "---\n"
       ]
      },
      {
       "metadata": {},
       "output_type": "display_data",
       "text": [
        "w_ddot1 := (1)dpddot2  +  (1)dqddot1"
       ]
      },
      {
       "output_type": "stream",
       "stream": "stdout",
       "text": [
        "---\n"
       ]
      },
      {
       "latex": [
        "w_dot2.ord  := $$1$$"
       ],
       "metadata": {},
       "output_type": "display_data",
       "png": "[encoded data removed]",
       "text": [
        "w_dot2.ord  := 1"
       ]
      },
      {
       "output_type": "stream",
       "stream": "stdout",
       "text": [
        "___\n"
       ]
      }
     ],
     "prompt_number": 77
    },
    {
     "cell_type": "markdown",
     "metadata": {},
     "source": [
      "Den entscheidenden Koeffizienten $c^*$ bestimmen:"
     ]
    },
    {
     "cell_type": "code",
     "collapsed": false,
     "input": [
      "Xi1 = w2.d^w1^w2^w1.dot()\n",
      "Gamma2 = w_dot2^w_ddot1^dF1^dF2\n",
      "Gamma3 = w_dot2.dot()^w_ddot1.dot()^dF1.dot()^dF2.dot()\n",
      "Theta_2 = Gamma2.get_baseform_from_idcs((8,9,10, 11)) ##\n",
      "Gamma2.get_coeff(Theta_2) ##:"
     ],
     "language": "python",
     "metadata": {},
     "outputs": [
      {
       "metadata": {},
       "output_type": "display_data",
       "text": [
        "(1)dpddot1^dpddot2^dqddot1^dqddot2"
       ]
      },
      {
       "output_type": "stream",
       "stream": "stdout",
       "text": [
        "---\n"
       ]
      },
      {
       "latex": [
        "Gamma2.get_coeff(Theta_2)  := $$0$$"
       ],
       "metadata": {},
       "output_type": "display_data",
       "png": "[encoded data removed]",
       "text": [
        "Gamma2.get_coeff(Theta_2)  := 0"
       ]
      },
      {
       "output_type": "stream",
       "stream": "stdout",
       "text": [
        "___\n"
       ]
      }
     ],
     "prompt_number": 81
    },
    {
     "cell_type": "markdown",
     "metadata": {},
     "source": [
      "Fazit: $c^* = 0$ und die notwendige Integrabilit\u00e4tsbedingung damit erf\u00fcllt. Die vermutete Nichtflachheit des Systems kann (so) nicht gezeigt werden."
     ]
    }
   ],
   "metadata": {}
  }
 ]
}