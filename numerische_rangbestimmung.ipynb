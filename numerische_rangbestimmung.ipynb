{
 "metadata": {
  "name": "",
  "signature": "sha256:0b3da7e6e37e937c81c054f9ebfbdabc32919a3e54a83af2019c81c9ec882a92"
 },
 "nbformat": 3,
 "nbformat_minor": 0,
 "worksheets": [
  {
   "cells": [
    {
     "cell_type": "code",
     "collapsed": false,
     "input": [
      "import time\n",
      "print time.ctime()"
     ],
     "language": "python",
     "metadata": {},
     "outputs": [
      {
       "output_type": "stream",
       "stream": "stdout",
       "text": [
        "Mon Jan 11 10:53:59 2016\n"
       ]
      }
     ],
     "prompt_number": 1
    },
    {
     "cell_type": "markdown",
     "metadata": {},
     "source": [
      "<sub>Bei diesem IPython-Notebook handelt es sich um eine Beispiel-Rechnung als Erg\u00e4nzung zur Dissertationsschrift von C. Knoll. Allgemeine Hinweise zu den Beispielen sind in der [readme.md-Datei des entsprechenden Repositoriums](https://github.com/cknoll/beispiele/blob/master/readme.md) zu finden.</sub>\n",
      "\n",
      "---"
     ]
    },
    {
     "cell_type": "code",
     "collapsed": false,
     "input": [
      "%load_ext displaytools\n",
      "\n",
      "import sympy as sp\n",
      "from sympy import sin, cos\n",
      "from sympy.interactive import printing\n",
      "import symbtools as st"
     ],
     "language": "python",
     "metadata": {},
     "outputs": [
      {
       "output_type": "stream",
       "stream": "stdout",
       "text": [
        "The displaytools extension is already loaded. To reload it, use:\n",
        "  %reload_ext displaytools\n"
       ]
      }
     ],
     "prompt_number": 2
    },
    {
     "cell_type": "code",
     "collapsed": false,
     "input": [
      "z1 = 3. # float Objekt\n",
      "\n",
      "A1 = sin(z1)**2 + cos(z1)**2 -1 ##:\n",
      "A2 = sin(z1)**500 ##:\n"
     ],
     "language": "python",
     "metadata": {},
     "outputs": [
      {
       "metadata": {},
       "output_type": "display_data",
       "text": [
        "A1 := -1.11022302462516e-16"
       ]
      },
      {
       "output_type": "stream",
       "stream": "stdout",
       "text": [
        "---\n"
       ]
      },
      {
       "metadata": {},
       "output_type": "display_data",
       "text": [
        "A2 := 6.22724992273450e-426"
       ]
      },
      {
       "output_type": "stream",
       "stream": "stdout",
       "text": [
        "---\n"
       ]
      }
     ],
     "prompt_number": 3
    },
    {
     "cell_type": "code",
     "collapsed": false,
     "input": [
      "z2 = sp.Rational(3,1) # Rationale Zahl\n",
      "\n",
      "A3 = sin(z2)**2 + cos(z2)**2 -1\n",
      "A4 = sin(z2)**500\n",
      "\n",
      "A3.evalf(n=100) * 1.0 ##\n",
      "A4.evalf(n=100) ##\n",
      "\n",
      "A3.evalf(n=200) * 1.0##\n",
      "A4.evalf(n=200) ##\n"
     ],
     "language": "python",
     "metadata": {},
     "outputs": [
      {
       "metadata": {},
       "output_type": "display_data",
       "text": [
        "-3.04174650607226e-210"
       ]
      },
      {
       "output_type": "stream",
       "stream": "stdout",
       "text": [
        "___\n"
       ]
      },
      {
       "metadata": {},
       "output_type": "display_data",
       "text": [
        "6.227249922734685323259323906765412416567183623646305000716802109832213468631577225475738444205543916e-426"
       ]
      },
      {
       "output_type": "stream",
       "stream": "stdout",
       "text": [
        "___\n"
       ]
      },
      {
       "metadata": {},
       "output_type": "display_data",
       "text": [
        "-1.58951960309096e-409"
       ]
      },
      {
       "output_type": "stream",
       "stream": "stdout",
       "text": [
        "___\n"
       ]
      },
      {
       "metadata": {},
       "output_type": "display_data",
       "text": [
        "6.2272499227346853232593239067654124165671836236463050007168021098322134686315772254757384442055439156037681430391192141955489123860911876602756152634289383525157381392652042745141107561070701520841923e-426"
       ]
      },
      {
       "output_type": "stream",
       "stream": "stdout",
       "text": [
        "___\n"
       ]
      }
     ],
     "prompt_number": 4
    },
    {
     "cell_type": "code",
     "collapsed": false,
     "input": [
      "# Betrachtung der Quotienten (genau / ungenau)\n",
      "\n",
      "A3.evalf(n=200) / A3.evalf(n=100) * 1.0 ##:\n",
      "A4.evalf(n=200) / A4.evalf(n=100) ##:\n",
      "1 - A4.evalf(n=200) / A4.evalf(n=100) ##:"
     ],
     "language": "python",
     "metadata": {},
     "outputs": [
      {
       "metadata": {},
       "output_type": "display_data",
       "text": [
        "A3.evalf(n=200) / A3.evalf(n=100) * 1.0  := 5.22568070652104e-200"
       ]
      },
      {
       "output_type": "stream",
       "stream": "stdout",
       "text": [
        "___\n"
       ]
      },
      {
       "metadata": {},
       "output_type": "display_data",
       "text": [
        "A4.evalf(n=200) / A4.evalf(n=100)  := 0.99999999999999999999999999999999999999999999999999999999999999999999999999999999999999999999999999999614885582742386527569593938012876563662655304463942970381812301219294421401992993404970620786916800"
       ]
      },
      {
       "output_type": "stream",
       "stream": "stdout",
       "text": [
        "___\n"
       ]
      },
      {
       "metadata": {},
       "output_type": "display_data",
       "text": [
        "1 - A4.evalf(n=200) / A4.evalf(n=100)  := 3.8511441725761347243040606198712343633734469553605702961818769878070557859800700659502937921308319976355411448438830221391884725648389462496933182626541165876453939857388931813746599760518546847091896e-102"
       ]
      },
      {
       "output_type": "stream",
       "stream": "stdout",
       "text": [
        "___\n"
       ]
      }
     ],
     "prompt_number": 6
    },
    {
     "cell_type": "code",
     "collapsed": false,
     "input": [],
     "language": "python",
     "metadata": {},
     "outputs": []
    }
   ],
   "metadata": {}
  }
 ]
}