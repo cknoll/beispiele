{
 "metadata": {
  "name": "",
  "signature": "sha256:a62a903c7df8ad8235ec56eed62459baa9596e6ccb8c44727630bd14c8d3025b"
 },
 "nbformat": 3,
 "nbformat_minor": 0,
 "worksheets": [
  {
   "cells": [
    {
     "cell_type": "code",
     "collapsed": false,
     "input": [
      "import time\n",
      "print time.ctime()\n",
      "%load_ext displaytools"
     ],
     "language": "python",
     "metadata": {},
     "outputs": [
      {
       "output_type": "stream",
       "stream": "stdout",
       "text": [
        "Mon May 30 14:37:35 2016\n"
       ]
      }
     ],
     "prompt_number": 1
    },
    {
     "cell_type": "markdown",
     "metadata": {},
     "source": [
      "**Betrachtetes System**: Ebener Mechanismus aus vier K\u00f6rpern, drei translatorischen aktuierten FG und zwei rotatorischen passiven FG: <br>\n",
      "\n",
      "<img src=\"files/images/planar_verschieb_pendel_akt_masse_pendel.png\">\n",
      "\n",
      "**Betrachtete Fragen**:\n",
      "* Herleitung der Modellgleichungen\n",
      "* LBINF\n",
      "* Untersuchung der \"Ruled-Manifold-Bedingung\" auf Basis der LBINF\n",
      "* Bestimmung der einer Trajektorie zur Ruhelagen\u00fcberf\u00fchrung durch L\u00f6sung einer RWA\n",
      "\n",
      "[//]: # (custom_config_start)\n",
      "$$\n",
      "\\newcommand{\\col}{\\mathrm{col}}\n",
      "\\newcommand{\\bs}{\\boldsymbol}\n",
      "$$\n",
      "[//]: # (custom_config_end)\n"
     ]
    },
    {
     "cell_type": "code",
     "collapsed": false,
     "input": [
      "import sympy as sp\n",
      "from sympy import sin, cos, pi, Matrix\n",
      "from sympy.interactive import printing\n",
      "import symbtools as st\n",
      "import symbtools.modeltools as mt\n",
      "\n",
      "import scipy as sc\n",
      "import scipy.optimize\n",
      "import scipy.integrate\n",
      "\n",
      "import pickle\n",
      "\n",
      "printing.init_printing()"
     ],
     "language": "python",
     "metadata": {},
     "outputs": [],
     "prompt_number": 34
    },
    {
     "cell_type": "code",
     "collapsed": false,
     "input": [
      "t = sp.Symbol('t')\n",
      "np = 2\n",
      "nq = 3\n",
      "n = np + nq\n",
      "pp = st.symb_vector(\"p1:{0}\".format(np+1))\n",
      "qq = st.symb_vector(\"q1:{0}\".format(nq+1))\n",
      "ww = st.symb_vector(\"w1:{0}\".format(np+1))\n",
      "\n",
      "\n",
      "ttheta = st.row_stack(pp, qq) ##\n",
      "\n",
      "ppd = uu = st.time_deriv(pp, pp)\n",
      "qqd = vv = st.time_deriv(qq, qq)\n",
      "\n",
      "tthetad = st.time_deriv(ttheta, ttheta) ##\n",
      "tthetadd = st.time_deriv(ttheta, ttheta, order=2) ##\n",
      "st.make_global(ttheta, tthetad)"
     ],
     "language": "python",
     "metadata": {},
     "outputs": [
      {
       "latex": [
        "$$\\left[\\begin{matrix}p_{1}\\\\p_{2}\\\\q_{1}\\\\q_{2}\\\\q_{3}\\end{matrix}\\right]$$"
       ],
       "metadata": {},
       "output_type": "display_data",
       "png": "[encoded data removed]",
       "text": [
        "\u23a1p\u2081\u23a4\n",
        "\u23a2  \u23a5\n",
        "\u23a2p\u2082\u23a5\n",
        "\u23a2  \u23a5\n",
        "\u23a2q\u2081\u23a5\n",
        "\u23a2  \u23a5\n",
        "\u23a2q\u2082\u23a5\n",
        "\u23a2  \u23a5\n",
        "\u23a3q\u2083\u23a6"
       ]
      },
      {
       "output_type": "stream",
       "stream": "stdout",
       "text": [
        "---\n"
       ]
      },
      {
       "latex": [
        "$$\\left[\\begin{matrix}\\dot{p}_{1}\\\\\\dot{p}_{2}\\\\\\dot{q}_{1}\\\\\\dot{q}_{2}\\\\\\dot{q}_{3}\\end{matrix}\\right]$$"
       ],
       "metadata": {},
       "output_type": "display_data",
       "png": "[encoded data removed]",
       "text": [
        "\u23a1p\u0307\u2081\u23a4\n",
        "\u23a2   \u23a5\n",
        "\u23a2p\u0307\u2082\u23a5\n",
        "\u23a2   \u23a5\n",
        "\u23a2q\u0307\u2081\u23a5\n",
        "\u23a2   \u23a5\n",
        "\u23a2q\u0307\u2082\u23a5\n",
        "\u23a2   \u23a5\n",
        "\u23a3q\u0307\u2083\u23a6"
       ]
      },
      {
       "output_type": "stream",
       "stream": "stdout",
       "text": [
        "---\n"
       ]
      },
      {
       "latex": [
        "$$\\left[\\begin{matrix}\\ddot{p}_{1}\\\\\\ddot{p}_{2}\\\\\\ddot{q}_{1}\\\\\\ddot{q}_{2}\\\\\\ddot{q}_{3}\\end{matrix}\\right]$$"
       ],
       "metadata": {},
       "output_type": "display_data",
       "png": "[encoded data removed]",
       "text": [
        "\u23a1p\u0308\u2081\u23a4\n",
        "\u23a2   \u23a5\n",
        "\u23a2p\u0308\u2082\u23a5\n",
        "\u23a2   \u23a5\n",
        "\u23a2q\u0308\u2081\u23a5\n",
        "\u23a2   \u23a5\n",
        "\u23a2q\u0308\u2082\u23a5\n",
        "\u23a2   \u23a5\n",
        "\u23a3q\u0308\u2083\u23a6"
       ]
      },
      {
       "output_type": "stream",
       "stream": "stdout",
       "text": [
        "---\n"
       ]
      }
     ],
     "prompt_number": 3
    },
    {
     "cell_type": "code",
     "collapsed": false,
     "input": [
      "params = sp.symbols('s3, s4, m1, m2, m3, m4, g')\n",
      "st.make_global(params)\n",
      "\n",
      "ttau = st.symb_vector(\"tau1:{0}\".format(nq+1))\n",
      "st.make_global(ttau)"
     ],
     "language": "python",
     "metadata": {},
     "outputs": [],
     "prompt_number": 4
    },
    {
     "cell_type": "markdown",
     "metadata": {},
     "source": [
      "### Festlegung der Geometrie des mechanischen Systemes"
     ]
    },
    {
     "cell_type": "code",
     "collapsed": false,
     "input": [
      "mt.Rz(p1)"
     ],
     "language": "python",
     "metadata": {},
     "outputs": [
      {
       "latex": [
        "$$\\left[\\begin{matrix}\\cos{\\left (p_{1} \\right )} & - \\sin{\\left (p_{1} \\right )}\\\\\\sin{\\left (p_{1} \\right )} & \\cos{\\left (p_{1} \\right )}\\end{matrix}\\right]$$"
       ],
       "metadata": {},
       "output_type": "pyout",
       "png": "[encoded data removed]",
       "prompt_number": 5,
       "text": [
        "\u23a1cos(p\u2081)  -sin(p\u2081)\u23a4\n",
        "\u23a2                 \u23a5\n",
        "\u23a3sin(p\u2081)  cos(p\u2081) \u23a6"
       ]
      }
     ],
     "prompt_number": 5
    },
    {
     "cell_type": "code",
     "collapsed": false,
     "input": [
      "#Einheitsvektoren\n",
      "ex = sp.Matrix([1,0])\n",
      "ey = sp.Matrix([0,1])\n",
      "\n",
      "# Koordinaten der Schwerpunkte und Gelenke\n",
      "S1 = ex*q1 + ey*q2\n",
      "S2 = S1 + ex*q3\n",
      "\n",
      "# Gelenke\n",
      "G3 = S1\n",
      "G4 = S2\n",
      "S3 = G3 + mt.Rz(p1)*ey*s3*(-1)\n",
      "S4 = G4 + mt.Rz(p2)*ey*s4*(-1)\n",
      "\n",
      "# Zeitableitungen der Schwerpunktskoordinaten\n",
      "Sd1, Sd2, Sd3, Sd4 = st.col_split(st.time_deriv(st.col_stack(S1, S2, S3, S4), ttheta)) ##"
     ],
     "language": "python",
     "metadata": {},
     "outputs": [
      {
       "latex": [
        "$$\\left[\\begin{matrix}\\dot{q}_{1}\\\\\\dot{q}_{2}\\end{matrix}\\right]$$"
       ],
       "metadata": {},
       "output_type": "display_data",
       "png": "[encoded data removed]",
       "text": [
        "\u23a1q\u0307\u2081\u23a4\n",
        "\u23a2   \u23a5\n",
        "\u23a3q\u0307\u2082\u23a6"
       ]
      },
      {
       "latex": [
        "$$\\left[\\begin{matrix}\\dot{q}_{1} + \\dot{q}_{3}\\\\\\dot{q}_{2}\\end{matrix}\\right]$$"
       ],
       "metadata": {},
       "output_type": "display_data",
       "png": "[encoded data removed]",
       "text": [
        "\u23a1q\u0307\u2081 + q\u0307\u2083\u23a4\n",
        "\u23a2         \u23a5\n",
        "\u23a3   q\u0307\u2082   \u23a6"
       ]
      },
      {
       "latex": [
        "$$\\left[\\begin{matrix}\\dot{p}_{1} s_{3} \\cos{\\left (p_{1} \\right )} + \\dot{q}_{1}\\\\\\dot{p}_{1} s_{3} \\sin{\\left (p_{1} \\right )} + \\dot{q}_{2}\\end{matrix}\\right]$$"
       ],
       "metadata": {},
       "output_type": "display_data",
       "png": "[encoded data removed]",
       "text": [
        "\u23a1p\u0307\u2081\u22c5s\u2083\u22c5cos(p\u2081) + q\u0307\u2081\u23a4\n",
        "\u23a2                    \u23a5\n",
        "\u23a3p\u0307\u2081\u22c5s\u2083\u22c5sin(p\u2081) + q\u0307\u2082\u23a6"
       ]
      },
      {
       "latex": [
        "$$\\left[\\begin{matrix}\\dot{p}_{2} s_{4} \\cos{\\left (p_{2} \\right )} + \\dot{q}_{1} + \\dot{q}_{3}\\\\\\dot{p}_{2} s_{4} \\sin{\\left (p_{2} \\right )} + \\dot{q}_{2}\\end{matrix}\\right]$$"
       ],
       "metadata": {},
       "output_type": "display_data",
       "png": "[encoded data removed]",
       "text": [
        "\u23a1p\u0307\u2082\u22c5s\u2084\u22c5cos(p\u2082) + q\u0307\u2081 + q\u0307\u2083\u23a4\n",
        "\u23a2                          \u23a5\n",
        "\u23a3   p\u0307\u2082\u22c5s\u2084\u22c5sin(p\u2082) + q\u0307\u2082   \u23a6"
       ]
      },
      {
       "output_type": "stream",
       "stream": "stdout",
       "text": [
        "---\n"
       ]
      }
     ],
     "prompt_number": 6
    },
    {
     "cell_type": "code",
     "collapsed": false,
     "input": [
      "# Energie\n",
      "T_rot = 0\n",
      "T_trans = ( m1*Sd1.T*Sd1 + m2*Sd2.T*Sd2 + m3*Sd3.T*Sd3 + m4*Sd4.T*Sd4 )/2\n",
      "\n",
      "T = T_rot + T_trans[0] ##\n",
      "\n",
      "V = m1*g*S1[1] + m2*g*S2[1] + m3*g*S3[1] + m4*g*S4[1]"
     ],
     "language": "python",
     "metadata": {},
     "outputs": [
      {
       "latex": [
        "$$\\frac{m_{1} \\dot{q}_{1}^{2}}{2} + \\frac{m_{1} \\dot{q}_{2}^{2}}{2} + \\frac{m_{2} \\dot{q}_{2}^{2}}{2} + \\frac{m_{2}}{2} \\left(\\dot{q}_{1} + \\dot{q}_{3}\\right)^{2} + \\frac{m_{3}}{2} \\left(\\dot{p}_{1} s_{3} \\sin{\\left (p_{1} \\right )} + \\dot{q}_{2}\\right)^{2} + \\frac{m_{3}}{2} \\left(\\dot{p}_{1} s_{3} \\cos{\\left (p_{1} \\right )} + \\dot{q}_{1}\\right)^{2} + \\frac{m_{4}}{2} \\left(\\dot{p}_{2} s_{4} \\sin{\\left (p_{2} \\right )} + \\dot{q}_{2}\\right)^{2} + \\frac{m_{4}}{2} \\left(\\dot{p}_{2} s_{4} \\cos{\\left (p_{2} \\right )} + \\dot{q}_{1} + \\dot{q}_{3}\\right)^{2}$$"
       ],
       "metadata": {},
       "output_type": "display_data",
       "png": "[encoded data removed]",
       "text": [
        "      2         2         2                 2                            2    \n",
        "m\u2081\u22c5q\u0307\u2081    m\u2081\u22c5q\u0307\u2082    m\u2082\u22c5q\u0307\u2082    m\u2082\u22c5(q\u0307\u2081 + q\u0307\u2083)    m\u2083\u22c5(p\u0307\u2081\u22c5s\u2083\u22c5sin(p\u2081) + q\u0307\u2082)    m\n",
        "\u2500\u2500\u2500\u2500\u2500\u2500\u2500 + \u2500\u2500\u2500\u2500\u2500\u2500\u2500 + \u2500\u2500\u2500\u2500\u2500\u2500\u2500 + \u2500\u2500\u2500\u2500\u2500\u2500\u2500\u2500\u2500\u2500\u2500\u2500\u2500\u2500\u2500 + \u2500\u2500\u2500\u2500\u2500\u2500\u2500\u2500\u2500\u2500\u2500\u2500\u2500\u2500\u2500\u2500\u2500\u2500\u2500\u2500\u2500\u2500\u2500\u2500\u2500\u2500 + \u2500\n",
        "   2         2         2             2                      2                 \n",
        "\n",
        "                        2                            2                        \n",
        "\u2083\u22c5(p\u0307\u2081\u22c5s\u2083\u22c5cos(p\u2081) + q\u0307\u2081)    m\u2084\u22c5(p\u0307\u2082\u22c5s\u2084\u22c5sin(p\u2082) + q\u0307\u2082)    m\u2084\u22c5(p\u0307\u2082\u22c5s\u2084\u22c5cos(p\u2082) + \n",
        "\u2500\u2500\u2500\u2500\u2500\u2500\u2500\u2500\u2500\u2500\u2500\u2500\u2500\u2500\u2500\u2500\u2500\u2500\u2500\u2500\u2500\u2500\u2500\u2500\u2500 + \u2500\u2500\u2500\u2500\u2500\u2500\u2500\u2500\u2500\u2500\u2500\u2500\u2500\u2500\u2500\u2500\u2500\u2500\u2500\u2500\u2500\u2500\u2500\u2500\u2500\u2500 + \u2500\u2500\u2500\u2500\u2500\u2500\u2500\u2500\u2500\u2500\u2500\u2500\u2500\u2500\u2500\u2500\u2500\u2500\u2500\u2500\u2500\n",
        "           2                            2                               2     \n",
        "\n",
        "          2\n",
        "q\u0307\u2081 + q\u0307\u2083) \n",
        "\u2500\u2500\u2500\u2500\u2500\u2500\u2500\u2500\u2500\u2500\u2500\n",
        "           "
       ]
      },
      {
       "output_type": "stream",
       "stream": "stdout",
       "text": [
        "---\n"
       ]
      }
     ],
     "prompt_number": 7
    },
    {
     "cell_type": "code",
     "collapsed": false,
     "input": [
      "external_forces = [0, 0, tau1, tau2, tau3]\n",
      "assert not any(external_forces[:np])\n",
      "mod = mt.generate_symbolic_model(T, V, ttheta, external_forces)"
     ],
     "language": "python",
     "metadata": {},
     "outputs": [],
     "prompt_number": 8
    },
    {
     "cell_type": "markdown",
     "metadata": {},
     "source": [
      "MM = mod.MM ##:M\n",
      "mod.calc_lbi_nf_state_eq()\n"
     ]
    },
    {
     "cell_type": "code",
     "collapsed": false,
     "input": [
      "%load_ext autoreload\n",
      "\n",
      "%autoreload 2"
     ],
     "language": "python",
     "metadata": {},
     "outputs": []
    },
    {
     "cell_type": "markdown",
     "metadata": {},
     "source": [
      "---\n",
      "\n",
      "### Trajektorienplanung durch L\u00f6sung einer Randwertaufgabe mittels `pytrajectory` "
     ]
    },
    {
     "cell_type": "code",
     "collapsed": false,
     "input": [
      "import pytrajectory\n",
      "reload(pytrajectory.system)\n",
      "pytrajectory.log.logger.setLevel(20)\n",
      "\n",
      "# im IPython-Notebook ist stderr-Ausgabe st\u00f6rend. Abschalten:\n",
      "pytrajectory.logging.root.handlers = [h for h in pytrajectory.logging.root.handlers if not h.stream.name == u'stderr']"
     ],
     "language": "python",
     "metadata": {},
     "outputs": [],
     "prompt_number": 12
    },
    {
     "cell_type": "code",
     "collapsed": false,
     "input": [
      "import matplotlib.pyplot as pl\n",
      "%matplotlib inline"
     ],
     "language": "python",
     "metadata": {},
     "outputs": [],
     "prompt_number": 13
    },
    {
     "cell_type": "code",
     "collapsed": false,
     "input": [
      "mod.calc_coll_part_lin_state_eq()"
     ],
     "language": "python",
     "metadata": {},
     "outputs": [],
     "prompt_number": 14
    },
    {
     "cell_type": "code",
     "collapsed": false,
     "input": [
      "parameter_values = [(s3, 0.25), (s4, 0.5), (g, 9.81)]"
     ],
     "language": "python",
     "metadata": {},
     "outputs": [],
     "prompt_number": 15
    },
    {
     "cell_type": "code",
     "collapsed": false,
     "input": [
      "vector_field = (mod.ff + mod.gg*mod.aa).subs(parameter_values) ##"
     ],
     "language": "python",
     "metadata": {},
     "outputs": [
      {
       "latex": [
        "$$\\left[\\begin{matrix}\\dot{p}_{1}\\\\\\dot{p}_{2}\\\\\\dot{q}_{1}\\\\\\dot{q}_{2}\\\\\\dot{q}_{3}\\\\- 4.0 \\ddot{q}_{1} \\cos{\\left (p_{1} \\right )} - 4.0 \\ddot{q}_{2} \\sin{\\left (p_{1} \\right )} - 39.24 \\sin{\\left (p_{1} \\right )}\\\\- 2.0 \\ddot{q}_{1} \\cos{\\left (p_{2} \\right )} - 2.0 \\ddot{q}_{2} \\sin{\\left (p_{2} \\right )} - 2.0 \\ddot{q}_{3} \\cos{\\left (p_{2} \\right )} - 19.62 \\sin{\\left (p_{2} \\right )}\\\\\\ddot{q}_{1}\\\\\\ddot{q}_{2}\\\\\\ddot{q}_{3}\\end{matrix}\\right]$$"
       ],
       "metadata": {},
       "output_type": "display_data",
       "png": "[encoded data removed]",
       "text": [
        "\u23a1                                            p\u0307\u2081                              \n",
        "\u23a2                                                                             \n",
        "\u23a2                                            p\u0307\u2082                              \n",
        "\u23a2                                                                             \n",
        "\u23a2                                            q\u0307\u2081                              \n",
        "\u23a2                                                                             \n",
        "\u23a2                                            q\u0307\u2082                              \n",
        "\u23a2                                                                             \n",
        "\u23a2                                            q\u0307\u2083                              \n",
        "\u23a2                                                                             \n",
        "\u23a2            --4.0\u22c5(-1)\u22c5q\u0308\u2081\u22c5cos(p\u2081) - -4.0\u22c5(-1)\u22c5q\u0308\u2082\u22c5sin(p\u2081) - -39.24\u22c5(-1)\u22c5sin(\n",
        "\u23a2                                                                             \n",
        "\u23a2--2.0\u22c5(-1)\u22c5q\u0308\u2081\u22c5cos(p\u2082) - -2.0\u22c5(-1)\u22c5q\u0308\u2082\u22c5sin(p\u2082) - -2.0\u22c5(-1)\u22c5q\u0308\u2083\u22c5cos(p\u2082) - -19.\n",
        "\u23a2                                                                             \n",
        "\u23a2                                            q\u0308\u2081                              \n",
        "\u23a2                                                                             \n",
        "\u23a2                                            q\u0308\u2082                              \n",
        "\u23a2                                                                             \n",
        "\u23a3                                            q\u0308\u2083                              \n",
        "\n",
        "               \u23a4\n",
        "               \u23a5\n",
        "               \u23a5\n",
        "               \u23a5\n",
        "               \u23a5\n",
        "               \u23a5\n",
        "               \u23a5\n",
        "               \u23a5\n",
        "               \u23a5\n",
        "               \u23a5\n",
        "p\u2081)            \u23a5\n",
        "               \u23a5\n",
        "62\u22c5(-1)\u22c5sin(p\u2082)\u23a5\n",
        "               \u23a5\n",
        "               \u23a5\n",
        "               \u23a5\n",
        "               \u23a5\n",
        "               \u23a5\n",
        "               \u23a6"
       ]
      },
      {
       "output_type": "stream",
       "stream": "stdout",
       "text": [
        "---\n"
       ]
      }
     ],
     "prompt_number": 16
    },
    {
     "cell_type": "code",
     "collapsed": false,
     "input": [
      "vector_field = (mod.ff + mod.gg*mod.aa).subs(parameter_values)#.subs(p2, p2 + pi)\n",
      "\n",
      "xx_aa = st.row_stack(mod.xx, mod.aa)\n",
      "\n",
      "vf_intern = st.expr_to_func(xx_aa, vector_field, modules='sympy', eltw_vectorize=False, list_wrapper=True)\n",
      "\n",
      "def vf(x, u):\n",
      "    xu = list(x) + list(u)\n",
      "    return vf_intern(*xu)\n",
      "\n",
      "\n",
      "# Randbedingungen:\n",
      "T0 = 0.0\n",
      "xx_start = [0.0]*len(mod.xx)\n",
      "\n",
      "T_end = 2\n",
      "pi = st.np.pi\n",
      "xx_end = [pi, pi, 3, 0, 0.4,  0, 0, 0, 0, 0]\n",
      "\n",
      "aa_start = [0.0]*3\n",
      "aa_end = [0.0]*3\n",
      "\n",
      "\n",
      "\n",
      "# Uhrzeit als Saat f\u00fcr Zufallsgenerator nutzen\n",
      "first_guess = {'seed' : 1952}\n",
      "S = pytrajectory.ControlSystem(vf, T0, T_end, xx_start, xx_end, aa_start, aa_end, use_chains=False, first_guess=first_guess, ierr=None)\n"
     ],
     "language": "python",
     "metadata": {},
     "outputs": [],
     "prompt_number": 17
    },
    {
     "cell_type": "code",
     "collapsed": false,
     "input": [
      "%time XX_func, a_func = S.solve()"
     ],
     "language": "python",
     "metadata": {},
     "outputs": [
      {
       "output_type": "stream",
       "stream": "stdout",
       "text": [
        "INFO: \t 1st Iteration: 10 spline parts\n"
       ]
      },
      {
       "output_type": "stream",
       "stream": "stdout",
       "text": [
        "INFO: \t 2nd Iteration: 20 spline parts\n"
       ]
      },
      {
       "output_type": "stream",
       "stream": "stdout",
       "text": [
        "INFO: \t 3rd Iteration: 40 spline parts\n"
       ]
      },
      {
       "output_type": "stream",
       "stream": "stdout",
       "text": [
        "INFO: \t   --> reached desired accuracy: True\n"
       ]
      },
      {
       "output_type": "stream",
       "stream": "stdout",
       "text": [
        "CPU times: user 5.82 s, sys: 108 ms, total: 5.92 s\n",
        "Wall time: 6.25 s\n"
       ]
      }
     ],
     "prompt_number": 18
    },
    {
     "cell_type": "code",
     "collapsed": false,
     "input": [
      "tt = st.np.arange(0, T_end, 1e-3)\n",
      "XX = st.np.empty((len(tt), 2*n))\n",
      "aa = st.np.empty((len(tt), nq))\n",
      "\n",
      "for i, t_val in enumerate(tt):\n",
      "    XX[i, :] = XX_func(t_val)\n",
      "    aa[i, :] = a_func(t_val)\n",
      "\n",
      "pl.plot(tt, XX[:, :5])"
     ],
     "language": "python",
     "metadata": {},
     "outputs": [
      {
       "metadata": {},
       "output_type": "pyout",
       "prompt_number": 19,
       "text": [
        "[<matplotlib.lines.Line2D at 0xb22522c>,\n",
        " <matplotlib.lines.Line2D at 0xb225eec>,\n",
        " <matplotlib.lines.Line2D at 0xb22546c>,\n",
        " <matplotlib.lines.Line2D at 0xb22524c>,\n",
        " <matplotlib.lines.Line2D at 0xb22594c>]"
       ]
      },
      {
       "metadata": {},
       "output_type": "display_data",
       "png": "[encoded data removed]",
       "text": [
        "<matplotlib.figure.Figure at 0xb69a22c>"
       ]
      }
     ],
     "prompt_number": 19
    },
    {
     "cell_type": "code",
     "collapsed": false,
     "input": [
      "pl.plot(tt, aa)"
     ],
     "language": "python",
     "metadata": {},
     "outputs": [
      {
       "metadata": {},
       "output_type": "pyout",
       "prompt_number": 20,
       "text": [
        "[<matplotlib.lines.Line2D at 0xb6c71cc>,\n",
        " <matplotlib.lines.Line2D at 0xb6c722c>,\n",
        " <matplotlib.lines.Line2D at 0xb6c72ec>]"
       ]
      },
      {
       "metadata": {},
       "output_type": "display_data",
       "png": "[encoded data removed]",
       "text": [
        "<matplotlib.figure.Figure at 0xb25e34c>"
       ]
      }
     ],
     "prompt_number": 20
    },
    {
     "cell_type": "markdown",
     "metadata": {},
     "source": [
      "### Probe durch L\u00f6sen der AWA"
     ]
    },
    {
     "cell_type": "code",
     "collapsed": false,
     "input": [
      "sm = st.SimulationModel(mod.ff, mod.gg, mod.xx, model_parameters=parameter_values)\n",
      "\n",
      "def controller1_func(xx, t):\n",
      "    # Zustand ignorieren (reine Steuerung)\n",
      "    return a_func(t)\n",
      "\n",
      "rhs = sm.create_simfunction(controller_function=controller1_func)\n",
      "\n"
     ],
     "language": "python",
     "metadata": {},
     "outputs": [],
     "prompt_number": 21
    },
    {
     "cell_type": "code",
     "collapsed": false,
     "input": [
      "xx0 = st.np.zeros(2*n) ##"
     ],
     "language": "python",
     "metadata": {},
     "outputs": [
      {
       "metadata": {},
       "output_type": "display_data",
       "text": [
        "array([ 0.,  0.,  0.,  0.,  0.,  0.,  0.,  0.,  0.,  0.])"
       ]
      },
      {
       "output_type": "stream",
       "stream": "stdout",
       "text": [
        "---\n"
       ]
      }
     ],
     "prompt_number": 22
    },
    {
     "cell_type": "code",
     "collapsed": false,
     "input": [
      "res = scipy.integrate.odeint(rhs, xx0, tt)\n",
      "X1, X2, X3, X4, X5 = res[:, :5].T\n",
      "\n",
      "res_tt = st.np.c_[tt, res, aa]\n",
      "st.np.save('data/rwa_np2_nq3/transition1.npy', res_tt)"
     ],
     "language": "python",
     "metadata": {},
     "outputs": [],
     "prompt_number": 23
    },
    {
     "cell_type": "code",
     "collapsed": false,
     "input": [
      "# Darstellung der Fehler:\n",
      "\n",
      "pl.plot(tt, res[:, :5]-XX[:, :5])"
     ],
     "language": "python",
     "metadata": {},
     "outputs": [
      {
       "metadata": {},
       "output_type": "pyout",
       "prompt_number": 24,
       "text": [
        "[<matplotlib.lines.Line2D at 0xb4728ac>,\n",
        " <matplotlib.lines.Line2D at 0xb472b2c>,\n",
        " <matplotlib.lines.Line2D at 0xb4726ac>,\n",
        " <matplotlib.lines.Line2D at 0xb4452ac>,\n",
        " <matplotlib.lines.Line2D at 0xb44534c>]"
       ]
      },
      {
       "metadata": {},
       "output_type": "display_data",
       "png": "[encoded data removed]",
       "text": [
        "<matplotlib.figure.Figure at 0xb6cf72c>"
       ]
      }
     ],
     "prompt_number": 24
    },
    {
     "cell_type": "markdown",
     "metadata": {},
     "source": [
      "Abweichungen zwischen Spline N\u00e4herung aus dem Kollokationsverfahren und L\u00f6sung der AWA sind sehr klein."
     ]
    },
    {
     "cell_type": "markdown",
     "metadata": {},
     "source": [
      "### Explizite Ber\u00fccksichtigung von Integratorketten"
     ]
    },
    {
     "cell_type": "code",
     "collapsed": false,
     "input": [
      "T_end = 2\n",
      "\n",
      "xx_end = [pi, pi, 3, 0, 0.4,  0, 0, 0, 0, 0]\n",
      "\n",
      "\n",
      "S_chains = pytrajectory.ControlSystem(vf, T0, T_end, xx_start, xx_end, aa_start, aa_end, use_chains=True, first_guess=first_guess, ierr=None)"
     ],
     "language": "python",
     "metadata": {},
     "outputs": [],
     "prompt_number": 25
    },
    {
     "cell_type": "code",
     "collapsed": false,
     "input": [
      "%time XX_func, a_func = S_chains.solve()\n",
      "\n",
      "tt = st.np.arange(0, T_end, 1e-3)\n",
      "XX = st.np.empty((len(tt), 2*n))\n",
      "aa = st.np.empty((len(tt), nq))\n",
      "\n",
      "\n",
      "for i, t_val in enumerate(tt):\n",
      "    XX[i, :] = XX_func(t_val)\n",
      "    aa[i, :] = a_func(t_val)\n",
      "\n",
      "pl.plot(tt, XX[:, :5])"
     ],
     "language": "python",
     "metadata": {},
     "outputs": [
      {
       "output_type": "stream",
       "stream": "stdout",
       "text": [
        "INFO: \t 1st Iteration: 10 spline parts\n"
       ]
      },
      {
       "output_type": "stream",
       "stream": "stdout",
       "text": [
        "INFO: \t 2nd Iteration: 20 spline parts\n"
       ]
      },
      {
       "output_type": "stream",
       "stream": "stdout",
       "text": [
        "INFO: \t 3rd Iteration: 40 spline parts\n"
       ]
      },
      {
       "output_type": "stream",
       "stream": "stdout",
       "text": [
        "INFO: \t   --> reached desired accuracy: True\n"
       ]
      },
      {
       "output_type": "stream",
       "stream": "stdout",
       "text": [
        "CPU times: user 10.3 s, sys: 160 ms, total: 10.4 s\n",
        "Wall time: 10.4 s\n"
       ]
      },
      {
       "metadata": {},
       "output_type": "pyout",
       "prompt_number": 26,
       "text": [
        "[<matplotlib.lines.Line2D at 0xbc091cc>,\n",
        " <matplotlib.lines.Line2D at 0xbc0910c>,\n",
        " <matplotlib.lines.Line2D at 0xbc09f6c>,\n",
        " <matplotlib.lines.Line2D at 0xbc09e2c>,\n",
        " <matplotlib.lines.Line2D at 0xbc09cec>]"
       ]
      },
      {
       "metadata": {},
       "output_type": "display_data",
       "png": "[encoded data removed]",
       "text": [
        "<matplotlib.figure.Figure at 0xb205aec>"
       ]
      }
     ],
     "prompt_number": 26
    },
    {
     "cell_type": "code",
     "collapsed": false,
     "input": [
      "pl.plot(tt, aa)"
     ],
     "language": "python",
     "metadata": {},
     "outputs": [
      {
       "metadata": {},
       "output_type": "pyout",
       "prompt_number": 27,
       "text": [
        "[<matplotlib.lines.Line2D at 0xbf61a2c>,\n",
        " <matplotlib.lines.Line2D at 0xbf61a8c>,\n",
        " <matplotlib.lines.Line2D at 0xbf61b4c>]"
       ]
      },
      {
       "metadata": {},
       "output_type": "display_data",
       "png": "[encoded data removed]",
       "text": [
        "<matplotlib.figure.Figure at 0xb22408c>"
       ]
      }
     ],
     "prompt_number": 27
    },
    {
     "cell_type": "code",
     "collapsed": false,
     "input": [
      "S.eqs.solver.avg_LM_time"
     ],
     "language": "python",
     "metadata": {},
     "outputs": [
      {
       "latex": [
        "$$0.183732350667$$"
       ],
       "metadata": {},
       "output_type": "pyout",
       "png": "[encoded data removed]",
       "prompt_number": 28,
       "text": [
        "0.183732350667"
       ]
      }
     ],
     "prompt_number": 28
    },
    {
     "cell_type": "code",
     "collapsed": false,
     "input": [
      "S_chains.eqs.solver.avg_LM_time"
     ],
     "language": "python",
     "metadata": {},
     "outputs": [
      {
       "latex": [
        "$$0.0636205220222$$"
       ],
       "metadata": {},
       "output_type": "pyout",
       "png": "[encoded data removed]",
       "prompt_number": 29,
       "text": [
        "0.0636205220222"
       ]
      }
     ],
     "prompt_number": 29
    },
    {
     "cell_type": "code",
     "collapsed": false,
     "input": [
      "res_tt = st.np.c_[tt, aa]\n",
      "st.np.save('data/rwa_np2_nq3/transition2.npy', res_tt)"
     ],
     "language": "python",
     "metadata": {},
     "outputs": [],
     "prompt_number": 30
    },
    {
     "cell_type": "markdown",
     "metadata": {},
     "source": [
      "### Konvergenzuntersuchung in Abh\u00e4ngigkeit von der Startsch\u00e4tzung (`seed`)"
     ]
    },
    {
     "cell_type": "code",
     "collapsed": false,
     "input": [
      "# Der folgdene Code dient zur Erzeugung der Daten Laufzeit > 1h\n",
      "\n",
      "results_chains = []\n",
      "results_no_chains = []\n",
      "\n",
      "N = 100\n",
      "pfname = \"data/chain_compare_pvm%i.pcl\" %N\n",
      "\n",
      "if 0:\n",
      "    for i in range(N):\n",
      "        print i, \"------\"\n",
      "        first_guess = {'seed' : i}\n",
      "        S_chains = pytrajectory.ControlSystem(vf, T0, T_end, xx_start, xx_end, aa_start, aa_end, use_chains=True, first_guess=first_guess, ierr=None, maxIt=5)\n",
      "        S_chains.solve()\n",
      "        nA = S_chains.eqs.trajectories.n_parts_x\n",
      "        res = (S_chains.reached_accuracy, nA, S_chains.T_sol)\n",
      "        results_chains.append(res)\n",
      "        print res\n",
      "        del S_chains\n",
      "\n",
      "\n",
      "        S_no_chains = pytrajectory.ControlSystem(vf, T0, T_end, xx_start, xx_end, aa_start, aa_end, use_chains=False, first_guess=first_guess, ierr=None, maxIt=5)\n",
      "        S_no_chains.solve()\n",
      "        nA = S_no_chains.eqs.trajectories.n_parts_x\n",
      "        res = (S_no_chains.reached_accuracy, nA, S_no_chains.T_sol)\n",
      "        results_no_chains.append(res)\n",
      "        print res\n",
      "        del S_no_chains\n",
      "\n",
      "        print \"\\n\"\n",
      "\n",
      "    C = st.Container()\n",
      "    C.results_chains = results_chains\n",
      "    C.results_no_chains = results_no_chains\n",
      "\n",
      "    \n",
      "\n",
      "    with open(pfname, 'w') as pfile:\n",
      "        pickle.dump(C, pfile)\n",
      "else:\n",
      "    \n",
      "\n",
      "    with open(pfname) as pfile:\n",
      "        C = pickle.load(pfile)"
     ],
     "language": "python",
     "metadata": {},
     "outputs": [],
     "prompt_number": 36
    },
    {
     "cell_type": "markdown",
     "metadata": {},
     "source": [
      "#### Visualisierung der Ergebnise"
     ]
    },
    {
     "cell_type": "code",
     "collapsed": false,
     "input": [
      "mm = 1./25.4 #mm to inch\n",
      "scale = 1.5\n",
      "fs = [78*mm*scale*2, 60*mm*scale*.8]\n",
      "\n",
      "color_list = ['#5778d5', '#2aa42a', '#d45656', '#000000']\n",
      "\n",
      "pl.rc('text', usetex=True)\n",
      "\n",
      "np = st.np\n",
      "\n",
      "def unpack(tuplist):\n",
      "    \n",
      "    res_dict = {20: [], 40: [], 80:[], 160:[], 1000:[]}\n",
      "    \n",
      "    for acc, nA, T in tuplist:\n",
      "        if not acc:\n",
      "            res_dict[1000].append(T)\n",
      "        else:\n",
      "            res_dict[nA].append(T)\n",
      "    \n",
      "    times_list = []\n",
      "    avg_list = []\n",
      "    for key, times in sorted(res_dict.items()):\n",
      "        times_list.append(len(times))\n",
      "        if len(times) ==0:\n",
      "            avg_list.append(0)\n",
      "        else:\n",
      "            avg_list.append(np.average(times))\n",
      "    \n",
      "    return times_list, avg_list\n",
      "\n",
      "times_c, avg_c = unpack(C.results_chains)\n",
      "times_nc, avg_nc = unpack(C.results_no_chains)\n",
      "\n",
      "T_fin = 6\n",
      "y_label_X = -.16\n",
      "sz = 12\n",
      "\n",
      "if 1:\n",
      "    \n",
      "    egal, (ax1, ax2) = pl.subplots(1, 2, figsize=fs)\n",
      "    \n",
      "    ax = ax1\n",
      "    \n",
      "    xx = np.arange(len(times_c)) \n",
      "    width = 0.8\n",
      "    ax.bar(xx, times_c, width, color=color_list[0])\n",
      "    \n",
      "    yticks = np.r_[25, 50, 75, 100]\n",
      "    ax.set_yticks(yticks)\n",
      "    ax.set_xticklabels(yticks)\n",
      "    \n",
      "    ax.set_xticks(np.r_[0, 1, 2, 3, 4] + .375)\n",
      "    ax.set_xticklabels([ \"$%s$\" % k for k in  [20, 40, 80, 160, r'\\mathrm{X}']], size=sz, weight=10)\n",
      "    \n",
      "    ax.set_ylabel(r'Anteil in \\%')\n",
      "    ax.set_xlabel(r'$n_\\mathrm{A}$')\n",
      "    \n",
      "    tcl = text_color_list = ['#000000', '#d45656', '#000000', '#000000', '#000000']\n",
      "    \n",
      "    \n",
      "    for i in range(len(times_c)):\n",
      "        ax.text(i+.1, 50, \"%i\" % times_c[i] + r\"\\%\", size=sz)\n",
      "    \n",
      "    hT = 115\n",
      "    hTt = 138\n",
      "    xTt = 0\n",
      "    \n",
      "    ax.set_title(r\"Mit Integratorkettenber\\\"{u}cksichtigung\", size=sz)\n",
      "    ax.text(xTt, hTt, r\"\\O ~ Rechenzeit:\", size=sz)\n",
      "    for i in range(len(times_c)):\n",
      "        if np.isnan(avg_c[i]):\n",
      "            continue\n",
      "        ax.text(i+.2, hT, \"%3.0fs\" % avg_c[i], size=sz)\n",
      "    \n",
      "    \n",
      "    ax.axis([-.3, 5.2, -1, 165])\n",
      "    \n",
      "if 1:    \n",
      "    ax = ax2\n",
      "    \n",
      "    #IPS()\n",
      "    ax.bar(xx, times_nc, width, color=color_list[0])\n",
      "    \n",
      "    ax.set_yticks(np.r_[25, 50, 75, 100])\n",
      "    ax.set_xticks(np.r_[0, 1, 2, 3, 4] + .375)\n",
      "    ax.set_xticklabels([ \"$%s$\" % k for k in  [20, 40, 80, 160, r'\\mathrm{X}']])\n",
      "    \n",
      "    \n",
      "    # hintergrund f\u00fcr kontrast    \n",
      "    ax.bar(xx[1:2], 30, width, bottom=40, color='white', alpha=.4)\n",
      "    \n",
      "    for i in range(len(times_nc)):\n",
      "        ax.text(i+.1, 50, \"%i\" % times_nc[i] + r\"\\%\", size=sz)\n",
      "    \n",
      "    ax.set_title(r\"Ohne Integratorkettenber\\\"{u}cksichtigung\", size=sz)\n",
      "    ax.text(xTt, hTt, r\"\\O ~ Rechenzeit:\", size=sz)\n",
      "    for i in range(len(times_nc)):\n",
      "        if np.isnan(avg_nc[i]):\n",
      "            continue\n",
      "        ax.text(i+.2, hT, \"%3.0fs\" % avg_nc[i], size=sz)\n",
      "        ax.set_xlabel(r'$n_\\mathrm{A}$')\n",
      "    \n",
      "    \n",
      "    ax.axis([-.3, 5.2, -1, 165])\n"
     ],
     "language": "python",
     "metadata": {},
     "outputs": [
      {
       "metadata": {},
       "output_type": "display_data",
       "png": "[encoded data removed]",
       "text": [
        "<matplotlib.figure.Figure at 0xc0aacac>"
       ]
      }
     ],
     "prompt_number": 45
    }
   ],
   "metadata": {}
  }
 ]
}