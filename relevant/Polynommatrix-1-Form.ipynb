{
 "metadata": {
  "name": "",
  "signature": "sha256:e46acda7f4047e50fefebac67ddf6896480db65b3bf383116d5f16468b7760f3"
 },
 "nbformat": 3,
 "nbformat_minor": 0,
 "worksheets": [
  {
   "cells": [
    {
     "cell_type": "code",
     "collapsed": false,
     "input": [
      "import time\n",
      "print time.ctime()\n",
      "%load_ext displaytools"
     ],
     "language": "python",
     "metadata": {},
     "outputs": [
      {
       "output_type": "stream",
       "stream": "stdout",
       "text": [
        "Sat Jan 23 20:20:05 2016\n"
       ]
      }
     ],
     "prompt_number": 1
    },
    {
     "cell_type": "code",
     "collapsed": false,
     "input": [
      "import sympy as sp\n",
      "from sympy import sin, cos\n",
      "import symb_tools as st\n",
      "import non_commutative_tools as nct\n",
      "import pycartan as pc\n",
      "sp.interactive.printing.init_printing(1)"
     ],
     "language": "python",
     "metadata": {},
     "outputs": [],
     "prompt_number": 2
    },
    {
     "cell_type": "code",
     "collapsed": false,
     "input": [
      "#tmp -Rechnung\n",
      "\n",
      "x1, x2, x3, s = sp.symbols('x1, x2, x3, s', commutative=False)\n",
      "xx = sp.Matrix([x1, x2, x3])\n",
      "xxdot = st.perform_time_derivative(xx, xx)\n",
      "xxddot = st.perform_time_derivative(xx, xx, order=2)\n",
      "st.make_global(xx, 1)\n",
      "st.make_global(xxdot, 1)\n",
      "st.make_global(xxddot, 1)\n",
      "XX = st.concat_rows(xx, xxdot, xxddot) ##:T"
     ],
     "language": "python",
     "metadata": {},
     "outputs": [
      {
       "latex": [
        "XX.T := $$\\left[\\begin{matrix}x_{1} & x_{2} & x_{3} & \\dot{x}_{1} & \\dot{x}_{2} & \\dot{x}_{3} & \\ddot{x}_{1} & \\ddot{x}_{2} & \\ddot{x}_{3}\\end{matrix}\\right]$$"
       ],
       "metadata": {},
       "output_type": "display_data",
       "png": "[encoded data removed]",
       "text": [
        "XX.T := [x\u2081  x\u2082  x\u2083  x\u0307\u2081  x\u0307\u2082  x\u0307\u2083  x\u0308\u2081  x\u0308\u2082  x\u0308\u2083]"
       ]
      },
      {
       "output_type": "stream",
       "stream": "stdout",
       "text": [
        "---\n"
       ]
      }
     ],
     "prompt_number": 3
    },
    {
     "cell_type": "markdown",
     "metadata": {},
     "source": [
      "$$\n",
      "%<custom_config>\n",
      "\\newcommand{\\d}{\\mathrm{d}}\n",
      "\\newcommand{\\col}{\\mathrm{col}}\n",
      "\\newcommand{\\bs}{\\boldsymbol}\n",
      "\\newcommand{\\Ddt}{\\left(\\tfrac{d}{dt}\\right)}\n",
      "%</custom_config>\n",
      "$$\n",
      "\n",
      "Die komponentenweise Berechnung von $\\d \\bs L \\Ddt$ und die Anwendung des Ergebnisses auf eine 1-Form wird an einem konkreten Beispiel durch die getrennte Berechnung der beiden Seiten von <br><br>\n",
      "$$ \n",
      "\\d \\left( \\bs L\\Ddt \\bs \\psi \\right)\n",
      "=\n",
      "\\left(\\d \\bs L\\Ddt \\right)  \\bs \\psi  +  \\bs L \\Ddt \\d \\bs \\psi\n",
      "$$\n",
      "\u00fcberpr\u00fcft. Dazu werden die folgenden Zwischenergebnisse berechnet\n",
      "$$ \\underbrace{\n",
      "\\d \\left( \\bs L\\Ddt \\bs \\psi \\right)\n",
      "}_{=:\\bs \\omega_1 }\n",
      "=\n",
      " \\underbrace{\n",
      " \\overbrace{\n",
      "\\left(\\d \\bs L\\Ddt \\right)  \\bs \\psi\n",
      "}^{\\bs \\rho}\n",
      "+\n",
      "\\overbrace{\n",
      "\\bs L \\Ddt \\d \\bs \\psi\n",
      "}^{\\bs \\varphi}\n",
      "}_{=:\\bs \\omega_2 }\n",
      "$$"
     ]
    },
    {
     "cell_type": "markdown",
     "metadata": {},
     "source": [
      "#### Festlegung von $\\bs \\psi$"
     ]
    },
    {
     "cell_type": "code",
     "collapsed": false,
     "input": [
      "psi_coeff = sp.Matrix([[1, x3, 0], [sin(x3), 0, 0], [0, 0, 1]]) ##:"
     ],
     "language": "python",
     "metadata": {},
     "outputs": [
      {
       "latex": [
        "psi_coeff := $$\\left[\\begin{matrix}1 & x_{3} & 0\\\\\\sin{\\left (x_{3} \\right )} & 0 & 0\\\\0 & 0 & 1\\end{matrix}\\right]$$"
       ],
       "metadata": {},
       "output_type": "display_data",
       "png": "[encoded data removed]",
       "text": [
        "psi_coeff := \u23a1   1     x\u2083  0\u23a4\n",
        "\u23a2              \u23a5\n",
        "\u23a2sin(x\u2083)  0   0\u23a5\n",
        "\u23a2              \u23a5\n",
        "\u23a3   0     0   1\u23a6"
       ]
      },
      {
       "output_type": "stream",
       "stream": "stdout",
       "text": [
        "---\n"
       ]
      }
     ],
     "prompt_number": 4
    },
    {
     "cell_type": "code",
     "collapsed": false,
     "input": [
      "psi_coeff_extended = st.concat_cols(psi_coeff, sp.zeros(3, 6))\n",
      "\n",
      "psi1 = pc.DifferentialForm(1, XX, coeff=psi_coeff_extended[0,:]) ##:\n",
      "psi2 = pc.DifferentialForm(1, XX, coeff=psi_coeff_extended[1,:]) ##:\n",
      "psi3 = pc.DifferentialForm(1, XX, coeff=psi_coeff_extended[2,:]) ##:"
     ],
     "language": "python",
     "metadata": {},
     "outputs": [
      {
       "metadata": {},
       "output_type": "display_data",
       "text": [
        "psi1 := (1) dx1+(x3) dx2"
       ]
      },
      {
       "output_type": "stream",
       "stream": "stdout",
       "text": [
        "---\n"
       ]
      },
      {
       "metadata": {},
       "output_type": "display_data",
       "text": [
        "psi2 := (sin(x3)) dx1"
       ]
      },
      {
       "output_type": "stream",
       "stream": "stdout",
       "text": [
        "---\n"
       ]
      },
      {
       "metadata": {},
       "output_type": "display_data",
       "text": [
        "psi3 := (1) dx3"
       ]
      },
      {
       "output_type": "stream",
       "stream": "stdout",
       "text": [
        "---\n"
       ]
      }
     ],
     "prompt_number": 5
    },
    {
     "cell_type": "markdown",
     "metadata": {},
     "source": [
      "#### Festlegung von $\\bs L(s)$ mit $s \\stackrel{\\wedge}{=}\\frac{d}{dt}$"
     ]
    },
    {
     "cell_type": "code",
     "collapsed": false,
     "input": [
      "L = sp.Matrix([[0, xdot3, x2*s], [s, 0, s**2]]) ##:"
     ],
     "language": "python",
     "metadata": {},
     "outputs": [
      {
       "latex": [
        "L := $$\\left[\\begin{matrix}0 & \\dot{x}_{3} & x_{2} s\\\\s & 0 & s^{2}\\end{matrix}\\right]$$"
       ],
       "metadata": {},
       "output_type": "display_data",
       "png": "[encoded data removed]",
       "text": [
        "L := \u23a10  x\u0307\u2083  x\u2082\u22c5s\u23a4\n",
        "\u23a2            \u23a5\n",
        "\u23a2          2 \u23a5\n",
        "\u23a3s   0    s  \u23a6"
       ]
      },
      {
       "output_type": "stream",
       "stream": "stdout",
       "text": [
        "---\n"
       ]
      }
     ],
     "prompt_number": 20
    },
    {
     "cell_type": "markdown",
     "metadata": {},
     "source": [
      "#### Durchf\u00fchrung der Berechnungen\n",
      "\n",
      "$L\\Ddt \\cdot$(Koeffizentenmatrix von $\\bs \\psi$)"
     ]
    },
    {
     "cell_type": "code",
     "collapsed": false,
     "input": [
      "tmp = nct.nc_mul(L, psi_coeff)##"
     ],
     "language": "python",
     "metadata": {},
     "outputs": [
      {
       "latex": [
        "$$\\left[\\begin{matrix}\\dot{x}_{3} \\sin{\\left (x_{3} \\right )} & 0 & x_{2} s\\\\s & s x_{3} & s^{2}\\end{matrix}\\right]$$"
       ],
       "metadata": {},
       "output_type": "display_data",
       "png": "[encoded data removed]",
       "text": [
        "\u23a1x\u0307\u2083\u22c5sin(x\u2083)   0    x\u2082\u22c5s\u23a4\n",
        "\u23a2                       \u23a5\n",
        "\u23a2                     2 \u23a5\n",
        "\u23a3     s       s\u22c5x\u2083   s  \u23a6"
       ]
      },
      {
       "output_type": "stream",
       "stream": "stdout",
       "text": [
        "---\n"
       ]
      }
     ],
     "prompt_number": 21
    },
    {
     "cell_type": "markdown",
     "metadata": {},
     "source": [
      "---\n",
      "Ableitungsoperator nach rechts schieben."
     ]
    },
    {
     "cell_type": "code",
     "collapsed": false,
     "input": [
      "L_psi_coeff = nct.right_shift_all(tmp, func_symbols=xx) ##:"
     ],
     "language": "python",
     "metadata": {},
     "outputs": [
      {
       "latex": [
        "L_psi_coeff := $$\\left[\\begin{matrix}\\dot{x}_{3} \\sin{\\left (x_{3} \\right )} & 0 & x_{2} s\\\\s & x_{3} s + \\dot{x}_{3} & s^{2}\\end{matrix}\\right]$$"
       ],
       "metadata": {},
       "output_type": "display_data",
       "png": "[encoded data removed]",
       "text": [
        "L_psi_coeff := \u23a1x\u0307\u2083\u22c5sin(x\u2083)      0       x\u2082\u22c5s\u23a4\n",
        "\u23a2                             \u23a5\n",
        "\u23a2                           2 \u23a5\n",
        "\u23a3     s       x\u2083\u22c5s + x\u0307\u2083   s  \u23a6"
       ]
      },
      {
       "output_type": "stream",
       "stream": "stdout",
       "text": [
        "---\n"
       ]
      }
     ],
     "prompt_number": 22
    },
    {
     "cell_type": "markdown",
     "metadata": {},
     "source": [
      "---\n",
      "Koeffizientenmatrix `C1` bez\u00fcglich $\\d \\bs x, \\d \\dot {\\bs x}$ und $\\d \\ddot{\\bs x}$ bestimmen."
     ]
    },
    {
     "cell_type": "code",
     "collapsed": false,
     "input": [
      "P0 = L_psi_coeff.subs(s,0)\n",
      "P1 = L_psi_coeff.diff(s).subs(s,0)\n",
      "P2 = L_psi_coeff.diff(s,2).subs(s,0)/2\n",
      "C1 = L_psi_coeff2 = st.concat_cols(P0, P1, P2) ##:"
     ],
     "language": "python",
     "metadata": {},
     "outputs": [
      {
       "latex": [
        "C1 := $$\\left[\\begin{matrix}\\dot{x}_{3} \\sin{\\left (x_{3} \\right )} & 0 & 0 & 0 & 0 & x_{2} & 0 & 0 & 0\\\\0 & \\dot{x}_{3} & 0 & 1 & x_{3} & 0 & 0 & 0 & 1\\end{matrix}\\right]$$"
       ],
       "metadata": {},
       "output_type": "display_data",
       "png": "[encoded data removed]",
       "text": [
        "C1 := \u23a1x\u0307\u2083\u22c5sin(x\u2083)   0   0  0  0   x\u2082  0  0  0\u23a4\n",
        "\u23a2                                       \u23a5\n",
        "\u23a3     0       x\u0307\u2083  0  1  x\u2083  0   0  0  1\u23a6"
       ]
      },
      {
       "output_type": "stream",
       "stream": "stdout",
       "text": [
        "---\n"
       ]
      }
     ],
     "prompt_number": 23
    },
    {
     "cell_type": "markdown",
     "metadata": {},
     "source": [
      "---\n",
      "1-Formen $\\left( \\bs L\\Ddt \\bs \\psi \\right)$ erstellen."
     ]
    },
    {
     "cell_type": "code",
     "collapsed": false,
     "input": [
      "L_psi1 = pc.DifferentialForm(1, XX, coeff=C1[0,:])##\n",
      "L_psi2 = pc.DifferentialForm(1, XX, coeff=C1[1,:])##"
     ],
     "language": "python",
     "metadata": {},
     "outputs": [
      {
       "metadata": {},
       "output_type": "display_data",
       "text": [
        "(xdot3*sin(x3)) dx1+(x2) dxdot3"
       ]
      },
      {
       "output_type": "stream",
       "stream": "stdout",
       "text": [
        "---\n"
       ]
      },
      {
       "metadata": {},
       "output_type": "display_data",
       "text": [
        "(xdot3) dx2+(1) dxdot1+(x3) dxdot2+(1) dxddot3"
       ]
      },
      {
       "output_type": "stream",
       "stream": "stdout",
       "text": [
        "---\n"
       ]
      }
     ],
     "prompt_number": 24
    },
    {
     "cell_type": "markdown",
     "metadata": {},
     "source": [
      "---\n",
      "2-Formen $\\d \\left( \\bs L\\Ddt \\bs \\psi \\right)$ berechnen."
     ]
    },
    {
     "cell_type": "code",
     "collapsed": false,
     "input": [
      "omega1_1 = L_psi1.d ##:\n",
      "omega1_2 = L_psi2.d ##:"
     ],
     "language": "python",
     "metadata": {},
     "outputs": [
      {
       "metadata": {},
       "output_type": "display_data",
       "text": [
        "omega1_1 := (-xdot3*cos(x3)) dx1^dx3+(-sin(x3)) dx1^dxdot3+(1) dx2^dxdot3"
       ]
      },
      {
       "output_type": "stream",
       "stream": "stdout",
       "text": [
        "---\n"
       ]
      },
      {
       "metadata": {},
       "output_type": "display_data",
       "text": [
        "omega1_2 := (-1) dx2^dxdot3+(1) dx3^dxdot2"
       ]
      },
      {
       "output_type": "stream",
       "stream": "stdout",
       "text": [
        "---\n"
       ]
      }
     ],
     "prompt_number": 34
    },
    {
     "cell_type": "markdown",
     "metadata": {},
     "source": [
      "---\n",
      "#### $\\bs \\omega_2$ (andere Seite der Gleichung) bestimmen\n",
      "\n",
      "$\\d \\bs \\psi$ bestimmen."
     ]
    },
    {
     "cell_type": "code",
     "collapsed": false,
     "input": [
      "psi1.d ##\n",
      "psi2.d ##\n",
      "psi3.d ##"
     ],
     "language": "python",
     "metadata": {},
     "outputs": [
      {
       "metadata": {},
       "output_type": "display_data",
       "text": [
        "(-1) dx2^dx3"
       ]
      },
      {
       "output_type": "stream",
       "stream": "stdout",
       "text": [
        "___\n"
       ]
      },
      {
       "metadata": {},
       "output_type": "display_data",
       "text": [
        "(-cos(x3)) dx1^dx3"
       ]
      },
      {
       "output_type": "stream",
       "stream": "stdout",
       "text": [
        "___\n"
       ]
      },
      {
       "metadata": {},
       "output_type": "display_data",
       "text": [
        "0"
       ]
      },
      {
       "output_type": "stream",
       "stream": "stdout",
       "text": [
        "___\n"
       ]
      }
     ],
     "prompt_number": 26
    },
    {
     "cell_type": "markdown",
     "metadata": {},
     "source": [
      "Bestimmung von $\\bs \\varphi:= \\bs L\\Ddt \\d\\bs \\psi$ als Zwischenergebnis (mittels manueller Anwendung von $\\bs L\\Ddt$ auf $\\bs \\d \\psi$)."
     ]
    },
    {
     "cell_type": "code",
     "collapsed": false,
     "input": [
      "L##\n",
      "phi1 = xdot3*psi2.d + x2*psi3.d.dot() ##:\n",
      "phi2 = 1*psi1.d.dot() + psi3.d.dot().dot() ##:"
     ],
     "language": "python",
     "metadata": {},
     "outputs": [
      {
       "latex": [
        "$$\\left[\\begin{matrix}0 & \\dot{x}_{3} & x_{2} s\\\\s & 0 & s^{2}\\end{matrix}\\right]$$"
       ],
       "metadata": {},
       "output_type": "display_data",
       "png": "[encoded data removed]",
       "text": [
        "\u23a10  x\u0307\u2083  x\u2082\u22c5s\u23a4\n",
        "\u23a2            \u23a5\n",
        "\u23a2          2 \u23a5\n",
        "\u23a3s   0    s  \u23a6"
       ]
      },
      {
       "output_type": "stream",
       "stream": "stdout",
       "text": [
        "___\n"
       ]
      },
      {
       "metadata": {},
       "output_type": "display_data",
       "text": [
        "phi1 := (-cos(x3)*xdot3) dx1^dx3"
       ]
      },
      {
       "output_type": "stream",
       "stream": "stdout",
       "text": [
        "---\n"
       ]
      },
      {
       "metadata": {},
       "output_type": "display_data",
       "text": [
        "phi2 := (-1) dx2^dxdot3+(1) dx3^dxdot2"
       ]
      },
      {
       "output_type": "stream",
       "stream": "stdout",
       "text": [
        "---\n"
       ]
      }
     ],
     "prompt_number": 36
    },
    {
     "cell_type": "markdown",
     "metadata": {},
     "source": [
      "---\n",
      "\n",
      "Eintr\u00e4ge von $\\d \\bs L\\Ddt$ bestimmen."
     ]
    },
    {
     "cell_type": "code",
     "collapsed": false,
     "input": [
      "dL11 = pc.d(L[0,0], XX) ##:\n",
      "dL12 = pc.d(L[0,1], XX) ##:\n",
      "dL13 = pc.d(L[0,2], XX) ##:\n",
      "\n",
      "dL21 = pc.d(L[1,0], XX) ##:\n",
      "dL22 = pc.d(L[1,1], XX) ##:\n",
      "dL23 = pc.d(L[1,2], XX) ##:"
     ],
     "language": "python",
     "metadata": {},
     "outputs": [
      {
       "metadata": {},
       "output_type": "display_data",
       "text": [
        "dL11 := 0"
       ]
      },
      {
       "output_type": "stream",
       "stream": "stdout",
       "text": [
        "---\n"
       ]
      },
      {
       "metadata": {},
       "output_type": "display_data",
       "text": [
        "dL12 := (1) dxdot3"
       ]
      },
      {
       "output_type": "stream",
       "stream": "stdout",
       "text": [
        "---\n"
       ]
      },
      {
       "metadata": {},
       "output_type": "display_data",
       "text": [
        "dL13 := (s) dx2"
       ]
      },
      {
       "output_type": "stream",
       "stream": "stdout",
       "text": [
        "---\n"
       ]
      },
      {
       "metadata": {},
       "output_type": "display_data",
       "text": [
        "dL21 := 0"
       ]
      },
      {
       "output_type": "stream",
       "stream": "stdout",
       "text": [
        "---\n"
       ]
      },
      {
       "metadata": {},
       "output_type": "display_data",
       "text": [
        "dL22 := 0"
       ]
      },
      {
       "output_type": "stream",
       "stream": "stdout",
       "text": [
        "---\n"
       ]
      },
      {
       "metadata": {},
       "output_type": "display_data",
       "text": [
        "dL23 := 0"
       ]
      },
      {
       "output_type": "stream",
       "stream": "stdout",
       "text": [
        "---\n"
       ]
      }
     ],
     "prompt_number": 33
    },
    {
     "cell_type": "markdown",
     "metadata": {},
     "source": [
      "Bestimmung von $\\bs \\rho:= \\d \\bs L\\Ddt \\bs \\psi$ als Zwischenergebnis"
     ]
    },
    {
     "cell_type": "code",
     "collapsed": false,
     "input": [
      "rho1 = (dL12^psi2) + (dL13.subs(s,1)^psi3.dot()) ##:\n",
      "rho2 = dL21^psi1 ##:"
     ],
     "language": "python",
     "metadata": {},
     "outputs": [
      {
       "metadata": {},
       "output_type": "display_data",
       "text": [
        "rho1 := (-sin(x3)) dx1^dxdot3+(1) dx2^dxdot3"
       ]
      },
      {
       "output_type": "stream",
       "stream": "stdout",
       "text": [
        "---\n"
       ]
      },
      {
       "metadata": {},
       "output_type": "display_data",
       "text": [
        "rho2 := 0"
       ]
      },
      {
       "output_type": "stream",
       "stream": "stdout",
       "text": [
        "---\n"
       ]
      }
     ],
     "prompt_number": 37
    },
    {
     "cell_type": "code",
     "collapsed": false,
     "input": [
      "omega2_1 = rho1 + phi1 ##:\n",
      "omega2_2 = rho2 + phi2 ##:"
     ],
     "language": "python",
     "metadata": {},
     "outputs": [
      {
       "metadata": {},
       "output_type": "display_data",
       "text": [
        "omega2_1 := (-cos(x3)*xdot3)dx1^dx3  +  (-sin(x3))dx1^dxdot3  +  (1)dx2^dxdot3"
       ]
      },
      {
       "output_type": "stream",
       "stream": "stdout",
       "text": [
        "---\n"
       ]
      },
      {
       "metadata": {},
       "output_type": "display_data",
       "text": [
        "omega2_2 := (-1)dx2^dxdot3  +  (1)dx3^dxdot2"
       ]
      },
      {
       "output_type": "stream",
       "stream": "stdout",
       "text": [
        "---\n"
       ]
      }
     ],
     "prompt_number": 57
    },
    {
     "cell_type": "code",
     "collapsed": false,
     "input": [
      "omega1_1 - omega2_1 ##\n",
      "\n",
      "omega1_2 - omega2_2 ##"
     ],
     "language": "python",
     "metadata": {},
     "outputs": [
      {
       "metadata": {},
       "output_type": "display_data",
       "text": [
        "(-xdot3*cos(x3) + cos(x3)*xdot3)dx1^dx3"
       ]
      },
      {
       "output_type": "stream",
       "stream": "stdout",
       "text": [
        "___\n"
       ]
      },
      {
       "metadata": {},
       "output_type": "display_data",
       "text": [
        "(0)dx1^dx2"
       ]
      },
      {
       "output_type": "stream",
       "stream": "stdout",
       "text": [
        "___\n"
       ]
      }
     ],
     "prompt_number": 56
    },
    {
     "cell_type": "code",
     "collapsed": false,
     "input": [
      "# Nichtkommutativit\u00e4t wird jetzt nicht mehr gebraucht\n",
      "nct.make_all_symbols_commutative((omega1_1 - omega2_1).coeff, \"\")[0].T"
     ],
     "language": "python",
     "metadata": {},
     "outputs": [
      {
       "latex": [
        "$$\\left[\\begin{array}{cccccccccccccccccccccccccccccccccccc}0 & 0 & 0 & 0 & 0 & 0 & 0 & 0 & 0 & 0 & 0 & 0 & 0 & 0 & 0 & 0 & 0 & 0 & 0 & 0 & 0 & 0 & 0 & 0 & 0 & 0 & 0 & 0 & 0 & 0 & 0 & 0 & 0 & 0 & 0 & 0\\end{array}\\right]$$"
       ],
       "metadata": {},
       "output_type": "pyout",
       "png": "[encoded data removed]",
       "prompt_number": 50,
       "text": [
        "[0  0  0  0  0  0  0  0  0  0  0  0  0  0  0  0  0  0  0  0  0  0  0  0  0  0 \n",
        " 0  0  0  0  0  0  0  0  0  0]"
       ]
      }
     ],
     "prompt_number": 50
    },
    {
     "cell_type": "markdown",
     "metadata": {},
     "source": [
      "Es gilt also $\\bs \\omega_1 = \\bs \\omega_2$."
     ]
    },
    {
     "cell_type": "code",
     "collapsed": false,
     "input": [
      "u = x3**2*cos(x1-x2)**3\n",
      "u.atoms(sp.Add)"
     ],
     "language": "python",
     "metadata": {},
     "outputs": [
      {
       "latex": [
        "$$\\left\\{x_{1} - x_{2}\\right\\}$$"
       ],
       "metadata": {},
       "output_type": "pyout",
       "png": "[encoded data removed]",
       "prompt_number": 52,
       "text": [
        "set([x\u2081 - x\u2082])"
       ]
      }
     ],
     "prompt_number": 52
    },
    {
     "cell_type": "code",
     "collapsed": false,
     "input": [
      "reload(pc)"
     ],
     "language": "python",
     "metadata": {},
     "outputs": [
      {
       "metadata": {},
       "output_type": "pyout",
       "prompt_number": 55,
       "text": [
        "<module 'pycartan' from '/home/ck/myModules/pycartan.py'>"
       ]
      }
     ],
     "prompt_number": 55
    },
    {
     "cell_type": "code",
     "collapsed": false,
     "input": [],
     "language": "python",
     "metadata": {},
     "outputs": []
    }
   ],
   "metadata": {}
  }
 ]
}