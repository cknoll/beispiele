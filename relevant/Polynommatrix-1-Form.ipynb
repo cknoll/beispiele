{
 "metadata": {
  "name": "",
  "signature": "sha256:45a04ee79a714207bc4226fc54179cb35dd4250f889827b24817010e6dc478a1"
 },
 "nbformat": 3,
 "nbformat_minor": 0,
 "worksheets": [
  {
   "cells": [
    {
     "cell_type": "code",
     "collapsed": false,
     "input": [
      "import time\n",
      "print time.ctime()\n",
      "%load_ext displaytools"
     ],
     "language": "python",
     "metadata": {},
     "outputs": [
      {
       "output_type": "stream",
       "stream": "stdout",
       "text": [
        "Sun Mar 20 16:31:17 2016\n"
       ]
      }
     ],
     "prompt_number": 1
    },
    {
     "cell_type": "code",
     "collapsed": false,
     "input": [
      "import sympy as sp\n",
      "from sympy import sin, cos\n",
      "import symbtools as st\n",
      "import symbtools.noncommutativetools as nct\n",
      "import pycartan as pc\n",
      "sp.interactive.printing.init_printing(1)"
     ],
     "language": "python",
     "metadata": {},
     "outputs": [],
     "prompt_number": 2
    },
    {
     "cell_type": "code",
     "collapsed": false,
     "input": [
      "#tmp -Rechnung\n",
      "\n",
      "x1, x2, x3, s = sp.symbols('x1, x2, x3, s', commutative=False)\n",
      "xx = sp.Matrix([x1, x2, x3])\n",
      "xxdot = st.time_deriv(xx, xx)\n",
      "xxddot = st.time_deriv(xx, xx, order=2)\n",
      "st.make_global(xx, xxdot, xxddot)\n",
      "XX = st.concat_rows(xx, xxdot, xxddot) ##:T"
     ],
     "language": "python",
     "metadata": {},
     "outputs": [
      {
       "latex": [
        "XX.T := $$\\left[\\begin{matrix}x_{1} & x_{2} & x_{3} & \\dot{x}_{1} & \\dot{x}_{2} & \\dot{x}_{3} & \\ddot{x}_{1} & \\ddot{x}_{2} & \\ddot{x}_{3}\\end{matrix}\\right]$$"
       ],
       "metadata": {},
       "output_type": "display_data",
       "png": "[encoded data removed]",
       "text": [
        "XX.T := [x\u2081  x\u2082  x\u2083  x\u0307\u2081  x\u0307\u2082  x\u0307\u2083  x\u0308\u2081  x\u0308\u2082  x\u0308\u2083]"
       ]
      },
      {
       "output_type": "stream",
       "stream": "stdout",
       "text": [
        "---\n"
       ]
      }
     ],
     "prompt_number": 3
    },
    {
     "cell_type": "markdown",
     "metadata": {},
     "source": [
      "$$\n",
      "%<custom_config>\n",
      "\\newcommand{\\d}{\\mathrm{d}}\n",
      "\\newcommand{\\col}{\\mathrm{col}}\n",
      "\\newcommand{\\bs}{\\boldsymbol}\n",
      "\\newcommand{\\Ddt}{\\left(\\tfrac{d}{dt}\\right)}\n",
      "\\newcommand{\\ddt}{\\tfrac{d}{dt}}\n",
      "\\newcommand{\\L}{\\bs L}\n",
      "%</custom_config>\n",
      "$$\n",
      "\n",
      "Gegeben seien\n",
      "$$\n",
      "\\L\\Ddt =\n",
      "\\left(\\begin{matrix}\n",
      "0 & \\dot x_3, & x_2 \\ddt \\\\\n",
      "\\ddt & 0  & \\Ddt^2\n",
      "\\end{matrix} \\right)\n",
      "\\quad\n",
      "\\text{und}\n",
      "\\quad\n",
      "\\bs \\eta =\n",
      "\\left(\\begin{matrix}\n",
      "\\d x_1 + x_3 \\d x_2 \\\\\n",
      "\\sin x_3 \\d x_1 \\\\\n",
      "\\d x_3\n",
      "\\end{matrix} \\right)\n",
      ".\n",
      "$$\n",
      "\n",
      "Die komponentenweise Berechnung von $\\d \\bs L \\Ddt$ und die Anwendung des Ergebnisses auf die Vektor-1-Form $\\bs \\eta$ wird durch die getrennte Berechnung der beiden Seiten von <br>\n",
      "$$ \n",
      "\\d \\left( \\bs L\\Ddt \\bs \\eta \\right) - \\bs L \\Ddt \\d \\bs \\eta\n",
      "=: \\left(\\d \\bs L\\Ddt \\right)  \\bs \\eta \n",
      "$$\n",
      "\u00fcberpr\u00fcft. Dazu werden die folgenden (Zwischen-)Ergebnisse eingef\u00fchrt\n",
      "$$ \\underbrace{\n",
      "\\overbrace{\n",
      "\\d \\left( \\bs L\\Ddt \\bs \\eta \\right)\n",
      "}^{\\bs \\zeta}\n",
      "-\n",
      "\\overbrace{\n",
      "\\bs L \\Ddt \\d \\bs \\eta\n",
      "}^{\\bs \\rho}\n",
      "}_{=:\\bs \\varphi_1 }\n",
      "=\n",
      " \\underbrace{\n",
      " \\left(\\d \\bs L\\Ddt \\right)  \\bs \\eta\n",
      "}_{=:\\bs \\varphi_2 }.\n",
      "$$"
     ]
    },
    {
     "cell_type": "markdown",
     "metadata": {},
     "source": [
      "#### Festlegung von $\\bs \\eta$"
     ]
    },
    {
     "cell_type": "code",
     "collapsed": false,
     "input": [
      "eta_coeff = sp.Matrix([[1, x3, 0], [sin(x3), 0, 0], [0, 0, 1]]) ##:"
     ],
     "language": "python",
     "metadata": {},
     "outputs": [
      {
       "latex": [
        "eta_coeff := $$\\left[\\begin{matrix}1 & x_{3} & 0\\\\\\sin{\\left (x_{3} \\right )} & 0 & 0\\\\0 & 0 & 1\\end{matrix}\\right]$$"
       ],
       "metadata": {},
       "output_type": "display_data",
       "png": "[encoded data removed]",
       "text": [
        "eta_coeff := \u23a1   1     x\u2083  0\u23a4\n",
        "\u23a2              \u23a5\n",
        "\u23a2sin(x\u2083)  0   0\u23a5\n",
        "\u23a2              \u23a5\n",
        "\u23a3   0     0   1\u23a6"
       ]
      },
      {
       "output_type": "stream",
       "stream": "stdout",
       "text": [
        "---\n"
       ]
      }
     ],
     "prompt_number": 4
    },
    {
     "cell_type": "code",
     "collapsed": false,
     "input": [
      "eta_coeff_extended = st.concat_cols(eta_coeff, sp.zeros(3, 6))\n",
      "\n",
      "eta1 = pc.DifferentialForm(1, XX, coeff=eta_coeff_extended[0,:]) ##:\n",
      "eta2 = pc.DifferentialForm(1, XX, coeff=eta_coeff_extended[1,:]) ##:\n",
      "eta3 = pc.DifferentialForm(1, XX, coeff=eta_coeff_extended[2,:]) ##:"
     ],
     "language": "python",
     "metadata": {},
     "outputs": [
      {
       "metadata": {},
       "output_type": "display_data",
       "text": [
        "eta1 := (1)dx1  +  (x3)dx2"
       ]
      },
      {
       "output_type": "stream",
       "stream": "stdout",
       "text": [
        "---\n"
       ]
      },
      {
       "metadata": {},
       "output_type": "display_data",
       "text": [
        "eta2 := (sin(x3))dx1"
       ]
      },
      {
       "output_type": "stream",
       "stream": "stdout",
       "text": [
        "---\n"
       ]
      },
      {
       "metadata": {},
       "output_type": "display_data",
       "text": [
        "eta3 := (1)dx3"
       ]
      },
      {
       "output_type": "stream",
       "stream": "stdout",
       "text": [
        "---\n"
       ]
      }
     ],
     "prompt_number": 5
    },
    {
     "cell_type": "markdown",
     "metadata": {},
     "source": [
      "#### Festlegung von $\\bs L(s)$ mit $s \\stackrel{\\wedge}{=}\\frac{d}{dt}$"
     ]
    },
    {
     "cell_type": "code",
     "collapsed": false,
     "input": [
      "L = sp.Matrix([[0, xdot3, x2*s], [s, 0, s**2]]) ##:"
     ],
     "language": "python",
     "metadata": {},
     "outputs": [
      {
       "latex": [
        "L := $$\\left[\\begin{matrix}0 & \\dot{x}_{3} & x_{2} s\\\\s & 0 & s^{2}\\end{matrix}\\right]$$"
       ],
       "metadata": {},
       "output_type": "display_data",
       "png": "[encoded data removed]",
       "text": [
        "L := \u23a10  x\u0307\u2083  x\u2082\u22c5s\u23a4\n",
        "\u23a2            \u23a5\n",
        "\u23a2          2 \u23a5\n",
        "\u23a3s   0    s  \u23a6"
       ]
      },
      {
       "output_type": "stream",
       "stream": "stdout",
       "text": [
        "---\n"
       ]
      }
     ],
     "prompt_number": 6
    },
    {
     "cell_type": "markdown",
     "metadata": {},
     "source": [
      "#### Durchf\u00fchrung der Berechnungen\n",
      "\n",
      "$L\\Ddt \\cdot$(Koeffizentenmatrix von $\\bs \\eta$)"
     ]
    },
    {
     "cell_type": "code",
     "collapsed": false,
     "input": [
      "tmp = nct.nc_mul(L, eta_coeff)##"
     ],
     "language": "python",
     "metadata": {},
     "outputs": [
      {
       "latex": [
        "$$\\left[\\begin{matrix}\\dot{x}_{3} \\sin{\\left (x_{3} \\right )} & 0 & x_{2} s\\\\s & s x_{3} & s^{2}\\end{matrix}\\right]$$"
       ],
       "metadata": {},
       "output_type": "display_data",
       "png": "[encoded data removed]",
       "text": [
        "\u23a1x\u0307\u2083\u22c5sin(x\u2083)   0    x\u2082\u22c5s\u23a4\n",
        "\u23a2                       \u23a5\n",
        "\u23a2                     2 \u23a5\n",
        "\u23a3     s       s\u22c5x\u2083   s  \u23a6"
       ]
      },
      {
       "output_type": "stream",
       "stream": "stdout",
       "text": [
        "---\n"
       ]
      }
     ],
     "prompt_number": 7
    },
    {
     "cell_type": "markdown",
     "metadata": {},
     "source": [
      "---\n",
      "Ableitungsoperator nach rechts schieben."
     ]
    },
    {
     "cell_type": "code",
     "collapsed": false,
     "input": [
      "L_eta_coeff = nct.right_shift_all(tmp, func_symbols=xx) ##:"
     ],
     "language": "python",
     "metadata": {},
     "outputs": [
      {
       "latex": [
        "L_eta_coeff := $$\\left[\\begin{matrix}\\dot{x}_{3} \\sin{\\left (x_{3} \\right )} & 0 & x_{2} s\\\\s & x_{3} s + \\dot{x}_{3} & s^{2}\\end{matrix}\\right]$$"
       ],
       "metadata": {},
       "output_type": "display_data",
       "png": "[encoded data removed]",
       "text": [
        "L_eta_coeff := \u23a1x\u0307\u2083\u22c5sin(x\u2083)      0       x\u2082\u22c5s\u23a4\n",
        "\u23a2                             \u23a5\n",
        "\u23a2                           2 \u23a5\n",
        "\u23a3     s       x\u2083\u22c5s + x\u0307\u2083   s  \u23a6"
       ]
      },
      {
       "output_type": "stream",
       "stream": "stdout",
       "text": [
        "---\n"
       ]
      }
     ],
     "prompt_number": 8
    },
    {
     "cell_type": "markdown",
     "metadata": {},
     "source": [
      "---\n",
      "Koeffizientenmatrix `C1` bez\u00fcglich $\\d \\bs x, \\d \\dot {\\bs x}$ und $\\d \\ddot{\\bs x}$ bestimmen."
     ]
    },
    {
     "cell_type": "code",
     "collapsed": false,
     "input": [
      "P0 = L_eta_coeff.subs(s,0)\n",
      "P1 = L_eta_coeff.diff(s).subs(s,0)\n",
      "P2 = L_eta_coeff.diff(s,2).subs(s,0)/2\n",
      "C1 = L_eta_coeff2 = st.concat_cols(P0, P1, P2) ##:"
     ],
     "language": "python",
     "metadata": {},
     "outputs": [
      {
       "latex": [
        "C1 := $$\\left[\\begin{matrix}\\dot{x}_{3} \\sin{\\left (x_{3} \\right )} & 0 & 0 & 0 & 0 & x_{2} & 0 & 0 & 0\\\\0 & \\dot{x}_{3} & 0 & 1 & x_{3} & 0 & 0 & 0 & 1\\end{matrix}\\right]$$"
       ],
       "metadata": {},
       "output_type": "display_data",
       "png": "[encoded data removed]",
       "text": [
        "C1 := \u23a1x\u0307\u2083\u22c5sin(x\u2083)   0   0  0  0   x\u2082  0  0  0\u23a4\n",
        "\u23a2                                       \u23a5\n",
        "\u23a3     0       x\u0307\u2083  0  1  x\u2083  0   0  0  1\u23a6"
       ]
      },
      {
       "output_type": "stream",
       "stream": "stdout",
       "text": [
        "---\n"
       ]
      }
     ],
     "prompt_number": 9
    },
    {
     "cell_type": "markdown",
     "metadata": {},
     "source": [
      "---\n",
      "1-Formen $\\left( \\bs L\\Ddt \\bs \\eta \\right)$ anlegen."
     ]
    },
    {
     "cell_type": "code",
     "collapsed": false,
     "input": [
      "L_eta1 = pc.DifferentialForm(1, XX, coeff=C1[0,:])##\n",
      "L_eta2 = pc.DifferentialForm(1, XX, coeff=C1[1,:])##"
     ],
     "language": "python",
     "metadata": {},
     "outputs": [
      {
       "metadata": {},
       "output_type": "display_data",
       "text": [
        "(xdot3*sin(x3))dx1  +  (x2)dxdot3"
       ]
      },
      {
       "output_type": "stream",
       "stream": "stdout",
       "text": [
        "---\n"
       ]
      },
      {
       "metadata": {},
       "output_type": "display_data",
       "text": [
        "(xdot3)dx2  +  (1)dxdot1  +  (x3)dxdot2  +  (1)dxddot3"
       ]
      },
      {
       "output_type": "stream",
       "stream": "stdout",
       "text": [
        "---\n"
       ]
      }
     ],
     "prompt_number": 10
    },
    {
     "cell_type": "markdown",
     "metadata": {},
     "source": [
      "---\n",
      "2-Formen $\\bs \\zeta := \\d \\left( \\bs L\\Ddt \\bs \\eta \\right)$ berechnen."
     ]
    },
    {
     "cell_type": "code",
     "collapsed": false,
     "input": [
      "zeta1 = L_eta1.d ##:\n",
      "zeta2 = L_eta2.d ##:"
     ],
     "language": "python",
     "metadata": {},
     "outputs": [
      {
       "metadata": {},
       "output_type": "display_data",
       "text": [
        "zeta1 := (-xdot3*cos(x3))dx1^dx3  +  (-sin(x3))dx1^dxdot3  +  (1)dx2^dxdot3"
       ]
      },
      {
       "output_type": "stream",
       "stream": "stdout",
       "text": [
        "---\n"
       ]
      },
      {
       "metadata": {},
       "output_type": "display_data",
       "text": [
        "zeta2 := (-1)dx2^dxdot3  +  (1)dx3^dxdot2"
       ]
      },
      {
       "output_type": "stream",
       "stream": "stdout",
       "text": [
        "---\n"
       ]
      }
     ],
     "prompt_number": 11
    },
    {
     "cell_type": "markdown",
     "metadata": {},
     "source": [
      "---\n",
      "#### Bestimmung von $\\bs \\rho:= \\bs L\\Ddt \\d \\bs \\eta$\n",
      "\n",
      "Dazu zun\u00e4chst $\\d \\bs \\eta$ berechen."
     ]
    },
    {
     "cell_type": "code",
     "collapsed": false,
     "input": [
      "eta1.d ##\n",
      "eta2.d ##\n",
      "eta3.d ##"
     ],
     "language": "python",
     "metadata": {},
     "outputs": [
      {
       "metadata": {},
       "output_type": "display_data",
       "text": [
        "(-1)dx2^dx3"
       ]
      },
      {
       "output_type": "stream",
       "stream": "stdout",
       "text": [
        "___\n"
       ]
      },
      {
       "metadata": {},
       "output_type": "display_data",
       "text": [
        "(-cos(x3))dx1^dx3"
       ]
      },
      {
       "output_type": "stream",
       "stream": "stdout",
       "text": [
        "___\n"
       ]
      },
      {
       "metadata": {},
       "output_type": "display_data",
       "text": [
        "(0)dx1^dx2"
       ]
      },
      {
       "output_type": "stream",
       "stream": "stdout",
       "text": [
        "___\n"
       ]
      }
     ],
     "prompt_number": 12
    },
    {
     "cell_type": "markdown",
     "metadata": {},
     "source": [
      "Bestimmung von $\\bs \\rho$ durch manuelle Anwendung von $\\bs L\\Ddt$ auf $\\bs \\d \\eta$."
     ]
    },
    {
     "cell_type": "code",
     "collapsed": false,
     "input": [
      "L##\n",
      "rho1 = xdot3*eta2.d + x2*eta3.d.dot() ##:\n",
      "rho2 = 1*eta1.d.dot() + eta3.d.dot().dot() ##:"
     ],
     "language": "python",
     "metadata": {},
     "outputs": [
      {
       "latex": [
        "$$\\left[\\begin{matrix}0 & \\dot{x}_{3} & x_{2} s\\\\s & 0 & s^{2}\\end{matrix}\\right]$$"
       ],
       "metadata": {},
       "output_type": "display_data",
       "png": "[encoded data removed]",
       "text": [
        "\u23a10  x\u0307\u2083  x\u2082\u22c5s\u23a4\n",
        "\u23a2            \u23a5\n",
        "\u23a2          2 \u23a5\n",
        "\u23a3s   0    s  \u23a6"
       ]
      },
      {
       "output_type": "stream",
       "stream": "stdout",
       "text": [
        "___\n"
       ]
      },
      {
       "metadata": {},
       "output_type": "display_data",
       "text": [
        "rho1 := (-cos(x3)*xdot3)dx1^dx3"
       ]
      },
      {
       "output_type": "stream",
       "stream": "stdout",
       "text": [
        "---\n"
       ]
      },
      {
       "metadata": {},
       "output_type": "display_data",
       "text": [
        "rho2 := (-1)dx2^dxdot3  +  (1)dx3^dxdot2"
       ]
      },
      {
       "output_type": "stream",
       "stream": "stdout",
       "text": [
        "---\n"
       ]
      }
     ],
     "prompt_number": 13
    },
    {
     "cell_type": "markdown",
     "metadata": {},
     "source": [
      "Damit ergibt sich $\\bs \\varphi_1 = \\bs \\zeta - \\bs \\rho$"
     ]
    },
    {
     "cell_type": "code",
     "collapsed": false,
     "input": [
      "phi1_1 = zeta1 - rho1 ##:\n",
      "phi1_2 = zeta2 - rho2 ##:"
     ],
     "language": "python",
     "metadata": {},
     "outputs": [
      {
       "metadata": {},
       "output_type": "display_data",
       "text": [
        "phi1_1 := (-xdot3*cos(x3) + cos(x3)*xdot3)dx1^dx3  +  (-sin(x3))dx1^dxdot3  +  (1)dx2^dxdot3"
       ]
      },
      {
       "output_type": "stream",
       "stream": "stdout",
       "text": [
        "---\n"
       ]
      },
      {
       "metadata": {},
       "output_type": "display_data",
       "text": [
        "phi1_2 := (0)dx1^dx2"
       ]
      },
      {
       "output_type": "stream",
       "stream": "stdout",
       "text": [
        "---\n"
       ]
      }
     ],
     "prompt_number": 14
    },
    {
     "cell_type": "markdown",
     "metadata": {},
     "source": [
      "---\n",
      "#### Andere Seite der Gleichung: Bestimmung von $ \\bs \\varphi_2$\n",
      "\n",
      "Zun\u00e4chst Eintr\u00e4ge von $\\d \\bs L\\Ddt$ bestimmen."
     ]
    },
    {
     "cell_type": "code",
     "collapsed": false,
     "input": [
      "dL11 = pc.d(L[0,0], XX) ##:\n",
      "dL12 = pc.d(L[0,1], XX) ##:\n",
      "dL13 = pc.d(L[0,2], XX) ##:\n",
      "\n",
      "dL21 = pc.d(L[1,0], XX) ##:\n",
      "dL22 = pc.d(L[1,1], XX) ##:\n",
      "dL23 = pc.d(L[1,2], XX) ##:"
     ],
     "language": "python",
     "metadata": {},
     "outputs": [
      {
       "metadata": {},
       "output_type": "display_data",
       "text": [
        "dL11 := (0)dx1"
       ]
      },
      {
       "output_type": "stream",
       "stream": "stdout",
       "text": [
        "---\n"
       ]
      },
      {
       "metadata": {},
       "output_type": "display_data",
       "text": [
        "dL12 := (1)dxdot3"
       ]
      },
      {
       "output_type": "stream",
       "stream": "stdout",
       "text": [
        "---\n"
       ]
      },
      {
       "metadata": {},
       "output_type": "display_data",
       "text": [
        "dL13 := (s)dx2"
       ]
      },
      {
       "output_type": "stream",
       "stream": "stdout",
       "text": [
        "---\n"
       ]
      },
      {
       "metadata": {},
       "output_type": "display_data",
       "text": [
        "dL21 := (0)dx1"
       ]
      },
      {
       "output_type": "stream",
       "stream": "stdout",
       "text": [
        "---\n"
       ]
      },
      {
       "metadata": {},
       "output_type": "display_data",
       "text": [
        "dL22 := (0)dx1"
       ]
      },
      {
       "output_type": "stream",
       "stream": "stdout",
       "text": [
        "---\n"
       ]
      },
      {
       "metadata": {},
       "output_type": "display_data",
       "text": [
        "dL23 := (0)dx1"
       ]
      },
      {
       "output_type": "stream",
       "stream": "stdout",
       "text": [
        "---\n"
       ]
      }
     ],
     "prompt_number": 15
    },
    {
     "cell_type": "markdown",
     "metadata": {},
     "source": [
      "Bestimmung von $\\bs \\varphi_2= \\d \\bs L\\Ddt \\bs \\eta$."
     ]
    },
    {
     "cell_type": "code",
     "collapsed": false,
     "input": [
      "phi2_1 = (dL12^eta2) + (dL13.subs(s,1)^eta3.dot()) ##:\n",
      "phi2_2 = dL21^eta1 ##:"
     ],
     "language": "python",
     "metadata": {},
     "outputs": [
      {
       "metadata": {},
       "output_type": "display_data",
       "text": [
        "phi2_1 := (-sin(x3))dx1^dxdot3  +  (1)dx2^dxdot3"
       ]
      },
      {
       "output_type": "stream",
       "stream": "stdout",
       "text": [
        "---\n"
       ]
      },
      {
       "metadata": {},
       "output_type": "display_data",
       "text": [
        "phi2_2 := (0)dx1^dx2"
       ]
      },
      {
       "output_type": "stream",
       "stream": "stdout",
       "text": [
        "---\n"
       ]
      }
     ],
     "prompt_number": 16
    },
    {
     "cell_type": "code",
     "collapsed": false,
     "input": [
      "phi1_1 - phi2_1 ##\n",
      "phi1_2 - phi2_2 ##"
     ],
     "language": "python",
     "metadata": {},
     "outputs": [
      {
       "metadata": {},
       "output_type": "display_data",
       "text": [
        "(-xdot3*cos(x3) + cos(x3)*xdot3)dx1^dx3"
       ]
      },
      {
       "output_type": "stream",
       "stream": "stdout",
       "text": [
        "___\n"
       ]
      },
      {
       "metadata": {},
       "output_type": "display_data",
       "text": [
        "(0)dx1^dx2"
       ]
      },
      {
       "output_type": "stream",
       "stream": "stdout",
       "text": [
        "___\n"
       ]
      }
     ],
     "prompt_number": 17
    },
    {
     "cell_type": "markdown",
     "metadata": {},
     "source": [
      "Warum ist die erste Differenz $\\neq 0$? Weil f\u00fcr die Anwendung des Differentialoperators die $\\bs x$-Variablen nichtkommutativ eingef\u00fchrt wurden."
     ]
    },
    {
     "cell_type": "code",
     "collapsed": false,
     "input": [
      "# Nichtkommutativit\u00e4t wird jetzt nicht mehr gebraucht\n",
      "nct.make_all_symbols_commutative((phi1_1 - phi2_1).coeff, \"\")[0].T"
     ],
     "language": "python",
     "metadata": {},
     "outputs": [
      {
       "latex": [
        "$$\\left[\\begin{array}{cccccccccccccccccccccccccccccccccccc}0 & 0 & 0 & 0 & 0 & 0 & 0 & 0 & 0 & 0 & 0 & 0 & 0 & 0 & 0 & 0 & 0 & 0 & 0 & 0 & 0 & 0 & 0 & 0 & 0 & 0 & 0 & 0 & 0 & 0 & 0 & 0 & 0 & 0 & 0 & 0\\end{array}\\right]$$"
       ],
       "metadata": {},
       "output_type": "pyout",
       "png": "[encoded data removed]",
       "prompt_number": 18,
       "text": [
        "[0  0  0  0  0  0  0  0  0  0  0  0  0  0  0  0  0  0  0  0  0  0  0  0  0  0 \n",
        " 0  0  0  0  0  0  0  0  0  0]"
       ]
      }
     ],
     "prompt_number": 18
    },
    {
     "cell_type": "markdown",
     "metadata": {},
     "source": [
      "Es gilt also tats\u00e4chlich $\\bs \\varphi_1 = \\bs \\varphi_2$."
     ]
    }
   ],
   "metadata": {}
  }
 ]
}