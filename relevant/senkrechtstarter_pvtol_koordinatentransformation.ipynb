{
 "metadata": {
  "name": "",
  "signature": "sha256:0574199ad83fd95bf1f38f6b31498b9055ad64f7643ddd93a94bc1b4ab91b666"
 },
 "nbformat": 3,
 "nbformat_minor": 0,
 "worksheets": [
  {
   "cells": [
    {
     "cell_type": "code",
     "collapsed": false,
     "input": [
      "import time\n",
      "print time.ctime()\n",
      "%load_ext displaytools"
     ],
     "language": "python",
     "metadata": {},
     "outputs": [
      {
       "output_type": "stream",
       "stream": "stdout",
       "text": [
        "Sun Feb 21 17:02:40 2016\n"
       ]
      }
     ],
     "prompt_number": 1
    },
    {
     "cell_type": "markdown",
     "metadata": {},
     "source": [
      "**Betrachtetes System:** Senkrechtstarter in der vertikalen Ebene\n",
      "\n",
      "<img src=\"files/images/pvtol.png\">\n",
      "\n",
      "\n",
      "**Betrachtete Fragen**:\n",
      "* Herleitung der Modellgleichungen\n",
      "* Bestimmung der passiven und aktiven Konfigurationskoordinaten\n",
      "* Nachweis, dass diese Aufspaltung nicht existiert, wenn eine Eingangsgr\u00f6\u00dfe entf\u00e4llt ($\\tau_2 = 0$)\n",
      "\n",
      "\n",
      "[//]: # (custom_config_start)\n",
      "$$\n",
      "\\newcommand{\\d}{\\mathrm{d}}\n",
      "\\newcommand{\\col}{\\mathrm{col}}\n",
      "\\newcommand{\\bs}{\\boldsymbol}\n",
      "\\newcommand{\\Ddt}{\\left(\\tfrac{d}{dt}\\right)}\n",
      "\\newcommand{\\ddt}{\\tfrac{d}{dt}}\n",
      "\\newcommand{\\tt}{\\boldsymbol{\\theta}}\n",
      "$$\n",
      "[//]: # (custom_config_end)"
     ]
    },
    {
     "cell_type": "code",
     "collapsed": false,
     "input": [
      "import sympy as sp\n",
      "from sympy import sin, cos, pi, Matrix\n",
      "from sympy.interactive import printing\n",
      "import model_tools as mt\n",
      "from model_tools import Rz\n",
      "import symb_tools as st\n",
      "import pycartan as pc\n",
      "\n",
      "printing.init_printing()"
     ],
     "language": "python",
     "metadata": {},
     "outputs": [],
     "prompt_number": 2
    },
    {
     "cell_type": "code",
     "collapsed": false,
     "input": [
      "np = 1\n",
      "nq = 2\n",
      "n = np + nq\n",
      "\n",
      "ttheta = st.symb_vector(\"theta1:{0}\".format(n+1)) ##:T\n",
      "tthetad = st.time_deriv(ttheta, ttheta) ##:T\n",
      "tthetadd = st.time_deriv(ttheta, ttheta, order=2) ##:T\n",
      "st.make_global(ttheta)\n",
      "st.make_global(tthetad)"
     ],
     "language": "python",
     "metadata": {},
     "outputs": [
      {
       "latex": [
        "ttheta.T := $$\\left[\\begin{matrix}\\theta_{1} & \\theta_{2} & \\theta_{3}\\end{matrix}\\right]$$"
       ],
       "metadata": {},
       "output_type": "display_data",
       "png": "[encoded data removed]",
       "text": [
        "ttheta.T := [\u03b8\u2081  \u03b8\u2082  \u03b8\u2083]"
       ]
      },
      {
       "output_type": "stream",
       "stream": "stdout",
       "text": [
        "---\n"
       ]
      },
      {
       "latex": [
        "tthetad.T := $$\\left[\\begin{matrix}\\dot{\\theta}_{1} & \\dot{\\theta}_{2} & \\dot{\\theta}_{3}\\end{matrix}\\right]$$"
       ],
       "metadata": {},
       "output_type": "display_data",
       "png": "[encoded data removed]",
       "text": [
        "tthetad.T := [\u03b8\u0307\u2081  \u03b8\u0307\u2082  \u03b8\u0307\u2083]"
       ]
      },
      {
       "output_type": "stream",
       "stream": "stdout",
       "text": [
        "---\n"
       ]
      },
      {
       "latex": [
        "tthetadd.T := $$\\left[\\begin{matrix}\\ddot{\\theta}_{1} & \\ddot{\\theta}_{2} & \\ddot{\\theta}_{3}\\end{matrix}\\right]$$"
       ],
       "metadata": {},
       "output_type": "display_data",
       "png": "[encoded data removed]",
       "text": [
        "tthetadd.T := [\u03b8\u0308\u2081  \u03b8\u0308\u2082  \u03b8\u0308\u2083]"
       ]
      },
      {
       "output_type": "stream",
       "stream": "stdout",
       "text": [
        "---\n"
       ]
      }
     ],
     "prompt_number": 3
    },
    {
     "cell_type": "markdown",
     "metadata": {},
     "source": [
      "### Aufstellen der Bewegungsgleichungen in $\\tt$-Koordinaten"
     ]
    },
    {
     "cell_type": "code",
     "collapsed": false,
     "input": [
      "# Systemparameter\n",
      "params = sp.symbols('m1, J1, l1, g')\n",
      "st.make_global(params)\n",
      "\n",
      "# Symbole f\u00fcr die Stellkr\u00e4fte\n",
      "tau1, tau2 = ttau = st.symb_vector(\"tau1, tau2\")\n",
      "\n",
      "# Symbole f\u00fcr die rechte Seite der Lagrange-Gleichungen\n",
      "# QQ wird dann sp\u00e4ter in Abh\u00e4ngigkeit der tats\u00e4chlichen Kr\u00e4fte definiert\n",
      "Q1, Q2, Q3 = QQ = st.symb_vector(\"Q1, Q2, Q3\") "
     ],
     "language": "python",
     "metadata": {},
     "outputs": [],
     "prompt_number": 4
    },
    {
     "cell_type": "code",
     "collapsed": false,
     "input": [
      "#Einheitsvektoren\n",
      "ex = sp.Matrix([1,0])\n",
      "ey = sp.Matrix([0,1])\n",
      "\n",
      "# Koordinaten des Schwerpunktes\n",
      "S1 = ex*theta1 + ey*theta2\n",
      "\n",
      "# Zeitableitungen der Schwerpunktskoordinaten\n",
      "Sd1 = st.time_deriv(S1, ttheta) ##"
     ],
     "language": "python",
     "metadata": {},
     "outputs": [
      {
       "latex": [
        "$$\\left[\\begin{matrix}\\dot{\\theta}_{1}\\\\\\dot{\\theta}_{2}\\end{matrix}\\right]$$"
       ],
       "metadata": {},
       "output_type": "display_data",
       "png": "[encoded data removed]",
       "text": [
        "\u23a1\u03b8\u0307\u2081\u23a4\n",
        "\u23a2   \u23a5\n",
        "\u23a3\u03b8\u0307\u2082\u23a6"
       ]
      },
      {
       "output_type": "stream",
       "stream": "stdout",
       "text": [
        "---\n"
       ]
      }
     ],
     "prompt_number": 5
    },
    {
     "cell_type": "code",
     "collapsed": false,
     "input": [
      "# kinetische Energie\n",
      "T_rot = ( J1*thetadot3**2 )/2\n",
      "T_trans = ( m1*Sd1.T*Sd1  )/2\n",
      "\n",
      "T = T_rot + T_trans[0] ##\n",
      "\n",
      "V = m1*g*S1[1] ##"
     ],
     "language": "python",
     "metadata": {},
     "outputs": [
      {
       "latex": [
        "$$\\frac{J_{1} \\dot{\\theta}_{3}^{2}}{2} + \\frac{m_{1} \\dot{\\theta}_{1}^{2}}{2} + \\frac{m_{1} \\dot{\\theta}_{2}^{2}}{2}$$"
       ],
       "metadata": {},
       "output_type": "display_data",
       "png": "[encoded data removed]",
       "text": [
        "      2         2         2\n",
        "J\u2081\u22c5\u03b8\u0307\u2083    m\u2081\u22c5\u03b8\u0307\u2081    m\u2081\u22c5\u03b8\u0307\u2082 \n",
        "\u2500\u2500\u2500\u2500\u2500\u2500\u2500 + \u2500\u2500\u2500\u2500\u2500\u2500\u2500 + \u2500\u2500\u2500\u2500\u2500\u2500\u2500\n",
        "   2         2         2   "
       ]
      },
      {
       "output_type": "stream",
       "stream": "stdout",
       "text": [
        "---\n"
       ]
      },
      {
       "latex": [
        "$$g m_{1} \\theta_{2}$$"
       ],
       "metadata": {},
       "output_type": "display_data",
       "png": "[encoded data removed]",
       "text": [
        "g\u22c5m\u2081\u22c5\u03b8\u2082"
       ]
      },
      {
       "output_type": "stream",
       "stream": "stdout",
       "text": [
        "---\n"
       ]
      }
     ],
     "prompt_number": 6
    },
    {
     "cell_type": "code",
     "collapsed": false,
     "input": [
      "mod = mt.generate_symbolic_model(T, V, ttheta, QQ)"
     ],
     "language": "python",
     "metadata": {},
     "outputs": [],
     "prompt_number": 7
    },
    {
     "cell_type": "code",
     "collapsed": false,
     "input": [
      "mod.eqns"
     ],
     "language": "python",
     "metadata": {},
     "outputs": [
      {
       "latex": [
        "$$\\left[\\begin{matrix}- Q_{1} + m_{1} \\ddot{\\theta}_{1}\\\\- Q_{2} + g m_{1} + m_{1} \\ddot{\\theta}_{2}\\\\J_{1} \\ddot{\\theta}_{3} - Q_{3}\\end{matrix}\\right]$$"
       ],
       "metadata": {},
       "output_type": "pyout",
       "png": "[encoded data removed]",
       "prompt_number": 8,
       "text": [
        "\u23a1   -Q\u2081 + m\u2081\u22c5\u03b8\u0308\u2081    \u23a4\n",
        "\u23a2                   \u23a5\n",
        "\u23a2-Q\u2082 + g\u22c5m\u2081 + m\u2081\u22c5\u03b8\u0308\u2082\u23a5\n",
        "\u23a2                   \u23a5\n",
        "\u23a3    J\u2081\u22c5\u03b8\u0308\u2083 - Q\u2083    \u23a6"
       ]
      }
     ],
     "prompt_number": 8
    },
    {
     "cell_type": "markdown",
     "metadata": {},
     "source": [
      "Festlegung von $ {\\bs  B}( \\tt)$ :\n",
      "\n",
      "* Kraft in horizontale Richtung: $Q_1 = -\\sin( \\theta_3) (\\tau_1 + \\tau_2)$\n",
      "* Kraft in vertikale Richtung: $Q_2 = \\cos(\\theta_3) (\\tau_1 + \\tau_2)$\n",
      "* Drehmoment in axialer Richtung: $Q_3$ = $l_1 (\\tau_2 - \\tau_1)$\n"
     ]
    },
    {
     "cell_type": "code",
     "collapsed": false,
     "input": [
      "# Reale Kr\u00e4fte einsetzen\n",
      "\n",
      "Q_rplm = [(Q1, -(tau1+tau2)*sin(theta3)),\n",
      "          (Q2, (tau1+tau2)*cos(theta3)),\n",
      "          (Q3, l1*(tau2 - tau1))]\n",
      "\n",
      "eqns = mod.eqns.subs(Q_rplm).expand()\n",
      "B = -eqns.jacobian(ttau) ##:"
     ],
     "language": "python",
     "metadata": {},
     "outputs": [
      {
       "latex": [
        "B := $$\\left[\\begin{matrix}- \\sin{\\left (\\theta_{3} \\right )} & - \\sin{\\left (\\theta_{3} \\right )}\\\\\\cos{\\left (\\theta_{3} \\right )} & \\cos{\\left (\\theta_{3} \\right )}\\\\- l_{1} & l_{1}\\end{matrix}\\right]$$"
       ],
       "metadata": {},
       "output_type": "display_data",
       "png": "[encoded data removed]",
       "text": [
        "B := \u23a1-sin(\u03b8\u2083)  -sin(\u03b8\u2083)\u23a4\n",
        "\u23a2                  \u23a5\n",
        "\u23a2cos(\u03b8\u2083)   cos(\u03b8\u2083) \u23a5\n",
        "\u23a2                  \u23a5\n",
        "\u23a3  -l\u2081        l\u2081   \u23a6"
       ]
      },
      {
       "output_type": "stream",
       "stream": "stdout",
       "text": [
        "---\n"
       ]
      }
     ],
     "prompt_number": 9
    },
    {
     "cell_type": "markdown",
     "metadata": {},
     "source": [
      "### Berechnung der Koordinatentransformationen $\\bs \\xi  = \\bs A(\\tt)$ und $\\tt = \\bs Z(\\bs \\xi)$\n",
      "\n",
      "Zun\u00e4chst: Bestimmung der zu $\\bs B^T(\\tt)$ geh\u00f6renden 1-Formen"
     ]
    },
    {
     "cell_type": "code",
     "collapsed": false,
     "input": [
      "w1, w2 = ww = pc.VectorDifferentialForm(1, ttheta, coeff=B.T)\n",
      "w1 ##:\n",
      "w2 ##:"
     ],
     "language": "python",
     "metadata": {},
     "outputs": [
      {
       "metadata": {},
       "output_type": "display_data",
       "text": [
        "w1  := (-sin(theta3))dtheta1  +  (cos(theta3))dtheta2  +  (-l1)dtheta3"
       ]
      },
      {
       "output_type": "stream",
       "stream": "stdout",
       "text": [
        "___\n"
       ]
      },
      {
       "metadata": {},
       "output_type": "display_data",
       "text": [
        "w2  := (-sin(theta3))dtheta1  +  (cos(theta3))dtheta2  +  (l1)dtheta3"
       ]
      },
      {
       "output_type": "stream",
       "stream": "stdout",
       "text": [
        "___\n"
       ]
      }
     ],
     "prompt_number": 10
    },
    {
     "cell_type": "code",
     "collapsed": false,
     "input": [
      "# Integrabilit\u00e4t (muss wegen np=1 erf\u00fcllt sein)\n",
      "\n",
      "w1.d^w1^w2 ##\n",
      "w2.d^w1^w2 ##"
     ],
     "language": "python",
     "metadata": {},
     "outputs": [
      {
       "metadata": {},
       "output_type": "display_data",
       "text": [
        "(0)dtheta1^dtheta1^dtheta1^dtheta1"
       ]
      },
      {
       "output_type": "stream",
       "stream": "stdout",
       "text": [
        "___\n"
       ]
      },
      {
       "metadata": {},
       "output_type": "display_data",
       "text": [
        "(0)dtheta1^dtheta1^dtheta1^dtheta1"
       ]
      },
      {
       "output_type": "stream",
       "stream": "stdout",
       "text": [
        "___\n"
       ]
      }
     ],
     "prompt_number": 11
    },
    {
     "cell_type": "markdown",
     "metadata": {},
     "source": [
      "Integrierenden Faktor finden. Dazu zun\u00e4chst eine einfache Transformation mit konstaten Koeffizienten durchf\u00fchren. Um zwei einfachere Formen zu bekommen."
     ]
    },
    {
     "cell_type": "code",
     "collapsed": false,
     "input": [
      "half = 1/sp.S(2)\n",
      "w1_tilde = half/l1*(w2 - w1) ##:\n",
      "w2_hat = half*(w1 + w2) ##:\n",
      "\n",
      "w1_tilde.d ##:\n",
      "w2_hat.d ##:\n",
      "w2_hat.d^w1_tilde ##:"
     ],
     "language": "python",
     "metadata": {},
     "outputs": [
      {
       "metadata": {},
       "output_type": "display_data",
       "text": [
        "w1_tilde := (1)dtheta3"
       ]
      },
      {
       "output_type": "stream",
       "stream": "stdout",
       "text": [
        "---\n"
       ]
      },
      {
       "metadata": {},
       "output_type": "display_data",
       "text": [
        "w2_hat := (-sin(theta3))dtheta1  +  (cos(theta3))dtheta2"
       ]
      },
      {
       "output_type": "stream",
       "stream": "stdout",
       "text": [
        "---\n"
       ]
      },
      {
       "metadata": {},
       "output_type": "display_data",
       "text": [
        "w1_tilde.d  := (0)dtheta1^dtheta2"
       ]
      },
      {
       "output_type": "stream",
       "stream": "stdout",
       "text": [
        "___\n"
       ]
      },
      {
       "metadata": {},
       "output_type": "display_data",
       "text": [
        "w2_hat.d  := (cos(theta3))dtheta1^dtheta3  +  (sin(theta3))dtheta2^dtheta3"
       ]
      },
      {
       "output_type": "stream",
       "stream": "stdout",
       "text": [
        "___\n"
       ]
      },
      {
       "metadata": {},
       "output_type": "display_data",
       "text": [
        "w2_hat.d^w1_tilde  := (0)dtheta1^dtheta2^dtheta3"
       ]
      },
      {
       "output_type": "stream",
       "stream": "stdout",
       "text": [
        "___\n"
       ]
      }
     ],
     "prompt_number": 12
    },
    {
     "cell_type": "code",
     "collapsed": false,
     "input": [
      "# Ansatz f\u00fcr den Integrierenden Faktor:\n",
      "E = sp.Function('E')(theta1, theta2, theta3)"
     ],
     "language": "python",
     "metadata": {},
     "outputs": [],
     "prompt_number": 13
    },
    {
     "cell_type": "code",
     "collapsed": false,
     "input": [
      "# Alle Koeffizienten m\u00fcssen verschwinden\n",
      "conditions = (w2_hat + E*w1_tilde).d.coeff ##"
     ],
     "language": "python",
     "metadata": {},
     "outputs": [
      {
       "latex": [
        "$$\\left[\\begin{matrix}0\\\\\\cos{\\left (\\theta_{3} \\right )} + \\frac{\\partial}{\\partial \\theta_{1}} E{\\left (\\theta_{1},\\theta_{2},\\theta_{3} \\right )}\\\\\\sin{\\left (\\theta_{3} \\right )} + \\frac{\\partial}{\\partial \\theta_{2}} E{\\left (\\theta_{1},\\theta_{2},\\theta_{3} \\right )}\\end{matrix}\\right]$$"
       ],
       "metadata": {},
       "output_type": "display_data",
       "png": "[encoded data removed]",
       "text": [
        "\u23a1             0              \u23a4\n",
        "\u23a2                            \u23a5\n",
        "\u23a2           \u2202                \u23a5\n",
        "\u23a2cos(\u03b8\u2083) + \u2500\u2500\u2500(E(\u03b8\u2081, \u03b8\u2082, \u03b8\u2083))\u23a5\n",
        "\u23a2          \u2202\u03b8\u2081               \u23a5\n",
        "\u23a2                            \u23a5\n",
        "\u23a2           \u2202                \u23a5\n",
        "\u23a2sin(\u03b8\u2083) + \u2500\u2500\u2500(E(\u03b8\u2081, \u03b8\u2082, \u03b8\u2083))\u23a5\n",
        "\u23a3          \u2202\u03b8\u2082               \u23a6"
       ]
      },
      {
       "output_type": "stream",
       "stream": "stdout",
       "text": [
        "---\n"
       ]
      }
     ],
     "prompt_number": 14
    },
    {
     "cell_type": "markdown",
     "metadata": {},
     "source": [
      "L\u00f6sung der PDGLn f\u00fcr integrierenden Faktor kann man direkt ablesen."
     ]
    },
    {
     "cell_type": "code",
     "collapsed": false,
     "input": [
      "E_sol = -cos(theta3)*theta1 - sin(theta3)*theta2"
     ],
     "language": "python",
     "metadata": {},
     "outputs": [],
     "prompt_number": 15
    },
    {
     "cell_type": "code",
     "collapsed": false,
     "input": [
      "# Probe\n",
      "w2_tilde = w2_hat + E_sol*w1_tilde ##:\n",
      "w2_tilde.d ##:"
     ],
     "language": "python",
     "metadata": {},
     "outputs": [
      {
       "metadata": {},
       "output_type": "display_data",
       "text": [
        "w2_tilde := (-sin(theta3))dtheta1  +  (cos(theta3))dtheta2  +  (-theta1*cos(theta3) - theta2*sin(theta3))dtheta3"
       ]
      },
      {
       "output_type": "stream",
       "stream": "stdout",
       "text": [
        "---\n"
       ]
      },
      {
       "metadata": {},
       "output_type": "display_data",
       "text": [
        "w2_tilde.d  := (0)dtheta1^dtheta2"
       ]
      },
      {
       "output_type": "stream",
       "stream": "stdout",
       "text": [
        "___\n"
       ]
      }
     ],
     "prompt_number": 16
    },
    {
     "cell_type": "markdown",
     "metadata": {},
     "source": [
      "Nun k\u00f6nnen die beiden Zweiformen integriert werden. Die resultierenden Funktionen bilden die unteren $n_{\\bs q}$ (=2) Zeilen der Transformation $\\bs \\xi  = \\bs A(\\tt)$."
     ]
    },
    {
     "cell_type": "code",
     "collapsed": false,
     "input": [
      "aq1 = w1_tilde.integrate() ##:\n",
      "aq2 = w2_tilde.integrate() ##:"
     ],
     "language": "python",
     "metadata": {},
     "outputs": [
      {
       "latex": [
        "aq1 := $$\\theta_{3}$$"
       ],
       "metadata": {},
       "output_type": "display_data",
       "png": "[encoded data removed]",
       "text": [
        "aq1 := \u03b8\u2083"
       ]
      },
      {
       "output_type": "stream",
       "stream": "stdout",
       "text": [
        "---\n"
       ]
      },
      {
       "latex": [
        "aq2 := $$- \\theta_{1} \\sin{\\left (\\theta_{3} \\right )} + \\theta_{2} \\cos{\\left (\\theta_{3} \\right )}$$"
       ],
       "metadata": {},
       "output_type": "display_data",
       "png": "[encoded data removed]",
       "text": [
        "aq2 := -\u03b8\u2081\u22c5sin(\u03b8\u2083) + \u03b8\u2082\u22c5cos(\u03b8\u2083)"
       ]
      },
      {
       "output_type": "stream",
       "stream": "stdout",
       "text": [
        "---\n"
       ]
      }
     ],
     "prompt_number": 17
    },
    {
     "cell_type": "markdown",
     "metadata": {},
     "source": [
      "Den Rest der Transformation, d.h. die oberen $n_{\\bs p}$ (=1) Zeilen, bestimmen:"
     ]
    },
    {
     "cell_type": "code",
     "collapsed": false,
     "input": [
      "# Linksorthokomplemet:\n",
      "nsm = sp.simplify(st.nullspaceMatrix(B.T) * cos(theta3) ).T ##:"
     ],
     "language": "python",
     "metadata": {},
     "outputs": [
      {
       "latex": [
        "nsm := $$\\left[\\begin{matrix}\\cos{\\left (\\theta_{3} \\right )} & \\sin{\\left (\\theta_{3} \\right )} & 0\\end{matrix}\\right]$$"
       ],
       "metadata": {},
       "output_type": "display_data",
       "png": "[encoded data removed]",
       "text": [
        "nsm := [cos(\u03b8\u2083)  sin(\u03b8\u2083)  0]"
       ]
      },
      {
       "output_type": "stream",
       "stream": "stdout",
       "text": [
        "---\n"
       ]
      }
     ],
     "prompt_number": 18
    },
    {
     "cell_type": "code",
     "collapsed": false,
     "input": [
      "mu1 = pc.DifferentialForm(1, ttheta, coeff = nsm) ##:\n",
      "mu1.d ##:\n",
      "mu1.d^w1_tilde ##:"
     ],
     "language": "python",
     "metadata": {},
     "outputs": [
      {
       "metadata": {},
       "output_type": "display_data",
       "text": [
        "mu1 := (cos(theta3))dtheta1  +  (sin(theta3))dtheta2"
       ]
      },
      {
       "output_type": "stream",
       "stream": "stdout",
       "text": [
        "---\n"
       ]
      },
      {
       "metadata": {},
       "output_type": "display_data",
       "text": [
        "mu1.d  := (sin(theta3))dtheta1^dtheta3  +  (-cos(theta3))dtheta2^dtheta3"
       ]
      },
      {
       "output_type": "stream",
       "stream": "stdout",
       "text": [
        "___\n"
       ]
      },
      {
       "metadata": {},
       "output_type": "display_data",
       "text": [
        "mu1.d^w1_tilde  := (0)dtheta1^dtheta2^dtheta3"
       ]
      },
      {
       "output_type": "stream",
       "stream": "stdout",
       "text": [
        "___\n"
       ]
      }
     ],
     "prompt_number": 19
    },
    {
     "cell_type": "markdown",
     "metadata": {},
     "source": [
      "Auch hier wird ein Integrierender Faktor gebrauch. Gleicher Ansazu wie oben:"
     ]
    },
    {
     "cell_type": "code",
     "collapsed": false,
     "input": [
      "# Alle Koeffizienten m\u00fcssen verschwinden\n",
      "conditions = (mu1 + E*w1_tilde).d.coeff ##"
     ],
     "language": "python",
     "metadata": {},
     "outputs": [
      {
       "latex": [
        "$$\\left[\\begin{matrix}0\\\\\\sin{\\left (\\theta_{3} \\right )} + \\frac{\\partial}{\\partial \\theta_{1}} E{\\left (\\theta_{1},\\theta_{2},\\theta_{3} \\right )}\\\\- \\cos{\\left (\\theta_{3} \\right )} + \\frac{\\partial}{\\partial \\theta_{2}} E{\\left (\\theta_{1},\\theta_{2},\\theta_{3} \\right )}\\end{matrix}\\right]$$"
       ],
       "metadata": {},
       "output_type": "display_data",
       "png": "[encoded data removed]",
       "text": [
        "\u23a1              0              \u23a4\n",
        "\u23a2                             \u23a5\n",
        "\u23a2           \u2202                 \u23a5\n",
        "\u23a2sin(\u03b8\u2083) + \u2500\u2500\u2500(E(\u03b8\u2081, \u03b8\u2082, \u03b8\u2083)) \u23a5\n",
        "\u23a2          \u2202\u03b8\u2081                \u23a5\n",
        "\u23a2                             \u23a5\n",
        "\u23a2            \u2202                \u23a5\n",
        "\u23a2-cos(\u03b8\u2083) + \u2500\u2500\u2500(E(\u03b8\u2081, \u03b8\u2082, \u03b8\u2083))\u23a5\n",
        "\u23a3           \u2202\u03b8\u2082               \u23a6"
       ]
      },
      {
       "output_type": "stream",
       "stream": "stdout",
       "text": [
        "---\n"
       ]
      }
     ],
     "prompt_number": 20
    },
    {
     "cell_type": "code",
     "collapsed": false,
     "input": [
      "# L\u00f6sung ablesen\n",
      "E_sol = -sin(theta3)*theta1 + cos(theta3)*theta2"
     ],
     "language": "python",
     "metadata": {},
     "outputs": [],
     "prompt_number": 21
    },
    {
     "cell_type": "code",
     "collapsed": false,
     "input": [
      "# Probe:\n",
      "mu_tilde = mu1 + E_sol*w1_tilde ##\n",
      "mu_tilde.d ##:"
     ],
     "language": "python",
     "metadata": {},
     "outputs": [
      {
       "metadata": {},
       "output_type": "display_data",
       "text": [
        "(cos(theta3))dtheta1  +  (sin(theta3))dtheta2  +  (-theta1*sin(theta3) + theta2*cos(theta3))dtheta3"
       ]
      },
      {
       "output_type": "stream",
       "stream": "stdout",
       "text": [
        "---\n"
       ]
      },
      {
       "metadata": {},
       "output_type": "display_data",
       "text": [
        "mu_tilde.d  := (0)dtheta1^dtheta2"
       ]
      },
      {
       "output_type": "stream",
       "stream": "stdout",
       "text": [
        "___\n"
       ]
      }
     ],
     "prompt_number": 22
    },
    {
     "cell_type": "code",
     "collapsed": false,
     "input": [
      "ap1 = mu_tilde.integrate() ##:"
     ],
     "language": "python",
     "metadata": {},
     "outputs": [
      {
       "latex": [
        "ap1 := $$\\theta_{1} \\cos{\\left (\\theta_{3} \\right )} + \\theta_{2} \\sin{\\left (\\theta_{3} \\right )}$$"
       ],
       "metadata": {},
       "output_type": "display_data",
       "png": "[encoded data removed]",
       "text": [
        "ap1 := \u03b8\u2081\u22c5cos(\u03b8\u2083) + \u03b8\u2082\u22c5sin(\u03b8\u2083)"
       ]
      },
      {
       "output_type": "stream",
       "stream": "stdout",
       "text": [
        "---\n"
       ]
      }
     ],
     "prompt_number": 23
    },
    {
     "cell_type": "markdown",
     "metadata": {},
     "source": [
      "Damit ist die Transformation $\\bs \\xi = \\bs A(\\tt)$ komplett:"
     ]
    },
    {
     "cell_type": "code",
     "collapsed": false,
     "input": [
      "A_trafo = sp.Matrix([ap1, aq1, aq2]) ##:"
     ],
     "language": "python",
     "metadata": {},
     "outputs": [
      {
       "latex": [
        "A_trafo := $$\\left[\\begin{matrix}\\theta_{1} \\cos{\\left (\\theta_{3} \\right )} + \\theta_{2} \\sin{\\left (\\theta_{3} \\right )}\\\\\\theta_{3}\\\\- \\theta_{1} \\sin{\\left (\\theta_{3} \\right )} + \\theta_{2} \\cos{\\left (\\theta_{3} \\right )}\\end{matrix}\\right]$$"
       ],
       "metadata": {},
       "output_type": "display_data",
       "png": "[encoded data removed]",
       "text": [
        "A_trafo := \u23a1\u03b8\u2081\u22c5cos(\u03b8\u2083) + \u03b8\u2082\u22c5sin(\u03b8\u2083) \u23a4\n",
        "\u23a2                        \u23a5\n",
        "\u23a2           \u03b8\u2083           \u23a5\n",
        "\u23a2                        \u23a5\n",
        "\u23a3-\u03b8\u2081\u22c5sin(\u03b8\u2083) + \u03b8\u2082\u22c5cos(\u03b8\u2083)\u23a6"
       ]
      },
      {
       "output_type": "stream",
       "stream": "stdout",
       "text": [
        "---\n"
       ]
      }
     ],
     "prompt_number": 24
    },
    {
     "cell_type": "markdown",
     "metadata": {},
     "source": [
      "Bestimmung der Umkehrtransformation $\\bs \\tt = \\bs Z(\\bs \\xi)$ durch L\u00f6sung eines algebraischen Gleichungssystems:"
     ]
    },
    {
     "cell_type": "code",
     "collapsed": false,
     "input": [
      "xxi = st.symb_vector('xi1, xi2, xi3') ##:T"
     ],
     "language": "python",
     "metadata": {},
     "outputs": [
      {
       "latex": [
        "xxi.T := $$\\left[\\begin{matrix}\\xi_{1} & \\xi_{2} & \\xi_{3}\\end{matrix}\\right]$$"
       ],
       "metadata": {},
       "output_type": "display_data",
       "png": "[encoded data removed]",
       "text": [
        "xxi.T := [\u03be\u2081  \u03be\u2082  \u03be\u2083]"
       ]
      },
      {
       "output_type": "stream",
       "stream": "stdout",
       "text": [
        "---\n"
       ]
      }
     ],
     "prompt_number": 25
    },
    {
     "cell_type": "code",
     "collapsed": false,
     "input": [
      "Z = sp.simplify( sp.Matrix(sp.solve(A_trafo - xxi, ttheta)[0]) ) ##:"
     ],
     "language": "python",
     "metadata": {},
     "outputs": [
      {
       "latex": [
        "Z := $$\\left[\\begin{matrix}\\xi_{1} \\cos{\\left (\\xi_{2} \\right )} - \\xi_{3} \\sin{\\left (\\xi_{2} \\right )}\\\\\\xi_{1} \\sin{\\left (\\xi_{2} \\right )} + \\xi_{3} \\cos{\\left (\\xi_{2} \\right )}\\\\\\xi_{2}\\end{matrix}\\right]$$"
       ],
       "metadata": {},
       "output_type": "display_data",
       "png": "[encoded data removed]",
       "text": [
        "Z := \u23a1\u03be\u2081\u22c5cos(\u03be\u2082) - \u03be\u2083\u22c5sin(\u03be\u2082)\u23a4\n",
        "\u23a2                       \u23a5\n",
        "\u23a2\u03be\u2081\u22c5sin(\u03be\u2082) + \u03be\u2083\u22c5cos(\u03be\u2082)\u23a5\n",
        "\u23a2                       \u23a5\n",
        "\u23a3          \u03be\u2082           \u23a6"
       ]
      },
      {
       "output_type": "stream",
       "stream": "stdout",
       "text": [
        "---\n"
       ]
      }
     ],
     "prompt_number": 26
    },
    {
     "cell_type": "markdown",
     "metadata": {},
     "source": [
      "### Berechnung der Bewegungsgleichungen in $\\bs \\xi$-Koordinaten"
     ]
    },
    {
     "cell_type": "code",
     "collapsed": false,
     "input": [
      "theta_replm = zip(ttheta, Z)"
     ],
     "language": "python",
     "metadata": {},
     "outputs": [],
     "prompt_number": 27
    },
    {
     "cell_type": "code",
     "collapsed": false,
     "input": [
      "theta_dot_replm = zip(tthetad, st.time_deriv(Z, xxi)) ##:"
     ],
     "language": "python",
     "metadata": {},
     "outputs": [
      {
       "latex": [
        "theta_dot_replm := $$\\left [ \\left ( \\dot{\\theta}_{1}, \\quad - \\xi_{1} \\dot{\\xi}_{2} \\sin{\\left (\\xi_{2} \\right )} - \\xi_{3} \\dot{\\xi}_{2} \\cos{\\left (\\xi_{2} \\right )} + \\dot{\\xi}_{1} \\cos{\\left (\\xi_{2} \\right )} - \\dot{\\xi}_{3} \\sin{\\left (\\xi_{2} \\right )}\\right ), \\quad \\left ( \\dot{\\theta}_{2}, \\quad \\xi_{1} \\dot{\\xi}_{2} \\cos{\\left (\\xi_{2} \\right )} - \\xi_{3} \\dot{\\xi}_{2} \\sin{\\left (\\xi_{2} \\right )} + \\dot{\\xi}_{1} \\sin{\\left (\\xi_{2} \\right )} + \\dot{\\xi}_{3} \\cos{\\left (\\xi_{2} \\right )}\\right ), \\quad \\left ( \\dot{\\theta}_{3}, \\quad \\dot{\\xi}_{2}\\right )\\right ]$$"
       ],
       "metadata": {},
       "output_type": "display_data",
       "png": "[encoded data removed]",
       "text": [
        "theta_dot_replm := [(\u03b8\u0307\u2081, -\u03be\u2081\u22c5\u03be\u0307\u2082\u22c5sin(\u03be\u2082) - \u03be\u2083\u22c5\u03be\u0307\u2082\u22c5cos(\u03be\u2082) + \u03be\u0307\u2081\u22c5cos(\u03be\u2082) - \u03be\u0307\u2083\u22c5sin(\u03be\u2082)), (\u03b8\u0307\u2082, \u03be\u2081\n",
        "\u22c5\u03be\u0307\u2082\u22c5cos(\u03be\u2082) - \u03be\u2083\u22c5\u03be\u0307\u2082\u22c5sin(\u03be\u2082) + \u03be\u0307\u2081\u22c5sin(\u03be\u2082) + \u03be\u0307\u2083\u22c5cos(\u03be\u2082)), (\u03b8\u0307\u2083, \u03be\u0307\u2082)]"
       ]
      },
      {
       "output_type": "stream",
       "stream": "stdout",
       "text": [
        "---\n"
       ]
      }
     ],
     "prompt_number": 28
    },
    {
     "cell_type": "markdown",
     "metadata": {},
     "source": [
      "Jacobimatrix $\\bs Z'(\\bs \\xi)$ berechnen."
     ]
    },
    {
     "cell_type": "code",
     "collapsed": false,
     "input": [
      "Zprime = Z.jacobian(xxi) ##: \n",
      "\n",
      "# Konsistenzpr\u00fcfung (muss 0-Vektor ergeben)\n",
      "tmp = Zprime*st.time_deriv(xxi, xxi)\n",
      "sp.simplify(tthetad.subs(theta_dot_replm) - tmp).T ##"
     ],
     "language": "python",
     "metadata": {},
     "outputs": [
      {
       "latex": [
        "$$\\left[\\begin{matrix}0 & 0 & 0\\end{matrix}\\right]$$"
       ],
       "metadata": {},
       "output_type": "display_data",
       "png": "[encoded data removed]",
       "text": [
        "[0  0  0]"
       ]
      },
      {
       "output_type": "stream",
       "stream": "stdout",
       "text": [
        "___\n"
       ]
      }
     ],
     "prompt_number": 29
    },
    {
     "cell_type": "markdown",
     "metadata": {},
     "source": [
      "Kinentische und potentielle Energie als Funktionen der neuen Koordinaten."
     ]
    },
    {
     "cell_type": "code",
     "collapsed": false,
     "input": [
      "T_xi = T.subs(theta_replm + theta_dot_replm)\n",
      "V_xi = V.subs(theta_replm)"
     ],
     "language": "python",
     "metadata": {},
     "outputs": [],
     "prompt_number": 30
    },
    {
     "cell_type": "markdown",
     "metadata": {},
     "source": [
      "Bestimmung von $\\delta W$ (virtuelle Arbeit) in alten und neuen Koordinaten.\n",
      "\n",
      "Dazu: virtuelle Verschiebungen: $\\delta \\tt$ und $\\delta \\bs \\xi$ einf\u00fchren:"
     ]
    },
    {
     "cell_type": "code",
     "collapsed": false,
     "input": [
      "delta_theta = sp.Matrix([sp.Symbol(r'\\delta \\theta_'+ '%i' %k ) for k in range(1,4)]) ##:T\n",
      "delta_xi = sp.Matrix([sp.Symbol(r'\\delta \\xi_'+ '%i' %k ) for k in range(1,4)]) ##:T"
     ],
     "language": "python",
     "metadata": {},
     "outputs": [
      {
       "latex": [
        "delta_theta.T := $$\\left[\\begin{matrix}\\delta \\theta_{1} & \\delta \\theta_{2} & \\delta \\theta_{3}\\end{matrix}\\right]$$"
       ],
       "metadata": {},
       "output_type": "display_data",
       "png": "[encoded data removed]",
       "text": [
        "delta_theta.T := [\\delta \\theta\u2081  \\delta \\theta\u2082  \\delta \\theta\u2083]"
       ]
      },
      {
       "output_type": "stream",
       "stream": "stdout",
       "text": [
        "---\n"
       ]
      },
      {
       "latex": [
        "delta_xi.T := $$\\left[\\begin{matrix}\\delta \\xi_{1} & \\delta \\xi_{2} & \\delta \\xi_{3}\\end{matrix}\\right]$$"
       ],
       "metadata": {},
       "output_type": "display_data",
       "png": "[encoded data removed]",
       "text": [
        "delta_xi.T := [\\delta \\xi\u2081  \\delta \\xi\u2082  \\delta \\xi\u2083]"
       ]
      },
      {
       "output_type": "stream",
       "stream": "stdout",
       "text": [
        "---\n"
       ]
      }
     ],
     "prompt_number": 31
    },
    {
     "cell_type": "code",
     "collapsed": false,
     "input": [
      "# Virtuelle Arbeit in alten Koordinaten:\n",
      "deltaW = (B*ttau).T*delta_theta"
     ],
     "language": "python",
     "metadata": {},
     "outputs": [],
     "prompt_number": 32
    },
    {
     "cell_type": "markdown",
     "metadata": {},
     "source": [
      "$ \\tt = \\bs Z(\\bs \\xi) \\Rightarrow \\delta \\tt = \\bs Z'(\\bs \\xi) \\delta \\bs \\xi$"
     ]
    },
    {
     "cell_type": "code",
     "collapsed": false,
     "input": [
      "delta_theta_replm = zip(delta_theta, Zprime*delta_xi)"
     ],
     "language": "python",
     "metadata": {},
     "outputs": [],
     "prompt_number": 33
    },
    {
     "cell_type": "code",
     "collapsed": false,
     "input": [
      "# Virtuelle Arbeit in neuen Koordinaten:\n",
      "deltaW_xi = sp.simplify(deltaW.subs(theta_replm).subs(delta_theta_replm)) ##"
     ],
     "language": "python",
     "metadata": {},
     "outputs": [
      {
       "latex": [
        "$$\\left[\\begin{matrix}- \\delta \\xi_{2} l_{1} \\tau_{1} + \\delta \\xi_{2} l_{1} \\tau_{2} + \\delta \\xi_{2} \\tau_{1} \\xi_{1} + \\delta \\xi_{2} \\tau_{2} \\xi_{1} + \\delta \\xi_{3} \\tau_{1} + \\delta \\xi_{3} \\tau_{2}\\end{matrix}\\right]$$"
       ],
       "metadata": {},
       "output_type": "display_data",
       "png": "[encoded data removed]",
       "text": [
        "[-\\delta \\xi\u2082\u22c5l\u2081\u22c5\u03c4\u2081 + \\delta \\xi\u2082\u22c5l\u2081\u22c5\u03c4\u2082 + \\delta \\xi\u2082\u22c5\u03c4\u2081\u22c5\u03be\u2081 + \\delta \\xi\u2082\u22c5\u03c4\u2082\u22c5\u03be\n",
        "\u2081 + \\delta \\xi\u2083\u22c5\u03c4\u2081 + \\delta \\xi\u2083\u22c5\u03c4\u2082]"
       ]
      },
      {
       "output_type": "stream",
       "stream": "stdout",
       "text": [
        "---\n"
       ]
      }
     ],
     "prompt_number": 34
    },
    {
     "cell_type": "code",
     "collapsed": false,
     "input": [
      "Q_xi = deltaW_xi.jacobian(delta_xi).T ##"
     ],
     "language": "python",
     "metadata": {},
     "outputs": [
      {
       "latex": [
        "$$\\left[\\begin{matrix}0\\\\- l_{1} \\tau_{1} + l_{1} \\tau_{2} + \\tau_{1} \\xi_{1} + \\tau_{2} \\xi_{1}\\\\\\tau_{1} + \\tau_{2}\\end{matrix}\\right]$$"
       ],
       "metadata": {},
       "output_type": "display_data",
       "png": "[encoded data removed]",
       "text": [
        "\u23a1              0               \u23a4\n",
        "\u23a2                              \u23a5\n",
        "\u23a2-l\u2081\u22c5\u03c4\u2081 + l\u2081\u22c5\u03c4\u2082 + \u03c4\u2081\u22c5\u03be\u2081 + \u03c4\u2082\u22c5\u03be\u2081\u23a5\n",
        "\u23a2                              \u23a5\n",
        "\u23a3           \u03c4\u2081 + \u03c4\u2082            \u23a6"
       ]
      },
      {
       "output_type": "stream",
       "stream": "stdout",
       "text": [
        "---\n"
       ]
      }
     ],
     "prompt_number": 35
    },
    {
     "cell_type": "markdown",
     "metadata": {},
     "source": [
      "Rechte Seite der vektoriellen Lagrange-Gleichung (durch Koeffizientenvergleich bez\u00fcglich $\\delta \\xi_i$)"
     ]
    },
    {
     "cell_type": "markdown",
     "metadata": {},
     "source": [
      "Aufstellen der Lagrange-Gleichungen in $\\bs \\xi$-Koordinaten."
     ]
    },
    {
     "cell_type": "code",
     "collapsed": false,
     "input": [
      "mod_xi = mt.generate_symbolic_model(T_xi, V_xi, xxi, Q_xi)"
     ],
     "language": "python",
     "metadata": {},
     "outputs": [],
     "prompt_number": 36
    },
    {
     "cell_type": "code",
     "collapsed": false,
     "input": [
      "B_xi = -mod_xi.eqns.jacobian(ttau) ##:"
     ],
     "language": "python",
     "metadata": {},
     "outputs": [
      {
       "latex": [
        "B_xi := $$\\left[\\begin{matrix}0 & 0\\\\- l_{1} + \\xi_{1} & l_{1} + \\xi_{1}\\\\1 & 1\\end{matrix}\\right]$$"
       ],
       "metadata": {},
       "output_type": "display_data",
       "png": "[encoded data removed]",
       "text": [
        "B_xi := \u23a1   0         0   \u23a4\n",
        "\u23a2                 \u23a5\n",
        "\u23a2-l\u2081 + \u03be\u2081  l\u2081 + \u03be\u2081\u23a5\n",
        "\u23a2                 \u23a5\n",
        "\u23a3   1         1   \u23a6"
       ]
      },
      {
       "output_type": "stream",
       "stream": "stdout",
       "text": [
        "---\n"
       ]
      }
     ],
     "prompt_number": 37
    },
    {
     "cell_type": "markdown",
     "metadata": {},
     "source": [
      "Eingangstransformation bestimmen: $\\bs \\tau = \\check {\\bs S}(\\tt) \\tilde {\\bs \\tau} = \\check {\\bs S}(\\bs Z(\\bs \\xi)) \\tilde {\\bs \\tau}$"
     ]
    },
    {
     "cell_type": "code",
     "collapsed": false,
     "input": [
      "S_xi =  B_xi[1:,:].inv()"
     ],
     "language": "python",
     "metadata": {},
     "outputs": [],
     "prompt_number": 38
    },
    {
     "cell_type": "code",
     "collapsed": false,
     "input": [
      "ttau_tilde = sp.Matrix([sp.Symbol(r'\\tilde \\tau_'+ '%i' %k ) for k in range(1,3)]) ##:"
     ],
     "language": "python",
     "metadata": {},
     "outputs": [
      {
       "latex": [
        "ttau_tilde := $$\\left[\\begin{matrix}\\tilde \\tau_{1}\\\\\\tilde \\tau_{2}\\end{matrix}\\right]$$"
       ],
       "metadata": {},
       "output_type": "display_data",
       "png": "[encoded data removed]",
       "text": [
        "ttau_tilde := \u23a1\\tilde \\tau\u2081\u23a4\n",
        "\u23a2            \u23a5\n",
        "\u23a3\\tilde \\tau\u2082\u23a6"
       ]
      },
      {
       "output_type": "stream",
       "stream": "stdout",
       "text": [
        "---\n"
       ]
      }
     ],
     "prompt_number": 39
    },
    {
     "cell_type": "code",
     "collapsed": false,
     "input": [
      "tau_replm = zip(ttau, S_xi*ttau_tilde)"
     ],
     "language": "python",
     "metadata": {},
     "outputs": [],
     "prompt_number": 40
    },
    {
     "cell_type": "code",
     "collapsed": false,
     "input": [
      "eqns = sp.simplify(mod_xi.eqns.subs(tau_replm)) ##:"
     ],
     "language": "python",
     "metadata": {},
     "outputs": [
      {
       "latex": [
        "eqns := $$\\left[\\begin{matrix}m_{1} \\left(g \\sin{\\left (\\xi_{2} \\right )} - \\xi_{1} \\dot{\\xi}_{2}^{2} - \\xi_{3} \\ddot{\\xi}_{2} + \\ddot{\\xi}_{1} - 2 \\dot{\\xi}_{2} \\dot{\\xi}_{3}\\right)\\\\J_{1} \\ddot{\\xi}_{2} - \\tilde \\tau_{1} + g m_{1} \\xi_{1} \\cos{\\left (\\xi_{2} \\right )} - g m_{1} \\xi_{3} \\sin{\\left (\\xi_{2} \\right )} + m_{1} \\xi_{1}^{2} \\ddot{\\xi}_{2} + m_{1} \\xi_{1} \\ddot{\\xi}_{3} + 2 m_{1} \\xi_{1} \\dot{\\xi}_{1} \\dot{\\xi}_{2} + m_{1} \\xi_{3}^{2} \\ddot{\\xi}_{2} - m_{1} \\xi_{3} \\ddot{\\xi}_{1} + 2 m_{1} \\xi_{3} \\dot{\\xi}_{2} \\dot{\\xi}_{3}\\\\- \\tilde \\tau_{2} + g m_{1} \\cos{\\left (\\xi_{2} \\right )} + m_{1} \\xi_{1} \\ddot{\\xi}_{2} - m_{1} \\xi_{3} \\dot{\\xi}_{2}^{2} + m_{1} \\ddot{\\xi}_{3} + 2 m_{1} \\dot{\\xi}_{1} \\dot{\\xi}_{2}\\end{matrix}\\right]$$"
       ],
       "metadata": {},
       "output_type": "display_data",
       "png": "[encoded data removed]",
       "text": [
        "eqns := \u23a1                                                 \u239b                  2        \n",
        "\u23a2                                              m\u2081\u22c5\u239dg\u22c5sin(\u03be\u2082) - \u03be\u2081\u22c5\u03be\u0307\u2082  - \u03be\u2083\u22c5\u03be\u0308\n",
        "\u23a2                                                                             \n",
        "\u23a2                                                                 2           \n",
        "\u23a2J\u2081\u22c5\u03be\u0308\u2082 - \\tilde \\tau\u2081 + g\u22c5m\u2081\u22c5\u03be\u2081\u22c5cos(\u03be\u2082) - g\u22c5m\u2081\u22c5\u03be\u2083\u22c5sin(\u03be\u2082) + m\u2081\u22c5\u03be\u2081 \u22c5\u03be\u0308\u2082 + m\u2081\u22c5\u03be\n",
        "\u23a2                                                                             \n",
        "\u23a2                                                                             \n",
        "\u23a3                                 -\\tilde \\tau\u2082 + g\u22c5m\u2081\u22c5cos(\u03be\u2082) + m\u2081\u22c5\u03be\u2081\u22c5\u03be\u0308\u2082 - m\n",
        "\n",
        "                   \u239e                                              \u23a4\n",
        "\u2082 + \u03be\u0308\u2081 - 2\u22c5\u03be\u0307\u2082\u22c5\u03be\u0307\u2083\u23a0                                              \u23a5\n",
        "                                                                  \u23a5\n",
        "                               2                                  \u23a5\n",
        "\u2081\u22c5\u03be\u0308\u2083 + 2\u22c5m\u2081\u22c5\u03be\u2081\u22c5\u03be\u0307\u2081\u22c5\u03be\u0307\u2082 + m\u2081\u22c5\u03be\u2083 \u22c5\u03be\u0308\u2082 - m\u2081\u22c5\u03be\u2083\u22c5\u03be\u0308\u2081 + 2\u22c5m\u2081\u22c5\u03be\u2083\u22c5\u03be\u0307\u2082\u22c5\u03be\u0307\u2083\u23a5\n",
        "                                                                  \u23a5\n",
        "        2                                                         \u23a5\n",
        "\u2081\u22c5\u03be\u2083\u22c5\u03be\u0307\u2082  + m\u2081\u22c5\u03be\u0308\u2083 + 2\u22c5m\u2081\u22c5\u03be\u0307\u2081\u22c5\u03be\u0307\u2082                                 \u23a6"
       ]
      },
      {
       "output_type": "stream",
       "stream": "stdout",
       "text": [
        "---\n"
       ]
      }
     ],
     "prompt_number": 41
    },
    {
     "cell_type": "code",
     "collapsed": false,
     "input": [
      "xxid = st.time_deriv(xxi, xxi, order=1)\n",
      "xxidd = st.time_deriv(xxi, xxi, order=2)"
     ],
     "language": "python",
     "metadata": {},
     "outputs": [],
     "prompt_number": 42
    },
    {
     "cell_type": "code",
     "collapsed": false,
     "input": [
      "M_xi = eqns.jacobian(xxidd) ##:"
     ],
     "language": "python",
     "metadata": {},
     "outputs": [
      {
       "latex": [
        "M_xi := $$\\left[\\begin{matrix}m_{1} & - m_{1} \\xi_{3} & 0\\\\- m_{1} \\xi_{3} & J_{1} + m_{1} \\xi_{1}^{2} + m_{1} \\xi_{3}^{2} & m_{1} \\xi_{1}\\\\0 & m_{1} \\xi_{1} & m_{1}\\end{matrix}\\right]$$"
       ],
       "metadata": {},
       "output_type": "display_data",
       "png": "[encoded data removed]",
       "text": [
        "M_xi := \u23a1  m\u2081           -m\u2081\u22c5\u03be\u2083           0  \u23a4\n",
        "\u23a2                                   \u23a5\n",
        "\u23a2                  2        2       \u23a5\n",
        "\u23a2-m\u2081\u22c5\u03be\u2083  J\u2081 + m\u2081\u22c5\u03be\u2081  + m\u2081\u22c5\u03be\u2083   m\u2081\u22c5\u03be\u2081\u23a5\n",
        "\u23a2                                   \u23a5\n",
        "\u23a3  0            m\u2081\u22c5\u03be\u2081           m\u2081  \u23a6"
       ]
      },
      {
       "output_type": "stream",
       "stream": "stdout",
       "text": [
        "---\n"
       ]
      }
     ],
     "prompt_number": 43
    },
    {
     "cell_type": "code",
     "collapsed": false,
     "input": [
      "B_tilde = - eqns.jacobian(ttau_tilde) ##:"
     ],
     "language": "python",
     "metadata": {},
     "outputs": [
      {
       "latex": [
        "B_tilde := $$\\left[\\begin{matrix}0 & 0\\\\1 & 0\\\\0 & 1\\end{matrix}\\right]$$"
       ],
       "metadata": {},
       "output_type": "display_data",
       "png": "[encoded data removed]",
       "text": [
        "B_tilde := \u23a10  0\u23a4\n",
        "\u23a2    \u23a5\n",
        "\u23a21  0\u23a5\n",
        "\u23a2    \u23a5\n",
        "\u23a30  1\u23a6"
       ]
      },
      {
       "output_type": "stream",
       "stream": "stdout",
       "text": [
        "---\n"
       ]
      }
     ],
     "prompt_number": 44
    },
    {
     "cell_type": "markdown",
     "metadata": {},
     "source": [
      "### Fazit:\n",
      "\n",
      "Damit ist die gesuchte Aufspaltung in passive und aktive Konfigurationskoordinaten abgeschlossen.\n",
      "\n",
      "---\n",
      "\n",
      "### Modifikation des Systems: $\\tau_2 \\equiv 0$\n",
      "\n",
      "Nun wird das System durch die Zusatzbedingung $\\tau_2 \\equiv 0$ modifiziert.\n",
      "\n",
      "<img src=\"files/images/pvtol_b.png\">\n",
      "\n",
      "Es gilt dann $n_{\\bs p} = 2$ und $n_{\\bs q} = 1$.\n",
      "\n",
      "Die Bewegungsgleichungen f\u00fcr das derart modifizierte System ergeben sich durch Einsetzen der Zusatzbedingung. $\\bs B(\\tt)$ besteht dann nur noch aus der ersten Spalte der bisherigen Matrix $\\bs B(\\tt)$."
     ]
    },
    {
     "cell_type": "code",
     "collapsed": false,
     "input": [
      "B_mod = B[:, 0] ##:"
     ],
     "language": "python",
     "metadata": {},
     "outputs": [
      {
       "latex": [
        "B_mod := $$\\left[\\begin{matrix}- \\sin{\\left (\\theta_{3} \\right )}\\\\\\cos{\\left (\\theta_{3} \\right )}\\\\- l_{1}\\end{matrix}\\right]$$"
       ],
       "metadata": {},
       "output_type": "display_data",
       "png": "[encoded data removed]",
       "text": [
        "B_mod := \u23a1-sin(\u03b8\u2083)\u23a4\n",
        "\u23a2        \u23a5\n",
        "\u23a2cos(\u03b8\u2083) \u23a5\n",
        "\u23a2        \u23a5\n",
        "\u23a3  -l\u2081   \u23a6"
       ]
      },
      {
       "output_type": "stream",
       "stream": "stdout",
       "text": [
        "---\n"
       ]
      }
     ],
     "prompt_number": 45
    },
    {
     "cell_type": "markdown",
     "metadata": {},
     "source": [
      "\n",
      "Dementsprechend besteht die auf Integrabilit\u00e4t zu \u00fcberpr\u00fcfenden Kodistribution nur noch aus $\\omega_1$ (siehe oben). Die Integrabilit\u00e4tsbedingung lautet: $\\d \\omega_1 \\wedge \\omega_1 = 0$."
     ]
    },
    {
     "cell_type": "code",
     "collapsed": false,
     "input": [
      "w1.coeff"
     ],
     "language": "python",
     "metadata": {},
     "outputs": [
      {
       "latex": [
        "$$\\left[\\begin{matrix}- \\sin{\\left (\\theta_{3} \\right )}\\\\\\cos{\\left (\\theta_{3} \\right )}\\\\- l_{1}\\end{matrix}\\right]$$"
       ],
       "metadata": {},
       "output_type": "pyout",
       "png": "[encoded data removed]",
       "prompt_number": 46,
       "text": [
        "\u23a1-sin(\u03b8\u2083)\u23a4\n",
        "\u23a2        \u23a5\n",
        "\u23a2cos(\u03b8\u2083) \u23a5\n",
        "\u23a2        \u23a5\n",
        "\u23a3  -l\u2081   \u23a6"
       ]
      }
     ],
     "prompt_number": 46
    },
    {
     "cell_type": "code",
     "collapsed": false,
     "input": [
      "pc.simplify(w1.d^w1)"
     ],
     "language": "python",
     "metadata": {},
     "outputs": [
      {
       "metadata": {},
       "output_type": "pyout",
       "prompt_number": 47,
       "text": [
        "(-1)dtheta1^dtheta2^dtheta3"
       ]
      }
     ],
     "prompt_number": 47
    },
    {
     "cell_type": "markdown",
     "metadata": {},
     "source": [
      "Integrabilit\u00e4tsbedingung nicht erf\u00fcllt. Das modifizierte System l\u00e4sst sich also nicht bez\u00fcglich aktiver und passiver Konfigruationskoordinaten aufspalten."
     ]
    }
   ],
   "metadata": {}
  }
 ]
}