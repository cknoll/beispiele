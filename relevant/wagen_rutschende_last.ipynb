{
 "metadata": {
  "name": "",
  "signature": "sha256:d9a509471c75fe2537c01d09a78bd00fe23cad540c7232d0141bd2bb012ce840"
 },
 "nbformat": 3,
 "nbformat_minor": 0,
 "worksheets": [
  {
   "cells": [
    {
     "cell_type": "code",
     "collapsed": false,
     "input": [
      "import time\n",
      "print time.ctime()\n",
      "%load_ext displaytools\n",
      "%matplotlib inline"
     ],
     "language": "python",
     "metadata": {},
     "outputs": [
      {
       "output_type": "stream",
       "stream": "stdout",
       "text": [
        "Tue Mar  8 15:52:05 2016\n"
       ]
      }
     ],
     "prompt_number": 1
    },
    {
     "cell_type": "markdown",
     "metadata": {},
     "source": [
      "**Betrachtetes System**: Zwei translatorisch verschiebbare K\u00f6rper K$_1$, K$_2$, die nur \u00fcber Viskose Reibung miteinander verbunden sind. Auf $K_1$ wirkt eine Stellkraft $\\tau_1$. Das System stellt ein einfaches Modell eines Fahrzeugs mit rutschender Last dar.<br>\n",
      "\n",
      "<img src=\"files/images/wagen_rutschende_last.png\">\n",
      "\n",
      "**Betrachtete Aspekte**:\n",
      "* Herleitung der Modellgleichungen\n",
      "* Untersuchung der Steuerbarkeit\n",
      "* Bestimmung Eingangstrajektorie zur Ruhelangen\u00fcberf\u00fchrung\n",
      "\n",
      "$$\n",
      "%<custom_config>\n",
      "\\newcommand{\\d}{\\mathrm{d}}\n",
      "\\newcommand{\\col}{\\mathrm{col}}\n",
      "\\newcommand{\\bs}{\\boldsymbol}\n",
      "\\newcommand{\\tt}{\\boldsymbol{\\theta}}\n",
      "\\newcommand{\\Ddt}{\\left(\\tfrac{d}{dt}\\right)}\n",
      "\\newcommand{\\ddt}{\\tfrac{d}{dt}}\n",
      "%</custom_config>\n",
      "$$\n"
     ]
    },
    {
     "cell_type": "code",
     "collapsed": false,
     "input": [
      "import sympy as sp\n",
      "from sympy import sin, cos, pi, Matrix\n",
      "from sympy.interactive import printing\n",
      "import scipy.integrate as sc_integrate\n",
      "import matplotlib.pylab as pl\n",
      "\n",
      "import symbtools as st\n",
      "import symbtools.modeltools as mt\n",
      "\n",
      "\n",
      "printing.init_printing()"
     ],
     "language": "python",
     "metadata": {},
     "outputs": [],
     "prompt_number": 2
    },
    {
     "cell_type": "code",
     "collapsed": false,
     "input": [
      "np = 1\n",
      "nq = 1\n",
      "n = np + nq\n",
      "pp = st.symb_vector(\"p1:{0}\".format(np+1))\n",
      "qq = st.symb_vector(\"q1:{0}\".format(nq+1))\n",
      "\n",
      "ttheta = st.row_stack(pp, qq) ##:T\n",
      "tthetad = st.time_deriv(ttheta, ttheta) ##:T\n",
      "tthetadd = st.time_deriv(ttheta, ttheta, order=2) ##:T\n",
      "\n",
      "st.make_global(ttheta, tthetad)"
     ],
     "language": "python",
     "metadata": {},
     "outputs": [
      {
       "latex": [
        "ttheta.T := $$\\left[\\begin{matrix}p_{1} & q_{1}\\end{matrix}\\right]$$"
       ],
       "metadata": {},
       "output_type": "display_data",
       "png": "[encoded data removed]",
       "text": [
        "ttheta.T := [p\u2081  q\u2081]"
       ]
      },
      {
       "output_type": "stream",
       "stream": "stdout",
       "text": [
        "---\n"
       ]
      },
      {
       "latex": [
        "tthetad.T := $$\\left[\\begin{matrix}\\dot{p}_{1} & \\dot{q}_{1}\\end{matrix}\\right]$$"
       ],
       "metadata": {},
       "output_type": "display_data",
       "png": "[encoded data removed]",
       "text": [
        "tthetad.T := [p\u0307\u2081  q\u0307\u2081]"
       ]
      },
      {
       "output_type": "stream",
       "stream": "stdout",
       "text": [
        "---\n"
       ]
      },
      {
       "latex": [
        "tthetadd.T := $$\\left[\\begin{matrix}\\ddot{p}_{1} & \\ddot{q}_{1}\\end{matrix}\\right]$$"
       ],
       "metadata": {},
       "output_type": "display_data",
       "png": "[encoded data removed]",
       "text": [
        "tthetadd.T := [p\u0308\u2081  q\u0308\u2081]"
       ]
      },
      {
       "output_type": "stream",
       "stream": "stdout",
       "text": [
        "---\n"
       ]
      }
     ],
     "prompt_number": 3
    },
    {
     "cell_type": "code",
     "collapsed": false,
     "input": [
      "params = sp.symbols('m1, m2, d1')\n",
      "\n",
      "ttau = sp.symbols(\"tau_dissip, tau1\")\n",
      "st.make_global(params, ttau)"
     ],
     "language": "python",
     "metadata": {},
     "outputs": [],
     "prompt_number": 4
    },
    {
     "cell_type": "code",
     "collapsed": false,
     "input": [
      "# Geometrie: (Einheitsvektoren)\n",
      "ex = Matrix([1,0])\n",
      "ey = Matrix([0,1])\n",
      "\n",
      "S1 = q1\n",
      "S2 = q1 + p1\n",
      "\n",
      "S1d = st.time_deriv(S1, ttheta)\n",
      "S2d = st.time_deriv(S2, ttheta)"
     ],
     "language": "python",
     "metadata": {},
     "outputs": [],
     "prompt_number": 5
    },
    {
     "cell_type": "code",
     "collapsed": false,
     "input": [
      "# kinetische Energie\n",
      "T = ( m1*S1d*S1d  +  m2*S2d*S2d )/2\n",
      "\n",
      "# potentielle Energie\n",
      "V = 0"
     ],
     "language": "python",
     "metadata": {},
     "outputs": [],
     "prompt_number": 6
    },
    {
     "cell_type": "code",
     "collapsed": false,
     "input": [
      "mod = mt.generate_symbolic_model(T, V, ttheta, ttau)\n",
      "mod.eqns = sp.simplify( mod.eqns.subs(tau_dissip, -d1*pdot1) )\n",
      "mod.tau = sp.Matrix([tau1])"
     ],
     "language": "python",
     "metadata": {},
     "outputs": [],
     "prompt_number": 7
    },
    {
     "cell_type": "code",
     "collapsed": false,
     "input": [
      "mod.eqns ##\n",
      "mod.MM"
     ],
     "language": "python",
     "metadata": {},
     "outputs": [
      {
       "latex": [
        "$$\\left[\\begin{matrix}d_{1} \\dot{p}_{1} + m_{2} \\left(\\ddot{p}_{1} + \\ddot{q}_{1}\\right)\\\\m_{1} \\ddot{q}_{1} + m_{2} \\left(\\ddot{p}_{1} + \\ddot{q}_{1}\\right) - \\tau_{1}\\end{matrix}\\right]$$"
       ],
       "metadata": {},
       "output_type": "display_data",
       "png": "[encoded data removed]",
       "text": [
        "\u23a1  d\u2081\u22c5p\u0307\u2081 + m\u2082\u22c5(p\u0308\u2081 + q\u0308\u2081)   \u23a4\n",
        "\u23a2                            \u23a5\n",
        "\u23a3m\u2081\u22c5q\u0308\u2081 + m\u2082\u22c5(p\u0308\u2081 + q\u0308\u2081) - \u03c4\u2081\u23a6"
       ]
      },
      {
       "output_type": "stream",
       "stream": "stdout",
       "text": [
        "___\n"
       ]
      },
      {
       "latex": [
        "$$\\left[\\begin{matrix}m_{2} & m_{2}\\\\m_{2} & m_{1} + m_{2}\\end{matrix}\\right]$$"
       ],
       "metadata": {},
       "output_type": "pyout",
       "png": "[encoded data removed]",
       "prompt_number": 10,
       "text": [
        "\u23a1m\u2082    m\u2082   \u23a4\n",
        "\u23a2           \u23a5\n",
        "\u23a3m\u2082  m\u2081 + m\u2082\u23a6"
       ]
      }
     ],
     "prompt_number": 10
    },
    {
     "cell_type": "code",
     "collapsed": false,
     "input": [
      "import diss_aux as da"
     ],
     "language": "python",
     "metadata": {},
     "outputs": [],
     "prompt_number": 8
    },
    {
     "cell_type": "code",
     "collapsed": false,
     "input": [
      "da.latex(mod.eqns.expand())"
     ],
     "language": "python",
     "metadata": {},
     "outputs": [
      {
       "output_type": "stream",
       "stream": "stdout",
       "text": [
        "\\left(\\begin{matrix}\n",
        "d_{1} \\dot{p}_{1} + m_{2} \\ddot{p}_{1} + m_{2} \\ddot{q}_{1}\\\\\n",
        "m_{1} \\ddot{q}_{1} + m_{2} \\ddot{p}_{1} + m_{2} \\ddot{q}_{1} - \\tau_{1}\n",
        "\\end{matrix}\\right)\n",
        "-------------\n"
       ]
      }
     ],
     "prompt_number": 10
    },
    {
     "cell_type": "code",
     "collapsed": false,
     "input": [
      "# (Lineare) Zustandsgleichungen bestimmen:\n",
      "\n",
      "mod.calc_state_eq()\n",
      "A = mod.f.jacobian(mod.xx) ##:\n",
      "B = mod.g ##:"
     ],
     "language": "python",
     "metadata": {},
     "outputs": [
      {
       "latex": [
        "A := $$\\left[\\begin{matrix}0 & 0 & 1 & 0\\\\0 & 0 & 0 & 1\\\\0 & 0 & - \\frac{d_{1} \\left(m_{1} + m_{2}\\right)}{m_{1} m_{2}} & 0\\\\0 & 0 & \\frac{d_{1}}{m_{1}} & 0\\end{matrix}\\right]$$"
       ],
       "metadata": {},
       "output_type": "display_data",
       "png": "[encoded data removed]",
       "text": [
        "A := \u23a10  0        1         0\u23a4\n",
        "\u23a2                       \u23a5\n",
        "\u23a20  0        0         1\u23a5\n",
        "\u23a2                       \u23a5\n",
        "\u23a2      -d\u2081\u22c5(m\u2081 + m\u2082)    \u23a5\n",
        "\u23a20  0  \u2500\u2500\u2500\u2500\u2500\u2500\u2500\u2500\u2500\u2500\u2500\u2500\u2500\u2500  0\u23a5\n",
        "\u23a2          m\u2081\u22c5m\u2082        \u23a5\n",
        "\u23a2                       \u23a5\n",
        "\u23a2            d\u2081         \u23a5\n",
        "\u23a20  0        \u2500\u2500        0\u23a5\n",
        "\u23a3            m\u2081         \u23a6"
       ]
      },
      {
       "output_type": "stream",
       "stream": "stdout",
       "text": [
        "---\n"
       ]
      },
      {
       "latex": [
        "B := $$\\left[\\begin{matrix}0\\\\0\\\\- \\frac{1}{m_{1}}\\\\\\frac{1}{m_{1}}\\end{matrix}\\right]$$"
       ],
       "metadata": {},
       "output_type": "display_data",
       "png": "[encoded data removed]",
       "text": [
        "B := \u23a1 0 \u23a4\n",
        "\u23a2   \u23a5\n",
        "\u23a2 0 \u23a5\n",
        "\u23a2   \u23a5\n",
        "\u23a2-1 \u23a5\n",
        "\u23a2\u2500\u2500\u2500\u23a5\n",
        "\u23a2 m\u2081\u23a5\n",
        "\u23a2   \u23a5\n",
        "\u23a21  \u23a5\n",
        "\u23a2\u2500\u2500 \u23a5\n",
        "\u23a3m\u2081 \u23a6"
       ]
      },
      {
       "output_type": "stream",
       "stream": "stdout",
       "text": [
        "---\n"
       ]
      }
     ],
     "prompt_number": 22
    },
    {
     "cell_type": "markdown",
     "metadata": {},
     "source": [
      "### Ruhelagen\u00fcberf\u00fchrung mit Hilfe der Gramschen Matrix"
     ]
    },
    {
     "cell_type": "code",
     "collapsed": false,
     "input": [
      "x_start = sp.Matrix([0, 0, 0, 0])\n",
      "x_end = sp.Matrix([0, 1, 0, 0])\n",
      "\n",
      "parameter_values = dict(m1=1, m2=1, d1=.5)\n",
      "An = A.subs(parameter_values)\n",
      "Bn = B.subs(parameter_values)\n",
      "\n",
      "# \u00dcbergangszeit\n",
      "T_trans = 3\n",
      "t =sp.Symbol('t')"
     ],
     "language": "python",
     "metadata": {},
     "outputs": [],
     "prompt_number": 32
    },
    {
     "cell_type": "code",
     "collapsed": false,
     "input": [
      "An"
     ],
     "language": "python",
     "metadata": {},
     "outputs": [
      {
       "latex": [
        "$$\\left[\\begin{matrix}0 & 0 & 1 & 0\\\\0 & 0 & 0 & 1\\\\0 & 0 & -1.0 & 0\\\\0 & 0 & 0.5 & 0\\end{matrix}\\right]$$"
       ],
       "metadata": {},
       "output_type": "pyout",
       "png": "[encoded data removed]",
       "prompt_number": 46,
       "text": [
        "\u23a10  0   1    0\u23a4\n",
        "\u23a2             \u23a5\n",
        "\u23a20  0   0    1\u23a5\n",
        "\u23a2             \u23a5\n",
        "\u23a20  0  -1.0  0\u23a5\n",
        "\u23a2             \u23a5\n",
        "\u23a30  0  0.5   0\u23a6"
       ]
      }
     ],
     "prompt_number": 46
    },
    {
     "cell_type": "code",
     "collapsed": false,
     "input": [
      "A_exp = sp.simplify(sp.exp(An*(T_trans-t)))"
     ],
     "language": "python",
     "metadata": {},
     "outputs": [],
     "prompt_number": 47
    },
    {
     "cell_type": "code",
     "collapsed": false,
     "input": [
      "integrand = sp.simplify(A_exp*Bn*Bn.T*A_exp.T) ##"
     ],
     "language": "python",
     "metadata": {},
     "outputs": [
      {
       "latex": [
        "$$\\left[\\begin{matrix}\\frac{1}{\\left(0.5 t - 1.5\\right)^{2}} \\left(- 0.5 t + \\left(0.024893534183932 t - 0.0746806025517959\\right) e^{t} + 1.5\\right)^{2} & \\frac{1}{0.5 t - 1.5} \\left(- 0.5 t + \\left(0.024893534183932 t - 0.0746806025517959\\right) e^{t} + 1.5\\right) \\left(- 0.5 t - 0.024893534183932 e^{t} + 2.0\\right) & - \\frac{e^{t}}{\\left(0.5 t - 1.5\\right)^{2}} \\left(0.024893534183932 t - 0.0746806025517959\\right) \\left(- 0.5 t + \\left(0.024893534183932 t - 0.0746806025517959\\right) e^{t} + 1.5\\right) & \\frac{1}{0.5 t - 1.5} \\left(0.00061968804416659 t e^{2 t} - 0.25 t - 0.00185906413249977 e^{2 t} + 0.75\\right)\\\\\\frac{1}{0.5 t - 1.5} \\left(0.5 t - \\left(0.024893534183932 t - 0.0746806025517959\\right) e^{t} - 1.5\\right) \\left(0.5 t + 0.024893534183932 e^{t} - 2.0\\right) & \\left(0.5 t + 0.024893534183932 e^{t} - 2.0\\right)^{2} & \\frac{e^{t}}{0.5 t - 1.5} \\left(0.024893534183932 t - 0.0746806025517959\\right) \\left(0.5 t + 0.024893534183932 e^{t} - 2.0\\right) & - 0.012446767091966 t e^{t} - 0.25 t - 0.00061968804416659 e^{2 t} + 0.037340301275898 e^{t} + 1.0\\\\- \\frac{e^{t}}{\\left(0.5 t - 1.5\\right)^{2}} \\left(0.024893534183932 t - 0.0746806025517959\\right) \\left(- 0.5 t + \\left(0.024893534183932 t - 0.0746806025517959\\right) e^{t} + 1.5\\right) & \\frac{e^{t}}{0.5 t - 1.5} \\left(0.024893534183932 t - 0.0746806025517959\\right) \\left(0.5 t + 0.024893534183932 e^{t} - 2.0\\right) & \\frac{\\left(0.024893534183932 t - 0.0746806025517959\\right)^{2} e^{2 t}}{\\left(0.5 t - 1.5\\right)^{2}} & \\frac{e^{t}}{0.5 t - 1.5} \\left(- 0.024893534183932 t - \\left(0.024893534183932 t - 0.0746806025517959\\right) \\left(0.024893534183932 e^{t} - 0.5\\right) + 0.0746806025517959\\right)\\\\\\frac{1}{0.5 t - 1.5} \\left(0.024893534183932 e^{t} + 0.5\\right) \\left(- 0.5 t + \\left(0.024893534183932 t - 0.0746806025517959\\right) e^{t} + 1.5\\right) & \\left(0.024893534183932 e^{t} + 0.5\\right) \\left(- 0.5 t - 0.024893534183932 e^{t} + 2.0\\right) & - \\frac{e^{t}}{0.5 t - 1.5} \\left(0.024893534183932 t - 0.0746806025517959\\right) \\left(0.024893534183932 e^{t} + 0.5\\right) & 0.00061968804416659 e^{2 t} + 0.024893534183932 e^{t} + 0.25\\end{matrix}\\right]$$"
       ],
       "metadata": {},
       "output_type": "display_data",
       "png": "[encoded data removed]",
       "text": [
        "\u23a1                                                                             \n",
        "\u23a2                       \u239b                                                     \n",
        "\u23a2                       \u239d-- -0.5\u22c5t + (0.024893534183932\u22c5t - 0.0746806025517959\n",
        "\u23a2                       \u2500\u2500\u2500\u2500\u2500\u2500\u2500\u2500\u2500\u2500\u2500\u2500\u2500\u2500\u2500\u2500\u2500\u2500\u2500\u2500\u2500\u2500\u2500\u2500\u2500\u2500\u2500\u2500\u2500\u2500\u2500\u2500\u2500\u2500\u2500\u2500\u2500\u2500\u2500\u2500\u2500\u2500\u2500\u2500\u2500\u2500\u2500\u2500\u2500\u2500\u2500\u2500\u2500\u2500\n",
        "\u23a2                                                              2              \n",
        "\u23a2                                                 (0.5\u22c5t - 1.5)               \n",
        "\u23a2                                                                             \n",
        "\u23a2       \u239b                                                    t      \u239e \u239b       \n",
        "\u23a2       \u239d0.5\u22c5t - (0.024893534183932\u22c5t - 0.0746806025517959)\u22c5\u212f  - 1.5\u23a0\u22c5\u239d0.5\u22c5t +\n",
        "\u23a2       \u2500\u2500\u2500\u2500\u2500\u2500\u2500\u2500\u2500\u2500\u2500\u2500\u2500\u2500\u2500\u2500\u2500\u2500\u2500\u2500\u2500\u2500\u2500\u2500\u2500\u2500\u2500\u2500\u2500\u2500\u2500\u2500\u2500\u2500\u2500\u2500\u2500\u2500\u2500\u2500\u2500\u2500\u2500\u2500\u2500\u2500\u2500\u2500\u2500\u2500\u2500\u2500\u2500\u2500\u2500\u2500\u2500\u2500\u2500\u2500\u2500\u2500\u2500\u2500\u2500\u2500\u2500\u2500\u2500\u2500\n",
        "\u23a2                                                  0.5\u22c5t - 1.5                \n",
        "\u23a2                                                                             \n",
        "\u23a2                                            \u239b                                \n",
        "\u23a2-(0.024893534183932\u22c5t - 0.0746806025517959)\u22c5\u239d-- -0.5\u22c5t + (0.024893534183932\u22c5t\n",
        "\u23a2\u2500\u2500\u2500\u2500\u2500\u2500\u2500\u2500\u2500\u2500\u2500\u2500\u2500\u2500\u2500\u2500\u2500\u2500\u2500\u2500\u2500\u2500\u2500\u2500\u2500\u2500\u2500\u2500\u2500\u2500\u2500\u2500\u2500\u2500\u2500\u2500\u2500\u2500\u2500\u2500\u2500\u2500\u2500\u2500\u2500\u2500\u2500\u2500\u2500\u2500\u2500\u2500\u2500\u2500\u2500\u2500\u2500\u2500\u2500\u2500\u2500\u2500\u2500\u2500\u2500\u2500\u2500\u2500\u2500\u2500\u2500\u2500\u2500\u2500\u2500\u2500\u2500\n",
        "\u23a2                                                               2             \n",
        "\u23a2                                                  (0.5\u22c5t - 1.5)              \n",
        "\u23a2                                                                             \n",
        "\u23a2         \u239b                   t      \u239e \u239b                                      \n",
        "\u23a2         \u239d0.024893534183932\u22c5\u212f  + 0.5\u23a0\u22c5\u239d-- -0.5\u22c5t + (0.024893534183932\u22c5t - 0.0\n",
        "\u23a2         \u2500\u2500\u2500\u2500\u2500\u2500\u2500\u2500\u2500\u2500\u2500\u2500\u2500\u2500\u2500\u2500\u2500\u2500\u2500\u2500\u2500\u2500\u2500\u2500\u2500\u2500\u2500\u2500\u2500\u2500\u2500\u2500\u2500\u2500\u2500\u2500\u2500\u2500\u2500\u2500\u2500\u2500\u2500\u2500\u2500\u2500\u2500\u2500\u2500\u2500\u2500\u2500\u2500\u2500\u2500\u2500\u2500\u2500\u2500\u2500\u2500\u2500\u2500\u2500\u2500\u2500\u2500\u2500\n",
        "\u23a3                                                  0.5\u22c5t - 1.5                \n",
        "\n",
        "           2                                                                  \n",
        "   t      \u239e                           \u239b                                       \n",
        ")\u22c5\u212f  + 1.5\u23a0                           \u239d-- -0.5\u22c5t + (0.024893534183932\u22c5t - 0.07\n",
        "\u2500\u2500\u2500\u2500\u2500\u2500\u2500\u2500\u2500\u2500\u2500\u2500                          \u2500\u2500\u2500\u2500\u2500\u2500\u2500\u2500\u2500\u2500\u2500\u2500\u2500\u2500\u2500\u2500\u2500\u2500\u2500\u2500\u2500\u2500\u2500\u2500\u2500\u2500\u2500\u2500\u2500\u2500\u2500\u2500\u2500\u2500\u2500\u2500\u2500\u2500\u2500\u2500\n",
        "                                                                              \n",
        "                                                                              \n",
        "                                                                              \n",
        "                    t      \u239e                                                  \n",
        " 0.024893534183932\u22c5\u212f  - 2.0\u23a0                                              \u239b   \n",
        "\u2500\u2500\u2500\u2500\u2500\u2500\u2500\u2500\u2500\u2500\u2500\u2500\u2500\u2500\u2500\u2500\u2500\u2500\u2500\u2500\u2500\u2500\u2500\u2500\u2500\u2500\u2500\u2500                                              \u239d0.5\n",
        "                                                                              \n",
        "                                                                              \n",
        "                        t      \u239e  t                                           \n",
        " - 0.0746806025517959)\u22c5\u212f  + 1.5\u23a0\u22c5\u212f                 (0.024893534183932\u22c5t - 0.07\n",
        "\u2500\u2500\u2500\u2500\u2500\u2500\u2500\u2500\u2500\u2500\u2500\u2500\u2500\u2500\u2500\u2500\u2500\u2500\u2500\u2500\u2500\u2500\u2500\u2500\u2500\u2500\u2500\u2500\u2500\u2500\u2500\u2500\u2500\u2500\u2500\u2500               \u2500\u2500\u2500\u2500\u2500\u2500\u2500\u2500\u2500\u2500\u2500\u2500\u2500\u2500\u2500\u2500\u2500\u2500\u2500\u2500\u2500\u2500\u2500\u2500\u2500\u2500\u2500\n",
        "                                                                              \n",
        "                                                                              \n",
        "                                                                              \n",
        "                  t      \u239e                                                    \n",
        "746806025517959)\u22c5\u212f  + 1.5\u23a0                              \u239b                   t \n",
        "\u2500\u2500\u2500\u2500\u2500\u2500\u2500\u2500\u2500\u2500\u2500\u2500\u2500\u2500\u2500\u2500\u2500\u2500\u2500\u2500\u2500\u2500\u2500\u2500\u2500\u2500                              \u239d0.024893534183932\u22c5\u212f  \n",
        "                                                                              \n",
        "\n",
        "                                                                              \n",
        "                 t      \u239e \u239b                                  t      \u239e         \n",
        "46806025517959)\u22c5\u212f  + 1.5\u23a0\u22c5\u239d-- -0.5\u22c5t - - -0.024893534183932\u22c5\u212f  + 2.0\u23a0  -(0.024\n",
        "\u2500\u2500\u2500\u2500\u2500\u2500\u2500\u2500\u2500\u2500\u2500\u2500\u2500\u2500\u2500\u2500\u2500\u2500\u2500\u2500\u2500\u2500\u2500\u2500\u2500\u2500\u2500\u2500\u2500\u2500\u2500\u2500\u2500\u2500\u2500\u2500\u2500\u2500\u2500\u2500\u2500\u2500\u2500\u2500\u2500\u2500\u2500\u2500\u2500\u2500\u2500\u2500\u2500\u2500\u2500\u2500\u2500\u2500\u2500\u2500\u2500\u2500\u2500\u2500\u2500\u2500\u2500\u2500\u2500  \u2500\u2500\u2500\u2500\u2500\u2500\u2500\n",
        "         0.5\u22c5t - 1.5                                                          \n",
        "                                                                              \n",
        "                                                                              \n",
        "                                2                                             \n",
        "                        t      \u239e                                              \n",
        "\u22c5t + 0.024893534183932\u22c5\u212f  - 2.0\u23a0                                              \n",
        "                                                                              \n",
        "                                                                              \n",
        "                \u239b                           t      \u239e  t                       \n",
        "46806025517959)\u22c5\u239d0.5\u22c5t + 0.024893534183932\u22c5\u212f  - 2.0\u23a0\u22c5\u212f                        \n",
        "\u2500\u2500\u2500\u2500\u2500\u2500\u2500\u2500\u2500\u2500\u2500\u2500\u2500\u2500\u2500\u2500\u2500\u2500\u2500\u2500\u2500\u2500\u2500\u2500\u2500\u2500\u2500\u2500\u2500\u2500\u2500\u2500\u2500\u2500\u2500\u2500\u2500\u2500\u2500\u2500\u2500\u2500\u2500\u2500\u2500\u2500\u2500\u2500\u2500\u2500\u2500\u2500\u2500\u2500\u2500                       \n",
        "        0.5\u22c5t - 1.5                                                           \n",
        "                                                                              \n",
        "                                                                              \n",
        "                                                                              \n",
        "     \u239e \u239b                                  t      \u239e                            \n",
        "+ 0.5\u23a0\u22c5\u239d-- -0.5\u22c5t - - -0.024893534183932\u22c5\u212f  + 2.0\u23a0                            \n",
        "                                                                              \n",
        "\n",
        "                                                                              \n",
        "                                     \u239b                                        \n",
        "893534183932\u22c5t - 0.0746806025517959)\u22c5\u239d-- -0.5\u22c5t + (0.024893534183932\u22c5t - 0.074\n",
        "\u2500\u2500\u2500\u2500\u2500\u2500\u2500\u2500\u2500\u2500\u2500\u2500\u2500\u2500\u2500\u2500\u2500\u2500\u2500\u2500\u2500\u2500\u2500\u2500\u2500\u2500\u2500\u2500\u2500\u2500\u2500\u2500\u2500\u2500\u2500\u2500\u2500\u2500\u2500\u2500\u2500\u2500\u2500\u2500\u2500\u2500\u2500\u2500\u2500\u2500\u2500\u2500\u2500\u2500\u2500\u2500\u2500\u2500\u2500\u2500\u2500\u2500\u2500\u2500\u2500\u2500\u2500\u2500\u2500\u2500\u2500\u2500\u2500\u2500\u2500\u2500\u2500\u2500\n",
        "                                                        2                     \n",
        "                                           (0.5\u22c5t - 1.5)                      \n",
        "                                                                              \n",
        "                                                   \u239b                          \n",
        "        (0.024893534183932\u22c5t - 0.0746806025517959)\u22c5\u239d0.5\u22c5t + 0.024893534183932\u22c5\n",
        "        \u2500\u2500\u2500\u2500\u2500\u2500\u2500\u2500\u2500\u2500\u2500\u2500\u2500\u2500\u2500\u2500\u2500\u2500\u2500\u2500\u2500\u2500\u2500\u2500\u2500\u2500\u2500\u2500\u2500\u2500\u2500\u2500\u2500\u2500\u2500\u2500\u2500\u2500\u2500\u2500\u2500\u2500\u2500\u2500\u2500\u2500\u2500\u2500\u2500\u2500\u2500\u2500\u2500\u2500\u2500\u2500\u2500\u2500\u2500\u2500\u2500\u2500\u2500\u2500\u2500\u2500\u2500\u2500\u2500\u2500\n",
        "                                           0.5\u22c5t - 1.5                        \n",
        "                                                                              \n",
        "                                                                   2  2\u22c5t     \n",
        "                         (0.024893534183932\u22c5t - 0.0746806025517959) \u22c5\u212f        \n",
        "                         \u2500\u2500\u2500\u2500\u2500\u2500\u2500\u2500\u2500\u2500\u2500\u2500\u2500\u2500\u2500\u2500\u2500\u2500\u2500\u2500\u2500\u2500\u2500\u2500\u2500\u2500\u2500\u2500\u2500\u2500\u2500\u2500\u2500\u2500\u2500\u2500\u2500\u2500\u2500\u2500\u2500\u2500\u2500\u2500\u2500\u2500\u2500\u2500     \n",
        "                                                       2                      \n",
        "                                          (0.5\u22c5t - 1.5)                       \n",
        "                                                                              \n",
        "                                                       \u239b                   t  \n",
        "           -(0.024893534183932\u22c5t - 0.0746806025517959)\u22c5\u239d0.024893534183932\u22c5\u212f  +\n",
        "           \u2500\u2500\u2500\u2500\u2500\u2500\u2500\u2500\u2500\u2500\u2500\u2500\u2500\u2500\u2500\u2500\u2500\u2500\u2500\u2500\u2500\u2500\u2500\u2500\u2500\u2500\u2500\u2500\u2500\u2500\u2500\u2500\u2500\u2500\u2500\u2500\u2500\u2500\u2500\u2500\u2500\u2500\u2500\u2500\u2500\u2500\u2500\u2500\u2500\u2500\u2500\u2500\u2500\u2500\u2500\u2500\u2500\u2500\u2500\u2500\u2500\u2500\u2500\u2500\u2500\u2500\u2500\n",
        "                                           0.5\u22c5t - 1.5                        \n",
        "\n",
        "                                                                              \n",
        "                t      \u239e  t                                                  2\n",
        "6806025517959)\u22c5\u212f  + 1.5\u23a0\u22c5\u212f                            0.00061968804416659\u22c5t\u22c5\u212f \n",
        "\u2500\u2500\u2500\u2500\u2500\u2500\u2500\u2500\u2500\u2500\u2500\u2500\u2500\u2500\u2500\u2500\u2500\u2500\u2500\u2500\u2500\u2500\u2500\u2500\u2500\u2500\u2500\u2500                          \u2500\u2500\u2500\u2500\u2500\u2500\u2500\u2500\u2500\u2500\u2500\u2500\u2500\u2500\u2500\u2500\u2500\u2500\u2500\u2500\u2500\u2500\u2500\u2500\n",
        "                                                                              \n",
        "                                                                              \n",
        "                                                                              \n",
        " t      \u239e  t                                                                  \n",
        "\u212f  - 2.0\u23a0\u22c5\u212f                                                         t         \n",
        "\u2500\u2500\u2500\u2500\u2500\u2500\u2500\u2500\u2500\u2500\u2500\u2500                              - - -0.012446767091966\u22c5t\u22c5\u212f  - - -0.2\n",
        "                                                                              \n",
        "                                                                              \n",
        "                              \u239b                                               \n",
        "                              \u239d-- -0.024893534183932\u22c5t - (0.024893534183932\u22c5t \n",
        "                              \u2500\u2500\u2500\u2500\u2500\u2500\u2500\u2500\u2500\u2500\u2500\u2500\u2500\u2500\u2500\u2500\u2500\u2500\u2500\u2500\u2500\u2500\u2500\u2500\u2500\u2500\u2500\u2500\u2500\u2500\u2500\u2500\u2500\u2500\u2500\u2500\u2500\u2500\u2500\u2500\u2500\u2500\u2500\u2500\u2500\u2500\u2500\u2500\n",
        "                                                                              \n",
        "                                                                              \n",
        "                                                                              \n",
        "    \u239e  t                                                                      \n",
        " 0.5\u23a0\u22c5\u212f                                                                       \n",
        "\u2500\u2500\u2500\u2500\u2500\u2500\u2500\u2500\u2500                                                       0.000619688044\n",
        "                                                                              \n",
        "\n",
        "                                                                           \u23a4\n",
        "\u22c5t                                       2\u22c5t                               \u23a5\n",
        "   - - -0.25\u22c5t - - -0.00185906413249977\u22c5\u212f    + 0.75                        \u23a5\n",
        "\u2500\u2500\u2500\u2500\u2500\u2500\u2500\u2500\u2500\u2500\u2500\u2500\u2500\u2500\u2500\u2500\u2500\u2500\u2500\u2500\u2500\u2500\u2500\u2500\u2500\u2500\u2500\u2500\u2500\u2500\u2500\u2500\u2500\u2500\u2500\u2500\u2500\u2500\u2500\u2500\u2500\u2500\u2500\u2500\u2500\u2500\u2500\u2500\u2500\u2500\u2500                        \u23a5\n",
        "        0.5\u22c5t - 1.5                                                        \u23a5\n",
        "                                                                           \u23a5\n",
        "                                                                           \u23a5\n",
        "                                                                           \u23a5\n",
        "                              2\u22c5t                      t                   \u23a5\n",
        "5\u22c5t - - -0.00061968804416659\u22c5\u212f    + 0.037340301275898\u22c5\u212f  + 1.0             \u23a5\n",
        "                                                                           \u23a5\n",
        "                                                                           \u23a5\n",
        "                      \u239b                   t      \u239e                     \u239e  t\u23a5\n",
        "- 0.0746806025517959)\u22c5\u239d0.024893534183932\u22c5\u212f  - 0.5\u23a0 + 0.0746806025517959\u23a0\u22c5\u212f \u23a5\n",
        "\u2500\u2500\u2500\u2500\u2500\u2500\u2500\u2500\u2500\u2500\u2500\u2500\u2500\u2500\u2500\u2500\u2500\u2500\u2500\u2500\u2500\u2500\u2500\u2500\u2500\u2500\u2500\u2500\u2500\u2500\u2500\u2500\u2500\u2500\u2500\u2500\u2500\u2500\u2500\u2500\u2500\u2500\u2500\u2500\u2500\u2500\u2500\u2500\u2500\u2500\u2500\u2500\u2500\u2500\u2500\u2500\u2500\u2500\u2500\u2500\u2500\u2500\u2500\u2500\u2500\u2500\u2500\u2500\u2500\u2500\u2500\u2500\u2500\u2500\u2500\u23a5\n",
        "        0.5\u22c5t - 1.5                                                        \u23a5\n",
        "                                                                           \u23a5\n",
        "                                                                           \u23a5\n",
        "                                                                           \u23a5\n",
        "       2\u22c5t                      t                                          \u23a5\n",
        "16659\u22c5\u212f    + 0.024893534183932\u22c5\u212f  + 0.25                                   \u23a5\n",
        "                                                                           \u23a6"
       ]
      },
      {
       "output_type": "stream",
       "stream": "stdout",
       "text": [
        "---\n"
       ]
      }
     ],
     "prompt_number": 60
    },
    {
     "cell_type": "markdown",
     "metadata": {},
     "source": [
      "Numerische Integration, da f\u00fcr einige Terme keine geschlossene L\u00f6sung exisitiert:"
     ]
    },
    {
     "cell_type": "code",
     "collapsed": false,
     "input": [
      "fnc_list = [st.expr_to_func(t, expr) for expr in integrand[:]]"
     ],
     "language": "python",
     "metadata": {},
     "outputs": [],
     "prompt_number": 120
    },
    {
     "cell_type": "code",
     "collapsed": false,
     "input": [
      "WT = sp.Matrix([sc_integrate.quad(fnc, 0, T_trans)[0] for fnc in fnc_list]).reshape(4, 4) ##:"
     ],
     "language": "python",
     "metadata": {},
     "outputs": [
      {
       "latex": [
        "WT := $$\\left[\\begin{matrix}1.5983347606474 & -2.64874151705943 & 0.451452307720488 & -1.25061968804417\\\\-2.64874151705943 & 4.49915782689758 & -0.626152017124504 & 1.95052277565422\\\\0.451452307720488 & -0.626152017124504 & 0.498760623911626 & -0.72448677777188\\\\-1.25061968804419 & 1.95052277565422 & -0.72448677777188 & 1.34979662179399\\end{matrix}\\right]$$"
       ],
       "metadata": {},
       "output_type": "display_data",
       "png": "[encoded data removed]",
       "text": [
        "WT := \u23a1 1.5983347606474   -2.64874151705943   0.451452307720488   -1.25061968804417\u23a4\n",
        "\u23a2                                                                            \u23a5\n",
        "\u23a2-2.64874151705943   4.49915782689758   -0.626152017124504  1.95052277565422 \u23a5\n",
        "\u23a2                                                                            \u23a5\n",
        "\u23a20.451452307720488  -0.626152017124504  0.498760623911626   -0.72448677777188\u23a5\n",
        "\u23a2                                                                            \u23a5\n",
        "\u23a3-1.25061968804419   1.95052277565422   -0.72448677777188   1.34979662179399 \u23a6"
       ]
      },
      {
       "output_type": "stream",
       "stream": "stdout",
       "text": [
        "---\n"
       ]
      }
     ],
     "prompt_number": 122
    },
    {
     "cell_type": "code",
     "collapsed": false,
     "input": [
      "WT_inv = WT.inv() ##:"
     ],
     "language": "python",
     "metadata": {},
     "outputs": [
      {
       "latex": [
        "WT_inv := $$\\left[\\begin{matrix}22350370359152.2 & 23.5620168357587 & 44700740718213.5 & 44700740718220.8\\\\-1.85733800295072 & 14.365817489983 & -58.7155521129236 & -53.9950372208437\\\\44700740718313.3 & -7.87684243550298 & 89401481436664.4 & 89401481436656.8\\\\44700740718311.5 & -3.15632754342432 & 89401481436638.5 & 89401481436635.2\\end{matrix}\\right]$$"
       ],
       "metadata": {},
       "output_type": "display_data",
       "png": "[encoded data removed]",
       "text": [
        "WT_inv := \u23a122350370359152.2   23.5620168357587   44700740718213.5   44700740718220.8 \u23a4\n",
        "\u23a2                                                                          \u23a5\n",
        "\u23a2-1.85733800295072   14.365817489983   -58.7155521129236  -53.9950372208437\u23a5\n",
        "\u23a2                                                                          \u23a5\n",
        "\u23a244700740718313.3   -7.87684243550298  89401481436664.4   89401481436656.8 \u23a5\n",
        "\u23a2                                                                          \u23a5\n",
        "\u23a344700740718311.5   -3.15632754342432  89401481436638.5   89401481436635.2 \u23a6"
       ]
      },
      {
       "output_type": "stream",
       "stream": "stdout",
       "text": [
        "---\n"
       ]
      }
     ],
     "prompt_number": 123
    },
    {
     "cell_type": "code",
     "collapsed": false,
     "input": [
      "tau1_expr = sp.simplify(Bn.T*A_exp.T*WT_inv*(x_end - A_exp.subs(t, 0)*x_start))[0] ##:"
     ],
     "language": "python",
     "metadata": {},
     "outputs": [
      {
       "latex": [
        "tau1_expr := $$\\frac{1}{0.5 t - 1.5} \\left(- 3.59145437249575 t^{2} + 0.56453025979051 t e^{t} + 12.5700903037348 t - 1.69359077937153 e^{t} - 5.38718155874268\\right)$$"
       ],
       "metadata": {},
       "output_type": "display_data",
       "png": "[encoded data removed]",
       "text": [
        "tau1_expr :=                           2                       t                           \n",
        "- -3.59145437249575\u22c5(-1)\u22c5t  + 0.56453025979051\u22c5t\u22c5\u212f  + 12.5700903037348\u22c5t - -1.\n",
        "\u2500\u2500\u2500\u2500\u2500\u2500\u2500\u2500\u2500\u2500\u2500\u2500\u2500\u2500\u2500\u2500\u2500\u2500\u2500\u2500\u2500\u2500\u2500\u2500\u2500\u2500\u2500\u2500\u2500\u2500\u2500\u2500\u2500\u2500\u2500\u2500\u2500\u2500\u2500\u2500\u2500\u2500\u2500\u2500\u2500\u2500\u2500\u2500\u2500\u2500\u2500\u2500\u2500\u2500\u2500\u2500\u2500\u2500\u2500\u2500\u2500\u2500\u2500\u2500\u2500\u2500\u2500\u2500\u2500\u2500\u2500\u2500\u2500\u2500\u2500\u2500\u2500\u2500\n",
        "                                                      0.5\u22c5t - 1.5             \n",
        "\n",
        "                     t                   \n",
        "69359077937153\u22c5(-1)\u22c5\u212f  - 5.38718155874268\n",
        "\u2500\u2500\u2500\u2500\u2500\u2500\u2500\u2500\u2500\u2500\u2500\u2500\u2500\u2500\u2500\u2500\u2500\u2500\u2500\u2500\u2500\u2500\u2500\u2500\u2500\u2500\u2500\u2500\u2500\u2500\u2500\u2500\u2500\u2500\u2500\u2500\u2500\u2500\u2500\u2500\u2500\n",
        "                                         "
       ]
      },
      {
       "output_type": "stream",
       "stream": "stdout",
       "text": [
        "---\n"
       ]
      }
     ],
     "prompt_number": 136
    },
    {
     "cell_type": "code",
     "collapsed": false,
     "input": [
      "input_expr = sp.Piecewise((0, t<=0), (tau1_expr, t<=T_trans), (0, True))"
     ],
     "language": "python",
     "metadata": {},
     "outputs": [],
     "prompt_number": 139
    },
    {
     "cell_type": "code",
     "collapsed": false,
     "input": [
      "input_fnc = st.expr_to_func(t, input_expr)"
     ],
     "language": "python",
     "metadata": {},
     "outputs": [],
     "prompt_number": 145
    },
    {
     "cell_type": "code",
     "collapsed": false,
     "input": [
      "tt = st.np.linspace(-1, T_trans+3, 1e3)\n",
      "input_values = input_fnc(tt)"
     ],
     "language": "python",
     "metadata": {},
     "outputs": [],
     "prompt_number": 177
    },
    {
     "cell_type": "code",
     "collapsed": false,
     "input": [
      "pl.plot(tt, input_values)\n",
      "pl.title(\"Eingangsverlauf\")"
     ],
     "language": "python",
     "metadata": {},
     "outputs": [
      {
       "metadata": {},
       "output_type": "pyout",
       "prompt_number": 187,
       "text": [
        "<matplotlib.text.Text at 0xeb35ccc>"
       ]
      },
      {
       "metadata": {},
       "output_type": "display_data",
       "png": "[encoded data removed]",
       "text": [
        "<matplotlib.figure.Figure at 0xe9d5e6c>"
       ]
      }
     ],
     "prompt_number": 187
    },
    {
     "cell_type": "code",
     "collapsed": false,
     "input": [
      "sim_mod = st.SimulationModel(mod.f, mod.g, mod.xx, model_parameters=parameter_values)"
     ],
     "language": "python",
     "metadata": {},
     "outputs": [],
     "prompt_number": 179
    },
    {
     "cell_type": "code",
     "collapsed": false,
     "input": [
      "rhs = sim_mod.create_simfunction(input_function=input_fnc)"
     ],
     "language": "python",
     "metadata": {},
     "outputs": [],
     "prompt_number": 180
    },
    {
     "cell_type": "code",
     "collapsed": false,
     "input": [
      "xn_start = st.to_np(x_start).flatten()"
     ],
     "language": "python",
     "metadata": {},
     "outputs": [],
     "prompt_number": 181
    },
    {
     "cell_type": "code",
     "collapsed": false,
     "input": [
      "sim_result = sc_integrate.odeint(rhs, xn_start, tt)"
     ],
     "language": "python",
     "metadata": {},
     "outputs": [],
     "prompt_number": 182
    },
    {
     "cell_type": "code",
     "collapsed": false,
     "input": [
      "X1, X2 = sim_result.T[:2, :]"
     ],
     "language": "python",
     "metadata": {},
     "outputs": [],
     "prompt_number": 183
    },
    {
     "cell_type": "code",
     "collapsed": false,
     "input": [
      "pl.plot(tt, X1, label=\"$p_1(t)$\")\n",
      "pl.plot(tt, X2, label=\"$q_1(t)$\")\n",
      "pl.legend()"
     ],
     "language": "python",
     "metadata": {},
     "outputs": [
      {
       "metadata": {},
       "output_type": "pyout",
       "prompt_number": 193,
       "text": [
        "<matplotlib.legend.Legend at 0xf1922ec>"
       ]
      },
      {
       "metadata": {},
       "output_type": "display_data",
       "png": "[encoded data removed]",
       "text": [
        "<matplotlib.figure.Figure at 0xeb10d4c>"
       ]
      }
     ],
     "prompt_number": 193
    },
    {
     "cell_type": "code",
     "collapsed": false,
     "input": [
      "A_exp.det()"
     ],
     "language": "python",
     "metadata": {},
     "outputs": [
      {
       "latex": [
        "$$\\frac{0.024893534183932 t e^{t}}{0.5 t - 1.5} - \\frac{0.0746806025517959 e^{t}}{0.5 t - 1.5}$$"
       ],
       "metadata": {},
       "output_type": "pyout",
       "png": "[encoded data removed]",
       "prompt_number": 194,
       "text": [
        "                     t                          t \n",
        "0.024893534183932\u22c5t\u22c5\u212f    - -0.0746806025517959\u22c5\u212f  \n",
        "\u2500\u2500\u2500\u2500\u2500\u2500\u2500\u2500\u2500\u2500\u2500\u2500\u2500\u2500\u2500\u2500\u2500\u2500\u2500\u2500\u2500\u2500 - \u2500\u2500\u2500\u2500\u2500\u2500\u2500\u2500\u2500\u2500\u2500\u2500\u2500\u2500\u2500\u2500\u2500\u2500\u2500\u2500\u2500\u2500\u2500\u2500\u2500\n",
        "     0.5\u22c5t - 1.5                0.5\u22c5t - 1.5       "
       ]
      }
     ],
     "prompt_number": 194
    },
    {
     "cell_type": "code",
     "collapsed": false,
     "input": [
      "integrand.det()"
     ],
     "language": "python",
     "metadata": {},
     "outputs": [
      {
       "latex": [
        "$$0$$"
       ],
       "metadata": {},
       "output_type": "pyout",
       "png": "[encoded data removed]",
       "prompt_number": 196,
       "text": [
        "0"
       ]
      }
     ],
     "prompt_number": 196
    },
    {
     "cell_type": "code",
     "collapsed": false,
     "input": [],
     "language": "python",
     "metadata": {},
     "outputs": []
    }
   ],
   "metadata": {}
  }
 ]
}