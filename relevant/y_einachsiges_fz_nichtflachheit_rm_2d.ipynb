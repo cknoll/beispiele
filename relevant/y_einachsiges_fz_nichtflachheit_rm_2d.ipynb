{
 "metadata": {
  "name": "",
  "signature": "sha256:9f64e49b09a0c41c9865dbe70279b711f5e160c0cf2ead64695101d5a51297b6"
 },
 "nbformat": 3,
 "nbformat_minor": 0,
 "worksheets": [
  {
   "cells": [
    {
     "cell_type": "code",
     "collapsed": false,
     "input": [
      "import time\n",
      "print time.ctime()\n",
      "%load_ext displaytools"
     ],
     "language": "python",
     "metadata": {},
     "outputs": [
      {
       "output_type": "stream",
       "stream": "stdout",
       "text": [
        "Thu Jan 28 21:08:03 2016\n"
       ]
      }
     ],
     "prompt_number": 1
    },
    {
     "cell_type": "markdown",
     "metadata": {},
     "source": [
      "\n",
      "**Betrachtetes System:** Ebenes einr\u00e4driges Fahrzeug unter dem Einfluss der Schwerkraft.\n",
      "\n",
      "<img src=\"files/images/unicycle.png\">\n",
      "\n",
      "**Systemanalyse**\n",
      "* Aufstellen der Bewegungsgleichungen\n",
      "* Aufstellen des Tangentialsystems\n",
      "* Angabe einer unimodularen Erg\u00e4nzung der Systemmatrix \n",
      "* Untersuchung der notwendigen Integrabilit\u00e4tsbedingung\n",
      "  * Bestimmung der Anzahl der Koeffizienten in den Differentialformen $\\Xi_{i, k}$\n",
      "  * Auswertung von $\\Xi_{i,k}$ bis f\u00fcr $k=0,1,2$\n",
      "\n",
      "[//]: # (custom_config_start)\n",
      "$$\n",
      "\\newcommand{\\d}{\\mathrm{d}}\n",
      "\\newcommand{\\col}{\\mathrm{col}}\n",
      "\\newcommand{\\bs}{\\boldsymbol}\n",
      "\\newcommand{\\Ddt}{\\left(\\tfrac{d}{dt}\\right)}\n",
      "\\newcommand{\\ddt}{\\tfrac{d}{dt}}\n",
      "$$\n",
      "[//]: # (custom_config_end)"
     ]
    },
    {
     "cell_type": "markdown",
     "metadata": {},
     "source": [
      "### Update:\n",
      "\n",
      "Hier war die Idee, zu untersuchen wieviel linear unabh\u00e4ngige $\\bs b$ Vektoren es beim Ruled-Manifold-Kriterium gibt.\n",
      "\n",
      "Bringt aber nicht. Es gibt genug (2)."
     ]
    },
    {
     "cell_type": "code",
     "collapsed": false,
     "input": [
      "import sympy as sp\n",
      "from sympy import sin, cos, pi, Matrix\n",
      "from sympy.interactive import printing\n",
      "import model_tools as mt\n",
      "from model_tools import Rz\n",
      "import diffgeopy as pc # perspektivisch: pycartan\n",
      "import symb_tools as st\n",
      "from symb_tools import symbs_to_func, zip0\n",
      "import pickle\n",
      "\n",
      "printing.init_printing()"
     ],
     "language": "python",
     "metadata": {},
     "outputs": [],
     "prompt_number": 2
    },
    {
     "cell_type": "code",
     "collapsed": false,
     "input": [
      "np, nq = 1, 2\n",
      "n = np + nq\n",
      "theta = st.symb_vector(\"p1, q1, q2\") ##:T\n",
      "p1, q1, q2 = theta"
     ],
     "language": "python",
     "metadata": {},
     "outputs": [
      {
       "latex": [
        "theta.T := $$\\left[\\begin{matrix}p_{1} & q_{1} & q_{2}\\end{matrix}\\right]$$"
       ],
       "metadata": {},
       "output_type": "display_data",
       "png": "[encoded data removed]",
       "text": [
        "theta.T := [p\u2081  q\u2081  q\u2082]"
       ]
      },
      {
       "output_type": "stream",
       "stream": "stdout",
       "text": [
        "---\n"
       ]
      }
     ],
     "prompt_number": 3
    },
    {
     "cell_type": "markdown",
     "metadata": {},
     "source": [
      "$p_1$: Abrollen des Rades gegen\u00fcber der Umgebung (passiv)<br>\n",
      "$q_1$: Relativwinkel: Rad-Glied 1 (akitv)<br>\n",
      "$q_2$: Relativwinkel: Glied 1-Glied 2 (akitv)<br>\n"
     ]
    },
    {
     "cell_type": "code",
     "collapsed": false,
     "input": [
      "params = sp.symbols('l0, l1, s1, s2, J0, J1, J2, m0, m1, m2, g')\n",
      "st.make_global(params, 1)\n",
      "\n",
      "QQ = sp.symbols(\"Q0, Q1, Q2\")\n",
      "Q0, Q1, Q2 = QQ"
     ],
     "language": "python",
     "metadata": {},
     "outputs": [],
     "prompt_number": 4
    },
    {
     "cell_type": "code",
     "collapsed": false,
     "input": [
      "# Winkelgeschwindigkeiten\n",
      "mu = st.perform_time_derivative(theta, theta)\n",
      "p1d, q1d, q2d = mu\n",
      "\n",
      "# Winkelbeschleunigungen\n",
      "mud = st.perform_time_derivative(mu, theta)"
     ],
     "language": "python",
     "metadata": {},
     "outputs": [],
     "prompt_number": 5
    },
    {
     "cell_type": "code",
     "collapsed": false,
     "input": [
      "# Geometrie: (Einheitsvektoren)\n",
      "ex = Matrix([1,0])\n",
      "ey = Matrix([0,1])\n",
      "\n",
      "M0 = Matrix([-l0*p1, l0]) # Mittelpunkt des Rades\n",
      "\n",
      "\n",
      "S1 = M0 + Rz(p1+q1)*ey*s1\n",
      "S2 = M0 + Rz(p1+q1)*ey*l1+Rz(p1+q1+q2)*ey*s2\n",
      "\n",
      "M0d = st.perform_time_derivative(M0, theta)\n",
      "S1d = st.perform_time_derivative(S1, theta)\n",
      "S2d = st.perform_time_derivative(S2, theta)"
     ],
     "language": "python",
     "metadata": {},
     "outputs": [],
     "prompt_number": 6
    },
    {
     "cell_type": "code",
     "collapsed": false,
     "input": [
      "# Energie\n",
      "T_rot = ( J0*p1d**2 + J1*(p1d+q1d)**2 + J2*(p1d+ q1d+q2d)**2 )/2\n",
      "T_trans = ( m0*M0d.T*M0d  +  m1*S1d.T*S1d  +  m2*S2d.T*S2d )/2\n",
      "\n",
      "T = T_rot + T_trans[0]\n",
      "\n",
      "V = m1*g*S1[1] + m2*g*S2[1] "
     ],
     "language": "python",
     "metadata": {},
     "outputs": [],
     "prompt_number": 7
    },
    {
     "cell_type": "code",
     "collapsed": false,
     "input": [
      "mod = mt.generate_symbolic_model(T, V, theta, [0, Q1, Q2])"
     ],
     "language": "python",
     "metadata": {},
     "outputs": [],
     "prompt_number": 8
    },
    {
     "cell_type": "code",
     "collapsed": false,
     "input": [
      "mod.MM.simplify()"
     ],
     "language": "python",
     "metadata": {},
     "outputs": [],
     "prompt_number": 15
    },
    {
     "cell_type": "code",
     "collapsed": false,
     "input": [
      "mod.calc_lbi_nf_state_eq()"
     ],
     "language": "python",
     "metadata": {},
     "outputs": [],
     "prompt_number": 16
    },
    {
     "cell_type": "code",
     "collapsed": false,
     "input": [
      "mod.fz.co"
     ],
     "language": "python",
     "metadata": {},
     "outputs": [
      {
       "latex": [
        "$$\\left[\\begin{matrix}1\\\\1\\\\0\\\\0\\\\153\\\\3287\\end{matrix}\\right]$$"
       ],
       "metadata": {},
       "output_type": "pyout",
       "png": "[encoded data removed]",
       "prompt_number": 17,
       "text": [
        "\u23a1 1  \u23a4\n",
        "\u23a2    \u23a5\n",
        "\u23a2 1  \u23a5\n",
        "\u23a2    \u23a5\n",
        "\u23a2 0  \u23a5\n",
        "\u23a2    \u23a5\n",
        "\u23a2 0  \u23a5\n",
        "\u23a2    \u23a5\n",
        "\u23a2153 \u23a5\n",
        "\u23a2    \u23a5\n",
        "\u23a33287\u23a6"
       ]
      }
     ],
     "prompt_number": 17
    },
    {
     "cell_type": "code",
     "collapsed": false,
     "input": [
      "vv = mu[np:, :] ##:T"
     ],
     "language": "python",
     "metadata": {},
     "outputs": [
      {
       "latex": [
        "vv.T := $$\\left[\\begin{matrix}\\dot{q}_{1} & \\dot{q}_{2}\\end{matrix}\\right]$$"
       ],
       "metadata": {},
       "output_type": "display_data",
       "png": "[encoded data removed]",
       "text": [
        "vv.T := [q\u0307\u2081  q\u0307\u2082]"
       ]
      },
      {
       "output_type": "stream",
       "stream": "stdout",
       "text": [
        "---\n"
       ]
      }
     ],
     "prompt_number": 20
    },
    {
     "cell_type": "code",
     "collapsed": false,
     "input": [
      "fz4 = mod.fz[-np,:]\n",
      "H1 = sp.hessian(fz4[0], vv)"
     ],
     "language": "python",
     "metadata": {},
     "outputs": [],
     "prompt_number": 22
    },
    {
     "cell_type": "code",
     "collapsed": false,
     "input": [
      "H1.co"
     ],
     "language": "python",
     "metadata": {},
     "outputs": [
      {
       "latex": [
        "$$\\left[\\begin{matrix}1898 & 2145\\\\2145 & 1084\\end{matrix}\\right]$$"
       ],
       "metadata": {},
       "output_type": "pyout",
       "png": "[encoded data removed]",
       "prompt_number": 23,
       "text": [
        "\u23a11898  2145\u23a4\n",
        "\u23a2          \u23a5\n",
        "\u23a32145  1084\u23a6"
       ]
      }
     ],
     "prompt_number": 23
    },
    {
     "cell_type": "code",
     "collapsed": false,
     "input": [
      "H1.srn"
     ],
     "language": "python",
     "metadata": {},
     "outputs": [
      {
       "latex": [
        "$$\\left[\\begin{matrix}0.005059569091671255829151796323603129204846057736464181201695624384476394421606721305998855217391221811 & -0.01552582785262720920365116455974568516350161571687943478857517896502925143776831055658693883623773359\\\\-0.01552582785262720920365116455974568516350161571687943478857517896502925143776831055658693883623773359 & -0.01933058849180905190590285134699769781860305878099114375266109104446592962335244148852927156410055108\\end{matrix}\\right]$$"
       ],
       "metadata": {},
       "output_type": "pyout",
       "png": "[encoded data removed]",
       "prompt_number": 24,
       "text": [
        "\u23a10.005059569091671255829151796323603129204846057736464181201695624384476394421\n",
        "\u23a2                                                                             \n",
        "\u23a3-0.01552582785262720920365116455974568516350161571687943478857517896502925143\n",
        "\n",
        "606721305998855217391221811  -0.0155258278526272092036511645597456851635016157\n",
        "                                                                              \n",
        "776831055658693883623773359  -0.0193305884918090519059028513469976978186030587\n",
        "\n",
        "1687943478857517896502925143776831055658693883623773359\u23a4\n",
        "                                                       \u23a5\n",
        "8099114375266109104446592962335244148852927156410055108\u23a6"
       ]
      }
     ],
     "prompt_number": 24
    },
    {
     "cell_type": "code",
     "collapsed": false,
     "input": [
      "h1 = _.applyfunc(float)"
     ],
     "language": "python",
     "metadata": {},
     "outputs": [],
     "prompt_number": 25
    },
    {
     "cell_type": "code",
     "collapsed": false,
     "input": [
      "h1"
     ],
     "language": "python",
     "metadata": {},
     "outputs": [
      {
       "latex": [
        "$$\\left[\\begin{matrix}0.00505956909167126 & -0.0155258278526272\\\\-0.0155258278526272 & -0.0193305884918091\\end{matrix}\\right]$$"
       ],
       "metadata": {},
       "output_type": "pyout",
       "png": "[encoded data removed]",
       "prompt_number": 26,
       "text": [
        "\u23a10.00505956909167126  -0.0155258278526272\u23a4\n",
        "\u23a2                                        \u23a5\n",
        "\u23a3-0.0155258278526272  -0.0193305884918091\u23a6"
       ]
      }
     ],
     "prompt_number": 26
    },
    {
     "cell_type": "code",
     "collapsed": false,
     "input": [
      "st.sorted_eigenvalues(h1)"
     ],
     "language": "python",
     "metadata": {},
     "outputs": [
      {
       "latex": [
        "$$\\left [ 0.0126071161953424, \\quad -0.0268781355954802\\right ]$$"
       ],
       "metadata": {},
       "output_type": "pyout",
       "png": "[encoded data removed]",
       "prompt_number": 28,
       "text": [
        "[0.0126071161953424, -0.0268781355954802]"
       ]
      }
     ],
     "prompt_number": 28
    },
    {
     "cell_type": "code",
     "collapsed": false,
     "input": [
      "l1, l2 = _"
     ],
     "language": "python",
     "metadata": {},
     "outputs": [],
     "prompt_number": 29
    },
    {
     "cell_type": "code",
     "collapsed": false,
     "input": [
      "b1, b2 = bb = st.symb_vector('b1:3')"
     ],
     "language": "python",
     "metadata": {},
     "outputs": [],
     "prompt_number": 31
    },
    {
     "cell_type": "code",
     "collapsed": false,
     "input": [
      "eq = sp.expand(bb.T*h1*bb)"
     ],
     "language": "python",
     "metadata": {},
     "outputs": [],
     "prompt_number": 33
    },
    {
     "cell_type": "code",
     "collapsed": false,
     "input": [
      "(sol1,), (sol2,) = sp.solve(eq.subs(b2, 1), b1)"
     ],
     "language": "python",
     "metadata": {},
     "outputs": [],
     "prompt_number": 39
    },
    {
     "cell_type": "code",
     "collapsed": false,
     "input": [
      "B1 = bb.subs([(b1, sol1), (b2, 1)])\n",
      "B2 = bb.subs([(b1, sol2), (b2, 1)])"
     ],
     "language": "python",
     "metadata": {},
     "outputs": [],
     "prompt_number": 42
    },
    {
     "cell_type": "code",
     "collapsed": false,
     "input": [
      "B2.T*h1*B2"
     ],
     "language": "python",
     "metadata": {},
     "outputs": [
      {
       "latex": [
        "$$\\left[\\begin{matrix}-2.91433543964104 \\cdot 10^{-16}\\end{matrix}\\right]$$"
       ],
       "metadata": {},
       "output_type": "pyout",
       "png": "[encoded data removed]",
       "prompt_number": 44,
       "text": [
        "[-2.91433543964104e-16]"
       ]
      }
     ],
     "prompt_number": 44
    },
    {
     "cell_type": "code",
     "collapsed": false,
     "input": [
      "st.col_stack(B1, B2).det()"
     ],
     "language": "python",
     "metadata": {},
     "outputs": [
      {
       "latex": [
        "$$-7.27652310812623$$"
       ],
       "metadata": {},
       "output_type": "pyout",
       "png": "[encoded data removed]",
       "prompt_number": 45,
       "text": [
        "-7.27652310812623"
       ]
      }
     ],
     "prompt_number": 45
    },
    {
     "cell_type": "markdown",
     "metadata": {},
     "source": [
      "Das hei\u00dft es gibt zwei linear unabh\u00e4nginge L\u00f6sungen f\u00fcr b"
     ]
    }
   ],
   "metadata": {}
  }
 ]
}