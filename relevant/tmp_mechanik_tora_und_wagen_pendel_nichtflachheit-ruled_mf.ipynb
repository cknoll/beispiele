{
 "metadata": {
  "name": "",
  "signature": "sha256:105c1f7e1aa9c254aa11ea0edcecf0324be214cffc8e3de4d3302406ec2c9715"
 },
 "nbformat": 3,
 "nbformat_minor": 0,
 "worksheets": [
  {
   "cells": [
    {
     "cell_type": "code",
     "collapsed": false,
     "input": [
      "import time\n",
      "print time.ctime()\n",
      "%load_ext displaytools"
     ],
     "language": "python",
     "metadata": {},
     "outputs": [
      {
       "output_type": "stream",
       "stream": "stdout",
       "text": [
        "Wed Jan 20 09:29:10 2016\n"
       ]
      }
     ],
     "prompt_number": 1
    },
    {
     "cell_type": "markdown",
     "metadata": {},
     "source": [
      "**Betrachtetes System**: Pendel mit horizontal verschieblicher Aufh\u00e4ngung (\"Wagen-Pendel-System\") + TORA System\n",
      "\n",
      "\ufffc <img src=\"files/images/pendel_wagen.png\">\n",
      "<span style=\"color:red;\">(Bild nicht aktuell)</span>\n",
      "\n",
      "**Betrachtete Fragen**:\n",
      "* Herleitung der Modellgleichungen\n",
      "    * partiell linearisiert\n",
      "    * LBI-NF \n",
      "* Anwendung der Ruled-Manifold-Bedingung zum Nachweis der Nichtflachheit\n",
      "* Untersuchung des Tangentialsystems zum Nachweis der Nichtflachheit\n",
      "\n",
      "\n",
      "\n",
      "\n",
      "[//]: # (custom_config_start)\n",
      "$$\n",
      "\\newcommand{\\col}{\\mathrm{col}}\n",
      "\\newcommand{\\bs}{\\boldsymbol}\n",
      "$$\n",
      "[//]: # (custom_config_end)"
     ]
    },
    {
     "cell_type": "code",
     "collapsed": false,
     "input": [
      "import sympy as sp\n",
      "from sympy import sin, cos, pi\n",
      "from sympy.interactive import printing\n",
      "import model_tools as mt\n",
      "from model_tools import Rz\n",
      "import symb_tools as st\n",
      "\n",
      "import pycartan as pc\n",
      "zip0 = st.zip0\n",
      "printing.init_printing(1)"
     ],
     "language": "python",
     "metadata": {},
     "outputs": [],
     "prompt_number": 2
    },
    {
     "cell_type": "code",
     "collapsed": false,
     "input": [
      "t = sp.Symbol('t')\n",
      "np = 2\n",
      "nq = 2\n",
      "n = np + nq\n",
      "pp = st.symb_vector(\"p1:{0}\".format(np+1))\n",
      "qq = st.symb_vector(\"q1:{0}\".format(nq+1))\n",
      "aa = st.symb_vector(\"a1:{0}\".format(nq+1))\n",
      "ww = st.symb_vector(\"w1:{0}\".format(nq+1))\n",
      "\n",
      "theta = st.row_stack(pp, qq) ##\n",
      "mu = st.perform_time_derivative(theta, theta) ##\n",
      "mud = st.perform_time_derivative(theta, theta, order=2) ##\n",
      "st.make_global(theta, 1)\n",
      "st.make_global(mu, 1)"
     ],
     "language": "python",
     "metadata": {},
     "outputs": [
      {
       "latex": [
        "$$\\left[\\begin{matrix}p_{1}\\\\p_{2}\\\\q_{1}\\\\q_{2}\\end{matrix}\\right]$$"
       ],
       "metadata": {},
       "output_type": "display_data",
       "png": "[encoded data removed]",
       "text": [
        "\u23a1p\u2081\u23a4\n",
        "\u23a2  \u23a5\n",
        "\u23a2p\u2082\u23a5\n",
        "\u23a2  \u23a5\n",
        "\u23a2q\u2081\u23a5\n",
        "\u23a2  \u23a5\n",
        "\u23a3q\u2082\u23a6"
       ]
      },
      {
       "output_type": "stream",
       "stream": "stdout",
       "text": [
        "---\n"
       ]
      },
      {
       "latex": [
        "$$\\left[\\begin{matrix}\\dot{p}_{1}\\\\\\dot{p}_{2}\\\\\\dot{q}_{1}\\\\\\dot{q}_{2}\\end{matrix}\\right]$$"
       ],
       "metadata": {},
       "output_type": "display_data",
       "png": "[encoded data removed]",
       "text": [
        "\u23a1p\u0307\u2081\u23a4\n",
        "\u23a2   \u23a5\n",
        "\u23a2p\u0307\u2082\u23a5\n",
        "\u23a2   \u23a5\n",
        "\u23a2q\u0307\u2081\u23a5\n",
        "\u23a2   \u23a5\n",
        "\u23a3q\u0307\u2082\u23a6"
       ]
      },
      {
       "output_type": "stream",
       "stream": "stdout",
       "text": [
        "---\n"
       ]
      },
      {
       "latex": [
        "$$\\left[\\begin{matrix}\\ddot{p}_{1}\\\\\\ddot{p}_{2}\\\\\\ddot{q}_{1}\\\\\\ddot{q}_{2}\\end{matrix}\\right]$$"
       ],
       "metadata": {},
       "output_type": "display_data",
       "png": "[encoded data removed]",
       "text": [
        "\u23a1p\u0308\u2081\u23a4\n",
        "\u23a2   \u23a5\n",
        "\u23a2p\u0308\u2082\u23a5\n",
        "\u23a2   \u23a5\n",
        "\u23a2q\u0308\u2081\u23a5\n",
        "\u23a2   \u23a5\n",
        "\u23a3q\u0308\u2082\u23a6"
       ]
      },
      {
       "output_type": "stream",
       "stream": "stdout",
       "text": [
        "---\n"
       ]
      }
     ],
     "prompt_number": 3
    },
    {
     "cell_type": "code",
     "collapsed": false,
     "input": [
      "params = sp.symbols('m1, m2, m3, m4, s2, s4, c, g')\n",
      "st.make_global(params, 1)\n",
      "\n",
      "tau1, tau2 = ttau = st.symb_vector('tau1, tau2')"
     ],
     "language": "python",
     "metadata": {},
     "outputs": [],
     "prompt_number": 17
    },
    {
     "cell_type": "markdown",
     "metadata": {},
     "source": [
      "### Festlegung der Geometrie des mechanischen Systemes"
     ]
    },
    {
     "cell_type": "code",
     "collapsed": false,
     "input": [
      "#Einheitsvektoren\n",
      "\n",
      "ex = sp.Matrix([1,0])\n",
      "ey = sp.Matrix([0,1])\n",
      "\n",
      "# Koordinaten der Schwerpunkte und Gelenke\n",
      "\n",
      "S1 = ex*q1 # Schwerpunkt Wagen\n",
      "G2 = S1 # Pendel-Gelenk\n",
      "# Schwerpunkt des Pendels (Pendel zeigt f\u00fcr kleine Winkel nach unten)\n",
      "S2 = G2 + Rz(p1)*(-ey)*s2\n",
      "\n",
      "\n",
      "S3 = S1 + ex*p2\n",
      "G4 = S3\n",
      "# Schwerpunkt des 2. Pendels\n",
      "S4 = G4 + Rz(q2)*(-ey)*s4\n",
      "\n",
      "\n",
      "# Zeitableitungen der Schwerpunktskoordinaten\n",
      "Sd1, Sd2, Sd3, Sd4  = st.col_split(st.perform_time_derivative(st.col_stack(S1, S2, S3, S4), theta)) ##"
     ],
     "language": "python",
     "metadata": {},
     "outputs": [
      {
       "latex": [
        "$$\\left[\\begin{matrix}\\dot{q}_{1}\\\\0\\end{matrix}\\right]$$"
       ],
       "metadata": {},
       "output_type": "display_data",
       "png": "[encoded data removed]",
       "text": [
        "\u23a1q\u0307\u2081\u23a4\n",
        "\u23a2   \u23a5\n",
        "\u23a3 0 \u23a6"
       ]
      },
      {
       "latex": [
        "$$\\left[\\begin{matrix}\\dot{p}_{1} s_{2} \\cos{\\left (p_{1} \\right )} + \\dot{q}_{1}\\\\\\dot{p}_{1} s_{2} \\sin{\\left (p_{1} \\right )}\\end{matrix}\\right]$$"
       ],
       "metadata": {},
       "output_type": "display_data",
       "png": "[encoded data removed]",
       "text": [
        "\u23a1p\u0307\u2081\u22c5s\u2082\u22c5cos(p\u2081) + q\u0307\u2081\u23a4\n",
        "\u23a2                    \u23a5\n",
        "\u23a3   p\u0307\u2081\u22c5s\u2082\u22c5sin(p\u2081)   \u23a6"
       ]
      },
      {
       "latex": [
        "$$\\left[\\begin{matrix}\\dot{p}_{2} + \\dot{q}_{1}\\\\0\\end{matrix}\\right]$$"
       ],
       "metadata": {},
       "output_type": "display_data",
       "png": "[encoded data removed]",
       "text": [
        "\u23a1p\u0307\u2082 + q\u0307\u2081\u23a4\n",
        "\u23a2         \u23a5\n",
        "\u23a3    0    \u23a6"
       ]
      },
      {
       "latex": [
        "$$\\left[\\begin{matrix}\\dot{p}_{2} + \\dot{q}_{1} + \\dot{q}_{2} s_{4} \\cos{\\left (q_{2} \\right )}\\\\\\dot{q}_{2} s_{4} \\sin{\\left (q_{2} \\right )}\\end{matrix}\\right]$$"
       ],
       "metadata": {},
       "output_type": "display_data",
       "png": "[encoded data removed]",
       "text": [
        "\u23a1p\u0307\u2082 + q\u0307\u2081 + q\u0307\u2082\u22c5s\u2084\u22c5cos(q\u2082)\u23a4\n",
        "\u23a2                          \u23a5\n",
        "\u23a3      q\u0307\u2082\u22c5s\u2084\u22c5sin(q\u2082)      \u23a6"
       ]
      },
      {
       "output_type": "stream",
       "stream": "stdout",
       "text": [
        "---\n"
       ]
      }
     ],
     "prompt_number": 6
    },
    {
     "cell_type": "code",
     "collapsed": false,
     "input": [
      "# Energie\n",
      "T_rot = 0 # (Punktmassenmodell)\n",
      "T_trans = ( m1*Sd1.T*Sd1  +  m2*Sd2.T*Sd2 + m3*Sd3.T*Sd3 + m4*Sd4.T*Sd4 )/2\n",
      "\n",
      "T = T_rot + T_trans[0]\n",
      "\n",
      "V = m2*g*S2[1] + m4*g*S4[1] + c/2*p2**2##"
     ],
     "language": "python",
     "metadata": {},
     "outputs": [
      {
       "latex": [
        "$$\\frac{c p_{2}^{2}}{2} - g m_{2} s_{2} \\cos{\\left (p_{1} \\right )} - g m_{4} s_{4} \\cos{\\left (q_{2} \\right )}$$"
       ],
       "metadata": {},
       "output_type": "display_data",
       "png": "[encoded data removed]",
       "text": [
        "    2                                    \n",
        "c\u22c5p\u2082                                     \n",
        "\u2500\u2500\u2500\u2500\u2500 - g\u22c5m\u2082\u22c5s\u2082\u22c5cos(p\u2081) - g\u22c5m\u2084\u22c5s\u2084\u22c5cos(q\u2082)\n",
        "  2                                      "
       ]
      },
      {
       "output_type": "stream",
       "stream": "stdout",
       "text": [
        "---\n"
       ]
      }
     ],
     "prompt_number": 18
    },
    {
     "cell_type": "code",
     "collapsed": false,
     "input": [
      "mod = mt.generate_symbolic_model(T, V, theta, [0, 0, tau1, tau2])"
     ],
     "language": "python",
     "metadata": {},
     "outputs": [],
     "prompt_number": 19
    },
    {
     "cell_type": "code",
     "collapsed": false,
     "input": [
      "mod.MM.simplify()\n",
      "mod.MM"
     ],
     "language": "python",
     "metadata": {},
     "outputs": [
      {
       "latex": [
        "$$\\left[\\begin{matrix}m_{2} s_{2}^{2} & 0 & m_{2} s_{2} \\cos{\\left (p_{1} \\right )} & 0\\\\0 & m_{3} + m_{4} & m_{3} + m_{4} & m_{4} s_{4} \\cos{\\left (q_{2} \\right )}\\\\m_{2} s_{2} \\cos{\\left (p_{1} \\right )} & m_{3} + m_{4} & m_{1} + m_{2} + m_{3} + m_{4} & m_{4} s_{4} \\cos{\\left (q_{2} \\right )}\\\\0 & m_{4} s_{4} \\cos{\\left (q_{2} \\right )} & m_{4} s_{4} \\cos{\\left (q_{2} \\right )} & m_{4} s_{4}^{2}\\end{matrix}\\right]$$"
       ],
       "metadata": {},
       "output_type": "pyout",
       "png": "[encoded data removed]",
       "prompt_number": 20,
       "text": [
        "\u23a1        2                                                     \u23a4\n",
        "\u23a2   m\u2082\u22c5s\u2082             0          m\u2082\u22c5s\u2082\u22c5cos(p\u2081)          0      \u23a5\n",
        "\u23a2                                                              \u23a5\n",
        "\u23a2      0           m\u2083 + m\u2084          m\u2083 + m\u2084       m\u2084\u22c5s\u2084\u22c5cos(q\u2082)\u23a5\n",
        "\u23a2                                                              \u23a5\n",
        "\u23a2m\u2082\u22c5s\u2082\u22c5cos(p\u2081)     m\u2083 + m\u2084     m\u2081 + m\u2082 + m\u2083 + m\u2084  m\u2084\u22c5s\u2084\u22c5cos(q\u2082)\u23a5\n",
        "\u23a2                                                              \u23a5\n",
        "\u23a2                                                         2    \u23a5\n",
        "\u23a3      0        m\u2084\u22c5s\u2084\u22c5cos(q\u2082)    m\u2084\u22c5s\u2084\u22c5cos(q\u2082)       m\u2084\u22c5s\u2084     \u23a6"
       ]
      }
     ],
     "prompt_number": 20
    },
    {
     "cell_type": "markdown",
     "metadata": {},
     "source": [
      "### Bestimmung der partiell lineariserten Systemgleichungen"
     ]
    },
    {
     "cell_type": "code",
     "collapsed": false,
     "input": [
      "mod.calc_coll_part_lin_state_eq(simplify=True)"
     ],
     "language": "python",
     "metadata": {},
     "outputs": [],
     "prompt_number": 21
    },
    {
     "cell_type": "code",
     "collapsed": false,
     "input": [
      "f = mod.ff ##:\n",
      "G = mod.gg ##:\n",
      "xx = mod.x ##:\n",
      "g1 = st.col_split(G)"
     ],
     "language": "python",
     "metadata": {},
     "outputs": [
      {
       "latex": [
        "f := $$\\left[\\begin{matrix}\\dot{p}_{1}\\\\\\dot{p}_{2}\\\\\\dot{q}_{1}\\\\\\dot{q}_{2}\\\\- \\frac{g}{s_{2}} \\sin{\\left (p_{1} \\right )}\\\\\\frac{1}{m_{3} + m_{4}} \\left(- c p_{2} + m_{4} \\dot{q}_{2}^{2} s_{4} \\sin{\\left (q_{2} \\right )}\\right)\\\\0\\\\0\\end{matrix}\\right]$$"
       ],
       "metadata": {},
       "output_type": "display_data",
       "png": "[encoded data removed]",
       "text": [
        "f := \u23a1           p\u0307\u2081            \u23a4\n",
        "\u23a2                          \u23a5\n",
        "\u23a2           p\u0307\u2082            \u23a5\n",
        "\u23a2                          \u23a5\n",
        "\u23a2           q\u0307\u2081            \u23a5\n",
        "\u23a2                          \u23a5\n",
        "\u23a2           q\u0307\u2082            \u23a5\n",
        "\u23a2                          \u23a5\n",
        "\u23a2       -g\u22c5sin(p\u2081)         \u23a5\n",
        "\u23a2       \u2500\u2500\u2500\u2500\u2500\u2500\u2500\u2500\u2500\u2500\u2500        \u23a5\n",
        "\u23a2            s\u2082            \u23a5\n",
        "\u23a2                          \u23a5\n",
        "\u23a2              2           \u23a5\n",
        "\u23a2-c\u22c5p\u2082 + m\u2084\u22c5q\u0307\u2082 \u22c5s\u2084\u22c5sin(q\u2082)\u23a5\n",
        "\u23a2\u2500\u2500\u2500\u2500\u2500\u2500\u2500\u2500\u2500\u2500\u2500\u2500\u2500\u2500\u2500\u2500\u2500\u2500\u2500\u2500\u2500\u2500\u2500\u2500\u2500\u2500\u23a5\n",
        "\u23a2         m\u2083 + m\u2084          \u23a5\n",
        "\u23a2                          \u23a5\n",
        "\u23a2            0             \u23a5\n",
        "\u23a2                          \u23a5\n",
        "\u23a3            0             \u23a6"
       ]
      },
      {
       "output_type": "stream",
       "stream": "stdout",
       "text": [
        "---\n"
       ]
      },
      {
       "latex": [
        "G := $$\\left[\\begin{matrix}0 & 0\\\\0 & 0\\\\0 & 0\\\\0 & 0\\\\- \\frac{1}{s_{2}} \\cos{\\left (p_{1} \\right )} & 0\\\\-1 & - \\frac{m_{4} s_{4} \\cos{\\left (q_{2} \\right )}}{m_{3} + m_{4}}\\\\1 & 0\\\\0 & 1\\end{matrix}\\right]$$"
       ],
       "metadata": {},
       "output_type": "display_data",
       "png": "[encoded data removed]",
       "text": [
        "G := \u23a1    0             0       \u23a4\n",
        "\u23a2                          \u23a5\n",
        "\u23a2    0             0       \u23a5\n",
        "\u23a2                          \u23a5\n",
        "\u23a2    0             0       \u23a5\n",
        "\u23a2                          \u23a5\n",
        "\u23a2    0             0       \u23a5\n",
        "\u23a2                          \u23a5\n",
        "\u23a2-cos(p\u2081)                  \u23a5\n",
        "\u23a2\u2500\u2500\u2500\u2500\u2500\u2500\u2500\u2500\u2500         0       \u23a5\n",
        "\u23a2    s\u2082                    \u23a5\n",
        "\u23a2                          \u23a5\n",
        "\u23a2           -m\u2084\u22c5s\u2084\u22c5cos(q\u2082) \u23a5\n",
        "\u23a2   -1      \u2500\u2500\u2500\u2500\u2500\u2500\u2500\u2500\u2500\u2500\u2500\u2500\u2500\u2500\u2500\u23a5\n",
        "\u23a2               m\u2083 + m\u2084    \u23a5\n",
        "\u23a2                          \u23a5\n",
        "\u23a2    1             0       \u23a5\n",
        "\u23a2                          \u23a5\n",
        "\u23a3    0             1       \u23a6"
       ]
      },
      {
       "output_type": "stream",
       "stream": "stdout",
       "text": [
        "---\n"
       ]
      },
      {
       "latex": [
        "xx := $$\\left[\\begin{matrix}p_{1}\\\\p_{2}\\\\q_{1}\\\\q_{2}\\\\\\dot{p}_{1}\\\\\\dot{p}_{2}\\\\\\dot{q}_{1}\\\\\\dot{q}_{2}\\end{matrix}\\right]$$"
       ],
       "metadata": {},
       "output_type": "display_data",
       "png": "[encoded data removed]",
       "text": [
        "xx := \u23a1p\u2081 \u23a4\n",
        "\u23a2   \u23a5\n",
        "\u23a2p\u2082 \u23a5\n",
        "\u23a2   \u23a5\n",
        "\u23a2q\u2081 \u23a5\n",
        "\u23a2   \u23a5\n",
        "\u23a2q\u2082 \u23a5\n",
        "\u23a2   \u23a5\n",
        "\u23a2p\u0307\u2081\u23a5\n",
        "\u23a2   \u23a5\n",
        "\u23a2p\u0307\u2082\u23a5\n",
        "\u23a2   \u23a5\n",
        "\u23a2q\u0307\u2081\u23a5\n",
        "\u23a2   \u23a5\n",
        "\u23a3q\u0307\u2082\u23a6"
       ]
      },
      {
       "output_type": "stream",
       "stream": "stdout",
       "text": [
        "---\n"
       ]
      }
     ],
     "prompt_number": 22
    },
    {
     "cell_type": "markdown",
     "metadata": {},
     "source": [
      "### Auswertung der Ruled-Manifold-Bedingung auf Basis der LBI-NF"
     ]
    },
    {
     "cell_type": "code",
     "collapsed": false,
     "input": [
      "mod.calc_lbi_nf_state_eq()"
     ],
     "language": "python",
     "metadata": {},
     "outputs": [],
     "prompt_number": 23
    },
    {
     "cell_type": "code",
     "collapsed": false,
     "input": [
      "mod.fz = mod.fz.expand() ##\n",
      "mod.gz ##"
     ],
     "language": "python",
     "metadata": {},
     "outputs": [
      {
       "latex": [
        "$$\\left[\\begin{matrix}\\dot{q}_{1}\\\\\\dot{q}_{2}\\\\0\\\\0\\\\\\frac{m_{3} \\dot{q}_{1} \\cos{\\left (p_{1} \\right )}}{- m_{3} s_{2} - m_{4} s_{2}} + \\frac{m_{4} \\dot{q}_{1} \\cos{\\left (p_{1} \\right )}}{- m_{3} s_{2} - m_{4} s_{2}} + w_{1}\\\\\\frac{m_{3} \\dot{q}_{1}}{- m_{3} - m_{4}} + \\frac{m_{4} \\dot{q}_{1}}{- m_{3} - m_{4}} + \\frac{m_{4} \\dot{q}_{2} s_{4} \\cos{\\left (q_{2} \\right )}}{- m_{3} - m_{4}} + w_{2}\\\\\\frac{g m_{3} \\sin{\\left (p_{1} \\right )}}{- m_{3} s_{2} - m_{4} s_{2}} + \\frac{g m_{4} \\sin{\\left (p_{1} \\right )}}{- m_{3} s_{2} - m_{4} s_{2}} + \\frac{m_{3}^{2} \\dot{q}_{1}^{2} \\sin{\\left (p_{1} \\right )} \\cos{\\left (p_{1} \\right )}}{m_{3}^{2} s_{2}^{2} + 2 m_{3} m_{4} s_{2}^{2} + m_{4}^{2} s_{2}^{2}} + \\frac{2 m_{3} m_{4} \\dot{q}_{1}^{2} \\sin{\\left (p_{1} \\right )} \\cos{\\left (p_{1} \\right )}}{m_{3}^{2} s_{2}^{2} + 2 m_{3} m_{4} s_{2}^{2} + m_{4}^{2} s_{2}^{2}} + \\frac{m_{3} \\dot{q}_{1} w_{1} \\sin{\\left (p_{1} \\right )}}{- m_{3} s_{2} - m_{4} s_{2}} + \\frac{m_{4}^{2} \\dot{q}_{1}^{2} \\sin{\\left (p_{1} \\right )} \\cos{\\left (p_{1} \\right )}}{m_{3}^{2} s_{2}^{2} + 2 m_{3} m_{4} s_{2}^{2} + m_{4}^{2} s_{2}^{2}} + \\frac{m_{4} \\dot{q}_{1} w_{1} \\sin{\\left (p_{1} \\right )}}{- m_{3} s_{2} - m_{4} s_{2}}\\\\\\frac{c p_{2}}{- m_{3} - m_{4}}\\end{matrix}\\right]$$"
       ],
       "metadata": {},
       "output_type": "display_data",
       "png": "[encoded data removed]",
       "text": [
        "\u23a1                                                                             \n",
        "\u23a2                                                                             \n",
        "\u23a2                                                                             \n",
        "\u23a2                                                                             \n",
        "\u23a2                                                                             \n",
        "\u23a2                                                                             \n",
        "\u23a2                                                                             \n",
        "\u23a2                                                                             \n",
        "\u23a2                                                                    m\u2083\u22c5q\u0307\u2081\u22c5co\n",
        "\u23a2                                                                    \u2500\u2500\u2500\u2500\u2500\u2500\u2500\u2500\u2500\n",
        "\u23a2                                                                    -m\u2083\u22c5s\u2082 - \n",
        "\u23a2                                                                             \n",
        "\u23a2                                                                 m\u2083\u22c5q\u0307\u2081     m\n",
        "\u23a2                                                                \u2500\u2500\u2500\u2500\u2500\u2500\u2500\u2500 + \u2500\u2500\n",
        "\u23a2                                                                -m\u2083 - m\u2084   -m\n",
        "\u23a2                                                                             \n",
        "\u23a2                                        2    2                               \n",
        "\u23a2 g\u22c5m\u2083\u22c5sin(p\u2081)     g\u22c5m\u2084\u22c5sin(p\u2081)        m\u2083 \u22c5q\u0307\u2081 \u22c5sin(p\u2081)\u22c5cos(p\u2081)        2\u22c5m\u2083\u22c5m\u2084\n",
        "\u23a2\u2500\u2500\u2500\u2500\u2500\u2500\u2500\u2500\u2500\u2500\u2500\u2500\u2500\u2500 + \u2500\u2500\u2500\u2500\u2500\u2500\u2500\u2500\u2500\u2500\u2500\u2500\u2500\u2500 + \u2500\u2500\u2500\u2500\u2500\u2500\u2500\u2500\u2500\u2500\u2500\u2500\u2500\u2500\u2500\u2500\u2500\u2500\u2500\u2500\u2500\u2500\u2500\u2500\u2500\u2500\u2500\u2500\u2500\u2500\u2500 + \u2500\u2500\u2500\u2500\u2500\u2500\u2500\u2500\u2500\n",
        "\u23a2-m\u2083\u22c5s\u2082 - m\u2084\u22c5s\u2082   -m\u2083\u22c5s\u2082 - m\u2084\u22c5s\u2082     2   2             2     2   2     2   2  \n",
        "\u23a2                                  m\u2083 \u22c5s\u2082  + 2\u22c5m\u2083\u22c5m\u2084\u22c5s\u2082  + m\u2084 \u22c5s\u2082    m\u2083 \u22c5s\u2082  +\n",
        "\u23a2                                                                             \n",
        "\u23a2                                                                             \n",
        "\u23a2                                                                             \n",
        "\u23a3                                                                             \n",
        "\n",
        "        q\u0307\u2081                                                                   \n",
        "                                                                              \n",
        "        q\u0307\u2082                                                                   \n",
        "                                                                              \n",
        "         0                                                                    \n",
        "                                                                              \n",
        "         0                                                                    \n",
        "                                                                              \n",
        "s(p\u2081)   m\u2084\u22c5q\u0307\u2081\u22c5cos(p\u2081)                                                        \n",
        "\u2500\u2500\u2500\u2500\u2500 + \u2500\u2500\u2500\u2500\u2500\u2500\u2500\u2500\u2500\u2500\u2500\u2500\u2500\u2500 + w\u2081                                                   \n",
        "m\u2084\u22c5s\u2082   -m\u2083\u22c5s\u2082 - m\u2084\u22c5s\u2082                                                        \n",
        "                                                                              \n",
        "\u2084\u22c5q\u0307\u2081    m\u2084\u22c5q\u0307\u2082\u22c5s\u2084\u22c5cos(q\u2082)                                                    \n",
        "\u2500\u2500\u2500\u2500\u2500\u2500 + \u2500\u2500\u2500\u2500\u2500\u2500\u2500\u2500\u2500\u2500\u2500\u2500\u2500\u2500\u2500\u2500\u2500 + w\u2082                                               \n",
        "\u2083 - m\u2084        -m\u2083 - m\u2084                                                        \n",
        "                                                                              \n",
        "    2                                              2    2                     \n",
        "\u22c5q\u0307\u2081 \u22c5sin(p\u2081)\u22c5cos(p\u2081)    m\u2083\u22c5q\u0307\u2081\u22c5w\u2081\u22c5sin(p\u2081)       m\u2084 \u22c5q\u0307\u2081 \u22c5sin(p\u2081)\u22c5cos(p\u2081)     \n",
        "\u2500\u2500\u2500\u2500\u2500\u2500\u2500\u2500\u2500\u2500\u2500\u2500\u2500\u2500\u2500\u2500\u2500\u2500\u2500\u2500\u2500\u2500 + \u2500\u2500\u2500\u2500\u2500\u2500\u2500\u2500\u2500\u2500\u2500\u2500\u2500\u2500\u2500\u2500\u2500 + \u2500\u2500\u2500\u2500\u2500\u2500\u2500\u2500\u2500\u2500\u2500\u2500\u2500\u2500\u2500\u2500\u2500\u2500\u2500\u2500\u2500\u2500\u2500\u2500\u2500\u2500\u2500\u2500\u2500\u2500\u2500 +\n",
        "           2     2   2     -m\u2083\u22c5s\u2082 - m\u2084\u22c5s\u2082      2   2             2     2   2  \n",
        " 2\u22c5m\u2083\u22c5m\u2084\u22c5s\u2082  + m\u2084 \u22c5s\u2082                        m\u2083 \u22c5s\u2082  + 2\u22c5m\u2083\u22c5m\u2084\u22c5s\u2082  + m\u2084 \u22c5s\u2082   \n",
        "                                                                              \n",
        "       c\u22c5p\u2082                                                                   \n",
        "     \u2500\u2500\u2500\u2500\u2500\u2500\u2500\u2500                                                                 \n",
        "     -m\u2083 - m\u2084                                                                 \n",
        "\n",
        "                  \u23a4\n",
        "                  \u23a5\n",
        "                  \u23a5\n",
        "                  \u23a5\n",
        "                  \u23a5\n",
        "                  \u23a5\n",
        "                  \u23a5\n",
        "                  \u23a5\n",
        "                  \u23a5\n",
        "                  \u23a5\n",
        "                  \u23a5\n",
        "                  \u23a5\n",
        "                  \u23a5\n",
        "                  \u23a5\n",
        "                  \u23a5\n",
        "                  \u23a5\n",
        "                  \u23a5\n",
        " m\u2084\u22c5q\u0307\u2081\u22c5w\u2081\u22c5sin(p\u2081)\u23a5\n",
        " \u2500\u2500\u2500\u2500\u2500\u2500\u2500\u2500\u2500\u2500\u2500\u2500\u2500\u2500\u2500\u2500\u2500\u23a5\n",
        "   -m\u2083\u22c5s\u2082 - m\u2084\u22c5s\u2082 \u23a5\n",
        "                  \u23a5\n",
        "                  \u23a5\n",
        "                  \u23a5\n",
        "                  \u23a5\n",
        "                  \u23a6"
       ]
      },
      {
       "output_type": "stream",
       "stream": "stdout",
       "text": [
        "---\n"
       ]
      },
      {
       "latex": [
        "$$\\left[\\begin{matrix}0 & 0\\\\0 & 0\\\\1 & 0\\\\0 & 1\\\\0 & 0\\\\0 & 0\\\\0 & 0\\\\0 & 0\\end{matrix}\\right]$$"
       ],
       "metadata": {},
       "output_type": "display_data",
       "png": "[encoded data removed]",
       "text": [
        "\u23a10  0\u23a4\n",
        "\u23a2    \u23a5\n",
        "\u23a20  0\u23a5\n",
        "\u23a2    \u23a5\n",
        "\u23a21  0\u23a5\n",
        "\u23a2    \u23a5\n",
        "\u23a20  1\u23a5\n",
        "\u23a2    \u23a5\n",
        "\u23a20  0\u23a5\n",
        "\u23a2    \u23a5\n",
        "\u23a20  0\u23a5\n",
        "\u23a2    \u23a5\n",
        "\u23a20  0\u23a5\n",
        "\u23a2    \u23a5\n",
        "\u23a30  0\u23a6"
       ]
      },
      {
       "output_type": "stream",
       "stream": "stdout",
       "text": [
        "___\n"
       ]
      }
     ],
     "prompt_number": 24
    },
    {
     "cell_type": "code",
     "collapsed": false,
     "input": [
      "mod.zz"
     ],
     "language": "python",
     "metadata": {},
     "outputs": [
      {
       "latex": [
        "$$\\left[\\begin{matrix}q_{1}\\\\q_{2}\\\\\\dot{q}_{1}\\\\\\dot{q}_{2}\\\\p_{1}\\\\p_{2}\\\\w_{1}\\\\w_{2}\\end{matrix}\\right]$$"
       ],
       "metadata": {},
       "output_type": "pyout",
       "png": "[encoded data removed]",
       "prompt_number": 25,
       "text": [
        "\u23a1q\u2081 \u23a4\n",
        "\u23a2   \u23a5\n",
        "\u23a2q\u2082 \u23a5\n",
        "\u23a2   \u23a5\n",
        "\u23a2q\u0307\u2081\u23a5\n",
        "\u23a2   \u23a5\n",
        "\u23a2q\u0307\u2082\u23a5\n",
        "\u23a2   \u23a5\n",
        "\u23a2p\u2081 \u23a5\n",
        "\u23a2   \u23a5\n",
        "\u23a2p\u2082 \u23a5\n",
        "\u23a2   \u23a5\n",
        "\u23a2w\u2081 \u23a5\n",
        "\u23a2   \u23a5\n",
        "\u23a3w\u2082 \u23a6"
       ]
      }
     ],
     "prompt_number": 25
    },
    {
     "cell_type": "code",
     "collapsed": false,
     "input": [
      "# Vektor der aktiven Geschwindigkeiten\n",
      "vv = mu[np:, :] ##\n",
      "\n",
      "# Entscheidender Teil des Driftvektorfeldes\n",
      "fz4 = mod.fz[-np:, :] ##"
     ],
     "language": "python",
     "metadata": {},
     "outputs": [
      {
       "latex": [
        "$$\\left[\\begin{matrix}\\dot{q}_{1}\\\\\\dot{q}_{2}\\end{matrix}\\right]$$"
       ],
       "metadata": {},
       "output_type": "display_data",
       "png": "[encoded data removed]",
       "text": [
        "\u23a1q\u0307\u2081\u23a4\n",
        "\u23a2   \u23a5\n",
        "\u23a3q\u0307\u2082\u23a6"
       ]
      },
      {
       "output_type": "stream",
       "stream": "stdout",
       "text": [
        "---\n"
       ]
      },
      {
       "latex": [
        "$$\\left[\\begin{matrix}\\frac{g m_{3} \\sin{\\left (p_{1} \\right )}}{- m_{3} s_{2} - m_{4} s_{2}} + \\frac{g m_{4} \\sin{\\left (p_{1} \\right )}}{- m_{3} s_{2} - m_{4} s_{2}} + \\frac{m_{3}^{2} \\dot{q}_{1}^{2} \\sin{\\left (p_{1} \\right )} \\cos{\\left (p_{1} \\right )}}{m_{3}^{2} s_{2}^{2} + 2 m_{3} m_{4} s_{2}^{2} + m_{4}^{2} s_{2}^{2}} + \\frac{2 m_{3} m_{4} \\dot{q}_{1}^{2} \\sin{\\left (p_{1} \\right )} \\cos{\\left (p_{1} \\right )}}{m_{3}^{2} s_{2}^{2} + 2 m_{3} m_{4} s_{2}^{2} + m_{4}^{2} s_{2}^{2}} + \\frac{m_{3} \\dot{q}_{1} w_{1} \\sin{\\left (p_{1} \\right )}}{- m_{3} s_{2} - m_{4} s_{2}} + \\frac{m_{4}^{2} \\dot{q}_{1}^{2} \\sin{\\left (p_{1} \\right )} \\cos{\\left (p_{1} \\right )}}{m_{3}^{2} s_{2}^{2} + 2 m_{3} m_{4} s_{2}^{2} + m_{4}^{2} s_{2}^{2}} + \\frac{m_{4} \\dot{q}_{1} w_{1} \\sin{\\left (p_{1} \\right )}}{- m_{3} s_{2} - m_{4} s_{2}}\\\\\\frac{c p_{2}}{- m_{3} - m_{4}}\\end{matrix}\\right]$$"
       ],
       "metadata": {},
       "output_type": "display_data",
       "png": "[encoded data removed]",
       "text": [
        "\u23a1                                        2    2                               \n",
        "\u23a2 g\u22c5m\u2083\u22c5sin(p\u2081)     g\u22c5m\u2084\u22c5sin(p\u2081)        m\u2083 \u22c5q\u0307\u2081 \u22c5sin(p\u2081)\u22c5cos(p\u2081)        2\u22c5m\u2083\u22c5m\u2084\n",
        "\u23a2\u2500\u2500\u2500\u2500\u2500\u2500\u2500\u2500\u2500\u2500\u2500\u2500\u2500\u2500 + \u2500\u2500\u2500\u2500\u2500\u2500\u2500\u2500\u2500\u2500\u2500\u2500\u2500\u2500 + \u2500\u2500\u2500\u2500\u2500\u2500\u2500\u2500\u2500\u2500\u2500\u2500\u2500\u2500\u2500\u2500\u2500\u2500\u2500\u2500\u2500\u2500\u2500\u2500\u2500\u2500\u2500\u2500\u2500\u2500\u2500 + \u2500\u2500\u2500\u2500\u2500\u2500\u2500\u2500\u2500\n",
        "\u23a2-m\u2083\u22c5s\u2082 - m\u2084\u22c5s\u2082   -m\u2083\u22c5s\u2082 - m\u2084\u22c5s\u2082     2   2             2     2   2     2   2  \n",
        "\u23a2                                  m\u2083 \u22c5s\u2082  + 2\u22c5m\u2083\u22c5m\u2084\u22c5s\u2082  + m\u2084 \u22c5s\u2082    m\u2083 \u22c5s\u2082  +\n",
        "\u23a2                                                                             \n",
        "\u23a2                                                                             \n",
        "\u23a2                                                                             \n",
        "\u23a3                                                                             \n",
        "\n",
        "    2                                              2    2                     \n",
        "\u22c5q\u0307\u2081 \u22c5sin(p\u2081)\u22c5cos(p\u2081)    m\u2083\u22c5q\u0307\u2081\u22c5w\u2081\u22c5sin(p\u2081)       m\u2084 \u22c5q\u0307\u2081 \u22c5sin(p\u2081)\u22c5cos(p\u2081)     \n",
        "\u2500\u2500\u2500\u2500\u2500\u2500\u2500\u2500\u2500\u2500\u2500\u2500\u2500\u2500\u2500\u2500\u2500\u2500\u2500\u2500\u2500\u2500 + \u2500\u2500\u2500\u2500\u2500\u2500\u2500\u2500\u2500\u2500\u2500\u2500\u2500\u2500\u2500\u2500\u2500 + \u2500\u2500\u2500\u2500\u2500\u2500\u2500\u2500\u2500\u2500\u2500\u2500\u2500\u2500\u2500\u2500\u2500\u2500\u2500\u2500\u2500\u2500\u2500\u2500\u2500\u2500\u2500\u2500\u2500\u2500\u2500 +\n",
        "           2     2   2     -m\u2083\u22c5s\u2082 - m\u2084\u22c5s\u2082      2   2             2     2   2  \n",
        " 2\u22c5m\u2083\u22c5m\u2084\u22c5s\u2082  + m\u2084 \u22c5s\u2082                        m\u2083 \u22c5s\u2082  + 2\u22c5m\u2083\u22c5m\u2084\u22c5s\u2082  + m\u2084 \u22c5s\u2082   \n",
        "                                                                              \n",
        "       c\u22c5p\u2082                                                                   \n",
        "     \u2500\u2500\u2500\u2500\u2500\u2500\u2500\u2500                                                                 \n",
        "     -m\u2083 - m\u2084                                                                 \n",
        "\n",
        "                  \u23a4\n",
        " m\u2084\u22c5q\u0307\u2081\u22c5w\u2081\u22c5sin(p\u2081)\u23a5\n",
        " \u2500\u2500\u2500\u2500\u2500\u2500\u2500\u2500\u2500\u2500\u2500\u2500\u2500\u2500\u2500\u2500\u2500\u23a5\n",
        "   -m\u2083\u22c5s\u2082 - m\u2084\u22c5s\u2082 \u23a5\n",
        "                  \u23a5\n",
        "                  \u23a5\n",
        "                  \u23a5\n",
        "                  \u23a5\n",
        "                  \u23a6"
       ]
      },
      {
       "output_type": "stream",
       "stream": "stdout",
       "text": [
        "---\n"
       ]
      }
     ],
     "prompt_number": 26
    },
    {
     "cell_type": "code",
     "collapsed": false,
     "input": [
      "H1 = sp.hessian(fz4[0], vv) ##\n",
      "H2 = sp.hessian(fz4[1], vv) ##"
     ],
     "language": "python",
     "metadata": {},
     "outputs": [
      {
       "latex": [
        "$$\\left[\\begin{matrix}\\frac{2 m_{3}^{2} \\sin{\\left (p_{1} \\right )} \\cos{\\left (p_{1} \\right )}}{m_{3}^{2} s_{2}^{2} + 2 m_{3} m_{4} s_{2}^{2} + m_{4}^{2} s_{2}^{2}} + \\frac{4 m_{3} m_{4} \\sin{\\left (p_{1} \\right )} \\cos{\\left (p_{1} \\right )}}{m_{3}^{2} s_{2}^{2} + 2 m_{3} m_{4} s_{2}^{2} + m_{4}^{2} s_{2}^{2}} + \\frac{2 m_{4}^{2} \\sin{\\left (p_{1} \\right )} \\cos{\\left (p_{1} \\right )}}{m_{3}^{2} s_{2}^{2} + 2 m_{3} m_{4} s_{2}^{2} + m_{4}^{2} s_{2}^{2}} & 0\\\\0 & 0\\end{matrix}\\right]$$"
       ],
       "metadata": {},
       "output_type": "display_data",
       "png": "[encoded data removed]",
       "text": [
        "\u23a1         2                                                                   \n",
        "\u23a2     2\u22c5m\u2083 \u22c5sin(p\u2081)\u22c5cos(p\u2081)            4\u22c5m\u2083\u22c5m\u2084\u22c5sin(p\u2081)\u22c5cos(p\u2081)            2\u22c5m\u2084\n",
        "\u23a2\u2500\u2500\u2500\u2500\u2500\u2500\u2500\u2500\u2500\u2500\u2500\u2500\u2500\u2500\u2500\u2500\u2500\u2500\u2500\u2500\u2500\u2500\u2500\u2500\u2500\u2500\u2500\u2500\u2500\u2500\u2500 + \u2500\u2500\u2500\u2500\u2500\u2500\u2500\u2500\u2500\u2500\u2500\u2500\u2500\u2500\u2500\u2500\u2500\u2500\u2500\u2500\u2500\u2500\u2500\u2500\u2500\u2500\u2500\u2500\u2500\u2500\u2500 + \u2500\u2500\u2500\u2500\u2500\u2500\u2500\u2500\u2500\n",
        "\u23a2  2   2             2     2   2     2   2             2     2   2     2   2  \n",
        "\u23a2m\u2083 \u22c5s\u2082  + 2\u22c5m\u2083\u22c5m\u2084\u22c5s\u2082  + m\u2084 \u22c5s\u2082    m\u2083 \u22c5s\u2082  + 2\u22c5m\u2083\u22c5m\u2084\u22c5s\u2082  + m\u2084 \u22c5s\u2082    m\u2083 \u22c5s\u2082  +\n",
        "\u23a2                                                                             \n",
        "\u23a3                                                 0                           \n",
        "\n",
        "2                        \u23a4\n",
        " \u22c5sin(p\u2081)\u22c5cos(p\u2081)        \u23a5\n",
        "\u2500\u2500\u2500\u2500\u2500\u2500\u2500\u2500\u2500\u2500\u2500\u2500\u2500\u2500\u2500\u2500\u2500\u2500\u2500\u2500\u2500\u2500  0\u23a5\n",
        "           2     2   2   \u23a5\n",
        " 2\u22c5m\u2083\u22c5m\u2084\u22c5s\u2082  + m\u2084 \u22c5s\u2082    \u23a5\n",
        "                         \u23a5\n",
        "                        0\u23a6"
       ]
      },
      {
       "output_type": "stream",
       "stream": "stdout",
       "text": [
        "---\n"
       ]
      },
      {
       "latex": [
        "$$\\left[\\begin{matrix}0 & 0\\\\0 & 0\\end{matrix}\\right]$$"
       ],
       "metadata": {},
       "output_type": "display_data",
       "png": "[encoded data removed]",
       "text": [
        "\u23a10  0\u23a4\n",
        "\u23a2    \u23a5\n",
        "\u23a30  0\u23a6"
       ]
      },
      {
       "output_type": "stream",
       "stream": "stdout",
       "text": [
        "---\n"
       ]
      }
     ],
     "prompt_number": 28
    },
    {
     "cell_type": "markdown",
     "metadata": {},
     "source": [
      "Damit ist triviale L\u00f6sung ablesbar: $\\bs b_{\\bs q}= (0, 1)^T$. Mit diesem Ansatz ist keine Aussage \u00fcber die Flachheit des Systems m\u00f6glich."
     ]
    },
    {
     "cell_type": "code",
     "collapsed": false,
     "input": [],
     "language": "python",
     "metadata": {},
     "outputs": []
    }
   ],
   "metadata": {}
  }
 ]
}