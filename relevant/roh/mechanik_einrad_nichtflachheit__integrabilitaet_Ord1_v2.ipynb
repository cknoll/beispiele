{
 "metadata": {
  "name": "",
  "signature": "sha256:2208f2bd2430138a4d763ac5a8d8c9107b8b559e1b424a1977dd42c38bae7bce"
 },
 "nbformat": 3,
 "nbformat_minor": 0,
 "worksheets": [
  {
   "cells": [
    {
     "cell_type": "code",
     "collapsed": false,
     "input": [
      "import time\n",
      "print time.ctime()\n",
      "%load_ext displaytools"
     ],
     "language": "python",
     "metadata": {},
     "outputs": [
      {
       "output_type": "stream",
       "stream": "stdout",
       "text": [
        "Mon Dec  7 17:57:52 2015\n"
       ]
      }
     ],
     "prompt_number": 1
    },
    {
     "cell_type": "markdown",
     "metadata": {},
     "source": [
      "* Die Bewegungsgleichungen des Einradfahrer-Systems mit 2 Aktoren aufstellen\n",
      "* Unimodulare Erg\u00e4nzung der Systemmatrix bestimmen\n",
      "* Auswertung der hinreichenden Bedingung f\u00fcr Nichtflachheit (bestimmter Koeffizient einer bestimmten Differentialform)"
     ]
    },
    {
     "cell_type": "code",
     "collapsed": false,
     "input": [
      "import sympy as sp\n",
      "from sympy import sin, cos, pi, Matrix\n",
      "from sympy.interactive import printing\n",
      "import model_tools as mt\n",
      "from model_tools import Rz\n",
      "import diffgeopy as pc # perspektivisch: pycartan\n",
      "import symb_tools as st\n",
      "from symb_tools import symbs_to_func, zip0\n",
      "import pickle\n",
      "\n",
      "printing.init_printing()"
     ],
     "language": "python",
     "metadata": {},
     "outputs": [],
     "prompt_number": 2
    },
    {
     "cell_type": "code",
     "collapsed": false,
     "input": [
      "np, nq = 1, 2\n",
      "n = np + nq\n",
      "theta = st.symb_vector(\"p1, q1, q2\") ##\n",
      "p1, q1, q2 = theta"
     ],
     "language": "python",
     "metadata": {},
     "outputs": [
      {
       "latex": [
        "$$\\left[\\begin{matrix}p_{1}\\\\q_{1}\\\\q_{2}\\end{matrix}\\right]$$"
       ],
       "metadata": {},
       "output_type": "display_data",
       "png": "[encoded data removed]",
       "text": [
        "\u23a1p\u2081\u23a4\n",
        "\u23a2  \u23a5\n",
        "\u23a2q\u2081\u23a5\n",
        "\u23a2  \u23a5\n",
        "\u23a3q\u2082\u23a6"
       ]
      },
      {
       "output_type": "stream",
       "stream": "stdout",
       "text": [
        "---\n"
       ]
      }
     ],
     "prompt_number": 3
    },
    {
     "cell_type": "markdown",
     "metadata": {},
     "source": [
      "$p_1$: Abrollen des Rades gegen\u00fcber der Umgebung (passiv)<br>\n",
      "$q_1$: Relativwinkel: Rad-Glied 1 (akitv)<br>\n",
      "$q_2$: Relativwinkel: Glied 1-Glied 2 (akitv)<br>\n"
     ]
    },
    {
     "cell_type": "code",
     "collapsed": false,
     "input": [
      "params = sp.symbols('l0, l1, l2, s1, s2, J0, J1, J2, m0, m1, m2, g')\n",
      "st.make_global(params, 1)\n",
      "\n",
      "QQ = sp.symbols(\"Q0, Q1, Q2\")\n",
      "Q0, Q1, Q2 = QQ"
     ],
     "language": "python",
     "metadata": {},
     "outputs": [],
     "prompt_number": 4
    },
    {
     "cell_type": "code",
     "collapsed": false,
     "input": [
      "# Winkelgeschwindigkeiten\n",
      "mu = st.perform_time_derivative(theta, theta)\n",
      "p1d, q1d, q2d = mu\n",
      "\n",
      "# Winkelbeschleunigungen\n",
      "mud = st.perform_time_derivative(mu, theta)"
     ],
     "language": "python",
     "metadata": {},
     "outputs": [],
     "prompt_number": 5
    },
    {
     "cell_type": "code",
     "collapsed": false,
     "input": [
      "# Geometrie: (Einheitsvektoren)\n",
      "ex = Matrix([1,0])\n",
      "ey = Matrix([0,1])\n",
      "\n",
      "M0 = Matrix([-l0*p1, l0]) # Mittelpunkt des Rades\n",
      "\n",
      "\n",
      "S1 = M0 + Rz(p1+q1)*ey*s1\n",
      "S2 = M0 + Rz(p1+q1)*ey*l1+Rz(p1+q1+q2)*ey*s2\n",
      "#EE = M0 + Rz(p1+q1)*ey*l1+Rz(p1+q1+q2)*ey*l2 # \"Endeffektor\" \n",
      "\n",
      "M0d = st.perform_time_derivative(M0, theta)\n",
      "S1d = st.perform_time_derivative(S1, theta)\n",
      "S2d = st.perform_time_derivative(S2, theta)"
     ],
     "language": "python",
     "metadata": {},
     "outputs": [],
     "prompt_number": 6
    },
    {
     "cell_type": "code",
     "collapsed": false,
     "input": [
      "# Energie\n",
      "T_rot = ( J0*p1d**2 + J1*(p1d+q1d)**2 + J2*(p1d+ q1d+q2d)**2 )/2\n",
      "T_trans = ( m0*M0d.T*M0d  +  m1*S1d.T*S1d  +  m2*S2d.T*S2d )/2\n",
      "\n",
      "T = T_rot + T_trans[0]\n",
      "\n",
      "V = m1*g*S1[1] + m2*g*S2[1] "
     ],
     "language": "python",
     "metadata": {},
     "outputs": [],
     "prompt_number": 7
    },
    {
     "cell_type": "code",
     "collapsed": false,
     "input": [
      "mod = mt.generate_symbolic_model(T, V, theta, [0, Q1, Q2])"
     ],
     "language": "python",
     "metadata": {},
     "outputs": [],
     "prompt_number": 8
    },
    {
     "cell_type": "code",
     "collapsed": false,
     "input": [
      "# Die ersten np-Zeilen entsprechen der eingangsfreien Systemgleichung\n",
      "\n",
      "eq = mod.eqns[:np, :]"
     ],
     "language": "python",
     "metadata": {},
     "outputs": [],
     "prompt_number": 9
    },
    {
     "cell_type": "markdown",
     "metadata": {},
     "source": [
      "Die unimodulare Erg\u00e4nzung wird aus [Franke2014] \u00fcbernommen. Dort sind die Bewegungsgleichungen in absoluten Koordinaten $\\varphi_0, \\varphi_1, \\varphi_2$ formuliert.\n",
      "Zusammenhang: $\\boldsymbol \\theta = \\boldsymbol T_a \\boldsymbol \\varphi.$\n",
      "\n"
     ]
    },
    {
     "cell_type": "code",
     "collapsed": false,
     "input": [
      "# Transformationsmatrix\n",
      "Ta = sp.Matrix([[1, 0, 0], [1, 1, 0], [1, 1, 1]]) ##\n",
      "Tainv = Ta.inv() ##"
     ],
     "language": "python",
     "metadata": {},
     "outputs": [
      {
       "latex": [
        "$$\\left[\\begin{matrix}1 & 0 & 0\\\\1 & 1 & 0\\\\1 & 1 & 1\\end{matrix}\\right]$$"
       ],
       "metadata": {},
       "output_type": "display_data",
       "png": "[encoded data removed]",
       "text": [
        "\u23a11  0  0\u23a4\n",
        "\u23a2       \u23a5\n",
        "\u23a21  1  0\u23a5\n",
        "\u23a2       \u23a5\n",
        "\u23a31  1  1\u23a6"
       ]
      },
      {
       "output_type": "stream",
       "stream": "stdout",
       "text": [
        "---\n"
       ]
      },
      {
       "latex": [
        "$$\\left[\\begin{matrix}1 & 0 & 0\\\\-1 & 1 & 0\\\\0 & -1 & 1\\end{matrix}\\right]$$"
       ],
       "metadata": {},
       "output_type": "display_data",
       "png": "[encoded data removed]",
       "text": [
        "\u23a11   0   0\u23a4\n",
        "\u23a2         \u23a5\n",
        "\u23a2-1  1   0\u23a5\n",
        "\u23a2         \u23a5\n",
        "\u23a30   -1  1\u23a6"
       ]
      },
      {
       "output_type": "stream",
       "stream": "stdout",
       "text": [
        "---\n"
       ]
      }
     ],
     "prompt_number": 10
    },
    {
     "cell_type": "code",
     "collapsed": false,
     "input": [
      "phi0, phi1, phi2 = pphi = st.symb_vector('phi0, phi1, phi2')\n",
      "pphi ##\n",
      "pphidot = st.perform_time_derivative(pphi, pphi) ##\n",
      "\n",
      "# h\u00f6here Ableitungen werden sp\u00e4ter noch gebraucht\n",
      "pphiddot = st.perform_time_derivative(pphidot, pphi)\n",
      "pphidddot = st.perform_time_derivative(pphiddot, pphi)"
     ],
     "language": "python",
     "metadata": {},
     "outputs": [
      {
       "latex": [
        "$$\\left[\\begin{matrix}\\phi_{0}\\\\\\phi_{1}\\\\\\phi_{2}\\end{matrix}\\right]$$"
       ],
       "metadata": {},
       "output_type": "display_data",
       "png": "[encoded data removed]",
       "text": [
        "\u23a1\u03c6\u2080\u23a4\n",
        "\u23a2  \u23a5\n",
        "\u23a2\u03c6\u2081\u23a5\n",
        "\u23a2  \u23a5\n",
        "\u23a3\u03c6\u2082\u23a6"
       ]
      },
      {
       "output_type": "stream",
       "stream": "stdout",
       "text": [
        "___\n"
       ]
      },
      {
       "latex": [
        "$$\\left[\\begin{matrix}\\dot{\\phi}_{0}\\\\\\dot{\\phi}_{1}\\\\\\dot{\\phi}_{2}\\end{matrix}\\right]$$"
       ],
       "metadata": {},
       "output_type": "display_data",
       "png": "[encoded data removed]",
       "text": [
        "\u23a1\u03c6\u0307\u2080\u23a4\n",
        "\u23a2   \u23a5\n",
        "\u23a2\u03c6\u0307\u2081\u23a5\n",
        "\u23a2   \u23a5\n",
        "\u23a3\u03c6\u0307\u2082\u23a6"
       ]
      },
      {
       "output_type": "stream",
       "stream": "stdout",
       "text": [
        "---\n"
       ]
      }
     ],
     "prompt_number": 11
    },
    {
     "cell_type": "code",
     "collapsed": false,
     "input": [
      "eq2 = eq.subs(zip(theta, Tainv*pphi) + zip(mu, Tainv*pphidot) + zip(mud, Tainv*pphiddot))\n",
      "eq2.simplify()"
     ],
     "language": "python",
     "metadata": {},
     "outputs": [],
     "prompt_number": 12
    },
    {
     "cell_type": "code",
     "collapsed": false,
     "input": [
      "printing.init_printing(0)\n",
      "P0 = eq2.jacobian(pphi) ##\n",
      "P1 = eq2.jacobian(pphidot) ##\n",
      "P2 = eq2.jacobian(pphiddot) ##"
     ],
     "language": "python",
     "metadata": {},
     "outputs": [
      {
       "metadata": {},
       "output_type": "display_data",
       "text": [
        "Matrix([[0, -g*l1*m2*cos(phi1) - g*m1*s1*cos(phi1) - l0*l1*m2*phiddot0*sin(phi1) - l0*l1*m2*phiddot1*sin(phi1) - l0*l1*m2*phidot1**2*cos(phi1) - l0*m1*phiddot0*s1*sin(phi1) - l0*m1*phiddot1*s1*sin(phi1) - l0*m1*phidot1**2*s1*cos(phi1) - l1*m2*phiddot1*s2*sin(phi1 - phi2) - l1*m2*phiddot2*s2*sin(phi1 - phi2) - l1*m2*phidot1**2*s2*cos(phi1 - phi2) + l1*m2*phidot2**2*s2*cos(phi1 - phi2), -g*m2*s2*cos(phi2) - l0*m2*phiddot0*s2*sin(phi2) - l0*m2*phiddot2*s2*sin(phi2) - l0*m2*phidot2**2*s2*cos(phi2) + l1*m2*phiddot1*s2*sin(phi1 - phi2) + l1*m2*phiddot2*s2*sin(phi1 - phi2) + l1*m2*phidot1**2*s2*cos(phi1 - phi2) - l1*m2*phidot2**2*s2*cos(phi1 - phi2)]])"
       ]
      },
      {
       "output_type": "stream",
       "stream": "stdout",
       "text": [
        "---\n"
       ]
      },
      {
       "metadata": {},
       "output_type": "display_data",
       "text": [
        "Matrix([[0, -2*l0*l1*m2*phidot1*sin(phi1) - 2*l0*m1*phidot1*s1*sin(phi1) - 2*l1*m2*phidot1*s2*sin(phi1 - phi2), -2*l0*m2*phidot2*s2*sin(phi2) + 2*l1*m2*phidot2*s2*sin(phi1 - phi2)]])"
       ]
      },
      {
       "output_type": "stream",
       "stream": "stdout",
       "text": [
        "---\n"
       ]
      },
      {
       "metadata": {},
       "output_type": "display_data",
       "text": [
        "Matrix([[J0 + l0**2*m0 + l0**2*m1 + l0**2*m2 + l0*l1*m2*cos(phi1) + l0*m1*s1*cos(phi1) + l0*m2*s2*cos(phi2), J1 + l0*l1*m2*cos(phi1) + l0*m1*s1*cos(phi1) + l1**2*m2 + l1*m2*s2*cos(phi1 - phi2) + m1*s1**2, J2 + l0*m2*s2*cos(phi2) + l1*m2*s2*cos(phi1 - phi2) + m2*s2**2]])"
       ]
      },
      {
       "output_type": "stream",
       "stream": "stdout",
       "text": [
        "---\n"
       ]
      }
     ],
     "prompt_number": 13
    },
    {
     "cell_type": "markdown",
     "metadata": {},
     "source": [
      "---\n",
      "Nun werden f\u00fcr die entsprechenden Eintr\u00e4ge der Systemmatrix $P(\\tfrac{d}{dt})$ Abk\u00fcrzungen eingef\u00fchrt."
     ]
    },
    {
     "cell_type": "code",
     "collapsed": false,
     "input": [
      "a0, a1, a2, b0, b1, b2, c0, c1, c2 = abc = sp.symbols(\"a0, a1, a2, b0, b1, b2, c0, c1, c2\")\n",
      "\n",
      "P0s = st.symb_vector('a0, b0, c0').T ##\n",
      "P1s = st.symb_vector('a1, b1, c1').T ##\n",
      "P2s = st.symb_vector('a2, b2, c2').T ##\n",
      "\n",
      "# Datenstruktur f\u00fcr die R\u00fccksubstitution der a,b,c Symbole\n",
      "replm_abc = sp.Matrix(zip(P0s, P0) + zip(P1s, P1) + zip(P2s, P2))\n",
      "\n",
      "# ... und deren Ableitungen\n",
      "replm_abc_dot = st.perform_time_derivative(replm_abc, abc + tuple(pphi))"
     ],
     "language": "python",
     "metadata": {},
     "outputs": [
      {
       "metadata": {},
       "output_type": "display_data",
       "text": [
        "Matrix([[a0, b0, c0]])"
       ]
      },
      {
       "output_type": "stream",
       "stream": "stdout",
       "text": [
        "---\n"
       ]
      },
      {
       "metadata": {},
       "output_type": "display_data",
       "text": [
        "Matrix([[a1, b1, c1]])"
       ]
      },
      {
       "output_type": "stream",
       "stream": "stdout",
       "text": [
        "---\n"
       ]
      },
      {
       "metadata": {},
       "output_type": "display_data",
       "text": [
        "Matrix([[a2, b2, c2]])"
       ]
      },
      {
       "output_type": "stream",
       "stream": "stdout",
       "text": [
        "---\n"
       ]
      }
     ],
     "prompt_number": 14
    },
    {
     "cell_type": "code",
     "collapsed": false,
     "input": [
      "# Ableitungssymbole in den Namensraum einf\u00fcgen\n",
      "st.make_global(replm_abc_dot[:, 0], 1)\n",
      "\n",
      "# alle Substitutionen in einer Liste vereinen\n",
      "replm = replm_abc.tolist() + replm_abc_dot.tolist()"
     ],
     "language": "python",
     "metadata": {},
     "outputs": [],
     "prompt_number": 15
    },
    {
     "cell_type": "markdown",
     "metadata": {},
     "source": [
      "Unimodulare Erweiterung (siehe [Franke2014, S70] )."
     ]
    },
    {
     "cell_type": "code",
     "collapsed": false,
     "input": [
      "Q1 = sp.Matrix([-2*c2*adot2 - a2*c1, c2*b1 - c2*2*bdot2 - b2*c1, -2*c2*cdot2]).T\n",
      "Q2 = sp.Matrix([[ a2, b2, c2]]) # entspricht P2s\n",
      "Q = st.row_stack(Q1, Q2) ##"
     ],
     "language": "python",
     "metadata": {},
     "outputs": [
      {
       "metadata": {},
       "output_type": "display_data",
       "text": [
        "Matrix([\n",
        "[-a2*c1 - 2*adot2*c2, b1*c2 - b2*c1 - 2*bdot2*c2, -2*c2*cdot2],\n",
        "[                 a2,                         b2,          c2]])"
       ]
      },
      {
       "output_type": "stream",
       "stream": "stdout",
       "text": [
        "---\n"
       ]
      }
     ],
     "prompt_number": 16
    },
    {
     "cell_type": "code",
     "collapsed": false,
     "input": [
      "# Basis-Systemgr\u00f6\u00dfen\n",
      "\n",
      "ppx = st.row_stack(pphi, pphidot, pphiddot, pphidddot)\n",
      "\n",
      "# Koeffizienten-Listen bez\u00fcglich aller Basis-Systemgr\u00f6\u00dfen f\u00fcr die 1-Formen\n",
      "Q1_ = st.col_stack(Q1, sp.zeros(1, n*3)).subs(replm)\n",
      "Q2_ = st.col_stack(Q2, sp.zeros(1, n*3)).subs(replm)\n",
      "P_ = st.col_stack(P0, P1, P2, sp.zeros(1, n) ).subs(replm)\n",
      "\n",
      "# Erstellung der 1-Formen\n",
      "w1 = pc.DifferentialForm(1, ppx, coeff=Q1_)\n",
      "w2 = pc.DifferentialForm(1, ppx, coeff=Q2_)\n",
      "dF = pc.DifferentialForm(1, ppx, coeff=P_)"
     ],
     "language": "python",
     "metadata": {},
     "outputs": [],
     "prompt_number": 17
    },
    {
     "cell_type": "markdown",
     "metadata": {},
     "source": [
      "Zum Vergleich: Reproduktion der Ergebnisse von [Franke2014, S71]"
     ]
    },
    {
     "cell_type": "code",
     "collapsed": false,
     "input": [
      "w2.d^w1^w2"
     ],
     "language": "python",
     "metadata": {},
     "outputs": [
      {
       "metadata": {},
       "output_type": "pyout",
       "prompt_number": 18,
       "text": [
        "0"
       ]
      }
     ],
     "prompt_number": 18
    },
    {
     "cell_type": "code",
     "collapsed": false,
     "input": [
      "res = w1.d^w1^w2"
     ],
     "language": "python",
     "metadata": {},
     "outputs": [],
     "prompt_number": 19
    },
    {
     "cell_type": "code",
     "collapsed": false,
     "input": [
      "rc = res.coeff.subs(st.zip0(params, arg=1))\n"
     ],
     "language": "python",
     "metadata": {},
     "outputs": [],
     "prompt_number": 20
    },
    {
     "cell_type": "code",
     "collapsed": false,
     "input": [
      "nzt = zip(*res.nonzero_tuples())[1] ##\n",
      "\n",
      "res.get_baseform_from_idcs(nzt[0]) ##\n",
      "res.get_baseform_from_idcs(nzt[1]) ##"
     ],
     "language": "python",
     "metadata": {},
     "outputs": [
      {
       "metadata": {},
       "output_type": "display_data",
       "text": [
        "((0, 1, 2, 4), (0, 1, 2, 5))"
       ]
      },
      {
       "output_type": "stream",
       "stream": "stdout",
       "text": [
        "---\n"
       ]
      },
      {
       "metadata": {},
       "output_type": "display_data",
       "text": [
        "(1) dphi0^dphi1^dphi2^dphidot1"
       ]
      },
      {
       "output_type": "stream",
       "stream": "stdout",
       "text": [
        "___\n"
       ]
      },
      {
       "metadata": {},
       "output_type": "display_data",
       "text": [
        "(1) dphi0^dphi1^dphi2^dphidot2"
       ]
      },
      {
       "output_type": "stream",
       "stream": "stdout",
       "text": [
        "___\n"
       ]
      }
     ],
     "prompt_number": 21
    },
    {
     "cell_type": "code",
     "collapsed": false,
     "input": [
      "#w1"
     ],
     "language": "python",
     "metadata": {},
     "outputs": [],
     "prompt_number": 23
    },
    {
     "cell_type": "code",
     "collapsed": false,
     "input": [
      "w1.d.co ##\n",
      "w2.d.co ##"
     ],
     "language": "python",
     "metadata": {},
     "outputs": [
      {
       "metadata": {},
       "output_type": "display_data",
       "text": [
        "(113) dphi0^dphi1+(113) dphi0^dphi2+(26) dphi0^dphidot1+(58) dphi0^dphidot2+(195) dphi1^dphi2+(67) dphi1^dphidot1+(57) dphi1^dphidot2+(22) dphi2^dphidot1+(26) dphi2^dphidot2"
       ]
      },
      {
       "output_type": "stream",
       "stream": "stdout",
       "text": [
        "___\n"
       ]
      },
      {
       "metadata": {},
       "output_type": "display_data",
       "text": [
        "(9) dphi0^dphi1+(4) dphi0^dphi2+(7) dphi1^dphi2"
       ]
      },
      {
       "output_type": "stream",
       "stream": "stdout",
       "text": [
        "___\n"
       ]
      }
     ],
     "prompt_number": 33
    },
    {
     "cell_type": "code",
     "collapsed": false,
     "input": [
      "Xi_2_1 = w1.d^w1^w2^w1.dot()^w2.dot()\n",
      "Xi_2_1.is_zero() ##\n",
      "Xi_2_1.coeff[0].srn ##"
     ],
     "language": "python",
     "metadata": {},
     "outputs": [
      {
       "metadata": {},
       "output_type": "display_data",
       "text": [
        "False"
       ]
      },
      {
       "output_type": "stream",
       "stream": "stdout",
       "text": [
        "___\n"
       ]
      },
      {
       "metadata": {},
       "output_type": "display_data",
       "text": [
        "1207861538665781483758.221661382170429433602324726159293675455476753102105195809954276560475245797336"
       ]
      },
      {
       "output_type": "stream",
       "stream": "stdout",
       "text": [
        "___\n"
       ]
      }
     ],
     "prompt_number": 32
    },
    {
     "cell_type": "code",
     "collapsed": false,
     "input": [],
     "language": "python",
     "metadata": {},
     "outputs": []
    },
    {
     "cell_type": "code",
     "collapsed": false,
     "input": [],
     "language": "python",
     "metadata": {},
     "outputs": []
    },
    {
     "cell_type": "code",
     "collapsed": false,
     "input": [],
     "language": "python",
     "metadata": {},
     "outputs": []
    },
    {
     "cell_type": "markdown",
     "metadata": {},
     "source": [
      "---\n",
      "Integrallos umkehrbare Transformation, um Ordnungsannahme zu erf\u00fcllen:"
     ]
    },
    {
     "cell_type": "code",
     "collapsed": false,
     "input": [
      "W1 = w1\n",
      "W2 = w2 + w1.dot()"
     ],
     "language": "python",
     "metadata": {},
     "outputs": [],
     "prompt_number": 22
    },
    {
     "cell_type": "code",
     "collapsed": false,
     "input": [
      "Xi_1_1 = W1.d^W1^W2\n",
      "Xi_1_1.is_zero()"
     ],
     "language": "python",
     "metadata": {},
     "outputs": [
      {
       "metadata": {},
       "output_type": "pyout",
       "prompt_number": 23,
       "text": [
        "False"
       ]
      }
     ],
     "prompt_number": 23
    },
    {
     "cell_type": "code",
     "collapsed": false,
     "input": [
      "Gamma2 = W1.dot()^W2.dot()^dF"
     ],
     "language": "python",
     "metadata": {},
     "outputs": [],
     "prompt_number": 24
    },
    {
     "cell_type": "markdown",
     "metadata": {},
     "source": [
      "Von den Basis-Formen von $\\Gamma_2$ muss eine gefunden werden, die den Anforderungen !!eq_bsgm_bed gen\u00fcgt."
     ]
    },
    {
     "cell_type": "code",
     "collapsed": false,
     "input": [
      "nzt = Gamma2.nonzero_tuples()"
     ],
     "language": "python",
     "metadata": {},
     "outputs": [],
     "prompt_number": 25
    },
    {
     "cell_type": "code",
     "collapsed": false,
     "input": [
      "# Kovertierung in numpy-array f\u00fcr elementweisen Vergleich und modulo-Rechnung\n",
      "idx_tuples = st.to_np(zip(*nzt)[1])\n",
      "\n",
      "# relevant sind nur die Index-Tupel, die\n",
      "# a) den h\u00f6chsten beiden Ableitungsordnungen entsprechen\n",
      "\n",
      "idcs = st.to_np([idcs for idcs in idx_tuples if all(n < idcs )])\n",
      "\n",
      "# und\n",
      "# b) in denen  kein \"Ur-Basis\"-Index mehrfach auftritt\n",
      "\n",
      "base_idcs = idcs % 3\n",
      "number_of_disjunct_idcs = map(lambda row: len(set(row)), base_idcs)\n",
      "\n",
      "disjunct_idcs = [idx_tup for idx_tup, count in zip(idcs, number_of_disjunct_idcs) if count == 3] ##\n"
     ],
     "language": "python",
     "metadata": {},
     "outputs": [
      {
       "metadata": {},
       "output_type": "display_data",
       "text": [
        "[array([ 4.,  5.,  6.]), array([ 4.,  6.,  8.]), array([ 5.,  6.,  7.])]"
       ]
      },
      {
       "output_type": "stream",
       "stream": "stdout",
       "text": [
        "---\n"
       ]
      }
     ],
     "prompt_number": 26
    },
    {
     "cell_type": "code",
     "collapsed": false,
     "input": [
      "# Koeffizient * Basisform -> multipliziertes Basis Element (mbe)\n",
      "sigma = disjunct_idcs[-1] ##\n",
      "Psi_sigma = Gamma2.get_baseform_from_idcs(sigma) ##"
     ],
     "language": "python",
     "metadata": {},
     "outputs": [
      {
       "metadata": {},
       "output_type": "display_data",
       "text": [
        "array([ 5.,  6.,  7.])"
       ]
      },
      {
       "output_type": "stream",
       "stream": "stdout",
       "text": [
        "---\n"
       ]
      },
      {
       "metadata": {},
       "output_type": "display_data",
       "text": [
        "(1) dphidot2^dphiddot0^dphiddot1"
       ]
      },
      {
       "output_type": "stream",
       "stream": "stdout",
       "text": [
        "---\n"
       ]
      }
     ],
     "prompt_number": 27
    },
    {
     "cell_type": "code",
     "collapsed": false,
     "input": [
      "sigma_plus_n = sigma + n ##\n",
      "Psi_sigma_plus_n = Gamma2.get_baseform_from_idcs(sigma_plus_n) ##"
     ],
     "language": "python",
     "metadata": {},
     "outputs": [
      {
       "metadata": {},
       "output_type": "display_data",
       "text": [
        "array([  8.,   9.,  10.])"
       ]
      },
      {
       "output_type": "stream",
       "stream": "stdout",
       "text": [
        "---\n"
       ]
      },
      {
       "metadata": {},
       "output_type": "display_data",
       "text": [
        "(1) dphiddot2^dphidddot0^dphidddot1"
       ]
      },
      {
       "output_type": "stream",
       "stream": "stdout",
       "text": [
        "---\n"
       ]
      }
     ],
     "prompt_number": 28
    },
    {
     "cell_type": "markdown",
     "metadata": {},
     "source": [
      "---\n",
      "Bedingung\n",
      "$$\\Xi_{i^*, 1} \\wedge \\Psi_{\\boldsymbol \\sigma} \\wedge \\Psi_{\\boldsymbol \\sigma+ \\boldsymbol n} \\neq 0$$\n",
      "pr\u00fcfen"
     ]
    },
    {
     "cell_type": "code",
     "collapsed": false,
     "input": [
      "res = Xi_1_1^Psi_sigma^Psi_sigma_plus_n\n",
      "res.nonzero_tuples()[0][0].srnp"
     ],
     "language": "python",
     "metadata": {},
     "outputs": [
      {
       "metadata": {},
       "output_type": "pyout",
       "prompt_number": 29,
       "text": [
        "8.99416495631302e+32"
       ]
      }
     ],
     "prompt_number": 29
    },
    {
     "cell_type": "markdown",
     "metadata": {},
     "source": [
      "\u2192 Erf\u00fcllt.\n",
      "\n",
      "---\n",
      "\n",
      "Jetz zeigen, dass $\\bar c_{\\boldsymbol \\sigma}(l)$ keine ganzzahlige Nullstelle hat\n"
     ]
    },
    {
     "cell_type": "code",
     "collapsed": false,
     "input": [
      "res.nonzero_tuples()[-2][1]"
     ],
     "language": "python",
     "metadata": {},
     "outputs": [
      {
       "metadata": {},
       "output_type": "pyout",
       "prompt_number": 30,
       "text": [
        "(0, 2, 3, 4, 5, 6, 7, 8, 9, 10)"
       ]
      }
     ],
     "prompt_number": 30
    },
    {
     "cell_type": "code",
     "collapsed": false,
     "input": [
      "res.coeff.srnp"
     ],
     "language": "python",
     "metadata": {},
     "outputs": [
      {
       "metadata": {},
       "output_type": "pyout",
       "prompt_number": 31,
       "text": [
        "Matrix([\n",
        "[                    0],\n",
        "[                    0],\n",
        "[                    0],\n",
        "[                    0],\n",
        "[                    0],\n",
        "[                    0],\n",
        "[                    0],\n",
        "[                    0],\n",
        "[                    0],\n",
        "[                    0],\n",
        "[                    0],\n",
        "[                    0],\n",
        "[                    0],\n",
        "[                    0],\n",
        "[                    0],\n",
        "[                    0],\n",
        "[                    0],\n",
        "[                    0],\n",
        "[                    0],\n",
        "[                    0],\n",
        "[                    0],\n",
        "[ 6.05002927142099e+38],\n",
        "[                    0],\n",
        "[                    0],\n",
        "[                    0],\n",
        "[                    0],\n",
        "[                    0],\n",
        "[                    0],\n",
        "[-4.20034603959823e+39],\n",
        "[                    0],\n",
        "[                    0],\n",
        "[                    0],\n",
        "[                    0],\n",
        "[                    0],\n",
        "[                    0],\n",
        "[                    0],\n",
        "[ 2.07797466710014e+36],\n",
        "[                    0],\n",
        "[                    0],\n",
        "[                    0],\n",
        "[                    0],\n",
        "[                    0],\n",
        "[                    0],\n",
        "[                    0],\n",
        "[                    0],\n",
        "[-1.88291574440901e+36],\n",
        "[                    0],\n",
        "[                    0],\n",
        "[                    0],\n",
        "[                    0],\n",
        "[                    0],\n",
        "[                    0],\n",
        "[                    0],\n",
        "[                    0],\n",
        "[                    0],\n",
        "[ 2.36800481129695e+37],\n",
        "[                    0],\n",
        "[                    0],\n",
        "[                    0],\n",
        "[                    0],\n",
        "[                    0],\n",
        "[                    0],\n",
        "[                    0],\n",
        "[                    0],\n",
        "[                    0],\n",
        "[                    0]])"
       ]
      }
     ],
     "prompt_number": 31
    },
    {
     "cell_type": "code",
     "collapsed": false,
     "input": [
      "tmp = res.nonzero_tuples()[-2][0]"
     ],
     "language": "python",
     "metadata": {},
     "outputs": []
    },
    {
     "cell_type": "code",
     "collapsed": false,
     "input": [
      "tmp.simplify()"
     ],
     "language": "python",
     "metadata": {},
     "outputs": []
    },
    {
     "cell_type": "code",
     "collapsed": false,
     "input": [
      "tmp2 = _\n",
      "tmp2.co"
     ],
     "language": "python",
     "metadata": {},
     "outputs": []
    },
    {
     "cell_type": "code",
     "collapsed": false,
     "input": [
      "print sp.latex(tmp2)"
     ],
     "language": "python",
     "metadata": {},
     "outputs": []
    },
    {
     "cell_type": "code",
     "collapsed": false,
     "input": [
      "W1.dot().coeff[6:, :]"
     ],
     "language": "python",
     "metadata": {},
     "outputs": []
    },
    {
     "cell_type": "code",
     "collapsed": false,
     "input": [
      "# dauert ca. 90s\n",
      "c_sigma, difforder_symbol = pc.coeff_ido_derivorder(sigma_plus_n, W1.dot(), W2.dot(), dF)\n",
      "c_sigma.diff(difforder_symbol)"
     ],
     "language": "python",
     "metadata": {},
     "outputs": []
    },
    {
     "cell_type": "code",
     "collapsed": false,
     "input": [
      "c_sigma.srnp"
     ],
     "language": "python",
     "metadata": {},
     "outputs": []
    },
    {
     "cell_type": "code",
     "collapsed": false,
     "input": [
      "c_sigma.co"
     ],
     "language": "python",
     "metadata": {},
     "outputs": []
    },
    {
     "cell_type": "markdown",
     "metadata": {},
     "source": [
      "### Fazit:\n",
      "$\\bar c_{\\boldsymbol \\sigma}(l)$ h\u00e4ngt hier nicht von der Ableitungsordnung ab. Au\u00dferdem$\\bar c_{\\boldsymbol \\sigma}(l)$ verschieden von 0. Daraus folgt: **Das betrachtete System ist nicht flach.**"
     ]
    }
   ],
   "metadata": {}
  }
 ]
}