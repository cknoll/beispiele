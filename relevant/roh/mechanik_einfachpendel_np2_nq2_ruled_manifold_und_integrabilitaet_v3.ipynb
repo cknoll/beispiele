{
 "metadata": {
  "name": "",
  "signature": "sha256:6aee6eaa14444038814dae82610f68c4b8fee9e6e8c251244bc0c9b11f0f46bf"
 },
 "nbformat": 3,
 "nbformat_minor": 0,
 "worksheets": [
  {
   "cells": [
    {
     "cell_type": "code",
     "collapsed": false,
     "input": [
      "import time\n",
      "print time.ctime()\n",
      "%load_ext displaytools"
     ],
     "language": "python",
     "metadata": {},
     "outputs": [
      {
       "output_type": "stream",
       "stream": "stdout",
       "text": [
        "Mon Dec  7 19:53:36 2015\n"
       ]
      }
     ],
     "prompt_number": 2
    },
    {
     "cell_type": "markdown",
     "metadata": {},
     "source": [
      "Betrachtetes System: K\u00f6rper in der Ebene, vollst\u00e4ndig aktuiert (nq=2) daran ein Pendel und parallel dazu translatorisch elastisch gekoppelt ein weiterer K\u00f6rper.\n",
      "\n",
      "Bewegungsgleichungen -> Ruled-Manifold\n",
      "d--#Tags: #Konfigurationsflachheit #ruled-manifold #unteraktuiert"
     ]
    },
    {
     "cell_type": "code",
     "collapsed": false,
     "input": [
      "import sympy as sp\n",
      "from sympy import sin, cos, pi, Matrix\n",
      "from sympy.interactive import printing\n",
      "import model_tools as mt\n",
      "from model_tools import Rz\n",
      "import symb_tools as st\n",
      "from symb_tools import symbs_to_func\n",
      "import pycartan as pc"
     ],
     "language": "python",
     "metadata": {},
     "outputs": [],
     "prompt_number": 3
    },
    {
     "cell_type": "code",
     "collapsed": false,
     "input": [
      "np = 2\n",
      "nq = 2\n",
      "n = np + nq\n",
      "pp = st.symb_vector(\"p1:{0}\".format(np+1))\n",
      "qq = st.symb_vector(\"q1:{0}\".format(nq+1))\n",
      "\n",
      "theta = st.row_stack(pp, qq) ##\n",
      "mu = st.perform_time_derivative(theta, theta) ##\n",
      "mud = st.perform_time_derivative(theta, theta, order=2) ##\n",
      "mudd = st.perform_time_derivative(theta, theta, order=3) ##\n",
      "st.make_global(theta, 1)\n",
      "st.make_global(mu, 1)"
     ],
     "language": "python",
     "metadata": {},
     "outputs": [
      {
       "metadata": {},
       "output_type": "display_data",
       "text": [
        "Matrix([\n",
        "[p1],\n",
        "[p2],\n",
        "[q1],\n",
        "[q2]])"
       ]
      },
      {
       "output_type": "stream",
       "stream": "stdout",
       "text": [
        "---\n"
       ]
      },
      {
       "metadata": {},
       "output_type": "display_data",
       "text": [
        "Matrix([\n",
        "[pdot1],\n",
        "[pdot2],\n",
        "[qdot1],\n",
        "[qdot2]])"
       ]
      },
      {
       "output_type": "stream",
       "stream": "stdout",
       "text": [
        "---\n"
       ]
      },
      {
       "metadata": {},
       "output_type": "display_data",
       "text": [
        "Matrix([\n",
        "[pddot1],\n",
        "[pddot2],\n",
        "[qddot1],\n",
        "[qddot2]])"
       ]
      },
      {
       "output_type": "stream",
       "stream": "stdout",
       "text": [
        "---\n"
       ]
      },
      {
       "metadata": {},
       "output_type": "display_data",
       "text": [
        "Matrix([\n",
        "[pdddot1],\n",
        "[pdddot2],\n",
        "[qdddot1],\n",
        "[qdddot2]])"
       ]
      },
      {
       "output_type": "stream",
       "stream": "stdout",
       "text": [
        "---\n"
       ]
      }
     ],
     "prompt_number": 4
    },
    {
     "cell_type": "code",
     "collapsed": false,
     "input": [
      "params = sp.symbols('s3, c4, J3, m1, m2, m3, m4, g')\n",
      "st.make_global(params, 1)\n",
      "\n",
      "Q1, Q2 = QQ = st.symb_vector(\"Q1, Q2\")"
     ],
     "language": "python",
     "metadata": {},
     "outputs": [],
     "prompt_number": 5
    },
    {
     "cell_type": "markdown",
     "metadata": {},
     "source": [
      "### Festlegung der Geometrie des mechanischen Systemes"
     ]
    },
    {
     "cell_type": "code",
     "collapsed": false,
     "input": [
      "#Einheitsvektoren\n",
      "\n",
      "ex = sp.Matrix([1,0])\n",
      "ey = sp.Matrix([0,1])\n",
      "\n",
      "\n",
      "# Koordinaten der Schwerpunkte und Gelenke\n",
      "\n",
      "S1 = ex*q1\n",
      "S2 = ex*q1 + ey*q2\n",
      "G4 = G3 = S2 # Gelenke\n",
      "S3 = G3 + Rz(p1)*ey*s3*(-1)\n",
      "S4 = G4 + p2*ex\n",
      "\n",
      "# Zeitableitungen der Schwerpunktskoordinaten\n",
      "Sd1, Sd2, Sd3, Sd4  = st.col_split(st.perform_time_derivative(st.col_stack(S1, S2, S3, S4), theta)) ##\n",
      "# = st.perform_time_derivative(sp.Matrix([S1, S2, S3, S4]), theta)"
     ],
     "language": "python",
     "metadata": {},
     "outputs": [
      {
       "metadata": {},
       "output_type": "display_data",
       "text": [
        "Matrix([\n",
        "[qdot1],\n",
        "[    0]])"
       ]
      },
      {
       "metadata": {},
       "output_type": "display_data",
       "text": [
        "Matrix([\n",
        "[qdot1],\n",
        "[qdot2]])"
       ]
      },
      {
       "metadata": {},
       "output_type": "display_data",
       "text": [
        "Matrix([\n",
        "[pdot1*s3*cos(p1) + qdot1],\n",
        "[pdot1*s3*sin(p1) + qdot2]])"
       ]
      },
      {
       "metadata": {},
       "output_type": "display_data",
       "text": [
        "Matrix([\n",
        "[pdot2 + qdot1],\n",
        "[        qdot2]])"
       ]
      },
      {
       "output_type": "stream",
       "stream": "stdout",
       "text": [
        "---\n"
       ]
      }
     ],
     "prompt_number": 6
    },
    {
     "cell_type": "code",
     "collapsed": false,
     "input": [
      "# Energie\n",
      "T_rot = 0 # ( J3*pdot1**2 )/2\n",
      "T_trans = ( m1*Sd1.T*Sd1  +  m2*Sd2.T*Sd2 + m3*Sd3.T*Sd3 + m4*Sd4.T*Sd4 )/2\n",
      "\n",
      "T = T_rot + T_trans[0]\n",
      "\n",
      "V = m1*g*S1[1] + m2*g*S2[1] + m3*g*S3[1] + m4*g*S4[1] + c4/2*p2**2"
     ],
     "language": "python",
     "metadata": {},
     "outputs": [],
     "prompt_number": 11
    },
    {
     "cell_type": "code",
     "collapsed": false,
     "input": [
      "external_forces = [0, 0, Q1, Q2]\n",
      "assert not any(external_forces[:np])\n",
      "mod = mt.generate_symbolic_model(T, V, theta, external_forces)"
     ],
     "language": "python",
     "metadata": {},
     "outputs": [],
     "prompt_number": 12
    },
    {
     "cell_type": "code",
     "collapsed": false,
     "input": [
      "mod.eqns.simplify()"
     ],
     "language": "python",
     "metadata": {},
     "outputs": [],
     "prompt_number": 13
    },
    {
     "cell_type": "code",
     "collapsed": false,
     "input": [
      "print sp.latex(mod.eqns[:2,:].expand())"
     ],
     "language": "python",
     "metadata": {},
     "outputs": [
      {
       "output_type": "stream",
       "stream": "stdout",
       "text": [
        "\\left[\\begin{matrix}g m_{3} s_{3} \\sin{\\left (p_{1} \\right )} + m_{3} \\ddot{p}_{1} s_{3}^{2} + m_{3} \\ddot{q}_{1} s_{3} \\cos{\\left (p_{1} \\right )} + m_{3} \\ddot{q}_{2} s_{3} \\sin{\\left (p_{1} \\right )}\\\\c_{4} p_{2} + m_{4} \\ddot{p}_{2} + m_{4} \\ddot{q}_{1}\\end{matrix}\\right]\n"
       ]
      }
     ],
     "prompt_number": 18
    },
    {
     "cell_type": "code",
     "collapsed": false,
     "input": [
      "eqns = mod.eqns[:2, :]\n",
      "P0 = eqns.jacobian(theta) ##\n",
      "P1 = eqns.jacobian(mu) ##\n",
      "P2 = eqns.jacobian(mud) ##"
     ],
     "language": "python",
     "metadata": {},
     "outputs": [
      {
       "metadata": {},
       "output_type": "display_data",
       "text": [
        "Matrix([\n",
        "[m3*s3*(g*cos(p1) - qddot1*sin(p1) + qddot2*cos(p1)),  0, 0, 0],\n",
        "[                                                  0, c4, 0, 0]])"
       ]
      },
      {
       "output_type": "stream",
       "stream": "stdout",
       "text": [
        "---\n"
       ]
      },
      {
       "metadata": {},
       "output_type": "display_data",
       "text": [
        "Matrix([\n",
        "[0, 0, 0, 0],\n",
        "[0, 0, 0, 0]])"
       ]
      },
      {
       "output_type": "stream",
       "stream": "stdout",
       "text": [
        "---\n"
       ]
      },
      {
       "metadata": {},
       "output_type": "display_data",
       "text": [
        "Matrix([\n",
        "[m3*s3**2,  0, m3*s3*cos(p1), m3*s3*sin(p1)],\n",
        "[       0, m4,            m4,             0]])"
       ]
      },
      {
       "output_type": "stream",
       "stream": "stdout",
       "text": [
        "---\n"
       ]
      }
     ],
     "prompt_number": 22
    },
    {
     "cell_type": "code",
     "collapsed": false,
     "input": [
      "print sp.latex(P2.expand())"
     ],
     "language": "python",
     "metadata": {},
     "outputs": [
      {
       "output_type": "stream",
       "stream": "stdout",
       "text": [
        "\\left[\\begin{matrix}m_{3} s_{3}^{2} & 0 & m_{3} s_{3} \\cos{\\left (p_{1} \\right )} & m_{3} s_{3} \\sin{\\left (p_{1} \\right )}\\\\0 & m_{4} & m_{4} & 0\\end{matrix}\\right]\n"
       ]
      }
     ],
     "prompt_number": 30
    },
    {
     "cell_type": "code",
     "collapsed": false,
     "input": [],
     "language": "python",
     "metadata": {},
     "outputs": []
    },
    {
     "cell_type": "code",
     "collapsed": false,
     "input": [
      "import non_commutative_tools as nct"
     ],
     "language": "python",
     "metadata": {},
     "outputs": [],
     "prompt_number": 39
    },
    {
     "cell_type": "code",
     "collapsed": false,
     "input": [
      "#tmp -Rechnung\n",
      "\n",
      "x1, x2, s = sp.symbols('x1, x2, s', commutative=False)\n",
      "xx = sp.Matrix([x1, x2])\n",
      "xxdot = st.perform_time_derivative(xx, xx) ##\n",
      "st.make_global(xx, 1)\n",
      "st.make_global(xxdot, 1)\n",
      "\n",
      "M = sp.Matrix([[xdot1*s, s], [-xdot1, -1]]) ##\n",
      "\n"
     ],
     "language": "python",
     "metadata": {},
     "outputs": [
      {
       "metadata": {},
       "output_type": "display_data",
       "text": [
        "Matrix([\n",
        "[xdot1],\n",
        "[xdot2]])"
       ]
      },
      {
       "output_type": "stream",
       "stream": "stdout",
       "text": [
        "---\n"
       ]
      },
      {
       "metadata": {},
       "output_type": "display_data",
       "text": [
        "Matrix([\n",
        "[xdot1*s,  s],\n",
        "[ -xdot1, -1]])"
       ]
      },
      {
       "output_type": "stream",
       "stream": "stdout",
       "text": [
        "---\n"
       ]
      }
     ],
     "prompt_number": 42
    },
    {
     "cell_type": "code",
     "collapsed": false,
     "input": [
      "nct.unimod_inv(M, s, None, xx)"
     ],
     "language": "python",
     "metadata": {},
     "outputs": [
      {
       "metadata": {},
       "output_type": "pyout",
       "prompt_number": 43,
       "text": [
        "Matrix([\n",
        "[     -xddot1**(-1),           -xddot1**(-1)*s],\n",
        "[xdot1*xddot1**(-1), -1 + xdot1*xddot1**(-1)*s]])"
       ]
      }
     ],
     "prompt_number": 43
    },
    {
     "cell_type": "code",
     "collapsed": false,
     "input": [],
     "language": "python",
     "metadata": {},
     "outputs": []
    },
    {
     "cell_type": "code",
     "collapsed": false,
     "input": [],
     "language": "python",
     "metadata": {},
     "outputs": []
    },
    {
     "cell_type": "code",
     "collapsed": false,
     "input": [
      "mod.MM"
     ],
     "language": "python",
     "metadata": {},
     "outputs": [
      {
       "metadata": {},
       "output_type": "pyout",
       "prompt_number": 15,
       "text": [
        "Matrix([\n",
        "[     m3*s3**2,  0,     m3*s3*cos(p1), m3*s3*sin(p1)],\n",
        "[            0, m4,                m4,             0],\n",
        "[m3*s3*cos(p1), m4, m1 + m2 + m3 + m4,             0],\n",
        "[m3*s3*sin(p1),  0,                 0,  m2 + m3 + m4]])"
       ]
      }
     ],
     "prompt_number": 15
    },
    {
     "cell_type": "code",
     "collapsed": false,
     "input": [
      "mod.eq_list.jacobian([Q1, Q2])"
     ],
     "language": "python",
     "metadata": {},
     "outputs": [
      {
       "metadata": {},
       "output_type": "pyout",
       "prompt_number": 10,
       "text": [
        "Matrix([\n",
        "[ 0,  0],\n",
        "[ 0,  0],\n",
        "[-1,  0],\n",
        "[ 0, -1]])"
       ]
      }
     ],
     "prompt_number": 10
    },
    {
     "cell_type": "code",
     "collapsed": false,
     "input": [
      "mod.calc_lbi_nf_state_eq()"
     ],
     "language": "python",
     "metadata": {},
     "outputs": [],
     "prompt_number": 11
    },
    {
     "cell_type": "code",
     "collapsed": false,
     "input": [
      "mod.fz.simplify()"
     ],
     "language": "python",
     "metadata": {},
     "outputs": [],
     "prompt_number": 12
    },
    {
     "cell_type": "code",
     "collapsed": false,
     "input": [
      "fz4 = mod.fz[-np:, :] ##"
     ],
     "language": "python",
     "metadata": {},
     "outputs": [
      {
       "metadata": {},
       "output_type": "display_data",
       "text": [
        "Matrix([\n",
        "[m3*s3*(-g*(J3 + m3*s3**2)*sin(p1) + (qdot1*sin(p1) - qdot2*cos(p1))*(m3*qdot1*s3*cos(p1) + m3*qdot2*s3*sin(p1) - w1*(J3 + m3*s3**2)))/(J3 + m3*s3**2)**2],\n",
        "[                                                                                                                                               -c4*p2/m4]])"
       ]
      },
      {
       "output_type": "stream",
       "stream": "stdout",
       "text": [
        "---\n"
       ]
      }
     ],
     "prompt_number": 13
    },
    {
     "cell_type": "code",
     "collapsed": false,
     "input": [
      "qqd = st.perform_time_derivative(qq, qq)\n",
      "H1 = sp.hessian(fz4[0], qqd) ##\n",
      "H2 = sp.hessian(fz4[1], qqd) ##"
     ],
     "language": "python",
     "metadata": {},
     "outputs": [
      {
       "metadata": {},
       "output_type": "display_data",
       "text": [
        "Matrix([\n",
        "[              2*m3**2*s3**2*sin(p1)*cos(p1)/(J3 + m3*s3**2)**2, m3*s3*(m3*s3*sin(p1)**2 - m3*s3*cos(p1)**2)/(J3 + m3*s3**2)**2],\n",
        "[m3*s3*(m3*s3*sin(p1)**2 - m3*s3*cos(p1)**2)/(J3 + m3*s3**2)**2,              -2*m3**2*s3**2*sin(p1)*cos(p1)/(J3 + m3*s3**2)**2]])"
       ]
      },
      {
       "output_type": "stream",
       "stream": "stdout",
       "text": [
        "---\n"
       ]
      },
      {
       "metadata": {},
       "output_type": "display_data",
       "text": [
        "Matrix([\n",
        "[0, 0],\n",
        "[0, 0]])"
       ]
      },
      {
       "output_type": "stream",
       "stream": "stdout",
       "text": [
        "---\n"
       ]
      }
     ],
     "prompt_number": 14
    },
    {
     "cell_type": "code",
     "collapsed": false,
     "input": [
      "# Zur Vereinfachung: mit konstantem Faktor multiplizieren\n",
      "h1 = H1*((m3*s3**2 +J3)/(m3*s3))**2\n",
      "h1.simplify()\n",
      "h1"
     ],
     "language": "python",
     "metadata": {},
     "outputs": [
      {
       "metadata": {},
       "output_type": "pyout",
       "prompt_number": 15,
       "text": [
        "Matrix([\n",
        "[ sin(2*p1), -cos(2*p1)],\n",
        "[-cos(2*p1), -sin(2*p1)]])"
       ]
      }
     ],
     "prompt_number": 15
    },
    {
     "cell_type": "code",
     "collapsed": false,
     "input": [
      "ev1 = st.nullspaceMatrix(h1 + sp.eye(2)) ##\n",
      "ev2 = st.nullspaceMatrix(h1 - sp.eye(2)) ##"
     ],
     "language": "python",
     "metadata": {},
     "outputs": [
      {
       "metadata": {},
       "output_type": "display_data",
       "text": [
        "Matrix([\n",
        "[    cos(2*p1)],\n",
        "[sin(2*p1) + 1]])"
       ]
      },
      {
       "output_type": "stream",
       "stream": "stdout",
       "text": [
        "---\n"
       ]
      },
      {
       "metadata": {},
       "output_type": "display_data",
       "text": [
        "Matrix([\n",
        "[    cos(2*p1)],\n",
        "[sin(2*p1) - 1]])"
       ]
      },
      {
       "output_type": "stream",
       "stream": "stdout",
       "text": [
        "---\n"
       ]
      }
     ],
     "prompt_number": 16
    },
    {
     "cell_type": "markdown",
     "metadata": {},
     "source": [
      "### Zwischenfazit:\n",
      "Die Ruled-Manifold-Bedingung ist f\u00fcr dieses Beispiel erf\u00fcllt.\n",
      "\n",
      "---\n",
      "\n",
      "Jetzt wird die Integrabilit\u00e4tsbedingung getestet\n"
     ]
    },
    {
     "cell_type": "code",
     "collapsed": false,
     "input": [
      "# nur die nicht-aktuierten Gleichungen ausw\u00e4hlen\n",
      "eq = mod.eq_list[:2, :]\n",
      "eq.simplify()"
     ],
     "language": "python",
     "metadata": {},
     "outputs": [],
     "prompt_number": 17
    },
    {
     "cell_type": "code",
     "collapsed": false,
     "input": [
      "P2 = eq.jacobian(mud) ##\n",
      "P1 = eq.jacobian(mu) ##\n",
      "P0 = eq.jacobian(theta) ##"
     ],
     "language": "python",
     "metadata": {},
     "outputs": [
      {
       "metadata": {},
       "output_type": "display_data",
       "text": [
        "Matrix([\n",
        "[J3 + m3*s3**2,  0, m3*s3*cos(p1), m3*s3*sin(p1)],\n",
        "[            0, m4,            m4,             0]])"
       ]
      },
      {
       "output_type": "stream",
       "stream": "stdout",
       "text": [
        "---\n"
       ]
      },
      {
       "metadata": {},
       "output_type": "display_data",
       "text": [
        "Matrix([\n",
        "[0, 0, 0, 0],\n",
        "[0, 0, 0, 0]])"
       ]
      },
      {
       "output_type": "stream",
       "stream": "stdout",
       "text": [
        "---\n"
       ]
      },
      {
       "metadata": {},
       "output_type": "display_data",
       "text": [
        "Matrix([\n",
        "[g*m3*s3*cos(p1) - m3*qddot1*s3*sin(p1) + m3*qddot2*s3*cos(p1),  0, 0, 0],\n",
        "[                                                            0, c4, 0, 0]])"
       ]
      },
      {
       "output_type": "stream",
       "stream": "stdout",
       "text": [
        "---\n"
       ]
      }
     ],
     "prompt_number": 18
    },
    {
     "cell_type": "code",
     "collapsed": false,
     "input": [
      "print eq"
     ],
     "language": "python",
     "metadata": {},
     "outputs": [
      {
       "output_type": "stream",
       "stream": "stdout",
       "text": [
        "Matrix([[J3*pddot1 + g*m3*s3*sin(p1) + m3*pddot1*s3**2 + m3*qddot1*s3*cos(p1) + m3*qddot2*s3*sin(p1)], [c4*p2 + m4*(pddot2 + qddot1)]])\n"
       ]
      }
     ],
     "prompt_number": 19
    },
    {
     "cell_type": "code",
     "collapsed": false,
     "input": [
      "# Dieses Rechnung stammt noch von dem parallelen Zweifachpendel.\n",
      "# Einige der eingef\u00fchrten Parameter sind \u00fcberfl\u00fcssig oder konstant\n",
      "\n",
      "\n",
      "Neq = np\n",
      "Nin = nq\n",
      "Ndf = np + nq\n",
      "\n",
      "eq_coeffsA = []\n",
      "eq_coeffsB = []\n",
      "eq_coeffsC = []\n",
      "\n",
      "all_coeffs = []\n",
      "# iterieren \u00fcber die Gleichungen\n",
      "for i in xrange(Neq):\n",
      "    coeffsA = []\n",
      "    coeffsB = []\n",
      "    coeffsC = []\n",
      "    coeffs = []\n",
      "    # iterieren \u00fcber die einzelnen Freiheitsgrade\n",
      "    for j in xrange(Ndf):\n",
      "        # drei Ableitungsordnungen\n",
      "        A = sp.Symbol(\"A%i_%i\" % (i + 1, j + 1))\n",
      "        B = sp.Symbol(\"B%i_%i\" % (i + 1, j + 1))\n",
      "        C = sp.Symbol(\"C%i_%i\" % (i + 1, j + 1))\n",
      "        \n",
      "        coeffsA.append(A)\n",
      "        coeffsB.append(B)\n",
      "        coeffsC.append(C)\n",
      "        \n",
      "        coeffs.extend([A, B, C])\n",
      "     \n",
      "     # jede Gleichung bekommt eine separate Liste\n",
      "    eq_coeffsA.append(coeffsA)\n",
      "    eq_coeffsB.append(coeffsB)\n",
      "    eq_coeffsC.append(coeffsC)\n",
      "     \n",
      "    all_coeffs.extend(coeffs)\n",
      "\n",
      "ac = sp.Matrix(all_coeffs)\n",
      "ac_d = st.perform_time_derivative(ac, ac)\n",
      "ac_dd = st.perform_time_derivative(ac, ac, order=2)\n",
      "st.make_global(st.row_stack(ac, ac_d, ac_dd), 1)\n",
      "\n",
      "AA = sp.Matrix([[A1_1, 0, 0, 0], [0, A2_2, 0, 0]])\n",
      "BB = sp.zeros(Neq, Ndf)\n",
      "CC = sp.Matrix([[C1_1, 0, C1_3, C1_4], [0, C2_2, C2_3, C2_4]])"
     ],
     "language": "python",
     "metadata": {},
     "outputs": [],
     "prompt_number": 20
    },
    {
     "cell_type": "code",
     "collapsed": false,
     "input": [
      "# Ergebnis des Franke-Algorithmus laden\n",
      "\n",
      "import pickle\n",
      "fname = \"Q_matrix_einfachpendel_np2_nq2.pcl\"\n",
      "with open(fname, 'r') as pfile:\n",
      "    Q = pickle.load(pfile)\n",
      "    Q.simplify()"
     ],
     "language": "python",
     "metadata": {},
     "outputs": [],
     "prompt_number": 22
    },
    {
     "cell_type": "code",
     "collapsed": false,
     "input": [
      "Q.co"
     ],
     "language": "python",
     "metadata": {},
     "outputs": [
      {
       "metadata": {},
       "output_type": "pyout",
       "prompt_number": 23,
       "text": [
        "Matrix([\n",
        "[0,  0, 0,  0, 0,  0,  0, 0],\n",
        "[7, 12, 0, 11, 7, 15, 19, 7]])"
       ]
      }
     ],
     "prompt_number": 23
    },
    {
     "cell_type": "code",
     "collapsed": false,
     "input": [
      "used_coeffs = sorted(list(AA.s.union(CC.s)), key=str)"
     ],
     "language": "python",
     "metadata": {},
     "outputs": [],
     "prompt_number": 24
    },
    {
     "cell_type": "code",
     "collapsed": false,
     "input": [
      "# Parameter Aij und Cij durch die tats\u00e4chlichen Ausdr\u00fccke ersetzen\n",
      "para1 = sp.solve(P0-AA, AA.s).items()\n",
      "para2 = sp.solve(P2-CC, CC.s).items()\n",
      "para = para1 + para2\n",
      "para.sort(key=str) # sortieren f\u00fcr die Anzeige \n",
      "\n",
      "# \"time dependent symbols\"\n",
      "tds = used_coeffs + list(theta) + list(mu)"
     ],
     "language": "python",
     "metadata": {},
     "outputs": [],
     "prompt_number": 25
    },
    {
     "cell_type": "code",
     "collapsed": false,
     "input": [
      "Mpara = sp.Matrix(para)\n",
      "Mpara = st.row_stack(Mpara, st.perform_time_derivative(Mpara, tds), st.perform_time_derivative(Mpara, tds, order=2))\n",
      "\n",
      "# 1. Spalte enth\u00e4lt Symbole, 2. die zugeh\u00f6rigen Ausdr\u00fccke\n",
      "Mpara[:10, :]"
     ],
     "language": "python",
     "metadata": {},
     "outputs": [
      {
       "metadata": {},
       "output_type": "pyout",
       "prompt_number": 26,
       "text": [
        "Matrix([\n",
        "[   A1_1,                                                        m3*s3*(g*cos(p1) - qddot1*sin(p1) + qddot2*cos(p1))],\n",
        "[   A2_2,                                                                                                         c4],\n",
        "[   C1_1,                                                                                              J3 + m3*s3**2],\n",
        "[   C1_3,                                                                                              m3*s3*cos(p1)],\n",
        "[   C1_4,                                                                                              m3*s3*sin(p1)],\n",
        "[   C2_2,                                                                                                         m4],\n",
        "[   C2_3,                                                                                                         m4],\n",
        "[   C2_4,                                                                                                          0],\n",
        "[A1_dot1, m3*s3*(-g*pdot1*sin(p1) - pdot1*qddot1*cos(p1) - pdot1*qddot2*sin(p1) - qdddot1*sin(p1) + qdddot2*cos(p1))],\n",
        "[A2_dot2,                                                                                                          0]])"
       ]
      }
     ],
     "prompt_number": 26
    },
    {
     "cell_type": "code",
     "collapsed": false,
     "input": [
      "# Die Originalen Ausdr\u00fccke in die Matrix mit den Platzhalter-Symbolen einsetzen\n",
      "Qs = Q.subs(zip(Mpara[:,0], Mpara[:,1]))"
     ],
     "language": "python",
     "metadata": {},
     "outputs": [],
     "prompt_number": 27
    },
    {
     "cell_type": "code",
     "collapsed": false,
     "input": [
      "%time Qs.simplify()"
     ],
     "language": "python",
     "metadata": {},
     "outputs": [
      {
       "output_type": "stream",
       "stream": "stdout",
       "text": [
        "CPU times: user 15.9 s, sys: 28 ms, total: 15.9 s\n",
        "Wall time: 15.9 s\n"
       ]
      }
     ],
     "prompt_number": 28
    },
    {
     "cell_type": "code",
     "collapsed": false,
     "input": [
      "Qs.srnp"
     ],
     "language": "python",
     "metadata": {},
     "outputs": [
      {
       "metadata": {},
       "output_type": "pyout",
       "prompt_number": 29,
       "text": [
        "Matrix([\n",
        "[                   0,                  19.0, 19.0,                     0,                     0,                     0,                     0,                    0],\n",
        "[9.06906007370983e+18, -4.59945666087278e+17,    0, -1.26313657408201e+18, -2.85217789663495e+17, -5.35254762420675e+19, -5.35116712366088e+19, 2.19244619855089e+16]])"
       ]
      }
     ],
     "prompt_number": 29
    },
    {
     "cell_type": "code",
     "collapsed": false,
     "input": [
      "Qs[0,:] ##\n",
      "Qs[1,:]"
     ],
     "language": "python",
     "metadata": {},
     "outputs": [
      {
       "metadata": {},
       "output_type": "display_data",
       "text": [
        "Matrix([[0, m4, m4, 0, 0, 0, 0, 0]])"
       ]
      },
      {
       "output_type": "stream",
       "stream": "stdout",
       "text": [
        "___\n"
       ]
      },
      {
       "metadata": {},
       "output_type": "pyout",
       "prompt_number": 30,
       "text": [
        "Matrix([[c4*m3**2*m4*s3**2*(J3 + m3*s3**2)*(m3*s3*(g*sin(2*p1) + qddot1*cos(2*p1) - qddot1 + qddot2*sin(2*p1))/2 + (-J3 - m3*s3**2)*(pddot1*cos(p1) - pdot1**2*sin(p1)))*sin(p1), c4*m3**3*m4*s3**3*(-m3*s3*(g*sin(2*p1) + qddot1*cos(2*p1) - qddot1 + qddot2*sin(2*p1))/2 + 2*pdot1**2*(J3 + m3*s3**2)*sin(p1) + (J3 + m3*s3**2)*(pddot1*cos(p1) - pdot1**2*sin(p1)))*sin(p1)*cos(p1), 0, c4*m3**3*m4*s3**3*(2*pdot1**2*(J3 + m3*s3**2)*cos(p1)**2 + (m3*s3*(g*sin(2*p1) + qddot1*cos(2*p1) - qddot1 + qddot2*sin(2*p1))/2 + (-J3 - m3*s3**2)*(pddot1*cos(p1) - pdot1**2*sin(p1)))*sin(p1))*sin(p1), -c4*m3**2*m4*pdot1*s3**2*(J3 + m3*s3**2)**2*sin(2*p1), 2*m3**3*m4**2*pdot1*s3**3*(J3*pdot1**2 + g*m3*s3*cos(p1) + m3*pdot1**2*s3**2 - m3*qddot1*s3*sin(p1) + m3*qddot2*s3*cos(p1))*sin(p1), -2*m3**3*m4*pdot1*s3**3*(c4*(J3 + m3*s3**2)*cos(p1)**2 - m4*(J3*pdot1**2 + g*m3*s3*cos(p1) + m3*pdot1**2*s3**2 - m3*qddot1*s3*sin(p1) + m3*qddot2*s3*cos(p1)))*sin(p1), -2*c4*m3**3*m4*pdot1*s3**3*(J3 + m3*s3**2)*sin(p1)**2*cos(p1)]])"
       ]
      }
     ],
     "prompt_number": 30
    },
    {
     "cell_type": "code",
     "collapsed": false,
     "input": [
      "Qs.s"
     ],
     "language": "python",
     "metadata": {},
     "outputs": [
      {
       "metadata": {},
       "output_type": "pyout",
       "prompt_number": 31,
       "text": [
        "{qddot1, J3, pdot1, c4, qddot2, m4, p1, pddot1, m3, g, s3}"
       ]
      }
     ],
     "prompt_number": 31
    },
    {
     "cell_type": "code",
     "collapsed": false,
     "input": [
      "ppx = st.row_stack(theta, mu, mud, mudd)"
     ],
     "language": "python",
     "metadata": {},
     "outputs": [],
     "prompt_number": 30
    },
    {
     "cell_type": "code",
     "collapsed": false,
     "input": [
      "Q_ = st.col_stack(Qs, sp.zeros(nq, n*2))\n",
      "\n",
      "P_ = st.col_stack(P0, P1, P2, sp.zeros(np, n))\n",
      "w1 = pc.DifferentialForm(1, ppx, coeff=Q_[0, :])\n",
      "w2 = pc.DifferentialForm(1, ppx, coeff=Q_[1, :])\n",
      "dF1 = pc.DifferentialForm(1, ppx, coeff=P_[0, :])\n",
      "dF2 = pc.DifferentialForm(1, ppx, coeff=P_[1, :])"
     ],
     "language": "python",
     "metadata": {},
     "outputs": [],
     "prompt_number": 31
    },
    {
     "cell_type": "code",
     "collapsed": false,
     "input": [
      "rho = []\n",
      "for elt in ppx:\n",
      "    rho.append(pc.d(elt, ppx))"
     ],
     "language": "python",
     "metadata": {},
     "outputs": [],
     "prompt_number": 32
    },
    {
     "cell_type": "code",
     "collapsed": false,
     "input": [
      "rho[10]"
     ],
     "language": "python",
     "metadata": {},
     "outputs": [
      {
       "metadata": {},
       "output_type": "pyout",
       "prompt_number": 33,
       "text": [
        "(1) dqddot1"
       ]
      }
     ],
     "prompt_number": 33
    },
    {
     "cell_type": "code",
     "collapsed": false,
     "input": [
      "w1.d"
     ],
     "language": "python",
     "metadata": {},
     "outputs": [
      {
       "metadata": {},
       "output_type": "pyout",
       "prompt_number": 34,
       "text": [
        "0"
       ]
      }
     ],
     "prompt_number": 34
    },
    {
     "cell_type": "code",
     "collapsed": false,
     "input": [
      "w_dot1 = w1.dot()\n",
      "w_ddot1 = w_dot1.dot()\n",
      "\n",
      "w_dot2 = w2.dot() # Ordnung 2 bez\u00fcglich der Basis theta"
     ],
     "language": "python",
     "metadata": {},
     "outputs": [],
     "prompt_number": 35
    },
    {
     "cell_type": "code",
     "collapsed": false,
     "input": [
      "Xi1 = w2.d^w1^w2^w1.dot()"
     ],
     "language": "python",
     "metadata": {},
     "outputs": [],
     "prompt_number": 36
    },
    {
     "cell_type": "code",
     "collapsed": false,
     "input": [
      "Gamma2 = w_dot2^w_ddot1^dF1^dF2\n",
      "Gamma3 = w_dot2.dot()^w_ddot1.dot()^dF1.dot()^dF2.dot()"
     ],
     "language": "python",
     "metadata": {},
     "outputs": [],
     "prompt_number": 37
    },
    {
     "cell_type": "code",
     "collapsed": true,
     "input": [
      "# dauert ca 10 min:\n",
      "# das 3011. Index-Tupel passt.\n",
      "\n",
      "R = pc.DifferentialForm(8, ppx)\n",
      "\n",
      "for idcs in R.indices[3000:]:\n",
      "    \n",
      "    # abk\u00fcrzung:\n",
      "    #idcs = (0, 2, 3, 4, 5, 6, 8, 9)\n",
      "    if max(idcs) > 11:\n",
      "        continue\n",
      "    R = R*0\n",
      "    R[idcs] = 1\n",
      "    tmp = R^Gamma2\n",
      "    if abs(tmp.coeff.srn[0]) > 1e-10:\n",
      "        print idcs\n",
      "        tmp2 = tmp^Gamma3\n",
      "        if abs(tmp2.coeff.srn[0]) > 1e-10:\n",
      "            print \"passt\"\n",
      "            break\n",
      "        \n"
     ],
     "language": "python",
     "metadata": {},
     "outputs": [
      {
       "output_type": "stream",
       "stream": "stdout",
       "text": [
        "(0, 2, 3, 4, 5, 6, 8, 9)\n",
        "(0, 2, 3, 4, 5, 6, 8, 10)"
       ]
      },
      {
       "output_type": "stream",
       "stream": "stdout",
       "text": [
        "\n",
        "(0, 2, 3, 4, 5, 6, 8, 11)"
       ]
      },
      {
       "output_type": "stream",
       "stream": "stdout",
       "text": [
        "\n",
        "(0, 2, 3, 4, 5, 6, 9, 11)"
       ]
      },
      {
       "output_type": "stream",
       "stream": "stdout",
       "text": [
        "\n",
        "(0, 2, 3, 4, 5, 6, 10, 11)"
       ]
      },
      {
       "output_type": "stream",
       "stream": "stdout",
       "text": [
        "\n",
        "(0, 2, 3, 4, 5, 7, 8, 9)"
       ]
      },
      {
       "output_type": "stream",
       "stream": "stdout",
       "text": [
        "\n",
        "(0, 2, 3, 4, 5, 7, 8, 10)"
       ]
      },
      {
       "output_type": "stream",
       "stream": "stdout",
       "text": [
        "\n",
        "(0, 2, 3, 4, 5, 7, 8, 11)"
       ]
      },
      {
       "output_type": "stream",
       "stream": "stdout",
       "text": [
        "\n",
        "(0, 2, 3, 4, 5, 7, 9, 11)"
       ]
      },
      {
       "output_type": "stream",
       "stream": "stdout",
       "text": [
        "\n",
        "(0, 2, 3, 4, 5, 7, 10, 11)"
       ]
      },
      {
       "output_type": "stream",
       "stream": "stdout",
       "text": [
        "\n",
        "(0, 2, 3, 4, 6, 7, 8, 9)"
       ]
      },
      {
       "output_type": "stream",
       "stream": "stdout",
       "text": [
        "\n",
        "(0, 2, 3, 4, 6, 7, 8, 10)"
       ]
      },
      {
       "output_type": "stream",
       "stream": "stdout",
       "text": [
        "\n",
        "(0, 2, 3, 4, 6, 7, 8, 11)"
       ]
      },
      {
       "output_type": "stream",
       "stream": "stdout",
       "text": [
        "\n",
        "(0, 2, 3, 4, 6, 7, 9, 11)"
       ]
      },
      {
       "output_type": "stream",
       "stream": "stdout",
       "text": [
        "\n",
        "(0, 2, 3, 4, 6, 7, 10, 11)"
       ]
      },
      {
       "output_type": "stream",
       "stream": "stdout",
       "text": [
        "\n",
        "(0, 2, 3, 5, 6, 7, 8, 9)"
       ]
      },
      {
       "output_type": "stream",
       "stream": "stdout",
       "text": [
        "\n",
        "(0, 2, 3, 5, 6, 7, 8, 10)"
       ]
      },
      {
       "output_type": "stream",
       "stream": "stdout",
       "text": [
        "\n",
        "(0, 2, 3, 5, 6, 7, 8, 11)"
       ]
      },
      {
       "output_type": "stream",
       "stream": "stdout",
       "text": [
        "\n",
        "(0, 2, 3, 5, 6, 7, 9, 11)"
       ]
      },
      {
       "output_type": "stream",
       "stream": "stdout",
       "text": [
        "\n",
        "(0, 2, 3, 5, 6, 7, 10, 11)"
       ]
      },
      {
       "output_type": "stream",
       "stream": "stdout",
       "text": [
        "\n",
        "(0, 2, 4, 5, 6, 7, 8, 9)"
       ]
      },
      {
       "output_type": "stream",
       "stream": "stdout",
       "text": [
        "\n",
        "(0, 2, 4, 5, 6, 7, 8, 10)"
       ]
      },
      {
       "output_type": "stream",
       "stream": "stdout",
       "text": [
        "\n",
        "(0, 2, 4, 5, 6, 7, 8, 11)"
       ]
      },
      {
       "output_type": "stream",
       "stream": "stdout",
       "text": [
        "\n",
        "(0, 2, 4, 5, 6, 7, 9, 11)"
       ]
      },
      {
       "output_type": "stream",
       "stream": "stdout",
       "text": [
        "\n",
        "(0, 2, 4, 5, 6, 7, 10, 11)"
       ]
      },
      {
       "output_type": "stream",
       "stream": "stdout",
       "text": [
        "\n",
        "(2, 3, 4, 5, 6, 7, 8, 9)"
       ]
      },
      {
       "output_type": "stream",
       "stream": "stdout",
       "text": [
        "\n",
        "(2, 3, 4, 5, 6, 7, 8, 10)"
       ]
      },
      {
       "output_type": "stream",
       "stream": "stdout",
       "text": [
        "\n",
        "(2, 3, 4, 5, 6, 7, 8, 11)"
       ]
      },
      {
       "output_type": "stream",
       "stream": "stdout",
       "text": [
        "\n",
        "(2, 3, 4, 5, 6, 7, 9, 11)"
       ]
      },
      {
       "output_type": "stream",
       "stream": "stdout",
       "text": [
        "\n",
        "(2, 3, 4, 5, 6, 7, 10, 11)"
       ]
      },
      {
       "output_type": "stream",
       "stream": "stdout",
       "text": [
        "\n",
        "(2, 3, 4, 5, 6, 8, 9, 11)"
       ]
      },
      {
       "output_type": "stream",
       "stream": "stdout",
       "text": [
        "\n",
        "(2, 3, 4, 5, 6, 8, 10, 11)"
       ]
      },
      {
       "output_type": "stream",
       "stream": "stdout",
       "text": [
        "\n",
        "(2, 3, 4, 5, 7, 8, 9, 11)"
       ]
      },
      {
       "output_type": "stream",
       "stream": "stdout",
       "text": [
        "\n",
        "(2, 3, 4, 5, 7, 8, 10, 11)"
       ]
      },
      {
       "output_type": "stream",
       "stream": "stdout",
       "text": [
        "\n",
        "(2, 3, 4, 6, 7, 8, 9, 11)"
       ]
      },
      {
       "output_type": "stream",
       "stream": "stdout",
       "text": [
        "\n",
        "(2, 3, 4, 6, 7, 8, 10, 11)"
       ]
      },
      {
       "output_type": "stream",
       "stream": "stdout",
       "text": [
        "\n",
        "(2, 3, 5, 6, 7, 8, 9, 11)"
       ]
      },
      {
       "output_type": "stream",
       "stream": "stdout",
       "text": [
        "\n",
        "(2, 3, 5, 6, 7, 8, 10, 11)"
       ]
      },
      {
       "output_type": "stream",
       "stream": "stdout",
       "text": [
        "\n",
        "(2, 4, 5, 6, 7, 8, 9, 11)"
       ]
      },
      {
       "output_type": "stream",
       "stream": "stdout",
       "text": [
        "\n",
        "(2, 4, 5, 6, 7, 8, 10, 11)"
       ]
      },
      {
       "output_type": "stream",
       "stream": "stdout",
       "text": [
        "\n"
       ]
      }
     ],
     "prompt_number": 38
    },
    {
     "cell_type": "code",
     "collapsed": false,
     "input": [
      "z = (Gamma2^Gamma3)"
     ],
     "language": "python",
     "metadata": {},
     "outputs": [],
     "prompt_number": 39
    },
    {
     "cell_type": "code",
     "collapsed": false,
     "input": [
      "Xi2 = Xi1^Gamma2"
     ],
     "language": "python",
     "metadata": {},
     "outputs": [],
     "prompt_number": 40
    },
    {
     "cell_type": "code",
     "collapsed": false,
     "input": [
      "nzt = Xi2.nonzero_tuples()\n",
      "\n",
      "# dauert ziemlich lange\n",
      "nzt = [tup for tup in nzt if abs(tup[0].srn) > 1e-20]"
     ],
     "language": "python",
     "metadata": {},
     "outputs": [],
     "prompt_number": 41
    },
    {
     "cell_type": "code",
     "collapsed": false,
     "input": [
      "len(nzt) # ergibt 20"
     ],
     "language": "python",
     "metadata": {},
     "outputs": [
      {
       "metadata": {},
       "output_type": "pyout",
       "prompt_number": 42,
       "text": [
        "20"
       ]
      }
     ],
     "prompt_number": 42
    },
    {
     "cell_type": "code",
     "collapsed": false,
     "input": [
      "Xi3 = Xi1^z"
     ],
     "language": "python",
     "metadata": {},
     "outputs": [],
     "prompt_number": 43
    },
    {
     "cell_type": "code",
     "collapsed": false,
     "input": [
      "Xi1.degree"
     ],
     "language": "python",
     "metadata": {},
     "outputs": [
      {
       "metadata": {},
       "output_type": "pyout",
       "prompt_number": 59,
       "text": [
        "5"
       ]
      }
     ],
     "prompt_number": 59
    },
    {
     "cell_type": "code",
     "collapsed": false,
     "input": [
      "Xi1.num_coeff"
     ],
     "language": "python",
     "metadata": {},
     "outputs": [
      {
       "metadata": {},
       "output_type": "pyout",
       "prompt_number": 57,
       "text": [
        "4368"
       ]
      }
     ],
     "prompt_number": 57
    },
    {
     "cell_type": "code",
     "collapsed": false,
     "input": [
      "sp.binomial(12, 9)"
     ],
     "language": "python",
     "metadata": {},
     "outputs": [
      {
       "metadata": {},
       "output_type": "pyout",
       "prompt_number": 64,
       "text": [
        "220"
       ]
      }
     ],
     "prompt_number": 64
    },
    {
     "cell_type": "code",
     "collapsed": false,
     "input": [],
     "language": "python",
     "metadata": {},
     "outputs": []
    },
    {
     "cell_type": "code",
     "collapsed": false,
     "input": [
      "zip(*nzt)[1]"
     ],
     "language": "python",
     "metadata": {},
     "outputs": [
      {
       "metadata": {},
       "output_type": "pyout",
       "prompt_number": 53,
       "text": [
        "((0, 1, 2, 3, 4, 5, 6, 8, 9),\n",
        " (0, 1, 2, 3, 4, 5, 6, 8, 10),\n",
        " (0, 1, 2, 3, 4, 5, 6, 9, 10),\n",
        " (0, 1, 2, 3, 4, 5, 6, 9, 11),\n",
        " (0, 1, 2, 3, 4, 5, 6, 10, 11),\n",
        " (0, 1, 2, 3, 4, 5, 7, 8, 9),\n",
        " (0, 1, 2, 3, 4, 5, 7, 8, 10),\n",
        " (0, 1, 2, 3, 4, 5, 7, 9, 10),\n",
        " (0, 1, 2, 3, 4, 5, 7, 9, 11),\n",
        " (0, 1, 2, 3, 4, 5, 7, 10, 11),\n",
        " (0, 1, 2, 3, 4, 6, 7, 8, 9),\n",
        " (0, 1, 2, 3, 4, 6, 7, 8, 10),\n",
        " (0, 1, 2, 3, 4, 6, 7, 9, 10),\n",
        " (0, 1, 2, 3, 4, 6, 7, 9, 11),\n",
        " (0, 1, 2, 3, 4, 6, 7, 10, 11),\n",
        " (0, 1, 2, 3, 5, 6, 7, 8, 9),\n",
        " (0, 1, 2, 3, 5, 6, 7, 8, 10),\n",
        " (0, 1, 2, 3, 5, 6, 7, 9, 10),\n",
        " (0, 1, 2, 3, 5, 6, 7, 9, 11),\n",
        " (0, 1, 2, 3, 5, 6, 7, 10, 11))"
       ]
      }
     ],
     "prompt_number": 53
    },
    {
     "cell_type": "code",
     "collapsed": false,
     "input": [
      "# welche anderen Tupel gibt es noch, die 2mal die h\u00f6chste AO drin haben?\n",
      "\n"
     ],
     "language": "python",
     "metadata": {},
     "outputs": []
    },
    {
     "cell_type": "code",
     "collapsed": false,
     "input": [],
     "language": "python",
     "metadata": {},
     "outputs": []
    },
    {
     "cell_type": "code",
     "collapsed": false,
     "input": [],
     "language": "python",
     "metadata": {},
     "outputs": []
    },
    {
     "cell_type": "code",
     "collapsed": false,
     "input": [],
     "language": "python",
     "metadata": {},
     "outputs": []
    },
    {
     "cell_type": "code",
     "collapsed": false,
     "input": [],
     "language": "python",
     "metadata": {},
     "outputs": []
    },
    {
     "cell_type": "code",
     "collapsed": false,
     "input": [],
     "language": "python",
     "metadata": {},
     "outputs": []
    },
    {
     "cell_type": "code",
     "collapsed": false,
     "input": [
      "nzt3a = Xi3.nonzero_tuples()\n",
      "\n",
      "# dauert lange (mehr als 30min)\n",
      "# Es kommt raus, dass alle Ausdr\u00fccke verschwinden\n",
      "nzt3 = []\n",
      "for i, tup in enumerate(nzt3a):\n",
      "    if abs(tup[0].srn) > 1e-20:\n",
      "        nzt3.append(tup)\n",
      "    if (i % 10) == 0:\n",
      "        print i, \"/\", len(nzt3a)\n"
     ],
     "language": "python",
     "metadata": {},
     "outputs": [
      {
       "output_type": "stream",
       "stream": "stdout",
       "text": [
        "0 /560\n",
        "10"
       ]
      },
      {
       "output_type": "stream",
       "stream": "stdout",
       "text": [
        " /560\n",
        "20"
       ]
      },
      {
       "output_type": "stream",
       "stream": "stdout",
       "text": [
        " /560\n",
        "30"
       ]
      },
      {
       "output_type": "stream",
       "stream": "stdout",
       "text": [
        " /560\n",
        "40"
       ]
      },
      {
       "output_type": "stream",
       "stream": "stdout",
       "text": [
        " /560\n",
        "50"
       ]
      },
      {
       "output_type": "stream",
       "stream": "stdout",
       "text": [
        " /560\n",
        "60"
       ]
      },
      {
       "output_type": "stream",
       "stream": "stdout",
       "text": [
        " /560\n",
        "70"
       ]
      },
      {
       "output_type": "stream",
       "stream": "stdout",
       "text": [
        " /560\n",
        "80"
       ]
      },
      {
       "output_type": "stream",
       "stream": "stdout",
       "text": [
        " /560\n",
        "90"
       ]
      },
      {
       "output_type": "stream",
       "stream": "stdout",
       "text": [
        " /560\n",
        "100"
       ]
      },
      {
       "output_type": "stream",
       "stream": "stdout",
       "text": [
        " /560\n",
        "110"
       ]
      },
      {
       "output_type": "stream",
       "stream": "stdout",
       "text": [
        " /560\n",
        "120"
       ]
      },
      {
       "output_type": "stream",
       "stream": "stdout",
       "text": [
        " /560\n",
        "130"
       ]
      },
      {
       "output_type": "stream",
       "stream": "stdout",
       "text": [
        " /560\n",
        "140"
       ]
      },
      {
       "output_type": "stream",
       "stream": "stdout",
       "text": [
        " /560\n",
        "150"
       ]
      },
      {
       "output_type": "stream",
       "stream": "stdout",
       "text": [
        " /560\n",
        "160"
       ]
      },
      {
       "output_type": "stream",
       "stream": "stdout",
       "text": [
        " /560\n",
        "170"
       ]
      },
      {
       "output_type": "stream",
       "stream": "stdout",
       "text": [
        " /560\n",
        "180"
       ]
      },
      {
       "output_type": "stream",
       "stream": "stdout",
       "text": [
        " /560\n",
        "190"
       ]
      },
      {
       "output_type": "stream",
       "stream": "stdout",
       "text": [
        " /560\n",
        "200"
       ]
      },
      {
       "output_type": "stream",
       "stream": "stdout",
       "text": [
        " /560\n",
        "210"
       ]
      },
      {
       "output_type": "stream",
       "stream": "stdout",
       "text": [
        " /560\n",
        "220"
       ]
      },
      {
       "output_type": "stream",
       "stream": "stdout",
       "text": [
        " /560\n",
        "230"
       ]
      },
      {
       "output_type": "stream",
       "stream": "stdout",
       "text": [
        " /560\n",
        "240"
       ]
      },
      {
       "output_type": "stream",
       "stream": "stdout",
       "text": [
        " /560\n",
        "250"
       ]
      },
      {
       "output_type": "stream",
       "stream": "stdout",
       "text": [
        " /560\n",
        "260"
       ]
      },
      {
       "output_type": "stream",
       "stream": "stdout",
       "text": [
        " /560\n",
        "270"
       ]
      },
      {
       "output_type": "stream",
       "stream": "stdout",
       "text": [
        " /560\n",
        "280"
       ]
      },
      {
       "output_type": "stream",
       "stream": "stdout",
       "text": [
        " /560\n",
        "290"
       ]
      },
      {
       "output_type": "stream",
       "stream": "stdout",
       "text": [
        " /560\n",
        "300"
       ]
      },
      {
       "output_type": "stream",
       "stream": "stdout",
       "text": [
        " /560\n",
        "310"
       ]
      },
      {
       "output_type": "stream",
       "stream": "stdout",
       "text": [
        " /560\n",
        "320"
       ]
      },
      {
       "output_type": "stream",
       "stream": "stdout",
       "text": [
        " /560\n",
        "330"
       ]
      },
      {
       "output_type": "stream",
       "stream": "stdout",
       "text": [
        " /560\n",
        "340"
       ]
      },
      {
       "output_type": "stream",
       "stream": "stdout",
       "text": [
        " /560\n",
        "350"
       ]
      },
      {
       "output_type": "stream",
       "stream": "stdout",
       "text": [
        " /560\n",
        "360"
       ]
      },
      {
       "output_type": "stream",
       "stream": "stdout",
       "text": [
        " /560\n",
        "370"
       ]
      },
      {
       "output_type": "stream",
       "stream": "stdout",
       "text": [
        " /560\n",
        "380"
       ]
      },
      {
       "output_type": "stream",
       "stream": "stdout",
       "text": [
        " /560\n",
        "390"
       ]
      },
      {
       "output_type": "stream",
       "stream": "stdout",
       "text": [
        " /560\n"
       ]
      }
     ],
     "prompt_number": 67
    },
    {
     "cell_type": "code",
     "collapsed": false,
     "input": [
      "nzt3a[67][0].simplify()"
     ],
     "language": "python",
     "metadata": {},
     "outputs": [
      {
       "metadata": {},
       "output_type": "pyout",
       "prompt_number": 80,
       "text": [
        "0"
       ]
      }
     ],
     "prompt_number": 80
    },
    {
     "cell_type": "code",
     "collapsed": false,
     "input": [
      "len(nzt3a)"
     ],
     "language": "python",
     "metadata": {},
     "outputs": [
      {
       "metadata": {},
       "output_type": "pyout",
       "prompt_number": 70,
       "text": [
        "395"
       ]
      }
     ],
     "prompt_number": 70
    },
    {
     "cell_type": "code",
     "collapsed": false,
     "input": [
      "len(nzt)"
     ],
     "language": "python",
     "metadata": {},
     "outputs": []
    },
    {
     "cell_type": "code",
     "collapsed": false,
     "input": [
      "nzt[-1][0].srn"
     ],
     "language": "python",
     "metadata": {},
     "outputs": []
    },
    {
     "cell_type": "code",
     "collapsed": false,
     "input": [
      "w1.nonzero_tuples??"
     ],
     "language": "python",
     "metadata": {},
     "outputs": []
    },
    {
     "cell_type": "code",
     "collapsed": false,
     "input": [
      "idcs"
     ],
     "language": "python",
     "metadata": {},
     "outputs": []
    },
    {
     "cell_type": "code",
     "collapsed": false,
     "input": [
      "R.indices.index(idcs)"
     ],
     "language": "python",
     "metadata": {},
     "outputs": []
    },
    {
     "cell_type": "code",
     "collapsed": false,
     "input": [
      "tmp.coeff.srn"
     ],
     "language": "python",
     "metadata": {},
     "outputs": []
    },
    {
     "cell_type": "code",
     "collapsed": false,
     "input": [
      "tmp2 = R^Gamma2^Gamma3"
     ],
     "language": "python",
     "metadata": {},
     "outputs": []
    },
    {
     "cell_type": "code",
     "collapsed": false,
     "input": [
      "tmp2.coeff.srn"
     ],
     "language": "python",
     "metadata": {},
     "outputs": []
    },
    {
     "cell_type": "code",
     "collapsed": false,
     "input": [],
     "language": "python",
     "metadata": {},
     "outputs": []
    },
    {
     "cell_type": "code",
     "collapsed": false,
     "input": [
      "tmp = w2.d^w1^w2^w_dot1^w_dot2^w_ddot1^dF1^dF2"
     ],
     "language": "python",
     "metadata": {},
     "outputs": []
    },
    {
     "cell_type": "code",
     "collapsed": false,
     "input": [
      "aux3 = pc.DifferentialForm(3, w1.basis)\n",
      "aux3.coeff[-5] = 1\n",
      "aux3"
     ],
     "language": "python",
     "metadata": {},
     "outputs": []
    },
    {
     "cell_type": "code",
     "collapsed": false,
     "input": [
      "tmp2 = tmp^aux3"
     ],
     "language": "python",
     "metadata": {},
     "outputs": []
    },
    {
     "cell_type": "code",
     "collapsed": false,
     "input": [
      "tmp2.coeff.srn"
     ],
     "language": "python",
     "metadata": {},
     "outputs": []
    },
    {
     "cell_type": "code",
     "collapsed": false,
     "input": [
      "tmp3 = w_dot2^dF2^dF1\n",
      "tmp3.coeff[-3].srn"
     ],
     "language": "python",
     "metadata": {},
     "outputs": []
    },
    {
     "cell_type": "code",
     "collapsed": false,
     "input": [
      "w2.coeff.co"
     ],
     "language": "python",
     "metadata": {},
     "outputs": []
    },
    {
     "cell_type": "code",
     "collapsed": false,
     "input": [
      "sp.binomial(4,2)"
     ],
     "language": "python",
     "metadata": {},
     "outputs": []
    },
    {
     "cell_type": "code",
     "collapsed": false,
     "input": [],
     "language": "python",
     "metadata": {},
     "outputs": []
    }
   ],
   "metadata": {}
  }
 ]
}