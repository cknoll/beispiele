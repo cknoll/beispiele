{
 "metadata": {
  "name": "",
  "signature": "sha256:6660fe276036e060a59d6ae4d56c9caa19ce5937a674a338913a9117c33c8dec"
 },
 "nbformat": 3,
 "nbformat_minor": 0,
 "worksheets": [
  {
   "cells": [
    {
     "cell_type": "code",
     "collapsed": false,
     "input": [
      "%load_ext displaytools\n",
      "import time\n",
      "print time.ctime()\n",
      "\n",
      "from diss_aux import latex #!!"
     ],
     "language": "python",
     "metadata": {},
     "outputs": [
      {
       "output_type": "stream",
       "stream": "stdout",
       "text": [
        "Wed Jan 13 18:12:08 2016\n"
       ]
      }
     ],
     "prompt_number": 1
    },
    {
     "cell_type": "markdown",
     "metadata": {},
     "source": [
      "**Betrachtetes System**: Acrobot (=unteraktuierter Zweigelenkmanipulator, Stellglied im Ellenbogengelenk).<br>\n",
      "\n",
      "<img src=\"files/images/acrobot_def.png\">\n",
      "\n",
      "**Betrachtete Fragen**:\n",
      "* Herleitung der Modellgleichungen\n",
      " * partiell linearisiert\n",
      " * LBINF !!\n",
      "\n",
      "* \u00dcberpr\u00fcfung verschiedener Steuerbarkeitsbedingungen\n",
      " * Steuerbarkeit der Linearisierung um eine Ruhelage !!\n",
      " * lokale Zug\u00e4nglichkeit\n",
      " * starke lokale Zug\u00e4nglichkeit\n",
      "\n",
      "\n",
      "$$\n",
      "%<custom_config>\n",
      "\\newcommand{\\col}{\\mathrm{col}}\n",
      "\\newcommand{\\opspan}{\\operatorname{span}}\n",
      "\\newcommand{\\bs}{\\boldsymbol}\n",
      "\\newcommand{\\mb}{\\mathbf}\n",
      "\\newcommand{\\nx}{n_{\\boldsymbol x}}\n",
      "\\newcommand{\\Ddt}{\\left(\\tfrac{d}{dt}\\right)}\n",
      "%</custom_config>\n",
      "$$\n"
     ]
    },
    {
     "cell_type": "code",
     "collapsed": false,
     "input": [
      "import sympy as sp\n",
      "from sympy import sin, cos, pi, simplify\n",
      "from sympy.interactive import printing\n",
      "import model_tools as mt\n",
      "from model_tools import Rz\n",
      "import symb_tools as st\n",
      "\n",
      "import pycartan as pc\n",
      "\n",
      "from diss_aux import latex\n",
      "\n",
      "\n",
      "printing.init_printing(1)"
     ],
     "language": "python",
     "metadata": {},
     "outputs": [],
     "prompt_number": 2
    },
    {
     "cell_type": "code",
     "collapsed": false,
     "input": [
      "t = sp.Symbol('t')\n",
      "np = 1\n",
      "nq = 1\n",
      "n = np + nq\n",
      "pp = st.symb_vector(\"p1:{0}\".format(np+1))\n",
      "qq = st.symb_vector(\"q1:{0}\".format(nq+1))\n",
      "\n",
      "\n",
      "aa = st.symb_vector(\"a1:{0}\".format(nq+1))\n",
      "\n",
      "theta = st.row_stack(pp, qq) ##\n",
      "mu = st.perform_time_derivative(theta, theta) ##\n",
      "mud = st.perform_time_derivative(theta, theta, order=2) ##\n",
      "st.make_global(theta, 1)\n",
      "st.make_global(mu, 1)"
     ],
     "language": "python",
     "metadata": {},
     "outputs": [
      {
       "latex": [
        "$$\\left[\\begin{matrix}p_{1}\\\\q_{1}\\end{matrix}\\right]$$"
       ],
       "metadata": {},
       "output_type": "display_data",
       "png": "[encoded data removed]",
       "text": [
        "\u23a1p\u2081\u23a4\n",
        "\u23a2  \u23a5\n",
        "\u23a3q\u2081\u23a6"
       ]
      },
      {
       "output_type": "stream",
       "stream": "stdout",
       "text": [
        "---\n"
       ]
      },
      {
       "latex": [
        "$$\\left[\\begin{matrix}\\dot{p}_{1}\\\\\\dot{q}_{1}\\end{matrix}\\right]$$"
       ],
       "metadata": {},
       "output_type": "display_data",
       "png": "[encoded data removed]",
       "text": [
        "\u23a1p\u0307\u2081\u23a4\n",
        "\u23a2   \u23a5\n",
        "\u23a3q\u0307\u2081\u23a6"
       ]
      },
      {
       "output_type": "stream",
       "stream": "stdout",
       "text": [
        "---\n"
       ]
      },
      {
       "latex": [
        "$$\\left[\\begin{matrix}\\ddot{p}_{1}\\\\\\ddot{q}_{1}\\end{matrix}\\right]$$"
       ],
       "metadata": {},
       "output_type": "display_data",
       "png": "[encoded data removed]",
       "text": [
        "\u23a1p\u0308\u2081\u23a4\n",
        "\u23a2   \u23a5\n",
        "\u23a3q\u0308\u2081\u23a6"
       ]
      },
      {
       "output_type": "stream",
       "stream": "stdout",
       "text": [
        "---\n"
       ]
      }
     ],
     "prompt_number": 3
    },
    {
     "cell_type": "code",
     "collapsed": false,
     "input": [
      "params = sp.symbols('s1, s2, m1, m2, J1, J2, l1, g, kappa1, kappa2, kappa3, kappa4, kappa5, k')\n",
      "st.make_global(params, 1)\n",
      "\n",
      "tau1, tau2 = QQ = st.symb_vector(\"tau1, tau2\")"
     ],
     "language": "python",
     "metadata": {},
     "outputs": [],
     "prompt_number": 4
    },
    {
     "cell_type": "markdown",
     "metadata": {},
     "source": [
      "### Festlegung der Geometrie des mechanischen Systemes"
     ]
    },
    {
     "cell_type": "code",
     "collapsed": false,
     "input": [
      "Rz(q1) # Rotationsmatrix"
     ],
     "language": "python",
     "metadata": {},
     "outputs": [
      {
       "latex": [
        "$$\\left[\\begin{matrix}\\cos{\\left (q_{1} \\right )} & - \\sin{\\left (q_{1} \\right )}\\\\\\sin{\\left (q_{1} \\right )} & \\cos{\\left (q_{1} \\right )}\\end{matrix}\\right]$$"
       ],
       "metadata": {},
       "output_type": "pyout",
       "png": "[encoded data removed]",
       "prompt_number": 5,
       "text": [
        "\u23a1cos(q\u2081)  -sin(q\u2081)\u23a4\n",
        "\u23a2                 \u23a5\n",
        "\u23a3sin(q\u2081)  cos(q\u2081) \u23a6"
       ]
      }
     ],
     "prompt_number": 5
    },
    {
     "cell_type": "code",
     "collapsed": false,
     "input": [
      "#Einheitsvektoren\n",
      "\n",
      "ex = sp.Matrix([1, 0])\n",
      "ey = sp.Matrix([0, 1])\n",
      "\n",
      "# Koordinaten der Schwerpunkte und Gelenke\n",
      "S1 = Rz(p1)*ex*s1\n",
      "G1 = Rz(p1)*ex*l1 # \"Elllenbogengelenk\"\n",
      "S2 = G1 + Rz(q1 + p1)*ex*s2\n",
      "\n",
      "\n",
      "# Zeitableitungen der Schwerpunktskoordinaten\n",
      "Sd1, Sd2 = st.col_split(st.perform_time_derivative(st.col_stack(S1, S2), theta)) ##"
     ],
     "language": "python",
     "metadata": {},
     "outputs": [
      {
       "latex": [
        "$$\\left[\\begin{matrix}- \\dot{p}_{1} s_{1} \\sin{\\left (p_{1} \\right )}\\\\\\dot{p}_{1} s_{1} \\cos{\\left (p_{1} \\right )}\\end{matrix}\\right]$$"
       ],
       "metadata": {},
       "output_type": "display_data",
       "png": "[encoded data removed]",
       "text": [
        "\u23a1-p\u0307\u2081\u22c5s\u2081\u22c5sin(p\u2081)\u23a4\n",
        "\u23a2               \u23a5\n",
        "\u23a3p\u0307\u2081\u22c5s\u2081\u22c5cos(p\u2081) \u23a6"
       ]
      },
      {
       "latex": [
        "$$\\left[\\begin{matrix}- l_{1} \\dot{p}_{1} \\sin{\\left (p_{1} \\right )} - s_{2} \\left(\\dot{p}_{1} + \\dot{q}_{1}\\right) \\sin{\\left (p_{1} + q_{1} \\right )}\\\\l_{1} \\dot{p}_{1} \\cos{\\left (p_{1} \\right )} + s_{2} \\left(\\dot{p}_{1} + \\dot{q}_{1}\\right) \\cos{\\left (p_{1} + q_{1} \\right )}\\end{matrix}\\right]$$"
       ],
       "metadata": {},
       "output_type": "display_data",
       "png": "[encoded data removed]",
       "text": [
        "\u23a1-l\u2081\u22c5p\u0307\u2081\u22c5sin(p\u2081) - s\u2082\u22c5(p\u0307\u2081 + q\u0307\u2081)\u22c5sin(p\u2081 + q\u2081)\u23a4\n",
        "\u23a2                                             \u23a5\n",
        "\u23a3l\u2081\u22c5p\u0307\u2081\u22c5cos(p\u2081) + s\u2082\u22c5(p\u0307\u2081 + q\u0307\u2081)\u22c5cos(p\u2081 + q\u2081) \u23a6"
       ]
      },
      {
       "output_type": "stream",
       "stream": "stdout",
       "text": [
        "---\n"
       ]
      }
     ],
     "prompt_number": 6
    },
    {
     "cell_type": "code",
     "collapsed": false,
     "input": [
      "# Kinetische Energie\n",
      "\n",
      "T_rot = (J1*pdot1**2)/2 + (J2*(qdot1 + pdot1)**2)/2\n",
      "T_trans = ( m1*Sd1.T*Sd1  +  m2*Sd2.T*Sd2 )/2\n",
      "\n",
      "T = T_rot + T_trans[0] ##:\n",
      "\n",
      "# Potentielle Energie\n",
      "V = m1*g*S1[1] + m2*g*S2[1] ##:"
     ],
     "language": "python",
     "metadata": {},
     "outputs": [
      {
       "latex": [
        "T := $$\\frac{J_{1} \\dot{p}_{1}^{2}}{2} + \\frac{J_{2}}{2} \\left(\\dot{p}_{1} + \\dot{q}_{1}\\right)^{2} + \\frac{m_{1} \\dot{p}_{1}^{2}}{2} s_{1}^{2} \\sin^{2}{\\left (p_{1} \\right )} + \\frac{m_{1} \\dot{p}_{1}^{2}}{2} s_{1}^{2} \\cos^{2}{\\left (p_{1} \\right )} + \\frac{m_{2}}{2} \\left(- l_{1} \\dot{p}_{1} \\sin{\\left (p_{1} \\right )} - s_{2} \\left(\\dot{p}_{1} + \\dot{q}_{1}\\right) \\sin{\\left (p_{1} + q_{1} \\right )}\\right)^{2} + \\frac{m_{2}}{2} \\left(l_{1} \\dot{p}_{1} \\cos{\\left (p_{1} \\right )} + s_{2} \\left(\\dot{p}_{1} + \\dot{q}_{1}\\right) \\cos{\\left (p_{1} + q_{1} \\right )}\\right)^{2}$$"
       ],
       "metadata": {},
       "output_type": "display_data",
       "png": "[encoded data removed]",
       "text": [
        "T :=       2                 2         2   2    2             2   2    2           \n",
        "J\u2081\u22c5p\u0307\u2081    J\u2082\u22c5(p\u0307\u2081 + q\u0307\u2081)    m\u2081\u22c5p\u0307\u2081 \u22c5s\u2081 \u22c5sin (p\u2081)   m\u2081\u22c5p\u0307\u2081 \u22c5s\u2081 \u22c5cos (p\u2081)   m\u2082\u22c5(\n",
        "\u2500\u2500\u2500\u2500\u2500\u2500\u2500 + \u2500\u2500\u2500\u2500\u2500\u2500\u2500\u2500\u2500\u2500\u2500\u2500\u2500\u2500\u2500 + \u2500\u2500\u2500\u2500\u2500\u2500\u2500\u2500\u2500\u2500\u2500\u2500\u2500\u2500\u2500\u2500\u2500\u2500\u2500\u2500 + \u2500\u2500\u2500\u2500\u2500\u2500\u2500\u2500\u2500\u2500\u2500\u2500\u2500\u2500\u2500\u2500\u2500\u2500\u2500\u2500 + \u2500\u2500\u2500\u2500\n",
        "   2             2                   2                      2                 \n",
        "\n",
        "                                              2                               \n",
        "-l\u2081\u22c5p\u0307\u2081\u22c5sin(p\u2081) - s\u2082\u22c5(p\u0307\u2081 + q\u0307\u2081)\u22c5sin(p\u2081 + q\u2081))    m\u2082\u22c5(l\u2081\u22c5p\u0307\u2081\u22c5cos(p\u2081) + s\u2082\u22c5(p\u0307\u2081\n",
        "\u2500\u2500\u2500\u2500\u2500\u2500\u2500\u2500\u2500\u2500\u2500\u2500\u2500\u2500\u2500\u2500\u2500\u2500\u2500\u2500\u2500\u2500\u2500\u2500\u2500\u2500\u2500\u2500\u2500\u2500\u2500\u2500\u2500\u2500\u2500\u2500\u2500\u2500\u2500\u2500\u2500\u2500\u2500\u2500\u2500\u2500\u2500 + \u2500\u2500\u2500\u2500\u2500\u2500\u2500\u2500\u2500\u2500\u2500\u2500\u2500\u2500\u2500\u2500\u2500\u2500\u2500\u2500\u2500\u2500\u2500\u2500\u2500\u2500\u2500\u2500\n",
        "                     2                                                    2   \n",
        "\n",
        "                     2\n",
        " + q\u0307\u2081)\u22c5cos(p\u2081 + q\u2081)) \n",
        "\u2500\u2500\u2500\u2500\u2500\u2500\u2500\u2500\u2500\u2500\u2500\u2500\u2500\u2500\u2500\u2500\u2500\u2500\u2500\u2500\u2500\u2500\n",
        "                      "
       ]
      },
      {
       "output_type": "stream",
       "stream": "stdout",
       "text": [
        "---\n"
       ]
      },
      {
       "latex": [
        "V := $$g m_{1} s_{1} \\sin{\\left (p_{1} \\right )} + g m_{2} \\left(l_{1} \\sin{\\left (p_{1} \\right )} + s_{2} \\sin{\\left (p_{1} + q_{1} \\right )}\\right)$$"
       ],
       "metadata": {},
       "output_type": "display_data",
       "png": "[encoded data removed]",
       "text": [
        "V := g\u22c5m\u2081\u22c5s\u2081\u22c5sin(p\u2081) + g\u22c5m\u2082\u22c5(l\u2081\u22c5sin(p\u2081) + s\u2082\u22c5sin(p\u2081 + q\u2081))"
       ]
      },
      {
       "output_type": "stream",
       "stream": "stdout",
       "text": [
        "---\n"
       ]
      }
     ],
     "prompt_number": 7
    },
    {
     "cell_type": "code",
     "collapsed": false,
     "input": [
      "external_forces = [0, tau1]\n",
      "assert not any(external_forces[:np])\n",
      "mod = mt.generate_symbolic_model(T, V, theta, external_forces)\n",
      "mod.eqns.simplify()"
     ],
     "language": "python",
     "metadata": {},
     "outputs": [],
     "prompt_number": 8
    },
    {
     "cell_type": "code",
     "collapsed": false,
     "input": [
      "# Massenmatrix\n",
      "mod.MM"
     ],
     "language": "python",
     "metadata": {},
     "outputs": [
      {
       "latex": [
        "$$\\left[\\begin{matrix}J_{1} + J_{2} + l_{1}^{2} m_{2} + 2 l_{1} m_{2} s_{2} \\cos{\\left (q_{1} \\right )} + m_{1} s_{1}^{2} + m_{2} s_{2}^{2} & J_{2} + l_{1} m_{2} s_{2} \\cos{\\left (q_{1} \\right )} + m_{2} s_{2}^{2}\\\\J_{2} + l_{1} m_{2} s_{2} \\cos{\\left (q_{1} \\right )} + m_{2} s_{2}^{2} & J_{2} + m_{2} s_{2}^{2}\\end{matrix}\\right]$$"
       ],
       "metadata": {},
       "output_type": "pyout",
       "png": "[encoded data removed]",
       "prompt_number": 9,
       "text": [
        "\u23a1            2                                2        2                      \n",
        "\u23a2J\u2081 + J\u2082 + l\u2081 \u22c5m\u2082 + 2\u22c5l\u2081\u22c5m\u2082\u22c5s\u2082\u22c5cos(q\u2081) + m\u2081\u22c5s\u2081  + m\u2082\u22c5s\u2082   J\u2082 + l\u2081\u22c5m\u2082\u22c5s\u2082\u22c5cos(q\u2081\n",
        "\u23a2                                                                             \n",
        "\u23a2                                         2                                  2\n",
        "\u23a3            J\u2082 + l\u2081\u22c5m\u2082\u22c5s\u2082\u22c5cos(q\u2081) + m\u2082\u22c5s\u2082                         J\u2082 + m\u2082\u22c5s\u2082 \n",
        "\n",
        "         2\u23a4\n",
        ") + m\u2082\u22c5s\u2082 \u23a5\n",
        "          \u23a5\n",
        "          \u23a5\n",
        "          \u23a6"
       ]
      }
     ],
     "prompt_number": 9
    },
    {
     "cell_type": "code",
     "collapsed": false,
     "input": [
      "mod.calc_coll_part_lin_state_eq(simplify=True)\n"
     ],
     "language": "python",
     "metadata": {},
     "outputs": [],
     "prompt_number": 11
    },
    {
     "cell_type": "code",
     "collapsed": false,
     "input": [
      "\n",
      "kappa_subs= [(l1*m2*s2, kappa1), (J2 + m2*s2**2, kappa2),\n",
      "             (J1 + l1**2*m2 + s1**2*m1, kappa3), (s1*m1, kappa4 - l1*m2), (s2*m2, kappa5)]"
     ],
     "language": "python",
     "metadata": {},
     "outputs": [],
     "prompt_number": 12
    },
    {
     "cell_type": "code",
     "collapsed": false,
     "input": [
      "ff = sp.simplify(mod.ff.expand().subs(kappa_subs)) ##:\n",
      "gg = sp.simplify(mod.gg.expand()).subs(kappa_subs) ##:"
     ],
     "language": "python",
     "metadata": {},
     "outputs": [
      {
       "latex": [
        "ff := $$\\left[\\begin{matrix}\\dot{p}_{1}\\\\\\dot{q}_{1}\\\\\\frac{1}{2 \\kappa_{1} \\cos{\\left (q_{1} \\right )} + \\kappa_{2} + \\kappa_{3}} \\left(- g \\kappa_{4} \\cos{\\left (p_{1} \\right )} - g \\kappa_{5} \\cos{\\left (p_{1} + q_{1} \\right )} + 2 \\kappa_{1} \\dot{p}_{1} \\dot{q}_{1} \\sin{\\left (q_{1} \\right )} + \\kappa_{1} \\dot{q}_{1}^{2} \\sin{\\left (q_{1} \\right )}\\right)\\\\0\\end{matrix}\\right]$$"
       ],
       "metadata": {},
       "output_type": "display_data",
       "png": "[encoded data removed]",
       "text": [
        "ff := \u23a1                                   p\u0307\u2081                                    \u23a4\n",
        "\u23a2                                                                          \u23a5\n",
        "\u23a2                                   q\u0307\u2081                                    \u23a5\n",
        "\u23a2                                                                          \u23a5\n",
        "\u23a2                                                                 2        \u23a5\n",
        "\u23a2-g\u22c5\u03ba\u2084\u22c5cos(p\u2081) - g\u22c5\u03ba\u2085\u22c5cos(p\u2081 + q\u2081) + 2\u22c5\u03ba\u2081\u22c5p\u0307\u2081\u22c5q\u0307\u2081\u22c5sin(q\u2081) + \u03ba\u2081\u22c5q\u0307\u2081 \u22c5sin(q\u2081)\u23a5\n",
        "\u23a2\u2500\u2500\u2500\u2500\u2500\u2500\u2500\u2500\u2500\u2500\u2500\u2500\u2500\u2500\u2500\u2500\u2500\u2500\u2500\u2500\u2500\u2500\u2500\u2500\u2500\u2500\u2500\u2500\u2500\u2500\u2500\u2500\u2500\u2500\u2500\u2500\u2500\u2500\u2500\u2500\u2500\u2500\u2500\u2500\u2500\u2500\u2500\u2500\u2500\u2500\u2500\u2500\u2500\u2500\u2500\u2500\u2500\u2500\u2500\u2500\u2500\u2500\u2500\u2500\u2500\u2500\u2500\u2500\u2500\u2500\u2500\u2500\u2500\u2500\u23a5\n",
        "\u23a2                          2\u22c5\u03ba\u2081\u22c5cos(q\u2081) + \u03ba\u2082 + \u03ba\u2083                          \u23a5\n",
        "\u23a2                                                                          \u23a5\n",
        "\u23a3                                    0                                     \u23a6"
       ]
      },
      {
       "output_type": "stream",
       "stream": "stdout",
       "text": [
        "---\n"
       ]
      },
      {
       "latex": [
        "gg := $$\\left[\\begin{matrix}0\\\\0\\\\\\frac{- \\kappa_{1} \\cos{\\left (q_{1} \\right )} - \\kappa_{2}}{2 \\kappa_{1} \\cos{\\left (q_{1} \\right )} + \\kappa_{2} + \\kappa_{3}}\\\\1\\end{matrix}\\right]$$"
       ],
       "metadata": {},
       "output_type": "display_data",
       "png": "[encoded data removed]",
       "text": [
        "gg := \u23a1          0           \u23a4\n",
        "\u23a2                      \u23a5\n",
        "\u23a2          0           \u23a5\n",
        "\u23a2                      \u23a5\n",
        "\u23a2   -\u03ba\u2081\u22c5cos(q\u2081) - \u03ba\u2082   \u23a5\n",
        "\u23a2\u2500\u2500\u2500\u2500\u2500\u2500\u2500\u2500\u2500\u2500\u2500\u2500\u2500\u2500\u2500\u2500\u2500\u2500\u2500\u2500\u2500\u2500\u23a5\n",
        "\u23a22\u22c5\u03ba\u2081\u22c5cos(q\u2081) + \u03ba\u2082 + \u03ba\u2083\u23a5\n",
        "\u23a2                      \u23a5\n",
        "\u23a3          1           \u23a6"
       ]
      },
      {
       "output_type": "stream",
       "stream": "stdout",
       "text": [
        "---\n"
       ]
      }
     ],
     "prompt_number": 13
    },
    {
     "cell_type": "markdown",
     "metadata": {},
     "source": [
      "### Ruhelagen bestimmen"
     ]
    },
    {
     "cell_type": "code",
     "collapsed": false,
     "input": [
      "# Eingang und Geschwindigkeiten m\u00fcssen 0 sein -> mu=0\n",
      "\n",
      "# Z\u00e4hler des Driftterms bestimmen:\n",
      "num = sp.simplify(ff[2].subz0(mu).as_numer_denom()[0]/g) ##\n",
      "#sp.solve(num, p1)\n",
      "\n",
      "sol1 = [(q1, - p1 - sp.acos( -kappa4/kappa5*cos(p1) ))] ##:\n",
      "sol2 = [(q1, - p1 + sp.acos( -kappa4/kappa5*cos(p1) ))]\n",
      "\n",
      "# L\u00f6sungen \u00fcberpr\u00fcfen:\n",
      "num.subs(sol1).trigsimp() ##\n",
      "num.subs(sol2).trigsimp() ##"
     ],
     "language": "python",
     "metadata": {},
     "outputs": [
      {
       "latex": [
        "$$- \\kappa_{4} \\cos{\\left (p_{1} \\right )} - \\kappa_{5} \\cos{\\left (p_{1} + q_{1} \\right )}$$"
       ],
       "metadata": {},
       "output_type": "display_data",
       "png": "[encoded data removed]",
       "text": [
        "-\u03ba\u2084\u22c5cos(p\u2081) - \u03ba\u2085\u22c5cos(p\u2081 + q\u2081)"
       ]
      },
      {
       "output_type": "stream",
       "stream": "stdout",
       "text": [
        "---\n"
       ]
      },
      {
       "latex": [
        "sol1 := $$\\left [ \\left ( q_{1}, \\quad - p_{1} - \\operatorname{acos}{\\left (- \\frac{\\kappa_{4}}{\\kappa_{5}} \\cos{\\left (p_{1} \\right )} \\right )}\\right )\\right ]$$"
       ],
       "metadata": {},
       "output_type": "display_data",
       "png": "[encoded data removed]",
       "text": [
        "sol1 := \u23a1\u239b              \u239b-\u03ba\u2084\u22c5cos(p\u2081) \u239e\u239e\u23a4\n",
        "\u23a2\u239cq\u2081, -p\u2081 - acos\u239c\u2500\u2500\u2500\u2500\u2500\u2500\u2500\u2500\u2500\u2500\u2500\u2500\u239f\u239f\u23a5\n",
        "\u23a3\u239d              \u239d     \u03ba\u2085     \u23a0\u23a0\u23a6"
       ]
      },
      {
       "output_type": "stream",
       "stream": "stdout",
       "text": [
        "---\n"
       ]
      },
      {
       "latex": [
        "$$0$$"
       ],
       "metadata": {},
       "output_type": "display_data",
       "png": "[encoded data removed]",
       "text": [
        "0"
       ]
      },
      {
       "output_type": "stream",
       "stream": "stdout",
       "text": [
        "___\n"
       ]
      },
      {
       "latex": [
        "$$0$$"
       ],
       "metadata": {},
       "output_type": "display_data",
       "png": "[encoded data removed]",
       "text": [
        "0"
       ]
      },
      {
       "output_type": "stream",
       "stream": "stdout",
       "text": [
        "___\n"
       ]
      }
     ],
     "prompt_number": 14
    },
    {
     "cell_type": "code",
     "collapsed": false,
     "input": [
      "eql1 = [(pdot1, 0), (qdot1, 0), (p1, pi/2), (q1, 0)] ##"
     ],
     "language": "python",
     "metadata": {},
     "outputs": [
      {
       "latex": [
        "$$\\left [ \\left ( \\dot{p}_{1}, \\quad 0\\right ), \\quad \\left ( \\dot{q}_{1}, \\quad 0\\right ), \\quad \\left ( p_{1}, \\quad \\frac{\\pi}{2}\\right ), \\quad \\left ( q_{1}, \\quad 0\\right )\\right ]$$"
       ],
       "metadata": {},
       "output_type": "display_data",
       "png": "[encoded data removed]",
       "text": [
        "\u23a1                    \u239b    \u03c0\u239e         \u23a4\n",
        "\u23a2(p\u0307\u2081, 0), (q\u0307\u2081, 0), \u239cp\u2081, \u2500\u239f, (q\u2081, 0)\u23a5\n",
        "\u23a3                    \u239d    2\u23a0         \u23a6"
       ]
      },
      {
       "output_type": "stream",
       "stream": "stdout",
       "text": [
        "---\n"
       ]
      }
     ],
     "prompt_number": 15
    },
    {
     "cell_type": "code",
     "collapsed": false,
     "input": [
      "# Zustandsvektor\n",
      "xx = mod.xx ##"
     ],
     "language": "python",
     "metadata": {},
     "outputs": [
      {
       "latex": [
        "$$\\left[\\begin{matrix}p_{1}\\\\q_{1}\\\\\\dot{p}_{1}\\\\\\dot{q}_{1}\\end{matrix}\\right]$$"
       ],
       "metadata": {},
       "output_type": "display_data",
       "png": "[encoded data removed]",
       "text": [
        "\u23a1p\u2081 \u23a4\n",
        "\u23a2   \u23a5\n",
        "\u23a2q\u2081 \u23a5\n",
        "\u23a2   \u23a5\n",
        "\u23a2p\u0307\u2081\u23a5\n",
        "\u23a2   \u23a5\n",
        "\u23a3q\u0307\u2081\u23a6"
       ]
      },
      {
       "output_type": "stream",
       "stream": "stdout",
       "text": [
        "---\n"
       ]
      }
     ],
     "prompt_number": 17
    },
    {
     "cell_type": "code",
     "collapsed": false,
     "input": [
      "ff.subs(eql1)##\n",
      "A = ff.jacobian(xx).subs(eql1) ##:\n",
      "B = gg.subs(eql1) ##:"
     ],
     "language": "python",
     "metadata": {},
     "outputs": [
      {
       "latex": [
        "$$\\left[\\begin{matrix}0\\\\0\\\\0\\\\0\\end{matrix}\\right]$$"
       ],
       "metadata": {},
       "output_type": "display_data",
       "png": "[encoded data removed]",
       "text": [
        "\u23a10\u23a4\n",
        "\u23a2 \u23a5\n",
        "\u23a20\u23a5\n",
        "\u23a2 \u23a5\n",
        "\u23a20\u23a5\n",
        "\u23a2 \u23a5\n",
        "\u23a30\u23a6"
       ]
      },
      {
       "output_type": "stream",
       "stream": "stdout",
       "text": [
        "___\n"
       ]
      },
      {
       "latex": [
        "A := $$\\left[\\begin{matrix}0 & 0 & 1 & 0\\\\0 & 0 & 0 & 1\\\\\\frac{g \\kappa_{4} + g \\kappa_{5}}{2 \\kappa_{1} + \\kappa_{2} + \\kappa_{3}} & \\frac{g \\kappa_{5}}{2 \\kappa_{1} + \\kappa_{2} + \\kappa_{3}} & 0 & 0\\\\0 & 0 & 0 & 0\\end{matrix}\\right]$$"
       ],
       "metadata": {},
       "output_type": "display_data",
       "png": "[encoded data removed]",
       "text": [
        "A := \u23a1      0               0         1  0\u23a4\n",
        "\u23a2                                    \u23a5\n",
        "\u23a2      0               0         0  1\u23a5\n",
        "\u23a2                                    \u23a5\n",
        "\u23a2 g\u22c5\u03ba\u2084 + g\u22c5\u03ba\u2085         g\u22c5\u03ba\u2085           \u23a5\n",
        "\u23a2\u2500\u2500\u2500\u2500\u2500\u2500\u2500\u2500\u2500\u2500\u2500\u2500\u2500\u2500  \u2500\u2500\u2500\u2500\u2500\u2500\u2500\u2500\u2500\u2500\u2500\u2500\u2500\u2500  0  0\u23a5\n",
        "\u23a22\u22c5\u03ba\u2081 + \u03ba\u2082 + \u03ba\u2083  2\u22c5\u03ba\u2081 + \u03ba\u2082 + \u03ba\u2083      \u23a5\n",
        "\u23a2                                    \u23a5\n",
        "\u23a3      0               0         0  0\u23a6"
       ]
      },
      {
       "output_type": "stream",
       "stream": "stdout",
       "text": [
        "---\n"
       ]
      },
      {
       "latex": [
        "B := $$\\left[\\begin{matrix}0\\\\0\\\\\\frac{- \\kappa_{1} - \\kappa_{2}}{2 \\kappa_{1} + \\kappa_{2} + \\kappa_{3}}\\\\1\\end{matrix}\\right]$$"
       ],
       "metadata": {},
       "output_type": "display_data",
       "png": "[encoded data removed]",
       "text": [
        "B := \u23a1      0       \u23a4\n",
        "\u23a2              \u23a5\n",
        "\u23a2      0       \u23a5\n",
        "\u23a2              \u23a5\n",
        "\u23a2   -\u03ba\u2081 - \u03ba\u2082   \u23a5\n",
        "\u23a2\u2500\u2500\u2500\u2500\u2500\u2500\u2500\u2500\u2500\u2500\u2500\u2500\u2500\u2500\u23a5\n",
        "\u23a22\u22c5\u03ba\u2081 + \u03ba\u2082 + \u03ba\u2083\u23a5\n",
        "\u23a2              \u23a5\n",
        "\u23a3      1       \u23a6"
       ]
      },
      {
       "output_type": "stream",
       "stream": "stdout",
       "text": [
        "---\n"
       ]
      }
     ],
     "prompt_number": 18
    },
    {
     "cell_type": "code",
     "collapsed": false,
     "input": [
      "A.eigenvals() "
     ],
     "language": "python",
     "metadata": {},
     "outputs": [
      {
       "latex": [
        "$$\\left \\{ 0 : 2, \\quad - \\sqrt{\\frac{g \\left(\\kappa_{4} + \\kappa_{5}\\right)}{2 \\kappa_{1} + \\kappa_{2} + \\kappa_{3}}} : 1, \\quad \\sqrt{\\frac{g \\left(\\kappa_{4} + \\kappa_{5}\\right)}{2 \\kappa_{1} + \\kappa_{2} + \\kappa_{3}}} : 1\\right \\}$$"
       ],
       "metadata": {},
       "output_type": "pyout",
       "png": "[encoded data removed]",
       "prompt_number": 19,
       "text": [
        "\u23a7           ________________         ________________   \u23ab\n",
        "\u23aa          \u2571  g\u22c5(\u03ba\u2084 + \u03ba\u2085)           \u2571  g\u22c5(\u03ba\u2084 + \u03ba\u2085)      \u23aa\n",
        "\u23a80: 2, -  \u2571  \u2500\u2500\u2500\u2500\u2500\u2500\u2500\u2500\u2500\u2500\u2500\u2500\u2500\u2500 : 1,   \u2571  \u2500\u2500\u2500\u2500\u2500\u2500\u2500\u2500\u2500\u2500\u2500\u2500\u2500\u2500 : 1\u23ac\n",
        "\u23aa       \u2572\u2571   2\u22c5\u03ba\u2081 + \u03ba\u2082 + \u03ba\u2083      \u2572\u2571   2\u22c5\u03ba\u2081 + \u03ba\u2082 + \u03ba\u2083    \u23aa\n",
        "\u23a9                                                       \u23ad"
       ]
      }
     ],
     "prompt_number": 19
    },
    {
     "cell_type": "markdown",
     "metadata": {},
     "source": [
      "### Fazit:\n",
      "Da alle Parameter positiv sind, ist das System instabil (ein Eigenwert in der rechten HE)."
     ]
    },
    {
     "cell_type": "code",
     "collapsed": false,
     "input": [
      "Qs = simplify(st.kalman_matrix(A, B)) ##"
     ],
     "language": "python",
     "metadata": {},
     "outputs": [
      {
       "latex": [
        "$$\\left[\\begin{matrix}0 & - \\frac{\\kappa_{1} + \\kappa_{2}}{2 \\kappa_{1} + \\kappa_{2} + \\kappa_{3}} & 0 & - \\frac{g \\left(\\kappa_{1} \\kappa_{4} - \\kappa_{1} \\kappa_{5} + \\kappa_{2} \\kappa_{4} - \\kappa_{3} \\kappa_{5}\\right)}{4 \\kappa_{1}^{2} + 4 \\kappa_{1} \\kappa_{2} + 4 \\kappa_{1} \\kappa_{3} + \\kappa_{2}^{2} + 2 \\kappa_{2} \\kappa_{3} + \\kappa_{3}^{2}}\\\\0 & 1 & 0 & 0\\\\- \\frac{\\kappa_{1} + \\kappa_{2}}{2 \\kappa_{1} + \\kappa_{2} + \\kappa_{3}} & 0 & - \\frac{g \\left(\\kappa_{1} \\kappa_{4} - \\kappa_{1} \\kappa_{5} + \\kappa_{2} \\kappa_{4} - \\kappa_{3} \\kappa_{5}\\right)}{4 \\kappa_{1}^{2} + 4 \\kappa_{1} \\kappa_{2} + 4 \\kappa_{1} \\kappa_{3} + \\kappa_{2}^{2} + 2 \\kappa_{2} \\kappa_{3} + \\kappa_{3}^{2}} & 0\\\\1 & 0 & 0 & 0\\end{matrix}\\right]$$"
       ],
       "metadata": {},
       "output_type": "display_data",
       "png": "[encoded data removed]",
       "text": [
        "\u23a1                 -(\u03ba\u2081 + \u03ba\u2082)                                                  \n",
        "\u23a2      0         \u2500\u2500\u2500\u2500\u2500\u2500\u2500\u2500\u2500\u2500\u2500\u2500\u2500\u2500                         0                     \n",
        "\u23a2                2\u22c5\u03ba\u2081 + \u03ba\u2082 + \u03ba\u2083                                               \n",
        "\u23a2                                                                             \n",
        "\u23a2                                                                             \n",
        "\u23a2      0               1                                0                     \n",
        "\u23a2                                                                             \n",
        "\u23a2 -(\u03ba\u2081 + \u03ba\u2082)                           -g\u22c5(\u03ba\u2081\u22c5\u03ba\u2084 - \u03ba\u2081\u22c5\u03ba\u2085 + \u03ba\u2082\u22c5\u03ba\u2084 - \u03ba\u2083\u22c5\u03ba\u2085)     \n",
        "\u23a2\u2500\u2500\u2500\u2500\u2500\u2500\u2500\u2500\u2500\u2500\u2500\u2500\u2500\u2500        0         \u2500\u2500\u2500\u2500\u2500\u2500\u2500\u2500\u2500\u2500\u2500\u2500\u2500\u2500\u2500\u2500\u2500\u2500\u2500\u2500\u2500\u2500\u2500\u2500\u2500\u2500\u2500\u2500\u2500\u2500\u2500\u2500\u2500\u2500\u2500\u2500\u2500\u2500\u2500\u2500\u2500\u2500\u2500\u2500\u2500\n",
        "\u23a22\u22c5\u03ba\u2081 + \u03ba\u2082 + \u03ba\u2083                      2                         2              \n",
        "\u23a2                                4\u22c5\u03ba\u2081  + 4\u22c5\u03ba\u2081\u22c5\u03ba\u2082 + 4\u22c5\u03ba\u2081\u22c5\u03ba\u2083 + \u03ba\u2082  + 2\u22c5\u03ba\u2082\u22c5\u03ba\u2083 + \u03ba\n",
        "\u23a2                                                                             \n",
        "\u23a3      1               0                                0                     \n",
        "\n",
        "          -g\u22c5(\u03ba\u2081\u22c5\u03ba\u2084 - \u03ba\u2081\u22c5\u03ba\u2085 + \u03ba\u2082\u22c5\u03ba\u2084 - \u03ba\u2083\u22c5\u03ba\u2085)       \u23a4\n",
        "    \u2500\u2500\u2500\u2500\u2500\u2500\u2500\u2500\u2500\u2500\u2500\u2500\u2500\u2500\u2500\u2500\u2500\u2500\u2500\u2500\u2500\u2500\u2500\u2500\u2500\u2500\u2500\u2500\u2500\u2500\u2500\u2500\u2500\u2500\u2500\u2500\u2500\u2500\u2500\u2500\u2500\u2500\u2500\u2500\u2500\u2500\u2500\u23a5\n",
        "        2                         2               2\u23a5\n",
        "    4\u22c5\u03ba\u2081  + 4\u22c5\u03ba\u2081\u22c5\u03ba\u2082 + 4\u22c5\u03ba\u2081\u22c5\u03ba\u2083 + \u03ba\u2082  + 2\u22c5\u03ba\u2082\u22c5\u03ba\u2083 + \u03ba\u2083 \u23a5\n",
        "                                                   \u23a5\n",
        "                           0                       \u23a5\n",
        "                                                   \u23a5\n",
        "                                                   \u23a5\n",
        "\u2500\u2500                         0                       \u23a5\n",
        " 2                                                 \u23a5\n",
        "\u2083                                                  \u23a5\n",
        "                                                   \u23a5\n",
        "                           0                       \u23a6"
       ]
      },
      {
       "output_type": "stream",
       "stream": "stdout",
       "text": [
        "---\n"
       ]
      }
     ],
     "prompt_number": 20
    },
    {
     "cell_type": "code",
     "collapsed": false,
     "input": [
      "st.generic_rank(Qs)"
     ],
     "language": "python",
     "metadata": {},
     "outputs": [
      {
       "latex": [
        "$$4$$"
       ],
       "metadata": {},
       "output_type": "pyout",
       "png": "[encoded data removed]",
       "prompt_number": 21,
       "text": [
        "4"
       ]
      }
     ],
     "prompt_number": 21
    },
    {
     "cell_type": "markdown",
     "metadata": {},
     "source": [
      "Das linearisierte System ist steuerbar."
     ]
    },
    {
     "cell_type": "code",
     "collapsed": false,
     "input": [
      "latex(gg)"
     ],
     "language": "python",
     "metadata": {},
     "outputs": [
      {
       "output_type": "stream",
       "stream": "stdout",
       "text": [
        "\\left(\\begin{matrix}\n",
        "0\\\\\n",
        "0\\\\\n",
        "\\frac{- \\kappa_{1} \\cos q_{1}  - \\kappa_{2}}{2 \\kappa_{1} \\cos q_{1}  + \\kappa_{2} + \\kappa_{3}}\\\\\n",
        "1\n",
        "\\end{matrix}\\right)\n",
        "-------------\n"
       ]
      }
     ],
     "prompt_number": 22
    },
    {
     "cell_type": "markdown",
     "metadata": {},
     "source": [
      "### Lokale Zug\u00e4nglichkeit pr\u00fcfen"
     ]
    },
    {
     "cell_type": "markdown",
     "metadata": {},
     "source": [
      "Distribution $\\Delta_\\text{z}$ bilden (aufgespannt von $\\mb f$ und $\\mb g$):"
     ]
    },
    {
     "cell_type": "code",
     "collapsed": false,
     "input": [
      "Delta_z = st.col_stack(ff, gg) ##"
     ],
     "language": "python",
     "metadata": {},
     "outputs": [
      {
       "latex": [
        "$$\\left[\\begin{matrix}\\dot{p}_{1} & 0\\\\\\dot{q}_{1} & 0\\\\\\frac{1}{2 \\kappa_{1} \\cos{\\left (q_{1} \\right )} + \\kappa_{2} + \\kappa_{3}} \\left(- g \\kappa_{4} \\cos{\\left (p_{1} \\right )} - g \\kappa_{5} \\cos{\\left (p_{1} + q_{1} \\right )} + 2 \\kappa_{1} \\dot{p}_{1} \\dot{q}_{1} \\sin{\\left (q_{1} \\right )} + \\kappa_{1} \\dot{q}_{1}^{2} \\sin{\\left (q_{1} \\right )}\\right) & \\frac{- \\kappa_{1} \\cos{\\left (q_{1} \\right )} - \\kappa_{2}}{2 \\kappa_{1} \\cos{\\left (q_{1} \\right )} + \\kappa_{2} + \\kappa_{3}}\\\\0 & 1\\end{matrix}\\right]$$"
       ],
       "metadata": {},
       "output_type": "display_data",
       "png": "[encoded data removed]",
       "text": [
        "\u23a1                                   p\u0307\u2081                                       \n",
        "\u23a2                                                                             \n",
        "\u23a2                                   q\u0307\u2081                                       \n",
        "\u23a2                                                                             \n",
        "\u23a2                                                                 2           \n",
        "\u23a2-g\u22c5\u03ba\u2084\u22c5cos(p\u2081) - g\u22c5\u03ba\u2085\u22c5cos(p\u2081 + q\u2081) + 2\u22c5\u03ba\u2081\u22c5p\u0307\u2081\u22c5q\u0307\u2081\u22c5sin(q\u2081) + \u03ba\u2081\u22c5q\u0307\u2081 \u22c5sin(q\u2081)   \n",
        "\u23a2\u2500\u2500\u2500\u2500\u2500\u2500\u2500\u2500\u2500\u2500\u2500\u2500\u2500\u2500\u2500\u2500\u2500\u2500\u2500\u2500\u2500\u2500\u2500\u2500\u2500\u2500\u2500\u2500\u2500\u2500\u2500\u2500\u2500\u2500\u2500\u2500\u2500\u2500\u2500\u2500\u2500\u2500\u2500\u2500\u2500\u2500\u2500\u2500\u2500\u2500\u2500\u2500\u2500\u2500\u2500\u2500\u2500\u2500\u2500\u2500\u2500\u2500\u2500\u2500\u2500\u2500\u2500\u2500\u2500\u2500\u2500\u2500\u2500\u2500  \u2500\n",
        "\u23a2                          2\u22c5\u03ba\u2081\u22c5cos(q\u2081) + \u03ba\u2082 + \u03ba\u2083                            2\n",
        "\u23a2                                                                             \n",
        "\u23a3                                    0                                        \n",
        "\n",
        "         0           \u23a4\n",
        "                     \u23a5\n",
        "         0           \u23a5\n",
        "                     \u23a5\n",
        "                     \u23a5\n",
        "  -\u03ba\u2081\u22c5cos(q\u2081) - \u03ba\u2082   \u23a5\n",
        "\u2500\u2500\u2500\u2500\u2500\u2500\u2500\u2500\u2500\u2500\u2500\u2500\u2500\u2500\u2500\u2500\u2500\u2500\u2500\u2500\u2500\u23a5\n",
        "\u22c5\u03ba\u2081\u22c5cos(q\u2081) + \u03ba\u2082 + \u03ba\u2083\u23a5\n",
        "                     \u23a5\n",
        "         1           \u23a6"
       ]
      },
      {
       "output_type": "stream",
       "stream": "stdout",
       "text": [
        "---\n"
       ]
      }
     ],
     "prompt_number": 23
    },
    {
     "cell_type": "markdown",
     "metadata": {},
     "source": [
      "#### Schrittweise Involutiven Abschluss $c := \\operatorname{inv}(\\Delta_\\text{z})$ bilden:\n",
      "\u2192 sukzessive Lieklammern hinzuf\u00fcgen"
     ]
    },
    {
     "cell_type": "code",
     "collapsed": false,
     "input": [
      "lb_f1g = sp.simplify(st.lie_bracket(ff, gg, xx)) ##"
     ],
     "language": "python",
     "metadata": {},
     "outputs": [
      {
       "latex": [
        "$$\\left[\\begin{matrix}\\frac{\\kappa_{1} \\cos{\\left (q_{1} \\right )} + \\kappa_{2}}{2 \\kappa_{1} \\cos{\\left (q_{1} \\right )} + \\kappa_{2} + \\kappa_{3}}\\\\-1\\\\- \\frac{\\kappa_{1} \\left(2 \\dot{p}_{1} + \\dot{q}_{1}\\right) \\sin{\\left (q_{1} \\right )}}{2 \\kappa_{1} \\cos{\\left (q_{1} \\right )} + \\kappa_{2} + \\kappa_{3}}\\\\0\\end{matrix}\\right]$$"
       ],
       "metadata": {},
       "output_type": "display_data",
       "png": "[encoded data removed]",
       "text": [
        "\u23a1     \u03ba\u2081\u22c5cos(q\u2081) + \u03ba\u2082      \u23a4\n",
        "\u23a2  \u2500\u2500\u2500\u2500\u2500\u2500\u2500\u2500\u2500\u2500\u2500\u2500\u2500\u2500\u2500\u2500\u2500\u2500\u2500\u2500\u2500\u2500  \u23a5\n",
        "\u23a2  2\u22c5\u03ba\u2081\u22c5cos(q\u2081) + \u03ba\u2082 + \u03ba\u2083  \u23a5\n",
        "\u23a2                          \u23a5\n",
        "\u23a2            -1            \u23a5\n",
        "\u23a2                          \u23a5\n",
        "\u23a2-\u03ba\u2081\u22c5(2\u22c5p\u0307\u2081 + q\u0307\u2081)\u22c5sin(q\u2081) \u23a5\n",
        "\u23a2\u2500\u2500\u2500\u2500\u2500\u2500\u2500\u2500\u2500\u2500\u2500\u2500\u2500\u2500\u2500\u2500\u2500\u2500\u2500\u2500\u2500\u2500\u2500\u2500\u2500\u2500\u23a5\n",
        "\u23a2  2\u22c5\u03ba\u2081\u22c5cos(q\u2081) + \u03ba\u2082 + \u03ba\u2083  \u23a5\n",
        "\u23a2                          \u23a5\n",
        "\u23a3            0             \u23a6"
       ]
      },
      {
       "output_type": "stream",
       "stream": "stdout",
       "text": [
        "---\n"
       ]
      }
     ],
     "prompt_number": 24
    },
    {
     "cell_type": "code",
     "collapsed": false,
     "input": [
      "D1 = st.col_stack(Delta_z, lb_f1g) ##\n",
      "st.involutivity_test(D1, xx)"
     ],
     "language": "python",
     "metadata": {},
     "outputs": [
      {
       "latex": [
        "$$\\left[\\begin{matrix}\\dot{p}_{1} & 0 & \\frac{\\kappa_{1} \\cos{\\left (q_{1} \\right )} + \\kappa_{2}}{2 \\kappa_{1} \\cos{\\left (q_{1} \\right )} + \\kappa_{2} + \\kappa_{3}}\\\\\\dot{q}_{1} & 0 & -1\\\\\\frac{1}{2 \\kappa_{1} \\cos{\\left (q_{1} \\right )} + \\kappa_{2} + \\kappa_{3}} \\left(- g \\kappa_{4} \\cos{\\left (p_{1} \\right )} - g \\kappa_{5} \\cos{\\left (p_{1} + q_{1} \\right )} + 2 \\kappa_{1} \\dot{p}_{1} \\dot{q}_{1} \\sin{\\left (q_{1} \\right )} + \\kappa_{1} \\dot{q}_{1}^{2} \\sin{\\left (q_{1} \\right )}\\right) & \\frac{- \\kappa_{1} \\cos{\\left (q_{1} \\right )} - \\kappa_{2}}{2 \\kappa_{1} \\cos{\\left (q_{1} \\right )} + \\kappa_{2} + \\kappa_{3}} & - \\frac{\\kappa_{1} \\left(2 \\dot{p}_{1} + \\dot{q}_{1}\\right) \\sin{\\left (q_{1} \\right )}}{2 \\kappa_{1} \\cos{\\left (q_{1} \\right )} + \\kappa_{2} + \\kappa_{3}}\\\\0 & 1 & 0\\end{matrix}\\right]$$"
       ],
       "metadata": {},
       "output_type": "display_data",
       "png": "[encoded data removed]",
       "text": [
        "\u23a1                                                                             \n",
        "\u23a2                                   p\u0307\u2081                                       \n",
        "\u23a2                                                                             \n",
        "\u23a2                                                                             \n",
        "\u23a2                                   q\u0307\u2081                                       \n",
        "\u23a2                                                                             \n",
        "\u23a2                                                                 2           \n",
        "\u23a2-g\u22c5\u03ba\u2084\u22c5cos(p\u2081) - g\u22c5\u03ba\u2085\u22c5cos(p\u2081 + q\u2081) + 2\u22c5\u03ba\u2081\u22c5p\u0307\u2081\u22c5q\u0307\u2081\u22c5sin(q\u2081) + \u03ba\u2081\u22c5q\u0307\u2081 \u22c5sin(q\u2081)   \n",
        "\u23a2\u2500\u2500\u2500\u2500\u2500\u2500\u2500\u2500\u2500\u2500\u2500\u2500\u2500\u2500\u2500\u2500\u2500\u2500\u2500\u2500\u2500\u2500\u2500\u2500\u2500\u2500\u2500\u2500\u2500\u2500\u2500\u2500\u2500\u2500\u2500\u2500\u2500\u2500\u2500\u2500\u2500\u2500\u2500\u2500\u2500\u2500\u2500\u2500\u2500\u2500\u2500\u2500\u2500\u2500\u2500\u2500\u2500\u2500\u2500\u2500\u2500\u2500\u2500\u2500\u2500\u2500\u2500\u2500\u2500\u2500\u2500\u2500\u2500\u2500  \u2500\n",
        "\u23a2                          2\u22c5\u03ba\u2081\u22c5cos(q\u2081) + \u03ba\u2082 + \u03ba\u2083                            2\n",
        "\u23a2                                                                             \n",
        "\u23a3                                    0                                        \n",
        "\n",
        "                            \u03ba\u2081\u22c5cos(q\u2081) + \u03ba\u2082      \u23a4\n",
        "         0               \u2500\u2500\u2500\u2500\u2500\u2500\u2500\u2500\u2500\u2500\u2500\u2500\u2500\u2500\u2500\u2500\u2500\u2500\u2500\u2500\u2500\u2500  \u23a5\n",
        "                         2\u22c5\u03ba\u2081\u22c5cos(q\u2081) + \u03ba\u2082 + \u03ba\u2083  \u23a5\n",
        "                                                 \u23a5\n",
        "         0                         -1            \u23a5\n",
        "                                                 \u23a5\n",
        "                                                 \u23a5\n",
        "  -\u03ba\u2081\u22c5cos(q\u2081) - \u03ba\u2082     -\u03ba\u2081\u22c5(2\u22c5p\u0307\u2081 + q\u0307\u2081)\u22c5sin(q\u2081) \u23a5\n",
        "\u2500\u2500\u2500\u2500\u2500\u2500\u2500\u2500\u2500\u2500\u2500\u2500\u2500\u2500\u2500\u2500\u2500\u2500\u2500\u2500\u2500  \u2500\u2500\u2500\u2500\u2500\u2500\u2500\u2500\u2500\u2500\u2500\u2500\u2500\u2500\u2500\u2500\u2500\u2500\u2500\u2500\u2500\u2500\u2500\u2500\u2500\u2500\u23a5\n",
        "\u22c5\u03ba\u2081\u22c5cos(q\u2081) + \u03ba\u2082 + \u03ba\u2083    2\u22c5\u03ba\u2081\u22c5cos(q\u2081) + \u03ba\u2082 + \u03ba\u2083  \u23a5\n",
        "                                                 \u23a5\n",
        "         1                         0             \u23a6"
       ]
      },
      {
       "output_type": "stream",
       "stream": "stdout",
       "text": [
        "---\n"
       ]
      },
      {
       "metadata": {},
       "output_type": "pyout",
       "prompt_number": 25,
       "text": [
        "(False, (0, 2))"
       ]
      }
     ],
     "prompt_number": 25
    },
    {
     "cell_type": "markdown",
     "metadata": {},
     "source": [
      "\u2192 Zwischenergebnis: $\\opspan(\\{\\mb f, \\mb g, [\\mb f, \\mb g]\\})$ ist nocht nicht involutiv. <br><br><br>"
     ]
    },
    {
     "cell_type": "code",
     "collapsed": false,
     "input": [
      "lb_f1_f1g = sp.simplify(st.lie_bracket(D1[:,0], D1[:,2], xx)) ##"
     ],
     "language": "python",
     "metadata": {},
     "outputs": [
      {
       "latex": [
        "$$\\left[\\begin{matrix}\\frac{\\kappa_{1} \\sin{\\left (q_{1} \\right )}}{\\left(2 \\kappa_{1} \\cos{\\left (q_{1} \\right )} + \\kappa_{2} + \\kappa_{3}\\right)^{2}} \\left(\\dot{q}_{1} \\left(\\kappa_{2} - \\kappa_{3}\\right) + \\left(2 \\dot{p}_{1} + \\dot{q}_{1}\\right) \\left(2 \\kappa_{1} \\cos{\\left (q_{1} \\right )} + \\kappa_{2} + \\kappa_{3}\\right)\\right)\\\\0\\\\- \\frac{g}{\\left(2 \\kappa_{1} \\cos{\\left (q_{1} \\right )} + \\kappa_{2} + \\kappa_{3}\\right)^{2}} \\left(\\kappa_{1} \\kappa_{4} \\sin{\\left (p_{1} \\right )} \\cos{\\left (q_{1} \\right )} - \\kappa_{1} \\kappa_{5} \\sin{\\left (p_{1} + q_{1} \\right )} \\cos{\\left (q_{1} \\right )} + \\kappa_{2} \\kappa_{4} \\sin{\\left (p_{1} \\right )} - \\kappa_{3} \\kappa_{5} \\sin{\\left (p_{1} + q_{1} \\right )}\\right)\\\\0\\end{matrix}\\right]$$"
       ],
       "metadata": {},
       "output_type": "display_data",
       "png": "[encoded data removed]",
       "text": [
        "\u23a1             \u03ba\u2081\u22c5(q\u0307\u2081\u22c5(\u03ba\u2082 - \u03ba\u2083) + (2\u22c5p\u0307\u2081 + q\u0307\u2081)\u22c5(2\u22c5\u03ba\u2081\u22c5cos(q\u2081) + \u03ba\u2082 + \u03ba\u2083))\u22c5sin(\n",
        "\u23a2             \u2500\u2500\u2500\u2500\u2500\u2500\u2500\u2500\u2500\u2500\u2500\u2500\u2500\u2500\u2500\u2500\u2500\u2500\u2500\u2500\u2500\u2500\u2500\u2500\u2500\u2500\u2500\u2500\u2500\u2500\u2500\u2500\u2500\u2500\u2500\u2500\u2500\u2500\u2500\u2500\u2500\u2500\u2500\u2500\u2500\u2500\u2500\u2500\u2500\u2500\u2500\u2500\u2500\u2500\u2500\u2500\u2500\u2500\u2500\u2500\u2500\u2500\u2500\u2500\n",
        "\u23a2                                                          2                  \n",
        "\u23a2                                  (2\u22c5\u03ba\u2081\u22c5cos(q\u2081) + \u03ba\u2082 + \u03ba\u2083)                   \n",
        "\u23a2                                                                             \n",
        "\u23a2                                              0                              \n",
        "\u23a2                                                                             \n",
        "\u23a2-g\u22c5(\u03ba\u2081\u22c5\u03ba\u2084\u22c5sin(p\u2081)\u22c5cos(q\u2081) - \u03ba\u2081\u22c5\u03ba\u2085\u22c5sin(p\u2081 + q\u2081)\u22c5cos(q\u2081) + \u03ba\u2082\u22c5\u03ba\u2084\u22c5sin(p\u2081) - \u03ba\u2083\u22c5\u03ba\n",
        "\u23a2\u2500\u2500\u2500\u2500\u2500\u2500\u2500\u2500\u2500\u2500\u2500\u2500\u2500\u2500\u2500\u2500\u2500\u2500\u2500\u2500\u2500\u2500\u2500\u2500\u2500\u2500\u2500\u2500\u2500\u2500\u2500\u2500\u2500\u2500\u2500\u2500\u2500\u2500\u2500\u2500\u2500\u2500\u2500\u2500\u2500\u2500\u2500\u2500\u2500\u2500\u2500\u2500\u2500\u2500\u2500\u2500\u2500\u2500\u2500\u2500\u2500\u2500\u2500\u2500\u2500\u2500\u2500\u2500\u2500\u2500\u2500\u2500\u2500\u2500\u2500\u2500\u2500\n",
        "\u23a2                                                          2                  \n",
        "\u23a2                                  (2\u22c5\u03ba\u2081\u22c5cos(q\u2081) + \u03ba\u2082 + \u03ba\u2083)                   \n",
        "\u23a2                                                                             \n",
        "\u23a3                                              0                              \n",
        "\n",
        "q\u2081)             \u23a4\n",
        "\u2500\u2500\u2500             \u23a5\n",
        "                \u23a5\n",
        "                \u23a5\n",
        "                \u23a5\n",
        "                \u23a5\n",
        "                \u23a5\n",
        "\u2085\u22c5sin(p\u2081 + q\u2081)) \u23a5\n",
        "\u2500\u2500\u2500\u2500\u2500\u2500\u2500\u2500\u2500\u2500\u2500\u2500\u2500\u2500\u2500\u2500\u23a5\n",
        "                \u23a5\n",
        "                \u23a5\n",
        "                \u23a5\n",
        "                \u23a6"
       ]
      },
      {
       "output_type": "stream",
       "stream": "stdout",
       "text": [
        "---\n"
       ]
      }
     ],
     "prompt_number": 26
    },
    {
     "cell_type": "code",
     "collapsed": false,
     "input": [
      "D2 = st.col_stack(D1, lb_f1_f1g)\n",
      "st.involutivity_test(D2, xx)"
     ],
     "language": "python",
     "metadata": {},
     "outputs": [
      {
       "metadata": {},
       "output_type": "pyout",
       "prompt_number": 27,
       "text": [
        "(True, [])"
       ]
      }
     ],
     "prompt_number": 27
    },
    {
     "cell_type": "markdown",
     "metadata": {},
     "source": [
      "\u2192 $\\opspan(\\{\\mb f, \\mb g, [\\mb f, \\mb g], [\\mb g, [\\mb f, \\mb g]]\\})$ ist involutiv."
     ]
    },
    {
     "cell_type": "code",
     "collapsed": false,
     "input": [
      "Delta_Z = D2\n",
      "st.generic_rank(Delta_Z)"
     ],
     "language": "python",
     "metadata": {},
     "outputs": [
      {
       "latex": [
        "$$4$$"
       ],
       "metadata": {},
       "output_type": "pyout",
       "png": "[encoded data removed]",
       "prompt_number": 28,
       "text": [
        "4"
       ]
      }
     ],
     "prompt_number": 28
    },
    {
     "cell_type": "markdown",
     "metadata": {},
     "source": [
      "#### Fazit:\n",
      "Die Distribution $\\Delta_{\\text{Z}}$ hat also f\u00fcr einen generischen Zustand vollen Rang. Das System ist lokal zug\u00e4nglich.\n",
      "\n",
      "---"
     ]
    },
    {
     "cell_type": "markdown",
     "metadata": {},
     "source": [
      "### Betrachtung des Spezialfalls $g = 0$ (Acrobot ohne Schwerkraft)."
     ]
    },
    {
     "cell_type": "code",
     "collapsed": false,
     "input": [
      "D1.subs(g,0) ##\n",
      "st.involutivity_test(D1.subs(g,0), xx)"
     ],
     "language": "python",
     "metadata": {},
     "outputs": [
      {
       "latex": [
        "$$\\left[\\begin{matrix}\\dot{p}_{1} & 0 & \\frac{\\kappa_{1} \\cos{\\left (q_{1} \\right )} + \\kappa_{2}}{2 \\kappa_{1} \\cos{\\left (q_{1} \\right )} + \\kappa_{2} + \\kappa_{3}}\\\\\\dot{q}_{1} & 0 & -1\\\\\\frac{2 \\kappa_{1} \\dot{p}_{1} \\dot{q}_{1} \\sin{\\left (q_{1} \\right )} + \\kappa_{1} \\dot{q}_{1}^{2} \\sin{\\left (q_{1} \\right )}}{2 \\kappa_{1} \\cos{\\left (q_{1} \\right )} + \\kappa_{2} + \\kappa_{3}} & \\frac{- \\kappa_{1} \\cos{\\left (q_{1} \\right )} - \\kappa_{2}}{2 \\kappa_{1} \\cos{\\left (q_{1} \\right )} + \\kappa_{2} + \\kappa_{3}} & - \\frac{\\kappa_{1} \\left(2 \\dot{p}_{1} + \\dot{q}_{1}\\right) \\sin{\\left (q_{1} \\right )}}{2 \\kappa_{1} \\cos{\\left (q_{1} \\right )} + \\kappa_{2} + \\kappa_{3}}\\\\0 & 1 & 0\\end{matrix}\\right]$$"
       ],
       "metadata": {},
       "output_type": "display_data",
       "png": "[encoded data removed]",
       "text": [
        "\u23a1                                                                     \u03ba\u2081\u22c5cos(q\n",
        "\u23a2                 p\u0307\u2081                              0               \u2500\u2500\u2500\u2500\u2500\u2500\u2500\u2500\u2500\u2500\u2500\n",
        "\u23a2                                                                  2\u22c5\u03ba\u2081\u22c5cos(q\u2081\n",
        "\u23a2                                                                             \n",
        "\u23a2                 q\u0307\u2081                              0                         -\n",
        "\u23a2                                                                             \n",
        "\u23a2                             2                                               \n",
        "\u23a22\u22c5\u03ba\u2081\u22c5p\u0307\u2081\u22c5q\u0307\u2081\u22c5sin(q\u2081) + \u03ba\u2081\u22c5q\u0307\u2081 \u22c5sin(q\u2081)     -\u03ba\u2081\u22c5cos(q\u2081) - \u03ba\u2082     -\u03ba\u2081\u22c5(2\u22c5p\u0307\u2081 + \n",
        "\u23a2\u2500\u2500\u2500\u2500\u2500\u2500\u2500\u2500\u2500\u2500\u2500\u2500\u2500\u2500\u2500\u2500\u2500\u2500\u2500\u2500\u2500\u2500\u2500\u2500\u2500\u2500\u2500\u2500\u2500\u2500\u2500\u2500\u2500\u2500\u2500\u2500\u2500\u2500  \u2500\u2500\u2500\u2500\u2500\u2500\u2500\u2500\u2500\u2500\u2500\u2500\u2500\u2500\u2500\u2500\u2500\u2500\u2500\u2500\u2500\u2500  \u2500\u2500\u2500\u2500\u2500\u2500\u2500\u2500\u2500\u2500\u2500\u2500\u2500\n",
        "\u23a2        2\u22c5\u03ba\u2081\u22c5cos(q\u2081) + \u03ba\u2082 + \u03ba\u2083          2\u22c5\u03ba\u2081\u22c5cos(q\u2081) + \u03ba\u2082 + \u03ba\u2083    2\u22c5\u03ba\u2081\u22c5cos(q\u2081\n",
        "\u23a2                                                                             \n",
        "\u23a3                  0                               1                         0\n",
        "\n",
        "\u2081) + \u03ba\u2082      \u23a4\n",
        "\u2500\u2500\u2500\u2500\u2500\u2500\u2500\u2500\u2500\u2500\u2500  \u23a5\n",
        ") + \u03ba\u2082 + \u03ba\u2083  \u23a5\n",
        "             \u23a5\n",
        "1            \u23a5\n",
        "             \u23a5\n",
        "             \u23a5\n",
        "q\u0307\u2081)\u22c5sin(q\u2081) \u23a5\n",
        "\u2500\u2500\u2500\u2500\u2500\u2500\u2500\u2500\u2500\u2500\u2500\u2500\u2500\u23a5\n",
        ") + \u03ba\u2082 + \u03ba\u2083  \u23a5\n",
        "             \u23a5\n",
        "             \u23a6"
       ]
      },
      {
       "output_type": "stream",
       "stream": "stdout",
       "text": [
        "___\n"
       ]
      },
      {
       "metadata": {},
       "output_type": "pyout",
       "prompt_number": 29,
       "text": [
        "(True, [])"
       ]
      }
     ],
     "prompt_number": 29
    },
    {
     "cell_type": "markdown",
     "metadata": {},
     "source": [
      "####Fazit:\n",
      "F\u00fcr $g=0$ ist $\\opspan(\\{\\mb f, \\mb g, [\\mb f, \\mb g]\\})$ schon involutiv.\n",
      "Mit Hilfe der Differential-Formen-Methode kann eine Erhaltungsgr\u00f6\u00dfe des Systems bestimmt werden:"
     ]
    },
    {
     "cell_type": "code",
     "collapsed": false,
     "input": [
      "# Links-Orthokomplement der Matrix D1 bestimmen:\n",
      "\n",
      "D1_ann = st.nullspaceMatrix(D1.subs(g,0).T).T ##"
     ],
     "language": "python",
     "metadata": {},
     "outputs": [
      {
       "latex": [
        "$$\\left[\\begin{matrix}0 & - \\kappa_{1} \\left(2 \\dot{p}_{1} + \\dot{q}_{1}\\right) \\sin{\\left (q_{1} \\right )} & 2 \\kappa_{1} \\cos{\\left (q_{1} \\right )} + \\kappa_{2} + \\kappa_{3} & \\kappa_{1} \\cos{\\left (q_{1} \\right )} + \\kappa_{2}\\end{matrix}\\right]$$"
       ],
       "metadata": {},
       "output_type": "display_data",
       "png": "[encoded data removed]",
       "text": [
        "[0  -\u03ba\u2081\u22c5(2\u22c5p\u0307\u2081 + q\u0307\u2081)\u22c5sin(q\u2081)  2\u22c5\u03ba\u2081\u22c5cos(q\u2081) + \u03ba\u2082 + \u03ba\u2083  \u03ba\u2081\u22c5cos(q\u2081) + \u03ba\u2082]"
       ]
      },
      {
       "output_type": "stream",
       "stream": "stdout",
       "text": [
        "---\n"
       ]
      }
     ],
     "prompt_number": 30
    },
    {
     "cell_type": "code",
     "collapsed": false,
     "input": [
      "latex(D1_ann)"
     ],
     "language": "python",
     "metadata": {},
     "outputs": [
      {
       "output_type": "stream",
       "stream": "stdout",
       "text": [
        "\\left(\\begin{matrix}\n",
        "0 & - \\kappa_{1} \\left(2 \\dot{p}_{1} + \\dot{q}_{1}\\right) \\sin q_{1}  & 2 \\kappa_{1} \\cos q_{1}  + \\kappa_{2} + \\kappa_{3} & \\kappa_{1} \\cos q_{1}  + \\kappa_{2}\n",
        "\\end{matrix}\\right)\n",
        "-------------\n"
       ]
      }
     ],
     "prompt_number": 31
    },
    {
     "cell_type": "code",
     "collapsed": false,
     "input": [
      "# Zugeh\u00f6rige Differentialform anlegen\n",
      "w = pc.DifferentialForm(1, xx, coeff=D1_ann) ##\n",
      "\n",
      "# Integrierbarkeit pr\u00fcfen\n",
      "w.d ##\n",
      "\n",
      "# Integration durchf\u00fchren\n",
      "E = w.integrate() ##"
     ],
     "language": "python",
     "metadata": {},
     "outputs": [
      {
       "metadata": {},
       "output_type": "display_data",
       "text": [
        "(-kappa1*(2*pdot1 + qdot1)*sin(q1)) dq1+(2*kappa1*cos(q1) + kappa2 + kappa3) dpdot1+(kappa1*cos(q1) + kappa2) dqdot1"
       ]
      },
      {
       "output_type": "stream",
       "stream": "stdout",
       "text": [
        "---\n"
       ]
      },
      {
       "metadata": {},
       "output_type": "display_data",
       "text": [
        "0"
       ]
      },
      {
       "output_type": "stream",
       "stream": "stdout",
       "text": [
        "___\n"
       ]
      },
      {
       "latex": [
        "$$\\kappa_{1} \\left(2 \\dot{p}_{1} + \\dot{q}_{1}\\right) \\cos{\\left (q_{1} \\right )} + \\dot{p}_{1} \\left(2 \\kappa_{1} \\cos{\\left (q_{1} \\right )} + \\kappa_{2} + \\kappa_{3}\\right) + \\dot{q}_{1} \\left(\\kappa_{1} \\cos{\\left (q_{1} \\right )} + \\kappa_{2}\\right)$$"
       ],
       "metadata": {},
       "output_type": "display_data",
       "png": "[encoded data removed]",
       "text": [
        "\u03ba\u2081\u22c5(2\u22c5p\u0307\u2081 + q\u0307\u2081)\u22c5cos(q\u2081) + p\u0307\u2081\u22c5(2\u22c5\u03ba\u2081\u22c5cos(q\u2081) + \u03ba\u2082 + \u03ba\u2083) + q\u0307\u2081\u22c5(\u03ba\u2081\u22c5cos(q\u2081) + \u03ba\u2082\n",
        ")"
       ]
      },
      {
       "output_type": "stream",
       "stream": "stdout",
       "text": [
        "---\n"
       ]
      }
     ],
     "prompt_number": 32
    },
    {
     "cell_type": "code",
     "collapsed": false,
     "input": [
      "latex(E)"
     ],
     "language": "python",
     "metadata": {},
     "outputs": [
      {
       "output_type": "stream",
       "stream": "stdout",
       "text": [
        "\\kappa_{1} \\left(2 \\dot{p}_{1} + \\dot{q}_{1}\\right) \\cos q_{1}  + \\dot{p}_{1} \\left(2 \\kappa_{1} \\cos q_{1}  + \\kappa_{2} + \\kappa_{3}\\right) + \\dot{q}_{1} \\left(\\kappa_{1} \\cos q_{1}  + \\kappa_{2}\\right)\n",
        "-------------\n"
       ]
      }
     ],
     "prompt_number": 39
    },
    {
     "cell_type": "markdown",
     "metadata": {},
     "source": [
      "\n",
      "\n",
      "### Starke lokale Zug\u00e4nglichkeit pr\u00fcfen\n",
      "\n",
      "Aus $\\Delta_0 := \\opspan \\bs g_1$ schrittweise die Distribution $\\Delta_{\\text{sZ}}$ bilden:"
     ]
    },
    {
     "cell_type": "code",
     "collapsed": false,
     "input": [
      "D1 = st.col_stack(gg, lb_f1g)\n",
      "st.generic_rank(D1) ##"
     ],
     "language": "python",
     "metadata": {},
     "outputs": [
      {
       "latex": [
        "$$2$$"
       ],
       "metadata": {},
       "output_type": "display_data",
       "png": "[encoded data removed]",
       "text": [
        "2"
       ]
      },
      {
       "output_type": "stream",
       "stream": "stdout",
       "text": [
        "___\n"
       ]
      }
     ],
     "prompt_number": 33
    },
    {
     "cell_type": "code",
     "collapsed": false,
     "input": [
      "lb_f2g = sp.simplify(st.lie_bracket(ff, D1[:, -1], xx)) ##\n",
      "D2 = st.col_stack(D1, lb_f2g)\n",
      "st.generic_rank(D2) ##"
     ],
     "language": "python",
     "metadata": {},
     "outputs": [
      {
       "latex": [
        "$$\\left[\\begin{matrix}\\frac{\\kappa_{1} \\sin{\\left (q_{1} \\right )}}{\\left(2 \\kappa_{1} \\cos{\\left (q_{1} \\right )} + \\kappa_{2} + \\kappa_{3}\\right)^{2}} \\left(\\dot{q}_{1} \\left(\\kappa_{2} - \\kappa_{3}\\right) + \\left(2 \\dot{p}_{1} + \\dot{q}_{1}\\right) \\left(2 \\kappa_{1} \\cos{\\left (q_{1} \\right )} + \\kappa_{2} + \\kappa_{3}\\right)\\right)\\\\0\\\\- \\frac{g}{\\left(2 \\kappa_{1} \\cos{\\left (q_{1} \\right )} + \\kappa_{2} + \\kappa_{3}\\right)^{2}} \\left(\\kappa_{1} \\kappa_{4} \\sin{\\left (p_{1} \\right )} \\cos{\\left (q_{1} \\right )} - \\kappa_{1} \\kappa_{5} \\sin{\\left (p_{1} + q_{1} \\right )} \\cos{\\left (q_{1} \\right )} + \\kappa_{2} \\kappa_{4} \\sin{\\left (p_{1} \\right )} - \\kappa_{3} \\kappa_{5} \\sin{\\left (p_{1} + q_{1} \\right )}\\right)\\\\0\\end{matrix}\\right]$$"
       ],
       "metadata": {},
       "output_type": "display_data",
       "png": "[encoded data removed]",
       "text": [
        "\u23a1             \u03ba\u2081\u22c5(q\u0307\u2081\u22c5(\u03ba\u2082 - \u03ba\u2083) + (2\u22c5p\u0307\u2081 + q\u0307\u2081)\u22c5(2\u22c5\u03ba\u2081\u22c5cos(q\u2081) + \u03ba\u2082 + \u03ba\u2083))\u22c5sin(\n",
        "\u23a2             \u2500\u2500\u2500\u2500\u2500\u2500\u2500\u2500\u2500\u2500\u2500\u2500\u2500\u2500\u2500\u2500\u2500\u2500\u2500\u2500\u2500\u2500\u2500\u2500\u2500\u2500\u2500\u2500\u2500\u2500\u2500\u2500\u2500\u2500\u2500\u2500\u2500\u2500\u2500\u2500\u2500\u2500\u2500\u2500\u2500\u2500\u2500\u2500\u2500\u2500\u2500\u2500\u2500\u2500\u2500\u2500\u2500\u2500\u2500\u2500\u2500\u2500\u2500\u2500\n",
        "\u23a2                                                          2                  \n",
        "\u23a2                                  (2\u22c5\u03ba\u2081\u22c5cos(q\u2081) + \u03ba\u2082 + \u03ba\u2083)                   \n",
        "\u23a2                                                                             \n",
        "\u23a2                                              0                              \n",
        "\u23a2                                                                             \n",
        "\u23a2-g\u22c5(\u03ba\u2081\u22c5\u03ba\u2084\u22c5sin(p\u2081)\u22c5cos(q\u2081) - \u03ba\u2081\u22c5\u03ba\u2085\u22c5sin(p\u2081 + q\u2081)\u22c5cos(q\u2081) + \u03ba\u2082\u22c5\u03ba\u2084\u22c5sin(p\u2081) - \u03ba\u2083\u22c5\u03ba\n",
        "\u23a2\u2500\u2500\u2500\u2500\u2500\u2500\u2500\u2500\u2500\u2500\u2500\u2500\u2500\u2500\u2500\u2500\u2500\u2500\u2500\u2500\u2500\u2500\u2500\u2500\u2500\u2500\u2500\u2500\u2500\u2500\u2500\u2500\u2500\u2500\u2500\u2500\u2500\u2500\u2500\u2500\u2500\u2500\u2500\u2500\u2500\u2500\u2500\u2500\u2500\u2500\u2500\u2500\u2500\u2500\u2500\u2500\u2500\u2500\u2500\u2500\u2500\u2500\u2500\u2500\u2500\u2500\u2500\u2500\u2500\u2500\u2500\u2500\u2500\u2500\u2500\u2500\u2500\n",
        "\u23a2                                                          2                  \n",
        "\u23a2                                  (2\u22c5\u03ba\u2081\u22c5cos(q\u2081) + \u03ba\u2082 + \u03ba\u2083)                   \n",
        "\u23a2                                                                             \n",
        "\u23a3                                              0                              \n",
        "\n",
        "q\u2081)             \u23a4\n",
        "\u2500\u2500\u2500             \u23a5\n",
        "                \u23a5\n",
        "                \u23a5\n",
        "                \u23a5\n",
        "                \u23a5\n",
        "                \u23a5\n",
        "\u2085\u22c5sin(p\u2081 + q\u2081)) \u23a5\n",
        "\u2500\u2500\u2500\u2500\u2500\u2500\u2500\u2500\u2500\u2500\u2500\u2500\u2500\u2500\u2500\u2500\u23a5\n",
        "                \u23a5\n",
        "                \u23a5\n",
        "                \u23a5\n",
        "                \u23a6"
       ]
      },
      {
       "output_type": "stream",
       "stream": "stdout",
       "text": [
        "---\n"
       ]
      },
      {
       "latex": [
        "$$3$$"
       ],
       "metadata": {},
       "output_type": "display_data",
       "png": "[encoded data removed]",
       "text": [
        "3"
       ]
      },
      {
       "output_type": "stream",
       "stream": "stdout",
       "text": [
        "___\n"
       ]
      }
     ],
     "prompt_number": 34
    },
    {
     "cell_type": "code",
     "collapsed": false,
     "input": [
      "st.generic_rank(D2.subs(g,0)) ##"
     ],
     "language": "python",
     "metadata": {},
     "outputs": [
      {
       "latex": [
        "$$3$$"
       ],
       "metadata": {},
       "output_type": "display_data",
       "png": "[encoded data removed]",
       "text": [
        "3"
       ]
      },
      {
       "output_type": "stream",
       "stream": "stdout",
       "text": [
        "___\n"
       ]
      }
     ],
     "prompt_number": 35
    },
    {
     "cell_type": "code",
     "collapsed": false,
     "input": [
      "lb_f3g = sp.simplify(st.lie_bracket(ff, D2[:, -1], xx)) ##\n",
      "D3 = st.col_stack(D2, lb_f3g)\n",
      "st.generic_rank(D3) ##"
     ],
     "language": "python",
     "metadata": {},
     "outputs": [
      {
       "latex": [
        "$$\\left[\\begin{matrix}\\frac{1}{\\left(2 \\kappa_{1} \\cos{\\left (q_{1} \\right )} + \\kappa_{2} + \\kappa_{3}\\right)^{3}} \\left(g \\left(2 \\kappa_{1} \\cos{\\left (q_{1} \\right )} + \\kappa_{2} + \\kappa_{3}\\right) \\left(\\kappa_{1} \\kappa_{4} \\sin{\\left (p_{1} \\right )} \\cos{\\left (q_{1} \\right )} - \\kappa_{1} \\kappa_{5} \\sin{\\left (p_{1} + q_{1} \\right )} \\cos{\\left (q_{1} \\right )} + \\kappa_{2} \\kappa_{4} \\sin{\\left (p_{1} \\right )} - \\kappa_{3} \\kappa_{5} \\sin{\\left (p_{1} + q_{1} \\right )}\\right) + \\kappa_{1} \\dot{q}_{1} \\left(4 \\kappa_{1} \\left(\\dot{q}_{1} \\left(\\kappa_{2} - \\kappa_{3}\\right) + \\left(2 \\dot{p}_{1} + \\dot{q}_{1}\\right) \\left(2 \\kappa_{1} \\cos{\\left (q_{1} \\right )} + \\kappa_{2} + \\kappa_{3}\\right)\\right) \\sin^{2}{\\left (q_{1} \\right )} + \\left(- 2 \\kappa_{1} \\left(2 \\dot{p}_{1} + \\dot{q}_{1}\\right) \\sin^{2}{\\left (q_{1} \\right )} + \\left(\\dot{q}_{1} \\left(\\kappa_{2} - \\kappa_{3}\\right) + \\left(2 \\dot{p}_{1} + \\dot{q}_{1}\\right) \\left(2 \\kappa_{1} \\cos{\\left (q_{1} \\right )} + \\kappa_{2} + \\kappa_{3}\\right)\\right) \\cos{\\left (q_{1} \\right )}\\right) \\left(2 \\kappa_{1} \\cos{\\left (q_{1} \\right )} + \\kappa_{2} + \\kappa_{3}\\right)\\right) - 2 \\kappa_{1} \\left(2 \\kappa_{1} \\cos{\\left (q_{1} \\right )} + \\kappa_{2} + \\kappa_{3}\\right) \\left(g \\kappa_{4} \\cos{\\left (p_{1} \\right )} + g \\kappa_{5} \\cos{\\left (p_{1} + q_{1} \\right )} - 2 \\kappa_{1} \\dot{p}_{1} \\dot{q}_{1} \\sin{\\left (q_{1} \\right )} - \\kappa_{1} \\dot{q}_{1}^{2} \\sin{\\left (q_{1} \\right )}\\right) \\sin{\\left (q_{1} \\right )}\\right)\\\\0\\\\\\frac{g}{\\left(2 \\kappa_{1} \\cos{\\left (q_{1} \\right )} + \\kappa_{2} + \\kappa_{3}\\right)^{3}} \\left(\\kappa_{1} \\left(2 \\dot{q}_{1} \\left(\\kappa_{1} \\kappa_{4} \\sin{\\left (p_{1} \\right )} \\cos{\\left (q_{1} \\right )} - \\kappa_{1} \\kappa_{5} \\sin{\\left (p_{1} + q_{1} \\right )} \\cos{\\left (q_{1} \\right )} + \\kappa_{2} \\kappa_{4} \\sin{\\left (p_{1} \\right )} - \\kappa_{3} \\kappa_{5} \\sin{\\left (p_{1} + q_{1} \\right )}\\right) - \\left(\\kappa_{4} \\sin{\\left (p_{1} \\right )} + \\kappa_{5} \\sin{\\left (p_{1} + q_{1} \\right )}\\right) \\left(\\dot{q}_{1} \\left(\\kappa_{2} - \\kappa_{3}\\right) + \\left(2 \\dot{p}_{1} + \\dot{q}_{1}\\right) \\left(2 \\kappa_{1} \\cos{\\left (q_{1} \\right )} + \\kappa_{2} + \\kappa_{3}\\right)\\right)\\right) \\sin{\\left (q_{1} \\right )} - \\dot{p}_{1} \\left(2 \\kappa_{1} \\cos{\\left (q_{1} \\right )} + \\kappa_{2} + \\kappa_{3}\\right) \\left(\\kappa_{1} \\kappa_{4} \\cos{\\left (p_{1} \\right )} \\cos{\\left (q_{1} \\right )} - \\kappa_{1} \\kappa_{5} \\cos{\\left (q_{1} \\right )} \\cos{\\left (p_{1} + q_{1} \\right )} + \\kappa_{2} \\kappa_{4} \\cos{\\left (p_{1} \\right )} - \\kappa_{3} \\kappa_{5} \\cos{\\left (p_{1} + q_{1} \\right )}\\right) - \\dot{q}_{1} \\left(4 \\kappa_{1} \\left(\\kappa_{1} \\kappa_{4} \\sin{\\left (p_{1} \\right )} \\cos{\\left (q_{1} \\right )} - \\kappa_{1} \\kappa_{5} \\sin{\\left (p_{1} + q_{1} \\right )} \\cos{\\left (q_{1} \\right )} + \\kappa_{2} \\kappa_{4} \\sin{\\left (p_{1} \\right )} - \\kappa_{3} \\kappa_{5} \\sin{\\left (p_{1} + q_{1} \\right )}\\right) \\sin{\\left (q_{1} \\right )} - \\left(2 \\kappa_{1} \\cos{\\left (q_{1} \\right )} + \\kappa_{2} + \\kappa_{3}\\right) \\left(\\kappa_{1} \\kappa_{4} \\sin{\\left (p_{1} \\right )} \\sin{\\left (q_{1} \\right )} - \\kappa_{1} \\kappa_{5} \\sin{\\left (q_{1} \\right )} \\sin{\\left (p_{1} + q_{1} \\right )} + \\kappa_{1} \\kappa_{5} \\cos{\\left (q_{1} \\right )} \\cos{\\left (p_{1} + q_{1} \\right )} + \\kappa_{3} \\kappa_{5} \\cos{\\left (p_{1} + q_{1} \\right )}\\right)\\right)\\right)\\\\0\\end{matrix}\\right]$$"
       ],
       "metadata": {},
       "output_type": "display_data",
       "png": "[encoded data removed]",
       "text": [
        "\u23a1                                                                             \n",
        "\u23a2                                                              g\u22c5(2\u22c5\u03ba\u2081\u22c5cos(q\u2081)\n",
        "\u23a2                                                              \u2500\u2500\u2500\u2500\u2500\u2500\u2500\u2500\u2500\u2500\u2500\u2500\u2500\u2500\u2500\n",
        "\u23a2                                                                             \n",
        "\u23a2                                                                             \n",
        "\u23a2                                                                             \n",
        "\u23a2                                                                             \n",
        "\u23a2                                                                             \n",
        "\u23a2g\u22c5(\u03ba\u2081\u22c5(2\u22c5q\u0307\u2081\u22c5(\u03ba\u2081\u22c5\u03ba\u2084\u22c5sin(p\u2081)\u22c5cos(q\u2081) - \u03ba\u2081\u22c5\u03ba\u2085\u22c5sin(p\u2081 + q\u2081)\u22c5cos(q\u2081) + \u03ba\u2082\u22c5\u03ba\u2084\u22c5sin(\n",
        "\u23a2\u2500\u2500\u2500\u2500\u2500\u2500\u2500\u2500\u2500\u2500\u2500\u2500\u2500\u2500\u2500\u2500\u2500\u2500\u2500\u2500\u2500\u2500\u2500\u2500\u2500\u2500\u2500\u2500\u2500\u2500\u2500\u2500\u2500\u2500\u2500\u2500\u2500\u2500\u2500\u2500\u2500\u2500\u2500\u2500\u2500\u2500\u2500\u2500\u2500\u2500\u2500\u2500\u2500\u2500\u2500\u2500\u2500\u2500\u2500\u2500\u2500\u2500\u2500\u2500\u2500\u2500\u2500\u2500\u2500\u2500\u2500\u2500\u2500\u2500\u2500\u2500\u2500\n",
        "\u23a2                                                                             \n",
        "\u23a2                                                                             \n",
        "\u23a2                                                                             \n",
        "\u23a3                                                                             \n",
        "\n",
        "                                                                              \n",
        " + \u03ba\u2082 + \u03ba\u2083)\u22c5(\u03ba\u2081\u22c5\u03ba\u2084\u22c5sin(p\u2081)\u22c5cos(q\u2081) - \u03ba\u2081\u22c5\u03ba\u2085\u22c5sin(p\u2081 + q\u2081)\u22c5cos(q\u2081) + \u03ba\u2082\u22c5\u03ba\u2084\u22c5sin(p\u2081\n",
        "\u2500\u2500\u2500\u2500\u2500\u2500\u2500\u2500\u2500\u2500\u2500\u2500\u2500\u2500\u2500\u2500\u2500\u2500\u2500\u2500\u2500\u2500\u2500\u2500\u2500\u2500\u2500\u2500\u2500\u2500\u2500\u2500\u2500\u2500\u2500\u2500\u2500\u2500\u2500\u2500\u2500\u2500\u2500\u2500\u2500\u2500\u2500\u2500\u2500\u2500\u2500\u2500\u2500\u2500\u2500\u2500\u2500\u2500\u2500\u2500\u2500\u2500\u2500\u2500\u2500\u2500\u2500\u2500\u2500\u2500\u2500\u2500\u2500\u2500\u2500\u2500\u2500\u2500\n",
        "                                                                              \n",
        "                                                                              \n",
        "                                                                              \n",
        "                                                                              \n",
        "                                                                              \n",
        "p\u2081) - \u03ba\u2083\u22c5\u03ba\u2085\u22c5sin(p\u2081 + q\u2081)) - (\u03ba\u2084\u22c5sin(p\u2081) + \u03ba\u2085\u22c5sin(p\u2081 + q\u2081))\u22c5(q\u0307\u2081\u22c5(\u03ba\u2082 - \u03ba\u2083) + (2\n",
        "\u2500\u2500\u2500\u2500\u2500\u2500\u2500\u2500\u2500\u2500\u2500\u2500\u2500\u2500\u2500\u2500\u2500\u2500\u2500\u2500\u2500\u2500\u2500\u2500\u2500\u2500\u2500\u2500\u2500\u2500\u2500\u2500\u2500\u2500\u2500\u2500\u2500\u2500\u2500\u2500\u2500\u2500\u2500\u2500\u2500\u2500\u2500\u2500\u2500\u2500\u2500\u2500\u2500\u2500\u2500\u2500\u2500\u2500\u2500\u2500\u2500\u2500\u2500\u2500\u2500\u2500\u2500\u2500\u2500\u2500\u2500\u2500\u2500\u2500\u2500\u2500\u2500\u2500\n",
        "                                                                              \n",
        "                                                                              \n",
        "                                                                              \n",
        "                                                                              \n",
        "\n",
        "                                 \u239b                                            \n",
        ") - \u03ba\u2083\u22c5\u03ba\u2085\u22c5sin(p\u2081 + q\u2081)) + \u03ba\u2081\u22c5q\u0307\u2081\u22c5\u239d4\u22c5\u03ba\u2081\u22c5(q\u0307\u2081\u22c5(\u03ba\u2082 - \u03ba\u2083) + (2\u22c5p\u0307\u2081 + q\u0307\u2081)\u22c5(2\u22c5\u03ba\u2081\u22c5co\n",
        "\u2500\u2500\u2500\u2500\u2500\u2500\u2500\u2500\u2500\u2500\u2500\u2500\u2500\u2500\u2500\u2500\u2500\u2500\u2500\u2500\u2500\u2500\u2500\u2500\u2500\u2500\u2500\u2500\u2500\u2500\u2500\u2500\u2500\u2500\u2500\u2500\u2500\u2500\u2500\u2500\u2500\u2500\u2500\u2500\u2500\u2500\u2500\u2500\u2500\u2500\u2500\u2500\u2500\u2500\u2500\u2500\u2500\u2500\u2500\u2500\u2500\u2500\u2500\u2500\u2500\u2500\u2500\u2500\u2500\u2500\u2500\u2500\u2500\u2500\u2500\u2500\u2500\u2500\n",
        "                                                                              \n",
        "                                                                              \n",
        "                                                                              \n",
        "                                                                              \n",
        "                                                                              \n",
        "\u22c5p\u0307\u2081 + q\u0307\u2081)\u22c5(2\u22c5\u03ba\u2081\u22c5cos(q\u2081) + \u03ba\u2082 + \u03ba\u2083)))\u22c5sin(q\u2081) - p\u0307\u2081\u22c5(2\u22c5\u03ba\u2081\u22c5cos(q\u2081) + \u03ba\u2082 + \u03ba\u2083)\u22c5\n",
        "\u2500\u2500\u2500\u2500\u2500\u2500\u2500\u2500\u2500\u2500\u2500\u2500\u2500\u2500\u2500\u2500\u2500\u2500\u2500\u2500\u2500\u2500\u2500\u2500\u2500\u2500\u2500\u2500\u2500\u2500\u2500\u2500\u2500\u2500\u2500\u2500\u2500\u2500\u2500\u2500\u2500\u2500\u2500\u2500\u2500\u2500\u2500\u2500\u2500\u2500\u2500\u2500\u2500\u2500\u2500\u2500\u2500\u2500\u2500\u2500\u2500\u2500\u2500\u2500\u2500\u2500\u2500\u2500\u2500\u2500\u2500\u2500\u2500\u2500\u2500\u2500\u2500\u2500\n",
        "                                                                              \n",
        "                                                                              \n",
        "                                                                              \n",
        "                                                                              \n",
        "\n",
        "                     2       \u239b                        2                       \n",
        "s(q\u2081) + \u03ba\u2082 + \u03ba\u2083))\u22c5sin (q\u2081) + \u239d- 2\u22c5\u03ba\u2081\u22c5(2\u22c5p\u0307\u2081 + q\u0307\u2081)\u22c5sin (q\u2081) + (q\u0307\u2081\u22c5(\u03ba\u2082 - \u03ba\u2083) +\n",
        "\u2500\u2500\u2500\u2500\u2500\u2500\u2500\u2500\u2500\u2500\u2500\u2500\u2500\u2500\u2500\u2500\u2500\u2500\u2500\u2500\u2500\u2500\u2500\u2500\u2500\u2500\u2500\u2500\u2500\u2500\u2500\u2500\u2500\u2500\u2500\u2500\u2500\u2500\u2500\u2500\u2500\u2500\u2500\u2500\u2500\u2500\u2500\u2500\u2500\u2500\u2500\u2500\u2500\u2500\u2500\u2500\u2500\u2500\u2500\u2500\u2500\u2500\u2500\u2500\u2500\u2500\u2500\u2500\u2500\u2500\u2500\u2500\u2500\u2500\u2500\u2500\u2500\u2500\n",
        "                                                            3                 \n",
        "                                    (2\u22c5\u03ba\u2081\u22c5cos(q\u2081) + \u03ba\u2082 + \u03ba\u2083)                  \n",
        "                                                                              \n",
        "                                                0                             \n",
        "                                                                              \n",
        "(\u03ba\u2081\u22c5\u03ba\u2084\u22c5cos(p\u2081)\u22c5cos(q\u2081) - \u03ba\u2081\u22c5\u03ba\u2085\u22c5cos(q\u2081)\u22c5cos(p\u2081 + q\u2081) + \u03ba\u2082\u22c5\u03ba\u2084\u22c5cos(p\u2081) - \u03ba\u2083\u22c5\u03ba\u2085\u22c5co\n",
        "\u2500\u2500\u2500\u2500\u2500\u2500\u2500\u2500\u2500\u2500\u2500\u2500\u2500\u2500\u2500\u2500\u2500\u2500\u2500\u2500\u2500\u2500\u2500\u2500\u2500\u2500\u2500\u2500\u2500\u2500\u2500\u2500\u2500\u2500\u2500\u2500\u2500\u2500\u2500\u2500\u2500\u2500\u2500\u2500\u2500\u2500\u2500\u2500\u2500\u2500\u2500\u2500\u2500\u2500\u2500\u2500\u2500\u2500\u2500\u2500\u2500\u2500\u2500\u2500\u2500\u2500\u2500\u2500\u2500\u2500\u2500\u2500\u2500\u2500\u2500\u2500\u2500\u2500\n",
        "                                                            3                 \n",
        "                                    (2\u22c5\u03ba\u2081\u22c5cos(q\u2081) + \u03ba\u2082 + \u03ba\u2083)                  \n",
        "                                                                              \n",
        "                                                0                             \n",
        "\n",
        "                                                \u239e                         \u239e   \n",
        " (2\u22c5p\u0307\u2081 + q\u0307\u2081)\u22c5(2\u22c5\u03ba\u2081\u22c5cos(q\u2081) + \u03ba\u2082 + \u03ba\u2083))\u22c5cos(q\u2081)\u23a0\u22c5(2\u22c5\u03ba\u2081\u22c5cos(q\u2081) + \u03ba\u2082 + \u03ba\u2083)\u23a0 - \n",
        "\u2500\u2500\u2500\u2500\u2500\u2500\u2500\u2500\u2500\u2500\u2500\u2500\u2500\u2500\u2500\u2500\u2500\u2500\u2500\u2500\u2500\u2500\u2500\u2500\u2500\u2500\u2500\u2500\u2500\u2500\u2500\u2500\u2500\u2500\u2500\u2500\u2500\u2500\u2500\u2500\u2500\u2500\u2500\u2500\u2500\u2500\u2500\u2500\u2500\u2500\u2500\u2500\u2500\u2500\u2500\u2500\u2500\u2500\u2500\u2500\u2500\u2500\u2500\u2500\u2500\u2500\u2500\u2500\u2500\u2500\u2500\u2500\u2500\u2500\u2500\u2500\u2500\u2500\n",
        "                                                                              \n",
        "                                                                              \n",
        "                                                                              \n",
        "                                                                              \n",
        "                                                                              \n",
        "s(p\u2081 + q\u2081)) - q\u0307\u2081\u22c5(4\u22c5\u03ba\u2081\u22c5(\u03ba\u2081\u22c5\u03ba\u2084\u22c5sin(p\u2081)\u22c5cos(q\u2081) - \u03ba\u2081\u22c5\u03ba\u2085\u22c5sin(p\u2081 + q\u2081)\u22c5cos(q\u2081) + \n",
        "\u2500\u2500\u2500\u2500\u2500\u2500\u2500\u2500\u2500\u2500\u2500\u2500\u2500\u2500\u2500\u2500\u2500\u2500\u2500\u2500\u2500\u2500\u2500\u2500\u2500\u2500\u2500\u2500\u2500\u2500\u2500\u2500\u2500\u2500\u2500\u2500\u2500\u2500\u2500\u2500\u2500\u2500\u2500\u2500\u2500\u2500\u2500\u2500\u2500\u2500\u2500\u2500\u2500\u2500\u2500\u2500\u2500\u2500\u2500\u2500\u2500\u2500\u2500\u2500\u2500\u2500\u2500\u2500\u2500\u2500\u2500\u2500\u2500\u2500\u2500\u2500\u2500\u2500\n",
        "                                                                              \n",
        "                                                                              \n",
        "                                                                              \n",
        "                                                                              \n",
        "\n",
        "                              \u239b                                               \n",
        "2\u22c5\u03ba\u2081\u22c5(2\u22c5\u03ba\u2081\u22c5cos(q\u2081) + \u03ba\u2082 + \u03ba\u2083)\u22c5\u239dg\u22c5\u03ba\u2084\u22c5cos(p\u2081) + g\u22c5\u03ba\u2085\u22c5cos(p\u2081 + q\u2081) - 2\u22c5\u03ba\u2081\u22c5p\u0307\u2081\u22c5q\u0307\u2081\n",
        "\u2500\u2500\u2500\u2500\u2500\u2500\u2500\u2500\u2500\u2500\u2500\u2500\u2500\u2500\u2500\u2500\u2500\u2500\u2500\u2500\u2500\u2500\u2500\u2500\u2500\u2500\u2500\u2500\u2500\u2500\u2500\u2500\u2500\u2500\u2500\u2500\u2500\u2500\u2500\u2500\u2500\u2500\u2500\u2500\u2500\u2500\u2500\u2500\u2500\u2500\u2500\u2500\u2500\u2500\u2500\u2500\u2500\u2500\u2500\u2500\u2500\u2500\u2500\u2500\u2500\u2500\u2500\u2500\u2500\u2500\u2500\u2500\u2500\u2500\u2500\u2500\u2500\u2500\n",
        "                                                                              \n",
        "                                                                              \n",
        "                                                                              \n",
        "                                                                              \n",
        "                                                                              \n",
        "\u03ba\u2082\u22c5\u03ba\u2084\u22c5sin(p\u2081) - \u03ba\u2083\u22c5\u03ba\u2085\u22c5sin(p\u2081 + q\u2081))\u22c5sin(q\u2081) - (2\u22c5\u03ba\u2081\u22c5cos(q\u2081) + \u03ba\u2082 + \u03ba\u2083)\u22c5(\u03ba\u2081\u22c5\u03ba\u2084\u22c5\n",
        "\u2500\u2500\u2500\u2500\u2500\u2500\u2500\u2500\u2500\u2500\u2500\u2500\u2500\u2500\u2500\u2500\u2500\u2500\u2500\u2500\u2500\u2500\u2500\u2500\u2500\u2500\u2500\u2500\u2500\u2500\u2500\u2500\u2500\u2500\u2500\u2500\u2500\u2500\u2500\u2500\u2500\u2500\u2500\u2500\u2500\u2500\u2500\u2500\u2500\u2500\u2500\u2500\u2500\u2500\u2500\u2500\u2500\u2500\u2500\u2500\u2500\u2500\u2500\u2500\u2500\u2500\u2500\u2500\u2500\u2500\u2500\u2500\u2500\u2500\u2500\u2500\u2500\u2500\n",
        "                                                                              \n",
        "                                                                              \n",
        "                                                                              \n",
        "                                                                              \n",
        "\n",
        "                 2        \u239e                                                   \n",
        "\u22c5sin(q\u2081) - \u03ba\u2081\u22c5q\u0307\u2081 \u22c5sin(q\u2081)\u23a0\u22c5sin(q\u2081)                                           \n",
        "\u2500\u2500\u2500\u2500\u2500\u2500\u2500\u2500\u2500\u2500\u2500\u2500\u2500\u2500\u2500\u2500\u2500\u2500\u2500\u2500\u2500\u2500\u2500\u2500\u2500\u2500\u2500\u2500\u2500\u2500\u2500\u2500\u2500\u2500\u2500                                           \n",
        "                                                                              \n",
        "                                                                              \n",
        "                                                                              \n",
        "                                                                              \n",
        "                                                                              \n",
        "sin(p\u2081)\u22c5sin(q\u2081) - \u03ba\u2081\u22c5\u03ba\u2085\u22c5sin(q\u2081)\u22c5sin(p\u2081 + q\u2081) + \u03ba\u2081\u22c5\u03ba\u2085\u22c5cos(q\u2081)\u22c5cos(p\u2081 + q\u2081) + \u03ba\u2083\n",
        "\u2500\u2500\u2500\u2500\u2500\u2500\u2500\u2500\u2500\u2500\u2500\u2500\u2500\u2500\u2500\u2500\u2500\u2500\u2500\u2500\u2500\u2500\u2500\u2500\u2500\u2500\u2500\u2500\u2500\u2500\u2500\u2500\u2500\u2500\u2500\u2500\u2500\u2500\u2500\u2500\u2500\u2500\u2500\u2500\u2500\u2500\u2500\u2500\u2500\u2500\u2500\u2500\u2500\u2500\u2500\u2500\u2500\u2500\u2500\u2500\u2500\u2500\u2500\u2500\u2500\u2500\u2500\u2500\u2500\u2500\u2500\u2500\u2500\u2500\u2500\u2500\u2500\u2500\n",
        "                                                                              \n",
        "                                                                              \n",
        "                                                                              \n",
        "                                                                              \n",
        "\n",
        "                   \u23a4\n",
        "                   \u23a5\n",
        "                   \u23a5\n",
        "                   \u23a5\n",
        "                   \u23a5\n",
        "                   \u23a5\n",
        "                   \u23a5\n",
        "                   \u23a5\n",
        "\u22c5\u03ba\u2085\u22c5cos(p\u2081 + q\u2081))))\u23a5\n",
        "\u2500\u2500\u2500\u2500\u2500\u2500\u2500\u2500\u2500\u2500\u2500\u2500\u2500\u2500\u2500\u2500\u2500\u2500\u2500\u23a5\n",
        "                   \u23a5\n",
        "                   \u23a5\n",
        "                   \u23a5\n",
        "                   \u23a6"
       ]
      },
      {
       "output_type": "stream",
       "stream": "stdout",
       "text": [
        "---\n"
       ]
      },
      {
       "latex": [
        "$$4$$"
       ],
       "metadata": {},
       "output_type": "display_data",
       "png": "[encoded data removed]",
       "text": [
        "4"
       ]
      },
      {
       "output_type": "stream",
       "stream": "stdout",
       "text": [
        "___\n"
       ]
      }
     ],
     "prompt_number": 36
    },
    {
     "cell_type": "code",
     "collapsed": false,
     "input": [
      "st.generic_rank(D3.subs(g,0)) ##"
     ],
     "language": "python",
     "metadata": {},
     "outputs": [
      {
       "latex": [
        "$$3$$"
       ],
       "metadata": {},
       "output_type": "display_data",
       "png": "[encoded data removed]",
       "text": [
        "3"
       ]
      },
      {
       "output_type": "stream",
       "stream": "stdout",
       "text": [
        "___\n"
       ]
      }
     ],
     "prompt_number": 37
    },
    {
     "cell_type": "markdown",
     "metadata": {},
     "source": [
      "Durch Hinzunahme (bezogen auf die lineare H\u00fclle) der Vektorfelder $[\\mb f, \\mb g], [\\mb f, [\\mb f, \\mb g]]$ und $[\\mb f, [\\mb f, [\\mb f, \\mb g]]]$ zu $\\Delta_0$ erh\u00e4lt man $\\Delta_{\\text{sZ}}$ mit $\\dim \\Delta_{\\text{sZ}}= 4 = n$ (f\u00fcr einen generischen Zustand).\n",
      "Weniger VF hinzuzunehmen h\u00e4tte nicht ausgereicht, weil der Rang mit jedem Schritt gr\u00f6\u00dfer wurde. Weil die Matrix `D3` vollen Zeilenrang hat, ist die Bedingung (b) aus dem Satz \u00fcber starke lokale Zug\u00e4nglichkeit automatisch erf\u00fcllt.\n"
     ]
    },
    {
     "cell_type": "code",
     "collapsed": false,
     "input": [
      "Delta_sZ = D3"
     ],
     "language": "python",
     "metadata": {},
     "outputs": [],
     "prompt_number": 38
    },
    {
     "cell_type": "markdown",
     "metadata": {},
     "source": [
      "#### Fazit: Das System ist lokal stark zug\u00e4nglich."
     ]
    },
    {
     "cell_type": "markdown",
     "metadata": {},
     "source": [
      "---\n",
      "### Speizalfall $g = 0$"
     ]
    },
    {
     "cell_type": "code",
     "collapsed": false,
     "input": [
      "st.generic_rank(D3.subs(g,0)) ##\n",
      "st.involutivity_test(D3.subs(g,0), xx) ##"
     ],
     "language": "python",
     "metadata": {},
     "outputs": []
    },
    {
     "cell_type": "markdown",
     "metadata": {},
     "source": [
      "#### Fazit:\n",
      "F\u00fcr $g=0$ erh\u00f6ht die Hinzunahme des VF $[\\mb f, [\\mb f, [\\mb f, \\mb g]]]$ nicht mehr. Die Distribution $\\opspan(\\mb g, [\\mb f, \\mb g], [\\mb f, [\\mb f, \\mb g]])$ ist bereits $f$-invariant.\n",
      "Dar\u00fcber hinaus ist sie auch involutiv."
     ]
    }
   ],
   "metadata": {}
  }
 ]
}