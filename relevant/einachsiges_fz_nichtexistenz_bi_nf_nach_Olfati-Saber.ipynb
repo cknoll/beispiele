{
 "metadata": {
  "name": "",
  "signature": "sha256:19bfc19ed46cc6803ab14a10379293c600f5e0d44d6afc9bc13cb2ecdb191270"
 },
 "nbformat": 3,
 "nbformat_minor": 0,
 "worksheets": [
  {
   "cells": [
    {
     "cell_type": "code",
     "collapsed": false,
     "input": [
      "import diss_aux as da"
     ],
     "language": "python",
     "metadata": {},
     "outputs": [],
     "prompt_number": 1
    },
    {
     "cell_type": "code",
     "collapsed": false,
     "input": [
      "import time\n",
      "print time.ctime()\n",
      "%load_ext displaytools"
     ],
     "language": "python",
     "metadata": {},
     "outputs": [
      {
       "output_type": "stream",
       "stream": "stdout",
       "text": [
        "Wed Feb 24 12:20:47 2016\n"
       ]
      }
     ],
     "prompt_number": 2
    },
    {
     "cell_type": "markdown",
     "metadata": {},
     "source": [
      "\n",
      "**Betrachtetes System:** Ebenes einr\u00e4driges Fahrzeug unter dem Einfluss der Schwerkraft.\n",
      "\n",
      "<img src=\"files/images/unicycle.png\">\n",
      "\n",
      "**Inhalt:**\n",
      "* Aufstellen der Bewegungsgleichungen\n",
      "* Untersuchung der Involutivit\u00e4tsbedingung f\u00fcr die Normalform nach Olfati-Saber\n",
      "\n",
      "[//]: # (custom_config_start)\n",
      "$$\n",
      "\\newcommand{\\d}{\\mathrm{d}}\n",
      "\\newcommand{\\col}{\\mathrm{col}}\n",
      "\\newcommand{\\bs}{\\boldsymbol}\n",
      "\\newcommand{\\Ddt}{\\left(\\tfrac{d}{dt}\\right)}\n",
      "\\newcommand{\\ddt}{\\tfrac{d}{dt}}\n",
      "\\renewcommand{\\tt}{\\bs \\theta}\n",
      "$$\n",
      "[//]: # (custom_config_end)"
     ]
    },
    {
     "cell_type": "code",
     "collapsed": false,
     "input": [
      "import sympy as sp\n",
      "from sympy import sin, cos, pi, Matrix\n",
      "from sympy.interactive import printing\n",
      "\n",
      "import pycartan as pc # perspektivisch: pycartan\n",
      "import symbtools as st\n",
      "import symbtools.modeltools as mt\n",
      "import pickle\n",
      "\n",
      "printing.init_printing()"
     ],
     "language": "python",
     "metadata": {},
     "outputs": [],
     "prompt_number": 3
    },
    {
     "cell_type": "code",
     "collapsed": false,
     "input": [
      "np, nq = 1, 2\n",
      "n = np + nq\n",
      "ttheta = st.symb_vector(\"p1, q1, q2\") ##:T\n",
      "tthetad = st.time_deriv(ttheta, ttheta) ##:T\n",
      "tthetadd = st.time_deriv(ttheta, ttheta, order=2) ##:T\n",
      "\n",
      "st.make_global(ttheta, tthetad, tthetadd)"
     ],
     "language": "python",
     "metadata": {},
     "outputs": [
      {
       "latex": [
        "ttheta.T := $$\\left[\\begin{matrix}p_{1} & q_{1} & q_{2}\\end{matrix}\\right]$$"
       ],
       "metadata": {},
       "output_type": "display_data",
       "png": "[encoded data removed]",
       "text": [
        "ttheta.T := [p\u2081  q\u2081  q\u2082]"
       ]
      },
      {
       "output_type": "stream",
       "stream": "stdout",
       "text": [
        "---\n"
       ]
      },
      {
       "latex": [
        "tthetad.T := $$\\left[\\begin{matrix}\\dot{p}_{1} & \\dot{q}_{1} & \\dot{q}_{2}\\end{matrix}\\right]$$"
       ],
       "metadata": {},
       "output_type": "display_data",
       "png": "[encoded data removed]",
       "text": [
        "tthetad.T := [p\u0307\u2081  q\u0307\u2081  q\u0307\u2082]"
       ]
      },
      {
       "output_type": "stream",
       "stream": "stdout",
       "text": [
        "---\n"
       ]
      },
      {
       "latex": [
        "tthetadd.T := $$\\left[\\begin{matrix}\\ddot{p}_{1} & \\ddot{q}_{1} & \\ddot{q}_{2}\\end{matrix}\\right]$$"
       ],
       "metadata": {},
       "output_type": "display_data",
       "png": "[encoded data removed]",
       "text": [
        "tthetadd.T := [p\u0308\u2081  q\u0308\u2081  q\u0308\u2082]"
       ]
      },
      {
       "output_type": "stream",
       "stream": "stdout",
       "text": [
        "---\n"
       ]
      }
     ],
     "prompt_number": 4
    },
    {
     "cell_type": "code",
     "collapsed": false,
     "input": [
      "params = sp.symbols('l0, l1, s1, s2, J0, J1, J2, m0, m1, m2, g')\n",
      "st.make_global(params)\n",
      "\n",
      "tau1, tau2 = ttau = sp.symbols(\"tau1:3\")"
     ],
     "language": "python",
     "metadata": {},
     "outputs": [],
     "prompt_number": 5
    },
    {
     "cell_type": "code",
     "collapsed": false,
     "input": [
      "# Geometrie: (Einheitsvektoren)\n",
      "ex = Matrix([1,0])\n",
      "ey = Matrix([0,1])\n",
      "\n",
      "M0 = Matrix([-l0*p1, l0]) # Mittelpunkt des Rades\n",
      "\n",
      "\n",
      "S1 = M0 + mt.Rz(p1+q1)*ey*s1\n",
      "S2 = M0 + mt.Rz(p1+q1)*ey*l1 + mt.Rz(p1+q1+q2)*ey*s2\n",
      "\n",
      "M0d = st.time_deriv(M0, ttheta)\n",
      "S1d = st.time_deriv(S1, ttheta)\n",
      "S2d = st.time_deriv(S2, ttheta)"
     ],
     "language": "python",
     "metadata": {},
     "outputs": [],
     "prompt_number": 6
    },
    {
     "cell_type": "code",
     "collapsed": false,
     "input": [
      "# Energie\n",
      "T_rot = ( J0*pdot1**2 + J1*(pdot1+qdot1)**2 + J2*(pdot1+ qdot1+qdot2)**2 )/2\n",
      "T_trans = ( m0*M0d.T*M0d  +  m1*S1d.T*S1d  +  m2*S2d.T*S2d )/2\n",
      "\n",
      "T = T_rot + T_trans[0]\n",
      "\n",
      "V = m1*g*S1[1] + m2*g*S2[1] "
     ],
     "language": "python",
     "metadata": {},
     "outputs": [],
     "prompt_number": 7
    },
    {
     "cell_type": "code",
     "collapsed": false,
     "input": [
      "mod = mt.generate_symbolic_model(T, V, ttheta, [0, tau1, tau2])"
     ],
     "language": "python",
     "metadata": {},
     "outputs": [],
     "prompt_number": 8
    },
    {
     "cell_type": "markdown",
     "metadata": {},
     "source": [
      "### Untersuchung der Involutivit\u00e4tsbedingung f\u00fcr die Existenz der Normalform nach Olfati-Saber\n",
      "\n",
      "Die von den Spalten der Matrix\n",
      "$$\n",
      "...\n",
      "$$\n",
      "aufgespannte Distribution ist zu untersuchen. Um \u00fcbersichtlichere Ausdr\u00fccke zu erhalten werden zun\u00e4chst abk\u00fcrzungen eingef\u00fchrt."
     ]
    },
    {
     "cell_type": "code",
     "collapsed": false,
     "input": [
      "MM_subs = sp.Matrix(zip([J0 + J1 + J2 + l0**2*m0 + l0**2*m1 + l0**2*m2 + l1**2*m2 + m1*s1**2 + m2*s2**2,\n",
      "               J1 + J2 + l1**2*m2 + m1*s1**2 + m2*s2**2,\n",
      "               J2 + m2*s2**2,\n",
      "               l0*s2*m2, l1*s2*m2, l0*l1*m2, l0*s1*m1], sp.numbered_symbols('M', start=1)))\n",
      "MM_subs"
     ],
     "language": "python",
     "metadata": {},
     "outputs": [
      {
       "latex": [
        "$$\\left[\\begin{matrix}J_{0} + J_{1} + J_{2} + l_{0}^{2} m_{0} + l_{0}^{2} m_{1} + l_{0}^{2} m_{2} + l_{1}^{2} m_{2} + m_{1} s_{1}^{2} + m_{2} s_{2}^{2} & M_{1}\\\\J_{1} + J_{2} + l_{1}^{2} m_{2} + m_{1} s_{1}^{2} + m_{2} s_{2}^{2} & M_{2}\\\\J_{2} + m_{2} s_{2}^{2} & M_{3}\\\\l_{0} m_{2} s_{2} & M_{4}\\\\l_{1} m_{2} s_{2} & M_{5}\\\\l_{0} l_{1} m_{2} & M_{6}\\\\l_{0} m_{1} s_{1} & M_{7}\\end{matrix}\\right]$$"
       ],
       "metadata": {},
       "output_type": "pyout",
       "png": "[encoded data removed]",
       "prompt_number": 9,
       "text": [
        "\u23a1                 2        2        2        2           2        2    \u23a4\n",
        "\u23a2J\u2080 + J\u2081 + J\u2082 + l\u2080 \u22c5m\u2080 + l\u2080 \u22c5m\u2081 + l\u2080 \u22c5m\u2082 + l\u2081 \u22c5m\u2082 + m\u2081\u22c5s\u2081  + m\u2082\u22c5s\u2082   M\u2081\u23a5\n",
        "\u23a2                                                                      \u23a5\n",
        "\u23a2                            2           2        2                    \u23a5\n",
        "\u23a2                J\u2081 + J\u2082 + l\u2081 \u22c5m\u2082 + m\u2081\u22c5s\u2081  + m\u2082\u22c5s\u2082                   M\u2082\u23a5\n",
        "\u23a2                                                                      \u23a5\n",
        "\u23a2                                     2                                \u23a5\n",
        "\u23a2                           J\u2082 + m\u2082\u22c5s\u2082                               M\u2083\u23a5\n",
        "\u23a2                                                                      \u23a5\n",
        "\u23a2                             l\u2080\u22c5m\u2082\u22c5s\u2082                               M\u2084\u23a5\n",
        "\u23a2                                                                      \u23a5\n",
        "\u23a2                             l\u2081\u22c5m\u2082\u22c5s\u2082                               M\u2085\u23a5\n",
        "\u23a2                                                                      \u23a5\n",
        "\u23a2                             l\u2080\u22c5l\u2081\u22c5m\u2082                               M\u2086\u23a5\n",
        "\u23a2                                                                      \u23a5\n",
        "\u23a3                             l\u2080\u22c5m\u2081\u22c5s\u2081                               M\u2087\u23a6"
       ]
      }
     ],
     "prompt_number": 9
    },
    {
     "cell_type": "code",
     "collapsed": false,
     "input": [
      "# Erste Zeile der Massenmatrix:\n",
      "M_row1 = sp.trigsimp(mod.MM[:np, :])\n",
      "M_row1.co ##:\n",
      "M_row1.smplf.subs(MM_subs.tolist()) ##:"
     ],
     "language": "python",
     "metadata": {},
     "outputs": [
      {
       "latex": [
        "M_row1.co  := $$\\left[\\begin{matrix}49 & 36 & 16\\end{matrix}\\right]$$"
       ],
       "metadata": {},
       "output_type": "display_data",
       "png": "[encoded data removed]",
       "text": [
        "M_row1.co  := [49  36  16]"
       ]
      },
      {
       "output_type": "stream",
       "stream": "stdout",
       "text": [
        "___\n"
       ]
      },
      {
       "latex": [
        "M_row1.smplf.subs(MM_subs.tolist())  := $$\\left[\\begin{matrix}M_{1} + 2 M_{4} \\cos{\\left (p_{1} + q_{1} + q_{2} \\right )} + 2 M_{5} \\cos{\\left (q_{2} \\right )} + 2 M_{6} \\cos{\\left (p_{1} + q_{1} \\right )} + 2 M_{7} \\cos{\\left (p_{1} + q_{1} \\right )} & M_{2} + M_{4} \\cos{\\left (p_{1} + q_{1} + q_{2} \\right )} + 2 M_{5} \\cos{\\left (q_{2} \\right )} + M_{6} \\cos{\\left (p_{1} + q_{1} \\right )} + M_{7} \\cos{\\left (p_{1} + q_{1} \\right )} & M_{3} + M_{4} \\cos{\\left (p_{1} + q_{1} + q_{2} \\right )} + M_{5} \\cos{\\left (q_{2} \\right )}\\end{matrix}\\right]$$"
       ],
       "metadata": {},
       "output_type": "display_data",
       "png": "[encoded data removed]",
       "text": [
        "M_row1.smplf.subs(MM_subs.tolist())  := [M\u2081 + 2\u22c5M\u2084\u22c5cos(p\u2081 + q\u2081 + q\u2082) + 2\u22c5M\u2085\u22c5cos(q\u2082) + 2\u22c5M\u2086\u22c5cos(p\u2081 + q\u2081) + 2\u22c5M\u2087\u22c5cos(p\u2081 \n",
        "+ q\u2081)  M\u2082 + M\u2084\u22c5cos(p\u2081 + q\u2081 + q\u2082) + 2\u22c5M\u2085\u22c5cos(q\u2082) + M\u2086\u22c5cos(p\u2081 + q\u2081) + M\u2087\u22c5cos(p\u2081 \n",
        "+ q\u2081)  M\u2083 + M\u2084\u22c5cos(p\u2081 + q\u2081 + q\u2082) + M\u2085\u22c5cos(q\u2082)]"
       ]
      },
      {
       "output_type": "stream",
       "stream": "stdout",
       "text": [
        "___\n"
       ]
      }
     ],
     "prompt_number": 10
    },
    {
     "cell_type": "code",
     "collapsed": false,
     "input": [
      "M_row1 = M_row1.subs(MM_subs.tolist()) ##:T"
     ],
     "language": "python",
     "metadata": {},
     "outputs": [
      {
       "latex": [
        "M_row1.T := $$\\left[\\begin{matrix}M_{1} + 2 M_{4} \\cos{\\left (p_{1} + q_{1} + q_{2} \\right )} + 2 M_{5} \\cos{\\left (q_{2} \\right )} + 2 M_{6} \\cos{\\left (p_{1} + q_{1} \\right )} + 2 M_{7} \\cos{\\left (p_{1} + q_{1} \\right )}\\\\M_{2} + M_{4} \\cos{\\left (p_{1} + q_{1} + q_{2} \\right )} + 2 M_{5} \\cos{\\left (q_{2} \\right )} + M_{6} \\cos{\\left (p_{1} + q_{1} \\right )} + M_{7} \\cos{\\left (p_{1} + q_{1} \\right )}\\\\M_{3} + M_{4} \\cos{\\left (p_{1} + q_{1} + q_{2} \\right )} + M_{5} \\cos{\\left (q_{2} \\right )}\\end{matrix}\\right]$$"
       ],
       "metadata": {},
       "output_type": "display_data",
       "png": "[encoded data removed]",
       "text": [
        "M_row1.T := \u23a1M\u2081 + 2\u22c5M\u2084\u22c5cos(p\u2081 + q\u2081 + q\u2082) + 2\u22c5M\u2085\u22c5cos(q\u2082) + 2\u22c5M\u2086\u22c5cos(p\u2081 + q\u2081) + 2\u22c5M\u2087\u22c5cos(p\u2081 \n",
        "\u23a2                                                                             \n",
        "\u23a2   M\u2082 + M\u2084\u22c5cos(p\u2081 + q\u2081 + q\u2082) + 2\u22c5M\u2085\u22c5cos(q\u2082) + M\u2086\u22c5cos(p\u2081 + q\u2081) + M\u2087\u22c5cos(p\u2081 + q\n",
        "\u23a2                                                                             \n",
        "\u23a3                      M\u2083 + M\u2084\u22c5cos(p\u2081 + q\u2081 + q\u2082) + M\u2085\u22c5cos(q\u2082)                 \n",
        "\n",
        "+ q\u2081)\u23a4\n",
        "     \u23a5\n",
        "\u2081)   \u23a5\n",
        "     \u23a5\n",
        "     \u23a6"
       ]
      },
      {
       "output_type": "stream",
       "stream": "stdout",
       "text": [
        "---\n"
       ]
      }
     ],
     "prompt_number": 11
    },
    {
     "cell_type": "code",
     "collapsed": false,
     "input": [
      "M11 = M_row1[:np, :np]\n",
      "M12 = M_row1[:np,np:]"
     ],
     "language": "python",
     "metadata": {},
     "outputs": [],
     "prompt_number": 12
    },
    {
     "cell_type": "markdown",
     "metadata": {},
     "source": [
      "$\\tilde {\\bs G}(\\bs \\theta):=\n",
      "\\left(\\begin{array}{c}\n",
      "-\\bs M_{11}^{-1}(\\tt)\\bs M_{12}(\\tt)  \\\\\n",
      "\\bs I_{n_{\\bs q}}  \\\\\n",
      "\\end{array}\\right)\n",
      "$"
     ]
    },
    {
     "cell_type": "code",
     "collapsed": false,
     "input": [
      "G_tilde = st.row_stack(-M11.inv()*M12, sp.eye(nq)) ##:\n",
      "g1, g2 = st.col_split(G_tilde)"
     ],
     "language": "python",
     "metadata": {},
     "outputs": [
      {
       "latex": [
        "G_tilde := $$\\left[\\begin{matrix}- \\frac{M_{2} + M_{4} \\cos{\\left (p_{1} + q_{1} + q_{2} \\right )} + 2 M_{5} \\cos{\\left (q_{2} \\right )} + M_{6} \\cos{\\left (p_{1} + q_{1} \\right )} + M_{7} \\cos{\\left (p_{1} + q_{1} \\right )}}{M_{1} + 2 M_{4} \\cos{\\left (p_{1} + q_{1} + q_{2} \\right )} + 2 M_{5} \\cos{\\left (q_{2} \\right )} + 2 M_{6} \\cos{\\left (p_{1} + q_{1} \\right )} + 2 M_{7} \\cos{\\left (p_{1} + q_{1} \\right )}} & - \\frac{M_{3} + M_{4} \\cos{\\left (p_{1} + q_{1} + q_{2} \\right )} + M_{5} \\cos{\\left (q_{2} \\right )}}{M_{1} + 2 M_{4} \\cos{\\left (p_{1} + q_{1} + q_{2} \\right )} + 2 M_{5} \\cos{\\left (q_{2} \\right )} + 2 M_{6} \\cos{\\left (p_{1} + q_{1} \\right )} + 2 M_{7} \\cos{\\left (p_{1} + q_{1} \\right )}}\\\\1 & 0\\\\0 & 1\\end{matrix}\\right]$$"
       ],
       "metadata": {},
       "output_type": "display_data",
       "png": "[encoded data removed]",
       "text": [
        "G_tilde := \u23a1 -(M\u2082 + M\u2084\u22c5cos(p\u2081 + q\u2081 + q\u2082) + 2\u22c5M\u2085\u22c5cos(q\u2082) + M\u2086\u22c5cos(p\u2081 + q\u2081) + M\u2087\u22c5cos(p\u2081 + q\n",
        "\u23a2\u2500\u2500\u2500\u2500\u2500\u2500\u2500\u2500\u2500\u2500\u2500\u2500\u2500\u2500\u2500\u2500\u2500\u2500\u2500\u2500\u2500\u2500\u2500\u2500\u2500\u2500\u2500\u2500\u2500\u2500\u2500\u2500\u2500\u2500\u2500\u2500\u2500\u2500\u2500\u2500\u2500\u2500\u2500\u2500\u2500\u2500\u2500\u2500\u2500\u2500\u2500\u2500\u2500\u2500\u2500\u2500\u2500\u2500\u2500\u2500\u2500\u2500\u2500\u2500\u2500\u2500\u2500\u2500\u2500\u2500\u2500\u2500\u2500\u2500\u2500\u2500\u2500\n",
        "\u23a2M\u2081 + 2\u22c5M\u2084\u22c5cos(p\u2081 + q\u2081 + q\u2082) + 2\u22c5M\u2085\u22c5cos(q\u2082) + 2\u22c5M\u2086\u22c5cos(p\u2081 + q\u2081) + 2\u22c5M\u2087\u22c5cos(p\u2081 \n",
        "\u23a2                                                                             \n",
        "\u23a2                                        1                                    \n",
        "\u23a2                                                                             \n",
        "\u23a3                                        0                                    \n",
        "\n",
        "\u2081))                        -(M\u2083 + M\u2084\u22c5cos(p\u2081 + q\u2081 + q\u2082) + M\u2085\u22c5cos(q\u2082))          \n",
        "\u2500\u2500\u2500\u2500\u2500  \u2500\u2500\u2500\u2500\u2500\u2500\u2500\u2500\u2500\u2500\u2500\u2500\u2500\u2500\u2500\u2500\u2500\u2500\u2500\u2500\u2500\u2500\u2500\u2500\u2500\u2500\u2500\u2500\u2500\u2500\u2500\u2500\u2500\u2500\u2500\u2500\u2500\u2500\u2500\u2500\u2500\u2500\u2500\u2500\u2500\u2500\u2500\u2500\u2500\u2500\u2500\u2500\u2500\u2500\u2500\u2500\u2500\u2500\u2500\u2500\u2500\u2500\u2500\u2500\u2500\u2500\u2500\u2500\u2500\u2500\u2500\n",
        "+ q\u2081)  M\u2081 + 2\u22c5M\u2084\u22c5cos(p\u2081 + q\u2081 + q\u2082) + 2\u22c5M\u2085\u22c5cos(q\u2082) + 2\u22c5M\u2086\u22c5cos(p\u2081 + q\u2081) + 2\u22c5M\u2087\u22c5c\n",
        "                                                                              \n",
        "                                               0                              \n",
        "                                                                              \n",
        "                                               1                              \n",
        "\n",
        "           \u23a4\n",
        "\u2500\u2500\u2500\u2500\u2500\u2500\u2500\u2500\u2500\u2500\u2500\u23a5\n",
        "os(p\u2081 + q\u2081)\u23a5\n",
        "           \u23a5\n",
        "           \u23a5\n",
        "           \u23a5\n",
        "           \u23a6"
       ]
      },
      {
       "output_type": "stream",
       "stream": "stdout",
       "text": [
        "---\n"
       ]
      }
     ],
     "prompt_number": 13
    },
    {
     "cell_type": "code",
     "collapsed": false,
     "input": [
      "st.involutivity_test(G_tilde, ttheta)"
     ],
     "language": "python",
     "metadata": {},
     "outputs": [
      {
       "metadata": {},
       "output_type": "pyout",
       "prompt_number": 14,
       "text": [
        "(False, (0, 1))"
       ]
      }
     ],
     "prompt_number": 14
    },
    {
     "cell_type": "code",
     "collapsed": false,
     "input": [
      "g3 = st.lie_bracket(g1, g2, ttheta)\n",
      "g3.srn"
     ],
     "language": "python",
     "metadata": {},
     "outputs": [
      {
       "latex": [
        "$$\\left[\\begin{matrix}0.3459676974785619187925774034005241934224218866521005901762727096628665214241118232035373987597498331\\\\0\\\\0\\end{matrix}\\right]$$"
       ],
       "metadata": {},
       "output_type": "pyout",
       "png": "[encoded data removed]",
       "prompt_number": 15,
       "text": [
        "\u23a10.345967697478561918792577403400524193422421886652100590176272709662866521424\n",
        "\u23a2                                                                             \n",
        "\u23a2                                                  0                          \n",
        "\u23a2                                                                             \n",
        "\u23a3                                                  0                          \n",
        "\n",
        "1118232035373987597498331\u23a4\n",
        "                         \u23a5\n",
        "                         \u23a5\n",
        "                         \u23a5\n",
        "                         \u23a6"
       ]
      }
     ],
     "prompt_number": 15
    },
    {
     "cell_type": "markdown",
     "metadata": {},
     "source": [
      "Lineare Unabh\u00e4ngigkeit folgt direkt aus den Besetzungsschemata von $\\tilde {\\bs G}$ und $\\tilde {\\bs g}_3$."
     ]
    }
   ],
   "metadata": {}
  }
 ]
}