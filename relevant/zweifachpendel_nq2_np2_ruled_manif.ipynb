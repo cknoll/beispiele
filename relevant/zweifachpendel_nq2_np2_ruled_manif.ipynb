{
 "metadata": {
  "name": "",
  "signature": "sha256:8d54b036be2a0dfe4418eca7cabf6072a1fb318aadaf0f21d9519b4034ba9f34"
 },
 "nbformat": 3,
 "nbformat_minor": 0,
 "worksheets": [
  {
   "cells": [
    {
     "cell_type": "code",
     "collapsed": false,
     "input": [
      "import time\n",
      "time.ctime()\n",
      "%load_ext displaytools"
     ],
     "language": "python",
     "metadata": {},
     "outputs": [],
     "prompt_number": 1
    },
    {
     "cell_type": "markdown",
     "metadata": {},
     "source": [
      "\n",
      "**Betrachtetes System:** Serielles Doppelpendel, dessen Aufh\u00e4ngepunkt in der $xy$-Ebene translatorisch aktuiert ist (befestigt an K\u00f6rper K$_1$). Eine Rotation des K\u00f6rpers K$_1$ ist nicht m\u00f6glich.\n",
      "\n",
      "<img src=\"files/images/doppelpendel_akt_aufh_def.png\">\n",
      "\n",
      "Die  Ruled-Manifold-Bedingung wird f\u00fcr zwei Situationen ausgewertet:\n",
      "1. F\u00fcr eine allgemeine Wahl der Modellparameter. Die Bedigung ist nicht erf\u00fcllt \u2192 Das System ist nicht flach.\n",
      "2. F\u00fcr eine spezielle Wahl von Systemparametern, f\u00fcr die ein flacher Ausgang bekannt ist. \u2192 Die Bedingung ist dann erf\u00fcllt.\n",
      "\n",
      "\n",
      "d--#Tags: #ruled-manifold #unteraktuiert"
     ]
    },
    {
     "cell_type": "code",
     "collapsed": false,
     "input": [
      "import sympy as sp\n",
      "from sympy import sin, cos, pi, Matrix, sqrt\n",
      "from sympy.interactive import printing\n",
      "import model_tools as mt\n",
      "from model_tools import Rz\n",
      "import symb_tools as st\n",
      "from symb_tools import symbs_to_func\n",
      "import pycartan as pc\n",
      "\n",
      "# deterministische Ergebnisse bei der Verwendung von Pseudo-Zufallszahlen\n",
      "st.random.seed(1259)"
     ],
     "language": "python",
     "metadata": {},
     "outputs": [],
     "prompt_number": 2
    },
    {
     "cell_type": "code",
     "collapsed": false,
     "input": [
      "np = 2\n",
      "nq = 2\n",
      "n = np + nq\n",
      "pp = st.symb_vector(\"p1:{0}\".format(np+1))\n",
      "qq = st.symb_vector(\"q1:{0}\".format(nq+1))\n",
      "\n",
      "theta = st.row_stack(pp, qq)\n",
      "mu = st.perform_time_derivative(theta, theta)\n",
      "mud = st.perform_time_derivative(theta, theta, order=2)\n",
      "\n",
      "vv = mu[np:, :]\n",
      "st.make_global(theta, 1)\n",
      "st.make_global(mu, 1)"
     ],
     "language": "python",
     "metadata": {},
     "outputs": [],
     "prompt_number": 3
    },
    {
     "cell_type": "code",
     "collapsed": false,
     "input": [
      "# Modellparameter\n",
      "params = sp.symbols('l1, l2, s1, s2, m0, m1, m2, g')\n",
      "st.make_global(params, 1)\n",
      "\n",
      "tau1, tau2 = ttau = st.symb_vector(\"tau1, tau2\")"
     ],
     "language": "python",
     "metadata": {},
     "outputs": [],
     "prompt_number": 4
    },
    {
     "cell_type": "markdown",
     "metadata": {},
     "source": [
      "### Festlegung der Geometrie des mechanischen Systemes"
     ]
    },
    {
     "cell_type": "code",
     "collapsed": false,
     "input": [
      "#Einheitsvektoren\n",
      "\n",
      "ex = sp.Matrix([1,0])\n",
      "ey = sp.Matrix([0,1])\n",
      "\n",
      "\n",
      "# Koordinaten der Schwerpunkte und Gelenke\n",
      "S0 = ex*q1 + ey*q2 # Schwerpunkt des K\u00f6rpers K1\n",
      "G1 = S0 # Gelenk zwischen K1 und 1. Pendelglied\n",
      "G2 = G1 + Rz(p1)*ey*l1*(-1) # 2. Pendelgelenk\n",
      "\n",
      "# Schwerpunkte\n",
      "S1 = G1 + Rz(p1)*ey*s1*(-1)\n",
      "S2 = G2 + Rz(p1+p2)*ey*s2*(-1)\n",
      "\n",
      "# Zeitableitungen der Schwerpunktskoordinaten\n",
      "Sd0, Sd1, Sd2 = st.col_split(st.perform_time_derivative(st.col_stack(S0, S1, S2), theta))"
     ],
     "language": "python",
     "metadata": {},
     "outputs": [],
     "prompt_number": 5
    },
    {
     "cell_type": "code",
     "collapsed": false,
     "input": [
      "# Energie\n",
      "T_rot = 0\n",
      "T_trans = ( m0*Sd0.T*Sd0 + m1*Sd1.T*Sd1 + m2*Sd2.T*Sd2)/2\n",
      "\n",
      "T = T_rot + T_trans[0]\n",
      "\n",
      "V = m0*g*S0[1] + m1*g*S1[1] + m2*g*S2[1]"
     ],
     "language": "python",
     "metadata": {},
     "outputs": [],
     "prompt_number": 6
    },
    {
     "cell_type": "code",
     "collapsed": false,
     "input": [
      "external_forces = [0, 0, tau1, tau2]\n",
      "assert not any(external_forces[:np])\n",
      "mod = mt.generate_symbolic_model(T, V, theta, external_forces)"
     ],
     "language": "python",
     "metadata": {},
     "outputs": [],
     "prompt_number": 7
    },
    {
     "cell_type": "code",
     "collapsed": false,
     "input": [
      "# nur die nicht-aktuierten Gleichungen ausw\u00e4hlen\n",
      "eq = mod.eq_list[:np, :]\n",
      "eq.simplify()"
     ],
     "language": "python",
     "metadata": {},
     "outputs": [],
     "prompt_number": 8
    },
    {
     "cell_type": "markdown",
     "metadata": {},
     "source": [
      "### Darstellung in Lagrange-Byrnes-Isidori-Normalform bestimmen\n",
      "Zur Auswertung der ruled Manifold-Bedingung ist das Vektorfeld $f_z$ relevant"
     ]
    },
    {
     "cell_type": "code",
     "collapsed": false,
     "input": [
      "mod.calc_lbi_nf_state_eq()\n",
      "fz4 = mod.fz[-np:,:]"
     ],
     "language": "python",
     "metadata": {},
     "outputs": [],
     "prompt_number": 9
    },
    {
     "cell_type": "markdown",
     "metadata": {},
     "source": [
      "### Untersuchung der Hessematrizen $\\boldsymbol H_1, \\boldsymbol H_2$\n"
     ]
    },
    {
     "cell_type": "code",
     "collapsed": false,
     "input": [
      "h1 = sp.hessian(fz4[0], vv)\n",
      "h2 = sp.hessian(fz4[1], vv)"
     ],
     "language": "python",
     "metadata": {},
     "outputs": [],
     "prompt_number": 10
    },
    {
     "cell_type": "code",
     "collapsed": false,
     "input": [
      "h1.co # Gr\u00f6\u00dfe der Ausdr\u00fccke anzeigen"
     ],
     "language": "python",
     "metadata": {},
     "outputs": [
      {
       "metadata": {},
       "output_type": "pyout",
       "prompt_number": 11,
       "text": [
        "Matrix([\n",
        "[34322, 60752],\n",
        "[60752, 34321]])"
       ]
      }
     ],
     "prompt_number": 11
    },
    {
     "cell_type": "markdown",
     "metadata": {},
     "source": [
      "**Fazit:** Die Hessematrizen sind zu gro\u00df um sie weiter symbolisch zu untersuchen.\n"
     ]
    },
    {
     "cell_type": "code",
     "collapsed": false,
     "input": [
      "# numerische Werte generieren zur Punktuellen Untersuchung\n",
      "rnst = st.rnd_number_subs_tuples(h1, seed=2134) ##:\n",
      "\n",
      "# Auswertung der symbolischen Hesse-Matrizen\n",
      "H1 = h1.subs(rnst)\n",
      "H2 = h2.subs(rnst)"
     ],
     "language": "python",
     "metadata": {},
     "outputs": [
      {
       "metadata": {},
       "output_type": "display_data",
       "text": [
        "rnst := [(m2,\n",
        "  0.4592621424980329880582985424553044140338897705078125000000000000000000000000000000000000000000000000),\n",
        " (m1,\n",
        "  0.7871327664349403452348497012280859053134918212890625000000000000000000000000000000000000000000000000),\n",
        " (s1,\n",
        "  0.6957894743760049127700995086343027651309967041015625000000000000000000000000000000000000000000000000),\n",
        " (l1,\n",
        "  0.3062970323523357407680123287718743085861206054687500000000000000000000000000000000000000000000000000),\n",
        " (s2,\n",
        "  0.8025348629729992522285897393885534256696701049804687500000000000000000000000000000000000000000000000),\n",
        " (p2,\n",
        "  0.7869063299615540740816754805564414709806442260742187500000000000000000000000000000000000000000000000),\n",
        " (p1,\n",
        "  0.9896565760836861791460705717327073216438293457031250000000000000000000000000000000000000000000000000)]"
       ]
      },
      {
       "output_type": "stream",
       "stream": "stdout",
       "text": [
        "---\n"
       ]
      }
     ],
     "prompt_number": 12
    },
    {
     "cell_type": "code",
     "collapsed": false,
     "input": [
      "rnst.sort(key=str)"
     ],
     "language": "python",
     "metadata": {},
     "outputs": [],
     "prompt_number": 13
    },
    {
     "cell_type": "code",
     "collapsed": false,
     "input": [
      "res = \"\"\n",
      "for s in zip(*rnst)[0]:\n",
      "   res += \"$%s$ & \"  %s\n",
      "    \n",
      "res +=\"\\n\" \n",
      "for n in zip(*rnst)[1]:\n",
      "   res += \"$%1.4f$ &\"  %n\n",
      "\n",
      "print res\n"
     ],
     "language": "python",
     "metadata": {},
     "outputs": [
      {
       "output_type": "stream",
       "stream": "stdout",
       "text": [
        "$l1$ & $m1$ & $m2$ & $p1$ & $p2$ & $s1$ & $s2$ & \n",
        "$0.3063$ &$0.7871$ &$0.4593$ &$0.9897$ &$0.7869$ &$0.6958$ &$0.8025$ &\n"
       ]
      }
     ],
     "prompt_number": 14
    },
    {
     "cell_type": "code",
     "collapsed": false,
     "input": [
      "# Berechnung der Eigenwerte und Vektoren\n",
      "\n",
      "L11, L12 = st.sorted_eigenvalues(H1)\n",
      "V1 = st.sorted_eigenvector_matrix(H1)\n",
      "\n",
      "L21, L22 = st.sorted_eigenvalues(H2)\n",
      "V2 = st.sorted_eigenvector_matrix(H2)"
     ],
     "language": "python",
     "metadata": {},
     "outputs": [],
     "prompt_number": 15
    },
    {
     "cell_type": "code",
     "collapsed": false,
     "input": [
      "# Auswertung der Rang-Bedingung\n",
      "for alpha, beta in [(1, 1), (-1, 1), (1, -1), (-1, -1)]:\n",
      "    column1 = V1*Matrix([alpha*sqrt(-L12), sqrt(L11)])\n",
      "    column2 = V2*Matrix([ beta*sqrt(-L22), sqrt(L21)])\n",
      "    test_matrix = st.col_stack(column1, column2)\n",
      "    \n",
      "    print \"D_{%s, %s} \u2248  %1.4f\" %(alpha, beta, test_matrix.det())"
     ],
     "language": "python",
     "metadata": {},
     "outputs": [
      {
       "output_type": "stream",
       "stream": "stdout",
       "text": [
        "D_{1, 1} \u2248  5.1176\n",
        "D_{-1, 1} \u2248  -1.2538\n",
        "D_{1, -1} \u2248  0.4070\n",
        "D_{-1, -1} \u2248  5.6011\n"
       ]
      }
     ],
     "prompt_number": 16
    },
    {
     "cell_type": "markdown",
     "metadata": {},
     "source": [
      "### Fazit:\n",
      "Keine der vier Determinanten ist = 0, d.h. es gibt keinen Rangabfall, das System ist nicht flach.\n",
      "\n",
      "---\n",
      "\n",
      "## Konsistenztest\n",
      "\n",
      "Als Konsistenztest werden die Modellparameter nun so gew\u00e4hlt, dass das System bekannterma\u00dfen flach ist: $s_1 = l_1$, d.h. das zweite Pendelgelenk liegt im Schwerpunkt des ersten Pendelgliedes."
     ]
    },
    {
     "cell_type": "code",
     "collapsed": false,
     "input": [
      "flat_params = [(l1, s1)]\n",
      "\n",
      "H1f = h1.subs(flat_params + rnst)\n",
      "H2f = h2.subs(flat_params + rnst)"
     ],
     "language": "python",
     "metadata": {},
     "outputs": [],
     "prompt_number": 17
    },
    {
     "cell_type": "code",
     "collapsed": false,
     "input": [
      "L11, L12 = st.sorted_eigenvalues(H1f)\n",
      "V1 = st.sorted_eigenvector_matrix(H1f)\n",
      "\n",
      "L21, L22 = st.sorted_eigenvalues(H2f)\n",
      "V2 = st.sorted_eigenvector_matrix(H2f)"
     ],
     "language": "python",
     "metadata": {},
     "outputs": [],
     "prompt_number": 18
    },
    {
     "cell_type": "code",
     "collapsed": false,
     "input": [
      "for alpha, beta in [(1, 1), (-1, 1), (1, -1), (-1, -1)]:\n",
      "    column1 = V1*Matrix([alpha*sqrt(-L12), sqrt(L11)])\n",
      "    column2 = V2*Matrix([ beta*sqrt(-L22), sqrt(L21)])\n",
      "    test_matrix = st.col_stack(column1, column2)\n",
      "    \n",
      "    print (alpha, beta), test_matrix.det()"
     ],
     "language": "python",
     "metadata": {},
     "outputs": [
      {
       "output_type": "stream",
       "stream": "stdout",
       "text": [
        "(1, 1) 4.75170445667520\n",
        "(-1, 1) -1.04099653222447\n",
        "(1, -1) 0\n",
        "(-1, -1) 5.20047359156059\n"
       ]
      }
     ],
     "prompt_number": 19
    },
    {
     "cell_type": "markdown",
     "metadata": {},
     "source": [
      "### Fazit\n",
      "F\u00fcr $\\alpha = 1$ und $\\beta = -1$ tritt ein Rangabfall der Testmatrix auf, das System erf\u00fcllt nun f\u00fcr $s_1 = l_1$ (erwartungsgem\u00e4\u00df) die Ruled-Manifold-Bedingung."
     ]
    }
   ],
   "metadata": {}
  }
 ]
}