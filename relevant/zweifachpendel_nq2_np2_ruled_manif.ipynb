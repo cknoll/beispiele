{
 "metadata": {
  "name": "",
  "signature": "sha256:2be9997a7c1e48ea462093bde47f5d41bb2a69767a3350c1d7cc0a89296acd76"
 },
 "nbformat": 3,
 "nbformat_minor": 0,
 "worksheets": [
  {
   "cells": [
    {
     "cell_type": "code",
     "collapsed": false,
     "input": [
      "import time\n",
      "time.ctime()\n",
      "%load_ext displaytools"
     ],
     "language": "python",
     "metadata": {},
     "outputs": [],
     "prompt_number": 1
    },
    {
     "cell_type": "markdown",
     "metadata": {},
     "source": [
      "\n",
      "**Betrachtetes System:** Serielles Doppelpendel, dessen Aufh\u00e4ngepunkt in der $xy$-Ebene translatorisch aktuiert ist (befestigt an K\u00f6rper K$_1$). Eine Rotation des K\u00f6rpers ist nicht m\u00f6glich.\n",
      "\n",
      "<img src=\"files/images/doppelpendel_akt_aufh_def.png\">\n",
      "\n",
      "Die  Ruled-Manifold-Bedingung wird f\u00fcr zwei Situationen ausgewertet:\n",
      "1. F\u00fcr eine allgemeine Wahl der Modellparameter. Die Bedigung ist nicht erf\u00fcllt \u2192 Das System ist nicht flach.\n",
      "2. F\u00fcr eine spezielle Wahl von Systemparametern, f\u00fcr die ein flacher Ausgang bekannt ist. \u2192 Die Bedingung ist dann erf\u00fcllt.\n",
      "\n",
      "\n",
      "d--#Tags: #Konfigurationsflachheit #ruled-manifold #unteraktuiert"
     ]
    },
    {
     "cell_type": "code",
     "collapsed": false,
     "input": [
      "%load_ext displaytools\n",
      "import sympy as sp\n",
      "from sympy import sin, cos, pi, Matrix, sqrt\n",
      "from sympy.interactive import printing\n",
      "import model_tools as mt\n",
      "from model_tools import Rz\n",
      "import symb_tools as st\n",
      "from symb_tools import symbs_to_func\n",
      "import pycartan as pc\n",
      "\n",
      "# deterministische Ergebnisse bei der Verwendung von Pseudo-Zufallszahlen\n",
      "st.random.seed(1259)"
     ],
     "language": "python",
     "metadata": {},
     "outputs": [
      {
       "output_type": "stream",
       "stream": "stdout",
       "text": [
        "The displaytools extension is already loaded. To reload it, use:\n",
        "  %reload_ext displaytools\n"
       ]
      }
     ],
     "prompt_number": 2
    },
    {
     "cell_type": "code",
     "collapsed": false,
     "input": [
      "np = 2\n",
      "nq = 2\n",
      "n = np + nq\n",
      "pp = st.symb_vector(\"p1:{0}\".format(np+1))\n",
      "qq = st.symb_vector(\"q1:{0}\".format(nq+1))\n",
      "\n",
      "theta = st.row_stack(pp, qq)\n",
      "mu = st.perform_time_derivative(theta, theta)\n",
      "mud = st.perform_time_derivative(theta, theta, order=2)\n",
      "\n",
      "vv = mu[np:, :]\n",
      "st.make_global(theta, 1)\n",
      "st.make_global(mu, 1)"
     ],
     "language": "python",
     "metadata": {},
     "outputs": [],
     "prompt_number": 3
    },
    {
     "cell_type": "code",
     "collapsed": false,
     "input": [
      "# Modellparameter\n",
      "params = sp.symbols('l3, l4, s3, s4, m1, m2, m3, m4, g')\n",
      "st.make_global(params, 1)\n",
      "\n",
      "Q1, Q2 = QQ = st.symb_vector(\"Q1, Q2\")"
     ],
     "language": "python",
     "metadata": {},
     "outputs": [],
     "prompt_number": 4
    },
    {
     "cell_type": "markdown",
     "metadata": {},
     "source": [
      "### Festlegung der Geometrie des mechanischen Systemes"
     ]
    },
    {
     "cell_type": "code",
     "collapsed": false,
     "input": [
      "#Einheitsvektoren\n",
      "\n",
      "ex = sp.Matrix([1,0])\n",
      "ey = sp.Matrix([0,1])\n",
      "\n",
      "\n",
      "# Koordinaten der Schwerpunkte und Gelenke\n",
      "S1 = ex*q1\n",
      "S2 = ex*q1 + ey*q2\n",
      "G3 = S2 # Gelenke\n",
      "G4 = G3 + Rz(p1)*ey*l3*(-1)\n",
      "\n",
      "# Schwerpunkte\n",
      "S3 = G3 + Rz(p1)*ey*s3*(-1)\n",
      "S4 = G4 + Rz(p1+p2)*ey*s4*(-1)\n",
      "\n",
      "# Zeitableitungen der Schwerpunktskoordinaten\n",
      "Sd1, Sd2, Sd3, Sd4  = st.col_split(st.perform_time_derivative(st.col_stack(S1, S2, S3, S4), theta))"
     ],
     "language": "python",
     "metadata": {},
     "outputs": [],
     "prompt_number": 5
    },
    {
     "cell_type": "code",
     "collapsed": false,
     "input": [
      "# Energie\n",
      "T_rot = 0\n",
      "T_trans = ( m1*Sd1.T*Sd1  +  m2*Sd2.T*Sd2 + m3*Sd3.T*Sd3 + m4*Sd4.T*Sd4 )/2\n",
      "\n",
      "T = T_rot + T_trans[0]\n",
      "\n",
      "V = m1*g*S1[1] + m2*g*S2[1] + m3*g*S3[1] + m4*g*S4[1]"
     ],
     "language": "python",
     "metadata": {},
     "outputs": [],
     "prompt_number": 6
    },
    {
     "cell_type": "code",
     "collapsed": false,
     "input": [
      "external_forces = [0, 0, Q1, Q2]\n",
      "assert not any(external_forces[:np])\n",
      "mod = mt.generate_symbolic_model(T, V, theta, external_forces)"
     ],
     "language": "python",
     "metadata": {},
     "outputs": [],
     "prompt_number": 7
    },
    {
     "cell_type": "code",
     "collapsed": false,
     "input": [
      "# nur die nicht-aktuierten Gleichungen ausw\u00e4hlen\n",
      "eq = mod.eq_list[:np, :]\n",
      "eq.simplify()"
     ],
     "language": "python",
     "metadata": {},
     "outputs": [],
     "prompt_number": 8
    },
    {
     "cell_type": "markdown",
     "metadata": {},
     "source": [
      "### Darstellung in Lagrange-Byrnes-Isidori-Normalform bestimmen\n",
      "Zur Auswertung der ruled Manifold-Bedingung ist das Vektorfeld $f_z$ relevant"
     ]
    },
    {
     "cell_type": "code",
     "collapsed": false,
     "input": [
      "mod.calc_lbi_nf_state_eq()\n",
      "fz4 = mod.fz[-np:,:]"
     ],
     "language": "python",
     "metadata": {},
     "outputs": [],
     "prompt_number": 9
    },
    {
     "cell_type": "markdown",
     "metadata": {},
     "source": [
      "### Untersuchung der Hessematrizen $\\boldsymbol H_1, \\boldsymbol H_2$\n"
     ]
    },
    {
     "cell_type": "code",
     "collapsed": false,
     "input": [
      "h1 = sp.hessian(fz4[0], vv)\n",
      "h2 = sp.hessian(fz4[1], vv)"
     ],
     "language": "python",
     "metadata": {},
     "outputs": [],
     "prompt_number": 10
    },
    {
     "cell_type": "code",
     "collapsed": false,
     "input": [
      "h1.co # Gr\u00f6\u00dfe der Ausdr\u00fccke anzeigen"
     ],
     "language": "python",
     "metadata": {},
     "outputs": [
      {
       "metadata": {},
       "output_type": "pyout",
       "prompt_number": 11,
       "text": [
        "Matrix([\n",
        "[34321, 60751],\n",
        "[60751, 34320]])"
       ]
      }
     ],
     "prompt_number": 11
    },
    {
     "cell_type": "markdown",
     "metadata": {},
     "source": [
      "**Fazit:** Die Hessematrizen sind zu gro\u00df um sie symbolisch weiter zu untersuchen.\n"
     ]
    },
    {
     "cell_type": "code",
     "collapsed": false,
     "input": [
      "# numerische Werte generieren zur Punktuellen Untersuchung\n",
      "rnst = st.rnd_number_subs_tuples(h1)\n",
      "\n",
      "# Auswertung der symbolischen Hesse-Matrizen\n",
      "H1 = h1.subs(rnst)\n",
      "H2 = h2.subs(rnst)"
     ],
     "language": "python",
     "metadata": {},
     "outputs": [],
     "prompt_number": 12
    },
    {
     "cell_type": "code",
     "collapsed": false,
     "input": [
      "# Berechnung der Eigenwerte und Vektoren\n",
      "\n",
      "L11, L12 = st.sorted_eigenvalues(H1)\n",
      "V1 = st.sorted_eigenvector_matrix(H1)\n",
      "\n",
      "L21, L22 = st.sorted_eigenvalues(H2)\n",
      "V2 = st.sorted_eigenvector_matrix(H2)"
     ],
     "language": "python",
     "metadata": {},
     "outputs": [],
     "prompt_number": 23
    },
    {
     "cell_type": "code",
     "collapsed": false,
     "input": [
      "# Auswertung der Rang-Bedingung\n",
      "for alpha, beta in [(1, 1), (-1, 1), (1, -1), (-1, -1)]:\n",
      "    column1 = V1*Matrix([alpha*sqrt(-L12), sqrt(L11)])\n",
      "    column2 = V2*Matrix([ beta*sqrt(-L22), sqrt(L21)])\n",
      "    test_matrix = st.col_stack(column1, column2)\n",
      "    \n",
      "    print (alpha, beta), test_matrix.det()"
     ],
     "language": "python",
     "metadata": {},
     "outputs": [
      {
       "output_type": "stream",
       "stream": "stdout",
       "text": [
        "(1, 1) -1.06544354567387\n",
        "(-1, 1) 4.24136590282428\n",
        "(1, -1) 4.92578816591379\n",
        "(-1, -1) 0.425379707688616\n"
       ]
      }
     ],
     "prompt_number": 28
    },
    {
     "cell_type": "markdown",
     "metadata": {},
     "source": [
      "### Fazit:\n",
      "Es $0$ ist in keiner der vier Varianten ein Eigenwert, es gibt keinen Rangabfall, das System ist nicht flach.\n",
      "\n",
      "---\n",
      "\n",
      "## Konsistenztest\n",
      "\n",
      "Als Konsistenztest werden die Modellparameter nun so gew\u00e4hlt, dass das System bekannterma\u00dfen flach ist: $s_3 = l_3$."
     ]
    },
    {
     "cell_type": "code",
     "collapsed": false,
     "input": [
      "flat_params = [(l3, s3)]\n",
      "\n",
      "H1f = h1.subs(flat_params + rnst)\n",
      "H2f = h2.subs(flat_params + rnst)"
     ],
     "language": "python",
     "metadata": {},
     "outputs": [],
     "prompt_number": 39
    },
    {
     "cell_type": "code",
     "collapsed": false,
     "input": [
      "L11, L12 = st.sorted_eigenvalues(H1f)\n",
      "V1 = st.sorted_eigenvector_matrix(H1f)\n",
      "\n",
      "L21, L22 = st.sorted_eigenvalues(H2f)\n",
      "V2 = st.sorted_eigenvector_matrix(H2f)"
     ],
     "language": "python",
     "metadata": {},
     "outputs": [],
     "prompt_number": 40
    },
    {
     "cell_type": "code",
     "collapsed": false,
     "input": [
      "for alpha, beta in [(1, 1), (-1, 1), (1, -1), (-1, -1)]:\n",
      "    column1 = V1*Matrix([alpha*sqrt(-L12), sqrt(L11)])\n",
      "    column2 = V2*Matrix([ beta*sqrt(-L22), sqrt(L21)])\n",
      "    test_matrix = st.col_stack(column1, column2)\n",
      "    \n",
      "    print (alpha, beta), test_matrix.det()"
     ],
     "language": "python",
     "metadata": {},
     "outputs": [
      {
       "output_type": "stream",
       "stream": "stdout",
       "text": [
        "(1, 1) -0.750603199950080\n",
        "(-1, 1) 2.68874610932051\n",
        "(1, -1) 3.15928212530695\n",
        "(-1, -1) -1.55431223447522e-15\n"
       ]
      }
     ],
     "prompt_number": 41
    },
    {
     "cell_type": "markdown",
     "metadata": {},
     "source": [
      "### Fazit\n",
      "F\u00fcr $\\alpha = \\beta = -1$ ist $0$ ein Eigenwert der Testmatrix. Es tritt also ein Rangabfall auf, das System erf\u00fcllt nun f\u00fcr $s_3 = l_3$ (erwartungsgem\u00e4\u00df) die Ruled-Manifold-Bedingung."
     ]
    },
    {
     "cell_type": "code",
     "collapsed": false,
     "input": [
      "h1.s"
     ],
     "language": "python",
     "metadata": {},
     "outputs": [
      {
       "metadata": {},
       "output_type": "pyout",
       "prompt_number": 18,
       "text": [
        "{s4, m3, p2, m4, p1, s3, l3}"
       ]
      }
     ],
     "prompt_number": 18
    },
    {
     "cell_type": "code",
     "collapsed": false,
     "input": [
      "rnst"
     ],
     "language": "python",
     "metadata": {},
     "outputs": [
      {
       "metadata": {},
       "output_type": "pyout",
       "prompt_number": 21,
       "text": [
        "[(s4, 0.7617687104679735),\n",
        " (m3, 0.6201699296643594),\n",
        " (p2, 0.8605279802205613),\n",
        " (m4, 0.8556663414541005),\n",
        " (p1, 0.30084214781035734),\n",
        " (s3, 0.8132927991209467),\n",
        " (l3, 0.352296820205546)]"
       ]
      }
     ],
     "prompt_number": 21
    },
    {
     "cell_type": "code",
     "collapsed": false,
     "input": [],
     "language": "python",
     "metadata": {},
     "outputs": []
    }
   ],
   "metadata": {}
  }
 ]
}