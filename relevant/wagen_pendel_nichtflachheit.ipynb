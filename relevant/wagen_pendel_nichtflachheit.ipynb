{
 "metadata": {
  "name": "",
  "signature": "sha256:80156248c5b0a4ae271d0d3c897aeb96b2d6be7ac1150e67ac590dacda20b465"
 },
 "nbformat": 3,
 "nbformat_minor": 0,
 "worksheets": [
  {
   "cells": [
    {
     "cell_type": "code",
     "collapsed": false,
     "input": [
      "import time\n",
      "print time.ctime()\n",
      "%load_ext displaytools"
     ],
     "language": "python",
     "metadata": {},
     "outputs": [
      {
       "output_type": "stream",
       "stream": "stdout",
       "text": [
        "Sun May  1 20:45:08 2016\n"
       ]
      }
     ],
     "prompt_number": 1
    },
    {
     "cell_type": "markdown",
     "metadata": {},
     "source": [
      "**Betrachtetes System**: Pendel mit horizontal verschieblicher Aufh\u00e4ngung (\"Wagen-Pendel-System\")\n",
      "\n",
      "\ufffc <img src=\"files/images/pendel_wagen.png\">\n",
      "\n",
      "**Betrachtete Fragen**:\n",
      "* Herleitung der Modellgleichungen\n",
      "    * partiell linearisiert\n",
      "    * LBI-NF \n",
      "* Anwendung der Ruled-Manifold-Bedingung zum Nachweis der Nichtflachheit\n",
      "* Untersuchung des Tangentialsystems zum Nachweis der Nichtflachheit\n",
      "\n",
      "\n",
      "\n",
      "\n",
      "[//]: # (custom_config_start)\n",
      "$$\n",
      "\\newcommand{\\d}{\\mathrm{d}}\n",
      "\\newcommand{\\col}{\\mathrm{col}}\n",
      "\\newcommand{\\bs}{\\boldsymbol}\n",
      "\\newcommand{\\Ddt}{\\left(\\tfrac{d}{dt}\\right)}\n",
      "\\newcommand{\\ddt}{\\tfrac{d}{dt}}\n",
      "$$\n",
      "[//]: # (custom_config_end)"
     ]
    },
    {
     "cell_type": "code",
     "collapsed": false,
     "input": [
      "import sympy as sp\n",
      "from sympy import sin, cos, pi\n",
      "from sympy.interactive import printing\n",
      "import pickle\n",
      "\n",
      "import symbtools as st\n",
      "import symbtools.modeltools as mt\n",
      "import symbtools.noncommutativetools as nct\n",
      "\n",
      "import pycartan as pc\n",
      "zip0 = st.zip0\n",
      "printing.init_printing(1)"
     ],
     "language": "python",
     "metadata": {},
     "outputs": [],
     "prompt_number": 2
    },
    {
     "cell_type": "code",
     "collapsed": false,
     "input": [
      "t = sp.Symbol('t')\n",
      "np = 1\n",
      "nq = 1\n",
      "n = np + nq\n",
      "pp = st.symb_vector(\"p1:{0}\".format(np+1))\n",
      "qq = st.symb_vector(\"q1:{0}\".format(nq+1))\n",
      "aa = st.symb_vector(\"a1:{0}\".format(nq+1))\n",
      "ww = st.symb_vector(\"w1:{0}\".format(nq+1))\n",
      "\n",
      "ttheta = st.row_stack(pp, qq) ##:T\n",
      "tthetad = st.time_deriv(ttheta, ttheta) ##:T\n",
      "tthetadd = st.time_deriv(ttheta, ttheta, order=2) ##:T\n",
      "st.make_global(ttheta, tthetad)"
     ],
     "language": "python",
     "metadata": {},
     "outputs": [
      {
       "latex": [
        "ttheta.T := $$\\left[\\begin{matrix}p_{1} & q_{1}\\end{matrix}\\right]$$"
       ],
       "metadata": {},
       "output_type": "display_data",
       "png": "[encoded data removed]",
       "text": [
        "ttheta.T := [p\u2081  q\u2081]"
       ]
      },
      {
       "output_type": "stream",
       "stream": "stdout",
       "text": [
        "---\n"
       ]
      },
      {
       "latex": [
        "tthetad.T := $$\\left[\\begin{matrix}\\dot{p}_{1} & \\dot{q}_{1}\\end{matrix}\\right]$$"
       ],
       "metadata": {},
       "output_type": "display_data",
       "png": "[encoded data removed]",
       "text": [
        "tthetad.T := [p\u0307\u2081  q\u0307\u2081]"
       ]
      },
      {
       "output_type": "stream",
       "stream": "stdout",
       "text": [
        "---\n"
       ]
      },
      {
       "latex": [
        "tthetadd.T := $$\\left[\\begin{matrix}\\ddot{p}_{1} & \\ddot{q}_{1}\\end{matrix}\\right]$$"
       ],
       "metadata": {},
       "output_type": "display_data",
       "png": "[encoded data removed]",
       "text": [
        "tthetadd.T := [p\u0308\u2081  q\u0308\u2081]"
       ]
      },
      {
       "output_type": "stream",
       "stream": "stdout",
       "text": [
        "---\n"
       ]
      }
     ],
     "prompt_number": 3
    },
    {
     "cell_type": "code",
     "collapsed": false,
     "input": [
      "params = sp.symbols('m1, m2, s2, g')\n",
      "st.make_global(params)\n",
      "\n",
      "tau1 = sp.Symbol(\"tau1\")"
     ],
     "language": "python",
     "metadata": {},
     "outputs": [],
     "prompt_number": 4
    },
    {
     "cell_type": "markdown",
     "metadata": {},
     "source": [
      "### Festlegung der Geometrie des mechanischen Systemes"
     ]
    },
    {
     "cell_type": "code",
     "collapsed": false,
     "input": [
      "#Einheitsvektoren\n",
      "\n",
      "ex = sp.Matrix([1,0])\n",
      "ey = sp.Matrix([0,1])\n",
      "\n",
      "\n",
      "# Koordinaten der Schwerpunkte und Gelenke\n",
      "\n",
      "S1 = ex*q1 # Schwerpunkt Wagen\n",
      "G2 = S1 # Pendel-Gelenk\n",
      "\n",
      "# Schwerpunkt des Pendels (Pendel zeigt f\u00fcr kleine Winkel nach unten)\n",
      "S2 = G2 + mt.Rz(p1)*(-ey)*s2\n",
      "\n",
      "# Zeitableitungen der Schwerpunktskoordinaten\n",
      "Sd1, Sd2  = st.col_split(st.time_deriv(st.col_stack(S1, S2), ttheta)) ##"
     ],
     "language": "python",
     "metadata": {},
     "outputs": [
      {
       "latex": [
        "$$\\left[\\begin{matrix}\\dot{q}_{1}\\\\0\\end{matrix}\\right]$$"
       ],
       "metadata": {},
       "output_type": "display_data",
       "png": "[encoded data removed]",
       "text": [
        "\u23a1q\u0307\u2081\u23a4\n",
        "\u23a2   \u23a5\n",
        "\u23a3 0 \u23a6"
       ]
      },
      {
       "latex": [
        "$$\\left[\\begin{matrix}\\dot{p}_{1} s_{2} \\cos{\\left (p_{1} \\right )} + \\dot{q}_{1}\\\\\\dot{p}_{1} s_{2} \\sin{\\left (p_{1} \\right )}\\end{matrix}\\right]$$"
       ],
       "metadata": {},
       "output_type": "display_data",
       "png": "[encoded data removed]",
       "text": [
        "\u23a1p\u0307\u2081\u22c5s\u2082\u22c5cos(p\u2081) + q\u0307\u2081\u23a4\n",
        "\u23a2                    \u23a5\n",
        "\u23a3   p\u0307\u2081\u22c5s\u2082\u22c5sin(p\u2081)   \u23a6"
       ]
      },
      {
       "output_type": "stream",
       "stream": "stdout",
       "text": [
        "---\n"
       ]
      }
     ],
     "prompt_number": 5
    },
    {
     "cell_type": "code",
     "collapsed": false,
     "input": [
      "# Energie\n",
      "T_rot = 0 # (Punktmassenmodell)\n",
      "T_trans = ( m1*Sd1.T*Sd1  +  m2*Sd2.T*Sd2 )/2\n",
      "\n",
      "T = T_rot + T_trans[0]\n",
      "\n",
      "V = m2*g*S2[1]"
     ],
     "language": "python",
     "metadata": {},
     "outputs": [],
     "prompt_number": 6
    },
    {
     "cell_type": "code",
     "collapsed": false,
     "input": [
      "V"
     ],
     "language": "python",
     "metadata": {},
     "outputs": [
      {
       "latex": [
        "$$- g m_{2} s_{2} \\cos{\\left (p_{1} \\right )}$$"
       ],
       "metadata": {},
       "output_type": "pyout",
       "png": "[encoded data removed]",
       "prompt_number": 7,
       "text": [
        "-g\u22c5m\u2082\u22c5s\u2082\u22c5cos(p\u2081)"
       ]
      }
     ],
     "prompt_number": 7
    },
    {
     "cell_type": "code",
     "collapsed": false,
     "input": [
      "mod = mt.generate_symbolic_model(T, V, ttheta, [0, tau1])"
     ],
     "language": "python",
     "metadata": {},
     "outputs": [],
     "prompt_number": 8
    },
    {
     "cell_type": "code",
     "collapsed": false,
     "input": [
      "mod.MM.simplify()\n",
      "mod.MM"
     ],
     "language": "python",
     "metadata": {},
     "outputs": [
      {
       "latex": [
        "$$\\left[\\begin{matrix}m_{2} s_{2}^{2} & m_{2} s_{2} \\cos{\\left (p_{1} \\right )}\\\\m_{2} s_{2} \\cos{\\left (p_{1} \\right )} & m_{1} + m_{2}\\end{matrix}\\right]$$"
       ],
       "metadata": {},
       "output_type": "pyout",
       "png": "[encoded data removed]",
       "prompt_number": 9,
       "text": [
        "\u23a1        2                   \u23a4\n",
        "\u23a2   m\u2082\u22c5s\u2082       m\u2082\u22c5s\u2082\u22c5cos(p\u2081)\u23a5\n",
        "\u23a2                            \u23a5\n",
        "\u23a3m\u2082\u22c5s\u2082\u22c5cos(p\u2081)     m\u2081 + m\u2082   \u23a6"
       ]
      }
     ],
     "prompt_number": 9
    },
    {
     "cell_type": "markdown",
     "metadata": {},
     "source": [
      "### Bestimmung der partiell lineariserten Systemgleichungen"
     ]
    },
    {
     "cell_type": "code",
     "collapsed": false,
     "input": [
      "mod.calc_coll_part_lin_state_eq(simplify=True)"
     ],
     "language": "python",
     "metadata": {},
     "outputs": [],
     "prompt_number": 10
    },
    {
     "cell_type": "code",
     "collapsed": false,
     "input": [
      "xx = mod.x ##:T\n",
      "f = mod.ff ##:\n",
      "G = mod.gg \n",
      "g1, = st.col_split(G) ##:"
     ],
     "language": "python",
     "metadata": {},
     "outputs": [
      {
       "latex": [
        "xx.T := $$\\left[\\begin{matrix}p_{1} & q_{1} & \\dot{p}_{1} & \\dot{q}_{1}\\end{matrix}\\right]$$"
       ],
       "metadata": {},
       "output_type": "display_data",
       "png": "[encoded data removed]",
       "text": [
        "xx.T := [p\u2081  q\u2081  p\u0307\u2081  q\u0307\u2081]"
       ]
      },
      {
       "output_type": "stream",
       "stream": "stdout",
       "text": [
        "---\n"
       ]
      },
      {
       "latex": [
        "f := $$\\left[\\begin{matrix}\\dot{p}_{1}\\\\\\dot{q}_{1}\\\\- \\frac{g}{s_{2}} \\sin{\\left (p_{1} \\right )}\\\\0\\end{matrix}\\right]$$"
       ],
       "metadata": {},
       "output_type": "display_data",
       "png": "[encoded data removed]",
       "text": [
        "f := \u23a1    p\u0307\u2081    \u23a4\n",
        "\u23a2           \u23a5\n",
        "\u23a2    q\u0307\u2081    \u23a5\n",
        "\u23a2           \u23a5\n",
        "\u23a2-g\u22c5sin(p\u2081) \u23a5\n",
        "\u23a2\u2500\u2500\u2500\u2500\u2500\u2500\u2500\u2500\u2500\u2500\u2500\u23a5\n",
        "\u23a2     s\u2082    \u23a5\n",
        "\u23a2           \u23a5\n",
        "\u23a3     0     \u23a6"
       ]
      },
      {
       "output_type": "stream",
       "stream": "stdout",
       "text": [
        "---\n"
       ]
      },
      {
       "latex": [
        "g1, := $$\\left[\\begin{matrix}0\\\\0\\\\- \\frac{1}{s_{2}} \\cos{\\left (p_{1} \\right )}\\\\1\\end{matrix}\\right]$$"
       ],
       "metadata": {},
       "output_type": "display_data",
       "png": "[encoded data removed]",
       "text": [
        "g1, := \u23a1    0    \u23a4\n",
        "\u23a2         \u23a5\n",
        "\u23a2    0    \u23a5\n",
        "\u23a2         \u23a5\n",
        "\u23a2-cos(p\u2081) \u23a5\n",
        "\u23a2\u2500\u2500\u2500\u2500\u2500\u2500\u2500\u2500\u2500\u23a5\n",
        "\u23a2    s\u2082   \u23a5\n",
        "\u23a2         \u23a5\n",
        "\u23a3    1    \u23a6"
       ]
      },
      {
       "output_type": "stream",
       "stream": "stdout",
       "text": [
        "---\n"
       ]
      }
     ],
     "prompt_number": 11
    },
    {
     "cell_type": "markdown",
     "metadata": {},
     "source": [
      "### Untersuchung auf Linearisierung durch statische R\u00fcckf\u00fchrung"
     ]
    },
    {
     "cell_type": "code",
     "collapsed": false,
     "input": [
      "ad_f1_g = st.lie_bracket(f, g1, xx) ##:T\n",
      "ad_f2_g = st.lie_bracket(f, ad_f1_g, xx) ##:T"
     ],
     "language": "python",
     "metadata": {},
     "outputs": [
      {
       "latex": [
        "ad_f1_g.T := $$\\left[\\begin{matrix}\\frac{1}{s_{2}} \\cos{\\left (p_{1} \\right )} & -1 & \\frac{\\dot{p}_{1}}{s_{2}} \\sin{\\left (p_{1} \\right )} & 0\\end{matrix}\\right]$$"
       ],
       "metadata": {},
       "output_type": "display_data",
       "png": "[encoded data removed]",
       "text": [
        "ad_f1_g.T := \u23a1cos(p\u2081)      p\u0307\u2081\u22c5sin(p\u2081)   \u23a4\n",
        "\u23a2\u2500\u2500\u2500\u2500\u2500\u2500\u2500  -1  \u2500\u2500\u2500\u2500\u2500\u2500\u2500\u2500\u2500\u2500\u2500  0\u23a5\n",
        "\u23a3   s\u2082             s\u2082       \u23a6"
       ]
      },
      {
       "output_type": "stream",
       "stream": "stdout",
       "text": [
        "---\n"
       ]
      },
      {
       "latex": [
        "ad_f2_g.T := $$\\left[\\begin{matrix}- \\frac{2 \\dot{p}_{1}}{s_{2}} \\sin{\\left (p_{1} \\right )} & 0 & - \\frac{g}{s_{2}^{2}} \\sin^{2}{\\left (p_{1} \\right )} + \\frac{g}{s_{2}^{2}} \\cos^{2}{\\left (p_{1} \\right )} + \\frac{\\dot{p}_{1}^{2}}{s_{2}} \\cos{\\left (p_{1} \\right )} & 0\\end{matrix}\\right]$$"
       ],
       "metadata": {},
       "output_type": "display_data",
       "png": "[encoded data removed]",
       "text": [
        "ad_f2_g.T := \u23a1                           2            2          2           \u23a4\n",
        "\u23a2-2\u22c5p\u0307\u2081\u22c5sin(p\u2081)        g\u22c5sin (p\u2081)   g\u22c5cos (p\u2081)   p\u0307\u2081 \u22c5cos(p\u2081)   \u23a5\n",
        "\u23a2\u2500\u2500\u2500\u2500\u2500\u2500\u2500\u2500\u2500\u2500\u2500\u2500\u2500\u2500\u2500  0  - \u2500\u2500\u2500\u2500\u2500\u2500\u2500\u2500\u2500\u2500 + \u2500\u2500\u2500\u2500\u2500\u2500\u2500\u2500\u2500\u2500 + \u2500\u2500\u2500\u2500\u2500\u2500\u2500\u2500\u2500\u2500\u2500\u2500  0\u23a5\n",
        "\u23a2       s\u2082                  2            2            s\u2082        \u23a5\n",
        "\u23a3                         s\u2082           s\u2082                       \u23a6"
       ]
      },
      {
       "output_type": "stream",
       "stream": "stdout",
       "text": [
        "---\n"
       ]
      }
     ],
     "prompt_number": 12
    },
    {
     "cell_type": "code",
     "collapsed": false,
     "input": [
      "Delta1 = st.col_stack(g1, ad_f1_g)\n",
      "Delta2 = st.col_stack(Delta1, ad_f2_g)"
     ],
     "language": "python",
     "metadata": {},
     "outputs": [],
     "prompt_number": 13
    },
    {
     "cell_type": "code",
     "collapsed": false,
     "input": [
      "st.involutivity_test(Delta1, xx)"
     ],
     "language": "python",
     "metadata": {},
     "outputs": [
      {
       "metadata": {},
       "output_type": "pyout",
       "prompt_number": 14,
       "text": [
        "(False, (0, 1))"
       ]
      }
     ],
     "prompt_number": 14
    },
    {
     "cell_type": "code",
     "collapsed": false,
     "input": [
      "st.lie_bracket(g1, ad_f1_g, xx)"
     ],
     "language": "python",
     "metadata": {},
     "outputs": [
      {
       "latex": [
        "$$\\left[\\begin{matrix}0\\\\0\\\\- \\frac{2}{s_{2}^{2}} \\sin{\\left (p_{1} \\right )} \\cos{\\left (p_{1} \\right )}\\\\0\\end{matrix}\\right]$$"
       ],
       "metadata": {},
       "output_type": "pyout",
       "png": "[encoded data removed]",
       "prompt_number": 15,
       "text": [
        "\u23a1         0         \u23a4\n",
        "\u23a2                   \u23a5\n",
        "\u23a2         0         \u23a5\n",
        "\u23a2                   \u23a5\n",
        "\u23a2-2\u22c5sin(p\u2081)\u22c5cos(p\u2081) \u23a5\n",
        "\u23a2\u2500\u2500\u2500\u2500\u2500\u2500\u2500\u2500\u2500\u2500\u2500\u2500\u2500\u2500\u2500\u2500\u2500\u2500\u2500\u23a5\n",
        "\u23a2          2        \u23a5\n",
        "\u23a2        s\u2082         \u23a5\n",
        "\u23a2                   \u23a5\n",
        "\u23a3         0         \u23a6"
       ]
      }
     ],
     "prompt_number": 15
    },
    {
     "cell_type": "code",
     "collapsed": false,
     "input": [
      "Delta2"
     ],
     "language": "python",
     "metadata": {},
     "outputs": [
      {
       "latex": [
        "$$\\left[\\begin{matrix}0 & \\frac{1}{s_{2}} \\cos{\\left (p_{1} \\right )} & - \\frac{2 \\dot{p}_{1}}{s_{2}} \\sin{\\left (p_{1} \\right )}\\\\0 & -1 & 0\\\\- \\frac{1}{s_{2}} \\cos{\\left (p_{1} \\right )} & \\frac{\\dot{p}_{1}}{s_{2}} \\sin{\\left (p_{1} \\right )} & - \\frac{g}{s_{2}^{2}} \\sin^{2}{\\left (p_{1} \\right )} + \\frac{g}{s_{2}^{2}} \\cos^{2}{\\left (p_{1} \\right )} + \\frac{\\dot{p}_{1}^{2}}{s_{2}} \\cos{\\left (p_{1} \\right )}\\\\1 & 0 & 0\\end{matrix}\\right]$$"
       ],
       "metadata": {},
       "output_type": "pyout",
       "png": "[encoded data removed]",
       "prompt_number": 16,
       "text": [
        "\u23a1             cos(p\u2081)                -2\u22c5p\u0307\u2081\u22c5sin(p\u2081)              \u23a4\n",
        "\u23a2    0        \u2500\u2500\u2500\u2500\u2500\u2500\u2500                \u2500\u2500\u2500\u2500\u2500\u2500\u2500\u2500\u2500\u2500\u2500\u2500\u2500\u2500\u2500             \u23a5\n",
        "\u23a2                s\u2082                         s\u2082                   \u23a5\n",
        "\u23a2                                                                \u23a5\n",
        "\u23a2    0          -1                          0                    \u23a5\n",
        "\u23a2                                                                \u23a5\n",
        "\u23a2                               2            2          2        \u23a5\n",
        "\u23a2-cos(p\u2081)   p\u0307\u2081\u22c5sin(p\u2081)    g\u22c5sin (p\u2081)   g\u22c5cos (p\u2081)   p\u0307\u2081 \u22c5cos(p\u2081)\u23a5\n",
        "\u23a2\u2500\u2500\u2500\u2500\u2500\u2500\u2500\u2500\u2500  \u2500\u2500\u2500\u2500\u2500\u2500\u2500\u2500\u2500\u2500\u2500  - \u2500\u2500\u2500\u2500\u2500\u2500\u2500\u2500\u2500\u2500 + \u2500\u2500\u2500\u2500\u2500\u2500\u2500\u2500\u2500\u2500 + \u2500\u2500\u2500\u2500\u2500\u2500\u2500\u2500\u2500\u2500\u2500\u2500\u23a5\n",
        "\u23a2    s\u2082          s\u2082             2            2            s\u2082     \u23a5\n",
        "\u23a2                             s\u2082           s\u2082                    \u23a5\n",
        "\u23a2                                                                \u23a5\n",
        "\u23a3    1           0                          0                    \u23a6"
       ]
      }
     ],
     "prompt_number": 16
    },
    {
     "cell_type": "markdown",
     "metadata": {},
     "source": [
      "**Fazit:** Die Distribution $\\mathrm{span}(\\bs g, [f, g], [f, [f, g]])$ ist nicht involutiv. Das System ist also nicht durch eine statische Zustandsr\u00fcckf\u00fchrung linearisierbar. Und damit nicht flach."
     ]
    },
    {
     "cell_type": "markdown",
     "metadata": {},
     "source": [
      "### Auswertung der Ruled-Manifold-Bedingung auf Basis der LBI-NF"
     ]
    },
    {
     "cell_type": "code",
     "collapsed": false,
     "input": [
      "mod.calc_lbi_nf_state_eq()"
     ],
     "language": "python",
     "metadata": {},
     "outputs": [],
     "prompt_number": 17
    },
    {
     "cell_type": "code",
     "collapsed": false,
     "input": [
      "mod.fz = mod.fz.expand() ##\n",
      "mod.gz ##"
     ],
     "language": "python",
     "metadata": {},
     "outputs": [
      {
       "latex": [
        "$$\\left[\\begin{matrix}\\dot{q}_{1}\\\\0\\\\- \\frac{\\dot{q}_{1}}{s_{2}} \\cos{\\left (p_{1} \\right )} + w_{1}\\\\- \\frac{g}{s_{2}} \\sin{\\left (p_{1} \\right )} + \\frac{\\dot{q}_{1}^{2}}{s_{2}^{2}} \\sin{\\left (p_{1} \\right )} \\cos{\\left (p_{1} \\right )} - \\frac{\\dot{q}_{1} w_{1}}{s_{2}} \\sin{\\left (p_{1} \\right )}\\end{matrix}\\right]$$"
       ],
       "metadata": {},
       "output_type": "display_data",
       "png": "[encoded data removed]",
       "text": [
        "\u23a1                        q\u0307\u2081                        \u23a4\n",
        "\u23a2                                                   \u23a5\n",
        "\u23a2                         0                         \u23a5\n",
        "\u23a2                                                   \u23a5\n",
        "\u23a2                  q\u0307\u2081\u22c5cos(p\u2081)                      \u23a5\n",
        "\u23a2                - \u2500\u2500\u2500\u2500\u2500\u2500\u2500\u2500\u2500\u2500\u2500 + w\u2081                 \u23a5\n",
        "\u23a2                       s\u2082                          \u23a5\n",
        "\u23a2                                                   \u23a5\n",
        "\u23a2                 2                                 \u23a5\n",
        "\u23a2  g\u22c5sin(p\u2081)   q\u0307\u2081 \u22c5sin(p\u2081)\u22c5cos(p\u2081)   q\u0307\u2081\u22c5w\u2081\u22c5sin(p\u2081)\u23a5\n",
        "\u23a2- \u2500\u2500\u2500\u2500\u2500\u2500\u2500\u2500\u2500 + \u2500\u2500\u2500\u2500\u2500\u2500\u2500\u2500\u2500\u2500\u2500\u2500\u2500\u2500\u2500\u2500\u2500\u2500\u2500\u2500 - \u2500\u2500\u2500\u2500\u2500\u2500\u2500\u2500\u2500\u2500\u2500\u2500\u2500\u2500\u23a5\n",
        "\u23a2      s\u2082                2                  s\u2082      \u23a5\n",
        "\u23a3                      s\u2082                           \u23a6"
       ]
      },
      {
       "output_type": "stream",
       "stream": "stdout",
       "text": [
        "---\n"
       ]
      },
      {
       "latex": [
        "$$\\left[\\begin{matrix}0\\\\1\\\\0\\\\0\\end{matrix}\\right]$$"
       ],
       "metadata": {},
       "output_type": "display_data",
       "png": "[encoded data removed]",
       "text": [
        "\u23a10\u23a4\n",
        "\u23a2 \u23a5\n",
        "\u23a21\u23a5\n",
        "\u23a2 \u23a5\n",
        "\u23a20\u23a5\n",
        "\u23a2 \u23a5\n",
        "\u23a30\u23a6"
       ]
      },
      {
       "output_type": "stream",
       "stream": "stdout",
       "text": [
        "___\n"
       ]
      }
     ],
     "prompt_number": 18
    },
    {
     "cell_type": "code",
     "collapsed": false,
     "input": [
      "# (1x1)-Vektor der aktiven Geschwindigkeiten\n",
      "vv = tthetad[np:, :] ##\n",
      "\n",
      "# Entscheidender Teil des Driftvektorfeldes\n",
      "fz4 = mod.fz[-np:, :] ##"
     ],
     "language": "python",
     "metadata": {},
     "outputs": [
      {
       "latex": [
        "$$\\left[\\begin{matrix}\\dot{q}_{1}\\end{matrix}\\right]$$"
       ],
       "metadata": {},
       "output_type": "display_data",
       "png": "[encoded data removed]",
       "text": [
        "[q\u0307\u2081]"
       ]
      },
      {
       "output_type": "stream",
       "stream": "stdout",
       "text": [
        "---\n"
       ]
      },
      {
       "latex": [
        "$$\\left[\\begin{matrix}- \\frac{g}{s_{2}} \\sin{\\left (p_{1} \\right )} + \\frac{\\dot{q}_{1}^{2}}{s_{2}^{2}} \\sin{\\left (p_{1} \\right )} \\cos{\\left (p_{1} \\right )} - \\frac{\\dot{q}_{1} w_{1}}{s_{2}} \\sin{\\left (p_{1} \\right )}\\end{matrix}\\right]$$"
       ],
       "metadata": {},
       "output_type": "display_data",
       "png": "[encoded data removed]",
       "text": [
        "\u23a1                 2                                 \u23a4\n",
        "\u23a2  g\u22c5sin(p\u2081)   q\u0307\u2081 \u22c5sin(p\u2081)\u22c5cos(p\u2081)   q\u0307\u2081\u22c5w\u2081\u22c5sin(p\u2081)\u23a5\n",
        "\u23a2- \u2500\u2500\u2500\u2500\u2500\u2500\u2500\u2500\u2500 + \u2500\u2500\u2500\u2500\u2500\u2500\u2500\u2500\u2500\u2500\u2500\u2500\u2500\u2500\u2500\u2500\u2500\u2500\u2500\u2500 - \u2500\u2500\u2500\u2500\u2500\u2500\u2500\u2500\u2500\u2500\u2500\u2500\u2500\u2500\u23a5\n",
        "\u23a2      s\u2082                2                  s\u2082      \u23a5\n",
        "\u23a3                      s\u2082                           \u23a6"
       ]
      },
      {
       "output_type": "stream",
       "stream": "stdout",
       "text": [
        "---\n"
       ]
      }
     ],
     "prompt_number": 19
    },
    {
     "cell_type": "code",
     "collapsed": false,
     "input": [
      "H1 = sp.hessian(fz4[0], vv) ##"
     ],
     "language": "python",
     "metadata": {},
     "outputs": [
      {
       "latex": [
        "$$\\left[\\begin{matrix}\\frac{2}{s_{2}^{2}} \\sin{\\left (p_{1} \\right )} \\cos{\\left (p_{1} \\right )}\\end{matrix}\\right]$$"
       ],
       "metadata": {},
       "output_type": "display_data",
       "png": "[encoded data removed]",
       "text": [
        "\u23a12\u22c5sin(p\u2081)\u22c5cos(p\u2081)\u23a4\n",
        "\u23a2\u2500\u2500\u2500\u2500\u2500\u2500\u2500\u2500\u2500\u2500\u2500\u2500\u2500\u2500\u2500\u2500\u2500\u23a5\n",
        "\u23a2         2       \u23a5\n",
        "\u23a3       s\u2082        \u23a6"
       ]
      },
      {
       "output_type": "stream",
       "stream": "stdout",
       "text": [
        "---\n"
       ]
      }
     ],
     "prompt_number": 20
    },
    {
     "cell_type": "markdown",
     "metadata": {},
     "source": [
      "Damit die Gleichung $\\bs b^T \\bs  H_1 \\bs b$ eine nichtriviale L\u00f6sung haben k\u00f6nnte, m\u00fcsste (im vorliegenden $1 \\times 1$ Fall) $\\bs H_1 = \\bs 0$ gelten. Dem ist nicht der Fall, die Ruled-Manifold-Bedingung ist also nicht erf\u00fcllt."
     ]
    },
    {
     "cell_type": "markdown",
     "metadata": {},
     "source": [
      "### Untersuchung des Tangentialsystems"
     ]
    },
    {
     "cell_type": "markdown",
     "metadata": {},
     "source": [
      "Bestimmung der impliziten Systemgleichungen"
     ]
    },
    {
     "cell_type": "code",
     "collapsed": false,
     "input": [
      "F = mod.eqns[:nq, :] ##:\n",
      "P0 = sp.simplify( F.jacobian(ttheta) ) ##:\n",
      "P1 = sp.simplify( F.jacobian(tthetad) )##:\n",
      "P2 = sp.simplify( F.jacobian(tthetadd) ) ##:"
     ],
     "language": "python",
     "metadata": {},
     "outputs": [
      {
       "latex": [
        "F := $$\\left[\\begin{matrix}m_{2} s_{2} \\left(g \\sin{\\left (p_{1} \\right )} + \\ddot{p}_{1} s_{2} + \\ddot{q}_{1} \\cos{\\left (p_{1} \\right )}\\right)\\end{matrix}\\right]$$"
       ],
       "metadata": {},
       "output_type": "display_data",
       "png": "[encoded data removed]",
       "text": [
        "F := [m\u2082\u22c5s\u2082\u22c5(g\u22c5sin(p\u2081) + p\u0308\u2081\u22c5s\u2082 + q\u0308\u2081\u22c5cos(p\u2081))]"
       ]
      },
      {
       "output_type": "stream",
       "stream": "stdout",
       "text": [
        "---\n"
       ]
      },
      {
       "latex": [
        "P0 := $$\\left[\\begin{matrix}m_{2} s_{2} \\left(g \\cos{\\left (p_{1} \\right )} - \\ddot{q}_{1} \\sin{\\left (p_{1} \\right )}\\right) & 0\\end{matrix}\\right]$$"
       ],
       "metadata": {},
       "output_type": "display_data",
       "png": "[encoded data removed]",
       "text": [
        "P0 := [m\u2082\u22c5s\u2082\u22c5(g\u22c5cos(p\u2081) - q\u0308\u2081\u22c5sin(p\u2081))  0]"
       ]
      },
      {
       "output_type": "stream",
       "stream": "stdout",
       "text": [
        "---\n"
       ]
      },
      {
       "latex": [
        "P1 := $$\\left[\\begin{matrix}0 & 0\\end{matrix}\\right]$$"
       ],
       "metadata": {},
       "output_type": "display_data",
       "png": "[encoded data removed]",
       "text": [
        "P1 := [0  0]"
       ]
      },
      {
       "output_type": "stream",
       "stream": "stdout",
       "text": [
        "---\n"
       ]
      },
      {
       "latex": [
        "P2 := $$\\left[\\begin{matrix}m_{2} s_{2}^{2} & m_{2} s_{2} \\cos{\\left (p_{1} \\right )}\\end{matrix}\\right]$$"
       ],
       "metadata": {},
       "output_type": "display_data",
       "png": "[encoded data removed]",
       "text": [
        "P2 := \u23a1     2               \u23a4\n",
        "\u23a3m\u2082\u22c5s\u2082   m\u2082\u22c5s\u2082\u22c5cos(p\u2081)\u23a6"
       ]
      },
      {
       "output_type": "stream",
       "stream": "stdout",
       "text": [
        "---\n"
       ]
      }
     ],
     "prompt_number": 21
    },
    {
     "cell_type": "markdown",
     "metadata": {},
     "source": [
      "Damit ist $\\bs P\\Ddt = \\bs P_0 + \\bs P_1 \\ddt + \\bs P_2 \\Ddt$ bestimmt.\n",
      "\n",
      "---\n",
      "\n",
      "N\u00e4chster Schritt: Bestimmung der unimodularen Erg\u00e4nzung $\\bs Q\\Ddt$. Dies geschieht extern durch Aufruf des ensprechenden Algorithmus. Daf\u00fcr wurde die Matrix $\\bs P\\Ddt$ mit generischen Platzhaltern angesetzt:\n",
      "\n",
      "\n",
      "$$\\bs P\\Ddt=\n",
      "\\left(\\begin{matrix}\n",
      "A_{1 1} +  C_{1 1} \\Ddt^{2} & C_{1 2} \\Ddt^{2}\n",
      "\\end{matrix}\\right).$$\n",
      "\n",
      "\n",
      "Das Ergebnis des Algorithmus zur Bestimmung von Q wird im folgenden geladen und vereinfacht. Danach wird durch explizite Berechnung der Inversen \u00fcberpr\u00fcft, dass es die Gesamtmatrix\n",
      "$\\left(\\begin{smallmatrix}\n",
      "\\bs P\\\\\n",
      "\\bs Q\n",
      "\\end{smallmatrix} \\right)$ tats\u00e4chlich unimodular ist."
     ]
    },
    {
     "cell_type": "code",
     "collapsed": false,
     "input": [
      "fname = \"mechanik_ph_wagen_pendel.pcl\"\n",
      "pdata = st.pickle_full_load(fname)\n",
      "\n",
      "\n",
      "# Erg\u00e4nzung direkt aus dem Algorithmus\n",
      "Q_algorithm = pdata.Q\n",
      "# Symbole im Namensraum verf\u00fcgbar machen\n",
      "st.make_global(Q_algorithm.s)\n",
      "\n",
      "# Vereinfachung\n",
      "Q = (Q_algorithm/C12).expand()##:"
     ],
     "language": "python",
     "metadata": {},
     "outputs": [
      {
       "latex": [
        "Q := $$\\left[\\begin{matrix}- A_{11} C_{11} C_{12} \\dot{C}_{12} + C_{11}^{2} \\ddot{C}_{12} \\dot{C}_{12} & - A_{11} C_{12}^{2} \\dot{C}_{12} + C_{11} C_{12} \\ddot{C}_{12} \\dot{C}_{12} - 2 C_{11} \\dot{C}_{12}^{3} & 2 C_{11}^{2} \\dot{C}_{12}^{2} & 2 C_{11} C_{12} \\dot{C}_{12}^{2}\\end{matrix}\\right]$$"
       ],
       "metadata": {},
       "output_type": "display_data",
       "png": "[encoded data removed]",
       "text": [
        "Q := \u23a1                       2                     2                               \n",
        "\u23a3-A\u2081\u2081\u22c5C\u2081\u2081\u22c5C\u2081\u2082\u22c5C\u0307\u2081\u2082 + C\u2081\u2081 \u22c5C\u0308\u2081\u2082\u22c5C\u0307\u2081\u2082  - A\u2081\u2081\u22c5C\u2081\u2082 \u22c5C\u0307\u2081\u2082 + C\u2081\u2081\u22c5C\u2081\u2082\u22c5C\u0308\u2081\u2082\u22c5C\u0307\u2081\u2082 - 2\u22c5C\n",
        "\n",
        "       3       2     2                2\u23a4\n",
        "\u2081\u2081\u22c5C\u0307\u2081\u2082   2\u22c5C\u2081\u2081 \u22c5C\u0307\u2081\u2082   2\u22c5C\u2081\u2081\u22c5C\u2081\u2082\u22c5C\u0307\u2081\u2082 \u23a6"
       ]
      },
      {
       "output_type": "stream",
       "stream": "stdout",
       "text": [
        "---\n"
       ]
      }
     ],
     "prompt_number": 22
    },
    {
     "cell_type": "code",
     "collapsed": false,
     "input": [
      "s = sp.Symbol('s', commutative=False)\n",
      "P = pdata.P0 + pdata.P1*s + pdata.P2*s**2 ##\n",
      "PQ = st.row_stack(P, Q[:,:n] + Q[:,n:]*s)\n",
      "PQ ##"
     ],
     "language": "python",
     "metadata": {},
     "outputs": [
      {
       "latex": [
        "$$\\left[\\begin{matrix}A_{11} + C_{11} s^{2} & C_{12} s^{2}\\end{matrix}\\right]$$"
       ],
       "metadata": {},
       "output_type": "display_data",
       "png": "[encoded data removed]",
       "text": [
        "\u23a1           2       2\u23a4\n",
        "\u23a3A\u2081\u2081 + C\u2081\u2081\u22c5s   C\u2081\u2082\u22c5s \u23a6"
       ]
      },
      {
       "output_type": "stream",
       "stream": "stdout",
       "text": [
        "---\n"
       ]
      },
      {
       "latex": [
        "$$\\left[\\begin{matrix}A_{11} + C_{11} s^{2} & C_{12} s^{2}\\\\- A_{11} C_{11} C_{12} \\dot{C}_{12} + C_{11}^{2} \\ddot{C}_{12} \\dot{C}_{12} + 2 C_{11}^{2} \\dot{C}_{12}^{2} s & - A_{11} C_{12}^{2} \\dot{C}_{12} + C_{11} C_{12} \\ddot{C}_{12} \\dot{C}_{12} + 2 C_{11} C_{12} \\dot{C}_{12}^{2} s - 2 C_{11} \\dot{C}_{12}^{3}\\end{matrix}\\right]$$"
       ],
       "metadata": {},
       "output_type": "display_data",
       "png": "[encoded data removed]",
       "text": [
        "\u23a1                              2                                              \n",
        "\u23a2                   A\u2081\u2081 + C\u2081\u2081\u22c5s                                               \n",
        "\u23a2                                                                             \n",
        "\u23a2                       2                  2     2             2              \n",
        "\u23a3-A\u2081\u2081\u22c5C\u2081\u2081\u22c5C\u2081\u2082\u22c5C\u0307\u2081\u2082 + C\u2081\u2081 \u22c5C\u0308\u2081\u2082\u22c5C\u0307\u2081\u2082 + 2\u22c5C\u2081\u2081 \u22c5C\u0307\u2081\u2082 \u22c5s  - A\u2081\u2081\u22c5C\u2081\u2082 \u22c5C\u0307\u2081\u2082 + C\u2081\u2081\u22c5C\u2081\n",
        "\n",
        "            2                                \u23a4\n",
        "       C\u2081\u2082\u22c5s                                 \u23a5\n",
        "                                             \u23a5\n",
        "                            2               3\u23a5\n",
        "\u2082\u22c5C\u0308\u2081\u2082\u22c5C\u0307\u2081\u2082 + 2\u22c5C\u2081\u2081\u22c5C\u2081\u2082\u22c5C\u0307\u2081\u2082 \u22c5s - 2\u22c5C\u2081\u2081\u22c5C\u0307\u2081\u2082 \u23a6"
       ]
      },
      {
       "output_type": "stream",
       "stream": "stdout",
       "text": [
        "___\n"
       ]
      }
     ],
     "prompt_number": 23
    },
    {
     "cell_type": "code",
     "collapsed": false,
     "input": [
      "# F\u00fcr Berechnung der Inversen m\u00fcssen die Eintr\u00e4ge nichtkommutativ sein.\n",
      "PQ = nct.make_all_symbols_noncommutative(PQ, '')[0]\n",
      "\n",
      "# auch nichtkommutative zeithabh\u00e4ngige Platzhalter-Symbole ben\u00f6tigt\n",
      "tds = nct.make_all_symbols_noncommutative(pdata.time_dep_symbols, '')[0]"
     ],
     "language": "python",
     "metadata": {},
     "outputs": [],
     "prompt_number": 24
    },
    {
     "cell_type": "code",
     "collapsed": false,
     "input": [
      "# Berechnung der Inversen\n",
      "# ca. 36s\n",
      "PQinv = nct.unimod_inv(PQ, s, time_dep_symbs=tds)"
     ],
     "language": "python",
     "metadata": {},
     "outputs": [],
     "prompt_number": 25
    },
    {
     "cell_type": "code",
     "collapsed": false,
     "input": [
      "# Pr\u00fcfung: ist die berechnete Inverse wirklich die Inverse?\n",
      "\n",
      "prod = nct.nc_mul(PQinv, PQ)\n",
      "# ca 3min 45s\n",
      "prod2 = nct.right_shift_all(prod, s, func_symbols=tds)\n",
      "\n",
      "# ca. 1min\n",
      "prod3 = nct.make_all_symbols_commutative(prod2)[0].smplf\n",
      "prod3 ##:"
     ],
     "language": "python",
     "metadata": {},
     "outputs": [
      {
       "latex": [
        "prod3  := $$\\left[\\begin{matrix}1 & 0\\\\0 & 1\\end{matrix}\\right]$$"
       ],
       "metadata": {},
       "output_type": "display_data",
       "png": "[encoded data removed]",
       "text": [
        "prod3  := \u23a11  0\u23a4\n",
        "\u23a2    \u23a5\n",
        "\u23a30  1\u23a6"
       ]
      },
      {
       "output_type": "stream",
       "stream": "stdout",
       "text": [
        "___\n"
       ]
      }
     ],
     "prompt_number": 26
    },
    {
     "cell_type": "markdown",
     "metadata": {},
     "source": [
      "**Zwischenfazit**: die oben geladene Erg\u00e4nzungsmatrix $\\bs Q$ ist tats\u00e4chlich eine unimodulare Erg\u00e4nzung von $\\bs P$.\n",
      "\n",
      "---\n",
      "\n",
      "**N\u00e4chster Schritt:** Ersetzen der Platzhalter durch tats\u00e4chliche Ausdr\u00fccke und Bestimmung von $\\d \\bs \\omega$\n"
     ]
    },
    {
     "cell_type": "code",
     "collapsed": false,
     "input": [
      "ph_symbs = sp.Matrix(list(pdata.P0) + list(pdata.P1) + list(pdata.P2))\n",
      "replm_terms = sp.Matrix(list(P0) + list(P1) + list(P2))\n",
      "\n",
      "\n",
      "# Ableitungen der Platzhalter-Ersetzungen anlegen:\n",
      "ph_symbs_dot = st.time_deriv(ph_symbs, ph_symbs)\n",
      "ph_symbs_ddot = st.time_deriv(ph_symbs, ph_symbs, order=2)\n",
      "\n",
      "replm_terms_dot = st.time_deriv(replm_terms, ttheta)\n",
      "replm_terms_ddot = st.time_deriv(replm_terms, ttheta, order=2)\n",
      "\n",
      "replm_tups = zip(ph_symbs, replm_terms) + zip(ph_symbs_dot, replm_terms_dot)\n",
      "replm_tups += zip(ph_symbs_ddot, replm_terms_ddot)"
     ],
     "language": "python",
     "metadata": {},
     "outputs": [],
     "prompt_number": 27
    },
    {
     "cell_type": "code",
     "collapsed": false,
     "input": [
      "Q"
     ],
     "language": "python",
     "metadata": {},
     "outputs": [
      {
       "latex": [
        "$$\\left[\\begin{matrix}- A_{11} C_{11} C_{12} \\dot{C}_{12} + C_{11}^{2} \\ddot{C}_{12} \\dot{C}_{12} & - A_{11} C_{12}^{2} \\dot{C}_{12} + C_{11} C_{12} \\ddot{C}_{12} \\dot{C}_{12} - 2 C_{11} \\dot{C}_{12}^{3} & 2 C_{11}^{2} \\dot{C}_{12}^{2} & 2 C_{11} C_{12} \\dot{C}_{12}^{2}\\end{matrix}\\right]$$"
       ],
       "metadata": {},
       "output_type": "pyout",
       "png": "[encoded data removed]",
       "prompt_number": 28,
       "text": [
        "\u23a1                       2                     2                               \n",
        "\u23a3-A\u2081\u2081\u22c5C\u2081\u2081\u22c5C\u2081\u2082\u22c5C\u0307\u2081\u2082 + C\u2081\u2081 \u22c5C\u0308\u2081\u2082\u22c5C\u0307\u2081\u2082  - A\u2081\u2081\u22c5C\u2081\u2082 \u22c5C\u0307\u2081\u2082 + C\u2081\u2081\u22c5C\u2081\u2082\u22c5C\u0308\u2081\u2082\u22c5C\u0307\u2081\u2082 - 2\u22c5C\n",
        "\n",
        "       3       2     2                2\u23a4\n",
        "\u2081\u2081\u22c5C\u0307\u2081\u2082   2\u22c5C\u2081\u2081 \u22c5C\u0307\u2081\u2082   2\u22c5C\u2081\u2081\u22c5C\u2081\u2082\u22c5C\u0307\u2081\u2082 \u23a6"
       ]
      }
     ],
     "prompt_number": 28
    },
    {
     "cell_type": "markdown",
     "metadata": {},
     "source": [
      "Wie lautet $\\bs Q$ nach dem Einsetzen der Platzhalter?"
     ]
    },
    {
     "cell_type": "code",
     "collapsed": false,
     "input": [
      "Qs = Q.subs(replm_tups)\n",
      "QS = sp.expand(Qs/m2**4/s2**4)\n",
      "Q0 = (QS[:,:2]) ##:T\n",
      "Q1 = (QS[:,2:]) ##:T"
     ],
     "language": "python",
     "metadata": {},
     "outputs": [
      {
       "latex": [
        "Q0.T := $$\\left[\\begin{matrix}g \\dot{p}_{1} s_{2} \\sin{\\left (p_{1} \\right )} \\cos^{2}{\\left (p_{1} \\right )} + \\ddot{p}_{1} \\dot{p}_{1} s_{2}^{2} \\sin^{2}{\\left (p_{1} \\right )} + \\dot{p}_{1}^{3} s_{2}^{2} \\sin{\\left (p_{1} \\right )} \\cos{\\left (p_{1} \\right )} - \\dot{p}_{1} \\ddot{q}_{1} s_{2} \\sin^{2}{\\left (p_{1} \\right )} \\cos{\\left (p_{1} \\right )}\\\\g \\dot{p}_{1} \\sin{\\left (p_{1} \\right )} \\cos^{3}{\\left (p_{1} \\right )} + \\ddot{p}_{1} \\dot{p}_{1} s_{2} \\sin^{2}{\\left (p_{1} \\right )} \\cos{\\left (p_{1} \\right )} + 2 \\dot{p}_{1}^{3} s_{2} \\sin^{3}{\\left (p_{1} \\right )} + \\dot{p}_{1}^{3} s_{2} \\sin{\\left (p_{1} \\right )} \\cos^{2}{\\left (p_{1} \\right )} - \\dot{p}_{1} \\ddot{q}_{1} \\sin^{2}{\\left (p_{1} \\right )} \\cos^{2}{\\left (p_{1} \\right )}\\end{matrix}\\right]$$"
       ],
       "metadata": {},
       "output_type": "display_data",
       "png": "[encoded data removed]",
       "text": [
        "Q0.T := \u23a1                               2                 2    2          3   2       \n",
        "\u23a2           g\u22c5p\u0307\u2081\u22c5s\u2082\u22c5sin(p\u2081)\u22c5cos (p\u2081) + p\u0308\u2081\u22c5p\u0307\u2081\u22c5s\u2082 \u22c5sin (p\u2081) + p\u0307\u2081 \u22c5s\u2082 \u22c5sin(p\u2081\n",
        "\u23a2                                                                             \n",
        "\u23a2                 3                     2                    3       3        \n",
        "\u23a3g\u22c5p\u0307\u2081\u22c5sin(p\u2081)\u22c5cos (p\u2081) + p\u0308\u2081\u22c5p\u0307\u2081\u22c5s\u2082\u22c5sin (p\u2081)\u22c5cos(p\u2081) + 2\u22c5p\u0307\u2081 \u22c5s\u2082\u22c5sin (p\u2081) + p\n",
        "\n",
        "                          2                        \u23a4\n",
        ")\u22c5cos(p\u2081) - p\u0307\u2081\u22c5q\u0308\u2081\u22c5s\u2082\u22c5sin (p\u2081)\u22c5cos(p\u2081)            \u23a5\n",
        "                                                   \u23a5\n",
        "  3               2                  2        2    \u23a5\n",
        "\u0307\u2081 \u22c5s\u2082\u22c5sin(p\u2081)\u22c5cos (p\u2081) - p\u0307\u2081\u22c5q\u0308\u2081\u22c5sin (p\u2081)\u22c5cos (p\u2081)\u23a6"
       ]
      },
      {
       "output_type": "stream",
       "stream": "stdout",
       "text": [
        "---\n"
       ]
      },
      {
       "latex": [
        "Q1.T := $$\\left[\\begin{matrix}2 \\dot{p}_{1}^{2} s_{2}^{2} \\sin^{2}{\\left (p_{1} \\right )}\\\\2 \\dot{p}_{1}^{2} s_{2} \\sin^{2}{\\left (p_{1} \\right )} \\cos{\\left (p_{1} \\right )}\\end{matrix}\\right]$$"
       ],
       "metadata": {},
       "output_type": "display_data",
       "png": "[encoded data removed]",
       "text": [
        "Q1.T := \u23a1        2   2    2        \u23a4\n",
        "\u23a2   2\u22c5p\u0307\u2081 \u22c5s\u2082 \u22c5sin (p\u2081)    \u23a5\n",
        "\u23a2                          \u23a5\n",
        "\u23a2     2       2            \u23a5\n",
        "\u23a32\u22c5p\u0307\u2081 \u22c5s\u2082\u22c5sin (p\u2081)\u22c5cos(p\u2081)\u23a6"
       ]
      },
      {
       "output_type": "stream",
       "stream": "stdout",
       "text": [
        "---\n"
       ]
      }
     ],
     "prompt_number": 29
    },
    {
     "cell_type": "code",
     "collapsed": false,
     "input": [
      "XX = st.row_stack(ttheta, tthetad, tthetadd) ##:T"
     ],
     "language": "python",
     "metadata": {},
     "outputs": [
      {
       "latex": [
        "XX.T := $$\\left[\\begin{matrix}p_{1} & q_{1} & \\dot{p}_{1} & \\dot{q}_{1} & \\ddot{p}_{1} & \\ddot{q}_{1}\\end{matrix}\\right]$$"
       ],
       "metadata": {},
       "output_type": "display_data",
       "png": "[encoded data removed]",
       "text": [
        "XX.T := [p\u2081  q\u2081  p\u0307\u2081  q\u0307\u2081  p\u0308\u2081  q\u0308\u2081]"
       ]
      },
      {
       "output_type": "stream",
       "stream": "stdout",
       "text": [
        "---\n"
       ]
      }
     ],
     "prompt_number": 30
    },
    {
     "cell_type": "markdown",
     "metadata": {},
     "source": [
      "Dimensionsanpassung. Die Spalten von $\\mathbf Q$ entsprechen den Koeffizienten bez\u00fcglich $d\\boldsymbol \\theta$ und $d \\dot {\\boldsymbol \\theta}$. Es werden die 0-Koeffizienten bez\u00fcglich $d \\ddot {\\boldsymbol \\theta}$ erg\u00e4nzt."
     ]
    },
    {
     "cell_type": "code",
     "collapsed": false,
     "input": [
      "Q_ = st.col_stack(Qs, sp.zeros(nq, n))\n",
      "P_ = st.col_stack(P0, P1, P2)"
     ],
     "language": "python",
     "metadata": {},
     "outputs": [],
     "prompt_number": 31
    },
    {
     "cell_type": "code",
     "collapsed": false,
     "input": [
      "w1 = pc.DifferentialForm(1, XX, coeff=Q_[0, :])\n",
      "dF1 = pc.DifferentialForm(1, XX, coeff=P_[0, :])"
     ],
     "language": "python",
     "metadata": {},
     "outputs": [],
     "prompt_number": 32
    },
    {
     "cell_type": "code",
     "collapsed": false,
     "input": [
      "w1"
     ],
     "language": "python",
     "metadata": {},
     "outputs": [
      {
       "metadata": {},
       "output_type": "pyout",
       "prompt_number": 33,
       "text": [
        "(m2**4*pdot1*s2**6*(pddot1*sin(p1) + pdot1**2*cos(p1))*sin(p1) + m2**4*pdot1*s2**5*(g*cos(p1) - qddot1*sin(p1))*sin(p1)*cos(p1))dp1  +  (2*m2**4*pdot1**3*s2**5*sin(p1)**3 + m2**4*pdot1*s2**5*(pddot1*sin(p1) + pdot1**2*cos(p1))*sin(p1)*cos(p1) + m2**4*pdot1*s2**4*(g*cos(p1) - qddot1*sin(p1))*sin(p1)*cos(p1)**2)dq1  +  (2*m2**4*pdot1**2*s2**6*sin(p1)**2)dpdot1  +  (2*m2**4*pdot1**2*s2**5*sin(p1)**2*cos(p1))dqdot1"
       ]
      }
     ],
     "prompt_number": 33
    },
    {
     "cell_type": "code",
     "collapsed": false,
     "input": [
      "Xi = w1.d^w1^dF1\n",
      "\n",
      "# count ops:\n",
      "Xi.co"
     ],
     "language": "python",
     "metadata": {},
     "outputs": [
      {
       "metadata": {},
       "output_type": "pyout",
       "prompt_number": 34,
       "text": [
        "(127)dp1^dq1^dpdot1^dqdot1  +  (299)dp1^dq1^dpdot1^dpddot1  +  (301)dp1^dq1^dpdot1^dqddot1  +  (204)dp1^dq1^dqdot1^dpddot1  +  (205)dp1^dq1^dqdot1^dqddot1  +  (188)dp1^dq1^dpddot1^dqddot1  +  (125)dp1^dpdot1^dqdot1^dpddot1  +  (126)dp1^dpdot1^dqdot1^dqddot1  +  (12)dp1^dpdot1^dpddot1^dqddot1  +  (13)dp1^dqdot1^dpddot1^dqddot1  +  (121)dq1^dpdot1^dqdot1^dpddot1  +  (122)dq1^dpdot1^dqdot1^dqddot1  +  (13)dq1^dpdot1^dpddot1^dqddot1  +  (13)dq1^dqdot1^dpddot1^dqddot1"
       ]
      }
     ],
     "prompt_number": 34
    },
    {
     "cell_type": "markdown",
     "metadata": {},
     "source": [
      "**Fazit:** Die 4-Form $\\Xi := \\d\\omega_1 \\wedge \\omega_1\\wedge \\d F_1$ enth\u00e4lt viele nichtverschwindende Koeffizienten mit umfangreichen Ausdr\u00fccken. Beispiel:"
     ]
    },
    {
     "cell_type": "code",
     "collapsed": false,
     "input": [
      "Xi.coeff[-2]"
     ],
     "language": "python",
     "metadata": {},
     "outputs": [
      {
       "latex": [
        "$$4 m_{2}^{9} \\dot{p}_{1}^{3} s_{2}^{11} \\sin^{4}{\\left (p_{1} \\right )} \\cos^{3}{\\left (p_{1} \\right )}$$"
       ],
       "metadata": {},
       "output_type": "pyout",
       "png": "[encoded data removed]",
       "prompt_number": 35,
       "text": [
        "    9    3   11    4        3    \n",
        "4\u22c5m\u2082 \u22c5p\u0307\u2081 \u22c5s\u2082  \u22c5sin (p\u2081)\u22c5cos (p\u2081)"
       ]
      }
     ],
     "prompt_number": 35
    },
    {
     "cell_type": "code",
     "collapsed": false,
     "input": [
      "Xi.get_baseform_from_plain_index(-2)"
     ],
     "language": "python",
     "metadata": {},
     "outputs": [
      {
       "metadata": {},
       "output_type": "pyout",
       "prompt_number": 36,
       "text": [
        "(1)dq1^dqdot1^dpddot1^dqddot1"
       ]
      }
     ],
     "prompt_number": 36
    },
    {
     "cell_type": "code",
     "collapsed": false,
     "input": [
      "dF1.jet_extend_basis() # Ableitungen bis Ordnung 3 in der Basis zulassen\n",
      "\n",
      "Xi.ord ##:\n",
      "dF1.ord ##:\n",
      "dF1.dot().ord ##:"
     ],
     "language": "python",
     "metadata": {},
     "outputs": [
      {
       "latex": [
        "Xi.ord  := $$2$$"
       ],
       "metadata": {},
       "output_type": "display_data",
       "png": "[encoded data removed]",
       "text": [
        "Xi.ord  := 2"
       ]
      },
      {
       "output_type": "stream",
       "stream": "stdout",
       "text": [
        "___\n"
       ]
      },
      {
       "latex": [
        "dF1.ord  := $$2$$"
       ],
       "metadata": {},
       "output_type": "display_data",
       "png": "[encoded data removed]",
       "text": [
        "dF1.ord  := 2"
       ]
      },
      {
       "output_type": "stream",
       "stream": "stdout",
       "text": [
        "___\n"
       ]
      },
      {
       "latex": [
        "dF1.dot().ord  := $$3$$"
       ],
       "metadata": {},
       "output_type": "display_data",
       "png": "[encoded data removed]",
       "text": [
        "dF1.dot().ord  := 3"
       ]
      },
      {
       "output_type": "stream",
       "stream": "stdout",
       "text": [
        "___\n"
       ]
      }
     ],
     "prompt_number": 37
    },
    {
     "cell_type": "markdown",
     "metadata": {},
     "source": [
      "Wegen $\\mathrm{ord}_{\\d \\bs \\theta}(\\d F_1^{(l)}) = 2+l$ kann das Keilprodunkt $\\d \\omega_1 \\wedge \\omega_1 \\wedge \\d F_1 \\wedge \\d \\dot F_1\\wedge \\ldots$ niemals 0 werden. Das System ist also (wie oben bereits festgestellt) nicht flach."
     ]
    },
    {
     "cell_type": "code",
     "collapsed": false,
     "input": [],
     "language": "python",
     "metadata": {},
     "outputs": [],
     "prompt_number": 37
    }
   ],
   "metadata": {}
  }
 ]
}