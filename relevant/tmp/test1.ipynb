{
 "metadata": {
  "name": "",
  "signature": "sha256:21948e94423a123dc1c780edc3fb6ff27e492395913030628ec8b0af02b2d41b"
 },
 "nbformat": 3,
 "nbformat_minor": 0,
 "worksheets": [
  {
   "cells": [
    {
     "cell_type": "markdown",
     "metadata": {},
     "source": [
      "Das ist ein Test bez\u00fcglich selbst definierter Latex-Macros in Mathjax"
     ]
    },
    {
     "cell_type": "markdown",
     "metadata": {},
     "source": [
      "$$\n",
      "%<custom_config>\n",
      "\\newcommand{\\d}{\\mathrm{d}}\n",
      "\\newcommand{\\col}{\\mathrm{col}}\n",
      "\\newcommand{\\bs}{\\boldsymbol}\n",
      "\\newcommand{\\Ddt}{\\left(\\tfrac{d}{dt}\\right)}\n",
      "\\newcommand{\\ddt}{\\tfrac{d}{dt}}\n",
      "\\newcommand{\\tt}{\\boldsymbol{\\theta}}\n",
      "%</custom_config>\n",
      "$$\n",
      "\n",
      "$\\tau$\n",
      "\n",
      "$\\bs \\tau + \\bs A$\n"
     ]
    }
   ],
   "metadata": {}
  }
 ]
}