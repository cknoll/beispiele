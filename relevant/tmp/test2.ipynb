{
 "metadata": {
  "name": "",
  "signature": "sha256:94ad31114e5cc2b17ab6ee870f29e9dbf3767815d9f58ce9cd0ffcafe95af257"
 },
 "nbformat": 3,
 "nbformat_minor": 0,
 "worksheets": [
  {
   "cells": [
    {
     "cell_type": "markdown",
     "metadata": {},
     "source": [
      "Das ist ein Test bez\u00fcglich selbst definierter Latex-Macros in Mathjax"
     ]
    },
    {
     "cell_type": "markdown",
     "metadata": {},
     "source": [
      "$$\n",
      "%<custom_config>\n",
      "\\newcommand{\\d}{\\mathrm{d}}\n",
      "\\newcommand{\\col}{\\mathrm{col}}\n",
      "\\newcommand{\\bs}{\\boldsymbol}\n",
      "\\newcommand{\\Ddt}{\\left(\\tfrac{d}{dt}\\right)}\n",
      "\\newcommand{\\ddt}{\\tfrac{d}{dt}}\n",
      "\\newcommand{\\tt}{\\boldsymbol{\\theta}}\n",
      "%</custom_config>\n",
      "$$\n",
      "\n",
      "$\\tau$\n",
      "\n",
      "$\\bs \\tau + \\bs A$\n"
     ]
    },
    {
     "cell_type": "markdown",
     "metadata": {},
     "source": [
      "----\n",
      "$$\n",
      "\\newcommand{\\BS}{\\boldsymbol}\n",
      "$$\n",
      "\n",
      "$ A+ \\BS A$"
     ]
    }
   ],
   "metadata": {}
  }
 ]
}