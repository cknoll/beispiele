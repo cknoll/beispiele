{
 "metadata": {
  "name": "",
  "signature": "sha256:476c7a212b4b57652e3527b57afb37ade946f19263f9bd3c7724ba681d7483f5"
 },
 "nbformat": 3,
 "nbformat_minor": 0,
 "worksheets": [
  {
   "cells": [
    {
     "cell_type": "markdown",
     "metadata": {},
     "source": [
      "Das ist ein Test bez\u00fcglich selbst definierter Latex-Macros in Mathjax"
     ]
    },
    {
     "cell_type": "markdown",
     "metadata": {},
     "source": [
      "[//]: # (custom_config_start)\n",
      "$$\n",
      "\\newcommand{\\d}{\\mathrm{d}}\n",
      "\\newcommand{\\col}{\\mathrm{col}}\n",
      "\\newcommand{\\bs}{\\boldsymbol}\n",
      "\\newcommand{\\Ddt}{\\left(\\tfrac{d}{dt}\\right)}\n",
      "\\newcommand{\\ddt}{\\tfrac{d}{dt}}\n",
      "\\newcommand{\\tt}{\\boldsymbol{\\theta}}\n",
      "$$\n",
      "[//]: # (custom_config_end)\n",
      "\n",
      "$\\tau$\n",
      "\n",
      "$\\bs \\tau + \\bs A$\n"
     ]
    },
    {
     "cell_type": "markdown",
     "metadata": {},
     "source": [
      "----\n",
      "$$\n",
      "\\newcommand{\\BS}{\\boldsymbol}\n",
      "$$\n",
      "\n",
      "$ A+ \\BS A$"
     ]
    }
   ],
   "metadata": {}
  }
 ]
}