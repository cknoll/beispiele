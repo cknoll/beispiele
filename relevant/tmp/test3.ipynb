{
 "metadata": {
  "name": "",
  "signature": "sha256:4e90ab388c56c254b8d8fb4737fd7db2e62f1935ec1408d02deb3ebb0ac88dcb"
 },
 "nbformat": 3,
 "nbformat_minor": 0,
 "worksheets": [
  {
   "cells": [
    {
     "cell_type": "markdown",
     "metadata": {},
     "source": [
      "Das ist ein Test bez\u00fcglich selbst definierter Latex-Macros in Mathjax"
     ]
    },
    {
     "cell_type": "markdown",
     "metadata": {},
     "source": [
      "[//]: # (custom_config_start)\n",
      "$$\n",
      "\\newcommand{\\d}{\\mathrm{d}}\n",
      "\\newcommand{\\col}{\\mathrm{col}}\n",
      "\\newcommand{\\bs}{\\boldsymbol}\n",
      "\\newcommand{\\Ddt}{\\left(\\tfrac{d}{dt}\\right)}\n",
      "\\newcommand{\\ddt}{\\tfrac{d}{dt}}\n",
      "\\newcommand{\\tt}{\\boldsymbol{\\theta}}\n",
      "$$\n",
      "[//]: # (custom_config_end)\n",
      "\n",
      "$\\tau$\n",
      "\n",
      "$\\bs \\tau + \\bs A$\n"
     ]
    },
    {
     "cell_type": "markdown",
     "metadata": {},
     "source": [
      "----\n",
      "$$\n",
      "\\newcommand{\\BS}{\\boldsymbol}\n",
      "$$\n",
      "\n",
      "$ A+ \\BS A$"
     ]
    },
    {
     "cell_type": "markdown",
     "metadata": {},
     "source": [
      "\u00fcberpr\u00fcft. Dazu werden die folgenden (Zwischen-)Ergebnisse eingef\u00fchrt:\n",
      "$$\n",
      "\\underbrace{\n",
      "\\overbrace{\n",
      "\\d \\left( \\bs L\\Ddt \\bs \\eta \\right)\n",
      "}^{\\bs \\zeta}\n",
      "-\n",
      "\\overbrace{\n",
      "\\bs L \\Ddt \\d \\bs \\eta\n",
      "}^{\\bs \\rho}\n",
      "}_{=:\\bs \\varphi_1 }\n",
      "=\n",
      " \\underbrace{\n",
      " \\left(\\d \\bs L\\Ddt \\right)  \\bs \\eta\n",
      "}_{=:\\bs \\varphi_2 }.\n",
      "$$"
     ]
    },
    {
     "cell_type": "code",
     "collapsed": false,
     "input": [],
     "language": "python",
     "metadata": {},
     "outputs": []
    },
    {
     "cell_type": "code",
     "collapsed": false,
     "input": [],
     "language": "python",
     "metadata": {},
     "outputs": []
    }
   ],
   "metadata": {}
  }
 ]
}