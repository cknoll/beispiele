{
 "metadata": {
  "name": "",
  "signature": "sha256:b6334aab1fdda0e1f0500a76ff595637af8ea5430cdf0c1cdb3dcfe8681e955c"
 },
 "nbformat": 3,
 "nbformat_minor": 0,
 "worksheets": [
  {
   "cells": [
    {
     "cell_type": "markdown",
     "metadata": {},
     "source": [
      "Das ist ein Test bez\u00fcglich selbst definierter Latex-Macros in Mathjax"
     ]
    },
    {
     "cell_type": "markdown",
     "metadata": {},
     "source": [
      "[//]: # (custom_config_start)\n",
      "$$\n",
      "\\newcommand{\\d}{\\mathrm{d}}\n",
      "\\newcommand{\\col}{\\mathrm{col}}\n",
      "\\newcommand{\\bs}{\\boldsymbol}\n",
      "\\newcommand{\\Ddt}{\\left(\\tfrac{d}{dt}\\right)}\n",
      "\\newcommand{\\ddt}{\\tfrac{d}{dt}}\n",
      "\\newcommand{\\tt}{\\boldsymbol{\\theta}}\n",
      "$$\n",
      "[//]: # (custom_config_end)\n",
      "\n",
      "$\\tau$\n",
      "\n",
      "$\\bs \\tau + \\bs A$\n"
     ]
    },
    {
     "cell_type": "markdown",
     "metadata": {},
     "source": [
      "----\n",
      "$$\n",
      "\\newcommand{\\BS}{\\boldsymbol}\n",
      "$$\n",
      "\n",
      "$ A+ \\BS A$"
     ]
    },
    {
     "cell_type": "markdown",
     "metadata": {},
     "source": [
      "\u00fcberpr\u00fcft. Dazu werden die folgenden (Zwischen-)Ergebnisse eingef\u00fchrt:\n",
      "$$\n",
      "\\underbrace{ \\overbrace{ \\d \\left( \\bs L\\Ddt \\bs \\eta \\right) }^{\\bs \\zeta} - \\overbrace{ \\bs L \\Ddt \\d \\bs \\eta }^{\\bs \\rho} }_{=:\\bs \\varphi_1 }  =  \\underbrace{  \\left(\\d \\bs L\\Ddt \\right)  \\bs \\eta }_{=:\\bs \\varphi_2 }.\n",
      "$$"
     ]
    },
    {
     "cell_type": "markdown",
     "metadata": {},
     "source": [
      "---\n",
      "2:\n",
      "$ \\underbrace{ \\overbrace{ \\d \\left( \\bs L\\Ddt \\bs \\eta \\right) }^{\\bs \\zeta} - \\overbrace{ \\bs L \\Ddt \\d \\bs \\eta }^{\\bs \\rho} }_{=:\\bs \\varphi_1 }  =  \\underbrace{  \\left(\\d \\bs L\\Ddt \\right)  \\bs \\eta }_{=:\\bs \\varphi_2 }.$\n"
     ]
    },
    {
     "cell_type": "markdown",
     "metadata": {},
     "source": [
      "3:\n",
      "\n",
      "$$\n",
      "\\underbrace{ \\overbrace{ a }^{b} - \\overbrace{ c }^{ d} }_{=:x} .\n",
      "$$"
     ]
    },
    {
     "cell_type": "code",
     "collapsed": false,
     "input": [],
     "language": "python",
     "metadata": {},
     "outputs": []
    }
   ],
   "metadata": {}
  }
 ]
}