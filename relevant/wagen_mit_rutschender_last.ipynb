{
 "metadata": {
  "name": "",
  "signature": "sha256:b3753123f07cebef4fce5e2f15b9137405dae56f143f7a0e53219899cc84ba3b"
 },
 "nbformat": 3,
 "nbformat_minor": 0,
 "worksheets": [
  {
   "cells": [
    {
     "cell_type": "code",
     "collapsed": false,
     "input": [
      "import time\n",
      "print time.ctime()\n",
      "import diss_aux as da\n",
      "%load_ext displaytools\n",
      "%matplotlib inline"
     ],
     "language": "python",
     "metadata": {},
     "outputs": [
      {
       "output_type": "stream",
       "stream": "stdout",
       "text": [
        "Mon May  9 17:10:25 2016\n"
       ]
      }
     ],
     "prompt_number": 1
    },
    {
     "cell_type": "markdown",
     "metadata": {},
     "source": [
      "**Betrachtetes System**: Zwei translatorisch verschiebbare K\u00f6rper K$_1$, K$_2$, die nur \u00fcber Viskose Reibung miteinander verbunden sind. Auf $K_1$ wirkt eine Stellkraft $\\tau_1$. Das System stellt ein einfaches Modell eines Fahrzeugs mit rutschender Last dar.<br>\n",
      "\n",
      "<img src=\"files/images/wagen_rutschende_last.png\">\n",
      "\n",
      "**Betrachtete Aspekte**:\n",
      "* Herleitung der Modellgleichungen\n",
      "* Untersuchung der Steuerbarkeit\n",
      "* Bestimmung Eingangstrajektorie zur Ruhelangen\u00fcberf\u00fchrung\n",
      "  * Variante 1: Mittels-Kalman-Zerlegung und Gramscher Matrix\n",
      "  * Variante 2: Direkt, durch parametrischen Ansatzes\n",
      "\n",
      "[//]: # (custom_config_start)\n",
      "$$\n",
      "\\newcommand{\\d}{\\mathrm{d}}\n",
      "\\newcommand{\\col}{\\mathrm{col}}\n",
      "\\newcommand{\\bs}{\\boldsymbol}\n",
      "\\newcommand{\\L}{{\\bs L}}\n",
      "\\newcommand{\\x}{{\\bs x}}\n",
      "\\newcommand{\\z}{{\\bs z}}\n",
      "\\newcommand{\\tt}{\\boldsymbol{\\theta}}\n",
      "\\newcommand{\\Ddt}{\\left(\\tfrac{d}{dt}\\right)}\n",
      "\\newcommand{\\ddt}{\\tfrac{d}{dt}}\n",
      "$$\n",
      "[//]: # (custom_config_end)\n"
     ]
    },
    {
     "cell_type": "code",
     "collapsed": false,
     "input": [
      "import sympy as sp\n",
      "from sympy import sin, cos, pi, Matrix\n",
      "from sympy.interactive import printing\n",
      "import scipy.integrate as sc_integrate\n",
      "import matplotlib.pylab as pl\n",
      "\n",
      "import symbtools as st\n",
      "import symbtools.modeltools as mt\n",
      "\n",
      "\n",
      "printing.init_printing()"
     ],
     "language": "python",
     "metadata": {},
     "outputs": [],
     "prompt_number": 2
    },
    {
     "cell_type": "code",
     "collapsed": false,
     "input": [
      "np = 1\n",
      "nq = 1\n",
      "n = np + nq\n",
      "pp = st.symb_vector(\"p1:{0}\".format(np+1))\n",
      "qq = st.symb_vector(\"q1:{0}\".format(nq+1))\n",
      "\n",
      "ttheta = st.row_stack(pp, qq) ##:T\n",
      "tthetad = st.time_deriv(ttheta, ttheta) ##:T\n",
      "tthetadd = st.time_deriv(ttheta, ttheta, order=2) ##:T\n",
      "\n",
      "st.make_global(ttheta, tthetad)"
     ],
     "language": "python",
     "metadata": {},
     "outputs": [
      {
       "latex": [
        "ttheta.T := $$\\left[\\begin{matrix}p_{1} & q_{1}\\end{matrix}\\right]$$"
       ],
       "metadata": {},
       "output_type": "display_data",
       "png": "[encoded data removed]",
       "text": [
        "ttheta.T := [p\u2081  q\u2081]"
       ]
      },
      {
       "output_type": "stream",
       "stream": "stdout",
       "text": [
        "---\n"
       ]
      },
      {
       "latex": [
        "tthetad.T := $$\\left[\\begin{matrix}\\dot{p}_{1} & \\dot{q}_{1}\\end{matrix}\\right]$$"
       ],
       "metadata": {},
       "output_type": "display_data",
       "png": "[encoded data removed]",
       "text": [
        "tthetad.T := [p\u0307\u2081  q\u0307\u2081]"
       ]
      },
      {
       "output_type": "stream",
       "stream": "stdout",
       "text": [
        "---\n"
       ]
      },
      {
       "latex": [
        "tthetadd.T := $$\\left[\\begin{matrix}\\ddot{p}_{1} & \\ddot{q}_{1}\\end{matrix}\\right]$$"
       ],
       "metadata": {},
       "output_type": "display_data",
       "png": "[encoded data removed]",
       "text": [
        "tthetadd.T := [p\u0308\u2081  q\u0308\u2081]"
       ]
      },
      {
       "output_type": "stream",
       "stream": "stdout",
       "text": [
        "---\n"
       ]
      }
     ],
     "prompt_number": 3
    },
    {
     "cell_type": "code",
     "collapsed": false,
     "input": [
      "params = sp.symbols('m1, m2, d1')\n",
      "\n",
      "ttau = sp.symbols(\"tau_dissip, tau1\")\n",
      "st.make_global(params, ttau)"
     ],
     "language": "python",
     "metadata": {},
     "outputs": [],
     "prompt_number": 4
    },
    {
     "cell_type": "code",
     "collapsed": false,
     "input": [
      "# Geometrie: (Einheitsvektoren)\n",
      "ex = Matrix([1,0])\n",
      "ey = Matrix([0,1])\n",
      "\n",
      "S1 = q1\n",
      "S2 = q1 + p1\n",
      "\n",
      "S1d = st.time_deriv(S1, ttheta)\n",
      "S2d = st.time_deriv(S2, ttheta)"
     ],
     "language": "python",
     "metadata": {},
     "outputs": [],
     "prompt_number": 5
    },
    {
     "cell_type": "code",
     "collapsed": false,
     "input": [
      "# kinetische Energie\n",
      "T = ( m1*S1d*S1d  +  m2*S2d*S2d )/2\n",
      "\n",
      "# potentielle Energie\n",
      "V = 0"
     ],
     "language": "python",
     "metadata": {},
     "outputs": [],
     "prompt_number": 6
    },
    {
     "cell_type": "code",
     "collapsed": false,
     "input": [
      "mod = mt.generate_symbolic_model(T, V, ttheta, ttau)\n",
      "mod.eqns = sp.simplify( mod.eqns.subs(tau_dissip, -d1*pdot1) )\n",
      "mod.tau = sp.Matrix([tau1])"
     ],
     "language": "python",
     "metadata": {},
     "outputs": [],
     "prompt_number": 7
    },
    {
     "cell_type": "code",
     "collapsed": false,
     "input": [
      "mod.eqns ##\n",
      "mod.MM"
     ],
     "language": "python",
     "metadata": {},
     "outputs": [
      {
       "latex": [
        "$$\\left[\\begin{matrix}d_{1} \\dot{p}_{1} + m_{2} \\left(\\ddot{p}_{1} + \\ddot{q}_{1}\\right)\\\\m_{1} \\ddot{q}_{1} + m_{2} \\left(\\ddot{p}_{1} + \\ddot{q}_{1}\\right) - \\tau_{1}\\end{matrix}\\right]$$"
       ],
       "metadata": {},
       "output_type": "display_data",
       "png": "[encoded data removed]",
       "text": [
        "\u23a1  d\u2081\u22c5p\u0307\u2081 + m\u2082\u22c5(p\u0308\u2081 + q\u0308\u2081)   \u23a4\n",
        "\u23a2                            \u23a5\n",
        "\u23a3m\u2081\u22c5q\u0308\u2081 + m\u2082\u22c5(p\u0308\u2081 + q\u0308\u2081) - \u03c4\u2081\u23a6"
       ]
      },
      {
       "output_type": "stream",
       "stream": "stdout",
       "text": [
        "___\n"
       ]
      },
      {
       "latex": [
        "$$\\left[\\begin{matrix}m_{2} & m_{2}\\\\m_{2} & m_{1} + m_{2}\\end{matrix}\\right]$$"
       ],
       "metadata": {},
       "output_type": "pyout",
       "png": "[encoded data removed]",
       "prompt_number": 8,
       "text": [
        "\u23a1m\u2082    m\u2082   \u23a4\n",
        "\u23a2           \u23a5\n",
        "\u23a3m\u2082  m\u2081 + m\u2082\u23a6"
       ]
      }
     ],
     "prompt_number": 8
    },
    {
     "cell_type": "code",
     "collapsed": false,
     "input": [
      "#da.latex(mod.eqns.expand())"
     ],
     "language": "python",
     "metadata": {},
     "outputs": [],
     "prompt_number": 9
    },
    {
     "cell_type": "markdown",
     "metadata": {},
     "source": [
      "Matrizen $\\bs A$ und $\\bs b$ der linearen Zustandsdarstellung\n",
      "$$\n",
      "\\dot \\x = \\bs A \\x + \\bs b \\tau_1\n",
      "$$\n",
      "bestimmen:"
     ]
    },
    {
     "cell_type": "code",
     "collapsed": false,
     "input": [
      "# (Lineare) Zustandsgleichungen bestimmen:\n",
      "\n",
      "mod.calc_state_eq()\n",
      "A = mod.f.jacobian(mod.xx) ##:\n",
      "b = mod.g ##:"
     ],
     "language": "python",
     "metadata": {},
     "outputs": [
      {
       "latex": [
        "A := $$\\left[\\begin{matrix}0 & 0 & 1 & 0\\\\0 & 0 & 0 & 1\\\\0 & 0 & - \\frac{d_{1} \\left(m_{1} + m_{2}\\right)}{m_{1} m_{2}} & 0\\\\0 & 0 & \\frac{d_{1}}{m_{1}} & 0\\end{matrix}\\right]$$"
       ],
       "metadata": {},
       "output_type": "display_data",
       "png": "[encoded data removed]",
       "text": [
        "A := \u23a10  0        1         0\u23a4\n",
        "\u23a2                       \u23a5\n",
        "\u23a20  0        0         1\u23a5\n",
        "\u23a2                       \u23a5\n",
        "\u23a2      -d\u2081\u22c5(m\u2081 + m\u2082)    \u23a5\n",
        "\u23a20  0  \u2500\u2500\u2500\u2500\u2500\u2500\u2500\u2500\u2500\u2500\u2500\u2500\u2500\u2500  0\u23a5\n",
        "\u23a2          m\u2081\u22c5m\u2082        \u23a5\n",
        "\u23a2                       \u23a5\n",
        "\u23a2            d\u2081         \u23a5\n",
        "\u23a20  0        \u2500\u2500        0\u23a5\n",
        "\u23a3            m\u2081         \u23a6"
       ]
      },
      {
       "output_type": "stream",
       "stream": "stdout",
       "text": [
        "---\n"
       ]
      },
      {
       "latex": [
        "b := $$\\left[\\begin{matrix}0\\\\0\\\\- \\frac{1}{m_{1}}\\\\\\frac{1}{m_{1}}\\end{matrix}\\right]$$"
       ],
       "metadata": {},
       "output_type": "display_data",
       "png": "[encoded data removed]",
       "text": [
        "b := \u23a1 0 \u23a4\n",
        "\u23a2   \u23a5\n",
        "\u23a2 0 \u23a5\n",
        "\u23a2   \u23a5\n",
        "\u23a2-1 \u23a5\n",
        "\u23a2\u2500\u2500\u2500\u23a5\n",
        "\u23a2 m\u2081\u23a5\n",
        "\u23a2   \u23a5\n",
        "\u23a21  \u23a5\n",
        "\u23a2\u2500\u2500 \u23a5\n",
        "\u23a3m\u2081 \u23a6"
       ]
      },
      {
       "output_type": "stream",
       "stream": "stdout",
       "text": [
        "---\n"
       ]
      }
     ],
     "prompt_number": 10
    },
    {
     "cell_type": "markdown",
     "metadata": {},
     "source": [
      "Nullraum von $\\bs A$"
     ]
    },
    {
     "cell_type": "code",
     "collapsed": false,
     "input": [
      "kerA = st.nullspaceMatrix(A) ##:"
     ],
     "language": "python",
     "metadata": {},
     "outputs": [
      {
       "latex": [
        "kerA := $$\\left[\\begin{matrix}1 & 0\\\\0 & 1\\\\0 & 0\\\\0 & 0\\end{matrix}\\right]$$"
       ],
       "metadata": {},
       "output_type": "display_data",
       "png": "[encoded data removed]",
       "text": [
        "kerA := \u23a11  0\u23a4\n",
        "\u23a2    \u23a5\n",
        "\u23a20  1\u23a5\n",
        "\u23a2    \u23a5\n",
        "\u23a20  0\u23a5\n",
        "\u23a2    \u23a5\n",
        "\u23a30  0\u23a6"
       ]
      },
      {
       "output_type": "stream",
       "stream": "stdout",
       "text": [
        "---\n"
       ]
      }
     ],
     "prompt_number": 11
    },
    {
     "cell_type": "markdown",
     "metadata": {},
     "source": [
      "Das System ist offensichtlich nicht steuerbar, den $\\dim (\\ker(\\bs A)) > \\dim (\\mathrm {im} (\\bs b))$.\n",
      "\n",
      "---\n",
      "\n",
      "Zur Vereinfachung werden im folgenden numerische Werte f\u00fcr die Parameter eingesetzt."
     ]
    },
    {
     "cell_type": "code",
     "collapsed": false,
     "input": [
      "parameter_values = dict(m1=1, m2=1, d1=sp.S(\"1/2\"))\n",
      "An = A.subs(parameter_values) ##:\n",
      "bn = b.subs(parameter_values) ##:T"
     ],
     "language": "python",
     "metadata": {},
     "outputs": [
      {
       "latex": [
        "An := $$\\left[\\begin{matrix}0 & 0 & 1 & 0\\\\0 & 0 & 0 & 1\\\\0 & 0 & -1 & 0\\\\0 & 0 & \\frac{1}{2} & 0\\end{matrix}\\right]$$"
       ],
       "metadata": {},
       "output_type": "display_data",
       "png": "[encoded data removed]",
       "text": [
        "An := \u23a10  0   1   0\u23a4\n",
        "\u23a2            \u23a5\n",
        "\u23a20  0   0   1\u23a5\n",
        "\u23a2            \u23a5\n",
        "\u23a20  0  -1   0\u23a5\n",
        "\u23a2            \u23a5\n",
        "\u23a30  0  1/2  0\u23a6"
       ]
      },
      {
       "output_type": "stream",
       "stream": "stdout",
       "text": [
        "---\n"
       ]
      },
      {
       "latex": [
        "bn.T := $$\\left[\\begin{matrix}0 & 0 & -1 & 1\\end{matrix}\\right]$$"
       ],
       "metadata": {},
       "output_type": "display_data",
       "png": "[encoded data removed]",
       "text": [
        "bn.T := [0  0  -1  1]"
       ]
      },
      {
       "output_type": "stream",
       "stream": "stdout",
       "text": [
        "---\n"
       ]
      }
     ],
     "prompt_number": 12
    },
    {
     "cell_type": "markdown",
     "metadata": {},
     "source": [
      "Steuerbarkeitsmatrix"
     ]
    },
    {
     "cell_type": "code",
     "collapsed": false,
     "input": [
      "Qs = st.kalman_matrix(An, bn) ##:\n",
      "Qs.rank() ##:"
     ],
     "language": "python",
     "metadata": {},
     "outputs": [
      {
       "latex": [
        "Qs := $$\\left[\\begin{matrix}0 & -1 & 1 & -1\\\\0 & 1 & - \\frac{1}{2} & \\frac{1}{2}\\\\-1 & 1 & -1 & 1\\\\1 & - \\frac{1}{2} & \\frac{1}{2} & - \\frac{1}{2}\\end{matrix}\\right]$$"
       ],
       "metadata": {},
       "output_type": "display_data",
       "png": "[encoded data removed]",
       "text": [
        "Qs := \u23a10    -1    1     -1 \u23a4\n",
        "\u23a2                    \u23a5\n",
        "\u23a20    1    -1/2  1/2 \u23a5\n",
        "\u23a2                    \u23a5\n",
        "\u23a2-1   1     -1    1  \u23a5\n",
        "\u23a2                    \u23a5\n",
        "\u23a31   -1/2  1/2   -1/2\u23a6"
       ]
      },
      {
       "output_type": "stream",
       "stream": "stdout",
       "text": [
        "---\n"
       ]
      },
      {
       "latex": [
        "Qs.rank()  := $$3$$"
       ],
       "metadata": {},
       "output_type": "display_data",
       "png": "[encoded data removed]",
       "text": [
        "Qs.rank()  := 3"
       ]
      },
      {
       "output_type": "stream",
       "stream": "stdout",
       "text": [
        "___\n"
       ]
      }
     ],
     "prompt_number": 13
    },
    {
     "cell_type": "markdown",
     "metadata": {},
     "source": [
      "Der nichtsteuerbare Teilraum hat die Dimension 1. Frage: kann man alle Ruhelagen ineinander \u00fcberf\u00fchren?\n",
      "\n",
      "Daf\u00fcr muss $ \\ker \\bs A \\subseteq \\mathrm {im} \\bs Q_s $ gelten. Das kann mittels Rangbestimmung \u00fcberpr\u00fcft werden."
     ]
    },
    {
     "cell_type": "code",
     "collapsed": false,
     "input": [
      "Q_test1 = st.col_stack(Qs, kerA[:, 0])\n",
      "Q_test1.rank() ##:\n",
      "\n",
      "Q_test2 = st.col_stack(Qs, kerA[:, 1])\n",
      "Q_test2.rank() ##:"
     ],
     "language": "python",
     "metadata": {},
     "outputs": [
      {
       "latex": [
        "Q_test1.rank()  := $$4$$"
       ],
       "metadata": {},
       "output_type": "display_data",
       "png": "[encoded data removed]",
       "text": [
        "Q_test1.rank()  := 4"
       ]
      },
      {
       "output_type": "stream",
       "stream": "stdout",
       "text": [
        "___\n"
       ]
      },
      {
       "latex": [
        "Q_test2.rank()  := $$3$$"
       ],
       "metadata": {},
       "output_type": "display_data",
       "png": "[encoded data removed]",
       "text": [
        "Q_test2.rank()  := 3"
       ]
      },
      {
       "output_type": "stream",
       "stream": "stdout",
       "text": [
        "___\n"
       ]
      }
     ],
     "prompt_number": 14
    },
    {
     "cell_type": "markdown",
     "metadata": {},
     "source": [
      "Ergebnis: Die erste Spalte erh\u00f6ht den Rang von $\\bs Q_s$. Die Bedingung $ \\ker \\bs A \\subseteq \\mathrm {im} \\bs Q_s $ ist also nicht erf\u00fcllt.\n",
      "Die zweite Spalte, also $(0 ~ 1 ~ 0 ~ 0)^T$ erh\u00f6ht den Rang $\\bs Q_s$ nicht. Sie bildet eine Basis in dem eindimensionalen Raum $\\mathcal X_\\mathrm{RL} \\cap \\mathrm{im} \\bs Q_s$, in dem alle vom Ursprung aus erreichbaren Ruhelagen enthalten sind.\n",
      "Zwischen diesen Ruhelagen kann eine \u00dcberf\u00fchrung stattfinden."
     ]
    },
    {
     "cell_type": "markdown",
     "metadata": {},
     "source": [
      "### Zerlegung in steuerbares und nicht Steuerbares Teilsystem\n",
      "\n",
      "Bestimmung der Kalman-Zerlegung. Transformationsmatrix: $\\bs L := \\Big( \\mathrm{im}( \\bs Q_s), \\mathrm{ker}(\\bs  Q_s^T) \\Big)$."
     ]
    },
    {
     "cell_type": "code",
     "collapsed": false,
     "input": [
      "kerQsT = st.nullspaceMatrix(Qs.T) \n",
      "L = st.col_stack(Qs[:, :3], kerQsT) ##:"
     ],
     "language": "python",
     "metadata": {},
     "outputs": [
      {
       "latex": [
        "L := $$\\left[\\begin{matrix}0 & -1 & 1 & \\frac{1}{2}\\\\0 & 1 & - \\frac{1}{2} & 0\\\\-1 & 1 & -1 & 1\\\\1 & - \\frac{1}{2} & \\frac{1}{2} & 1\\end{matrix}\\right]$$"
       ],
       "metadata": {},
       "output_type": "display_data",
       "png": "[encoded data removed]",
       "text": [
        "L := \u23a10    -1    1    1/2\u23a4\n",
        "\u23a2                   \u23a5\n",
        "\u23a20    1    -1/2   0 \u23a5\n",
        "\u23a2                   \u23a5\n",
        "\u23a2-1   1     -1    1 \u23a5\n",
        "\u23a2                   \u23a5\n",
        "\u23a31   -1/2  1/2    1 \u23a6"
       ]
      },
      {
       "output_type": "stream",
       "stream": "stdout",
       "text": [
        "---\n"
       ]
      }
     ],
     "prompt_number": 16
    },
    {
     "cell_type": "markdown",
     "metadata": {},
     "source": [
      "Neuer Zustand $\\bs z := \\bs L^{-1} \\x \\quad \\Rightarrow \\x = \\L \\z$\n",
      "\n",
      "Neue Systemgleichungen:\n",
      "$$\n",
      "\\dot \\z = \\bs L \\dot \\x = \\bs L^{-1} \\bs A \\L \\z + \\L^{-1} \\bs b \\tau_1 = \\tilde {\\bs A} \\z + \\tilde {\\bs b} \\tau_1\n",
      "$$"
     ]
    },
    {
     "cell_type": "code",
     "collapsed": false,
     "input": [
      "A_tilde = L.inv()*An*L ##:\n",
      "b_tilde = L.inv()*bn ##:T"
     ],
     "language": "python",
     "metadata": {},
     "outputs": [
      {
       "latex": [
        "A_tilde := $$\\left[\\begin{matrix}0 & 0 & 0 & 0\\\\1 & 0 & 0 & 3\\\\0 & 1 & -1 & 4\\\\0 & 0 & 0 & 0\\end{matrix}\\right]$$"
       ],
       "metadata": {},
       "output_type": "display_data",
       "png": "[encoded data removed]",
       "text": [
        "A_tilde := \u23a10  0  0   0\u23a4\n",
        "\u23a2           \u23a5\n",
        "\u23a21  0  0   3\u23a5\n",
        "\u23a2           \u23a5\n",
        "\u23a20  1  -1  4\u23a5\n",
        "\u23a2           \u23a5\n",
        "\u23a30  0  0   0\u23a6"
       ]
      },
      {
       "output_type": "stream",
       "stream": "stdout",
       "text": [
        "---\n"
       ]
      },
      {
       "latex": [
        "b_tilde.T := $$\\left[\\begin{matrix}1 & 0 & 0 & 0\\end{matrix}\\right]$$"
       ],
       "metadata": {},
       "output_type": "display_data",
       "png": "[encoded data removed]",
       "text": [
        "b_tilde.T := [1  0  0  0]"
       ]
      },
      {
       "output_type": "stream",
       "stream": "stdout",
       "text": [
        "---\n"
       ]
      }
     ],
     "prompt_number": 17
    },
    {
     "cell_type": "markdown",
     "metadata": {},
     "source": [
      "Es gilt also \n",
      "$$\n",
      "\\begin{align}\n",
      "\\dot \\z_1 &= \\left(\\begin{matrix}\n",
      "0 & 0 & 0\\\\\n",
      "1 & 0 & 0\\\\\n",
      "0 & 1 & -1\n",
      "\\end{matrix}\\right) \\z_1 +\n",
      "\\left(\\begin{matrix}\n",
      "0\\\\\n",
      "3\\\\\n",
      "4\n",
      "\\end{matrix}\\right) \\z_2 + \n",
      "\\left(\\begin{matrix}\n",
      "1\\\\\n",
      "0\\\\\n",
      "0\n",
      "\\end{matrix}\\right) \\tau_1 \\quad \\text{und} \\\\\n",
      "\\dot \\z_2 & = 0,\n",
      "\\end{align}\n",
      "$$\n",
      "wobei $\\z_1$ und $\\z_2$ die Koordinaten des vollst\u00e4ndig steuerbaren bzw. nicht steuerbaren Teilsystems bilden:\n",
      "$\\z = \n",
      "\\left(\\begin{smallmatrix}\n",
      " \\z_1 \\\\\n",
      "\\z_2\n",
      "\\end{smallmatrix} \\right).\n",
      "$\n",
      "\n",
      "Offensichtlich ist jeder Anfangswert f\u00fcr $\\z_2$ zugleich eine Ruhelage des nichtsteuerbaren Teilsystems.\n",
      "Der (eindimensionale) nicht steuerbare Teilraum ist durch $\\ker \\bs Q_s^T$ gegeben. Der folgende Vektor bildet eine Basis:"
     ]
    },
    {
     "cell_type": "code",
     "collapsed": false,
     "input": [
      "kerQsT"
     ],
     "language": "python",
     "metadata": {},
     "outputs": [
      {
       "latex": [
        "$$\\left[\\begin{matrix}\\frac{1}{2}\\\\0\\\\1\\\\1\\end{matrix}\\right]$$"
       ],
       "metadata": {},
       "output_type": "pyout",
       "png": "[encoded data removed]",
       "prompt_number": 18,
       "text": [
        "\u23a11/2\u23a4\n",
        "\u23a2   \u23a5\n",
        "\u23a2 0 \u23a5\n",
        "\u23a2   \u23a5\n",
        "\u23a2 1 \u23a5\n",
        "\u23a2   \u23a5\n",
        "\u23a3 1 \u23a6"
       ]
      }
     ],
     "prompt_number": 18
    },
    {
     "cell_type": "markdown",
     "metadata": {},
     "source": [
      "Um zu bestimmen, welcher Anteil an einer Ruhelage von durch den Eingang nicht beeinflussbar ist, kann man diesen Vektor in den Unterraum $\\mathcal X_\\mathrm{RL} = \\ker \\bs A$ projizieren:"
     ]
    },
    {
     "cell_type": "code",
     "collapsed": false,
     "input": [
      "kerA.T*kerQsT"
     ],
     "language": "python",
     "metadata": {},
     "outputs": [
      {
       "latex": [
        "$$\\left[\\begin{matrix}\\frac{1}{2}\\\\0\\end{matrix}\\right]$$"
       ],
       "metadata": {},
       "output_type": "pyout",
       "png": "[encoded data removed]",
       "prompt_number": 19,
       "text": [
        "\u23a11/2\u23a4\n",
        "\u23a2   \u23a5\n",
        "\u23a3 0 \u23a6"
       ]
      }
     ],
     "prompt_number": 19
    },
    {
     "cell_type": "markdown",
     "metadata": {},
     "source": [
      "Nur die erste Komponente ist ungleich null. Das hei\u00dft, die erste Komponente von $\\x$ (also $p_1$) in der Ruhelage kann nicht beeinflusst werden. Das ist konsistent mit der Beobachtung, dass die erste Spalte von $\\ker \\bs A$, also $(1 ~ 0 ~ 0 ~0)^T$, nicht in $\\mathrm{im}(\\bs Q_s)$ liegt.\n",
      "Bei jeder \u00dcberf\u00fchrung zwischen Ruhelagen ist also $p_1$ am Anfang und am Ende der Bewegung gleich."
     ]
    },
    {
     "cell_type": "markdown",
     "metadata": {},
     "source": [
      "### Trajektorienberechnung f\u00fcr das steuerbare Teilsystem"
     ]
    },
    {
     "cell_type": "code",
     "collapsed": false,
     "input": [
      "A_tilde1 =  A_tilde[:3, :3] ##:\n",
      "b_tilde1 =  b_tilde[:3, :] ##:T"
     ],
     "language": "python",
     "metadata": {},
     "outputs": [
      {
       "latex": [
        "A_tilde1 := $$\\left[\\begin{matrix}0 & 0 & 0\\\\1 & 0 & 0\\\\0 & 1 & -1\\end{matrix}\\right]$$"
       ],
       "metadata": {},
       "output_type": "display_data",
       "png": "[encoded data removed]",
       "text": [
        "A_tilde1 := \u23a10  0  0 \u23a4\n",
        "\u23a2        \u23a5\n",
        "\u23a21  0  0 \u23a5\n",
        "\u23a2        \u23a5\n",
        "\u23a30  1  -1\u23a6"
       ]
      },
      {
       "output_type": "stream",
       "stream": "stdout",
       "text": [
        "---\n"
       ]
      },
      {
       "latex": [
        "b_tilde1.T := $$\\left[\\begin{matrix}1 & 0 & 0\\end{matrix}\\right]$$"
       ],
       "metadata": {},
       "output_type": "display_data",
       "png": "[encoded data removed]",
       "text": [
        "b_tilde1.T := [1  0  0]"
       ]
      },
      {
       "output_type": "stream",
       "stream": "stdout",
       "text": [
        "---\n"
       ]
      }
     ],
     "prompt_number": 20
    },
    {
     "cell_type": "code",
     "collapsed": false,
     "input": [
      "t, t_tilde, T=  sp.symbols(r't, \\tilde{t}, T')"
     ],
     "language": "python",
     "metadata": {},
     "outputs": [],
     "prompt_number": 29
    },
    {
     "cell_type": "code",
     "collapsed": false,
     "input": [
      "#A_exp = sp.simplify(sp.exp(A_tilde1*(T_trans-t)))\n",
      "A_exp = sp.simplify(sp.exp(A_tilde1*(T-t)))\n",
      "\n",
      "integrand = sp.simplify(A_exp*b_tilde1*b_tilde1.T*A_exp.T)"
     ],
     "language": "python",
     "metadata": {},
     "outputs": [],
     "prompt_number": 70
    },
    {
     "cell_type": "code",
     "collapsed": false,
     "input": [
      "integrand"
     ],
     "language": "python",
     "metadata": {},
     "outputs": [
      {
       "latex": [
        "$$\\left[\\begin{matrix}1 & T - t & T - t + e^{- T + t} - 1\\\\T - t & \\left(T - t\\right)^{2} & \\left(T - t\\right) \\left(T - t + e^{- T + t} - 1\\right)\\\\T - t + e^{- T + t} - 1 & \\left(T - t\\right) \\left(T - t + e^{- T + t} - 1\\right) & \\left(T - t + e^{- T + t} - 1\\right)^{2}\\end{matrix}\\right]$$"
       ],
       "metadata": {},
       "output_type": "pyout",
       "png": "[encoded data removed]",
       "prompt_number": 71,
       "text": [
        "\u23a1                                                                  -T + t     \n",
        "\u23a2         1                       T - t                   T - t + \u212f       - 1 \n",
        "\u23a2                                                                             \n",
        "\u23a2                                      2                     \u239b         -T + t \n",
        "\u23a2       T - t                   (T - t)              (T - t)\u22c5\u239dT - t + \u212f       \n",
        "\u23a2                                                                             \n",
        "\u23a2                                                                            2\n",
        "\u23a2         -T + t              \u239b         -T + t    \u239e     \u239b         -T + t    \u239e \n",
        "\u23a3T - t + \u212f       - 1  (T - t)\u22c5\u239dT - t + \u212f       - 1\u23a0     \u239dT - t + \u212f       - 1\u23a0 \n",
        "\n",
        "    \u23a4\n",
        "    \u23a5\n",
        "    \u23a5\n",
        "   \u239e\u23a5\n",
        "- 1\u23a0\u23a5\n",
        "    \u23a5\n",
        "    \u23a5\n",
        "    \u23a5\n",
        "    \u23a6"
       ]
      }
     ],
     "prompt_number": 71
    },
    {
     "cell_type": "code",
     "collapsed": false,
     "input": [
      "def integration_func(expr):\n",
      "    \"Elementweise Integration bezu\u00fcglich t\"\n",
      "    return sp.integrate(expr, t)\n",
      "\n",
      "Wt = integrand.applyfunc(integration_func)"
     ],
     "language": "python",
     "metadata": {},
     "outputs": [],
     "prompt_number": 74
    },
    {
     "cell_type": "code",
     "collapsed": false,
     "input": [
      "WT = Wt.subs(t, T)- Wt.subs(t, 0) ##:"
     ],
     "language": "python",
     "metadata": {},
     "outputs": [
      {
       "latex": [
        "WT := $$\\left[\\begin{matrix}T & \\frac{T^{2}}{2} & - \\frac{T^{2}}{2} + T \\left(T - 1\\right) + 1 - e^{- T}\\\\\\frac{T^{2}}{2} & \\frac{T^{3}}{3} & \\frac{T^{3}}{3} + T^{2} \\left(- T + \\frac{1}{2}\\right) + T \\left(T^{2} - T\\right) - \\left(T + 1\\right) e^{- T} + 1\\\\- \\frac{T^{2}}{2} + T \\left(T - 1\\right) + 1 - e^{- T} & \\frac{T^{3}}{3} + T^{2} \\left(- T + \\frac{1}{2}\\right) + T \\left(T^{2} - T\\right) - \\left(T + 1\\right) e^{- T} + 1 & \\frac{T^{3}}{3} + T^{2} \\left(- T + 1\\right) + T \\left(T^{2} - 2 T + 1\\right) - 2 T e^{- T} + \\frac{1}{2} - \\frac{1}{2} e^{- 2 T}\\end{matrix}\\right]$$"
       ],
       "metadata": {},
       "output_type": "display_data",
       "png": "[encoded data removed]",
       "text": [
        "WT := \u23a1                                                    2                        \n",
        "\u23a2                                                   T                         \n",
        "\u23a2            T                                      \u2500\u2500                        \n",
        "\u23a2                                                   2                         \n",
        "\u23a2                                                                             \n",
        "\u23a2             2                                      3                        \n",
        "\u23a2            T                                      T                         \n",
        "\u23a2            \u2500\u2500                                     \u2500\u2500                        \n",
        "\u23a2            2                                      3                         \n",
        "\u23a2                                                                             \n",
        "\u23a2   2                         3                                               \n",
        "\u23a2  T                     -T  T     2                \u239b 2    \u239e            -T    \n",
        "\u23a2- \u2500\u2500 + T\u22c5(T - 1) + 1 - \u212f    \u2500\u2500 + T \u22c5(-T + 1/2) + T\u22c5\u239dT  - T\u23a0 - (T + 1)\u22c5\u212f   + 1\n",
        "\u23a3  2                         3                                                \n",
        "\n",
        "                    2                                      \u23a4\n",
        "                   T                     -T                \u23a5\n",
        "                 - \u2500\u2500 + T\u22c5(T - 1) + 1 - \u212f                  \u23a5\n",
        "                   2                                       \u23a5\n",
        "                                                           \u23a5\n",
        "       3                                                   \u23a5\n",
        "      T     2                \u239b 2    \u239e            -T        \u23a5\n",
        "      \u2500\u2500 + T \u22c5(-T + 1/2) + T\u22c5\u239dT  - T\u23a0 - (T + 1)\u22c5\u212f   + 1    \u23a5\n",
        "      3                                                    \u23a5\n",
        "                                                           \u23a5\n",
        "   3                                                   -2\u22c5T\u23a5\n",
        "  T     2              \u239b 2          \u239e        -T   1   \u212f    \u23a5\n",
        "  \u2500\u2500 + T \u22c5(-T + 1) + T\u22c5\u239dT  - 2\u22c5T + 1\u23a0 - 2\u22c5T\u22c5\u212f   + \u2500 - \u2500\u2500\u2500\u2500\u2500\u23a5\n",
        "  3                                               2     2  \u23a6"
       ]
      },
      {
       "output_type": "stream",
       "stream": "stdout",
       "text": [
        "---\n"
       ]
      }
     ],
     "prompt_number": 76
    },
    {
     "cell_type": "code",
     "collapsed": false,
     "input": [
      "WT_inv = WT.inv()\n",
      "WT_inv.co"
     ],
     "language": "python",
     "metadata": {},
     "outputs": [
      {
       "latex": [
        "$$\\left[\\begin{matrix}133 & 121 & 87\\\\122 & 77 & 76\\\\86 & 76 & 42\\end{matrix}\\right]$$"
       ],
       "metadata": {},
       "output_type": "pyout",
       "png": "[encoded data removed]",
       "prompt_number": 77,
       "text": [
        "\u23a1133  121  87\u23a4\n",
        "\u23a2            \u23a5\n",
        "\u23a2122  77   76\u23a5\n",
        "\u23a2            \u23a5\n",
        "\u23a386   76   42\u23a6"
       ]
      }
     ],
     "prompt_number": 77
    },
    {
     "cell_type": "markdown",
     "metadata": {},
     "source": [
      "Anfangs und Endzustand des steuerbaren Teilsystems aus urspr\u00fcnglichen Koordinaten berechnen"
     ]
    },
    {
     "cell_type": "code",
     "collapsed": false,
     "input": [
      "x_start = sp.Matrix([0, 0, 0, 0])\n",
      "x_end = sp.Matrix([0, 0.5, 0, 0])\n",
      "\n",
      "\n",
      "z_start = L.inv()*x_start\n",
      "z_end = L.inv()*x_end"
     ],
     "language": "python",
     "metadata": {},
     "outputs": [],
     "prompt_number": 78
    },
    {
     "cell_type": "code",
     "collapsed": false,
     "input": [
      "A_exp2 = A_exp.subs(t_tilde, 0)"
     ],
     "language": "python",
     "metadata": {},
     "outputs": [],
     "prompt_number": 79
    },
    {
     "cell_type": "code",
     "collapsed": false,
     "input": [
      "A_exp"
     ],
     "language": "python",
     "metadata": {},
     "outputs": [
      {
       "latex": [
        "$$\\left[\\begin{matrix}1 & 0 & 0\\\\T - t & 1 & 0\\\\T - t + e^{- T + t} - 1 & - e^{- T + t} + 1 & e^{- T + t}\\end{matrix}\\right]$$"
       ],
       "metadata": {},
       "output_type": "pyout",
       "png": "[encoded data removed]",
       "prompt_number": 80,
       "text": [
        "\u23a1         1                 0           0   \u23a4\n",
        "\u23a2                                           \u23a5\n",
        "\u23a2       T - t               1           0   \u23a5\n",
        "\u23a2                                           \u23a5\n",
        "\u23a2         -T + t         -T + t       -T + t\u23a5\n",
        "\u23a3T - t + \u212f       - 1  - \u212f       + 1  \u212f      \u23a6"
       ]
      }
     ],
     "prompt_number": 80
    },
    {
     "cell_type": "code",
     "collapsed": false,
     "input": [
      "tau1_expr = sp.simplify(b_tilde1.T*A_exp2.T*WT_inv*(z_end[:-1, :] - A_exp2.subs(t, 0)*z_start[:-1, :]))[0] ##:\n",
      "\n",
      "#tau1_expr = sp.simplify(Bn.T*A_exp.T*WT_inv*(x_end - A_exp.subs(t, 0)*x_start))[0] ##:"
     ],
     "language": "python",
     "metadata": {},
     "outputs": [
      {
       "latex": [
        "tau1_expr := $$\\frac{6.0 T e^{T} + 12.0 T e^{t} - 6.0 T - 12.0 t e^{T} + 12.0 t - 12.0 e^{T} + 12.0}{T \\left(1.0 T^{2} e^{T} - 1.0 T^{2} - 6.0 T e^{T} - 6.0 T + 12.0 e^{T} - 12.0\\right)}$$"
       ],
       "metadata": {},
       "output_type": "display_data",
       "png": "[encoded data removed]",
       "text": [
        "tau1_expr :=        T           t                               T                        T \n",
        "6.0\u22c5T\u22c5\u212f  + 12.0\u22c5T\u22c5\u212f  - -6.0\u22c5(-1)\u22c5T - -12.0\u22c5(-1)\u22c5t\u22c5\u212f  + 12.0\u22c5t - -12.0\u22c5(-1)\u22c5\u212f  \n",
        "\u2500\u2500\u2500\u2500\u2500\u2500\u2500\u2500\u2500\u2500\u2500\u2500\u2500\u2500\u2500\u2500\u2500\u2500\u2500\u2500\u2500\u2500\u2500\u2500\u2500\u2500\u2500\u2500\u2500\u2500\u2500\u2500\u2500\u2500\u2500\u2500\u2500\u2500\u2500\u2500\u2500\u2500\u2500\u2500\u2500\u2500\u2500\u2500\u2500\u2500\u2500\u2500\u2500\u2500\u2500\u2500\u2500\u2500\u2500\u2500\u2500\u2500\u2500\u2500\u2500\u2500\u2500\u2500\u2500\u2500\u2500\u2500\u2500\u2500\u2500\u2500\u2500\u2500\n",
        "       \u239b     2  T           2                T                       T       \u239e\n",
        "     T\u22c5\u239d1.0\u22c5T \u22c5\u212f  - - -1.0\u22c5T  - -6.0\u22c5(-1)\u22c5T\u22c5\u212f  - -6.0\u22c5(-1)\u22c5T + 12.0\u22c5\u212f  - 12.0\u23a0\n",
        "\n",
        "      \n",
        "+ 12.0\n",
        "\u2500\u2500\u2500\u2500\u2500\u2500\n",
        "      \n",
        "      "
       ]
      },
      {
       "output_type": "stream",
       "stream": "stdout",
       "text": [
        "---\n"
       ]
      }
     ],
     "prompt_number": 81
    },
    {
     "cell_type": "code",
     "collapsed": false,
     "input": [
      "Tnum = 3\n",
      "tau1_expr_num  = st.create_piecewise(t, (0, Tnum, ), (0, tau1_expr.subs(T, Tnum).evalf().expand(), 0))  ##:"
     ],
     "language": "python",
     "metadata": {},
     "outputs": [
      {
       "latex": [
        "tau1_expr_num := $$\\begin{cases} 0 & \\text{for}\\: t < 0 \\\\- 3.59145437249403 t + 0.564530259790173 e^{t} + 1.79572718624701 & \\text{for}\\: t \\leq 3 \\\\0 & \\text{for}\\: t < \\infty \\end{cases}$$"
       ],
       "metadata": {},
       "output_type": "display_data",
       "png": "[encoded data removed]",
       "text": [
        "tau1_expr_num := \u23a7                                 0                                   for t < \n",
        "\u23aa                                                                             \n",
        "\u23aa                                               t                             \n",
        "\u23a8--3.59145437249403\u22c5(-1)\u22c5t + 0.564530259790173\u22c5\u212f  + 1.79572718624701  for t \u2264 \n",
        "\u23aa                                                                             \n",
        "\u23aa                                 0                                   for t < \n",
        "\u23a9                                                                             \n",
        "\n",
        "0\n",
        " \n",
        " \n",
        "3\n",
        " \n",
        "\u221e\n",
        " "
       ]
      },
      {
       "output_type": "stream",
       "stream": "stdout",
       "text": [
        "---\n"
       ]
      }
     ],
     "prompt_number": 82
    },
    {
     "cell_type": "code",
     "collapsed": false,
     "input": [
      "tau_func_intern = st.expr_to_func(t, tau1_expr_num)\n",
      "\n",
      "def tau_func(xx, t):\n",
      "    # reine Steuerung, d.h. erstes Argument (Zustand xx) ignorieren\n",
      "    return tau_func_intern(t)\n",
      "\n",
      "sm = st.SimulationModel(mod.f, mod.g, mod.xx, parameter_values)\n",
      "rhs = sm.create_simfunction(controller_function=tau_func)"
     ],
     "language": "python",
     "metadata": {},
     "outputs": [],
     "prompt_number": 83
    },
    {
     "cell_type": "code",
     "collapsed": false,
     "input": [
      "xx0 = st.np.r_[0, 0, 0, 0]\n",
      "tt = st.np.arange(-1, 8, 1e-3)\n",
      "\n",
      "# Simulation durchf\u00fchren\n",
      "res = sc_integrate.odeint(rhs, xx0, tt)\n",
      "\n",
      "X1, X2, X3, X4 = res.T"
     ],
     "language": "python",
     "metadata": {},
     "outputs": [],
     "prompt_number": 94
    },
    {
     "cell_type": "markdown",
     "metadata": {},
     "source": [
      "Pr\u00fcfen, dass der Eingangsverlauf f\u00fcr $q_1$ das gew\u00fcnschte Ergebnis liefert und dass $p_1$ sich nicht \u00e4ndert."
     ]
    },
    {
     "cell_type": "code",
     "collapsed": false,
     "input": [
      "pl.plot(tt, X1)\n",
      "pl.plot(tt, X2)"
     ],
     "language": "python",
     "metadata": {},
     "outputs": [
      {
       "metadata": {},
       "output_type": "pyout",
       "prompt_number": 95,
       "text": [
        "[<matplotlib.lines.Line2D at 0xc5f6b8c>]"
       ]
      },
      {
       "metadata": {},
       "output_type": "display_data",
       "png": "[encoded data removed]",
       "text": [
        "<matplotlib.figure.Figure at 0xc5f66ec>"
       ]
      }
     ],
     "prompt_number": 95
    },
    {
     "cell_type": "markdown",
     "metadata": {},
     "source": [
      "Pr\u00fcfen, dass tats\u00e4chlich Ruhelagen ineinander \u00fcberf\u00fchrt werden. Verl\u00e4ufe der Geschwindigkeiten:"
     ]
    },
    {
     "cell_type": "code",
     "collapsed": false,
     "input": [
      "pl.plot(tt, X3)\n",
      "pl.plot(tt, X4)"
     ],
     "language": "python",
     "metadata": {},
     "outputs": [
      {
       "metadata": {},
       "output_type": "pyout",
       "prompt_number": 86,
       "text": [
        "[<matplotlib.lines.Line2D at 0xc45906c>]"
       ]
      },
      {
       "metadata": {},
       "output_type": "display_data",
       "png": "[encoded data removed]",
       "text": [
        "<matplotlib.figure.Figure at 0xc45918c>"
       ]
      }
     ],
     "prompt_number": 86
    },
    {
     "cell_type": "code",
     "collapsed": false,
     "input": [
      "# Daten speichern:\n",
      "res_tt = st.np.c_[tt, res]\n",
      "\n",
      "st.np.save('data/wagen_rutschende_last/transition1.npy', res_tt)"
     ],
     "language": "python",
     "metadata": {},
     "outputs": [],
     "prompt_number": 103
    },
    {
     "cell_type": "code",
     "collapsed": false,
     "input": [],
     "language": "python",
     "metadata": {},
     "outputs": []
    }
   ],
   "metadata": {}
  }
 ]
}