{
 "metadata": {
  "name": "",
  "signature": "sha256:3b9e6c46d9612b9cb5794097a88befe6048239e35ed009d4c77c3816424fbad1"
 },
 "nbformat": 3,
 "nbformat_minor": 0,
 "worksheets": [
  {
   "cells": [
    {
     "cell_type": "code",
     "collapsed": false,
     "input": [
      "import time\n",
      "print time.ctime()\n",
      "\n",
      "from diss_aux import latex\n",
      "%load_ext displaytools"
     ],
     "language": "python",
     "metadata": {},
     "outputs": [
      {
       "output_type": "stream",
       "stream": "stdout",
       "text": [
        "Sat Feb 27 12:20:40 2016\n"
       ]
      }
     ],
     "prompt_number": 1
    },
    {
     "cell_type": "markdown",
     "metadata": {},
     "source": [
      "**Betrachtetes System**: aktuiertes Pendel, dessen Aufh\u00e4ngepunkt an einem horizontal verschieblichen Wagen h\u00e4ngt, der elastisch mit einem aktuierten Wagen verbunden ist.\n",
      "\n",
      "<img src=\"files/images/pendel_wagen_feder_wagen.png\">\n",
      "\n",
      "**Betrachtete Frage(n)**:\n",
      "Ist das System statisch Eingangs-Zustands-Linearisierbar. Wenn ja, wie sieht ein entsprechender\n",
      "linearisierender Ausgang aus?\n",
      "\n",
      "Wie ist die Situation, wenn ein \"intuitiver\" flacher Ausgang (Absolutkoordinaten des Pendelschwerpunkts) untersucht wird?\n",
      "\n",
      "\n",
      "$$\n",
      "%<custom_config>\n",
      "\\newcommand{\\col}{\\mathrm{col}}\n",
      "\\newcommand{\\bs}{\\boldsymbol}\n",
      "\\newcommand{\\nx}{n_{\\boldsymbol x}}\n",
      "\\newcommand{\\Ddt}{\\left(\\tfrac{d}{dt}\\right)}\n",
      "%</custom_config>\n",
      "$$\n",
      "\n"
     ]
    },
    {
     "cell_type": "code",
     "collapsed": false,
     "input": [
      "import sympy as sp\n",
      "from sympy import sin, cos, pi\n",
      "from sympy.interactive import printing\n",
      "import symbtools as st\n",
      "import symbtools.modeltools as mt\n",
      "printing.init_printing(1)"
     ],
     "language": "python",
     "metadata": {},
     "outputs": [],
     "prompt_number": 2
    },
    {
     "cell_type": "code",
     "collapsed": false,
     "input": [
      "t = sp.Symbol('t')\n",
      "np = 1\n",
      "nq = 2\n",
      "n = np + nq\n",
      "pp = st.symb_vector(\"p1:{0}\".format(np+1))\n",
      "qq = st.symb_vector(\"q1:{0}\".format(nq+1))\n",
      "\n",
      "aa = st.symb_vector(\"a1:{0}\".format(nq+1))\n",
      "\n",
      "ttheta = st.row_stack(pp, qq) ##:T\n",
      "tthetad = st.time_deriv(ttheta, ttheta) ##:T\n",
      "tthetadd = st.time_deriv(ttheta, ttheta, order=2) ##:T\n",
      "st.make_global(ttheta, tthetad)"
     ],
     "language": "python",
     "metadata": {},
     "outputs": [
      {
       "latex": [
        "ttheta.T := $$\\left[\\begin{matrix}p_{1} & q_{1} & q_{2}\\end{matrix}\\right]$$"
       ],
       "metadata": {},
       "output_type": "display_data",
       "png": "[encoded data removed]",
       "text": [
        "ttheta.T := [p\u2081  q\u2081  q\u2082]"
       ]
      },
      {
       "output_type": "stream",
       "stream": "stdout",
       "text": [
        "---\n"
       ]
      },
      {
       "latex": [
        "tthetad.T := $$\\left[\\begin{matrix}\\dot{p}_{1} & \\dot{q}_{1} & \\dot{q}_{2}\\end{matrix}\\right]$$"
       ],
       "metadata": {},
       "output_type": "display_data",
       "png": "[encoded data removed]",
       "text": [
        "tthetad.T := [p\u0307\u2081  q\u0307\u2081  q\u0307\u2082]"
       ]
      },
      {
       "output_type": "stream",
       "stream": "stdout",
       "text": [
        "---\n"
       ]
      },
      {
       "latex": [
        "tthetadd.T := $$\\left[\\begin{matrix}\\ddot{p}_{1} & \\ddot{q}_{1} & \\ddot{q}_{2}\\end{matrix}\\right]$$"
       ],
       "metadata": {},
       "output_type": "display_data",
       "png": "[encoded data removed]",
       "text": [
        "tthetadd.T := [p\u0308\u2081  q\u0308\u2081  q\u0308\u2082]"
       ]
      },
      {
       "output_type": "stream",
       "stream": "stdout",
       "text": [
        "---\n"
       ]
      }
     ],
     "prompt_number": 53
    },
    {
     "cell_type": "code",
     "collapsed": false,
     "input": [
      "params = sp.symbols('s3, m1, m2, m3, m4, g, c2')\n",
      "st.make_global(params)\n",
      "\n",
      "tau1, tau2 = QQ = st.symb_vector(\"tau1, tau2\")"
     ],
     "language": "python",
     "metadata": {},
     "outputs": [],
     "prompt_number": 4
    },
    {
     "cell_type": "markdown",
     "metadata": {},
     "source": [
      "### Festlegung der Geometrie des mechanischen Systemes"
     ]
    },
    {
     "cell_type": "code",
     "collapsed": false,
     "input": [
      "#Einheitsvektoren\n",
      "\n",
      "ex = sp.Matrix([1,0])\n",
      "ey = sp.Matrix([0,1])\n",
      "\n",
      "\n",
      "# Koordinaten der Schwerpunkte und Gelenke\n",
      "S1 = ex*q1\n",
      "S2 = ex*(q1 + p1)\n",
      "G3 = S2 # Gelenk\n",
      "\n",
      "# Schwerpunkt des Pendels #zeigt nach oben\n",
      "S3 = G3 + mt.Rz(q2)*ey*s3\n",
      "\n",
      "# Zeitableitungen der Schwerpunktskoordinaten\n",
      "Sd1, Sd2, Sd3  = st.col_split(st.time_deriv(st.col_stack(S1, S2, S3), ttheta)) ##"
     ],
     "language": "python",
     "metadata": {},
     "outputs": [
      {
       "latex": [
        "$$\\left[\\begin{matrix}\\dot{q}_{1}\\\\0\\end{matrix}\\right]$$"
       ],
       "metadata": {},
       "output_type": "display_data",
       "png": "[encoded data removed]",
       "text": [
        "\u23a1q\u0307\u2081\u23a4\n",
        "\u23a2   \u23a5\n",
        "\u23a3 0 \u23a6"
       ]
      },
      {
       "latex": [
        "$$\\left[\\begin{matrix}\\dot{p}_{1} + \\dot{q}_{1}\\\\0\\end{matrix}\\right]$$"
       ],
       "metadata": {},
       "output_type": "display_data",
       "png": "[encoded data removed]",
       "text": [
        "\u23a1p\u0307\u2081 + q\u0307\u2081\u23a4\n",
        "\u23a2         \u23a5\n",
        "\u23a3    0    \u23a6"
       ]
      },
      {
       "latex": [
        "$$\\left[\\begin{matrix}\\dot{p}_{1} + \\dot{q}_{1} - \\dot{q}_{2} s_{3} \\cos{\\left (q_{2} \\right )}\\\\- \\dot{q}_{2} s_{3} \\sin{\\left (q_{2} \\right )}\\end{matrix}\\right]$$"
       ],
       "metadata": {},
       "output_type": "display_data",
       "png": "[encoded data removed]",
       "text": [
        "\u23a1p\u0307\u2081 + q\u0307\u2081 - q\u0307\u2082\u22c5s\u2083\u22c5cos(q\u2082)\u23a4\n",
        "\u23a2                          \u23a5\n",
        "\u23a3     -q\u0307\u2082\u22c5s\u2083\u22c5sin(q\u2082)      \u23a6"
       ]
      },
      {
       "output_type": "stream",
       "stream": "stdout",
       "text": [
        "---\n"
       ]
      }
     ],
     "prompt_number": 5
    },
    {
     "cell_type": "code",
     "collapsed": false,
     "input": [
      "# Energie\n",
      "\n",
      "T_rot = 0 # Pendel as mathematisches Pendel angenommen\n",
      "T_trans = ( m1*Sd1.T*Sd1  +  m2*Sd2.T*Sd2 + m3*Sd3.T*Sd3 )/2\n",
      "\n",
      "T = T_rot + T_trans[0] ##:\n",
      "V = m3*g*S3[1] + c2/2*p1**2 ##:"
     ],
     "language": "python",
     "metadata": {},
     "outputs": [
      {
       "latex": [
        "T := $$\\frac{m_{1} \\dot{q}_{1}^{2}}{2} + \\frac{m_{2}}{2} \\left(\\dot{p}_{1} + \\dot{q}_{1}\\right)^{2} + \\frac{m_{3} \\dot{q}_{2}^{2}}{2} s_{3}^{2} \\sin^{2}{\\left (q_{2} \\right )} + \\frac{m_{3}}{2} \\left(\\dot{p}_{1} + \\dot{q}_{1} - \\dot{q}_{2} s_{3} \\cos{\\left (q_{2} \\right )}\\right)^{2}$$"
       ],
       "metadata": {},
       "output_type": "display_data",
       "png": "[encoded data removed]",
       "text": [
        "T :=       2                 2         2   2    2                                  \n",
        "m\u2081\u22c5q\u0307\u2081    m\u2082\u22c5(p\u0307\u2081 + q\u0307\u2081)    m\u2083\u22c5q\u0307\u2082 \u22c5s\u2083 \u22c5sin (q\u2082)   m\u2083\u22c5(p\u0307\u2081 + q\u0307\u2081 - q\u0307\u2082\u22c5s\u2083\u22c5cos(\n",
        "\u2500\u2500\u2500\u2500\u2500\u2500\u2500 + \u2500\u2500\u2500\u2500\u2500\u2500\u2500\u2500\u2500\u2500\u2500\u2500\u2500\u2500\u2500 + \u2500\u2500\u2500\u2500\u2500\u2500\u2500\u2500\u2500\u2500\u2500\u2500\u2500\u2500\u2500\u2500\u2500\u2500\u2500\u2500 + \u2500\u2500\u2500\u2500\u2500\u2500\u2500\u2500\u2500\u2500\u2500\u2500\u2500\u2500\u2500\u2500\u2500\u2500\u2500\u2500\u2500\u2500\u2500\u2500\u2500\u2500\u2500\n",
        "   2             2                   2                            2           \n",
        "\n",
        "    2\n",
        "q\u2082)) \n",
        "\u2500\u2500\u2500\u2500\u2500\n",
        "     "
       ]
      },
      {
       "output_type": "stream",
       "stream": "stdout",
       "text": [
        "---\n"
       ]
      },
      {
       "latex": [
        "V := $$\\frac{c_{2} p_{1}^{2}}{2} + g m_{3} s_{3} \\cos{\\left (q_{2} \\right )}$$"
       ],
       "metadata": {},
       "output_type": "display_data",
       "png": "[encoded data removed]",
       "text": [
        "V :=      2                  \n",
        "c\u2082\u22c5p\u2081                   \n",
        "\u2500\u2500\u2500\u2500\u2500\u2500 + g\u22c5m\u2083\u22c5s\u2083\u22c5cos(q\u2082)\n",
        "  2                     "
       ]
      },
      {
       "output_type": "stream",
       "stream": "stdout",
       "text": [
        "---\n"
       ]
      }
     ],
     "prompt_number": 6
    },
    {
     "cell_type": "code",
     "collapsed": false,
     "input": [
      "external_forces = [0, tau1, tau2]\n",
      "assert not any(external_forces[:np])\n",
      "mod = mt.generate_symbolic_model(T, V, ttheta, external_forces)"
     ],
     "language": "python",
     "metadata": {},
     "outputs": [],
     "prompt_number": 7
    },
    {
     "cell_type": "code",
     "collapsed": false,
     "input": [
      "# Massenmatrix\n",
      "mod.MM"
     ],
     "language": "python",
     "metadata": {},
     "outputs": [
      {
       "latex": [
        "$$\\left[\\begin{matrix}m_{2} + m_{3} & m_{2} + m_{3} & - m_{3} s_{3} \\cos{\\left (q_{2} \\right )}\\\\m_{2} + m_{3} & m_{1} + m_{2} + m_{3} & - m_{3} s_{3} \\cos{\\left (q_{2} \\right )}\\\\- m_{3} s_{3} \\cos{\\left (q_{2} \\right )} & - m_{3} s_{3} \\cos{\\left (q_{2} \\right )} & m_{3} s_{3}^{2}\\end{matrix}\\right]$$"
       ],
       "metadata": {},
       "output_type": "pyout",
       "png": "[encoded data removed]",
       "prompt_number": 8,
       "text": [
        "\u23a1   m\u2082 + m\u2083         m\u2082 + m\u2083      -m\u2083\u22c5s\u2083\u22c5cos(q\u2082)\u23a4\n",
        "\u23a2                                              \u23a5\n",
        "\u23a2   m\u2082 + m\u2083       m\u2081 + m\u2082 + m\u2083   -m\u2083\u22c5s\u2083\u22c5cos(q\u2082)\u23a5\n",
        "\u23a2                                              \u23a5\n",
        "\u23a2                                         2    \u23a5\n",
        "\u23a3-m\u2083\u22c5s\u2083\u22c5cos(q\u2082)  -m\u2083\u22c5s\u2083\u22c5cos(q\u2082)      m\u2083\u22c5s\u2083     \u23a6"
       ]
      }
     ],
     "prompt_number": 8
    },
    {
     "cell_type": "code",
     "collapsed": false,
     "input": [
      "mod.eqns"
     ],
     "language": "python",
     "metadata": {},
     "outputs": [
      {
       "latex": [
        "$$\\left[\\begin{matrix}c_{2} p_{1} + m_{2} \\left(\\ddot{p}_{1} + \\ddot{q}_{1}\\right) + m_{3} \\left(\\ddot{p}_{1} + \\ddot{q}_{1} - \\ddot{q}_{2} s_{3} \\cos{\\left (q_{2} \\right )} + \\dot{q}_{2}^{2} s_{3} \\sin{\\left (q_{2} \\right )}\\right)\\\\m_{1} \\ddot{q}_{1} + m_{2} \\left(\\ddot{p}_{1} + \\ddot{q}_{1}\\right) + m_{3} \\left(\\ddot{p}_{1} + \\ddot{q}_{1} - \\ddot{q}_{2} s_{3} \\cos{\\left (q_{2} \\right )} + \\dot{q}_{2}^{2} s_{3} \\sin{\\left (q_{2} \\right )}\\right) - \\tau_{1}\\\\- g m_{3} s_{3} \\sin{\\left (q_{2} \\right )} - m_{3} \\ddot{p}_{1} s_{3} \\cos{\\left (q_{2} \\right )} - m_{3} \\ddot{q}_{1} s_{3} \\cos{\\left (q_{2} \\right )} + m_{3} \\ddot{q}_{2} s_{3}^{2} - \\tau_{2}\\end{matrix}\\right]$$"
       ],
       "metadata": {},
       "output_type": "pyout",
       "png": "[encoded data removed]",
       "prompt_number": 9,
       "text": [
        "\u23a1                               \u239b                                2           \u239e\n",
        "\u23a2   c\u2082\u22c5p\u2081 + m\u2082\u22c5(p\u0308\u2081 + q\u0308\u2081) + m\u2083\u22c5\u239dp\u0308\u2081 + q\u0308\u2081 - q\u0308\u2082\u22c5s\u2083\u22c5cos(q\u2082) + q\u0307\u2082 \u22c5s\u2083\u22c5sin(q\u2082)\u23a0\n",
        "\u23a2                                                                             \n",
        "\u23a2                             \u239b                                2           \u239e  \n",
        "\u23a2m\u2081\u22c5q\u0308\u2081 + m\u2082\u22c5(p\u0308\u2081 + q\u0308\u2081) + m\u2083\u22c5\u239dp\u0308\u2081 + q\u0308\u2081 - q\u0308\u2082\u22c5s\u2083\u22c5cos(q\u2082) + q\u0307\u2082 \u22c5s\u2083\u22c5sin(q\u2082)\u23a0 -\n",
        "\u23a2                                                                             \n",
        "\u23a2                                                                       2     \n",
        "\u23a3   -g\u22c5m\u2083\u22c5s\u2083\u22c5sin(q\u2082) - m\u2083\u22c5p\u0308\u2081\u22c5s\u2083\u22c5cos(q\u2082) - m\u2083\u22c5q\u0308\u2081\u22c5s\u2083\u22c5cos(q\u2082) + m\u2083\u22c5q\u0308\u2082\u22c5s\u2083  - \u03c4\u2082\n",
        "\n",
        "   \u23a4\n",
        "   \u23a5\n",
        "   \u23a5\n",
        "   \u23a5\n",
        " \u03c4\u2081\u23a5\n",
        "   \u23a5\n",
        "   \u23a5\n",
        "   \u23a6"
       ]
      }
     ],
     "prompt_number": 9
    },
    {
     "cell_type": "code",
     "collapsed": false,
     "input": [
      "mod.calc_coll_part_lin_state_eq()"
     ],
     "language": "python",
     "metadata": {},
     "outputs": [],
     "prompt_number": 10
    },
    {
     "cell_type": "code",
     "collapsed": false,
     "input": [
      "f = mod.ff ##:\n",
      "G = mod.gg ##:\n",
      "g1, g2 = st.col_split(G)\n",
      "\n",
      "xx = mod.x ##:T"
     ],
     "language": "python",
     "metadata": {},
     "outputs": [
      {
       "latex": [
        "f := $$\\left[\\begin{matrix}\\dot{p}_{1}\\\\\\dot{q}_{1}\\\\\\dot{q}_{2}\\\\- \\frac{1}{m_{2} + m_{3}} \\left(c_{2} p_{1} + m_{3} \\dot{q}_{2}^{2} s_{3} \\sin{\\left (q_{2} \\right )}\\right)\\\\0\\\\0\\end{matrix}\\right]$$"
       ],
       "metadata": {},
       "output_type": "display_data",
       "png": "[encoded data removed]",
       "text": [
        "f := \u23a1             p\u0307\u2081              \u23a4\n",
        "\u23a2                              \u23a5\n",
        "\u23a2             q\u0307\u2081              \u23a5\n",
        "\u23a2                              \u23a5\n",
        "\u23a2             q\u0307\u2082              \u23a5\n",
        "\u23a2                              \u23a5\n",
        "\u23a2 \u239b              2           \u239e \u23a5\n",
        "\u23a2-\u239dc\u2082\u22c5p\u2081 + m\u2083\u22c5q\u0307\u2082 \u22c5s\u2083\u22c5sin(q\u2082)\u23a0 \u23a5\n",
        "\u23a2\u2500\u2500\u2500\u2500\u2500\u2500\u2500\u2500\u2500\u2500\u2500\u2500\u2500\u2500\u2500\u2500\u2500\u2500\u2500\u2500\u2500\u2500\u2500\u2500\u2500\u2500\u2500\u2500\u2500\u2500\u23a5\n",
        "\u23a2           m\u2082 + m\u2083            \u23a5\n",
        "\u23a2                              \u23a5\n",
        "\u23a2              0               \u23a5\n",
        "\u23a2                              \u23a5\n",
        "\u23a3              0               \u23a6"
       ]
      },
      {
       "output_type": "stream",
       "stream": "stdout",
       "text": [
        "---\n"
       ]
      },
      {
       "latex": [
        "G := $$\\left[\\begin{matrix}0 & 0\\\\0 & 0\\\\0 & 0\\\\-1 & \\frac{m_{3} s_{3} \\cos{\\left (q_{2} \\right )}}{m_{2} + m_{3}}\\\\1 & 0\\\\0 & 1\\end{matrix}\\right]$$"
       ],
       "metadata": {},
       "output_type": "display_data",
       "png": "[encoded data removed]",
       "text": [
        "G := \u23a10         0      \u23a4\n",
        "\u23a2                 \u23a5\n",
        "\u23a20         0      \u23a5\n",
        "\u23a2                 \u23a5\n",
        "\u23a20         0      \u23a5\n",
        "\u23a2                 \u23a5\n",
        "\u23a2    m\u2083\u22c5s\u2083\u22c5cos(q\u2082)\u23a5\n",
        "\u23a2-1  \u2500\u2500\u2500\u2500\u2500\u2500\u2500\u2500\u2500\u2500\u2500\u2500\u2500\u23a5\n",
        "\u23a2       m\u2082 + m\u2083   \u23a5\n",
        "\u23a2                 \u23a5\n",
        "\u23a21         0      \u23a5\n",
        "\u23a2                 \u23a5\n",
        "\u23a30         1      \u23a6"
       ]
      },
      {
       "output_type": "stream",
       "stream": "stdout",
       "text": [
        "---\n"
       ]
      },
      {
       "latex": [
        "xx.T := $$\\left[\\begin{matrix}p_{1} & q_{1} & q_{2} & \\dot{p}_{1} & \\dot{q}_{1} & \\dot{q}_{2}\\end{matrix}\\right]$$"
       ],
       "metadata": {},
       "output_type": "display_data",
       "png": "[encoded data removed]",
       "text": [
        "xx.T := [p\u2081  q\u2081  q\u2082  p\u0307\u2081  q\u0307\u2081  q\u0307\u2082]"
       ]
      },
      {
       "output_type": "stream",
       "stream": "stdout",
       "text": [
        "---\n"
       ]
      }
     ],
     "prompt_number": 11
    },
    {
     "cell_type": "markdown",
     "metadata": {},
     "source": [
      "## \u00dcberpr\u00fcfung auf statische Eingangs-Zustands-Linearisierbarkeit\n",
      "\n",
      "Konstrunktion der Distributionen $\\Delta_k$"
     ]
    },
    {
     "cell_type": "code",
     "collapsed": false,
     "input": [
      "nx = len(xx)\n",
      "\n",
      "# Liste der Distributionen\n",
      "# (mit Eingangsvektorfeldern starten (Delta_0 = G) )\n",
      "Delta_list = [G]\n",
      "\n",
      "for k in range(1, nx):\n",
      "    Delta_j_full = Delta_list[-1]\n",
      "    Delta_j = Delta_j_full[:, -nq:]# nur die letzten nq Spalten f\u00fcr Lieklammer relevant\n",
      "    Delta_k = []\n",
      "    for vf in st.col_split(Delta_j):\n",
      "        Delta_k.append(st.lie_bracket(f, vf, xx))\n",
      "    \n",
      "    # neu berechnete VF zusammen mit bisherigen in Matrix konvertieren\n",
      "    Delta_k = st.col_stack(Delta_j_full, *Delta_k)\n",
      "    Delta_list.append(Delta_k)"
     ],
     "language": "python",
     "metadata": {},
     "outputs": [],
     "prompt_number": 12
    },
    {
     "cell_type": "code",
     "collapsed": false,
     "input": [
      "for i, D in enumerate(Delta_list):\n",
      "    print \"dim(Delta_%i) =\" %i, st.rnd_number_rank(D)\n",
      "    \n",
      "    # failing_vf enth\u00e4lt die ersten beiden VF, deren Lie-Klammer nicht in der Distribution liegen\n",
      "    inv_flag, failing_vf = st.involutivity_test(D, xx)\n",
      "    print \"Delta_%i involutiv? %s\\n\" %(i, inv_flag)"
     ],
     "language": "python",
     "metadata": {},
     "outputs": [
      {
       "output_type": "stream",
       "stream": "stdout",
       "text": [
        "dim(Delta_0) = 2\n",
        "Delta_0 involutiv? True\n"
       ]
      },
      {
       "output_type": "stream",
       "stream": "stdout",
       "text": [
        "\n",
        "dim(Delta_1) = 4\n",
        "Delta_1 involutiv? True\n"
       ]
      },
      {
       "output_type": "stream",
       "stream": "stdout",
       "text": [
        "\n",
        "dim(Delta_2) = 5\n",
        "Delta_2 involutiv? True\n"
       ]
      },
      {
       "output_type": "stream",
       "stream": "stdout",
       "text": [
        "\n",
        "dim(Delta_3) = "
       ]
      },
      {
       "output_type": "stream",
       "stream": "stdout",
       "text": [
        "6\n",
        "Delta_3 involutiv? True\n"
       ]
      },
      {
       "output_type": "stream",
       "stream": "stdout",
       "text": [
        "\n",
        "dim(Delta_4) = "
       ]
      },
      {
       "output_type": "stream",
       "stream": "stdout",
       "text": [
        "6\n",
        "Delta_4 involutiv? True\n"
       ]
      },
      {
       "output_type": "stream",
       "stream": "stdout",
       "text": [
        "\n",
        "dim(Delta_5) = "
       ]
      },
      {
       "output_type": "stream",
       "stream": "stdout",
       "text": [
        "6\n",
        "Delta_5 involutiv? True\n"
       ]
      },
      {
       "output_type": "stream",
       "stream": "stdout",
       "text": [
        "\n"
       ]
      }
     ],
     "prompt_number": 13
    },
    {
     "cell_type": "markdown",
     "metadata": {},
     "source": [
      "### Fazit:\n",
      "Das System ist also statisch Eingangs-Zustands-Linearisierbar.\n",
      "\n",
      "---\n",
      "\n",
      "\u00dcberpr\u00fcfung: wird durch die Absolutkoordinaten des Pendelschwerpunkts ein in statisch linearisierender Ausgang gebildet (d.h. hat dieser Ausgang einen wohldefinierten und vollst\u00e4ndigen relativen Grad?):"
     ]
    },
    {
     "cell_type": "code",
     "collapsed": false,
     "input": [
      "h1, h2 = S3"
     ],
     "language": "python",
     "metadata": {},
     "outputs": [],
     "prompt_number": 14
    },
    {
     "cell_type": "markdown",
     "metadata": {},
     "source": [
      "Funktion definieren, die $L_{\\bs g_i}L_{\\bs f}^k h(\\bs x)$ in Abh\u00e4ngigkeit von $h, i$ und $k$ berechnet"
     ]
    },
    {
     "cell_type": "code",
     "collapsed": false,
     "input": [
      "def LgLf(sf, g_idx, f_order):\n",
      "    Lf = st.lie_deriv(sf, f, xx, n=f_order)\n",
      "    res = st.lie_deriv(Lf, G[:, g_idx], xx)\n",
      "    return res.simplify()"
     ],
     "language": "python",
     "metadata": {},
     "outputs": [],
     "prompt_number": 15
    },
    {
     "cell_type": "code",
     "collapsed": false,
     "input": [
      "sp.Matrix([[LgLf(h1, 0, 3), LgLf(h1_bar, 1, 3)], [LgLf(h2_bar, 0, 1), LgLf(h2_bar, 1, 1)]])"
     ],
     "language": "python",
     "metadata": {},
     "outputs": []
    },
    {
     "cell_type": "code",
     "collapsed": false,
     "input": [
      "LgLf(h1, 1, 0) ##:\n",
      "LgLf(h1, 1, 1) ##:"
     ],
     "language": "python",
     "metadata": {},
     "outputs": [
      {
       "latex": [
        "LgLf(h1, 1, 0)  := $$0$$"
       ],
       "metadata": {},
       "output_type": "display_data",
       "png": "[encoded data removed]",
       "text": [
        "LgLf(h1, 1, 0)  := 0"
       ]
      },
      {
       "output_type": "stream",
       "stream": "stdout",
       "text": [
        "___\n"
       ]
      },
      {
       "latex": [
        "LgLf(h1, 1, 1)  := $$- \\frac{m_{2} s_{3} \\cos{\\left (q_{2} \\right )}}{m_{2} + m_{3}}$$"
       ],
       "metadata": {},
       "output_type": "display_data",
       "png": "[encoded data removed]",
       "text": [
        "LgLf(h1, 1, 1)  := -m\u2082\u22c5s\u2083\u22c5cos(q\u2082) \n",
        "\u2500\u2500\u2500\u2500\u2500\u2500\u2500\u2500\u2500\u2500\u2500\u2500\u2500\u2500\u2500\n",
        "    m\u2082 + m\u2083    "
       ]
      },
      {
       "output_type": "stream",
       "stream": "stdout",
       "text": [
        "___\n"
       ]
      }
     ],
     "prompt_number": 38
    },
    {
     "cell_type": "code",
     "collapsed": false,
     "input": [
      "print LgLf(h2, 1, 0)\n",
      "print LgLf(h2, 1, 1)"
     ],
     "language": "python",
     "metadata": {},
     "outputs": [
      {
       "output_type": "stream",
       "stream": "stdout",
       "text": [
        "0\n",
        "-s3*sin(q2)\n"
       ]
      }
     ],
     "prompt_number": 17
    },
    {
     "cell_type": "markdown",
     "metadata": {},
     "source": [
      "Weil jeweils die zweite Lie-Ableitung nicht verschwindet, m\u00fcsste der vektorielle relative Grad $(2,2)^T$ sein.\n",
      "Andererseits gilt aber "
     ]
    },
    {
     "cell_type": "code",
     "collapsed": false,
     "input": [
      "[LgLf(h1, 0, 0), LgLf(h1, 0, 1), LgLf(h2, 0, 0), LgLf(h2, 0, 1)]"
     ],
     "language": "python",
     "metadata": {},
     "outputs": [
      {
       "latex": [
        "$$\\left [ 0, \\quad 0, \\quad 0, \\quad 0\\right ]$$"
       ],
       "metadata": {},
       "output_type": "pyout",
       "png": "[encoded data removed]",
       "prompt_number": 40,
       "text": [
        "[0, 0, 0, 0]"
       ]
      }
     ],
     "prompt_number": 40
    },
    {
     "cell_type": "markdown",
     "metadata": {},
     "source": [
      "d.h. $\\ddot {\\bs y}$ h\u00e4ngt nicht von der ersten Eingangskomponente $a_1$ ab. Daraus resultiert die zu $\\hat {\\bs r}= (2,2)^T$\n",
      "geh\u00f6rige Entkopplungsmatrix"
     ]
    },
    {
     "cell_type": "code",
     "collapsed": false,
     "input": [
      "sp.Matrix([[LgLf(h1, 0, 1), LgLf(h1, 1, 1)],\n",
      "           [LgLf(h2, 0, 1), LgLf(h2, 1, 1)]])"
     ],
     "language": "python",
     "metadata": {},
     "outputs": [
      {
       "latex": [
        "$$\\left[\\begin{matrix}0 & - \\frac{m_{2} s_{3} \\cos{\\left (q_{2} \\right )}}{m_{2} + m_{3}}\\\\0 & - s_{3} \\sin{\\left (q_{2} \\right )}\\end{matrix}\\right]$$"
       ],
       "metadata": {},
       "output_type": "pyout",
       "png": "[encoded data removed]",
       "prompt_number": 42,
       "text": [
        "\u23a1   -m\u2082\u22c5s\u2083\u22c5cos(q\u2082) \u23a4\n",
        "\u23a20  \u2500\u2500\u2500\u2500\u2500\u2500\u2500\u2500\u2500\u2500\u2500\u2500\u2500\u2500\u2500\u23a5\n",
        "\u23a2       m\u2082 + m\u2083    \u23a5\n",
        "\u23a2                  \u23a5\n",
        "\u23a30    -s\u2083\u22c5sin(q\u2082)  \u23a6"
       ]
      }
     ],
     "prompt_number": 42
    },
    {
     "cell_type": "markdown",
     "metadata": {},
     "source": [
      "die offensichtlich singul\u00e4r ist. Das hei\u00dft der Ausgang $(y_1, y_2)^T$ (Pendelschwerpunkt) hat keinen wohldefinierten relativen Grad.\n",
      "\n",
      "---\n",
      "\n",
      "Statdessen: Konstruktion eines linearisierenden Ausgangs nach [Beweis von Theorem 5.2.3 in Isidori, 1995]"
     ]
    },
    {
     "cell_type": "code",
     "collapsed": false,
     "input": [
      "# Bestimmung der Dimension \n",
      "[D.srn.rank() for D in Delta_list]"
     ],
     "language": "python",
     "metadata": {},
     "outputs": [
      {
       "latex": [
        "$$\\left [ 2, \\quad 4, \\quad 5, \\quad 6, \\quad 6, \\quad 6\\right ]$$"
       ],
       "metadata": {},
       "output_type": "pyout",
       "png": "[encoded data removed]",
       "prompt_number": 18,
       "text": [
        "[2, 4, 5, 6, 6, 6]"
       ]
      }
     ],
     "prompt_number": 18
    },
    {
     "cell_type": "markdown",
     "metadata": {},
     "source": [
      "Laut [Isidori, 1995], S. 233 wird $\\kappa$ folgenderma\u00dfen definiert:\n",
      "$$\n",
      "\\dim(\\Delta_{\\kappa-2} < \\nx) \\\\\n",
      "\\dim(\\Delta_{\\kappa-1} = \\nx).\n",
      "$$"
     ]
    },
    {
     "cell_type": "code",
     "collapsed": false,
     "input": [
      "Delta_list[2].srn.rank() ##\n",
      "Delta_list[3].srn.rank() ##"
     ],
     "language": "python",
     "metadata": {},
     "outputs": [
      {
       "latex": [
        "$$5$$"
       ],
       "metadata": {},
       "output_type": "display_data",
       "png": "[encoded data removed]",
       "text": [
        "5"
       ]
      },
      {
       "output_type": "stream",
       "stream": "stdout",
       "text": [
        "___\n"
       ]
      },
      {
       "latex": [
        "$$6$$"
       ],
       "metadata": {},
       "output_type": "display_data",
       "png": "[encoded data removed]",
       "text": [
        "6"
       ]
      },
      {
       "output_type": "stream",
       "stream": "stdout",
       "text": [
        "___\n"
       ]
      }
     ],
     "prompt_number": 19
    },
    {
     "cell_type": "markdown",
     "metadata": {},
     "source": [
      "Weil erst $\\Delta_3$ vollen Rang hat, gilt also $\\kappa = 3+1 = 4$.\n",
      "\n",
      "Weiterhin wird\n",
      "$$\n",
      "m_1:= \\dim(\\Delta_{\\kappa-2}^\\perp)  =\n",
      "\\nx - \\dim(\\Delta_{\\kappa-2}) = \\nx - \\dim(\\Delta_{2}) = 6 - 5 = 1\n",
      "$$\n",
      "festgelegt."
     ]
    },
    {
     "cell_type": "code",
     "collapsed": false,
     "input": [
      "Delta2 = Delta_list[2]"
     ],
     "language": "python",
     "metadata": {},
     "outputs": [],
     "prompt_number": 20
    },
    {
     "cell_type": "code",
     "collapsed": false,
     "input": [
      "W = st.nullspaceMatrix(Delta2.T).T ##\n",
      "m1 = W.shape[0] ##"
     ],
     "language": "python",
     "metadata": {},
     "outputs": [
      {
       "latex": [
        "$$\\left[\\begin{matrix}- m_{2} - m_{3} & - m_{2} - m_{3} & m_{3} s_{3} \\cos{\\left (q_{2} \\right )} & 0 & 0 & 0\\end{matrix}\\right]$$"
       ],
       "metadata": {},
       "output_type": "display_data",
       "png": "[encoded data removed]",
       "text": [
        "[-m\u2082 - m\u2083  -m\u2082 - m\u2083  m\u2083\u22c5s\u2083\u22c5cos(q\u2082)  0  0  0]"
       ]
      },
      {
       "output_type": "stream",
       "stream": "stdout",
       "text": [
        "---\n"
       ]
      },
      {
       "latex": [
        "$$1$$"
       ],
       "metadata": {},
       "output_type": "display_data",
       "png": "[encoded data removed]",
       "text": [
        "1"
       ]
      },
      {
       "output_type": "stream",
       "stream": "stdout",
       "text": [
        "---\n"
       ]
      }
     ],
     "prompt_number": 21
    },
    {
     "cell_type": "markdown",
     "metadata": {},
     "source": [
      "Es gibt also wegen $m_1=1$ eine Funktion, deren Differential $\\Delta_2^\\perp$ aufspannt."
     ]
    },
    {
     "cell_type": "code",
     "collapsed": false,
     "input": [
      "import pycartan as pc"
     ],
     "language": "python",
     "metadata": {},
     "outputs": [],
     "prompt_number": 22
    },
    {
     "cell_type": "code",
     "collapsed": false,
     "input": [
      "w1 = pc.DifferentialForm(1, xx, coeff=W[0, :]) ##:\n",
      "#w2 = pc.DifferentialForm(1, xx, coeff=W[1, :])"
     ],
     "language": "python",
     "metadata": {},
     "outputs": [
      {
       "metadata": {},
       "output_type": "display_data",
       "text": [
        "w1 := (-m2 - m3)dp1  +  (-m2 - m3)dq1  +  (m3*s3*cos(q2))dq2"
       ]
      },
      {
       "output_type": "stream",
       "stream": "stdout",
       "text": [
        "---\n"
       ]
      }
     ],
     "prompt_number": 23
    },
    {
     "cell_type": "code",
     "collapsed": false,
     "input": [
      "w1.d ##:\n",
      "h1_bar = w1.integrate() ##:"
     ],
     "language": "python",
     "metadata": {},
     "outputs": [
      {
       "metadata": {},
       "output_type": "display_data",
       "text": [
        "w1.d  := (0)dp1^dq1"
       ]
      },
      {
       "output_type": "stream",
       "stream": "stdout",
       "text": [
        "___\n"
       ]
      },
      {
       "latex": [
        "h1_bar := $$m_{3} s_{3} \\sin{\\left (q_{2} \\right )} - p_{1} \\left(m_{2} + m_{3}\\right) - q_{1} \\left(m_{2} + m_{3}\\right)$$"
       ],
       "metadata": {},
       "output_type": "display_data",
       "png": "[encoded data removed]",
       "text": [
        "h1_bar := m\u2083\u22c5s\u2083\u22c5sin(q\u2082) - p\u2081\u22c5(m\u2082 + m\u2083) - q\u2081\u22c5(m\u2082 + m\u2083)"
       ]
      },
      {
       "output_type": "stream",
       "stream": "stdout",
       "text": [
        "---\n"
       ]
      }
     ],
     "prompt_number": 25
    },
    {
     "cell_type": "code",
     "collapsed": false,
     "input": [
      "LgLf(h1_bar, 0, 0) ##\n",
      "LgLf(h1_bar, 0, 1) ##\n",
      "LgLf(h1_bar, 0, 2) ##\n",
      "LgLf(h1_bar, 0, 3) ##\n",
      "print \"-\"*10\n",
      "LgLf(h1_bar, 1, 0) ##\n",
      "LgLf(h1_bar, 1, 1) ##\n",
      "LgLf(h1_bar, 1, 2) ##\n",
      "LgLf(h1_bar, 1, 3) ##"
     ],
     "language": "python",
     "metadata": {},
     "outputs": [
      {
       "latex": [
        "$$0$$"
       ],
       "metadata": {},
       "output_type": "display_data",
       "png": "[encoded data removed]",
       "text": [
        "0"
       ]
      },
      {
       "output_type": "stream",
       "stream": "stdout",
       "text": [
        "___\n"
       ]
      },
      {
       "latex": [
        "$$0$$"
       ],
       "metadata": {},
       "output_type": "display_data",
       "png": "[encoded data removed]",
       "text": [
        "0"
       ]
      },
      {
       "output_type": "stream",
       "stream": "stdout",
       "text": [
        "___\n"
       ]
      },
      {
       "latex": [
        "$$0$$"
       ],
       "metadata": {},
       "output_type": "display_data",
       "png": "[encoded data removed]",
       "text": [
        "0"
       ]
      },
      {
       "output_type": "stream",
       "stream": "stdout",
       "text": [
        "___\n"
       ]
      },
      {
       "latex": [
        "$$- c_{2}$$"
       ],
       "metadata": {},
       "output_type": "display_data",
       "png": "[encoded data removed]",
       "text": [
        "-c\u2082"
       ]
      },
      {
       "output_type": "stream",
       "stream": "stdout",
       "text": [
        "___\n",
        "----------\n"
       ]
      },
      {
       "latex": [
        "$$0$$"
       ],
       "metadata": {},
       "output_type": "display_data",
       "png": "[encoded data removed]",
       "text": [
        "0"
       ]
      },
      {
       "output_type": "stream",
       "stream": "stdout",
       "text": [
        "___\n"
       ]
      },
      {
       "latex": [
        "$$0$$"
       ],
       "metadata": {},
       "output_type": "display_data",
       "png": "[encoded data removed]",
       "text": [
        "0"
       ]
      },
      {
       "output_type": "stream",
       "stream": "stdout",
       "text": [
        "___\n"
       ]
      },
      {
       "latex": [
        "$$0$$"
       ],
       "metadata": {},
       "output_type": "display_data",
       "png": "[encoded data removed]",
       "text": [
        "0"
       ]
      },
      {
       "output_type": "stream",
       "stream": "stdout",
       "text": [
        "___\n"
       ]
      },
      {
       "latex": [
        "$$\\frac{c_{2} m_{3} s_{3}}{m_{2} + m_{3}} \\cos{\\left (q_{2} \\right )}$$"
       ],
       "metadata": {},
       "output_type": "display_data",
       "png": "[encoded data removed]",
       "text": [
        "c\u2082\u22c5m\u2083\u22c5s\u2083\u22c5cos(q\u2082)\n",
        "\u2500\u2500\u2500\u2500\u2500\u2500\u2500\u2500\u2500\u2500\u2500\u2500\u2500\u2500\u2500\u2500\n",
        "    m\u2082 + m\u2083     "
       ]
      },
      {
       "output_type": "stream",
       "stream": "stdout",
       "text": [
        "___\n"
       ]
      }
     ],
     "prompt_number": 26
    },
    {
     "cell_type": "markdown",
     "metadata": {},
     "source": [
      "Die Ausgangskomponente $\\bar y_1 = \\bar h_1(\\bs x)$ hat relativen Grad 4.\n",
      "Das hei\u00dft, es reicht $\\bar y_2= \\bar h_2(\\bs x)$ als Funktion mit relativem Grad 2 zu w\u00e4hlen z.B. $\\bar h_2:=q_2$."
     ]
    },
    {
     "cell_type": "code",
     "collapsed": false,
     "input": [
      "h2_bar = q2\n",
      "\n",
      "LgLf(h2_bar, 0, 0) ##\n",
      "LgLf(h2_bar, 0, 1) ##\n",
      "print \"-\"*10\n",
      "LgLf(h2_bar, 1, 0) ##\n",
      "LgLf(h2_bar, 1, 1) ##"
     ],
     "language": "python",
     "metadata": {},
     "outputs": [
      {
       "latex": [
        "$$0$$"
       ],
       "metadata": {},
       "output_type": "display_data",
       "png": "[encoded data removed]",
       "text": [
        "0"
       ]
      },
      {
       "output_type": "stream",
       "stream": "stdout",
       "text": [
        "___\n"
       ]
      },
      {
       "latex": [
        "$$0$$"
       ],
       "metadata": {},
       "output_type": "display_data",
       "png": "[encoded data removed]",
       "text": [
        "0"
       ]
      },
      {
       "output_type": "stream",
       "stream": "stdout",
       "text": [
        "___\n",
        "----------\n"
       ]
      },
      {
       "latex": [
        "$$0$$"
       ],
       "metadata": {},
       "output_type": "display_data",
       "png": "[encoded data removed]",
       "text": [
        "0"
       ]
      },
      {
       "output_type": "stream",
       "stream": "stdout",
       "text": [
        "___\n"
       ]
      },
      {
       "latex": [
        "$$1$$"
       ],
       "metadata": {},
       "output_type": "display_data",
       "png": "[encoded data removed]",
       "text": [
        "1"
       ]
      },
      {
       "output_type": "stream",
       "stream": "stdout",
       "text": [
        "___\n"
       ]
      }
     ],
     "prompt_number": 27
    },
    {
     "cell_type": "markdown",
     "metadata": {},
     "source": [
      "Regularit\u00e4t der Matrix $\\bar R$ \u00fcberpr\u00fcfen:"
     ]
    },
    {
     "cell_type": "code",
     "collapsed": false,
     "input": [
      "R_bar = sp.Matrix([[LgLf(h1_bar, 0, 3), LgLf(h1_bar, 1, 3)], [LgLf(h2_bar, 0, 1), LgLf(h2_bar, 1, 1)]]) ##"
     ],
     "language": "python",
     "metadata": {},
     "outputs": [
      {
       "latex": [
        "$$\\left[\\begin{matrix}- c_{2} & \\frac{c_{2} m_{3} s_{3}}{m_{2} + m_{3}} \\cos{\\left (q_{2} \\right )}\\\\0 & 1\\end{matrix}\\right]$$"
       ],
       "metadata": {},
       "output_type": "display_data",
       "png": "[encoded data removed]",
       "text": [
        "\u23a1     c\u2082\u22c5m\u2083\u22c5s\u2083\u22c5cos(q\u2082)\u23a4\n",
        "\u23a2-c\u2082  \u2500\u2500\u2500\u2500\u2500\u2500\u2500\u2500\u2500\u2500\u2500\u2500\u2500\u2500\u2500\u2500\u23a5\n",
        "\u23a2         m\u2082 + m\u2083     \u23a5\n",
        "\u23a2                     \u23a5\n",
        "\u23a3 0          1        \u23a6"
       ]
      },
      {
       "output_type": "stream",
       "stream": "stdout",
       "text": [
        "---\n"
       ]
      }
     ],
     "prompt_number": 28
    },
    {
     "cell_type": "markdown",
     "metadata": {},
     "source": [
      "**Fazit**: Auch f\u00fcr ein statisch linearisierbares (Mehrgr\u00f6\u00dfen-)System muss ein flacher Ausgang nicht unbedingt vollst\u00e4ndigen relativen Grad haben. Andererseits gibt es immer einen Ausgang mit vollst\u00e4ndigem relativem Grad und der ist automatisch auch ein flacher Ausgang."
     ]
    },
    {
     "cell_type": "markdown",
     "metadata": {},
     "source": [
      "### Dynamische Erweiterung f\u00fcr  $\\bs y = \\bs S_3$ (Pendelschwerpunkt) konstruieren"
     ]
    },
    {
     "cell_type": "code",
     "collapsed": false,
     "input": [
      "h1, h2 = S3 ##"
     ],
     "language": "python",
     "metadata": {},
     "outputs": [
      {
       "latex": [
        "$$p_{1} + q_{1} - s_{3} \\sin{\\left (q_{2} \\right )}$$"
       ],
       "metadata": {},
       "output_type": "display_data",
       "png": "[encoded data removed]",
       "text": [
        "p\u2081 + q\u2081 - s\u2083\u22c5sin(q\u2082)"
       ]
      },
      {
       "latex": [
        "$$s_{3} \\cos{\\left (q_{2} \\right )}$$"
       ],
       "metadata": {},
       "output_type": "display_data",
       "png": "[encoded data removed]",
       "text": [
        "s\u2083\u22c5cos(q\u2082)"
       ]
      },
      {
       "output_type": "stream",
       "stream": "stdout",
       "text": [
        "---\n"
       ]
      }
     ],
     "prompt_number": 30
    },
    {
     "cell_type": "markdown",
     "metadata": {},
     "source": [
      "$\\bs R_{(2,2)}$ bilden:"
     ]
    },
    {
     "cell_type": "code",
     "collapsed": false,
     "input": [
      "# Lie_deriv und simplify kombinieren\n",
      "def lds(*args, **kwargs):\n",
      "    return st.lie_deriv(*args, **kwargs).simplify()"
     ],
     "language": "python",
     "metadata": {},
     "outputs": [],
     "prompt_number": 31
    },
    {
     "cell_type": "code",
     "collapsed": false,
     "input": [
      "st.lie_deriv(h1, f, g1, xx)"
     ],
     "language": "python",
     "metadata": {},
     "outputs": [
      {
       "latex": [
        "$$0$$"
       ],
       "metadata": {},
       "output_type": "pyout",
       "png": "[encoded data removed]",
       "prompt_number": 33,
       "text": [
        "0"
       ]
      }
     ],
     "prompt_number": 33
    },
    {
     "cell_type": "code",
     "collapsed": false,
     "input": [
      "sp.Matrix([[ lds(h1, f, g1, xx), lds(h1, f, g2, xx)],\n",
      "           [ lds(h2, f, g1, xx), lds(h1, f, g2, xx)]])"
     ],
     "language": "python",
     "metadata": {},
     "outputs": [
      {
       "latex": [
        "$$\\left[\\begin{matrix}0 & - \\frac{m_{2} s_{3} \\cos{\\left (q_{2} \\right )}}{m_{2} + m_{3}}\\\\0 & - \\frac{m_{2} s_{3} \\cos{\\left (q_{2} \\right )}}{m_{2} + m_{3}}\\end{matrix}\\right]$$"
       ],
       "metadata": {},
       "output_type": "pyout",
       "png": "[encoded data removed]",
       "prompt_number": 34,
       "text": [
        "\u23a1   -m\u2082\u22c5s\u2083\u22c5cos(q\u2082) \u23a4\n",
        "\u23a20  \u2500\u2500\u2500\u2500\u2500\u2500\u2500\u2500\u2500\u2500\u2500\u2500\u2500\u2500\u2500\u23a5\n",
        "\u23a2       m\u2082 + m\u2083    \u23a5\n",
        "\u23a2                  \u23a5\n",
        "\u23a2   -m\u2082\u22c5s\u2083\u22c5cos(q\u2082) \u23a5\n",
        "\u23a20  \u2500\u2500\u2500\u2500\u2500\u2500\u2500\u2500\u2500\u2500\u2500\u2500\u2500\u2500\u2500\u23a5\n",
        "\u23a3       m\u2082 + m\u2083    \u23a6"
       ]
      }
     ],
     "prompt_number": 34
    },
    {
     "cell_type": "code",
     "collapsed": false,
     "input": [
      "# Eingangstransformation, sodass erste Spalte ungleich 0 und zweite gleich 0 ist.\n",
      "# (entspricht Vertauschung)\n",
      "g1, g2 = g2, g1\n",
      "G0_swap = st.concat_cols(g1, g2)\n",
      "\n",
      "sp.Matrix([[ lds(h1, f, g1, xx), lds(h1, f, g2, xx)],\n",
      "           [ lds(h2, f, g1, xx), lds(h1, f, g2, xx)]])"
     ],
     "language": "python",
     "metadata": {},
     "outputs": [
      {
       "latex": [
        "$$\\left[\\begin{matrix}- \\frac{m_{2} s_{3} \\cos{\\left (q_{2} \\right )}}{m_{2} + m_{3}} & 0\\\\- s_{3} \\sin{\\left (q_{2} \\right )} & 0\\end{matrix}\\right]$$"
       ],
       "metadata": {},
       "output_type": "pyout",
       "png": "[encoded data removed]",
       "prompt_number": 35,
       "text": [
        "\u23a1-m\u2082\u22c5s\u2083\u22c5cos(q\u2082)    \u23a4\n",
        "\u23a2\u2500\u2500\u2500\u2500\u2500\u2500\u2500\u2500\u2500\u2500\u2500\u2500\u2500\u2500\u2500  0\u23a5\n",
        "\u23a2    m\u2082 + m\u2083       \u23a5\n",
        "\u23a2                  \u23a5\n",
        "\u23a3  -s\u2083\u22c5sin(q\u2082)    0\u23a6"
       ]
      }
     ],
     "prompt_number": 35
    },
    {
     "cell_type": "code",
     "collapsed": false,
     "input": [
      "# jetzt wird dem zu g1 geh\u00f6renden Eingang (Index 0) eine Integratorkette der L\u00e4nge 1 vorgeschalten\n",
      "# und der zu g2 geh\u00f6renden Eingang (Index 1) bleibt unver\u00e4ndert (IK der L\u00e4nge 0)\n",
      "\n",
      "f1, G1, xx1 = st.system_pronlongation(f, G0_swap, xx, [(0, 1), (1,0)]) ##"
     ],
     "language": "python",
     "metadata": {},
     "outputs": [
      {
       "latex": [
        "$$\\left[\\begin{matrix}\\dot{p}_{1}\\\\\\dot{q}_{1}\\\\\\dot{q}_{2}\\\\\\frac{m_{3} s_{3} z_{1}}{m_{2} + m_{3}} \\cos{\\left (q_{2} \\right )} - \\frac{1}{m_{2} + m_{3}} \\left(c_{2} p_{1} + m_{3} \\dot{q}_{2}^{2} s_{3} \\sin{\\left (q_{2} \\right )}\\right)\\\\0\\\\z_{1}\\\\0\\end{matrix}\\right]$$"
       ],
       "metadata": {},
       "output_type": "display_data",
       "png": "[encoded data removed]",
       "text": [
        "\u23a1                     p\u0307\u2081                     \u23a4\n",
        "\u23a2                                             \u23a5\n",
        "\u23a2                     q\u0307\u2081                     \u23a5\n",
        "\u23a2                                             \u23a5\n",
        "\u23a2                     q\u0307\u2082                     \u23a5\n",
        "\u23a2                                             \u23a5\n",
        "\u23a2                                 2           \u23a5\n",
        "\u23a2m\u2083\u22c5s\u2083\u22c5z\u2081\u22c5cos(q\u2082)   c\u2082\u22c5p\u2081 + m\u2083\u22c5q\u0307\u2082 \u22c5s\u2083\u22c5sin(q\u2082)\u23a5\n",
        "\u23a2\u2500\u2500\u2500\u2500\u2500\u2500\u2500\u2500\u2500\u2500\u2500\u2500\u2500\u2500\u2500\u2500 - \u2500\u2500\u2500\u2500\u2500\u2500\u2500\u2500\u2500\u2500\u2500\u2500\u2500\u2500\u2500\u2500\u2500\u2500\u2500\u2500\u2500\u2500\u2500\u2500\u2500\u2500\u23a5\n",
        "\u23a2    m\u2082 + m\u2083                 m\u2082 + m\u2083          \u23a5\n",
        "\u23a2                                             \u23a5\n",
        "\u23a2                      0                      \u23a5\n",
        "\u23a2                                             \u23a5\n",
        "\u23a2                     z\u2081                      \u23a5\n",
        "\u23a2                                             \u23a5\n",
        "\u23a3                      0                      \u23a6"
       ]
      },
      {
       "latex": [
        "$$\\left[\\begin{matrix}0 & 0\\\\0 & 0\\\\0 & 0\\\\0 & -1\\\\0 & 1\\\\0 & 0\\\\1 & 0\\end{matrix}\\right]$$"
       ],
       "metadata": {},
       "output_type": "display_data",
       "png": "[encoded data removed]",
       "text": [
        "\u23a10  0 \u23a4\n",
        "\u23a2     \u23a5\n",
        "\u23a20  0 \u23a5\n",
        "\u23a2     \u23a5\n",
        "\u23a20  0 \u23a5\n",
        "\u23a2     \u23a5\n",
        "\u23a20  -1\u23a5\n",
        "\u23a2     \u23a5\n",
        "\u23a20  1 \u23a5\n",
        "\u23a2     \u23a5\n",
        "\u23a20  0 \u23a5\n",
        "\u23a2     \u23a5\n",
        "\u23a31  0 \u23a6"
       ]
      },
      {
       "latex": [
        "$$\\left[\\begin{matrix}p_{1}\\\\q_{1}\\\\q_{2}\\\\\\dot{p}_{1}\\\\\\dot{q}_{1}\\\\\\dot{q}_{2}\\\\z_{1}\\end{matrix}\\right]$$"
       ],
       "metadata": {},
       "output_type": "display_data",
       "png": "[encoded data removed]",
       "text": [
        "\u23a1p\u2081 \u23a4\n",
        "\u23a2   \u23a5\n",
        "\u23a2q\u2081 \u23a5\n",
        "\u23a2   \u23a5\n",
        "\u23a2q\u2082 \u23a5\n",
        "\u23a2   \u23a5\n",
        "\u23a2p\u0307\u2081\u23a5\n",
        "\u23a2   \u23a5\n",
        "\u23a2q\u0307\u2081\u23a5\n",
        "\u23a2   \u23a5\n",
        "\u23a2q\u0307\u2082\u23a5\n",
        "\u23a2   \u23a5\n",
        "\u23a3z\u2081 \u23a6"
       ]
      },
      {
       "output_type": "stream",
       "stream": "stdout",
       "text": [
        "---\n"
       ]
      }
     ],
     "prompt_number": 36
    },
    {
     "cell_type": "markdown",
     "metadata": {},
     "source": [
      "$\\bs R_{(3,3)}$ bilden:"
     ]
    },
    {
     "cell_type": "code",
     "collapsed": false,
     "input": [
      "sp.Matrix([[ lds(h1, f1, f1, G1[:, 0], xx1), lds(h1, f1, f1, G1[:, 1], xx1)],\n",
      "           [ lds(h2, f1, f1, G1[:, 0], xx1), lds(h1, f1, f1, G1[:, 1], xx1)]])"
     ],
     "language": "python",
     "metadata": {},
     "outputs": [
      {
       "latex": [
        "$$\\left[\\begin{matrix}- \\frac{m_{2} s_{3} \\cos{\\left (q_{2} \\right )}}{m_{2} + m_{3}} & 0\\\\- s_{3} \\sin{\\left (q_{2} \\right )} & 0\\end{matrix}\\right]$$"
       ],
       "metadata": {},
       "output_type": "pyout",
       "png": "[encoded data removed]",
       "prompt_number": 43,
       "text": [
        "\u23a1-m\u2082\u22c5s\u2083\u22c5cos(q\u2082)    \u23a4\n",
        "\u23a2\u2500\u2500\u2500\u2500\u2500\u2500\u2500\u2500\u2500\u2500\u2500\u2500\u2500\u2500\u2500  0\u23a5\n",
        "\u23a2    m\u2082 + m\u2083       \u23a5\n",
        "\u23a2                  \u23a5\n",
        "\u23a3  -s\u2083\u22c5sin(q\u2082)    0\u23a6"
       ]
      }
     ],
     "prompt_number": 43
    },
    {
     "cell_type": "markdown",
     "metadata": {},
     "source": [
      "Die Situation ist die gleiche wie vorher. \u21d2 Weiteren Prolongationsschritt durchf\u00fchren:"
     ]
    },
    {
     "cell_type": "code",
     "collapsed": false,
     "input": [
      "f2, G2, xx2 = st.system_pronlongation(f1, G1, xx1, [(0, 1), (1,0)]) ##"
     ],
     "language": "python",
     "metadata": {},
     "outputs": [
      {
       "latex": [
        "$$\\left[\\begin{matrix}\\dot{p}_{1}\\\\\\dot{q}_{1}\\\\\\dot{q}_{2}\\\\\\frac{m_{3} s_{3} z_{1}}{m_{2} + m_{3}} \\cos{\\left (q_{2} \\right )} - \\frac{1}{m_{2} + m_{3}} \\left(c_{2} p_{1} + m_{3} \\dot{q}_{2}^{2} s_{3} \\sin{\\left (q_{2} \\right )}\\right)\\\\0\\\\z_{1}\\\\z_{2}\\\\0\\end{matrix}\\right]$$"
       ],
       "metadata": {},
       "output_type": "display_data",
       "png": "[encoded data removed]",
       "text": [
        "\u23a1                     p\u0307\u2081                     \u23a4\n",
        "\u23a2                                             \u23a5\n",
        "\u23a2                     q\u0307\u2081                     \u23a5\n",
        "\u23a2                                             \u23a5\n",
        "\u23a2                     q\u0307\u2082                     \u23a5\n",
        "\u23a2                                             \u23a5\n",
        "\u23a2                                 2           \u23a5\n",
        "\u23a2m\u2083\u22c5s\u2083\u22c5z\u2081\u22c5cos(q\u2082)   c\u2082\u22c5p\u2081 + m\u2083\u22c5q\u0307\u2082 \u22c5s\u2083\u22c5sin(q\u2082)\u23a5\n",
        "\u23a2\u2500\u2500\u2500\u2500\u2500\u2500\u2500\u2500\u2500\u2500\u2500\u2500\u2500\u2500\u2500\u2500 - \u2500\u2500\u2500\u2500\u2500\u2500\u2500\u2500\u2500\u2500\u2500\u2500\u2500\u2500\u2500\u2500\u2500\u2500\u2500\u2500\u2500\u2500\u2500\u2500\u2500\u2500\u23a5\n",
        "\u23a2    m\u2082 + m\u2083                 m\u2082 + m\u2083          \u23a5\n",
        "\u23a2                                             \u23a5\n",
        "\u23a2                      0                      \u23a5\n",
        "\u23a2                                             \u23a5\n",
        "\u23a2                     z\u2081                      \u23a5\n",
        "\u23a2                                             \u23a5\n",
        "\u23a2                     z\u2082                      \u23a5\n",
        "\u23a2                                             \u23a5\n",
        "\u23a3                      0                      \u23a6"
       ]
      },
      {
       "latex": [
        "$$\\left[\\begin{matrix}0 & 0\\\\0 & 0\\\\0 & 0\\\\0 & -1\\\\0 & 1\\\\0 & 0\\\\0 & 0\\\\1 & 0\\end{matrix}\\right]$$"
       ],
       "metadata": {},
       "output_type": "display_data",
       "png": "[encoded data removed]",
       "text": [
        "\u23a10  0 \u23a4\n",
        "\u23a2     \u23a5\n",
        "\u23a20  0 \u23a5\n",
        "\u23a2     \u23a5\n",
        "\u23a20  0 \u23a5\n",
        "\u23a2     \u23a5\n",
        "\u23a20  -1\u23a5\n",
        "\u23a2     \u23a5\n",
        "\u23a20  1 \u23a5\n",
        "\u23a2     \u23a5\n",
        "\u23a20  0 \u23a5\n",
        "\u23a2     \u23a5\n",
        "\u23a20  0 \u23a5\n",
        "\u23a2     \u23a5\n",
        "\u23a31  0 \u23a6"
       ]
      },
      {
       "latex": [
        "$$\\left[\\begin{matrix}p_{1}\\\\q_{1}\\\\q_{2}\\\\\\dot{p}_{1}\\\\\\dot{q}_{1}\\\\\\dot{q}_{2}\\\\z_{1}\\\\z_{2}\\end{matrix}\\right]$$"
       ],
       "metadata": {},
       "output_type": "display_data",
       "png": "[encoded data removed]",
       "text": [
        "\u23a1p\u2081 \u23a4\n",
        "\u23a2   \u23a5\n",
        "\u23a2q\u2081 \u23a5\n",
        "\u23a2   \u23a5\n",
        "\u23a2q\u2082 \u23a5\n",
        "\u23a2   \u23a5\n",
        "\u23a2p\u0307\u2081\u23a5\n",
        "\u23a2   \u23a5\n",
        "\u23a2q\u0307\u2081\u23a5\n",
        "\u23a2   \u23a5\n",
        "\u23a2q\u0307\u2082\u23a5\n",
        "\u23a2   \u23a5\n",
        "\u23a2z\u2081 \u23a5\n",
        "\u23a2   \u23a5\n",
        "\u23a3z\u2082 \u23a6"
       ]
      },
      {
       "output_type": "stream",
       "stream": "stdout",
       "text": [
        "---\n"
       ]
      }
     ],
     "prompt_number": 44
    },
    {
     "cell_type": "markdown",
     "metadata": {},
     "source": [
      "$\\bs R_{(4,4)}$ bilden:"
     ]
    },
    {
     "cell_type": "code",
     "collapsed": false,
     "input": [
      "R_44 = sp.Matrix([[ lds(h1, f2, f2, f2, G2[:, 0], xx2), lds(h1, f2, f2, f2, G2[:, 1], xx2)],\n",
      "                  [ lds(h2, f2, f2, f2, G2[:, 0], xx2), lds(h1, f2, f2, f2, G2[:, 1], xx2)]])\n",
      "R_44 ##\n",
      "R_44_det = R_44.det() ##:"
     ],
     "language": "python",
     "metadata": {},
     "outputs": [
      {
       "latex": [
        "$$\\left[\\begin{matrix}- \\frac{m_{2} s_{3} \\cos{\\left (q_{2} \\right )}}{m_{2} + m_{3}} & \\frac{c_{2}}{m_{2} + m_{3}}\\\\- s_{3} \\sin{\\left (q_{2} \\right )} & \\frac{c_{2}}{m_{2} + m_{3}}\\end{matrix}\\right]$$"
       ],
       "metadata": {},
       "output_type": "display_data",
       "png": "[encoded data removed]",
       "text": [
        "\u23a1-m\u2082\u22c5s\u2083\u22c5cos(q\u2082)      c\u2082  \u23a4\n",
        "\u23a2\u2500\u2500\u2500\u2500\u2500\u2500\u2500\u2500\u2500\u2500\u2500\u2500\u2500\u2500\u2500  \u2500\u2500\u2500\u2500\u2500\u2500\u2500\u23a5\n",
        "\u23a2    m\u2082 + m\u2083      m\u2082 + m\u2083\u23a5\n",
        "\u23a2                        \u23a5\n",
        "\u23a2                    c\u2082  \u23a5\n",
        "\u23a2  -s\u2083\u22c5sin(q\u2082)    \u2500\u2500\u2500\u2500\u2500\u2500\u2500\u23a5\n",
        "\u23a3                 m\u2082 + m\u2083\u23a6"
       ]
      },
      {
       "output_type": "stream",
       "stream": "stdout",
       "text": [
        "___\n"
       ]
      },
      {
       "latex": [
        "R_44_det := $$- \\frac{c_{2} m_{2} s_{3} \\cos{\\left (q_{2} \\right )}}{m_{2}^{2} + 2 m_{2} m_{3} + m_{3}^{2}} + \\frac{c_{2} s_{3} \\sin{\\left (q_{2} \\right )}}{m_{2} + m_{3}}$$"
       ],
       "metadata": {},
       "output_type": "display_data",
       "png": "[encoded data removed]",
       "text": [
        "R_44_det :=     c\u2082\u22c5m\u2082\u22c5s\u2083\u22c5cos(q\u2082)    c\u2082\u22c5s\u2083\u22c5sin(q\u2082)\n",
        "- \u2500\u2500\u2500\u2500\u2500\u2500\u2500\u2500\u2500\u2500\u2500\u2500\u2500\u2500\u2500\u2500\u2500\u2500\u2500 + \u2500\u2500\u2500\u2500\u2500\u2500\u2500\u2500\u2500\u2500\u2500\u2500\u2500\n",
        "    2               2      m\u2082 + m\u2083   \n",
        "  m\u2082  + 2\u22c5m\u2082\u22c5m\u2083 + m\u2083                 "
       ]
      },
      {
       "output_type": "stream",
       "stream": "stdout",
       "text": [
        "---\n"
       ]
      }
     ],
     "prompt_number": 45
    },
    {
     "cell_type": "code",
     "collapsed": false,
     "input": [
      "# Singul\u00e4re Konfigurationen bestimmen\n",
      "sol = sp.solve(R_44_det.as_numer_denom()[0], q2)##"
     ],
     "language": "python",
     "metadata": {},
     "outputs": [
      {
       "latex": [
        "$$\\left [ - 2 \\operatorname{atan}{\\left (\\frac{1}{m_{2}} \\left(m_{2} + m_{3} - \\sqrt{2 m_{2}^{2} + 2 m_{2} m_{3} + m_{3}^{2}}\\right) \\right )}, \\quad - 2 \\operatorname{atan}{\\left (\\frac{1}{m_{2}} \\left(m_{2} + m_{3} + \\sqrt{2 m_{2}^{2} + 2 m_{2} m_{3} + m_{3}^{2}}\\right) \\right )}\\right ]$$"
       ],
       "metadata": {},
       "output_type": "display_data",
       "png": "[encoded data removed]",
       "text": [
        "\u23a1       \u239b             _______________________\u239e         \u239b             _________\n",
        "\u23a2       \u239c            \u2571     2               2 \u239f         \u239c            \u2571     2   \n",
        "\u23a2       \u239cm\u2082 + m\u2083 - \u2572\u2571  2\u22c5m\u2082  + 2\u22c5m\u2082\u22c5m\u2083 + m\u2083  \u239f         \u239cm\u2082 + m\u2083 + \u2572\u2571  2\u22c5m\u2082  + \n",
        "\u23a2-2\u22c5atan\u239c\u2500\u2500\u2500\u2500\u2500\u2500\u2500\u2500\u2500\u2500\u2500\u2500\u2500\u2500\u2500\u2500\u2500\u2500\u2500\u2500\u2500\u2500\u2500\u2500\u2500\u2500\u2500\u2500\u2500\u2500\u2500\u2500\u2500\u2500\u2500\u2500\u239f, -2\u22c5atan\u239c\u2500\u2500\u2500\u2500\u2500\u2500\u2500\u2500\u2500\u2500\u2500\u2500\u2500\u2500\u2500\u2500\u2500\u2500\u2500\u2500\u2500\u2500\n",
        "\u23a3       \u239d                 m\u2082                 \u23a0         \u239d                 m\u2082   \n",
        "\n",
        "______________\u239e\u23a4\n",
        "            2 \u239f\u23a5\n",
        "2\u22c5m\u2082\u22c5m\u2083 + m\u2083  \u239f\u23a5\n",
        "\u2500\u2500\u2500\u2500\u2500\u2500\u2500\u2500\u2500\u2500\u2500\u2500\u2500\u2500\u239f\u23a5\n",
        "              \u23a0\u23a6"
       ]
      },
      {
       "output_type": "stream",
       "stream": "stdout",
       "text": [
        "---\n"
       ]
      }
     ],
     "prompt_number": 46
    },
    {
     "cell_type": "code",
     "collapsed": false,
     "input": [],
     "language": "python",
     "metadata": {},
     "outputs": [],
     "prompt_number": 47
    },
    {
     "cell_type": "code",
     "collapsed": false,
     "input": [
      "Lf4_h = sp.Matrix([lds(h1, f2, xx2, order=4), lds(h2, f2, xx2, order=4)]) ##"
     ],
     "language": "python",
     "metadata": {},
     "outputs": [
      {
       "latex": [
        "$$\\left[\\begin{matrix}\\frac{1}{m_{2}^{2} + 2 m_{2} m_{3} + m_{3}^{2}} \\left(c_{2}^{2} p_{1} + c_{2} m_{3} \\dot{q}_{2}^{2} s_{3} \\sin{\\left (q_{2} \\right )} - c_{2} m_{3} s_{3} z_{1} \\cos{\\left (q_{2} \\right )} - m_{2}^{2} \\dot{q}_{2}^{4} s_{3} \\sin{\\left (q_{2} \\right )} + 6 m_{2}^{2} \\dot{q}_{2}^{2} s_{3} z_{1} \\cos{\\left (q_{2} \\right )} + 4 m_{2}^{2} \\dot{q}_{2} s_{3} z_{2} \\sin{\\left (q_{2} \\right )} + 3 m_{2}^{2} s_{3} z_{1}^{2} \\sin{\\left (q_{2} \\right )} - m_{2} m_{3} \\dot{q}_{2}^{4} s_{3} \\sin{\\left (q_{2} \\right )} + 6 m_{2} m_{3} \\dot{q}_{2}^{2} s_{3} z_{1} \\cos{\\left (q_{2} \\right )} + 4 m_{2} m_{3} \\dot{q}_{2} s_{3} z_{2} \\sin{\\left (q_{2} \\right )} + 3 m_{2} m_{3} s_{3} z_{1}^{2} \\sin{\\left (q_{2} \\right )}\\right)\\\\s_{3} \\left(\\dot{q}_{2}^{4} \\cos{\\left (q_{2} \\right )} + 6 \\dot{q}_{2}^{2} z_{1} \\sin{\\left (q_{2} \\right )} - 4 \\dot{q}_{2} z_{2} \\cos{\\left (q_{2} \\right )} - 3 z_{1}^{2} \\cos{\\left (q_{2} \\right )}\\right)\\end{matrix}\\right]$$"
       ],
       "metadata": {},
       "output_type": "display_data",
       "png": "[encoded data removed]",
       "text": [
        "\u23a1  2               2                                      2    4              \n",
        "\u23a2c\u2082 \u22c5p\u2081 + c\u2082\u22c5m\u2083\u22c5q\u0307\u2082 \u22c5s\u2083\u22c5sin(q\u2082) - c\u2082\u22c5m\u2083\u22c5s\u2083\u22c5z\u2081\u22c5cos(q\u2082) - m\u2082 \u22c5q\u0307\u2082 \u22c5s\u2083\u22c5sin(q\u2082) + \n",
        "\u23a2\u2500\u2500\u2500\u2500\u2500\u2500\u2500\u2500\u2500\u2500\u2500\u2500\u2500\u2500\u2500\u2500\u2500\u2500\u2500\u2500\u2500\u2500\u2500\u2500\u2500\u2500\u2500\u2500\u2500\u2500\u2500\u2500\u2500\u2500\u2500\u2500\u2500\u2500\u2500\u2500\u2500\u2500\u2500\u2500\u2500\u2500\u2500\u2500\u2500\u2500\u2500\u2500\u2500\u2500\u2500\u2500\u2500\u2500\u2500\u2500\u2500\u2500\u2500\u2500\u2500\u2500\u2500\u2500\u2500\u2500\u2500\u2500\u2500\u2500\u2500\u2500\u2500\n",
        "\u23a2                                                                             \n",
        "\u23a2                                                                             \n",
        "\u23a2                                                                             \n",
        "\u23a2                                                                             \n",
        "\u23a3                                                                             \n",
        "\n",
        "    2    2                     2                         2      2             \n",
        "6\u22c5m\u2082 \u22c5q\u0307\u2082 \u22c5s\u2083\u22c5z\u2081\u22c5cos(q\u2082) + 4\u22c5m\u2082 \u22c5q\u0307\u2082\u22c5s\u2083\u22c5z\u2082\u22c5sin(q\u2082) + 3\u22c5m\u2082 \u22c5s\u2083\u22c5z\u2081 \u22c5sin(q\u2082) - m\u2082\n",
        "\u2500\u2500\u2500\u2500\u2500\u2500\u2500\u2500\u2500\u2500\u2500\u2500\u2500\u2500\u2500\u2500\u2500\u2500\u2500\u2500\u2500\u2500\u2500\u2500\u2500\u2500\u2500\u2500\u2500\u2500\u2500\u2500\u2500\u2500\u2500\u2500\u2500\u2500\u2500\u2500\u2500\u2500\u2500\u2500\u2500\u2500\u2500\u2500\u2500\u2500\u2500\u2500\u2500\u2500\u2500\u2500\u2500\u2500\u2500\u2500\u2500\u2500\u2500\u2500\u2500\u2500\u2500\u2500\u2500\u2500\u2500\u2500\u2500\u2500\u2500\u2500\u2500\u2500\n",
        "                                           2               2                  \n",
        "                                         m\u2082  + 2\u22c5m\u2082\u22c5m\u2083 + m\u2083                   \n",
        "                                                                              \n",
        "                  \u239b   4                2                                     2\n",
        "               s\u2083\u22c5\u239dq\u0307\u2082 \u22c5cos(q\u2082) + 6\u22c5q\u0307\u2082 \u22c5z\u2081\u22c5sin(q\u2082) - 4\u22c5q\u0307\u2082\u22c5z\u2082\u22c5cos(q\u2082) - 3\u22c5z\u2081 \n",
        "\n",
        "       4                         2                                            \n",
        "\u22c5m\u2083\u22c5q\u0307\u2082 \u22c5s\u2083\u22c5sin(q\u2082) + 6\u22c5m\u2082\u22c5m\u2083\u22c5q\u0307\u2082 \u22c5s\u2083\u22c5z\u2081\u22c5cos(q\u2082) + 4\u22c5m\u2082\u22c5m\u2083\u22c5q\u0307\u2082\u22c5s\u2083\u22c5z\u2082\u22c5sin(q\u2082) +\n",
        "\u2500\u2500\u2500\u2500\u2500\u2500\u2500\u2500\u2500\u2500\u2500\u2500\u2500\u2500\u2500\u2500\u2500\u2500\u2500\u2500\u2500\u2500\u2500\u2500\u2500\u2500\u2500\u2500\u2500\u2500\u2500\u2500\u2500\u2500\u2500\u2500\u2500\u2500\u2500\u2500\u2500\u2500\u2500\u2500\u2500\u2500\u2500\u2500\u2500\u2500\u2500\u2500\u2500\u2500\u2500\u2500\u2500\u2500\u2500\u2500\u2500\u2500\u2500\u2500\u2500\u2500\u2500\u2500\u2500\u2500\u2500\u2500\u2500\u2500\u2500\u2500\u2500\u2500\n",
        "                                                                              \n",
        "                                                                              \n",
        "                                                                              \n",
        "        \u239e                                                                     \n",
        "\u22c5cos(q\u2082)\u23a0                                                                     \n",
        "\n",
        "              2        \u23a4\n",
        " 3\u22c5m\u2082\u22c5m\u2083\u22c5s\u2083\u22c5z\u2081 \u22c5sin(q\u2082)\u23a5\n",
        "\u2500\u2500\u2500\u2500\u2500\u2500\u2500\u2500\u2500\u2500\u2500\u2500\u2500\u2500\u2500\u2500\u2500\u2500\u2500\u2500\u2500\u2500\u2500\u23a5\n",
        "                       \u23a5\n",
        "                       \u23a5\n",
        "                       \u23a5\n",
        "                       \u23a5\n",
        "                       \u23a6"
       ]
      },
      {
       "output_type": "stream",
       "stream": "stdout",
       "text": [
        "---\n"
       ]
      }
     ],
     "prompt_number": 48
    },
    {
     "cell_type": "code",
     "collapsed": false,
     "input": [
      "R_44_inv = R_44.inverse_ADJ()\n",
      "R_44_inv.simplify()"
     ],
     "language": "python",
     "metadata": {},
     "outputs": [],
     "prompt_number": 49
    },
    {
     "cell_type": "code",
     "collapsed": false,
     "input": [
      "R_44.co ##\n",
      "R_44_inv"
     ],
     "language": "python",
     "metadata": {},
     "outputs": [
      {
       "latex": [
        "$$\\left[\\begin{matrix}7 & 3\\\\4 & 3\\end{matrix}\\right]$$"
       ],
       "metadata": {},
       "output_type": "display_data",
       "png": "[encoded data removed]",
       "text": [
        "\u23a17  3\u23a4\n",
        "\u23a2    \u23a5\n",
        "\u23a34  3\u23a6"
       ]
      },
      {
       "output_type": "stream",
       "stream": "stdout",
       "text": [
        "___\n"
       ]
      },
      {
       "latex": [
        "$$\\left[\\begin{matrix}- \\frac{m_{2} + m_{3}}{s_{3} \\left(m_{2} \\cos{\\left (q_{2} \\right )} - \\left(m_{2} + m_{3}\\right) \\sin{\\left (q_{2} \\right )}\\right)} & \\frac{m_{2} + m_{3}}{s_{3} \\left(m_{2} \\cos{\\left (q_{2} \\right )} - \\left(m_{2} + m_{3}\\right) \\sin{\\left (q_{2} \\right )}\\right)}\\\\- \\frac{\\left(m_{2} + m_{3}\\right)^{2} \\sin{\\left (q_{2} \\right )}}{c_{2} \\left(m_{2} \\cos{\\left (q_{2} \\right )} - \\left(m_{2} + m_{3}\\right) \\sin{\\left (q_{2} \\right )}\\right)} & \\frac{m_{2} \\left(m_{2} + m_{3}\\right) \\cos{\\left (q_{2} \\right )}}{c_{2} \\left(m_{2} \\cos{\\left (q_{2} \\right )} - \\left(m_{2} + m_{3}\\right) \\sin{\\left (q_{2} \\right )}\\right)}\\end{matrix}\\right]$$"
       ],
       "metadata": {},
       "output_type": "pyout",
       "png": "[encoded data removed]",
       "prompt_number": 50,
       "text": [
        "\u23a1            -(m\u2082 + m\u2083)                             m\u2082 + m\u2083              \u23a4\n",
        "\u23a2\u2500\u2500\u2500\u2500\u2500\u2500\u2500\u2500\u2500\u2500\u2500\u2500\u2500\u2500\u2500\u2500\u2500\u2500\u2500\u2500\u2500\u2500\u2500\u2500\u2500\u2500\u2500\u2500\u2500\u2500\u2500\u2500\u2500\u2500\u2500  \u2500\u2500\u2500\u2500\u2500\u2500\u2500\u2500\u2500\u2500\u2500\u2500\u2500\u2500\u2500\u2500\u2500\u2500\u2500\u2500\u2500\u2500\u2500\u2500\u2500\u2500\u2500\u2500\u2500\u2500\u2500\u2500\u2500\u2500\u2500\u23a5\n",
        "\u23a2s\u2083\u22c5(m\u2082\u22c5cos(q\u2082) - (m\u2082 + m\u2083)\u22c5sin(q\u2082))  s\u2083\u22c5(m\u2082\u22c5cos(q\u2082) - (m\u2082 + m\u2083)\u22c5sin(q\u2082))\u23a5\n",
        "\u23a2                                                                        \u23a5\n",
        "\u23a2                  2                                                     \u23a5\n",
        "\u23a2        -(m\u2082 + m\u2083) \u22c5sin(q\u2082)                  m\u2082\u22c5(m\u2082 + m\u2083)\u22c5cos(q\u2082)       \u23a5\n",
        "\u23a2\u2500\u2500\u2500\u2500\u2500\u2500\u2500\u2500\u2500\u2500\u2500\u2500\u2500\u2500\u2500\u2500\u2500\u2500\u2500\u2500\u2500\u2500\u2500\u2500\u2500\u2500\u2500\u2500\u2500\u2500\u2500\u2500\u2500\u2500\u2500  \u2500\u2500\u2500\u2500\u2500\u2500\u2500\u2500\u2500\u2500\u2500\u2500\u2500\u2500\u2500\u2500\u2500\u2500\u2500\u2500\u2500\u2500\u2500\u2500\u2500\u2500\u2500\u2500\u2500\u2500\u2500\u2500\u2500\u2500\u2500\u23a5\n",
        "\u23a3c\u2082\u22c5(m\u2082\u22c5cos(q\u2082) - (m\u2082 + m\u2083)\u22c5sin(q\u2082))  c\u2082\u22c5(m\u2082\u22c5cos(q\u2082) - (m\u2082 + m\u2083)\u22c5sin(q\u2082))\u23a6"
       ]
      }
     ],
     "prompt_number": 50
    },
    {
     "cell_type": "code",
     "collapsed": false,
     "input": [
      "# Wahrscheinlich \u00fcberfl\u00fcssig\n",
      "\n",
      "tau_tilde = R_44_inv*(aa - Lf4_h)\n",
      "fG2 = f2+G2*tau_tilde"
     ],
     "language": "python",
     "metadata": {},
     "outputs": [],
     "prompt_number": 51
    },
    {
     "cell_type": "markdown",
     "metadata": {},
     "source": [
      "### \u00dcberpr\u00fcfung, ob $\\bs y = \\bs S_3$ (Pendelschwerpunkt) ein flacher Ausgang ist"
     ]
    },
    {
     "cell_type": "code",
     "collapsed": false,
     "input": [
      "# Bestimmung eines tangential flachen Ausgangs\n",
      "\n",
      "P0 = mod.eqns[:np, :].jacobian(ttheta) ##:\n",
      "P1 = mod.eqns[:np, :].jacobian(tthetad) ##:\n",
      "P2 = mod.eqns[:np, :].jacobian(tthetadd) ##:\n",
      "Q = S3.jacobian(ttheta) ##:"
     ],
     "language": "python",
     "metadata": {},
     "outputs": [
      {
       "latex": [
        "P0 := $$\\left[\\begin{matrix}c_{2} & 0 & m_{3} \\left(\\ddot{q}_{2} s_{3} \\sin{\\left (q_{2} \\right )} + \\dot{q}_{2}^{2} s_{3} \\cos{\\left (q_{2} \\right )}\\right)\\end{matrix}\\right]$$"
       ],
       "metadata": {},
       "output_type": "display_data",
       "png": "[encoded data removed]",
       "text": [
        "P0 := \u23a1          \u239b                    2           \u239e\u23a4\n",
        "\u23a3c\u2082  0  m\u2083\u22c5\u239dq\u0308\u2082\u22c5s\u2083\u22c5sin(q\u2082) + q\u0307\u2082 \u22c5s\u2083\u22c5cos(q\u2082)\u23a0\u23a6"
       ]
      },
      {
       "output_type": "stream",
       "stream": "stdout",
       "text": [
        "---\n"
       ]
      },
      {
       "latex": [
        "P1 := $$\\left[\\begin{matrix}0 & 0 & 2 m_{3} \\dot{q}_{2} s_{3} \\sin{\\left (q_{2} \\right )}\\end{matrix}\\right]$$"
       ],
       "metadata": {},
       "output_type": "display_data",
       "png": "[encoded data removed]",
       "text": [
        "P1 := [0  0  2\u22c5m\u2083\u22c5q\u0307\u2082\u22c5s\u2083\u22c5sin(q\u2082)]"
       ]
      },
      {
       "output_type": "stream",
       "stream": "stdout",
       "text": [
        "---\n"
       ]
      },
      {
       "latex": [
        "P2 := $$\\left[\\begin{matrix}m_{2} + m_{3} & m_{2} + m_{3} & - m_{3} s_{3} \\cos{\\left (q_{2} \\right )}\\end{matrix}\\right]$$"
       ],
       "metadata": {},
       "output_type": "display_data",
       "png": "[encoded data removed]",
       "text": [
        "P2 := [m\u2082 + m\u2083  m\u2082 + m\u2083  -m\u2083\u22c5s\u2083\u22c5cos(q\u2082)]"
       ]
      },
      {
       "output_type": "stream",
       "stream": "stdout",
       "text": [
        "---\n"
       ]
      },
      {
       "latex": [
        "Q := $$\\left[\\begin{matrix}1 & 1 & - s_{3} \\cos{\\left (q_{2} \\right )}\\\\0 & 0 & - s_{3} \\sin{\\left (q_{2} \\right )}\\end{matrix}\\right]$$"
       ],
       "metadata": {},
       "output_type": "display_data",
       "png": "[encoded data removed]",
       "text": [
        "Q := \u23a11  1  -s\u2083\u22c5cos(q\u2082)\u23a4\n",
        "\u23a2                 \u23a5\n",
        "\u23a30  0  -s\u2083\u22c5sin(q\u2082)\u23a6"
       ]
      },
      {
       "output_type": "stream",
       "stream": "stdout",
       "text": [
        "---\n"
       ]
      }
     ],
     "prompt_number": 54
    },
    {
     "cell_type": "code",
     "collapsed": false,
     "input": [
      "# Symbol f\u00fcr den Ableitungsoperator\n",
      "s = sp.Symbol('s', commutative=False)\n",
      "\n",
      "# P mit Q zu einer quadratischen Matrix erg\u00e4nzen\n",
      "P_compl = st.row_stack(P2*s**2 + P1*s + P0, Q) ##"
     ],
     "language": "python",
     "metadata": {},
     "outputs": [
      {
       "latex": [
        "$$\\left[\\begin{matrix}c_{2} + \\left(m_{2} + m_{3}\\right) s^{2} & \\left(m_{2} + m_{3}\\right) s^{2} & 2 m_{3} \\dot{q}_{2} s_{3} \\sin{\\left (q_{2} \\right )} s - m_{3} s_{3} \\cos{\\left (q_{2} \\right )} s^{2} + m_{3} \\left(\\ddot{q}_{2} s_{3} \\sin{\\left (q_{2} \\right )} + \\dot{q}_{2}^{2} s_{3} \\cos{\\left (q_{2} \\right )}\\right)\\\\1 & 1 & - s_{3} \\cos{\\left (q_{2} \\right )}\\\\0 & 0 & - s_{3} \\sin{\\left (q_{2} \\right )}\\end{matrix}\\right]$$"
       ],
       "metadata": {},
       "output_type": "display_data",
       "png": "[encoded data removed]",
       "text": [
        "\u23a1                2             2                                         2    \n",
        "\u23a2c\u2082 + (m\u2082 + m\u2083)\u22c5s   (m\u2082 + m\u2083)\u22c5s   2\u22c5m\u2083\u22c5q\u0307\u2082\u22c5s\u2083\u22c5sin(q\u2082)\u22c5s - m\u2083\u22c5s\u2083\u22c5cos(q\u2082)\u22c5s  + m\n",
        "\u23a2                                                                             \n",
        "\u23a2        1               1                                          -s\u2083\u22c5cos(q\u2082\n",
        "\u23a2                                                                             \n",
        "\u23a3        0               0                                          -s\u2083\u22c5sin(q\u2082\n",
        "\n",
        "  \u239b                    2           \u239e\u23a4\n",
        "\u2083\u22c5\u239dq\u0308\u2082\u22c5s\u2083\u22c5sin(q\u2082) + q\u0307\u2082 \u22c5s\u2083\u22c5cos(q\u2082)\u23a0\u23a5\n",
        "                                    \u23a5\n",
        ")                                   \u23a5\n",
        "                                    \u23a5\n",
        ")                                   \u23a6"
       ]
      },
      {
       "output_type": "stream",
       "stream": "stdout",
       "text": [
        "---\n"
       ]
      }
     ],
     "prompt_number": 55
    },
    {
     "cell_type": "code",
     "collapsed": false,
     "input": [
      "# Inverse berechenen.\n",
      "# Wenn PQ nicht unimodular w\u00e4re, g\u00e4be es eine Fehlermeldung\n",
      "\n",
      "import symbtools.noncommutativetools as nc\n",
      "# rechnet ca. 37s\n",
      "%time P_compl_inv = nc.unimod_inv(P_compl, s, time_dep_symbs=ttheta)"
     ],
     "language": "python",
     "metadata": {},
     "outputs": [
      {
       "output_type": "stream",
       "stream": "stdout",
       "text": [
        "CPU times: user 12.7 s, sys: 4 ms, total: 12.7 s\n",
        "Wall time: 12.7 s\n"
       ]
      }
     ],
     "prompt_number": 59
    },
    {
     "cell_type": "code",
     "collapsed": false,
     "input": [
      "P_compl_inv.co"
     ],
     "language": "python",
     "metadata": {},
     "outputs": [
      {
       "latex": [
        "$$\\left[\\begin{matrix}2 & 6 & 20\\\\3 & 6 & 23\\\\0 & 0 & 5\\end{matrix}\\right]$$"
       ],
       "metadata": {},
       "output_type": "pyout",
       "png": "[encoded data removed]",
       "prompt_number": 60,
       "text": [
        "\u23a12  6  20\u23a4\n",
        "\u23a2        \u23a5\n",
        "\u23a23  6  23\u23a5\n",
        "\u23a2        \u23a5\n",
        "\u23a30  0  5 \u23a6"
       ]
      }
     ],
     "prompt_number": 60
    },
    {
     "cell_type": "code",
     "collapsed": false,
     "input": [
      "P_compl_inv"
     ],
     "language": "python",
     "metadata": {},
     "outputs": [
      {
       "latex": [
        "$$\\left[\\begin{matrix}\\frac{1}{c_{2}} & - \\frac{s^{2}}{c_{2}} \\left(m_{2} + m_{3}\\right) & \\frac{m_{2} s^{2}}{c_{2} \\tan{\\left (q_{2} \\right )}} + \\frac{2 m_{3}}{c_{2}} \\dot{q}_{2} s + \\frac{m_{3} \\left(\\ddot{q}_{2} \\tan{\\left (q_{2} \\right )} + \\dot{q}_{2}^{2}\\right)}{c_{2} \\tan{\\left (q_{2} \\right )}}\\\\- \\frac{1}{c_{2}} & 1 + \\frac{s^{2}}{c_{2}} \\left(m_{2} + m_{3}\\right) & - \\frac{m_{2} s^{2}}{c_{2} \\tan{\\left (q_{2} \\right )}} - \\frac{2 m_{3}}{c_{2}} \\dot{q}_{2} s - \\frac{1}{c_{2} \\tan{\\left (q_{2} \\right )}} \\left(c_{2} + m_{3} \\ddot{q}_{2} \\tan{\\left (q_{2} \\right )} + m_{3} \\dot{q}_{2}^{2}\\right)\\\\0 & 0 & - \\frac{1}{s_{3} \\sin{\\left (q_{2} \\right )}}\\end{matrix}\\right]$$"
       ],
       "metadata": {},
       "output_type": "pyout",
       "png": "[encoded data removed]",
       "prompt_number": 61,
       "text": [
        "\u23a1                  2              2                      \u239b                 2\u239e \n",
        "\u23a21     -(m\u2082 + m\u2083)\u22c5s           m\u2082\u22c5s       2\u22c5m\u2083\u22c5q\u0307\u2082\u22c5s   m\u2083\u22c5\u239dq\u0308\u2082\u22c5tan(q\u2082) + q\u0307\u2082 \u23a0 \n",
        "\u23a2\u2500\u2500    \u2500\u2500\u2500\u2500\u2500\u2500\u2500\u2500\u2500\u2500\u2500\u2500\u2500\u2500       \u2500\u2500\u2500\u2500\u2500\u2500\u2500\u2500\u2500\u2500 + \u2500\u2500\u2500\u2500\u2500\u2500\u2500\u2500\u2500\u2500 + \u2500\u2500\u2500\u2500\u2500\u2500\u2500\u2500\u2500\u2500\u2500\u2500\u2500\u2500\u2500\u2500\u2500\u2500\u2500\u2500\u2500\u2500\u2500 \n",
        "\u23a2c\u2082          c\u2082             c\u2082\u22c5tan(q\u2082)       c\u2082              c\u2082\u22c5tan(q\u2082)       \n",
        "\u23a2                                                                             \n",
        "\u23a2                    2          2                                             \n",
        "\u23a2-1       (m\u2082 + m\u2083)\u22c5s       m\u2082\u22c5s       2\u22c5m\u2083\u22c5q\u0307\u2082\u22c5s   c\u2082 + m\u2083\u22c5q\u0308\u2082\u22c5tan(q\u2082) + m\u2083\u22c5q\n",
        "\u23a2\u2500\u2500\u2500  1 + \u2500\u2500\u2500\u2500\u2500\u2500\u2500\u2500\u2500\u2500\u2500\u2500  - \u2500\u2500\u2500\u2500\u2500\u2500\u2500\u2500\u2500\u2500 - \u2500\u2500\u2500\u2500\u2500\u2500\u2500\u2500\u2500\u2500 - \u2500\u2500\u2500\u2500\u2500\u2500\u2500\u2500\u2500\u2500\u2500\u2500\u2500\u2500\u2500\u2500\u2500\u2500\u2500\u2500\u2500\u2500\u2500\u2500\u2500\u2500\n",
        "\u23a2 c\u2082           c\u2082         c\u2082\u22c5tan(q\u2082)       c\u2082                 c\u2082\u22c5tan(q\u2082)      \n",
        "\u23a2                                                                             \n",
        "\u23a2                                                 -1                          \n",
        "\u23a2 0          0                                 \u2500\u2500\u2500\u2500\u2500\u2500\u2500\u2500\u2500\u2500                     \n",
        "\u23a3                                              s\u2083\u22c5sin(q\u2082)                     \n",
        "\n",
        "   \u23a4\n",
        "   \u23a5\n",
        "   \u23a5\n",
        "   \u23a5\n",
        "   \u23a5\n",
        "  2\u23a5\n",
        "\u0307\u2082 \u23a5\n",
        "\u2500\u2500\u2500\u23a5\n",
        "   \u23a5\n",
        "   \u23a5\n",
        "   \u23a5\n",
        "   \u23a5\n",
        "   \u23a6"
       ]
      }
     ],
     "prompt_number": 61
    },
    {
     "cell_type": "markdown",
     "metadata": {},
     "source": [
      "Da $(\\bs P_{compl})^{-1}$ existiert und eine Polynommatrix ist, ist $\\bs Q$ tats\u00e4chlich eine unimodulare Erweiterung von $\\bs P\\Ddt$. Damit ist gezeigt, dass $\\bs y = \\bs S_3$ (d.h. die Absolutkoordinaten des Pendelschwerpunktes) ein flacher Ausgang ist."
     ]
    }
   ],
   "metadata": {}
  }
 ]
}