{
 "metadata": {
  "name": "",
  "signature": "sha256:de6d79c38a279625195ed88b50941266723b49459004f02090bdd9f034a6166e"
 },
 "nbformat": 3,
 "nbformat_minor": 0,
 "worksheets": [
  {
   "cells": [
    {
     "cell_type": "code",
     "collapsed": false,
     "input": [
      "import time\n",
      "print time.ctime()\n",
      "\n",
      "from diss_aux import latex\n",
      "%load_ext displaytools"
     ],
     "language": "python",
     "metadata": {},
     "outputs": [
      {
       "output_type": "stream",
       "stream": "stdout",
       "text": [
        "Sun Dec 13 20:32:33 2015\n",
        "The displaytools extension is already loaded. To reload it, use:\n",
        "  %reload_ext displaytools\n"
       ]
      }
     ],
     "prompt_number": 24
    },
    {
     "cell_type": "markdown",
     "metadata": {},
     "source": [
      "**Betrachtetes System**: aktuiertes Pendel, dessen Aufh\u00e4ngepunkt an einem horizontal verschieblichen Wagen h\u00e4ngt, der elastisch mit einem aktuierten Wagen verbunden ist.\n",
      "\n",
      "<img src=\"files/images/pendel_wagen_feder_wagen.png\">\n",
      "\n",
      "**Betrachtete Frage(n)**:\n",
      "Ist das System statisch Eingangs-Zustands-Linearisierbar. Wenn ja, wie sieht ein entsprechender\n",
      "linearisierender Ausgang aus?\n",
      "\n",
      "Wie ist die Situation, wenn ein \"intuitiver\" flacher Ausgang (Absolutkoordinaten des Pendelschwerpunkts) untersucht wird?\n",
      "\n",
      "\n",
      "$$\n",
      "%<custom_config>\n",
      "\\newcommand{\\col}{\\mathrm{col}}\n",
      "\\newcommand{\\bs}{\\boldsymbol}\n",
      "%</custom_config>\n",
      "$$\n",
      "\n"
     ]
    },
    {
     "cell_type": "code",
     "collapsed": false,
     "input": [
      "import sympy as sp\n",
      "from sympy import sin, cos, pi\n",
      "from sympy.interactive import printing\n",
      "import model_tools as mt\n",
      "from model_tools import Rz\n",
      "import symb_tools as st\n",
      "printing.init_printing(1)"
     ],
     "language": "python",
     "metadata": {},
     "outputs": [],
     "prompt_number": 3
    },
    {
     "cell_type": "code",
     "collapsed": false,
     "input": [
      "t = sp.Symbol('t')\n",
      "np = 1\n",
      "nq = 2\n",
      "n = np + nq\n",
      "pp = st.symb_vector(\"p1:{0}\".format(np+1))\n",
      "qq = st.symb_vector(\"q1:{0}\".format(nq+1))\n",
      "aa = st.symb_vector(\"a1:{0}\".format(nq+1))\n",
      "\n",
      "theta = st.row_stack(pp, qq) ##\n",
      "mu = st.perform_time_derivative(theta, theta) ##\n",
      "mud = st.perform_time_derivative(theta, theta, order=2) ##\n",
      "st.make_global(theta, 1)\n",
      "st.make_global(mu, 1)"
     ],
     "language": "python",
     "metadata": {},
     "outputs": [],
     "prompt_number": 4
    },
    {
     "cell_type": "code",
     "collapsed": false,
     "input": [
      "params = sp.symbols('s3, m1, m2, m3, m4, g, c2')\n",
      "st.make_global(params, 1)\n",
      "\n",
      "tau1, tau2 = QQ = st.symb_vector(\"tau1, tau2\")"
     ],
     "language": "python",
     "metadata": {},
     "outputs": [],
     "prompt_number": 20
    },
    {
     "cell_type": "markdown",
     "metadata": {},
     "source": [
      "### Festlegung der Geometrie des mechanischen Systemes"
     ]
    },
    {
     "cell_type": "code",
     "collapsed": false,
     "input": [
      "#Einheitsvektoren\n",
      "\n",
      "ex = sp.Matrix([1,0])\n",
      "ey = sp.Matrix([0,1])\n",
      "\n",
      "\n",
      "# Koordinaten der Schwerpunkte und Gelenke\n",
      "S1 = ex*q1\n",
      "S2 = ex*(q1 + p1)\n",
      "G3 = S2 # Gelenk\n",
      "\n",
      "# Schwerpunkt des Pendels #zeigt nach oben\n",
      "S3 = G3 + Rz(q2)*ey*s3\n",
      "\n",
      "# Zeitableitungen der Schwerpunktskoordinaten\n",
      "Sd1, Sd2, Sd3  = st.col_split(st.perform_time_derivative(st.col_stack(S1, S2, S3), theta)) ##"
     ],
     "language": "python",
     "metadata": {},
     "outputs": [],
     "prompt_number": 6
    },
    {
     "cell_type": "code",
     "collapsed": false,
     "input": [
      "# Energie\n",
      "\n",
      "T_rot = 0\n",
      "T_trans = ( m1*Sd1.T*Sd1  +  m2*Sd2.T*Sd2 + m3*Sd3.T*Sd3 )/2\n",
      "\n",
      "T = T_rot + T_trans[0] ##:\n",
      "V = m3*g*S3[1] + c2/2*p1**2 ##:"
     ],
     "language": "python",
     "metadata": {},
     "outputs": [
      {
       "latex": [
        "T := $$\\frac{m_{1} \\dot{q}_{1}^{2}}{2} + \\frac{m_{2}}{2} \\left(\\dot{p}_{1} + \\dot{q}_{1}\\right)^{2} + \\frac{m_{3} \\dot{q}_{2}^{2}}{2} s_{3}^{2} \\sin^{2}{\\left (q_{2} \\right )} + \\frac{m_{3}}{2} \\left(\\dot{p}_{1} + \\dot{q}_{1} - \\dot{q}_{2} s_{3} \\cos{\\left (q_{2} \\right )}\\right)^{2}$$"
       ],
       "metadata": {},
       "output_type": "display_data",
       "png": "[encoded data removed]",
       "text": [
        "T :=       2                 2         2   2    2                                  \n",
        "m\u2081\u22c5q\u0307\u2081    m\u2082\u22c5(p\u0307\u2081 + q\u0307\u2081)    m\u2083\u22c5q\u0307\u2082 \u22c5s\u2083 \u22c5sin (q\u2082)   m\u2083\u22c5(p\u0307\u2081 + q\u0307\u2081 - q\u0307\u2082\u22c5s\u2083\u22c5cos(\n",
        "\u2500\u2500\u2500\u2500\u2500\u2500\u2500 + \u2500\u2500\u2500\u2500\u2500\u2500\u2500\u2500\u2500\u2500\u2500\u2500\u2500\u2500\u2500 + \u2500\u2500\u2500\u2500\u2500\u2500\u2500\u2500\u2500\u2500\u2500\u2500\u2500\u2500\u2500\u2500\u2500\u2500\u2500\u2500 + \u2500\u2500\u2500\u2500\u2500\u2500\u2500\u2500\u2500\u2500\u2500\u2500\u2500\u2500\u2500\u2500\u2500\u2500\u2500\u2500\u2500\u2500\u2500\u2500\u2500\u2500\u2500\n",
        "   2             2                   2                            2           \n",
        "\n",
        "    2\n",
        "q\u2082)) \n",
        "\u2500\u2500\u2500\u2500\u2500\n",
        "     "
       ]
      },
      {
       "output_type": "stream",
       "stream": "stdout",
       "text": [
        "---\n"
       ]
      },
      {
       "latex": [
        "V := $$\\frac{c_{2} p_{1}^{2}}{2} + g m_{3} s_{3} \\cos{\\left (q_{2} \\right )}$$"
       ],
       "metadata": {},
       "output_type": "display_data",
       "png": "[encoded data removed]",
       "text": [
        "V :=      2                  \n",
        "c\u2082\u22c5p\u2081                   \n",
        "\u2500\u2500\u2500\u2500\u2500\u2500 + g\u22c5m\u2083\u22c5s\u2083\u22c5cos(q\u2082)\n",
        "  2                     "
       ]
      },
      {
       "output_type": "stream",
       "stream": "stdout",
       "text": [
        "---\n"
       ]
      }
     ],
     "prompt_number": 12
    },
    {
     "cell_type": "code",
     "collapsed": false,
     "input": [
      "external_forces = [0, tau1, tau2]\n",
      "assert not any(external_forces[:np])\n",
      "mod = mt.generate_symbolic_model(T, V, theta, external_forces)\n",
      "mod.eqns.simplify()"
     ],
     "language": "python",
     "metadata": {},
     "outputs": [],
     "prompt_number": 21
    },
    {
     "cell_type": "code",
     "collapsed": false,
     "input": [
      "# Massenmatrix\n",
      "mod.MM"
     ],
     "language": "python",
     "metadata": {},
     "outputs": [
      {
       "latex": [
        "$$\\left[\\begin{matrix}m_{2} + m_{3} & m_{2} + m_{3} & - m_{3} s_{3} \\cos{\\left (q_{2} \\right )}\\\\m_{2} + m_{3} & m_{1} + m_{2} + m_{3} & - m_{3} s_{3} \\cos{\\left (q_{2} \\right )}\\\\- m_{3} s_{3} \\cos{\\left (q_{2} \\right )} & - m_{3} s_{3} \\cos{\\left (q_{2} \\right )} & m_{3} s_{3}^{2}\\end{matrix}\\right]$$"
       ],
       "metadata": {},
       "output_type": "pyout",
       "png": "[encoded data removed]",
       "prompt_number": 22,
       "text": [
        "\u23a1   m\u2082 + m\u2083         m\u2082 + m\u2083      -m\u2083\u22c5s\u2083\u22c5cos(q\u2082)\u23a4\n",
        "\u23a2                                              \u23a5\n",
        "\u23a2   m\u2082 + m\u2083       m\u2081 + m\u2082 + m\u2083   -m\u2083\u22c5s\u2083\u22c5cos(q\u2082)\u23a5\n",
        "\u23a2                                              \u23a5\n",
        "\u23a2                                         2    \u23a5\n",
        "\u23a3-m\u2083\u22c5s\u2083\u22c5cos(q\u2082)  -m\u2083\u22c5s\u2083\u22c5cos(q\u2082)      m\u2083\u22c5s\u2083     \u23a6"
       ]
      }
     ],
     "prompt_number": 22
    },
    {
     "cell_type": "code",
     "collapsed": false,
     "input": [
      "mod.eqns"
     ],
     "language": "python",
     "metadata": {},
     "outputs": [
      {
       "latex": [
        "$$\\left[\\begin{matrix}c_{2} p_{1} + m_{2} \\left(\\ddot{p}_{1} + \\ddot{q}_{1}\\right) + m_{3} \\left(\\ddot{p}_{1} + \\ddot{q}_{1} - \\ddot{q}_{2} s_{3} \\cos{\\left (q_{2} \\right )} + \\dot{q}_{2}^{2} s_{3} \\sin{\\left (q_{2} \\right )}\\right)\\\\m_{1} \\ddot{q}_{1} + m_{2} \\left(\\ddot{p}_{1} + \\ddot{q}_{1}\\right) + m_{3} \\left(\\ddot{p}_{1} + \\ddot{q}_{1} - \\ddot{q}_{2} s_{3} \\cos{\\left (q_{2} \\right )} + \\dot{q}_{2}^{2} s_{3} \\sin{\\left (q_{2} \\right )}\\right) - \\tau_{1}\\\\- g m_{3} s_{3} \\sin{\\left (q_{2} \\right )} - m_{3} \\ddot{p}_{1} s_{3} \\cos{\\left (q_{2} \\right )} - m_{3} \\ddot{q}_{1} s_{3} \\cos{\\left (q_{2} \\right )} + m_{3} \\ddot{q}_{2} s_{3}^{2} - \\tau_{2}\\end{matrix}\\right]$$"
       ],
       "metadata": {},
       "output_type": "pyout",
       "png": "[encoded data removed]",
       "prompt_number": 46,
       "text": [
        "\u23a1                               \u239b                                2           \u239e\n",
        "\u23a2   c\u2082\u22c5p\u2081 + m\u2082\u22c5(p\u0308\u2081 + q\u0308\u2081) + m\u2083\u22c5\u239dp\u0308\u2081 + q\u0308\u2081 - q\u0308\u2082\u22c5s\u2083\u22c5cos(q\u2082) + q\u0307\u2082 \u22c5s\u2083\u22c5sin(q\u2082)\u23a0\n",
        "\u23a2                                                                             \n",
        "\u23a2                             \u239b                                2           \u239e  \n",
        "\u23a2m\u2081\u22c5q\u0308\u2081 + m\u2082\u22c5(p\u0308\u2081 + q\u0308\u2081) + m\u2083\u22c5\u239dp\u0308\u2081 + q\u0308\u2081 - q\u0308\u2082\u22c5s\u2083\u22c5cos(q\u2082) + q\u0307\u2082 \u22c5s\u2083\u22c5sin(q\u2082)\u23a0 -\n",
        "\u23a2                                                                             \n",
        "\u23a2                                                                       2     \n",
        "\u23a3   -g\u22c5m\u2083\u22c5s\u2083\u22c5sin(q\u2082) - m\u2083\u22c5p\u0308\u2081\u22c5s\u2083\u22c5cos(q\u2082) - m\u2083\u22c5q\u0308\u2081\u22c5s\u2083\u22c5cos(q\u2082) + m\u2083\u22c5q\u0308\u2082\u22c5s\u2083  - \u03c4\u2082\n",
        "\n",
        "   \u23a4\n",
        "   \u23a5\n",
        "   \u23a5\n",
        "   \u23a5\n",
        " \u03c4\u2081\u23a5\n",
        "   \u23a5\n",
        "   \u23a5\n",
        "   \u23a6"
       ]
      }
     ],
     "prompt_number": 46
    },
    {
     "cell_type": "code",
     "collapsed": false,
     "input": [
      "latex(mod.eqns)"
     ],
     "language": "python",
     "metadata": {},
     "outputs": [
      {
       "output_type": "stream",
       "stream": "stdout",
       "text": [
        "\\left(\\begin{matrix}c_{2} p_{1} + m_{2} \\left(\\ddot{p}_{1} + \\ddot{q}_{1}\\right) + m_{3} \\left(\\ddot{p}_{1} + \\ddot{q}_{1} - \\ddot{q}_{2} s_{3} \\cos q_{2}  + \\dot{q}_{2}^{2} s_{3} \\sin q_{2} \\right)\\\\\n",
        "m_{1} \\ddot{q}_{1} + m_{2} \\left(\\ddot{p}_{1} + \\ddot{q}_{1}\\right) + m_{3} \\left(\\ddot{p}_{1} + \\ddot{q}_{1} - \\ddot{q}_{2} s_{3} \\cos q_{2}  + \\dot{q}_{2}^{2} s_{3} \\sin q_{2} \\right) - \\tau_{1}\\\\\n",
        "- g m_{3} s_{3} \\sin q_{2}  - m_{3} \\ddot{p}_{1} s_{3} \\cos q_{2}  - m_{3} \\ddot{q}_{1} s_{3} \\cos q_{2}  + m_{3} \\ddot{q}_{2} s_{3}^{2} - \\tau_{2}\\end{matrix}\\right)\n"
       ]
      }
     ],
     "prompt_number": 51
    },
    {
     "cell_type": "code",
     "collapsed": false,
     "input": [
      "reload(diss_aux)\n",
      "import diss_aux\n",
      "from diss_aux import latex\n",
      "reload(diss_aux)"
     ],
     "language": "python",
     "metadata": {},
     "outputs": [
      {
       "metadata": {},
       "output_type": "pyout",
       "prompt_number": 55,
       "text": [
        "<module 'diss_aux' from '/home/ck/myModules/diss_aux.pyc'>"
       ]
      }
     ],
     "prompt_number": 55
    },
    {
     "cell_type": "code",
     "collapsed": false,
     "input": [
      "mod.calc_coll_part_lin_state_eq(simplify=True)"
     ],
     "language": "python",
     "metadata": {},
     "outputs": [],
     "prompt_number": 52
    },
    {
     "cell_type": "code",
     "collapsed": false,
     "input": [
      "f = mod.ff ##:\n",
      "G = mod.gg ##:\n",
      "xx = mod.x ##:\n",
      "g1, g2 = st.col_split(G)"
     ],
     "language": "python",
     "metadata": {},
     "outputs": [
      {
       "latex": [
        "f := $$\\left[\\begin{matrix}\\dot{p}_{1}\\\\\\dot{q}_{1}\\\\\\dot{q}_{2}\\\\- \\frac{1}{m_{2} + m_{3}} \\left(c_{2} p_{1} + m_{3} \\dot{q}_{2}^{2} s_{3} \\sin{\\left (q_{2} \\right )}\\right)\\\\0\\\\0\\end{matrix}\\right]$$"
       ],
       "metadata": {},
       "output_type": "display_data",
       "png": "[encoded data removed]",
       "text": [
        "f := \u23a1             p\u0307\u2081              \u23a4\n",
        "\u23a2                              \u23a5\n",
        "\u23a2             q\u0307\u2081              \u23a5\n",
        "\u23a2                              \u23a5\n",
        "\u23a2             q\u0307\u2082              \u23a5\n",
        "\u23a2                              \u23a5\n",
        "\u23a2 \u239b              2           \u239e \u23a5\n",
        "\u23a2-\u239dc\u2082\u22c5p\u2081 + m\u2083\u22c5q\u0307\u2082 \u22c5s\u2083\u22c5sin(q\u2082)\u23a0 \u23a5\n",
        "\u23a2\u2500\u2500\u2500\u2500\u2500\u2500\u2500\u2500\u2500\u2500\u2500\u2500\u2500\u2500\u2500\u2500\u2500\u2500\u2500\u2500\u2500\u2500\u2500\u2500\u2500\u2500\u2500\u2500\u2500\u2500\u23a5\n",
        "\u23a2           m\u2082 + m\u2083            \u23a5\n",
        "\u23a2                              \u23a5\n",
        "\u23a2              0               \u23a5\n",
        "\u23a2                              \u23a5\n",
        "\u23a3              0               \u23a6"
       ]
      },
      {
       "output_type": "stream",
       "stream": "stdout",
       "text": [
        "---\n"
       ]
      },
      {
       "latex": [
        "G := $$\\left[\\begin{matrix}0 & 0\\\\0 & 0\\\\0 & 0\\\\-1 & \\frac{m_{3} s_{3} \\cos{\\left (q_{2} \\right )}}{m_{2} + m_{3}}\\\\1 & 0\\\\0 & 1\\end{matrix}\\right]$$"
       ],
       "metadata": {},
       "output_type": "display_data",
       "png": "[encoded data removed]",
       "text": [
        "G := \u23a10         0      \u23a4\n",
        "\u23a2                 \u23a5\n",
        "\u23a20         0      \u23a5\n",
        "\u23a2                 \u23a5\n",
        "\u23a20         0      \u23a5\n",
        "\u23a2                 \u23a5\n",
        "\u23a2    m\u2083\u22c5s\u2083\u22c5cos(q\u2082)\u23a5\n",
        "\u23a2-1  \u2500\u2500\u2500\u2500\u2500\u2500\u2500\u2500\u2500\u2500\u2500\u2500\u2500\u23a5\n",
        "\u23a2       m\u2082 + m\u2083   \u23a5\n",
        "\u23a2                 \u23a5\n",
        "\u23a21         0      \u23a5\n",
        "\u23a2                 \u23a5\n",
        "\u23a30         1      \u23a6"
       ]
      },
      {
       "output_type": "stream",
       "stream": "stdout",
       "text": [
        "---\n"
       ]
      },
      {
       "latex": [
        "xx := $$\\left[\\begin{matrix}p_{1}\\\\q_{1}\\\\q_{2}\\\\\\dot{p}_{1}\\\\\\dot{q}_{1}\\\\\\dot{q}_{2}\\end{matrix}\\right]$$"
       ],
       "metadata": {},
       "output_type": "display_data",
       "png": "[encoded data removed]",
       "text": [
        "xx := \u23a1p\u2081 \u23a4\n",
        "\u23a2   \u23a5\n",
        "\u23a2q\u2081 \u23a5\n",
        "\u23a2   \u23a5\n",
        "\u23a2q\u2082 \u23a5\n",
        "\u23a2   \u23a5\n",
        "\u23a2p\u0307\u2081\u23a5\n",
        "\u23a2   \u23a5\n",
        "\u23a2q\u0307\u2081\u23a5\n",
        "\u23a2   \u23a5\n",
        "\u23a3q\u0307\u2082\u23a6"
       ]
      },
      {
       "output_type": "stream",
       "stream": "stdout",
       "text": [
        "---\n"
       ]
      }
     ],
     "prompt_number": 60
    },
    {
     "cell_type": "code",
     "collapsed": false,
     "input": [
      "# !! f\u00fcr den Latex-Code\n",
      "\n",
      "if 1:\n",
      "    MU = st.symb_vector('u1, v1, v2')\n",
      "    latex(f.subz(mu, MU))\n",
      "    latex(G.subz(mu, MU))\n",
      "    latex(S3)"
     ],
     "language": "python",
     "metadata": {},
     "outputs": [
      {
       "output_type": "stream",
       "stream": "stdout",
       "text": [
        "\\left(\\begin{matrix}u_{1}\\\\\n",
        "v_{1}\\\\\n",
        "v_{2}\\\\\n",
        "- \\frac{1}{m_{2} + m_{3}} \\left(c_{2} p_{1} + m_{3} s_{3} v_{2}^{2} \\sin q_{2} \\right)\\\\\n",
        "0\\\\\n",
        "0\\end{matrix}\\right)\n",
        "-------------\n",
        "\\left(\\begin{matrix}0 & 0\\\\\n",
        "0 & 0\\\\\n",
        "0 & 0\\\\\n",
        "-1 & \\frac{m_{3} s_{3} \\cos q_{2} }{m_{2} + m_{3}}\\\\\n",
        "1 & 0\\\\\n",
        "0 & 1\\end{matrix}\\right)\n",
        "-------------\n",
        "\\left(\\begin{matrix}p_{1} + q_{1} - s_{3} \\sin q_{2} \\\\\n",
        "s_{3} \\cos q_{2} \\end{matrix}\\right)\n",
        "-------------\n"
       ]
      }
     ],
     "prompt_number": 57
    },
    {
     "cell_type": "markdown",
     "metadata": {},
     "source": [
      "## \u00dcberpr\u00fcfung auf statische Eingangs-Zustands-Linearisierbarkeit\n",
      "\n",
      "Konstrunktion der Distributionen $\\Delta_k$"
     ]
    },
    {
     "cell_type": "code",
     "collapsed": false,
     "input": [
      "nx = len(xx)\n",
      "\n",
      "# Liste der Distributionen\n",
      "# (mit Eingangsvektorfeldern starten (Delta_0 = G) )\n",
      "Delta_list = [G]\n",
      "\n",
      "for k in range(1, nx):\n",
      "    Delta_j_full = Delta_list[-1]\n",
      "    Delta_j = Delta_j_full[:, -nq:]# nur die letzten nq Spalten f\u00fcr Lieklammer relevant\n",
      "    Delta_k = []\n",
      "    for vf in st.col_split(Delta_j):\n",
      "        Delta_k.append(st.lie_bracket(f, vf, xx))\n",
      "    \n",
      "    # neu berechnete VF zusammen mit bisherigen in Matrix konvertieren\n",
      "    Delta_k = st.col_stack(Delta_j_full, *Delta_k)\n",
      "    Delta_list.append(Delta_k)"
     ],
     "language": "python",
     "metadata": {},
     "outputs": [],
     "prompt_number": 58
    },
    {
     "cell_type": "code",
     "collapsed": false,
     "input": [
      "for i, D in enumerate(Delta_list):\n",
      "    print \"dim(Delta_%i) =\" %i, st.rnd_number_rank(D)\n",
      "    \n",
      "    # failing_vf enth\u00e4lt die ersten beiden VF, deren Lie-Klammer nicht in der Distribution liegen\n",
      "    inv_flag, failing_vf = st.involutivity_test(D, xx)\n",
      "    print \"Delta_%i involutiv? %s\\n\" %(i, inv_flag)"
     ],
     "language": "python",
     "metadata": {},
     "outputs": [
      {
       "output_type": "stream",
       "stream": "stdout",
       "text": [
        "dim(Delta_0) = 2\n",
        "Delta_0 involutiv? True\n"
       ]
      },
      {
       "output_type": "stream",
       "stream": "stdout",
       "text": [
        "\n",
        "dim(Delta_1) = "
       ]
      },
      {
       "output_type": "stream",
       "stream": "stdout",
       "text": [
        "4\n",
        "Delta_1 involutiv? True\n"
       ]
      },
      {
       "output_type": "stream",
       "stream": "stdout",
       "text": [
        "\n",
        "dim(Delta_2) = "
       ]
      },
      {
       "output_type": "stream",
       "stream": "stdout",
       "text": [
        "5\n",
        "Delta_2 involutiv? True\n"
       ]
      },
      {
       "output_type": "stream",
       "stream": "stdout",
       "text": [
        "\n",
        "dim(Delta_3) = "
       ]
      },
      {
       "output_type": "stream",
       "stream": "stdout",
       "text": [
        "6\n",
        "Delta_3 involutiv? True\n"
       ]
      },
      {
       "output_type": "stream",
       "stream": "stdout",
       "text": [
        "\n",
        "dim(Delta_4) = "
       ]
      },
      {
       "output_type": "stream",
       "stream": "stdout",
       "text": [
        "6\n",
        "Delta_4 involutiv? True\n"
       ]
      },
      {
       "output_type": "stream",
       "stream": "stdout",
       "text": [
        "\n",
        "dim(Delta_5) = "
       ]
      },
      {
       "output_type": "stream",
       "stream": "stdout",
       "text": [
        "6\n",
        "Delta_5 involutiv? True\n"
       ]
      },
      {
       "output_type": "stream",
       "stream": "stdout",
       "text": [
        "\n"
       ]
      }
     ],
     "prompt_number": 65
    },
    {
     "cell_type": "markdown",
     "metadata": {},
     "source": [
      "### Fazit:\n",
      "Das System ist also statisch Eingangs-Zustands-Linearisierbar.\n",
      "\n",
      "---\n",
      "\n",
      "\u00dcberpr\u00fcfung: wird durch die Absolutkoordinaten des Pendelschwerpunkts ein in statisch linearisierender Ausgang gebildet (d.h. hat dieser Ausgang vollst\u00e4ndigen relativen Grad?):"
     ]
    },
    {
     "cell_type": "code",
     "collapsed": false,
     "input": [
      "h1, h2 = S3"
     ],
     "language": "python",
     "metadata": {},
     "outputs": [],
     "prompt_number": 70
    },
    {
     "cell_type": "code",
     "collapsed": false,
     "input": [
      "def LgLf(sf, g_idx, f_order):\n",
      "    Lf = st.lie_deriv(sf, f, xx, n=f_order)\n",
      "    res = st.lie_deriv(Lf, G[:, g_idx], xx)\n",
      "    return res.simplify()"
     ],
     "language": "python",
     "metadata": {},
     "outputs": [],
     "prompt_number": 71
    },
    {
     "cell_type": "code",
     "collapsed": false,
     "input": [
      "print LgLf(h1, 1, 0)\n",
      "print LgLf(h1, 1, 1)"
     ],
     "language": "python",
     "metadata": {},
     "outputs": [
      {
       "output_type": "stream",
       "stream": "stdout",
       "text": [
        "0\n",
        "-m2*s3*cos(q2)/(m2 + m3)"
       ]
      },
      {
       "output_type": "stream",
       "stream": "stdout",
       "text": [
        "\n"
       ]
      }
     ],
     "prompt_number": 72
    },
    {
     "cell_type": "code",
     "collapsed": false,
     "input": [
      "print LgLf(h2, 1, 0)\n",
      "print LgLf(h2, 1, 1)"
     ],
     "language": "python",
     "metadata": {},
     "outputs": [
      {
       "output_type": "stream",
       "stream": "stdout",
       "text": [
        "0\n",
        "-s3*sin(q2)\n"
       ]
      }
     ],
     "prompt_number": 69
    },
    {
     "cell_type": "markdown",
     "metadata": {},
     "source": [
      "Das hei\u00dft der Ausgang $(y_1, y_2)^T$ (Pendelschwerpunkt) hat keinen wohldefinierten relativen Grad.\n",
      "\n",
      "---\n",
      "\n",
      "Statdessen: Konstruktion eines linearisierenden Ausgangs nach Isidori, Beweis von Theorem 5.2.3"
     ]
    },
    {
     "cell_type": "code",
     "collapsed": false,
     "input": [
      "# Bestimmung der Dimension \n",
      "[D.srn.rank() for D in Delta_list]"
     ],
     "language": "python",
     "metadata": {},
     "outputs": [
      {
       "latex": [
        "$$\\left [ 2, \\quad 4, \\quad 5, \\quad 6, \\quad 6, \\quad 6\\right ]$$"
       ],
       "metadata": {},
       "output_type": "pyout",
       "png": "[encoded data removed]",
       "prompt_number": 73,
       "text": [
        "[2, 4, 5, 6, 6, 6]"
       ]
      }
     ],
     "prompt_number": 73
    },
    {
     "cell_type": "code",
     "collapsed": false,
     "input": [
      "print Delta_list[3].srn.rank()\n",
      "print Delta_list[2].srn.rank()"
     ],
     "language": "python",
     "metadata": {},
     "outputs": [
      {
       "output_type": "stream",
       "stream": "stdout",
       "text": [
        "6\n",
        "5\n"
       ]
      }
     ],
     "prompt_number": 74
    },
    {
     "cell_type": "markdown",
     "metadata": {},
     "source": [
      "Es gilt also $\\kappa = 4$ (Weil erst $\\Delta_3$ vollen Rang hat)"
     ]
    },
    {
     "cell_type": "code",
     "collapsed": false,
     "input": [
      "D2 = Delta_list[2]"
     ],
     "language": "python",
     "metadata": {},
     "outputs": [],
     "prompt_number": 76
    },
    {
     "cell_type": "code",
     "collapsed": false,
     "input": [
      "W = st.nullspaceMatrix(D2.T).T ##\n",
      "m1 = W.shape[0]"
     ],
     "language": "python",
     "metadata": {},
     "outputs": [
      {
       "latex": [
        "$$\\left[\\begin{matrix}- m_{2} - m_{3} & - m_{2} - m_{3} & m_{3} s_{3} \\cos{\\left (q_{2} \\right )} & 0 & 0 & 0\\end{matrix}\\right]$$"
       ],
       "metadata": {},
       "output_type": "display_data",
       "png": "[encoded data removed]",
       "text": [
        "[-m\u2082 - m\u2083  -m\u2082 - m\u2083  m\u2083\u22c5s\u2083\u22c5cos(q\u2082)  0  0  0]"
       ]
      },
      {
       "output_type": "stream",
       "stream": "stdout",
       "text": [
        "---\n"
       ]
      }
     ],
     "prompt_number": 77
    },
    {
     "cell_type": "code",
     "collapsed": false,
     "input": [
      "import pycartan as pc"
     ],
     "language": "python",
     "metadata": {},
     "outputs": [],
     "prompt_number": 79
    },
    {
     "cell_type": "code",
     "collapsed": false,
     "input": [
      "w1 = pc.DifferentialForm(1, xx, coeff=W[0, :])\n",
      "#w2 = pc.DifferentialForm(1, xx, coeff=W[1, :])"
     ],
     "language": "python",
     "metadata": {},
     "outputs": [],
     "prompt_number": 101
    },
    {
     "cell_type": "code",
     "collapsed": false,
     "input": [
      "print w1.d\n",
      "y1 = w1.integrate() ##"
     ],
     "language": "python",
     "metadata": {},
     "outputs": [
      {
       "output_type": "stream",
       "stream": "stdout",
       "text": [
        "0\n"
       ]
      },
      {
       "latex": [
        "$$m_{3} s_{3} \\sin{\\left (q_{2} \\right )} + p_{1} \\left(- m_{2} - m_{3}\\right) + q_{1} \\left(- m_{2} - m_{3}\\right)$$"
       ],
       "metadata": {},
       "output_type": "display_data",
       "png": "[encoded data removed]",
       "text": [
        "m\u2083\u22c5s\u2083\u22c5sin(q\u2082) + p\u2081\u22c5(-m\u2082 - m\u2083) + q\u2081\u22c5(-m\u2082 - m\u2083)"
       ]
      },
      {
       "output_type": "stream",
       "stream": "stdout",
       "text": [
        "---\n"
       ]
      }
     ],
     "prompt_number": 107
    },
    {
     "cell_type": "code",
     "collapsed": false,
     "input": [
      "print sp.latex(y1)"
     ],
     "language": "python",
     "metadata": {},
     "outputs": [
      {
       "output_type": "stream",
       "stream": "stdout",
       "text": [
        "m_{3} s_{3} \\sin{\\left (q_{2} \\right )} + p_{1} \\left(- m_{2} - m_{3}\\right) + q_{1} \\left(- m_{2} - m_{3}\\right)\n"
       ]
      }
     ],
     "prompt_number": 130
    },
    {
     "cell_type": "code",
     "collapsed": false,
     "input": [
      "print LgLf(y1, 0, 0)\n",
      "print LgLf(y1, 0, 1)\n",
      "print LgLf(y1, 0, 2)\n",
      "print LgLf(y1, 0, 3)\n",
      "print \"---\"\n",
      "print LgLf(y1, 1, 0)\n",
      "print LgLf(y1, 1, 1)\n",
      "print LgLf(y1, 1, 2)\n",
      "print LgLf(y1, 1, 3)"
     ],
     "language": "python",
     "metadata": {},
     "outputs": [
      {
       "output_type": "stream",
       "stream": "stdout",
       "text": [
        "0\n",
        "0\n",
        "0\n",
        "-c\n",
        "---\n",
        "0\n",
        "0\n",
        "0\n",
        "c*m3*s3*cos(q2)/(m2 + m3)"
       ]
      },
      {
       "output_type": "stream",
       "stream": "stdout",
       "text": [
        "\n"
       ]
      }
     ],
     "prompt_number": 117
    },
    {
     "cell_type": "markdown",
     "metadata": {},
     "source": [
      "$y_1$ hat relativen Grad 4.\n",
      "Das hei\u00dft, es reicht $y_2$ als Funktion mit relativem Grad 2 zu w\u00e4hlen z.B. $y_2:=q_2$"
     ]
    },
    {
     "cell_type": "code",
     "collapsed": false,
     "input": [
      "y2 = q2\n",
      "\n",
      "print LgLf(y2, 0, 0)\n",
      "print LgLf(y2, 0, 1)\n",
      "print \"---\"\n",
      "print LgLf(y2, 1, 0)\n",
      "print LgLf(y2, 1, 1)"
     ],
     "language": "python",
     "metadata": {},
     "outputs": [
      {
       "output_type": "stream",
       "stream": "stdout",
       "text": [
        "0\n",
        "1\n",
        "---\n",
        "0\n",
        "0\n"
       ]
      }
     ],
     "prompt_number": 116
    },
    {
     "cell_type": "markdown",
     "metadata": {},
     "source": [
      "Regularit\u00e4t der Matrix \u00fcberpr\u00fcfen:"
     ]
    },
    {
     "cell_type": "code",
     "collapsed": false,
     "input": [
      "R = sp.Matrix([[LgLf(y1, 0, 3), LgLf(y1, 1, 3)], [LgLf(y2, 0, 1), LgLf(y2, 1, 1)]]) ##"
     ],
     "language": "python",
     "metadata": {},
     "outputs": [
      {
       "latex": [
        "$$\\left[\\begin{matrix}- c & \\frac{c m_{3} s_{3}}{m_{2} + m_{3}} \\cos{\\left (q_{2} \\right )}\\\\0 & 1\\end{matrix}\\right]$$"
       ],
       "metadata": {},
       "output_type": "display_data",
       "png": "[encoded data removed]",
       "text": [
        "\u23a1    c\u22c5m\u2083\u22c5s\u2083\u22c5cos(q\u2082)\u23a4\n",
        "\u23a2-c  \u2500\u2500\u2500\u2500\u2500\u2500\u2500\u2500\u2500\u2500\u2500\u2500\u2500\u2500\u2500\u23a5\n",
        "\u23a2        m\u2082 + m\u2083    \u23a5\n",
        "\u23a2                   \u23a5\n",
        "\u23a30          1       \u23a6"
       ]
      },
      {
       "output_type": "stream",
       "stream": "stdout",
       "text": [
        "---\n"
       ]
      }
     ],
     "prompt_number": 118
    },
    {
     "cell_type": "markdown",
     "metadata": {},
     "source": [
      "Notizen: Auch f\u00fcr ein statisch linearisierbares (Mehrgr\u00f6\u00dfen-)System muss ein flacher Ausgang nicht unbedingt vollst\u00e4ndigen relativen Grad haben. Andererseits gibt es immer einen Ausgang mit vollst\u00e4ndigem relativem Grad und der ist automatisch auch ein flacher Ausgang."
     ]
    },
    {
     "cell_type": "code",
     "collapsed": true,
     "input": [
      "print sp.latex(R)"
     ],
     "language": "python",
     "metadata": {},
     "outputs": []
    },
    {
     "cell_type": "code",
     "collapsed": false,
     "input": [],
     "language": "python",
     "metadata": {},
     "outputs": []
    }
   ],
   "metadata": {}
  }
 ]
}