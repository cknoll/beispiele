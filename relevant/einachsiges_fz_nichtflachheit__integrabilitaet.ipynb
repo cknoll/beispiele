{
 "metadata": {
  "name": "",
  "signature": "sha256:02c1a763d3136bea1daebb6765a7adfa4e67b9f03fa7fc1b5c2119ebe40a8827"
 },
 "nbformat": 3,
 "nbformat_minor": 0,
 "worksheets": [
  {
   "cells": [
    {
     "cell_type": "code",
     "collapsed": false,
     "input": [
      "import time\n",
      "print time.ctime()\n",
      "%load_ext displaytools"
     ],
     "language": "python",
     "metadata": {},
     "outputs": [
      {
       "output_type": "stream",
       "stream": "stdout",
       "text": [
        "Wed Jan 27 12:30:21 2016\n"
       ]
      }
     ],
     "prompt_number": 1
    },
    {
     "cell_type": "markdown",
     "metadata": {},
     "source": [
      "\n",
      "**Betrachtetes System:** Ebenes einr\u00e4driges Fahrzeug unter dem Einfluss der Schwerkraft.\n",
      "\n",
      "<img src=\"files/images/unicycle.png\">\n",
      "\n",
      "**Systemanalyse**\n",
      "* Aufstellen der Bewegungsgleichungen\n",
      "* Aufstellen des Tangentialsystems\n",
      "* Angabe einer unimodularen Erg\u00e4nzung der Systemmatrix \n",
      "* Untersuchung der notwendigen Integrabilit\u00e4tsbedingung\n",
      "  * Bestimmung der Anzahl der Koeffizienten in den Differentialformen $\\Xi_{i, k}$\n",
      "  * Auswertung von $\\Xi_{i,k}$ bis f\u00fcr $k=0,1,2$\n",
      "\n",
      "$$\n",
      "%<custom_config>\n",
      "\\newcommand{\\d}{\\mathrm{d}}\n",
      "\\newcommand{\\col}{\\mathrm{col}}\n",
      "\\newcommand{\\bs}{\\boldsymbol}\n",
      "\\newcommand{\\Ddt}{\\left(\\tfrac{d}{dt}\\right)}\n",
      "\\newcommand{\\ddt}{\\tfrac{d}{dt}}\n",
      "%</custom_config>\n",
      "$$"
     ]
    },
    {
     "cell_type": "code",
     "collapsed": false,
     "input": [
      "import sympy as sp\n",
      "from sympy import sin, cos, pi, Matrix\n",
      "from sympy.interactive import printing\n",
      "import model_tools as mt\n",
      "from model_tools import Rz\n",
      "import diffgeopy as pc # perspektivisch: pycartan\n",
      "import symb_tools as st\n",
      "from symb_tools import symbs_to_func, zip0\n",
      "import pickle\n",
      "\n",
      "printing.init_printing()"
     ],
     "language": "python",
     "metadata": {},
     "outputs": [],
     "prompt_number": 2
    },
    {
     "cell_type": "code",
     "collapsed": false,
     "input": [
      "np, nq = 1, 2\n",
      "n = np + nq\n",
      "theta = st.symb_vector(\"p1, q1, q2\") ##:T\n",
      "p1, q1, q2 = theta"
     ],
     "language": "python",
     "metadata": {},
     "outputs": [
      {
       "latex": [
        "theta.T := $$\\left[\\begin{matrix}p_{1} & q_{1} & q_{2}\\end{matrix}\\right]$$"
       ],
       "metadata": {},
       "output_type": "display_data",
       "png": "[encoded data removed]",
       "text": [
        "theta.T := [p\u2081  q\u2081  q\u2082]"
       ]
      },
      {
       "output_type": "stream",
       "stream": "stdout",
       "text": [
        "---\n"
       ]
      }
     ],
     "prompt_number": 3
    },
    {
     "cell_type": "markdown",
     "metadata": {},
     "source": [
      "$p_1$: Abrollen des Rades gegen\u00fcber der Umgebung (passiv)<br>\n",
      "$q_1$: Relativwinkel: Rad-Glied 1 (akitv)<br>\n",
      "$q_2$: Relativwinkel: Glied 1-Glied 2 (akitv)<br>\n"
     ]
    },
    {
     "cell_type": "code",
     "collapsed": false,
     "input": [
      "params = sp.symbols('l0, l1, s1, s2, J0, J1, J2, m0, m1, m2, g')\n",
      "st.make_global(params, 1)\n",
      "\n",
      "QQ = sp.symbols(\"Q0, Q1, Q2\")\n",
      "Q0, Q1, Q2 = QQ"
     ],
     "language": "python",
     "metadata": {},
     "outputs": [],
     "prompt_number": 4
    },
    {
     "cell_type": "code",
     "collapsed": false,
     "input": [
      "# Winkelgeschwindigkeiten\n",
      "mu = st.perform_time_derivative(theta, theta)\n",
      "p1d, q1d, q2d = mu\n",
      "\n",
      "# Winkelbeschleunigungen\n",
      "mud = st.perform_time_derivative(mu, theta)"
     ],
     "language": "python",
     "metadata": {},
     "outputs": [],
     "prompt_number": 5
    },
    {
     "cell_type": "code",
     "collapsed": false,
     "input": [
      "# Geometrie: (Einheitsvektoren)\n",
      "ex = Matrix([1,0])\n",
      "ey = Matrix([0,1])\n",
      "\n",
      "M0 = Matrix([-l0*p1, l0]) # Mittelpunkt des Rades\n",
      "\n",
      "\n",
      "S1 = M0 + Rz(p1+q1)*ey*s1\n",
      "S2 = M0 + Rz(p1+q1)*ey*l1+Rz(p1+q1+q2)*ey*s2\n",
      "\n",
      "M0d = st.perform_time_derivative(M0, theta)\n",
      "S1d = st.perform_time_derivative(S1, theta)\n",
      "S2d = st.perform_time_derivative(S2, theta)"
     ],
     "language": "python",
     "metadata": {},
     "outputs": [],
     "prompt_number": 6
    },
    {
     "cell_type": "code",
     "collapsed": false,
     "input": [
      "# Energie\n",
      "T_rot = ( J0*p1d**2 + J1*(p1d+q1d)**2 + J2*(p1d+ q1d+q2d)**2 )/2\n",
      "T_trans = ( m0*M0d.T*M0d  +  m1*S1d.T*S1d  +  m2*S2d.T*S2d )/2\n",
      "\n",
      "T = T_rot + T_trans[0]\n",
      "\n",
      "V = m1*g*S1[1] + m2*g*S2[1] "
     ],
     "language": "python",
     "metadata": {},
     "outputs": [],
     "prompt_number": 7
    },
    {
     "cell_type": "code",
     "collapsed": false,
     "input": [
      "mod = mt.generate_symbolic_model(T, V, theta, [0, Q1, Q2])"
     ],
     "language": "python",
     "metadata": {},
     "outputs": [],
     "prompt_number": 8
    },
    {
     "cell_type": "code",
     "collapsed": false,
     "input": [
      "# Die ersten np-Zeilen entsprechen der eingangsfreien Systemgleichung\n",
      "\n",
      "eq = mod.eqns[:np, :]"
     ],
     "language": "python",
     "metadata": {},
     "outputs": [],
     "prompt_number": 9
    },
    {
     "cell_type": "markdown",
     "metadata": {},
     "source": [
      "Die unimodulare Erg\u00e4nzung wird aus [Franke2014] \u00fcbernommen. Dort sind die Bewegungsgleichungen in absoluten Koordinaten $\\varphi_0, \\varphi_1, \\varphi_2$ (bzw. gleichwertig: $\\phi_0, \\phi_1, \\phi_2$) formuliert.\n",
      "Zusammenhang: $\\phi_0 := p_1$, $\\phi_1 := p_1 + q_1$ und $\\phi_2 := p_1 + q_1 + q_2$\n",
      "\n",
      "\n",
      "$\\bs \\theta = \\boldsymbol T_a \\boldsymbol \\phi.$\n",
      "\n"
     ]
    },
    {
     "cell_type": "code",
     "collapsed": false,
     "input": [
      "# Transformationsmatrix\n",
      "Ta = sp.Matrix([[1, 0, 0], [1, 1, 0], [1, 1, 1]]) ##\n",
      "Tainv = Ta.inv() ##"
     ],
     "language": "python",
     "metadata": {},
     "outputs": [
      {
       "latex": [
        "$$\\left[\\begin{matrix}1 & 0 & 0\\\\1 & 1 & 0\\\\1 & 1 & 1\\end{matrix}\\right]$$"
       ],
       "metadata": {},
       "output_type": "display_data",
       "png": "[encoded data removed]",
       "text": [
        "\u23a11  0  0\u23a4\n",
        "\u23a2       \u23a5\n",
        "\u23a21  1  0\u23a5\n",
        "\u23a2       \u23a5\n",
        "\u23a31  1  1\u23a6"
       ]
      },
      {
       "output_type": "stream",
       "stream": "stdout",
       "text": [
        "---\n"
       ]
      },
      {
       "latex": [
        "$$\\left[\\begin{matrix}1 & 0 & 0\\\\-1 & 1 & 0\\\\0 & -1 & 1\\end{matrix}\\right]$$"
       ],
       "metadata": {},
       "output_type": "display_data",
       "png": "[encoded data removed]",
       "text": [
        "\u23a11   0   0\u23a4\n",
        "\u23a2         \u23a5\n",
        "\u23a2-1  1   0\u23a5\n",
        "\u23a2         \u23a5\n",
        "\u23a30   -1  1\u23a6"
       ]
      },
      {
       "output_type": "stream",
       "stream": "stdout",
       "text": [
        "---\n"
       ]
      }
     ],
     "prompt_number": 10
    },
    {
     "cell_type": "code",
     "collapsed": false,
     "input": [
      "phi0, phi1, phi2 = pphi = st.symb_vector('phi0, phi1, phi2')\n",
      "pphi ##:T\n",
      "pphidot = st.perform_time_derivative(pphi, pphi) ##:T\n",
      "\n",
      "# h\u00f6here Ableitungen (werden sp\u00e4ter noch gebraucht)\n",
      "pphiddot = st.perform_time_derivative(pphidot, pphi)\n",
      "pphidddot = st.perform_time_derivative(pphiddot, pphi)"
     ],
     "language": "python",
     "metadata": {},
     "outputs": [
      {
       "latex": [
        "(pphi ).T := $$\\left[\\begin{matrix}\\phi_{0} & \\phi_{1} & \\phi_{2}\\end{matrix}\\right]$$"
       ],
       "metadata": {},
       "output_type": "display_data",
       "png": "[encoded data removed]",
       "text": [
        "(pphi ).T := [\u03c6\u2080  \u03c6\u2081  \u03c6\u2082]"
       ]
      },
      {
       "output_type": "stream",
       "stream": "stdout",
       "text": [
        "___\n"
       ]
      },
      {
       "latex": [
        "pphidot.T := $$\\left[\\begin{matrix}\\dot{\\phi}_{0} & \\dot{\\phi}_{1} & \\dot{\\phi}_{2}\\end{matrix}\\right]$$"
       ],
       "metadata": {},
       "output_type": "display_data",
       "png": "[encoded data removed]",
       "text": [
        "pphidot.T := [\u03c6\u0307\u2080  \u03c6\u0307\u2081  \u03c6\u0307\u2082]"
       ]
      },
      {
       "output_type": "stream",
       "stream": "stdout",
       "text": [
        "---\n"
       ]
      }
     ],
     "prompt_number": 11
    },
    {
     "cell_type": "code",
     "collapsed": false,
     "input": [
      "eq2 = eq.subs(zip(theta, Tainv*pphi) + zip(mu, Tainv*pphidot) + zip(mud, Tainv*pphiddot))\n",
      "eq2.simplify()"
     ],
     "language": "python",
     "metadata": {},
     "outputs": [],
     "prompt_number": 12
    },
    {
     "cell_type": "code",
     "collapsed": false,
     "input": [
      "printing.init_printing(0)\n",
      "\n",
      "P0 = eq2.jacobian(pphi) ##\n",
      "P1 = eq2.jacobian(pphidot) ##\n",
      "P2 = eq2.jacobian(pphiddot) ##\n",
      "\n",
      "printing.init_printing(1)"
     ],
     "language": "python",
     "metadata": {},
     "outputs": [
      {
       "metadata": {},
       "output_type": "display_data",
       "text": [
        "Matrix([[0, -g*l1*m2*cos(phi1) - g*m1*s1*cos(phi1) - l0*l1*m2*phiddot0*sin(phi1) - l0*l1*m2*phiddot1*sin(phi1) - l0*l1*m2*phidot1**2*cos(phi1) - l0*m1*phiddot0*s1*sin(phi1) - l0*m1*phiddot1*s1*sin(phi1) - l0*m1*phidot1**2*s1*cos(phi1) - l1*m2*phiddot1*s2*sin(phi1 - phi2) - l1*m2*phiddot2*s2*sin(phi1 - phi2) - l1*m2*phidot1**2*s2*cos(phi1 - phi2) + l1*m2*phidot2**2*s2*cos(phi1 - phi2), -g*m2*s2*cos(phi2) - l0*m2*phiddot0*s2*sin(phi2) - l0*m2*phiddot2*s2*sin(phi2) - l0*m2*phidot2**2*s2*cos(phi2) + l1*m2*phiddot1*s2*sin(phi1 - phi2) + l1*m2*phiddot2*s2*sin(phi1 - phi2) + l1*m2*phidot1**2*s2*cos(phi1 - phi2) - l1*m2*phidot2**2*s2*cos(phi1 - phi2)]])"
       ]
      },
      {
       "output_type": "stream",
       "stream": "stdout",
       "text": [
        "---\n"
       ]
      },
      {
       "metadata": {},
       "output_type": "display_data",
       "text": [
        "Matrix([[0, -2*l0*l1*m2*phidot1*sin(phi1) - 2*l0*m1*phidot1*s1*sin(phi1) - 2*l1*m2*phidot1*s2*sin(phi1 - phi2), -2*l0*m2*phidot2*s2*sin(phi2) + 2*l1*m2*phidot2*s2*sin(phi1 - phi2)]])"
       ]
      },
      {
       "output_type": "stream",
       "stream": "stdout",
       "text": [
        "---\n"
       ]
      },
      {
       "metadata": {},
       "output_type": "display_data",
       "text": [
        "Matrix([[J0 + l0**2*m0 + l0**2*m1 + l0**2*m2 + l0*l1*m2*cos(phi1) + l0*m1*s1*cos(phi1) + l0*m2*s2*cos(phi2), J1 + l0*l1*m2*cos(phi1) + l0*m1*s1*cos(phi1) + l1**2*m2 + l1*m2*s2*cos(phi1 - phi2) + m1*s1**2, J2 + l0*m2*s2*cos(phi2) + l1*m2*s2*cos(phi1 - phi2) + m2*s2**2]])"
       ]
      },
      {
       "output_type": "stream",
       "stream": "stdout",
       "text": [
        "---\n"
       ]
      }
     ],
     "prompt_number": 13
    },
    {
     "cell_type": "markdown",
     "metadata": {},
     "source": [
      "---\n",
      "Nun werden f\u00fcr die entsprechenden Eintr\u00e4ge der Systemmatrix $P(\\tfrac{d}{dt})$ Abk\u00fcrzungen eingef\u00fchrt."
     ]
    },
    {
     "cell_type": "code",
     "collapsed": false,
     "input": [
      "a0, a1, a2, b0, b1, b2, c0, c1, c2 = abc = sp.symbols(\"a0, a1, a2, b0, b1, b2, c0, c1, c2\")\n",
      "\n",
      "P0s = st.symb_vector('a0, b0, c0').T ##:\n",
      "P1s = st.symb_vector('a1, b1, c1').T ##:\n",
      "P2s = st.symb_vector('a2, b2, c2').T ##:\n",
      "\n",
      "# Datenstruktur f\u00fcr die R\u00fccksubstitution der Platzhalter-Symbole (a,b,c)\n",
      "replm_abc = sp.Matrix(zip(P0s, P0) + zip(P1s, P1) + zip(P2s, P2)) ##"
     ],
     "language": "python",
     "metadata": {},
     "outputs": [
      {
       "latex": [
        "P0s := $$\\left[\\begin{matrix}a_{0} & b_{0} & c_{0}\\end{matrix}\\right]$$"
       ],
       "metadata": {},
       "output_type": "display_data",
       "png": "[encoded data removed]",
       "text": [
        "P0s := [a\u2080  b\u2080  c\u2080]"
       ]
      },
      {
       "output_type": "stream",
       "stream": "stdout",
       "text": [
        "---\n"
       ]
      },
      {
       "latex": [
        "P1s := $$\\left[\\begin{matrix}a_{1} & b_{1} & c_{1}\\end{matrix}\\right]$$"
       ],
       "metadata": {},
       "output_type": "display_data",
       "png": "[encoded data removed]",
       "text": [
        "P1s := [a\u2081  b\u2081  c\u2081]"
       ]
      },
      {
       "output_type": "stream",
       "stream": "stdout",
       "text": [
        "---\n"
       ]
      },
      {
       "latex": [
        "P2s := $$\\left[\\begin{matrix}a_{2} & b_{2} & c_{2}\\end{matrix}\\right]$$"
       ],
       "metadata": {},
       "output_type": "display_data",
       "png": "[encoded data removed]",
       "text": [
        "P2s := [a\u2082  b\u2082  c\u2082]"
       ]
      },
      {
       "output_type": "stream",
       "stream": "stdout",
       "text": [
        "---\n"
       ]
      },
      {
       "latex": [
        "$$\\left[\\begin{matrix}a_{0} & 0\\\\b_{0} & - g l_{1} m_{2} \\cos{\\left (\\phi_{1} \\right )} - g m_{1} s_{1} \\cos{\\left (\\phi_{1} \\right )} - l_{0} l_{1} m_{2} \\ddot{\\phi}_{0} \\sin{\\left (\\phi_{1} \\right )} - l_{0} l_{1} m_{2} \\ddot{\\phi}_{1} \\sin{\\left (\\phi_{1} \\right )} - l_{0} l_{1} m_{2} \\dot{\\phi}_{1}^{2} \\cos{\\left (\\phi_{1} \\right )} - l_{0} m_{1} \\ddot{\\phi}_{0} s_{1} \\sin{\\left (\\phi_{1} \\right )} - l_{0} m_{1} \\ddot{\\phi}_{1} s_{1} \\sin{\\left (\\phi_{1} \\right )} - l_{0} m_{1} \\dot{\\phi}_{1}^{2} s_{1} \\cos{\\left (\\phi_{1} \\right )} - l_{1} m_{2} \\ddot{\\phi}_{1} s_{2} \\sin{\\left (\\phi_{1} - \\phi_{2} \\right )} - l_{1} m_{2} \\ddot{\\phi}_{2} s_{2} \\sin{\\left (\\phi_{1} - \\phi_{2} \\right )} - l_{1} m_{2} \\dot{\\phi}_{1}^{2} s_{2} \\cos{\\left (\\phi_{1} - \\phi_{2} \\right )} + l_{1} m_{2} \\dot{\\phi}_{2}^{2} s_{2} \\cos{\\left (\\phi_{1} - \\phi_{2} \\right )}\\\\c_{0} & - g m_{2} s_{2} \\cos{\\left (\\phi_{2} \\right )} - l_{0} m_{2} \\ddot{\\phi}_{0} s_{2} \\sin{\\left (\\phi_{2} \\right )} - l_{0} m_{2} \\ddot{\\phi}_{2} s_{2} \\sin{\\left (\\phi_{2} \\right )} - l_{0} m_{2} \\dot{\\phi}_{2}^{2} s_{2} \\cos{\\left (\\phi_{2} \\right )} + l_{1} m_{2} \\ddot{\\phi}_{1} s_{2} \\sin{\\left (\\phi_{1} - \\phi_{2} \\right )} + l_{1} m_{2} \\ddot{\\phi}_{2} s_{2} \\sin{\\left (\\phi_{1} - \\phi_{2} \\right )} + l_{1} m_{2} \\dot{\\phi}_{1}^{2} s_{2} \\cos{\\left (\\phi_{1} - \\phi_{2} \\right )} - l_{1} m_{2} \\dot{\\phi}_{2}^{2} s_{2} \\cos{\\left (\\phi_{1} - \\phi_{2} \\right )}\\\\a_{1} & 0\\\\b_{1} & - 2 l_{0} l_{1} m_{2} \\dot{\\phi}_{1} \\sin{\\left (\\phi_{1} \\right )} - 2 l_{0} m_{1} \\dot{\\phi}_{1} s_{1} \\sin{\\left (\\phi_{1} \\right )} - 2 l_{1} m_{2} \\dot{\\phi}_{1} s_{2} \\sin{\\left (\\phi_{1} - \\phi_{2} \\right )}\\\\c_{1} & - 2 l_{0} m_{2} \\dot{\\phi}_{2} s_{2} \\sin{\\left (\\phi_{2} \\right )} + 2 l_{1} m_{2} \\dot{\\phi}_{2} s_{2} \\sin{\\left (\\phi_{1} - \\phi_{2} \\right )}\\\\a_{2} & J_{0} + l_{0}^{2} m_{0} + l_{0}^{2} m_{1} + l_{0}^{2} m_{2} + l_{0} l_{1} m_{2} \\cos{\\left (\\phi_{1} \\right )} + l_{0} m_{1} s_{1} \\cos{\\left (\\phi_{1} \\right )} + l_{0} m_{2} s_{2} \\cos{\\left (\\phi_{2} \\right )}\\\\b_{2} & J_{1} + l_{0} l_{1} m_{2} \\cos{\\left (\\phi_{1} \\right )} + l_{0} m_{1} s_{1} \\cos{\\left (\\phi_{1} \\right )} + l_{1}^{2} m_{2} + l_{1} m_{2} s_{2} \\cos{\\left (\\phi_{1} - \\phi_{2} \\right )} + m_{1} s_{1}^{2}\\\\c_{2} & J_{2} + l_{0} m_{2} s_{2} \\cos{\\left (\\phi_{2} \\right )} + l_{1} m_{2} s_{2} \\cos{\\left (\\phi_{1} - \\phi_{2} \\right )} + m_{2} s_{2}^{2}\\end{matrix}\\right]$$"
       ],
       "metadata": {},
       "output_type": "display_data",
       "png": "[encoded data removed]",
       "text": [
        "\u23a1a\u2080                                                                           \n",
        "\u23a2                                                                             \n",
        "\u23a2                                                                             \n",
        "\u23a2b\u2080  -g\u22c5l\u2081\u22c5m\u2082\u22c5cos(\u03c6\u2081) - g\u22c5m\u2081\u22c5s\u2081\u22c5cos(\u03c6\u2081) - l\u2080\u22c5l\u2081\u22c5m\u2082\u22c5\u03c6\u0308\u2080\u22c5sin(\u03c6\u2081) - l\u2080\u22c5l\u2081\u22c5m\u2082\u22c5\u03c6\u0308\u2081\u22c5\n",
        "\u23a2                                                                             \n",
        "\u23a2                                                                             \n",
        "\u23a2c\u2080                                              -g\u22c5m\u2082\u22c5s\u2082\u22c5cos(\u03c6\u2082) - l\u2080\u22c5m\u2082\u22c5\u03c6\u0308\u2080\u22c5\n",
        "\u23a2                                                                             \n",
        "\u23a2a\u2081                                                                           \n",
        "\u23a2                                                                             \n",
        "\u23a2b\u2081                                                                           \n",
        "\u23a2                                                                             \n",
        "\u23a2c\u2081                                                                           \n",
        "\u23a2                                                                             \n",
        "\u23a2                                                                             \n",
        "\u23a2a\u2082                                                                           \n",
        "\u23a2                                                                             \n",
        "\u23a2                                                                             \n",
        "\u23a2b\u2082                                                                           \n",
        "\u23a2                                                                             \n",
        "\u23a2                                                                             \n",
        "\u23a3c\u2082                                                                           \n",
        "\n",
        "                                                                      0       \n",
        "                                                                              \n",
        "                      2                                                       \n",
        "sin(\u03c6\u2081) - l\u2080\u22c5l\u2081\u22c5m\u2082\u22c5\u03c6\u0307\u2081 \u22c5cos(\u03c6\u2081) - l\u2080\u22c5m\u2081\u22c5\u03c6\u0308\u2080\u22c5s\u2081\u22c5sin(\u03c6\u2081) - l\u2080\u22c5m\u2081\u22c5\u03c6\u0308\u2081\u22c5s\u2081\u22c5sin(\u03c6\u2081) \n",
        "                                                                              \n",
        "                                             2                                \n",
        "s\u2082\u22c5sin(\u03c6\u2082) - l\u2080\u22c5m\u2082\u22c5\u03c6\u0308\u2082\u22c5s\u2082\u22c5sin(\u03c6\u2082) - l\u2080\u22c5m\u2082\u22c5\u03c6\u0307\u2082 \u22c5s\u2082\u22c5cos(\u03c6\u2082) + l\u2081\u22c5m\u2082\u22c5\u03c6\u0308\u2081\u22c5s\u2082\u22c5sin(\u03c6\n",
        "                                                                              \n",
        "                                                                      0       \n",
        "                                                                              \n",
        "                                -2\u22c5l\u2080\u22c5l\u2081\u22c5m\u2082\u22c5\u03c6\u0307\u2081\u22c5sin(\u03c6\u2081) - 2\u22c5l\u2080\u22c5m\u2081\u22c5\u03c6\u0307\u2081\u22c5s\u2081\u22c5sin(\u03c6\n",
        "                                                                              \n",
        "                                            -2\u22c5l\u2080\u22c5m\u2082\u22c5\u03c6\u0307\u2082\u22c5s\u2082\u22c5sin(\u03c6\u2082) + 2\u22c5l\u2081\u22c5m\u2082\u22c5\n",
        "                                                                              \n",
        "                                   2        2        2                        \n",
        "                            J\u2080 + l\u2080 \u22c5m\u2080 + l\u2080 \u22c5m\u2081 + l\u2080 \u22c5m\u2082 + l\u2080\u22c5l\u2081\u22c5m\u2082\u22c5cos(\u03c6\u2081) +\n",
        "                                                                              \n",
        "                                                                           2  \n",
        "                              J\u2081 + l\u2080\u22c5l\u2081\u22c5m\u2082\u22c5cos(\u03c6\u2081) + l\u2080\u22c5m\u2081\u22c5s\u2081\u22c5cos(\u03c6\u2081) + l\u2081 \u22c5m\n",
        "                                                                              \n",
        "                                                                              \n",
        "                                            J\u2082 + l\u2080\u22c5m\u2082\u22c5s\u2082\u22c5cos(\u03c6\u2082) + l\u2081\u22c5m\u2082\u22c5s\u2082\u22c5c\n",
        "\n",
        "                                                                              \n",
        "                                                                              \n",
        "           2                                                                  \n",
        "- l\u2080\u22c5m\u2081\u22c5\u03c6\u0307\u2081 \u22c5s\u2081\u22c5cos(\u03c6\u2081) - l\u2081\u22c5m\u2082\u22c5\u03c6\u0308\u2081\u22c5s\u2082\u22c5sin(\u03c6\u2081 - \u03c6\u2082) - l\u2081\u22c5m\u2082\u22c5\u03c6\u0308\u2082\u22c5s\u2082\u22c5sin(\u03c6\u2081 - \u03c6\u2082\n",
        "                                                                              \n",
        "                                               2                            2 \n",
        "\u2081 - \u03c6\u2082) + l\u2081\u22c5m\u2082\u22c5\u03c6\u0308\u2082\u22c5s\u2082\u22c5sin(\u03c6\u2081 - \u03c6\u2082) + l\u2081\u22c5m\u2082\u22c5\u03c6\u0307\u2081 \u22c5s\u2082\u22c5cos(\u03c6\u2081 - \u03c6\u2082) - l\u2081\u22c5m\u2082\u22c5\u03c6\u0307\u2082 \u22c5\n",
        "                                                                              \n",
        "                                                                              \n",
        "                                                                              \n",
        "\u2081) - 2\u22c5l\u2081\u22c5m\u2082\u22c5\u03c6\u0307\u2081\u22c5s\u2082\u22c5sin(\u03c6\u2081 - \u03c6\u2082)                                              \n",
        "                                                                              \n",
        "\u03c6\u0307\u2082\u22c5s\u2082\u22c5sin(\u03c6\u2081 - \u03c6\u2082)                                                           \n",
        "                                                                              \n",
        "                                                                              \n",
        " l\u2080\u22c5m\u2081\u22c5s\u2081\u22c5cos(\u03c6\u2081) + l\u2080\u22c5m\u2082\u22c5s\u2082\u22c5cos(\u03c6\u2082)                                          \n",
        "                                                                              \n",
        "                                 2                                            \n",
        "\u2082 + l\u2081\u22c5m\u2082\u22c5s\u2082\u22c5cos(\u03c6\u2081 - \u03c6\u2082) + m\u2081\u22c5s\u2081                                             \n",
        "                                                                              \n",
        "                   2                                                          \n",
        "os(\u03c6\u2081 - \u03c6\u2082) + m\u2082\u22c5s\u2082                                                           \n",
        "\n",
        "                                                           \u23a4\n",
        "                                                           \u23a5\n",
        "             2                            2                \u23a5\n",
        ") - l\u2081\u22c5m\u2082\u22c5\u03c6\u0307\u2081 \u22c5s\u2082\u22c5cos(\u03c6\u2081 - \u03c6\u2082) + l\u2081\u22c5m\u2082\u22c5\u03c6\u0307\u2082 \u22c5s\u2082\u22c5cos(\u03c6\u2081 - \u03c6\u2082)\u23a5\n",
        "                                                           \u23a5\n",
        "                                                           \u23a5\n",
        "s\u2082\u22c5cos(\u03c6\u2081 - \u03c6\u2082)                                            \u23a5\n",
        "                                                           \u23a5\n",
        "                                                           \u23a5\n",
        "                                                           \u23a5\n",
        "                                                           \u23a5\n",
        "                                                           \u23a5\n",
        "                                                           \u23a5\n",
        "                                                           \u23a5\n",
        "                                                           \u23a5\n",
        "                                                           \u23a5\n",
        "                                                           \u23a5\n",
        "                                                           \u23a5\n",
        "                                                           \u23a5\n",
        "                                                           \u23a5\n",
        "                                                           \u23a5\n",
        "                                                           \u23a6"
       ]
      },
      {
       "output_type": "stream",
       "stream": "stdout",
       "text": [
        "---\n"
       ]
      }
     ],
     "prompt_number": 14
    },
    {
     "cell_type": "code",
     "collapsed": false,
     "input": [
      "# ... und deren Ableitungen\n",
      "replm_abc_dot = st.perform_time_derivative(replm_abc, abc + tuple(pphi))"
     ],
     "language": "python",
     "metadata": {},
     "outputs": [],
     "prompt_number": 15
    },
    {
     "cell_type": "code",
     "collapsed": false,
     "input": [
      "# Ableitungssymbole in den Namensraum einf\u00fcgen\n",
      "st.make_global(replm_abc_dot[:, 0], 1)\n",
      "\n",
      "# alle Substitutionen in einer Liste vereinen\n",
      "replm = replm_abc.tolist() + replm_abc_dot.tolist()"
     ],
     "language": "python",
     "metadata": {},
     "outputs": [],
     "prompt_number": 16
    },
    {
     "cell_type": "markdown",
     "metadata": {},
     "source": [
      "Unimodulare Erweiterung entsprechend [Franke2014, S70] ) festlegen.\n",
      "Auf Pr\u00fcfung der Unimodularit\u00e4t der Gesamtmatrix\n",
      "$\\left(\\begin{smallmatrix}\n",
      "\\bs P\\\\\n",
      "\\bs Q\n",
      "\\end{smallmatrix} \\right)$\n",
      "wird hier verzichtet."
     ]
    },
    {
     "cell_type": "code",
     "collapsed": false,
     "input": [
      "Q1 = sp.Matrix([[ a2, b2, c2]]) # entspricht P2s\n",
      "Q2 = sp.Matrix([-2*c2*adot2 - a2*c1, c2*b1 - c2*2*bdot2 - b2*c1, -2*c2*cdot2]).T\n",
      "Q = st.row_stack(Q1, Q2) ##"
     ],
     "language": "python",
     "metadata": {},
     "outputs": [
      {
       "latex": [
        "$$\\left[\\begin{matrix}a_{2} & b_{2} & c_{2}\\\\- a_{2} c_{1} - 2 \\dot{a}_{2} c_{2} & b_{1} c_{2} - b_{2} c_{1} - 2 \\dot{b}_{2} c_{2} & - 2 c_{2} \\dot{c}_{2}\\end{matrix}\\right]$$"
       ],
       "metadata": {},
       "output_type": "display_data",
       "png": "[encoded data removed]",
       "text": [
        "\u23a1       a\u2082                     b\u2082                c\u2082    \u23a4\n",
        "\u23a2                                                      \u23a5\n",
        "\u23a3-a\u2082\u22c5c\u2081 - 2\u22c5a\u0307\u2082\u22c5c\u2082  b\u2081\u22c5c\u2082 - b\u2082\u22c5c\u2081 - 2\u22c5b\u0307\u2082\u22c5c\u2082  -2\u22c5c\u2082\u22c5c\u0307\u2082\u23a6"
       ]
      },
      {
       "output_type": "stream",
       "stream": "stdout",
       "text": [
        "---\n"
       ]
      }
     ],
     "prompt_number": 17
    },
    {
     "cell_type": "code",
     "collapsed": false,
     "input": [
      "# Basis-Systemgr\u00f6\u00dfen\n",
      "\n",
      "ppx = st.row_stack(pphi, pphidot, pphiddot, pphidddot)\n",
      "\n",
      "# Koeffizienten-Listen bez\u00fcglich aller Basis-Systemgr\u00f6\u00dfen f\u00fcr die 1-Formen\n",
      "Q1_ = st.col_stack(Q1, sp.zeros(1, n*3)).subs(replm)\n",
      "Q2_ = st.col_stack(Q2, sp.zeros(1, n*3)).subs(replm)\n",
      "P_ = st.col_stack(P0, P1, P2, sp.zeros(1, n) ).subs(replm)\n",
      "\n",
      "# Erstellung der 1-Formen\n",
      "w1 = pc.DifferentialForm(1, ppx, coeff=Q1_) ##:\n",
      "w2 = pc.DifferentialForm(1, ppx, coeff=Q2_) ##:\n",
      "dF = pc.DifferentialForm(1, ppx, coeff=P_) ##:"
     ],
     "language": "python",
     "metadata": {},
     "outputs": [
      {
       "metadata": {},
       "output_type": "display_data",
       "text": [
        "w1 := (J0 + l0**2*m0 + l0**2*m1 + l0**2*m2 + l0*l1*m2*cos(phi1) + l0*m1*s1*cos(phi1) + l0*m2*s2*cos(phi2))dphi0  +  (J1 + l0*l1*m2*cos(phi1) + l0*m1*s1*cos(phi1) + l1**2*m2 + l1*m2*s2*cos(phi1 - phi2) + m1*s1**2)dphi1  +  (J2 + l0*m2*s2*cos(phi2) + l1*m2*s2*cos(phi1 - phi2) + m2*s2**2)dphi2"
       ]
      },
      {
       "output_type": "stream",
       "stream": "stdout",
       "text": [
        "---\n"
       ]
      },
      {
       "metadata": {},
       "output_type": "display_data",
       "text": [
        "w2 := (-(-2*l0*m2*phidot2*s2*sin(phi2) + 2*l1*m2*phidot2*s2*sin(phi1 - phi2))*(J0 + l0**2*m0 + l0**2*m1 + l0**2*m2 + l0*l1*m2*cos(phi1) + l0*m1*s1*cos(phi1) + l0*m2*s2*cos(phi2)) - 2*(-l0*l1*m2*phidot1*sin(phi1) - l0*m1*phidot1*s1*sin(phi1) - l0*m2*phidot2*s2*sin(phi2))*(J2 + l0*m2*s2*cos(phi2) + l1*m2*s2*cos(phi1 - phi2) + m2*s2**2))dphi0  +  (-(-2*l0*m2*phidot2*s2*sin(phi2) + 2*l1*m2*phidot2*s2*sin(phi1 - phi2))*(J1 + l0*l1*m2*cos(phi1) + l0*m1*s1*cos(phi1) + l1**2*m2 + l1*m2*s2*cos(phi1 - phi2) + m1*s1**2) + (-2*l0*l1*m2*phidot1*sin(phi1) - 2*l0*m1*phidot1*s1*sin(phi1) - 2*l1*m2*phidot1*s2*sin(phi1 - phi2))*(J2 + l0*m2*s2*cos(phi2) + l1*m2*s2*cos(phi1 - phi2) + m2*s2**2) - 2*(-l0*l1*m2*phidot1*sin(phi1) - l0*m1*phidot1*s1*sin(phi1) - l1*m2*s2*(phidot1 - phidot2)*sin(phi1 - phi2))*(J2 + l0*m2*s2*cos(phi2) + l1*m2*s2*cos(phi1 - phi2) + m2*s2**2))dphi1  +  (-2*(-l0*m2*phidot2*s2*sin(phi2) - l1*m2*s2*(phidot1 - phidot2)*sin(phi1 - phi2))*(J2 + l0*m2*s2*cos(phi2) + l1*m2*s2*cos(phi1 - phi2) + m2*s2**2))dphi2"
       ]
      },
      {
       "output_type": "stream",
       "stream": "stdout",
       "text": [
        "---\n"
       ]
      },
      {
       "metadata": {},
       "output_type": "display_data",
       "text": [
        "dF := (-g*l1*m2*cos(phi1) - g*m1*s1*cos(phi1) - l0*l1*m2*phiddot0*sin(phi1) - l0*l1*m2*phiddot1*sin(phi1) - l0*l1*m2*phidot1**2*cos(phi1) - l0*m1*phiddot0*s1*sin(phi1) - l0*m1*phiddot1*s1*sin(phi1) - l0*m1*phidot1**2*s1*cos(phi1) - l1*m2*phiddot1*s2*sin(phi1 - phi2) - l1*m2*phiddot2*s2*sin(phi1 - phi2) - l1*m2*phidot1**2*s2*cos(phi1 - phi2) + l1*m2*phidot2**2*s2*cos(phi1 - phi2))dphi1  +  (-g*m2*s2*cos(phi2) - l0*m2*phiddot0*s2*sin(phi2) - l0*m2*phiddot2*s2*sin(phi2) - l0*m2*phidot2**2*s2*cos(phi2) + l1*m2*phiddot1*s2*sin(phi1 - phi2) + l1*m2*phiddot2*s2*sin(phi1 - phi2) + l1*m2*phidot1**2*s2*cos(phi1 - phi2) - l1*m2*phidot2**2*s2*cos(phi1 - phi2))dphi2  +  (-2*l0*l1*m2*phidot1*sin(phi1) - 2*l0*m1*phidot1*s1*sin(phi1) - 2*l1*m2*phidot1*s2*sin(phi1 - phi2))dphidot1  +  (-2*l0*m2*phidot2*s2*sin(phi2) + 2*l1*m2*phidot2*s2*sin(phi1 - phi2))dphidot2  +  (J0 + l0**2*m0 + l0**2*m1 + l0**2*m2 + l0*l1*m2*cos(phi1) + l0*m1*s1*cos(phi1) + l0*m2*s2*cos(phi2))dphiddot0  +  (J1 + l0*l1*m2*cos(phi1) + l0*m1*s1*cos(phi1) + l1**2*m2 + l1*m2*s2*cos(phi1 - phi2) + m1*s1**2)dphiddot1  +  (J2 + l0*m2*s2*cos(phi2) + l1*m2*s2*cos(phi1 - phi2) + m2*s2**2)dphiddot2"
       ]
      },
      {
       "output_type": "stream",
       "stream": "stdout",
       "text": [
        "---\n"
       ]
      }
     ],
     "prompt_number": 18
    },
    {
     "cell_type": "markdown",
     "metadata": {},
     "source": [
      "Zum Vergleich: Reproduktion der Ergebnisse von [Franke2014, S71]."
     ]
    },
    {
     "cell_type": "code",
     "collapsed": false,
     "input": [
      "Xi1_0 = w1.d^w1^w2##"
     ],
     "language": "python",
     "metadata": {},
     "outputs": [
      {
       "metadata": {},
       "output_type": "display_data",
       "text": [
        "(0)dphi0^dphi1^dphi2^dphidot0"
       ]
      },
      {
       "output_type": "stream",
       "stream": "stdout",
       "text": [
        "---\n"
       ]
      }
     ],
     "prompt_number": 19
    },
    {
     "cell_type": "code",
     "collapsed": false,
     "input": [
      "res = w2.d^w1^w2\n",
      "res.co ##\n",
      "\n",
      "# \u00dcberpr\u00fcfung, ob Koeffizienten durch Einsetzen zuf\u00e4lliger Zahlen Null werden:\n",
      "map(float, res.srn[:3])"
     ],
     "language": "python",
     "metadata": {},
     "outputs": [
      {
       "metadata": {},
       "output_type": "display_data",
       "text": [
        "(567)dphi0^dphi1^dphi2^dphidot1  +  (637)dphi0^dphi1^dphi2^dphidot2"
       ]
      },
      {
       "output_type": "stream",
       "stream": "stdout",
       "text": [
        "___\n"
       ]
      },
      {
       "latex": [
        "$$\\left [ 0.0, \\quad 21895933.2826, \\quad -38580782.2081\\right ]$$"
       ],
       "metadata": {},
       "output_type": "pyout",
       "png": "[encoded data removed]",
       "prompt_number": 20,
       "text": [
        "[0.0, 21895933.2826, -38580782.2081]"
       ]
      }
     ],
     "prompt_number": 20
    },
    {
     "cell_type": "markdown",
     "metadata": {},
     "source": [
      "Es gilt also\n",
      "$$\n",
      "\\Xi_{1,0} = \\d \\omega_1 \\wedge \\omega_1 \\wedge \\omega_2=0 \\\\\n",
      "\\Xi_{2,0} = \\d \\omega_2 \\wedge \\omega_1 \\wedge \\omega_2\\neq0.\n",
      "$$\n",
      "\n",
      "**Fazit**: Best\u00e4tigung der Ergebnisse aus [Franke2014, S71]. Wegen $\\Xi_{1,0} = \\d \\omega_1 \\wedge \\omega_1 \\wedge \\omega_2=0$ ist nur die Untersuchung der Keilprodukte $\\Xi_{2,k} = \\d \\omega_2 \\wedge \\ldots$ relevant."
     ]
    },
    {
     "cell_type": "markdown",
     "metadata": {},
     "source": [
      "---\n",
      "\n",
      "\n",
      "**Frage:**\n",
      "Wieviele Koeffizienten treten in $\\Xi_{2,k}$ f\u00fcr jedes $k$ auf? \u2192 $r(k), s(k)$ bestimmen und Tabelle erstellen.\n",
      "\n",
      "Zur Bestimmung von $s( k):=n +  n \\cdot \\max(\\mathrm{ord}_{\\d \\bs \\theta}(\\d \\omega_2), k )$ wird die h\u00f6chste auftretende Ableitungsordnung der Basis-1-Formen in $\\d \\omega_2$ ben\u00f6tigt.\n"
     ]
    },
    {
     "cell_type": "code",
     "collapsed": false,
     "input": [
      "ord_d_omega_2  = w2.d.ord##"
     ],
     "language": "python",
     "metadata": {},
     "outputs": [
      {
       "latex": [
        "$$1$$"
       ],
       "metadata": {},
       "output_type": "display_data",
       "png": "[encoded data removed]",
       "text": [
        "1"
       ]
      },
      {
       "output_type": "stream",
       "stream": "stdout",
       "text": [
        "---\n"
       ]
      }
     ],
     "prompt_number": 21
    },
    {
     "cell_type": "markdown",
     "metadata": {},
     "source": [
      "Bestimmung von $k_{\\Omega_0}$"
     ]
    },
    {
     "cell_type": "code",
     "collapsed": false,
     "input": [
      "Omega0 = w1^w2\n",
      "kOmega0 = Omega0.ord ##:"
     ],
     "language": "python",
     "metadata": {},
     "outputs": [
      {
       "latex": [
        "kOmega0 := $$0$$"
       ],
       "metadata": {},
       "output_type": "display_data",
       "png": "[encoded data removed]",
       "text": [
        "kOmega0 := 0"
       ]
      },
      {
       "output_type": "stream",
       "stream": "stdout",
       "text": [
        "---\n"
       ]
      }
     ],
     "prompt_number": 22
    },
    {
     "cell_type": "code",
     "collapsed": false,
     "input": [
      "def r(k):\n",
      "    return 2 + nq*max(0, k + 1 - kOmega0) + np*max(0, k - 1)\n",
      "\n",
      "def s(k):\n",
      "    return n + n*max(ord_d_omega_2, k )\n",
      "kmax = 4\n",
      "table = sp.zeros(4, kmax+1)\n",
      "legend = Matrix([sp.S('k'), sp.S('r(k)'), sp.S('s(k)'), sp.Symbol('s(k)~over~r(k)')])\n",
      "\n",
      "\n",
      "# Ausf\u00fcllen der Tabelle\n",
      "for k in range(kmax+1):\n",
      "    table[:, k] = k, s(k), r(k), sp.binomial(s(k), r(k))\n",
      "\n",
      "st.col_stack(legend, table)"
     ],
     "language": "python",
     "metadata": {},
     "outputs": [
      {
       "latex": [
        "$$\\left[\\begin{matrix}k & 0 & 1 & 2 & 3 & 4\\\\r{\\left (k \\right )} & 6 & 6 & 9 & 12 & 15\\\\s{\\left (k \\right )} & 4 & 6 & 9 & 12 & 15\\\\s(k)~over~r(k) & 15 & 1 & 1 & 1 & 1\\end{matrix}\\right]$$"
       ],
       "metadata": {},
       "output_type": "pyout",
       "png": "[encoded data removed]",
       "prompt_number": 23,
       "text": [
        "\u23a1      k         0   1  2  3   4 \u23a4\n",
        "\u23a2                                \u23a5\n",
        "\u23a2     r(k)       6   6  9  12  15\u23a5\n",
        "\u23a2                                \u23a5\n",
        "\u23a2     s(k)       4   6  9  12  15\u23a5\n",
        "\u23a2                                \u23a5\n",
        "\u23a3s(k)~over~r(k)  15  1  1  1   1 \u23a6"
       ]
      }
     ],
     "prompt_number": 23
    },
    {
     "cell_type": "code",
     "collapsed": false,
     "input": [],
     "language": "python",
     "metadata": {},
     "outputs": [],
     "prompt_number": 23
    },
    {
     "cell_type": "code",
     "collapsed": false,
     "input": [],
     "language": "python",
     "metadata": {},
     "outputs": [],
     "prompt_number": 23
    },
    {
     "cell_type": "markdown",
     "metadata": {},
     "source": [
      "Bestimmung von $c^* = \\mathrm{coeff}_{\\d \\ddot\\theta_1 \\wedge \\d \\ddot \\theta_2 \\wedge \\d \\ddot \\theta_3} (\\overbrace{\\ddot \\omega_1  \\wedge \\ddot \\omega_2 \\wedge \\d F_1}^{\\Gamma_2})$"
     ]
    },
    {
     "cell_type": "code",
     "collapsed": false,
     "input": [
      "Gamma2 = w1.dot().dot()^w2.dot().dot()^dF"
     ],
     "language": "python",
     "metadata": {},
     "outputs": [],
     "prompt_number": 24
    },
    {
     "cell_type": "code",
     "collapsed": false,
     "input": [
      "Theta_2 = Gamma2.get_baseform_from_plain_index(-1) ##:\n",
      "c_star = Gamma2.get_coeff(Theta_2) ##:"
     ],
     "language": "python",
     "metadata": {},
     "outputs": [
      {
       "metadata": {},
       "output_type": "display_data",
       "text": [
        "Theta_2 := (1)dphidddot0^dphidddot1^dphidddot2"
       ]
      },
      {
       "output_type": "stream",
       "stream": "stdout",
       "text": [
        "---\n"
       ]
      },
      {
       "latex": [
        "c_star := $$0$$"
       ],
       "metadata": {},
       "output_type": "display_data",
       "png": "[encoded data removed]",
       "text": [
        "c_star := 0"
       ]
      },
      {
       "output_type": "stream",
       "stream": "stdout",
       "text": [
        "---\n"
       ]
      }
     ],
     "prompt_number": 25
    },
    {
     "cell_type": "markdown",
     "metadata": {},
     "source": [
      "Es gilt also $c^*=0$. Damit ist die untersuchte hinreichende Bedingung f\u00fcr Nichtflachheitsbedingung nicht erf\u00fcllt.\n",
      "\n",
      "Warum ist $c^*=0?$"
     ]
    },
    {
     "cell_type": "code",
     "collapsed": false,
     "input": [
      "w1_ddot = w1.dot().dot()"
     ],
     "language": "python",
     "metadata": {},
     "outputs": [],
     "prompt_number": 26
    },
    {
     "cell_type": "markdown",
     "metadata": {},
     "source": [
      "Zwar gilt"
     ]
    },
    {
     "cell_type": "code",
     "collapsed": false,
     "input": [
      "w1_ddot.ord ##:\n",
      "dF.ord ##:"
     ],
     "language": "python",
     "metadata": {},
     "outputs": [
      {
       "latex": [
        "w1_ddot.ord  := $$2$$"
       ],
       "metadata": {},
       "output_type": "display_data",
       "png": "[encoded data removed]",
       "text": [
        "w1_ddot.ord  := 2"
       ]
      },
      {
       "output_type": "stream",
       "stream": "stdout",
       "text": [
        "___\n"
       ]
      },
      {
       "latex": [
        "dF.ord  := $$2$$"
       ],
       "metadata": {},
       "output_type": "display_data",
       "png": "[encoded data removed]",
       "text": [
        "dF.ord  := 2"
       ]
      },
      {
       "output_type": "stream",
       "stream": "stdout",
       "text": [
        "___\n"
       ]
      }
     ],
     "prompt_number": 27
    },
    {
     "cell_type": "markdown",
     "metadata": {},
     "source": [
      "aber f\u00fcr das Produkt gilt"
     ]
    },
    {
     "cell_type": "code",
     "collapsed": false,
     "input": [
      "prod = w1_ddot^dF"
     ],
     "language": "python",
     "metadata": {},
     "outputs": [],
     "prompt_number": 28
    },
    {
     "cell_type": "code",
     "collapsed": false,
     "input": [
      "# Alle Basis-2-Formen mit nur der h\u00f6chsten Ableitungsordnung\n",
      "\n",
      "test_form1 = prod.get_baseform_from_plain_index(-1) ##:\n",
      "test_form2 = prod.get_baseform_from_plain_index(-2) ##:\n",
      "test_form3 = prod.get_baseform_from_plain_index(-3) ##:"
     ],
     "language": "python",
     "metadata": {},
     "outputs": [
      {
       "metadata": {},
       "output_type": "display_data",
       "text": [
        "test_form1 := (1)dphidddot1^dphidddot2"
       ]
      },
      {
       "output_type": "stream",
       "stream": "stdout",
       "text": [
        "---\n"
       ]
      },
      {
       "metadata": {},
       "output_type": "display_data",
       "text": [
        "test_form2 := (1)dphidddot0^dphidddot2"
       ]
      },
      {
       "output_type": "stream",
       "stream": "stdout",
       "text": [
        "---\n"
       ]
      },
      {
       "metadata": {},
       "output_type": "display_data",
       "text": [
        "test_form3 := (1)dphidddot0^dphidddot1"
       ]
      },
      {
       "output_type": "stream",
       "stream": "stdout",
       "text": [
        "---\n"
       ]
      }
     ],
     "prompt_number": 29
    },
    {
     "cell_type": "code",
     "collapsed": false,
     "input": [
      "prod.get_coeff(test_form1) ##\n",
      "prod.get_coeff(test_form2) ##\n",
      "prod.get_coeff(test_form3) ##"
     ],
     "language": "python",
     "metadata": {},
     "outputs": [
      {
       "latex": [
        "$$0$$"
       ],
       "metadata": {},
       "output_type": "display_data",
       "png": "[encoded data removed]",
       "text": [
        "0"
       ]
      },
      {
       "output_type": "stream",
       "stream": "stdout",
       "text": [
        "___\n"
       ]
      },
      {
       "latex": [
        "$$0$$"
       ],
       "metadata": {},
       "output_type": "display_data",
       "png": "[encoded data removed]",
       "text": [
        "0"
       ]
      },
      {
       "output_type": "stream",
       "stream": "stdout",
       "text": [
        "___\n"
       ]
      },
      {
       "latex": [
        "$$0$$"
       ],
       "metadata": {},
       "output_type": "display_data",
       "png": "[encoded data removed]",
       "text": [
        "0"
       ]
      },
      {
       "output_type": "stream",
       "stream": "stdout",
       "text": [
        "___\n"
       ]
      }
     ],
     "prompt_number": 30
    },
    {
     "cell_type": "markdown",
     "metadata": {},
     "source": [
      "Bemerkung trotz $c^* = 0$ gilt $\\Gamma_2\\neq 0$, denn es gibt noch viel mehr Koeffizienten."
     ]
    },
    {
     "cell_type": "code",
     "collapsed": false,
     "input": [
      "# Anzahl der Koeffizienten (3-Form \u00fcber 9 1-Formen (dphi0 bis dphiddot2))\n",
      "sp.binomial(9,3) ##:\n",
      "Gamma2.co"
     ],
     "language": "python",
     "metadata": {},
     "outputs": [
      {
       "latex": [
        "sp.binomial(9,3)  := $$84$$"
       ],
       "metadata": {},
       "output_type": "display_data",
       "png": "[encoded data removed]",
       "text": [
        "sp.binomial(9,3)  := 84"
       ]
      },
      {
       "output_type": "stream",
       "stream": "stdout",
       "text": [
        "___\n"
       ]
      },
      {
       "metadata": {},
       "output_type": "pyout",
       "prompt_number": 31,
       "text": [
        "(1853)dphi0^dphi1^dphi2  +  (708)dphi0^dphi1^dphidot0  +  (1935)dphi0^dphi1^dphidot1  +  (1690)dphi0^dphi1^dphidot2  +  (1721)dphi0^dphi1^dphiddot0  +  (1754)dphi0^dphi1^dphiddot1  +  (1655)dphi0^dphi1^dphiddot2  +  (684)dphi0^dphi2^dphidot0  +  (1445)dphi0^dphi2^dphidot1  +  (1200)dphi0^dphi2^dphidot2  +  (1231)dphi0^dphi2^dphiddot0  +  (1264)dphi0^dphi2^dphiddot1  +  (1165)dphi0^dphi2^dphiddot2  +  (652)dphi0^dphidot0^dphidot1  +  (644)dphi0^dphidot0^dphidot2  +  (654)dphi0^dphidot0^dphiddot0  +  (652)dphi0^dphidot0^dphiddot1  +  (644)dphi0^dphidot0^dphiddot2  +  (1282)dphi0^dphidot1^dphidot2  +  (1313)dphi0^dphidot1^dphiddot0  +  (1346)dphi0^dphidot1^dphiddot1  +  (1247)dphi0^dphidot1^dphiddot2  +  (1068)dphi0^dphidot2^dphiddot0  +  (1101)dphi0^dphidot2^dphiddot1  +  (1002)dphi0^dphidot2^dphiddot2  +  (1132)dphi0^dphiddot0^dphiddot1  +  (1033)dphi0^dphiddot0^dphiddot2  +  (1066)dphi0^dphiddot1^dphiddot2  +  (1425)dphi1^dphi2^dphidot0  +  (2547)dphi1^dphi2^dphidot1  +  (2065)dphi1^dphi2^dphidot2  +  (2117)dphi1^dphi2^dphiddot0  +  (2185)dphi1^dphi2^dphiddot1  +  (1996)dphi1^dphi2^dphiddot2  +  (1506)dphi1^dphidot0^dphidot1  +  (1261)dphi1^dphidot0^dphidot2  +  (1292)dphi1^dphidot0^dphiddot0  +  (1325)dphi1^dphidot0^dphiddot1  +  (1227)dphi1^dphidot0^dphiddot2  +  (2260)dphi1^dphidot1^dphidot2  +  (2312)dphi1^dphidot1^dphiddot0  +  (2380)dphi1^dphidot1^dphiddot1  +  (2191)dphi1^dphidot1^dphiddot2  +  (1830)dphi1^dphidot2^dphiddot0  +  (1898)dphi1^dphidot2^dphiddot1  +  (1709)dphi1^dphidot2^dphiddot2  +  (1948)dphi1^dphiddot0^dphiddot1  +  (1759)dphi1^dphiddot0^dphiddot2  +  (1827)dphi1^dphiddot1^dphiddot2  +  (1016)dphi2^dphidot0^dphidot1  +  (771)dphi2^dphidot0^dphidot2  +  (802)dphi2^dphidot0^dphiddot0  +  (835)dphi2^dphidot0^dphiddot1  +  (737)dphi2^dphidot0^dphiddot2  +  (1304)dphi2^dphidot1^dphidot2  +  (1356)dphi2^dphidot1^dphiddot0  +  (1424)dphi2^dphidot1^dphiddot1  +  (1235)dphi2^dphidot1^dphiddot2  +  (874)dphi2^dphidot2^dphiddot0  +  (942)dphi2^dphidot2^dphiddot1  +  (753)dphi2^dphidot2^dphiddot2  +  (992)dphi2^dphiddot0^dphiddot1  +  (803)dphi2^dphiddot0^dphiddot2  +  (871)dphi2^dphiddot1^dphiddot2  +  (854)dphidot0^dphidot1^dphidot2  +  (885)dphidot0^dphidot1^dphiddot0  +  (918)dphidot0^dphidot1^dphiddot1  +  (819)dphidot0^dphidot1^dphiddot2  +  (640)dphidot0^dphidot2^dphiddot0  +  (673)dphidot0^dphidot2^dphiddot1  +  (574)dphidot0^dphidot2^dphiddot2  +  (704)dphidot0^dphiddot0^dphiddot1  +  (605)dphidot0^dphiddot0^dphiddot2  +  (638)dphidot0^dphiddot1^dphiddot2  +  (1069)dphidot1^dphidot2^dphiddot0  +  (1137)dphidot1^dphidot2^dphiddot1  +  (948)dphidot1^dphidot2^dphiddot2  +  (1187)dphidot1^dphiddot0^dphiddot1  +  (998)dphidot1^dphiddot0^dphiddot2  +  (1066)dphidot1^dphiddot1^dphiddot2  +  (705)dphidot2^dphiddot0^dphiddot1  +  (516)dphidot2^dphiddot0^dphiddot2  +  (584)dphidot2^dphiddot1^dphiddot2  +  (632)dphiddot0^dphiddot1^dphiddot2"
       ]
      }
     ],
     "prompt_number": 31
    }
   ],
   "metadata": {}
  }
 ]
}