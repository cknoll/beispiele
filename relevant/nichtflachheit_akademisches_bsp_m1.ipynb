{
 "metadata": {
  "name": "",
  "signature": "sha256:8a61f3fd675bb4a0c9a9c23aa525ed9837f453b2c09c2709dee6b2e052270fb6"
 },
 "nbformat": 3,
 "nbformat_minor": 0,
 "worksheets": [
  {
   "cells": [
    {
     "cell_type": "code",
     "collapsed": false,
     "input": [
      "import time\n",
      "print time.ctime()\n",
      "%load_ext displaytools"
     ],
     "language": "python",
     "metadata": {},
     "outputs": [
      {
       "output_type": "stream",
       "stream": "stdout",
       "text": [
        "Tue Dec  8 20:08:26 2015\n"
       ]
      }
     ],
     "prompt_number": 1
    },
    {
     "cell_type": "code",
     "collapsed": false,
     "input": [
      "import sympy as sp\n",
      "import symb_tools as st\n",
      "import non_commutative_tools as nct\n",
      "import pycartan as pc\n",
      "sp.interactive.printing.init_printing(0)"
     ],
     "language": "python",
     "metadata": {},
     "outputs": [],
     "prompt_number": 6
    },
    {
     "cell_type": "code",
     "collapsed": false,
     "input": [
      "#tmp -Rechnung\n",
      "\n",
      "x1, x2, s = sp.symbols('x1, x2, s', commutative=False)\n",
      "xx = sp.Matrix([x1, x2])\n",
      "xxdot = st.perform_time_derivative(xx, xx) ##\n",
      "st.make_global(xx, 1)\n",
      "st.make_global(xxdot, 1)\n",
      "\n",
      "# Unimodulare Erg\u00e4nzung (siehe auch [Levine, 2011; Abschnitt 5.4])\n",
      "PQ = sp.Matrix([[-xdot1*s, s], [xdot1, -1]]) ##"
     ],
     "language": "python",
     "metadata": {},
     "outputs": [
      {
       "metadata": {},
       "output_type": "display_data",
       "text": [
        "Matrix([\n",
        "[xdot1],\n",
        "[xdot2]])"
       ]
      },
      {
       "output_type": "stream",
       "stream": "stdout",
       "text": [
        "---\n"
       ]
      },
      {
       "metadata": {},
       "output_type": "display_data",
       "text": [
        "Matrix([\n",
        "[-xdot1*s,  s],\n",
        "[   xdot1, -1]])"
       ]
      },
      {
       "output_type": "stream",
       "stream": "stdout",
       "text": [
        "---\n"
       ]
      }
     ],
     "prompt_number": 3
    },
    {
     "cell_type": "code",
     "collapsed": false,
     "input": [
      "sp.interactive.printing.init_printing(1)"
     ],
     "language": "python",
     "metadata": {},
     "outputs": [],
     "prompt_number": 4
    },
    {
     "cell_type": "markdown",
     "metadata": {},
     "source": [
      "### Unimodularit\u00e4tsnachweis durch explizite Berechnug der Inversen"
     ]
    },
    {
     "cell_type": "code",
     "collapsed": false,
     "input": [
      "PQinv = nct.unimod_inv(PQ, s, time_dep_symbs=xx) ##\n",
      "\n",
      "# Produkt unter Beachtung der Reihenfolge bilden:\n",
      "prod = nct.nc_mul(PQinv, PQ) ##\n",
      "\n",
      "# Ableitungsoperator nach rechts schieben:\n",
      "nct.right_shift_all(prod)"
     ],
     "language": "python",
     "metadata": {},
     "outputs": [
      {
       "latex": [
        "$$\\left[\\begin{matrix}\\ddot{x}_{1}^{-1} & \\ddot{x}_{1}^{-1} s\\\\\\dot{x}_{1} \\ddot{x}_{1}^{-1} & -1 + \\dot{x}_{1} \\ddot{x}_{1}^{-1} s\\end{matrix}\\right]$$"
       ],
       "metadata": {},
       "output_type": "display_data",
       "png": "[encoded data removed]",
       "text": [
        "\u23a1     -1           -1       \u23a4\n",
        "\u23a2  x\u0308\u2081          x\u0308\u2081  \u22c5s     \u23a5\n",
        "\u23a2                           \u23a5\n",
        "\u23a2       -1              -1  \u23a5\n",
        "\u23a3x\u0307\u2081\u22c5x\u0308\u2081    -1 + x\u0307\u2081\u22c5x\u0308\u2081  \u22c5s\u23a6"
       ]
      },
      {
       "output_type": "stream",
       "stream": "stdout",
       "text": [
        "---\n"
       ]
      },
      {
       "latex": [
        "$$\\left[\\begin{matrix}\\ddot{x}_{1}^{-1} s \\dot{x}_{1} - \\ddot{x}_{1}^{-1} \\dot{x}_{1} s & 0\\\\- \\dot{x}_{1} \\ddot{x}_{1}^{-1} \\dot{x}_{1} s + \\left(-1 + \\dot{x}_{1} \\ddot{x}_{1}^{-1} s\\right) \\dot{x}_{1} & \\dot{x}_{1} \\ddot{x}_{1}^{-1} s - -1 + \\dot{x}_{1} \\ddot{x}_{1}^{-1} s\\end{matrix}\\right]$$"
       ],
       "metadata": {},
       "output_type": "display_data",
       "png": "[encoded data removed]",
       "text": [
        "\u23a1           -1            -1                                               \u23a4\n",
        "\u23a2        x\u0308\u2081  \u22c5s\u22c5x\u0307\u2081 - x\u0308\u2081  \u22c5x\u0307\u2081\u22c5s                         0               \u23a5\n",
        "\u23a2                                                                          \u23a5\n",
        "\u23a2         -1         \u239b            -1  \u239e             -1                 -1  \u23a5\n",
        "\u23a3- x\u0307\u2081\u22c5x\u0308\u2081  \u22c5x\u0307\u2081\u22c5s + \u239d-1 + x\u0307\u2081\u22c5x\u0308\u2081  \u22c5s\u23a0\u22c5x\u0307\u2081  x\u0307\u2081\u22c5x\u0308\u2081  \u22c5s - -1 + x\u0307\u2081\u22c5x\u0308\u2081  \u22c5s\u23a6"
       ]
      },
      {
       "output_type": "stream",
       "stream": "stdout",
       "text": [
        "---\n"
       ]
      },
      {
       "latex": [
        "$$\\left[\\begin{matrix}1 & 0\\\\0 & 1\\end{matrix}\\right]$$"
       ],
       "metadata": {},
       "output_type": "pyout",
       "png": "[encoded data removed]",
       "prompt_number": 5,
       "text": [
        "\u23a11  0\u23a4\n",
        "\u23a2    \u23a5\n",
        "\u23a30  1\u23a6"
       ]
      }
     ],
     "prompt_number": 5
    },
    {
     "cell_type": "code",
     "collapsed": false,
     "input": [
      "args = list(xx) + list(xxdot)\n",
      "coeffs_dF1 = st.concat_cols(sp.zeros(1, len(xx)), PQ[0, :].diff(s)) ##:\n",
      "coeffs_w1 = st.concat_cols(PQ[1, :], sp.zeros(1, len(xx))) ##:"
     ],
     "language": "python",
     "metadata": {},
     "outputs": [
      {
       "metadata": {},
       "output_type": "display_data",
       "text": [
        "coeffs_dF1 := Matrix([[0, 0, -xdot1, 1]])"
       ]
      },
      {
       "output_type": "stream",
       "stream": "stdout",
       "text": [
        "---\n"
       ]
      },
      {
       "metadata": {},
       "output_type": "display_data",
       "text": [
        "coeffs_w1 := Matrix([[xdot1, -1, 0, 0]])"
       ]
      },
      {
       "output_type": "stream",
       "stream": "stdout",
       "text": [
        "---\n"
       ]
      }
     ],
     "prompt_number": 18
    },
    {
     "cell_type": "code",
     "collapsed": false,
     "input": [
      "w1 = pc.DifferentialForm(1, args, coeff=coeffs_w1) ##:\n",
      "dF1 = pc.DifferentialForm(1, args, coeff=coeffs_dF1) ##:\n",
      "w1.d ##"
     ],
     "language": "python",
     "metadata": {},
     "outputs": [
      {
       "metadata": {},
       "output_type": "display_data",
       "text": [
        "w1 := (xdot1) dx1+(-1) dx2"
       ]
      },
      {
       "output_type": "stream",
       "stream": "stdout",
       "text": [
        "---\n"
       ]
      },
      {
       "metadata": {},
       "output_type": "display_data",
       "text": [
        "dF1 := (-xdot1) dxdot1+(1) dxdot2"
       ]
      },
      {
       "output_type": "stream",
       "stream": "stdout",
       "text": [
        "---\n"
       ]
      },
      {
       "metadata": {},
       "output_type": "display_data",
       "text": [
        "(-1) dx1^dxdot1"
       ]
      },
      {
       "output_type": "stream",
       "stream": "stdout",
       "text": [
        "___\n"
       ]
      }
     ],
     "prompt_number": 19
    },
    {
     "cell_type": "code",
     "collapsed": false,
     "input": [
      "w1.d^w1^dF1"
     ],
     "language": "python",
     "metadata": {},
     "outputs": [
      {
       "metadata": {},
       "output_type": "pyout",
       "prompt_number": 20,
       "text": [
        "(-1) dx1^dx2^dxdot1^dxdot2"
       ]
      }
     ],
     "prompt_number": 20
    },
    {
     "cell_type": "code",
     "collapsed": false,
     "input": [],
     "language": "python",
     "metadata": {},
     "outputs": []
    }
   ],
   "metadata": {}
  }
 ]
}