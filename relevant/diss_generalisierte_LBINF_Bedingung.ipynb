{
 "metadata": {
  "name": "",
  "signature": "sha256:d6a239b89bebabdd1012970a9cc10e6f97c9f114eb8fed5d5504f0e997330043"
 },
 "nbformat": 3,
 "nbformat_minor": 0,
 "worksheets": [
  {
   "cells": [
    {
     "cell_type": "markdown",
     "metadata": {},
     "source": [
      "--#Tags: #diss #diss-bsp #bi-nf #mechanik\n",
      "<br>\n",
      "--#Latex-Definitionen (unsichtbar):\n",
      "$\\newcommand{\\dd}{\\operatorname{d}}$\n",
      "$\\newcommand{\\RR}{\\mathbb{R}}$\n",
      "\n",
      "$\\dd \\RR$"
     ]
    },
    {
     "cell_type": "markdown",
     "metadata": {},
     "source": [
      "In diesem Dokument wird ein Beispiel zur der Injektivit\u00e4tsbedingung f\u00fcr die Existenz der partiellen Linearisierung basierend auf allgemeinen Konfigurationskoordinaten dokumentiert."
     ]
    },
    {
     "cell_type": "code",
     "collapsed": false,
     "input": [
      "import sympy as sp\n",
      "import numpy as np\n",
      "import symb_tools as st\n",
      "reload(st)\n",
      "sp.interactive.printing.init_printing()"
     ],
     "language": "python",
     "metadata": {},
     "outputs": [],
     "prompt_number": 1
    },
    {
     "cell_type": "markdown",
     "metadata": {},
     "source": [
      "Festlegung einer Massenmatrix"
     ]
    },
    {
     "cell_type": "code",
     "collapsed": false,
     "input": [
      "M = sp.Matrix([[.6, 0, .1, 0], [0, .9, 0, 0], [.1, 0, .7, 0], [0, 0, 0, .2]])\n",
      "M"
     ],
     "language": "python",
     "metadata": {},
     "outputs": [
      {
       "latex": [
        "$$\\left[\\begin{matrix}0.6 & 0 & 0.1 & 0\\\\0 & 0.9 & 0 & 0\\\\0.1 & 0 & 0.7 & 0\\\\0 & 0 & 0 & 0.2\\end{matrix}\\right]$$"
       ],
       "metadata": {},
       "output_type": "pyout",
       "png": "[encoded data removed]",
       "prompt_number": 2,
       "text": [
        "\u23a10.6   0   0.1   0 \u23a4\n",
        "\u23a2                  \u23a5\n",
        "\u23a2 0   0.9   0    0 \u23a5\n",
        "\u23a2                  \u23a5\n",
        "\u23a20.1   0   0.7   0 \u23a5\n",
        "\u23a2                  \u23a5\n",
        "\u23a3 0    0    0   0.2\u23a6"
       ]
      }
     ],
     "prompt_number": 2
    },
    {
     "cell_type": "code",
     "collapsed": false,
     "input": [
      "M == M.T"
     ],
     "language": "python",
     "metadata": {},
     "outputs": [
      {
       "metadata": {},
       "output_type": "pyout",
       "prompt_number": 3,
       "text": [
        "True"
       ]
      }
     ],
     "prompt_number": 3
    },
    {
     "cell_type": "code",
     "collapsed": false,
     "input": [
      "M.eigenvals(rational=False)"
     ],
     "language": "python",
     "metadata": {},
     "outputs": [
      {
       "latex": [
        "$$\\begin{Bmatrix}0.2 : 1, & 0.538196601125013 : 1, & 0.761803398874979 : 1, & 0.900000000000008 : 1\\end{Bmatrix}$$"
       ],
       "metadata": {},
       "output_type": "pyout",
       "png": "[encoded data removed]",
       "prompt_number": 4,
       "text": [
        "{0.2: 1, 0.538196601125013: 1, 0.761803398874979: 1, 0.900000000000008: 1}"
       ]
      }
     ],
     "prompt_number": 4
    },
    {
     "cell_type": "markdown",
     "metadata": {},
     "source": [
      "$\\Rightarrow$ symmetrisch und positiv definit"
     ]
    },
    {
     "cell_type": "code",
     "collapsed": false,
     "input": [
      "# R\u00fccktransformation pq = RS*wy\n",
      "RSinv = sp.Matrix([[1, 0, 0, 0], [0, 0, 1, 0], [0, 1, 0, 0], [0, 0, 0, 1]])\n",
      "RSinv"
     ],
     "language": "python",
     "metadata": {},
     "outputs": [
      {
       "latex": [
        "$$\\left[\\begin{matrix}1 & 0 & 0 & 0\\\\0 & 0 & 1 & 0\\\\0 & 1 & 0 & 0\\\\0 & 0 & 0 & 1\\end{matrix}\\right]$$"
       ],
       "metadata": {},
       "output_type": "pyout",
       "png": "[encoded data removed]",
       "prompt_number": 5,
       "text": [
        "\u23a11  0  0  0\u23a4\n",
        "\u23a2          \u23a5\n",
        "\u23a20  0  1  0\u23a5\n",
        "\u23a2          \u23a5\n",
        "\u23a20  1  0  0\u23a5\n",
        "\u23a2          \u23a5\n",
        "\u23a30  0  0  1\u23a6"
       ]
      }
     ],
     "prompt_number": 5
    },
    {
     "cell_type": "code",
     "collapsed": false,
     "input": [
      "M11 = M[:2, :2]\n",
      "M11"
     ],
     "language": "python",
     "metadata": {},
     "outputs": [
      {
       "latex": [
        "$$\\left[\\begin{matrix}0.6 & 0\\\\0 & 0.9\\end{matrix}\\right]$$"
       ],
       "metadata": {},
       "output_type": "pyout",
       "png": "[encoded data removed]",
       "prompt_number": 6,
       "text": [
        "\u23a10.6   0 \u23a4\n",
        "\u23a2        \u23a5\n",
        "\u23a3 0   0.9\u23a6"
       ]
      }
     ],
     "prompt_number": 6
    },
    {
     "cell_type": "code",
     "collapsed": false,
     "input": [
      "M12 = M[:2, 2:]\n",
      "M12"
     ],
     "language": "python",
     "metadata": {},
     "outputs": [
      {
       "latex": [
        "$$\\left[\\begin{matrix}0.1 & 0\\\\0 & 0\\end{matrix}\\right]$$"
       ],
       "metadata": {},
       "output_type": "pyout",
       "png": "[encoded data removed]",
       "prompt_number": 7,
       "text": [
        "\u23a10.1  0\u23a4\n",
        "\u23a2      \u23a5\n",
        "\u23a3 0   0\u23a6"
       ]
      }
     ],
     "prompt_number": 7
    },
    {
     "cell_type": "code",
     "collapsed": false,
     "input": [],
     "language": "python",
     "metadata": {},
     "outputs": [],
     "prompt_number": 7
    },
    {
     "cell_type": "code",
     "collapsed": false,
     "input": [
      "hS1 = RSinv[2:, :2]\n",
      "hS1"
     ],
     "language": "python",
     "metadata": {},
     "outputs": [
      {
       "latex": [
        "$$\\left[\\begin{matrix}0 & 1\\\\0 & 0\\end{matrix}\\right]$$"
       ],
       "metadata": {},
       "output_type": "pyout",
       "png": "[encoded data removed]",
       "prompt_number": 8,
       "text": [
        "\u23a10  1\u23a4\n",
        "\u23a2    \u23a5\n",
        "\u23a30  0\u23a6"
       ]
      }
     ],
     "prompt_number": 8
    },
    {
     "cell_type": "code",
     "collapsed": false,
     "input": [
      "hR1 = RSinv[:2, :2]\n",
      "hR1"
     ],
     "language": "python",
     "metadata": {},
     "outputs": [
      {
       "latex": [
        "$$\\left[\\begin{matrix}1 & 0\\\\0 & 0\\end{matrix}\\right]$$"
       ],
       "metadata": {},
       "output_type": "pyout",
       "png": "[encoded data removed]",
       "prompt_number": 9,
       "text": [
        "\u23a11  0\u23a4\n",
        "\u23a2    \u23a5\n",
        "\u23a30  0\u23a6"
       ]
      }
     ],
     "prompt_number": 9
    },
    {
     "cell_type": "code",
     "collapsed": false,
     "input": [
      "T2 = sp.Matrix([0, 1])\n",
      "T2"
     ],
     "language": "python",
     "metadata": {},
     "outputs": [
      {
       "latex": [
        "$$\\left[\\begin{matrix}0\\\\1\\end{matrix}\\right]$$"
       ],
       "metadata": {},
       "output_type": "pyout",
       "png": "[encoded data removed]",
       "prompt_number": 10,
       "text": [
        "\u23a10\u23a4\n",
        "\u23a2 \u23a5\n",
        "\u23a31\u23a6"
       ]
      }
     ],
     "prompt_number": 10
    },
    {
     "cell_type": "code",
     "collapsed": false,
     "input": [
      "hS1*T2"
     ],
     "language": "python",
     "metadata": {},
     "outputs": [
      {
       "latex": [
        "$$\\left[\\begin{matrix}1\\\\0\\end{matrix}\\right]$$"
       ],
       "metadata": {},
       "output_type": "pyout",
       "png": "[encoded data removed]",
       "prompt_number": 11,
       "text": [
        "\u23a11\u23a4\n",
        "\u23a2 \u23a5\n",
        "\u23a30\u23a6"
       ]
      }
     ],
     "prompt_number": 11
    },
    {
     "cell_type": "code",
     "collapsed": false,
     "input": [
      "M11*hR1 + M12*hS1"
     ],
     "language": "python",
     "metadata": {},
     "outputs": [
      {
       "latex": [
        "$$\\left[\\begin{matrix}0.6 & 0.1\\\\0 & 0\\end{matrix}\\right]$$"
       ],
       "metadata": {},
       "output_type": "pyout",
       "png": "[encoded data removed]",
       "prompt_number": 12,
       "text": [
        "\u23a10.6  0.1\u23a4\n",
        "\u23a2        \u23a5\n",
        "\u23a3 0    0 \u23a6"
       ]
      }
     ],
     "prompt_number": 12
    },
    {
     "cell_type": "markdown",
     "metadata": {},
     "source": [
      "Diese Matrix ist nicht linksinvertierbar. $\\Rightarrow$\n",
      "Die allgemeine Bedingung ist nicht erf\u00fcllt"
     ]
    },
    {
     "cell_type": "code",
     "collapsed": false,
     "input": [
      "res = (M11*hR1 + M12*hS1)*T2\n",
      "res"
     ],
     "language": "python",
     "metadata": {},
     "outputs": [
      {
       "latex": [
        "$$\\left[\\begin{matrix}0.1\\\\0\\end{matrix}\\right]$$"
       ],
       "metadata": {},
       "output_type": "pyout",
       "png": "[encoded data removed]",
       "prompt_number": 13,
       "text": [
        "\u23a10.1\u23a4\n",
        "\u23a2   \u23a5\n",
        "\u23a3 0 \u23a6"
       ]
      }
     ],
     "prompt_number": 13
    },
    {
     "cell_type": "code",
     "collapsed": false,
     "input": [
      "st.pinv(res)"
     ],
     "language": "python",
     "metadata": {},
     "outputs": [
      {
       "latex": [
        "$$\\left[\\begin{matrix}10.0 & 0\\end{matrix}\\right]$$"
       ],
       "metadata": {},
       "output_type": "pyout",
       "png": "[encoded data removed]",
       "prompt_number": 14,
       "text": [
        "[10.0  0]"
       ]
      }
     ],
     "prompt_number": 14
    },
    {
     "cell_type": "markdown",
     "metadata": {},
     "source": [
      "Diese Matrix ist linksinvertierbar.\n",
      "\n",
      "---\n",
      "\n",
      "Jetzt die generalisierte partielle Linearisierung komplett durchziehen. Ziel: $\\ddot q$ in Abh\u00e4ngigkeit von $\\ddot  y$ bestimmen"
     ]
    },
    {
     "cell_type": "code",
     "collapsed": false,
     "input": [
      "RS = RSinv.inv()\n",
      "RS"
     ],
     "language": "python",
     "metadata": {},
     "outputs": [
      {
       "latex": [
        "$$\\left[\\begin{matrix}1 & 0 & 0 & 0\\\\0 & 0 & 1 & 0\\\\0 & 1 & 0 & 0\\\\0 & 0 & 0 & 1\\end{matrix}\\right]$$"
       ],
       "metadata": {},
       "output_type": "pyout",
       "png": "[encoded data removed]",
       "prompt_number": 15,
       "text": [
        "\u23a11  0  0  0\u23a4\n",
        "\u23a2          \u23a5\n",
        "\u23a20  0  1  0\u23a5\n",
        "\u23a2          \u23a5\n",
        "\u23a20  1  0  0\u23a5\n",
        "\u23a2          \u23a5\n",
        "\u23a30  0  0  1\u23a6"
       ]
      }
     ],
     "prompt_number": 15
    },
    {
     "cell_type": "code",
     "collapsed": false,
     "input": [
      "# das sind schon die zweifachen Ableitungen -> _dd erg\u00e4nzen\n",
      "p1, p2, q1, q2 = theta_dd = sp.Matrix(sp.symbols(\"p1, p2, q1, q2\"))\n",
      "w1, w2, y1, y2 = gamma_dd = sp.Matrix(sp.symbols(\"w1, w2, y1, y2\"))\n",
      "tau1, tau2 = sp.symbols(\"tau1, tau2\")"
     ],
     "language": "python",
     "metadata": {},
     "outputs": [],
     "prompt_number": 16
    },
    {
     "cell_type": "code",
     "collapsed": false,
     "input": [
      "# Bewegungsgleichung:\n",
      "eq = M*theta_dd -sp.Matrix([0, 0, tau1, tau2])\n",
      "\n",
      "theta_dd_subs = RSinv*gamma_dd\n",
      "theta_dd_subs"
     ],
     "language": "python",
     "metadata": {},
     "outputs": [
      {
       "latex": [
        "$$\\left[\\begin{matrix}w_{1}\\\\y_{1}\\\\w_{2}\\\\y_{2}\\end{matrix}\\right]$$"
       ],
       "metadata": {},
       "output_type": "pyout",
       "png": "[encoded data removed]",
       "prompt_number": 17,
       "text": [
        "\u23a1w\u2081\u23a4\n",
        "\u23a2  \u23a5\n",
        "\u23a2y\u2081\u23a5\n",
        "\u23a2  \u23a5\n",
        "\u23a2w\u2082\u23a5\n",
        "\u23a2  \u23a5\n",
        "\u23a3y\u2082\u23a6"
       ]
      }
     ],
     "prompt_number": 17
    },
    {
     "cell_type": "markdown",
     "metadata": {},
     "source": [
      "$\\ddot q_2 = \\ddot y_2$ ist schon gegeben. Aus den Bewegungsgleichungen (in $(w, y)$-Koordninaten) muss nur noch eine Beziehung f\u00fcr $\\ddot w_2= ?$ hergeleitet werden."
     ]
    },
    {
     "cell_type": "code",
     "collapsed": false,
     "input": [
      "eq2 = eq.subs(zip(theta_dd, theta_dd_subs))\n",
      "eq2"
     ],
     "language": "python",
     "metadata": {},
     "outputs": [
      {
       "latex": [
        "$$\\left[\\begin{matrix}0.6 w_{1} + 0.1 w_{2}\\\\0.9 y_{1}\\\\- \\tau_{1} + 0.1 w_{1} + 0.7 w_{2}\\\\- \\tau_{2} + 0.2 y_{2}\\end{matrix}\\right]$$"
       ],
       "metadata": {},
       "output_type": "pyout",
       "png": "[encoded data removed]",
       "prompt_number": 19,
       "text": [
        "\u23a1   0.6\u22c5w\u2081 + 0.1\u22c5w\u2082   \u23a4\n",
        "\u23a2                     \u23a5\n",
        "\u23a2       0.9\u22c5y\u2081        \u23a5\n",
        "\u23a2                     \u23a5\n",
        "\u23a2-\u03c4\u2081 + 0.1\u22c5w\u2081 + 0.7\u22c5w\u2082\u23a5\n",
        "\u23a2                     \u23a5\n",
        "\u23a3    -\u03c4\u2082 + 0.2\u22c5y\u2082     \u23a6"
       ]
      }
     ],
     "prompt_number": 19
    },
    {
     "cell_type": "code",
     "collapsed": false,
     "input": [
      "sp.solve(eq2[:2], w2)"
     ],
     "language": "python",
     "metadata": {},
     "outputs": [
      {
       "latex": [
        "$$\\begin{Bmatrix}w_{2} : - 6.0 w_{1}\\end{Bmatrix}$$"
       ],
       "metadata": {},
       "output_type": "pyout",
       "png": "[encoded data removed]",
       "prompt_number": 20,
       "text": [
        "{w\u2082: -6.0\u22c5w\u2081}"
       ]
      }
     ],
     "prompt_number": 20
    },
    {
     "cell_type": "markdown",
     "metadata": {},
     "source": [
      "Aufl\u00f6sung nach $q_1$ mit Matrix-Formeln"
     ]
    },
    {
     "cell_type": "code",
     "collapsed": false,
     "input": [
      "hS1"
     ],
     "language": "python",
     "metadata": {},
     "outputs": [
      {
       "latex": [
        "$$\\left[\\begin{matrix}0 & 1\\\\0 & 0\\end{matrix}\\right]$$"
       ],
       "metadata": {},
       "output_type": "pyout",
       "png": "[encoded data removed]",
       "prompt_number": 21,
       "text": [
        "\u23a10  1\u23a4\n",
        "\u23a2    \u23a5\n",
        "\u23a30  0\u23a6"
       ]
      }
     ],
     "prompt_number": 21
    },
    {
     "cell_type": "code",
     "collapsed": false,
     "input": [
      "# oben f\u00e4llt T2 vom Himmel\n",
      "assert T2 == st.rpinv(hS1[:1, :])"
     ],
     "language": "python",
     "metadata": {},
     "outputs": [],
     "prompt_number": 22
    },
    {
     "cell_type": "code",
     "collapsed": false,
     "input": [
      "T3 = st.nullspaceMatrix(T2.T)\n",
      "T2, T3"
     ],
     "language": "python",
     "metadata": {},
     "outputs": [
      {
       "latex": [
        "$$\\begin{pmatrix}\\left[\\begin{matrix}0\\\\1\\end{matrix}\\right], & \\left[\\begin{matrix}1\\\\0\\end{matrix}\\right]\\end{pmatrix}$$"
       ],
       "metadata": {},
       "output_type": "pyout",
       "png": "[encoded data removed]",
       "prompt_number": 23,
       "text": [
        "\u239b\u23a10\u23a4, \u23a11\u23a4\u239e\n",
        "\u239c\u23a2 \u23a5  \u23a2 \u23a5\u239f\n",
        "\u239d\u23a31\u23a6  \u23a30\u23a6\u23a0"
       ]
      }
     ],
     "prompt_number": 23
    },
    {
     "cell_type": "markdown",
     "metadata": {},
     "source": [
      "$(w_1, w_2)^T = (T_2, T_3) \\left(\\begin{array} .\\\\ \\sigma_1 \\\\ \\sigma_2\\end{array} \\right) $"
     ]
    },
    {
     "cell_type": "code",
     "collapsed": false,
     "input": [
      "eq"
     ],
     "language": "python",
     "metadata": {},
     "outputs": [
      {
       "latex": [
        "$$\\left[\\begin{matrix}0.6 p_{1} + 0.1 q_{1}\\\\0.9 p_{2}\\\\0.1 p_{1} + 0.7 q_{1} - \\tau_{1}\\\\0.2 q_{2} - \\tau_{2}\\end{matrix}\\right]$$"
       ],
       "metadata": {},
       "output_type": "pyout",
       "png": "[encoded data removed]",
       "prompt_number": 24,
       "text": [
        "\u23a1  0.6\u22c5p\u2081 + 0.1\u22c5q\u2081   \u23a4\n",
        "\u23a2                    \u23a5\n",
        "\u23a2       0.9\u22c5p\u2082       \u23a5\n",
        "\u23a2                    \u23a5\n",
        "\u23a20.1\u22c5p\u2081 + 0.7\u22c5q\u2081 - \u03c4\u2081\u23a5\n",
        "\u23a2                    \u23a5\n",
        "\u23a3    0.2\u22c5q\u2082 - \u03c4\u2082     \u23a6"
       ]
      }
     ],
     "prompt_number": 24
    },
    {
     "cell_type": "markdown",
     "metadata": {},
     "source": [
      "---\n",
      "\n",
      "---\n",
      "\n",
      "Neuer Ansatz: Vorgabe von $T_5 \\in \\RR^3$ und r\u00fcckw\u00e4rtige Berechnung"
     ]
    },
    {
     "cell_type": "code",
     "collapsed": false,
     "input": [
      "T45 = sp.Matrix([[0, 1, 0], [0,0,1]]).T\n",
      "T4, T5 = st.col_split(T45)\n",
      "T4, T5"
     ],
     "language": "python",
     "metadata": {},
     "outputs": [
      {
       "latex": [
        "$$\\begin{pmatrix}\\left[\\begin{matrix}0\\\\1\\\\0\\end{matrix}\\right], & \\left[\\begin{matrix}0\\\\0\\\\1\\end{matrix}\\right]\\end{pmatrix}$$"
       ],
       "metadata": {},
       "output_type": "pyout",
       "png": "[encoded data removed]",
       "prompt_number": 68,
       "text": [
        "\u239b\u23a10\u23a4, \u23a10\u23a4\u239e\n",
        "\u239c\u23a2 \u23a5  \u23a2 \u23a5\u239f\n",
        "\u239c\u23a21\u23a5  \u23a20\u23a5\u239f\n",
        "\u239c\u23a2 \u23a5  \u23a2 \u23a5\u239f\n",
        "\u239d\u23a30\u23a6  \u23a31\u23a6\u23a0"
       ]
      }
     ],
     "prompt_number": 68
    },
    {
     "cell_type": "code",
     "collapsed": false,
     "input": [
      "T2 = sp.Matrix([1, 0, 0])\n",
      "T2"
     ],
     "language": "python",
     "metadata": {},
     "outputs": [
      {
       "latex": [
        "$$\\left[\\begin{matrix}1\\\\0\\\\0\\end{matrix}\\right]$$"
       ],
       "metadata": {},
       "output_type": "pyout",
       "png": "[encoded data removed]",
       "prompt_number": 45,
       "text": [
        "\u23a11\u23a4\n",
        "\u23a2 \u23a5\n",
        "\u23a20\u23a5\n",
        "\u23a2 \u23a5\n",
        "\u23a30\u23a6"
       ]
      }
     ],
     "prompt_number": 45
    },
    {
     "cell_type": "code",
     "collapsed": false,
     "input": [
      "hS1 = sp.Matrix([[1, 0, 0,], [0, 0, 0]])\n",
      "hR1 = sp.Matrix([[0, 1, 0,], [0, 0, 1], [0, 0, 0]])\n",
      "hS1, hR1"
     ],
     "language": "python",
     "metadata": {},
     "outputs": [
      {
       "latex": [
        "$$\\begin{pmatrix}\\left[\\begin{matrix}1 & 0 & 0\\\\0 & 0 & 0\\end{matrix}\\right], & \\left[\\begin{matrix}0 & 1 & 0\\\\0 & 0 & 1\\\\0 & 0 & 0\\end{matrix}\\right]\\end{pmatrix}$$"
       ],
       "metadata": {},
       "output_type": "pyout",
       "png": "[encoded data removed]",
       "prompt_number": 46,
       "text": [
        "\u239b\u23a11  0  0\u23a4, \u23a10  1  0\u23a4\u239e\n",
        "\u239c\u23a2       \u23a5  \u23a2       \u23a5\u239f\n",
        "\u239c\u23a30  0  0\u23a6  \u23a20  0  1\u23a5\u239f\n",
        "\u239c           \u23a2       \u23a5\u239f\n",
        "\u239d           \u23a30  0  0\u23a6\u23a0"
       ]
      }
     ],
     "prompt_number": 46
    },
    {
     "cell_type": "code",
     "collapsed": false,
     "input": [
      "#M_alt = M"
     ],
     "language": "python",
     "metadata": {},
     "outputs": [],
     "prompt_number": 54
    },
    {
     "cell_type": "code",
     "collapsed": false,
     "input": [
      "M = sp.eye(5)\n",
      "M[1:, 1:] = M_alt\n",
      "M.eigenvals(rational=False)"
     ],
     "language": "python",
     "metadata": {},
     "outputs": [
      {
       "latex": [
        "$$\\begin{Bmatrix}0.2 : 1, & 0.538196601125007 : 1, & 0.761803398875032 : 1, & 0.899999999999909 : 1, & 1.00000000000005 : 1\\end{Bmatrix}$$"
       ],
       "metadata": {},
       "output_type": "pyout",
       "png": "[encoded data removed]",
       "prompt_number": 56,
       "text": [
        "{0.2: 1, 0.538196601125007: 1, 0.761803398875032: 1, 0.899999999999909: 1, 1.0\n",
        "0000000000005: 1}"
       ]
      }
     ],
     "prompt_number": 56
    },
    {
     "cell_type": "code",
     "collapsed": false,
     "input": [
      "M"
     ],
     "language": "python",
     "metadata": {},
     "outputs": [
      {
       "latex": [
        "$$\\left[\\begin{matrix}1 & 0 & 0 & 0 & 0\\\\0 & 0.6 & 0 & 0.1 & 0\\\\0 & 0 & 0.9 & 0 & 0\\\\0 & 0.1 & 0 & 0.7 & 0\\\\0 & 0 & 0 & 0 & 0.2\\end{matrix}\\right]$$"
       ],
       "metadata": {},
       "output_type": "pyout",
       "png": "[encoded data removed]",
       "prompt_number": 57,
       "text": [
        "\u23a11   0    0    0    0 \u23a4\n",
        "\u23a2                     \u23a5\n",
        "\u23a20  0.6   0   0.1   0 \u23a5\n",
        "\u23a2                     \u23a5\n",
        "\u23a20   0   0.9   0    0 \u23a5\n",
        "\u23a2                     \u23a5\n",
        "\u23a20  0.1   0   0.7   0 \u23a5\n",
        "\u23a2                     \u23a5\n",
        "\u23a30   0    0    0   0.2\u23a6"
       ]
      }
     ],
     "prompt_number": 57
    },
    {
     "cell_type": "code",
     "collapsed": false,
     "input": [
      "M11 = M[:3, :3]\n",
      "M12 = M[:3, 3:]\n",
      "M11, M12"
     ],
     "language": "python",
     "metadata": {},
     "outputs": [
      {
       "latex": [
        "$$\\begin{pmatrix}\\left[\\begin{matrix}1 & 0 & 0\\\\0 & 0.6 & 0\\\\0 & 0 & 0.9\\end{matrix}\\right], & \\left[\\begin{matrix}0 & 0\\\\0.1 & 0\\\\0 & 0\\end{matrix}\\right]\\end{pmatrix}$$"
       ],
       "metadata": {},
       "output_type": "pyout",
       "png": "[encoded data removed]",
       "prompt_number": 59,
       "text": [
        "\u239b\u23a11   0    0 \u23a4, \u23a1 0   0\u23a4\u239e\n",
        "\u239c\u23a2           \u23a5  \u23a2      \u23a5\u239f\n",
        "\u239c\u23a20  0.6   0 \u23a5  \u23a20.1  0\u23a5\u239f\n",
        "\u239c\u23a2           \u23a5  \u23a2      \u23a5\u239f\n",
        "\u239d\u23a30   0   0.9\u23a6  \u23a3 0   0\u23a6\u23a0"
       ]
      }
     ],
     "prompt_number": 59
    },
    {
     "cell_type": "code",
     "collapsed": false,
     "input": [
      "M11*hR1 + M12*0*hS1"
     ],
     "language": "python",
     "metadata": {},
     "outputs": [
      {
       "latex": [
        "$$\\left[\\begin{matrix}0 & 1 & 0\\\\0 & 0 & 0.6\\\\0 & 0 & 0\\end{matrix}\\right]$$"
       ],
       "metadata": {},
       "output_type": "pyout",
       "png": "[encoded data removed]",
       "prompt_number": 61,
       "text": [
        "\u23a10  1   0 \u23a4\n",
        "\u23a2         \u23a5\n",
        "\u23a20  0  0.6\u23a5\n",
        "\u23a2         \u23a5\n",
        "\u23a30  0   0 \u23a6"
       ]
      }
     ],
     "prompt_number": 61
    },
    {
     "cell_type": "code",
     "collapsed": false,
     "input": [
      "(M11*hR1 + M12*hS1)*st.col_stack(T2, T4)"
     ],
     "language": "python",
     "metadata": {},
     "outputs": [
      {
       "latex": [
        "$$\\left[\\begin{matrix}0 & 1\\\\0.1 & 0\\\\0 & 0\\end{matrix}\\right]$$"
       ],
       "metadata": {},
       "output_type": "pyout",
       "png": "[encoded data removed]",
       "prompt_number": 63,
       "text": [
        "\u23a1 0   1\u23a4\n",
        "\u23a2      \u23a5\n",
        "\u23a20.1  0\u23a5\n",
        "\u23a2      \u23a5\n",
        "\u23a3 0   0\u23a6"
       ]
      }
     ],
     "prompt_number": 63
    },
    {
     "cell_type": "code",
     "collapsed": false,
     "input": [
      "T5"
     ],
     "language": "python",
     "metadata": {},
     "outputs": [
      {
       "latex": [
        "$$\\left[\\begin{matrix}0\\\\0\\\\1\\end{matrix}\\right]$$"
       ],
       "metadata": {},
       "output_type": "pyout",
       "png": "[encoded data removed]",
       "prompt_number": 64,
       "text": [
        "\u23a10\u23a4\n",
        "\u23a2 \u23a5\n",
        "\u23a20\u23a5\n",
        "\u23a2 \u23a5\n",
        "\u23a31\u23a6"
       ]
      }
     ],
     "prompt_number": 64
    },
    {
     "cell_type": "code",
     "collapsed": false,
     "input": [
      "hR1*T4"
     ],
     "language": "python",
     "metadata": {},
     "outputs": [
      {
       "latex": [
        "$$\\left[\\begin{matrix}1\\\\0\\\\0\\end{matrix}\\right]$$"
       ],
       "metadata": {},
       "output_type": "pyout",
       "png": "[encoded data removed]",
       "prompt_number": 67,
       "text": [
        "\u23a11\u23a4\n",
        "\u23a2 \u23a5\n",
        "\u23a20\u23a5\n",
        "\u23a2 \u23a5\n",
        "\u23a30\u23a6"
       ]
      }
     ],
     "prompt_number": 67
    },
    {
     "cell_type": "code",
     "collapsed": false,
     "input": [],
     "language": "python",
     "metadata": {},
     "outputs": []
    }
   ],
   "metadata": {}
  }
 ]
}