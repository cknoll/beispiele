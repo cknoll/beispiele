{
 "metadata": {
  "name": "",
  "signature": "sha256:eff9c9568591de518a59c689cfdf06a1a17cc8e453d5685bca83fd18f85b48c0"
 },
 "nbformat": 3,
 "nbformat_minor": 0,
 "worksheets": [
  {
   "cells": [
    {
     "cell_type": "code",
     "collapsed": false,
     "input": [
      "%load_ext displaytools\n",
      "import time\n",
      "print time.ctime()"
     ],
     "language": "python",
     "metadata": {},
     "outputs": [
      {
       "output_type": "stream",
       "stream": "stdout",
       "text": [
        "Mon Dec 21 16:56:30 2015\n"
       ]
      }
     ],
     "prompt_number": 15
    },
    {
     "cell_type": "markdown",
     "metadata": {},
     "source": [
      "**Betrachtetes System**: unteraktuierten Zweigelenkmanipulator.<br>\n",
      "\n",
      "<img src=\"files/images/manipulator_def2.png\">\n",
      "\n",
      "**Betrachtete Fragen**:\n",
      "* Herleitung der Modellgleichungen\n",
      " * partiell linearisiert\n",
      " * LBINF\n",
      "\n",
      "* \u00dcberpr\u00fcfung verschiedener Steuerbarkeitsbedingungen\n",
      " * Steuerbarkeit der Linearisierung um eine Ruhelage\n",
      " * lokale Zug\u00e4nglichkeit\n",
      " * starke lokale Zug\u00e4nglichkeit\n",
      "\n",
      "\n",
      "$$\n",
      "%<custom_config>\n",
      "\\newcommand{\\col}{\\mathrm{col}}\n",
      "\\newcommand{\\opspan}{\\operatorname{span}}\n",
      "\\newcommand{\\bs}{\\boldsymbol}\n",
      "\\newcommand{\\nx}{n_{\\boldsymbol x}}\n",
      "\\newcommand{\\Ddt}{\\left(\\tfrac{d}{dt}\\right)}\n",
      "%</custom_config>\n",
      "$$\n"
     ]
    },
    {
     "cell_type": "code",
     "collapsed": false,
     "input": [
      "import sympy as sp\n",
      "from sympy import sin, cos, pi\n",
      "from sympy.interactive import printing\n",
      "import model_tools as mt\n",
      "from model_tools import Rz\n",
      "import symb_tools as st\n",
      "\n",
      "from diss_aux import latex\n",
      "\n",
      "\n",
      "printing.init_printing(1)"
     ],
     "language": "python",
     "metadata": {},
     "outputs": [],
     "prompt_number": 3
    },
    {
     "cell_type": "code",
     "collapsed": false,
     "input": [
      "t = sp.Symbol('t')\n",
      "np = 1\n",
      "nq = 1\n",
      "n = np + nq\n",
      "pp = st.symb_vector(\"p1:{0}\".format(np+1))\n",
      "qq = st.symb_vector(\"q1:{0}\".format(nq+1))\n",
      "\n",
      "\n",
      "aa = st.symb_vector(\"a1:{0}\".format(nq+1))\n",
      "\n",
      "theta = st.row_stack(pp, qq) ##\n",
      "mu = st.perform_time_derivative(theta, theta) ##\n",
      "mud = st.perform_time_derivative(theta, theta, order=2) ##\n",
      "st.make_global(theta, 1)\n",
      "st.make_global(mu, 1)"
     ],
     "language": "python",
     "metadata": {},
     "outputs": [],
     "prompt_number": 4
    },
    {
     "cell_type": "code",
     "collapsed": false,
     "input": [
      "params = sp.symbols('s1, s2, m1, m2, J1, J2, l1, kappa')\n",
      "st.make_global(params, 1)\n",
      "\n",
      "tau1, tau2 = QQ = st.symb_vector(\"tau1, tau2\")"
     ],
     "language": "python",
     "metadata": {},
     "outputs": [],
     "prompt_number": 50
    },
    {
     "cell_type": "markdown",
     "metadata": {},
     "source": [
      "### Festlegung der Geometrie des mechanischen Systemes"
     ]
    },
    {
     "cell_type": "code",
     "collapsed": false,
     "input": [
      "Rz(q1)"
     ],
     "language": "python",
     "metadata": {},
     "outputs": [
      {
       "latex": [
        "$$\\left[\\begin{matrix}\\cos{\\left (q_{1} \\right )} & - \\sin{\\left (q_{1} \\right )}\\\\\\sin{\\left (q_{1} \\right )} & \\cos{\\left (q_{1} \\right )}\\end{matrix}\\right]$$"
       ],
       "metadata": {},
       "output_type": "pyout",
       "png": "[encoded data removed]",
       "prompt_number": 12,
       "text": [
        "\u23a1cos(q\u2081)  -sin(q\u2081)\u23a4\n",
        "\u23a2                 \u23a5\n",
        "\u23a3sin(q\u2081)  cos(q\u2081) \u23a6"
       ]
      }
     ],
     "prompt_number": 12
    },
    {
     "cell_type": "code",
     "collapsed": false,
     "input": [
      "#Einheitsvektoren\n",
      "\n",
      "ex = sp.Matrix([1, 0])\n",
      "ey = sp.Matrix([0, 1])\n",
      "\n",
      "# Koordinaten der Schwerpunkte und Gelenke\n",
      "S1 = Rz(q1)*ex*s1\n",
      "G1 = Rz(q1)*ex*l1 # \"Elllenbogengelenk\"\n",
      "S2 = G1 + Rz(q1 + p1)*ex*s2\n",
      "\n",
      "\n",
      "# Zeitableitungen der Schwerpunktskoordinaten\n",
      "Sd1, Sd2 = st.col_split(st.perform_time_derivative(st.col_stack(S1, S2), theta)) ##"
     ],
     "language": "python",
     "metadata": {},
     "outputs": [
      {
       "latex": [
        "$$\\left[\\begin{matrix}- \\dot{q}_{1} s_{1} \\sin{\\left (q_{1} \\right )}\\\\\\dot{q}_{1} s_{1} \\cos{\\left (q_{1} \\right )}\\end{matrix}\\right]$$"
       ],
       "metadata": {},
       "output_type": "display_data",
       "png": "[encoded data removed]",
       "text": [
        "\u23a1-q\u0307\u2081\u22c5s\u2081\u22c5sin(q\u2081)\u23a4\n",
        "\u23a2               \u23a5\n",
        "\u23a3q\u0307\u2081\u22c5s\u2081\u22c5cos(q\u2081) \u23a6"
       ]
      },
      {
       "latex": [
        "$$\\left[\\begin{matrix}- l_{1} \\dot{q}_{1} \\sin{\\left (q_{1} \\right )} - s_{2} \\left(\\dot{p}_{1} + \\dot{q}_{1}\\right) \\sin{\\left (p_{1} + q_{1} \\right )}\\\\l_{1} \\dot{q}_{1} \\cos{\\left (q_{1} \\right )} + s_{2} \\left(\\dot{p}_{1} + \\dot{q}_{1}\\right) \\cos{\\left (p_{1} + q_{1} \\right )}\\end{matrix}\\right]$$"
       ],
       "metadata": {},
       "output_type": "display_data",
       "png": "[encoded data removed]",
       "text": [
        "\u23a1-l\u2081\u22c5q\u0307\u2081\u22c5sin(q\u2081) - s\u2082\u22c5(p\u0307\u2081 + q\u0307\u2081)\u22c5sin(p\u2081 + q\u2081)\u23a4\n",
        "\u23a2                                             \u23a5\n",
        "\u23a3l\u2081\u22c5q\u0307\u2081\u22c5cos(q\u2081) + s\u2082\u22c5(p\u0307\u2081 + q\u0307\u2081)\u22c5cos(p\u2081 + q\u2081) \u23a6"
       ]
      },
      {
       "output_type": "stream",
       "stream": "stdout",
       "text": [
        "---\n"
       ]
      }
     ],
     "prompt_number": 18
    },
    {
     "cell_type": "code",
     "collapsed": false,
     "input": [
      "# Kinetischeenergie\n",
      "\n",
      "T_rot = (J1*qdot1**2)/2 + (J2*(qdot1 + pdot1)**2)/2\n",
      "T_trans = ( m1*Sd1.T*Sd1  +  m2*Sd2.T*Sd2 )/2\n",
      "\n",
      "T = T_rot + T_trans[0] ##:\n",
      "\n",
      "# Potentielle Energie\n",
      "V = 0"
     ],
     "language": "python",
     "metadata": {},
     "outputs": [
      {
       "latex": [
        "T := $$\\frac{J_{1} \\dot{q}_{1}^{2}}{2} + \\frac{J_{2}}{2} \\left(\\dot{p}_{1} + \\dot{q}_{1}\\right)^{2} + \\frac{m_{1} \\dot{q}_{1}^{2}}{2} s_{1}^{2} \\sin^{2}{\\left (q_{1} \\right )} + \\frac{m_{1} \\dot{q}_{1}^{2}}{2} s_{1}^{2} \\cos^{2}{\\left (q_{1} \\right )} + \\frac{m_{2}}{2} \\left(- l_{1} \\dot{q}_{1} \\sin{\\left (q_{1} \\right )} - s_{2} \\left(\\dot{p}_{1} + \\dot{q}_{1}\\right) \\sin{\\left (p_{1} + q_{1} \\right )}\\right)^{2} + \\frac{m_{2}}{2} \\left(l_{1} \\dot{q}_{1} \\cos{\\left (q_{1} \\right )} + s_{2} \\left(\\dot{p}_{1} + \\dot{q}_{1}\\right) \\cos{\\left (p_{1} + q_{1} \\right )}\\right)^{2}$$"
       ],
       "metadata": {},
       "output_type": "display_data",
       "png": "[encoded data removed]",
       "text": [
        "T :=       2                 2         2   2    2             2   2    2           \n",
        "J\u2081\u22c5q\u0307\u2081    J\u2082\u22c5(p\u0307\u2081 + q\u0307\u2081)    m\u2081\u22c5q\u0307\u2081 \u22c5s\u2081 \u22c5sin (q\u2081)   m\u2081\u22c5q\u0307\u2081 \u22c5s\u2081 \u22c5cos (q\u2081)   m\u2082\u22c5(\n",
        "\u2500\u2500\u2500\u2500\u2500\u2500\u2500 + \u2500\u2500\u2500\u2500\u2500\u2500\u2500\u2500\u2500\u2500\u2500\u2500\u2500\u2500\u2500 + \u2500\u2500\u2500\u2500\u2500\u2500\u2500\u2500\u2500\u2500\u2500\u2500\u2500\u2500\u2500\u2500\u2500\u2500\u2500\u2500 + \u2500\u2500\u2500\u2500\u2500\u2500\u2500\u2500\u2500\u2500\u2500\u2500\u2500\u2500\u2500\u2500\u2500\u2500\u2500\u2500 + \u2500\u2500\u2500\u2500\n",
        "   2             2                   2                      2                 \n",
        "\n",
        "                                              2                               \n",
        "-l\u2081\u22c5q\u0307\u2081\u22c5sin(q\u2081) - s\u2082\u22c5(p\u0307\u2081 + q\u0307\u2081)\u22c5sin(p\u2081 + q\u2081))    m\u2082\u22c5(l\u2081\u22c5q\u0307\u2081\u22c5cos(q\u2081) + s\u2082\u22c5(p\u0307\u2081\n",
        "\u2500\u2500\u2500\u2500\u2500\u2500\u2500\u2500\u2500\u2500\u2500\u2500\u2500\u2500\u2500\u2500\u2500\u2500\u2500\u2500\u2500\u2500\u2500\u2500\u2500\u2500\u2500\u2500\u2500\u2500\u2500\u2500\u2500\u2500\u2500\u2500\u2500\u2500\u2500\u2500\u2500\u2500\u2500\u2500\u2500\u2500\u2500 + \u2500\u2500\u2500\u2500\u2500\u2500\u2500\u2500\u2500\u2500\u2500\u2500\u2500\u2500\u2500\u2500\u2500\u2500\u2500\u2500\u2500\u2500\u2500\u2500\u2500\u2500\u2500\u2500\n",
        "                     2                                                    2   \n",
        "\n",
        "                     2\n",
        " + q\u0307\u2081)\u22c5cos(p\u2081 + q\u2081)) \n",
        "\u2500\u2500\u2500\u2500\u2500\u2500\u2500\u2500\u2500\u2500\u2500\u2500\u2500\u2500\u2500\u2500\u2500\u2500\u2500\u2500\u2500\u2500\n",
        "                      "
       ]
      },
      {
       "output_type": "stream",
       "stream": "stdout",
       "text": [
        "---\n"
       ]
      }
     ],
     "prompt_number": 41
    },
    {
     "cell_type": "code",
     "collapsed": false,
     "input": [
      "external_forces = [0, tau1]\n",
      "assert not any(external_forces[:np])\n",
      "mod = mt.generate_symbolic_model(T, V, theta, external_forces)\n",
      "mod.eqns.simplify()"
     ],
     "language": "python",
     "metadata": {},
     "outputs": [],
     "prompt_number": 42
    },
    {
     "cell_type": "code",
     "collapsed": false,
     "input": [
      "# Massenmatrix\n",
      "mod.MM"
     ],
     "language": "python",
     "metadata": {},
     "outputs": [
      {
       "latex": [
        "$$\\left[\\begin{matrix}J_{2} + m_{2} s_{2}^{2} & J_{2} + l_{1} m_{2} s_{2} \\cos{\\left (p_{1} \\right )} + m_{2} s_{2}^{2}\\\\J_{2} + l_{1} m_{2} s_{2} \\cos{\\left (p_{1} \\right )} + m_{2} s_{2}^{2} & J_{1} + J_{2} + l_{1}^{2} m_{2} + 2 l_{1} m_{2} s_{2} \\cos{\\left (p_{1} \\right )} + m_{1} s_{1}^{2} + m_{2} s_{2}^{2}\\end{matrix}\\right]$$"
       ],
       "metadata": {},
       "output_type": "pyout",
       "png": "[encoded data removed]",
       "prompt_number": 47,
       "text": [
        "\u23a1                   2                                                     2   \n",
        "\u23a2         J\u2082 + m\u2082\u22c5s\u2082                         J\u2082 + l\u2081\u22c5m\u2082\u22c5s\u2082\u22c5cos(p\u2081) + m\u2082\u22c5s\u2082    \n",
        "\u23a2                                                                             \n",
        "\u23a2                             2              2                                \n",
        "\u23a3J\u2082 + l\u2081\u22c5m\u2082\u22c5s\u2082\u22c5cos(p\u2081) + m\u2082\u22c5s\u2082   J\u2081 + J\u2082 + l\u2081 \u22c5m\u2082 + 2\u22c5l\u2081\u22c5m\u2082\u22c5s\u2082\u22c5cos(p\u2081) + m\u2081\u22c5s\u2081\n",
        "\n",
        "          \u23a4\n",
        "          \u23a5\n",
        "          \u23a5\n",
        "2        2\u23a5\n",
        "  + m\u2082\u22c5s\u2082 \u23a6"
       ]
      }
     ],
     "prompt_number": 47
    },
    {
     "cell_type": "code",
     "collapsed": false,
     "input": [
      "mod.calc_coll_part_lin_state_eq(simplify=True)\n",
      "kappa_subs = l1*s2*m2/(J2+m2*s2**2)\n",
      "\n",
      "ff = mod.ff.subs(kappa_subs, kappa) ##:\n",
      "gg = mod.gg.expand().subs(kappa_subs, kappa)\n",
      "gg.simplify()\n",
      "gg"
     ],
     "language": "python",
     "metadata": {},
     "outputs": [
      {
       "latex": [
        "ff := $$\\left[\\begin{matrix}\\dot{p}_{1}\\\\\\dot{q}_{1}\\\\- \\kappa \\dot{q}_{1}^{2} \\sin{\\left (p_{1} \\right )}\\\\0\\end{matrix}\\right]$$"
       ],
       "metadata": {},
       "output_type": "display_data",
       "png": "[encoded data removed]",
       "text": [
        "ff := \u23a1      p\u0307\u2081      \u23a4\n",
        "\u23a2               \u23a5\n",
        "\u23a2      q\u0307\u2081      \u23a5\n",
        "\u23a2               \u23a5\n",
        "\u23a2      2        \u23a5\n",
        "\u23a2-\u03ba\u22c5q\u0307\u2081 \u22c5sin(p\u2081)\u23a5\n",
        "\u23a2               \u23a5\n",
        "\u23a3       0       \u23a6"
       ]
      },
      {
       "output_type": "stream",
       "stream": "stdout",
       "text": [
        "---\n"
       ]
      },
      {
       "latex": [
        "$$\\left[\\begin{matrix}0\\\\0\\\\- \\kappa \\cos{\\left (p_{1} \\right )} - 1\\\\1\\end{matrix}\\right]$$"
       ],
       "metadata": {},
       "output_type": "pyout",
       "png": "[encoded data removed]",
       "prompt_number": 55,
       "text": [
        "\u23a1      0       \u23a4\n",
        "\u23a2              \u23a5\n",
        "\u23a2      0       \u23a5\n",
        "\u23a2              \u23a5\n",
        "\u23a2-\u03ba\u22c5cos(p\u2081) - 1\u23a5\n",
        "\u23a2              \u23a5\n",
        "\u23a3      1       \u23a6"
       ]
      }
     ],
     "prompt_number": 55
    },
    {
     "cell_type": "markdown",
     "metadata": {},
     "source": [
      "### Lokale Zug\u00e4nglichkeit pr\u00fcfen"
     ]
    },
    {
     "cell_type": "markdown",
     "metadata": {},
     "source": [
      "Distribution $\\Delta_\\text{z}$ bilden:"
     ]
    },
    {
     "cell_type": "code",
     "collapsed": false,
     "input": [
      "Delta_z = st.col_stack(ff, gg) ##"
     ],
     "language": "python",
     "metadata": {},
     "outputs": [
      {
       "latex": [
        "$$\\left[\\begin{matrix}\\dot{p}_{1} & 0\\\\\\dot{q}_{1} & 0\\\\- \\kappa \\dot{q}_{1}^{2} \\sin{\\left (p_{1} \\right )} & - \\kappa \\cos{\\left (p_{1} \\right )} - 1\\\\0 & 1\\end{matrix}\\right]$$"
       ],
       "metadata": {},
       "output_type": "display_data",
       "png": "[encoded data removed]",
       "text": [
        "\u23a1      p\u0307\u2081              0       \u23a4\n",
        "\u23a2                               \u23a5\n",
        "\u23a2      q\u0307\u2081              0       \u23a5\n",
        "\u23a2                               \u23a5\n",
        "\u23a2      2                        \u23a5\n",
        "\u23a2-\u03ba\u22c5q\u0307\u2081 \u22c5sin(p\u2081)  -\u03ba\u22c5cos(p\u2081) - 1\u23a5\n",
        "\u23a2                               \u23a5\n",
        "\u23a3       0               1       \u23a6"
       ]
      },
      {
       "output_type": "stream",
       "stream": "stdout",
       "text": [
        "---\n"
       ]
      }
     ],
     "prompt_number": 57
    },
    {
     "cell_type": "markdown",
     "metadata": {},
     "source": [
      "#### Schrittweise Involutiven Abschluss $c := \\operatorname{inv}(\\Delta_\\text{z})$ bilden:"
     ]
    },
    {
     "cell_type": "code",
     "collapsed": false,
     "input": [
      "# Zustandsvektor\n",
      "xx = mod.xx ##"
     ],
     "language": "python",
     "metadata": {},
     "outputs": [
      {
       "latex": [
        "$$\\left[\\begin{matrix}p_{1}\\\\q_{1}\\\\\\dot{p}_{1}\\\\\\dot{q}_{1}\\end{matrix}\\right]$$"
       ],
       "metadata": {},
       "output_type": "display_data",
       "png": "[encoded data removed]",
       "text": [
        "\u23a1p\u2081 \u23a4\n",
        "\u23a2   \u23a5\n",
        "\u23a2q\u2081 \u23a5\n",
        "\u23a2   \u23a5\n",
        "\u23a2p\u0307\u2081\u23a5\n",
        "\u23a2   \u23a5\n",
        "\u23a3q\u0307\u2081\u23a6"
       ]
      },
      {
       "output_type": "stream",
       "stream": "stdout",
       "text": [
        "---\n"
       ]
      }
     ],
     "prompt_number": 60
    },
    {
     "cell_type": "code",
     "collapsed": false,
     "input": [
      "lb_f1g = st.lie_bracket(ff, gg, xx) ##"
     ],
     "language": "python",
     "metadata": {},
     "outputs": [
      {
       "latex": [
        "$$\\left[\\begin{matrix}\\kappa \\cos{\\left (p_{1} \\right )} + 1\\\\-1\\\\\\kappa \\dot{p}_{1} \\sin{\\left (p_{1} \\right )} + 2 \\kappa \\dot{q}_{1} \\sin{\\left (p_{1} \\right )}\\\\0\\end{matrix}\\right]$$"
       ],
       "metadata": {},
       "output_type": "display_data",
       "png": "[encoded data removed]",
       "text": [
        "\u23a1         \u03ba\u22c5cos(p\u2081) + 1         \u23a4\n",
        "\u23a2                               \u23a5\n",
        "\u23a2              -1               \u23a5\n",
        "\u23a2                               \u23a5\n",
        "\u23a2\u03ba\u22c5p\u0307\u2081\u22c5sin(p\u2081) + 2\u22c5\u03ba\u22c5q\u0307\u2081\u22c5sin(p\u2081)\u23a5\n",
        "\u23a2                               \u23a5\n",
        "\u23a3               0               \u23a6"
       ]
      },
      {
       "output_type": "stream",
       "stream": "stdout",
       "text": [
        "---\n"
       ]
      }
     ],
     "prompt_number": 90
    },
    {
     "cell_type": "code",
     "collapsed": false,
     "input": [
      "D1 = st.col_stack(Delta_z, lb_f1g) ##\n",
      "st.involutivity_test(D1, xx)"
     ],
     "language": "python",
     "metadata": {},
     "outputs": [
      {
       "latex": [
        "$$\\left[\\begin{matrix}\\dot{p}_{1} & 0 & \\kappa \\cos{\\left (p_{1} \\right )} + 1\\\\\\dot{q}_{1} & 0 & -1\\\\- \\kappa \\dot{q}_{1}^{2} \\sin{\\left (p_{1} \\right )} & - \\kappa \\cos{\\left (p_{1} \\right )} - 1 & \\kappa \\dot{p}_{1} \\sin{\\left (p_{1} \\right )} + 2 \\kappa \\dot{q}_{1} \\sin{\\left (p_{1} \\right )}\\\\0 & 1 & 0\\end{matrix}\\right]$$"
       ],
       "metadata": {},
       "output_type": "display_data",
       "png": "[encoded data removed]",
       "text": [
        "\u23a1      p\u0307\u2081              0                  \u03ba\u22c5cos(p\u2081) + 1         \u23a4\n",
        "\u23a2                                                                \u23a5\n",
        "\u23a2      q\u0307\u2081              0                       -1               \u23a5\n",
        "\u23a2                                                                \u23a5\n",
        "\u23a2      2                                                         \u23a5\n",
        "\u23a2-\u03ba\u22c5q\u0307\u2081 \u22c5sin(p\u2081)  -\u03ba\u22c5cos(p\u2081) - 1  \u03ba\u22c5p\u0307\u2081\u22c5sin(p\u2081) + 2\u22c5\u03ba\u22c5q\u0307\u2081\u22c5sin(p\u2081)\u23a5\n",
        "\u23a2                                                                \u23a5\n",
        "\u23a3       0               1                        0               \u23a6"
       ]
      },
      {
       "output_type": "stream",
       "stream": "stdout",
       "text": [
        "---\n"
       ]
      },
      {
       "metadata": {},
       "output_type": "pyout",
       "prompt_number": 91,
       "text": [
        "(False, (0, 2))"
       ]
      }
     ],
     "prompt_number": 91
    },
    {
     "cell_type": "code",
     "collapsed": false,
     "input": [
      "lb_g1f1g = st.lie_bracket(D1[:,0], D1[:,2], xx) ##\n",
      "lb2.simplify()"
     ],
     "language": "python",
     "metadata": {},
     "outputs": [
      {
       "latex": [
        "$$\\left[\\begin{matrix}- 2 \\kappa \\dot{p}_{1} \\sin{\\left (p_{1} \\right )} - 2 \\kappa \\dot{q}_{1} \\sin{\\left (p_{1} \\right )}\\\\0\\\\- \\kappa^{2} \\dot{q}_{1}^{2} \\sin^{2}{\\left (p_{1} \\right )} + \\kappa \\dot{q}_{1}^{2} \\left(\\kappa \\cos{\\left (p_{1} \\right )} + 1\\right) \\cos{\\left (p_{1} \\right )} + \\dot{p}_{1} \\left(\\kappa \\dot{p}_{1} \\cos{\\left (p_{1} \\right )} + 2 \\kappa \\dot{q}_{1} \\cos{\\left (p_{1} \\right )}\\right)\\\\0\\end{matrix}\\right]$$"
       ],
       "metadata": {},
       "output_type": "display_data",
       "png": "[encoded data removed]",
       "text": [
        "\u23a1                            -2\u22c5\u03ba\u22c5p\u0307\u2081\u22c5sin(p\u2081) - 2\u22c5\u03ba\u22c5q\u0307\u2081\u22c5sin(p\u2081)               \n",
        "\u23a2                                                                             \n",
        "\u23a2                                             0                               \n",
        "\u23a2                                                                             \n",
        "\u23a2   2    2    2            2                                                  \n",
        "\u23a2- \u03ba \u22c5q\u0307\u2081 \u22c5sin (p\u2081) + \u03ba\u22c5q\u0307\u2081 \u22c5(\u03ba\u22c5cos(p\u2081) + 1)\u22c5cos(p\u2081) + p\u0307\u2081\u22c5(\u03ba\u22c5p\u0307\u2081\u22c5cos(p\u2081) + 2\u22c5\n",
        "\u23a2                                                                             \n",
        "\u23a3                                             0                               \n",
        "\n",
        "              \u23a4\n",
        "              \u23a5\n",
        "              \u23a5\n",
        "              \u23a5\n",
        "              \u23a5\n",
        "\u03ba\u22c5q\u0307\u2081\u22c5cos(p\u2081))\u23a5\n",
        "              \u23a5\n",
        "              \u23a6"
       ]
      },
      {
       "output_type": "stream",
       "stream": "stdout",
       "text": [
        "---\n"
       ]
      }
     ],
     "prompt_number": 93
    },
    {
     "cell_type": "code",
     "collapsed": false,
     "input": [
      "D2 = st.col_stack(D1, lb_g1f1g) ##\n",
      "st.involutivity_test(D2, xx)"
     ],
     "language": "python",
     "metadata": {},
     "outputs": [
      {
       "latex": [
        "$$\\left[\\begin{matrix}\\dot{p}_{1} & 0 & \\kappa \\cos{\\left (p_{1} \\right )} + 1 & - 2 \\kappa \\dot{p}_{1} \\sin{\\left (p_{1} \\right )} - 2 \\kappa \\dot{q}_{1} \\sin{\\left (p_{1} \\right )}\\\\\\dot{q}_{1} & 0 & -1 & 0\\\\- \\kappa \\dot{q}_{1}^{2} \\sin{\\left (p_{1} \\right )} & - \\kappa \\cos{\\left (p_{1} \\right )} - 1 & \\kappa \\dot{p}_{1} \\sin{\\left (p_{1} \\right )} + 2 \\kappa \\dot{q}_{1} \\sin{\\left (p_{1} \\right )} & - \\kappa^{2} \\dot{q}_{1}^{2} \\sin^{2}{\\left (p_{1} \\right )} + \\kappa \\dot{q}_{1}^{2} \\left(\\kappa \\cos{\\left (p_{1} \\right )} + 1\\right) \\cos{\\left (p_{1} \\right )} + \\dot{p}_{1} \\left(\\kappa \\dot{p}_{1} \\cos{\\left (p_{1} \\right )} + 2 \\kappa \\dot{q}_{1} \\cos{\\left (p_{1} \\right )}\\right)\\\\0 & 1 & 0 & 0\\end{matrix}\\right]$$"
       ],
       "metadata": {},
       "output_type": "display_data",
       "png": "[encoded data removed]",
       "text": [
        "\u23a1      p\u0307\u2081              0                  \u03ba\u22c5cos(p\u2081) + 1                      \n",
        "\u23a2                                                                             \n",
        "\u23a2      q\u0307\u2081              0                       -1                            \n",
        "\u23a2                                                                             \n",
        "\u23a2      2                                                              2    2  \n",
        "\u23a2-\u03ba\u22c5q\u0307\u2081 \u22c5sin(p\u2081)  -\u03ba\u22c5cos(p\u2081) - 1  \u03ba\u22c5p\u0307\u2081\u22c5sin(p\u2081) + 2\u22c5\u03ba\u22c5q\u0307\u2081\u22c5sin(p\u2081)  - \u03ba \u22c5q\u0307\u2081 \u22c5s\n",
        "\u23a2                                                                             \n",
        "\u23a3       0               1                        0                            \n",
        "\n",
        "                 -2\u22c5\u03ba\u22c5p\u0307\u2081\u22c5sin(p\u2081) - 2\u22c5\u03ba\u22c5q\u0307\u2081\u22c5sin(p\u2081)                           \n",
        "                                                                              \n",
        "                                  0                                           \n",
        "                                                                              \n",
        "  2            2                                                              \n",
        "in (p\u2081) + \u03ba\u22c5q\u0307\u2081 \u22c5(\u03ba\u22c5cos(p\u2081) + 1)\u22c5cos(p\u2081) + p\u0307\u2081\u22c5(\u03ba\u22c5p\u0307\u2081\u22c5cos(p\u2081) + 2\u22c5\u03ba\u22c5q\u0307\u2081\u22c5cos(p\u2081\n",
        "                                                                              \n",
        "                                  0                                           \n",
        "\n",
        "  \u23a4\n",
        "  \u23a5\n",
        "  \u23a5\n",
        "  \u23a5\n",
        "  \u23a5\n",
        "))\u23a5\n",
        "  \u23a5\n",
        "  \u23a6"
       ]
      },
      {
       "output_type": "stream",
       "stream": "stdout",
       "text": [
        "---\n"
       ]
      },
      {
       "metadata": {},
       "output_type": "pyout",
       "prompt_number": 94,
       "text": [
        "(True, [])"
       ]
      }
     ],
     "prompt_number": 94
    },
    {
     "cell_type": "code",
     "collapsed": false,
     "input": [
      "Delta_Z = D2\n",
      "st.rnd_number_rank(Delta_Z)"
     ],
     "language": "python",
     "metadata": {},
     "outputs": [
      {
       "latex": [
        "$$4$$"
       ],
       "metadata": {},
       "output_type": "pyout",
       "png": "[encoded data removed]",
       "prompt_number": 95,
       "text": [
        "4"
       ]
      }
     ],
     "prompt_number": 95
    },
    {
     "cell_type": "markdown",
     "metadata": {},
     "source": [
      "#### Fazit:\n",
      "Die Distribution $\\Delta_{\\text{Z}}$ hat also f\u00fcr einen generischen Zustand vollen Rang. Das System ist lokal erreichbar.\n",
      "\n",
      "---\n",
      "\n",
      "### Starke lokale Zug\u00e4nglichkeit pr\u00fcfen\n",
      "\n",
      "Aus $\\Delta_0 := \\opspan \\bs g_1$ schrittweise die Distribution $\\Delta_{\\text{sZ}}$ bilden:"
     ]
    },
    {
     "cell_type": "code",
     "collapsed": false,
     "input": [
      "D1 = st.col_stack(gg, lb_f1g)\n",
      "st.rnd_number_rank(D1) ##"
     ],
     "language": "python",
     "metadata": {},
     "outputs": [
      {
       "latex": [
        "$$2$$"
       ],
       "metadata": {},
       "output_type": "display_data",
       "png": "[encoded data removed]",
       "text": [
        "2"
       ]
      },
      {
       "output_type": "stream",
       "stream": "stdout",
       "text": [
        "___\n"
       ]
      }
     ],
     "prompt_number": 98
    },
    {
     "cell_type": "code",
     "collapsed": false,
     "input": [
      "lb_f2g = st.lie_bracket(ff, D1[:, -1], xx) ##\n",
      "D2 = st.col_stack(D1, lb_f2g)\n",
      "st.rnd_number_rank(D2) ##"
     ],
     "language": "python",
     "metadata": {},
     "outputs": [
      {
       "latex": [
        "$$\\left[\\begin{matrix}- 2 \\kappa \\dot{p}_{1} \\sin{\\left (p_{1} \\right )} - 2 \\kappa \\dot{q}_{1} \\sin{\\left (p_{1} \\right )}\\\\0\\\\- \\kappa^{2} \\dot{q}_{1}^{2} \\sin^{2}{\\left (p_{1} \\right )} + \\kappa \\dot{q}_{1}^{2} \\left(\\kappa \\cos{\\left (p_{1} \\right )} + 1\\right) \\cos{\\left (p_{1} \\right )} + \\dot{p}_{1} \\left(\\kappa \\dot{p}_{1} \\cos{\\left (p_{1} \\right )} + 2 \\kappa \\dot{q}_{1} \\cos{\\left (p_{1} \\right )}\\right)\\\\0\\end{matrix}\\right]$$"
       ],
       "metadata": {},
       "output_type": "display_data",
       "png": "[encoded data removed]",
       "text": [
        "\u23a1                            -2\u22c5\u03ba\u22c5p\u0307\u2081\u22c5sin(p\u2081) - 2\u22c5\u03ba\u22c5q\u0307\u2081\u22c5sin(p\u2081)               \n",
        "\u23a2                                                                             \n",
        "\u23a2                                             0                               \n",
        "\u23a2                                                                             \n",
        "\u23a2   2    2    2            2                                                  \n",
        "\u23a2- \u03ba \u22c5q\u0307\u2081 \u22c5sin (p\u2081) + \u03ba\u22c5q\u0307\u2081 \u22c5(\u03ba\u22c5cos(p\u2081) + 1)\u22c5cos(p\u2081) + p\u0307\u2081\u22c5(\u03ba\u22c5p\u0307\u2081\u22c5cos(p\u2081) + 2\u22c5\n",
        "\u23a2                                                                             \n",
        "\u23a3                                             0                               \n",
        "\n",
        "              \u23a4\n",
        "              \u23a5\n",
        "              \u23a5\n",
        "              \u23a5\n",
        "              \u23a5\n",
        "\u03ba\u22c5q\u0307\u2081\u22c5cos(p\u2081))\u23a5\n",
        "              \u23a5\n",
        "              \u23a6"
       ]
      },
      {
       "output_type": "stream",
       "stream": "stdout",
       "text": [
        "---\n"
       ]
      },
      {
       "latex": [
        "$$3$$"
       ],
       "metadata": {},
       "output_type": "display_data",
       "png": "[encoded data removed]",
       "text": [
        "3"
       ]
      },
      {
       "output_type": "stream",
       "stream": "stdout",
       "text": [
        "___\n"
       ]
      }
     ],
     "prompt_number": 97
    },
    {
     "cell_type": "code",
     "collapsed": false,
     "input": [
      "lb_f3g = st.lie_bracket(ff, D2[:, -1], xx) ##\n",
      "D3 = st.col_stack(D2, lb_f3g)\n",
      "st.rnd_number_rank(D3) ##"
     ],
     "language": "python",
     "metadata": {},
     "outputs": [
      {
       "latex": [
        "$$\\left[\\begin{matrix}3 \\kappa^{2} \\dot{q}_{1}^{2} \\sin^{2}{\\left (p_{1} \\right )} - \\kappa \\dot{q}_{1}^{2} \\left(\\kappa \\cos{\\left (p_{1} \\right )} + 1\\right) \\cos{\\left (p_{1} \\right )} + \\dot{p}_{1} \\left(- 2 \\kappa \\dot{p}_{1} \\cos{\\left (p_{1} \\right )} - 2 \\kappa \\dot{q}_{1} \\cos{\\left (p_{1} \\right )}\\right) - \\dot{p}_{1} \\left(\\kappa \\dot{p}_{1} \\cos{\\left (p_{1} \\right )} + 2 \\kappa \\dot{q}_{1} \\cos{\\left (p_{1} \\right )}\\right)\\\\0\\\\\\kappa \\dot{q}_{1}^{2} \\left(- 2 \\kappa \\dot{p}_{1} \\sin{\\left (p_{1} \\right )} - 2 \\kappa \\dot{q}_{1} \\sin{\\left (p_{1} \\right )}\\right) \\cos{\\left (p_{1} \\right )} - \\kappa \\dot{q}_{1}^{2} \\left(2 \\kappa \\dot{p}_{1} \\cos{\\left (p_{1} \\right )} + 2 \\kappa \\dot{q}_{1} \\cos{\\left (p_{1} \\right )}\\right) \\sin{\\left (p_{1} \\right )} + \\dot{p}_{1} \\left(- 3 \\kappa^{2} \\dot{q}_{1}^{2} \\sin{\\left (p_{1} \\right )} \\cos{\\left (p_{1} \\right )} - \\kappa \\dot{q}_{1}^{2} \\left(\\kappa \\cos{\\left (p_{1} \\right )} + 1\\right) \\sin{\\left (p_{1} \\right )} + \\dot{p}_{1} \\left(- \\kappa \\dot{p}_{1} \\sin{\\left (p_{1} \\right )} - 2 \\kappa \\dot{q}_{1} \\sin{\\left (p_{1} \\right )}\\right)\\right)\\\\0\\end{matrix}\\right]$$"
       ],
       "metadata": {},
       "output_type": "display_data",
       "png": "[encoded data removed]",
       "text": [
        "\u23a1                                           2    2    2            2          \n",
        "\u23a2                                        3\u22c5\u03ba \u22c5q\u0307\u2081 \u22c5sin (p\u2081) - \u03ba\u22c5q\u0307\u2081 \u22c5(\u03ba\u22c5cos(p\u2081\n",
        "\u23a2                                                                             \n",
        "\u23a2                                                                             \n",
        "\u23a2                                                                             \n",
        "\u23a2     2                                                     2                 \n",
        "\u23a2\u03ba\u22c5q\u0307\u2081 \u22c5(-2\u22c5\u03ba\u22c5p\u0307\u2081\u22c5sin(p\u2081) - 2\u22c5\u03ba\u22c5q\u0307\u2081\u22c5sin(p\u2081))\u22c5cos(p\u2081) - \u03ba\u22c5q\u0307\u2081 \u22c5(2\u22c5\u03ba\u22c5p\u0307\u2081\u22c5cos(p\u2081)\n",
        "\u23a2                                                                             \n",
        "\u23a3                                                                             \n",
        "\n",
        "                                                                              \n",
        ") + 1)\u22c5cos(p\u2081) + p\u0307\u2081\u22c5(-2\u22c5\u03ba\u22c5p\u0307\u2081\u22c5cos(p\u2081) - 2\u22c5\u03ba\u22c5q\u0307\u2081\u22c5cos(p\u2081)) - p\u0307\u2081\u22c5(\u03ba\u22c5p\u0307\u2081\u22c5cos(p\u2081)\n",
        "                                                                              \n",
        "                             0                                                \n",
        "                                                                              \n",
        "                                  \u239b     2    2                        2       \n",
        " + 2\u22c5\u03ba\u22c5q\u0307\u2081\u22c5cos(p\u2081))\u22c5sin(p\u2081) + p\u0307\u2081\u22c5\u239d- 3\u22c5\u03ba \u22c5q\u0307\u2081 \u22c5sin(p\u2081)\u22c5cos(p\u2081) - \u03ba\u22c5q\u0307\u2081 \u22c5(\u03ba\u22c5cos\n",
        "                                                                              \n",
        "                             0                                                \n",
        "\n",
        "                                                           \u23a4\n",
        " + 2\u22c5\u03ba\u22c5q\u0307\u2081\u22c5cos(p\u2081))                                        \u23a5\n",
        "                                                           \u23a5\n",
        "                                                           \u23a5\n",
        "                                                           \u23a5\n",
        "                                                          \u239e\u23a5\n",
        "(p\u2081) + 1)\u22c5sin(p\u2081) + p\u0307\u2081\u22c5(-\u03ba\u22c5p\u0307\u2081\u22c5sin(p\u2081) - 2\u22c5\u03ba\u22c5q\u0307\u2081\u22c5sin(p\u2081))\u23a0\u23a5\n",
        "                                                           \u23a5\n",
        "                                                           \u23a6"
       ]
      },
      {
       "output_type": "stream",
       "stream": "stdout",
       "text": [
        "---\n"
       ]
      },
      {
       "latex": [
        "$$4$$"
       ],
       "metadata": {},
       "output_type": "display_data",
       "png": "[encoded data removed]",
       "text": [
        "4"
       ]
      },
      {
       "output_type": "stream",
       "stream": "stdout",
       "text": [
        "___\n"
       ]
      }
     ],
     "prompt_number": 89
    },
    {
     "cell_type": "markdown",
     "metadata": {},
     "source": [
      "Durch Hinzunahme (bezogen auf die lineare H\u00fclle) der Vektorfelder $[f, g], [f, [f, g]]$ und $[f, [f, [f, g]]]$ zu $\\Delta_0$ erh\u00e4lt man $\\Delta_{\\text{sZ}}$ mit $\\dim \\Delta_{\\text{sZ}}= 4 = n$ (f\u00fcr einen generischen Zustand).\n",
      "Weniger VF hinzuzunehmen h\u00e4tte nicht ausgereicht, weil der Rang mit jedem Schritt gr\u00f6\u00dfer wurde. Weil `D3` vollen Zeilenrang ist die Bedingung (b) aus dem Satz \u00fcber lokale starke Zug\u00e4nglichkeit automatisch erf\u00fcllt.\n"
     ]
    },
    {
     "cell_type": "code",
     "collapsed": false,
     "input": [
      "Delta_sZ = D3"
     ],
     "language": "python",
     "metadata": {},
     "outputs": [],
     "prompt_number": 99
    },
    {
     "cell_type": "markdown",
     "metadata": {},
     "source": [
      "\n",
      "#### Fazit: Das System ist lokal stark zug\u00e4nglich.\n",
      "\n",
      "---\n",
      "\n",
      "Was passiert in Ruhelagen?"
     ]
    },
    {
     "cell_type": "code",
     "collapsed": false,
     "input": [
      "Delta_Z.subz0(mu) ##\n",
      "Delta_sZ.subz0(mu) ##"
     ],
     "language": "python",
     "metadata": {},
     "outputs": [
      {
       "latex": [
        "$$\\left[\\begin{matrix}0 & 0 & \\kappa \\cos{\\left (p_{1} \\right )} + 1 & 0\\\\0 & 0 & -1 & 0\\\\0 & - \\kappa \\cos{\\left (p_{1} \\right )} - 1 & 0 & 0\\\\0 & 1 & 0 & 0\\end{matrix}\\right]$$"
       ],
       "metadata": {},
       "output_type": "display_data",
       "png": "[encoded data removed]",
       "text": [
        "\u23a10        0         \u03ba\u22c5cos(p\u2081) + 1  0\u23a4\n",
        "\u23a2                                   \u23a5\n",
        "\u23a20        0              -1        0\u23a5\n",
        "\u23a2                                   \u23a5\n",
        "\u23a20  -\u03ba\u22c5cos(p\u2081) - 1        0        0\u23a5\n",
        "\u23a2                                   \u23a5\n",
        "\u23a30        1               0        0\u23a6"
       ]
      },
      {
       "output_type": "stream",
       "stream": "stdout",
       "text": [
        "___\n"
       ]
      },
      {
       "latex": [
        "$$\\left[\\begin{matrix}0 & \\kappa \\cos{\\left (p_{1} \\right )} + 1 & 0 & 0\\\\0 & -1 & 0 & 0\\\\- \\kappa \\cos{\\left (p_{1} \\right )} - 1 & 0 & 0 & 0\\\\1 & 0 & 0 & 0\\end{matrix}\\right]$$"
       ],
       "metadata": {},
       "output_type": "display_data",
       "png": "[encoded data removed]",
       "text": [
        "\u23a1      0         \u03ba\u22c5cos(p\u2081) + 1  0  0\u23a4\n",
        "\u23a2                                   \u23a5\n",
        "\u23a2      0              -1        0  0\u23a5\n",
        "\u23a2                                   \u23a5\n",
        "\u23a2-\u03ba\u22c5cos(p\u2081) - 1        0        0  0\u23a5\n",
        "\u23a2                                   \u23a5\n",
        "\u23a3      1               0        0  0\u23a6"
       ]
      },
      {
       "output_type": "stream",
       "stream": "stdout",
       "text": [
        "___\n"
       ]
      }
     ],
     "prompt_number": 101
    },
    {
     "cell_type": "markdown",
     "metadata": {},
     "source": [
      "In beiden F\u00e4llen erfolgt ein Rangabfall um 2."
     ]
    }
   ],
   "metadata": {}
  }
 ]
}