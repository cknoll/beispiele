{
 "metadata": {
  "name": "",
  "signature": "sha256:be1af57cee6ec0d8aa892519d81c20118b62c99cc21ef2d9d4f9908a6250cdaa"
 },
 "nbformat": 3,
 "nbformat_minor": 0,
 "worksheets": [
  {
   "cells": [
    {
     "cell_type": "code",
     "collapsed": false,
     "input": [
      "import time\n",
      "print time.ctime()\n",
      "%load_ext displaytools"
     ],
     "language": "python",
     "metadata": {},
     "outputs": [
      {
       "output_type": "stream",
       "stream": "stdout",
       "text": [
        "Tue Jan 19 14:21:52 2016\n"
       ]
      }
     ],
     "prompt_number": 15
    },
    {
     "cell_type": "markdown",
     "metadata": {},
     "source": [
      "**Betrachtetes System**: Pendel mit horizontal verschieblicher Aufh\u00e4ngung (\"Wagen-Pendel-System\")\n",
      "\n",
      "\ufffc <img src=\"files/images/pendel_wagen.png\">\n",
      "\n",
      "**Betrachtete Fragen**:\n",
      "* Herleitung der Modellgleichungen\n",
      "    * partiell linearisiert\n",
      "    * LBI-NF \n",
      "* Anwendung der Ruled-Manifold-Bedingung zum Nachweis der Nichtflachheit\n",
      "* Untersuchung des Tangentialsystems zum Nachweis der Nichtflachheit\n",
      "\n",
      "\n",
      "\n",
      "\n",
      "$$\n",
      "%<custom_config>\n",
      "\\newcommand{\\col}{\\mathrm{col}}\n",
      "\\newcommand{\\bs}{\\boldsymbol}\n",
      "%</custom_config>\n",
      "$$"
     ]
    },
    {
     "cell_type": "code",
     "collapsed": false,
     "input": [
      "import sympy as sp\n",
      "from sympy import sin, cos, pi\n",
      "from sympy.interactive import printing\n",
      "import model_tools as mt\n",
      "from model_tools import Rz\n",
      "import symb_tools as st\n",
      "\n",
      "import pycartan as pc\n",
      "zip0 = st.zip0\n",
      "printing.init_printing(1)"
     ],
     "language": "python",
     "metadata": {},
     "outputs": [],
     "prompt_number": 1
    },
    {
     "cell_type": "code",
     "collapsed": false,
     "input": [
      "t = sp.Symbol('t')\n",
      "np = 1\n",
      "nq = 1\n",
      "n = np + nq\n",
      "pp = st.symb_vector(\"p1:{0}\".format(np+1))\n",
      "qq = st.symb_vector(\"q1:{0}\".format(nq+1))\n",
      "aa = st.symb_vector(\"a1:{0}\".format(nq+1))\n",
      "ww = st.symb_vector(\"w1:{0}\".format(nq+1))\n",
      "\n",
      "theta = st.row_stack(pp, qq) ##\n",
      "mu = st.perform_time_derivative(theta, theta) ##\n",
      "mud = st.perform_time_derivative(theta, theta, order=2) ##\n",
      "st.make_global(theta, 1)\n",
      "st.make_global(mu, 1)"
     ],
     "language": "python",
     "metadata": {},
     "outputs": [],
     "prompt_number": 2
    },
    {
     "cell_type": "code",
     "collapsed": false,
     "input": [
      "params = sp.symbols('m1, m2, s2, g')\n",
      "st.make_global(params, 1)\n",
      "\n",
      "tau1 = sp.Symbol(\"tau1\")"
     ],
     "language": "python",
     "metadata": {},
     "outputs": [],
     "prompt_number": 7
    },
    {
     "cell_type": "markdown",
     "metadata": {},
     "source": [
      "### Festlegung der Geometrie des mechanischen Systemes"
     ]
    },
    {
     "cell_type": "code",
     "collapsed": false,
     "input": [
      "#Einheitsvektoren\n",
      "\n",
      "ex = sp.Matrix([1,0])\n",
      "ey = sp.Matrix([0,1])\n",
      "\n",
      "\n",
      "# Koordinaten der Schwerpunkte und Gelenke\n",
      "\n",
      "S1 = ex*q1 # Schwerpunkt Wagen\n",
      "G2 = S1 # Pendel-Gelenk\n",
      "\n",
      "# Schwerpunkt des Pendels (Pendel zeigt f\u00fcr kleine Winkel nach unten)\n",
      "S2 = G2 + Rz(p1)*(-ey)*s2\n",
      "\n",
      "# Zeitableitungen der Schwerpunktskoordinaten\n",
      "Sd1, Sd2  = st.col_split(st.perform_time_derivative(st.col_stack(S1, S2), theta)) ##"
     ],
     "language": "python",
     "metadata": {},
     "outputs": [],
     "prompt_number": 8
    },
    {
     "cell_type": "code",
     "collapsed": false,
     "input": [
      "# Energie\n",
      "T_rot = 0 # (Punktmassenmodell)\n",
      "T_trans = ( m1*Sd1.T*Sd1  +  m2*Sd2.T*Sd2 )/2\n",
      "\n",
      "T = T_rot + T_trans[0]\n",
      "\n",
      "V = m2*g*S2[1]"
     ],
     "language": "python",
     "metadata": {},
     "outputs": [],
     "prompt_number": 9
    },
    {
     "cell_type": "code",
     "collapsed": false,
     "input": [
      "V"
     ],
     "language": "python",
     "metadata": {},
     "outputs": [
      {
       "latex": [
        "$$- g m_{2} s_{2} \\cos{\\left (p_{1} \\right )}$$"
       ],
       "metadata": {},
       "output_type": "pyout",
       "png": "[encoded data removed]",
       "prompt_number": 10,
       "text": [
        "-g\u22c5m\u2082\u22c5s\u2082\u22c5cos(p\u2081)"
       ]
      }
     ],
     "prompt_number": 10
    },
    {
     "cell_type": "code",
     "collapsed": false,
     "input": [
      "mod = mt.generate_symbolic_model(T, V, theta, [0, tau1])"
     ],
     "language": "python",
     "metadata": {},
     "outputs": [],
     "prompt_number": 11
    },
    {
     "cell_type": "code",
     "collapsed": false,
     "input": [
      "mod.MM.simplify()\n",
      "mod.MM"
     ],
     "language": "python",
     "metadata": {},
     "outputs": [
      {
       "latex": [
        "$$\\left[\\begin{matrix}m_{2} s_{2}^{2} & m_{2} s_{2} \\cos{\\left (p_{1} \\right )}\\\\m_{2} s_{2} \\cos{\\left (p_{1} \\right )} & m_{1} + m_{2}\\end{matrix}\\right]$$"
       ],
       "metadata": {},
       "output_type": "pyout",
       "png": "[encoded data removed]",
       "prompt_number": 12,
       "text": [
        "\u23a1        2                   \u23a4\n",
        "\u23a2   m\u2082\u22c5s\u2082       m\u2082\u22c5s\u2082\u22c5cos(p\u2081)\u23a5\n",
        "\u23a2                            \u23a5\n",
        "\u23a3m\u2082\u22c5s\u2082\u22c5cos(p\u2081)     m\u2081 + m\u2082   \u23a6"
       ]
      }
     ],
     "prompt_number": 12
    },
    {
     "cell_type": "markdown",
     "metadata": {},
     "source": [
      "### Bestimmung der partiell lineariserten Systemgleichungen"
     ]
    },
    {
     "cell_type": "code",
     "collapsed": false,
     "input": [
      "mod.calc_coll_part_lin_state_eq(simplify=True)"
     ],
     "language": "python",
     "metadata": {},
     "outputs": [],
     "prompt_number": 13
    },
    {
     "cell_type": "code",
     "collapsed": false,
     "input": [
      "f = mod.ff ##:\n",
      "G = mod.gg ##:\n",
      "xx = mod.x ##:\n",
      "g1 = st.col_split(G)"
     ],
     "language": "python",
     "metadata": {},
     "outputs": [
      {
       "latex": [
        "f := $$\\left[\\begin{matrix}\\dot{p}_{1}\\\\\\dot{q}_{1}\\\\- \\frac{g}{s_{2}} \\sin{\\left (p_{1} \\right )}\\\\0\\end{matrix}\\right]$$"
       ],
       "metadata": {},
       "output_type": "display_data",
       "png": "[encoded data removed]",
       "text": [
        "f := \u23a1    p\u0307\u2081    \u23a4\n",
        "\u23a2           \u23a5\n",
        "\u23a2    q\u0307\u2081    \u23a5\n",
        "\u23a2           \u23a5\n",
        "\u23a2-g\u22c5sin(p\u2081) \u23a5\n",
        "\u23a2\u2500\u2500\u2500\u2500\u2500\u2500\u2500\u2500\u2500\u2500\u2500\u23a5\n",
        "\u23a2     s\u2082    \u23a5\n",
        "\u23a2           \u23a5\n",
        "\u23a3     0     \u23a6"
       ]
      },
      {
       "output_type": "stream",
       "stream": "stdout",
       "text": [
        "---\n"
       ]
      },
      {
       "latex": [
        "G := $$\\left[\\begin{matrix}0\\\\0\\\\- \\frac{1}{s_{2}} \\cos{\\left (p_{1} \\right )}\\\\1\\end{matrix}\\right]$$"
       ],
       "metadata": {},
       "output_type": "display_data",
       "png": "[encoded data removed]",
       "text": [
        "G := \u23a1    0    \u23a4\n",
        "\u23a2         \u23a5\n",
        "\u23a2    0    \u23a5\n",
        "\u23a2         \u23a5\n",
        "\u23a2-cos(p\u2081) \u23a5\n",
        "\u23a2\u2500\u2500\u2500\u2500\u2500\u2500\u2500\u2500\u2500\u23a5\n",
        "\u23a2    s\u2082   \u23a5\n",
        "\u23a2         \u23a5\n",
        "\u23a3    1    \u23a6"
       ]
      },
      {
       "output_type": "stream",
       "stream": "stdout",
       "text": [
        "---\n"
       ]
      },
      {
       "latex": [
        "xx := $$\\left[\\begin{matrix}p_{1}\\\\q_{1}\\\\\\dot{p}_{1}\\\\\\dot{q}_{1}\\end{matrix}\\right]$$"
       ],
       "metadata": {},
       "output_type": "display_data",
       "png": "[encoded data removed]",
       "text": [
        "xx := \u23a1p\u2081 \u23a4\n",
        "\u23a2   \u23a5\n",
        "\u23a2q\u2081 \u23a5\n",
        "\u23a2   \u23a5\n",
        "\u23a2p\u0307\u2081\u23a5\n",
        "\u23a2   \u23a5\n",
        "\u23a3q\u0307\u2081\u23a6"
       ]
      },
      {
       "output_type": "stream",
       "stream": "stdout",
       "text": [
        "---\n"
       ]
      }
     ],
     "prompt_number": 17
    },
    {
     "cell_type": "markdown",
     "metadata": {},
     "source": [
      "### Auswertung der Ruled-Manifold-Bedingung auf Basis der LBI-NF"
     ]
    },
    {
     "cell_type": "code",
     "collapsed": false,
     "input": [
      "mod.calc_lbi_nf_state_eq()"
     ],
     "language": "python",
     "metadata": {},
     "outputs": [],
     "prompt_number": 22
    },
    {
     "cell_type": "code",
     "collapsed": false,
     "input": [
      "mod.fz = mod.fz.expand() ##\n",
      "mod.gz ##"
     ],
     "language": "python",
     "metadata": {},
     "outputs": [
      {
       "latex": [
        "$$\\left[\\begin{matrix}\\dot{q}_{1}\\\\0\\\\- \\frac{\\dot{q}_{1}}{s_{2}} \\cos{\\left (p_{1} \\right )} + w_{1}\\\\- \\frac{g}{s_{2}} \\sin{\\left (p_{1} \\right )} + \\frac{\\dot{q}_{1}^{2}}{s_{2}^{2}} \\sin{\\left (p_{1} \\right )} \\cos{\\left (p_{1} \\right )} - \\frac{\\dot{q}_{1} w_{1}}{s_{2}} \\sin{\\left (p_{1} \\right )}\\end{matrix}\\right]$$"
       ],
       "metadata": {},
       "output_type": "display_data",
       "png": "[encoded data removed]",
       "text": [
        "\u23a1                        q\u0307\u2081                        \u23a4\n",
        "\u23a2                                                   \u23a5\n",
        "\u23a2                         0                         \u23a5\n",
        "\u23a2                                                   \u23a5\n",
        "\u23a2                  q\u0307\u2081\u22c5cos(p\u2081)                      \u23a5\n",
        "\u23a2                - \u2500\u2500\u2500\u2500\u2500\u2500\u2500\u2500\u2500\u2500\u2500 + w\u2081                 \u23a5\n",
        "\u23a2                       s\u2082                          \u23a5\n",
        "\u23a2                                                   \u23a5\n",
        "\u23a2                 2                                 \u23a5\n",
        "\u23a2  g\u22c5sin(p\u2081)   q\u0307\u2081 \u22c5sin(p\u2081)\u22c5cos(p\u2081)   q\u0307\u2081\u22c5w\u2081\u22c5sin(p\u2081)\u23a5\n",
        "\u23a2- \u2500\u2500\u2500\u2500\u2500\u2500\u2500\u2500\u2500 + \u2500\u2500\u2500\u2500\u2500\u2500\u2500\u2500\u2500\u2500\u2500\u2500\u2500\u2500\u2500\u2500\u2500\u2500\u2500\u2500 - \u2500\u2500\u2500\u2500\u2500\u2500\u2500\u2500\u2500\u2500\u2500\u2500\u2500\u2500\u23a5\n",
        "\u23a2      s\u2082                2                  s\u2082      \u23a5\n",
        "\u23a3                      s\u2082                           \u23a6"
       ]
      },
      {
       "output_type": "stream",
       "stream": "stdout",
       "text": [
        "---\n"
       ]
      },
      {
       "latex": [
        "$$\\left[\\begin{matrix}0\\\\1\\\\0\\\\0\\end{matrix}\\right]$$"
       ],
       "metadata": {},
       "output_type": "display_data",
       "png": "[encoded data removed]",
       "text": [
        "\u23a10\u23a4\n",
        "\u23a2 \u23a5\n",
        "\u23a21\u23a5\n",
        "\u23a2 \u23a5\n",
        "\u23a20\u23a5\n",
        "\u23a2 \u23a5\n",
        "\u23a30\u23a6"
       ]
      },
      {
       "output_type": "stream",
       "stream": "stdout",
       "text": [
        "___\n"
       ]
      }
     ],
     "prompt_number": 35
    },
    {
     "cell_type": "code",
     "collapsed": false,
     "input": [
      "# (1x1)-Vektor der aktiven Geschwindigkeiten\n",
      "vv = mu[np:, :] ##\n",
      "\n",
      "# Entscheidender Teil des Driftvektorfeldes\n",
      "fz4 = mod.fz[-np:, :] ##"
     ],
     "language": "python",
     "metadata": {},
     "outputs": [
      {
       "latex": [
        "$$\\left[\\begin{matrix}\\dot{q}_{1}\\end{matrix}\\right]$$"
       ],
       "metadata": {},
       "output_type": "display_data",
       "png": "[encoded data removed]",
       "text": [
        "[q\u0307\u2081]"
       ]
      },
      {
       "output_type": "stream",
       "stream": "stdout",
       "text": [
        "---\n"
       ]
      },
      {
       "latex": [
        "$$\\left[\\begin{matrix}\\frac{1}{s_{2}^{2}} \\left(- g s_{2} + \\dot{q}_{1} \\left(\\dot{q}_{1} \\cos{\\left (p_{1} \\right )} - s_{2} w_{1}\\right)\\right) \\sin{\\left (p_{1} \\right )}\\end{matrix}\\right]$$"
       ],
       "metadata": {},
       "output_type": "display_data",
       "png": "[encoded data removed]",
       "text": [
        "\u23a1(-g\u22c5s\u2082 + q\u0307\u2081\u22c5(q\u0307\u2081\u22c5cos(p\u2081) - s\u2082\u22c5w\u2081))\u22c5sin(p\u2081)\u23a4\n",
        "\u23a2\u2500\u2500\u2500\u2500\u2500\u2500\u2500\u2500\u2500\u2500\u2500\u2500\u2500\u2500\u2500\u2500\u2500\u2500\u2500\u2500\u2500\u2500\u2500\u2500\u2500\u2500\u2500\u2500\u2500\u2500\u2500\u2500\u2500\u2500\u2500\u2500\u2500\u2500\u2500\u2500\u2500\u2500\u2500\u23a5\n",
        "\u23a2                      2                    \u23a5\n",
        "\u23a3                    s\u2082                     \u23a6"
       ]
      },
      {
       "output_type": "stream",
       "stream": "stdout",
       "text": [
        "---\n"
       ]
      }
     ],
     "prompt_number": 31
    },
    {
     "cell_type": "code",
     "collapsed": false,
     "input": [
      "H1 = sp.hessian(fz4[0], vv) ##"
     ],
     "language": "python",
     "metadata": {},
     "outputs": [
      {
       "latex": [
        "$$\\left[\\begin{matrix}\\frac{2}{s_{2}^{2}} \\sin{\\left (p_{1} \\right )} \\cos{\\left (p_{1} \\right )}\\end{matrix}\\right]$$"
       ],
       "metadata": {},
       "output_type": "display_data",
       "png": "[encoded data removed]",
       "text": [
        "\u23a12\u22c5sin(p\u2081)\u22c5cos(p\u2081)\u23a4\n",
        "\u23a2\u2500\u2500\u2500\u2500\u2500\u2500\u2500\u2500\u2500\u2500\u2500\u2500\u2500\u2500\u2500\u2500\u2500\u23a5\n",
        "\u23a2         2       \u23a5\n",
        "\u23a3       s\u2082        \u23a6"
       ]
      },
      {
       "output_type": "stream",
       "stream": "stdout",
       "text": [
        "---\n"
       ]
      }
     ],
     "prompt_number": 33
    },
    {
     "cell_type": "markdown",
     "metadata": {},
     "source": [
      "Damit die Gleichung $\\bs b^T \\bs  H_1 \\bs b$ eine nichtriviale L\u00f6sung haben k\u00f6nnte, m\u00fcsste (im vorliegenden $1 \\times 1$ Fall) $\\bs H_1 = \\bs 0$ gelten. Dem ist nicht der Fall, die Ruled-Manifold-Bedingung ist also nicht erf\u00fcllt."
     ]
    },
    {
     "cell_type": "markdown",
     "metadata": {},
     "source": [
      "### Untersuchung des Tangentialsystems"
     ]
    },
    {
     "cell_type": "markdown",
     "metadata": {},
     "source": [
      "Bestimmung der impliziten Systemgleichungen"
     ]
    },
    {
     "cell_type": "code",
     "collapsed": false,
     "input": [
      "# Einf\u00fchrung von Zustandsvariablen:\n",
      "xx = st.symb_vector('x1:5') ##\n",
      "xxdot = st.perform_time_derivative(xx, xx) ##"
     ],
     "language": "python",
     "metadata": {},
     "outputs": [
      {
       "latex": [
        "$$\\left[\\begin{matrix}x_{1}\\\\x_{2}\\\\x_{3}\\\\x_{4}\\end{matrix}\\right]$$"
       ],
       "metadata": {},
       "output_type": "display_data",
       "png": "[encoded data removed]",
       "text": [
        "\u23a1x\u2081\u23a4\n",
        "\u23a2  \u23a5\n",
        "\u23a2x\u2082\u23a5\n",
        "\u23a2  \u23a5\n",
        "\u23a2x\u2083\u23a5\n",
        "\u23a2  \u23a5\n",
        "\u23a3x\u2084\u23a6"
       ]
      },
      {
       "output_type": "stream",
       "stream": "stdout",
       "text": [
        "---\n"
       ]
      },
      {
       "latex": [
        "$$\\left[\\begin{matrix}\\dot{x}_{1}\\\\\\dot{x}_{2}\\\\\\dot{x}_{3}\\\\\\dot{x}_{4}\\end{matrix}\\right]$$"
       ],
       "metadata": {},
       "output_type": "display_data",
       "png": "[encoded data removed]",
       "text": [
        "\u23a1x\u0307\u2081\u23a4\n",
        "\u23a2   \u23a5\n",
        "\u23a2x\u0307\u2082\u23a5\n",
        "\u23a2   \u23a5\n",
        "\u23a2x\u0307\u2083\u23a5\n",
        "\u23a2   \u23a5\n",
        "\u23a3x\u0307\u2084\u23a6"
       ]
      },
      {
       "output_type": "stream",
       "stream": "stdout",
       "text": [
        "---\n"
       ]
      }
     ],
     "prompt_number": 12
    },
    {
     "cell_type": "code",
     "collapsed": false,
     "input": [
      "theta_mu_subs = zip(list(theta) + list(mu), xx) ##"
     ],
     "language": "python",
     "metadata": {},
     "outputs": [
      {
       "latex": [
        "$$\\left [ \\left ( p_{1}, \\quad x_{1}\\right ), \\quad \\left ( q_{1}, \\quad x_{2}\\right ), \\quad \\left ( \\dot{p}_{1}, \\quad x_{3}\\right ), \\quad \\left ( \\dot{q}_{1}, \\quad x_{4}\\right )\\right ]$$"
       ],
       "metadata": {},
       "output_type": "display_data",
       "png": "[encoded data removed]",
       "text": [
        "[(p\u2081, x\u2081), (q\u2081, x\u2082), (p\u0307\u2081, x\u2083), (q\u0307\u2081, x\u2084)]"
       ]
      },
      {
       "output_type": "stream",
       "stream": "stdout",
       "text": [
        "---\n"
       ]
      }
     ],
     "prompt_number": 13
    },
    {
     "cell_type": "code",
     "collapsed": false,
     "input": [
      "eqns = mod.eqns[:nq, :]\n",
      "P0 = sp.simplify( eqns.jacobian(theta) ) ##:\n",
      "P1 = sp.simplify( eqns.jacobian(mu) )##\n",
      "P2 = sp.simplify( eqns.jacobian(mud) ) ##"
     ],
     "language": "python",
     "metadata": {},
     "outputs": [
      {
       "latex": [
        "P0 := $$\\left[\\begin{matrix}m_{2} s_{2} \\left(g \\cos{\\left (p_{1} \\right )} - \\ddot{q}_{1} \\sin{\\left (p_{1} \\right )}\\right) & 0\\end{matrix}\\right]$$"
       ],
       "metadata": {},
       "output_type": "display_data",
       "png": "[encoded data removed]",
       "text": [
        "P0 := [m\u2082\u22c5s\u2082\u22c5(g\u22c5cos(p\u2081) - q\u0308\u2081\u22c5sin(p\u2081))  0]"
       ]
      },
      {
       "output_type": "stream",
       "stream": "stdout",
       "text": [
        "---\n"
       ]
      },
      {
       "latex": [
        "$$\\left[\\begin{matrix}0 & 0\\end{matrix}\\right]$$"
       ],
       "metadata": {},
       "output_type": "display_data",
       "png": "[encoded data removed]",
       "text": [
        "[0  0]"
       ]
      },
      {
       "output_type": "stream",
       "stream": "stdout",
       "text": [
        "---\n"
       ]
      },
      {
       "latex": [
        "$$\\left[\\begin{matrix}m_{2} s_{2}^{2} & m_{2} s_{2} \\cos{\\left (p_{1} \\right )}\\end{matrix}\\right]$$"
       ],
       "metadata": {},
       "output_type": "display_data",
       "png": "[encoded data removed]",
       "text": [
        "\u23a1     2               \u23a4\n",
        "\u23a3m\u2082\u22c5s\u2082   m\u2082\u22c5s\u2082\u22c5cos(p\u2081)\u23a6"
       ]
      },
      {
       "output_type": "stream",
       "stream": "stdout",
       "text": [
        "---\n"
       ]
      }
     ],
     "prompt_number": 29
    },
    {
     "cell_type": "code",
     "collapsed": false,
     "input": [
      "ltx = sp.latex((eqns/m2/s2).expand())\n",
      "print ltx.replace(r'{\\left (', ' ').replace(r'\\right )}', '').replace(r'\\\\', r'\\\\'+'\\n')\n"
     ],
     "language": "python",
     "metadata": {},
     "outputs": [
      {
       "output_type": "stream",
       "stream": "stdout",
       "text": [
        "\\left[\\begin{matrix}g \\sin p_{1}  + \\ddot{p}_{1} s_{2} \\sin^{2} p_{1}  + \\ddot{p}_{1} s_{2} \\cos^{2} p_{1}  + \\ddot{q}_{1} \\cos p_{1} \\end{matrix}\\right]\n",
        "\\left[\\begin{matrix}m_{2} s_{2} \\left(g \\cos p_{1}  - \\ddot{q}_{1} \\sin p_{1} \\right) & 0\\end{matrix}\\right]\n",
        "\\left[\\begin{matrix}m_{2} s_{2}^{2} & m_{2} s_{2} \\cos p_{1} \\end{matrix}\\right]\n"
       ]
      }
     ],
     "prompt_number": 31
    },
    {
     "cell_type": "code",
     "collapsed": false,
     "input": [
      "ltx = sp.latex(P0)\n",
      "print ltx.replace(r'{\\left (', ' ').replace(r'\\right )}', '').replace(r'\\\\', r'\\\\'+'\\n')\n",
      "\n",
      "ltx = sp.latex(P2)\n",
      "print ltx.replace(r'{\\left (', ' ').replace(r'\\right )}', '').replace(r'\\\\', r'\\\\'+'\\n')\n"
     ],
     "language": "python",
     "metadata": {},
     "outputs": [
      {
       "output_type": "stream",
       "stream": "stdout",
       "text": [
        "\\left[\\begin{matrix}m_{2} s_{2} \\left(g \\cos p_{1}  - \\ddot{q}_{1} \\sin p_{1} \\right) & 0\\end{matrix}\\right]\n",
        "\\left[\\begin{matrix}m_{2} s_{2}^{2} & m_{2} s_{2} \\cos p_{1} \\end{matrix}\\right]\n"
       ]
      }
     ],
     "prompt_number": 32
    },
    {
     "cell_type": "code",
     "collapsed": false,
     "input": [
      "printing.init_printing(1)"
     ],
     "language": "python",
     "metadata": {},
     "outputs": [],
     "prompt_number": 27
    },
    {
     "cell_type": "code",
     "collapsed": false,
     "input": [
      "import pickle\n",
      "fname = \"Q_matrix_mechanik_generisch_n2_nq1_wagen_pendel.pcl\"\n",
      "with open(fname, 'r') as pfile:\n",
      "    Q = pickle.load(pfile)"
     ],
     "language": "python",
     "metadata": {},
     "outputs": [],
     "prompt_number": 18
    },
    {
     "cell_type": "code",
     "collapsed": false,
     "input": [
      "\n",
      "abbrev_symbs = sp.Matrix(list(Q.data.P0) + list(Q.data.P1) + list(Q.data.P2))\n",
      "replm_terms = sp.Matrix(list(P0) + list(P1) + list(P2))\n",
      "\n",
      "\n",
      "# Ableitungen der Abk\u00fcrzungs-Ersetzungen anlegen:\n",
      "abbrev_symbs_dot = st.perform_time_derivative(abbrev_symbs, abbrev_symbs)\n",
      "abbrev_symbs_ddot = st.perform_time_derivative(abbrev_symbs, abbrev_symbs, order=2)\n",
      "\n",
      "replm_terms_dot = st.perform_time_derivative(replm_terms, theta)\n",
      "replm_terms_ddot = st.perform_time_derivative(replm_terms, theta, order=2)\n",
      "\n",
      "replm_tups = zip(abbrev_symbs, replm_terms) + zip(abbrev_symbs_dot, replm_terms_dot)\n",
      "replm_tups += zip(abbrev_symbs_ddot, replm_terms_ddot)"
     ],
     "language": "python",
     "metadata": {},
     "outputs": [],
     "prompt_number": 19
    },
    {
     "cell_type": "code",
     "collapsed": false,
     "input": [
      "Qs = Q.subs(replm_tups)\n",
      "QS = sp.expand(Qs/m2**4/s2**4)"
     ],
     "language": "python",
     "metadata": {},
     "outputs": [],
     "prompt_number": 33
    },
    {
     "cell_type": "code",
     "collapsed": false,
     "input": [
      "ltx = sp.latex(QS.T)\n",
      "print ltx.replace(r'{\\left (', ' ').replace(r'\\right )}', '').replace(r'\\\\', r'\\\\'+'\\n')"
     ],
     "language": "python",
     "metadata": {},
     "outputs": [
      {
       "output_type": "stream",
       "stream": "stdout",
       "text": [
        "\\left[\\begin{matrix}- g s_{2} \\cos^{3} p_{1}  - \\ddot{p}_{1} s_{2}^{2} \\sin p_{1}  \\cos p_{1}  - \\dot{p}_{1}^{2} s_{2}^{2} \\cos^{2} p_{1}  + \\ddot{q}_{1} s_{2} \\sin p_{1}  \\cos^{2} p_{1} \\\\\n",
        "- g \\cos^{4} p_{1}  - \\ddot{p}_{1} s_{2} \\sin p_{1}  \\cos^{2} p_{1}  - 2 \\dot{p}_{1}^{2} s_{2} \\sin^{2} p_{1}  \\cos p_{1}  - \\dot{p}_{1}^{2} s_{2} \\cos^{3} p_{1}  + \\ddot{q}_{1} \\sin p_{1}  \\cos^{3} p_{1} \\\\\n",
        "- 2 \\dot{p}_{1} s_{2}^{2} \\sin p_{1}  \\cos p_{1} \\\\\n",
        "- 2 \\dot{p}_{1} s_{2} \\sin p_{1}  \\cos^{2} p_{1} \\end{matrix}\\right]\n"
       ]
      }
     ],
     "prompt_number": 34
    },
    {
     "cell_type": "code",
     "collapsed": false,
     "input": [
      "theta_all = st.row_stack(theta, mu, mud) ##"
     ],
     "language": "python",
     "metadata": {},
     "outputs": [
      {
       "latex": [
        "$$\\left[\\begin{matrix}p_{1}\\\\q_{1}\\\\\\dot{p}_{1}\\\\\\dot{q}_{1}\\\\\\ddot{p}_{1}\\\\\\ddot{q}_{1}\\end{matrix}\\right]$$"
       ],
       "metadata": {},
       "output_type": "display_data",
       "png": "[encoded data removed]",
       "text": [
        "\u23a1p\u2081 \u23a4\n",
        "\u23a2   \u23a5\n",
        "\u23a2q\u2081 \u23a5\n",
        "\u23a2   \u23a5\n",
        "\u23a2p\u0307\u2081\u23a5\n",
        "\u23a2   \u23a5\n",
        "\u23a2q\u0307\u2081\u23a5\n",
        "\u23a2   \u23a5\n",
        "\u23a2p\u0308\u2081\u23a5\n",
        "\u23a2   \u23a5\n",
        "\u23a3q\u0308\u2081\u23a6"
       ]
      },
      {
       "output_type": "stream",
       "stream": "stdout",
       "text": [
        "---\n"
       ]
      }
     ],
     "prompt_number": 35
    },
    {
     "cell_type": "markdown",
     "metadata": {},
     "source": [
      "Dimensionsanpassung. Die Spalten von $\\mathbf Q$ entsprechen den Koeffizienten bez\u00fcglich $d\\boldsymbol \\theta$ und $d \\dot {\\boldsymbol \\theta}$. Es werden die 0-Koeffizienten bez\u00fcglich $d \\ddot {\\boldsymbol \\theta}$ erg\u00e4nzt."
     ]
    },
    {
     "cell_type": "code",
     "collapsed": false,
     "input": [
      "Q_ = st.col_stack(Qs, sp.zeros(nq, n))\n",
      "P_ = st.col_stack(P0, P1, P2)"
     ],
     "language": "python",
     "metadata": {},
     "outputs": [],
     "prompt_number": 36
    },
    {
     "cell_type": "code",
     "collapsed": false,
     "input": [
      "w1 = pc.DifferentialForm(1, theta_all, coeff=Q_[0, :])\n",
      "dF1 = pc.DifferentialForm(1, theta_all, coeff=P_[0, :])"
     ],
     "language": "python",
     "metadata": {},
     "outputs": [],
     "prompt_number": 38
    },
    {
     "cell_type": "code",
     "collapsed": false,
     "input": [
      "w1"
     ],
     "language": "python",
     "metadata": {},
     "outputs": [
      {
       "metadata": {},
       "output_type": "pyout",
       "prompt_number": 46,
       "text": [
        "(-m2**4*s2**5*(g*cos(2*p1)/2 + g/2 - qddot1*sin(2*p1)/2 + s2*(pddot1*sin(p1) + pdot1**2*cos(p1)))*cos(p1)) dp1+(-m2**4*s2**4*(g*cos(p1)**3 + pddot1*s2*sin(p1)*cos(p1) + pdot1**2*s2*sin(p1)**2 + pdot1**2*s2 + qddot1*sin(p1)**3 - qddot1*sin(p1))*cos(p1)) dq1+(-m2**4*pdot1*s2**6*sin(2*p1)) dpdot1+(-2*m2**4*pdot1*s2**5*sin(p1)*cos(p1)**2) dqdot1"
       ]
      }
     ],
     "prompt_number": 46
    },
    {
     "cell_type": "code",
     "collapsed": false,
     "input": [
      "Xi = w1.d^w1^dF1"
     ],
     "language": "python",
     "metadata": {},
     "outputs": [],
     "prompt_number": 47
    },
    {
     "cell_type": "code",
     "collapsed": false,
     "input": [
      "print sp.latex(Xi.coeff[-2]).replace(r'{\\left (', ' ').replace(r'\\right )}', '').replace(r'\\\\', r'\\\\'+'\\n')"
     ],
     "language": "python",
     "metadata": {},
     "outputs": [
      {
       "output_type": "stream",
       "stream": "stdout",
       "text": [
        "4 m_{2}^{9} \\dot{p}_{1} s_{2}^{11} \\sin^{2} p_{1}  \\cos^{5} p_{1} \n"
       ]
      }
     ],
     "prompt_number": 60
    },
    {
     "cell_type": "code",
     "collapsed": false,
     "input": [
      "#Xi.get_baseform_from_idcs?\n",
      "Xi.get_baseform_from_idcs(Xi.indices[-2])"
     ],
     "language": "python",
     "metadata": {},
     "outputs": [
      {
       "metadata": {},
       "output_type": "pyout",
       "prompt_number": 58,
       "text": [
        "(1) dq1^dqdot1^dpddot1^dqddot1"
       ]
      }
     ],
     "prompt_number": 58
    },
    {
     "cell_type": "code",
     "collapsed": false,
     "input": [
      "z = w1.d^w1^w1.dot()^df1"
     ],
     "language": "python",
     "metadata": {},
     "outputs": []
    },
    {
     "cell_type": "code",
     "collapsed": false,
     "input": [
      "# Kompaktere Formeldarstellung\n",
      "printing.init_printing(0)"
     ],
     "language": "python",
     "metadata": {},
     "outputs": []
    },
    {
     "cell_type": "code",
     "collapsed": false,
     "input": [
      "z.coeff.srnp"
     ],
     "language": "python",
     "metadata": {},
     "outputs": []
    },
    {
     "cell_type": "code",
     "collapsed": false,
     "input": [],
     "language": "python",
     "metadata": {},
     "outputs": []
    }
   ],
   "metadata": {}
  }
 ]
}