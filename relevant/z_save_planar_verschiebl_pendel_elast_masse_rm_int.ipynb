{
 "metadata": {
  "name": "",
  "signature": "sha256:3b99138ec962b43573ae21d4662a1e81dd0a927a45cfc6544f69c21ba7f81d66"
 },
 "nbformat": 3,
 "nbformat_minor": 0,
 "worksheets": [
  {
   "cells": [
    {
     "cell_type": "code",
     "collapsed": false,
     "input": [
      "import time\n",
      "print time.ctime()\n",
      "%load_ext displaytools"
     ],
     "language": "python",
     "metadata": {},
     "outputs": [
      {
       "output_type": "stream",
       "stream": "stdout",
       "text": [
        "Tue Jan 26 15:53:46 2016\n"
       ]
      }
     ],
     "prompt_number": 2
    },
    {
     "cell_type": "markdown",
     "metadata": {},
     "source": [
      "**Betrachtetes System:** Planar verschiebliches Pendel (K$_1$ und K$_2$) mit elastisch angekoppelter Zusatzmasse K$_3$.\n",
      "\n",
      "<img src=\"files/images/planar_verschieb_pendel_elast_masse.png\">\n",
      "\n",
      "\n",
      "\n",
      "**Systemanalyse**\n",
      "* Aufstellen der Bewegungsgleichungen\n",
      "* Aufstellen des Tangentialsystems\n",
      "* Angabe einer unimodularen Erg\u00e4nzung der Systemmatrix \n",
      "* Untersuchung der notwendigen Integrabilit\u00e4tsbedingung\n",
      "  * Bestimmung der Anzahl der Koeffizienten in den Differentialformen $\\Xi_{i, k}$\n",
      "  * Auswertung von $\\Xi_{i,k}$ bis f\u00fcr $k=0,1,2$\n",
      "\n",
      "$$\n",
      "%<custom_config>\n",
      "\\newcommand{\\d}{\\mathrm{d}}\n",
      "\\newcommand{\\col}{\\mathrm{col}}\n",
      "\\newcommand{\\bs}{\\boldsymbol}\n",
      "\\newcommand{\\Ddt}{\\left(\\tfrac{d}{dt}\\right)}\n",
      "\\newcommand{\\ddt}{\\tfrac{d}{dt}}\n",
      "%</custom_config>\n",
      "$$"
     ]
    },
    {
     "cell_type": "code",
     "collapsed": false,
     "input": [
      "import sympy as sp\n",
      "from sympy import sin, cos, pi, Matrix\n",
      "from sympy.interactive import printing\n",
      "import model_tools as mt\n",
      "from model_tools import Rz\n",
      "import symb_tools as st\n",
      "from symb_tools import symbs_to_func\n",
      "import pycartan as pc\n",
      "import non_commutative_tools as nct\n",
      "\n",
      "printing.init_printing()"
     ],
     "language": "python",
     "metadata": {},
     "outputs": [],
     "prompt_number": 89
    },
    {
     "cell_type": "code",
     "collapsed": false,
     "input": [
      "np = 2\n",
      "nq = 2\n",
      "n = np + nq\n",
      "pp = st.symb_vector(\"p1:{0}\".format(np+1))\n",
      "qq = st.symb_vector(\"q1:{0}\".format(nq+1))\n",
      "\n",
      "theta = st.row_stack(pp, qq) ##:T\n",
      "mu = st.perform_time_derivative(theta, theta) ##:T\n",
      "mud = st.perform_time_derivative(theta, theta, order=2)\n",
      "mudd = st.perform_time_derivative(theta, theta, order=3)\n",
      "st.make_global(theta, 1)\n",
      "st.make_global(mu, 1)"
     ],
     "language": "python",
     "metadata": {},
     "outputs": [
      {
       "latex": [
        "theta.T := $$\\left[\\begin{matrix}p_{1} & p_{2} & q_{1} & q_{2}\\end{matrix}\\right]$$"
       ],
       "metadata": {},
       "output_type": "display_data",
       "png": "[encoded data removed]",
       "text": [
        "theta.T := [p\u2081  p\u2082  q\u2081  q\u2082]"
       ]
      },
      {
       "output_type": "stream",
       "stream": "stdout",
       "text": [
        "---\n"
       ]
      },
      {
       "latex": [
        "mu.T := $$\\left[\\begin{matrix}\\dot{p}_{1} & \\dot{p}_{2} & \\dot{q}_{1} & \\dot{q}_{2}\\end{matrix}\\right]$$"
       ],
       "metadata": {},
       "output_type": "display_data",
       "png": "[encoded data removed]",
       "text": [
        "mu.T := [p\u0307\u2081  p\u0307\u2082  q\u0307\u2081  q\u0307\u2082]"
       ]
      },
      {
       "output_type": "stream",
       "stream": "stdout",
       "text": [
        "---\n"
       ]
      }
     ],
     "prompt_number": 4
    },
    {
     "cell_type": "code",
     "collapsed": false,
     "input": [
      "params = sp.symbols('s2, c3, m1, m2, m3, g')\n",
      "st.make_global(params, 1)\n",
      "\n",
      "Q1, Q2 = QQ = st.symb_vector(\"Q1, Q2\")"
     ],
     "language": "python",
     "metadata": {},
     "outputs": [],
     "prompt_number": 5
    },
    {
     "cell_type": "markdown",
     "metadata": {},
     "source": [
      "### Festlegung der Geometrie des mechanischen Systemes"
     ]
    },
    {
     "cell_type": "code",
     "collapsed": false,
     "input": [
      "#Einheitsvektoren\n",
      "\n",
      "ex = sp.Matrix([1,0])\n",
      "ey = sp.Matrix([0,1])\n",
      "\n",
      "\n",
      "# Koordinaten der Schwerpunkte und Gelenke\n",
      "\n",
      "S1 = ex*q1 + ey*q2\n",
      "G4 = G3 = S1 # Gelenke\n",
      "S2 = G3 + Rz(p1)*ey*s2*(-1)\n",
      "S3 = G4 + p2*ex\n",
      "\n",
      "# Zeitableitungen der Schwerpunktskoordinaten\n",
      "Sd1, Sd2, Sd3 = st.col_split(st.perform_time_derivative(st.col_stack(S1, S2, S3), theta)) ##"
     ],
     "language": "python",
     "metadata": {},
     "outputs": [
      {
       "latex": [
        "$$\\left[\\begin{matrix}\\dot{q}_{1}\\\\\\dot{q}_{2}\\end{matrix}\\right]$$"
       ],
       "metadata": {},
       "output_type": "display_data",
       "png": "[encoded data removed]",
       "text": [
        "\u23a1q\u0307\u2081\u23a4\n",
        "\u23a2   \u23a5\n",
        "\u23a3q\u0307\u2082\u23a6"
       ]
      },
      {
       "latex": [
        "$$\\left[\\begin{matrix}\\dot{p}_{1} s_{2} \\cos{\\left (p_{1} \\right )} + \\dot{q}_{1}\\\\\\dot{p}_{1} s_{2} \\sin{\\left (p_{1} \\right )} + \\dot{q}_{2}\\end{matrix}\\right]$$"
       ],
       "metadata": {},
       "output_type": "display_data",
       "png": "[encoded data removed]",
       "text": [
        "\u23a1p\u0307\u2081\u22c5s\u2082\u22c5cos(p\u2081) + q\u0307\u2081\u23a4\n",
        "\u23a2                    \u23a5\n",
        "\u23a3p\u0307\u2081\u22c5s\u2082\u22c5sin(p\u2081) + q\u0307\u2082\u23a6"
       ]
      },
      {
       "latex": [
        "$$\\left[\\begin{matrix}\\dot{p}_{2} + \\dot{q}_{1}\\\\\\dot{q}_{2}\\end{matrix}\\right]$$"
       ],
       "metadata": {},
       "output_type": "display_data",
       "png": "[encoded data removed]",
       "text": [
        "\u23a1p\u0307\u2082 + q\u0307\u2081\u23a4\n",
        "\u23a2         \u23a5\n",
        "\u23a3   q\u0307\u2082   \u23a6"
       ]
      },
      {
       "output_type": "stream",
       "stream": "stdout",
       "text": [
        "---\n"
       ]
      }
     ],
     "prompt_number": 14
    },
    {
     "cell_type": "code",
     "collapsed": false,
     "input": [
      "# Energie\n",
      "T_rot = 0 \n",
      "T_trans = ( m1*Sd1.T*Sd1  +  m2*Sd2.T*Sd2 + m3*Sd3.T*Sd3 )/2\n",
      "\n",
      "T = T_rot + T_trans[0]\n",
      "\n",
      "V = m1*g*S1[1] + m2*g*S2[1] + m3*g*S3[1] + c3/2*p2**2"
     ],
     "language": "python",
     "metadata": {},
     "outputs": [],
     "prompt_number": 16
    },
    {
     "cell_type": "code",
     "collapsed": false,
     "input": [
      "external_forces = [0, 0, Q1, Q2]\n",
      "assert not any(external_forces[:np])\n",
      "mod = mt.generate_symbolic_model(T, V, theta, external_forces)"
     ],
     "language": "python",
     "metadata": {},
     "outputs": [],
     "prompt_number": 17
    },
    {
     "cell_type": "code",
     "collapsed": false,
     "input": [
      "mod.eqns.simplify()"
     ],
     "language": "python",
     "metadata": {},
     "outputs": [],
     "prompt_number": 18
    },
    {
     "cell_type": "code",
     "collapsed": false,
     "input": [
      "import diss_aux as da"
     ],
     "language": "python",
     "metadata": {},
     "outputs": [],
     "prompt_number": 19
    },
    {
     "cell_type": "code",
     "collapsed": false,
     "input": [
      "#da.latex(mod.eqns[:2,:].expand())"
     ],
     "language": "python",
     "metadata": {},
     "outputs": [],
     "prompt_number": 22
    },
    {
     "cell_type": "code",
     "collapsed": false,
     "input": [
      "eqns = mod.eqns[:2, :]\n",
      "P0 = eqns.jacobian(theta) ##\n",
      "P1 = eqns.jacobian(mu) ##\n",
      "P2 = eqns.jacobian(mud) ##"
     ],
     "language": "python",
     "metadata": {},
     "outputs": [
      {
       "latex": [
        "$$\\left[\\begin{matrix}m_{2} s_{2} \\left(g \\cos{\\left (p_{1} \\right )} - \\ddot{q}_{1} \\sin{\\left (p_{1} \\right )} + \\ddot{q}_{2} \\cos{\\left (p_{1} \\right )}\\right) & 0 & 0 & 0\\\\0 & c_{3} & 0 & 0\\end{matrix}\\right]$$"
       ],
       "metadata": {},
       "output_type": "display_data",
       "png": "[encoded data removed]",
       "text": [
        "\u23a1m\u2082\u22c5s\u2082\u22c5(g\u22c5cos(p\u2081) - q\u0308\u2081\u22c5sin(p\u2081) + q\u0308\u2082\u22c5cos(p\u2081))  0   0  0\u23a4\n",
        "\u23a2                                                       \u23a5\n",
        "\u23a3                      0                        c\u2083  0  0\u23a6"
       ]
      },
      {
       "output_type": "stream",
       "stream": "stdout",
       "text": [
        "---\n"
       ]
      },
      {
       "latex": [
        "$$\\left[\\begin{matrix}0 & 0 & 0 & 0\\\\0 & 0 & 0 & 0\\end{matrix}\\right]$$"
       ],
       "metadata": {},
       "output_type": "display_data",
       "png": "[encoded data removed]",
       "text": [
        "\u23a10  0  0  0\u23a4\n",
        "\u23a2          \u23a5\n",
        "\u23a30  0  0  0\u23a6"
       ]
      },
      {
       "output_type": "stream",
       "stream": "stdout",
       "text": [
        "---\n"
       ]
      },
      {
       "latex": [
        "$$\\left[\\begin{matrix}m_{2} s_{2}^{2} & 0 & m_{2} s_{2} \\cos{\\left (p_{1} \\right )} & m_{2} s_{2} \\sin{\\left (p_{1} \\right )}\\\\0 & m_{3} & m_{3} & 0\\end{matrix}\\right]$$"
       ],
       "metadata": {},
       "output_type": "display_data",
       "png": "[encoded data removed]",
       "text": [
        "\u23a1     2                                  \u23a4\n",
        "\u23a2m\u2082\u22c5s\u2082   0   m\u2082\u22c5s\u2082\u22c5cos(p\u2081)  m\u2082\u22c5s\u2082\u22c5sin(p\u2081)\u23a5\n",
        "\u23a2                                        \u23a5\n",
        "\u23a3  0     m\u2083       m\u2083              0      \u23a6"
       ]
      },
      {
       "output_type": "stream",
       "stream": "stdout",
       "text": [
        "---\n"
       ]
      }
     ],
     "prompt_number": 24
    },
    {
     "cell_type": "code",
     "collapsed": false,
     "input": [],
     "language": "python",
     "metadata": {},
     "outputs": [],
     "prompt_number": 11
    },
    {
     "cell_type": "code",
     "collapsed": false,
     "input": [
      "mod.calc_lbi_nf_state_eq()"
     ],
     "language": "python",
     "metadata": {},
     "outputs": [],
     "prompt_number": 29
    },
    {
     "cell_type": "code",
     "collapsed": false,
     "input": [
      "mod.fz.simplify()"
     ],
     "language": "python",
     "metadata": {},
     "outputs": [],
     "prompt_number": 30
    },
    {
     "cell_type": "code",
     "collapsed": false,
     "input": [
      "fz4 = mod.fz[-np:, :] ##"
     ],
     "language": "python",
     "metadata": {},
     "outputs": [
      {
       "latex": [
        "$$\\left[\\begin{matrix}\\frac{1}{s_{2}^{2}} \\left(- g s_{2} \\sin{\\left (p_{1} \\right )} + \\left(\\dot{q}_{1} \\sin{\\left (p_{1} \\right )} - \\dot{q}_{2} \\cos{\\left (p_{1} \\right )}\\right) \\left(\\dot{q}_{1} \\cos{\\left (p_{1} \\right )} + \\dot{q}_{2} \\sin{\\left (p_{1} \\right )} - s_{2} w_{1}\\right)\\right)\\\\- \\frac{c_{3} p_{2}}{m_{3}}\\end{matrix}\\right]$$"
       ],
       "metadata": {},
       "output_type": "display_data",
       "png": "[encoded data removed]",
       "text": [
        "\u23a1-g\u22c5s\u2082\u22c5sin(p\u2081) + (q\u0307\u2081\u22c5sin(p\u2081) - q\u0307\u2082\u22c5cos(p\u2081))\u22c5(q\u0307\u2081\u22c5cos(p\u2081) + q\u0307\u2082\u22c5sin(p\u2081) - s\u2082\u22c5w\n",
        "\u23a2\u2500\u2500\u2500\u2500\u2500\u2500\u2500\u2500\u2500\u2500\u2500\u2500\u2500\u2500\u2500\u2500\u2500\u2500\u2500\u2500\u2500\u2500\u2500\u2500\u2500\u2500\u2500\u2500\u2500\u2500\u2500\u2500\u2500\u2500\u2500\u2500\u2500\u2500\u2500\u2500\u2500\u2500\u2500\u2500\u2500\u2500\u2500\u2500\u2500\u2500\u2500\u2500\u2500\u2500\u2500\u2500\u2500\u2500\u2500\u2500\u2500\u2500\u2500\u2500\u2500\u2500\u2500\u2500\u2500\u2500\u2500\u2500\u2500\u2500\u2500\u2500\u2500\n",
        "\u23a2                                        2                                    \n",
        "\u23a2                                      s\u2082                                     \n",
        "\u23a2                                                                             \n",
        "\u23a2                                    -c\u2083\u22c5p\u2082                                   \n",
        "\u23a2                                    \u2500\u2500\u2500\u2500\u2500\u2500\u2500                                  \n",
        "\u23a3                                       m\u2083                                    \n",
        "\n",
        "\u2081)\u23a4\n",
        "\u2500\u2500\u23a5\n",
        "  \u23a5\n",
        "  \u23a5\n",
        "  \u23a5\n",
        "  \u23a5\n",
        "  \u23a5\n",
        "  \u23a6"
       ]
      },
      {
       "output_type": "stream",
       "stream": "stdout",
       "text": [
        "---\n"
       ]
      }
     ],
     "prompt_number": 31
    },
    {
     "cell_type": "code",
     "collapsed": false,
     "input": [
      "qqd = st.perform_time_derivative(qq, qq)\n",
      "H1 = sp.hessian(fz4[0], qqd) ##\n",
      "H2 = sp.hessian(fz4[1], qqd) ##"
     ],
     "language": "python",
     "metadata": {},
     "outputs": [
      {
       "latex": [
        "$$\\left[\\begin{matrix}\\frac{2}{s_{2}^{2}} \\sin{\\left (p_{1} \\right )} \\cos{\\left (p_{1} \\right )} & \\frac{1}{s_{2}^{2}} \\left(\\sin^{2}{\\left (p_{1} \\right )} - \\cos^{2}{\\left (p_{1} \\right )}\\right)\\\\\\frac{1}{s_{2}^{2}} \\left(\\sin^{2}{\\left (p_{1} \\right )} - \\cos^{2}{\\left (p_{1} \\right )}\\right) & - \\frac{2}{s_{2}^{2}} \\sin{\\left (p_{1} \\right )} \\cos{\\left (p_{1} \\right )}\\end{matrix}\\right]$$"
       ],
       "metadata": {},
       "output_type": "display_data",
       "png": "[encoded data removed]",
       "text": [
        "\u23a1                        2          2    \u23a4\n",
        "\u23a2 2\u22c5sin(p\u2081)\u22c5cos(p\u2081)   sin (p\u2081) - cos (p\u2081)\u23a5\n",
        "\u23a2 \u2500\u2500\u2500\u2500\u2500\u2500\u2500\u2500\u2500\u2500\u2500\u2500\u2500\u2500\u2500\u2500\u2500   \u2500\u2500\u2500\u2500\u2500\u2500\u2500\u2500\u2500\u2500\u2500\u2500\u2500\u2500\u2500\u2500\u2500\u2500\u2500\u23a5\n",
        "\u23a2          2                    2        \u23a5\n",
        "\u23a2        s\u2082                   s\u2082         \u23a5\n",
        "\u23a2                                        \u23a5\n",
        "\u23a2   2          2                         \u23a5\n",
        "\u23a2sin (p\u2081) - cos (p\u2081)  -2\u22c5sin(p\u2081)\u22c5cos(p\u2081) \u23a5\n",
        "\u23a2\u2500\u2500\u2500\u2500\u2500\u2500\u2500\u2500\u2500\u2500\u2500\u2500\u2500\u2500\u2500\u2500\u2500\u2500\u2500  \u2500\u2500\u2500\u2500\u2500\u2500\u2500\u2500\u2500\u2500\u2500\u2500\u2500\u2500\u2500\u2500\u2500\u2500\u2500\u23a5\n",
        "\u23a2          2                    2        \u23a5\n",
        "\u23a3        s\u2082                   s\u2082         \u23a6"
       ]
      },
      {
       "output_type": "stream",
       "stream": "stdout",
       "text": [
        "---\n"
       ]
      },
      {
       "latex": [
        "$$\\left[\\begin{matrix}0 & 0\\\\0 & 0\\end{matrix}\\right]$$"
       ],
       "metadata": {},
       "output_type": "display_data",
       "png": "[encoded data removed]",
       "text": [
        "\u23a10  0\u23a4\n",
        "\u23a2    \u23a5\n",
        "\u23a30  0\u23a6"
       ]
      },
      {
       "output_type": "stream",
       "stream": "stdout",
       "text": [
        "---\n"
       ]
      }
     ],
     "prompt_number": 32
    },
    {
     "cell_type": "code",
     "collapsed": false,
     "input": [
      "# Zur Vereinfachung: mit konstantem Faktor multiplizieren\n",
      "h1 = sp.simplify(H1*s2**2)\n",
      "h1 ##"
     ],
     "language": "python",
     "metadata": {},
     "outputs": [
      {
       "latex": [
        "$$\\left[\\begin{matrix}\\sin{\\left (2 p_{1} \\right )} & - \\cos{\\left (2 p_{1} \\right )}\\\\- \\cos{\\left (2 p_{1} \\right )} & - \\sin{\\left (2 p_{1} \\right )}\\end{matrix}\\right]$$"
       ],
       "metadata": {},
       "output_type": "display_data",
       "png": "[encoded data removed]",
       "text": [
        "\u23a1sin(2\u22c5p\u2081)   -cos(2\u22c5p\u2081)\u23a4\n",
        "\u23a2                      \u23a5\n",
        "\u23a3-cos(2\u22c5p\u2081)  -sin(2\u22c5p\u2081)\u23a6"
       ]
      },
      {
       "output_type": "stream",
       "stream": "stdout",
       "text": [
        "___\n"
       ]
      }
     ],
     "prompt_number": 47
    },
    {
     "cell_type": "code",
     "collapsed": false,
     "input": [
      "h1.eigenvals()"
     ],
     "language": "python",
     "metadata": {},
     "outputs": [
      {
       "latex": [
        "$$\\left \\{ -1 : 1, \\quad 1 : 1\\right \\}$$"
       ],
       "metadata": {},
       "output_type": "pyout",
       "png": "[encoded data removed]",
       "prompt_number": 59,
       "text": [
        "{-1: 1, 1: 1}"
       ]
      }
     ],
     "prompt_number": 59
    },
    {
     "cell_type": "markdown",
     "metadata": {},
     "source": [
      "Die Hesse-Matrix ist indefinit. Ansatz f\u00fcr die L\u00f6sung der quadratischen Gleichung $\\bs b^T \\bs H_1 \\bs b=0$"
     ]
    },
    {
     "cell_type": "code",
     "collapsed": false,
     "input": [
      "a = sp.Symbol('a')\n",
      "b = sp.Matrix([sin(2*p1), a])\n",
      "\n",
      "# Gleichung\n",
      "eq = sp.simplify(b.T*h1*b) ##\n",
      "\n",
      "# L\u00f6sung\n",
      "a_sol = sp.solve(eq, a)[0][0]\n",
      "\n",
      "# L\u00f6sungsvektor\n",
      "b_sol = b.subs(a, a_sol) ##:\n",
      "\n",
      "# Probe:\n",
      "\n",
      "eq_sol = sp.simplify(b_sol.T *H1*b_sol) ##:"
     ],
     "language": "python",
     "metadata": {},
     "outputs": [
      {
       "latex": [
        "$$\\left[\\begin{matrix}\\left(- a^{2} - 2 a \\cos{\\left (2 p_{1} \\right )} + \\sin^{2}{\\left (2 p_{1} \\right )}\\right) \\sin{\\left (2 p_{1} \\right )}\\end{matrix}\\right]$$"
       ],
       "metadata": {},
       "output_type": "display_data",
       "png": "[encoded data removed]",
       "text": [
        "\u23a1\u239b   2                      2      \u239e          \u23a4\n",
        "\u23a3\u239d- a  - 2\u22c5a\u22c5cos(2\u22c5p\u2081) + sin (2\u22c5p\u2081)\u23a0\u22c5sin(2\u22c5p\u2081)\u23a6"
       ]
      },
      {
       "output_type": "stream",
       "stream": "stdout",
       "text": [
        "---\n"
       ]
      },
      {
       "latex": [
        "b_sol := $$\\left[\\begin{matrix}\\sin{\\left (2 p_{1} \\right )}\\\\2 \\sin^{2}{\\left (p_{1} \\right )}\\end{matrix}\\right]$$"
       ],
       "metadata": {},
       "output_type": "display_data",
       "png": "[encoded data removed]",
       "text": [
        "b_sol := \u23a1sin(2\u22c5p\u2081) \u23a4\n",
        "\u23a2          \u23a5\n",
        "\u23a2     2    \u23a5\n",
        "\u23a32\u22c5sin (p\u2081)\u23a6"
       ]
      },
      {
       "output_type": "stream",
       "stream": "stdout",
       "text": [
        "---\n"
       ]
      },
      {
       "latex": [
        "eq_sol := $$\\left[\\begin{matrix}0\\end{matrix}\\right]$$"
       ],
       "metadata": {},
       "output_type": "display_data",
       "png": "[encoded data removed]",
       "text": [
        "eq_sol := [0]"
       ]
      },
      {
       "output_type": "stream",
       "stream": "stdout",
       "text": [
        "---\n"
       ]
      }
     ],
     "prompt_number": 78
    },
    {
     "cell_type": "markdown",
     "metadata": {},
     "source": [
      "**Zwischenfazit**:\n",
      "Es existiert eine nichtriviale L\u00f6sung $\\bs b$. Die Ruled-Manifold-Bedingung ist f\u00fcr dieses Beispiel erf\u00fcllt.\n",
      "\n",
      "---\n",
      "\n",
      "### Untersuchung der notwendigen Integrabilit\u00e4tsbedingung"
     ]
    },
    {
     "cell_type": "code",
     "collapsed": false,
     "input": [
      "# nur die nicht-aktuierten Gleichungen ausw\u00e4hlen\n",
      "eq = mod.eq_list[:2, :]\n",
      "eq.simplify()"
     ],
     "language": "python",
     "metadata": {},
     "outputs": [],
     "prompt_number": 79
    },
    {
     "cell_type": "code",
     "collapsed": false,
     "input": [
      "P0 = eq.jacobian(theta) ##:\n",
      "P1 = eq.jacobian(mu) ##:\n",
      "P2 = eq.jacobian(mud) ##:"
     ],
     "language": "python",
     "metadata": {},
     "outputs": [
      {
       "latex": [
        "P0 := $$\\left[\\begin{matrix}m_{2} s_{2} \\left(g \\cos{\\left (p_{1} \\right )} - \\ddot{q}_{1} \\sin{\\left (p_{1} \\right )} + \\ddot{q}_{2} \\cos{\\left (p_{1} \\right )}\\right) & 0 & 0 & 0\\\\0 & c_{3} & 0 & 0\\end{matrix}\\right]$$"
       ],
       "metadata": {},
       "output_type": "display_data",
       "png": "[encoded data removed]",
       "text": [
        "P0 := \u23a1m\u2082\u22c5s\u2082\u22c5(g\u22c5cos(p\u2081) - q\u0308\u2081\u22c5sin(p\u2081) + q\u0308\u2082\u22c5cos(p\u2081))  0   0  0\u23a4\n",
        "\u23a2                                                       \u23a5\n",
        "\u23a3                      0                        c\u2083  0  0\u23a6"
       ]
      },
      {
       "output_type": "stream",
       "stream": "stdout",
       "text": [
        "---\n"
       ]
      },
      {
       "latex": [
        "P1 := $$\\left[\\begin{matrix}0 & 0 & 0 & 0\\\\0 & 0 & 0 & 0\\end{matrix}\\right]$$"
       ],
       "metadata": {},
       "output_type": "display_data",
       "png": "[encoded data removed]",
       "text": [
        "P1 := \u23a10  0  0  0\u23a4\n",
        "\u23a2          \u23a5\n",
        "\u23a30  0  0  0\u23a6"
       ]
      },
      {
       "output_type": "stream",
       "stream": "stdout",
       "text": [
        "---\n"
       ]
      },
      {
       "latex": [
        "P2 := $$\\left[\\begin{matrix}m_{2} s_{2}^{2} & 0 & m_{2} s_{2} \\cos{\\left (p_{1} \\right )} & m_{2} s_{2} \\sin{\\left (p_{1} \\right )}\\\\0 & m_{3} & m_{3} & 0\\end{matrix}\\right]$$"
       ],
       "metadata": {},
       "output_type": "display_data",
       "png": "[encoded data removed]",
       "text": [
        "P2 := \u23a1     2                                  \u23a4\n",
        "\u23a2m\u2082\u22c5s\u2082   0   m\u2082\u22c5s\u2082\u22c5cos(p\u2081)  m\u2082\u22c5s\u2082\u22c5sin(p\u2081)\u23a5\n",
        "\u23a2                                        \u23a5\n",
        "\u23a3  0     m\u2083       m\u2083              0      \u23a6"
       ]
      },
      {
       "output_type": "stream",
       "stream": "stdout",
       "text": [
        "---\n"
       ]
      }
     ],
     "prompt_number": 97
    },
    {
     "cell_type": "code",
     "collapsed": false,
     "input": [
      "s = sp.Symbol('s', commutative=False)"
     ],
     "language": "python",
     "metadata": {},
     "outputs": [],
     "prompt_number": 84
    },
    {
     "cell_type": "code",
     "collapsed": false,
     "input": [
      "XX = st.row_stack(theta, mu, mud)##T\n",
      "XXnc = nct.make_all_symbols_noncommutative(XX)[0]\n",
      "\n",
      "# Zur Ersetzung der kommutativen durch nichtkommutative Symbole\n",
      "nc_replm = zip(XX, XXnc)"
     ],
     "language": "python",
     "metadata": {},
     "outputs": [
      {
       "latex": [
        "$$\\left[\\begin{array}{cccccccccccc}p_{1} & p_{2} & q_{1} & q_{2} & \\dot{p}_{1} & \\dot{p}_{2} & \\dot{q}_{1} & \\dot{q}_{2} & \\ddot{p}_{1} & \\ddot{p}_{2} & \\ddot{q}_{1} & \\ddot{q}_{2}\\end{array}\\right]$$"
       ],
       "metadata": {},
       "output_type": "display_data",
       "png": "[encoded data removed]",
       "text": [
        "[p\u2081  p\u2082  q\u2081  q\u2082  p\u0307\u2081  p\u0307\u2082  q\u0307\u2081  q\u0307\u2082  p\u0308\u2081  p\u0308\u2082  q\u0308\u2081  q\u0308\u2082]"
       ]
      },
      {
       "output_type": "stream",
       "stream": "stdout",
       "text": [
        "---\n"
       ]
      }
     ],
     "prompt_number": 91
    },
    {
     "cell_type": "code",
     "collapsed": false,
     "input": [
      "P = P0.subs(nc_replm) + P1.subs(nc_replm)*s + P2.subs(nc_replm)*s**2 ##:\n",
      "\n",
      "# Ansatz f\u00fcr Q\n",
      "Q = P2.subs(nc_replm)\n",
      "PQ = st.row_stack(P, Q) ##"
     ],
     "language": "python",
     "metadata": {},
     "outputs": [
      {
       "latex": [
        "P := $$\\left[\\begin{matrix}m_{2} s_{2}^{2} s^{2} + m_{2} s_{2} \\left(g \\cos{\\left (p_{1 n} \\right )} - \\ddot{q}_{1 n} \\sin{\\left (p_{1 n} \\right )} + \\ddot{q}_{2 n} \\cos{\\left (p_{1 n} \\right )}\\right) & 0 & m_{2} s_{2} \\cos{\\left (p_{1 n} \\right )} s^{2} & m_{2} s_{2} \\sin{\\left (p_{1 n} \\right )} s^{2}\\\\0 & c_{3} + m_{3} s^{2} & m_{3} s^{2} & 0\\end{matrix}\\right]$$"
       ],
       "metadata": {},
       "output_type": "display_data",
       "png": "[encoded data removed]",
       "text": [
        "P := \u23a1     2  2                                                                    \n",
        "\u23a2m\u2082\u22c5s\u2082 \u22c5s  + m\u2082\u22c5s\u2082\u22c5(g\u22c5cos(p_1_n) - q\u0308_1_n\u22c5sin(p_1_n) + q\u0308_2_n\u22c5cos(p_1_n))     \n",
        "\u23a2                                                                             \n",
        "\u23a2                                                                             \n",
        "\u23a3                                   0                                      c\u2083 \n",
        "\n",
        "                           2                    2\u23a4\n",
        " 0       m\u2082\u22c5s\u2082\u22c5cos(p_1_n)\u22c5s   m\u2082\u22c5s\u2082\u22c5sin(p_1_n)\u22c5s \u23a5\n",
        "                                                 \u23a5\n",
        "      2             2                            \u23a5\n",
        "+ m\u2083\u22c5s          m\u2083\u22c5s                   0         \u23a6"
       ]
      },
      {
       "output_type": "stream",
       "stream": "stdout",
       "text": [
        "---\n"
       ]
      },
      {
       "latex": [
        "$$\\left[\\begin{matrix}m_{2} s_{2}^{2} s^{2} + m_{2} s_{2} \\left(g \\cos{\\left (p_{1 n} \\right )} - \\ddot{q}_{1 n} \\sin{\\left (p_{1 n} \\right )} + \\ddot{q}_{2 n} \\cos{\\left (p_{1 n} \\right )}\\right) & 0 & m_{2} s_{2} \\cos{\\left (p_{1 n} \\right )} s^{2} & m_{2} s_{2} \\sin{\\left (p_{1 n} \\right )} s^{2}\\\\0 & c_{3} + m_{3} s^{2} & m_{3} s^{2} & 0\\\\m_{2} s_{2}^{2} & 0 & m_{2} s_{2} \\cos{\\left (p_{1 n} \\right )} & m_{2} s_{2} \\sin{\\left (p_{1 n} \\right )}\\\\0 & m_{3} & m_{3} & 0\\end{matrix}\\right]$$"
       ],
       "metadata": {},
       "output_type": "display_data",
       "png": "[encoded data removed]",
       "text": [
        "\u23a1     2  2                                                                    \n",
        "\u23a2m\u2082\u22c5s\u2082 \u22c5s  + m\u2082\u22c5s\u2082\u22c5(g\u22c5cos(p_1_n) - q\u0308_1_n\u22c5sin(p_1_n) + q\u0308_2_n\u22c5cos(p_1_n))     \n",
        "\u23a2                                                                             \n",
        "\u23a2                                                                             \n",
        "\u23a2                                   0                                      c\u2083 \n",
        "\u23a2                                                                             \n",
        "\u23a2                                      2                                      \n",
        "\u23a2                                 m\u2082\u22c5s\u2082                                       \n",
        "\u23a2                                                                             \n",
        "\u23a3                                   0                                         \n",
        "\n",
        "                           2                    2\u23a4\n",
        " 0       m\u2082\u22c5s\u2082\u22c5cos(p_1_n)\u22c5s   m\u2082\u22c5s\u2082\u22c5sin(p_1_n)\u22c5s \u23a5\n",
        "                                                 \u23a5\n",
        "      2             2                            \u23a5\n",
        "+ m\u2083\u22c5s          m\u2083\u22c5s                   0         \u23a5\n",
        "                                                 \u23a5\n",
        "                                                 \u23a5\n",
        " 0        m\u2082\u22c5s\u2082\u22c5cos(p_1_n)     m\u2082\u22c5s\u2082\u22c5sin(p_1_n)  \u23a5\n",
        "                                                 \u23a5\n",
        " m\u2083              m\u2083                    0         \u23a6"
       ]
      },
      {
       "output_type": "stream",
       "stream": "stdout",
       "text": [
        "---\n"
       ]
      }
     ],
     "prompt_number": 94
    },
    {
     "cell_type": "code",
     "collapsed": false,
     "input": [
      "#res = nct.unimod_inv(PQ, s, time_dep_symbs=XXnc)"
     ],
     "language": "python",
     "metadata": {},
     "outputs": [],
     "prompt_number": 98
    },
    {
     "cell_type": "code",
     "collapsed": false,
     "input": [
      "Qpcl = st.pickle_full_load('Q_matrix_mechanik_ph_planar_versch_pendel_elast_masse.pcl')\n",
      "data = Qpcl.data\n",
      "Q = Q0"
     ],
     "language": "python",
     "metadata": {},
     "outputs": [],
     "prompt_number": 122
    },
    {
     "cell_type": "code",
     "collapsed": false,
     "input": [
      "s = sp.Symbol('s', commutative=False)\n",
      "P = data.P0 + data.P1*s + data.P2*s**2 ##\n",
      "PQ = st.row_stack(P, Q[:,:n] + Q[:,n:]*s)\n",
      "PQ ##"
     ],
     "language": "python",
     "metadata": {},
     "outputs": [
      {
       "latex": [
        "$$\\left[\\begin{matrix}A_{11} + C_{11} s^{2} & 0 & C_{13} s^{2} & C_{14} s^{2}\\\\0 & A_{22} + C_{22} s^{2} & C_{22} s^{2} & 0\\end{matrix}\\right]$$"
       ],
       "metadata": {},
       "output_type": "display_data",
       "png": "[encoded data removed]",
       "text": [
        "\u23a1           2                     2       2\u23a4\n",
        "\u23a2A\u2081\u2081 + C\u2081\u2081\u22c5s        0        C\u2081\u2083\u22c5s   C\u2081\u2084\u22c5s \u23a5\n",
        "\u23a2                                          \u23a5\n",
        "\u23a2                         2       2        \u23a5\n",
        "\u23a3     0        A\u2082\u2082 + C\u2082\u2082\u22c5s   C\u2082\u2082\u22c5s     0   \u23a6"
       ]
      },
      {
       "output_type": "stream",
       "stream": "stdout",
       "text": [
        "---\n"
       ]
      },
      {
       "latex": [
        "$$\\left[\\begin{matrix}A_{11} + C_{11} s^{2} & 0 & C_{13} s^{2} & C_{14} s^{2}\\\\0 & A_{22} + C_{22} s^{2} & C_{22} s^{2} & 0\\\\0 & 1 & 1 & 0\\\\2 C_{11} \\dot{C}_{11} s + C_{11} \\left(A_{11} + \\ddot{C}_{11}\\right) - 2 \\dot{C}_{11}^{2} & - C_{13} \\left(A_{11} + \\ddot{C}_{11}\\right) & 2 C_{13} \\dot{C}_{11} s & 2 C_{14} \\dot{C}_{11} s + C_{14} \\left(A_{11} + \\ddot{C}_{11}\\right)\\end{matrix}\\right]$$"
       ],
       "metadata": {},
       "output_type": "display_data",
       "png": "[encoded data removed]",
       "text": [
        "\u23a1                         2                                            2      \n",
        "\u23a2              A\u2081\u2081 + C\u2081\u2081\u22c5s                          0             C\u2081\u2083\u22c5s       \n",
        "\u23a2                                                                             \n",
        "\u23a2                                                        2             2      \n",
        "\u23a2                    0                        A\u2082\u2082 + C\u2082\u2082\u22c5s         C\u2082\u2082\u22c5s       \n",
        "\u23a2                                                                             \n",
        "\u23a2                    0                              1               1         \n",
        "\u23a2                                                                             \n",
        "\u23a2                                        2                                    \n",
        "\u23a32\u22c5C\u2081\u2081\u22c5C\u0307\u2081\u2081\u22c5s + C\u2081\u2081\u22c5(A\u2081\u2081 + C\u0308\u2081\u2081) - 2\u22c5C\u0307\u2081\u2081   -C\u2081\u2083\u22c5(A\u2081\u2081 + C\u0308\u2081\u2081)  2\u22c5C\u2081\u2083\u22c5C\u0307\u2081\u2081\u22c5s  2\n",
        "\n",
        "                2             \u23a4\n",
        "           C\u2081\u2084\u22c5s              \u23a5\n",
        "                              \u23a5\n",
        "                              \u23a5\n",
        "              0               \u23a5\n",
        "                              \u23a5\n",
        "              0               \u23a5\n",
        "                              \u23a5\n",
        "                              \u23a5\n",
        "\u22c5C\u2081\u2084\u22c5C\u0307\u2081\u2081\u22c5s + C\u2081\u2084\u22c5(A\u2081\u2081 + C\u0308\u2081\u2081)\u23a6"
       ]
      },
      {
       "output_type": "stream",
       "stream": "stdout",
       "text": [
        "___\n"
       ]
      }
     ],
     "prompt_number": 106
    },
    {
     "cell_type": "code",
     "collapsed": false,
     "input": [
      "# F\u00fcr Berechnung der Inversen m\u00fcssen die Eintr\u00e4ge nichtkommutativ sein.\n",
      "PQ = nct.make_all_symbols_noncommutative(PQ, '')[0]\n",
      "\n",
      "# auch nichtkommutative zeithabh\u00e4ngige Platzhalter-Symbole ben\u00f6tigt\n",
      "tds = nct.make_all_symbols_noncommutative(Q0.data.time_dep_symbols, '')[0]"
     ],
     "language": "python",
     "metadata": {},
     "outputs": [],
     "prompt_number": 108
    },
    {
     "cell_type": "code",
     "collapsed": false,
     "input": [
      "# ca. 3:20 min\n",
      "inv = nct.unimod_inv(PQ, s, time_dep_symbs=tds)\n",
      "\n",
      "prod = nct.nc_mul(inv, PQ)\n",
      "# ca 24s\n",
      "prod2 = nct.right_shift_all(prod, s, func_symbols=tds)\n",
      "# 20s\n",
      "prod3 = nct.make_all_symbols_commutative(prod2)[0].smplf ##:"
     ],
     "language": "python",
     "metadata": {},
     "outputs": [
      {
       "latex": [
        "prod3 := $$\\left[\\begin{matrix}1 & 0 & 0 & 0\\\\0 & 1 & 0 & 0\\\\0 & 0 & 1 & 0\\\\0 & 0 & 0 & 1\\end{matrix}\\right]$$"
       ],
       "metadata": {},
       "output_type": "display_data",
       "png": "[encoded data removed]",
       "text": [
        "prod3 := \u23a11  0  0  0\u23a4\n",
        "\u23a2          \u23a5\n",
        "\u23a20  1  0  0\u23a5\n",
        "\u23a2          \u23a5\n",
        "\u23a20  0  1  0\u23a5\n",
        "\u23a2          \u23a5\n",
        "\u23a30  0  0  1\u23a6"
       ]
      },
      {
       "output_type": "stream",
       "stream": "stdout",
       "text": [
        "---\n"
       ]
      }
     ],
     "prompt_number": 121
    },
    {
     "cell_type": "markdown",
     "metadata": {},
     "source": [
      "**Zwischenfazit**: die oben geladene Erg\u00e4nzungsmatrix $\\bs Q$ ist tats\u00e4chlich eine unimodulare Erg\u00e4nzung von $\\bs P$.\n",
      "\n",
      "---\n",
      "\n",
      "**N\u00e4chster Schritt:** Ersetzen der Platzhalter durch tats\u00e4chliche Ausdr\u00fccke und Bestimmung von $\\d \\bs \\omega $ und $\\d \\bs F$."
     ]
    },
    {
     "cell_type": "code",
     "collapsed": false,
     "input": [
      "ph_symbs = sp.Matrix(list(Qpcl.data.P0) + list(Qpcl.data.P1) + list(Qpcl.data.P2))\n",
      "replm_terms = sp.Matrix(list(P0) + list(P1) + list(P2))\n",
      "\n",
      "\n",
      "# Ableitungen der Platzhalter-Ersetzungen anlegen:\n",
      "ph_symbs_dot = st.perform_time_derivative(ph_symbs, ph_symbs)\n",
      "ph_symbs_ddot = st.perform_time_derivative(ph_symbs, ph_symbs, order=2)\n",
      "\n",
      "replm_terms_dot = st.perform_time_derivative(replm_terms, theta)\n",
      "replm_terms_ddot = st.perform_time_derivative(replm_terms, theta, order=2)\n",
      "\n",
      "replm_tups = zip(ph_symbs, replm_terms) + zip(ph_symbs_dot, replm_terms_dot)\n",
      "replm_tups += zip(ph_symbs_ddot, replm_terms_ddot)"
     ],
     "language": "python",
     "metadata": {},
     "outputs": [],
     "prompt_number": 124
    },
    {
     "cell_type": "code",
     "collapsed": false,
     "input": [
      "Qs = Q.subs(replm_tups)\n",
      "\n",
      "XX = st.row_stack(theta, mu, mud, mudd)\n",
      "Q_ = st.col_stack(Qs, sp.zeros(nq, n*2))\n",
      "\n",
      "P_ = st.col_stack(P0, P1, P2, sp.zeros(np, n))\n",
      "w1 = pc.DifferentialForm(1, XX, coeff=Q_[0, :]) ##:\n",
      "w2 = pc.DifferentialForm(1, XX, coeff=Q_[1, :]) ##:\n",
      "dF1 = pc.DifferentialForm(1, XX, coeff=P_[0, :]) ##:\n",
      "dF2 = pc.DifferentialForm(1, XX, coeff=P_[1, :]) ##:\n"
     ],
     "language": "python",
     "metadata": {},
     "outputs": [
      {
       "metadata": {},
       "output_type": "display_data",
       "text": [
        "w1 := (1)dp2  +  (1)dq1"
       ]
      },
      {
       "output_type": "stream",
       "stream": "stdout",
       "text": [
        "---\n"
       ]
      },
      {
       "metadata": {},
       "output_type": "display_data",
       "text": [
        "w2 := (m2**2*s2**3*(g*cos(p1) - qddot1*sin(p1) + qddot2*cos(p1)))dp1  +  (-m2**2*s2**2*(g*cos(p1) - qddot1*sin(p1) + qddot2*cos(p1))*cos(p1))dp2  +  (m2**2*s2**2*(g*cos(p1) - qddot1*sin(p1) + qddot2*cos(p1))*sin(p1))dq2"
       ]
      },
      {
       "output_type": "stream",
       "stream": "stdout",
       "text": [
        "---\n"
       ]
      },
      {
       "metadata": {},
       "output_type": "display_data",
       "text": [
        "dF1 := (m2*s2*(g*cos(p1) - qddot1*sin(p1) + qddot2*cos(p1)))dp1  +  (m2*s2**2)dpddot1  +  (m2*s2*cos(p1))dqddot1  +  (m2*s2*sin(p1))dqddot2"
       ]
      },
      {
       "output_type": "stream",
       "stream": "stdout",
       "text": [
        "---\n"
       ]
      },
      {
       "metadata": {},
       "output_type": "display_data",
       "text": [
        "dF2 := (c3)dp2  +  (m3)dpddot2  +  (m3)dqddot1"
       ]
      },
      {
       "output_type": "stream",
       "stream": "stdout",
       "text": [
        "---\n"
       ]
      }
     ],
     "prompt_number": 130
    },
    {
     "cell_type": "code",
     "collapsed": false,
     "input": [
      "w1.d ##:\n",
      "w_dot1 = w1.dot() ##:\n",
      "w_ddot1 = w_dot1.dot() ##:\n",
      "\n",
      "w_dot2 = w2.dot() # Ordnung 2 bez\u00fcglich der Basis theta\n",
      "\n",
      "w_dot2.ord ##:"
     ],
     "language": "python",
     "metadata": {},
     "outputs": [
      {
       "metadata": {},
       "output_type": "display_data",
       "text": [
        "w1.d  := (0)dp1^dp2"
       ]
      },
      {
       "output_type": "stream",
       "stream": "stdout",
       "text": [
        "___\n"
       ]
      },
      {
       "metadata": {},
       "output_type": "display_data",
       "text": [
        "w_dot1 := (1)dpdot2  +  (1)dqdot1"
       ]
      },
      {
       "output_type": "stream",
       "stream": "stdout",
       "text": [
        "---\n"
       ]
      },
      {
       "metadata": {},
       "output_type": "display_data",
       "text": [
        "w_ddot1 := (1)dpddot2  +  (1)dqddot1"
       ]
      },
      {
       "output_type": "stream",
       "stream": "stdout",
       "text": [
        "---\n"
       ]
      },
      {
       "latex": [
        "w_dot2.ord  := $$1$$"
       ],
       "metadata": {},
       "output_type": "display_data",
       "png": "[encoded data removed]",
       "text": [
        "w_dot2.ord  := 1"
       ]
      },
      {
       "output_type": "stream",
       "stream": "stdout",
       "text": [
        "___\n"
       ]
      }
     ],
     "prompt_number": 134
    },
    {
     "cell_type": "code",
     "collapsed": false,
     "input": [
      "Xi1 = w2.d^w1^w2^w1.dot()\n",
      "Gamma2 = w_dot2^w_ddot1^dF1^dF2\n",
      "Gamma3 = w_dot2.dot()^w_ddot1.dot()^dF1.dot()^dF2.dot()\n",
      "Theta_2 = Gamma2.get_baseform_from_idcs((8,9,10, 11)) ##\n",
      "Gamma2.get_coeff(Theta_2).simplify()"
     ],
     "language": "python",
     "metadata": {},
     "outputs": [
      {
       "metadata": {},
       "output_type": "display_data",
       "text": [
        "(1)dpddot1^dpddot2^dqddot1^dqddot2"
       ]
      }
     ]
    },
    {
     "cell_type": "code",
     "collapsed": false,
     "input": [],
     "language": "python",
     "metadata": {},
     "outputs": []
    },
    {
     "cell_type": "code",
     "collapsed": false,
     "input": [
      "# Dieses Rechnung stammt noch von dem parallelen Zweifachpendel.\n",
      "# Einige der eingef\u00fchrten Parameter sind \u00fcberfl\u00fcssig oder konstant\n",
      "\n",
      "\n",
      "Neq = np\n",
      "Nin = nq\n",
      "Ndf = np + nq\n",
      "\n",
      "eq_coeffsA = []\n",
      "eq_coeffsB = []\n",
      "eq_coeffsC = []\n",
      "\n",
      "all_coeffs = []\n",
      "# iterieren \u00fcber die Gleichungen\n",
      "for i in xrange(Neq):\n",
      "    coeffsA = []\n",
      "    coeffsB = []\n",
      "    coeffsC = []\n",
      "    coeffs = []\n",
      "    # iterieren \u00fcber die einzelnen Freiheitsgrade\n",
      "    for j in xrange(Ndf):\n",
      "        # drei Ableitungsordnungen\n",
      "        A = sp.Symbol(\"A%i_%i\" % (i + 1, j + 1))\n",
      "        B = sp.Symbol(\"B%i_%i\" % (i + 1, j + 1))\n",
      "        C = sp.Symbol(\"C%i_%i\" % (i + 1, j + 1))\n",
      "        \n",
      "        coeffsA.append(A)\n",
      "        coeffsB.append(B)\n",
      "        coeffsC.append(C)\n",
      "        \n",
      "        coeffs.extend([A, B, C])\n",
      "     \n",
      "     # jede Gleichung bekommt eine separate Liste\n",
      "    eq_coeffsA.append(coeffsA)\n",
      "    eq_coeffsB.append(coeffsB)\n",
      "    eq_coeffsC.append(coeffsC)\n",
      "     \n",
      "    all_coeffs.extend(coeffs)\n",
      "\n",
      "ac = sp.Matrix(all_coeffs)\n",
      "ac_d = st.perform_time_derivative(ac, ac)\n",
      "ac_dd = st.perform_time_derivative(ac, ac, order=2)\n",
      "st.make_global(st.row_stack(ac, ac_d, ac_dd), 1)\n",
      "\n",
      "AA = sp.Matrix([[A1_1, 0, 0, 0], [0, A2_2, 0, 0]])\n",
      "BB = sp.zeros(Neq, Ndf)\n",
      "CC = sp.Matrix([[C1_1, 0, C1_3, C1_4], [0, C2_2, C2_3, C2_4]])"
     ],
     "language": "python",
     "metadata": {},
     "outputs": [],
     "prompt_number": 23
    },
    {
     "cell_type": "code",
     "collapsed": false,
     "input": [
      "# Ergebnis des Franke-Algorithmus laden\n",
      "\n",
      "import pickle\n",
      "fname = \"Q_matrix_einfachpendel_np2_nq2.pcl\"\n",
      "with open(fname, 'r') as pfile:\n",
      "    Q = pickle.load(pfile)\n",
      "    Q.simplify()"
     ],
     "language": "python",
     "metadata": {},
     "outputs": [],
     "prompt_number": 24
    },
    {
     "cell_type": "code",
     "collapsed": false,
     "input": [
      "Q.co"
     ],
     "language": "python",
     "metadata": {},
     "outputs": [
      {
       "metadata": {},
       "output_type": "pyout",
       "prompt_number": 25,
       "text": [
        "Matrix([\n",
        "[0,  0, 0,  0, 0,  0,  0, 0],\n",
        "[7, 12, 0, 11, 7, 15, 19, 7]])"
       ]
      }
     ],
     "prompt_number": 25
    },
    {
     "cell_type": "code",
     "collapsed": false,
     "input": [
      "used_coeffs = sorted(list(AA.s.union(CC.s)), key=str)"
     ],
     "language": "python",
     "metadata": {},
     "outputs": [],
     "prompt_number": 26
    },
    {
     "cell_type": "code",
     "collapsed": false,
     "input": [
      "# Parameter Aij und Cij durch die tats\u00e4chlichen Ausdr\u00fccke ersetzen\n",
      "para1 = sp.solve(P0-AA, AA.s).items()\n",
      "para2 = sp.solve(P2-CC, CC.s).items()\n",
      "para = para1 + para2\n",
      "para.sort(key=str) # sortieren f\u00fcr die Anzeige \n",
      "\n",
      "# \"time dependent symbols\"\n",
      "tds = used_coeffs + list(theta) + list(mu)"
     ],
     "language": "python",
     "metadata": {},
     "outputs": [],
     "prompt_number": 27
    },
    {
     "cell_type": "code",
     "collapsed": false,
     "input": [
      "Mpara = sp.Matrix(para)\n",
      "Mpara = st.row_stack(Mpara, st.perform_time_derivative(Mpara, tds), st.perform_time_derivative(Mpara, tds, order=2))\n",
      "\n",
      "# 1. Spalte enth\u00e4lt Symbole, 2. die zugeh\u00f6rigen Ausdr\u00fccke\n",
      "Mpara[:10, :]"
     ],
     "language": "python",
     "metadata": {},
     "outputs": [
      {
       "metadata": {},
       "output_type": "pyout",
       "prompt_number": 28,
       "text": [
        "Matrix([\n",
        "[   A1_1,                                                        m3*s3*(g*cos(p1) - qddot1*sin(p1) + qddot2*cos(p1))],\n",
        "[   A2_2,                                                                                                         c4],\n",
        "[   C1_1,                                                                                                   m3*s3**2],\n",
        "[   C1_3,                                                                                              m3*s3*cos(p1)],\n",
        "[   C1_4,                                                                                              m3*s3*sin(p1)],\n",
        "[   C2_2,                                                                                                         m4],\n",
        "[   C2_3,                                                                                                         m4],\n",
        "[   C2_4,                                                                                                          0],\n",
        "[A1_dot1, m3*s3*(-g*pdot1*sin(p1) - pdot1*qddot1*cos(p1) - pdot1*qddot2*sin(p1) - qdddot1*sin(p1) + qdddot2*cos(p1))],\n",
        "[A2_dot2,                                                                                                          0]])"
       ]
      }
     ],
     "prompt_number": 28
    },
    {
     "cell_type": "code",
     "collapsed": false,
     "input": [
      "# Die Originalen Ausdr\u00fccke in die Matrix mit den Platzhalter-Symbolen einsetzen\n",
      "Qs = Q.subs(zip(Mpara[:,0], Mpara[:,1]))"
     ],
     "language": "python",
     "metadata": {},
     "outputs": [],
     "prompt_number": 29
    },
    {
     "cell_type": "code",
     "collapsed": false,
     "input": [
      "%time Qs.simplify()"
     ],
     "language": "python",
     "metadata": {},
     "outputs": [
      {
       "output_type": "stream",
       "stream": "stdout",
       "text": [
        "CPU times: user 8.78 s, sys: 4 ms, total: 8.78 s\n",
        "Wall time: 8.78 s\n"
       ]
      }
     ],
     "prompt_number": 30
    },
    {
     "cell_type": "code",
     "collapsed": false,
     "input": [
      "Qs.srnp"
     ],
     "language": "python",
     "metadata": {},
     "outputs": [
      {
       "metadata": {},
       "output_type": "pyout",
       "prompt_number": 31,
       "text": [
        "Matrix([\n",
        "[                   0,                 19.0, 19.0,                     0,                    0,                     0,                     0,                     0],\n",
        "[6.11469635438613e+23, 8.31344736469125e+21,    0, -4.14096931480643e+22, 4.52943571302617e+22, -2.27233347133305e+24, -2.27171507331758e+24, -2.73143662706462e+20]])"
       ]
      }
     ],
     "prompt_number": 31
    },
    {
     "cell_type": "code",
     "collapsed": false,
     "input": [
      "Qs[0,:] ##\n",
      "Qs[1,:]"
     ],
     "language": "python",
     "metadata": {},
     "outputs": [
      {
       "metadata": {},
       "output_type": "display_data",
       "text": [
        "Matrix([[0, m4, m4, 0, 0, 0, 0, 0]])"
       ]
      },
      {
       "output_type": "stream",
       "stream": "stdout",
       "text": [
        "___\n"
       ]
      },
      {
       "metadata": {},
       "output_type": "pyout",
       "prompt_number": 32,
       "text": [
        "Matrix([[c4*m3**4*m4*s3**5*(g*sin(2*p1)/2 + qddot1*cos(2*p1)/2 - qddot1/2 + qddot2*sin(2*p1)/2 - s3*(pddot1*cos(p1) - pdot1**2*sin(p1)))*sin(p1), c4*m3**4*m4*s3**4*(-g*sin(2*p1)/2 + pddot1*s3*cos(p1) + pdot1**2*s3*sin(p1) + qddot1*sin(p1)**2 - qddot2*sin(2*p1)/2)*sin(p1)*cos(p1), 0, c4*m3**4*m4*s3**4*(2*pdot1**2*s3*cos(p1)**2 - (-g*sin(2*p1)/2 - qddot1*cos(2*p1)/2 + qddot1/2 - qddot2*sin(2*p1)/2 + s3*(pddot1*cos(p1) - pdot1**2*sin(p1)))*sin(p1))*sin(p1), -c4*m3**4*m4*pdot1*s3**6*sin(2*p1), 2*m3**4*m4**2*pdot1*s3**4*(g*cos(p1) + pdot1**2*s3 - qddot1*sin(p1) + qddot2*cos(p1))*sin(p1), -2*m3**4*m4*pdot1*s3**4*(c4*s3*cos(p1)**2 - m4*(g*cos(p1) + pdot1**2*s3 - qddot1*sin(p1) + qddot2*cos(p1)))*sin(p1), -2*c4*m3**4*m4*pdot1*s3**5*sin(p1)**2*cos(p1)]])"
       ]
      }
     ],
     "prompt_number": 32
    },
    {
     "cell_type": "code",
     "collapsed": false,
     "input": [
      "Qs.s"
     ],
     "language": "python",
     "metadata": {},
     "outputs": [
      {
       "metadata": {},
       "output_type": "pyout",
       "prompt_number": 33,
       "text": [
        "{qddot1, pddot1, m3, pdot1, c4, qddot2, m4, g, p1, s3}"
       ]
      }
     ],
     "prompt_number": 33
    },
    {
     "cell_type": "code",
     "collapsed": false,
     "input": [
      "ppx = st.row_stack(theta, mu, mud, mudd)\n",
      "Q_ = st.col_stack(Qs, sp.zeros(nq, n*2))\n",
      "\n",
      "P_ = st.col_stack(P0, P1, P2, sp.zeros(np, n))\n",
      "w1 = pc.DifferentialForm(1, ppx, coeff=Q_[0, :])\n",
      "w2 = pc.DifferentialForm(1, ppx, coeff=Q_[1, :])\n",
      "dF1 = pc.DifferentialForm(1, ppx, coeff=P_[0, :])\n",
      "dF2 = pc.DifferentialForm(1, ppx, coeff=P_[1, :])"
     ],
     "language": "python",
     "metadata": {},
     "outputs": [],
     "prompt_number": 34
    },
    {
     "cell_type": "code",
     "collapsed": false,
     "input": [
      "rho = []\n",
      "for elt in ppx:\n",
      "    rho.append(pc.d(elt, ppx))"
     ],
     "language": "python",
     "metadata": {},
     "outputs": [],
     "prompt_number": 36
    },
    {
     "cell_type": "code",
     "collapsed": false,
     "input": [
      "rho[10]"
     ],
     "language": "python",
     "metadata": {},
     "outputs": [
      {
       "metadata": {},
       "output_type": "pyout",
       "prompt_number": 37,
       "text": [
        "(1) dqddot1"
       ]
      }
     ],
     "prompt_number": 37
    },
    {
     "cell_type": "code",
     "collapsed": false,
     "input": [],
     "language": "python",
     "metadata": {},
     "outputs": []
    },
    {
     "cell_type": "code",
     "collapsed": false,
     "input": [],
     "language": "python",
     "metadata": {},
     "outputs": []
    },
    {
     "cell_type": "code",
     "collapsed": false,
     "input": [],
     "language": "python",
     "metadata": {},
     "outputs": []
    },
    {
     "cell_type": "code",
     "collapsed": false,
     "input": [
      "w1.d ##:\n",
      "w_dot1 = w1.dot() ##:\n",
      "w_ddot1 = w_dot1.dot() ##:\n",
      "\n",
      "w_dot2 = w2.dot() # Ordnung 2 bez\u00fcglich der Basis theta\n",
      "\n",
      "w_dot2.ord"
     ],
     "language": "python",
     "metadata": {},
     "outputs": [
      {
       "metadata": {},
       "output_type": "display_data",
       "text": [
        "(0)dp1^dp2"
       ]
      },
      {
       "output_type": "stream",
       "stream": "stdout",
       "text": [
        "___\n"
       ]
      }
     ],
     "prompt_number": 131
    },
    {
     "cell_type": "code",
     "collapsed": false,
     "input": [
      "Xi1 = w2.d^w1^w2^w1.dot()\n",
      "Gamma2 = w_dot2^w_ddot1^dF1^dF2\n",
      "Gamma3 = w_dot2.dot()^w_ddot1.dot()^dF1.dot()^dF2.dot()\n",
      "Theta_2 = Gamma2.get_baseform_from_idcs((8,9,10, 11)) ##\n",
      "Gamma2.get_coeff(Theta_2).simplify()"
     ],
     "language": "python",
     "metadata": {},
     "outputs": [],
     "prompt_number": 40
    },
    {
     "cell_type": "code",
     "collapsed": false,
     "input": [
      "w1 - w1"
     ],
     "language": "python",
     "metadata": {},
     "outputs": [
      {
       "metadata": {},
       "output_type": "pyout",
       "prompt_number": 100,
       "text": [
        "0"
       ]
      }
     ],
     "prompt_number": 100
    },
    {
     "cell_type": "code",
     "collapsed": false,
     "input": [
      "reload(pc)\n",
      "reload(st)"
     ],
     "language": "python",
     "metadata": {},
     "outputs": [
      {
       "metadata": {},
       "output_type": "pyout",
       "prompt_number": 93,
       "text": [
        "<module 'symb_tools' from '/home/ck/myModules/symb_tools.py'>"
       ]
      }
     ],
     "prompt_number": 93
    },
    {
     "cell_type": "code",
     "collapsed": false,
     "input": [],
     "language": "python",
     "metadata": {},
     "outputs": []
    },
    {
     "cell_type": "code",
     "collapsed": true,
     "input": [
      "# dauert ca 10 min:\n",
      "# das 3011. Index-Tupel passt.\n",
      "\n",
      "R = pc.DifferentialForm(8, ppx)\n",
      "\n",
      "for idcs in R.indices[3000:]:\n",
      "    \n",
      "    # abk\u00fcrzung:\n",
      "    #idcs = (0, 2, 3, 4, 5, 6, 8, 9)\n",
      "    if max(idcs) > 11:\n",
      "        continue\n",
      "    R = R*0\n",
      "    R[idcs] = 1\n",
      "    tmp = R^Gamma2\n",
      "    if abs(tmp.coeff.srn[0]) > 1e-10:\n",
      "        print idcs\n",
      "        tmp2 = tmp^Gamma3\n",
      "        if abs(tmp2.coeff.srn[0]) > 1e-10:\n",
      "            print \"passt\"\n",
      "            break\n",
      "        \n"
     ],
     "language": "python",
     "metadata": {},
     "outputs": [
      {
       "output_type": "stream",
       "stream": "stdout",
       "text": [
        "(0, 2, 3, 4, 5, 6, 8, 9)\n",
        "(0, 2, 3, 4, 5, 6, 8, 10)"
       ]
      },
      {
       "output_type": "stream",
       "stream": "stdout",
       "text": [
        "\n",
        "(0, 2, 3, 4, 5, 6, 8, 11)"
       ]
      },
      {
       "output_type": "stream",
       "stream": "stdout",
       "text": [
        "\n",
        "(0, 2, 3, 4, 5, 6, 9, 11)"
       ]
      },
      {
       "output_type": "stream",
       "stream": "stdout",
       "text": [
        "\n",
        "(0, 2, 3, 4, 5, 6, 10, 11)"
       ]
      },
      {
       "output_type": "stream",
       "stream": "stdout",
       "text": [
        "\n",
        "(0, 2, 3, 4, 5, 7, 8, 9)"
       ]
      },
      {
       "output_type": "stream",
       "stream": "stdout",
       "text": [
        "\n",
        "(0, 2, 3, 4, 5, 7, 8, 10)"
       ]
      },
      {
       "output_type": "stream",
       "stream": "stdout",
       "text": [
        "\n",
        "(0, 2, 3, 4, 5, 7, 8, 11)"
       ]
      },
      {
       "output_type": "stream",
       "stream": "stdout",
       "text": [
        "\n",
        "(0, 2, 3, 4, 5, 7, 9, 11)"
       ]
      },
      {
       "output_type": "stream",
       "stream": "stdout",
       "text": [
        "\n",
        "(0, 2, 3, 4, 5, 7, 10, 11)"
       ]
      },
      {
       "output_type": "stream",
       "stream": "stdout",
       "text": [
        "\n",
        "(0, 2, 3, 4, 6, 7, 8, 9)"
       ]
      },
      {
       "output_type": "stream",
       "stream": "stdout",
       "text": [
        "\n",
        "(0, 2, 3, 4, 6, 7, 8, 10)"
       ]
      },
      {
       "output_type": "stream",
       "stream": "stdout",
       "text": [
        "\n",
        "(0, 2, 3, 4, 6, 7, 8, 11)"
       ]
      },
      {
       "output_type": "stream",
       "stream": "stdout",
       "text": [
        "\n",
        "(0, 2, 3, 4, 6, 7, 9, 11)"
       ]
      },
      {
       "output_type": "stream",
       "stream": "stdout",
       "text": [
        "\n",
        "(0, 2, 3, 4, 6, 7, 10, 11)"
       ]
      },
      {
       "output_type": "stream",
       "stream": "stdout",
       "text": [
        "\n",
        "(0, 2, 3, 5, 6, 7, 8, 9)"
       ]
      },
      {
       "output_type": "stream",
       "stream": "stdout",
       "text": [
        "\n",
        "(0, 2, 3, 5, 6, 7, 8, 10)"
       ]
      },
      {
       "output_type": "stream",
       "stream": "stdout",
       "text": [
        "\n",
        "(0, 2, 3, 5, 6, 7, 8, 11)"
       ]
      },
      {
       "output_type": "stream",
       "stream": "stdout",
       "text": [
        "\n",
        "(0, 2, 3, 5, 6, 7, 9, 11)"
       ]
      },
      {
       "output_type": "stream",
       "stream": "stdout",
       "text": [
        "\n",
        "(0, 2, 3, 5, 6, 7, 10, 11)"
       ]
      },
      {
       "output_type": "stream",
       "stream": "stdout",
       "text": [
        "\n"
       ]
      },
      {
       "ename": "KeyboardInterrupt",
       "evalue": "",
       "output_type": "pyerr",
       "traceback": [
        "\u001b[1;31m---------------------------------------------------------------------------\u001b[0m\n\u001b[1;31mKeyboardInterrupt\u001b[0m                         Traceback (most recent call last)",
        "\u001b[1;32m<ipython-input-42-609364ea0bdd>\u001b[0m in \u001b[0;36m<module>\u001b[1;34m()\u001b[0m\n\u001b[0;32m     13\u001b[0m     \u001b[0mR\u001b[0m\u001b[1;33m[\u001b[0m\u001b[0midcs\u001b[0m\u001b[1;33m]\u001b[0m \u001b[1;33m=\u001b[0m \u001b[1;36m1\u001b[0m\u001b[1;33m\u001b[0m\u001b[0m\n\u001b[0;32m     14\u001b[0m     \u001b[0mtmp\u001b[0m \u001b[1;33m=\u001b[0m \u001b[0mR\u001b[0m\u001b[1;33m^\u001b[0m\u001b[0mGamma2\u001b[0m\u001b[1;33m\u001b[0m\u001b[0m\n\u001b[1;32m---> 15\u001b[1;33m     \u001b[1;32mif\u001b[0m \u001b[0mabs\u001b[0m\u001b[1;33m(\u001b[0m\u001b[0mtmp\u001b[0m\u001b[1;33m.\u001b[0m\u001b[0mcoeff\u001b[0m\u001b[1;33m.\u001b[0m\u001b[0msrn\u001b[0m\u001b[1;33m[\u001b[0m\u001b[1;36m0\u001b[0m\u001b[1;33m]\u001b[0m\u001b[1;33m)\u001b[0m \u001b[1;33m>\u001b[0m \u001b[1;36m1e-10\u001b[0m\u001b[1;33m:\u001b[0m\u001b[1;33m\u001b[0m\u001b[0m\n\u001b[0m\u001b[0;32m     16\u001b[0m         \u001b[1;32mprint\u001b[0m \u001b[0midcs\u001b[0m\u001b[1;33m\u001b[0m\u001b[0m\n\u001b[0;32m     17\u001b[0m         \u001b[0mtmp2\u001b[0m \u001b[1;33m=\u001b[0m \u001b[0mtmp\u001b[0m\u001b[1;33m^\u001b[0m\u001b[0mGamma3\u001b[0m\u001b[1;33m\u001b[0m\u001b[0m\n",
        "\u001b[1;32m/home/ck/myModules/symb_tools.pyc\u001b[0m in \u001b[0;36msrn\u001b[1;34m(self)\u001b[0m\n\u001b[0;32m    102\u001b[0m     \u001b[0mreturns\u001b[0m \u001b[0msubs_random_numbers\u001b[0m\u001b[1;33m(\u001b[0m\u001b[0mself\u001b[0m\u001b[1;33m,\u001b[0m \u001b[1;33m**\u001b[0m\u001b[0mkwargs\u001b[0m\u001b[1;33m)\u001b[0m\u001b[1;33m\u001b[0m\u001b[0m\n\u001b[0;32m    103\u001b[0m     \"\"\"\n\u001b[1;32m--> 104\u001b[1;33m     \u001b[1;32mreturn\u001b[0m \u001b[0msubs_random_numbers\u001b[0m\u001b[1;33m(\u001b[0m\u001b[0mself\u001b[0m\u001b[1;33m,\u001b[0m \u001b[0mminmax\u001b[0m\u001b[1;33m=\u001b[0m\u001b[1;33m(\u001b[0m\u001b[1;36m1\u001b[0m\u001b[1;33m,\u001b[0m \u001b[1;36m10\u001b[0m\u001b[1;33m)\u001b[0m\u001b[1;33m)\u001b[0m\u001b[1;33m\u001b[0m\u001b[0m\n\u001b[0m\u001b[0;32m    105\u001b[0m \u001b[0mnew_methods\u001b[0m\u001b[1;33m.\u001b[0m\u001b[0mappend\u001b[0m\u001b[1;33m(\u001b[0m\u001b[1;33m(\u001b[0m\u001b[1;34m'srn'\u001b[0m\u001b[1;33m,\u001b[0m \u001b[0msrn\u001b[0m\u001b[1;33m)\u001b[0m\u001b[1;33m)\u001b[0m\u001b[1;33m\u001b[0m\u001b[0m\n\u001b[0;32m    106\u001b[0m \u001b[1;33m\u001b[0m\u001b[0m\n",
        "\u001b[1;32m/home/ck/myModules/symb_tools.pyc\u001b[0m in \u001b[0;36msubs_random_numbers\u001b[1;34m(expr, *args, **kwargs)\u001b[0m\n\u001b[0;32m   2741\u001b[0m     \"\"\"\n\u001b[0;32m   2742\u001b[0m \u001b[1;33m\u001b[0m\u001b[0m\n\u001b[1;32m-> 2743\u001b[1;33m     \u001b[0mtuples\u001b[0m \u001b[1;33m=\u001b[0m \u001b[0mrnd_number_subs_tuples\u001b[0m\u001b[1;33m(\u001b[0m\u001b[0mexpr\u001b[0m\u001b[1;33m,\u001b[0m \u001b[1;33m*\u001b[0m\u001b[0margs\u001b[0m\u001b[1;33m,\u001b[0m \u001b[1;33m**\u001b[0m\u001b[0mkwargs\u001b[0m\u001b[1;33m)\u001b[0m\u001b[1;33m\u001b[0m\u001b[0m\n\u001b[0m\u001b[0;32m   2744\u001b[0m \u001b[1;33m\u001b[0m\u001b[0m\n\u001b[0;32m   2745\u001b[0m     \u001b[1;32mreturn\u001b[0m \u001b[0mexpr\u001b[0m\u001b[1;33m.\u001b[0m\u001b[0msubs\u001b[0m\u001b[1;33m(\u001b[0m\u001b[0mtuples\u001b[0m\u001b[1;33m)\u001b[0m\u001b[1;33m\u001b[0m\u001b[0m\n",
        "\u001b[1;32m/home/ck/myModules/symb_tools.pyc\u001b[0m in \u001b[0;36mrnd_number_subs_tuples\u001b[1;34m(expr, seed, rational, prime, minmax)\u001b[0m\n\u001b[0;32m   2650\u001b[0m         \u001b[0mdummy_symbol_list\u001b[0m\u001b[1;33m.\u001b[0m\u001b[0mappend\u001b[0m\u001b[1;33m(\u001b[0m\u001b[0mdummy\u001b[0m\u001b[1;33m)\u001b[0m\u001b[1;33m\u001b[0m\u001b[0m\n\u001b[0;32m   2651\u001b[0m \u001b[1;33m\u001b[0m\u001b[0m\n\u001b[1;32m-> 2652\u001b[1;33m     \u001b[0mregular_symbol_list\u001b[0m \u001b[1;33m=\u001b[0m \u001b[0mlist\u001b[0m\u001b[1;33m(\u001b[0m\u001b[0mexpr\u001b[0m\u001b[1;33m.\u001b[0m\u001b[0matoms\u001b[0m\u001b[1;33m(\u001b[0m\u001b[0msp\u001b[0m\u001b[1;33m.\u001b[0m\u001b[0mSymbol\u001b[0m\u001b[1;33m)\u001b[0m\u001b[1;33m)\u001b[0m  \u001b[1;31m# original Symbols\u001b[0m\u001b[1;33m\u001b[0m\u001b[0m\n\u001b[0m\u001b[0;32m   2653\u001b[0m \u001b[1;33m\u001b[0m\u001b[0m\n\u001b[0;32m   2654\u001b[0m     \u001b[1;32mfor\u001b[0m \u001b[0matom\u001b[0m \u001b[1;32min\u001b[0m \u001b[0mlist\u001b[0m\u001b[1;33m(\u001b[0m\u001b[0mderivs\u001b[0m\u001b[1;33m)\u001b[0m \u001b[1;33m+\u001b[0m \u001b[0mlist\u001b[0m\u001b[1;33m(\u001b[0m\u001b[0mfuncs\u001b[0m\u001b[1;33m)\u001b[0m \u001b[1;33m+\u001b[0m \u001b[0mregular_symbol_list\u001b[0m\u001b[1;33m:\u001b[0m\u001b[1;33m\u001b[0m\u001b[0m\n",
        "\u001b[1;32m/home/ck/myModules/sympy/matrices/matrices.pyc\u001b[0m in \u001b[0;36matoms\u001b[1;34m(self, *types)\u001b[0m\n\u001b[0;32m   1127\u001b[0m         \u001b[0mresult\u001b[0m \u001b[1;33m=\u001b[0m \u001b[0mset\u001b[0m\u001b[1;33m(\u001b[0m\u001b[1;33m)\u001b[0m\u001b[1;33m\u001b[0m\u001b[0m\n\u001b[0;32m   1128\u001b[0m         \u001b[1;32mfor\u001b[0m \u001b[0mi\u001b[0m \u001b[1;32min\u001b[0m \u001b[0mself\u001b[0m\u001b[1;33m:\u001b[0m\u001b[1;33m\u001b[0m\u001b[0m\n\u001b[1;32m-> 1129\u001b[1;33m             \u001b[0mresult\u001b[0m\u001b[1;33m.\u001b[0m\u001b[0mupdate\u001b[0m\u001b[1;33m(\u001b[0m \u001b[0mi\u001b[0m\u001b[1;33m.\u001b[0m\u001b[0matoms\u001b[0m\u001b[1;33m(\u001b[0m\u001b[1;33m*\u001b[0m\u001b[0mtypes\u001b[0m\u001b[1;33m)\u001b[0m \u001b[1;33m)\u001b[0m\u001b[1;33m\u001b[0m\u001b[0m\n\u001b[0m\u001b[0;32m   1130\u001b[0m         \u001b[1;32mreturn\u001b[0m \u001b[0mresult\u001b[0m\u001b[1;33m\u001b[0m\u001b[0m\n\u001b[0;32m   1131\u001b[0m \u001b[1;33m\u001b[0m\u001b[0m\n",
        "\u001b[1;31mKeyboardInterrupt\u001b[0m: "
       ]
      }
     ],
     "prompt_number": 42
    },
    {
     "cell_type": "code",
     "collapsed": false,
     "input": [
      "z = (Gamma2^Gamma3)"
     ],
     "language": "python",
     "metadata": {},
     "outputs": [],
     "prompt_number": 43
    },
    {
     "cell_type": "code",
     "collapsed": false,
     "input": [
      "Xi2 = Xi1^Gamma2"
     ],
     "language": "python",
     "metadata": {},
     "outputs": [],
     "prompt_number": 44
    },
    {
     "cell_type": "code",
     "collapsed": false,
     "input": [
      "nzt = Xi2.nonzero_tuples()\n",
      "\n",
      "# dauert ziemlich lange\n",
      "nzt = [tup for tup in nzt if abs(tup[0].srn) > 1e-20]"
     ],
     "language": "python",
     "metadata": {},
     "outputs": []
    },
    {
     "cell_type": "code",
     "collapsed": false,
     "input": [
      "len(nzt) # ergibt 20"
     ],
     "language": "python",
     "metadata": {},
     "outputs": []
    },
    {
     "cell_type": "code",
     "collapsed": false,
     "input": [
      "Xi3 = Xi1^z"
     ],
     "language": "python",
     "metadata": {},
     "outputs": [],
     "prompt_number": 45
    },
    {
     "cell_type": "code",
     "collapsed": false,
     "input": [
      "Xi1.degree"
     ],
     "language": "python",
     "metadata": {},
     "outputs": [
      {
       "metadata": {},
       "output_type": "pyout",
       "prompt_number": 46,
       "text": [
        "5"
       ]
      }
     ],
     "prompt_number": 46
    },
    {
     "cell_type": "code",
     "collapsed": false,
     "input": [
      "Xi1.num_coeff"
     ],
     "language": "python",
     "metadata": {},
     "outputs": [
      {
       "metadata": {},
       "output_type": "pyout",
       "prompt_number": 47,
       "text": [
        "4368"
       ]
      }
     ],
     "prompt_number": 47
    },
    {
     "cell_type": "code",
     "collapsed": false,
     "input": [
      "sp.binomial(12, 9)"
     ],
     "language": "python",
     "metadata": {},
     "outputs": []
    },
    {
     "cell_type": "code",
     "collapsed": false,
     "input": [],
     "language": "python",
     "metadata": {},
     "outputs": []
    },
    {
     "cell_type": "code",
     "collapsed": false,
     "input": [
      "zip(*nzt)[1]"
     ],
     "language": "python",
     "metadata": {},
     "outputs": []
    },
    {
     "cell_type": "code",
     "collapsed": false,
     "input": [
      "# welche anderen Tupel gibt es noch, die 2mal die h\u00f6chste AO drin haben?\n",
      "\n"
     ],
     "language": "python",
     "metadata": {},
     "outputs": []
    },
    {
     "cell_type": "code",
     "collapsed": false,
     "input": [
      "Xi3.num_coeff"
     ],
     "language": "python",
     "metadata": {},
     "outputs": [
      {
       "metadata": {},
       "output_type": "pyout",
       "prompt_number": 49,
       "text": [
        "560"
       ]
      }
     ],
     "prompt_number": 49
    },
    {
     "cell_type": "code",
     "collapsed": false,
     "input": [
      "Xi3.coeff[:5,:].srn"
     ],
     "language": "python",
     "metadata": {},
     "outputs": [
      {
       "metadata": {},
       "output_type": "pyout",
       "prompt_number": 51,
       "text": [
        "Matrix([\n",
        "[                                                                                                        0],\n",
        "[2.030429929372865518462492427463530969986788428443006858992209702825612526733527816574114508560741604e-51],\n",
        "[2.030429929372865518462492427463530969986788428443006858992209702825612526733527816574114508560741604e-51],\n",
        "[                                                                                                        0],\n",
        "[5.879836730305970513640922210509261483696459914679860484542232802165029432171032236175014331162821434e-52]])"
       ]
      }
     ],
     "prompt_number": 51
    },
    {
     "cell_type": "code",
     "collapsed": false,
     "input": [
      "w1"
     ],
     "language": "python",
     "metadata": {},
     "outputs": [
      {
       "metadata": {},
       "output_type": "pyout",
       "prompt_number": 53,
       "text": [
        "(m4) dp2+(m4) dq1"
       ]
      }
     ],
     "prompt_number": 53
    },
    {
     "cell_type": "code",
     "collapsed": false,
     "input": [
      "w1.get_baseform_from_plain_index(0)"
     ],
     "language": "python",
     "metadata": {},
     "outputs": [
      {
       "metadata": {},
       "output_type": "pyout",
       "prompt_number": 63,
       "text": [
        "(1) dp1"
       ]
      }
     ],
     "prompt_number": 63
    },
    {
     "cell_type": "code",
     "collapsed": false,
     "input": [
      "w2.co"
     ],
     "language": "python",
     "metadata": {},
     "outputs": [
      {
       "metadata": {},
       "output_type": "pyout",
       "prompt_number": 58,
       "text": [
        "(32) dp1+(32) dp2+(41) dq2+(10) dpdot1+(21) dpdot2+(27) dqdot1+(13) dqdot2"
       ]
      }
     ],
     "prompt_number": 58
    },
    {
     "cell_type": "code",
     "collapsed": false,
     "input": [
      "dF2"
     ],
     "language": "python",
     "metadata": {},
     "outputs": [
      {
       "metadata": {},
       "output_type": "pyout",
       "prompt_number": 55,
       "text": [
        "(c4) dp2+(m4) dpddot2+(m4) dqddot1"
       ]
      }
     ],
     "prompt_number": 55
    },
    {
     "cell_type": "code",
     "collapsed": false,
     "input": [],
     "language": "python",
     "metadata": {},
     "outputs": [
      {
       "metadata": {},
       "output_type": "pyout",
       "prompt_number": 61,
       "text": [
        "<module 'pycartan' from '/home/ck/myModules/pycartan.py'>"
       ]
      }
     ],
     "prompt_number": 61
    },
    {
     "cell_type": "code",
     "collapsed": false,
     "input": [
      "nzt3a = Xi3.nonzero_tuples()\n",
      "\n",
      "# dauert lange (mehr als 30min)\n",
      "# Es kommt raus, dass alle Ausdr\u00fccke verschwinden\n",
      "nzt3 = []\n",
      "for i, tup in enumerate(nzt3a):\n",
      "    if abs(tup[0].srn) > 1e-20:\n",
      "        nzt3.append(tup)\n",
      "    if (i % 10) == 0:\n",
      "        print i, \"/\", len(nzt3a)\n"
     ],
     "language": "python",
     "metadata": {},
     "outputs": []
    },
    {
     "cell_type": "code",
     "collapsed": false,
     "input": [
      "nzt3a[67][0].simplify()"
     ],
     "language": "python",
     "metadata": {},
     "outputs": []
    },
    {
     "cell_type": "code",
     "collapsed": false,
     "input": [
      "len(nzt3a)"
     ],
     "language": "python",
     "metadata": {},
     "outputs": []
    },
    {
     "cell_type": "code",
     "collapsed": false,
     "input": [
      "len(nzt)"
     ],
     "language": "python",
     "metadata": {},
     "outputs": []
    },
    {
     "cell_type": "code",
     "collapsed": false,
     "input": [
      "nzt[-1][0].srn"
     ],
     "language": "python",
     "metadata": {},
     "outputs": []
    },
    {
     "cell_type": "code",
     "collapsed": false,
     "input": [
      "w1.nonzero_tuples??"
     ],
     "language": "python",
     "metadata": {},
     "outputs": []
    },
    {
     "cell_type": "code",
     "collapsed": false,
     "input": [
      "idcs"
     ],
     "language": "python",
     "metadata": {},
     "outputs": []
    },
    {
     "cell_type": "code",
     "collapsed": false,
     "input": [
      "R.indices.index(idcs)"
     ],
     "language": "python",
     "metadata": {},
     "outputs": []
    },
    {
     "cell_type": "code",
     "collapsed": false,
     "input": [
      "tmp.coeff.srn"
     ],
     "language": "python",
     "metadata": {},
     "outputs": []
    },
    {
     "cell_type": "code",
     "collapsed": false,
     "input": [
      "tmp2 = R^Gamma2^Gamma3"
     ],
     "language": "python",
     "metadata": {},
     "outputs": []
    },
    {
     "cell_type": "code",
     "collapsed": false,
     "input": [
      "tmp2.coeff.srn"
     ],
     "language": "python",
     "metadata": {},
     "outputs": []
    },
    {
     "cell_type": "code",
     "collapsed": false,
     "input": [],
     "language": "python",
     "metadata": {},
     "outputs": []
    },
    {
     "cell_type": "code",
     "collapsed": false,
     "input": [
      "tmp = w2.d^w1^w2^w_dot1^w_dot2^w_ddot1^dF1^dF2"
     ],
     "language": "python",
     "metadata": {},
     "outputs": []
    },
    {
     "cell_type": "code",
     "collapsed": false,
     "input": [
      "aux3 = pc.DifferentialForm(3, w1.basis)\n",
      "aux3.coeff[-5] = 1\n",
      "aux3"
     ],
     "language": "python",
     "metadata": {},
     "outputs": []
    },
    {
     "cell_type": "code",
     "collapsed": false,
     "input": [
      "tmp2 = tmp^aux3"
     ],
     "language": "python",
     "metadata": {},
     "outputs": []
    },
    {
     "cell_type": "code",
     "collapsed": false,
     "input": [
      "tmp2.coeff.srn"
     ],
     "language": "python",
     "metadata": {},
     "outputs": []
    },
    {
     "cell_type": "code",
     "collapsed": false,
     "input": [
      "tmp3 = w_dot2^dF2^dF1\n",
      "tmp3.coeff[-3].srn"
     ],
     "language": "python",
     "metadata": {},
     "outputs": []
    },
    {
     "cell_type": "code",
     "collapsed": false,
     "input": [
      "w2.coeff.co"
     ],
     "language": "python",
     "metadata": {},
     "outputs": []
    },
    {
     "cell_type": "code",
     "collapsed": false,
     "input": [
      "sp.binomial(4,2)"
     ],
     "language": "python",
     "metadata": {},
     "outputs": []
    },
    {
     "cell_type": "code",
     "collapsed": false,
     "input": [],
     "language": "python",
     "metadata": {},
     "outputs": []
    }
   ],
   "metadata": {}
  }
 ]
}