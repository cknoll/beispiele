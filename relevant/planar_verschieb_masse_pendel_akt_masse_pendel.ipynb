{
 "metadata": {
  "name": "",
  "signature": "sha256:8b526f60d4a04822e71545c310a1f8e858b713543a3e11d4074b91088289e5aa"
 },
 "nbformat": 3,
 "nbformat_minor": 0,
 "worksheets": [
  {
   "cells": [
    {
     "cell_type": "code",
     "collapsed": false,
     "input": [
      "import time\n",
      "print time.ctime()\n",
      "%load_ext displaytools"
     ],
     "language": "python",
     "metadata": {},
     "outputs": [
      {
       "output_type": "stream",
       "stream": "stdout",
       "text": [
        "Mon Jan 18 20:30:28 2016\n"
       ]
      }
     ],
     "prompt_number": 1
    },
    {
     "cell_type": "markdown",
     "metadata": {},
     "source": [
      "**Betrachtetes System**: Ebener Mechanismus aus vier K\u00f6rpern, drei translatorischen aktuierten FG und zwei rotatorischen passiven FG: <br>\n",
      "\n",
      "<img src=\"files/images/planar_verschieb_pendel_akt_masse_pendel.png\">\n",
      "\n",
      "**Betrachtete Fragen**:\n",
      "* Herleitung der Modellgleichungen\n",
      "* LBINF\n",
      "* Untersuchung der \"Ruled-Manifold-Bedingung\" auf Basis der LBINF\n",
      "\n",
      "$$\n",
      "%<custom_config>\n",
      "\\newcommand{\\col}{\\mathrm{col}}\n",
      "\\newcommand{\\bs}{\\boldsymbol}\n",
      "%</custom_config>\n",
      "$$\n",
      "\n",
      "\n",
      "d--#Tags: #Konfigurationsflachheit #ruled-manifold #unteraktuiert"
     ]
    },
    {
     "cell_type": "code",
     "collapsed": false,
     "input": [
      "import sympy as sp\n",
      "from sympy import sin, cos, pi, Matrix\n",
      "from sympy.interactive import printing\n",
      "import model_tools as mt\n",
      "from model_tools import Rz\n",
      "import symb_tools as st\n",
      "import scipy as sc\n",
      "import scipy.optimize"
     ],
     "language": "python",
     "metadata": {},
     "outputs": [],
     "prompt_number": 2
    },
    {
     "cell_type": "code",
     "collapsed": false,
     "input": [
      "t = sp.Symbol('t')\n",
      "np = 2\n",
      "nq = 3\n",
      "n = np + nq\n",
      "pp = st.symb_vector(\"p1:{0}\".format(np+1))\n",
      "qq = st.symb_vector(\"q1:{0}\".format(nq+1))\n",
      "ww = st.symb_vector(\"w1:{0}\".format(np+1))\n",
      "\n",
      "\n",
      "theta = st.row_stack(pp, qq) ##\n",
      "\n",
      "ppd = uu = st.perform_time_derivative(pp, pp)\n",
      "qqd = vv = st.perform_time_derivative(qq, qq)\n",
      "\n",
      "mu = st.perform_time_derivative(theta, theta) ##\n",
      "mud = st.perform_time_derivative(theta, theta, order=2) ##\n",
      "st.make_global(theta, 1)\n",
      "st.make_global(mu, 1)"
     ],
     "language": "python",
     "metadata": {},
     "outputs": [
      {
       "metadata": {},
       "output_type": "display_data",
       "text": [
        "Matrix([\n",
        "[p1],\n",
        "[p2],\n",
        "[q1],\n",
        "[q2],\n",
        "[q3]])"
       ]
      },
      {
       "output_type": "stream",
       "stream": "stdout",
       "text": [
        "---\n"
       ]
      },
      {
       "metadata": {},
       "output_type": "display_data",
       "text": [
        "Matrix([\n",
        "[pdot1],\n",
        "[pdot2],\n",
        "[qdot1],\n",
        "[qdot2],\n",
        "[qdot3]])"
       ]
      },
      {
       "output_type": "stream",
       "stream": "stdout",
       "text": [
        "---\n"
       ]
      },
      {
       "metadata": {},
       "output_type": "display_data",
       "text": [
        "Matrix([\n",
        "[pddot1],\n",
        "[pddot2],\n",
        "[qddot1],\n",
        "[qddot2],\n",
        "[qddot3]])"
       ]
      },
      {
       "output_type": "stream",
       "stream": "stdout",
       "text": [
        "---\n"
       ]
      }
     ],
     "prompt_number": 3
    },
    {
     "cell_type": "code",
     "collapsed": false,
     "input": [
      "params = sp.symbols('s3, s4, m1, m2, m3, m4, g')\n",
      "st.make_global(params, 1)\n",
      "\n",
      "ttau = st.symb_vector(\"tau1:{0}\".format(nq+1))\n",
      "st.make_global(ttau, 1)\n"
     ],
     "language": "python",
     "metadata": {},
     "outputs": [],
     "prompt_number": 4
    },
    {
     "cell_type": "markdown",
     "metadata": {},
     "source": [
      "### Festlegung der Geometrie des mechanischen Systemes"
     ]
    },
    {
     "cell_type": "code",
     "collapsed": false,
     "input": [
      "#Einheitsvektoren\n",
      "ex = sp.Matrix([1,0])\n",
      "ey = sp.Matrix([0,1])\n",
      "\n",
      "# Koordinaten der Schwerpunkte und Gelenke\n",
      "S1 = ex*q1 + ey*q2\n",
      "S2 = S1 + ex*q3\n",
      "\n",
      "# Gelenke\n",
      "G3 = S1\n",
      "G4 = S2\n",
      "S3 = G3 + Rz(p1)*ey*s3*(-1)\n",
      "S4 = G4 + Rz(p2)*ey*s4*(-1)\n",
      "\n",
      "# Zeitableitungen der Schwerpunktskoordinaten\n",
      "Sd1, Sd2, Sd3, Sd4 = st.col_split(st.perform_time_derivative(st.col_stack(S1, S2, S3, S4), theta)) ##"
     ],
     "language": "python",
     "metadata": {},
     "outputs": [
      {
       "metadata": {},
       "output_type": "display_data",
       "text": [
        "Matrix([\n",
        "[qdot1],\n",
        "[qdot2]])"
       ]
      },
      {
       "metadata": {},
       "output_type": "display_data",
       "text": [
        "Matrix([\n",
        "[qdot1 + qdot3],\n",
        "[        qdot2]])"
       ]
      },
      {
       "metadata": {},
       "output_type": "display_data",
       "text": [
        "Matrix([\n",
        "[pdot1*s3*cos(p1) + qdot1],\n",
        "[pdot1*s3*sin(p1) + qdot2]])"
       ]
      },
      {
       "metadata": {},
       "output_type": "display_data",
       "text": [
        "Matrix([\n",
        "[pdot2*s4*cos(p2) + qdot1 + qdot3],\n",
        "[        pdot2*s4*sin(p2) + qdot2]])"
       ]
      },
      {
       "output_type": "stream",
       "stream": "stdout",
       "text": [
        "---\n"
       ]
      }
     ],
     "prompt_number": 5
    },
    {
     "cell_type": "code",
     "collapsed": false,
     "input": [
      "# Energie\n",
      "T_rot = 0\n",
      "T_trans = ( m1*Sd1.T*Sd1 + m2*Sd2.T*Sd2 + m3*Sd3.T*Sd3 + m4*Sd4.T*Sd4 )/2\n",
      "\n",
      "T = T_rot + T_trans[0] ##\n",
      "\n",
      "V = m1*g*S1[1] + m2*g*S2[1] + m3*g*S3[1] + m4*g*S4[1]"
     ],
     "language": "python",
     "metadata": {},
     "outputs": [
      {
       "metadata": {},
       "output_type": "display_data",
       "text": [
        "m1*qdot1**2/2 + m1*qdot2**2/2 + m2*qdot2**2/2 + m2*(qdot1 + qdot3)**2/2 + m3*(pdot1*s3*sin(p1) + qdot2)**2/2 + m3*(pdot1*s3*cos(p1) + qdot1)**2/2 + m4*(pdot2*s4*sin(p2) + qdot2)**2/2 + m4*(pdot2*s4*cos(p2) + qdot1 + qdot3)**2/2"
       ]
      },
      {
       "output_type": "stream",
       "stream": "stdout",
       "text": [
        "---\n"
       ]
      }
     ],
     "prompt_number": 6
    },
    {
     "cell_type": "code",
     "collapsed": false,
     "input": [
      "external_forces = [0, 0, tau1, tau2, tau3]\n",
      "assert not any(external_forces[:np])\n",
      "mod = mt.generate_symbolic_model(T, V, theta, external_forces)"
     ],
     "language": "python",
     "metadata": {},
     "outputs": [],
     "prompt_number": 7
    },
    {
     "cell_type": "code",
     "collapsed": false,
     "input": [
      "MM = mod.MM\n",
      "MM.simplify()\n",
      "MM"
     ],
     "language": "python",
     "metadata": {},
     "outputs": [
      {
       "metadata": {},
       "output_type": "pyout",
       "prompt_number": 8,
       "text": [
        "Matrix([\n",
        "[     m3*s3**2,             0,     m3*s3*cos(p1),     m3*s3*sin(p1),             0],\n",
        "[            0,      m4*s4**2,     m4*s4*cos(p2),     m4*s4*sin(p2), m4*s4*cos(p2)],\n",
        "[m3*s3*cos(p1), m4*s4*cos(p2), m1 + m2 + m3 + m4,                 0,       m2 + m4],\n",
        "[m3*s3*sin(p1), m4*s4*sin(p2),                 0, m1 + m2 + m3 + m4,             0],\n",
        "[            0, m4*s4*cos(p2),           m2 + m4,                 0,       m2 + m4]])"
       ]
      }
     ],
     "prompt_number": 8
    },
    {
     "cell_type": "markdown",
     "metadata": {},
     "source": [
      "### LBI-Normalform  berechnen"
     ]
    },
    {
     "cell_type": "code",
     "collapsed": false,
     "input": [
      "mod.calc_lbi_nf_state_eq()"
     ],
     "language": "python",
     "metadata": {},
     "outputs": [],
     "prompt_number": 9
    },
    {
     "cell_type": "code",
     "collapsed": false,
     "input": [
      "fz4 = mod.fz[-np:,:]"
     ],
     "language": "python",
     "metadata": {},
     "outputs": [],
     "prompt_number": 10
    },
    {
     "cell_type": "code",
     "collapsed": false,
     "input": [
      "fz4.simplify()"
     ],
     "language": "python",
     "metadata": {},
     "outputs": [],
     "prompt_number": 11
    },
    {
     "cell_type": "code",
     "collapsed": false,
     "input": [
      "H1 = sp.hessian(fz4[0], vv) ##:\n",
      "H2 = sp.hessian(fz4[1], vv) ##:"
     ],
     "language": "python",
     "metadata": {},
     "outputs": [
      {
       "metadata": {},
       "output_type": "display_data",
       "text": [
        "H1 := Matrix([\n",
        "[        2*sin(p1)*cos(p1)/s3**2, (sin(p1)**2 - cos(p1)**2)/s3**2, 0],\n",
        "[(sin(p1)**2 - cos(p1)**2)/s3**2,        -2*sin(p1)*cos(p1)/s3**2, 0],\n",
        "[                              0,                               0, 0]])"
       ]
      },
      {
       "output_type": "stream",
       "stream": "stdout",
       "text": [
        "---\n"
       ]
      },
      {
       "metadata": {},
       "output_type": "display_data",
       "text": [
        "H2 := Matrix([\n",
        "[        2*sin(p2)*cos(p2)/s4**2, (sin(p2)**2 - cos(p2)**2)/s4**2,         2*sin(p2)*cos(p2)/s4**2],\n",
        "[(sin(p2)**2 - cos(p2)**2)/s4**2,        -2*sin(p2)*cos(p2)/s4**2, (sin(p2)**2 - cos(p2)**2)/s4**2],\n",
        "[        2*sin(p2)*cos(p2)/s4**2, (sin(p2)**2 - cos(p2)**2)/s4**2,         2*sin(p2)*cos(p2)/s4**2]])"
       ]
      },
      {
       "output_type": "stream",
       "stream": "stdout",
       "text": [
        "---\n"
       ]
      }
     ],
     "prompt_number": 12
    },
    {
     "cell_type": "code",
     "collapsed": false,
     "input": [
      "print H1.eigenvals()\n",
      "print H2.eigenvals()"
     ],
     "language": "python",
     "metadata": {},
     "outputs": [
      {
       "output_type": "stream",
       "stream": "stdout",
       "text": [
        "{s3**(-2): 1, 0: 1, -1/s3**2: 1}\n",
        "{0: 1, (sqrt(sin(2*p2)**2 + 8)/2 + sin(2*p2)/2)/s4**2: 1, (-sqrt(sin(2*p2)**2 + 8)/2 + sin(2*p2)/2)/s4**2: 1}"
       ]
      },
      {
       "output_type": "stream",
       "stream": "stdout",
       "text": [
        "\n"
       ]
      }
     ],
     "prompt_number": 13
    },
    {
     "cell_type": "markdown",
     "metadata": {},
     "source": [
      "**Fazit**: Beide Matrizen sind indefinit"
     ]
    },
    {
     "cell_type": "code",
     "collapsed": false,
     "input": [
      "# Vereinfachungen der Ausdr\u00fccke vornehmen\n",
      "h1 = H1*s3**2\n",
      "h2 = H2*s4**2\n",
      "\n",
      "# Zufallswerte erzeugen\n",
      "rnst = st.rnd_number_subs_tuples(h1+h2, seed=14.54) ##"
     ],
     "language": "python",
     "metadata": {},
     "outputs": [
      {
       "metadata": {},
       "output_type": "display_data",
       "text": [
        "[(p1,\n",
        "  0.5248390906111900511277212899585720151662826538085937500000000000000000000000000000000000000000000000),\n",
        " (p2,\n",
        "  0.07673743928934440017286533475271426141262054443359375000000000000000000000000000000000000000000000000)]"
       ]
      },
      {
       "output_type": "stream",
       "stream": "stdout",
       "text": [
        "---\n"
       ]
      }
     ],
     "prompt_number": 14
    },
    {
     "cell_type": "markdown",
     "metadata": {},
     "source": [
      "### Numerische L\u00f6sungsbestimmung"
     ]
    },
    {
     "cell_type": "markdown",
     "metadata": {},
     "source": [
      "\u00dcberpr\u00fcfung, ob beide Gleichungen eine gemeinsame L\u00f6sung haben. Dazu wird ein Minimierungsproblem konstruiert.\n",
      "Dessen globale Minimalstellen stimmen mit der gesuchten L\u00f6sung \u00fcberein, wenn der Funktionswert am Minimum $0$ betr\u00e4gt."
     ]
    },
    {
     "cell_type": "code",
     "collapsed": false,
     "input": [
      "func_expr1 = ( (vv.T*h1.subs(rnst)*vv)**2 + (vv.T*h2.subs(rnst)*vv)**2 )[0]"
     ],
     "language": "python",
     "metadata": {},
     "outputs": [],
     "prompt_number": 15
    },
    {
     "cell_type": "markdown",
     "metadata": {},
     "source": [
      "Hinzuf\u00fcgen eines \"Strafterms\" $e^{-\\dot q_1^2 -\\dot q_2^2 -\\dot q_3^2 }$ um triviale L\u00f6sung $(\\dot q_1, \\dot q_2, \\dot q_3) = \\bs 0$ auszuschlie\u00dfen"
     ]
    },
    {
     "cell_type": "code",
     "collapsed": false,
     "input": [
      "func_expr2 = func_expr1 + (sp.exp(- (vv.T*vv)[0]) ) "
     ],
     "language": "python",
     "metadata": {},
     "outputs": [],
     "prompt_number": 16
    },
    {
     "cell_type": "code",
     "collapsed": false,
     "input": [
      "# Ausdruck in ausf\u00fchrbare Funktion umwandeln\n",
      "func_intern = st.expr_to_func(vv, func_expr2)\n",
      "\n",
      "# Hilfsfunktion mit angepasster Signatur \n",
      "def func(vv):\n",
      "    # entpacken des Arguments\n",
      "    return func_intern(*vv)"
     ],
     "language": "python",
     "metadata": {},
     "outputs": [],
     "prompt_number": 17
    },
    {
     "cell_type": "code",
     "collapsed": false,
     "input": [
      "# Durchf\u00fchrung der Optimierung\n",
      "sol = sc.optimize.fmin(func, [0, 0, 0], xtol=1e-12, maxfun=1e5) ##"
     ],
     "language": "python",
     "metadata": {},
     "outputs": [
      {
       "output_type": "stream",
       "stream": "stdout",
       "text": [
        "Optimization terminated successfully.\n",
        "         Current function value: 0.000000\n",
        "         Iterations: 507\n",
        "         Function evaluations: 985\n"
       ]
      },
      {
       "metadata": {},
       "output_type": "display_data",
       "text": [
        "array([ 1.22704296,  0.71046427,  8.01315543])"
       ]
      },
      {
       "output_type": "stream",
       "stream": "stdout",
       "text": [
        "---\n"
       ]
      }
     ],
     "prompt_number": 18
    },
    {
     "cell_type": "code",
     "collapsed": false,
     "input": [
      "# Kontrolle der Zielfunktion (ohne Strafterm)\n",
      "float(func_expr1.subz(vv, sol))"
     ],
     "language": "python",
     "metadata": {},
     "outputs": [
      {
       "metadata": {},
       "output_type": "pyout",
       "prompt_number": 19,
       "text": [
        "5.6545018644451495e-30"
       ]
      }
     ],
     "prompt_number": 19
    },
    {
     "cell_type": "markdown",
     "metadata": {},
     "source": [
      "### Fazit\n",
      "Der Minimierungsalgorithmus findet eine Nullstelle der Zielfunktion $\\bs b \\mapsto ({\\bs b}^T \\bs h_1  {\\bs  b})^2 + ({\\bs b}^T \\bs h_2  {\\bs  b})^2$.\n",
      "Es existiert eine gemeinsame nichttriviale L\u00f6sung der beiden Gleichungen, d.h. das System erf\u00fcllt die Ruled-Manifold-Bedingung. Die vermutete Nichtflachheit, kann auf diesem Weg nicht gezeigt werden."
     ]
    }
   ],
   "metadata": {}
  }
 ]
}