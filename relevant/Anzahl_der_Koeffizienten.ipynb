{
 "metadata": {
  "name": "",
  "signature": "sha256:09ba2fd9a8cd3b08a14832db19ffb1acaefca0dac9e5920923e72c16fdb1d32d"
 },
 "nbformat": 3,
 "nbformat_minor": 0,
 "worksheets": [
  {
   "cells": [
    {
     "cell_type": "code",
     "collapsed": false,
     "input": [
      "import time\n",
      "print time.ctime()\n",
      "%load_ext displaytools"
     ],
     "language": "python",
     "metadata": {},
     "outputs": [
      {
       "output_type": "stream",
       "stream": "stdout",
       "text": [
        "Mon Dec  7 17:39:25 2015\n"
       ]
      }
     ],
     "prompt_number": 1
    },
    {
     "cell_type": "code",
     "collapsed": false,
     "input": [
      "import sympy as sp"
     ],
     "language": "python",
     "metadata": {},
     "outputs": [],
     "prompt_number": 2
    },
    {
     "cell_type": "code",
     "collapsed": false,
     "input": [
      "def r(k):\n",
      "    return 2 + nq*max(0, k + 1 - kOmega0) + np*max(0, k - 1)\n",
      "\n",
      "def s(k):\n",
      "    return n*(max(ord_d_omega_i, k ) + 1)"
     ],
     "language": "python",
     "metadata": {},
     "outputs": [],
     "prompt_number": 3
    },
    {
     "cell_type": "code",
     "collapsed": false,
     "input": [
      "np = 2\n",
      "nq = 2\n",
      "kOmega0 = 1\n",
      "ord_d_omega_i = 2\n",
      "n = np + nq\n",
      "\n",
      "kmax = 4\n",
      "table = sp.zeros(4, kmax+1)\n",
      "\n",
      "for k in range(kmax+1):\n",
      "    table[:, k] = k, s(k), r(k), sp.binomial(s(k), r(k))\n",
      "\n",
      "table ##"
     ],
     "language": "python",
     "metadata": {},
     "outputs": [
      {
       "metadata": {},
       "output_type": "display_data",
       "text": [
        "Matrix([\n",
        "[ 0,   1,   2,    3,    4],\n",
        "[12,  12,  12,   16,   20],\n",
        "[ 2,   4,   8,   12,   16],\n",
        "[66, 495, 495, 1820, 4845]])"
       ]
      },
      {
       "output_type": "stream",
       "stream": "stdout",
       "text": [
        "___\n"
       ]
      }
     ],
     "prompt_number": 4
    },
    {
     "cell_type": "markdown",
     "metadata": {},
     "source": [
      "### Einradfahrer"
     ]
    },
    {
     "cell_type": "code",
     "collapsed": false,
     "input": [
      "np = 1\n",
      "nq = 2\n",
      "kOmega0 = 0\n",
      "ord_d_omega_i = 1\n",
      "n = np + nq\n",
      "\n",
      "kmax = 4\n",
      "table = sp.zeros(4, kmax+1)\n",
      "\n",
      "for k in range(kmax+1):\n",
      "    table[:, k] = k, s(k), r(k), sp.binomial(s(k), r(k))\n",
      "\n",
      "table ##"
     ],
     "language": "python",
     "metadata": {},
     "outputs": [
      {
       "metadata": {},
       "output_type": "display_data",
       "text": [
        "Matrix([\n",
        "[ 0, 1, 2,  3,  4],\n",
        "[ 6, 6, 9, 12, 15],\n",
        "[ 4, 6, 9, 12, 15],\n",
        "[15, 1, 1,  1,  1]])"
       ]
      },
      {
       "output_type": "stream",
       "stream": "stdout",
       "text": [
        "___\n"
       ]
      }
     ],
     "prompt_number": 5
    },
    {
     "cell_type": "code",
     "collapsed": false,
     "input": [],
     "language": "python",
     "metadata": {},
     "outputs": [],
     "prompt_number": 5
    }
   ],
   "metadata": {}
  }
 ]
}