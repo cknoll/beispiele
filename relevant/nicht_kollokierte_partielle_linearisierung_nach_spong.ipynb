{
 "metadata": {
  "name": "",
  "signature": "sha256:0e1a8f9bea18b7149e274ce0197791561b9b9ab1d4633b9c14a48599b2bf8852"
 },
 "nbformat": 3,
 "nbformat_minor": 0,
 "worksheets": [
  {
   "cells": [
    {
     "cell_type": "code",
     "collapsed": false,
     "input": [
      "import time\n",
      "print time.ctime()\n",
      "%load_ext displaytools"
     ],
     "language": "python",
     "metadata": {},
     "outputs": [
      {
       "output_type": "stream",
       "stream": "stdout",
       "text": [
        "Sun Feb 21 13:08:32 2016\n"
       ]
      }
     ],
     "prompt_number": 2
    },
    {
     "cell_type": "markdown",
     "metadata": {},
     "source": [
      "**Betrachtetes System:** Ebenes translatorisches System mit $n_{\\bs p} = 1$ und $n_{\\bs q}=2$\n",
      "\n",
      "<img src=\"files/images/wagen_feder_wagen_feder_wagen.png\">\n",
      "\n",
      "\n",
      "**Betrachtete Fragen**:\n",
      "* Herleitung der Modellgleichungen\n",
      "* Untersuchung der nichtkollokierten partiellen Linearisierung\n",
      "\n",
      "\n",
      "$$\n",
      "%<custom_config>\n",
      "\\newcommand{\\d}{\\mathrm{d}}\n",
      "\\newcommand{\\col}{\\mathrm{col}}\n",
      "\\newcommand{\\bs}{\\boldsymbol}\n",
      "\\newcommand{\\Ddt}{\\left(\\tfrac{d}{dt}\\right)}\n",
      "\\newcommand{\\ddt}{\\tfrac{d}{dt}}\n",
      "\\newcommand{\\tt}{\\boldsymbol{\\theta}}\n",
      "%</custom_config>\n",
      "$$"
     ]
    },
    {
     "cell_type": "code",
     "collapsed": false,
     "input": [
      "import sympy as sp\n",
      "from sympy import sin, cos, pi, Matrix\n",
      "from sympy.interactive import printing\n",
      "import model_tools as mt\n",
      "from model_tools import Rz\n",
      "import symb_tools as st\n",
      "\n",
      "printing.init_printing()"
     ],
     "language": "python",
     "metadata": {},
     "outputs": [],
     "prompt_number": 3
    },
    {
     "cell_type": "code",
     "collapsed": false,
     "input": [
      "np = 1\n",
      "nq = 2\n",
      "n = np + nq\n",
      "\n",
      "pp = st.symb_vector(\"p1:{0}\".format(np+1))\n",
      "qq = st.symb_vector(\"q1:{0}\".format(nq+1))\n",
      "\n",
      "ttheta = st.row_stack(pp, qq) ##:T\n",
      "tthetad = st.time_deriv(ttheta, ttheta) ##:T\n",
      "tthetadd = st.time_deriv(ttheta, ttheta, order=2) ##:T\n",
      "st.make_global(ttheta)\n",
      "st.make_global(tthetad)\n",
      "st.make_global(tthetadd)"
     ],
     "language": "python",
     "metadata": {},
     "outputs": [
      {
       "latex": [
        "ttheta.T := $$\\left[\\begin{matrix}p_{1} & q_{1} & q_{2}\\end{matrix}\\right]$$"
       ],
       "metadata": {},
       "output_type": "display_data",
       "png": "[encoded data removed]",
       "text": [
        "ttheta.T := [p\u2081  q\u2081  q\u2082]"
       ]
      },
      {
       "output_type": "stream",
       "stream": "stdout",
       "text": [
        "---\n"
       ]
      },
      {
       "latex": [
        "tthetad.T := $$\\left[\\begin{matrix}\\dot{p}_{1} & \\dot{q}_{1} & \\dot{q}_{2}\\end{matrix}\\right]$$"
       ],
       "metadata": {},
       "output_type": "display_data",
       "png": "[encoded data removed]",
       "text": [
        "tthetad.T := [p\u0307\u2081  q\u0307\u2081  q\u0307\u2082]"
       ]
      },
      {
       "output_type": "stream",
       "stream": "stdout",
       "text": [
        "---\n"
       ]
      },
      {
       "latex": [
        "tthetadd.T := $$\\left[\\begin{matrix}\\ddot{p}_{1} & \\ddot{q}_{1} & \\ddot{q}_{2}\\end{matrix}\\right]$$"
       ],
       "metadata": {},
       "output_type": "display_data",
       "png": "[encoded data removed]",
       "text": [
        "tthetadd.T := [p\u0308\u2081  q\u0308\u2081  q\u0308\u2082]"
       ]
      },
      {
       "output_type": "stream",
       "stream": "stdout",
       "text": [
        "---\n"
       ]
      }
     ],
     "prompt_number": 31
    },
    {
     "cell_type": "markdown",
     "metadata": {},
     "source": [
      "### Aufstellen der Bewegungsgleichungen in $\\tt$-Koordinaten"
     ]
    },
    {
     "cell_type": "code",
     "collapsed": false,
     "input": [
      "# Systemparameter\n",
      "params = sp.symbols('m1, m2, m3, c1, c2')\n",
      "st.make_global(params)\n",
      "\n",
      "# Symbole f\u00fcr die Stellkr\u00e4fte\n",
      "tau1, tau2 = ttau = st.symb_vector(\"tau1, tau2\")"
     ],
     "language": "python",
     "metadata": {},
     "outputs": [],
     "prompt_number": 5
    },
    {
     "cell_type": "code",
     "collapsed": false,
     "input": [
      "#Einheitsvektoren\n",
      "ex = sp.Matrix([1,0])\n",
      "ey = sp.Matrix([0,1])\n",
      "\n",
      "# Koordinaten der Schwerpunkte\n",
      "S1 = ex*q1\n",
      "S2 = ex*(q1 + p1)\n",
      "S3 = ex*(q2)\n",
      "\n",
      "# Zeitableitungen der Schwerpunktskoordinaten\n",
      "Sd1, Sd2, Sd3 = st.col_split( st.time_deriv(st.col_stack(S1, S2, S3), ttheta) ) ##"
     ],
     "language": "python",
     "metadata": {},
     "outputs": [
      {
       "latex": [
        "$$\\left[\\begin{matrix}\\dot{q}_{1}\\\\0\\end{matrix}\\right]$$"
       ],
       "metadata": {},
       "output_type": "display_data",
       "png": "[encoded data removed]",
       "text": [
        "\u23a1q\u0307\u2081\u23a4\n",
        "\u23a2   \u23a5\n",
        "\u23a3 0 \u23a6"
       ]
      },
      {
       "latex": [
        "$$\\left[\\begin{matrix}\\dot{p}_{1} + \\dot{q}_{1}\\\\0\\end{matrix}\\right]$$"
       ],
       "metadata": {},
       "output_type": "display_data",
       "png": "[encoded data removed]",
       "text": [
        "\u23a1p\u0307\u2081 + q\u0307\u2081\u23a4\n",
        "\u23a2         \u23a5\n",
        "\u23a3    0    \u23a6"
       ]
      },
      {
       "latex": [
        "$$\\left[\\begin{matrix}\\dot{q}_{2}\\\\0\\end{matrix}\\right]$$"
       ],
       "metadata": {},
       "output_type": "display_data",
       "png": "[encoded data removed]",
       "text": [
        "\u23a1q\u0307\u2082\u23a4\n",
        "\u23a2   \u23a5\n",
        "\u23a3 0 \u23a6"
       ]
      },
      {
       "output_type": "stream",
       "stream": "stdout",
       "text": [
        "---\n"
       ]
      }
     ],
     "prompt_number": 6
    },
    {
     "cell_type": "code",
     "collapsed": false,
     "input": [
      "# kinetische Energie\n",
      "T_rot = 0\n",
      "T_trans = ( m1*Sd1.T*Sd1 + m2*Sd2.T*Sd2 + m3*Sd3.T*Sd3 )/2\n",
      "\n",
      "T = T_rot + T_trans[0] ##\n",
      "\n",
      "V = (p1**2*c1 + (q1 + p1 - q2)**2*c2 )/2 ##"
     ],
     "language": "python",
     "metadata": {},
     "outputs": [
      {
       "latex": [
        "$$\\frac{m_{1} \\dot{q}_{1}^{2}}{2} + \\frac{m_{2}}{2} \\left(\\dot{p}_{1} + \\dot{q}_{1}\\right)^{2} + \\frac{m_{3} \\dot{q}_{2}^{2}}{2}$$"
       ],
       "metadata": {},
       "output_type": "display_data",
       "png": "[encoded data removed]",
       "text": [
        "      2                 2         2\n",
        "m\u2081\u22c5q\u0307\u2081    m\u2082\u22c5(p\u0307\u2081 + q\u0307\u2081)    m\u2083\u22c5q\u0307\u2082 \n",
        "\u2500\u2500\u2500\u2500\u2500\u2500\u2500 + \u2500\u2500\u2500\u2500\u2500\u2500\u2500\u2500\u2500\u2500\u2500\u2500\u2500\u2500\u2500 + \u2500\u2500\u2500\u2500\u2500\u2500\u2500\n",
        "   2             2             2   "
       ]
      },
      {
       "output_type": "stream",
       "stream": "stdout",
       "text": [
        "---\n"
       ]
      },
      {
       "latex": [
        "$$\\frac{c_{1} p_{1}^{2}}{2} + \\frac{c_{2}}{2} \\left(p_{1} + q_{1} - q_{2}\\right)^{2}$$"
       ],
       "metadata": {},
       "output_type": "display_data",
       "png": "[encoded data removed]",
       "text": [
        "     2                    2\n",
        "c\u2081\u22c5p\u2081    c\u2082\u22c5(p\u2081 + q\u2081 - q\u2082) \n",
        "\u2500\u2500\u2500\u2500\u2500\u2500 + \u2500\u2500\u2500\u2500\u2500\u2500\u2500\u2500\u2500\u2500\u2500\u2500\u2500\u2500\u2500\u2500\u2500\u2500\n",
        "  2              2         "
       ]
      },
      {
       "output_type": "stream",
       "stream": "stdout",
       "text": [
        "---\n"
       ]
      }
     ],
     "prompt_number": 7
    },
    {
     "cell_type": "code",
     "collapsed": false,
     "input": [
      "mod = mt.generate_symbolic_model(T, V, ttheta, [0, tau1, tau2])"
     ],
     "language": "python",
     "metadata": {},
     "outputs": [],
     "prompt_number": 8
    },
    {
     "cell_type": "code",
     "collapsed": false,
     "input": [
      "mod.eqns.simplify()\n",
      "mod.eqns"
     ],
     "language": "python",
     "metadata": {},
     "outputs": [
      {
       "latex": [
        "$$\\left[\\begin{matrix}c_{1} p_{1} + c_{2} \\left(p_{1} + q_{1} - q_{2}\\right) + m_{2} \\left(\\ddot{p}_{1} + \\ddot{q}_{1}\\right)\\\\c_{2} \\left(p_{1} + q_{1} - q_{2}\\right) + m_{1} \\ddot{q}_{1} + m_{2} \\left(\\ddot{p}_{1} + \\ddot{q}_{1}\\right) - \\tau_{1}\\\\- c_{2} \\left(p_{1} + q_{1} - q_{2}\\right) + m_{3} \\ddot{q}_{2} - \\tau_{2}\\end{matrix}\\right]$$"
       ],
       "metadata": {},
       "output_type": "pyout",
       "png": "[encoded data removed]",
       "prompt_number": 9,
       "text": [
        "\u23a1   c\u2081\u22c5p\u2081 + c\u2082\u22c5(p\u2081 + q\u2081 - q\u2082) + m\u2082\u22c5(p\u0308\u2081 + q\u0308\u2081)   \u23a4\n",
        "\u23a2                                                \u23a5\n",
        "\u23a2c\u2082\u22c5(p\u2081 + q\u2081 - q\u2082) + m\u2081\u22c5q\u0308\u2081 + m\u2082\u22c5(p\u0308\u2081 + q\u0308\u2081) - \u03c4\u2081\u23a5\n",
        "\u23a2                                                \u23a5\n",
        "\u23a3        -c\u2082\u22c5(p\u2081 + q\u2081 - q\u2082) + m\u2083\u22c5q\u0308\u2082 - \u03c4\u2082        \u23a6"
       ]
      }
     ],
     "prompt_number": 9
    },
    {
     "cell_type": "code",
     "collapsed": false,
     "input": [
      "mod.MM ##:\n",
      "M11 = mod.MM[:np, :np] ##:\n",
      "M12 = mod.MM[:np, np:] ##:"
     ],
     "language": "python",
     "metadata": {},
     "outputs": [
      {
       "latex": [
        "mod.MM  := $$\\left[\\begin{matrix}m_{2} & m_{2} & 0\\\\m_{2} & m_{1} + m_{2} & 0\\\\0 & 0 & m_{3}\\end{matrix}\\right]$$"
       ],
       "metadata": {},
       "output_type": "display_data",
       "png": "[encoded data removed]",
       "text": [
        "mod.MM  := \u23a1m\u2082    m\u2082     0 \u23a4\n",
        "\u23a2               \u23a5\n",
        "\u23a2m\u2082  m\u2081 + m\u2082  0 \u23a5\n",
        "\u23a2               \u23a5\n",
        "\u23a30      0     m\u2083\u23a6"
       ]
      },
      {
       "output_type": "stream",
       "stream": "stdout",
       "text": [
        "___\n"
       ]
      },
      {
       "latex": [
        "M11 := $$\\left[\\begin{matrix}m_{2}\\end{matrix}\\right]$$"
       ],
       "metadata": {},
       "output_type": "display_data",
       "png": "[encoded data removed]",
       "text": [
        "M11 := [m\u2082]"
       ]
      },
      {
       "output_type": "stream",
       "stream": "stdout",
       "text": [
        "---\n"
       ]
      },
      {
       "latex": [
        "M12 := $$\\left[\\begin{matrix}m_{2} & 0\\end{matrix}\\right]$$"
       ],
       "metadata": {},
       "output_type": "display_data",
       "png": "[encoded data removed]",
       "text": [
        "M12 := [m\u2082  0]"
       ]
      },
      {
       "output_type": "stream",
       "stream": "stdout",
       "text": [
        "---\n"
       ]
      }
     ],
     "prompt_number": 10
    },
    {
     "cell_type": "markdown",
     "metadata": {},
     "source": [
      "Man kann direkt $\\mathrm{rank} \\bs M_{12} = 1 = n_{\\bs p} \\quad \\forall \\tt \\in \\mathcal{Q}$ ablesen."
     ]
    },
    {
     "cell_type": "code",
     "collapsed": false,
     "input": [
      "# Es treten keine Coriolis-Terme auf\n",
      "mod.eqns.jacobian(tthetad) ##"
     ],
     "language": "python",
     "metadata": {},
     "outputs": [
      {
       "latex": [
        "$$\\left[\\begin{matrix}0 & 0 & 0\\\\0 & 0 & 0\\\\0 & 0 & 0\\end{matrix}\\right]$$"
       ],
       "metadata": {},
       "output_type": "display_data",
       "png": "[encoded data removed]",
       "text": [
        "\u23a10  0  0\u23a4\n",
        "\u23a2       \u23a5\n",
        "\u23a20  0  0\u23a5\n",
        "\u23a2       \u23a5\n",
        "\u23a30  0  0\u23a6"
       ]
      },
      {
       "output_type": "stream",
       "stream": "stdout",
       "text": [
        "___\n"
       ]
      }
     ],
     "prompt_number": 24
    },
    {
     "cell_type": "code",
     "collapsed": false,
     "input": [
      "# Potentialkr\u00e4fte (durch Nullsetzen der anderen Terme)\n",
      "K1 = mod.eqns.subz0(tthetadd, ttau)[:np, :] ##:"
     ],
     "language": "python",
     "metadata": {},
     "outputs": [
      {
       "latex": [
        "K1 := $$\\left[\\begin{matrix}c_{1} p_{1} + c_{2} \\left(p_{1} + q_{1} - q_{2}\\right)\\end{matrix}\\right]$$"
       ],
       "metadata": {},
       "output_type": "display_data",
       "png": "[encoded data removed]",
       "text": [
        "K1 := [c\u2081\u22c5p\u2081 + c\u2082\u22c5(p\u2081 + q\u2081 - q\u2082)]"
       ]
      },
      {
       "output_type": "stream",
       "stream": "stdout",
       "text": [
        "---\n"
       ]
      }
     ],
     "prompt_number": 28
    },
    {
     "cell_type": "code",
     "collapsed": false,
     "input": [
      "import diss_aux as da"
     ],
     "language": "python",
     "metadata": {},
     "outputs": [],
     "prompt_number": 11
    },
    {
     "cell_type": "markdown",
     "metadata": {},
     "source": [
      "### Kollokierte Feedbacklinearisierung"
     ]
    },
    {
     "cell_type": "code",
     "collapsed": false,
     "input": [
      "mod.calc_coll_part_lin_state_eq()\n",
      "mod.ff ##:\n",
      "mod.gg ##:"
     ],
     "language": "python",
     "metadata": {},
     "outputs": [
      {
       "latex": [
        "mod.ff  := $$\\left[\\begin{matrix}\\dot{p}_{1}\\\\\\dot{q}_{1}\\\\\\dot{q}_{2}\\\\- \\frac{1}{m_{2}} \\left(c_{1} p_{1} + c_{2} \\left(p_{1} + q_{1} - q_{2}\\right)\\right)\\\\0\\\\0\\end{matrix}\\right]$$"
       ],
       "metadata": {},
       "output_type": "display_data",
       "png": "[encoded data removed]",
       "text": [
        "mod.ff  := \u23a1             p\u0307\u2081             \u23a4\n",
        "\u23a2                             \u23a5\n",
        "\u23a2             q\u0307\u2081             \u23a5\n",
        "\u23a2                             \u23a5\n",
        "\u23a2             q\u0307\u2082             \u23a5\n",
        "\u23a2                             \u23a5\n",
        "\u23a2-(c\u2081\u22c5p\u2081 + c\u2082\u22c5(p\u2081 + q\u2081 - q\u2082)) \u23a5\n",
        "\u23a2\u2500\u2500\u2500\u2500\u2500\u2500\u2500\u2500\u2500\u2500\u2500\u2500\u2500\u2500\u2500\u2500\u2500\u2500\u2500\u2500\u2500\u2500\u2500\u2500\u2500\u2500\u2500\u2500\u2500\u23a5\n",
        "\u23a2              m\u2082             \u23a5\n",
        "\u23a2                             \u23a5\n",
        "\u23a2              0              \u23a5\n",
        "\u23a2                             \u23a5\n",
        "\u23a3              0              \u23a6"
       ]
      },
      {
       "output_type": "stream",
       "stream": "stdout",
       "text": [
        "___\n"
       ]
      },
      {
       "latex": [
        "mod.gg  := $$\\left[\\begin{matrix}0 & 0\\\\0 & 0\\\\0 & 0\\\\-1 & 0\\\\1 & 0\\\\0 & 1\\end{matrix}\\right]$$"
       ],
       "metadata": {},
       "output_type": "display_data",
       "png": "[encoded data removed]",
       "text": [
        "mod.gg  := \u23a10   0\u23a4\n",
        "\u23a2     \u23a5\n",
        "\u23a20   0\u23a5\n",
        "\u23a2     \u23a5\n",
        "\u23a20   0\u23a5\n",
        "\u23a2     \u23a5\n",
        "\u23a2-1  0\u23a5\n",
        "\u23a2     \u23a5\n",
        "\u23a21   0\u23a5\n",
        "\u23a2     \u23a5\n",
        "\u23a30   1\u23a6"
       ]
      },
      {
       "output_type": "stream",
       "stream": "stdout",
       "text": [
        "___\n"
       ]
      }
     ],
     "prompt_number": 14
    },
    {
     "cell_type": "markdown",
     "metadata": {},
     "source": [
      "### Nichtkollokierte Feedbacklinearisierung"
     ]
    },
    {
     "cell_type": "code",
     "collapsed": false,
     "input": [
      "# Moore-Penrose-Rechtspseudoinverse bestimmen \n",
      "M12pinv_mp = st.lpinv(M12.T).T ##:\n",
      "\n",
      "# Probe\n",
      "M12*M12pinv_mp ##:"
     ],
     "language": "python",
     "metadata": {},
     "outputs": [
      {
       "latex": [
        "M12pinv_mp := $$\\left[\\begin{matrix}\\frac{1}{m_{2}}\\\\0\\end{matrix}\\right]$$"
       ],
       "metadata": {},
       "output_type": "display_data",
       "png": "[encoded data removed]",
       "text": [
        "M12pinv_mp := \u23a11 \u23a4\n",
        "\u23a2\u2500\u2500\u23a5\n",
        "\u23a2m\u2082\u23a5\n",
        "\u23a2  \u23a5\n",
        "\u23a30 \u23a6"
       ]
      },
      {
       "output_type": "stream",
       "stream": "stdout",
       "text": [
        "---\n"
       ]
      },
      {
       "latex": [
        "M12*M12pinv_mp  := $$\\left[\\begin{matrix}1\\end{matrix}\\right]$$"
       ],
       "metadata": {},
       "output_type": "display_data",
       "png": "[encoded data removed]",
       "text": [
        "M12*M12pinv_mp  := [1]"
       ]
      },
      {
       "output_type": "stream",
       "stream": "stdout",
       "text": [
        "___\n"
       ]
      }
     ],
     "prompt_number": 34
    },
    {
     "cell_type": "markdown",
     "metadata": {},
     "source": [
      "R\u00fcckf\u00fchrung nach Spong (mit $\\bs C_1 = \\bs 0$):\n",
      "$$\n",
      "\\bs a = \\ddot {\\bs q} =\n",
      "-\\bs M_{12}^+\\big(\\bs K_1 + \\bs M_{11} \\cdot \\hspace{-3mm} \\underbrace{\\ddot {\\bs p} }_{=\\ddot {\\bs y} = \\bs a_{\\bs y}} \\big)\n",
      "\\tag{1}\n",
      "$$\n"
     ]
    },
    {
     "cell_type": "code",
     "collapsed": false,
     "input": [
      "a_feedback = -M12pinv_mp*(K1 + M11 * pddot1) ##:"
     ],
     "language": "python",
     "metadata": {},
     "outputs": [
      {
       "latex": [
        "a_feedback := $$\\left[\\begin{matrix}- \\frac{1}{m_{2}} \\left(c_{1} p_{1} + c_{2} \\left(p_{1} + q_{1} - q_{2}\\right) + m_{2} \\ddot{p}_{1}\\right)\\\\0\\end{matrix}\\right]$$"
       ],
       "metadata": {},
       "output_type": "display_data",
       "png": "[encoded data removed]",
       "text": [
        "a_feedback := \u23a1-(c\u2081\u22c5p\u2081 + c\u2082\u22c5(p\u2081 + q\u2081 - q\u2082) + m\u2082\u22c5p\u0308\u2081) \u23a4\n",
        "\u23a2\u2500\u2500\u2500\u2500\u2500\u2500\u2500\u2500\u2500\u2500\u2500\u2500\u2500\u2500\u2500\u2500\u2500\u2500\u2500\u2500\u2500\u2500\u2500\u2500\u2500\u2500\u2500\u2500\u2500\u2500\u2500\u2500\u2500\u2500\u2500\u2500\u2500\u2500\u23a5\n",
        "\u23a2                  m\u2082                  \u23a5\n",
        "\u23a2                                      \u23a5\n",
        "\u23a3                  0                   \u23a6"
       ]
      },
      {
       "output_type": "stream",
       "stream": "stdout",
       "text": [
        "---\n"
       ]
      }
     ],
     "prompt_number": 35
    },
    {
     "cell_type": "markdown",
     "metadata": {},
     "source": [
      "Offensichtlich werden durch das R\u00fcckf\u00fchrgesetz $(1)$ die Beschleunigungen der aktuierten Gelenke in Abh\u00e4ngigkeit von $\\ddot { \\bs p}$ ausgedr\u00fcckt. Allerdings erfolgt zus\u00e4tzlich die Vorgabe $a_2 = \\ddot q_2 = 0$, ohne, dass dies in $(1)$ direkt ersichtlich w\u00e4re."
     ]
    },
    {
     "cell_type": "markdown",
     "metadata": {},
     "source": [
      "### Zum Vergleich: andere Wahl einer Rechtspseudoinversen"
     ]
    },
    {
     "cell_type": "code",
     "collapsed": false,
     "input": [
      "a2 = sp.Symbol('a2')\n",
      "M12pinv_tilde = M12pinv_mp + sp.Matrix([0, a2]) ##:"
     ],
     "language": "python",
     "metadata": {},
     "outputs": [
      {
       "latex": [
        "M12pinv_tilde := $$\\left[\\begin{matrix}\\frac{1}{m_{2}}\\\\a_{2}\\end{matrix}\\right]$$"
       ],
       "metadata": {},
       "output_type": "display_data",
       "png": "[encoded data removed]",
       "text": [
        "M12pinv_tilde := \u23a11 \u23a4\n",
        "\u23a2\u2500\u2500\u23a5\n",
        "\u23a2m\u2082\u23a5\n",
        "\u23a2  \u23a5\n",
        "\u23a3a\u2082\u23a6"
       ]
      },
      {
       "output_type": "stream",
       "stream": "stdout",
       "text": [
        "---\n"
       ]
      }
     ],
     "prompt_number": 49
    },
    {
     "cell_type": "code",
     "collapsed": false,
     "input": [
      "# Probe\n",
      "M12*M12pinv_tilde"
     ],
     "language": "python",
     "metadata": {},
     "outputs": [
      {
       "latex": [
        "$$\\left[\\begin{matrix}1\\end{matrix}\\right]$$"
       ],
       "metadata": {},
       "output_type": "pyout",
       "png": "[encoded data removed]",
       "prompt_number": 51,
       "text": [
        "[1]"
       ]
      }
     ],
     "prompt_number": 51
    },
    {
     "cell_type": "code",
     "collapsed": false,
     "input": [
      "a_feedback_tilde = -M12pinv_alt*(K1 + M11 * pddot1) ##:"
     ],
     "language": "python",
     "metadata": {},
     "outputs": [
      {
       "latex": [
        "a_feedback_tilde := $$\\left[\\begin{matrix}- \\frac{1}{m_{2}} \\left(c_{1} p_{1} + c_{2} \\left(p_{1} + q_{1} - q_{2}\\right) + m_{2} \\ddot{p}_{1}\\right)\\\\- a_{2} \\left(c_{1} p_{1} + c_{2} \\left(p_{1} + q_{1} - q_{2}\\right) + m_{2} \\ddot{p}_{1}\\right)\\end{matrix}\\right]$$"
       ],
       "metadata": {},
       "output_type": "display_data",
       "png": "[encoded data removed]",
       "text": [
        "a_feedback_tilde := \u23a1 -(c\u2081\u22c5p\u2081 + c\u2082\u22c5(p\u2081 + q\u2081 - q\u2082) + m\u2082\u22c5p\u0308\u2081)  \u23a4\n",
        "\u23a2 \u2500\u2500\u2500\u2500\u2500\u2500\u2500\u2500\u2500\u2500\u2500\u2500\u2500\u2500\u2500\u2500\u2500\u2500\u2500\u2500\u2500\u2500\u2500\u2500\u2500\u2500\u2500\u2500\u2500\u2500\u2500\u2500\u2500\u2500\u2500\u2500\u2500\u2500 \u23a5\n",
        "\u23a2                   m\u2082                   \u23a5\n",
        "\u23a2                                        \u23a5\n",
        "\u23a3-a\u2082\u22c5(c\u2081\u22c5p\u2081 + c\u2082\u22c5(p\u2081 + q\u2081 - q\u2082) + m\u2082\u22c5p\u0308\u2081)\u23a6"
       ]
      },
      {
       "output_type": "stream",
       "stream": "stdout",
       "text": [
        "---\n"
       ]
      }
     ],
     "prompt_number": 47
    }
   ],
   "metadata": {}
  }
 ]
}