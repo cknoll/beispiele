{
 "metadata": {
  "name": "",
  "signature": "sha256:b38e829a51d16256651f5502044b57c142b2901f22875da9a35d44bab4b0e293"
 },
 "nbformat": 3,
 "nbformat_minor": 0,
 "worksheets": [
  {
   "cells": [
    {
     "cell_type": "code",
     "collapsed": false,
     "input": [
      "import time\n",
      "print time.ctime()\n",
      "%load_ext displaytools\n",
      "%matplotlib inline\n",
      "\n",
      "from diss_aux import latex"
     ],
     "language": "python",
     "metadata": {},
     "outputs": [
      {
       "output_type": "stream",
       "stream": "stdout",
       "text": [
        "Sat Apr 23 16:14:04 2016\n"
       ]
      }
     ],
     "prompt_number": 1
    },
    {
     "cell_type": "markdown",
     "metadata": {},
     "source": [
      "**Betrachtetes System**: Pendel mit horizontal verschieblicher Aufh\u00e4ngung (\"Wagen-Pendel-System\")\n",
      "\n",
      "\ufffc <img src=\"files/images/pendel_wagen.png\">\n",
      "\n",
      "**Inhalt**:\n",
      "* Herleitung der Modellgleichungen in partiell linearisierter Form\n",
      " \n",
      "* Entwurf einer R\u00fcckf\u00fchrung, die eine Dauerschwingung mit vorgegebener Frequenz und Amplitude stabilisiert\n",
      "\n",
      "\n",
      "\n",
      "[//]: # (custom_config_start)\n",
      "$$\n",
      "\\newcommand{\\d}{\\mathrm{d}}\n",
      "\\newcommand{\\col}{\\mathrm{col}}\n",
      "\\newcommand{\\bs}{\\boldsymbol}\n",
      "\\newcommand{\\Ddt}{\\left(\\tfrac{d}{dt}\\right)}\n",
      "\\newcommand{\\ddt}{\\tfrac{d}{dt}}\n",
      "$$\n",
      "[//]: # (custom_config_end)"
     ]
    },
    {
     "cell_type": "code",
     "collapsed": false,
     "input": [
      "import sympy as sp\n",
      "from sympy import sin, cos, pi\n",
      "from sympy.interactive import printing\n",
      "import pickle\n",
      "import numpy as np\n",
      "from scipy.integrate import odeint\n",
      "import matplotlib.pyplot as pl\n",
      "\n",
      "import symbtools as st\n",
      "import symbtools.modeltools as mt\n",
      "import symbtools.noncommutativetools as nct\n",
      "\n",
      "import pycartan as pc\n",
      "zip0 = st.zip0\n",
      "printing.init_printing(1)"
     ],
     "language": "python",
     "metadata": {},
     "outputs": [],
     "prompt_number": 149
    },
    {
     "cell_type": "code",
     "collapsed": false,
     "input": [
      "t = sp.Symbol('t')\n",
      "Np = 1\n",
      "Nq = 1\n",
      "n = Np + Nq\n",
      "pp = st.symb_vector(\"p1:{0}\".format(Np+1))\n",
      "qq = st.symb_vector(\"q1:{0}\".format(Nq+1))\n",
      "aa = st.symb_vector(\"a1:{0}\".format(Nq+1))\n",
      "ww = st.symb_vector(\"w1:{0}\".format(Nq+1))\n",
      "\n",
      "ttheta = st.row_stack(pp, qq) ##:T\n",
      "tthetad = st.time_deriv(ttheta, ttheta) ##:T\n",
      "tthetadd = st.time_deriv(ttheta, ttheta, order=2) ##:T\n",
      "st.make_global(ttheta, tthetad)"
     ],
     "language": "python",
     "metadata": {},
     "outputs": [
      {
       "latex": [
        "ttheta.T := $$\\left[\\begin{matrix}p_{1} & q_{1}\\end{matrix}\\right]$$"
       ],
       "metadata": {},
       "output_type": "display_data",
       "png": "[encoded data removed]",
       "text": [
        "ttheta.T := [p\u2081  q\u2081]"
       ]
      },
      {
       "output_type": "stream",
       "stream": "stdout",
       "text": [
        "---\n"
       ]
      },
      {
       "latex": [
        "tthetad.T := $$\\left[\\begin{matrix}\\dot{p}_{1} & \\dot{q}_{1}\\end{matrix}\\right]$$"
       ],
       "metadata": {},
       "output_type": "display_data",
       "png": "[encoded data removed]",
       "text": [
        "tthetad.T := [p\u0307\u2081  q\u0307\u2081]"
       ]
      },
      {
       "output_type": "stream",
       "stream": "stdout",
       "text": [
        "---\n"
       ]
      },
      {
       "latex": [
        "tthetadd.T := $$\\left[\\begin{matrix}\\ddot{p}_{1} & \\ddot{q}_{1}\\end{matrix}\\right]$$"
       ],
       "metadata": {},
       "output_type": "display_data",
       "png": "[encoded data removed]",
       "text": [
        "tthetadd.T := [p\u0308\u2081  q\u0308\u2081]"
       ]
      },
      {
       "output_type": "stream",
       "stream": "stdout",
       "text": [
        "---\n"
       ]
      }
     ],
     "prompt_number": 3
    },
    {
     "cell_type": "code",
     "collapsed": false,
     "input": [
      "params = sp.symbols('m1, m2, s2, g')\n",
      "st.make_global(params)\n",
      "\n",
      "tau1 = sp.Symbol(\"tau1\")"
     ],
     "language": "python",
     "metadata": {},
     "outputs": [],
     "prompt_number": 4
    },
    {
     "cell_type": "markdown",
     "metadata": {},
     "source": [
      "### Festlegung der Geometrie des mechanischen Systemes"
     ]
    },
    {
     "cell_type": "code",
     "collapsed": false,
     "input": [
      "#Einheitsvektoren\n",
      "\n",
      "ex = sp.Matrix([1,0])\n",
      "ey = sp.Matrix([0,1])\n",
      "\n",
      "\n",
      "# Koordinaten der Schwerpunkte und Gelenke\n",
      "\n",
      "S1 = ex*q1 # Schwerpunkt Wagen\n",
      "G2 = S1 # Pendel-Gelenk\n",
      "\n",
      "# Schwerpunkt des Pendels (Pendel zeigt f\u00fcr kleine Winkel nach unten)\n",
      "S2 = G2 + mt.Rz(p1)*(-ey)*s2\n",
      "\n",
      "# Zeitableitungen der Schwerpunktskoordinaten\n",
      "Sd1, Sd2  = st.col_split(st.time_deriv(st.col_stack(S1, S2), ttheta)) ##"
     ],
     "language": "python",
     "metadata": {},
     "outputs": [
      {
       "latex": [
        "$$\\left[\\begin{matrix}\\dot{q}_{1}\\\\0\\end{matrix}\\right]$$"
       ],
       "metadata": {},
       "output_type": "display_data",
       "png": "[encoded data removed]",
       "text": [
        "\u23a1q\u0307\u2081\u23a4\n",
        "\u23a2   \u23a5\n",
        "\u23a3 0 \u23a6"
       ]
      },
      {
       "latex": [
        "$$\\left[\\begin{matrix}\\dot{p}_{1} s_{2} \\cos{\\left (p_{1} \\right )} + \\dot{q}_{1}\\\\\\dot{p}_{1} s_{2} \\sin{\\left (p_{1} \\right )}\\end{matrix}\\right]$$"
       ],
       "metadata": {},
       "output_type": "display_data",
       "png": "[encoded data removed]",
       "text": [
        "\u23a1p\u0307\u2081\u22c5s\u2082\u22c5cos(p\u2081) + q\u0307\u2081\u23a4\n",
        "\u23a2                    \u23a5\n",
        "\u23a3   p\u0307\u2081\u22c5s\u2082\u22c5sin(p\u2081)   \u23a6"
       ]
      },
      {
       "output_type": "stream",
       "stream": "stdout",
       "text": [
        "---\n"
       ]
      }
     ],
     "prompt_number": 5
    },
    {
     "cell_type": "code",
     "collapsed": false,
     "input": [
      "# Energie\n",
      "T_rot = 0 # (Punktmassenmodell)\n",
      "T_trans = ( m1*Sd1.T*Sd1  +  m2*Sd2.T*Sd2 )/2\n",
      "\n",
      "T = T_rot + T_trans[0]\n",
      "\n",
      "V = m2*g*S2[1]"
     ],
     "language": "python",
     "metadata": {},
     "outputs": [],
     "prompt_number": 6
    },
    {
     "cell_type": "code",
     "collapsed": false,
     "input": [
      "mod = mt.generate_symbolic_model(T, V, ttheta, [0, tau1])"
     ],
     "language": "python",
     "metadata": {},
     "outputs": [],
     "prompt_number": 7
    },
    {
     "cell_type": "code",
     "collapsed": false,
     "input": [
      "mod.MM.simplify()\n",
      "mod.MM"
     ],
     "language": "python",
     "metadata": {},
     "outputs": [
      {
       "latex": [
        "$$\\left[\\begin{matrix}m_{2} s_{2}^{2} & m_{2} s_{2} \\cos{\\left (p_{1} \\right )}\\\\m_{2} s_{2} \\cos{\\left (p_{1} \\right )} & m_{1} + m_{2}\\end{matrix}\\right]$$"
       ],
       "metadata": {},
       "output_type": "pyout",
       "png": "[encoded data removed]",
       "prompt_number": 8,
       "text": [
        "\u23a1        2                   \u23a4\n",
        "\u23a2   m\u2082\u22c5s\u2082       m\u2082\u22c5s\u2082\u22c5cos(p\u2081)\u23a5\n",
        "\u23a2                            \u23a5\n",
        "\u23a3m\u2082\u22c5s\u2082\u22c5cos(p\u2081)     m\u2081 + m\u2082   \u23a6"
       ]
      }
     ],
     "prompt_number": 8
    },
    {
     "cell_type": "markdown",
     "metadata": {},
     "source": [
      "### Bestimmung der partiell lineariserten Systemgleichungen"
     ]
    },
    {
     "cell_type": "code",
     "collapsed": false,
     "input": [
      "mod.calc_coll_part_lin_state_eq(simplify=True)"
     ],
     "language": "python",
     "metadata": {},
     "outputs": [],
     "prompt_number": 9
    },
    {
     "cell_type": "code",
     "collapsed": false,
     "input": [
      "xx = mod.x ##:T\n",
      "f = mod.ff ##:\n",
      "G = mod.gg \n",
      "g1, = st.col_split(G) ##:"
     ],
     "language": "python",
     "metadata": {},
     "outputs": [
      {
       "latex": [
        "xx.T := $$\\left[\\begin{matrix}p_{1} & q_{1} & \\dot{p}_{1} & \\dot{q}_{1}\\end{matrix}\\right]$$"
       ],
       "metadata": {},
       "output_type": "display_data",
       "png": "[encoded data removed]",
       "text": [
        "xx.T := [p\u2081  q\u2081  p\u0307\u2081  q\u0307\u2081]"
       ]
      },
      {
       "output_type": "stream",
       "stream": "stdout",
       "text": [
        "---\n"
       ]
      },
      {
       "latex": [
        "f := $$\\left[\\begin{matrix}\\dot{p}_{1}\\\\\\dot{q}_{1}\\\\- \\frac{g}{s_{2}} \\sin{\\left (p_{1} \\right )}\\\\0\\end{matrix}\\right]$$"
       ],
       "metadata": {},
       "output_type": "display_data",
       "png": "[encoded data removed]",
       "text": [
        "f := \u23a1    p\u0307\u2081    \u23a4\n",
        "\u23a2           \u23a5\n",
        "\u23a2    q\u0307\u2081    \u23a5\n",
        "\u23a2           \u23a5\n",
        "\u23a2-g\u22c5sin(p\u2081) \u23a5\n",
        "\u23a2\u2500\u2500\u2500\u2500\u2500\u2500\u2500\u2500\u2500\u2500\u2500\u23a5\n",
        "\u23a2     s\u2082    \u23a5\n",
        "\u23a2           \u23a5\n",
        "\u23a3     0     \u23a6"
       ]
      },
      {
       "output_type": "stream",
       "stream": "stdout",
       "text": [
        "---\n"
       ]
      },
      {
       "latex": [
        "g1, := $$\\left[\\begin{matrix}0\\\\0\\\\- \\frac{1}{s_{2}} \\cos{\\left (p_{1} \\right )}\\\\1\\end{matrix}\\right]$$"
       ],
       "metadata": {},
       "output_type": "display_data",
       "png": "[encoded data removed]",
       "text": [
        "g1, := \u23a1    0    \u23a4\n",
        "\u23a2         \u23a5\n",
        "\u23a2    0    \u23a5\n",
        "\u23a2         \u23a5\n",
        "\u23a2-cos(p\u2081) \u23a5\n",
        "\u23a2\u2500\u2500\u2500\u2500\u2500\u2500\u2500\u2500\u2500\u23a5\n",
        "\u23a2    s\u2082   \u23a5\n",
        "\u23a2         \u23a5\n",
        "\u23a3    1    \u23a6"
       ]
      },
      {
       "output_type": "stream",
       "stream": "stdout",
       "text": [
        "---\n"
       ]
      }
     ],
     "prompt_number": 10
    },
    {
     "cell_type": "markdown",
     "metadata": {},
     "source": [
      "### Ruhelage:"
     ]
    },
    {
     "cell_type": "code",
     "collapsed": false,
     "input": [
      "eqp = sp.Matrix([sp.pi, 0, 0, 0]) ##:T\n",
      "\n",
      "# Probe:\n",
      "f.subz(xx, eqp) ##:T"
     ],
     "language": "python",
     "metadata": {},
     "outputs": [
      {
       "latex": [
        "eqp.T := $$\\left[\\begin{matrix}\\pi & 0 & 0 & 0\\end{matrix}\\right]$$"
       ],
       "metadata": {},
       "output_type": "display_data",
       "png": "[encoded data removed]",
       "text": [
        "eqp.T := [\u03c0  0  0  0]"
       ]
      },
      {
       "output_type": "stream",
       "stream": "stdout",
       "text": [
        "---\n"
       ]
      },
      {
       "latex": [
        "(f.subz(xx, eqp) ).T := $$\\left[\\begin{matrix}0 & 0 & 0 & 0\\end{matrix}\\right]$$"
       ],
       "metadata": {},
       "output_type": "display_data",
       "png": "[encoded data removed]",
       "text": [
        "(f.subz(xx, eqp) ).T := [0  0  0  0]"
       ]
      },
      {
       "output_type": "stream",
       "stream": "stdout",
       "text": [
        "___\n"
       ]
      }
     ],
     "prompt_number": 11
    },
    {
     "cell_type": "code",
     "collapsed": false,
     "input": [
      "# Parameterwerte\n",
      "parameter_values = [(g, 9.81), (s2, .5)]\n",
      "replm =  parameter_values + zip(xx, eqp) ##"
     ],
     "language": "python",
     "metadata": {},
     "outputs": [
      {
       "latex": [
        "$$\\left [ \\left ( g, \\quad 9.81\\right ), \\quad \\left ( s_{2}, \\quad 0.5\\right ), \\quad \\left ( p_{1}, \\quad \\pi\\right ), \\quad \\left ( q_{1}, \\quad 0\\right ), \\quad \\left ( \\dot{p}_{1}, \\quad 0\\right ), \\quad \\left ( \\dot{q}_{1}, \\quad 0\\right )\\right ]$$"
       ],
       "metadata": {},
       "output_type": "display_data",
       "png": "[encoded data removed]",
       "text": [
        "[(g, 9.81), (s\u2082, 0.5), (p\u2081, \u03c0), (q\u2081, 0), (p\u0307\u2081, 0), (q\u0307\u2081, 0)]"
       ]
      },
      {
       "output_type": "stream",
       "stream": "stdout",
       "text": [
        "---\n"
       ]
      }
     ],
     "prompt_number": 12
    },
    {
     "cell_type": "code",
     "collapsed": false,
     "input": [
      "A1 = f.jacobian(xx) ##:\n",
      "\n",
      "\n",
      "latex(A1.subz(xx, eqp))\n",
      "\n",
      "latex(G.subz(xx, eqp))\n"
     ],
     "language": "python",
     "metadata": {},
     "outputs": [
      {
       "latex": [
        "A1 := $$\\left[\\begin{matrix}0 & 0 & 1 & 0\\\\0 & 0 & 0 & 1\\\\- \\frac{g}{s_{2}} \\cos{\\left (p_{1} \\right )} & 0 & 0 & 0\\\\0 & 0 & 0 & 0\\end{matrix}\\right]$$"
       ],
       "metadata": {},
       "output_type": "display_data",
       "png": "[encoded data removed]",
       "text": [
        "A1 := \u23a1     0       0  1  0\u23a4\n",
        "\u23a2                    \u23a5\n",
        "\u23a2     0       0  0  1\u23a5\n",
        "\u23a2                    \u23a5\n",
        "\u23a2-g\u22c5cos(p\u2081)          \u23a5\n",
        "\u23a2\u2500\u2500\u2500\u2500\u2500\u2500\u2500\u2500\u2500\u2500\u2500  0  0  0\u23a5\n",
        "\u23a2     s\u2082             \u23a5\n",
        "\u23a2                    \u23a5\n",
        "\u23a3     0       0  0  0\u23a6"
       ]
      },
      {
       "output_type": "stream",
       "stream": "stdout",
       "text": [
        "---\n",
        "\\left(\\begin{matrix}\n",
        "0 & 0 & 1 & 0\\\\\n",
        "0 & 0 & 0 & 1\\\\\n",
        "\\frac{g}{s_{2}} & 0 & 0 & 0\\\\\n",
        "0 & 0 & 0 & 0\n",
        "\\end{matrix}\\right)\n",
        "-------------\n",
        "\\left(\\begin{matrix}\n",
        "0\\\\\n",
        "0\\\\\n",
        "\\frac{1}{s_{2}}\\\\\n",
        "1\n",
        "\\end{matrix}\\right)\n",
        "-------------\n"
       ]
      }
     ],
     "prompt_number": 14
    },
    {
     "cell_type": "code",
     "collapsed": false,
     "input": [
      "A1 = f.jacobian(xx).subs(replm) ##\n",
      "b1 = G.subs(replm) ##"
     ],
     "language": "python",
     "metadata": {},
     "outputs": [
      {
       "latex": [
        "$$\\left[\\begin{matrix}0 & 0 & 1 & 0\\\\0 & 0 & 0 & 1\\\\19.62 & 0 & 0 & 0\\\\0 & 0 & 0 & 0\\end{matrix}\\right]$$"
       ],
       "metadata": {},
       "output_type": "display_data",
       "png": "[encoded data removed]",
       "text": [
        "\u23a1  0    0  1  0\u23a4\n",
        "\u23a2              \u23a5\n",
        "\u23a2  0    0  0  1\u23a5\n",
        "\u23a2              \u23a5\n",
        "\u23a219.62  0  0  0\u23a5\n",
        "\u23a2              \u23a5\n",
        "\u23a3  0    0  0  0\u23a6"
       ]
      },
      {
       "output_type": "stream",
       "stream": "stdout",
       "text": [
        "---\n"
       ]
      },
      {
       "latex": [
        "$$\\left[\\begin{matrix}0\\\\0\\\\2.0\\\\1\\end{matrix}\\right]$$"
       ],
       "metadata": {},
       "output_type": "display_data",
       "png": "[encoded data removed]",
       "text": [
        "\u23a1 0 \u23a4\n",
        "\u23a2   \u23a5\n",
        "\u23a2 0 \u23a5\n",
        "\u23a2   \u23a5\n",
        "\u23a22.0\u23a5\n",
        "\u23a2   \u23a5\n",
        "\u23a3 1 \u23a6"
       ]
      },
      {
       "output_type": "stream",
       "stream": "stdout",
       "text": [
        "---\n"
       ]
      }
     ],
     "prompt_number": 15
    },
    {
     "cell_type": "markdown",
     "metadata": {},
     "source": [
      "Einf\u00fchrung bzw. Festlegung der Parameter f\u00fcr die Schwingung:"
     ]
    },
    {
     "cell_type": "code",
     "collapsed": false,
     "input": [
      "omega = sp.sqrt(g/s2).subs(parameter_values).evalf() ##\n",
      "\n",
      "k2, ws = sp.symbols('k2, w^*')"
     ],
     "language": "python",
     "metadata": {},
     "outputs": [
      {
       "latex": [
        "$$4.42944691807002$$"
       ],
       "metadata": {},
       "output_type": "display_data",
       "png": "[encoded data removed]",
       "text": [
        "4.42944691807002"
       ]
      },
      {
       "output_type": "stream",
       "stream": "stdout",
       "text": [
        "---\n"
       ]
      }
     ],
     "prompt_number": 16
    },
    {
     "cell_type": "markdown",
     "metadata": {},
     "source": [
      "Lineare R\u00fcckf\u00fchrung zur Platzierung der Eigenwerte"
     ]
    },
    {
     "cell_type": "code",
     "collapsed": false,
     "input": [
      "k1 = st.siso_place(A1, b1, [1j*omega, -1j*omega, -1, -2]) ##:T"
     ],
     "language": "python",
     "metadata": {},
     "outputs": [
      {
       "latex": [
        "k1.T := $$\\left[\\begin{matrix}-21.62 & 2.0 & -3.0 & 3.0\\end{matrix}\\right]$$"
       ],
       "metadata": {},
       "output_type": "display_data",
       "png": "[encoded data removed]",
       "text": [
        "k1.T := [-21.62  2.0  -3.0  3.0]"
       ]
      },
      {
       "output_type": "stream",
       "stream": "stdout",
       "text": [
        "---\n"
       ]
      }
     ],
     "prompt_number": 17
    },
    {
     "cell_type": "code",
     "collapsed": false,
     "input": [
      "A1"
     ],
     "language": "python",
     "metadata": {},
     "outputs": [
      {
       "latex": [
        "$$\\left[\\begin{matrix}0 & 0 & 1 & 0\\\\0 & 0 & 0 & 1\\\\19.62 & 0 & 0 & 0\\\\0 & 0 & 0 & 0\\end{matrix}\\right]$$"
       ],
       "metadata": {},
       "output_type": "pyout",
       "png": "[encoded data removed]",
       "prompt_number": 18,
       "text": [
        "\u23a1  0    0  1  0\u23a4\n",
        "\u23a2              \u23a5\n",
        "\u23a2  0    0  0  1\u23a5\n",
        "\u23a2              \u23a5\n",
        "\u23a219.62  0  0  0\u23a5\n",
        "\u23a2              \u23a5\n",
        "\u23a3  0    0  0  0\u23a6"
       ]
      }
     ],
     "prompt_number": 18
    },
    {
     "cell_type": "code",
     "collapsed": false,
     "input": [
      "A = A1 + b1*k1.T"
     ],
     "language": "python",
     "metadata": {},
     "outputs": [],
     "prompt_number": 21
    },
    {
     "cell_type": "code",
     "collapsed": false,
     "input": [
      "A.eigenvals(rational=False)"
     ],
     "language": "python",
     "metadata": {},
     "outputs": [
      {
       "latex": [
        "$$\\left \\{ -2.0 : 1, \\quad -1.0 : 1, \\quad - 4.42944691807002 i : 1, \\quad 4.42944691807002 i : 1\\right \\}$$"
       ],
       "metadata": {},
       "output_type": "pyout",
       "png": "[encoded data removed]",
       "prompt_number": 22,
       "text": [
        "{-2.0: 1, -1.0: 1, -4.42944691807002\u22c5\u2148: 1, 4.42944691807002\u22c5\u2148: 1}"
       ]
      }
     ],
     "prompt_number": 22
    },
    {
     "cell_type": "code",
     "collapsed": false,
     "input": [
      "E = sp.diag(1, 1, 0, 0) ##:\n",
      "V0 = st.sorted_eigenvector_matrix(A, numpy=True, increse=True) ##:\n",
      "V = st.col_stack(st.re(V0[:, 0]), st.im(V0[:, 0]), V0[:,2:]) ##:\n",
      "U = V.inv()"
     ],
     "language": "python",
     "metadata": {},
     "outputs": [
      {
       "latex": [
        "E := $$\\left[\\begin{matrix}1 & 0 & 0 & 0\\\\0 & 1 & 0 & 0\\\\0 & 0 & 0 & 0\\\\0 & 0 & 0 & 0\\end{matrix}\\right]$$"
       ],
       "metadata": {},
       "output_type": "display_data",
       "png": "[encoded data removed]",
       "text": [
        "E := \u23a11  0  0  0\u23a4\n",
        "\u23a2          \u23a5\n",
        "\u23a20  1  0  0\u23a5\n",
        "\u23a2          \u23a5\n",
        "\u23a20  0  0  0\u23a5\n",
        "\u23a2          \u23a5\n",
        "\u23a30  0  0  0\u23a6"
       ]
      },
      {
       "output_type": "stream",
       "stream": "stdout",
       "text": [
        "---\n"
       ]
      },
      {
       "latex": [
        "V0 := $$\\left[\\begin{matrix}- 0.155718664966075 i & 0.155718664966075 i & -0.0755169411789642 & 0.203864039431034\\\\- 0.155718664966075 i & 0.155718664966075 i & 0.703062722376157 & -0.398044536989094\\\\0.689747560619958 & 0.689747560619958 & 0.0755169411789644 & -0.407728078862068\\\\0.689747560619958 & 0.689747560619958 & -0.703062722376156 & 0.796089073978187\\end{matrix}\\right]$$"
       ],
       "metadata": {},
       "output_type": "display_data",
       "png": "[encoded data removed]",
       "text": [
        "V0 := \u23a1-0.155718664966075\u22c5\u2148  0.155718664966075\u22c5\u2148  -0.0755169411789642  0.20386403943\n",
        "\u23a2                                                                             \n",
        "\u23a2-0.155718664966075\u22c5\u2148  0.155718664966075\u22c5\u2148   0.703062722376157   -0.3980445369\n",
        "\u23a2                                                                             \n",
        "\u23a2 0.689747560619958     0.689747560619958   0.0755169411789644   -0.4077280788\n",
        "\u23a2                                                                             \n",
        "\u23a3 0.689747560619958     0.689747560619958   -0.703062722376156   0.79608907397\n",
        "\n",
        "1034 \u23a4\n",
        "     \u23a5\n",
        "89094\u23a5\n",
        "     \u23a5\n",
        "62068\u23a5\n",
        "     \u23a5\n",
        "8187 \u23a6"
       ]
      },
      {
       "output_type": "stream",
       "stream": "stdout",
       "text": [
        "---\n"
       ]
      },
      {
       "latex": [
        "V := $$\\left[\\begin{matrix}0 & -0.155718664966075 & -0.0755169411789642 & 0.203864039431034\\\\0 & -0.155718664966075 & 0.703062722376157 & -0.398044536989094\\\\0.689747560619958 & 0 & 0.0755169411789644 & -0.407728078862068\\\\0.689747560619958 & 0 & -0.703062722376156 & 0.796089073978187\\end{matrix}\\right]$$"
       ],
       "metadata": {},
       "output_type": "display_data",
       "png": "[encoded data removed]",
       "text": [
        "V := \u23a1        0          -0.155718664966075  -0.0755169411789642  0.203864039431034\n",
        "\u23a2                                                                             \n",
        "\u23a2        0          -0.155718664966075   0.703062722376157   -0.39804453698909\n",
        "\u23a2                                                                             \n",
        "\u23a20.689747560619958          0           0.0755169411789644   -0.40772807886206\n",
        "\u23a2                                                                             \n",
        "\u23a30.689747560619958          0           -0.703062722376156   0.796089073978187\n",
        "\n",
        " \u23a4\n",
        " \u23a5\n",
        "4\u23a5\n",
        " \u23a5\n",
        "8\u23a5\n",
        " \u23a5\n",
        " \u23a6"
       ]
      },
      {
       "output_type": "stream",
       "stream": "stdout",
       "text": [
        "---\n"
       ]
      }
     ],
     "prompt_number": 23
    },
    {
     "cell_type": "markdown",
     "metadata": {},
     "source": [
      "Reelle Jordan-Normalform:"
     ]
    },
    {
     "cell_type": "code",
     "collapsed": false,
     "input": [
      "Jr = st.trunc_small_values(U*A*V) ##:"
     ],
     "language": "python",
     "metadata": {},
     "outputs": [
      {
       "latex": [
        "Jr := $$\\left[\\begin{matrix}0 & 4.42944691807002 & 0 & 0\\\\-4.42944691807002 & 0 & 0 & 0\\\\0 & 0 & -1.0 & 0\\\\0 & 0 & 0 & -2.0\\end{matrix}\\right]$$"
       ],
       "metadata": {},
       "output_type": "display_data",
       "png": "[encoded data removed]",
       "text": [
        "Jr := \u23a1        0          4.42944691807002   0     0  \u23a4\n",
        "\u23a2                                               \u23a5\n",
        "\u23a2-4.42944691807002         0           0     0  \u23a5\n",
        "\u23a2                                               \u23a5\n",
        "\u23a2        0                 0          -1.0   0  \u23a5\n",
        "\u23a2                                               \u23a5\n",
        "\u23a3        0                 0           0    -2.0\u23a6"
       ]
      },
      {
       "output_type": "stream",
       "stream": "stdout",
       "text": [
        "---\n"
       ]
      }
     ],
     "prompt_number": 142
    },
    {
     "cell_type": "code",
     "collapsed": false,
     "input": [
      "E1 = U.T*E*U"
     ],
     "language": "python",
     "metadata": {},
     "outputs": [],
     "prompt_number": 143
    },
    {
     "cell_type": "code",
     "collapsed": false,
     "input": [
      "tau = ((k1.T*xx)[0] - k2*((xx.T*E1*xx)[0] - ws)*(xx.T*E1*b1)[0]).expand()  ##"
     ],
     "language": "python",
     "metadata": {},
     "outputs": [
      {
       "latex": [
        "$$- 543.549740550532 k_{2} p_{1}^{3} - 418.623886500985 k_{2} p_{1}^{2} \\dot{p}_{1} + 145.980932934029 k_{2} p_{1}^{2} q_{1} + 276.166253573193 k_{2} p_{1}^{2} \\dot{q}_{1} - 108.134741364291 k_{2} p_{1} \\dot{p}_{1}^{2} + 73.8769609990528 k_{2} p_{1} \\dot{p}_{1} q_{1} + 140.577099589105 k_{2} p_{1} \\dot{p}_{1} \\dot{q}_{1} - 13.5042491150813 k_{2} p_{1} q_{1}^{2} - 50.4333000420859 k_{2} p_{1} q_{1} \\dot{q}_{1} - 47.3302594494683 k_{2} p_{1} \\dot{q}_{1}^{2} + 9.96782387806943 k_{2} p_{1} w^{*} - 10.1759677420969 k_{2} \\dot{p}_{1}^{3} + 7.44041452263145 k_{2} \\dot{p}_{1}^{2} q_{1} + 15.7762725396025 k_{2} \\dot{p}_{1}^{2} \\dot{q}_{1} - 4.96027634842097 k_{2} \\dot{p}_{1} q_{1}^{2} - 16.2574089754445 k_{2} \\dot{p}_{1} q_{1} \\dot{q}_{1} - 13.9839437202625 k_{2} \\dot{p}_{1} \\dot{q}_{1}^{2} + 3.66130397967824 k_{2} \\dot{p}_{1} w^{*} - 2.40657996870482 \\cdot 10^{-15} k_{2} q_{1}^{3} + 0.917719953454379 k_{2} q_{1}^{2} \\dot{q}_{1} + 2.75315986036315 k_{2} q_{1} \\dot{q}_{1}^{2} + 1.77635683940025 \\cdot 10^{-15} k_{2} q_{1} w^{*} + 2.11164461257382 k_{2} \\dot{q}_{1}^{3} - 0.67739204064352 k_{2} \\dot{q}_{1} w^{*} - 21.62 p_{1} - 3.0 \\dot{p}_{1} + 2.0 q_{1} + 3.0 \\dot{q}_{1}$$"
       ],
       "metadata": {},
       "output_type": "display_data",
       "png": "[encoded data removed]",
       "text": [
        "                              3                               2               \n",
        "- -543.549740550532\u22c5(-1)\u22c5k\u2082\u22c5p\u2081  - -418.623886500985\u22c5(-1)\u22c5k\u2082\u22c5p\u2081 \u22c5p\u0307\u2081 + 145.9809\n",
        "\n",
        "              2                            2                                  \n",
        "32934029\u22c5k\u2082\u22c5p\u2081 \u22c5q\u2081 + 276.166253573193\u22c5k\u2082\u22c5p\u2081 \u22c5q\u0307\u2081 - -108.134741364291\u22c5(-1)\u22c5k\u2082\u22c5p\n",
        "\n",
        "     2                                                                        \n",
        "\u2081\u22c5p\u0307\u2081  + 73.8769609990528\u22c5k\u2082\u22c5p\u2081\u22c5p\u0307\u2081\u22c5q\u2081 + 140.577099589105\u22c5k\u2082\u22c5p\u2081\u22c5p\u0307\u2081\u22c5q\u0307\u2081 - -13.\n",
        "\n",
        "                           2                                                  \n",
        "5042491150813\u22c5(-1)\u22c5k\u2082\u22c5p\u2081\u22c5q\u2081  - -50.4333000420859\u22c5(-1)\u22c5k\u2082\u22c5p\u2081\u22c5q\u2081\u22c5q\u0307\u2081 - -47.33025\n",
        "\n",
        "                       2                                                      \n",
        "94494683\u22c5(-1)\u22c5k\u2082\u22c5p\u2081\u22c5q\u0307\u2081  + 9.96782387806943\u22c5k\u2082\u22c5p\u2081\u22c5w__* - -10.1759677420969\u22c5(-1\n",
        "\n",
        "        3                          2                             2            \n",
        ")\u22c5k\u2082\u22c5p\u0307\u2081  + 7.44041452263145\u22c5k\u2082\u22c5p\u0307\u2081 \u22c5q\u2081 + 15.7762725396025\u22c5k\u2082\u22c5p\u0307\u2081 \u22c5q\u0307\u2081 - -4.96\n",
        "\n",
        "                           2                                                  \n",
        "027634842097\u22c5(-1)\u22c5k\u2082\u22c5p\u0307\u2081\u22c5q\u2081  - -16.2574089754445\u22c5(-1)\u22c5k\u2082\u22c5p\u0307\u2081\u22c5q\u2081\u22c5q\u0307\u2081 - -13.9839\n",
        "\n",
        "                         2                                                    \n",
        "437202625\u22c5(-1)\u22c5k\u2082\u22c5p\u0307\u2081\u22c5q\u0307\u2081  + 3.66130397967824\u22c5k\u2082\u22c5p\u0307\u2081\u22c5w__* - - -2.4065799687048\n",
        "\n",
        "           3                          2                                 2     \n",
        "2e-15\u22c5k\u2082\u22c5q\u2081  + 0.917719953454379\u22c5k\u2082\u22c5q\u2081 \u22c5q\u0307\u2081 + 2.75315986036315\u22c5k\u2082\u22c5q\u2081\u22c5q\u0307\u2081  + 1.\n",
        "\n",
        "                                                       3                      \n",
        "77635683940025e-15\u22c5k\u2082\u22c5q\u2081\u22c5w__* + 2.11164461257382\u22c5k\u2082\u22c5q\u0307\u2081  - - -0.67739204064352\n",
        "\n",
        "                                                                \n",
        "\u22c5k\u2082\u22c5q\u0307\u2081\u22c5w__* - -21.62\u22c5(-1)\u22c5p\u2081 - -3.0\u22c5(-1)\u22c5p\u0307\u2081 + 2.0\u22c5q\u2081 + 3.0\u22c5q\u0307\u2081"
       ]
      },
      {
       "output_type": "stream",
       "stream": "stdout",
       "text": [
        "---\n"
       ]
      }
     ],
     "prompt_number": 144
    },
    {
     "cell_type": "markdown",
     "metadata": {},
     "source": [
      "### Simulation\n",
      "\n",
      "R\u00fcckf\u00fchrung $\\tau$ in ausf\u00fchrbare Funktion umwandeln"
     ]
    },
    {
     "cell_type": "code",
     "collapsed": false,
     "input": [
      "latex(da.round(tau))"
     ],
     "language": "python",
     "metadata": {},
     "outputs": [
      {
       "output_type": "stream",
       "stream": "stdout",
       "text": [
        "- 543.5497 k_{2} p_{1}^{3} - 418.6239 k_{2} p_{1}^{2} \\dot{p}_{1} + 145.9809 k_{2} p_{1}^{2} q_{1} + 276.1663 k_{2} p_{1}^{2} \\dot{q}_{1} - 108.1347 k_{2} p_{1} \\dot{p}_{1}^{2} + 73.877 k_{2} p_{1} \\dot{p}_{1} q_{1} + 140.5771 k_{2} p_{1} \\dot{p}_{1} \\dot{q}_{1} - 13.5042 k_{2} p_{1} q_{1}^{2} - 50.4333 k_{2} p_{1} q_{1} \\dot{q}_{1} - 47.3303 k_{2} p_{1} \\dot{q}_{1}^{2} + 9.9678 k_{2} p_{1} w^{*} - 10.176 k_{2} \\dot{p}_{1}^{3} + 7.4404 k_{2} \\dot{p}_{1}^{2} q_{1} + 15.7763 k_{2} \\dot{p}_{1}^{2} \\dot{q}_{1} - 4.9603 k_{2} \\dot{p}_{1} q_{1}^{2} - 16.2574 k_{2} \\dot{p}_{1} q_{1} \\dot{q}_{1} - 13.9839 k_{2} \\dot{p}_{1} \\dot{q}_{1}^{2} + 3.6613 k_{2} \\dot{p}_{1} w^{*} + 0.9177 k_{2} q_{1}^{2} \\dot{q}_{1} + 2.7532 k_{2} q_{1} \\dot{q}_{1}^{2} + 2.1116 k_{2} \\dot{q}_{1}^{3} - 0.6774 k_{2} \\dot{q}_{1} w^{*} - 21.62 p_{1} - 3 \\dot{p}_{1} + 2 q_{1} + 3 \\dot{q}_{1}\n",
        "-------------\n"
       ]
      }
     ],
     "prompt_number": 164
    },
    {
     "cell_type": "code",
     "collapsed": false,
     "input": [
      "controller_func = st.expr_to_func(xx, tau.subs([(k2, 1), (ws, 10)]).subz(xx, xx- eqp))\n",
      "\n",
      "# Aufruf-Parameter anpassen (Zeit ignorieren und x entpacken):\n",
      "def controller(x, t):\n",
      "    return controller_func(*x)"
     ],
     "language": "python",
     "metadata": {},
     "outputs": [],
     "prompt_number": 152
    },
    {
     "cell_type": "markdown",
     "metadata": {},
     "source": [
      "Objekt f\u00fcr Simulationsmodel anlegen und Funktion f\u00fcr die rechte Seite des DGL-Systems erstellen (`rhs`-Funktion)"
     ]
    },
    {
     "cell_type": "code",
     "collapsed": false,
     "input": [
      "sim_model = st.SimulationModel(f, G, xx, model_parameters=parameter_values)\n",
      "rhs = sim_model.create_simfunction(controller_function=controller)"
     ],
     "language": "python",
     "metadata": {},
     "outputs": [],
     "prompt_number": 151
    },
    {
     "cell_type": "code",
     "collapsed": false,
     "input": [
      "C = st.Container(model=sim_model, tau=tau, xx=xx, eqp=eqp)\n",
      "\n",
      "\n",
      "st.pickle_full_dump(C, 'data/wagen_pendel_gz.pcl')"
     ],
     "language": "python",
     "metadata": {},
     "outputs": [],
     "prompt_number": 180
    },
    {
     "cell_type": "code",
     "collapsed": false,
     "input": [
      "# Anfangswert = Ruhelage + kleiner Anfangsfehler\n",
      "x0 = st.to_np(xx.subs(replm)).ravel() + np.r_[.1, 0, 0, 0]"
     ],
     "language": "python",
     "metadata": {},
     "outputs": [],
     "prompt_number": 155
    },
    {
     "cell_type": "code",
     "collapsed": false,
     "input": [
      "tt = np.linspace(0, 10, 1e3)"
     ],
     "language": "python",
     "metadata": {},
     "outputs": [],
     "prompt_number": 156
    },
    {
     "cell_type": "code",
     "collapsed": false,
     "input": [
      "res = odeint(rhs, x0, tt)\n",
      "x1, x2, x3, x4 = res.T"
     ],
     "language": "python",
     "metadata": {},
     "outputs": [
      {
       "metadata": {},
       "output_type": "pyout",
       "prompt_number": 167,
       "text": [
        "<module 'pickle' from '/usr/lib/python2.7/pickle.pyc'>"
       ]
      }
     ],
     "prompt_number": 167
    },
    {
     "cell_type": "code",
     "collapsed": false,
     "input": [
      "np.save('data/wagen_pendel_grenzzyklus.npy', np.c_[tt, res])"
     ],
     "language": "python",
     "metadata": {},
     "outputs": [],
     "prompt_number": 170
    },
    {
     "cell_type": "code",
     "collapsed": false,
     "input": [
      "pl.plot(tt, x1/np.pi*180)\n",
      "pl.figure()\n",
      "pl.plot(tt, x2)"
     ],
     "language": "python",
     "metadata": {},
     "outputs": [
      {
       "metadata": {},
       "output_type": "pyout",
       "prompt_number": 182,
       "text": [
        "[<matplotlib.lines.Line2D at 0xccce4cc>]"
       ]
      },
      {
       "metadata": {},
       "output_type": "display_data",
       "png": "[encoded data removed]",
       "text": [
        "<matplotlib.figure.Figure at 0xcaf20ac>"
       ]
      },
      {
       "metadata": {},
       "output_type": "display_data",
       "png": "[encoded data removed]",
       "text": [
        "<matplotlib.figure.Figure at 0xcc27d2c>"
       ]
      }
     ],
     "prompt_number": 182
    },
    {
     "cell_type": "code",
     "collapsed": false,
     "input": [
      "pl.plot(x1, x3)"
     ],
     "language": "python",
     "metadata": {},
     "outputs": [
      {
       "metadata": {},
       "output_type": "pyout",
       "prompt_number": 161,
       "text": [
        "[<matplotlib.lines.Line2D at 0xc6f4dac>]"
       ]
      },
      {
       "metadata": {},
       "output_type": "display_data",
       "png": "[encoded data removed]",
       "text": [
        "<matplotlib.figure.Figure at 0xc54610c>"
       ]
      }
     ],
     "prompt_number": 161
    },
    {
     "cell_type": "code",
     "collapsed": false,
     "input": [
      "pl.plot(x2, x4)"
     ],
     "language": "python",
     "metadata": {},
     "outputs": [
      {
       "metadata": {},
       "output_type": "pyout",
       "prompt_number": 160,
       "text": [
        "[<matplotlib.lines.Line2D at 0xc55fb4c>]"
       ]
      },
      {
       "metadata": {},
       "output_type": "display_data",
       "png": "[encoded data removed]",
       "text": [
        "<matplotlib.figure.Figure at 0xc3b1a8c>"
       ]
      }
     ],
     "prompt_number": 160
    }
   ],
   "metadata": {}
  }
 ]
}