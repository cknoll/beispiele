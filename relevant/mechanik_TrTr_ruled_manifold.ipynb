{
 "metadata": {
  "name": "",
  "signature": "sha256:22cdc9da680c7fda7b74e99c22b7f87f9d3ecba258cd88e30f96f887f89b41dd"
 },
 "nbformat": 3,
 "nbformat_minor": 0,
 "worksheets": [
  {
   "cells": [
    {
     "cell_type": "code",
     "collapsed": false,
     "input": [
      "import time\n",
      "print time.ctime()\n",
      "%load_ext displaytools"
     ],
     "language": "python",
     "metadata": {},
     "outputs": [
      {
       "output_type": "stream",
       "stream": "stdout",
       "text": [
        "Wed Jan 20 11:25:13 2016\n"
       ]
      }
     ],
     "prompt_number": 1
    },
    {
     "cell_type": "markdown",
     "metadata": {},
     "source": [
      "**Betrachtetes System**: Pendel mit horizontal verschieblicher Aufh\u00e4ngung (\"Wagen-Pendel-System\"). auf dem Pendel ist ein aktives Schubgelenk und daran ein passives Drehgelenk\n",
      "\n",
      "\ufffc <img src=\"files/images/pendel_wagen.png1\">\n",
      "<span style=\"color:red;\">(Bild nicht aktuell)</span>\n",
      "\n",
      "**Betrachtete Fragen**:\n",
      "* Herleitung der Modellgleichungen\n",
      "    * partiell linearisiert\n",
      "    * LBI-NF \n",
      "* Anwendung der Ruled-Manifold-Bedingung zum Nachweis der Nichtflachheit\n",
      "\n",
      "\n",
      "\n",
      "[//]: # (custom_config_start)\n",
      "$$\n",
      "\\newcommand{\\col}{\\mathrm{col}}\n",
      "\\newcommand{\\bs}{\\boldsymbol}\n",
      "$$\n",
      "[//]: # (custom_config_end)"
     ]
    },
    {
     "cell_type": "code",
     "collapsed": false,
     "input": [
      "import sympy as sp\n",
      "from sympy import sin, cos, pi, Matrix, sqrt\n",
      "from sympy.interactive import printing\n",
      "import model_tools as mt\n",
      "from model_tools import Rz\n",
      "import symb_tools as st\n",
      "\n",
      "import pycartan as pc\n",
      "zip0 = st.zip0\n",
      "printing.init_printing(1)"
     ],
     "language": "python",
     "metadata": {},
     "outputs": [],
     "prompt_number": 22
    },
    {
     "cell_type": "code",
     "collapsed": false,
     "input": [
      "t = sp.Symbol('t')\n",
      "np = 2\n",
      "nq = 2\n",
      "n = np + nq\n",
      "pp = st.symb_vector(\"p1:{0}\".format(np+1))\n",
      "qq = st.symb_vector(\"q1:{0}\".format(nq+1))\n",
      "aa = st.symb_vector(\"a1:{0}\".format(nq+1))\n",
      "ww = st.symb_vector(\"w1:{0}\".format(nq+1))\n",
      "\n",
      "theta = st.row_stack(pp, qq) ##\n",
      "mu = st.perform_time_derivative(theta, theta) ##\n",
      "mud = st.perform_time_derivative(theta, theta, order=2) ##\n",
      "st.make_global(theta, 1)\n",
      "st.make_global(mu, 1)"
     ],
     "language": "python",
     "metadata": {},
     "outputs": [
      {
       "latex": [
        "$$\\left[\\begin{matrix}p_{1}\\\\p_{2}\\\\q_{1}\\\\q_{2}\\end{matrix}\\right]$$"
       ],
       "metadata": {},
       "output_type": "display_data",
       "png": "[encoded data removed]",
       "text": [
        "\u23a1p\u2081\u23a4\n",
        "\u23a2  \u23a5\n",
        "\u23a2p\u2082\u23a5\n",
        "\u23a2  \u23a5\n",
        "\u23a2q\u2081\u23a5\n",
        "\u23a2  \u23a5\n",
        "\u23a3q\u2082\u23a6"
       ]
      },
      {
       "output_type": "stream",
       "stream": "stdout",
       "text": [
        "---\n"
       ]
      },
      {
       "latex": [
        "$$\\left[\\begin{matrix}\\dot{p}_{1}\\\\\\dot{p}_{2}\\\\\\dot{q}_{1}\\\\\\dot{q}_{2}\\end{matrix}\\right]$$"
       ],
       "metadata": {},
       "output_type": "display_data",
       "png": "[encoded data removed]",
       "text": [
        "\u23a1p\u0307\u2081\u23a4\n",
        "\u23a2   \u23a5\n",
        "\u23a2p\u0307\u2082\u23a5\n",
        "\u23a2   \u23a5\n",
        "\u23a2q\u0307\u2081\u23a5\n",
        "\u23a2   \u23a5\n",
        "\u23a3q\u0307\u2082\u23a6"
       ]
      },
      {
       "output_type": "stream",
       "stream": "stdout",
       "text": [
        "---\n"
       ]
      },
      {
       "latex": [
        "$$\\left[\\begin{matrix}\\ddot{p}_{1}\\\\\\ddot{p}_{2}\\\\\\ddot{q}_{1}\\\\\\ddot{q}_{2}\\end{matrix}\\right]$$"
       ],
       "metadata": {},
       "output_type": "display_data",
       "png": "[encoded data removed]",
       "text": [
        "\u23a1p\u0308\u2081\u23a4\n",
        "\u23a2   \u23a5\n",
        "\u23a2p\u0308\u2082\u23a5\n",
        "\u23a2   \u23a5\n",
        "\u23a2q\u0308\u2081\u23a5\n",
        "\u23a2   \u23a5\n",
        "\u23a3q\u0308\u2082\u23a6"
       ]
      },
      {
       "output_type": "stream",
       "stream": "stdout",
       "text": [
        "---\n"
       ]
      }
     ],
     "prompt_number": 3
    },
    {
     "cell_type": "code",
     "collapsed": false,
     "input": [
      "params = sp.symbols('m1, m2, m3, m4, s2, s4, l2, g')\n",
      "st.make_global(params, 1)\n",
      "\n",
      "tau1, tau2 = ttau = st.symb_vector('tau1, tau2')"
     ],
     "language": "python",
     "metadata": {},
     "outputs": [],
     "prompt_number": 4
    },
    {
     "cell_type": "markdown",
     "metadata": {},
     "source": [
      "### Festlegung der Geometrie des mechanischen Systemes"
     ]
    },
    {
     "cell_type": "code",
     "collapsed": false,
     "input": [
      "#Einheitsvektoren\n",
      "\n",
      "ex = sp.Matrix([1,0])\n",
      "ey = sp.Matrix([0,1])\n",
      "\n",
      "# Koordinaten der Schwerpunkte und Gelenke\n",
      "\n",
      "S1 = ex*q1 # Schwerpunkt Wagen\n",
      "G2 = S1 # Pendel-Gelenk\n",
      "# Schwerpunkt des Pendels (Pendel zeigt f\u00fcr kleine Winkel nach unten)\n",
      "S2 = G2 + Rz(p1)*(-ey)*s2\n",
      "\n",
      "\n",
      "S3 = G2 + Rz(p1)*(-ey)*(l2 + q2)\n",
      "S4 = S3 + Rz(p1+p2)*(-ey)*s4\n",
      "\n",
      "\n",
      "# Zeitableitungen der Schwerpunktskoordinaten\n",
      "Sd1, Sd2, Sd3, Sd4  = st.col_split(st.perform_time_derivative(st.col_stack(S1, S2, S3, S4), theta)) ##"
     ],
     "language": "python",
     "metadata": {},
     "outputs": [
      {
       "latex": [
        "$$\\left[\\begin{matrix}\\dot{q}_{1}\\\\0\\end{matrix}\\right]$$"
       ],
       "metadata": {},
       "output_type": "display_data",
       "png": "[encoded data removed]",
       "text": [
        "\u23a1q\u0307\u2081\u23a4\n",
        "\u23a2   \u23a5\n",
        "\u23a3 0 \u23a6"
       ]
      },
      {
       "latex": [
        "$$\\left[\\begin{matrix}\\dot{p}_{1} s_{2} \\cos{\\left (p_{1} \\right )} + \\dot{q}_{1}\\\\\\dot{p}_{1} s_{2} \\sin{\\left (p_{1} \\right )}\\end{matrix}\\right]$$"
       ],
       "metadata": {},
       "output_type": "display_data",
       "png": "[encoded data removed]",
       "text": [
        "\u23a1p\u0307\u2081\u22c5s\u2082\u22c5cos(p\u2081) + q\u0307\u2081\u23a4\n",
        "\u23a2                    \u23a5\n",
        "\u23a3   p\u0307\u2081\u22c5s\u2082\u22c5sin(p\u2081)   \u23a6"
       ]
      },
      {
       "latex": [
        "$$\\left[\\begin{matrix}\\dot{p}_{1} \\left(l_{2} + q_{2}\\right) \\cos{\\left (p_{1} \\right )} + \\dot{q}_{1} + \\dot{q}_{2} \\sin{\\left (p_{1} \\right )}\\\\\\dot{p}_{1} \\left(l_{2} + q_{2}\\right) \\sin{\\left (p_{1} \\right )} - \\dot{q}_{2} \\cos{\\left (p_{1} \\right )}\\end{matrix}\\right]$$"
       ],
       "metadata": {},
       "output_type": "display_data",
       "png": "[encoded data removed]",
       "text": [
        "\u23a1p\u0307\u2081\u22c5(l\u2082 + q\u2082)\u22c5cos(p\u2081) + q\u0307\u2081 + q\u0307\u2082\u22c5sin(p\u2081)\u23a4\n",
        "\u23a2                                         \u23a5\n",
        "\u23a3   p\u0307\u2081\u22c5(l\u2082 + q\u2082)\u22c5sin(p\u2081) - q\u0307\u2082\u22c5cos(p\u2081)   \u23a6"
       ]
      },
      {
       "latex": [
        "$$\\left[\\begin{matrix}\\dot{p}_{1} \\left(l_{2} + q_{2}\\right) \\cos{\\left (p_{1} \\right )} + \\dot{q}_{1} + \\dot{q}_{2} \\sin{\\left (p_{1} \\right )} + s_{4} \\left(\\dot{p}_{1} + \\dot{p}_{2}\\right) \\cos{\\left (p_{1} + p_{2} \\right )}\\\\\\dot{p}_{1} \\left(l_{2} + q_{2}\\right) \\sin{\\left (p_{1} \\right )} - \\dot{q}_{2} \\cos{\\left (p_{1} \\right )} + s_{4} \\left(\\dot{p}_{1} + \\dot{p}_{2}\\right) \\sin{\\left (p_{1} + p_{2} \\right )}\\end{matrix}\\right]$$"
       ],
       "metadata": {},
       "output_type": "display_data",
       "png": "[encoded data removed]",
       "text": [
        "\u23a1p\u0307\u2081\u22c5(l\u2082 + q\u2082)\u22c5cos(p\u2081) + q\u0307\u2081 + q\u0307\u2082\u22c5sin(p\u2081) + s\u2084\u22c5(p\u0307\u2081 + p\u0307\u2082)\u22c5cos(p\u2081 + p\u2082)\u23a4\n",
        "\u23a2                                                                       \u23a5\n",
        "\u23a3   p\u0307\u2081\u22c5(l\u2082 + q\u2082)\u22c5sin(p\u2081) - q\u0307\u2082\u22c5cos(p\u2081) + s\u2084\u22c5(p\u0307\u2081 + p\u0307\u2082)\u22c5sin(p\u2081 + p\u2082)   \u23a6"
       ]
      },
      {
       "output_type": "stream",
       "stream": "stdout",
       "text": [
        "---\n"
       ]
      }
     ],
     "prompt_number": 6
    },
    {
     "cell_type": "code",
     "collapsed": false,
     "input": [
      "# Energie\n",
      "T_rot = 0 # (Punktmassenmodell)\n",
      "T_trans = ( m1*Sd1.T*Sd1  +  m2*Sd2.T*Sd2 + m3*Sd3.T*Sd3 + m4*Sd4.T*Sd4 )/2\n",
      "\n",
      "T = T_rot + T_trans[0]\n",
      "\n",
      "V = m2*g*S2[1] + m3*g*S3[1] + m4*g*S4[1]##"
     ],
     "language": "python",
     "metadata": {},
     "outputs": [
      {
       "latex": [
        "$$- g m_{2} s_{2} \\cos{\\left (p_{1} \\right )} - g m_{3} \\left(l_{2} + q_{2}\\right) \\cos{\\left (p_{1} \\right )} + g m_{4} \\left(- s_{4} \\cos{\\left (p_{1} + p_{2} \\right )} - \\left(l_{2} + q_{2}\\right) \\cos{\\left (p_{1} \\right )}\\right)$$"
       ],
       "metadata": {},
       "output_type": "display_data",
       "png": "[encoded data removed]",
       "text": [
        "-g\u22c5m\u2082\u22c5s\u2082\u22c5cos(p\u2081) - g\u22c5m\u2083\u22c5(l\u2082 + q\u2082)\u22c5cos(p\u2081) + g\u22c5m\u2084\u22c5(-s\u2084\u22c5cos(p\u2081 + p\u2082) - (l\u2082 + q\u2082)\n",
        "\u22c5cos(p\u2081))"
       ]
      },
      {
       "output_type": "stream",
       "stream": "stdout",
       "text": [
        "---\n"
       ]
      }
     ],
     "prompt_number": 7
    },
    {
     "cell_type": "code",
     "collapsed": false,
     "input": [
      "mod = mt.generate_symbolic_model(T, V, theta, [0, 0, tau1, tau2])"
     ],
     "language": "python",
     "metadata": {},
     "outputs": [],
     "prompt_number": 8
    },
    {
     "cell_type": "code",
     "collapsed": false,
     "input": [
      "mod.MM.simplify()\n",
      "mod.MM"
     ],
     "language": "python",
     "metadata": {},
     "outputs": [
      {
       "latex": [
        "$$\\left[\\begin{matrix}l_{2}^{2} m_{3} + l_{2}^{2} m_{4} + 2 l_{2} m_{3} q_{2} + 2 l_{2} m_{4} q_{2} + 2 l_{2} m_{4} s_{4} \\cos{\\left (p_{2} \\right )} + m_{2} s_{2}^{2} + m_{3} q_{2}^{2} + m_{4} q_{2}^{2} + 2 m_{4} q_{2} s_{4} \\cos{\\left (p_{2} \\right )} + m_{4} s_{4}^{2} & m_{4} s_{4} \\left(l_{2} \\cos{\\left (p_{2} \\right )} + q_{2} \\cos{\\left (p_{2} \\right )} + s_{4}\\right) & m_{2} s_{2} \\cos{\\left (p_{1} \\right )} + m_{3} \\left(l_{2} + q_{2}\\right) \\cos{\\left (p_{1} \\right )} + m_{4} \\left(s_{4} \\cos{\\left (p_{1} + p_{2} \\right )} + \\left(l_{2} + q_{2}\\right) \\cos{\\left (p_{1} \\right )}\\right) & - m_{4} s_{4} \\sin{\\left (p_{2} \\right )}\\\\m_{4} s_{4} \\left(l_{2} \\cos{\\left (p_{2} \\right )} + q_{2} \\cos{\\left (p_{2} \\right )} + s_{4}\\right) & m_{4} s_{4}^{2} & m_{4} s_{4} \\cos{\\left (p_{1} + p_{2} \\right )} & - m_{4} s_{4} \\sin{\\left (p_{2} \\right )}\\\\m_{2} s_{2} \\cos{\\left (p_{1} \\right )} + m_{3} \\left(l_{2} + q_{2}\\right) \\cos{\\left (p_{1} \\right )} + m_{4} \\left(s_{4} \\cos{\\left (p_{1} + p_{2} \\right )} + \\left(l_{2} + q_{2}\\right) \\cos{\\left (p_{1} \\right )}\\right) & m_{4} s_{4} \\cos{\\left (p_{1} + p_{2} \\right )} & m_{1} + m_{2} + m_{3} + m_{4} & \\left(m_{3} + m_{4}\\right) \\sin{\\left (p_{1} \\right )}\\\\- m_{4} s_{4} \\sin{\\left (p_{2} \\right )} & - m_{4} s_{4} \\sin{\\left (p_{2} \\right )} & \\left(m_{3} + m_{4}\\right) \\sin{\\left (p_{1} \\right )} & m_{3} + m_{4}\\end{matrix}\\right]$$"
       ],
       "metadata": {},
       "output_type": "pyout",
       "png": "[encoded data removed]",
       "prompt_number": 9,
       "text": [
        "\u23a1  2        2                                                          2      \n",
        "\u23a2l\u2082 \u22c5m\u2083 + l\u2082 \u22c5m\u2084 + 2\u22c5l\u2082\u22c5m\u2083\u22c5q\u2082 + 2\u22c5l\u2082\u22c5m\u2084\u22c5q\u2082 + 2\u22c5l\u2082\u22c5m\u2084\u22c5s\u2084\u22c5cos(p\u2082) + m\u2082\u22c5s\u2082  + m\u2083\u22c5\n",
        "\u23a2                                                                             \n",
        "\u23a2                                                                             \n",
        "\u23a2                                         m\u2084\u22c5s\u2084\u22c5(l\u2082\u22c5cos(p\u2082) + q\u2082\u22c5cos(p\u2082) + s\u2084)\n",
        "\u23a2                                                                             \n",
        "\u23a2                    m\u2082\u22c5s\u2082\u22c5cos(p\u2081) + m\u2083\u22c5(l\u2082 + q\u2082)\u22c5cos(p\u2081) + m\u2084\u22c5(s\u2084\u22c5cos(p\u2081 + p\u2082\n",
        "\u23a2                                                                             \n",
        "\u23a3                                                    -m\u2084\u22c5s\u2084\u22c5sin(p\u2082)           \n",
        "\n",
        "  2        2                             2                                    \n",
        "q\u2082  + m\u2084\u22c5q\u2082  + 2\u22c5m\u2084\u22c5q\u2082\u22c5s\u2084\u22c5cos(p\u2082) + m\u2084\u22c5s\u2084   m\u2084\u22c5s\u2084\u22c5(l\u2082\u22c5cos(p\u2082) + q\u2082\u22c5cos(p\u2082) + s\n",
        "                                                                              \n",
        "                                                                2             \n",
        "                                                           m\u2084\u22c5s\u2084              \n",
        "                                                                              \n",
        ") + (l\u2082 + q\u2082)\u22c5cos(p\u2081))                               m\u2084\u22c5s\u2084\u22c5cos(p\u2081 + p\u2082)       \n",
        "                                                                              \n",
        "                                                       -m\u2084\u22c5s\u2084\u22c5sin(p\u2082)         \n",
        "\n",
        "                                                                              \n",
        "\u2084)  m\u2082\u22c5s\u2082\u22c5cos(p\u2081) + m\u2083\u22c5(l\u2082 + q\u2082)\u22c5cos(p\u2081) + m\u2084\u22c5(s\u2084\u22c5cos(p\u2081 + p\u2082) + (l\u2082 + q\u2082)\u22c5cos\n",
        "                                                                              \n",
        "                                                                              \n",
        "                                  m\u2084\u22c5s\u2084\u22c5cos(p\u2081 + p\u2082)                          \n",
        "                                                                              \n",
        "                                   m\u2081 + m\u2082 + m\u2083 + m\u2084                          \n",
        "                                                                              \n",
        "                                   (m\u2083 + m\u2084)\u22c5sin(p\u2081)                          \n",
        "\n",
        "                        \u23a4\n",
        "(p\u2081))   -m\u2084\u22c5s\u2084\u22c5sin(p\u2082)  \u23a5\n",
        "                        \u23a5\n",
        "                        \u23a5\n",
        "        -m\u2084\u22c5s\u2084\u22c5sin(p\u2082)  \u23a5\n",
        "                        \u23a5\n",
        "       (m\u2083 + m\u2084)\u22c5sin(p\u2081)\u23a5\n",
        "                        \u23a5\n",
        "            m\u2083 + m\u2084     \u23a6"
       ]
      }
     ],
     "prompt_number": 9
    },
    {
     "cell_type": "markdown",
     "metadata": {},
     "source": [
      "### Bestimmung der partiell lineariserten Systemgleichungen"
     ]
    },
    {
     "cell_type": "code",
     "collapsed": false,
     "input": [
      "if 0:\n",
      "    mod.calc_coll_part_lin_state_eq(simplify=True)\n",
      "    f = mod.ff ##:\n",
      "    G = mod.gg ##:\n",
      "    xx = mod.x ##:\n",
      "    g1 = st.col_split(G)"
     ],
     "language": "python",
     "metadata": {},
     "outputs": [],
     "prompt_number": 11
    },
    {
     "cell_type": "markdown",
     "metadata": {},
     "source": [
      "### Auswertung der Ruled-Manifold-Bedingung auf Basis der LBI-NF"
     ]
    },
    {
     "cell_type": "code",
     "collapsed": false,
     "input": [
      "mod.calc_lbi_nf_state_eq()"
     ],
     "language": "python",
     "metadata": {},
     "outputs": [],
     "prompt_number": 12
    },
    {
     "cell_type": "code",
     "collapsed": false,
     "input": [
      "#mod.fz = mod.fz.expand()\n",
      "\n",
      "mod.fz.co ##\n",
      "mod.gz ##"
     ],
     "language": "python",
     "metadata": {},
     "outputs": [
      {
       "latex": [
        "$$\\left[\\begin{matrix}1\\\\1\\\\0\\\\0\\\\277\\\\348\\\\19625\\\\21394\\end{matrix}\\right]$$"
       ],
       "metadata": {},
       "output_type": "display_data",
       "png": "[encoded data removed]",
       "text": [
        "\u23a1  1  \u23a4\n",
        "\u23a2     \u23a5\n",
        "\u23a2  1  \u23a5\n",
        "\u23a2     \u23a5\n",
        "\u23a2  0  \u23a5\n",
        "\u23a2     \u23a5\n",
        "\u23a2  0  \u23a5\n",
        "\u23a2     \u23a5\n",
        "\u23a2 277 \u23a5\n",
        "\u23a2     \u23a5\n",
        "\u23a2 348 \u23a5\n",
        "\u23a2     \u23a5\n",
        "\u23a219625\u23a5\n",
        "\u23a2     \u23a5\n",
        "\u23a321394\u23a6"
       ]
      },
      {
       "output_type": "stream",
       "stream": "stdout",
       "text": [
        "___\n"
       ]
      },
      {
       "latex": [
        "$$\\left[\\begin{matrix}0 & 0\\\\0 & 0\\\\1 & 0\\\\0 & 1\\\\0 & 0\\\\0 & 0\\\\0 & 0\\\\0 & 0\\end{matrix}\\right]$$"
       ],
       "metadata": {},
       "output_type": "display_data",
       "png": "[encoded data removed]",
       "text": [
        "\u23a10  0\u23a4\n",
        "\u23a2    \u23a5\n",
        "\u23a20  0\u23a5\n",
        "\u23a2    \u23a5\n",
        "\u23a21  0\u23a5\n",
        "\u23a2    \u23a5\n",
        "\u23a20  1\u23a5\n",
        "\u23a2    \u23a5\n",
        "\u23a20  0\u23a5\n",
        "\u23a2    \u23a5\n",
        "\u23a20  0\u23a5\n",
        "\u23a2    \u23a5\n",
        "\u23a20  0\u23a5\n",
        "\u23a2    \u23a5\n",
        "\u23a30  0\u23a6"
       ]
      },
      {
       "output_type": "stream",
       "stream": "stdout",
       "text": [
        "___\n"
       ]
      }
     ],
     "prompt_number": 13
    },
    {
     "cell_type": "code",
     "collapsed": false,
     "input": [
      "mod.zz.T"
     ],
     "language": "python",
     "metadata": {},
     "outputs": [
      {
       "latex": [
        "$$\\left[\\begin{matrix}q_{1} & q_{2} & \\dot{q}_{1} & \\dot{q}_{2} & p_{1} & p_{2} & w_{1} & w_{2}\\end{matrix}\\right]$$"
       ],
       "metadata": {},
       "output_type": "pyout",
       "png": "[encoded data removed]",
       "prompt_number": 14,
       "text": [
        "[q\u2081  q\u2082  q\u0307\u2081  q\u0307\u2082  p\u2081  p\u2082  w\u2081  w\u2082]"
       ]
      }
     ],
     "prompt_number": 14
    },
    {
     "cell_type": "code",
     "collapsed": false,
     "input": [
      "# Vektor der aktiven Geschwindigkeiten\n",
      "vv = mu[np:, :] ##\n",
      "\n",
      "# Entscheidender Teil des Driftvektorfeldes\n",
      "fz4 = mod.fz[-np:, :]"
     ],
     "language": "python",
     "metadata": {},
     "outputs": [
      {
       "latex": [
        "$$\\left[\\begin{matrix}\\dot{q}_{1}\\\\\\dot{q}_{2}\\end{matrix}\\right]$$"
       ],
       "metadata": {},
       "output_type": "display_data",
       "png": "[encoded data removed]",
       "text": [
        "\u23a1q\u0307\u2081\u23a4\n",
        "\u23a2   \u23a5\n",
        "\u23a3q\u0307\u2082\u23a6"
       ]
      },
      {
       "output_type": "stream",
       "stream": "stdout",
       "text": [
        "---\n"
       ]
      }
     ],
     "prompt_number": 15
    },
    {
     "cell_type": "code",
     "collapsed": false,
     "input": [
      "H1 = sp.hessian(fz4[0], vv)\n",
      "H2 = sp.hessian(fz4[1], vv)\n",
      "\n",
      "H1.co ##\n",
      "H2.co ##"
     ],
     "language": "python",
     "metadata": {},
     "outputs": [
      {
       "latex": [
        "$$\\left[\\begin{matrix}7296 & 11945\\\\11945 & 8168\\end{matrix}\\right]$$"
       ],
       "metadata": {},
       "output_type": "display_data",
       "png": "[encoded data removed]",
       "text": [
        "\u23a17296   11945\u23a4\n",
        "\u23a2            \u23a5\n",
        "\u23a311945  8168 \u23a6"
       ]
      },
      {
       "output_type": "stream",
       "stream": "stdout",
       "text": [
        "___\n"
       ]
      },
      {
       "latex": [
        "$$\\left[\\begin{matrix}7848 & 12986\\\\12986 & 8694\\end{matrix}\\right]$$"
       ],
       "metadata": {},
       "output_type": "display_data",
       "png": "[encoded data removed]",
       "text": [
        "\u23a17848   12986\u23a4\n",
        "\u23a2            \u23a5\n",
        "\u23a312986  8694 \u23a6"
       ]
      },
      {
       "output_type": "stream",
       "stream": "stdout",
       "text": [
        "___\n"
       ]
      }
     ],
     "prompt_number": 16
    },
    {
     "cell_type": "code",
     "collapsed": false,
     "input": [
      "rnst = st.rnd_number_subs_tuples(H1 + H2, seed=1129)\n",
      "h1 = H1.subs(rnst) ##\n",
      "h2 = H2.subs(rnst) ##"
     ],
     "language": "python",
     "metadata": {},
     "outputs": [
      {
       "latex": [
        "$$\\left[\\begin{matrix}0.389219642399803826676471122849472747197672018826252627202078022692364370330698313121431233972021407 & 0.9336075271254361613131512000055023192386174201809091644608382672081683558585553857639726226405630477\\\\0.9336075271254361613131512000055023192386174201809091644608382672081683558585553857639726226405630477 & 0.1782168993148725766366593448137753831091967939088055781991005869396987828991054836372364182521029362\\end{matrix}\\right]$$"
       ],
       "metadata": {},
       "output_type": "display_data",
       "png": "[encoded data removed]",
       "text": [
        "\u23a10.389219642399803826676471122849472747197672018826252627202078022692364370330\n",
        "\u23a2                                                                             \n",
        "\u23a30.933607527125436161313151200005502319238617420180909164460838267208168355858\n",
        "\n",
        "698313121431233972021407   0.9336075271254361613131512000055023192386174201809\n",
        "                                                                              \n",
        "5553857639726226405630477  0.1782168993148725766366593448137753831091967939088\n",
        "\n",
        "091644608382672081683558585553857639726226405630477\u23a4\n",
        "                                                   \u23a5\n",
        "055781991005869396987828991054836372364182521029362\u23a6"
       ]
      },
      {
       "output_type": "stream",
       "stream": "stdout",
       "text": [
        "---\n"
       ]
      },
      {
       "latex": [
        "$$\\left[\\begin{matrix}-0.9029147550335759310680892620037865789234443848433014835574488097239425175519943857134420858143346497 & -2.260177116223137990341534641251490433377788110725824936192366705297152368762336359692984074312337842\\\\-2.260177116223137990341534641251490433377788110725824936192366705297152368762336359692984074312337842 & -1.241212210016102883644465409435350998271772633936804296556255346032081916438502796283132778676760124\\end{matrix}\\right]$$"
       ],
       "metadata": {},
       "output_type": "display_data",
       "png": "[encoded data removed]",
       "text": [
        "\u23a1-0.90291475503357593106808926200378657892344438484330148355744880972394251755\n",
        "\u23a2                                                                             \n",
        "\u23a3-2.26017711622313799034153464125149043337778811072582493619236670529715236876\n",
        "\n",
        "19943857134420858143346497  -2.26017711622313799034153464125149043337778811072\n",
        "                                                                              \n",
        "2336359692984074312337842   -1.24121221001610288364446540943535099827177263393\n",
        "\n",
        "5824936192366705297152368762336359692984074312337842\u23a4\n",
        "                                                    \u23a5\n",
        "6804296556255346032081916438502796283132778676760124\u23a6"
       ]
      },
      {
       "output_type": "stream",
       "stream": "stdout",
       "text": [
        "---\n"
       ]
      }
     ],
     "prompt_number": 17
    },
    {
     "cell_type": "code",
     "collapsed": false,
     "input": [
      "st.sorted_eigenvalues(h1) ##\n",
      "st.sorted_eigenvalues(h2) ##"
     ],
     "language": "python",
     "metadata": {},
     "outputs": [
      {
       "latex": [
        "$$\\left [ 1.22326792579986, \\quad -0.655831384085184\\right ]$$"
       ],
       "metadata": {},
       "output_type": "display_data",
       "png": "[encoded data removed]",
       "text": [
        "[1.22326792579986, -0.655831384085184]"
       ]
      },
      {
       "output_type": "stream",
       "stream": "stdout",
       "text": [
        "___\n"
       ]
      },
      {
       "latex": [
        "$$\\left [ 1.19443423172741, \\quad -3.33856119677709\\right ]$$"
       ],
       "metadata": {},
       "output_type": "display_data",
       "png": "[encoded data removed]",
       "text": [
        "[1.19443423172741, -3.33856119677709]"
       ]
      },
      {
       "output_type": "stream",
       "stream": "stdout",
       "text": [
        "___\n"
       ]
      }
     ],
     "prompt_number": 18
    },
    {
     "cell_type": "code",
     "collapsed": false,
     "input": [
      "\n",
      "L11, L12 = st.sorted_eigenvalues(h1)\n",
      "V1 = st.sorted_eigenvector_matrix(h1)\n",
      "\n",
      "L21, L22 = st.sorted_eigenvalues(h2)\n",
      "V2 = st.sorted_eigenvector_matrix(h2)"
     ],
     "language": "python",
     "metadata": {},
     "outputs": [],
     "prompt_number": 19
    },
    {
     "cell_type": "code",
     "collapsed": false,
     "input": [
      "# Auswertung der Rang-Bedingung\n",
      "for alpha, beta in [(1, 1), (-1, 1), (1, -1), (-1, -1)]:\n",
      "    column1 = V1*Matrix([alpha*sqrt(-L12), sqrt(L11)])\n",
      "    column2 = V2*Matrix([ beta*sqrt(-L22), sqrt(L21)])\n",
      "    test_matrix = st.col_stack(column1, column2)\n",
      "    \n",
      "    print \"D_{%s, %s} \u2248  %1.4f\" %(alpha, beta, test_matrix.det())"
     ],
     "language": "python",
     "metadata": {},
     "outputs": [
      {
       "output_type": "stream",
       "stream": "stdout",
       "text": [
        "D_{1, 1} \u2248  0.5414\n",
        "D_{-1, 1} \u2248  -2.5705\n",
        "D_{1, -1} \u2248  -2.7829\n",
        "D_{-1, -1} \u2248  -0.0019\n"
       ]
      }
     ],
     "prompt_number": 23
    }
   ],
   "metadata": {}
  }
 ]
}