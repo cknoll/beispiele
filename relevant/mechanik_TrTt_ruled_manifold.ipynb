{
 "metadata": {
  "name": "",
  "signature": "sha256:0ca02c42f6a587d511ce2ab7534e439172116cfdec354d061d8f3522cbbee049"
 },
 "nbformat": 3,
 "nbformat_minor": 0,
 "worksheets": [
  {
   "cells": [
    {
     "cell_type": "code",
     "collapsed": false,
     "input": [
      "import time\n",
      "print time.ctime()\n",
      "%load_ext displaytools"
     ],
     "language": "python",
     "metadata": {},
     "outputs": [
      {
       "output_type": "stream",
       "stream": "stdout",
       "text": [
        "Wed Jan 20 09:50:34 2016\n"
       ]
      }
     ],
     "prompt_number": 9
    },
    {
     "cell_type": "markdown",
     "metadata": {},
     "source": [
      "**Betrachtetes System**: Pendel mit horizontal verschieblicher Aufh\u00e4ngung (\"Wagen-Pendel-System\"). auf dem Pendel ist ein aktuiertes Schubgelenk und daran ein elastisches Schubgelenk\n",
      "\n",
      "\ufffc <img src=\"files/images/pendel_wagen.png1\">\n",
      "<span style=\"color:red;\">(Bild nicht aktuell)</span>\n",
      "\n",
      "**Betrachtete Fragen**:\n",
      "* Herleitung der Modellgleichungen\n",
      "    * partiell linearisiert\n",
      "    * LBI-NF \n",
      "* Anwendung der Ruled-Manifold-Bedingung zum Nachweis der Nichtflachheit\n",
      "\n",
      "\n",
      "\n",
      "[//]: # (custom_config_start)\n",
      "$$\n",
      "\\newcommand{\\col}{\\mathrm{col}}\n",
      "\\newcommand{\\bs}{\\boldsymbol}\n",
      "$$\n",
      "[//]: # (custom_config_end)"
     ]
    },
    {
     "cell_type": "code",
     "collapsed": false,
     "input": [
      "import sympy as sp\n",
      "from sympy import sin, cos, pi\n",
      "from sympy.interactive import printing\n",
      "import model_tools as mt\n",
      "from model_tools import Rz\n",
      "import symb_tools as st\n",
      "\n",
      "import pycartan as pc\n",
      "zip0 = st.zip0\n",
      "printing.init_printing(1)"
     ],
     "language": "python",
     "metadata": {},
     "outputs": [],
     "prompt_number": 1
    },
    {
     "cell_type": "code",
     "collapsed": false,
     "input": [
      "t = sp.Symbol('t')\n",
      "np = 2\n",
      "nq = 2\n",
      "n = np + nq\n",
      "pp = st.symb_vector(\"p1:{0}\".format(np+1))\n",
      "qq = st.symb_vector(\"q1:{0}\".format(nq+1))\n",
      "aa = st.symb_vector(\"a1:{0}\".format(nq+1))\n",
      "ww = st.symb_vector(\"w1:{0}\".format(nq+1))\n",
      "\n",
      "theta = st.row_stack(pp, qq) ##\n",
      "mu = st.perform_time_derivative(theta, theta) ##\n",
      "mud = st.perform_time_derivative(theta, theta, order=2) ##\n",
      "st.make_global(theta, 1)\n",
      "st.make_global(mu, 1)"
     ],
     "language": "python",
     "metadata": {},
     "outputs": [],
     "prompt_number": 2
    },
    {
     "cell_type": "code",
     "collapsed": false,
     "input": [
      "params = sp.symbols('m1, m2, m3, m4, s2, s4, l2, c, g')\n",
      "st.make_global(params, 1)\n",
      "\n",
      "tau1, tau2 = ttau = st.symb_vector('tau1, tau2')"
     ],
     "language": "python",
     "metadata": {},
     "outputs": [],
     "prompt_number": 6
    },
    {
     "cell_type": "markdown",
     "metadata": {},
     "source": [
      "### Festlegung der Geometrie des mechanischen Systemes"
     ]
    },
    {
     "cell_type": "code",
     "collapsed": false,
     "input": [
      "#Einheitsvektoren\n",
      "\n",
      "ex = sp.Matrix([1,0])\n",
      "ey = sp.Matrix([0,1])\n",
      "\n",
      "# Koordinaten der Schwerpunkte und Gelenke\n",
      "\n",
      "S1 = ex*q1 # Schwerpunkt Wagen\n",
      "G2 = S1 # Pendel-Gelenk\n",
      "# Schwerpunkt des Pendels (Pendel zeigt f\u00fcr kleine Winkel nach unten)\n",
      "S2 = G2 + Rz(p1)*(-ey)*s2\n",
      "\n",
      "\n",
      "S3 = G2 + Rz(p1)*(-ey)*(l2 + q2)\n",
      "S4 = G2 + Rz(p1)*(-ey)*(l2 + q2 + p2)\n",
      "\n",
      "\n",
      "# Zeitableitungen der Schwerpunktskoordinaten\n",
      "Sd1, Sd2, Sd3, Sd4  = st.col_split(st.perform_time_derivative(st.col_stack(S1, S2, S3, S4), theta)) ##"
     ],
     "language": "python",
     "metadata": {},
     "outputs": [],
     "prompt_number": 7
    },
    {
     "cell_type": "code",
     "collapsed": false,
     "input": [
      "# Energie\n",
      "T_rot = 0 # (Punktmassenmodell)\n",
      "T_trans = ( m1*Sd1.T*Sd1  +  m2*Sd2.T*Sd2 + m3*Sd3.T*Sd3 + m4*Sd4.T*Sd4 )/2\n",
      "\n",
      "T = T_rot + T_trans[0]\n",
      "\n",
      "V = m2*g*S2[1] + m3*g*S3[1] + m4*g*S4[1] + c/2*p2**2##"
     ],
     "language": "python",
     "metadata": {},
     "outputs": [
      {
       "latex": [
        "$$\\frac{c p_{2}^{2}}{2} - g m_{2} s_{2} \\cos{\\left (p_{1} \\right )} - g m_{3} \\left(l_{2} + q_{2}\\right) \\cos{\\left (p_{1} \\right )} - g m_{4} \\left(l_{2} + p_{2} + q_{2}\\right) \\cos{\\left (p_{1} \\right )}$$"
       ],
       "metadata": {},
       "output_type": "display_data",
       "png": "[encoded data removed]",
       "text": [
        "    2                                                                         \n",
        "c\u22c5p\u2082                                                                          \n",
        "\u2500\u2500\u2500\u2500\u2500 - g\u22c5m\u2082\u22c5s\u2082\u22c5cos(p\u2081) - g\u22c5m\u2083\u22c5(l\u2082 + q\u2082)\u22c5cos(p\u2081) - g\u22c5m\u2084\u22c5(l\u2082 + p\u2082 + q\u2082)\u22c5cos(p\u2081)\n",
        "  2                                                                           "
       ]
      },
      {
       "output_type": "stream",
       "stream": "stdout",
       "text": [
        "---\n"
       ]
      }
     ],
     "prompt_number": 11
    },
    {
     "cell_type": "code",
     "collapsed": false,
     "input": [
      "mod = mt.generate_symbolic_model(T, V, theta, [0, 0, tau1, tau2])"
     ],
     "language": "python",
     "metadata": {},
     "outputs": [],
     "prompt_number": 12
    },
    {
     "cell_type": "code",
     "collapsed": false,
     "input": [
      "mod.MM.simplify()\n",
      "mod.MM"
     ],
     "language": "python",
     "metadata": {},
     "outputs": [
      {
       "latex": [
        "$$\\left[\\begin{matrix}l_{2}^{2} m_{3} + l_{2}^{2} m_{4} + 2 l_{2} m_{3} q_{2} + 2 l_{2} m_{4} p_{2} + 2 l_{2} m_{4} q_{2} + m_{2} s_{2}^{2} + m_{3} q_{2}^{2} + m_{4} p_{2}^{2} + 2 m_{4} p_{2} q_{2} + m_{4} q_{2}^{2} & 0 & \\left(m_{2} s_{2} + m_{3} \\left(l_{2} + q_{2}\\right) + m_{4} \\left(l_{2} + p_{2} + q_{2}\\right)\\right) \\cos{\\left (p_{1} \\right )} & 0\\\\0 & m_{4} & m_{4} \\sin{\\left (p_{1} \\right )} & m_{4}\\\\\\left(m_{2} s_{2} + m_{3} \\left(l_{2} + q_{2}\\right) + m_{4} \\left(l_{2} + p_{2} + q_{2}\\right)\\right) \\cos{\\left (p_{1} \\right )} & m_{4} \\sin{\\left (p_{1} \\right )} & m_{1} + m_{2} + m_{3} + m_{4} & \\left(m_{3} + m_{4}\\right) \\sin{\\left (p_{1} \\right )}\\\\0 & m_{4} & \\left(m_{3} + m_{4}\\right) \\sin{\\left (p_{1} \\right )} & m_{3} + m_{4}\\end{matrix}\\right]$$"
       ],
       "metadata": {},
       "output_type": "pyout",
       "png": "[encoded data removed]",
       "prompt_number": 13,
       "text": [
        "\u23a1  2        2                                                  2        2     \n",
        "\u23a2l\u2082 \u22c5m\u2083 + l\u2082 \u22c5m\u2084 + 2\u22c5l\u2082\u22c5m\u2083\u22c5q\u2082 + 2\u22c5l\u2082\u22c5m\u2084\u22c5p\u2082 + 2\u22c5l\u2082\u22c5m\u2084\u22c5q\u2082 + m\u2082\u22c5s\u2082  + m\u2083\u22c5q\u2082  + m\u2084\n",
        "\u23a2                                                                             \n",
        "\u23a2                                                   0                         \n",
        "\u23a2                                                                             \n",
        "\u23a2                          (m\u2082\u22c5s\u2082 + m\u2083\u22c5(l\u2082 + q\u2082) + m\u2084\u22c5(l\u2082 + p\u2082 + q\u2082))\u22c5cos(p\u2081) \n",
        "\u23a2                                                                             \n",
        "\u23a3                                                   0                         \n",
        "\n",
        "   2                     2                                                    \n",
        "\u22c5p\u2082  + 2\u22c5m\u2084\u22c5p\u2082\u22c5q\u2082 + m\u2084\u22c5q\u2082       0       (m\u2082\u22c5s\u2082 + m\u2083\u22c5(l\u2082 + q\u2082) + m\u2084\u22c5(l\u2082 + p\u2082 + \n",
        "                                                                              \n",
        "                                m\u2084                          m\u2084\u22c5sin(p\u2081)        \n",
        "                                                                              \n",
        "                            m\u2084\u22c5sin(p\u2081)                  m\u2081 + m\u2082 + m\u2083 + m\u2084     \n",
        "                                                                              \n",
        "                                m\u2084                      (m\u2083 + m\u2084)\u22c5sin(p\u2081)     \n",
        "\n",
        "                               \u23a4\n",
        "q\u2082))\u22c5cos(p\u2081)          0        \u23a5\n",
        "                               \u23a5\n",
        "                     m\u2084        \u23a5\n",
        "                               \u23a5\n",
        "              (m\u2083 + m\u2084)\u22c5sin(p\u2081)\u23a5\n",
        "                               \u23a5\n",
        "                   m\u2083 + m\u2084     \u23a6"
       ]
      }
     ],
     "prompt_number": 13
    },
    {
     "cell_type": "markdown",
     "metadata": {},
     "source": [
      "### Bestimmung der partiell lineariserten Systemgleichungen"
     ]
    },
    {
     "cell_type": "code",
     "collapsed": false,
     "input": [
      "mod.calc_coll_part_lin_state_eq(simplify=True)"
     ],
     "language": "python",
     "metadata": {},
     "outputs": [],
     "prompt_number": 14
    },
    {
     "cell_type": "code",
     "collapsed": false,
     "input": [
      "f = mod.ff ##:\n",
      "G = mod.gg ##:\n",
      "xx = mod.x ##:\n",
      "g1 = st.col_split(G)"
     ],
     "language": "python",
     "metadata": {},
     "outputs": [
      {
       "latex": [
        "f := $$\\left[\\begin{matrix}\\dot{p}_{1}\\\\\\dot{p}_{2}\\\\\\dot{q}_{1}\\\\\\dot{q}_{2}\\\\- \\frac{1}{l_{2}^{2} m_{3} + l_{2}^{2} m_{4} + 2 l_{2} m_{3} q_{2} + 2 l_{2} m_{4} p_{2} + 2 l_{2} m_{4} q_{2} + m_{2} s_{2}^{2} + m_{3} q_{2}^{2} + m_{4} p_{2}^{2} + 2 m_{4} p_{2} q_{2} + m_{4} q_{2}^{2}} \\left(g l_{2} m_{3} \\sin{\\left (p_{1} \\right )} + g l_{2} m_{4} \\sin{\\left (p_{1} \\right )} + g m_{2} s_{2} \\sin{\\left (p_{1} \\right )} + g m_{3} q_{2} \\sin{\\left (p_{1} \\right )} + g m_{4} p_{2} \\sin{\\left (p_{1} \\right )} + g m_{4} q_{2} \\sin{\\left (p_{1} \\right )} + 2 l_{2} m_{3} \\dot{p}_{1} \\dot{q}_{2} + 2 l_{2} m_{4} \\dot{p}_{1} \\dot{p}_{2} + 2 l_{2} m_{4} \\dot{p}_{1} \\dot{q}_{2} + 2 m_{3} \\dot{p}_{1} q_{2} \\dot{q}_{2} + 2 m_{4} p_{2} \\dot{p}_{1} \\dot{p}_{2} + 2 m_{4} p_{2} \\dot{p}_{1} \\dot{q}_{2} + 2 m_{4} \\dot{p}_{1} \\dot{p}_{2} q_{2} + 2 m_{4} \\dot{p}_{1} q_{2} \\dot{q}_{2}\\right)\\\\- \\frac{c p_{2}}{m_{4}} + g \\cos{\\left (p_{1} \\right )} + l_{2} \\dot{p}_{1}^{2} + p_{2} \\dot{p}_{1}^{2} + \\dot{p}_{1}^{2} q_{2}\\\\0\\\\0\\end{matrix}\\right]$$"
       ],
       "metadata": {},
       "output_type": "display_data",
       "png": "[encoded data removed]",
       "text": [
        "f := \u23a1                                                                             \n",
        "\u23a2                                                                             \n",
        "\u23a2                                                                             \n",
        "\u23a2                                                                             \n",
        "\u23a2                                                                             \n",
        "\u23a2                                                                             \n",
        "\u23a2                                                                             \n",
        "\u23a2                                                                             \n",
        "\u23a2-(g\u22c5l\u2082\u22c5m\u2083\u22c5sin(p\u2081) + g\u22c5l\u2082\u22c5m\u2084\u22c5sin(p\u2081) + g\u22c5m\u2082\u22c5s\u2082\u22c5sin(p\u2081) + g\u22c5m\u2083\u22c5q\u2082\u22c5sin(p\u2081) + g\u22c5m\n",
        "\u23a2\u2500\u2500\u2500\u2500\u2500\u2500\u2500\u2500\u2500\u2500\u2500\u2500\u2500\u2500\u2500\u2500\u2500\u2500\u2500\u2500\u2500\u2500\u2500\u2500\u2500\u2500\u2500\u2500\u2500\u2500\u2500\u2500\u2500\u2500\u2500\u2500\u2500\u2500\u2500\u2500\u2500\u2500\u2500\u2500\u2500\u2500\u2500\u2500\u2500\u2500\u2500\u2500\u2500\u2500\u2500\u2500\u2500\u2500\u2500\u2500\u2500\u2500\u2500\u2500\u2500\u2500\u2500\u2500\u2500\u2500\u2500\u2500\u2500\u2500\u2500\u2500\u2500\n",
        "\u23a2                                                                             \n",
        "\u23a2                                                                           l\u2082\n",
        "\u23a2                                                                             \n",
        "\u23a2                                                                             \n",
        "\u23a2                                                                             \n",
        "\u23a2                                                                             \n",
        "\u23a2                                                                             \n",
        "\u23a2                                                                             \n",
        "\u23a2                                                                             \n",
        "\u23a3                                                                             \n",
        "\n",
        "                                                p\u0307\u2081                           \n",
        "                                                                              \n",
        "                                                p\u0307\u2082                           \n",
        "                                                                              \n",
        "                                                q\u0307\u2081                           \n",
        "                                                                              \n",
        "                                                q\u0307\u2082                           \n",
        "                                                                              \n",
        "\u2084\u22c5p\u2082\u22c5sin(p\u2081) + g\u22c5m\u2084\u22c5q\u2082\u22c5sin(p\u2081) + 2\u22c5l\u2082\u22c5m\u2083\u22c5p\u0307\u2081\u22c5q\u0307\u2082 + 2\u22c5l\u2082\u22c5m\u2084\u22c5p\u0307\u2081\u22c5p\u0307\u2082 + 2\u22c5l\u2082\u22c5m\u2084\u22c5p\n",
        "\u2500\u2500\u2500\u2500\u2500\u2500\u2500\u2500\u2500\u2500\u2500\u2500\u2500\u2500\u2500\u2500\u2500\u2500\u2500\u2500\u2500\u2500\u2500\u2500\u2500\u2500\u2500\u2500\u2500\u2500\u2500\u2500\u2500\u2500\u2500\u2500\u2500\u2500\u2500\u2500\u2500\u2500\u2500\u2500\u2500\u2500\u2500\u2500\u2500\u2500\u2500\u2500\u2500\u2500\u2500\u2500\u2500\u2500\u2500\u2500\u2500\u2500\u2500\u2500\u2500\u2500\u2500\u2500\u2500\u2500\u2500\u2500\u2500\u2500\u2500\u2500\u2500\u2500\n",
        "2        2                                                  2        2        \n",
        " \u22c5m\u2083 + l\u2082 \u22c5m\u2084 + 2\u22c5l\u2082\u22c5m\u2083\u22c5q\u2082 + 2\u22c5l\u2082\u22c5m\u2084\u22c5p\u2082 + 2\u22c5l\u2082\u22c5m\u2084\u22c5q\u2082 + m\u2082\u22c5s\u2082  + m\u2083\u22c5q\u2082  + m\u2084\u22c5p\u2082\n",
        "                                                                              \n",
        "                           c\u22c5p\u2082                     2         2      2        \n",
        "                         - \u2500\u2500\u2500\u2500 + g\u22c5cos(p\u2081) + l\u2082\u22c5p\u0307\u2081  + p\u2082\u22c5p\u0307\u2081  + p\u0307\u2081 \u22c5q\u2082     \n",
        "                            m\u2084                                                \n",
        "                                                                              \n",
        "                                                 0                            \n",
        "                                                                              \n",
        "                                                 0                            \n",
        "\n",
        "                                                                              \n",
        "                                                                              \n",
        "                                                                              \n",
        "                                                                              \n",
        "                                                                              \n",
        "                                                                              \n",
        "                                                                              \n",
        "                                                                              \n",
        "\u0307\u2081\u22c5q\u0307\u2082 + 2\u22c5m\u2083\u22c5p\u0307\u2081\u22c5q\u2082\u22c5q\u0307\u2082 + 2\u22c5m\u2084\u22c5p\u2082\u22c5p\u0307\u2081\u22c5p\u0307\u2082 + 2\u22c5m\u2084\u22c5p\u2082\u22c5p\u0307\u2081\u22c5q\u0307\u2082 + 2\u22c5m\u2084\u22c5p\u0307\u2081\u22c5p\u0307\u2082\u22c5q\u2082\n",
        "\u2500\u2500\u2500\u2500\u2500\u2500\u2500\u2500\u2500\u2500\u2500\u2500\u2500\u2500\u2500\u2500\u2500\u2500\u2500\u2500\u2500\u2500\u2500\u2500\u2500\u2500\u2500\u2500\u2500\u2500\u2500\u2500\u2500\u2500\u2500\u2500\u2500\u2500\u2500\u2500\u2500\u2500\u2500\u2500\u2500\u2500\u2500\u2500\u2500\u2500\u2500\u2500\u2500\u2500\u2500\u2500\u2500\u2500\u2500\u2500\u2500\u2500\u2500\u2500\u2500\u2500\u2500\u2500\u2500\u2500\u2500\u2500\u2500\u2500\u2500\u2500\u2500\u2500\n",
        "2                     2                                                       \n",
        "  + 2\u22c5m\u2084\u22c5p\u2082\u22c5q\u2082 + m\u2084\u22c5q\u2082                                                        \n",
        "                                                                              \n",
        "                                                                              \n",
        "                                                                              \n",
        "                                                                              \n",
        "                                                                              \n",
        "                                                                              \n",
        "                                                                              \n",
        "                                                                              \n",
        "\n",
        "                    \u23a4\n",
        "                    \u23a5\n",
        "                    \u23a5\n",
        "                    \u23a5\n",
        "                    \u23a5\n",
        "                    \u23a5\n",
        "                    \u23a5\n",
        "                    \u23a5\n",
        " + 2\u22c5m\u2084\u22c5p\u0307\u2081\u22c5q\u2082\u22c5q\u0307\u2082) \u23a5\n",
        "\u2500\u2500\u2500\u2500\u2500\u2500\u2500\u2500\u2500\u2500\u2500\u2500\u2500\u2500\u2500\u2500\u2500\u2500\u2500\u2500\u23a5\n",
        "                    \u23a5\n",
        "                    \u23a5\n",
        "                    \u23a5\n",
        "                    \u23a5\n",
        "                    \u23a5\n",
        "                    \u23a5\n",
        "                    \u23a5\n",
        "                    \u23a5\n",
        "                    \u23a5\n",
        "                    \u23a6"
       ]
      },
      {
       "output_type": "stream",
       "stream": "stdout",
       "text": [
        "---\n"
       ]
      },
      {
       "latex": [
        "G := $$\\left[\\begin{matrix}0 & 0\\\\0 & 0\\\\0 & 0\\\\0 & 0\\\\- \\frac{\\left(m_{2} s_{2} + m_{3} \\left(l_{2} + q_{2}\\right) + m_{4} \\left(l_{2} + p_{2} + q_{2}\\right)\\right) \\cos{\\left (p_{1} \\right )}}{l_{2}^{2} m_{3} + l_{2}^{2} m_{4} + 2 l_{2} m_{3} q_{2} + 2 l_{2} m_{4} p_{2} + 2 l_{2} m_{4} q_{2} + m_{2} s_{2}^{2} + m_{3} q_{2}^{2} + m_{4} p_{2}^{2} + 2 m_{4} p_{2} q_{2} + m_{4} q_{2}^{2}} & 0\\\\- \\sin{\\left (p_{1} \\right )} & -1\\\\1 & 0\\\\0 & 1\\end{matrix}\\right]$$"
       ],
       "metadata": {},
       "output_type": "display_data",
       "png": "[encoded data removed]",
       "text": [
        "G := \u23a1                                                   0                         \n",
        "\u23a2                                                                             \n",
        "\u23a2                                                   0                         \n",
        "\u23a2                                                                             \n",
        "\u23a2                                                   0                         \n",
        "\u23a2                                                                             \n",
        "\u23a2                                                   0                         \n",
        "\u23a2                                                                             \n",
        "\u23a2                          -(m\u2082\u22c5s\u2082 + m\u2083\u22c5(l\u2082 + q\u2082) + m\u2084\u22c5(l\u2082 + p\u2082 + q\u2082))\u22c5cos(p\u2081)\n",
        "\u23a2\u2500\u2500\u2500\u2500\u2500\u2500\u2500\u2500\u2500\u2500\u2500\u2500\u2500\u2500\u2500\u2500\u2500\u2500\u2500\u2500\u2500\u2500\u2500\u2500\u2500\u2500\u2500\u2500\u2500\u2500\u2500\u2500\u2500\u2500\u2500\u2500\u2500\u2500\u2500\u2500\u2500\u2500\u2500\u2500\u2500\u2500\u2500\u2500\u2500\u2500\u2500\u2500\u2500\u2500\u2500\u2500\u2500\u2500\u2500\u2500\u2500\u2500\u2500\u2500\u2500\u2500\u2500\u2500\u2500\u2500\u2500\u2500\u2500\u2500\u2500\u2500\u2500\n",
        "\u23a2  2        2                                                  2        2     \n",
        "\u23a2l\u2082 \u22c5m\u2083 + l\u2082 \u22c5m\u2084 + 2\u22c5l\u2082\u22c5m\u2083\u22c5q\u2082 + 2\u22c5l\u2082\u22c5m\u2084\u22c5p\u2082 + 2\u22c5l\u2082\u22c5m\u2084\u22c5q\u2082 + m\u2082\u22c5s\u2082  + m\u2083\u22c5q\u2082  + m\u2084\n",
        "\u23a2                                                                             \n",
        "\u23a2                                               -sin(p\u2081)                      \n",
        "\u23a2                                                                             \n",
        "\u23a2                                                   1                         \n",
        "\u23a2                                                                             \n",
        "\u23a3                                                   0                         \n",
        "\n",
        "                            0 \u23a4\n",
        "                              \u23a5\n",
        "                            0 \u23a5\n",
        "                              \u23a5\n",
        "                            0 \u23a5\n",
        "                              \u23a5\n",
        "                            0 \u23a5\n",
        "                              \u23a5\n",
        "                              \u23a5\n",
        "\u2500\u2500\u2500\u2500\u2500\u2500\u2500\u2500\u2500\u2500\u2500\u2500\u2500\u2500\u2500\u2500\u2500\u2500\u2500\u2500\u2500\u2500\u2500\u2500\u2500\u2500  0 \u23a5\n",
        "   2                     2    \u23a5\n",
        "\u22c5p\u2082  + 2\u22c5m\u2084\u22c5p\u2082\u22c5q\u2082 + m\u2084\u22c5q\u2082     \u23a5\n",
        "                              \u23a5\n",
        "                            -1\u23a5\n",
        "                              \u23a5\n",
        "                            0 \u23a5\n",
        "                              \u23a5\n",
        "                            1 \u23a6"
       ]
      },
      {
       "output_type": "stream",
       "stream": "stdout",
       "text": [
        "---\n"
       ]
      },
      {
       "latex": [
        "xx := $$\\left[\\begin{matrix}p_{1}\\\\p_{2}\\\\q_{1}\\\\q_{2}\\\\\\dot{p}_{1}\\\\\\dot{p}_{2}\\\\\\dot{q}_{1}\\\\\\dot{q}_{2}\\end{matrix}\\right]$$"
       ],
       "metadata": {},
       "output_type": "display_data",
       "png": "[encoded data removed]",
       "text": [
        "xx := \u23a1p\u2081 \u23a4\n",
        "\u23a2   \u23a5\n",
        "\u23a2p\u2082 \u23a5\n",
        "\u23a2   \u23a5\n",
        "\u23a2q\u2081 \u23a5\n",
        "\u23a2   \u23a5\n",
        "\u23a2q\u2082 \u23a5\n",
        "\u23a2   \u23a5\n",
        "\u23a2p\u0307\u2081\u23a5\n",
        "\u23a2   \u23a5\n",
        "\u23a2p\u0307\u2082\u23a5\n",
        "\u23a2   \u23a5\n",
        "\u23a2q\u0307\u2081\u23a5\n",
        "\u23a2   \u23a5\n",
        "\u23a3q\u0307\u2082\u23a6"
       ]
      },
      {
       "output_type": "stream",
       "stream": "stdout",
       "text": [
        "---\n"
       ]
      }
     ],
     "prompt_number": 15
    },
    {
     "cell_type": "markdown",
     "metadata": {},
     "source": [
      "### Auswertung der Ruled-Manifold-Bedingung auf Basis der LBI-NF"
     ]
    },
    {
     "cell_type": "code",
     "collapsed": false,
     "input": [
      "mod.calc_lbi_nf_state_eq()"
     ],
     "language": "python",
     "metadata": {},
     "outputs": [],
     "prompt_number": 16
    },
    {
     "cell_type": "code",
     "collapsed": false,
     "input": [
      "#mod.fz = mod.fz.expand()\n",
      "\n",
      "mod.fz.co ##\n",
      "mod.gz ##"
     ],
     "language": "python",
     "metadata": {},
     "outputs": [
      {
       "latex": [
        "$$\\left[\\begin{matrix}1\\\\1\\\\0\\\\0\\\\48\\\\143\\\\4137\\\\2749\\end{matrix}\\right]$$"
       ],
       "metadata": {},
       "output_type": "display_data",
       "png": "[encoded data removed]",
       "text": [
        "\u23a1 1  \u23a4\n",
        "\u23a2    \u23a5\n",
        "\u23a2 1  \u23a5\n",
        "\u23a2    \u23a5\n",
        "\u23a2 0  \u23a5\n",
        "\u23a2    \u23a5\n",
        "\u23a2 0  \u23a5\n",
        "\u23a2    \u23a5\n",
        "\u23a2 48 \u23a5\n",
        "\u23a2    \u23a5\n",
        "\u23a2143 \u23a5\n",
        "\u23a2    \u23a5\n",
        "\u23a24137\u23a5\n",
        "\u23a2    \u23a5\n",
        "\u23a32749\u23a6"
       ]
      },
      {
       "output_type": "stream",
       "stream": "stdout",
       "text": [
        "___\n"
       ]
      },
      {
       "latex": [
        "$$\\left[\\begin{matrix}0 & 0\\\\0 & 0\\\\1 & 0\\\\0 & 1\\\\0 & 0\\\\0 & 0\\\\0 & 0\\\\0 & 0\\end{matrix}\\right]$$"
       ],
       "metadata": {},
       "output_type": "display_data",
       "png": "[encoded data removed]",
       "text": [
        "\u23a10  0\u23a4\n",
        "\u23a2    \u23a5\n",
        "\u23a20  0\u23a5\n",
        "\u23a2    \u23a5\n",
        "\u23a21  0\u23a5\n",
        "\u23a2    \u23a5\n",
        "\u23a20  1\u23a5\n",
        "\u23a2    \u23a5\n",
        "\u23a20  0\u23a5\n",
        "\u23a2    \u23a5\n",
        "\u23a20  0\u23a5\n",
        "\u23a2    \u23a5\n",
        "\u23a20  0\u23a5\n",
        "\u23a2    \u23a5\n",
        "\u23a30  0\u23a6"
       ]
      },
      {
       "output_type": "stream",
       "stream": "stdout",
       "text": [
        "___\n"
       ]
      }
     ],
     "prompt_number": 20
    },
    {
     "cell_type": "code",
     "collapsed": false,
     "input": [
      "mod.zz.T"
     ],
     "language": "python",
     "metadata": {},
     "outputs": [
      {
       "latex": [
        "$$\\left[\\begin{matrix}q_{1} & q_{2} & \\dot{q}_{1} & \\dot{q}_{2} & p_{1} & p_{2} & w_{1} & w_{2}\\end{matrix}\\right]$$"
       ],
       "metadata": {},
       "output_type": "pyout",
       "png": "[encoded data removed]",
       "prompt_number": 21,
       "text": [
        "[q\u2081  q\u2082  q\u0307\u2081  q\u0307\u2082  p\u2081  p\u2082  w\u2081  w\u2082]"
       ]
      }
     ],
     "prompt_number": 21
    },
    {
     "cell_type": "code",
     "collapsed": false,
     "input": [
      "# Vektor der aktiven Geschwindigkeiten\n",
      "vv = mu[np:, :] ##\n",
      "\n",
      "# Entscheidender Teil des Driftvektorfeldes\n",
      "fz4 = mod.fz[-np:, :]"
     ],
     "language": "python",
     "metadata": {},
     "outputs": [
      {
       "latex": [
        "$$\\left[\\begin{matrix}\\dot{q}_{1}\\\\\\dot{q}_{2}\\end{matrix}\\right]$$"
       ],
       "metadata": {},
       "output_type": "display_data",
       "png": "[encoded data removed]",
       "text": [
        "\u23a1q\u0307\u2081\u23a4\n",
        "\u23a2   \u23a5\n",
        "\u23a3q\u0307\u2082\u23a6"
       ]
      },
      {
       "output_type": "stream",
       "stream": "stdout",
       "text": [
        "---\n"
       ]
      }
     ],
     "prompt_number": 22
    },
    {
     "cell_type": "code",
     "collapsed": false,
     "input": [
      "H1 = sp.hessian(fz4[0], vv)\n",
      "H2 = sp.hessian(fz4[1], vv)\n",
      "\n",
      "H1.co ##\n",
      "H2.co ##"
     ],
     "language": "python",
     "metadata": {},
     "outputs": [
      {
       "latex": [
        "$$\\left[\\begin{matrix}1969 & 1168\\\\1168 & 0\\end{matrix}\\right]$$"
       ],
       "metadata": {},
       "output_type": "display_data",
       "png": "[encoded data removed]",
       "text": [
        "\u23a11969  1168\u23a4\n",
        "\u23a2          \u23a5\n",
        "\u23a31168   0  \u23a6"
       ]
      },
      {
       "output_type": "stream",
       "stream": "stdout",
       "text": [
        "___\n"
       ]
      },
      {
       "latex": [
        "$$\\left[\\begin{matrix}992 & 1121\\\\1121 & 569\\end{matrix}\\right]$$"
       ],
       "metadata": {},
       "output_type": "display_data",
       "png": "[encoded data removed]",
       "text": [
        "\u23a1992   1121\u23a4\n",
        "\u23a2          \u23a5\n",
        "\u23a31121  569 \u23a6"
       ]
      },
      {
       "output_type": "stream",
       "stream": "stdout",
       "text": [
        "___\n"
       ]
      }
     ],
     "prompt_number": 23
    },
    {
     "cell_type": "code",
     "collapsed": false,
     "input": [
      "rnst = st.rnd_number_subs_tuples(H1 + H2, seed=956)\n",
      "h1 = H1.subs(rnst) ##\n",
      "h2 = H2.subs(rnst) ##"
     ],
     "language": "python",
     "metadata": {},
     "outputs": [
      {
       "latex": [
        "$$\\left[\\begin{matrix}0.04581592893280409429092119734531223426520688055424916494562482937528680013489672712599131214809967504 & 0.03016730075169382431890781727446946704083445225434445071623401282906963203433558822689341277923539661\\\\0.03016730075169382431890781727446946704083445225434445071623401282906963203433558822689341277923539661 & 0\\end{matrix}\\right]$$"
       ],
       "metadata": {},
       "output_type": "display_data",
       "png": "[encoded data removed]",
       "text": [
        "\u23a10.045815928932804094290921197345312234265206880554249164945624829375286800134\n",
        "\u23a2                                                                             \n",
        "\u23a30.030167300751693824318907817274469467040834452254344450716234012829069632034\n",
        "\n",
        "89672712599131214809967504  0.030167300751693824318907817274469467040834452254\n",
        "                                                                              \n",
        "33558822689341277923539661                                                    \n",
        "\n",
        "34445071623401282906963203433558822689341277923539661\u23a4\n",
        "                                                     \u23a5\n",
        " 0                                                   \u23a6"
       ]
      },
      {
       "output_type": "stream",
       "stream": "stdout",
       "text": [
        "---\n"
       ]
      },
      {
       "latex": [
        "$$\\left[\\begin{matrix}0.1229086616047713529933557110573376034569662128903691637167015055585471226927599058564162627750866371 & -1.972357388755187942115809606908309207564665844353231742940952482925211856260791766611922404067767658 \\cdot 10^{-102}\\\\-1.972357388755187942115809606908309207564665844353231742940952482925211856260791766611922404067767658 \\cdot 10^{-102} & 0\\end{matrix}\\right]$$"
       ],
       "metadata": {},
       "output_type": "display_data",
       "png": "[encoded data removed]",
       "text": [
        "\u23a1  0.1229086616047713529933557110573376034569662128903691637167015055585471226\n",
        "\u23a2                                                                             \n",
        "\u23a3-1.97235738875518794211580960690830920756466584435323174294095248292521185626\n",
        "\n",
        "927599058564162627750866371     -1.9723573887551879421158096069083092075646658\n",
        "                                                                              \n",
        "0791766611922404067767658e-102                                                \n",
        "\n",
        "44353231742940952482925211856260791766611922404067767658e-102\u23a4\n",
        "                                                             \u23a5\n",
        "       0                                                     \u23a6"
       ]
      },
      {
       "output_type": "stream",
       "stream": "stdout",
       "text": [
        "---\n"
       ]
      }
     ],
     "prompt_number": 25
    },
    {
     "cell_type": "code",
     "collapsed": false,
     "input": [
      "H2.simplify()\n",
      "H2.co"
     ],
     "language": "python",
     "metadata": {},
     "outputs": [
      {
       "latex": [
        "$$\\left[\\begin{matrix}66 & 0\\\\0 & 0\\end{matrix}\\right]$$"
       ],
       "metadata": {},
       "output_type": "pyout",
       "png": "[encoded data removed]",
       "prompt_number": 30,
       "text": [
        "\u23a166  0\u23a4\n",
        "\u23a2     \u23a5\n",
        "\u23a30   0\u23a6"
       ]
      }
     ],
     "prompt_number": 30
    },
    {
     "cell_type": "code",
     "collapsed": false,
     "input": [
      "H2"
     ],
     "language": "python",
     "metadata": {},
     "outputs": [
      {
       "latex": [
        "$$\\left[\\begin{matrix}\\frac{2 \\left(m_{2} s_{2} + m_{3} \\left(l_{2} + q_{2}\\right) + m_{4} \\left(l_{2} + p_{2} + q_{2}\\right)\\right) \\left(l_{2} m_{2} s_{2} + l_{2} m_{3} p_{2} + m_{2} p_{2} s_{2} + m_{2} q_{2} s_{2} - m_{2} s_{2}^{2} + m_{3} p_{2} q_{2}\\right) \\cos^{2}{\\left (p_{1} \\right )}}{\\left(l_{2}^{2} m_{3} + l_{2}^{2} m_{4} + 2 l_{2} m_{3} q_{2} + 2 l_{2} m_{4} p_{2} + 2 l_{2} m_{4} q_{2} + m_{2} s_{2}^{2} + m_{3} q_{2}^{2} + m_{4} p_{2}^{2} + 2 m_{4} p_{2} q_{2} + m_{4} q_{2}^{2}\\right)^{2}} & 0\\\\0 & 0\\end{matrix}\\right]$$"
       ],
       "metadata": {},
       "output_type": "pyout",
       "png": "[encoded data removed]",
       "prompt_number": 29,
       "text": [
        "\u23a1                                             \u239b                               \n",
        "\u23a22\u22c5(m\u2082\u22c5s\u2082 + m\u2083\u22c5(l\u2082 + q\u2082) + m\u2084\u22c5(l\u2082 + p\u2082 + q\u2082))\u22c5\u239dl\u2082\u22c5m\u2082\u22c5s\u2082 + l\u2082\u22c5m\u2083\u22c5p\u2082 + m\u2082\u22c5p\u2082\u22c5s\u2082 \n",
        "\u23a2\u2500\u2500\u2500\u2500\u2500\u2500\u2500\u2500\u2500\u2500\u2500\u2500\u2500\u2500\u2500\u2500\u2500\u2500\u2500\u2500\u2500\u2500\u2500\u2500\u2500\u2500\u2500\u2500\u2500\u2500\u2500\u2500\u2500\u2500\u2500\u2500\u2500\u2500\u2500\u2500\u2500\u2500\u2500\u2500\u2500\u2500\u2500\u2500\u2500\u2500\u2500\u2500\u2500\u2500\u2500\u2500\u2500\u2500\u2500\u2500\u2500\u2500\u2500\u2500\u2500\u2500\u2500\u2500\u2500\u2500\u2500\u2500\u2500\u2500\u2500\u2500\u2500\n",
        "\u23a2                                                                             \n",
        "\u23a2      \u239b  2        2                                                  2       \n",
        "\u23a2      \u239dl\u2082 \u22c5m\u2083 + l\u2082 \u22c5m\u2084 + 2\u22c5l\u2082\u22c5m\u2083\u22c5q\u2082 + 2\u22c5l\u2082\u22c5m\u2084\u22c5p\u2082 + 2\u22c5l\u2082\u22c5m\u2084\u22c5q\u2082 + m\u2082\u22c5s\u2082  + m\u2083\u22c5q\n",
        "\u23a2                                                                             \n",
        "\u23a3                                                          0                  \n",
        "\n",
        "                  2           \u239e    2       \u23a4\n",
        "+ m\u2082\u22c5q\u2082\u22c5s\u2082 - m\u2082\u22c5s\u2082  + m\u2083\u22c5p\u2082\u22c5q\u2082\u23a0\u22c5cos (p\u2081)   \u23a5\n",
        "\u2500\u2500\u2500\u2500\u2500\u2500\u2500\u2500\u2500\u2500\u2500\u2500\u2500\u2500\u2500\u2500\u2500\u2500\u2500\u2500\u2500\u2500\u2500\u2500\u2500\u2500\u2500\u2500\u2500\u2500\u2500\u2500\u2500\u2500\u2500\u2500\u2500\u2500\u2500\u2500  0\u23a5\n",
        "                                  2        \u23a5\n",
        " 2        2                     2\u239e         \u23a5\n",
        "\u2082  + m\u2084\u22c5p\u2082  + 2\u22c5m\u2084\u22c5p\u2082\u22c5q\u2082 + m\u2084\u22c5q\u2082 \u23a0         \u23a5\n",
        "                                           \u23a5\n",
        "                                          0\u23a6"
       ]
      }
     ],
     "prompt_number": 29
    },
    {
     "cell_type": "code",
     "collapsed": false,
     "input": [
      "b = sp.Matrix([0, 1]) ##\n",
      "b.T*H1*b"
     ],
     "language": "python",
     "metadata": {},
     "outputs": [
      {
       "latex": [
        "$$\\left[\\begin{matrix}0\\\\1\\end{matrix}\\right]$$"
       ],
       "metadata": {},
       "output_type": "display_data",
       "png": "[encoded data removed]",
       "text": [
        "\u23a10\u23a4\n",
        "\u23a2 \u23a5\n",
        "\u23a31\u23a6"
       ]
      },
      {
       "output_type": "stream",
       "stream": "stdout",
       "text": [
        "---\n"
       ]
      },
      {
       "latex": [
        "$$\\left[\\begin{matrix}0\\end{matrix}\\right]$$"
       ],
       "metadata": {},
       "output_type": "pyout",
       "png": "[encoded data removed]",
       "prompt_number": 34,
       "text": [
        "[0]"
       ]
      }
     ],
     "prompt_number": 34
    },
    {
     "cell_type": "markdown",
     "metadata": {},
     "source": [
      "Damit ist triviale L\u00f6sung ablesbar: bq=(0,1)T. Mit diesem Ansatz ist keine Aussage \u00fcber die Flachheit m\u00f6glich."
     ]
    }
   ],
   "metadata": {}
  }
 ]
}