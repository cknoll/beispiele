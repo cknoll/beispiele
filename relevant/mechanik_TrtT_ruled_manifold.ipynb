{
 "metadata": {
  "name": "",
  "signature": "sha256:d5603a34b89aeeca435ef8f93d3a9da2c4ad367265c76f1e53c0f2755aab7248"
 },
 "nbformat": 3,
 "nbformat_minor": 0,
 "worksheets": [
  {
   "cells": [
    {
     "cell_type": "code",
     "collapsed": false,
     "input": [
      "import time\n",
      "print time.ctime()\n",
      "%load_ext displaytools"
     ],
     "language": "python",
     "metadata": {},
     "outputs": [
      {
       "output_type": "stream",
       "stream": "stdout",
       "text": [
        "Wed Jan 20 10:11:47 2016\n"
       ]
      }
     ],
     "prompt_number": 2
    },
    {
     "cell_type": "markdown",
     "metadata": {},
     "source": [
      "**Betrachtetes System**: Pendel mit horizontal verschieblicher Aufh\u00e4ngung (\"Wagen-Pendel-System\"). auf dem Pendel ist ein elastisches Schubgelenk und daran ein aktuiertes Schubgelenk\n",
      "\n",
      "\ufffc <img src=\"files/images/pendel_wagen.png1\">\n",
      "<span style=\"color:red;\">(Bild nicht aktuell)</span>\n",
      "\n",
      "**Betrachtete Fragen**:\n",
      "* Herleitung der Modellgleichungen\n",
      "    * partiell linearisiert\n",
      "    * LBI-NF \n",
      "* Anwendung der Ruled-Manifold-Bedingung zum Nachweis der Nichtflachheit\n",
      "\n",
      "\n",
      "\n",
      "[//]: # (custom_config_start)\n",
      "$$\n",
      "\\newcommand{\\col}{\\mathrm{col}}\n",
      "\\newcommand{\\bs}{\\boldsymbol}\n",
      "$$\n",
      "[//]: # (custom_config_end)"
     ]
    },
    {
     "cell_type": "code",
     "collapsed": false,
     "input": [
      "import sympy as sp\n",
      "from sympy import sin, cos, pi\n",
      "from sympy.interactive import printing\n",
      "import model_tools as mt\n",
      "from model_tools import Rz\n",
      "import symb_tools as st\n",
      "\n",
      "import pycartan as pc\n",
      "zip0 = st.zip0\n",
      "printing.init_printing(1)"
     ],
     "language": "python",
     "metadata": {},
     "outputs": [],
     "prompt_number": 3
    },
    {
     "cell_type": "code",
     "collapsed": false,
     "input": [
      "t = sp.Symbol('t')\n",
      "np = 2\n",
      "nq = 2\n",
      "n = np + nq\n",
      "pp = st.symb_vector(\"p1:{0}\".format(np+1))\n",
      "qq = st.symb_vector(\"q1:{0}\".format(nq+1))\n",
      "aa = st.symb_vector(\"a1:{0}\".format(nq+1))\n",
      "ww = st.symb_vector(\"w1:{0}\".format(nq+1))\n",
      "\n",
      "theta = st.row_stack(pp, qq) ##\n",
      "mu = st.perform_time_derivative(theta, theta) ##\n",
      "mud = st.perform_time_derivative(theta, theta, order=2) ##\n",
      "st.make_global(theta, 1)\n",
      "st.make_global(mu, 1)"
     ],
     "language": "python",
     "metadata": {},
     "outputs": [
      {
       "latex": [
        "$$\\left[\\begin{matrix}p_{1}\\\\p_{2}\\\\q_{1}\\\\q_{2}\\end{matrix}\\right]$$"
       ],
       "metadata": {},
       "output_type": "display_data",
       "png": "[encoded data removed]",
       "text": [
        "\u23a1p\u2081\u23a4\n",
        "\u23a2  \u23a5\n",
        "\u23a2p\u2082\u23a5\n",
        "\u23a2  \u23a5\n",
        "\u23a2q\u2081\u23a5\n",
        "\u23a2  \u23a5\n",
        "\u23a3q\u2082\u23a6"
       ]
      },
      {
       "output_type": "stream",
       "stream": "stdout",
       "text": [
        "---\n"
       ]
      },
      {
       "latex": [
        "$$\\left[\\begin{matrix}\\dot{p}_{1}\\\\\\dot{p}_{2}\\\\\\dot{q}_{1}\\\\\\dot{q}_{2}\\end{matrix}\\right]$$"
       ],
       "metadata": {},
       "output_type": "display_data",
       "png": "[encoded data removed]",
       "text": [
        "\u23a1p\u0307\u2081\u23a4\n",
        "\u23a2   \u23a5\n",
        "\u23a2p\u0307\u2082\u23a5\n",
        "\u23a2   \u23a5\n",
        "\u23a2q\u0307\u2081\u23a5\n",
        "\u23a2   \u23a5\n",
        "\u23a3q\u0307\u2082\u23a6"
       ]
      },
      {
       "output_type": "stream",
       "stream": "stdout",
       "text": [
        "---\n"
       ]
      },
      {
       "latex": [
        "$$\\left[\\begin{matrix}\\ddot{p}_{1}\\\\\\ddot{p}_{2}\\\\\\ddot{q}_{1}\\\\\\ddot{q}_{2}\\end{matrix}\\right]$$"
       ],
       "metadata": {},
       "output_type": "display_data",
       "png": "[encoded data removed]",
       "text": [
        "\u23a1p\u0308\u2081\u23a4\n",
        "\u23a2   \u23a5\n",
        "\u23a2p\u0308\u2082\u23a5\n",
        "\u23a2   \u23a5\n",
        "\u23a2q\u0308\u2081\u23a5\n",
        "\u23a2   \u23a5\n",
        "\u23a3q\u0308\u2082\u23a6"
       ]
      },
      {
       "output_type": "stream",
       "stream": "stdout",
       "text": [
        "---\n"
       ]
      }
     ],
     "prompt_number": 4
    },
    {
     "cell_type": "code",
     "collapsed": false,
     "input": [
      "params = sp.symbols('m1, m2, m3, m4, s2, s4, l2, c, g')\n",
      "st.make_global(params, 1)\n",
      "\n",
      "tau1, tau2 = ttau = st.symb_vector('tau1, tau2')"
     ],
     "language": "python",
     "metadata": {},
     "outputs": [],
     "prompt_number": 5
    },
    {
     "cell_type": "markdown",
     "metadata": {},
     "source": [
      "### Festlegung der Geometrie des mechanischen Systemes"
     ]
    },
    {
     "cell_type": "code",
     "collapsed": false,
     "input": [
      "#Einheitsvektoren\n",
      "\n",
      "ex = sp.Matrix([1,0])\n",
      "ey = sp.Matrix([0,1])\n",
      "\n",
      "# Koordinaten der Schwerpunkte und Gelenke\n",
      "\n",
      "S1 = ex*q1 # Schwerpunkt Wagen\n",
      "G2 = S1 # Pendel-Gelenk\n",
      "# Schwerpunkt des Pendels (Pendel zeigt f\u00fcr kleine Winkel nach unten)\n",
      "S2 = G2 + Rz(p1)*(-ey)*s2\n",
      "\n",
      "\n",
      "S3 = G2 + Rz(p1)*(-ey)*(l2 + p2)\n",
      "S4 = G2 + Rz(p1)*(-ey)*(l2 + q2 + p2)\n",
      "\n",
      "\n",
      "# Zeitableitungen der Schwerpunktskoordinaten\n",
      "Sd1, Sd2, Sd3, Sd4  = st.col_split(st.perform_time_derivative(st.col_stack(S1, S2, S3, S4), theta)) ##"
     ],
     "language": "python",
     "metadata": {},
     "outputs": [
      {
       "latex": [
        "$$\\left[\\begin{matrix}\\dot{q}_{1}\\\\0\\end{matrix}\\right]$$"
       ],
       "metadata": {},
       "output_type": "display_data",
       "png": "[encoded data removed]",
       "text": [
        "\u23a1q\u0307\u2081\u23a4\n",
        "\u23a2   \u23a5\n",
        "\u23a3 0 \u23a6"
       ]
      },
      {
       "latex": [
        "$$\\left[\\begin{matrix}\\dot{p}_{1} s_{2} \\cos{\\left (p_{1} \\right )} + \\dot{q}_{1}\\\\\\dot{p}_{1} s_{2} \\sin{\\left (p_{1} \\right )}\\end{matrix}\\right]$$"
       ],
       "metadata": {},
       "output_type": "display_data",
       "png": "[encoded data removed]",
       "text": [
        "\u23a1p\u0307\u2081\u22c5s\u2082\u22c5cos(p\u2081) + q\u0307\u2081\u23a4\n",
        "\u23a2                    \u23a5\n",
        "\u23a3   p\u0307\u2081\u22c5s\u2082\u22c5sin(p\u2081)   \u23a6"
       ]
      },
      {
       "latex": [
        "$$\\left[\\begin{matrix}\\dot{p}_{1} \\left(l_{2} + p_{2}\\right) \\cos{\\left (p_{1} \\right )} + \\dot{p}_{2} \\sin{\\left (p_{1} \\right )} + \\dot{q}_{1}\\\\\\dot{p}_{1} \\left(l_{2} + p_{2}\\right) \\sin{\\left (p_{1} \\right )} - \\dot{p}_{2} \\cos{\\left (p_{1} \\right )}\\end{matrix}\\right]$$"
       ],
       "metadata": {},
       "output_type": "display_data",
       "png": "[encoded data removed]",
       "text": [
        "\u23a1p\u0307\u2081\u22c5(l\u2082 + p\u2082)\u22c5cos(p\u2081) + p\u0307\u2082\u22c5sin(p\u2081) + q\u0307\u2081\u23a4\n",
        "\u23a2                                         \u23a5\n",
        "\u23a3   p\u0307\u2081\u22c5(l\u2082 + p\u2082)\u22c5sin(p\u2081) - p\u0307\u2082\u22c5cos(p\u2081)   \u23a6"
       ]
      },
      {
       "latex": [
        "$$\\left[\\begin{matrix}\\dot{p}_{1} \\left(l_{2} + p_{2} + q_{2}\\right) \\cos{\\left (p_{1} \\right )} + \\dot{q}_{1} + \\left(\\dot{p}_{2} + \\dot{q}_{2}\\right) \\sin{\\left (p_{1} \\right )}\\\\\\dot{p}_{1} \\left(l_{2} + p_{2} + q_{2}\\right) \\sin{\\left (p_{1} \\right )} - \\left(\\dot{p}_{2} + \\dot{q}_{2}\\right) \\cos{\\left (p_{1} \\right )}\\end{matrix}\\right]$$"
       ],
       "metadata": {},
       "output_type": "display_data",
       "png": "[encoded data removed]",
       "text": [
        "\u23a1p\u0307\u2081\u22c5(l\u2082 + p\u2082 + q\u2082)\u22c5cos(p\u2081) + q\u0307\u2081 + (p\u0307\u2082 + q\u0307\u2082)\u22c5sin(p\u2081)\u23a4\n",
        "\u23a2                                                      \u23a5\n",
        "\u23a3   p\u0307\u2081\u22c5(l\u2082 + p\u2082 + q\u2082)\u22c5sin(p\u2081) - (p\u0307\u2082 + q\u0307\u2082)\u22c5cos(p\u2081)   \u23a6"
       ]
      },
      {
       "output_type": "stream",
       "stream": "stdout",
       "text": [
        "---\n"
       ]
      }
     ],
     "prompt_number": 6
    },
    {
     "cell_type": "code",
     "collapsed": false,
     "input": [
      "# Energie\n",
      "T_rot = 0 # (Punktmassenmodell)\n",
      "T_trans = ( m1*Sd1.T*Sd1  +  m2*Sd2.T*Sd2 + m3*Sd3.T*Sd3 + m4*Sd4.T*Sd4 )/2\n",
      "\n",
      "T = T_rot + T_trans[0]\n",
      "\n",
      "V = m2*g*S2[1] + m3*g*S3[1] + m4*g*S4[1] + c/2*p2**2##"
     ],
     "language": "python",
     "metadata": {},
     "outputs": [
      {
       "latex": [
        "$$\\frac{c p_{2}^{2}}{2} - g m_{2} s_{2} \\cos{\\left (p_{1} \\right )} - g m_{3} \\left(l_{2} + p_{2}\\right) \\cos{\\left (p_{1} \\right )} - g m_{4} \\left(l_{2} + p_{2} + q_{2}\\right) \\cos{\\left (p_{1} \\right )}$$"
       ],
       "metadata": {},
       "output_type": "display_data",
       "png": "[encoded data removed]",
       "text": [
        "    2                                                                         \n",
        "c\u22c5p\u2082                                                                          \n",
        "\u2500\u2500\u2500\u2500\u2500 - g\u22c5m\u2082\u22c5s\u2082\u22c5cos(p\u2081) - g\u22c5m\u2083\u22c5(l\u2082 + p\u2082)\u22c5cos(p\u2081) - g\u22c5m\u2084\u22c5(l\u2082 + p\u2082 + q\u2082)\u22c5cos(p\u2081)\n",
        "  2                                                                           "
       ]
      },
      {
       "output_type": "stream",
       "stream": "stdout",
       "text": [
        "---\n"
       ]
      }
     ],
     "prompt_number": 7
    },
    {
     "cell_type": "code",
     "collapsed": false,
     "input": [
      "mod = mt.generate_symbolic_model(T, V, theta, [0, 0, tau1, tau2])"
     ],
     "language": "python",
     "metadata": {},
     "outputs": [],
     "prompt_number": 8
    },
    {
     "cell_type": "code",
     "collapsed": false,
     "input": [
      "mod.MM.simplify()\n",
      "mod.MM"
     ],
     "language": "python",
     "metadata": {},
     "outputs": [
      {
       "latex": [
        "$$\\left[\\begin{matrix}l_{2}^{2} m_{3} + l_{2}^{2} m_{4} + 2 l_{2} m_{3} p_{2} + 2 l_{2} m_{4} p_{2} + 2 l_{2} m_{4} q_{2} + m_{2} s_{2}^{2} + m_{3} p_{2}^{2} + m_{4} p_{2}^{2} + 2 m_{4} p_{2} q_{2} + m_{4} q_{2}^{2} & 0 & \\left(m_{2} s_{2} + m_{3} \\left(l_{2} + p_{2}\\right) + m_{4} \\left(l_{2} + p_{2} + q_{2}\\right)\\right) \\cos{\\left (p_{1} \\right )} & 0\\\\0 & m_{3} + m_{4} & \\left(m_{3} + m_{4}\\right) \\sin{\\left (p_{1} \\right )} & m_{4}\\\\\\left(m_{2} s_{2} + m_{3} \\left(l_{2} + p_{2}\\right) + m_{4} \\left(l_{2} + p_{2} + q_{2}\\right)\\right) \\cos{\\left (p_{1} \\right )} & \\left(m_{3} + m_{4}\\right) \\sin{\\left (p_{1} \\right )} & m_{1} + m_{2} + m_{3} + m_{4} & m_{4} \\sin{\\left (p_{1} \\right )}\\\\0 & m_{4} & m_{4} \\sin{\\left (p_{1} \\right )} & m_{4}\\end{matrix}\\right]$$"
       ],
       "metadata": {},
       "output_type": "pyout",
       "png": "[encoded data removed]",
       "prompt_number": 9,
       "text": [
        "\u23a1  2        2                                                  2        2     \n",
        "\u23a2l\u2082 \u22c5m\u2083 + l\u2082 \u22c5m\u2084 + 2\u22c5l\u2082\u22c5m\u2083\u22c5p\u2082 + 2\u22c5l\u2082\u22c5m\u2084\u22c5p\u2082 + 2\u22c5l\u2082\u22c5m\u2084\u22c5q\u2082 + m\u2082\u22c5s\u2082  + m\u2083\u22c5p\u2082  + m\u2084\n",
        "\u23a2                                                                             \n",
        "\u23a2                                                   0                         \n",
        "\u23a2                                                                             \n",
        "\u23a2                          (m\u2082\u22c5s\u2082 + m\u2083\u22c5(l\u2082 + p\u2082) + m\u2084\u22c5(l\u2082 + p\u2082 + q\u2082))\u22c5cos(p\u2081) \n",
        "\u23a2                                                                             \n",
        "\u23a3                                                   0                         \n",
        "\n",
        "   2                     2                                                    \n",
        "\u22c5p\u2082  + 2\u22c5m\u2084\u22c5p\u2082\u22c5q\u2082 + m\u2084\u22c5q\u2082           0          (m\u2082\u22c5s\u2082 + m\u2083\u22c5(l\u2082 + p\u2082) + m\u2084\u22c5(l\u2082 \n",
        "                                                                              \n",
        "                                 m\u2083 + m\u2084                       (m\u2083 + m\u2084)\u22c5sin(p\n",
        "                                                                              \n",
        "                            (m\u2083 + m\u2084)\u22c5sin(p\u2081)                  m\u2081 + m\u2082 + m\u2083 + \n",
        "                                                                              \n",
        "                                   m\u2084                              m\u2084\u22c5sin(p\u2081) \n",
        "\n",
        "                               \u23a4\n",
        "+ p\u2082 + q\u2082))\u22c5cos(p\u2081)      0     \u23a5\n",
        "                               \u23a5\n",
        "\u2081)                       m\u2084    \u23a5\n",
        "                               \u23a5\n",
        "m\u2084                   m\u2084\u22c5sin(p\u2081)\u23a5\n",
        "                               \u23a5\n",
        "                         m\u2084    \u23a6"
       ]
      }
     ],
     "prompt_number": 9
    },
    {
     "cell_type": "markdown",
     "metadata": {},
     "source": [
      "### Bestimmung der partiell lineariserten Systemgleichungen"
     ]
    },
    {
     "cell_type": "code",
     "collapsed": false,
     "input": [
      "mod.calc_coll_part_lin_state_eq(simplify=True)"
     ],
     "language": "python",
     "metadata": {},
     "outputs": [],
     "prompt_number": 10
    },
    {
     "cell_type": "code",
     "collapsed": false,
     "input": [
      "if 0:\n",
      "    f = mod.ff ##:\n",
      "    G = mod.gg ##:\n",
      "    xx = mod.x ##:\n",
      "    g1 = st.col_split(G)"
     ],
     "language": "python",
     "metadata": {},
     "outputs": [],
     "prompt_number": 11
    },
    {
     "cell_type": "markdown",
     "metadata": {},
     "source": [
      "### Auswertung der Ruled-Manifold-Bedingung auf Basis der LBI-NF"
     ]
    },
    {
     "cell_type": "code",
     "collapsed": false,
     "input": [
      "mod.calc_lbi_nf_state_eq()"
     ],
     "language": "python",
     "metadata": {},
     "outputs": [],
     "prompt_number": 12
    },
    {
     "cell_type": "code",
     "collapsed": false,
     "input": [
      "#mod.fz = mod.fz.expand()\n",
      "\n",
      "mod.fz.co ##\n",
      "mod.gz ##"
     ],
     "language": "python",
     "metadata": {},
     "outputs": [
      {
       "latex": [
        "$$\\left[\\begin{matrix}1\\\\1\\\\0\\\\0\\\\53\\\\152\\\\6711\\\\4673\\end{matrix}\\right]$$"
       ],
       "metadata": {},
       "output_type": "display_data",
       "png": "[encoded data removed]",
       "text": [
        "\u23a1 1  \u23a4\n",
        "\u23a2    \u23a5\n",
        "\u23a2 1  \u23a5\n",
        "\u23a2    \u23a5\n",
        "\u23a2 0  \u23a5\n",
        "\u23a2    \u23a5\n",
        "\u23a2 0  \u23a5\n",
        "\u23a2    \u23a5\n",
        "\u23a2 53 \u23a5\n",
        "\u23a2    \u23a5\n",
        "\u23a2152 \u23a5\n",
        "\u23a2    \u23a5\n",
        "\u23a26711\u23a5\n",
        "\u23a2    \u23a5\n",
        "\u23a34673\u23a6"
       ]
      },
      {
       "output_type": "stream",
       "stream": "stdout",
       "text": [
        "___\n"
       ]
      },
      {
       "latex": [
        "$$\\left[\\begin{matrix}0 & 0\\\\0 & 0\\\\1 & 0\\\\0 & 1\\\\0 & 0\\\\0 & 0\\\\0 & 0\\\\0 & 0\\end{matrix}\\right]$$"
       ],
       "metadata": {},
       "output_type": "display_data",
       "png": "[encoded data removed]",
       "text": [
        "\u23a10  0\u23a4\n",
        "\u23a2    \u23a5\n",
        "\u23a20  0\u23a5\n",
        "\u23a2    \u23a5\n",
        "\u23a21  0\u23a5\n",
        "\u23a2    \u23a5\n",
        "\u23a20  1\u23a5\n",
        "\u23a2    \u23a5\n",
        "\u23a20  0\u23a5\n",
        "\u23a2    \u23a5\n",
        "\u23a20  0\u23a5\n",
        "\u23a2    \u23a5\n",
        "\u23a20  0\u23a5\n",
        "\u23a2    \u23a5\n",
        "\u23a30  0\u23a6"
       ]
      },
      {
       "output_type": "stream",
       "stream": "stdout",
       "text": [
        "___\n"
       ]
      }
     ],
     "prompt_number": 13
    },
    {
     "cell_type": "code",
     "collapsed": false,
     "input": [
      "mod.zz.T"
     ],
     "language": "python",
     "metadata": {},
     "outputs": [
      {
       "latex": [
        "$$\\left[\\begin{matrix}q_{1} & q_{2} & \\dot{q}_{1} & \\dot{q}_{2} & p_{1} & p_{2} & w_{1} & w_{2}\\end{matrix}\\right]$$"
       ],
       "metadata": {},
       "output_type": "pyout",
       "png": "[encoded data removed]",
       "prompt_number": 14,
       "text": [
        "[q\u2081  q\u2082  q\u0307\u2081  q\u0307\u2082  p\u2081  p\u2082  w\u2081  w\u2082]"
       ]
      }
     ],
     "prompt_number": 14
    },
    {
     "cell_type": "code",
     "collapsed": false,
     "input": [
      "# Vektor der aktiven Geschwindigkeiten\n",
      "vv = mu[np:, :] ##\n",
      "\n",
      "# Entscheidender Teil des Driftvektorfeldes\n",
      "fz4 = mod.fz[-np:, :]"
     ],
     "language": "python",
     "metadata": {},
     "outputs": [
      {
       "latex": [
        "$$\\left[\\begin{matrix}\\dot{q}_{1}\\\\\\dot{q}_{2}\\end{matrix}\\right]$$"
       ],
       "metadata": {},
       "output_type": "display_data",
       "png": "[encoded data removed]",
       "text": [
        "\u23a1q\u0307\u2081\u23a4\n",
        "\u23a2   \u23a5\n",
        "\u23a3q\u0307\u2082\u23a6"
       ]
      },
      {
       "output_type": "stream",
       "stream": "stdout",
       "text": [
        "---\n"
       ]
      }
     ],
     "prompt_number": 15
    },
    {
     "cell_type": "code",
     "collapsed": false,
     "input": [
      "H1 = sp.hessian(fz4[0], vv)\n",
      "H2 = sp.hessian(fz4[1], vv)\n",
      "\n",
      "H1.co ##\n",
      "H2.co ##"
     ],
     "language": "python",
     "metadata": {},
     "outputs": [
      {
       "latex": [
        "$$\\left[\\begin{matrix}4063 & 1970\\\\1970 & 0\\end{matrix}\\right]$$"
       ],
       "metadata": {},
       "output_type": "display_data",
       "png": "[encoded data removed]",
       "text": [
        "\u23a14063  1970\u23a4\n",
        "\u23a2          \u23a5\n",
        "\u23a31970   0  \u23a6"
       ]
      },
      {
       "output_type": "stream",
       "stream": "stdout",
       "text": [
        "___\n"
       ]
      },
      {
       "latex": [
        "$$\\left[\\begin{matrix}1697 & 1802\\\\1802 & 893\\end{matrix}\\right]$$"
       ],
       "metadata": {},
       "output_type": "display_data",
       "png": "[encoded data removed]",
       "text": [
        "\u23a11697  1802\u23a4\n",
        "\u23a2          \u23a5\n",
        "\u23a31802  893 \u23a6"
       ]
      },
      {
       "output_type": "stream",
       "stream": "stdout",
       "text": [
        "___\n"
       ]
      }
     ],
     "prompt_number": 16
    },
    {
     "cell_type": "code",
     "collapsed": false,
     "input": [
      "rnst = st.rnd_number_subs_tuples(H1 + H2, seed=956)\n",
      "h1 = H1.subs(rnst) ##\n",
      "h2 = H2.subs(rnst) ##"
     ],
     "language": "python",
     "metadata": {},
     "outputs": [
      {
       "latex": [
        "$$\\left[\\begin{matrix}0.02900067652773200628542752293238526354139401469376693663768164206144932871064962901450069737957311838 & -8.929588994392773298560808971135476245718046834553114540743170650215879968021392153714437670782593982 \\cdot 10^{-103}\\\\-8.929588994392773298560808971135476245718046834553114540743170650215879968021392153714437670782593982 \\cdot 10^{-103} & 0\\end{matrix}\\right]$$"
       ],
       "metadata": {},
       "output_type": "display_data",
       "png": "[encoded data removed]",
       "text": [
        "\u23a1  0.0290006765277320062854275229323852635413940146937669366376816420614493287\n",
        "\u23a2                                                                             \n",
        "\u23a3-8.92958899439277329856080897113547624571804683455311454074317065021587996802\n",
        "\n",
        "1064962901450069737957311838    -8.9295889943927732985608089711354762457180468\n",
        "                                                                              \n",
        "1392153714437670782593982e-103                                                \n",
        "\n",
        "34553114540743170650215879968021392153714437670782593982e-103\u23a4\n",
        "                                                             \u23a5\n",
        "       0                                                     \u23a6"
       ]
      },
      {
       "output_type": "stream",
       "stream": "stdout",
       "text": [
        "---\n"
       ]
      },
      {
       "latex": [
        "$$\\left[\\begin{matrix}0.07260939791053516021230327209187800924037609762532432710159365305628855445564205586259324310572264671 & 2.095629725552387188498047707340078533037457459625308726874762013108037597277091252025167554322003137 \\cdot 10^{-102}\\\\2.095629725552387188498047707340078533037457459625308726874762013108037597277091252025167554322003137 \\cdot 10^{-102} & -8.929588994392773298560808971135476245718046834553114540743170650215879968021392153714437670782593982 \\cdot 10^{-103}\\end{matrix}\\right]$$"
       ],
       "metadata": {},
       "output_type": "display_data",
       "png": "[encoded data removed]",
       "text": [
        "\u23a1 0.07260939791053516021230327209187800924037609762532432710159365305628855445\n",
        "\u23a2                                                                             \n",
        "\u23a32.095629725552387188498047707340078533037457459625308726874762013108037597277\n",
        "\n",
        "564205586259324310572264671    2.095629725552387188498047707340078533037457459\n",
        "                                                                              \n",
        "091252025167554322003137e-102  -8.92958899439277329856080897113547624571804683\n",
        "\n",
        "625308726874762013108037597277091252025167554322003137e-102 \u23a4\n",
        "                                                            \u23a5\n",
        "4553114540743170650215879968021392153714437670782593982e-103\u23a6"
       ]
      },
      {
       "output_type": "stream",
       "stream": "stdout",
       "text": [
        "---\n"
       ]
      }
     ],
     "prompt_number": 17
    },
    {
     "cell_type": "code",
     "collapsed": false,
     "input": [
      "H1.simplify()\n",
      "H1.co"
     ],
     "language": "python",
     "metadata": {},
     "outputs": [
      {
       "latex": [
        "$$\\left[\\begin{matrix}304 & 0\\\\0 & 0\\end{matrix}\\right]$$"
       ],
       "metadata": {},
       "output_type": "pyout",
       "png": "[encoded data removed]",
       "prompt_number": 19,
       "text": [
        "\u23a1304  0\u23a4\n",
        "\u23a2      \u23a5\n",
        "\u23a3 0   0\u23a6"
       ]
      }
     ],
     "prompt_number": 19
    },
    {
     "cell_type": "code",
     "collapsed": false,
     "input": [
      "H1"
     ],
     "language": "python",
     "metadata": {},
     "outputs": [
      {
       "latex": [
        "$$\\left[\\begin{matrix}\\frac{\\left(2 l_{2} m_{2} m_{3} s_{2} + 2 l_{2} m_{2} m_{4} s_{2} + m_{2}^{2} s_{2}^{2} + 2 m_{2} m_{3} p_{2} s_{2} - m_{2} m_{3} s_{2}^{2} + 2 m_{2} m_{4} p_{2} s_{2} + 2 m_{2} m_{4} q_{2} s_{2} - m_{2} m_{4} s_{2}^{2} - m_{3} m_{4} q_{2}^{2}\\right) \\sin{\\left (2 p_{1} \\right )}}{l_{2}^{4} m_{3}^{2} + 2 l_{2}^{4} m_{3} m_{4} + l_{2}^{4} m_{4}^{2} + 4 l_{2}^{3} m_{3}^{2} p_{2} + 8 l_{2}^{3} m_{3} m_{4} p_{2} + 4 l_{2}^{3} m_{3} m_{4} q_{2} + 4 l_{2}^{3} m_{4}^{2} p_{2} + 4 l_{2}^{3} m_{4}^{2} q_{2} + 2 l_{2}^{2} m_{2} m_{3} s_{2}^{2} + 2 l_{2}^{2} m_{2} m_{4} s_{2}^{2} + 6 l_{2}^{2} m_{3}^{2} p_{2}^{2} + 12 l_{2}^{2} m_{3} m_{4} p_{2}^{2} + 12 l_{2}^{2} m_{3} m_{4} p_{2} q_{2} + 2 l_{2}^{2} m_{3} m_{4} q_{2}^{2} + 6 l_{2}^{2} m_{4}^{2} p_{2}^{2} + 12 l_{2}^{2} m_{4}^{2} p_{2} q_{2} + 6 l_{2}^{2} m_{4}^{2} q_{2}^{2} + 4 l_{2} m_{2} m_{3} p_{2} s_{2}^{2} + 4 l_{2} m_{2} m_{4} p_{2} s_{2}^{2} + 4 l_{2} m_{2} m_{4} q_{2} s_{2}^{2} + 4 l_{2} m_{3}^{2} p_{2}^{3} + 8 l_{2} m_{3} m_{4} p_{2}^{3} + 12 l_{2} m_{3} m_{4} p_{2}^{2} q_{2} + 4 l_{2} m_{3} m_{4} p_{2} q_{2}^{2} + 4 l_{2} m_{4}^{2} p_{2}^{3} + 12 l_{2} m_{4}^{2} p_{2}^{2} q_{2} + 12 l_{2} m_{4}^{2} p_{2} q_{2}^{2} + 4 l_{2} m_{4}^{2} q_{2}^{3} + m_{2}^{2} s_{2}^{4} + 2 m_{2} m_{3} p_{2}^{2} s_{2}^{2} + 2 m_{2} m_{4} p_{2}^{2} s_{2}^{2} + 4 m_{2} m_{4} p_{2} q_{2} s_{2}^{2} + 2 m_{2} m_{4} q_{2}^{2} s_{2}^{2} + m_{3}^{2} p_{2}^{4} + 2 m_{3} m_{4} p_{2}^{4} + 4 m_{3} m_{4} p_{2}^{3} q_{2} + 2 m_{3} m_{4} p_{2}^{2} q_{2}^{2} + m_{4}^{2} p_{2}^{4} + 4 m_{4}^{2} p_{2}^{3} q_{2} + 6 m_{4}^{2} p_{2}^{2} q_{2}^{2} + 4 m_{4}^{2} p_{2} q_{2}^{3} + m_{4}^{2} q_{2}^{4}} & 0\\\\0 & 0\\end{matrix}\\right]$$"
       ],
       "metadata": {},
       "output_type": "pyout",
       "png": "[encoded data removed]",
       "prompt_number": 20,
       "text": [
        "\u23a1                                                                             \n",
        "\u23a2                                                                             \n",
        "\u23a2\u2500\u2500\u2500\u2500\u2500\u2500\u2500\u2500\u2500\u2500\u2500\u2500\u2500\u2500\u2500\u2500\u2500\u2500\u2500\u2500\u2500\u2500\u2500\u2500\u2500\u2500\u2500\u2500\u2500\u2500\u2500\u2500\u2500\u2500\u2500\u2500\u2500\u2500\u2500\u2500\u2500\u2500\u2500\u2500\u2500\u2500\u2500\u2500\u2500\u2500\u2500\u2500\u2500\u2500\u2500\u2500\u2500\u2500\u2500\u2500\u2500\u2500\u2500\u2500\u2500\u2500\u2500\u2500\u2500\u2500\u2500\u2500\u2500\u2500\u2500\u2500\u2500\n",
        "\u23a2  4   2       4           4   2       3   2          3                3      \n",
        "\u23a2l\u2082 \u22c5m\u2083  + 2\u22c5l\u2082 \u22c5m\u2083\u22c5m\u2084 + l\u2082 \u22c5m\u2084  + 4\u22c5l\u2082 \u22c5m\u2083 \u22c5p\u2082 + 8\u22c5l\u2082 \u22c5m\u2083\u22c5m\u2084\u22c5p\u2082 + 4\u22c5l\u2082 \u22c5m\u2083\u22c5m\u2084\n",
        "\u23a2                                                                             \n",
        "\u23a3                                                                             \n",
        "\n",
        "                                                                              \n",
        "                                                                              \n",
        "\u2500\u2500\u2500\u2500\u2500\u2500\u2500\u2500\u2500\u2500\u2500\u2500\u2500\u2500\u2500\u2500\u2500\u2500\u2500\u2500\u2500\u2500\u2500\u2500\u2500\u2500\u2500\u2500\u2500\u2500\u2500\u2500\u2500\u2500\u2500\u2500\u2500\u2500\u2500\u2500\u2500\u2500\u2500\u2500\u2500\u2500\u2500\u2500\u2500\u2500\u2500\u2500\u2500\u2500\u2500\u2500\u2500\u2500\u2500\u2500\u2500\u2500\u2500\u2500\u2500\u2500\u2500\u2500\u2500\u2500\u2500\u2500\u2500\u2500\u2500\u2500\u2500\u2500\n",
        "          3   2          3   2          2         2       2         2       2 \n",
        "\u22c5q\u2082 + 4\u22c5l\u2082 \u22c5m\u2084 \u22c5p\u2082 + 4\u22c5l\u2082 \u22c5m\u2084 \u22c5q\u2082 + 2\u22c5l\u2082 \u22c5m\u2082\u22c5m\u2083\u22c5s\u2082  + 2\u22c5l\u2082 \u22c5m\u2082\u22c5m\u2084\u22c5s\u2082  + 6\u22c5l\u2082 \u22c5\n",
        "                                                                              \n",
        "                                                                              \n",
        "\n",
        "                                                                              \n",
        "                                                                              \n",
        "\u2500\u2500\u2500\u2500\u2500\u2500\u2500\u2500\u2500\u2500\u2500\u2500\u2500\u2500\u2500\u2500\u2500\u2500\u2500\u2500\u2500\u2500\u2500\u2500\u2500\u2500\u2500\u2500\u2500\u2500\u2500\u2500\u2500\u2500\u2500\u2500\u2500\u2500\u2500\u2500\u2500\u2500\u2500\u2500\u2500\u2500\u2500\u2500\u2500\u2500\u2500\u2500\u2500\u2500\u2500\u2500\u2500\u2500\u2500\u2500\u2500\u2500\u2500\u2500\u2500\u2500\u2500\u2500\u2500\u2500\u2500\u2500\u2500\u2500\u2500\u2500\u2500\u2500\n",
        "  2   2        2         2        2                   2         2       2   2 \n",
        "m\u2083 \u22c5p\u2082  + 12\u22c5l\u2082 \u22c5m\u2083\u22c5m\u2084\u22c5p\u2082  + 12\u22c5l\u2082 \u22c5m\u2083\u22c5m\u2084\u22c5p\u2082\u22c5q\u2082 + 2\u22c5l\u2082 \u22c5m\u2083\u22c5m\u2084\u22c5q\u2082  + 6\u22c5l\u2082 \u22c5m\u2084 \u22c5\n",
        "                                                                              \n",
        "                                                                              \n",
        "\n",
        "                                        \u239b                                  2  \n",
        "                                        \u239d2\u22c5l\u2082\u22c5m\u2082\u22c5m\u2083\u22c5s\u2082 + 2\u22c5l\u2082\u22c5m\u2082\u22c5m\u2084\u22c5s\u2082 + m\u2082 \u22c5s\n",
        "\u2500\u2500\u2500\u2500\u2500\u2500\u2500\u2500\u2500\u2500\u2500\u2500\u2500\u2500\u2500\u2500\u2500\u2500\u2500\u2500\u2500\u2500\u2500\u2500\u2500\u2500\u2500\u2500\u2500\u2500\u2500\u2500\u2500\u2500\u2500\u2500\u2500\u2500\u2500\u2500\u2500\u2500\u2500\u2500\u2500\u2500\u2500\u2500\u2500\u2500\u2500\u2500\u2500\u2500\u2500\u2500\u2500\u2500\u2500\u2500\u2500\u2500\u2500\u2500\u2500\u2500\u2500\u2500\u2500\u2500\u2500\u2500\u2500\u2500\u2500\u2500\u2500\u2500\n",
        "  2        2   2             2   2   2                   2                   2\n",
        "p\u2082  + 12\u22c5l\u2082 \u22c5m\u2084 \u22c5p\u2082\u22c5q\u2082 + 6\u22c5l\u2082 \u22c5m\u2084 \u22c5q\u2082  + 4\u22c5l\u2082\u22c5m\u2082\u22c5m\u2083\u22c5p\u2082\u22c5s\u2082  + 4\u22c5l\u2082\u22c5m\u2082\u22c5m\u2084\u22c5p\u2082\u22c5s\u2082 \n",
        "                                                                              \n",
        "                                                                              \n",
        "\n",
        " 2                           2                                           2    \n",
        "\u2082  + 2\u22c5m\u2082\u22c5m\u2083\u22c5p\u2082\u22c5s\u2082 - m\u2082\u22c5m\u2083\u22c5s\u2082  + 2\u22c5m\u2082\u22c5m\u2084\u22c5p\u2082\u22c5s\u2082 + 2\u22c5m\u2082\u22c5m\u2084\u22c5q\u2082\u22c5s\u2082 - m\u2082\u22c5m\u2084\u22c5s\u2082  - m\n",
        "\u2500\u2500\u2500\u2500\u2500\u2500\u2500\u2500\u2500\u2500\u2500\u2500\u2500\u2500\u2500\u2500\u2500\u2500\u2500\u2500\u2500\u2500\u2500\u2500\u2500\u2500\u2500\u2500\u2500\u2500\u2500\u2500\u2500\u2500\u2500\u2500\u2500\u2500\u2500\u2500\u2500\u2500\u2500\u2500\u2500\u2500\u2500\u2500\u2500\u2500\u2500\u2500\u2500\u2500\u2500\u2500\u2500\u2500\u2500\u2500\u2500\u2500\u2500\u2500\u2500\u2500\u2500\u2500\u2500\u2500\u2500\u2500\u2500\u2500\u2500\u2500\u2500\u2500\n",
        "                   2          2   3                3                 2        \n",
        " + 4\u22c5l\u2082\u22c5m\u2082\u22c5m\u2084\u22c5q\u2082\u22c5s\u2082  + 4\u22c5l\u2082\u22c5m\u2083 \u22c5p\u2082  + 8\u22c5l\u2082\u22c5m\u2083\u22c5m\u2084\u22c5p\u2082  + 12\u22c5l\u2082\u22c5m\u2083\u22c5m\u2084\u22c5p\u2082 \u22c5q\u2082 + 4\u22c5\n",
        "                                                                              \n",
        "                             0                                                \n",
        "\n",
        "       2\u239e                                                                     \n",
        "\u2083\u22c5m\u2084\u22c5q\u2082 \u23a0\u22c5sin(2\u22c5p\u2081)                                                           \n",
        "\u2500\u2500\u2500\u2500\u2500\u2500\u2500\u2500\u2500\u2500\u2500\u2500\u2500\u2500\u2500\u2500\u2500\u2500\u2500\u2500\u2500\u2500\u2500\u2500\u2500\u2500\u2500\u2500\u2500\u2500\u2500\u2500\u2500\u2500\u2500\u2500\u2500\u2500\u2500\u2500\u2500\u2500\u2500\u2500\u2500\u2500\u2500\u2500\u2500\u2500\u2500\u2500\u2500\u2500\u2500\u2500\u2500\u2500\u2500\u2500\u2500\u2500\u2500\u2500\u2500\u2500\u2500\u2500\u2500\u2500\u2500\u2500\u2500\u2500\u2500\u2500\u2500\u2500\n",
        "              2          2   3           2   2              2      2          \n",
        "l\u2082\u22c5m\u2083\u22c5m\u2084\u22c5p\u2082\u22c5q\u2082  + 4\u22c5l\u2082\u22c5m\u2084 \u22c5p\u2082  + 12\u22c5l\u2082\u22c5m\u2084 \u22c5p\u2082 \u22c5q\u2082 + 12\u22c5l\u2082\u22c5m\u2084 \u22c5p\u2082\u22c5q\u2082  + 4\u22c5l\u2082\u22c5m\u2084\n",
        "                                                                              \n",
        "                                                                              \n",
        "\n",
        "                                                                              \n",
        "                                                                              \n",
        "\u2500\u2500\u2500\u2500\u2500\u2500\u2500\u2500\u2500\u2500\u2500\u2500\u2500\u2500\u2500\u2500\u2500\u2500\u2500\u2500\u2500\u2500\u2500\u2500\u2500\u2500\u2500\u2500\u2500\u2500\u2500\u2500\u2500\u2500\u2500\u2500\u2500\u2500\u2500\u2500\u2500\u2500\u2500\u2500\u2500\u2500\u2500\u2500\u2500\u2500\u2500\u2500\u2500\u2500\u2500\u2500\u2500\u2500\u2500\u2500\u2500\u2500\u2500\u2500\u2500\u2500\u2500\u2500\u2500\u2500\u2500\u2500\u2500\u2500\u2500\u2500\u2500\u2500\n",
        "2   3     2   4             2   2             2   2                   2       \n",
        " \u22c5q\u2082  + m\u2082 \u22c5s\u2082  + 2\u22c5m\u2082\u22c5m\u2083\u22c5p\u2082 \u22c5s\u2082  + 2\u22c5m\u2082\u22c5m\u2084\u22c5p\u2082 \u22c5s\u2082  + 4\u22c5m\u2082\u22c5m\u2084\u22c5p\u2082\u22c5q\u2082\u22c5s\u2082  + 2\u22c5m\u2082\n",
        "                                                                              \n",
        "                                                                              \n",
        "\n",
        "                                                                              \n",
        "                                                                              \n",
        "\u2500\u2500\u2500\u2500\u2500\u2500\u2500\u2500\u2500\u2500\u2500\u2500\u2500\u2500\u2500\u2500\u2500\u2500\u2500\u2500\u2500\u2500\u2500\u2500\u2500\u2500\u2500\u2500\u2500\u2500\u2500\u2500\u2500\u2500\u2500\u2500\u2500\u2500\u2500\u2500\u2500\u2500\u2500\u2500\u2500\u2500\u2500\u2500\u2500\u2500\u2500\u2500\u2500\u2500\u2500\u2500\u2500\u2500\u2500\u2500\u2500\u2500\u2500\u2500\u2500\u2500\u2500\u2500\u2500\u2500\u2500\u2500\u2500\u2500\u2500\u2500\u2500\u2500\n",
        "      2   2     2   4             4             3                2   2     2  \n",
        "\u22c5m\u2084\u22c5q\u2082 \u22c5s\u2082  + m\u2083 \u22c5p\u2082  + 2\u22c5m\u2083\u22c5m\u2084\u22c5p\u2082  + 4\u22c5m\u2083\u22c5m\u2084\u22c5p\u2082 \u22c5q\u2082 + 2\u22c5m\u2083\u22c5m\u2084\u22c5p\u2082 \u22c5q\u2082  + m\u2084 \u22c5p\n",
        "                                                                              \n",
        "                                                                              \n",
        "\n",
        "                                                             \u23a4\n",
        "                                                             \u23a5\n",
        "\u2500\u2500\u2500\u2500\u2500\u2500\u2500\u2500\u2500\u2500\u2500\u2500\u2500\u2500\u2500\u2500\u2500\u2500\u2500\u2500\u2500\u2500\u2500\u2500\u2500\u2500\u2500\u2500\u2500\u2500\u2500\u2500\u2500\u2500\u2500\u2500\u2500\u2500\u2500\u2500\u2500\u2500\u2500\u2500\u2500\u2500\u2500\u2500\u2500\u2500\u2500\u2500\u2500\u2500\u2500\u2500\u2500\u2500  0\u23a5\n",
        " 4       2   3          2   2   2       2      3     2   4   \u23a5\n",
        "\u2082  + 4\u22c5m\u2084 \u22c5p\u2082 \u22c5q\u2082 + 6\u22c5m\u2084 \u22c5p\u2082 \u22c5q\u2082  + 4\u22c5m\u2084 \u22c5p\u2082\u22c5q\u2082  + m\u2084 \u22c5q\u2082    \u23a5\n",
        "                                                             \u23a5\n",
        "                                                            0\u23a6"
       ]
      }
     ],
     "prompt_number": 20
    },
    {
     "cell_type": "code",
     "collapsed": false,
     "input": [
      "b = sp.Matrix([0, 1]) ##\n",
      "b.T*H1*b"
     ],
     "language": "python",
     "metadata": {},
     "outputs": [
      {
       "latex": [
        "$$\\left[\\begin{matrix}0\\\\1\\end{matrix}\\right]$$"
       ],
       "metadata": {},
       "output_type": "display_data",
       "png": "[encoded data removed]",
       "text": [
        "\u23a10\u23a4\n",
        "\u23a2 \u23a5\n",
        "\u23a31\u23a6"
       ]
      },
      {
       "output_type": "stream",
       "stream": "stdout",
       "text": [
        "---\n"
       ]
      },
      {
       "latex": [
        "$$\\left[\\begin{matrix}0\\end{matrix}\\right]$$"
       ],
       "metadata": {},
       "output_type": "pyout",
       "png": "[encoded data removed]",
       "prompt_number": 34,
       "text": [
        "[0]"
       ]
      }
     ],
     "prompt_number": 34
    },
    {
     "cell_type": "markdown",
     "metadata": {},
     "source": [
      "Damit ist triviale L\u00f6sung ablesbar: $b_q=(0,1)^T$. Mit diesem Ansatz ist keine Aussage \u00fcber die Flachheit m\u00f6glich."
     ]
    },
    {
     "cell_type": "code",
     "collapsed": false,
     "input": [],
     "language": "python",
     "metadata": {},
     "outputs": []
    }
   ],
   "metadata": {}
  }
 ]
}