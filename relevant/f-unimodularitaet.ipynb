{
 "metadata": {
  "name": "",
  "signature": "sha256:410f8ae9da843a4b0f103a004d871ee2b41319483ada39d68a6bc528d0c8ce7c"
 },
 "nbformat": 3,
 "nbformat_minor": 0,
 "worksheets": [
  {
   "cells": [
    {
     "cell_type": "code",
     "collapsed": false,
     "input": [
      "from diss_aux import latex"
     ],
     "language": "python",
     "metadata": {},
     "outputs": [],
     "prompt_number": 1
    },
    {
     "cell_type": "code",
     "collapsed": false,
     "input": [
      "%load_ext displaytools\n",
      "import time\n",
      "print time.ctime()"
     ],
     "language": "python",
     "metadata": {},
     "outputs": [
      {
       "output_type": "stream",
       "stream": "stdout",
       "text": [
        "Thu May 26 11:20:25 2016\n"
       ]
      }
     ],
     "prompt_number": 2
    },
    {
     "cell_type": "markdown",
     "metadata": {},
     "source": [
      "[//]: # (custom_config_start)\n",
      "$$\n",
      "\\newcommand{\\col}{\\mathrm{col}}\n",
      "\\newcommand{\\opspan}{\\operatorname{span}}\n",
      "\\newcommand{\\bs}{\\boldsymbol}\n",
      "\\newcommand{\\mb}{\\mathbf}\n",
      "\\newcommand{\\nx}{n_{\\boldsymbol x}}\n",
      "\\newcommand{\\Ddt}{\\left(\\tfrac{d}{dt}\\right)}\n",
      "$$\n",
      "[//]: # (custom_config_end)\n",
      "\n",
      "**Betrachtetes System**:\n",
      "\n",
      "$$\n",
      "\\begin{align}\n",
      "%\\label{eq_}\n",
      "F_1 &= \\dot x_1 - x_2 = 0\\\\\n",
      "F_2 &= \\dot x_2 - x_3 + \\dot x_3 F_1 = 0\\\\\n",
      "\\end{align}\n",
      "$$\n",
      "\n",
      "**Betrachtete Fragen**:\n",
      "* ist die Verallgemeinerte Jacobimatrix hyperegul\u00e4r oder nur $\\bs F$-hyperegul\u00e4r?"
     ]
    },
    {
     "cell_type": "code",
     "collapsed": false,
     "input": [
      "import sympy as sp\n",
      "from sympy import sin, cos, pi\n",
      "from sympy.interactive import printing\n",
      "import symbtools as st\n",
      "import symbtools.noncommutativetools as nct\n",
      "\n",
      "printing.init_printing(1)"
     ],
     "language": "python",
     "metadata": {},
     "outputs": [],
     "prompt_number": 3
    },
    {
     "cell_type": "code",
     "collapsed": false,
     "input": [
      "s = sp.Symbol('s', commutative = False)\n",
      "\n",
      "xx = st.symb_vector('x1:4', commutative=False) ##:T\n",
      "\n",
      "xxd = st.time_deriv(xx, xx) ##:T\n",
      "xxdd = st.time_deriv(xx, xx, order=2) ##:T\n",
      "st.make_global(xx, xxd, xxdd)"
     ],
     "language": "python",
     "metadata": {},
     "outputs": [
      {
       "latex": [
        "xx.T := $$\\left[\\begin{matrix}x_{1} & x_{2} & x_{3}\\end{matrix}\\right]$$"
       ],
       "metadata": {},
       "output_type": "display_data",
       "png": "[encoded data removed]",
       "text": [
        "xx.T := [x\u2081  x\u2082  x\u2083]"
       ]
      },
      {
       "output_type": "stream",
       "stream": "stdout",
       "text": [
        "---\n"
       ]
      },
      {
       "latex": [
        "xxd.T := $$\\left[\\begin{matrix}\\dot{x}_{1} & \\dot{x}_{2} & \\dot{x}_{3}\\end{matrix}\\right]$$"
       ],
       "metadata": {},
       "output_type": "display_data",
       "png": "[encoded data removed]",
       "text": [
        "xxd.T := [x\u0307\u2081  x\u0307\u2082  x\u0307\u2083]"
       ]
      },
      {
       "output_type": "stream",
       "stream": "stdout",
       "text": [
        "---\n"
       ]
      },
      {
       "latex": [
        "xxdd.T := $$\\left[\\begin{matrix}\\ddot{x}_{1} & \\ddot{x}_{2} & \\ddot{x}_{3}\\end{matrix}\\right]$$"
       ],
       "metadata": {},
       "output_type": "display_data",
       "png": "[encoded data removed]",
       "text": [
        "xxdd.T := [x\u0308\u2081  x\u0308\u2082  x\u0308\u2083]"
       ]
      },
      {
       "output_type": "stream",
       "stream": "stdout",
       "text": [
        "---\n"
       ]
      }
     ],
     "prompt_number": 4
    },
    {
     "cell_type": "code",
     "collapsed": false,
     "input": [
      "F = sp.Matrix([xdot1 - x2 , xdot3*(xdot1 - x2 ) + xdot2 - x3 ]) ##"
     ],
     "language": "python",
     "metadata": {},
     "outputs": [
      {
       "latex": [
        "$$\\left[\\begin{matrix}- x_{2} + \\dot{x}_{1}\\\\- x_{3} + \\dot{x}_{2} + \\dot{x}_{3} \\left(- x_{2} + \\dot{x}_{1}\\right)\\end{matrix}\\right]$$"
       ],
       "metadata": {},
       "output_type": "display_data",
       "png": "[encoded data removed]",
       "text": [
        "\u23a1         -x\u2082 + x\u0307\u2081         \u23a4\n",
        "\u23a2                           \u23a5\n",
        "\u23a3-x\u2083 + x\u0307\u2082 + x\u0307\u2083\u22c5(-x\u2082 + x\u0307\u2081)\u23a6"
       ]
      },
      {
       "output_type": "stream",
       "stream": "stdout",
       "text": [
        "---\n"
       ]
      }
     ],
     "prompt_number": 5
    },
    {
     "cell_type": "code",
     "collapsed": false,
     "input": [
      "P0 =  F.jacobian(xx) ##:\n",
      "P1 = F.jacobian(xxd) ##:"
     ],
     "language": "python",
     "metadata": {},
     "outputs": [
      {
       "latex": [
        "P0 := $$\\left[\\begin{matrix}0 & -1 & 0\\\\0 & - \\dot{x}_{3} & -1\\end{matrix}\\right]$$"
       ],
       "metadata": {},
       "output_type": "display_data",
       "png": "[encoded data removed]",
       "text": [
        "P0 := \u23a10   -1   0 \u23a4\n",
        "\u23a2           \u23a5\n",
        "\u23a30  -x\u0307\u2083  -1\u23a6"
       ]
      },
      {
       "output_type": "stream",
       "stream": "stdout",
       "text": [
        "---\n"
       ]
      },
      {
       "latex": [
        "P1 := $$\\left[\\begin{matrix}1 & 0 & 0\\\\\\dot{x}_{3} & 1 & - x_{2} + \\dot{x}_{1}\\end{matrix}\\right]$$"
       ],
       "metadata": {},
       "output_type": "display_data",
       "png": "[encoded data removed]",
       "text": [
        "P1 := \u23a1 1   0      0    \u23a4\n",
        "\u23a2                 \u23a5\n",
        "\u23a3x\u0307\u2083  1  -x\u2082 + x\u0307\u2081\u23a6"
       ]
      },
      {
       "output_type": "stream",
       "stream": "stdout",
       "text": [
        "---\n"
       ]
      }
     ],
     "prompt_number": 6
    },
    {
     "cell_type": "code",
     "collapsed": false,
     "input": [
      "PF = P0 + P1*s ##:"
     ],
     "language": "python",
     "metadata": {},
     "outputs": [
      {
       "latex": [
        "PF := $$\\left[\\begin{matrix}s & -1 & 0\\\\\\dot{x}_{3} s & s - \\dot{x}_{3} & -1 + \\left(- x_{2} + \\dot{x}_{1}\\right) s\\end{matrix}\\right]$$"
       ],
       "metadata": {},
       "output_type": "display_data",
       "png": "[encoded data removed]",
       "text": [
        "PF := \u23a1  s      -1             0         \u23a4\n",
        "\u23a2                                  \u23a5\n",
        "\u23a3x\u0307\u2083\u22c5s  s - x\u0307\u2083  -1 + (-x\u2082 + x\u0307\u2081)\u22c5s\u23a6"
       ]
      },
      {
       "output_type": "stream",
       "stream": "stdout",
       "text": [
        "---\n"
       ]
      }
     ],
     "prompt_number": 7
    },
    {
     "cell_type": "markdown",
     "metadata": {},
     "source": [
      "\u00dcberf\u00fchrung in Hermite-Normalform"
     ]
    },
    {
     "cell_type": "code",
     "collapsed": false,
     "input": [
      "Q = sp.Matrix([[1, 0, 0]]) ##:\n",
      "st.row_stack(PF, Q)"
     ],
     "language": "python",
     "metadata": {},
     "outputs": [
      {
       "latex": [
        "Q := $$\\left[\\begin{matrix}1 & 0 & 0\\end{matrix}\\right]$$"
       ],
       "metadata": {},
       "output_type": "display_data",
       "png": "[encoded data removed]",
       "text": [
        "Q := [1  0  0]"
       ]
      },
      {
       "output_type": "stream",
       "stream": "stdout",
       "text": [
        "---\n"
       ]
      },
      {
       "latex": [
        "$$\\left[\\begin{matrix}s & -1 & 0\\\\\\dot{x}_{3} s & s - \\dot{x}_{3} & -1 + \\left(- x_{2} + \\dot{x}_{1}\\right) s\\\\1 & 0 & 0\\end{matrix}\\right]$$"
       ],
       "metadata": {},
       "output_type": "pyout",
       "png": "[encoded data removed]",
       "prompt_number": 8,
       "text": [
        "\u23a1  s      -1             0         \u23a4\n",
        "\u23a2                                  \u23a5\n",
        "\u23a2x\u0307\u2083\u22c5s  s - x\u0307\u2083  -1 + (-x\u2082 + x\u0307\u2081)\u22c5s\u23a5\n",
        "\u23a2                                  \u23a5\n",
        "\u23a3  1       0             0         \u23a6"
       ]
      }
     ],
     "prompt_number": 8
    },
    {
     "cell_type": "markdown",
     "metadata": {},
     "source": [
      "Aufgrund der Blockstruktur\n",
      "$\n",
      "\\left(\\begin{smallmatrix}\n",
      " \\bs A & \\bs B \\\\\n",
      "\\bs I_1 & \\bs 0\n",
      "\\end{smallmatrix} \\right)\n",
      "$\n",
      "der vervollst\u00e4ndigten Matix ist klar erkennbar, dass sie nicht global unimodular ist, sondern nur $\\mathcal{F}$-unimodular.\n",
      "\n",
      "---\n",
      "\n"
     ]
    },
    {
     "cell_type": "markdown",
     "metadata": {},
     "source": [
      "### Nachweis der Hyperregularit\u00e4t von $\\bs P_F$ (auch ohne Ber\u00fccksichtigung von $\\bs F=0$)\n",
      "\n",
      "Transformation in Smith- bzw. Hermite-Normalform durch elementare Spaltenoperationen."
     ]
    },
    {
     "cell_type": "code",
     "collapsed": false,
     "input": [
      "F1 = F[0]##\n",
      "\n",
      "T_list = []\n",
      "P_list = []\n",
      "PP = PF*1"
     ],
     "language": "python",
     "metadata": {},
     "outputs": [
      {
       "latex": [
        "$$- x_{2} + \\dot{x}_{1}$$"
       ],
       "metadata": {},
       "output_type": "display_data",
       "png": "[encoded data removed]",
       "text": [
        "-x\u2082 + x\u0307\u2081"
       ]
      },
      {
       "output_type": "stream",
       "stream": "stdout",
       "text": [
        "---\n"
       ]
      }
     ],
     "prompt_number": 9
    },
    {
     "cell_type": "code",
     "collapsed": false,
     "input": [
      "T = sp.eye(3)\n",
      "T[1, 0] = s\n",
      "T ##:\n",
      "\n",
      "PP = nct.right_shift_all(nct.nc_mul(PP, T), s, None, xx) ##:\n",
      "\n",
      "T_list.append(T)\n",
      "P_list.append(PP)"
     ],
     "language": "python",
     "metadata": {},
     "outputs": [
      {
       "latex": [
        "T  := $$\\left[\\begin{matrix}1 & 0 & 0\\\\s & 1 & 0\\\\0 & 0 & 1\\end{matrix}\\right]$$"
       ],
       "metadata": {},
       "output_type": "display_data",
       "png": "[encoded data removed]",
       "text": [
        "T  := \u23a11  0  0\u23a4\n",
        "\u23a2       \u23a5\n",
        "\u23a2s  1  0\u23a5\n",
        "\u23a2       \u23a5\n",
        "\u23a30  0  1\u23a6"
       ]
      },
      {
       "output_type": "stream",
       "stream": "stdout",
       "text": [
        "___\n"
       ]
      },
      {
       "latex": [
        "PP := $$\\left[\\begin{matrix}0 & -1 & 0\\\\s^{2} & s - \\dot{x}_{3} & -1 - x_{2} s + \\dot{x}_{1} s\\end{matrix}\\right]$$"
       ],
       "metadata": {},
       "output_type": "display_data",
       "png": "[encoded data removed]",
       "text": [
        "PP := \u23a10     -1             0        \u23a4\n",
        "\u23a2                              \u23a5\n",
        "\u23a2 2                            \u23a5\n",
        "\u23a3s   s - x\u0307\u2083  -1 - x\u2082\u22c5s + x\u0307\u2081\u22c5s\u23a6"
       ]
      },
      {
       "output_type": "stream",
       "stream": "stdout",
       "text": [
        "---\n"
       ]
      }
     ],
     "prompt_number": 10
    },
    {
     "cell_type": "code",
     "collapsed": false,
     "input": [
      "T = sp.eye(3)\n",
      "T[0, 0] = -F1\n",
      "T[2, 0] = s\n",
      "T ##:\n",
      "\n",
      "PP = nct.right_shift_all(nct.nc_mul(PP, T), s, None, xx) ##:\n",
      "\n",
      "T_list.append(T)\n",
      "P_list.append(PP)"
     ],
     "language": "python",
     "metadata": {},
     "outputs": [
      {
       "latex": [
        "T  := $$\\left[\\begin{matrix}x_{2} - \\dot{x}_{1} & 0 & 0\\\\0 & 1 & 0\\\\s & 0 & 1\\end{matrix}\\right]$$"
       ],
       "metadata": {},
       "output_type": "display_data",
       "png": "[encoded data removed]",
       "text": [
        "T  := \u23a1x\u2082 - x\u0307\u2081  0  0\u23a4\n",
        "\u23a2              \u23a5\n",
        "\u23a2   0      1  0\u23a5\n",
        "\u23a2              \u23a5\n",
        "\u23a3   s      0  1\u23a6"
       ]
      },
      {
       "output_type": "stream",
       "stream": "stdout",
       "text": [
        "___\n"
       ]
      },
      {
       "latex": [
        "PP := $$\\left[\\begin{matrix}0 & -1 & 0\\\\- s - \\dddot{x}_{1} - 2 \\ddot{x}_{1} s + \\ddot{x}_{2} + 2 \\dot{x}_{2} s & s - \\dot{x}_{3} & -1 - x_{2} s + \\dot{x}_{1} s\\end{matrix}\\right]$$"
       ],
       "metadata": {},
       "output_type": "display_data",
       "png": "[encoded data removed]",
       "text": [
        "PP := \u23a1                 0                     -1             0        \u23a4\n",
        "\u23a2                                                               \u23a5\n",
        "\u23a3-s - x\u0308\u0307\u2081 - 2\u22c5x\u0308\u2081\u22c5s + x\u0308\u2082 + 2\u22c5x\u0307\u2082\u22c5s  s - x\u0307\u2083  -1 - x\u2082\u22c5s + x\u0307\u2081\u22c5s\u23a6"
       ]
      },
      {
       "output_type": "stream",
       "stream": "stdout",
       "text": [
        "---\n"
       ]
      }
     ],
     "prompt_number": 11
    },
    {
     "cell_type": "code",
     "collapsed": false,
     "input": [
      "c1 = PP[1, 0].diff(s)\n",
      "c3 = PP[1, 2].diff(s)\n",
      "\n",
      "T = sp.eye(3)\n",
      "T[0, 0] = -c3\n",
      "T[2, 0] = c1\n",
      "T ##:\n",
      "\n",
      "PP = nct.right_shift_all(nct.nc_mul(PP, T), s, None, xx) ##:\n",
      "\n",
      "T_list.append(T)\n",
      "P_list.append(PP)"
     ],
     "language": "python",
     "metadata": {},
     "outputs": [
      {
       "latex": [
        "T  := $$\\left[\\begin{matrix}x_{2} - \\dot{x}_{1} & 0 & 0\\\\0 & 1 & 0\\\\-1 - 2 \\ddot{x}_{1} + 2 \\dot{x}_{2} & 0 & 1\\end{matrix}\\right]$$"
       ],
       "metadata": {},
       "output_type": "display_data",
       "png": "[encoded data removed]",
       "text": [
        "T  := \u23a1     x\u2082 - x\u0307\u2081       0  0\u23a4\n",
        "\u23a2                        \u23a5\n",
        "\u23a2        0           1  0\u23a5\n",
        "\u23a2                        \u23a5\n",
        "\u23a3-1 - 2\u22c5x\u0308\u2081 + 2\u22c5x\u0307\u2082  0  1\u23a6"
       ]
      },
      {
       "output_type": "stream",
       "stream": "stdout",
       "text": [
        "___\n"
       ]
      },
      {
       "latex": [
        "PP := $$\\left[\\begin{matrix}0 & -1 & 0\\\\1 + 2 x_{2} \\dddot{x}_{1} + 2 x_{2} \\ddot{x}_{1} s - 2 x_{2} \\ddot{x}_{2} - 2 x_{2} \\dot{x}_{2} s - \\dddot{x}_{1} x_{2} + \\dddot{x}_{1} \\dot{x}_{1} + 3 \\ddot{x}_{1} - 2 \\ddot{x}_{1} x_{2} s + 2 \\ddot{x}_{1} \\dot{x}_{1} s - 2 \\ddot{x}_{1} \\dot{x}_{2} + 2 \\ddot{x}_{1}^{2} + \\ddot{x}_{2} x_{2} - \\ddot{x}_{2} \\dot{x}_{1} - 2 \\dot{x}_{1} \\dddot{x}_{1} - 2 \\dot{x}_{1} \\ddot{x}_{1} s + 2 \\dot{x}_{1} \\ddot{x}_{2} + 2 \\dot{x}_{1} \\dot{x}_{2} s - 3 \\dot{x}_{2} + 2 \\dot{x}_{2} x_{2} s - 2 \\dot{x}_{2} \\ddot{x}_{1} - 2 \\dot{x}_{2} \\dot{x}_{1} s + 2 \\dot{x}_{2}^{2} & s - \\dot{x}_{3} & -1 - x_{2} s + \\dot{x}_{1} s\\end{matrix}\\right]$$"
       ],
       "metadata": {},
       "output_type": "display_data",
       "png": "[encoded data removed]",
       "text": [
        "PP := \u23a1                                                                             \n",
        "\u23a2                                                                             \n",
        "\u23a2                                                                             \n",
        "\u23a31 + 2\u22c5x\u2082\u22c5x\u0308\u0307\u2081 + 2\u22c5x\u2082\u22c5x\u0308\u2081\u22c5s - 2\u22c5x\u2082\u22c5x\u0308\u2082 - 2\u22c5x\u2082\u22c5x\u0307\u2082\u22c5s - x\u0308\u0307\u2081\u22c5x\u2082 + x\u0308\u0307\u2081\u22c5x\u0307\u2081 + 3\u22c5x\n",
        "\n",
        "                                                  0                           \n",
        "                                                                              \n",
        "                                                 2                            \n",
        "\u0308\u2081 - 2\u22c5x\u0308\u2081\u22c5x\u2082\u22c5s + 2\u22c5x\u0308\u2081\u22c5x\u0307\u2081\u22c5s - 2\u22c5x\u0308\u2081\u22c5x\u0307\u2082 + 2\u22c5x\u0308\u2081  + x\u0308\u2082\u22c5x\u2082 - x\u0308\u2082\u22c5x\u0307\u2081 - 2\u22c5x\u0307\u2081\u22c5\n",
        "\n",
        "                                                                              \n",
        "                                                                              \n",
        "                                                                              \n",
        "x\u0308\u0307\u2081 - 2\u22c5x\u0307\u2081\u22c5x\u0308\u2081\u22c5s + 2\u22c5x\u0307\u2081\u22c5x\u0308\u2082 + 2\u22c5x\u0307\u2081\u22c5x\u0307\u2082\u22c5s - 3\u22c5x\u0307\u2082 + 2\u22c5x\u0307\u2082\u22c5x\u2082\u22c5s - 2\u22c5x\u0307\u2082\u22c5x\u0308\u2081 \n",
        "\n",
        "                          -1             0        \u23a4\n",
        "                                                  \u23a5\n",
        "                     2                            \u23a5\n",
        "- 2\u22c5x\u0307\u2082\u22c5x\u0307\u2081\u22c5s + 2\u22c5x\u0307\u2082   s - x\u0307\u2083  -1 - x\u2082\u22c5s + x\u0307\u2081\u22c5s\u23a6"
       ]
      },
      {
       "output_type": "stream",
       "stream": "stdout",
       "text": [
        "---\n"
       ]
      }
     ],
     "prompt_number": 12
    },
    {
     "cell_type": "code",
     "collapsed": false,
     "input": [
      "#  Die ersten beide Spalten tauschen\n",
      "T = st.col_select(sp.eye(3), 1, 0, 2) ##\n",
      "PP = PP*T\n",
      "\n",
      "# Vereinfachungen der Form (x1*x2*s - x2*x1*s) durchf\u00fchren\n",
      "PP = nct.commutative_simplification(PP, s) ##:"
     ],
     "language": "python",
     "metadata": {},
     "outputs": [
      {
       "latex": [
        "$$\\left[\\begin{matrix}0 & 1 & 0\\\\1 & 0 & 0\\\\0 & 0 & 1\\end{matrix}\\right]$$"
       ],
       "metadata": {},
       "output_type": "display_data",
       "png": "[encoded data removed]",
       "text": [
        "\u23a10  1  0\u23a4\n",
        "\u23a2       \u23a5\n",
        "\u23a21  0  0\u23a5\n",
        "\u23a2       \u23a5\n",
        "\u23a30  0  1\u23a6"
       ]
      },
      {
       "output_type": "stream",
       "stream": "stdout",
       "text": [
        "---\n"
       ]
      },
      {
       "latex": [
        "PP := $$\\left[\\begin{matrix}-1 & 0 & 0\\\\s - \\dot{x}_{3} & 1 - x_{2} \\ddot{x}_{2} + \\dddot{x}_{1} x_{2} - \\dddot{x}_{1} \\dot{x}_{1} + 3 \\ddot{x}_{1} + 2 \\ddot{x}_{1}^{2} + \\dot{x}_{1} \\ddot{x}_{2} - 3 \\dot{x}_{2} - 4 \\dot{x}_{2} \\ddot{x}_{1} + 2 \\dot{x}_{2}^{2} & -1 + \\left(- x_{2} + \\dot{x}_{1}\\right) s\\end{matrix}\\right]$$"
       ],
       "metadata": {},
       "output_type": "display_data",
       "png": "[encoded data removed]",
       "text": [
        "PP := \u23a1  -1                                                0                        \n",
        "\u23a2                                                                             \n",
        "\u23a2                                                        2                    \n",
        "\u23a3s - x\u0307\u2083  1 - x\u2082\u22c5x\u0308\u2082 + x\u0308\u0307\u2081\u22c5x\u2082 - x\u0308\u0307\u2081\u22c5x\u0307\u2081 + 3\u22c5x\u0308\u2081 + 2\u22c5x\u0308\u2081  + x\u0307\u2081\u22c5x\u0308\u2082 - 3\u22c5x\u0307\u2082 -\n",
        "\n",
        "                             0         \u23a4\n",
        "                                       \u23a5\n",
        "                  2                    \u23a5\n",
        " 4\u22c5x\u0307\u2082\u22c5x\u0308\u2081 + 2\u22c5x\u0307\u2082   -1 + (-x\u2082 + x\u0307\u2081)\u22c5s\u23a6"
       ]
      },
      {
       "output_type": "stream",
       "stream": "stdout",
       "text": [
        "---\n"
       ]
      }
     ],
     "prompt_number": 13
    },
    {
     "cell_type": "markdown",
     "metadata": {},
     "source": [
      "Hier kann die Berechnung der Transformation abgebrochen werden, denn es existiert eine Dreiecks-Untermatrix, auf deren Diagonale kein $s$ steht. Eine unimodulare Erg\u00e4nzung lautet dann:"
     ]
    },
    {
     "cell_type": "code",
     "collapsed": false,
     "input": [
      "QQT = sp.Matrix([0, 0, 1]).T ##\n",
      "\n",
      "PPQQT = st.row_stack(PP, QQT)"
     ],
     "language": "python",
     "metadata": {},
     "outputs": [
      {
       "latex": [
        "$$\\left[\\begin{matrix}0 & 0 & 1\\end{matrix}\\right]$$"
       ],
       "metadata": {},
       "output_type": "display_data",
       "png": "[encoded data removed]",
       "text": [
        "[0  0  1]"
       ]
      },
      {
       "output_type": "stream",
       "stream": "stdout",
       "text": [
        "---\n"
       ]
      }
     ],
     "prompt_number": 17
    },
    {
     "cell_type": "code",
     "collapsed": false,
     "input": [
      "T_list ##:\n",
      "\n",
      "T_inv_list = [nct.unimod_inv(T, s, time_dep_symbs=xx) for T in reversed(T_list)]\n",
      "T_inv_list = [nct.commutative_simplification(T, s) for T in T_inv_list] ##:\n"
     ],
     "language": "python",
     "metadata": {},
     "outputs": [
      {
       "latex": [
        "T_list  := $$\\left [ \\left[\\begin{matrix}1 & 0 & 0\\\\s & 1 & 0\\\\0 & 0 & 1\\end{matrix}\\right], \\quad \\left[\\begin{matrix}x_{2} - \\dot{x}_{1} & 0 & 0\\\\0 & 1 & 0\\\\s & 0 & 1\\end{matrix}\\right], \\quad \\left[\\begin{matrix}x_{2} - \\dot{x}_{1} & 0 & 0\\\\0 & 1 & 0\\\\-1 - 2 \\ddot{x}_{1} + 2 \\dot{x}_{2} & 0 & 1\\end{matrix}\\right]\\right ]$$"
       ],
       "metadata": {},
       "output_type": "display_data",
       "png": "[encoded data removed]",
       "text": [
        "T_list  := \u23a1\u23a11  0  0\u23a4, \u23a1x\u2082 - x\u0307\u2081  0  0\u23a4, \u23a1     x\u2082 - x\u0307\u2081       0  0\u23a4\u23a4\n",
        "\u23a2\u23a2       \u23a5  \u23a2              \u23a5  \u23a2                        \u23a5\u23a5\n",
        "\u23a2\u23a2s  1  0\u23a5  \u23a2   0      1  0\u23a5  \u23a2        0           1  0\u23a5\u23a5\n",
        "\u23a2\u23a2       \u23a5  \u23a2              \u23a5  \u23a2                        \u23a5\u23a5\n",
        "\u23a3\u23a30  0  1\u23a6  \u23a3   s      0  1\u23a6  \u23a3-1 - 2\u22c5x\u0308\u2081 + 2\u22c5x\u0307\u2082  0  1\u23a6\u23a6"
       ]
      },
      {
       "output_type": "stream",
       "stream": "stdout",
       "text": [
        "___\n"
       ]
      },
      {
       "latex": [
        "T_inv_list := $$\\left [ \\left[\\begin{matrix}\\left(x_{2} - \\dot{x}_{1}\\right)^{-1} & 0 & 0\\\\0 & 1 & 0\\\\\\left(x_{2} - \\dot{x}_{1}\\right)^{-1} \\left(1 + 2 \\ddot{x}_{1} - 2 \\dot{x}_{2}\\right) & 0 & 1\\end{matrix}\\right], \\quad \\left[\\begin{matrix}\\left(x_{2} - \\dot{x}_{1}\\right)^{-1} & 0 & 0\\\\0 & 1 & 0\\\\- \\left(x_{2} - \\dot{x}_{1}\\right)^{-1} s + \\left(x_{2}^{2} - 2 \\dot{x}_{1} x_{2} + \\dot{x}_{1}^{2}\\right)^{-1} \\left(- \\ddot{x}_{1} + \\dot{x}_{2}\\right) & 0 & 1\\end{matrix}\\right], \\quad \\left[\\begin{matrix}1 & 0 & 0\\\\- s & 1 & 0\\\\0 & 0 & 1\\end{matrix}\\right]\\right ]$$"
       ],
       "metadata": {},
       "output_type": "display_data",
       "png": "[encoded data removed]",
       "text": [
        "T_inv_list := \u23a1\u23a1                    -1                \u23a4  \u23a1                                -1\n",
        "\u23a2\u23a2          (x\u2082 - x\u0307\u2081)              0  0\u23a5, \u23a2                      (x\u2082 - x\u0307\u2081)  \n",
        "\u23a2\u23a2                                      \u23a5  \u23a2                                  \n",
        "\u23a2\u23a2               0                  1  0\u23a5  \u23a2                            0     \n",
        "\u23a2\u23a2                                      \u23a5  \u23a2                                  \n",
        "\u23a2\u23a2          -1                          \u23a5  \u23a2                                  \n",
        "\u23a2\u23a3(x\u2082 - x\u0307\u2081)  \u22c5(1 + 2\u22c5x\u0308\u2081 - 2\u22c5x\u0307\u2082)  0  1\u23a6  \u23a2            -1     \u239b  2           \n",
        "\u23a3                                          \u23a3- (x\u2082 - x\u0307\u2081)  \u22c5s + \u239dx\u2082  - 2\u22c5x\u0307\u2081\u22c5x\u2082\n",
        "\n",
        "                             \u23a4            \u23a4\n",
        "                         0  0\u23a5, \u23a11   0  0\u23a4\u23a5\n",
        "                             \u23a5  \u23a2        \u23a5\u23a5\n",
        "                         1  0\u23a5  \u23a2-s  1  0\u23a5\u23a5\n",
        "                             \u23a5  \u23a2        \u23a5\u23a5\n",
        "        -1                   \u23a5  \u23a30   0  1\u23a6\u23a5\n",
        "      2\u239e                     \u23a5            \u23a5\n",
        " + x\u0307\u2081 \u23a0  \u22c5(-x\u0308\u2081 + x\u0307\u2082)  0  1\u23a6            \u23a6"
       ]
      },
      {
       "output_type": "stream",
       "stream": "stdout",
       "text": [
        "---\n"
       ]
      }
     ],
     "prompt_number": 30
    },
    {
     "cell_type": "code",
     "collapsed": false,
     "input": [
      "T_ges = sp.eye(3)\n",
      "T_inv_ges = sp.eye(3)\n",
      "\n",
      "for T in T_list:\n",
      "    T_ges = nct.right_shift_all(nct.nc_mul(T_ges, T), s, None, xx)\n",
      "\n",
      "\n",
      "for T in T_inv_list:\n",
      "    T_inv_ges = nct.right_shift_all(nct.nc_mul(T_inv_ges, T), s, None, xx)"
     ],
     "language": "python",
     "metadata": {},
     "outputs": [],
     "prompt_number": 32
    },
    {
     "cell_type": "code",
     "collapsed": false,
     "input": [
      "# Probe\n",
      "\n",
      "res1 =  nct.right_shift_all(nct.nc_mul(T_inv_ges, T_ges), s, None, xx)\n",
      "res2 =  nct.right_shift_all(nct.nc_mul(T_ges, T_inv_ges), s, None, xx)\n",
      "\n",
      "res1 = nct.commutative_simplification(res1, s) ##:\n",
      "res2 = nct.commutative_simplification(res2, s) ##:"
     ],
     "language": "python",
     "metadata": {},
     "outputs": [
      {
       "latex": [
        "res1 := $$\\left[\\begin{matrix}1 & 0 & 0\\\\0 & 1 & 0\\\\0 & 0 & 1\\end{matrix}\\right]$$"
       ],
       "metadata": {},
       "output_type": "display_data",
       "png": "[encoded data removed]",
       "text": [
        "res1 := \u23a11  0  0\u23a4\n",
        "\u23a2       \u23a5\n",
        "\u23a20  1  0\u23a5\n",
        "\u23a2       \u23a5\n",
        "\u23a30  0  1\u23a6"
       ]
      },
      {
       "output_type": "stream",
       "stream": "stdout",
       "text": [
        "---\n"
       ]
      },
      {
       "latex": [
        "res2 := $$\\left[\\begin{matrix}1 & 0 & 0\\\\0 & 1 & 0\\\\0 & 0 & 1\\end{matrix}\\right]$$"
       ],
       "metadata": {},
       "output_type": "display_data",
       "png": "[encoded data removed]",
       "text": [
        "res2 := \u23a11  0  0\u23a4\n",
        "\u23a2       \u23a5\n",
        "\u23a20  1  0\u23a5\n",
        "\u23a2       \u23a5\n",
        "\u23a30  0  1\u23a6"
       ]
      },
      {
       "output_type": "stream",
       "stream": "stdout",
       "text": [
        "---\n"
       ]
      }
     ],
     "prompt_number": 40
    },
    {
     "cell_type": "code",
     "collapsed": false,
     "input": [
      "Q2 = nct.right_shift_all(nct.nc_mul(QQT, T_inv_ges), s, None, xx)\n",
      "Q2 = nct.commutative_simplification(Q2, s) ##:"
     ],
     "language": "python",
     "metadata": {},
     "outputs": [
      {
       "latex": [
        "Q2 := $$\\left[\\begin{matrix}- \\left(x_{2} - \\dot{x}_{1}\\right)^{-1} s + \\left(x_{2}^{2} - 2 \\dot{x}_{1} x_{2} + \\dot{x}_{1}^{2}\\right)^{-1} \\left(1 + \\ddot{x}_{1} - \\dot{x}_{2}\\right) & 0 & 1\\end{matrix}\\right]$$"
       ],
       "metadata": {},
       "output_type": "display_data",
       "png": "[encoded data removed]",
       "text": [
        "Q2 := \u23a1                                          -1                      \u23a4\n",
        "\u23a2            -1     \u239b  2                 2\u239e                        \u23a5\n",
        "\u23a3- (x\u2082 - x\u0307\u2081)  \u22c5s + \u239dx\u2082  - 2\u22c5x\u0307\u2081\u22c5x\u2082 + x\u0307\u2081 \u23a0  \u22c5(1 + x\u0308\u2081 - x\u0307\u2082)  0  1\u23a6"
       ]
      },
      {
       "output_type": "stream",
       "stream": "stdout",
       "text": [
        "---\n"
       ]
      }
     ],
     "prompt_number": 44
    },
    {
     "cell_type": "markdown",
     "metadata": {},
     "source": [
      "Damit hat man eine unimodulare Vervollst\u00e4ndigung, die allerdings f\u00fcr $\\bs F = 0$ nicht definiert ist."
     ]
    },
    {
     "cell_type": "code",
     "collapsed": false,
     "input": [],
     "language": "python",
     "metadata": {},
     "outputs": []
    }
   ],
   "metadata": {}
  }
 ]
}