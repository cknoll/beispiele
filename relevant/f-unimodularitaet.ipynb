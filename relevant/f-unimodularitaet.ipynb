{
 "metadata": {
  "name": "",
  "signature": "sha256:067629158071f92a4cc13765735f415873caf2eb2e2788f3b20ca66a2dda5fd3"
 },
 "nbformat": 3,
 "nbformat_minor": 0,
 "worksheets": [
  {
   "cells": [
    {
     "cell_type": "code",
     "collapsed": false,
     "input": [
      "from diss_aux import latex"
     ],
     "language": "python",
     "metadata": {},
     "outputs": [],
     "prompt_number": 1
    },
    {
     "cell_type": "code",
     "collapsed": false,
     "input": [
      "%load_ext displaytools\n",
      "import time\n",
      "print time.ctime()"
     ],
     "language": "python",
     "metadata": {},
     "outputs": [
      {
       "output_type": "stream",
       "stream": "stdout",
       "text": [
        "Sun Apr 10 14:46:51 2016\n"
       ]
      }
     ],
     "prompt_number": 2
    },
    {
     "cell_type": "markdown",
     "metadata": {},
     "source": [
      "[//]: # (custom_config_start)\n",
      "$$\n",
      "\\newcommand{\\col}{\\mathrm{col}}\n",
      "\\newcommand{\\opspan}{\\operatorname{span}}\n",
      "\\newcommand{\\bs}{\\boldsymbol}\n",
      "\\newcommand{\\mb}{\\mathbf}\n",
      "\\newcommand{\\nx}{n_{\\boldsymbol x}}\n",
      "\\newcommand{\\Ddt}{\\left(\\tfrac{d}{dt}\\right)}\n",
      "$$\n",
      "[//]: # (custom_config_end)\n",
      "\n",
      "**Betrachtetes System**:\n",
      "\n",
      "$$\n",
      "\\begin{align}\n",
      "%\\label{eq_}\n",
      "F_1 &= \\dot x_1 - x_2 -x_4 = 0\\\\\n",
      "F_2 &= \\dot x_3 F_1 + x_3 + \\dot x_2 = 0\\\\\n",
      "\\end{align}\n",
      "$$\n",
      "\n",
      "**Betrachtete Fragen**:\n",
      "* ist die Verallgemeinerte Jacobimatrix hyperegul\u00e4r oder nur $\\bs F$-hyperegul\u00e4r?"
     ]
    },
    {
     "cell_type": "code",
     "collapsed": false,
     "input": [
      "import sympy as sp\n",
      "from sympy import sin, cos, pi\n",
      "from sympy.interactive import printing\n",
      "import symbtools as st\n",
      "import symbtools.noncommutativetools as nct\n",
      "\n",
      "printing.init_printing(1)"
     ],
     "language": "python",
     "metadata": {},
     "outputs": [],
     "prompt_number": 3
    },
    {
     "cell_type": "code",
     "collapsed": false,
     "input": [
      "s = sp.Symbol('s', commutative = False)\n",
      "\n",
      "xx = st.symb_vector('x1:5', commutative=False) ##:T\n",
      "\n",
      "xxd = st.time_deriv(xx, xx) ##:T\n",
      "xxdd = st.time_deriv(xx, xx, order=2) ##:T\n",
      "st.make_global(xx, xxd, xxdd)"
     ],
     "language": "python",
     "metadata": {},
     "outputs": [
      {
       "latex": [
        "xx.T := $$\\left[\\begin{matrix}x_{1} & x_{2} & x_{3} & x_{4}\\end{matrix}\\right]$$"
       ],
       "metadata": {},
       "output_type": "display_data",
       "png": "[encoded data removed]",
       "text": [
        "xx.T := [x\u2081  x\u2082  x\u2083  x\u2084]"
       ]
      },
      {
       "output_type": "stream",
       "stream": "stdout",
       "text": [
        "---\n"
       ]
      },
      {
       "latex": [
        "xxd.T := $$\\left[\\begin{matrix}\\dot{x}_{1} & \\dot{x}_{2} & \\dot{x}_{3} & \\dot{x}_{4}\\end{matrix}\\right]$$"
       ],
       "metadata": {},
       "output_type": "display_data",
       "png": "[encoded data removed]",
       "text": [
        "xxd.T := [x\u0307\u2081  x\u0307\u2082  x\u0307\u2083  x\u0307\u2084]"
       ]
      },
      {
       "output_type": "stream",
       "stream": "stdout",
       "text": [
        "---\n"
       ]
      },
      {
       "latex": [
        "xxdd.T := $$\\left[\\begin{matrix}\\ddot{x}_{1} & \\ddot{x}_{2} & \\ddot{x}_{3} & \\ddot{x}_{4}\\end{matrix}\\right]$$"
       ],
       "metadata": {},
       "output_type": "display_data",
       "png": "[encoded data removed]",
       "text": [
        "xxdd.T := [x\u0308\u2081  x\u0308\u2082  x\u0308\u2083  x\u0308\u2084]"
       ]
      },
      {
       "output_type": "stream",
       "stream": "stdout",
       "text": [
        "---\n"
       ]
      }
     ],
     "prompt_number": 4
    },
    {
     "cell_type": "code",
     "collapsed": false,
     "input": [
      "F = sp.Matrix([xdot1 - x2 - x4, xdot3*(xdot1 - x2 - x4) + xdot2 + x3 ]) ##"
     ],
     "language": "python",
     "metadata": {},
     "outputs": [
      {
       "latex": [
        "$$\\left[\\begin{matrix}- x_{2} - x_{4} + \\dot{x}_{1}\\\\x_{3} + \\dot{x}_{2} + \\dot{x}_{3} \\left(- x_{2} - x_{4} + \\dot{x}_{1}\\right)\\end{matrix}\\right]$$"
       ],
       "metadata": {},
       "output_type": "display_data",
       "png": "[encoded data removed]",
       "text": [
        "\u23a1        -x\u2082 - x\u2084 + x\u0307\u2081         \u23a4\n",
        "\u23a2                               \u23a5\n",
        "\u23a3x\u2083 + x\u0307\u2082 + x\u0307\u2083\u22c5(-x\u2082 - x\u2084 + x\u0307\u2081)\u23a6"
       ]
      },
      {
       "output_type": "stream",
       "stream": "stdout",
       "text": [
        "---\n"
       ]
      }
     ],
     "prompt_number": 5
    },
    {
     "cell_type": "code",
     "collapsed": false,
     "input": [
      "P0 =  F.jacobian(xx) ##\n",
      "P1 = F.jacobian(xxd) ##"
     ],
     "language": "python",
     "metadata": {},
     "outputs": [
      {
       "latex": [
        "$$\\left[\\begin{matrix}0 & -1 & 0 & -1\\\\0 & - \\dot{x}_{3} & 1 & - \\dot{x}_{3}\\end{matrix}\\right]$$"
       ],
       "metadata": {},
       "output_type": "display_data",
       "png": "[encoded data removed]",
       "text": [
        "\u23a10   -1   0   -1 \u23a4\n",
        "\u23a2                \u23a5\n",
        "\u23a30  -x\u0307\u2083  1  -x\u0307\u2083\u23a6"
       ]
      },
      {
       "output_type": "stream",
       "stream": "stdout",
       "text": [
        "---\n"
       ]
      },
      {
       "latex": [
        "$$\\left[\\begin{matrix}1 & 0 & 0 & 0\\\\\\dot{x}_{3} & 1 & - x_{2} - x_{4} + \\dot{x}_{1} & 0\\end{matrix}\\right]$$"
       ],
       "metadata": {},
       "output_type": "display_data",
       "png": "[encoded data removed]",
       "text": [
        "\u23a1 1   0        0         0\u23a4\n",
        "\u23a2                         \u23a5\n",
        "\u23a3x\u0307\u2083  1  -x\u2082 - x\u2084 + x\u0307\u2081  0\u23a6"
       ]
      },
      {
       "output_type": "stream",
       "stream": "stdout",
       "text": [
        "---\n"
       ]
      }
     ],
     "prompt_number": 6
    },
    {
     "cell_type": "code",
     "collapsed": false,
     "input": [
      "PF = P0 + P1*s ##:"
     ],
     "language": "python",
     "metadata": {},
     "outputs": [
      {
       "latex": [
        "PF := $$\\left[\\begin{matrix}s & -1 & 0 & -1\\\\\\dot{x}_{3} s & s - \\dot{x}_{3} & 1 + \\left(- x_{2} - x_{4} + \\dot{x}_{1}\\right) s & - \\dot{x}_{3}\\end{matrix}\\right]$$"
       ],
       "metadata": {},
       "output_type": "display_data",
       "png": "[encoded data removed]",
       "text": [
        "PF := \u23a1  s      -1               0              -1 \u23a4\n",
        "\u23a2                                            \u23a5\n",
        "\u23a3x\u0307\u2083\u22c5s  s - x\u0307\u2083  1 + (-x\u2082 - x\u2084 + x\u0307\u2081)\u22c5s  -x\u0307\u2083\u23a6"
       ]
      },
      {
       "output_type": "stream",
       "stream": "stdout",
       "text": [
        "---\n"
       ]
      }
     ],
     "prompt_number": 7
    },
    {
     "cell_type": "markdown",
     "metadata": {},
     "source": [
      "\u00dcberf\u00fchrung in Hermite-Normalform"
     ]
    },
    {
     "cell_type": "code",
     "collapsed": false,
     "input": [
      "latex(PF)"
     ],
     "language": "python",
     "metadata": {},
     "outputs": [
      {
       "output_type": "stream",
       "stream": "stdout",
       "text": [
        "\\left(\\begin{matrix}\n",
        "s & -1 & 0 & -1\\\\\n",
        "\\dot{x}_{3} s & s - \\dot{x}_{3} & 1 + \\left(- x_{2} - x_{4} + \\dot{x}_{1}\\right) s & - \\dot{x}_{3}\n",
        "\\end{matrix}\\right)\n",
        "-------------\n"
       ]
      }
     ],
     "prompt_number": 8
    },
    {
     "cell_type": "code",
     "collapsed": false,
     "input": [
      "T1 = sp.eye(4)\n",
      "T1[3, 0] = s\n",
      "T1[3, 1] = -1\n",
      "T1 ##:"
     ],
     "language": "python",
     "metadata": {},
     "outputs": [
      {
       "latex": [
        "T1  := $$\\left[\\begin{matrix}1 & 0 & 0 & 0\\\\0 & 1 & 0 & 0\\\\0 & 0 & 1 & 0\\\\s & -1 & 0 & 1\\end{matrix}\\right]$$"
       ],
       "metadata": {},
       "output_type": "display_data",
       "png": "[encoded data removed]",
       "text": [
        "T1  := \u23a11  0   0  0\u23a4\n",
        "\u23a2           \u23a5\n",
        "\u23a20  1   0  0\u23a5\n",
        "\u23a2           \u23a5\n",
        "\u23a20  0   1  0\u23a5\n",
        "\u23a2           \u23a5\n",
        "\u23a3s  -1  0  1\u23a6"
       ]
      },
      {
       "output_type": "stream",
       "stream": "stdout",
       "text": [
        "___\n"
       ]
      }
     ],
     "prompt_number": 9
    },
    {
     "cell_type": "code",
     "collapsed": false,
     "input": [
      "PF2 = nct.right_shift_all(nct.nc_mul(PF, T1), s, None, xx) ##:"
     ],
     "language": "python",
     "metadata": {},
     "outputs": [
      {
       "latex": [
        "PF2 := $$\\left[\\begin{matrix}0 & 0 & 0 & -1\\\\0 & s & 1 - x_{2} s - x_{4} s + \\dot{x}_{1} s & - \\dot{x}_{3}\\end{matrix}\\right]$$"
       ],
       "metadata": {},
       "output_type": "display_data",
       "png": "[encoded data removed]",
       "text": [
        "PF2 := \u23a10  0             0              -1 \u23a4\n",
        "\u23a2                                   \u23a5\n",
        "\u23a30  s  1 - x\u2082\u22c5s - x\u2084\u22c5s + x\u0307\u2081\u22c5s  -x\u0307\u2083\u23a6"
       ]
      },
      {
       "output_type": "stream",
       "stream": "stdout",
       "text": [
        "---\n"
       ]
      }
     ],
     "prompt_number": 10
    },
    {
     "cell_type": "code",
     "collapsed": false,
     "input": [
      "T2 = sp.eye(4)\n",
      "T2[1, 2] = -F[0]\n",
      "T2 ##:"
     ],
     "language": "python",
     "metadata": {},
     "outputs": [
      {
       "latex": [
        "T2  := $$\\left[\\begin{matrix}1 & 0 & 0 & 0\\\\0 & 1 & x_{2} + x_{4} - \\dot{x}_{1} & 0\\\\0 & 0 & 1 & 0\\\\0 & 0 & 0 & 1\\end{matrix}\\right]$$"
       ],
       "metadata": {},
       "output_type": "display_data",
       "png": "[encoded data removed]",
       "text": [
        "T2  := \u23a11  0        0        0\u23a4\n",
        "\u23a2                      \u23a5\n",
        "\u23a20  1  x\u2082 + x\u2084 - x\u0307\u2081  0\u23a5\n",
        "\u23a2                      \u23a5\n",
        "\u23a20  0        1        0\u23a5\n",
        "\u23a2                      \u23a5\n",
        "\u23a30  0        0        1\u23a6"
       ]
      },
      {
       "output_type": "stream",
       "stream": "stdout",
       "text": [
        "___\n"
       ]
      }
     ],
     "prompt_number": 11
    },
    {
     "cell_type": "code",
     "collapsed": false,
     "input": [
      "PF3 = nct.right_shift_all(nct.nc_mul(PF2, T2), s, None, xx) ##:"
     ],
     "language": "python",
     "metadata": {},
     "outputs": [
      {
       "latex": [
        "PF3 := $$\\left[\\begin{matrix}0 & 0 & 0 & -1\\\\0 & s & 1 - \\ddot{x}_{1} + \\dot{x}_{2} + \\dot{x}_{4} & - \\dot{x}_{3}\\end{matrix}\\right]$$"
       ],
       "metadata": {},
       "output_type": "display_data",
       "png": "[encoded data removed]",
       "text": [
        "PF3 := \u23a10  0           0            -1 \u23a4\n",
        "\u23a2                               \u23a5\n",
        "\u23a30  s  1 - x\u0308\u2081 + x\u0307\u2082 + x\u0307\u2084  -x\u0307\u2083\u23a6"
       ]
      },
      {
       "output_type": "stream",
       "stream": "stdout",
       "text": [
        "---\n"
       ]
      }
     ],
     "prompt_number": 12
    },
    {
     "cell_type": "code",
     "collapsed": false,
     "input": [
      "T3 = sp.eye(4)\n",
      "T3[1, 1] = st.time_deriv(F[0], xx) -1\n",
      "T3[2, 1] = s\n",
      "T3 ##:"
     ],
     "language": "python",
     "metadata": {},
     "outputs": [
      {
       "latex": [
        "T3  := $$\\left[\\begin{matrix}1 & 0 & 0 & 0\\\\0 & -1 + \\ddot{x}_{1} - \\dot{x}_{2} - \\dot{x}_{4} & 0 & 0\\\\0 & s & 1 & 0\\\\0 & 0 & 0 & 1\\end{matrix}\\right]$$"
       ],
       "metadata": {},
       "output_type": "display_data",
       "png": "[encoded data removed]",
       "text": [
        "T3  := \u23a11           0            0  0\u23a4\n",
        "\u23a2                             \u23a5\n",
        "\u23a20  -1 + x\u0308\u2081 - x\u0307\u2082 - x\u0307\u2084  0  0\u23a5\n",
        "\u23a2                             \u23a5\n",
        "\u23a20           s            1  0\u23a5\n",
        "\u23a2                             \u23a5\n",
        "\u23a30           0            0  1\u23a6"
       ]
      },
      {
       "output_type": "stream",
       "stream": "stdout",
       "text": [
        "___\n"
       ]
      }
     ],
     "prompt_number": 13
    },
    {
     "cell_type": "code",
     "collapsed": false,
     "input": [
      "PF4 = nct.right_shift_all(nct.nc_mul(PF3, T3), s, None, xx) ##:"
     ],
     "language": "python",
     "metadata": {},
     "outputs": [
      {
       "latex": [
        "PF4 := $$\\left[\\begin{matrix}0 & 0 & 0 & -1\\\\0 & \\dddot{x}_{1} - \\ddot{x}_{2} - \\ddot{x}_{4} & 1 - \\ddot{x}_{1} + \\dot{x}_{2} + \\dot{x}_{4} & - \\dot{x}_{3}\\end{matrix}\\right]$$"
       ],
       "metadata": {},
       "output_type": "display_data",
       "png": "[encoded data removed]",
       "text": [
        "PF4 := \u23a10         0                   0            -1 \u23a4\n",
        "\u23a2                                              \u23a5\n",
        "\u23a30  x\u0308\u0307\u2081 - x\u0308\u2082 - x\u0308\u2084  1 - x\u0308\u2081 + x\u0307\u2082 + x\u0307\u2084  -x\u0307\u2083\u23a6"
       ]
      },
      {
       "output_type": "stream",
       "stream": "stdout",
       "text": [
        "---\n"
       ]
      }
     ],
     "prompt_number": 14
    },
    {
     "cell_type": "code",
     "collapsed": false,
     "input": [
      "T4 = sp.eye(4)\n",
      "T4[1, 1] = PF4[1, 2]\n",
      "T4[2, 1] = -PF4[1, 1]\n",
      "\n",
      "T4 ##:"
     ],
     "language": "python",
     "metadata": {},
     "outputs": [
      {
       "latex": [
        "T4  := $$\\left[\\begin{matrix}1 & 0 & 0 & 0\\\\0 & 1 - \\ddot{x}_{1} + \\dot{x}_{2} + \\dot{x}_{4} & 0 & 0\\\\0 & - \\dddot{x}_{1} + \\ddot{x}_{2} + \\ddot{x}_{4} & 1 & 0\\\\0 & 0 & 0 & 1\\end{matrix}\\right]$$"
       ],
       "metadata": {},
       "output_type": "display_data",
       "png": "[encoded data removed]",
       "text": [
        "T4  := \u23a11           0           0  0\u23a4\n",
        "\u23a2                            \u23a5\n",
        "\u23a20  1 - x\u0308\u2081 + x\u0307\u2082 + x\u0307\u2084  0  0\u23a5\n",
        "\u23a2                            \u23a5\n",
        "\u23a20   -x\u0308\u0307\u2081 + x\u0308\u2082 + x\u0308\u2084   1  0\u23a5\n",
        "\u23a2                            \u23a5\n",
        "\u23a30           0           0  1\u23a6"
       ]
      },
      {
       "output_type": "stream",
       "stream": "stdout",
       "text": [
        "___\n"
       ]
      }
     ],
     "prompt_number": 15
    },
    {
     "cell_type": "code",
     "collapsed": false,
     "input": [
      "PF5 = nct.right_shift_all(nct.nc_mul(PF4, T4), s, None, xx) ##:"
     ],
     "language": "python",
     "metadata": {},
     "outputs": [
      {
       "latex": [
        "PF5 := $$\\left[\\begin{matrix}0 & 0 & 0 & -1\\\\0 & - \\dddot{x}_{1} \\ddot{x}_{1} + \\dddot{x}_{1} \\dot{x}_{2} + \\dddot{x}_{1} \\dot{x}_{4} + \\ddot{x}_{1} \\dddot{x}_{1} - \\ddot{x}_{1} \\ddot{x}_{2} - \\ddot{x}_{1} \\ddot{x}_{4} + \\ddot{x}_{2} \\ddot{x}_{1} - \\ddot{x}_{2} \\dot{x}_{2} - \\ddot{x}_{2} \\dot{x}_{4} + \\ddot{x}_{4} \\ddot{x}_{1} - \\ddot{x}_{4} \\dot{x}_{2} - \\ddot{x}_{4} \\dot{x}_{4} - \\dot{x}_{2} \\dddot{x}_{1} + \\dot{x}_{2} \\ddot{x}_{2} + \\dot{x}_{2} \\ddot{x}_{4} - \\dot{x}_{4} \\dddot{x}_{1} + \\dot{x}_{4} \\ddot{x}_{2} + \\dot{x}_{4} \\ddot{x}_{4} & 1 - \\ddot{x}_{1} + \\dot{x}_{2} + \\dot{x}_{4} & - \\dot{x}_{3}\\end{matrix}\\right]$$"
       ],
       "metadata": {},
       "output_type": "display_data",
       "png": "[encoded data removed]",
       "text": [
        "PF5 := \u23a10                                                                            \n",
        "\u23a2                                                                             \n",
        "\u23a30  -x\u0308\u0307\u2081\u22c5x\u0308\u2081 + x\u0308\u0307\u2081\u22c5x\u0307\u2082 + x\u0308\u0307\u2081\u22c5x\u0307\u2084 + x\u0308\u2081\u22c5x\u0308\u0307\u2081 - x\u0308\u2081\u22c5x\u0308\u2082 - x\u0308\u2081\u22c5x\u0308\u2084 + x\u0308\u2082\u22c5x\u0308\u2081 -\n",
        "\n",
        "                 0                                                            \n",
        "                                                                              \n",
        " x\u0308\u2082\u22c5x\u0307\u2082 - x\u0308\u2082\u22c5x\u0307\u2084 + x\u0308\u2084\u22c5x\u0308\u2081 - x\u0308\u2084\u22c5x\u0307\u2082 - x\u0308\u2084\u22c5x\u0307\u2084 - x\u0307\u2082\u22c5x\u0308\u0307\u2081 + x\u0307\u2082\u22c5x\u0308\u2082 + x\u0307\u2082\u22c5x\u0308\n",
        "\n",
        "                                           0            -1 \u23a4\n",
        "                                                           \u23a5\n",
        "\u2084 - x\u0307\u2084\u22c5x\u0308\u0307\u2081 + x\u0307\u2084\u22c5x\u0308\u2082 + x\u0307\u2084\u22c5x\u0308\u2084  1 - x\u0308\u2081 + x\u0307\u2082 + x\u0307\u2084  -x\u0307\u2083\u23a6"
       ]
      },
      {
       "output_type": "stream",
       "stream": "stdout",
       "text": [
        "---\n"
       ]
      }
     ],
     "prompt_number": 16
    },
    {
     "cell_type": "code",
     "collapsed": false,
     "input": [
      "nct.make_all_symbols_commutative(PF5, \"\")[0]"
     ],
     "language": "python",
     "metadata": {},
     "outputs": [
      {
       "latex": [
        "$$\\left[\\begin{matrix}0 & 0 & 0 & -1\\\\0 & 0 & - \\ddot{x}_{1} + \\dot{x}_{2} + \\dot{x}_{4} + 1 & - \\dot{x}_{3}\\end{matrix}\\right]$$"
       ],
       "metadata": {},
       "output_type": "pyout",
       "png": "[encoded data removed]",
       "prompt_number": 17,
       "text": [
        "\u23a10  0           0             -1 \u23a4\n",
        "\u23a2                                \u23a5\n",
        "\u23a30  0  -x\u0308\u2081 + x\u0307\u2082 + x\u0307\u2084 + 1  -x\u0307\u2083\u23a6"
       ]
      }
     ],
     "prompt_number": 17
    },
    {
     "cell_type": "markdown",
     "metadata": {},
     "source": [
      "Fazit: $\\bs P_ {\\bs F}$ ist global hyperregul\u00e4r.\n",
      "\n",
      "---\n",
      "\n",
      "Fakt ist aber auch, dass $\\bs y = (x_1, x_2)^T$ ein flacher Ausgang ist, jedoch die Matrix"
     ]
    },
    {
     "cell_type": "code",
     "collapsed": false,
     "input": [
      "Q = sp.eye(4)[:2, :] ##:"
     ],
     "language": "python",
     "metadata": {},
     "outputs": [
      {
       "latex": [
        "Q := $$\\left[\\begin{matrix}1 & 0 & 0 & 0\\\\0 & 1 & 0 & 0\\end{matrix}\\right]$$"
       ],
       "metadata": {},
       "output_type": "display_data",
       "png": "[encoded data removed]",
       "text": [
        "Q := \u23a11  0  0  0\u23a4\n",
        "\u23a2          \u23a5\n",
        "\u23a30  1  0  0\u23a6"
       ]
      },
      {
       "output_type": "stream",
       "stream": "stdout",
       "text": [
        "---\n"
       ]
      }
     ],
     "prompt_number": 18
    },
    {
     "cell_type": "markdown",
     "metadata": {},
     "source": [
      "keine unimodulare Vervollst\u00e4ndigung f\u00fcr $\\bs P_{\\bs F}$ darstellt, sondern nur eine $\\mathcal{F}$-unimodulare:"
     ]
    },
    {
     "cell_type": "code",
     "collapsed": false,
     "input": [
      "PF"
     ],
     "language": "python",
     "metadata": {},
     "outputs": [
      {
       "latex": [
        "$$\\left[\\begin{matrix}s & -1 & 0 & -1\\\\\\dot{x}_{3} s & s - \\dot{x}_{3} & 1 + \\left(- x_{2} - x_{4} + \\dot{x}_{1}\\right) s & - \\dot{x}_{3}\\end{matrix}\\right]$$"
       ],
       "metadata": {},
       "output_type": "pyout",
       "png": "[encoded data removed]",
       "prompt_number": 19,
       "text": [
        "\u23a1  s      -1               0              -1 \u23a4\n",
        "\u23a2                                            \u23a5\n",
        "\u23a3x\u0307\u2083\u22c5s  s - x\u0307\u2083  1 + (-x\u2082 - x\u2084 + x\u0307\u2081)\u22c5s  -x\u0307\u2083\u23a6"
       ]
      }
     ],
     "prompt_number": 19
    },
    {
     "cell_type": "code",
     "collapsed": false,
     "input": [
      "PFQ = st.row_stack(PF, Q) ##:"
     ],
     "language": "python",
     "metadata": {},
     "outputs": [
      {
       "latex": [
        "PFQ := $$\\left[\\begin{matrix}s & -1 & 0 & -1\\\\\\dot{x}_{3} s & s - \\dot{x}_{3} & 1 + \\left(- x_{2} - x_{4} + \\dot{x}_{1}\\right) s & - \\dot{x}_{3}\\\\1 & 0 & 0 & 0\\\\0 & 1 & 0 & 0\\end{matrix}\\right]$$"
       ],
       "metadata": {},
       "output_type": "display_data",
       "png": "[encoded data removed]",
       "text": [
        "PFQ := \u23a1  s      -1               0              -1 \u23a4\n",
        "\u23a2                                            \u23a5\n",
        "\u23a2x\u0307\u2083\u22c5s  s - x\u0307\u2083  1 + (-x\u2082 - x\u2084 + x\u0307\u2081)\u22c5s  -x\u0307\u2083\u23a5\n",
        "\u23a2                                            \u23a5\n",
        "\u23a2  1       0               0              0  \u23a5\n",
        "\u23a2                                            \u23a5\n",
        "\u23a3  0       1               0              0  \u23a6"
       ]
      },
      {
       "output_type": "stream",
       "stream": "stdout",
       "text": [
        "---\n"
       ]
      }
     ],
     "prompt_number": 20
    },
    {
     "cell_type": "markdown",
     "metadata": {},
     "source": [
      "Offensichtlich m\u00fcsste der rechte obere $2\\times 2$-Block unimodular sein, was er aber nur unter Ber\u00fccksichtigung von $F_1 = 0$ ist.\n",
      "\n",
      "D.h. die Matrix PFQ ist $\\mathcal F$-unimodular. Durch Einsetzen von z.B.  $\\dot x_1 = x_2 + x_4$, was direkt aus $F_1=0$ folgt, wird die Matrix unimodular.\n",
      "\n",
      "---\n",
      "\n",
      "Andererseits muss es aber wegen der Hyperregularit\u00e4t auche eine global unimodulare Erg\u00e4nzung geben. Eine solche l\u00e4sst sich mit Hilfe der Transformation in die (\"partielle\") Hermite Normalform leicht bestimmen. Konkret werden nur die ersten beiden Transformationsschritte bzw. ihre Umkehrung gebraucht."
     ]
    },
    {
     "cell_type": "code",
     "collapsed": false,
     "input": [
      "T12 =  nct.nc_mul(T1, T2)\n",
      "#nct.nc_mul(PF, nct.nc_mul(T1, T2))"
     ],
     "language": "python",
     "metadata": {},
     "outputs": [],
     "prompt_number": 21
    },
    {
     "cell_type": "code",
     "collapsed": false,
     "input": [
      "%time T12inv = nct.unimod_inv(T12, s, time_dep_symbs=xx)\n",
      "T12inv"
     ],
     "language": "python",
     "metadata": {},
     "outputs": [
      {
       "output_type": "stream",
       "stream": "stdout",
       "text": [
        "CPU times: user 17.2 s, sys: 40 ms, total: 17.2 s\n",
        "Wall time: 17.2 s\n"
       ]
      },
      {
       "latex": [
        "$$\\left[\\begin{matrix}1 & 0 & 0 & 0\\\\0 & 1 & - x_{2} - x_{4} + \\dot{x}_{1} & 0\\\\0 & 0 & 1 & 0\\\\- s & 1 & 0 & 1\\end{matrix}\\right]$$"
       ],
       "metadata": {},
       "output_type": "pyout",
       "png": "[encoded data removed]",
       "prompt_number": 22,
       "text": [
        "\u23a11   0        0         0\u23a4\n",
        "\u23a2                        \u23a5\n",
        "\u23a20   1  -x\u2082 - x\u2084 + x\u0307\u2081  0\u23a5\n",
        "\u23a2                        \u23a5\n",
        "\u23a20   0        1         0\u23a5\n",
        "\u23a2                        \u23a5\n",
        "\u23a3-s  1        0         1\u23a6"
       ]
      }
     ],
     "prompt_number": 22
    },
    {
     "cell_type": "code",
     "collapsed": false,
     "input": [
      "Q_compl = nct.nc_mul(Q, T12inv) ##"
     ],
     "language": "python",
     "metadata": {},
     "outputs": [
      {
       "latex": [
        "$$\\left[\\begin{matrix}1 & 0 & 0 & 0\\\\0 & 1 & - x_{2} - x_{4} + \\dot{x}_{1} & 0\\end{matrix}\\right]$$"
       ],
       "metadata": {},
       "output_type": "display_data",
       "png": "[encoded data removed]",
       "text": [
        "\u23a11  0        0         0\u23a4\n",
        "\u23a2                       \u23a5\n",
        "\u23a30  1  -x\u2082 - x\u2084 + x\u0307\u2081  0\u23a6"
       ]
      },
      {
       "output_type": "stream",
       "stream": "stdout",
       "text": [
        "---\n"
       ]
      }
     ],
     "prompt_number": 23
    },
    {
     "cell_type": "code",
     "collapsed": false,
     "input": [
      "PQ2 = st.row_stack(PF, Q_compl)"
     ],
     "language": "python",
     "metadata": {},
     "outputs": [],
     "prompt_number": 24
    },
    {
     "cell_type": "code",
     "collapsed": false,
     "input": [
      "%time nct.unimod_inv(PQ2, s, time_dep_symbs=xx)"
     ],
     "language": "python",
     "metadata": {},
     "outputs": [
      {
       "output_type": "stream",
       "stream": "stdout",
       "text": [
        "CPU times: user 28.2 s, sys: 60 ms, total: 28.3 s\n",
        "Wall time: 28.3 s\n"
       ]
      },
      {
       "latex": [
        "$$\\left[\\begin{matrix}0 & 0 & 1 & 0\\\\\\dot{x}_{3} \\left(-1 + \\ddot{x}_{1} - \\dot{x}_{2} - \\dot{x}_{4}\\right)^{-1} \\left(x_{2} + x_{4} - \\dot{x}_{1}\\right) & \\left(-1 + \\ddot{x}_{1} - \\dot{x}_{2} - \\dot{x}_{4}\\right)^{-1} \\left(- x_{2} - x_{4} + \\dot{x}_{1}\\right) & 0 & 1 + \\left(-1 + \\ddot{x}_{1} - \\dot{x}_{2} - \\dot{x}_{4}\\right)^{-1} \\left(x_{2} + x_{4} - \\dot{x}_{1}\\right) s\\\\\\dot{x}_{3} \\left(-1 + \\ddot{x}_{1} - \\dot{x}_{2} - \\dot{x}_{4}\\right)^{-1} & - \\left(-1 + \\ddot{x}_{1} - \\dot{x}_{2} - \\dot{x}_{4}\\right)^{-1} & 0 & \\left(-1 + \\ddot{x}_{1} - \\dot{x}_{2} - \\dot{x}_{4}\\right)^{-1} s\\\\\\left(1 - \\ddot{x}_{1} + \\dot{x}_{2} + \\dot{x}_{4}\\right)^{-1} \\left(-1 + \\ddot{x}_{1} - \\dot{x}_{2} + \\dot{x}_{3} \\left(x_{2} + x_{4} - \\dot{x}_{1}\\right) - \\dot{x}_{4}\\right) & \\left(1 - \\ddot{x}_{1} + \\dot{x}_{2} + \\dot{x}_{4}\\right)^{-1} \\left(- x_{2} - x_{4} + \\dot{x}_{1}\\right) & s & \\left(1 - \\ddot{x}_{1} + \\dot{x}_{2} + \\dot{x}_{4}\\right)^{-1} \\left(x_{2} + x_{4} - \\dot{x}_{1}\\right) s + \\left(1 - \\ddot{x}_{1} + \\dot{x}_{2} + \\dot{x}_{4}\\right)^{-1} \\left(-1 + \\ddot{x}_{1} - \\dot{x}_{2} - \\dot{x}_{4}\\right)\\end{matrix}\\right]$$"
       ],
       "metadata": {},
       "output_type": "pyout",
       "png": "[encoded data removed]",
       "prompt_number": 25,
       "text": [
        "\u23a1                                 0                                           \n",
        "\u23a2                                                                             \n",
        "\u23a2                                      -1                                     \n",
        "\u23a2            x\u0307\u2083\u22c5(-1 + x\u0308\u2081 - x\u0307\u2082 - x\u0307\u2084)  \u22c5(x\u2082 + x\u2084 - x\u0307\u2081)              (-1 + x\n",
        "\u23a2                                                                             \n",
        "\u23a2                                              -1                             \n",
        "\u23a2                    x\u0307\u2083\u22c5(-1 + x\u0308\u2081 - x\u0307\u2082 - x\u0307\u2084)                               \n",
        "\u23a2                                                                             \n",
        "\u23a2                     -1                                                      \n",
        "\u23a3(1 - x\u0308\u2081 + x\u0307\u2082 + x\u0307\u2084)  \u22c5(-1 + x\u0308\u2081 - x\u0307\u2082 + x\u0307\u2083\u22c5(x\u2082 + x\u2084 - x\u0307\u2081) - x\u0307\u2084)  (1 - x\u0308\n",
        "\n",
        "             0                      1                                         \n",
        "                                                                              \n",
        "               -1                                                             \n",
        "\u0308\u2081 - x\u0307\u2082 - x\u0307\u2084)  \u22c5(-x\u2082 - x\u2084 + x\u0307\u2081)  0                        1 + (-1 + x\u0308\u2081 - x\n",
        "                                                                              \n",
        "                        -1                                                    \n",
        " -(-1 + x\u0308\u2081 - x\u0307\u2082 - x\u0307\u2084)            0                                  (-1 + x\n",
        "                                                                              \n",
        "              -1                                            -1                \n",
        "\u2081 + x\u0307\u2082 + x\u0307\u2084)  \u22c5(-x\u2082 - x\u2084 + x\u0307\u2081)   s  (1 - x\u0308\u2081 + x\u0307\u2082 + x\u0307\u2084)  \u22c5(x\u2082 + x\u2084 - x\u0307\u2081)\n",
        "\n",
        "     0                                             \u23a4\n",
        "                                                   \u23a5\n",
        "         -1                                        \u23a5\n",
        "\u0307\u2082 - x\u0307\u2084)  \u22c5(x\u2082 + x\u2084 - x\u0307\u2081)\u22c5s                      \u23a5\n",
        "                                                   \u23a5\n",
        "               -1                                  \u23a5\n",
        "\u0308\u2081 - x\u0307\u2082 - x\u0307\u2084)  \u22c5s                                \u23a5\n",
        "                                                   \u23a5\n",
        "                          -1                       \u23a5\n",
        "\u22c5s + (1 - x\u0308\u2081 + x\u0307\u2082 + x\u0307\u2084)  \u22c5(-1 + x\u0308\u2081 - x\u0307\u2082 - x\u0307\u2084)\u23a6"
       ]
      }
     ],
     "prompt_number": 25
    },
    {
     "cell_type": "markdown",
     "metadata": {},
     "source": [
      "Beobachtung: Auch in der neuen unimodularen Erg\u00e4nzung tritt $F_1$ auf."
     ]
    },
    {
     "cell_type": "code",
     "collapsed": false,
     "input": [],
     "language": "python",
     "metadata": {},
     "outputs": []
    },
    {
     "cell_type": "code",
     "collapsed": false,
     "input": [],
     "language": "python",
     "metadata": {},
     "outputs": []
    },
    {
     "cell_type": "code",
     "collapsed": false,
     "input": [],
     "language": "python",
     "metadata": {},
     "outputs": []
    },
    {
     "cell_type": "code",
     "collapsed": false,
     "input": [
      "dx1"
     ],
     "language": "python",
     "metadata": {},
     "outputs": [
      {
       "ename": "NameError",
       "evalue": "name 'dx1' is not defined",
       "output_type": "pyerr",
       "traceback": [
        "\u001b[1;31m---------------------------------------------------------------------------\u001b[0m\n\u001b[1;31mNameError\u001b[0m                                 Traceback (most recent call last)",
        "\u001b[1;32m<ipython-input-2-7d71d008ada3>\u001b[0m in \u001b[0;36m<module>\u001b[1;34m()\u001b[0m\n\u001b[1;32m----> 1\u001b[1;33m \u001b[0mdx1\u001b[0m\u001b[1;33m\u001b[0m\u001b[0m\n\u001b[0m",
        "\u001b[1;31mNameError\u001b[0m: name 'dx1' is not defined"
       ]
      }
     ],
     "prompt_number": 2
    },
    {
     "cell_type": "code",
     "collapsed": false,
     "input": [],
     "language": "python",
     "metadata": {},
     "outputs": []
    }
   ],
   "metadata": {}
  }
 ]
}