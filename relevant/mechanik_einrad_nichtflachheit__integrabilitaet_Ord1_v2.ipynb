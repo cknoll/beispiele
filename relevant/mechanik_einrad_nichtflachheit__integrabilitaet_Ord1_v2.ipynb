{
 "metadata": {
  "name": "",
  "signature": "sha256:de577a163942d0aa7fd543b57b42fdaf93f64255f3cb338d6a9d1c86f159d1f5"
 },
 "nbformat": 3,
 "nbformat_minor": 0,
 "worksheets": [
  {
   "cells": [
    {
     "cell_type": "code",
     "collapsed": false,
     "input": [
      "import time\n",
      "print time.ctime()\n",
      "%load_ext displaytools"
     ],
     "language": "python",
     "metadata": {},
     "outputs": [
      {
       "output_type": "stream",
       "stream": "stdout",
       "text": [
        "Thu Dec 10 20:14:29 2015\n"
       ]
      }
     ],
     "prompt_number": 1
    },
    {
     "cell_type": "markdown",
     "metadata": {},
     "source": [
      "* Die Bewegungsgleichungen des Einradfahrer-Systems mit 2 Aktoren aufstellen\n",
      "* Unimodulare Erg\u00e4nzung der Systemmatrix bestimmen\n",
      "* Auswertung der hinreichenden Bedingung f\u00fcr Nichtflachheit (bestimmter Koeffizient einer bestimmten Differentialform)"
     ]
    },
    {
     "cell_type": "code",
     "collapsed": false,
     "input": [
      "import sympy as sp\n",
      "from sympy import sin, cos, pi, Matrix\n",
      "from sympy.interactive import printing\n",
      "import model_tools as mt\n",
      "from model_tools import Rz\n",
      "import diffgeopy as pc # perspektivisch: pycartan\n",
      "import symb_tools as st\n",
      "from symb_tools import symbs_to_func, zip0\n",
      "import pickle\n",
      "\n",
      "printing.init_printing()"
     ],
     "language": "python",
     "metadata": {},
     "outputs": [],
     "prompt_number": 2
    },
    {
     "cell_type": "code",
     "collapsed": false,
     "input": [
      "np, nq = 1, 2\n",
      "n = np + nq\n",
      "theta = st.symb_vector(\"p1, q1, q2\") ##\n",
      "p1, q1, q2 = theta"
     ],
     "language": "python",
     "metadata": {},
     "outputs": [
      {
       "latex": [
        "$$\\left[\\begin{matrix}p_{1}\\\\q_{1}\\\\q_{2}\\end{matrix}\\right]$$"
       ],
       "metadata": {},
       "output_type": "display_data",
       "png": "[encoded data removed]",
       "text": [
        "\u23a1p\u2081\u23a4\n",
        "\u23a2  \u23a5\n",
        "\u23a2q\u2081\u23a5\n",
        "\u23a2  \u23a5\n",
        "\u23a3q\u2082\u23a6"
       ]
      },
      {
       "output_type": "stream",
       "stream": "stdout",
       "text": [
        "---\n"
       ]
      }
     ],
     "prompt_number": 3
    },
    {
     "cell_type": "markdown",
     "metadata": {},
     "source": [
      "$p_1$: Abrollen des Rades gegen\u00fcber der Umgebung (passiv)<br>\n",
      "$q_1$: Relativwinkel: Rad-Glied 1 (akitv)<br>\n",
      "$q_2$: Relativwinkel: Glied 1-Glied 2 (akitv)<br>\n"
     ]
    },
    {
     "cell_type": "code",
     "collapsed": false,
     "input": [
      "params = sp.symbols('l0, l1, l2, s1, s2, J0, J1, J2, m0, m1, m2, g')\n",
      "st.make_global(params, 1)\n",
      "\n",
      "QQ = sp.symbols(\"Q0, Q1, Q2\")\n",
      "Q0, Q1, Q2 = QQ"
     ],
     "language": "python",
     "metadata": {},
     "outputs": [],
     "prompt_number": 4
    },
    {
     "cell_type": "code",
     "collapsed": false,
     "input": [
      "# Winkelgeschwindigkeiten\n",
      "mu = st.perform_time_derivative(theta, theta)\n",
      "p1d, q1d, q2d = mu\n",
      "\n",
      "# Winkelbeschleunigungen\n",
      "mud = st.perform_time_derivative(mu, theta)"
     ],
     "language": "python",
     "metadata": {},
     "outputs": [],
     "prompt_number": 5
    },
    {
     "cell_type": "code",
     "collapsed": false,
     "input": [
      "# Geometrie: (Einheitsvektoren)\n",
      "ex = Matrix([1,0])\n",
      "ey = Matrix([0,1])\n",
      "\n",
      "M0 = Matrix([-l0*p1, l0]) # Mittelpunkt des Rades\n",
      "\n",
      "\n",
      "S1 = M0 + Rz(p1+q1)*ey*s1\n",
      "S2 = M0 + Rz(p1+q1)*ey*l1+Rz(p1+q1+q2)*ey*s2\n",
      "#EE = M0 + Rz(p1+q1)*ey*l1+Rz(p1+q1+q2)*ey*l2 # \"Endeffektor\" \n",
      "\n",
      "M0d = st.perform_time_derivative(M0, theta)\n",
      "S1d = st.perform_time_derivative(S1, theta)\n",
      "S2d = st.perform_time_derivative(S2, theta)"
     ],
     "language": "python",
     "metadata": {},
     "outputs": [],
     "prompt_number": 6
    },
    {
     "cell_type": "code",
     "collapsed": false,
     "input": [
      "# Energie\n",
      "T_rot = ( J0*p1d**2 + J1*(p1d+q1d)**2 + J2*(p1d+ q1d+q2d)**2 )/2\n",
      "T_trans = ( m0*M0d.T*M0d  +  m1*S1d.T*S1d  +  m2*S2d.T*S2d )/2\n",
      "\n",
      "T = T_rot + T_trans[0]\n",
      "\n",
      "V = m1*g*S1[1] + m2*g*S2[1] "
     ],
     "language": "python",
     "metadata": {},
     "outputs": [],
     "prompt_number": 7
    },
    {
     "cell_type": "code",
     "collapsed": false,
     "input": [
      "mod = mt.generate_symbolic_model(T, V, theta, [0, Q1, Q2])"
     ],
     "language": "python",
     "metadata": {},
     "outputs": [],
     "prompt_number": 8
    },
    {
     "cell_type": "code",
     "collapsed": false,
     "input": [
      "# Die ersten np-Zeilen entsprechen der eingangsfreien Systemgleichung\n",
      "\n",
      "eq = mod.eqns[:np, :]"
     ],
     "language": "python",
     "metadata": {},
     "outputs": [],
     "prompt_number": 9
    },
    {
     "cell_type": "markdown",
     "metadata": {},
     "source": [
      "Die unimodulare Erg\u00e4nzung wird aus [Franke2014] \u00fcbernommen. Dort sind die Bewegungsgleichungen in absoluten Koordinaten $\\varphi_0, \\varphi_1, \\varphi_2$ formuliert.\n",
      "Zusammenhang: $\\boldsymbol \\theta = \\boldsymbol T_a \\boldsymbol \\varphi.$\n",
      "\n"
     ]
    },
    {
     "cell_type": "code",
     "collapsed": false,
     "input": [
      "# Transformationsmatrix\n",
      "Ta = sp.Matrix([[1, 0, 0], [1, 1, 0], [1, 1, 1]]) ##\n",
      "Tainv = Ta.inv() ##"
     ],
     "language": "python",
     "metadata": {},
     "outputs": [
      {
       "latex": [
        "$$\\left[\\begin{matrix}1 & 0 & 0\\\\1 & 1 & 0\\\\1 & 1 & 1\\end{matrix}\\right]$$"
       ],
       "metadata": {},
       "output_type": "display_data",
       "png": "[encoded data removed]",
       "text": [
        "\u23a11  0  0\u23a4\n",
        "\u23a2       \u23a5\n",
        "\u23a21  1  0\u23a5\n",
        "\u23a2       \u23a5\n",
        "\u23a31  1  1\u23a6"
       ]
      },
      {
       "output_type": "stream",
       "stream": "stdout",
       "text": [
        "---\n"
       ]
      },
      {
       "latex": [
        "$$\\left[\\begin{matrix}1 & 0 & 0\\\\-1 & 1 & 0\\\\0 & -1 & 1\\end{matrix}\\right]$$"
       ],
       "metadata": {},
       "output_type": "display_data",
       "png": "[encoded data removed]",
       "text": [
        "\u23a11   0   0\u23a4\n",
        "\u23a2         \u23a5\n",
        "\u23a2-1  1   0\u23a5\n",
        "\u23a2         \u23a5\n",
        "\u23a30   -1  1\u23a6"
       ]
      },
      {
       "output_type": "stream",
       "stream": "stdout",
       "text": [
        "---\n"
       ]
      }
     ],
     "prompt_number": 10
    },
    {
     "cell_type": "code",
     "collapsed": false,
     "input": [
      "phi0, phi1, phi2 = pphi = st.symb_vector('phi0, phi1, phi2')\n",
      "pphi ##\n",
      "pphidot = st.perform_time_derivative(pphi, pphi) ##\n",
      "\n",
      "# h\u00f6here Ableitungen werden sp\u00e4ter noch gebraucht\n",
      "pphiddot = st.perform_time_derivative(pphidot, pphi)\n",
      "pphidddot = st.perform_time_derivative(pphiddot, pphi)"
     ],
     "language": "python",
     "metadata": {},
     "outputs": [
      {
       "latex": [
        "$$\\left[\\begin{matrix}\\phi_{0}\\\\\\phi_{1}\\\\\\phi_{2}\\end{matrix}\\right]$$"
       ],
       "metadata": {},
       "output_type": "display_data",
       "png": "[encoded data removed]",
       "text": [
        "\u23a1\u03c6\u2080\u23a4\n",
        "\u23a2  \u23a5\n",
        "\u23a2\u03c6\u2081\u23a5\n",
        "\u23a2  \u23a5\n",
        "\u23a3\u03c6\u2082\u23a6"
       ]
      },
      {
       "output_type": "stream",
       "stream": "stdout",
       "text": [
        "___\n"
       ]
      },
      {
       "latex": [
        "$$\\left[\\begin{matrix}\\dot{\\phi}_{0}\\\\\\dot{\\phi}_{1}\\\\\\dot{\\phi}_{2}\\end{matrix}\\right]$$"
       ],
       "metadata": {},
       "output_type": "display_data",
       "png": "[encoded data removed]",
       "text": [
        "\u23a1\u03c6\u0307\u2080\u23a4\n",
        "\u23a2   \u23a5\n",
        "\u23a2\u03c6\u0307\u2081\u23a5\n",
        "\u23a2   \u23a5\n",
        "\u23a3\u03c6\u0307\u2082\u23a6"
       ]
      },
      {
       "output_type": "stream",
       "stream": "stdout",
       "text": [
        "---\n"
       ]
      }
     ],
     "prompt_number": 11
    },
    {
     "cell_type": "code",
     "collapsed": false,
     "input": [
      "eq2 = eq.subs(zip(theta, Tainv*pphi) + zip(mu, Tainv*pphidot) + zip(mud, Tainv*pphiddot))\n",
      "eq2.simplify()"
     ],
     "language": "python",
     "metadata": {},
     "outputs": [],
     "prompt_number": 12
    },
    {
     "cell_type": "code",
     "collapsed": false,
     "input": [
      "printing.init_printing(0)\n",
      "P0 = eq2.jacobian(pphi) ##\n",
      "P1 = eq2.jacobian(pphidot) ##\n",
      "P2 = eq2.jacobian(pphiddot) ##"
     ],
     "language": "python",
     "metadata": {},
     "outputs": [
      {
       "metadata": {},
       "output_type": "display_data",
       "text": [
        "Matrix([[0, -g*l1*m2*cos(phi1) - g*m1*s1*cos(phi1) - l0*l1*m2*phiddot0*sin(phi1) - l0*l1*m2*phiddot1*sin(phi1) - l0*l1*m2*phidot1**2*cos(phi1) - l0*m1*phiddot0*s1*sin(phi1) - l0*m1*phiddot1*s1*sin(phi1) - l0*m1*phidot1**2*s1*cos(phi1) - l1*m2*phiddot1*s2*sin(phi1 - phi2) - l1*m2*phiddot2*s2*sin(phi1 - phi2) - l1*m2*phidot1**2*s2*cos(phi1 - phi2) + l1*m2*phidot2**2*s2*cos(phi1 - phi2), -g*m2*s2*cos(phi2) - l0*m2*phiddot0*s2*sin(phi2) - l0*m2*phiddot2*s2*sin(phi2) - l0*m2*phidot2**2*s2*cos(phi2) + l1*m2*phiddot1*s2*sin(phi1 - phi2) + l1*m2*phiddot2*s2*sin(phi1 - phi2) + l1*m2*phidot1**2*s2*cos(phi1 - phi2) - l1*m2*phidot2**2*s2*cos(phi1 - phi2)]])"
       ]
      },
      {
       "output_type": "stream",
       "stream": "stdout",
       "text": [
        "---\n"
       ]
      },
      {
       "metadata": {},
       "output_type": "display_data",
       "text": [
        "Matrix([[0, -2*l0*l1*m2*phidot1*sin(phi1) - 2*l0*m1*phidot1*s1*sin(phi1) - 2*l1*m2*phidot1*s2*sin(phi1 - phi2), -2*l0*m2*phidot2*s2*sin(phi2) + 2*l1*m2*phidot2*s2*sin(phi1 - phi2)]])"
       ]
      },
      {
       "output_type": "stream",
       "stream": "stdout",
       "text": [
        "---\n"
       ]
      },
      {
       "metadata": {},
       "output_type": "display_data",
       "text": [
        "Matrix([[J0 + l0**2*m0 + l0**2*m1 + l0**2*m2 + l0*l1*m2*cos(phi1) + l0*m1*s1*cos(phi1) + l0*m2*s2*cos(phi2), J1 + l0*l1*m2*cos(phi1) + l0*m1*s1*cos(phi1) + l1**2*m2 + l1*m2*s2*cos(phi1 - phi2) + m1*s1**2, J2 + l0*m2*s2*cos(phi2) + l1*m2*s2*cos(phi1 - phi2) + m2*s2**2]])"
       ]
      },
      {
       "output_type": "stream",
       "stream": "stdout",
       "text": [
        "---\n"
       ]
      }
     ],
     "prompt_number": 13
    },
    {
     "cell_type": "markdown",
     "metadata": {},
     "source": [
      "---\n",
      "Nun werden f\u00fcr die entsprechenden Eintr\u00e4ge der Systemmatrix $P(\\tfrac{d}{dt})$ Abk\u00fcrzungen eingef\u00fchrt."
     ]
    },
    {
     "cell_type": "code",
     "collapsed": false,
     "input": [
      "a0, a1, a2, b0, b1, b2, c0, c1, c2 = abc = sp.symbols(\"a0, a1, a2, b0, b1, b2, c0, c1, c2\")\n",
      "\n",
      "P0s = st.symb_vector('a0, b0, c0').T ##\n",
      "P1s = st.symb_vector('a1, b1, c1').T ##\n",
      "P2s = st.symb_vector('a2, b2, c2').T ##\n",
      "\n",
      "# Datenstruktur f\u00fcr die R\u00fccksubstitution der a,b,c Symbole\n",
      "replm_abc = sp.Matrix(zip(P0s, P0) + zip(P1s, P1) + zip(P2s, P2))\n",
      "\n",
      "# ... und deren Ableitungen\n",
      "replm_abc_dot = st.perform_time_derivative(replm_abc, abc + tuple(pphi))"
     ],
     "language": "python",
     "metadata": {},
     "outputs": [
      {
       "metadata": {},
       "output_type": "display_data",
       "text": [
        "Matrix([[a0, b0, c0]])"
       ]
      },
      {
       "output_type": "stream",
       "stream": "stdout",
       "text": [
        "---\n"
       ]
      },
      {
       "metadata": {},
       "output_type": "display_data",
       "text": [
        "Matrix([[a1, b1, c1]])"
       ]
      },
      {
       "output_type": "stream",
       "stream": "stdout",
       "text": [
        "---\n"
       ]
      },
      {
       "metadata": {},
       "output_type": "display_data",
       "text": [
        "Matrix([[a2, b2, c2]])"
       ]
      },
      {
       "output_type": "stream",
       "stream": "stdout",
       "text": [
        "---\n"
       ]
      }
     ],
     "prompt_number": 14
    },
    {
     "cell_type": "code",
     "collapsed": false,
     "input": [
      "# Ableitungssymbole in den Namensraum einf\u00fcgen\n",
      "st.make_global(replm_abc_dot[:, 0], 1)\n",
      "\n",
      "# alle Substitutionen in einer Liste vereinen\n",
      "replm = replm_abc.tolist() + replm_abc_dot.tolist()"
     ],
     "language": "python",
     "metadata": {},
     "outputs": [],
     "prompt_number": 15
    },
    {
     "cell_type": "markdown",
     "metadata": {},
     "source": [
      "Unimodulare Erweiterung (siehe [Franke2014, S70] )."
     ]
    },
    {
     "cell_type": "code",
     "collapsed": false,
     "input": [
      "Q1 = sp.Matrix([[ a2, b2, c2]]) # entspricht P2s\n",
      "Q2 = sp.Matrix([-2*c2*adot2 - a2*c1, c2*b1 - c2*2*bdot2 - b2*c1, -2*c2*cdot2]).T\n",
      "Q = st.row_stack(Q1, Q2) ##"
     ],
     "language": "python",
     "metadata": {},
     "outputs": [
      {
       "metadata": {},
       "output_type": "display_data",
       "text": [
        "Matrix([\n",
        "[                 a2,                         b2,          c2],\n",
        "[-a2*c1 - 2*adot2*c2, b1*c2 - b2*c1 - 2*bdot2*c2, -2*c2*cdot2]])"
       ]
      },
      {
       "output_type": "stream",
       "stream": "stdout",
       "text": [
        "---\n"
       ]
      }
     ],
     "prompt_number": 25
    },
    {
     "cell_type": "code",
     "collapsed": false,
     "input": [
      "# Basis-Systemgr\u00f6\u00dfen\n",
      "\n",
      "ppx = st.row_stack(pphi, pphidot, pphiddot, pphidddot)\n",
      "\n",
      "# Koeffizienten-Listen bez\u00fcglich aller Basis-Systemgr\u00f6\u00dfen f\u00fcr die 1-Formen\n",
      "Q1_ = st.col_stack(Q1, sp.zeros(1, n*3)).subs(replm)\n",
      "Q2_ = st.col_stack(Q2, sp.zeros(1, n*3)).subs(replm)\n",
      "P_ = st.col_stack(P0, P1, P2, sp.zeros(1, n) ).subs(replm)\n",
      "\n",
      "# Erstellung der 1-Formen\n",
      "w1 = pc.DifferentialForm(1, ppx, coeff=Q1_)\n",
      "w2 = pc.DifferentialForm(1, ppx, coeff=Q2_)\n",
      "dF = pc.DifferentialForm(1, ppx, coeff=P_)"
     ],
     "language": "python",
     "metadata": {},
     "outputs": [],
     "prompt_number": 27
    },
    {
     "cell_type": "markdown",
     "metadata": {},
     "source": [
      "Zum Vergleich: Reproduktion der Ergebnisse von [Franke2014, S71]"
     ]
    },
    {
     "cell_type": "code",
     "collapsed": false,
     "input": [
      "w1.d^w1^w2"
     ],
     "language": "python",
     "metadata": {},
     "outputs": [
      {
       "metadata": {},
       "output_type": "pyout",
       "prompt_number": 28,
       "text": [
        "0"
       ]
      }
     ],
     "prompt_number": 28
    },
    {
     "cell_type": "code",
     "collapsed": false,
     "input": [
      "res = w2.d^w1^w2"
     ],
     "language": "python",
     "metadata": {},
     "outputs": [],
     "prompt_number": 29
    },
    {
     "cell_type": "code",
     "collapsed": false,
     "input": [
      "rc = res.coeff.subs(st.zip0(params, arg=1))\n"
     ],
     "language": "python",
     "metadata": {},
     "outputs": [],
     "prompt_number": 20
    },
    {
     "cell_type": "code",
     "collapsed": false,
     "input": [
      "nzt = zip(*res.nonzero_tuples())[1] ##\n",
      "\n",
      "res.get_baseform_from_idcs(nzt[0]) ##\n",
      "res.get_baseform_from_idcs(nzt[1]) ##"
     ],
     "language": "python",
     "metadata": {},
     "outputs": [
      {
       "metadata": {},
       "output_type": "display_data",
       "text": [
        "((0, 1, 2, 4), (0, 1, 2, 5))"
       ]
      },
      {
       "output_type": "stream",
       "stream": "stdout",
       "text": [
        "---\n"
       ]
      },
      {
       "metadata": {},
       "output_type": "display_data",
       "text": [
        "(1) dphi0^dphi1^dphi2^dphidot1"
       ]
      },
      {
       "output_type": "stream",
       "stream": "stdout",
       "text": [
        "___\n"
       ]
      },
      {
       "metadata": {},
       "output_type": "display_data",
       "text": [
        "(1) dphi0^dphi1^dphi2^dphidot2"
       ]
      },
      {
       "output_type": "stream",
       "stream": "stdout",
       "text": [
        "___\n"
       ]
      }
     ],
     "prompt_number": 30
    },
    {
     "cell_type": "code",
     "collapsed": false,
     "input": [
      "Gamma2 = w1.dot().dot()^w2.dot().dot()^dF"
     ],
     "language": "python",
     "metadata": {},
     "outputs": [],
     "prompt_number": 31
    },
    {
     "cell_type": "code",
     "collapsed": false,
     "input": [
      "Gamma2.co"
     ],
     "language": "python",
     "metadata": {},
     "outputs": [
      {
       "metadata": {},
       "output_type": "pyout",
       "prompt_number": 32,
       "text": [
        "(1852) dphi0^dphi1^dphi2+(707) dphi0^dphi1^dphidot0+(1934) dphi0^dphi1^dphidot1+(1689) dphi0^dphi1^dphidot2+(1720) dphi0^dphi1^dphiddot0+(1753) dphi0^dphi1^dphiddot1+(1654) dphi0^dphi1^dphiddot2+(683) dphi0^dphi2^dphidot0+(1444) dphi0^dphi2^dphidot1+(1199) dphi0^dphi2^dphidot2+(1230) dphi0^dphi2^dphiddot0+(1263) dphi0^dphi2^dphiddot1+(1164) dphi0^dphi2^dphiddot2+(651) dphi0^dphidot0^dphidot1+(643) dphi0^dphidot0^dphidot2+(653) dphi0^dphidot0^dphiddot0+(651) dphi0^dphidot0^dphiddot1+(643) dphi0^dphidot0^dphiddot2+(1281) dphi0^dphidot1^dphidot2+(1312) dphi0^dphidot1^dphiddot0+(1345) dphi0^dphidot1^dphiddot1+(1246) dphi0^dphidot1^dphiddot2+(1067) dphi0^dphidot2^dphiddot0+(1100) dphi0^dphidot2^dphiddot1+(1001) dphi0^dphidot2^dphiddot2+(1131) dphi0^dphiddot0^dphiddot1+(1032) dphi0^dphiddot0^dphiddot2+(1065) dphi0^dphiddot1^dphiddot2+(1424) dphi1^dphi2^dphidot0+(2546) dphi1^dphi2^dphidot1+(2064) dphi1^dphi2^dphidot2+(2116) dphi1^dphi2^dphiddot0+(2184) dphi1^dphi2^dphiddot1+(1995) dphi1^dphi2^dphiddot2+(1505) dphi1^dphidot0^dphidot1+(1260) dphi1^dphidot0^dphidot2+(1291) dphi1^dphidot0^dphiddot0+(1324) dphi1^dphidot0^dphiddot1+(1226) dphi1^dphidot0^dphiddot2+(2259) dphi1^dphidot1^dphidot2+(2311) dphi1^dphidot1^dphiddot0+(2379) dphi1^dphidot1^dphiddot1+(2190) dphi1^dphidot1^dphiddot2+(1829) dphi1^dphidot2^dphiddot0+(1897) dphi1^dphidot2^dphiddot1+(1708) dphi1^dphidot2^dphiddot2+(1947) dphi1^dphiddot0^dphiddot1+(1758) dphi1^dphiddot0^dphiddot2+(1826) dphi1^dphiddot1^dphiddot2+(1015) dphi2^dphidot0^dphidot1+(770) dphi2^dphidot0^dphidot2+(801) dphi2^dphidot0^dphiddot0+(834) dphi2^dphidot0^dphiddot1+(736) dphi2^dphidot0^dphiddot2+(1303) dphi2^dphidot1^dphidot2+(1355) dphi2^dphidot1^dphiddot0+(1423) dphi2^dphidot1^dphiddot1+(1234) dphi2^dphidot1^dphiddot2+(873) dphi2^dphidot2^dphiddot0+(941) dphi2^dphidot2^dphiddot1+(752) dphi2^dphidot2^dphiddot2+(991) dphi2^dphiddot0^dphiddot1+(802) dphi2^dphiddot0^dphiddot2+(870) dphi2^dphiddot1^dphiddot2+(853) dphidot0^dphidot1^dphidot2+(884) dphidot0^dphidot1^dphiddot0+(917) dphidot0^dphidot1^dphiddot1+(818) dphidot0^dphidot1^dphiddot2+(639) dphidot0^dphidot2^dphiddot0+(672) dphidot0^dphidot2^dphiddot1+(573) dphidot0^dphidot2^dphiddot2+(703) dphidot0^dphiddot0^dphiddot1+(604) dphidot0^dphiddot0^dphiddot2+(637) dphidot0^dphiddot1^dphiddot2+(1068) dphidot1^dphidot2^dphiddot0+(1136) dphidot1^dphidot2^dphiddot1+(947) dphidot1^dphidot2^dphiddot2+(1186) dphidot1^dphiddot0^dphiddot1+(997) dphidot1^dphiddot0^dphiddot2+(1065) dphidot1^dphiddot1^dphiddot2+(704) dphidot2^dphiddot0^dphiddot1+(515) dphidot2^dphiddot0^dphiddot2+(583) dphidot2^dphiddot1^dphiddot2+(631) dphiddot0^dphiddot1^dphiddot2"
       ]
      }
     ],
     "prompt_number": 32
    },
    {
     "cell_type": "markdown",
     "metadata": {},
     "source": [
      "Nachweis, dass $\\Gamma_2 \\neq 0$ gilt"
     ]
    },
    {
     "cell_type": "code",
     "collapsed": false,
     "input": [
      "#aus Gr\u00fcnden  der Rechenzeit nur den ersten Koeffizienten auswerten\n",
      "Gamma2.coeff[0].srn"
     ],
     "language": "python",
     "metadata": {},
     "outputs": [
      {
       "metadata": {},
       "output_type": "pyout",
       "prompt_number": 34,
       "text": [
        "-201409472622426557.8404124673249164026134222542868903819540825613976096742553655201344555683528353515"
       ]
      }
     ],
     "prompt_number": 34
    },
    {
     "cell_type": "code",
     "collapsed": false,
     "input": [
      "sp.binomial(12,3)"
     ],
     "language": "python",
     "metadata": {},
     "outputs": [
      {
       "metadata": {},
       "output_type": "pyout",
       "prompt_number": 38,
       "text": [
        "220"
       ]
      }
     ],
     "prompt_number": 38
    },
    {
     "cell_type": "code",
     "collapsed": false,
     "input": [
      "Gamma2.num_coeff"
     ],
     "language": "python",
     "metadata": {},
     "outputs": [
      {
       "metadata": {},
       "output_type": "pyout",
       "prompt_number": 37,
       "text": [
        "220"
       ]
      }
     ],
     "prompt_number": 37
    },
    {
     "cell_type": "code",
     "collapsed": false,
     "input": [
      "Theata2 = "
     ],
     "language": "python",
     "metadata": {},
     "outputs": []
    },
    {
     "cell_type": "code",
     "collapsed": false,
     "input": [
      "Gamma2.coeff[-1]"
     ],
     "language": "python",
     "metadata": {},
     "outputs": [
      {
       "metadata": {},
       "output_type": "pyout",
       "prompt_number": 35,
       "text": [
        "0"
       ]
      }
     ],
     "prompt_number": 35
    }
   ],
   "metadata": {}
  }
 ]
}