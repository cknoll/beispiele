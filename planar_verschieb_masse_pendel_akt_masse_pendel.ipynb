{
 "metadata": {
  "name": "",
  "signature": "sha256:b5aabaed95777040297bd01c8bf148bef0cd7326085dca02360a345f66eca7d9"
 },
 "nbformat": 3,
 "nbformat_minor": 0,
 "worksheets": [
  {
   "cells": [
    {
     "cell_type": "code",
     "collapsed": false,
     "input": [
      "import time\n",
      "print time.ctime()"
     ],
     "language": "python",
     "metadata": {},
     "outputs": [
      {
       "output_type": "stream",
       "stream": "stdout",
       "text": [
        "Fri May 20 14:57:46 2016\n"
       ]
      }
     ],
     "prompt_number": 1
    },
    {
     "cell_type": "markdown",
     "metadata": {},
     "source": [
      "<sub>Bei diesem IPython-Notebook handelt es sich um eine Beispiel-Rechnung als Erg\u00e4nzung zur Dissertationsschrift von C. Knoll. Allgemeine Hinweise zu den Beispielen sind in der [readme.md-Datei des entsprechenden Repositoriums](https://github.com/cknoll/beispiele/blob/master/readme.md) zu finden.</sub>\n",
      "\n",
      "---"
     ]
    },
    {
     "cell_type": "markdown",
     "metadata": {},
     "source": [
      "**Betrachtetes System**: Ebener Mechanismus aus vier K\u00f6rpern, drei translatorischen aktuierten FG und zwei rotatorischen passiven FG: <br>\n",
      "\n",
      "<img src=\"files/images/planar_verschieb_pendel_akt_masse_pendel.png\">\n",
      "\n",
      "**Betrachtete Aspekte**:\n",
      "* Herleitung der Modellgleichungen\n",
      "* LBINF\n",
      "* Untersuchung der \"Ruled-Manifold-Bedingung\" auf Basis der LBINF\n",
      "\n",
      "\n",
      "[//]: # (custom_config_start)\n",
      "$$\n",
      "\\newcommand{\\col}{\\mathrm{col}}\n",
      "\\newcommand{\\bs}{\\boldsymbol}\n",
      "$$\n",
      "[//]: # (custom_config_end)\n"
     ]
    },
    {
     "cell_type": "code",
     "collapsed": false,
     "input": [
      "%load_ext displaytools\n",
      "\n",
      "import sympy as sp\n",
      "from sympy import sin, cos, pi, Matrix\n",
      "from sympy.interactive import printing\n",
      "import symbtools as st\n",
      "import symbtools.modeltools as mt\n",
      "\n",
      "import scipy as sc\n",
      "import scipy.optimize\n",
      "import scipy.integrate\n",
      "\n",
      "printing.init_printing()"
     ],
     "language": "python",
     "metadata": {},
     "outputs": [],
     "prompt_number": 2
    },
    {
     "cell_type": "code",
     "collapsed": false,
     "input": [
      "t = sp.Symbol('t')\n",
      "np = 2\n",
      "nq = 3\n",
      "n = np + nq\n",
      "pp = st.symb_vector(\"p1:{0}\".format(np+1))\n",
      "qq = st.symb_vector(\"q1:{0}\".format(nq+1))\n",
      "ww = st.symb_vector(\"w1:{0}\".format(np+1))\n",
      "\n",
      "\n",
      "ttheta = st.row_stack(pp, qq) ##\n",
      "\n",
      "ppd = uu = st.time_deriv(pp, pp)\n",
      "qqd = vv = st.time_deriv(qq, qq)\n",
      "\n",
      "tthetad = st.time_deriv(ttheta, ttheta) ##\n",
      "tthetadd = st.time_deriv(ttheta, ttheta, order=2) ##\n",
      "st.make_global(ttheta, tthetad)"
     ],
     "language": "python",
     "metadata": {},
     "outputs": [
      {
       "latex": [
        "$$\\left[\\begin{matrix}p_{1}\\\\p_{2}\\\\q_{1}\\\\q_{2}\\\\q_{3}\\end{matrix}\\right]$$"
       ],
       "metadata": {},
       "output_type": "display_data",
       "png": "[encoded data removed]",
       "text": [
        "\u23a1p\u2081\u23a4\n",
        "\u23a2  \u23a5\n",
        "\u23a2p\u2082\u23a5\n",
        "\u23a2  \u23a5\n",
        "\u23a2q\u2081\u23a5\n",
        "\u23a2  \u23a5\n",
        "\u23a2q\u2082\u23a5\n",
        "\u23a2  \u23a5\n",
        "\u23a3q\u2083\u23a6"
       ]
      },
      {
       "output_type": "stream",
       "stream": "stdout",
       "text": [
        "---\n"
       ]
      },
      {
       "latex": [
        "$$\\left[\\begin{matrix}\\dot{p}_{1}\\\\\\dot{p}_{2}\\\\\\dot{q}_{1}\\\\\\dot{q}_{2}\\\\\\dot{q}_{3}\\end{matrix}\\right]$$"
       ],
       "metadata": {},
       "output_type": "display_data",
       "png": "[encoded data removed]",
       "text": [
        "\u23a1p\u0307\u2081\u23a4\n",
        "\u23a2   \u23a5\n",
        "\u23a2p\u0307\u2082\u23a5\n",
        "\u23a2   \u23a5\n",
        "\u23a2q\u0307\u2081\u23a5\n",
        "\u23a2   \u23a5\n",
        "\u23a2q\u0307\u2082\u23a5\n",
        "\u23a2   \u23a5\n",
        "\u23a3q\u0307\u2083\u23a6"
       ]
      },
      {
       "output_type": "stream",
       "stream": "stdout",
       "text": [
        "---\n"
       ]
      },
      {
       "latex": [
        "$$\\left[\\begin{matrix}\\ddot{p}_{1}\\\\\\ddot{p}_{2}\\\\\\ddot{q}_{1}\\\\\\ddot{q}_{2}\\\\\\ddot{q}_{3}\\end{matrix}\\right]$$"
       ],
       "metadata": {},
       "output_type": "display_data",
       "png": "[encoded data removed]",
       "text": [
        "\u23a1p\u0308\u2081\u23a4\n",
        "\u23a2   \u23a5\n",
        "\u23a2p\u0308\u2082\u23a5\n",
        "\u23a2   \u23a5\n",
        "\u23a2q\u0308\u2081\u23a5\n",
        "\u23a2   \u23a5\n",
        "\u23a2q\u0308\u2082\u23a5\n",
        "\u23a2   \u23a5\n",
        "\u23a3q\u0308\u2083\u23a6"
       ]
      },
      {
       "output_type": "stream",
       "stream": "stdout",
       "text": [
        "---\n"
       ]
      }
     ],
     "prompt_number": 3
    },
    {
     "cell_type": "code",
     "collapsed": false,
     "input": [
      "params = sp.symbols('s3, s4, m1, m2, m3, m4, g')\n",
      "st.make_global(params)\n",
      "\n",
      "ttau = st.symb_vector(\"tau1:{0}\".format(nq+1))\n",
      "st.make_global(ttau)"
     ],
     "language": "python",
     "metadata": {},
     "outputs": [],
     "prompt_number": 4
    },
    {
     "cell_type": "markdown",
     "metadata": {},
     "source": [
      "### Festlegung der Geometrie des mechanischen Systemes"
     ]
    },
    {
     "cell_type": "code",
     "collapsed": false,
     "input": [
      "mt.Rz(p1)"
     ],
     "language": "python",
     "metadata": {},
     "outputs": [
      {
       "latex": [
        "$$\\left[\\begin{matrix}\\cos{\\left (p_{1} \\right )} & - \\sin{\\left (p_{1} \\right )}\\\\\\sin{\\left (p_{1} \\right )} & \\cos{\\left (p_{1} \\right )}\\end{matrix}\\right]$$"
       ],
       "metadata": {},
       "output_type": "pyout",
       "png": "[encoded data removed]",
       "prompt_number": 5,
       "text": [
        "\u23a1cos(p\u2081)  -sin(p\u2081)\u23a4\n",
        "\u23a2                 \u23a5\n",
        "\u23a3sin(p\u2081)  cos(p\u2081) \u23a6"
       ]
      }
     ],
     "prompt_number": 5
    },
    {
     "cell_type": "code",
     "collapsed": false,
     "input": [
      "#Einheitsvektoren\n",
      "ex = sp.Matrix([1,0])\n",
      "ey = sp.Matrix([0,1])\n",
      "\n",
      "# Koordinaten der Schwerpunkte und Gelenke\n",
      "S1 = ex*q1 + ey*q2\n",
      "S2 = S1 + ex*q3\n",
      "\n",
      "# Gelenke\n",
      "G3 = S1\n",
      "G4 = S2\n",
      "S3 = G3 + mt.Rz(p1)*ey*s3*(-1)\n",
      "S4 = G4 + mt.Rz(p2)*ey*s4*(-1)\n",
      "\n",
      "# Zeitableitungen der Schwerpunktskoordinaten\n",
      "Sd1, Sd2, Sd3, Sd4 = st.col_split(st.time_deriv(st.col_stack(S1, S2, S3, S4), ttheta)) ##"
     ],
     "language": "python",
     "metadata": {},
     "outputs": [
      {
       "latex": [
        "$$\\left[\\begin{matrix}\\dot{q}_{1}\\\\\\dot{q}_{2}\\end{matrix}\\right]$$"
       ],
       "metadata": {},
       "output_type": "display_data",
       "png": "[encoded data removed]",
       "text": [
        "\u23a1q\u0307\u2081\u23a4\n",
        "\u23a2   \u23a5\n",
        "\u23a3q\u0307\u2082\u23a6"
       ]
      },
      {
       "latex": [
        "$$\\left[\\begin{matrix}\\dot{q}_{1} + \\dot{q}_{3}\\\\\\dot{q}_{2}\\end{matrix}\\right]$$"
       ],
       "metadata": {},
       "output_type": "display_data",
       "png": "[encoded data removed]",
       "text": [
        "\u23a1q\u0307\u2081 + q\u0307\u2083\u23a4\n",
        "\u23a2         \u23a5\n",
        "\u23a3   q\u0307\u2082   \u23a6"
       ]
      },
      {
       "latex": [
        "$$\\left[\\begin{matrix}\\dot{p}_{1} s_{3} \\cos{\\left (p_{1} \\right )} + \\dot{q}_{1}\\\\\\dot{p}_{1} s_{3} \\sin{\\left (p_{1} \\right )} + \\dot{q}_{2}\\end{matrix}\\right]$$"
       ],
       "metadata": {},
       "output_type": "display_data",
       "png": "[encoded data removed]",
       "text": [
        "\u23a1p\u0307\u2081\u22c5s\u2083\u22c5cos(p\u2081) + q\u0307\u2081\u23a4\n",
        "\u23a2                    \u23a5\n",
        "\u23a3p\u0307\u2081\u22c5s\u2083\u22c5sin(p\u2081) + q\u0307\u2082\u23a6"
       ]
      },
      {
       "latex": [
        "$$\\left[\\begin{matrix}\\dot{p}_{2} s_{4} \\cos{\\left (p_{2} \\right )} + \\dot{q}_{1} + \\dot{q}_{3}\\\\\\dot{p}_{2} s_{4} \\sin{\\left (p_{2} \\right )} + \\dot{q}_{2}\\end{matrix}\\right]$$"
       ],
       "metadata": {},
       "output_type": "display_data",
       "png": "[encoded data removed]",
       "text": [
        "\u23a1p\u0307\u2082\u22c5s\u2084\u22c5cos(p\u2082) + q\u0307\u2081 + q\u0307\u2083\u23a4\n",
        "\u23a2                          \u23a5\n",
        "\u23a3   p\u0307\u2082\u22c5s\u2084\u22c5sin(p\u2082) + q\u0307\u2082   \u23a6"
       ]
      },
      {
       "output_type": "stream",
       "stream": "stdout",
       "text": [
        "---\n"
       ]
      }
     ],
     "prompt_number": 6
    },
    {
     "cell_type": "code",
     "collapsed": false,
     "input": [
      "# Energie\n",
      "T_rot = 0\n",
      "T_trans = ( m1*Sd1.T*Sd1 + m2*Sd2.T*Sd2 + m3*Sd3.T*Sd3 + m4*Sd4.T*Sd4 )/2\n",
      "\n",
      "T = T_rot + T_trans[0] ##\n",
      "\n",
      "V = m1*g*S1[1] + m2*g*S2[1] + m3*g*S3[1] + m4*g*S4[1]"
     ],
     "language": "python",
     "metadata": {},
     "outputs": [
      {
       "latex": [
        "$$\\frac{m_{1} \\dot{q}_{1}^{2}}{2} + \\frac{m_{1} \\dot{q}_{2}^{2}}{2} + \\frac{m_{2} \\dot{q}_{2}^{2}}{2} + \\frac{m_{2}}{2} \\left(\\dot{q}_{1} + \\dot{q}_{3}\\right)^{2} + \\frac{m_{3}}{2} \\left(\\dot{p}_{1} s_{3} \\sin{\\left (p_{1} \\right )} + \\dot{q}_{2}\\right)^{2} + \\frac{m_{3}}{2} \\left(\\dot{p}_{1} s_{3} \\cos{\\left (p_{1} \\right )} + \\dot{q}_{1}\\right)^{2} + \\frac{m_{4}}{2} \\left(\\dot{p}_{2} s_{4} \\sin{\\left (p_{2} \\right )} + \\dot{q}_{2}\\right)^{2} + \\frac{m_{4}}{2} \\left(\\dot{p}_{2} s_{4} \\cos{\\left (p_{2} \\right )} + \\dot{q}_{1} + \\dot{q}_{3}\\right)^{2}$$"
       ],
       "metadata": {},
       "output_type": "display_data",
       "png": "[encoded data removed]",
       "text": [
        "      2         2         2                 2                            2    \n",
        "m\u2081\u22c5q\u0307\u2081    m\u2081\u22c5q\u0307\u2082    m\u2082\u22c5q\u0307\u2082    m\u2082\u22c5(q\u0307\u2081 + q\u0307\u2083)    m\u2083\u22c5(p\u0307\u2081\u22c5s\u2083\u22c5sin(p\u2081) + q\u0307\u2082)    m\n",
        "\u2500\u2500\u2500\u2500\u2500\u2500\u2500 + \u2500\u2500\u2500\u2500\u2500\u2500\u2500 + \u2500\u2500\u2500\u2500\u2500\u2500\u2500 + \u2500\u2500\u2500\u2500\u2500\u2500\u2500\u2500\u2500\u2500\u2500\u2500\u2500\u2500\u2500 + \u2500\u2500\u2500\u2500\u2500\u2500\u2500\u2500\u2500\u2500\u2500\u2500\u2500\u2500\u2500\u2500\u2500\u2500\u2500\u2500\u2500\u2500\u2500\u2500\u2500\u2500 + \u2500\n",
        "   2         2         2             2                      2                 \n",
        "\n",
        "                        2                            2                        \n",
        "\u2083\u22c5(p\u0307\u2081\u22c5s\u2083\u22c5cos(p\u2081) + q\u0307\u2081)    m\u2084\u22c5(p\u0307\u2082\u22c5s\u2084\u22c5sin(p\u2082) + q\u0307\u2082)    m\u2084\u22c5(p\u0307\u2082\u22c5s\u2084\u22c5cos(p\u2082) + \n",
        "\u2500\u2500\u2500\u2500\u2500\u2500\u2500\u2500\u2500\u2500\u2500\u2500\u2500\u2500\u2500\u2500\u2500\u2500\u2500\u2500\u2500\u2500\u2500\u2500\u2500 + \u2500\u2500\u2500\u2500\u2500\u2500\u2500\u2500\u2500\u2500\u2500\u2500\u2500\u2500\u2500\u2500\u2500\u2500\u2500\u2500\u2500\u2500\u2500\u2500\u2500\u2500 + \u2500\u2500\u2500\u2500\u2500\u2500\u2500\u2500\u2500\u2500\u2500\u2500\u2500\u2500\u2500\u2500\u2500\u2500\u2500\u2500\u2500\n",
        "           2                            2                               2     \n",
        "\n",
        "          2\n",
        "q\u0307\u2081 + q\u0307\u2083) \n",
        "\u2500\u2500\u2500\u2500\u2500\u2500\u2500\u2500\u2500\u2500\u2500\n",
        "           "
       ]
      },
      {
       "output_type": "stream",
       "stream": "stdout",
       "text": [
        "---\n"
       ]
      }
     ],
     "prompt_number": 7
    },
    {
     "cell_type": "code",
     "collapsed": false,
     "input": [
      "external_forces = [0, 0, tau1, tau2, tau3]\n",
      "assert not any(external_forces[:np])\n",
      "mod = mt.generate_symbolic_model(T, V, ttheta, external_forces)"
     ],
     "language": "python",
     "metadata": {},
     "outputs": [],
     "prompt_number": 8
    },
    {
     "cell_type": "code",
     "collapsed": false,
     "input": [
      "MM = mod.MM ##:"
     ],
     "language": "python",
     "metadata": {},
     "outputs": [
      {
       "latex": [
        "MM := $$\\left[\\begin{matrix}m_{3} s_{3}^{2} & 0 & m_{3} s_{3} \\cos{\\left (p_{1} \\right )} & m_{3} s_{3} \\sin{\\left (p_{1} \\right )} & 0\\\\0 & m_{4} s_{4}^{2} & m_{4} s_{4} \\cos{\\left (p_{2} \\right )} & m_{4} s_{4} \\sin{\\left (p_{2} \\right )} & m_{4} s_{4} \\cos{\\left (p_{2} \\right )}\\\\m_{3} s_{3} \\cos{\\left (p_{1} \\right )} & m_{4} s_{4} \\cos{\\left (p_{2} \\right )} & m_{1} + m_{2} + m_{3} + m_{4} & 0 & m_{2} + m_{4}\\\\m_{3} s_{3} \\sin{\\left (p_{1} \\right )} & m_{4} s_{4} \\sin{\\left (p_{2} \\right )} & 0 & m_{1} + m_{2} + m_{3} + m_{4} & 0\\\\0 & m_{4} s_{4} \\cos{\\left (p_{2} \\right )} & m_{2} + m_{4} & 0 & m_{2} + m_{4}\\end{matrix}\\right]$$"
       ],
       "metadata": {},
       "output_type": "display_data",
       "png": "[encoded data removed]",
       "text": [
        "MM := \u23a1        2                                                                    \n",
        "\u23a2   m\u2083\u22c5s\u2083             0          m\u2083\u22c5s\u2083\u22c5cos(p\u2081)      m\u2083\u22c5s\u2083\u22c5sin(p\u2081)          0  \n",
        "\u23a2                                                                             \n",
        "\u23a2                       2                                                     \n",
        "\u23a2      0           m\u2084\u22c5s\u2084         m\u2084\u22c5s\u2084\u22c5cos(p\u2082)      m\u2084\u22c5s\u2084\u22c5sin(p\u2082)    m\u2084\u22c5s\u2084\u22c5cos\n",
        "\u23a2                                                                             \n",
        "\u23a2m\u2083\u22c5s\u2083\u22c5cos(p\u2081)  m\u2084\u22c5s\u2084\u22c5cos(p\u2082)  m\u2081 + m\u2082 + m\u2083 + m\u2084          0             m\u2082 + m\n",
        "\u23a2                                                                             \n",
        "\u23a2m\u2083\u22c5s\u2083\u22c5sin(p\u2081)  m\u2084\u22c5s\u2084\u22c5sin(p\u2082)          0          m\u2081 + m\u2082 + m\u2083 + m\u2084        0  \n",
        "\u23a2                                                                             \n",
        "\u23a3      0        m\u2084\u22c5s\u2084\u22c5cos(p\u2082)       m\u2082 + m\u2084               0             m\u2082 + m\n",
        "\n",
        "    \u23a4\n",
        "    \u23a5\n",
        "    \u23a5\n",
        "    \u23a5\n",
        "(p\u2082)\u23a5\n",
        "    \u23a5\n",
        "\u2084   \u23a5\n",
        "    \u23a5\n",
        "    \u23a5\n",
        "    \u23a5\n",
        "\u2084   \u23a6"
       ]
      },
      {
       "output_type": "stream",
       "stream": "stdout",
       "text": [
        "---\n"
       ]
      }
     ],
     "prompt_number": 9
    },
    {
     "cell_type": "markdown",
     "metadata": {},
     "source": [
      "### LBI-Normalform  berechnen"
     ]
    },
    {
     "cell_type": "code",
     "collapsed": false,
     "input": [
      "mod.calc_lbi_nf_state_eq()"
     ],
     "language": "python",
     "metadata": {},
     "outputs": [],
     "prompt_number": 10
    },
    {
     "cell_type": "code",
     "collapsed": false,
     "input": [
      "fz4 = mod.fz[-np:,:]"
     ],
     "language": "python",
     "metadata": {},
     "outputs": [],
     "prompt_number": 11
    },
    {
     "cell_type": "code",
     "collapsed": false,
     "input": [
      "fz4.simplify()"
     ],
     "language": "python",
     "metadata": {},
     "outputs": [],
     "prompt_number": 12
    },
    {
     "cell_type": "code",
     "collapsed": false,
     "input": [
      "H1 = sp.hessian(fz4[0], vv) ##:\n",
      "H2 = sp.hessian(fz4[1], vv) ##:"
     ],
     "language": "python",
     "metadata": {},
     "outputs": [
      {
       "latex": [
        "H1 := $$\\left[\\begin{matrix}\\frac{2}{s_{3}^{2}} \\sin{\\left (p_{1} \\right )} \\cos{\\left (p_{1} \\right )} & \\frac{1}{s_{3}^{2}} \\left(\\sin^{2}{\\left (p_{1} \\right )} - \\cos^{2}{\\left (p_{1} \\right )}\\right) & 0\\\\\\frac{1}{s_{3}^{2}} \\left(\\sin^{2}{\\left (p_{1} \\right )} - \\cos^{2}{\\left (p_{1} \\right )}\\right) & - \\frac{2}{s_{3}^{2}} \\sin{\\left (p_{1} \\right )} \\cos{\\left (p_{1} \\right )} & 0\\\\0 & 0 & 0\\end{matrix}\\right]$$"
       ],
       "metadata": {},
       "output_type": "display_data",
       "png": "[encoded data removed]",
       "text": [
        "H1 := \u23a1                        2          2       \u23a4\n",
        "\u23a2 2\u22c5sin(p\u2081)\u22c5cos(p\u2081)   sin (p\u2081) - cos (p\u2081)   \u23a5\n",
        "\u23a2 \u2500\u2500\u2500\u2500\u2500\u2500\u2500\u2500\u2500\u2500\u2500\u2500\u2500\u2500\u2500\u2500\u2500   \u2500\u2500\u2500\u2500\u2500\u2500\u2500\u2500\u2500\u2500\u2500\u2500\u2500\u2500\u2500\u2500\u2500\u2500\u2500  0\u23a5\n",
        "\u23a2          2                    2           \u23a5\n",
        "\u23a2        s\u2083                   s\u2083            \u23a5\n",
        "\u23a2                                           \u23a5\n",
        "\u23a2   2          2                            \u23a5\n",
        "\u23a2sin (p\u2081) - cos (p\u2081)  -2\u22c5sin(p\u2081)\u22c5cos(p\u2081)    \u23a5\n",
        "\u23a2\u2500\u2500\u2500\u2500\u2500\u2500\u2500\u2500\u2500\u2500\u2500\u2500\u2500\u2500\u2500\u2500\u2500\u2500\u2500  \u2500\u2500\u2500\u2500\u2500\u2500\u2500\u2500\u2500\u2500\u2500\u2500\u2500\u2500\u2500\u2500\u2500\u2500\u2500  0\u23a5\n",
        "\u23a2          2                    2           \u23a5\n",
        "\u23a2        s\u2083                   s\u2083            \u23a5\n",
        "\u23a2                                           \u23a5\n",
        "\u23a3         0                    0           0\u23a6"
       ]
      },
      {
       "output_type": "stream",
       "stream": "stdout",
       "text": [
        "---\n"
       ]
      },
      {
       "latex": [
        "H2 := $$\\left[\\begin{matrix}\\frac{2}{s_{4}^{2}} \\sin{\\left (p_{2} \\right )} \\cos{\\left (p_{2} \\right )} & \\frac{1}{s_{4}^{2}} \\left(\\sin^{2}{\\left (p_{2} \\right )} - \\cos^{2}{\\left (p_{2} \\right )}\\right) & \\frac{2}{s_{4}^{2}} \\sin{\\left (p_{2} \\right )} \\cos{\\left (p_{2} \\right )}\\\\\\frac{1}{s_{4}^{2}} \\left(\\sin^{2}{\\left (p_{2} \\right )} - \\cos^{2}{\\left (p_{2} \\right )}\\right) & - \\frac{2}{s_{4}^{2}} \\sin{\\left (p_{2} \\right )} \\cos{\\left (p_{2} \\right )} & \\frac{1}{s_{4}^{2}} \\left(\\sin^{2}{\\left (p_{2} \\right )} - \\cos^{2}{\\left (p_{2} \\right )}\\right)\\\\\\frac{2}{s_{4}^{2}} \\sin{\\left (p_{2} \\right )} \\cos{\\left (p_{2} \\right )} & \\frac{1}{s_{4}^{2}} \\left(\\sin^{2}{\\left (p_{2} \\right )} - \\cos^{2}{\\left (p_{2} \\right )}\\right) & \\frac{2}{s_{4}^{2}} \\sin{\\left (p_{2} \\right )} \\cos{\\left (p_{2} \\right )}\\end{matrix}\\right]$$"
       ],
       "metadata": {},
       "output_type": "display_data",
       "png": "[encoded data removed]",
       "text": [
        "H2 := \u23a1                        2          2                         \u23a4\n",
        "\u23a2 2\u22c5sin(p\u2082)\u22c5cos(p\u2082)   sin (p\u2082) - cos (p\u2082)   2\u22c5sin(p\u2082)\u22c5cos(p\u2082) \u23a5\n",
        "\u23a2 \u2500\u2500\u2500\u2500\u2500\u2500\u2500\u2500\u2500\u2500\u2500\u2500\u2500\u2500\u2500\u2500\u2500   \u2500\u2500\u2500\u2500\u2500\u2500\u2500\u2500\u2500\u2500\u2500\u2500\u2500\u2500\u2500\u2500\u2500\u2500\u2500   \u2500\u2500\u2500\u2500\u2500\u2500\u2500\u2500\u2500\u2500\u2500\u2500\u2500\u2500\u2500\u2500\u2500 \u23a5\n",
        "\u23a2          2                    2                    2        \u23a5\n",
        "\u23a2        s\u2084                   s\u2084                   s\u2084         \u23a5\n",
        "\u23a2                                                             \u23a5\n",
        "\u23a2   2          2                              2          2    \u23a5\n",
        "\u23a2sin (p\u2082) - cos (p\u2082)  -2\u22c5sin(p\u2082)\u22c5cos(p\u2082)   sin (p\u2082) - cos (p\u2082)\u23a5\n",
        "\u23a2\u2500\u2500\u2500\u2500\u2500\u2500\u2500\u2500\u2500\u2500\u2500\u2500\u2500\u2500\u2500\u2500\u2500\u2500\u2500  \u2500\u2500\u2500\u2500\u2500\u2500\u2500\u2500\u2500\u2500\u2500\u2500\u2500\u2500\u2500\u2500\u2500\u2500\u2500  \u2500\u2500\u2500\u2500\u2500\u2500\u2500\u2500\u2500\u2500\u2500\u2500\u2500\u2500\u2500\u2500\u2500\u2500\u2500\u23a5\n",
        "\u23a2          2                    2                    2        \u23a5\n",
        "\u23a2        s\u2084                   s\u2084                   s\u2084         \u23a5\n",
        "\u23a2                                                             \u23a5\n",
        "\u23a2                        2          2                         \u23a5\n",
        "\u23a2 2\u22c5sin(p\u2082)\u22c5cos(p\u2082)   sin (p\u2082) - cos (p\u2082)   2\u22c5sin(p\u2082)\u22c5cos(p\u2082) \u23a5\n",
        "\u23a2 \u2500\u2500\u2500\u2500\u2500\u2500\u2500\u2500\u2500\u2500\u2500\u2500\u2500\u2500\u2500\u2500\u2500   \u2500\u2500\u2500\u2500\u2500\u2500\u2500\u2500\u2500\u2500\u2500\u2500\u2500\u2500\u2500\u2500\u2500\u2500\u2500   \u2500\u2500\u2500\u2500\u2500\u2500\u2500\u2500\u2500\u2500\u2500\u2500\u2500\u2500\u2500\u2500\u2500 \u23a5\n",
        "\u23a2          2                    2                    2        \u23a5\n",
        "\u23a3        s\u2084                   s\u2084                   s\u2084         \u23a6"
       ]
      },
      {
       "output_type": "stream",
       "stream": "stdout",
       "text": [
        "---\n"
       ]
      }
     ],
     "prompt_number": 13
    },
    {
     "cell_type": "code",
     "collapsed": false,
     "input": [
      "H1.eigenvals() ##:\n",
      "H2.eigenvals() ##:"
     ],
     "language": "python",
     "metadata": {},
     "outputs": [
      {
       "latex": [
        "H1.eigenvals()  := $$\\left \\{ 0 : 1, \\quad - \\frac{1}{s_{3}^{2}} : 1, \\quad \\frac{1}{s_{3}^{2}} : 1\\right \\}$$"
       ],
       "metadata": {},
       "output_type": "display_data",
       "png": "[encoded data removed]",
       "text": [
        "H1.eigenvals()  := \u23a7      -1       1    \u23ab\n",
        "\u23aa0: 1, \u2500\u2500\u2500: 1, \u2500\u2500\u2500: 1\u23aa\n",
        "\u23a8        2       2   \u23ac\n",
        "\u23aa      s\u2083      s\u2083    \u23aa\n",
        "\u23a9                    \u23ad"
       ]
      },
      {
       "output_type": "stream",
       "stream": "stdout",
       "text": [
        "___\n"
       ]
      },
      {
       "latex": [
        "H2.eigenvals()  := $$\\left \\{ 0 : 1, \\quad \\frac{1}{s_{4}^{2}} \\left(- \\frac{1}{2} \\sqrt{\\sin^{2}{\\left (2 p_{2} \\right )} + 8} + \\frac{1}{2} \\sin{\\left (2 p_{2} \\right )}\\right) : 1, \\quad \\frac{1}{s_{4}^{2}} \\left(\\frac{1}{2} \\sqrt{\\sin^{2}{\\left (2 p_{2} \\right )} + 8} + \\frac{1}{2} \\sin{\\left (2 p_{2} \\right )}\\right) : 1\\right \\}$$"
       ],
       "metadata": {},
       "output_type": "display_data",
       "png": "[encoded data removed]",
       "text": [
        "H2.eigenvals()  := \u23a7           ________________                    ________________              \n",
        "\u23aa          \u2571    2                              \u2571    2                         \n",
        "\u23aa        \u2572\u2571  sin (2\u22c5p\u2082) + 8    sin(2\u22c5p\u2082)     \u2572\u2571  sin (2\u22c5p\u2082) + 8    sin(2\u22c5p\u2082)  \n",
        "\u23aa      - \u2500\u2500\u2500\u2500\u2500\u2500\u2500\u2500\u2500\u2500\u2500\u2500\u2500\u2500\u2500\u2500\u2500\u2500\u2500 + \u2500\u2500\u2500\u2500\u2500\u2500\u2500\u2500\u2500     \u2500\u2500\u2500\u2500\u2500\u2500\u2500\u2500\u2500\u2500\u2500\u2500\u2500\u2500\u2500\u2500\u2500\u2500\u2500 + \u2500\u2500\u2500\u2500\u2500\u2500\u2500\u2500\u2500  \n",
        "\u23a8                 2                2                  2                2      \n",
        "\u23aa0: 1, \u2500\u2500\u2500\u2500\u2500\u2500\u2500\u2500\u2500\u2500\u2500\u2500\u2500\u2500\u2500\u2500\u2500\u2500\u2500\u2500\u2500\u2500\u2500\u2500\u2500\u2500\u2500\u2500\u2500\u2500\u2500\u2500\u2500: 1, \u2500\u2500\u2500\u2500\u2500\u2500\u2500\u2500\u2500\u2500\u2500\u2500\u2500\u2500\u2500\u2500\u2500\u2500\u2500\u2500\u2500\u2500\u2500\u2500\u2500\u2500\u2500\u2500\u2500\u2500\u2500: \n",
        "\u23aa                       2                                    2                \n",
        "\u23aa                     s\u2084                                   s\u2084                 \n",
        "\u23a9                                                                             \n",
        "\n",
        " \u23ab\n",
        " \u23aa\n",
        " \u23aa\n",
        " \u23aa\n",
        " \u23ac\n",
        "1\u23aa\n",
        " \u23aa\n",
        " \u23aa\n",
        " \u23ad"
       ]
      },
      {
       "output_type": "stream",
       "stream": "stdout",
       "text": [
        "___\n"
       ]
      }
     ],
     "prompt_number": 14
    },
    {
     "cell_type": "markdown",
     "metadata": {},
     "source": [
      "**Fazit**: Beide Matrizen sind indefinit."
     ]
    },
    {
     "cell_type": "code",
     "collapsed": false,
     "input": [
      "# Vereinfachungen der Ausdr\u00fccke vornehmen\n",
      "h1 = H1*s3**2\n",
      "h2 = H2*s4**2\n",
      "\n",
      "# Zufallswerte erzeugen\n",
      "rnst = st.rnd_number_subs_tuples(h1+h2, seed=14.54) ##"
     ],
     "language": "python",
     "metadata": {},
     "outputs": [
      {
       "latex": [
        "$$\\left [ \\left ( p_{1}, \\quad 0.52483909061119005112772128995857201516628265380859375\\right ), \\quad \\left ( p_{2}, \\quad 0.07673743928934440017286533475271426141262054443359375\\right )\\right ]$$"
       ],
       "metadata": {},
       "output_type": "display_data",
       "png": "[encoded data removed]",
       "text": [
        "[(p\u2081, 0.52483909061119005112772128995857201516628265380859375), (p\u2082, 0.0767374\n",
        "3928934440017286533475271426141262054443359375)]"
       ]
      },
      {
       "output_type": "stream",
       "stream": "stdout",
       "text": [
        "---\n"
       ]
      }
     ],
     "prompt_number": 15
    },
    {
     "cell_type": "markdown",
     "metadata": {},
     "source": [
      "### Numerische L\u00f6sungsbestimmung"
     ]
    },
    {
     "cell_type": "markdown",
     "metadata": {},
     "source": [
      "\u00dcberpr\u00fcfung, ob beide Gleichungen eine gemeinsame L\u00f6sung haben. Dazu wird ein Minimierungsproblem konstruiert.\n",
      "Dessen globale Minimalstellen stimmen mit der gesuchten L\u00f6sung \u00fcberein, wenn der Funktionswert am Minimum $0$ betr\u00e4gt."
     ]
    },
    {
     "cell_type": "code",
     "collapsed": false,
     "input": [
      "func_expr1 = ( (vv.T*h1.subs(rnst)*vv)**2 + (vv.T*h2.subs(rnst)*vv)**2 )[0]"
     ],
     "language": "python",
     "metadata": {},
     "outputs": [],
     "prompt_number": 16
    },
    {
     "cell_type": "markdown",
     "metadata": {},
     "source": [
      "Hinzuf\u00fcgen eines \"Strafterms\" $e^{-\\dot q_1^2 -\\dot q_2^2 -\\dot q_3^2 }$ um triviale L\u00f6sung $(\\dot q_1, \\dot q_2, \\dot q_3) = \\bs 0$ auszuschlie\u00dfen"
     ]
    },
    {
     "cell_type": "code",
     "collapsed": false,
     "input": [
      "func_expr2 = func_expr1 + (sp.exp(- (vv.T*vv)[0]) ) "
     ],
     "language": "python",
     "metadata": {},
     "outputs": [],
     "prompt_number": 17
    },
    {
     "cell_type": "code",
     "collapsed": false,
     "input": [
      "# Ausdruck in ausf\u00fchrbare Funktion umwandeln\n",
      "func_intern = st.expr_to_func(vv, func_expr2)\n",
      "\n",
      "# Hilfsfunktion mit angepasster Signatur \n",
      "def func(vv):\n",
      "    # entpacken des Arguments\n",
      "    return func_intern(*vv)"
     ],
     "language": "python",
     "metadata": {},
     "outputs": [],
     "prompt_number": 18
    },
    {
     "cell_type": "code",
     "collapsed": false,
     "input": [
      "# Durchf\u00fchrung der Optimierung\n",
      "sol = sc.optimize.fmin(func, [0, 0, 0], xtol=1e-12, maxfun=1e5) ##"
     ],
     "language": "python",
     "metadata": {},
     "outputs": [
      {
       "output_type": "stream",
       "stream": "stdout",
       "text": [
        "Optimization terminated successfully.\n",
        "         Current function value: 0.000000\n",
        "         Iterations: 507\n",
        "         Function evaluations: 985\n"
       ]
      },
      {
       "metadata": {},
       "output_type": "display_data",
       "text": [
        "array([ 1.22704296,  0.71046427,  8.01315543])"
       ]
      },
      {
       "output_type": "stream",
       "stream": "stdout",
       "text": [
        "---\n"
       ]
      }
     ],
     "prompt_number": 19
    },
    {
     "cell_type": "code",
     "collapsed": false,
     "input": [
      "# Kontrolle der Zielfunktion (ohne Strafterm)\n",
      "float(func_expr1.subz(vv, sol))"
     ],
     "language": "python",
     "metadata": {},
     "outputs": [
      {
       "latex": [
        "$$5.65450186445e-30$$"
       ],
       "metadata": {},
       "output_type": "pyout",
       "png": "[encoded data removed]",
       "prompt_number": 20,
       "text": [
        "5.65450186445e-30"
       ]
      }
     ],
     "prompt_number": 20
    },
    {
     "cell_type": "markdown",
     "metadata": {},
     "source": [
      "### Fazit\n",
      "Der Minimierungsalgorithmus findet eine Nullstelle der Zielfunktion $\\bs b \\mapsto ({\\bs b}^T \\bs h_1  {\\bs  b})^2 + ({\\bs b}^T \\bs h_2  {\\bs  b})^2$.\n",
      "Es existiert eine gemeinsame nichttriviale L\u00f6sung der beiden Gleichungen, d.h. das System erf\u00fcllt die Ruled-Manifold-Bedingung. Die vermutete Nichtflachheit, kann auf diesem Weg nicht gezeigt werden."
     ]
    }
   ],
   "metadata": {}
  }
 ]
}