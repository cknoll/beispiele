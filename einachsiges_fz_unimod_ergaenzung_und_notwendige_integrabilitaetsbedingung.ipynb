{
 "metadata": {
  "name": "",
  "signature": "sha256:dd445f5bb02f100174550af75b5ed7d93265cb7e81fe8081a67bc06f96ac9e18"
 },
 "nbformat": 3,
 "nbformat_minor": 0,
 "worksheets": [
  {
   "cells": [
    {
     "cell_type": "code",
     "collapsed": false,
     "input": [
      "import time\n",
      "print time.ctime()"
     ],
     "language": "python",
     "metadata": {},
     "outputs": [
      {
       "output_type": "stream",
       "stream": "stdout",
       "text": [
        "Tue May 31 09:51:44 2016\n"
       ]
      }
     ],
     "prompt_number": 1
    },
    {
     "cell_type": "markdown",
     "metadata": {},
     "source": [
      "<sub>Bei diesem IPython-Notebook handelt es sich um eine Beispiel-Rechnung als Erg\u00e4nzung zur Dissertationsschrift von C. Knoll. Allgemeine Hinweise zu den Beispielen sind in der [readme.md-Datei des entsprechenden Repositoriums](https://github.com/cknoll/beispiele/blob/master/readme.md) zu finden.</sub>\n",
      "\n",
      "---"
     ]
    },
    {
     "cell_type": "markdown",
     "metadata": {},
     "source": [
      "\n",
      "**Betrachtetes System:** Ebenes einr\u00e4driges Fahrzeug unter dem Einfluss der Schwerkraft.\n",
      "\n",
      "<img src=\"files/images/unicycle.png\">\n",
      "\n",
      "**Systemanalyse**\n",
      "* Aufstellen der Bewegungsgleichungen\n",
      "* Flachheitsanalyse\n",
      "    * Aufstellen des Tangentialsystems\n",
      "    * Angabe einer unimodularen Erg\u00e4nzung der Systemmatrix (inkl. Unimodularit\u00e4tsnachweis)\n",
      "    * Untersuchung der notwendigen Integrabilit\u00e4tsbedingung\n",
      "      * Bestimmung der Anzahl der Koeffizienten in den Differentialformen $\\Xi_{i, k}$\n",
      "      * Auswertung von $\\Xi_{i,k}$ bis f\u00fcr $k=0,1,2$\n",
      "\n",
      "[//]: # (custom_config_start)\n",
      "$$\n",
      "\\newcommand{\\d}{\\mathrm{d}}\n",
      "\\newcommand{\\col}{\\mathrm{col}}\n",
      "\\newcommand{\\bs}{\\boldsymbol}\n",
      "\\newcommand{\\Ddt}{\\left(\\tfrac{d}{dt}\\right)}\n",
      "\\newcommand{\\ddt}{\\tfrac{d}{dt}}\n",
      "\\renewcommand{\\tt}{\\bs \\theta}\n",
      "$$\n",
      "[//]: # (custom_config_end)"
     ]
    },
    {
     "cell_type": "code",
     "collapsed": false,
     "input": [
      "%load_ext displaytools\n",
      "\n",
      "import sympy as sp\n",
      "from sympy import sin, cos, pi, Matrix\n",
      "from sympy.interactive import printing\n",
      "\n",
      "import pycartan as pc # perspektivisch: pycartan\n",
      "import symbtools as st\n",
      "import symbtools.noncommutativetools as nc\n",
      "import symbtools.modeltools as mt\n",
      "import pickle\n",
      "\n",
      "printing.init_printing()"
     ],
     "language": "python",
     "metadata": {},
     "outputs": [],
     "prompt_number": 2
    },
    {
     "cell_type": "code",
     "collapsed": false,
     "input": [
      "np, nq = 1, 2\n",
      "n = np + nq\n",
      "ttheta = st.symb_vector(\"p1, q1, q2\") ##:T\n",
      "tthetad = st.time_deriv(ttheta, ttheta) ##:T\n",
      "tthetadd = st.time_deriv(ttheta, ttheta, order=2) ##:T\n",
      "\n",
      "st.make_global(ttheta, tthetad, tthetadd)"
     ],
     "language": "python",
     "metadata": {},
     "outputs": [
      {
       "latex": [
        "ttheta.T := $$\\left[\\begin{matrix}p_{1} & q_{1} & q_{2}\\end{matrix}\\right]$$"
       ],
       "metadata": {},
       "output_type": "display_data",
       "png": "[encoded data removed]",
       "text": [
        "ttheta.T := [p\u2081  q\u2081  q\u2082]"
       ]
      },
      {
       "output_type": "stream",
       "stream": "stdout",
       "text": [
        "---\n"
       ]
      },
      {
       "latex": [
        "tthetad.T := $$\\left[\\begin{matrix}\\dot{p}_{1} & \\dot{q}_{1} & \\dot{q}_{2}\\end{matrix}\\right]$$"
       ],
       "metadata": {},
       "output_type": "display_data",
       "png": "[encoded data removed]",
       "text": [
        "tthetad.T := [p\u0307\u2081  q\u0307\u2081  q\u0307\u2082]"
       ]
      },
      {
       "output_type": "stream",
       "stream": "stdout",
       "text": [
        "---\n"
       ]
      },
      {
       "latex": [
        "tthetadd.T := $$\\left[\\begin{matrix}\\ddot{p}_{1} & \\ddot{q}_{1} & \\ddot{q}_{2}\\end{matrix}\\right]$$"
       ],
       "metadata": {},
       "output_type": "display_data",
       "png": "[encoded data removed]",
       "text": [
        "tthetadd.T := [p\u0308\u2081  q\u0308\u2081  q\u0308\u2082]"
       ]
      },
      {
       "output_type": "stream",
       "stream": "stdout",
       "text": [
        "---\n"
       ]
      }
     ],
     "prompt_number": 3
    },
    {
     "cell_type": "code",
     "collapsed": false,
     "input": [
      "params = sp.symbols('l0, l1, s1, s2, J0, J1, J2, m0, m1, m2, g')\n",
      "st.make_global(params)\n",
      "\n",
      "tau1, tau2 = ttau = sp.symbols(\"tau1:3\")"
     ],
     "language": "python",
     "metadata": {},
     "outputs": [],
     "prompt_number": 4
    },
    {
     "cell_type": "code",
     "collapsed": false,
     "input": [
      "# Geometrie: (Einheitsvektoren)\n",
      "ex = Matrix([1,0])\n",
      "ey = Matrix([0,1])\n",
      "\n",
      "M0 = Matrix([-l0*p1, l0]) # Mittelpunkt des Rades\n",
      "\n",
      "\n",
      "S1 = M0 + mt.Rz(p1+q1)*ey*s1\n",
      "S2 = M0 + mt.Rz(p1+q1)*ey*l1 + mt.Rz(p1+q1+q2)*ey*s2\n",
      "\n",
      "M0d = st.time_deriv(M0, ttheta)\n",
      "S1d = st.time_deriv(S1, ttheta)\n",
      "S2d = st.time_deriv(S2, ttheta)"
     ],
     "language": "python",
     "metadata": {},
     "outputs": [],
     "prompt_number": 5
    },
    {
     "cell_type": "code",
     "collapsed": false,
     "input": [
      "# Energie\n",
      "T_rot = ( J0*pdot1**2 + J1*(pdot1+qdot1)**2 + J2*(pdot1+ qdot1+qdot2)**2 )/2\n",
      "T_trans = ( m0*M0d.T*M0d  +  m1*S1d.T*S1d  +  m2*S2d.T*S2d )/2\n",
      "\n",
      "T = T_rot + T_trans[0]\n",
      "\n",
      "V = m1*g*S1[1] + m2*g*S2[1] "
     ],
     "language": "python",
     "metadata": {},
     "outputs": [],
     "prompt_number": 6
    },
    {
     "cell_type": "code",
     "collapsed": false,
     "input": [
      "mod = mt.generate_symbolic_model(T, V, ttheta, [0, tau1, tau2])"
     ],
     "language": "python",
     "metadata": {},
     "outputs": [],
     "prompt_number": 7
    },
    {
     "cell_type": "code",
     "collapsed": false,
     "input": [
      "# Die ersten np-Zeilen entsprechen der eingangsfreien Systemgleichung\n",
      "\n",
      "eq = mod.eqns[:np, :]"
     ],
     "language": "python",
     "metadata": {},
     "outputs": [],
     "prompt_number": 8
    },
    {
     "cell_type": "markdown",
     "metadata": {},
     "source": [
      "Die unimodulare Erg\u00e4nzung wird aus [Franke2014] \u00fcbernommen. Dort sind die Bewegungsgleichungen in absoluten Koordinaten $\\varphi_0, \\varphi_1, \\varphi_2$ formuliert.\n",
      "Zusammenhang: $\\varphi_0 := p_1$, $\\varphi_1 := p_1 + q_1$ und $\\varphi_2 := p_1 + q_1 + q_2$\n",
      "\n",
      "\n",
      "$\\bs \\theta = \\boldsymbol T_a \\boldsymbol \\varphi.$\n",
      "\n"
     ]
    },
    {
     "cell_type": "code",
     "collapsed": false,
     "input": [
      "# Transformationsmatrix\n",
      "Ta = sp.Matrix([[1, 0, 0], [1, 1, 0], [1, 1, 1]]) ##\n",
      "Tainv = Ta.inv() ##"
     ],
     "language": "python",
     "metadata": {},
     "outputs": [
      {
       "latex": [
        "$$\\left[\\begin{matrix}1 & 0 & 0\\\\1 & 1 & 0\\\\1 & 1 & 1\\end{matrix}\\right]$$"
       ],
       "metadata": {},
       "output_type": "display_data",
       "png": "[encoded data removed]",
       "text": [
        "\u23a11  0  0\u23a4\n",
        "\u23a2       \u23a5\n",
        "\u23a21  1  0\u23a5\n",
        "\u23a2       \u23a5\n",
        "\u23a31  1  1\u23a6"
       ]
      },
      {
       "output_type": "stream",
       "stream": "stdout",
       "text": [
        "---\n"
       ]
      },
      {
       "latex": [
        "$$\\left[\\begin{matrix}1 & 0 & 0\\\\-1 & 1 & 0\\\\0 & -1 & 1\\end{matrix}\\right]$$"
       ],
       "metadata": {},
       "output_type": "display_data",
       "png": "[encoded data removed]",
       "text": [
        "\u23a11   0   0\u23a4\n",
        "\u23a2         \u23a5\n",
        "\u23a2-1  1   0\u23a5\n",
        "\u23a2         \u23a5\n",
        "\u23a30   -1  1\u23a6"
       ]
      },
      {
       "output_type": "stream",
       "stream": "stdout",
       "text": [
        "---\n"
       ]
      }
     ],
     "prompt_number": 9
    },
    {
     "cell_type": "code",
     "collapsed": false,
     "input": [
      "phi0, phi1, phi2 = pphi = st.symb_vector('varphi0, varphi1, varphi2')\n",
      "pphi ##:T\n",
      "pphidot = st.time_deriv(pphi, pphi) ##:T\n",
      "\n",
      "# h\u00f6here Ableitungen (werden sp\u00e4ter noch gebraucht)\n",
      "pphiddot = st.time_deriv(pphidot, pphi)\n",
      "pphidddot = st.time_deriv(pphiddot, pphi)"
     ],
     "language": "python",
     "metadata": {},
     "outputs": [
      {
       "latex": [
        "(pphi ).T := $$\\left[\\begin{matrix}\\varphi_{0} & \\varphi_{1} & \\varphi_{2}\\end{matrix}\\right]$$"
       ],
       "metadata": {},
       "output_type": "display_data",
       "png": "[encoded data removed]",
       "text": [
        "(pphi ).T := [varphi\u2080  varphi\u2081  varphi\u2082]"
       ]
      },
      {
       "output_type": "stream",
       "stream": "stdout",
       "text": [
        "___\n"
       ]
      },
      {
       "latex": [
        "pphidot.T := $$\\left[\\begin{matrix}\\dot{\\varphi}_{0} & \\dot{\\varphi}_{1} & \\dot{\\varphi}_{2}\\end{matrix}\\right]$$"
       ],
       "metadata": {},
       "output_type": "display_data",
       "png": "[encoded data removed]",
       "text": [
        "pphidot.T := [varphi\u0307\u2080  varphi\u0307\u2081  varphi\u0307\u2082]"
       ]
      },
      {
       "output_type": "stream",
       "stream": "stdout",
       "text": [
        "---\n"
       ]
      }
     ],
     "prompt_number": 10
    },
    {
     "cell_type": "code",
     "collapsed": false,
     "input": [
      "FF = eq.subs(zip(ttheta, Tainv*pphi) + zip(tthetad, Tainv*pphidot) + zip(tthetadd, Tainv*pphiddot))\n",
      "FF.simplify()"
     ],
     "language": "python",
     "metadata": {},
     "outputs": [],
     "prompt_number": 11
    },
    {
     "cell_type": "code",
     "collapsed": false,
     "input": [
      "printing.init_printing(0)\n",
      "\n",
      "P0 = FF.jacobian(pphi) ##\n",
      "P1 = FF.jacobian(pphidot) ##\n",
      "P2 = FF.jacobian(pphiddot) ##\n",
      "\n",
      "printing.init_printing(1)"
     ],
     "language": "python",
     "metadata": {},
     "outputs": [
      {
       "metadata": {},
       "output_type": "display_data",
       "text": [
        "Matrix([[0, -g*l1*m2*cos(varphi1) - g*m1*s1*cos(varphi1) - l0*l1*m2*varphiddot0*sin(varphi1) - l0*l1*m2*varphiddot1*sin(varphi1) - l0*l1*m2*varphidot1**2*cos(varphi1) - l0*m1*s1*varphiddot0*sin(varphi1) - l0*m1*s1*varphiddot1*sin(varphi1) - l0*m1*s1*varphidot1**2*cos(varphi1) - l1*m2*s2*varphiddot1*sin(varphi1 - varphi2) - l1*m2*s2*varphiddot2*sin(varphi1 - varphi2) - l1*m2*s2*varphidot1**2*cos(varphi1 - varphi2) + l1*m2*s2*varphidot2**2*cos(varphi1 - varphi2), -g*m2*s2*cos(varphi2) - l0*m2*s2*varphiddot0*sin(varphi2) - l0*m2*s2*varphiddot2*sin(varphi2) - l0*m2*s2*varphidot2**2*cos(varphi2) + l1*m2*s2*varphiddot1*sin(varphi1 - varphi2) + l1*m2*s2*varphiddot2*sin(varphi1 - varphi2) + l1*m2*s2*varphidot1**2*cos(varphi1 - varphi2) - l1*m2*s2*varphidot2**2*cos(varphi1 - varphi2)]])"
       ]
      },
      {
       "output_type": "stream",
       "stream": "stdout",
       "text": [
        "---\n"
       ]
      },
      {
       "metadata": {},
       "output_type": "display_data",
       "text": [
        "Matrix([[0, -2*l0*l1*m2*varphidot1*sin(varphi1) - 2*l0*m1*s1*varphidot1*sin(varphi1) - 2*l1*m2*s2*varphidot1*sin(varphi1 - varphi2), -2*l0*m2*s2*varphidot2*sin(varphi2) + 2*l1*m2*s2*varphidot2*sin(varphi1 - varphi2)]])"
       ]
      },
      {
       "output_type": "stream",
       "stream": "stdout",
       "text": [
        "---\n"
       ]
      },
      {
       "metadata": {},
       "output_type": "display_data",
       "text": [
        "Matrix([[J0 + l0**2*m0 + l0**2*m1 + l0**2*m2 + l0*l1*m2*cos(varphi1) + l0*m1*s1*cos(varphi1) + l0*m2*s2*cos(varphi2), J1 + l0*l1*m2*cos(varphi1) + l0*m1*s1*cos(varphi1) + l1**2*m2 + l1*m2*s2*cos(varphi1 - varphi2) + m1*s1**2, J2 + l0*m2*s2*cos(varphi2) + l1*m2*s2*cos(varphi1 - varphi2) + m2*s2**2]])"
       ]
      },
      {
       "output_type": "stream",
       "stream": "stdout",
       "text": [
        "---\n"
       ]
      }
     ],
     "prompt_number": 12
    },
    {
     "cell_type": "markdown",
     "metadata": {},
     "source": [
      "---\n",
      "Nun werden f\u00fcr die entsprechenden Eintr\u00e4ge der Systemmatrix $P(\\tfrac{d}{dt})$ Abk\u00fcrzungen eingef\u00fchrt."
     ]
    },
    {
     "cell_type": "code",
     "collapsed": false,
     "input": [
      "a0, a1, a2, b0, b1, b2, c0, c1, c2 = abc = sp.symbols(\"a0, a1, a2, b0, b1, b2, c0, c1, c2\", commutative=False)\n",
      "s = sp.Symbol('s', commutative=False)\n",
      "\n",
      "P0s = sp.Matrix([0, b0, c0]).T ##:\n",
      "P1s = sp.Matrix([0, b1, c1]).T ##:\n",
      "P2s = sp.Matrix([a2, b2, c2]).T ##:\n",
      "\n"
     ],
     "language": "python",
     "metadata": {},
     "outputs": [
      {
       "latex": [
        "P0s := $$\\left[\\begin{matrix}0 & b_{0} & c_{0}\\end{matrix}\\right]$$"
       ],
       "metadata": {},
       "output_type": "display_data",
       "png": "[encoded data removed]",
       "text": [
        "P0s := [0  b\u2080  c\u2080]"
       ]
      },
      {
       "output_type": "stream",
       "stream": "stdout",
       "text": [
        "---\n"
       ]
      },
      {
       "latex": [
        "P1s := $$\\left[\\begin{matrix}0 & b_{1} & c_{1}\\end{matrix}\\right]$$"
       ],
       "metadata": {},
       "output_type": "display_data",
       "png": "[encoded data removed]",
       "text": [
        "P1s := [0  b\u2081  c\u2081]"
       ]
      },
      {
       "output_type": "stream",
       "stream": "stdout",
       "text": [
        "---\n"
       ]
      },
      {
       "latex": [
        "P2s := $$\\left[\\begin{matrix}a_{2} & b_{2} & c_{2}\\end{matrix}\\right]$$"
       ],
       "metadata": {},
       "output_type": "display_data",
       "png": "[encoded data removed]",
       "text": [
        "P2s := [a\u2082  b\u2082  c\u2082]"
       ]
      },
      {
       "output_type": "stream",
       "stream": "stdout",
       "text": [
        "---\n"
       ]
      }
     ],
     "prompt_number": 13
    },
    {
     "cell_type": "code",
     "collapsed": false,
     "input": [
      "# Datenstruktur f\u00fcr die R\u00fccksubstitution der Platzhalter-Symbole (a,b,c)\n",
      "replm_abc = sp.Matrix(zip(P0s, P0) + zip(P1s, P1) + zip(P2s, P2))\n",
      "\n",
      "# ... und deren Ableitungen\n",
      "replm_abc_dot = st.time_deriv(replm_abc, abc + tuple(pphi))"
     ],
     "language": "python",
     "metadata": {},
     "outputs": [],
     "prompt_number": 14
    },
    {
     "cell_type": "code",
     "collapsed": false,
     "input": [
      "replm_abc_dot[:, 0].T"
     ],
     "language": "python",
     "metadata": {},
     "outputs": [
      {
       "latex": [
        "$$\\left[\\begin{matrix}0 & \\dot{b}_{0} & \\dot{c}_{0} & 0 & \\dot{b}_{1} & \\dot{c}_{1} & \\dot{a}_{2} & \\dot{b}_{2} & \\dot{c}_{2}\\end{matrix}\\right]$$"
       ],
       "metadata": {},
       "output_type": "pyout",
       "png": "[encoded data removed]",
       "prompt_number": 15,
       "text": [
        "[0  b\u0307\u2080  c\u0307\u2080  0  b\u0307\u2081  c\u0307\u2081  a\u0307\u2082  b\u0307\u2082  c\u0307\u2082]"
       ]
      }
     ],
     "prompt_number": 15
    },
    {
     "cell_type": "code",
     "collapsed": false,
     "input": [
      "# Ableitungssymbole in den Namensraum einf\u00fcgen\n",
      "st.make_global(replm_abc_dot[:, 0])\n",
      "\n",
      "# alle Substitutionen in einer Liste vereinen\n",
      "replm = replm_abc.tolist() + replm_abc_dot.tolist()"
     ],
     "language": "python",
     "metadata": {},
     "outputs": [],
     "prompt_number": 16
    },
    {
     "cell_type": "markdown",
     "metadata": {},
     "source": [
      "Unimodulare Erweiterung entsprechend [Franke2014, S70] ) festlegen:"
     ]
    },
    {
     "cell_type": "code",
     "collapsed": false,
     "input": [
      "Q1 = sp.Matrix([[ a2, b2, c2]]) # entspricht P2s\n",
      "Q2 = sp.Matrix([-2*c2*adot2 - a2*c1, c2*b1 - c2*2*bdot2 - b2*c1, -2*c2*cdot2]).T\n",
      "Q = st.row_stack(Q1, Q2) ##"
     ],
     "language": "python",
     "metadata": {},
     "outputs": [
      {
       "latex": [
        "$$\\left[\\begin{matrix}a_{2} & b_{2} & c_{2}\\\\- a_{2} c_{1} - 2 c_{2} \\dot{a}_{2} & - b_{2} c_{1} + c_{2} b_{1} - 2 c_{2} \\dot{b}_{2} & - 2 c_{2} \\dot{c}_{2}\\end{matrix}\\right]$$"
       ],
       "metadata": {},
       "output_type": "display_data",
       "png": "[encoded data removed]",
       "text": [
        "\u23a1       a\u2082                     b\u2082                 c\u2082    \u23a4\n",
        "\u23a2                                                       \u23a5\n",
        "\u23a3-a\u2082\u22c5c\u2081 - 2\u22c5c\u2082\u22c5a\u0307\u2082  -b\u2082\u22c5c\u2081 + c\u2082\u22c5b\u2081 - 2\u22c5c\u2082\u22c5b\u0307\u2082  -2\u22c5c\u2082\u22c5c\u0307\u2082\u23a6"
       ]
      },
      {
       "output_type": "stream",
       "stream": "stdout",
       "text": [
        "---\n"
       ]
      }
     ],
     "prompt_number": 17
    },
    {
     "cell_type": "markdown",
     "metadata": {},
     "source": [
      "Pr\u00fcfung der Unimodularit\u00e4t der Gesamtmatrix\n",
      "$\\left(\\begin{smallmatrix}\n",
      "\\bs P_{\\bs F}\\\\\n",
      "\\bs Q\n",
      "\\end{smallmatrix} \\right)$:"
     ]
    },
    {
     "cell_type": "code",
     "collapsed": false,
     "input": [
      "PF = P0s + P1s*s + P2s*s**2 ##:\n",
      "\n",
      "PQ = st.row_stack(PF, Q) ##:"
     ],
     "language": "python",
     "metadata": {},
     "outputs": [
      {
       "latex": [
        "PF := $$\\left[\\begin{matrix}a_{2} s^{2} & b_{0} + b_{1} s + b_{2} s^{2} & c_{0} + c_{1} s + c_{2} s^{2}\\end{matrix}\\right]$$"
       ],
       "metadata": {},
       "output_type": "display_data",
       "png": "[encoded data removed]",
       "text": [
        "PF := \u23a1    2                  2                  2\u23a4\n",
        "\u23a3a\u2082\u22c5s   b\u2080 + b\u2081\u22c5s + b\u2082\u22c5s   c\u2080 + c\u2081\u22c5s + c\u2082\u22c5s \u23a6"
       ]
      },
      {
       "output_type": "stream",
       "stream": "stdout",
       "text": [
        "---\n"
       ]
      },
      {
       "latex": [
        "PQ := $$\\left[\\begin{matrix}a_{2} s^{2} & b_{0} + b_{1} s + b_{2} s^{2} & c_{0} + c_{1} s + c_{2} s^{2}\\\\a_{2} & b_{2} & c_{2}\\\\- a_{2} c_{1} - 2 c_{2} \\dot{a}_{2} & - b_{2} c_{1} + c_{2} b_{1} - 2 c_{2} \\dot{b}_{2} & - 2 c_{2} \\dot{c}_{2}\\end{matrix}\\right]$$"
       ],
       "metadata": {},
       "output_type": "display_data",
       "png": "[encoded data removed]",
       "text": [
        "PQ := \u23a1          2                            2                      2\u23a4\n",
        "\u23a2      a\u2082\u22c5s             b\u2080 + b\u2081\u22c5s + b\u2082\u22c5s       c\u2080 + c\u2081\u22c5s + c\u2082\u22c5s \u23a5\n",
        "\u23a2                                                               \u23a5\n",
        "\u23a2       a\u2082                     b\u2082                     c\u2082        \u23a5\n",
        "\u23a2                                                               \u23a5\n",
        "\u23a3-a\u2082\u22c5c\u2081 - 2\u22c5c\u2082\u22c5a\u0307\u2082  -b\u2082\u22c5c\u2081 + c\u2082\u22c5b\u2081 - 2\u22c5c\u2082\u22c5b\u0307\u2082      -2\u22c5c\u2082\u22c5c\u0307\u2082    \u23a6"
       ]
      },
      {
       "output_type": "stream",
       "stream": "stdout",
       "text": [
        "---\n"
       ]
      }
     ],
     "prompt_number": 18
    },
    {
     "cell_type": "code",
     "collapsed": false,
     "input": [
      "%time PQinv = nc.unimod_inv(PQ, s, time_dep_symbs=abc)"
     ],
     "language": "python",
     "metadata": {},
     "outputs": [
      {
       "output_type": "stream",
       "stream": "stdout",
       "text": [
        "CPU times: user 2min 14s, sys: 36 ms, total: 2min 14s\n",
        "Wall time: 2min 14s\n"
       ]
      }
     ],
     "prompt_number": 19
    },
    {
     "cell_type": "code",
     "collapsed": false,
     "input": [
      "# Umfang der Ausdr\u00fccke (count_ops)\n",
      "PQinv.co"
     ],
     "language": "python",
     "metadata": {},
     "outputs": [
      {
       "latex": [
        "$$\\left[\\begin{matrix}92 & 336 & 210\\\\90 & 310 & 199\\\\90 & 336 & 199\\end{matrix}\\right]$$"
       ],
       "metadata": {},
       "output_type": "pyout",
       "png": "[encoded data removed]",
       "prompt_number": 20,
       "text": [
        "\u23a192  336  210\u23a4\n",
        "\u23a2            \u23a5\n",
        "\u23a290  310  199\u23a5\n",
        "\u23a2            \u23a5\n",
        "\u23a390  336  199\u23a6"
       ]
      }
     ],
     "prompt_number": 20
    },
    {
     "cell_type": "code",
     "collapsed": false,
     "input": [
      "# Nachweis, dass die berechnete Inverse tats\u00e4chlich eine Inverse ist.\n",
      "\n",
      "product = nc.nc_mul(PQinv, PQ)\n",
      "%time res = nc.right_shift_all(product, s, func_symbols=abc)\n"
     ],
     "language": "python",
     "metadata": {},
     "outputs": [
      {
       "output_type": "stream",
       "stream": "stdout",
       "text": [
        "CPU times: user 13.3 s, sys: 24 ms, total: 13.3 s\n",
        "Wall time: 13.3 s\n"
       ]
      }
     ],
     "prompt_number": 21
    },
    {
     "cell_type": "code",
     "collapsed": false,
     "input": [
      "%time res2 = nc.commutative_simplification(res, s)\n",
      "res2 "
     ],
     "language": "python",
     "metadata": {},
     "outputs": [
      {
       "output_type": "stream",
       "stream": "stdout",
       "text": [
        "CPU times: user 34.8 s, sys: 208 ms, total: 35 s\n",
        "Wall time: 34.8 s\n"
       ]
      },
      {
       "latex": [
        "$$\\left[\\begin{matrix}1 & 0 & 0\\\\0 & 1 & 0\\\\0 & 0 & 1\\end{matrix}\\right]$$"
       ],
       "metadata": {},
       "output_type": "pyout",
       "png": "[encoded data removed]",
       "prompt_number": 22,
       "text": [
        "\u23a11  0  0\u23a4\n",
        "\u23a2       \u23a5\n",
        "\u23a20  1  0\u23a5\n",
        "\u23a2       \u23a5\n",
        "\u23a30  0  1\u23a6"
       ]
      }
     ],
     "prompt_number": 22
    },
    {
     "cell_type": "code",
     "collapsed": false,
     "input": [
      "# Basis-Systemgr\u00f6\u00dfen\n",
      "\n",
      "ppx = st.row_stack(pphi, pphidot, pphiddot, pphidddot)\n",
      "\n",
      "# Koeffizienten-Listen bez\u00fcglich aller Basis-Systemgr\u00f6\u00dfen f\u00fcr die 1-Formen\n",
      "Q1_ = st.col_stack(Q1, sp.zeros(1, n*3)).subs(replm)\n",
      "Q2_ = st.col_stack(Q2, sp.zeros(1, n*3)).subs(replm)\n",
      "P_ = st.col_stack(P0, P1, P2, sp.zeros(1, n) ).subs(replm)\n",
      "\n",
      "# Erstellung der 1-Formen\n",
      "w1 = pc.DifferentialForm(1, ppx, coeff=Q1_) ##:\n",
      "w2 = pc.DifferentialForm(1, ppx, coeff=Q2_) ##:\n",
      "dF = pc.DifferentialForm(1, ppx, coeff=P_) ##:"
     ],
     "language": "python",
     "metadata": {},
     "outputs": [
      {
       "metadata": {},
       "output_type": "display_data",
       "text": [
        "w1 := (J0 + l0**2*m0 + l0**2*m1 + l0**2*m2 + l0*l1*m2*cos(varphi1) + l0*m1*s1*cos(varphi1) + l0*m2*s2*cos(varphi2))dvarphi0  +  (J1 + l0*l1*m2*cos(varphi1) + l0*m1*s1*cos(varphi1) + l1**2*m2 + l1*m2*s2*cos(varphi1 - varphi2) + m1*s1**2)dvarphi1  +  (J2 + l0*m2*s2*cos(varphi2) + l1*m2*s2*cos(varphi1 - varphi2) + m2*s2**2)dvarphi2"
       ]
      },
      {
       "output_type": "stream",
       "stream": "stdout",
       "text": [
        "---\n"
       ]
      },
      {
       "metadata": {},
       "output_type": "display_data",
       "text": [
        "w2 := (-(-2*l0*m2*s2*varphidot2*sin(varphi2) + 2*l1*m2*s2*varphidot2*sin(varphi1 - varphi2))*(J0 + l0**2*m0 + l0**2*m1 + l0**2*m2 + l0*l1*m2*cos(varphi1) + l0*m1*s1*cos(varphi1) + l0*m2*s2*cos(varphi2)) - 2*(-l0*l1*m2*varphidot1*sin(varphi1) - l0*m1*s1*varphidot1*sin(varphi1) - l0*m2*s2*varphidot2*sin(varphi2))*(J2 + l0*m2*s2*cos(varphi2) + l1*m2*s2*cos(varphi1 - varphi2) + m2*s2**2))dvarphi0  +  (-(-2*l0*m2*s2*varphidot2*sin(varphi2) + 2*l1*m2*s2*varphidot2*sin(varphi1 - varphi2))*(J1 + l0*l1*m2*cos(varphi1) + l0*m1*s1*cos(varphi1) + l1**2*m2 + l1*m2*s2*cos(varphi1 - varphi2) + m1*s1**2) + (-2*l0*l1*m2*varphidot1*sin(varphi1) - 2*l0*m1*s1*varphidot1*sin(varphi1) - 2*l1*m2*s2*varphidot1*sin(varphi1 - varphi2))*(J2 + l0*m2*s2*cos(varphi2) + l1*m2*s2*cos(varphi1 - varphi2) + m2*s2**2) - 2*(-l0*l1*m2*varphidot1*sin(varphi1) - l0*m1*s1*varphidot1*sin(varphi1) - l1*m2*s2*(varphidot1 - varphidot2)*sin(varphi1 - varphi2))*(J2 + l0*m2*s2*cos(varphi2) + l1*m2*s2*cos(varphi1 - varphi2) + m2*s2**2))dvarphi1  +  (-2*(-l0*m2*s2*varphidot2*sin(varphi2) - l1*m2*s2*(varphidot1 - varphidot2)*sin(varphi1 - varphi2))*(J2 + l0*m2*s2*cos(varphi2) + l1*m2*s2*cos(varphi1 - varphi2) + m2*s2**2))dvarphi2"
       ]
      },
      {
       "output_type": "stream",
       "stream": "stdout",
       "text": [
        "---\n"
       ]
      },
      {
       "metadata": {},
       "output_type": "display_data",
       "text": [
        "dF := (-g*l1*m2*cos(varphi1) - g*m1*s1*cos(varphi1) - l0*l1*m2*varphiddot0*sin(varphi1) - l0*l1*m2*varphiddot1*sin(varphi1) - l0*l1*m2*varphidot1**2*cos(varphi1) - l0*m1*s1*varphiddot0*sin(varphi1) - l0*m1*s1*varphiddot1*sin(varphi1) - l0*m1*s1*varphidot1**2*cos(varphi1) - l1*m2*s2*varphiddot1*sin(varphi1 - varphi2) - l1*m2*s2*varphiddot2*sin(varphi1 - varphi2) - l1*m2*s2*varphidot1**2*cos(varphi1 - varphi2) + l1*m2*s2*varphidot2**2*cos(varphi1 - varphi2))dvarphi1  +  (-g*m2*s2*cos(varphi2) - l0*m2*s2*varphiddot0*sin(varphi2) - l0*m2*s2*varphiddot2*sin(varphi2) - l0*m2*s2*varphidot2**2*cos(varphi2) + l1*m2*s2*varphiddot1*sin(varphi1 - varphi2) + l1*m2*s2*varphiddot2*sin(varphi1 - varphi2) + l1*m2*s2*varphidot1**2*cos(varphi1 - varphi2) - l1*m2*s2*varphidot2**2*cos(varphi1 - varphi2))dvarphi2  +  (-2*l0*l1*m2*varphidot1*sin(varphi1) - 2*l0*m1*s1*varphidot1*sin(varphi1) - 2*l1*m2*s2*varphidot1*sin(varphi1 - varphi2))dvarphidot1  +  (-2*l0*m2*s2*varphidot2*sin(varphi2) + 2*l1*m2*s2*varphidot2*sin(varphi1 - varphi2))dvarphidot2  +  (J0 + l0**2*m0 + l0**2*m1 + l0**2*m2 + l0*l1*m2*cos(varphi1) + l0*m1*s1*cos(varphi1) + l0*m2*s2*cos(varphi2))dvarphiddot0  +  (J1 + l0*l1*m2*cos(varphi1) + l0*m1*s1*cos(varphi1) + l1**2*m2 + l1*m2*s2*cos(varphi1 - varphi2) + m1*s1**2)dvarphiddot1  +  (J2 + l0*m2*s2*cos(varphi2) + l1*m2*s2*cos(varphi1 - varphi2) + m2*s2**2)dvarphiddot2"
       ]
      },
      {
       "output_type": "stream",
       "stream": "stdout",
       "text": [
        "---\n"
       ]
      }
     ],
     "prompt_number": 23
    },
    {
     "cell_type": "markdown",
     "metadata": {},
     "source": [
      "---\n",
      "\n",
      "Zwischenbetrachtung:\n",
      "\n",
      "Einschr\u00e4nkung von $\\omega1, \\omega_2$ auf $\\mathcal{F}$ untersuchen:"
     ]
    },
    {
     "cell_type": "code",
     "collapsed": false,
     "input": [
      "phidd0 = st.time_deriv(phi0, pphi, order=2) ##:\n",
      "\n",
      "# Systemgleichungen nach einer der Beschleunigungen aufl\u00f6sen und einsetzen\n",
      "FF_sol = sp.solve(FF, phidd0)\n",
      "w1.subs(FF_sol) - w1 ##:\n",
      "w2.subs(FF_sol) - w2 ##:"
     ],
     "language": "python",
     "metadata": {},
     "outputs": [
      {
       "latex": [
        "phidd0 := $$\\ddot{\\varphi}_{0}$$"
       ],
       "metadata": {},
       "output_type": "display_data",
       "png": "[encoded data removed]",
       "text": [
        "phidd0 := varphi\u0308\u2080"
       ]
      },
      {
       "output_type": "stream",
       "stream": "stdout",
       "text": [
        "---\n"
       ]
      },
      {
       "metadata": {},
       "output_type": "display_data",
       "text": [
        "w1.subs(FF_sol) - w1  := (0)dvarphi0"
       ]
      },
      {
       "output_type": "stream",
       "stream": "stdout",
       "text": [
        "___\n"
       ]
      },
      {
       "metadata": {},
       "output_type": "display_data",
       "text": [
        "w2.subs(FF_sol) - w2  := (0)dvarphi0"
       ]
      },
      {
       "output_type": "stream",
       "stream": "stdout",
       "text": [
        "___\n"
       ]
      }
     ],
     "prompt_number": 24
    },
    {
     "cell_type": "markdown",
     "metadata": {},
     "source": [
      "Fazit: Einschr\u00e4nkung auf $\\mathcal{F}$ hat hier keine Auswirkung.\n",
      "\n",
      "---"
     ]
    },
    {
     "cell_type": "markdown",
     "metadata": {},
     "source": [
      "Zum Vergleich: Reproduktion der Ergebnisse aus [Franke2014, S. 71]."
     ]
    },
    {
     "cell_type": "code",
     "collapsed": false,
     "input": [
      "Xi1_0 = w1.d^w1^w2##"
     ],
     "language": "python",
     "metadata": {},
     "outputs": [
      {
       "metadata": {},
       "output_type": "display_data",
       "text": [
        "(0)dvarphi0^dvarphi1^dvarphi2^dvarphidot0"
       ]
      },
      {
       "output_type": "stream",
       "stream": "stdout",
       "text": [
        "---\n"
       ]
      }
     ],
     "prompt_number": 25
    },
    {
     "cell_type": "code",
     "collapsed": false,
     "input": [
      "res = w2.d^w1^w2\n",
      "res.co ##\n",
      "\n",
      "# \u00dcberpr\u00fcfung, ob Koeffizienten durch Einsetzen zuf\u00e4lliger Zahlen Null werden:\n",
      "map(float, res.srn[:3])"
     ],
     "language": "python",
     "metadata": {},
     "outputs": [
      {
       "metadata": {},
       "output_type": "display_data",
       "text": [
        "(567)dvarphi0^dvarphi1^dvarphi2^dvarphidot1  +  (637)dvarphi0^dvarphi1^dvarphi2^dvarphidot2"
       ]
      },
      {
       "output_type": "stream",
       "stream": "stdout",
       "text": [
        "___\n"
       ]
      },
      {
       "latex": [
        "$$\\left [ 0.0, \\quad 5662312496.07, \\quad -9945237824.28\\right ]$$"
       ],
       "metadata": {},
       "output_type": "pyout",
       "png": "[encoded data removed]",
       "prompt_number": 26,
       "text": [
        "[0.0, 5662312496.07, -9945237824.28]"
       ]
      }
     ],
     "prompt_number": 26
    },
    {
     "cell_type": "markdown",
     "metadata": {},
     "source": [
      "Es gilt also\n",
      "$$\n",
      "\\Xi_{1,0} = \\d \\omega_1 \\wedge \\omega_1 \\wedge \\omega_2=0 \\\\\n",
      "\\Xi_{2,0} = \\d \\omega_2 \\wedge \\omega_1 \\wedge \\omega_2\\neq0.\n",
      "$$\n",
      "\n",
      "**Fazit**: Best\u00e4tigung der Ergebnisse aus [Franke2014, S71]. Wegen $\\Xi_{1,0} = \\d \\omega_1 \\wedge \\omega_1 \\wedge \\omega_2=0$ ist nur die Untersuchung der Keilprodukte $\\Xi_{2,k} = \\d \\omega_2 \\wedge \\ldots$ relevant."
     ]
    },
    {
     "cell_type": "markdown",
     "metadata": {},
     "source": [
      "---\n",
      "\n",
      "\n",
      "**Frage:**\n",
      "Wieviele Koeffizienten treten in $\\Xi_{2,k}$ f\u00fcr jedes $k$ auf? \u2192 $r(k), s(k)$ bestimmen und Tabelle erstellen.\n",
      "\n",
      "Zur Bestimmung von $s( k):=n +  n \\cdot \\max(\\mathrm{ord}_{\\d \\bs \\theta}(\\d \\omega_2), k )$ wird die h\u00f6chste auftretende Ableitungsordnung der Basis-1-Formen in $\\d \\omega_2$ ben\u00f6tigt.\n"
     ]
    },
    {
     "cell_type": "code",
     "collapsed": false,
     "input": [
      "ord_d_omega_2  = w2.d.ord##"
     ],
     "language": "python",
     "metadata": {},
     "outputs": [
      {
       "latex": [
        "$$1$$"
       ],
       "metadata": {},
       "output_type": "display_data",
       "png": "[encoded data removed]",
       "text": [
        "1"
       ]
      },
      {
       "output_type": "stream",
       "stream": "stdout",
       "text": [
        "---\n"
       ]
      }
     ],
     "prompt_number": 27
    },
    {
     "cell_type": "markdown",
     "metadata": {},
     "source": [
      "Bestimmung von $k_{\\Omega_0}$"
     ]
    },
    {
     "cell_type": "code",
     "collapsed": false,
     "input": [
      "Omega0 = w1^w2\n",
      "kOmega0 = Omega0.ord ##:"
     ],
     "language": "python",
     "metadata": {},
     "outputs": [
      {
       "latex": [
        "kOmega0 := $$0$$"
       ],
       "metadata": {},
       "output_type": "display_data",
       "png": "[encoded data removed]",
       "text": [
        "kOmega0 := 0"
       ]
      },
      {
       "output_type": "stream",
       "stream": "stdout",
       "text": [
        "---\n"
       ]
      }
     ],
     "prompt_number": 28
    },
    {
     "cell_type": "code",
     "collapsed": false,
     "input": [
      "def r(k):\n",
      "    return 2 + nq*max(0, k + 1 - kOmega0) + np*max(0, k - 1)\n",
      "\n",
      "def s(k):\n",
      "    return n + n*max(ord_d_omega_2, k )\n",
      "kmax = 4\n",
      "table = sp.zeros(4, kmax+1)\n",
      "legend = Matrix([sp.S('k'), sp.S('r(k)'), sp.S('s(k)'), sp.Symbol('s(k)~over~r(k)')])\n",
      "\n",
      "\n",
      "# Ausf\u00fcllen der Tabelle\n",
      "for k in range(kmax+1):\n",
      "    table[:, k] = k, s(k), r(k), sp.binomial(s(k), r(k))\n",
      "\n",
      "st.col_stack(legend, table)"
     ],
     "language": "python",
     "metadata": {},
     "outputs": [
      {
       "latex": [
        "$$\\left[\\begin{matrix}k & 0 & 1 & 2 & 3 & 4\\\\r{\\left (k \\right )} & 6 & 6 & 9 & 12 & 15\\\\s{\\left (k \\right )} & 4 & 6 & 9 & 12 & 15\\\\s(k)~over~r(k) & 15 & 1 & 1 & 1 & 1\\end{matrix}\\right]$$"
       ],
       "metadata": {},
       "output_type": "pyout",
       "png": "[encoded data removed]",
       "prompt_number": 29,
       "text": [
        "\u23a1      k         0   1  2  3   4 \u23a4\n",
        "\u23a2                                \u23a5\n",
        "\u23a2     r(k)       6   6  9  12  15\u23a5\n",
        "\u23a2                                \u23a5\n",
        "\u23a2     s(k)       4   6  9  12  15\u23a5\n",
        "\u23a2                                \u23a5\n",
        "\u23a3s(k)~over~r(k)  15  1  1  1   1 \u23a6"
       ]
      }
     ],
     "prompt_number": 29
    },
    {
     "cell_type": "markdown",
     "metadata": {},
     "source": [
      "Bestimmung von $c^* = \\mathrm{coeff}_{\\d \\ddot\\theta_1 \\wedge \\d \\ddot \\theta_2 \\wedge \\d \\ddot \\theta_3} (\\overbrace{\\ddot \\omega_1  \\wedge \\ddot \\omega_2 \\wedge \\d F_1}^{\\Gamma_2})$"
     ]
    },
    {
     "cell_type": "code",
     "collapsed": false,
     "input": [
      "Gamma2 = w1.dot().dot()^w2.dot().dot()^dF"
     ],
     "language": "python",
     "metadata": {},
     "outputs": [],
     "prompt_number": 30
    },
    {
     "cell_type": "code",
     "collapsed": false,
     "input": [
      "Theta_2 = Gamma2.get_baseform_from_plain_index(-1) ##:\n",
      "c_star = Gamma2.get_coeff(Theta_2) ##:"
     ],
     "language": "python",
     "metadata": {},
     "outputs": [
      {
       "metadata": {},
       "output_type": "display_data",
       "text": [
        "Theta_2 := (1)dvarphidddot0^dvarphidddot1^dvarphidddot2"
       ]
      },
      {
       "output_type": "stream",
       "stream": "stdout",
       "text": [
        "---\n"
       ]
      },
      {
       "latex": [
        "c_star := $$0$$"
       ],
       "metadata": {},
       "output_type": "display_data",
       "png": "[encoded data removed]",
       "text": [
        "c_star := 0"
       ]
      },
      {
       "output_type": "stream",
       "stream": "stdout",
       "text": [
        "---\n"
       ]
      }
     ],
     "prompt_number": 31
    },
    {
     "cell_type": "markdown",
     "metadata": {},
     "source": [
      "Es gilt also $c^*=0$. Damit ist die untersuchte hinreichende Bedingung f\u00fcr Nichtflachheitsbedingung **nicht** erf\u00fcllt.\n",
      "\n",
      "---\n",
      "\n",
      "Warum ist $c^*=0?$"
     ]
    },
    {
     "cell_type": "code",
     "collapsed": false,
     "input": [
      "w1_ddot = w1.dot().dot()"
     ],
     "language": "python",
     "metadata": {},
     "outputs": [],
     "prompt_number": 32
    },
    {
     "cell_type": "markdown",
     "metadata": {},
     "source": [
      "Zwar gilt"
     ]
    },
    {
     "cell_type": "code",
     "collapsed": false,
     "input": [
      "w1_ddot.ord ##:\n",
      "dF.ord ##:"
     ],
     "language": "python",
     "metadata": {},
     "outputs": [
      {
       "latex": [
        "w1_ddot.ord  := $$2$$"
       ],
       "metadata": {},
       "output_type": "display_data",
       "png": "[encoded data removed]",
       "text": [
        "w1_ddot.ord  := 2"
       ]
      },
      {
       "output_type": "stream",
       "stream": "stdout",
       "text": [
        "___\n"
       ]
      },
      {
       "latex": [
        "dF.ord  := $$2$$"
       ],
       "metadata": {},
       "output_type": "display_data",
       "png": "[encoded data removed]",
       "text": [
        "dF.ord  := 2"
       ]
      },
      {
       "output_type": "stream",
       "stream": "stdout",
       "text": [
        "___\n"
       ]
      }
     ],
     "prompt_number": 33
    },
    {
     "cell_type": "markdown",
     "metadata": {},
     "source": [
      "aber f\u00fcr das Produkt gilt"
     ]
    },
    {
     "cell_type": "code",
     "collapsed": false,
     "input": [
      "prod = w1_ddot^dF"
     ],
     "language": "python",
     "metadata": {},
     "outputs": [],
     "prompt_number": 34
    },
    {
     "cell_type": "code",
     "collapsed": false,
     "input": [
      "# Alle Basis-2-Formen mit nur der h\u00f6chsten Ableitungsordnung\n",
      "\n",
      "test_form1 = prod.get_baseform_from_plain_index(-1) ##:\n",
      "test_form2 = prod.get_baseform_from_plain_index(-2) ##:\n",
      "test_form3 = prod.get_baseform_from_plain_index(-3) ##:"
     ],
     "language": "python",
     "metadata": {},
     "outputs": [
      {
       "metadata": {},
       "output_type": "display_data",
       "text": [
        "test_form1 := (1)dvarphidddot1^dvarphidddot2"
       ]
      },
      {
       "output_type": "stream",
       "stream": "stdout",
       "text": [
        "---\n"
       ]
      },
      {
       "metadata": {},
       "output_type": "display_data",
       "text": [
        "test_form2 := (1)dvarphidddot0^dvarphidddot2"
       ]
      },
      {
       "output_type": "stream",
       "stream": "stdout",
       "text": [
        "---\n"
       ]
      },
      {
       "metadata": {},
       "output_type": "display_data",
       "text": [
        "test_form3 := (1)dvarphidddot0^dvarphidddot1"
       ]
      },
      {
       "output_type": "stream",
       "stream": "stdout",
       "text": [
        "---\n"
       ]
      }
     ],
     "prompt_number": 35
    },
    {
     "cell_type": "code",
     "collapsed": false,
     "input": [
      "prod.get_coeff(test_form1) ##\n",
      "prod.get_coeff(test_form2) ##\n",
      "prod.get_coeff(test_form3) ##"
     ],
     "language": "python",
     "metadata": {},
     "outputs": [
      {
       "latex": [
        "$$0$$"
       ],
       "metadata": {},
       "output_type": "display_data",
       "png": "[encoded data removed]",
       "text": [
        "0"
       ]
      },
      {
       "output_type": "stream",
       "stream": "stdout",
       "text": [
        "___\n"
       ]
      },
      {
       "latex": [
        "$$0$$"
       ],
       "metadata": {},
       "output_type": "display_data",
       "png": "[encoded data removed]",
       "text": [
        "0"
       ]
      },
      {
       "output_type": "stream",
       "stream": "stdout",
       "text": [
        "___\n"
       ]
      },
      {
       "latex": [
        "$$0$$"
       ],
       "metadata": {},
       "output_type": "display_data",
       "png": "[encoded data removed]",
       "text": [
        "0"
       ]
      },
      {
       "output_type": "stream",
       "stream": "stdout",
       "text": [
        "___\n"
       ]
      }
     ],
     "prompt_number": 36
    },
    {
     "cell_type": "markdown",
     "metadata": {},
     "source": [
      "Bemerkung trotz $c^* = 0$ gilt $\\Gamma_2\\neq 0$, denn es gibt noch viel mehr Koeffizienten."
     ]
    },
    {
     "cell_type": "code",
     "collapsed": false,
     "input": [
      "# Anzahl der Koeffizienten (3-Form \u00fcber 9 Basis-1-Formen (dphi0 bis dphiddot2))\n",
      "sp.binomial(9,3) ##:\n",
      "Gamma2.co"
     ],
     "language": "python",
     "metadata": {},
     "outputs": [
      {
       "latex": [
        "sp.binomial(9,3)  := $$84$$"
       ],
       "metadata": {},
       "output_type": "display_data",
       "png": "[encoded data removed]",
       "text": [
        "sp.binomial(9,3)  := 84"
       ]
      },
      {
       "output_type": "stream",
       "stream": "stdout",
       "text": [
        "___\n"
       ]
      },
      {
       "metadata": {},
       "output_type": "pyout",
       "prompt_number": 37,
       "text": [
        "(1853)dvarphi0^dvarphi1^dvarphi2  +  (708)dvarphi0^dvarphi1^dvarphidot0  +  (1935)dvarphi0^dvarphi1^dvarphidot1  +  (1690)dvarphi0^dvarphi1^dvarphidot2  +  (1721)dvarphi0^dvarphi1^dvarphiddot0  +  (1754)dvarphi0^dvarphi1^dvarphiddot1  +  (1655)dvarphi0^dvarphi1^dvarphiddot2  +  (684)dvarphi0^dvarphi2^dvarphidot0  +  (1445)dvarphi0^dvarphi2^dvarphidot1  +  (1200)dvarphi0^dvarphi2^dvarphidot2  +  (1231)dvarphi0^dvarphi2^dvarphiddot0  +  (1264)dvarphi0^dvarphi2^dvarphiddot1  +  (1165)dvarphi0^dvarphi2^dvarphiddot2  +  (652)dvarphi0^dvarphidot0^dvarphidot1  +  (644)dvarphi0^dvarphidot0^dvarphidot2  +  (654)dvarphi0^dvarphidot0^dvarphiddot0  +  (652)dvarphi0^dvarphidot0^dvarphiddot1  +  (644)dvarphi0^dvarphidot0^dvarphiddot2  +  (1282)dvarphi0^dvarphidot1^dvarphidot2  +  (1313)dvarphi0^dvarphidot1^dvarphiddot0  +  (1346)dvarphi0^dvarphidot1^dvarphiddot1  +  (1247)dvarphi0^dvarphidot1^dvarphiddot2  +  (1068)dvarphi0^dvarphidot2^dvarphiddot0  +  (1101)dvarphi0^dvarphidot2^dvarphiddot1  +  (1002)dvarphi0^dvarphidot2^dvarphiddot2  +  (1132)dvarphi0^dvarphiddot0^dvarphiddot1  +  (1033)dvarphi0^dvarphiddot0^dvarphiddot2  +  (1066)dvarphi0^dvarphiddot1^dvarphiddot2  +  (1425)dvarphi1^dvarphi2^dvarphidot0  +  (2547)dvarphi1^dvarphi2^dvarphidot1  +  (2065)dvarphi1^dvarphi2^dvarphidot2  +  (2117)dvarphi1^dvarphi2^dvarphiddot0  +  (2185)dvarphi1^dvarphi2^dvarphiddot1  +  (1996)dvarphi1^dvarphi2^dvarphiddot2  +  (1506)dvarphi1^dvarphidot0^dvarphidot1  +  (1261)dvarphi1^dvarphidot0^dvarphidot2  +  (1292)dvarphi1^dvarphidot0^dvarphiddot0  +  (1325)dvarphi1^dvarphidot0^dvarphiddot1  +  (1227)dvarphi1^dvarphidot0^dvarphiddot2  +  (2260)dvarphi1^dvarphidot1^dvarphidot2  +  (2312)dvarphi1^dvarphidot1^dvarphiddot0  +  (2380)dvarphi1^dvarphidot1^dvarphiddot1  +  (2191)dvarphi1^dvarphidot1^dvarphiddot2  +  (1830)dvarphi1^dvarphidot2^dvarphiddot0  +  (1898)dvarphi1^dvarphidot2^dvarphiddot1  +  (1709)dvarphi1^dvarphidot2^dvarphiddot2  +  (1948)dvarphi1^dvarphiddot0^dvarphiddot1  +  (1759)dvarphi1^dvarphiddot0^dvarphiddot2  +  (1827)dvarphi1^dvarphiddot1^dvarphiddot2  +  (1016)dvarphi2^dvarphidot0^dvarphidot1  +  (771)dvarphi2^dvarphidot0^dvarphidot2  +  (802)dvarphi2^dvarphidot0^dvarphiddot0  +  (835)dvarphi2^dvarphidot0^dvarphiddot1  +  (737)dvarphi2^dvarphidot0^dvarphiddot2  +  (1304)dvarphi2^dvarphidot1^dvarphidot2  +  (1356)dvarphi2^dvarphidot1^dvarphiddot0  +  (1424)dvarphi2^dvarphidot1^dvarphiddot1  +  (1235)dvarphi2^dvarphidot1^dvarphiddot2  +  (874)dvarphi2^dvarphidot2^dvarphiddot0  +  (942)dvarphi2^dvarphidot2^dvarphiddot1  +  (753)dvarphi2^dvarphidot2^dvarphiddot2  +  (992)dvarphi2^dvarphiddot0^dvarphiddot1  +  (803)dvarphi2^dvarphiddot0^dvarphiddot2  +  (871)dvarphi2^dvarphiddot1^dvarphiddot2  +  (854)dvarphidot0^dvarphidot1^dvarphidot2  +  (885)dvarphidot0^dvarphidot1^dvarphiddot0  +  (918)dvarphidot0^dvarphidot1^dvarphiddot1  +  (819)dvarphidot0^dvarphidot1^dvarphiddot2  +  (640)dvarphidot0^dvarphidot2^dvarphiddot0  +  (673)dvarphidot0^dvarphidot2^dvarphiddot1  +  (574)dvarphidot0^dvarphidot2^dvarphiddot2  +  (704)dvarphidot0^dvarphiddot0^dvarphiddot1  +  (605)dvarphidot0^dvarphiddot0^dvarphiddot2  +  (638)dvarphidot0^dvarphiddot1^dvarphiddot2  +  (1069)dvarphidot1^dvarphidot2^dvarphiddot0  +  (1137)dvarphidot1^dvarphidot2^dvarphiddot1  +  (948)dvarphidot1^dvarphidot2^dvarphiddot2  +  (1187)dvarphidot1^dvarphiddot0^dvarphiddot1  +  (998)dvarphidot1^dvarphiddot0^dvarphiddot2  +  (1066)dvarphidot1^dvarphiddot1^dvarphiddot2  +  (705)dvarphidot2^dvarphiddot0^dvarphiddot1  +  (516)dvarphidot2^dvarphiddot0^dvarphiddot2  +  (584)dvarphidot2^dvarphiddot1^dvarphiddot2  +  (632)dvarphiddot0^dvarphiddot1^dvarphiddot2"
       ]
      }
     ],
     "prompt_number": 37
    }
   ],
   "metadata": {}
  }
 ]
}