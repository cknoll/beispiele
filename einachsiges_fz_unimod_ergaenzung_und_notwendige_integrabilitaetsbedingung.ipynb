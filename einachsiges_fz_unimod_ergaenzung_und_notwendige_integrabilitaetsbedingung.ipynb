{
 "cells": [
  {
   "cell_type": "code",
   "execution_count": 1,
   "metadata": {
    "collapsed": false
   },
   "outputs": [
    {
     "name": "stdout",
     "output_type": "stream",
     "text": [
      "Tue May 31 09:51:44 2016\n"
     ]
    }
   ],
   "source": [
    "import time\n",
    "print time.ctime()"
   ]
  },
  {
   "cell_type": "markdown",
   "metadata": {},
   "source": [
    "<sub>Bei diesem IPython-Notebook handelt es sich um eine Beispiel-Rechnung als Ergänzung zur Dissertationsschrift von C. Knoll. Allgemeine Hinweise zu den Beispielen sind in der [readme.md-Datei des entsprechenden Repositoriums](https://github.com/cknoll/beispiele/blob/master/readme.md) zu finden.</sub>\n",
    "\n",
    "---"
   ]
  },
  {
   "cell_type": "markdown",
   "metadata": {},
   "source": [
    "\n",
    "**Betrachtetes System:** Ebenes einrädriges Fahrzeug unter dem Einfluss der Schwerkraft.\n",
    "\n",
    "<img src=\"files/images/unicycle.png\">\n",
    "\n",
    "**Systemanalyse**\n",
    "* Aufstellen der Bewegungsgleichungen\n",
    "* Flachheitsanalyse\n",
    "    * Aufstellen des Tangentialsystems\n",
    "    * Angabe einer unimodularen Ergänzung der Systemmatrix (inkl. Unimodularitätsnachweis)\n",
    "    * Untersuchung der notwendigen Integrabilitätsbedingung\n",
    "      * Bestimmung der Anzahl der Koeffizienten in den Differentialformen $\\Xi_{i, k}$\n",
    "      * Auswertung von $\\Xi_{i,k}$ bis für $k=0,1,2$\n",
    "\n",
    "[//]: # (custom_config_start)\n",
    "$$\n",
    "\\newcommand{\\d}{\\mathrm{d}}\n",
    "\\newcommand{\\col}{\\mathrm{col}}\n",
    "\\newcommand{\\bs}{\\boldsymbol}\n",
    "\\newcommand{\\Ddt}{\\left(\\tfrac{d}{dt}\\right)}\n",
    "\\newcommand{\\ddt}{\\tfrac{d}{dt}}\n",
    "\\renewcommand{\\tt}{\\bs \\theta}\n",
    "$$\n",
    "[//]: # (custom_config_end)"
   ]
  },
  {
   "cell_type": "code",
   "execution_count": 2,
   "metadata": {
    "collapsed": false
   },
   "outputs": [],
   "source": [
    "%load_ext displaytools\n",
    "\n",
    "import sympy as sp\n",
    "from sympy import sin, cos, pi, Matrix\n",
    "from sympy.interactive import printing\n",
    "\n",
    "import pycartan as pc # perspektivisch: pycartan\n",
    "import symbtools as st\n",
    "import symbtools.noncommutativetools as nc\n",
    "import symbtools.modeltools as mt\n",
    "import pickle\n",
    "\n",
    "printing.init_printing()"
   ]
  },
  {
   "cell_type": "code",
   "execution_count": 3,
   "metadata": {
    "collapsed": false
   },
   "outputs": [
    {
     "data": {
      "image/png": "[encoded data removed]",
      "text/latex": [
       "ttheta.T := $$\\left[\\begin{matrix}p_{1} & q_{1} & q_{2}\\end{matrix}\\right]$$"
      ],
      "text/plain": [
       "ttheta.T := [p₁  q₁  q₂]"
      ]
     },
     "metadata": {},
     "output_type": "display_data"
    },
    {
     "name": "stdout",
     "output_type": "stream",
     "text": [
      "---\n"
     ]
    },
    {
     "data": {
      "image/png": "[encoded data removed]",
      "text/latex": [
       "tthetad.T := $$\\left[\\begin{matrix}\\dot{p}_{1} & \\dot{q}_{1} & \\dot{q}_{2}\\end{matrix}\\right]$$"
      ],
      "text/plain": [
       "tthetad.T := [ṗ₁  q̇₁  q̇₂]"
      ]
     },
     "metadata": {},
     "output_type": "display_data"
    },
    {
     "name": "stdout",
     "output_type": "stream",
     "text": [
      "---\n"
     ]
    },
    {
     "data": {
      "image/png": "[encoded data removed]",
      "text/latex": [
       "tthetadd.T := $$\\left[\\begin{matrix}\\ddot{p}_{1} & \\ddot{q}_{1} & \\ddot{q}_{2}\\end{matrix}\\right]$$"
      ],
      "text/plain": [
       "tthetadd.T := [p̈₁  q̈₁  q̈₂]"
      ]
     },
     "metadata": {},
     "output_type": "display_data"
    },
    {
     "name": "stdout",
     "output_type": "stream",
     "text": [
      "---\n"
     ]
    }
   ],
   "source": [
    "np, nq = 1, 2\n",
    "n = np + nq\n",
    "ttheta = st.symb_vector(\"p1, q1, q2\") ##:T\n",
    "tthetad = st.time_deriv(ttheta, ttheta) ##:T\n",
    "tthetadd = st.time_deriv(ttheta, ttheta, order=2) ##:T\n",
    "\n",
    "st.make_global(ttheta, tthetad, tthetadd)"
   ]
  },
  {
   "cell_type": "code",
   "execution_count": 4,
   "metadata": {
    "collapsed": false
   },
   "outputs": [],
   "source": [
    "params = sp.symbols('l0, l1, s1, s2, J0, J1, J2, m0, m1, m2, g')\n",
    "st.make_global(params)\n",
    "\n",
    "tau1, tau2 = ttau = sp.symbols(\"tau1:3\")"
   ]
  },
  {
   "cell_type": "code",
   "execution_count": 5,
   "metadata": {
    "collapsed": false
   },
   "outputs": [],
   "source": [
    "# Geometrie: (Einheitsvektoren)\n",
    "ex = Matrix([1,0])\n",
    "ey = Matrix([0,1])\n",
    "\n",
    "M0 = Matrix([-l0*p1, l0]) # Mittelpunkt des Rades\n",
    "\n",
    "\n",
    "S1 = M0 + mt.Rz(p1+q1)*ey*s1\n",
    "S2 = M0 + mt.Rz(p1+q1)*ey*l1 + mt.Rz(p1+q1+q2)*ey*s2\n",
    "\n",
    "M0d = st.time_deriv(M0, ttheta)\n",
    "S1d = st.time_deriv(S1, ttheta)\n",
    "S2d = st.time_deriv(S2, ttheta)"
   ]
  },
  {
   "cell_type": "code",
   "execution_count": 6,
   "metadata": {
    "collapsed": false
   },
   "outputs": [],
   "source": [
    "# Energie\n",
    "T_rot = ( J0*pdot1**2 + J1*(pdot1+qdot1)**2 + J2*(pdot1+ qdot1+qdot2)**2 )/2\n",
    "T_trans = ( m0*M0d.T*M0d  +  m1*S1d.T*S1d  +  m2*S2d.T*S2d )/2\n",
    "\n",
    "T = T_rot + T_trans[0]\n",
    "\n",
    "V = m1*g*S1[1] + m2*g*S2[1] "
   ]
  },
  {
   "cell_type": "code",
   "execution_count": 7,
   "metadata": {
    "collapsed": false
   },
   "outputs": [],
   "source": [
    "mod = mt.generate_symbolic_model(T, V, ttheta, [0, tau1, tau2])"
   ]
  },
  {
   "cell_type": "code",
   "execution_count": 8,
   "metadata": {
    "collapsed": false
   },
   "outputs": [],
   "source": [
    "# Die ersten np-Zeilen entsprechen der eingangsfreien Systemgleichung\n",
    "\n",
    "eq = mod.eqns[:np, :]"
   ]
  },
  {
   "cell_type": "markdown",
   "metadata": {},
   "source": [
    "Die unimodulare Ergänzung wird aus [Franke2014] übernommen. Dort sind die Bewegungsgleichungen in absoluten Koordinaten $\\varphi_0, \\varphi_1, \\varphi_2$ formuliert.\n",
    "Zusammenhang: $\\varphi_0 := p_1$, $\\varphi_1 := p_1 + q_1$ und $\\varphi_2 := p_1 + q_1 + q_2$\n",
    "\n",
    "\n",
    "$\\bs \\theta = \\boldsymbol T_a \\boldsymbol \\varphi.$\n",
    "\n"
   ]
  },
  {
   "cell_type": "code",
   "execution_count": 9,
   "metadata": {
    "collapsed": false
   },
   "outputs": [
    {
     "data": {
      "image/png": "[encoded data removed]",
      "text/latex": [
       "$$\\left[\\begin{matrix}1 & 0 & 0\\\\1 & 1 & 0\\\\1 & 1 & 1\\end{matrix}\\right]$$"
      ],
      "text/plain": [
       "⎡1  0  0⎤\n",
       "⎢       ⎥\n",
       "⎢1  1  0⎥\n",
       "⎢       ⎥\n",
       "⎣1  1  1⎦"
      ]
     },
     "metadata": {},
     "output_type": "display_data"
    },
    {
     "name": "stdout",
     "output_type": "stream",
     "text": [
      "---\n"
     ]
    },
    {
     "data": {
      "image/png": "[encoded data removed]",
      "text/latex": [
       "$$\\left[\\begin{matrix}1 & 0 & 0\\\\-1 & 1 & 0\\\\0 & -1 & 1\\end{matrix}\\right]$$"
      ],
      "text/plain": [
       "⎡1   0   0⎤\n",
       "⎢         ⎥\n",
       "⎢-1  1   0⎥\n",
       "⎢         ⎥\n",
       "⎣0   -1  1⎦"
      ]
     },
     "metadata": {},
     "output_type": "display_data"
    },
    {
     "name": "stdout",
     "output_type": "stream",
     "text": [
      "---\n"
     ]
    }
   ],
   "source": [
    "# Transformationsmatrix\n",
    "Ta = sp.Matrix([[1, 0, 0], [1, 1, 0], [1, 1, 1]]) ##\n",
    "Tainv = Ta.inv() ##"
   ]
  },
  {
   "cell_type": "code",
   "execution_count": 10,
   "metadata": {
    "collapsed": false
   },
   "outputs": [
    {
     "data": {
      "image/png": "[encoded data removed]",
      "text/latex": [
       "(pphi ).T := $$\\left[\\begin{matrix}\\varphi_{0} & \\varphi_{1} & \\varphi_{2}\\end{matrix}\\right]$$"
      ],
      "text/plain": [
       "(pphi ).T := [varphi₀  varphi₁  varphi₂]"
      ]
     },
     "metadata": {},
     "output_type": "display_data"
    },
    {
     "name": "stdout",
     "output_type": "stream",
     "text": [
      "___\n"
     ]
    },
    {
     "data": {
      "image/png": "[encoded data removed]",
      "text/latex": [
       "pphidot.T := $$\\left[\\begin{matrix}\\dot{\\varphi}_{0} & \\dot{\\varphi}_{1} & \\dot{\\varphi}_{2}\\end{matrix}\\right]$$"
      ],
      "text/plain": [
       "pphidot.T := [varphi̇₀  varphi̇₁  varphi̇₂]"
      ]
     },
     "metadata": {},
     "output_type": "display_data"
    },
    {
     "name": "stdout",
     "output_type": "stream",
     "text": [
      "---\n"
     ]
    }
   ],
   "source": [
    "phi0, phi1, phi2 = pphi = st.symb_vector('varphi0, varphi1, varphi2')\n",
    "pphi ##:T\n",
    "pphidot = st.time_deriv(pphi, pphi) ##:T\n",
    "\n",
    "# höhere Ableitungen (werden später noch gebraucht)\n",
    "pphiddot = st.time_deriv(pphidot, pphi)\n",
    "pphidddot = st.time_deriv(pphiddot, pphi)"
   ]
  },
  {
   "cell_type": "code",
   "execution_count": 11,
   "metadata": {
    "collapsed": false
   },
   "outputs": [],
   "source": [
    "FF = eq.subs(zip(ttheta, Tainv*pphi) + zip(tthetad, Tainv*pphidot) + zip(tthetadd, Tainv*pphiddot))\n",
    "FF.simplify()"
   ]
  },
  {
   "cell_type": "code",
   "execution_count": 12,
   "metadata": {
    "collapsed": false
   },
   "outputs": [
    {
     "data": {
      "text/plain": [
       "Matrix([[0, -g*l1*m2*cos(varphi1) - g*m1*s1*cos(varphi1) - l0*l1*m2*varphiddot0*sin(varphi1) - l0*l1*m2*varphiddot1*sin(varphi1) - l0*l1*m2*varphidot1**2*cos(varphi1) - l0*m1*s1*varphiddot0*sin(varphi1) - l0*m1*s1*varphiddot1*sin(varphi1) - l0*m1*s1*varphidot1**2*cos(varphi1) - l1*m2*s2*varphiddot1*sin(varphi1 - varphi2) - l1*m2*s2*varphiddot2*sin(varphi1 - varphi2) - l1*m2*s2*varphidot1**2*cos(varphi1 - varphi2) + l1*m2*s2*varphidot2**2*cos(varphi1 - varphi2), -g*m2*s2*cos(varphi2) - l0*m2*s2*varphiddot0*sin(varphi2) - l0*m2*s2*varphiddot2*sin(varphi2) - l0*m2*s2*varphidot2**2*cos(varphi2) + l1*m2*s2*varphiddot1*sin(varphi1 - varphi2) + l1*m2*s2*varphiddot2*sin(varphi1 - varphi2) + l1*m2*s2*varphidot1**2*cos(varphi1 - varphi2) - l1*m2*s2*varphidot2**2*cos(varphi1 - varphi2)]])"
      ]
     },
     "metadata": {},
     "output_type": "display_data"
    },
    {
     "name": "stdout",
     "output_type": "stream",
     "text": [
      "---\n"
     ]
    },
    {
     "data": {
      "text/plain": [
       "Matrix([[0, -2*l0*l1*m2*varphidot1*sin(varphi1) - 2*l0*m1*s1*varphidot1*sin(varphi1) - 2*l1*m2*s2*varphidot1*sin(varphi1 - varphi2), -2*l0*m2*s2*varphidot2*sin(varphi2) + 2*l1*m2*s2*varphidot2*sin(varphi1 - varphi2)]])"
      ]
     },
     "metadata": {},
     "output_type": "display_data"
    },
    {
     "name": "stdout",
     "output_type": "stream",
     "text": [
      "---\n"
     ]
    },
    {
     "data": {
      "text/plain": [
       "Matrix([[J0 + l0**2*m0 + l0**2*m1 + l0**2*m2 + l0*l1*m2*cos(varphi1) + l0*m1*s1*cos(varphi1) + l0*m2*s2*cos(varphi2), J1 + l0*l1*m2*cos(varphi1) + l0*m1*s1*cos(varphi1) + l1**2*m2 + l1*m2*s2*cos(varphi1 - varphi2) + m1*s1**2, J2 + l0*m2*s2*cos(varphi2) + l1*m2*s2*cos(varphi1 - varphi2) + m2*s2**2]])"
      ]
     },
     "metadata": {},
     "output_type": "display_data"
    },
    {
     "name": "stdout",
     "output_type": "stream",
     "text": [
      "---\n"
     ]
    }
   ],
   "source": [
    "printing.init_printing(0)\n",
    "\n",
    "P0 = FF.jacobian(pphi) ##\n",
    "P1 = FF.jacobian(pphidot) ##\n",
    "P2 = FF.jacobian(pphiddot) ##\n",
    "\n",
    "printing.init_printing(1)"
   ]
  },
  {
   "cell_type": "markdown",
   "metadata": {},
   "source": [
    "---\n",
    "Nun werden für die entsprechenden Einträge der Systemmatrix $P(\\tfrac{d}{dt})$ Abkürzungen eingeführt."
   ]
  },
  {
   "cell_type": "code",
   "execution_count": 13,
   "metadata": {
    "collapsed": false
   },
   "outputs": [
    {
     "data": {
      "image/png": "[encoded data removed]",
      "text/latex": [
       "P0s := $$\\left[\\begin{matrix}0 & b_{0} & c_{0}\\end{matrix}\\right]$$"
      ],
      "text/plain": [
       "P0s := [0  b₀  c₀]"
      ]
     },
     "metadata": {},
     "output_type": "display_data"
    },
    {
     "name": "stdout",
     "output_type": "stream",
     "text": [
      "---\n"
     ]
    },
    {
     "data": {
      "image/png": "[encoded data removed]",
      "text/latex": [
       "P1s := $$\\left[\\begin{matrix}0 & b_{1} & c_{1}\\end{matrix}\\right]$$"
      ],
      "text/plain": [
       "P1s := [0  b₁  c₁]"
      ]
     },
     "metadata": {},
     "output_type": "display_data"
    },
    {
     "name": "stdout",
     "output_type": "stream",
     "text": [
      "---\n"
     ]
    },
    {
     "data": {
      "image/png": "[encoded data removed]",
      "text/latex": [
       "P2s := $$\\left[\\begin{matrix}a_{2} & b_{2} & c_{2}\\end{matrix}\\right]$$"
      ],
      "text/plain": [
       "P2s := [a₂  b₂  c₂]"
      ]
     },
     "metadata": {},
     "output_type": "display_data"
    },
    {
     "name": "stdout",
     "output_type": "stream",
     "text": [
      "---\n"
     ]
    }
   ],
   "source": [
    "a0, a1, a2, b0, b1, b2, c0, c1, c2 = abc = sp.symbols(\"a0, a1, a2, b0, b1, b2, c0, c1, c2\", commutative=False)\n",
    "s = sp.Symbol('s', commutative=False)\n",
    "\n",
    "P0s = sp.Matrix([0, b0, c0]).T ##:\n",
    "P1s = sp.Matrix([0, b1, c1]).T ##:\n",
    "P2s = sp.Matrix([a2, b2, c2]).T ##:\n",
    "\n"
   ]
  },
  {
   "cell_type": "code",
   "execution_count": 14,
   "metadata": {
    "collapsed": false
   },
   "outputs": [],
   "source": [
    "# Datenstruktur für die Rücksubstitution der Platzhalter-Symbole (a,b,c)\n",
    "replm_abc = sp.Matrix(zip(P0s, P0) + zip(P1s, P1) + zip(P2s, P2))\n",
    "\n",
    "# ... und deren Ableitungen\n",
    "replm_abc_dot = st.time_deriv(replm_abc, abc + tuple(pphi))"
   ]
  },
  {
   "cell_type": "code",
   "execution_count": 15,
   "metadata": {
    "collapsed": false
   },
   "outputs": [
    {
     "data": {
      "image/png": "[encoded data removed]",
      "text/latex": [
       "$$\\left[\\begin{matrix}0 & \\dot{b}_{0} & \\dot{c}_{0} & 0 & \\dot{b}_{1} & \\dot{c}_{1} & \\dot{a}_{2} & \\dot{b}_{2} & \\dot{c}_{2}\\end{matrix}\\right]$$"
      ],
      "text/plain": [
       "[0  ḃ₀  ċ₀  0  ḃ₁  ċ₁  ȧ₂  ḃ₂  ċ₂]"
      ]
     },
     "execution_count": 15,
     "metadata": {},
     "output_type": "execute_result"
    }
   ],
   "source": [
    "replm_abc_dot[:, 0].T"
   ]
  },
  {
   "cell_type": "code",
   "execution_count": 16,
   "metadata": {
    "collapsed": false
   },
   "outputs": [],
   "source": [
    "# Ableitungssymbole in den Namensraum einfügen\n",
    "st.make_global(replm_abc_dot[:, 0])\n",
    "\n",
    "# alle Substitutionen in einer Liste vereinen\n",
    "replm = replm_abc.tolist() + replm_abc_dot.tolist()"
   ]
  },
  {
   "cell_type": "markdown",
   "metadata": {},
   "source": [
    "Unimodulare Erweiterung entsprechend [Franke2014, S70] ) festlegen:"
   ]
  },
  {
   "cell_type": "code",
   "execution_count": 17,
   "metadata": {
    "collapsed": false
   },
   "outputs": [
    {
     "data": {
      "image/png": "[encoded data removed]",
      "text/latex": [
       "$$\\left[\\begin{matrix}a_{2} & b_{2} & c_{2}\\\\- a_{2} c_{1} - 2 c_{2} \\dot{a}_{2} & - b_{2} c_{1} + c_{2} b_{1} - 2 c_{2} \\dot{b}_{2} & - 2 c_{2} \\dot{c}_{2}\\end{matrix}\\right]$$"
      ],
      "text/plain": [
       "⎡       a₂                     b₂                 c₂    ⎤\n",
       "⎢                                                       ⎥\n",
       "⎣-a₂⋅c₁ - 2⋅c₂⋅ȧ₂  -b₂⋅c₁ + c₂⋅b₁ - 2⋅c₂⋅ḃ₂  -2⋅c₂⋅ċ₂⎦"
      ]
     },
     "metadata": {},
     "output_type": "display_data"
    },
    {
     "name": "stdout",
     "output_type": "stream",
     "text": [
      "---\n"
     ]
    }
   ],
   "source": [
    "Q1 = sp.Matrix([[ a2, b2, c2]]) # entspricht P2s\n",
    "Q2 = sp.Matrix([-2*c2*adot2 - a2*c1, c2*b1 - c2*2*bdot2 - b2*c1, -2*c2*cdot2]).T\n",
    "Q = st.row_stack(Q1, Q2) ##"
   ]
  },
  {
   "cell_type": "markdown",
   "metadata": {},
   "source": [
    "Prüfung der Unimodularität der Gesamtmatrix\n",
    "$\\left(\\begin{smallmatrix}\n",
    "\\bs P_{\\bs F}\\\\\n",
    "\\bs Q\n",
    "\\end{smallmatrix} \\right)$:"
   ]
  },
  {
   "cell_type": "code",
   "execution_count": 18,
   "metadata": {
    "collapsed": false
   },
   "outputs": [
    {
     "data": {
      "image/png": "[encoded data removed]",
      "text/latex": [
       "PF := $$\\left[\\begin{matrix}a_{2} s^{2} & b_{0} + b_{1} s + b_{2} s^{2} & c_{0} + c_{1} s + c_{2} s^{2}\\end{matrix}\\right]$$"
      ],
      "text/plain": [
       "PF := ⎡    2                  2                  2⎤\n",
       "⎣a₂⋅s   b₀ + b₁⋅s + b₂⋅s   c₀ + c₁⋅s + c₂⋅s ⎦"
      ]
     },
     "metadata": {},
     "output_type": "display_data"
    },
    {
     "name": "stdout",
     "output_type": "stream",
     "text": [
      "---\n"
     ]
    },
    {
     "data": {
      "image/png": "[encoded data removed]",
      "text/latex": [
       "PQ := $$\\left[\\begin{matrix}a_{2} s^{2} & b_{0} + b_{1} s + b_{2} s^{2} & c_{0} + c_{1} s + c_{2} s^{2}\\\\a_{2} & b_{2} & c_{2}\\\\- a_{2} c_{1} - 2 c_{2} \\dot{a}_{2} & - b_{2} c_{1} + c_{2} b_{1} - 2 c_{2} \\dot{b}_{2} & - 2 c_{2} \\dot{c}_{2}\\end{matrix}\\right]$$"
      ],
      "text/plain": [
       "PQ := ⎡          2                            2                      2⎤\n",
       "⎢      a₂⋅s             b₀ + b₁⋅s + b₂⋅s       c₀ + c₁⋅s + c₂⋅s ⎥\n",
       "⎢                                                               ⎥\n",
       "⎢       a₂                     b₂                     c₂        ⎥\n",
       "⎢                                                               ⎥\n",
       "⎣-a₂⋅c₁ - 2⋅c₂⋅ȧ₂  -b₂⋅c₁ + c₂⋅b₁ - 2⋅c₂⋅ḃ₂      -2⋅c₂⋅ċ₂    ⎦"
      ]
     },
     "metadata": {},
     "output_type": "display_data"
    },
    {
     "name": "stdout",
     "output_type": "stream",
     "text": [
      "---\n"
     ]
    }
   ],
   "source": [
    "PF = P0s + P1s*s + P2s*s**2 ##:\n",
    "\n",
    "PQ = st.row_stack(PF, Q) ##:"
   ]
  },
  {
   "cell_type": "code",
   "execution_count": 19,
   "metadata": {
    "collapsed": false
   },
   "outputs": [
    {
     "name": "stdout",
     "output_type": "stream",
     "text": [
      "CPU times: user 2min 14s, sys: 36 ms, total: 2min 14s\n",
      "Wall time: 2min 14s\n"
     ]
    }
   ],
   "source": [
    "%time PQinv = nc.unimod_inv(PQ, s, time_dep_symbs=abc)"
   ]
  },
  {
   "cell_type": "code",
   "execution_count": 20,
   "metadata": {
    "collapsed": false
   },
   "outputs": [
    {
     "data": {
      "image/png": "[encoded data removed]",
      "text/latex": [
       "$$\\left[\\begin{matrix}92 & 336 & 210\\\\90 & 310 & 199\\\\90 & 336 & 199\\end{matrix}\\right]$$"
      ],
      "text/plain": [
       "⎡92  336  210⎤\n",
       "⎢            ⎥\n",
       "⎢90  310  199⎥\n",
       "⎢            ⎥\n",
       "⎣90  336  199⎦"
      ]
     },
     "execution_count": 20,
     "metadata": {},
     "output_type": "execute_result"
    }
   ],
   "source": [
    "# Umfang der Ausdrücke (count_ops)\n",
    "PQinv.co"
   ]
  },
  {
   "cell_type": "code",
   "execution_count": 21,
   "metadata": {
    "collapsed": false
   },
   "outputs": [
    {
     "name": "stdout",
     "output_type": "stream",
     "text": [
      "CPU times: user 13.3 s, sys: 24 ms, total: 13.3 s\n",
      "Wall time: 13.3 s\n"
     ]
    }
   ],
   "source": [
    "# Nachweis, dass die berechnete Inverse tatsächlich eine Inverse ist.\n",
    "\n",
    "product = nc.nc_mul(PQinv, PQ)\n",
    "%time res = nc.right_shift_all(product, s, func_symbols=abc)\n"
   ]
  },
  {
   "cell_type": "code",
   "execution_count": 22,
   "metadata": {
    "collapsed": false
   },
   "outputs": [
    {
     "name": "stdout",
     "output_type": "stream",
     "text": [
      "CPU times: user 34.8 s, sys: 208 ms, total: 35 s\n",
      "Wall time: 34.8 s\n"
     ]
    },
    {
     "data": {
      "image/png": "[encoded data removed]",
      "text/latex": [
       "$$\\left[\\begin{matrix}1 & 0 & 0\\\\0 & 1 & 0\\\\0 & 0 & 1\\end{matrix}\\right]$$"
      ],
      "text/plain": [
       "⎡1  0  0⎤\n",
       "⎢       ⎥\n",
       "⎢0  1  0⎥\n",
       "⎢       ⎥\n",
       "⎣0  0  1⎦"
      ]
     },
     "execution_count": 22,
     "metadata": {},
     "output_type": "execute_result"
    }
   ],
   "source": [
    "%time res2 = nc.commutative_simplification(res, s)\n",
    "res2 "
   ]
  },
  {
   "cell_type": "code",
   "execution_count": 23,
   "metadata": {
    "collapsed": false
   },
   "outputs": [
    {
     "data": {
      "text/plain": [
       "w1 := (J0 + l0**2*m0 + l0**2*m1 + l0**2*m2 + l0*l1*m2*cos(varphi1) + l0*m1*s1*cos(varphi1) + l0*m2*s2*cos(varphi2))dvarphi0  +  (J1 + l0*l1*m2*cos(varphi1) + l0*m1*s1*cos(varphi1) + l1**2*m2 + l1*m2*s2*cos(varphi1 - varphi2) + m1*s1**2)dvarphi1  +  (J2 + l0*m2*s2*cos(varphi2) + l1*m2*s2*cos(varphi1 - varphi2) + m2*s2**2)dvarphi2"
      ]
     },
     "metadata": {},
     "output_type": "display_data"
    },
    {
     "name": "stdout",
     "output_type": "stream",
     "text": [
      "---\n"
     ]
    },
    {
     "data": {
      "text/plain": [
       "w2 := (-(-2*l0*m2*s2*varphidot2*sin(varphi2) + 2*l1*m2*s2*varphidot2*sin(varphi1 - varphi2))*(J0 + l0**2*m0 + l0**2*m1 + l0**2*m2 + l0*l1*m2*cos(varphi1) + l0*m1*s1*cos(varphi1) + l0*m2*s2*cos(varphi2)) - 2*(-l0*l1*m2*varphidot1*sin(varphi1) - l0*m1*s1*varphidot1*sin(varphi1) - l0*m2*s2*varphidot2*sin(varphi2))*(J2 + l0*m2*s2*cos(varphi2) + l1*m2*s2*cos(varphi1 - varphi2) + m2*s2**2))dvarphi0  +  (-(-2*l0*m2*s2*varphidot2*sin(varphi2) + 2*l1*m2*s2*varphidot2*sin(varphi1 - varphi2))*(J1 + l0*l1*m2*cos(varphi1) + l0*m1*s1*cos(varphi1) + l1**2*m2 + l1*m2*s2*cos(varphi1 - varphi2) + m1*s1**2) + (-2*l0*l1*m2*varphidot1*sin(varphi1) - 2*l0*m1*s1*varphidot1*sin(varphi1) - 2*l1*m2*s2*varphidot1*sin(varphi1 - varphi2))*(J2 + l0*m2*s2*cos(varphi2) + l1*m2*s2*cos(varphi1 - varphi2) + m2*s2**2) - 2*(-l0*l1*m2*varphidot1*sin(varphi1) - l0*m1*s1*varphidot1*sin(varphi1) - l1*m2*s2*(varphidot1 - varphidot2)*sin(varphi1 - varphi2))*(J2 + l0*m2*s2*cos(varphi2) + l1*m2*s2*cos(varphi1 - varphi2) + m2*s2**2))dvarphi1  +  (-2*(-l0*m2*s2*varphidot2*sin(varphi2) - l1*m2*s2*(varphidot1 - varphidot2)*sin(varphi1 - varphi2))*(J2 + l0*m2*s2*cos(varphi2) + l1*m2*s2*cos(varphi1 - varphi2) + m2*s2**2))dvarphi2"
      ]
     },
     "metadata": {},
     "output_type": "display_data"
    },
    {
     "name": "stdout",
     "output_type": "stream",
     "text": [
      "---\n"
     ]
    },
    {
     "data": {
      "text/plain": [
       "dF := (-g*l1*m2*cos(varphi1) - g*m1*s1*cos(varphi1) - l0*l1*m2*varphiddot0*sin(varphi1) - l0*l1*m2*varphiddot1*sin(varphi1) - l0*l1*m2*varphidot1**2*cos(varphi1) - l0*m1*s1*varphiddot0*sin(varphi1) - l0*m1*s1*varphiddot1*sin(varphi1) - l0*m1*s1*varphidot1**2*cos(varphi1) - l1*m2*s2*varphiddot1*sin(varphi1 - varphi2) - l1*m2*s2*varphiddot2*sin(varphi1 - varphi2) - l1*m2*s2*varphidot1**2*cos(varphi1 - varphi2) + l1*m2*s2*varphidot2**2*cos(varphi1 - varphi2))dvarphi1  +  (-g*m2*s2*cos(varphi2) - l0*m2*s2*varphiddot0*sin(varphi2) - l0*m2*s2*varphiddot2*sin(varphi2) - l0*m2*s2*varphidot2**2*cos(varphi2) + l1*m2*s2*varphiddot1*sin(varphi1 - varphi2) + l1*m2*s2*varphiddot2*sin(varphi1 - varphi2) + l1*m2*s2*varphidot1**2*cos(varphi1 - varphi2) - l1*m2*s2*varphidot2**2*cos(varphi1 - varphi2))dvarphi2  +  (-2*l0*l1*m2*varphidot1*sin(varphi1) - 2*l0*m1*s1*varphidot1*sin(varphi1) - 2*l1*m2*s2*varphidot1*sin(varphi1 - varphi2))dvarphidot1  +  (-2*l0*m2*s2*varphidot2*sin(varphi2) + 2*l1*m2*s2*varphidot2*sin(varphi1 - varphi2))dvarphidot2  +  (J0 + l0**2*m0 + l0**2*m1 + l0**2*m2 + l0*l1*m2*cos(varphi1) + l0*m1*s1*cos(varphi1) + l0*m2*s2*cos(varphi2))dvarphiddot0  +  (J1 + l0*l1*m2*cos(varphi1) + l0*m1*s1*cos(varphi1) + l1**2*m2 + l1*m2*s2*cos(varphi1 - varphi2) + m1*s1**2)dvarphiddot1  +  (J2 + l0*m2*s2*cos(varphi2) + l1*m2*s2*cos(varphi1 - varphi2) + m2*s2**2)dvarphiddot2"
      ]
     },
     "metadata": {},
     "output_type": "display_data"
    },
    {
     "name": "stdout",
     "output_type": "stream",
     "text": [
      "---\n"
     ]
    }
   ],
   "source": [
    "# Basis-Systemgrößen\n",
    "\n",
    "ppx = st.row_stack(pphi, pphidot, pphiddot, pphidddot)\n",
    "\n",
    "# Koeffizienten-Listen bezüglich aller Basis-Systemgrößen für die 1-Formen\n",
    "Q1_ = st.col_stack(Q1, sp.zeros(1, n*3)).subs(replm)\n",
    "Q2_ = st.col_stack(Q2, sp.zeros(1, n*3)).subs(replm)\n",
    "P_ = st.col_stack(P0, P1, P2, sp.zeros(1, n) ).subs(replm)\n",
    "\n",
    "# Erstellung der 1-Formen\n",
    "w1 = pc.DifferentialForm(1, ppx, coeff=Q1_) ##:\n",
    "w2 = pc.DifferentialForm(1, ppx, coeff=Q2_) ##:\n",
    "dF = pc.DifferentialForm(1, ppx, coeff=P_) ##:"
   ]
  },
  {
   "cell_type": "markdown",
   "metadata": {},
   "source": [
    "---\n",
    "\n",
    "Zwischenbetrachtung:\n",
    "\n",
    "Einschränkung von $\\omega1, \\omega_2$ auf $\\mathcal{F}$ untersuchen:"
   ]
  },
  {
   "cell_type": "code",
   "execution_count": 24,
   "metadata": {
    "collapsed": false
   },
   "outputs": [
    {
     "data": {
      "image/png": "[encoded data removed]",
      "text/latex": [
       "phidd0 := $$\\ddot{\\varphi}_{0}$$"
      ],
      "text/plain": [
       "phidd0 := varphï₀"
      ]
     },
     "metadata": {},
     "output_type": "display_data"
    },
    {
     "name": "stdout",
     "output_type": "stream",
     "text": [
      "---\n"
     ]
    },
    {
     "data": {
      "text/plain": [
       "w1.subs(FF_sol) - w1  := (0)dvarphi0"
      ]
     },
     "metadata": {},
     "output_type": "display_data"
    },
    {
     "name": "stdout",
     "output_type": "stream",
     "text": [
      "___\n"
     ]
    },
    {
     "data": {
      "text/plain": [
       "w2.subs(FF_sol) - w2  := (0)dvarphi0"
      ]
     },
     "metadata": {},
     "output_type": "display_data"
    },
    {
     "name": "stdout",
     "output_type": "stream",
     "text": [
      "___\n"
     ]
    }
   ],
   "source": [
    "phidd0 = st.time_deriv(phi0, pphi, order=2) ##:\n",
    "\n",
    "# Systemgleichungen nach einer der Beschleunigungen auflösen und einsetzen\n",
    "FF_sol = sp.solve(FF, phidd0)\n",
    "w1.subs(FF_sol) - w1 ##:\n",
    "w2.subs(FF_sol) - w2 ##:"
   ]
  },
  {
   "cell_type": "markdown",
   "metadata": {},
   "source": [
    "Fazit: Einschränkung auf $\\mathcal{F}$ hat hier keine Auswirkung.\n",
    "\n",
    "---"
   ]
  },
  {
   "cell_type": "markdown",
   "metadata": {},
   "source": [
    "Zum Vergleich: Reproduktion der Ergebnisse aus [Franke2014, S. 71]."
   ]
  },
  {
   "cell_type": "code",
   "execution_count": 25,
   "metadata": {
    "collapsed": false
   },
   "outputs": [
    {
     "data": {
      "text/plain": [
       "(0)dvarphi0^dvarphi1^dvarphi2^dvarphidot0"
      ]
     },
     "metadata": {},
     "output_type": "display_data"
    },
    {
     "name": "stdout",
     "output_type": "stream",
     "text": [
      "---\n"
     ]
    }
   ],
   "source": [
    "Xi1_0 = w1.d^w1^w2##"
   ]
  },
  {
   "cell_type": "code",
   "execution_count": 26,
   "metadata": {
    "collapsed": false
   },
   "outputs": [
    {
     "data": {
      "text/plain": [
       "(567)dvarphi0^dvarphi1^dvarphi2^dvarphidot1  +  (637)dvarphi0^dvarphi1^dvarphi2^dvarphidot2"
      ]
     },
     "metadata": {},
     "output_type": "display_data"
    },
    {
     "name": "stdout",
     "output_type": "stream",
     "text": [
      "___\n"
     ]
    },
    {
     "data": {
      "image/png": "[encoded data removed]",
      "text/latex": [
       "$$\\left [ 0.0, \\quad 5662312496.07, \\quad -9945237824.28\\right ]$$"
      ],
      "text/plain": [
       "[0.0, 5662312496.07, -9945237824.28]"
      ]
     },
     "execution_count": 26,
     "metadata": {},
     "output_type": "execute_result"
    }
   ],
   "source": [
    "res = w2.d^w1^w2\n",
    "res.co ##\n",
    "\n",
    "# Überprüfung, ob Koeffizienten durch Einsetzen zufälliger Zahlen Null werden:\n",
    "map(float, res.srn[:3])"
   ]
  },
  {
   "cell_type": "markdown",
   "metadata": {},
   "source": [
    "Es gilt also\n",
    "$$\n",
    "\\Xi_{1,0} = \\d \\omega_1 \\wedge \\omega_1 \\wedge \\omega_2=0 \\\\\n",
    "\\Xi_{2,0} = \\d \\omega_2 \\wedge \\omega_1 \\wedge \\omega_2\\neq0.\n",
    "$$\n",
    "\n",
    "**Fazit**: Bestätigung der Ergebnisse aus [Franke2014, S71]. Wegen $\\Xi_{1,0} = \\d \\omega_1 \\wedge \\omega_1 \\wedge \\omega_2=0$ ist nur die Untersuchung der Keilprodukte $\\Xi_{2,k} = \\d \\omega_2 \\wedge \\ldots$ relevant."
   ]
  },
  {
   "cell_type": "markdown",
   "metadata": {},
   "source": [
    "---\n",
    "\n",
    "\n",
    "**Frage:**\n",
    "Wieviele Koeffizienten treten in $\\Xi_{2,k}$ für jedes $k$ auf? → $r(k), s(k)$ bestimmen und Tabelle erstellen.\n",
    "\n",
    "Zur Bestimmung von $s( k):=n +  n \\cdot \\max(\\mathrm{ord}_{\\d \\bs \\theta}(\\d \\omega_2), k )$ wird die höchste auftretende Ableitungsordnung der Basis-1-Formen in $\\d \\omega_2$ benötigt.\n"
   ]
  },
  {
   "cell_type": "code",
   "execution_count": 27,
   "metadata": {
    "collapsed": false
   },
   "outputs": [
    {
     "data": {
      "image/png": "[encoded data removed]",
      "text/latex": [
       "$$1$$"
      ],
      "text/plain": [
       "1"
      ]
     },
     "metadata": {},
     "output_type": "display_data"
    },
    {
     "name": "stdout",
     "output_type": "stream",
     "text": [
      "---\n"
     ]
    }
   ],
   "source": [
    "ord_d_omega_2  = w2.d.ord##"
   ]
  },
  {
   "cell_type": "markdown",
   "metadata": {},
   "source": [
    "Bestimmung von $k_{\\Omega_0}$"
   ]
  },
  {
   "cell_type": "code",
   "execution_count": 28,
   "metadata": {
    "collapsed": false
   },
   "outputs": [
    {
     "data": {
      "image/png": "[encoded data removed]",
      "text/latex": [
       "kOmega0 := $$0$$"
      ],
      "text/plain": [
       "kOmega0 := 0"
      ]
     },
     "metadata": {},
     "output_type": "display_data"
    },
    {
     "name": "stdout",
     "output_type": "stream",
     "text": [
      "---\n"
     ]
    }
   ],
   "source": [
    "Omega0 = w1^w2\n",
    "kOmega0 = Omega0.ord ##:"
   ]
  },
  {
   "cell_type": "code",
   "execution_count": 29,
   "metadata": {
    "collapsed": false
   },
   "outputs": [
    {
     "data": {
      "image/png": "[encoded data removed]",
      "text/latex": [
       "$$\\left[\\begin{matrix}k & 0 & 1 & 2 & 3 & 4\\\\r{\\left (k \\right )} & 6 & 6 & 9 & 12 & 15\\\\s{\\left (k \\right )} & 4 & 6 & 9 & 12 & 15\\\\s(k)~over~r(k) & 15 & 1 & 1 & 1 & 1\\end{matrix}\\right]$$"
      ],
      "text/plain": [
       "⎡      k         0   1  2  3   4 ⎤\n",
       "⎢                                ⎥\n",
       "⎢     r(k)       6   6  9  12  15⎥\n",
       "⎢                                ⎥\n",
       "⎢     s(k)       4   6  9  12  15⎥\n",
       "⎢                                ⎥\n",
       "⎣s(k)~over~r(k)  15  1  1  1   1 ⎦"
      ]
     },
     "execution_count": 29,
     "metadata": {},
     "output_type": "execute_result"
    }
   ],
   "source": [
    "def r(k):\n",
    "    return 2 + nq*max(0, k + 1 - kOmega0) + np*max(0, k - 1)\n",
    "\n",
    "def s(k):\n",
    "    return n + n*max(ord_d_omega_2, k )\n",
    "kmax = 4\n",
    "table = sp.zeros(4, kmax+1)\n",
    "legend = Matrix([sp.S('k'), sp.S('r(k)'), sp.S('s(k)'), sp.Symbol('s(k)~over~r(k)')])\n",
    "\n",
    "\n",
    "# Ausfüllen der Tabelle\n",
    "for k in range(kmax+1):\n",
    "    table[:, k] = k, s(k), r(k), sp.binomial(s(k), r(k))\n",
    "\n",
    "st.col_stack(legend, table)"
   ]
  },
  {
   "cell_type": "markdown",
   "metadata": {},
   "source": [
    "Bestimmung von $c^* = \\mathrm{coeff}_{\\d \\ddot\\theta_1 \\wedge \\d \\ddot \\theta_2 \\wedge \\d \\ddot \\theta_3} (\\overbrace{\\ddot \\omega_1  \\wedge \\ddot \\omega_2 \\wedge \\d F_1}^{\\Gamma_2})$"
   ]
  },
  {
   "cell_type": "code",
   "execution_count": 30,
   "metadata": {
    "collapsed": false
   },
   "outputs": [],
   "source": [
    "Gamma2 = w1.dot().dot()^w2.dot().dot()^dF"
   ]
  },
  {
   "cell_type": "code",
   "execution_count": 31,
   "metadata": {
    "collapsed": false
   },
   "outputs": [
    {
     "data": {
      "text/plain": [
       "Theta_2 := (1)dvarphidddot0^dvarphidddot1^dvarphidddot2"
      ]
     },
     "metadata": {},
     "output_type": "display_data"
    },
    {
     "name": "stdout",
     "output_type": "stream",
     "text": [
      "---\n"
     ]
    },
    {
     "data": {
      "image/png": "[encoded data removed]",
      "text/latex": [
       "c_star := $$0$$"
      ],
      "text/plain": [
       "c_star := 0"
      ]
     },
     "metadata": {},
     "output_type": "display_data"
    },
    {
     "name": "stdout",
     "output_type": "stream",
     "text": [
      "---\n"
     ]
    }
   ],
   "source": [
    "Theta_2 = Gamma2.get_baseform_from_plain_index(-1) ##:\n",
    "c_star = Gamma2.get_coeff(Theta_2) ##:"
   ]
  },
  {
   "cell_type": "markdown",
   "metadata": {},
   "source": [
    "Es gilt also $c^*=0$. Damit ist die untersuchte hinreichende Bedingung für Nichtflachheitsbedingung **nicht** erfüllt.\n",
    "\n",
    "---\n",
    "\n",
    "Warum ist $c^*=0?$"
   ]
  },
  {
   "cell_type": "code",
   "execution_count": 32,
   "metadata": {
    "collapsed": false
   },
   "outputs": [],
   "source": [
    "w1_ddot = w1.dot().dot()"
   ]
  },
  {
   "cell_type": "markdown",
   "metadata": {},
   "source": [
    "Zwar gilt"
   ]
  },
  {
   "cell_type": "code",
   "execution_count": 33,
   "metadata": {
    "collapsed": false
   },
   "outputs": [
    {
     "data": {
      "image/png": "[encoded data removed]",
      "text/latex": [
       "w1_ddot.ord  := $$2$$"
      ],
      "text/plain": [
       "w1_ddot.ord  := 2"
      ]
     },
     "metadata": {},
     "output_type": "display_data"
    },
    {
     "name": "stdout",
     "output_type": "stream",
     "text": [
      "___\n"
     ]
    },
    {
     "data": {
      "image/png": "[encoded data removed]",
      "text/latex": [
       "dF.ord  := $$2$$"
      ],
      "text/plain": [
       "dF.ord  := 2"
      ]
     },
     "metadata": {},
     "output_type": "display_data"
    },
    {
     "name": "stdout",
     "output_type": "stream",
     "text": [
      "___\n"
     ]
    }
   ],
   "source": [
    "w1_ddot.ord ##:\n",
    "dF.ord ##:"
   ]
  },
  {
   "cell_type": "markdown",
   "metadata": {},
   "source": [
    "aber für das Produkt gilt"
   ]
  },
  {
   "cell_type": "code",
   "execution_count": 34,
   "metadata": {
    "collapsed": false
   },
   "outputs": [],
   "source": [
    "prod = w1_ddot^dF"
   ]
  },
  {
   "cell_type": "code",
   "execution_count": 35,
   "metadata": {
    "collapsed": false
   },
   "outputs": [
    {
     "data": {
      "text/plain": [
       "test_form1 := (1)dvarphidddot1^dvarphidddot2"
      ]
     },
     "metadata": {},
     "output_type": "display_data"
    },
    {
     "name": "stdout",
     "output_type": "stream",
     "text": [
      "---\n"
     ]
    },
    {
     "data": {
      "text/plain": [
       "test_form2 := (1)dvarphidddot0^dvarphidddot2"
      ]
     },
     "metadata": {},
     "output_type": "display_data"
    },
    {
     "name": "stdout",
     "output_type": "stream",
     "text": [
      "---\n"
     ]
    },
    {
     "data": {
      "text/plain": [
       "test_form3 := (1)dvarphidddot0^dvarphidddot1"
      ]
     },
     "metadata": {},
     "output_type": "display_data"
    },
    {
     "name": "stdout",
     "output_type": "stream",
     "text": [
      "---\n"
     ]
    }
   ],
   "source": [
    "# Alle Basis-2-Formen mit nur der höchsten Ableitungsordnung\n",
    "\n",
    "test_form1 = prod.get_baseform_from_plain_index(-1) ##:\n",
    "test_form2 = prod.get_baseform_from_plain_index(-2) ##:\n",
    "test_form3 = prod.get_baseform_from_plain_index(-3) ##:"
   ]
  },
  {
   "cell_type": "code",
   "execution_count": 36,
   "metadata": {
    "collapsed": false
   },
   "outputs": [
    {
     "data": {
      "image/png": "[encoded data removed]",
      "text/latex": [
       "$$0$$"
      ],
      "text/plain": [
       "0"
      ]
     },
     "metadata": {},
     "output_type": "display_data"
    },
    {
     "name": "stdout",
     "output_type": "stream",
     "text": [
      "___\n"
     ]
    },
    {
     "data": {
      "image/png": "[encoded data removed]",
      "text/latex": [
       "$$0$$"
      ],
      "text/plain": [
       "0"
      ]
     },
     "metadata": {},
     "output_type": "display_data"
    },
    {
     "name": "stdout",
     "output_type": "stream",
     "text": [
      "___\n"
     ]
    },
    {
     "data": {
      "image/png": "[encoded data removed]",
      "text/latex": [
       "$$0$$"
      ],
      "text/plain": [
       "0"
      ]
     },
     "metadata": {},
     "output_type": "display_data"
    },
    {
     "name": "stdout",
     "output_type": "stream",
     "text": [
      "___\n"
     ]
    }
   ],
   "source": [
    "prod.get_coeff(test_form1) ##\n",
    "prod.get_coeff(test_form2) ##\n",
    "prod.get_coeff(test_form3) ##"
   ]
  },
  {
   "cell_type": "markdown",
   "metadata": {},
   "source": [
    "Bemerkung trotz $c^* = 0$ gilt $\\Gamma_2\\neq 0$, denn es gibt noch viel mehr Koeffizienten."
   ]
  },
  {
   "cell_type": "code",
   "execution_count": 37,
   "metadata": {
    "collapsed": false
   },
   "outputs": [
    {
     "data": {
      "image/png": "[encoded data removed]",
      "text/latex": [
       "sp.binomial(9,3)  := $$84$$"
      ],
      "text/plain": [
       "sp.binomial(9,3)  := 84"
      ]
     },
     "metadata": {},
     "output_type": "display_data"
    },
    {
     "name": "stdout",
     "output_type": "stream",
     "text": [
      "___\n"
     ]
    },
    {
     "data": {
      "text/plain": [
       "(1853)dvarphi0^dvarphi1^dvarphi2  +  (708)dvarphi0^dvarphi1^dvarphidot0  +  (1935)dvarphi0^dvarphi1^dvarphidot1  +  (1690)dvarphi0^dvarphi1^dvarphidot2  +  (1721)dvarphi0^dvarphi1^dvarphiddot0  +  (1754)dvarphi0^dvarphi1^dvarphiddot1  +  (1655)dvarphi0^dvarphi1^dvarphiddot2  +  (684)dvarphi0^dvarphi2^dvarphidot0  +  (1445)dvarphi0^dvarphi2^dvarphidot1  +  (1200)dvarphi0^dvarphi2^dvarphidot2  +  (1231)dvarphi0^dvarphi2^dvarphiddot0  +  (1264)dvarphi0^dvarphi2^dvarphiddot1  +  (1165)dvarphi0^dvarphi2^dvarphiddot2  +  (652)dvarphi0^dvarphidot0^dvarphidot1  +  (644)dvarphi0^dvarphidot0^dvarphidot2  +  (654)dvarphi0^dvarphidot0^dvarphiddot0  +  (652)dvarphi0^dvarphidot0^dvarphiddot1  +  (644)dvarphi0^dvarphidot0^dvarphiddot2  +  (1282)dvarphi0^dvarphidot1^dvarphidot2  +  (1313)dvarphi0^dvarphidot1^dvarphiddot0  +  (1346)dvarphi0^dvarphidot1^dvarphiddot1  +  (1247)dvarphi0^dvarphidot1^dvarphiddot2  +  (1068)dvarphi0^dvarphidot2^dvarphiddot0  +  (1101)dvarphi0^dvarphidot2^dvarphiddot1  +  (1002)dvarphi0^dvarphidot2^dvarphiddot2  +  (1132)dvarphi0^dvarphiddot0^dvarphiddot1  +  (1033)dvarphi0^dvarphiddot0^dvarphiddot2  +  (1066)dvarphi0^dvarphiddot1^dvarphiddot2  +  (1425)dvarphi1^dvarphi2^dvarphidot0  +  (2547)dvarphi1^dvarphi2^dvarphidot1  +  (2065)dvarphi1^dvarphi2^dvarphidot2  +  (2117)dvarphi1^dvarphi2^dvarphiddot0  +  (2185)dvarphi1^dvarphi2^dvarphiddot1  +  (1996)dvarphi1^dvarphi2^dvarphiddot2  +  (1506)dvarphi1^dvarphidot0^dvarphidot1  +  (1261)dvarphi1^dvarphidot0^dvarphidot2  +  (1292)dvarphi1^dvarphidot0^dvarphiddot0  +  (1325)dvarphi1^dvarphidot0^dvarphiddot1  +  (1227)dvarphi1^dvarphidot0^dvarphiddot2  +  (2260)dvarphi1^dvarphidot1^dvarphidot2  +  (2312)dvarphi1^dvarphidot1^dvarphiddot0  +  (2380)dvarphi1^dvarphidot1^dvarphiddot1  +  (2191)dvarphi1^dvarphidot1^dvarphiddot2  +  (1830)dvarphi1^dvarphidot2^dvarphiddot0  +  (1898)dvarphi1^dvarphidot2^dvarphiddot1  +  (1709)dvarphi1^dvarphidot2^dvarphiddot2  +  (1948)dvarphi1^dvarphiddot0^dvarphiddot1  +  (1759)dvarphi1^dvarphiddot0^dvarphiddot2  +  (1827)dvarphi1^dvarphiddot1^dvarphiddot2  +  (1016)dvarphi2^dvarphidot0^dvarphidot1  +  (771)dvarphi2^dvarphidot0^dvarphidot2  +  (802)dvarphi2^dvarphidot0^dvarphiddot0  +  (835)dvarphi2^dvarphidot0^dvarphiddot1  +  (737)dvarphi2^dvarphidot0^dvarphiddot2  +  (1304)dvarphi2^dvarphidot1^dvarphidot2  +  (1356)dvarphi2^dvarphidot1^dvarphiddot0  +  (1424)dvarphi2^dvarphidot1^dvarphiddot1  +  (1235)dvarphi2^dvarphidot1^dvarphiddot2  +  (874)dvarphi2^dvarphidot2^dvarphiddot0  +  (942)dvarphi2^dvarphidot2^dvarphiddot1  +  (753)dvarphi2^dvarphidot2^dvarphiddot2  +  (992)dvarphi2^dvarphiddot0^dvarphiddot1  +  (803)dvarphi2^dvarphiddot0^dvarphiddot2  +  (871)dvarphi2^dvarphiddot1^dvarphiddot2  +  (854)dvarphidot0^dvarphidot1^dvarphidot2  +  (885)dvarphidot0^dvarphidot1^dvarphiddot0  +  (918)dvarphidot0^dvarphidot1^dvarphiddot1  +  (819)dvarphidot0^dvarphidot1^dvarphiddot2  +  (640)dvarphidot0^dvarphidot2^dvarphiddot0  +  (673)dvarphidot0^dvarphidot2^dvarphiddot1  +  (574)dvarphidot0^dvarphidot2^dvarphiddot2  +  (704)dvarphidot0^dvarphiddot0^dvarphiddot1  +  (605)dvarphidot0^dvarphiddot0^dvarphiddot2  +  (638)dvarphidot0^dvarphiddot1^dvarphiddot2  +  (1069)dvarphidot1^dvarphidot2^dvarphiddot0  +  (1137)dvarphidot1^dvarphidot2^dvarphiddot1  +  (948)dvarphidot1^dvarphidot2^dvarphiddot2  +  (1187)dvarphidot1^dvarphiddot0^dvarphiddot1  +  (998)dvarphidot1^dvarphiddot0^dvarphiddot2  +  (1066)dvarphidot1^dvarphiddot1^dvarphiddot2  +  (705)dvarphidot2^dvarphiddot0^dvarphiddot1  +  (516)dvarphidot2^dvarphiddot0^dvarphiddot2  +  (584)dvarphidot2^dvarphiddot1^dvarphiddot2  +  (632)dvarphiddot0^dvarphiddot1^dvarphiddot2"
      ]
     },
     "execution_count": 37,
     "metadata": {},
     "output_type": "execute_result"
    }
   ],
   "source": [
    "# Anzahl der Koeffizienten (3-Form über 9 Basis-1-Formen (dphi0 bis dphiddot2))\n",
    "sp.binomial(9,3) ##:\n",
    "Gamma2.co"
   ]
  }
 ],
 "metadata": {
  "kernelspec": {
   "display_name": "Python 3",
   "language": "python",
   "name": "python3"
  },
  "language_info": {
   "codemirror_mode": {
    "name": "ipython",
    "version": 3
   },
   "file_extension": ".py",
   "mimetype": "text/x-python",
   "name": "python",
   "nbconvert_exporter": "python",
   "pygments_lexer": "ipython3",
   "version": "3.4.2"
  }
 },
 "nbformat": 4,
 "nbformat_minor": 0
}
