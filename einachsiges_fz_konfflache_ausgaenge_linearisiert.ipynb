{
 "cells": [
  {
   "cell_type": "code",
   "execution_count": 1,
   "metadata": {},
   "outputs": [
    {
     "name": "stdout",
     "output_type": "stream",
     "text": [
      "Thu Sep  1 10:55:44 2022\n"
     ]
    }
   ],
   "source": [
    "import time\n",
    "print(time.ctime())"
   ]
  },
  {
   "cell_type": "markdown",
   "metadata": {},
   "source": [
    "<sub>Bei diesem IPython-Notebook handelt es sich um eine Beispiel-Rechnung als Ergänzung zur Dissertationsschrift von C. Knoll. Allgemeine Hinweise zu den Beispielen sind in der [readme.md-Datei des entsprechenden Repositoriums](https://github.com/cknoll/beispiele/blob/master/readme.md) zu finden.</sub>\n",
    "\n",
    "---"
   ]
  },
  {
   "cell_type": "markdown",
   "metadata": {},
   "source": [
    "**Betrachtetes System:** Linearisiertes Modell des abgebildeten ebenen einrädriges Fahrzeug unter dem Einfluss der Schwerkraft.<br>\n",
    "\n",
    "<img src=\"files/images/unicycle.png\">\n",
    "\n",
    "**Betrachtete Fragen**:\n",
    "* Herleitung der Modellgleichungen\n",
    "* Linearisierung um eine Ruhelage\n",
    "* Bestimmung eines konfigurationsflachen Ausgangs (des linearisierten Modells)\n",
    "\n",
    "[//]: # (custom_config_start)\n",
    "$$\n",
    "\\newcommand{\\d}{\\mathrm{d}}\n",
    "\\newcommand{\\col}{\\mathrm{col}}\n",
    "\\newcommand{\\bs}{\\boldsymbol}\n",
    "\\newcommand{\\tt}{\\boldsymbol{\\theta}}\n",
    "\\newcommand{\\Ddt}{\\left(\\tfrac{d}{dt}\\right)}\n",
    "\\newcommand{\\ddt}{\\tfrac{d}{dt}}\n",
    "$$\n",
    "[//]: # (custom_config_end)\n"
   ]
  },
  {
   "cell_type": "code",
   "execution_count": 2,
   "metadata": {},
   "outputs": [],
   "source": [
    "%load_ext ipydex.displaytools\n",
    "\n",
    "import sympy as sp\n",
    "from sympy import sin, cos, pi, Matrix\n",
    "from sympy.interactive import printing\n",
    "import pycartan as pc # perspektivisch: pycartan\n",
    "import symbtools as st\n",
    "import symbtools.modeltools as mt\n",
    "from symbtools import symbs_to_func\n",
    "\n",
    "printing.init_printing()"
   ]
  },
  {
   "cell_type": "code",
   "execution_count": 3,
   "metadata": {},
   "outputs": [
    {
     "data": {
      "image/png": "[encoded data removed]",
      "text/latex": [
       "$\\displaystyle \\left[\\begin{matrix}p_{1} & q_{1} & q_{2}\\end{matrix}\\right]$"
      ],
      "text/plain": [
       "[p₁  q₁  q₂]"
      ]
     },
     "metadata": {},
     "output_type": "display_data"
    },
    {
     "data": {
      "text/plain": [
       "---"
      ]
     },
     "metadata": {},
     "output_type": "display_data"
    },
    {
     "data": {
      "image/png": "[encoded data removed]",
      "text/latex": [
       "$\\displaystyle \\left[\\begin{matrix}\\dot{p}_{1} & \\dot{q}_{1} & \\dot{q}_{2}\\end{matrix}\\right]$"
      ],
      "text/plain": [
       "[ṗ₁  q̇₁  q̇₂]"
      ]
     },
     "metadata": {},
     "output_type": "display_data"
    },
    {
     "data": {
      "text/plain": [
       "---"
      ]
     },
     "metadata": {},
     "output_type": "display_data"
    },
    {
     "data": {
      "image/png": "[encoded data removed]",
      "text/latex": [
       "$\\displaystyle \\left[\\begin{matrix}\\ddot{p}_{1} & \\ddot{q}_{1} & \\ddot{q}_{2}\\end{matrix}\\right]$"
      ],
      "text/plain": [
       "[p̈₁  q̈₁  q̈₂]"
      ]
     },
     "metadata": {},
     "output_type": "display_data"
    },
    {
     "data": {
      "text/plain": [
       "---"
      ]
     },
     "metadata": {},
     "output_type": "display_data"
    }
   ],
   "source": [
    "np = 1\n",
    "nq = 2\n",
    "n = np + nq\n",
    "pp = st.symb_vector(\"p1:{0}\".format(np+1))\n",
    "qq = st.symb_vector(\"q1:{0}\".format(nq+1))\n",
    "\n",
    "ttheta = st.row_stack(pp, qq) ##T\n",
    "tthetad = st.time_deriv(ttheta, ttheta) ##T\n",
    "tthetadd = st.time_deriv(ttheta, ttheta, order=2) ##T\n",
    "\n",
    "st.make_global(ttheta, tthetad)"
   ]
  },
  {
   "cell_type": "code",
   "execution_count": 4,
   "metadata": {},
   "outputs": [],
   "source": [
    "params = sp.symbols('l0, l1, s1, s2, J0, J1, J2, m0, m1, m2, g')\n",
    "param_values = dict(m0=1, m1=1, m2=1, l0=1, g=10, l1=2, s1=1, s2=1, J0=0.1, J1=0.1, J2=0.1)\n",
    "\n",
    "ttau = sp.symbols(\"tau1, tau2\")\n",
    "st.make_global(params, ttau)"
   ]
  },
  {
   "cell_type": "code",
   "execution_count": 5,
   "metadata": {},
   "outputs": [],
   "source": [
    "# Geometrie: (Einheitsvektoren)\n",
    "ex = Matrix([1,0])\n",
    "ey = Matrix([0,1])\n",
    "\n",
    "# Mittelpunkt (und Schwerpunkt) des Rades\n",
    "M1 = Matrix([-l0*p1, l0]) \n",
    "\n",
    "# Schwerpunkte der Körper K2, K3\n",
    "S2 = M1 + mt.Rz(p1+q1)*ey*s1\n",
    "S3 = M1 + mt.Rz(p1+q1)*ey*l1+mt.Rz(p1+q1+q2)*ey*s2\n",
    "\n",
    "M1d = st.time_deriv(M1, ttheta)\n",
    "S2d = st.time_deriv(S2, ttheta)\n",
    "S3d = st.time_deriv(S3, ttheta)"
   ]
  },
  {
   "cell_type": "code",
   "execution_count": 6,
   "metadata": {},
   "outputs": [],
   "source": [
    "# Energie\n",
    "T_rot = ( J0*pdot1**2 + J1*(qdot1+pdot1)**2 + J2*(qdot2 + qdot1 + pdot1)**2 )/2\n",
    "T_trans = ( m0*M1d.T*M1d  +  m1*S2d.T*S2d  +  m2*S3d.T*S3d )/2\n",
    "\n",
    "T = T_rot + T_trans[0]\n",
    "\n",
    "V = m1*g*S2[1] + m2*g*S3[1]"
   ]
  },
  {
   "cell_type": "code",
   "execution_count": 7,
   "metadata": {},
   "outputs": [
    {
     "name": "stdout",
     "output_type": "stream",
     "text": [
      "CPU times: user 1min 59s, sys: 99.9 ms, total: 1min 59s\n",
      "Wall time: 1min 59s\n"
     ]
    }
   ],
   "source": [
    "%%time\n",
    "mod = mt.generate_symbolic_model(T, V, sp.Matrix(ttheta), [0, tau1, tau2])"
   ]
  },
  {
   "cell_type": "markdown",
   "metadata": {},
   "source": [
    "Nachweis, dass $\\bs \\theta \\equiv (p_1^\\circ, -p_1^\\circ, 0)^T$ eine Ruhelage für $\\bs \\tau \\equiv 0$ ist."
   ]
  },
  {
   "cell_type": "code",
   "execution_count": 8,
   "metadata": {},
   "outputs": [
    {
     "data": {
      "image/png": "[encoded data removed]",
      "text/latex": [
       "eqlb := $\\displaystyle \\left[ \\left( p_{1}, \\  p^{\\circ}_{1}\\right), \\  \\left( q_{1}, \\  - p^{\\circ}_{1}\\right), \\  \\left( q_{2}, \\  0\\right), \\  \\left( \\dot{p}_{1}, \\  0\\right), \\  \\left( \\dot{q}_{1}, \\  0\\right), \\  \\left( \\dot{q}_{2}, \\  0\\right), \\  \\left( \\ddot{p}_{1}, \\  0\\right), \\  \\left( \\ddot{q}_{1}, \\  0\\right), \\  \\left( \\ddot{q}_{2}, \\  0\\right), \\  \\left( \\tau_{1}, \\  0\\right), \\  \\left( \\tau_{2}, \\  0\\right)\\right]$"
      ],
      "text/plain": [
       "eqlb := [(p₁, p_1__\\circ), (q₁, -p_1__\\circ), (q₂, 0), (ṗ₁, 0), (q̇₁, 0), (q̇₂, 0), (\n",
       "p̈₁, 0), (q̈₁, 0), (q̈₂, 0), (τ₁, 0), (τ₂, 0)]"
      ]
     },
     "metadata": {},
     "output_type": "display_data"
    },
    {
     "data": {
      "text/plain": [
       "---"
      ]
     },
     "metadata": {},
     "output_type": "display_data"
    }
   ],
   "source": [
    "p1eql = sp.Symbol('p_1^\\circ')\n",
    "eqlb = [(p1, p1eql), (q1, -p1eql)] + st.zip0(ttheta[2:], tthetad, tthetadd, ttau) ##:"
   ]
  },
  {
   "cell_type": "code",
   "execution_count": 9,
   "metadata": {},
   "outputs": [
    {
     "data": {
      "image/png": "[encoded data removed]",
      "text/latex": [
       "$\\displaystyle \\left[\\begin{matrix}0 & 0 & 0\\end{matrix}\\right]$"
      ],
      "text/plain": [
       "[0  0  0]"
      ]
     },
     "metadata": {},
     "output_type": "display_data"
    },
    {
     "data": {
      "text/plain": [
       "---"
      ]
     },
     "metadata": {},
     "output_type": "display_data"
    }
   ],
   "source": [
    "mod.eqns.subs(eqlb) ##T"
   ]
  },
  {
   "cell_type": "markdown",
   "metadata": {},
   "source": [
    "⇒ Bewegungsgleichungen sind erfüllt.\n",
    "---\n",
    "\n",
    "Implizites Modell $\\bs F(\\tt)$ aufstellen (nur die ersten $n_{\\bs p}$ Gleichungen berücksichtigen).\n"
   ]
  },
  {
   "cell_type": "code",
   "execution_count": 10,
   "metadata": {},
   "outputs": [],
   "source": [
    "FF = mod.eqns[:np, 0]"
   ]
  },
  {
   "cell_type": "code",
   "execution_count": 11,
   "metadata": {},
   "outputs": [
    {
     "data": {
      "image/png": "[encoded data removed]",
      "text/latex": [
       "P0 := $\\displaystyle \\left[\\begin{matrix}- g m_{1} s_{1} - g m_{2} \\left(l_{1} + s_{2}\\right) & - g m_{1} s_{1} - g m_{2} \\left(l_{1} + s_{2}\\right) & - g m_{2} s_{2}\\end{matrix}\\right]$"
      ],
      "text/plain": [
       "P0 := [-g⋅m₁⋅s₁ - g⋅m₂⋅(l₁ + s₂)  -g⋅m₁⋅s₁ - g⋅m₂⋅(l₁ + s₂)  -g⋅m₂⋅s₂]"
      ]
     },
     "metadata": {},
     "output_type": "display_data"
    },
    {
     "data": {
      "text/plain": [
       "---"
      ]
     },
     "metadata": {},
     "output_type": "display_data"
    },
    {
     "data": {
      "image/png": "[encoded data removed]",
      "text/latex": [
       "P1 := $\\displaystyle \\left[\\begin{matrix}0 & 0 & 0\\end{matrix}\\right]$"
      ],
      "text/plain": [
       "P1 := [0  0  0]"
      ]
     },
     "metadata": {},
     "output_type": "display_data"
    },
    {
     "data": {
      "text/plain": [
       "---"
      ]
     },
     "metadata": {},
     "output_type": "display_data"
    },
    {
     "data": {
      "image/png": "[encoded data removed]",
      "text/latex": [
       "P2 := $\\displaystyle \\left[\\begin{matrix}J_{0} + J_{1} + J_{2} + l_{0}^{2} m_{0} + m_{1} \\left(l_{0} + s_{1}\\right)^{2} + m_{2} \\left(l_{0} + l_{1} + s_{2}\\right)^{2} & J_{1} + J_{2} + m_{1} s_{1} \\left(l_{0} + s_{1}\\right) + m_{2} \\left(l_{1} + s_{2}\\right) \\left(l_{0} + l_{1} + s_{2}\\right) & J_{2} + m_{2} s_{2} \\left(l_{0} + l_{1} + s_{2}\\right)\\end{matrix}\\right]$"
      ],
      "text/plain": [
       "P2 := ⎡                 2                  2                    2                   \n",
       "⎣J₀ + J₁ + J₂ + l₀ ⋅m₀ + m₁⋅(l₀ + s₁)  + m₂⋅(l₀ + l₁ + s₂)   J₁ + J₂ + m₁⋅s₁⋅(\n",
       "\n",
       "                                                                 ⎤\n",
       "l₀ + s₁) + m₂⋅(l₁ + s₂)⋅(l₀ + l₁ + s₂)  J₂ + m₂⋅s₂⋅(l₀ + l₁ + s₂)⎦"
      ]
     },
     "metadata": {},
     "output_type": "display_data"
    },
    {
     "data": {
      "text/plain": [
       "---"
      ]
     },
     "metadata": {},
     "output_type": "display_data"
    }
   ],
   "source": [
    "P0 = FF.jacobian(ttheta).subs(eqlb) ##:\n",
    "P1 = FF.jacobian(tthetad).subs(eqlb) ##:\n",
    "P2 = FF.jacobian(tthetadd).subs(eqlb).smplf ##:"
   ]
  },
  {
   "cell_type": "code",
   "execution_count": 12,
   "metadata": {},
   "outputs": [
    {
     "data": {
      "image/png": "[encoded data removed]",
      "text/latex": [
       "PFa := $\\displaystyle \\left[\\begin{matrix}- g m_{1} s_{1} - g m_{2} \\left(l_{1} + s_{2}\\right) + s^{2} \\left(J_{0} + J_{1} + J_{2} + l_{0}^{2} m_{0} + m_{1} \\left(l_{0} + s_{1}\\right)^{2} + m_{2} \\left(l_{0} + l_{1} + s_{2}\\right)^{2}\\right) & - g m_{1} s_{1} - g m_{2} \\left(l_{1} + s_{2}\\right) + s^{2} \\left(J_{1} + J_{2} + m_{1} s_{1} \\left(l_{0} + s_{1}\\right) + m_{2} \\left(l_{1} + s_{2}\\right) \\left(l_{0} + l_{1} + s_{2}\\right)\\right) & - g m_{2} s_{2} + s^{2} \\left(J_{2} + m_{2} s_{2} \\left(l_{0} + l_{1} + s_{2}\\right)\\right)\\end{matrix}\\right]$"
      ],
      "text/plain": [
       "PFa := ⎡                             2 ⎛                 2                  2        \n",
       "⎣-g⋅m₁⋅s₁ - g⋅m₂⋅(l₁ + s₂) + s ⋅⎝J₀ + J₁ + J₂ + l₀ ⋅m₀ + m₁⋅(l₀ + s₁)  + m₂⋅(l\n",
       "\n",
       "            2⎞                               2                                \n",
       "₀ + l₁ + s₂) ⎠  -g⋅m₁⋅s₁ - g⋅m₂⋅(l₁ + s₂) + s ⋅(J₁ + J₂ + m₁⋅s₁⋅(l₀ + s₁) + m₂\n",
       "\n",
       "                                        2                            ⎤\n",
       "⋅(l₁ + s₂)⋅(l₀ + l₁ + s₂))  -g⋅m₂⋅s₂ + s ⋅(J₂ + m₂⋅s₂⋅(l₀ + l₁ + s₂))⎦"
      ]
     },
     "metadata": {},
     "output_type": "display_data"
    },
    {
     "data": {
      "text/plain": [
       "---"
      ]
     },
     "metadata": {},
     "output_type": "display_data"
    },
    {
     "data": {
      "image/png": "[encoded data removed]",
      "text/latex": [
       "PF := $\\displaystyle \\left[\\begin{matrix}21.3 s^{2} - 40 & 14.2 s^{2} - 40 & 4.1 s^{2} - 10\\end{matrix}\\right]$"
      ],
      "text/plain": [
       "PF := ⎡      2             2            2     ⎤\n",
       "⎣21.3⋅s  - 40  14.2⋅s  - 40  4.1⋅s  - 10⎦"
      ]
     },
     "metadata": {},
     "output_type": "display_data"
    },
    {
     "data": {
      "text/plain": [
       "---"
      ]
     },
     "metadata": {},
     "output_type": "display_data"
    }
   ],
   "source": [
    "s = sp.Symbol('s')\n",
    "PFa = P0 + P1*s + P2*s**2##:\n",
    "\n",
    "# für bessere Übersicht: Parameterwerte einsetzen\n",
    "PF = PFa.subs(param_values) ##:"
   ]
  },
  {
   "cell_type": "code",
   "execution_count": 13,
   "metadata": {},
   "outputs": [
    {
     "data": {
      "image/png": "[encoded data removed]",
      "text/latex": [
       "PQ_1 := $\\displaystyle \\left[\\begin{matrix}21.3 s^{2} - 40 & 14.2 s^{2} - 40 & 4.1 s^{2} - 10\\\\1 & -1 & 1\\end{matrix}\\right]$"
      ],
      "text/plain": [
       "PQ_1 := ⎡      2             2            2     ⎤\n",
       "⎢21.3⋅s  - 40  14.2⋅s  - 40  4.1⋅s  - 10⎥\n",
       "⎢                                       ⎥\n",
       "⎣     1             -1            1     ⎦"
      ]
     },
     "metadata": {},
     "output_type": "display_data"
    },
    {
     "data": {
      "text/plain": [
       "---"
      ]
     },
     "metadata": {},
     "output_type": "display_data"
    }
   ],
   "source": [
    "# 1. Ansatz-Zeile für die unimodulare Ergänzung\n",
    "Q_row1 = sp.Matrix([1, -1, 1]).T\n",
    "PQ_1 = st.row_stack(PF, Q_row1) ##:"
   ]
  },
  {
   "cell_type": "markdown",
   "metadata": {},
   "source": [
    "Hautus Kriterium überprüfen: Für alle $s \\in \\mathbb{C}$ muss es mindestens einen nichtverschwindenden Minor geben."
   ]
  },
  {
   "cell_type": "code",
   "execution_count": 14,
   "metadata": {},
   "outputs": [
    {
     "data": {
      "image/png": "[encoded data removed]",
      "text/latex": [
       "$\\displaystyle \\left[ 80 - 35.5 s^{2}, \\  17.2 s^{2} - 30, \\  18.3 s^{2} - 50\\right]$"
      ],
      "text/plain": [
       "⎡           2        2             2     ⎤\n",
       "⎣80 - 35.5⋅s , 17.2⋅s  - 30, 18.3⋅s  - 50⎦"
      ]
     },
     "execution_count": 14,
     "metadata": {},
     "output_type": "execute_result"
    }
   ],
   "source": [
    "st.all_k_minors(PQ_1, 2)"
   ]
  },
  {
   "cell_type": "markdown",
   "metadata": {},
   "source": [
    "⇒ Hautus-Kriterium erfüllt."
   ]
  },
  {
   "cell_type": "code",
   "execution_count": 15,
   "metadata": {},
   "outputs": [
    {
     "data": {
      "image/png": "[encoded data removed]",
      "text/latex": [
       "PQ := $\\displaystyle \\left[\\begin{matrix}21.3 s^{2} - 40 & 14.2 s^{2} - 40 & 4.1 s^{2} - 10\\\\1 & -1 & 1\\\\a_{1} & a_{2} & a_{3}\\end{matrix}\\right]$"
      ],
      "text/plain": [
       "PQ := ⎡      2             2            2     ⎤\n",
       "⎢21.3⋅s  - 40  14.2⋅s  - 40  4.1⋅s  - 10⎥\n",
       "⎢                                       ⎥\n",
       "⎢     1             -1            1     ⎥\n",
       "⎢                                       ⎥\n",
       "⎣     a₁            a₂           a₃     ⎦"
      ]
     },
     "metadata": {},
     "output_type": "display_data"
    },
    {
     "data": {
      "text/plain": [
       "---"
      ]
     },
     "metadata": {},
     "output_type": "display_data"
    }
   ],
   "source": [
    "# 2. Ansatz-Zeile für die unimodulare Ergänzung\n",
    "Q_row2 = st.symb_vector('a1, a2, a3').T\n",
    "PQ = st.row_stack(PF, Q_row1, Q_row2) ##:"
   ]
  },
  {
   "cell_type": "code",
   "execution_count": 16,
   "metadata": {},
   "outputs": [],
   "source": [
    "d = sp.Symbol('d')"
   ]
  },
  {
   "cell_type": "code",
   "execution_count": 17,
   "metadata": {},
   "outputs": [
    {
     "data": {
      "image/png": "[encoded data removed]",
      "text/latex": [
       "det := $\\displaystyle 18.3 a_{1} s^{2} - 50 a_{1} - 17.2 a_{2} s^{2} + 30 a_{2} - 35.5 a_{3} s^{2} + 80 a_{3}$"
      ],
      "text/plain": [
       "det :=          2                    2                    2        \n",
       "18.3⋅a₁⋅s  - 50⋅a₁ - 17.2⋅a₂⋅s  + 30⋅a₂ - 35.5⋅a₃⋅s  + 80⋅a₃"
      ]
     },
     "metadata": {},
     "output_type": "display_data"
    },
    {
     "data": {
      "text/plain": [
       "---"
      ]
     },
     "metadata": {},
     "output_type": "display_data"
    },
    {
     "data": {
      "image/png": "[encoded data removed]",
      "text/latex": [
       "coeffs := $\\displaystyle \\left[ 18.3 a_{1} - 17.2 a_{2} - 35.5 a_{3}, \\  0, \\  - 50 a_{1} + 30 a_{2} + 80 a_{3} - d\\right]$"
      ],
      "text/plain": [
       "coeffs := [18.3⋅a₁ - 17.2⋅a₂ - 35.5⋅a₃, 0, -50⋅a₁ + 30⋅a₂ + 80⋅a₃ - d]"
      ]
     },
     "metadata": {},
     "output_type": "display_data"
    },
    {
     "data": {
      "text/plain": [
       "---"
      ]
     },
     "metadata": {},
     "output_type": "display_data"
    },
    {
     "data": {
      "image/png": "[encoded data removed]",
      "text/latex": [
       "sol := $\\displaystyle \\left\\{ a_{1} : a_{3} - 0.0553054662379421 d, \\  a_{2} : - a_{3} - 0.0588424437299035 d\\right\\}$"
      ],
      "text/plain": [
       "sol := {a₁: a₃ - 0.0553054662379421⋅d, a₂: -a₃ - 0.0588424437299035⋅d}"
      ]
     },
     "metadata": {},
     "output_type": "display_data"
    },
    {
     "data": {
      "text/plain": [
       "---"
      ]
     },
     "metadata": {},
     "output_type": "display_data"
    }
   ],
   "source": [
    "det = PQ.det()  ##:\n",
    "coeffs = st.poly_coeffs(det- d, s)##:\n",
    "sol = sp.solve(coeffs, Q_row2)##:"
   ]
  },
  {
   "cell_type": "code",
   "execution_count": 18,
   "metadata": {},
   "outputs": [
    {
     "data": {
      "image/png": "[encoded data removed]",
      "text/latex": [
       "$\\displaystyle \\left[\\begin{matrix}1.72 & 1.83 & 0\\end{matrix}\\right]$"
      ],
      "text/plain": [
       "[1.72  1.83  0]"
      ]
     },
     "execution_count": 18,
     "metadata": {},
     "output_type": "execute_result"
    }
   ],
   "source": [
    "st.clean_numbers(Q_row2.subs(sol)) ##\n",
    "\n",
    "Q_row2.subs(sol).subs([(d, -31.1), ('a3', 0)]) ##"
   ]
  },
  {
   "cell_type": "markdown",
   "metadata": {},
   "source": [
    "Mit $d=-31.1$ erhält man zwei überschaubare Dezimalbrüche. Der Parameter $a_3$  kann beliebig gewählt werden und wird deshalb hier auf Null gesetzt.\n",
    "\n",
    "---\n",
    "\n",
    "Andere Wahl der ersten Ergänzungszeile (vgl. auch [Knoll, Röbenack, 2015]: (\"Konfigurationsflachheit linearer mechanischer Systeme\")):\n"
   ]
  },
  {
   "cell_type": "code",
   "execution_count": 19,
   "metadata": {},
   "outputs": [
    {
     "data": {
      "image/png": "[encoded data removed]",
      "text/latex": [
       "$\\displaystyle \\left[\\begin{matrix}21.3 s^{2} - 40 & 14.2 s^{2} - 40 & 4.1 s^{2} - 10\\\\0 & 1 & 0\\\\a_{1} & a_{2} & a_{3}\\end{matrix}\\right]$"
      ],
      "text/plain": [
       "⎡      2             2            2     ⎤\n",
       "⎢21.3⋅s  - 40  14.2⋅s  - 40  4.1⋅s  - 10⎥\n",
       "⎢                                       ⎥\n",
       "⎢     0             1             0     ⎥\n",
       "⎢                                       ⎥\n",
       "⎣     a₁            a₂           a₃     ⎦"
      ]
     },
     "execution_count": 19,
     "metadata": {},
     "output_type": "execute_result"
    }
   ],
   "source": [
    "PQ[1,:] = sp.Matrix([0,  1, 0]).T\n",
    "PQ"
   ]
  },
  {
   "cell_type": "code",
   "execution_count": 20,
   "metadata": {},
   "outputs": [
    {
     "data": {
      "image/png": "[encoded data removed]",
      "text/latex": [
       "det := $\\displaystyle - 4.1 a_{1} s^{2} + 10 a_{1} + 21.3 a_{3} s^{2} - 40 a_{3}$"
      ],
      "text/plain": [
       "det :=           2                    2        \n",
       "- 4.1⋅a₁⋅s  + 10⋅a₁ + 21.3⋅a₃⋅s  - 40⋅a₃"
      ]
     },
     "metadata": {},
     "output_type": "display_data"
    },
    {
     "data": {
      "text/plain": [
       "---"
      ]
     },
     "metadata": {},
     "output_type": "display_data"
    },
    {
     "data": {
      "image/png": "[encoded data removed]",
      "text/latex": [
       "coeffs := $\\displaystyle \\left[ - 4.1 a_{1} + 21.3 a_{3}, \\  0, \\  10 a_{1} - 40 a_{3} - d\\right]$"
      ],
      "text/plain": [
       "coeffs := [-4.1⋅a₁ + 21.3⋅a₃, 0, 10⋅a₁ - 40⋅a₃ - d]"
      ]
     },
     "metadata": {},
     "output_type": "display_data"
    },
    {
     "data": {
      "text/plain": [
       "---"
      ]
     },
     "metadata": {},
     "output_type": "display_data"
    },
    {
     "data": {
      "image/png": "[encoded data removed]",
      "text/latex": [
       "sol := $\\displaystyle \\left\\{ a_{1} : 0.43469387755102 d, \\  a_{3} : 0.0836734693877551 d\\right\\}$"
      ],
      "text/plain": [
       "sol := {a₁: 0.43469387755102⋅d, a₃: 0.0836734693877551⋅d}"
      ]
     },
     "metadata": {},
     "output_type": "display_data"
    },
    {
     "data": {
      "text/plain": [
       "---"
      ]
     },
     "metadata": {},
     "output_type": "display_data"
    },
    {
     "data": {
      "image/png": "[encoded data removed]",
      "text/latex": [
       "$\\displaystyle \\left[\\begin{matrix}\\frac{213 d}{490} & a_{2} & \\frac{41 d}{490}\\end{matrix}\\right]$"
      ],
      "text/plain": [
       "⎡213⋅d      41⋅d⎤\n",
       "⎢─────  a₂  ────⎥\n",
       "⎣ 490       490 ⎦"
      ]
     },
     "execution_count": 20,
     "metadata": {},
     "output_type": "execute_result"
    }
   ],
   "source": [
    "det = PQ.det()  ##:\n",
    "coeffs = st.poly_coeffs(det- d, s)##:\n",
    "sol = sp.solve(coeffs, Q_row2)##:\n",
    "st.clean_numbers(Q_row2.subs(sol)) ##"
   ]
  },
  {
   "cell_type": "code",
   "execution_count": 21,
   "metadata": {},
   "outputs": [
    {
     "data": {
      "image/png": "[encoded data removed]",
      "text/latex": [
       "$\\displaystyle \\left[\\begin{matrix}2.13 & 0 & 0.41\\end{matrix}\\right]$"
      ],
      "text/plain": [
       "[2.13  0  0.41]"
      ]
     },
     "execution_count": 21,
     "metadata": {},
     "output_type": "execute_result"
    }
   ],
   "source": [
    "st.clean_numbers(Q_row2.subs(sol)).subs([(d, 4.9), ('a2', 0)])"
   ]
  }
 ],
 "metadata": {
  "kernelspec": {
   "display_name": "Python 3",
   "language": "python",
   "name": "python3"
  },
  "language_info": {
   "codemirror_mode": {
    "name": "ipython",
    "version": 3
   },
   "file_extension": ".py",
   "mimetype": "text/x-python",
   "name": "python",
   "nbconvert_exporter": "python",
   "pygments_lexer": "ipython3",
   "version": "3.8.6"
  }
 },
 "nbformat": 4,
 "nbformat_minor": 1
}
