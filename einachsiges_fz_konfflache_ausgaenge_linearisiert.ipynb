{
 "metadata": {
  "name": "",
  "signature": "sha256:f1f1d16988295f8bf42ffaacffc5ce979c6365509a69b8e78fb7e576a36bb413"
 },
 "nbformat": 3,
 "nbformat_minor": 0,
 "worksheets": [
  {
   "cells": [
    {
     "cell_type": "code",
     "collapsed": false,
     "input": [
      "import time\n",
      "print time.ctime()"
     ],
     "language": "python",
     "metadata": {},
     "outputs": [
      {
       "output_type": "stream",
       "stream": "stdout",
       "text": [
        "Mon Jun  6 10:38:46 2016\n"
       ]
      }
     ],
     "prompt_number": 1
    },
    {
     "cell_type": "markdown",
     "metadata": {},
     "source": [
      "<sub>Bei diesem IPython-Notebook handelt es sich um eine Beispiel-Rechnung als Erg\u00e4nzung zur Dissertationsschrift von C. Knoll. Allgemeine Hinweise zu den Beispielen sind in der [readme.md-Datei des entsprechenden Repositoriums](https://github.com/cknoll/beispiele/blob/master/readme.md) zu finden.</sub>\n",
      "\n",
      "---"
     ]
    },
    {
     "cell_type": "markdown",
     "metadata": {},
     "source": [
      "**Betrachtetes System:** Linearisiertes Modell des abgebildeten ebenen einr\u00e4driges Fahrzeug unter dem Einfluss der Schwerkraft.<br>\n",
      "\n",
      "<img src=\"files/images/unicycle.png\">\n",
      "\n",
      "**Betrachtete Fragen**:\n",
      "* Herleitung der Modellgleichungen\n",
      "* Linearisierung um eine Ruhelage\n",
      "* Bestimmung eines konfigurationsflachen Ausgangs (des linearisierten Modells)\n",
      "\n",
      "[//]: # (custom_config_start)\n",
      "$$\n",
      "\\newcommand{\\d}{\\mathrm{d}}\n",
      "\\newcommand{\\col}{\\mathrm{col}}\n",
      "\\newcommand{\\bs}{\\boldsymbol}\n",
      "\\newcommand{\\tt}{\\boldsymbol{\\theta}}\n",
      "\\newcommand{\\Ddt}{\\left(\\tfrac{d}{dt}\\right)}\n",
      "\\newcommand{\\ddt}{\\tfrac{d}{dt}}\n",
      "$$\n",
      "[//]: # (custom_config_end)\n"
     ]
    },
    {
     "cell_type": "code",
     "collapsed": false,
     "input": [
      "%load_ext displaytools\n",
      "\n",
      "import sympy as sp\n",
      "from sympy import sin, cos, pi, Matrix\n",
      "from sympy.interactive import printing\n",
      "import pycartan as pc # perspektivisch: pycartan\n",
      "import symbtools as st\n",
      "import symbtools.modeltools as mt\n",
      "from symbtools import symbs_to_func\n",
      "\n",
      "printing.init_printing()"
     ],
     "language": "python",
     "metadata": {},
     "outputs": [],
     "prompt_number": 2
    },
    {
     "cell_type": "code",
     "collapsed": false,
     "input": [
      "np = 1\n",
      "nq = 2\n",
      "n = np + nq\n",
      "pp = st.symb_vector(\"p1:{0}\".format(np+1))\n",
      "qq = st.symb_vector(\"q1:{0}\".format(nq+1))\n",
      "\n",
      "ttheta = st.row_stack(pp, qq) ##T\n",
      "tthetad = st.time_deriv(ttheta, ttheta) ##T\n",
      "tthetadd = st.time_deriv(ttheta, ttheta, order=2) ##T\n",
      "\n",
      "st.make_global(ttheta, tthetad)"
     ],
     "language": "python",
     "metadata": {},
     "outputs": [
      {
       "latex": [
        "$$\\left[\\begin{matrix}p_{1} & q_{1} & q_{2}\\end{matrix}\\right]$$"
       ],
       "metadata": {},
       "output_type": "display_data",
       "png": "[encoded data removed]",
       "text": [
        "[p\u2081  q\u2081  q\u2082]"
       ]
      },
      {
       "output_type": "stream",
       "stream": "stdout",
       "text": [
        "---\n"
       ]
      },
      {
       "latex": [
        "$$\\left[\\begin{matrix}\\dot{p}_{1} & \\dot{q}_{1} & \\dot{q}_{2}\\end{matrix}\\right]$$"
       ],
       "metadata": {},
       "output_type": "display_data",
       "png": "[encoded data removed]",
       "text": [
        "[p\u0307\u2081  q\u0307\u2081  q\u0307\u2082]"
       ]
      },
      {
       "output_type": "stream",
       "stream": "stdout",
       "text": [
        "---\n"
       ]
      },
      {
       "latex": [
        "$$\\left[\\begin{matrix}\\ddot{p}_{1} & \\ddot{q}_{1} & \\ddot{q}_{2}\\end{matrix}\\right]$$"
       ],
       "metadata": {},
       "output_type": "display_data",
       "png": "[encoded data removed]",
       "text": [
        "[p\u0308\u2081  q\u0308\u2081  q\u0308\u2082]"
       ]
      },
      {
       "output_type": "stream",
       "stream": "stdout",
       "text": [
        "---\n"
       ]
      }
     ],
     "prompt_number": 3
    },
    {
     "cell_type": "code",
     "collapsed": false,
     "input": [
      "params = sp.symbols('l0, l1, s1, s2, J0, J1, J2, m0, m1, m2, g')\n",
      "param_values = dict(m0=1, m1=1, m2=1, l0=1, g=10, l1=2, s1=1, s2=1, J0=0.1, J1=0.1, J2=0.1)\n",
      "\n",
      "ttau = sp.symbols(\"tau1, tau2\")\n",
      "st.make_global(params, ttau)"
     ],
     "language": "python",
     "metadata": {},
     "outputs": [],
     "prompt_number": 4
    },
    {
     "cell_type": "code",
     "collapsed": false,
     "input": [
      "# Geometrie: (Einheitsvektoren)\n",
      "ex = Matrix([1,0])\n",
      "ey = Matrix([0,1])\n",
      "\n",
      "# Mittelpunkt (und Schwerpunkt) des Rades\n",
      "M1 = Matrix([-l0*p1, l0]) \n",
      "\n",
      "# Schwerpunkte der K\u00f6rper K2, K3\n",
      "S2 = M1 + mt.Rz(p1+q1)*ey*s1\n",
      "S3 = M1 + mt.Rz(p1+q1)*ey*l1+mt.Rz(p1+q1+q2)*ey*s2\n",
      "\n",
      "M1d = st.time_deriv(M1, ttheta)\n",
      "S2d = st.time_deriv(S2, ttheta)\n",
      "S3d = st.time_deriv(S3, ttheta)"
     ],
     "language": "python",
     "metadata": {},
     "outputs": [],
     "prompt_number": 5
    },
    {
     "cell_type": "code",
     "collapsed": false,
     "input": [
      "# Energie\n",
      "T_rot = ( J0*pdot1**2 + J1*(qdot1+pdot1)**2 + J2*(qdot2 + qdot1 + pdot1)**2 )/2\n",
      "T_trans = ( m0*M1d.T*M1d  +  m1*S2d.T*S2d  +  m2*S3d.T*S3d )/2\n",
      "\n",
      "T = T_rot + T_trans[0]\n",
      "\n",
      "V = m1*g*S2[1] + m2*g*S3[1]"
     ],
     "language": "python",
     "metadata": {},
     "outputs": [],
     "prompt_number": 6
    },
    {
     "cell_type": "code",
     "collapsed": false,
     "input": [
      "mod = mt.generate_symbolic_model(T, V, sp.Matrix(ttheta), [0, tau1, tau2])"
     ],
     "language": "python",
     "metadata": {},
     "outputs": [],
     "prompt_number": 7
    },
    {
     "cell_type": "markdown",
     "metadata": {},
     "source": [
      "Nachweis, dass $\\bs \\theta \\equiv (p_1^\\circ, -p_1^\\circ, 0)^T$ eine Ruhelage f\u00fcr $\\bs \\tau \\equiv 0$ ist."
     ]
    },
    {
     "cell_type": "code",
     "collapsed": false,
     "input": [
      "p1eql = sp.Symbol('p_1^\\circ')\n",
      "eqlb = [(p1, p1eql), (q1, -p1eql)] + st.zip0(ttheta[2:], tthetad, tthetadd, ttau) ##:"
     ],
     "language": "python",
     "metadata": {},
     "outputs": [
      {
       "latex": [
        "eqlb := $$\\left [ \\left ( p_{1}, \\quad p^{\\circ}_{1}\\right ), \\quad \\left ( q_{1}, \\quad - p^{\\circ}_{1}\\right ), \\quad \\left ( q_{2}, \\quad 0\\right ), \\quad \\left ( \\dot{p}_{1}, \\quad 0\\right ), \\quad \\left ( \\dot{q}_{1}, \\quad 0\\right ), \\quad \\left ( \\dot{q}_{2}, \\quad 0\\right ), \\quad \\left ( \\ddot{p}_{1}, \\quad 0\\right ), \\quad \\left ( \\ddot{q}_{1}, \\quad 0\\right ), \\quad \\left ( \\ddot{q}_{2}, \\quad 0\\right ), \\quad \\left ( \\tau_{1}, \\quad 0\\right ), \\quad \\left ( \\tau_{2}, \\quad 0\\right )\\right ]$$"
       ],
       "metadata": {},
       "output_type": "display_data",
       "png": "[encoded data removed]",
       "text": [
        "eqlb := [(p\u2081, p_1__\\circ), (q\u2081, -p_1__\\circ), (q\u2082, 0), (p\u0307\u2081, 0), (q\u0307\u2081, 0), (q\u0307\u2082, 0), (\n",
        "p\u0308\u2081, 0), (q\u0308\u2081, 0), (q\u0308\u2082, 0), (\u03c4\u2081, 0), (\u03c4\u2082, 0)]"
       ]
      },
      {
       "output_type": "stream",
       "stream": "stdout",
       "text": [
        "---\n"
       ]
      }
     ],
     "prompt_number": 8
    },
    {
     "cell_type": "code",
     "collapsed": false,
     "input": [
      "mod.eqns.subs(eqlb) ##T"
     ],
     "language": "python",
     "metadata": {},
     "outputs": [
      {
       "latex": [
        "$$\\left[\\begin{matrix}0 & 0 & 0\\end{matrix}\\right]$$"
       ],
       "metadata": {},
       "output_type": "display_data",
       "png": "[encoded data removed]",
       "text": [
        "[0  0  0]"
       ]
      },
      {
       "output_type": "stream",
       "stream": "stdout",
       "text": [
        "___\n"
       ]
      }
     ],
     "prompt_number": 9
    },
    {
     "cell_type": "markdown",
     "metadata": {},
     "source": [
      "\u21d2 Bewegungsgleichungen sind erf\u00fcllt.\n",
      "---\n",
      "\n",
      "Implizites Modell $\\bs F(\\tt)$ aufstellen (nur die ersten $n_{\\bs p}$ Gleichungen ber\u00fccksichtigen).\n"
     ]
    },
    {
     "cell_type": "code",
     "collapsed": false,
     "input": [
      "FF = mod.eqns[:np, 0]"
     ],
     "language": "python",
     "metadata": {},
     "outputs": [],
     "prompt_number": 10
    },
    {
     "cell_type": "code",
     "collapsed": false,
     "input": [
      "P0 = FF.jacobian(ttheta).subs(eqlb) ##:\n",
      "P1 = FF.jacobian(tthetad).subs(eqlb) ##:\n",
      "P2 = FF.jacobian(tthetadd).subs(eqlb).smplf ##:"
     ],
     "language": "python",
     "metadata": {},
     "outputs": [
      {
       "latex": [
        "P0 := $$\\left[\\begin{matrix}- g m_{1} s_{1} - g m_{2} \\left(l_{1} + s_{2}\\right) & - g m_{1} s_{1} - g m_{2} \\left(l_{1} + s_{2}\\right) & - g m_{2} s_{2}\\end{matrix}\\right]$$"
       ],
       "metadata": {},
       "output_type": "display_data",
       "png": "[encoded data removed]",
       "text": [
        "P0 := [-g\u22c5m\u2081\u22c5s\u2081 - g\u22c5m\u2082\u22c5(l\u2081 + s\u2082)  -g\u22c5m\u2081\u22c5s\u2081 - g\u22c5m\u2082\u22c5(l\u2081 + s\u2082)  -g\u22c5m\u2082\u22c5s\u2082]"
       ]
      },
      {
       "output_type": "stream",
       "stream": "stdout",
       "text": [
        "---\n"
       ]
      },
      {
       "latex": [
        "P1 := $$\\left[\\begin{matrix}0 & 0 & 0\\end{matrix}\\right]$$"
       ],
       "metadata": {},
       "output_type": "display_data",
       "png": "[encoded data removed]",
       "text": [
        "P1 := [0  0  0]"
       ]
      },
      {
       "output_type": "stream",
       "stream": "stdout",
       "text": [
        "---\n"
       ]
      },
      {
       "latex": [
        "P2 := $$\\left[\\begin{matrix}J_{0} + J_{1} + J_{2} + l_{0}^{2} m_{0} + m_{1} \\left(l_{0} + s_{1}\\right)^{2} + m_{2} \\left(l_{0} + l_{1} + s_{2}\\right)^{2} & J_{1} + J_{2} + m_{1} s_{1} \\left(l_{0} + s_{1}\\right) + m_{2} \\left(l_{1} + s_{2}\\right) \\left(l_{0} + l_{1} + s_{2}\\right) & J_{2} + m_{2} s_{2} \\left(l_{0} + l_{1} + s_{2}\\right)\\end{matrix}\\right]$$"
       ],
       "metadata": {},
       "output_type": "display_data",
       "png": "[encoded data removed]",
       "text": [
        "P2 := \u23a1                 2                  2                    2                   \n",
        "\u23a3J\u2080 + J\u2081 + J\u2082 + l\u2080 \u22c5m\u2080 + m\u2081\u22c5(l\u2080 + s\u2081)  + m\u2082\u22c5(l\u2080 + l\u2081 + s\u2082)   J\u2081 + J\u2082 + m\u2081\u22c5s\u2081\u22c5(\n",
        "\n",
        "                                                                 \u23a4\n",
        "l\u2080 + s\u2081) + m\u2082\u22c5(l\u2081 + s\u2082)\u22c5(l\u2080 + l\u2081 + s\u2082)  J\u2082 + m\u2082\u22c5s\u2082\u22c5(l\u2080 + l\u2081 + s\u2082)\u23a6"
       ]
      },
      {
       "output_type": "stream",
       "stream": "stdout",
       "text": [
        "---\n"
       ]
      }
     ],
     "prompt_number": 11
    },
    {
     "cell_type": "code",
     "collapsed": false,
     "input": [
      "s = sp.Symbol('s')\n",
      "PFa = P0 + P1*s + P2*s**2##:\n",
      "\n",
      "# f\u00fcr bessere \u00dcbersicht: Parameterwerte einsetzen\n",
      "PF = PFa.subs(param_values) ##:"
     ],
     "language": "python",
     "metadata": {},
     "outputs": [
      {
       "latex": [
        "PFa := $$\\left[\\begin{matrix}- g m_{1} s_{1} - g m_{2} \\left(l_{1} + s_{2}\\right) + s^{2} \\left(J_{0} + J_{1} + J_{2} + l_{0}^{2} m_{0} + m_{1} \\left(l_{0} + s_{1}\\right)^{2} + m_{2} \\left(l_{0} + l_{1} + s_{2}\\right)^{2}\\right) & - g m_{1} s_{1} - g m_{2} \\left(l_{1} + s_{2}\\right) + s^{2} \\left(J_{1} + J_{2} + m_{1} s_{1} \\left(l_{0} + s_{1}\\right) + m_{2} \\left(l_{1} + s_{2}\\right) \\left(l_{0} + l_{1} + s_{2}\\right)\\right) & - g m_{2} s_{2} + s^{2} \\left(J_{2} + m_{2} s_{2} \\left(l_{0} + l_{1} + s_{2}\\right)\\right)\\end{matrix}\\right]$$"
       ],
       "metadata": {},
       "output_type": "display_data",
       "png": "[encoded data removed]",
       "text": [
        "PFa := \u23a1                             2 \u239b                 2                  2        \n",
        "\u23a3-g\u22c5m\u2081\u22c5s\u2081 - g\u22c5m\u2082\u22c5(l\u2081 + s\u2082) + s \u22c5\u239dJ\u2080 + J\u2081 + J\u2082 + l\u2080 \u22c5m\u2080 + m\u2081\u22c5(l\u2080 + s\u2081)  + m\u2082\u22c5(l\n",
        "\n",
        "            2\u239e                               2                                \n",
        "\u2080 + l\u2081 + s\u2082) \u23a0  -g\u22c5m\u2081\u22c5s\u2081 - g\u22c5m\u2082\u22c5(l\u2081 + s\u2082) + s \u22c5(J\u2081 + J\u2082 + m\u2081\u22c5s\u2081\u22c5(l\u2080 + s\u2081) + m\u2082\n",
        "\n",
        "                                        2                            \u23a4\n",
        "\u22c5(l\u2081 + s\u2082)\u22c5(l\u2080 + l\u2081 + s\u2082))  -g\u22c5m\u2082\u22c5s\u2082 + s \u22c5(J\u2082 + m\u2082\u22c5s\u2082\u22c5(l\u2080 + l\u2081 + s\u2082))\u23a6"
       ]
      },
      {
       "output_type": "stream",
       "stream": "stdout",
       "text": [
        "---\n"
       ]
      },
      {
       "latex": [
        "PF := $$\\left[\\begin{matrix}21.3 s^{2} - 40 & 14.2 s^{2} - 40 & 4.1 s^{2} - 10\\end{matrix}\\right]$$"
       ],
       "metadata": {},
       "output_type": "display_data",
       "png": "[encoded data removed]",
       "text": [
        "PF := \u23a1      2             2            2     \u23a4\n",
        "\u23a321.3\u22c5s  - 40  14.2\u22c5s  - 40  4.1\u22c5s  - 10\u23a6"
       ]
      },
      {
       "output_type": "stream",
       "stream": "stdout",
       "text": [
        "---\n"
       ]
      }
     ],
     "prompt_number": 12
    },
    {
     "cell_type": "code",
     "collapsed": false,
     "input": [
      "# 1. Ansatz-Zeile f\u00fcr die unimodulare Erg\u00e4nzung\n",
      "Q_row1 = sp.Matrix([1, -1, 1]).T\n",
      "PQ_1 = st.row_stack(PF, Q_row1) ##:"
     ],
     "language": "python",
     "metadata": {},
     "outputs": [
      {
       "latex": [
        "PQ_1 := $$\\left[\\begin{matrix}21.3 s^{2} - 40 & 14.2 s^{2} - 40 & 4.1 s^{2} - 10\\\\1 & -1 & 1\\end{matrix}\\right]$$"
       ],
       "metadata": {},
       "output_type": "display_data",
       "png": "[encoded data removed]",
       "text": [
        "PQ_1 := \u23a1      2             2            2     \u23a4\n",
        "\u23a221.3\u22c5s  - 40  14.2\u22c5s  - 40  4.1\u22c5s  - 10\u23a5\n",
        "\u23a2                                       \u23a5\n",
        "\u23a3     1             -1            1     \u23a6"
       ]
      },
      {
       "output_type": "stream",
       "stream": "stdout",
       "text": [
        "---\n"
       ]
      }
     ],
     "prompt_number": 13
    },
    {
     "cell_type": "markdown",
     "metadata": {},
     "source": [
      "Hautus Kriterium \u00fcberpr\u00fcfen: F\u00fcr alle $s \\in \\mathbb{C}$ muss es mindestens einen nichtverschwindenden Minor geben."
     ]
    },
    {
     "cell_type": "code",
     "collapsed": false,
     "input": [
      "st.all_k_minors(PQ_1, 2)"
     ],
     "language": "python",
     "metadata": {},
     "outputs": [
      {
       "latex": [
        "$$\\left [ - 35.5 s^{2} + 80, \\quad 17.2 s^{2} - 30, \\quad 18.3 s^{2} - 50\\right ]$$"
       ],
       "metadata": {},
       "output_type": "pyout",
       "png": "[encoded data removed]",
       "prompt_number": 14,
       "text": [
        "\u23a1              2             2             2     \u23a4\n",
        "\u23a3- -35.5\u22c5(-1)\u22c5s  + 80, 17.2\u22c5s  - 30, 18.3\u22c5s  - 50\u23a6"
       ]
      }
     ],
     "prompt_number": 14
    },
    {
     "cell_type": "markdown",
     "metadata": {},
     "source": [
      "\u21d2 Hautus-Kriterium erf\u00fcllt."
     ]
    },
    {
     "cell_type": "code",
     "collapsed": false,
     "input": [
      "# 2. Ansatz-Zeile f\u00fcr die unimodulare Erg\u00e4nzung\n",
      "Q_row2 = st.symb_vector('a1, a2, a3').T\n",
      "PQ = st.row_stack(PF, Q_row1, Q_row2) ##:"
     ],
     "language": "python",
     "metadata": {},
     "outputs": [
      {
       "latex": [
        "PQ := $$\\left[\\begin{matrix}21.3 s^{2} - 40 & 14.2 s^{2} - 40 & 4.1 s^{2} - 10\\\\1 & -1 & 1\\\\a_{1} & a_{2} & a_{3}\\end{matrix}\\right]$$"
       ],
       "metadata": {},
       "output_type": "display_data",
       "png": "[encoded data removed]",
       "text": [
        "PQ := \u23a1      2             2            2     \u23a4\n",
        "\u23a221.3\u22c5s  - 40  14.2\u22c5s  - 40  4.1\u22c5s  - 10\u23a5\n",
        "\u23a2                                       \u23a5\n",
        "\u23a2     1             -1            1     \u23a5\n",
        "\u23a2                                       \u23a5\n",
        "\u23a3     a\u2081            a\u2082           a\u2083     \u23a6"
       ]
      },
      {
       "output_type": "stream",
       "stream": "stdout",
       "text": [
        "---\n"
       ]
      }
     ],
     "prompt_number": 15
    },
    {
     "cell_type": "code",
     "collapsed": false,
     "input": [
      "d = sp.Symbol('d')"
     ],
     "language": "python",
     "metadata": {},
     "outputs": [],
     "prompt_number": 16
    },
    {
     "cell_type": "code",
     "collapsed": false,
     "input": [
      "det = PQ.det()  ##:\n",
      "coeffs = st.poly_coeffs(det- d, s)##:\n",
      "sol = sp.solve(coeffs, Q_row2)##:"
     ],
     "language": "python",
     "metadata": {},
     "outputs": [
      {
       "latex": [
        "det := $$18.3 a_{1} s^{2} - 50 a_{1} - 17.2 a_{2} s^{2} + 30 a_{2} - 35.5 a_{3} s^{2} + 80 a_{3}$$"
       ],
       "metadata": {},
       "output_type": "display_data",
       "png": "[encoded data removed]",
       "text": [
        "det :=          2                          2                          2        \n",
        "18.3\u22c5a\u2081\u22c5s  - 50\u22c5a\u2081 - -17.2\u22c5(-1)\u22c5a\u2082\u22c5s  + 30\u22c5a\u2082 - -35.5\u22c5(-1)\u22c5a\u2083\u22c5s  + 80\u22c5a\u2083"
       ]
      },
      {
       "output_type": "stream",
       "stream": "stdout",
       "text": [
        "---\n"
       ]
      },
      {
       "latex": [
        "coeffs := $$\\left [ 18.3 a_{1} - 17.2 a_{2} - 35.5 a_{3}, \\quad 0, \\quad - 50 a_{1} + 30 a_{2} + 80 a_{3} - d\\right ]$$"
       ],
       "metadata": {},
       "output_type": "display_data",
       "png": "[encoded data removed]",
       "text": [
        "coeffs := [18.3\u22c5a\u2081 - -17.2\u22c5(-1)\u22c5a\u2082 - -35.5\u22c5(-1)\u22c5a\u2083, 0, -50\u22c5a\u2081 + 30\u22c5a\u2082 + 80\u22c5a\u2083 - d]"
       ]
      },
      {
       "output_type": "stream",
       "stream": "stdout",
       "text": [
        "---\n"
       ]
      },
      {
       "latex": [
        "sol := $$\\left \\{ a_{1} : a_{3} - 0.0553054662379421 d, \\quad a_{2} : - a_{3} - 0.0588424437299035 d\\right \\}$$"
       ],
       "metadata": {},
       "output_type": "display_data",
       "png": "[encoded data removed]",
       "text": [
        "sol := {a\u2081: a\u2083 - - -0.0553054662379421\u22c5d, a\u2082: -a\u2083 - - -0.0588424437299035\u22c5d}"
       ]
      },
      {
       "output_type": "stream",
       "stream": "stdout",
       "text": [
        "---\n"
       ]
      }
     ],
     "prompt_number": 17
    },
    {
     "cell_type": "code",
     "collapsed": false,
     "input": [
      "st.clean_numbers(Q_row2.subs(sol)) ##\n",
      "\n",
      "Q_row2.subs(sol).subs([(d, -31.1), ('a3', 0)]) ##"
     ],
     "language": "python",
     "metadata": {},
     "outputs": [
      {
       "latex": [
        "$$\\left[\\begin{matrix}a_{3} - \\frac{86 d}{1555} & - a_{3} - \\frac{183 d}{3110} & a_{3}\\end{matrix}\\right]$$"
       ],
       "metadata": {},
       "output_type": "display_data",
       "png": "[encoded data removed]",
       "text": [
        "\u23a1     86\u22c5d        183\u22c5d    \u23a4\n",
        "\u23a2a\u2083 - \u2500\u2500\u2500\u2500  -a\u2083 - \u2500\u2500\u2500\u2500\u2500  a\u2083\u23a5\n",
        "\u23a3     1555         3110    \u23a6"
       ]
      },
      {
       "output_type": "stream",
       "stream": "stdout",
       "text": [
        "___\n"
       ]
      },
      {
       "latex": [
        "$$\\left[\\begin{matrix}1.72 & 1.83 & 0\\end{matrix}\\right]$$"
       ],
       "metadata": {},
       "output_type": "display_data",
       "png": "[encoded data removed]",
       "text": [
        "[1.72  1.83  0]"
       ]
      },
      {
       "output_type": "stream",
       "stream": "stdout",
       "text": [
        "___\n"
       ]
      }
     ],
     "prompt_number": 18
    },
    {
     "cell_type": "markdown",
     "metadata": {},
     "source": [
      "Mit $d=-31.1$ erh\u00e4lt man zwei \u00fcberschaubare Dezimalbr\u00fcche. Der Parameter $a_3$  kann beliebig gew\u00e4hlt werden und wird deshalb hier auf Null gesetzt.\n",
      "\n",
      "---\n",
      "\n",
      "Andere Wahl der ersten Erg\u00e4nzungszeile (vgl. auch [Knoll, R\u00f6benack, 2015]: (\"Konfigurationsflachheit linearer mechanischer Systeme\")):\n"
     ]
    },
    {
     "cell_type": "code",
     "collapsed": false,
     "input": [
      "PQ[1,:] = sp.Matrix([0,  1, 0]).T\n",
      "PQ"
     ],
     "language": "python",
     "metadata": {},
     "outputs": [
      {
       "latex": [
        "$$\\left[\\begin{matrix}21.3 s^{2} - 40 & 14.2 s^{2} - 40 & 4.1 s^{2} - 10\\\\0 & 1 & 0\\\\a_{1} & a_{2} & a_{3}\\end{matrix}\\right]$$"
       ],
       "metadata": {},
       "output_type": "pyout",
       "png": "[encoded data removed]",
       "prompt_number": 19,
       "text": [
        "\u23a1      2             2            2     \u23a4\n",
        "\u23a221.3\u22c5s  - 40  14.2\u22c5s  - 40  4.1\u22c5s  - 10\u23a5\n",
        "\u23a2                                       \u23a5\n",
        "\u23a2     0             1             0     \u23a5\n",
        "\u23a2                                       \u23a5\n",
        "\u23a3     a\u2081            a\u2082           a\u2083     \u23a6"
       ]
      }
     ],
     "prompt_number": 19
    },
    {
     "cell_type": "code",
     "collapsed": false,
     "input": [
      "det = PQ.det()  ##:\n",
      "coeffs = st.poly_coeffs(det- d, s)##:\n",
      "sol = sp.solve(coeffs, Q_row2)##:\n",
      "st.clean_numbers(Q_row2.subs(sol)) ##"
     ],
     "language": "python",
     "metadata": {},
     "outputs": [
      {
       "latex": [
        "det := $$- 4.1 a_{1} s^{2} + 10 a_{1} + 21.3 a_{3} s^{2} - 40 a_{3}$$"
       ],
       "metadata": {},
       "output_type": "display_data",
       "png": "[encoded data removed]",
       "text": [
        "det :=                 2                    2        \n",
        "- -4.1\u22c5(-1)\u22c5a\u2081\u22c5s  + 10\u22c5a\u2081 + 21.3\u22c5a\u2083\u22c5s  - 40\u22c5a\u2083"
       ]
      },
      {
       "output_type": "stream",
       "stream": "stdout",
       "text": [
        "---\n"
       ]
      },
      {
       "latex": [
        "coeffs := $$\\left [ - 4.1 a_{1} + 21.3 a_{3}, \\quad 0, \\quad 10 a_{1} - 40 a_{3} - d\\right ]$$"
       ],
       "metadata": {},
       "output_type": "display_data",
       "png": "[encoded data removed]",
       "text": [
        "coeffs := [--4.1\u22c5(-1)\u22c5a\u2081 + 21.3\u22c5a\u2083, 0, 10\u22c5a\u2081 - 40\u22c5a\u2083 - d]"
       ]
      },
      {
       "output_type": "stream",
       "stream": "stdout",
       "text": [
        "---\n"
       ]
      },
      {
       "latex": [
        "sol := $$\\left \\{ a_{1} : 0.43469387755102 d, \\quad a_{3} : 0.0836734693877551 d\\right \\}$$"
       ],
       "metadata": {},
       "output_type": "display_data",
       "png": "[encoded data removed]",
       "text": [
        "sol := {a\u2081: 0.43469387755102\u22c5d, a\u2083: 0.0836734693877551\u22c5d}"
       ]
      },
      {
       "output_type": "stream",
       "stream": "stdout",
       "text": [
        "---\n"
       ]
      },
      {
       "latex": [
        "$$\\left[\\begin{matrix}\\frac{213 d}{490} & a_{2} & \\frac{41 d}{490}\\end{matrix}\\right]$$"
       ],
       "metadata": {},
       "output_type": "display_data",
       "png": "[encoded data removed]",
       "text": [
        "\u23a1213\u22c5d      41\u22c5d\u23a4\n",
        "\u23a2\u2500\u2500\u2500\u2500\u2500  a\u2082  \u2500\u2500\u2500\u2500\u23a5\n",
        "\u23a3 490       490 \u23a6"
       ]
      },
      {
       "output_type": "stream",
       "stream": "stdout",
       "text": [
        "___\n"
       ]
      }
     ],
     "prompt_number": 20
    },
    {
     "cell_type": "code",
     "collapsed": false,
     "input": [
      "st.clean_numbers(Q_row2.subs(sol)).subs([(d, 4.9), ('a2', 0)])"
     ],
     "language": "python",
     "metadata": {},
     "outputs": [
      {
       "latex": [
        "$$\\left[\\begin{matrix}2.13 & 0 & 0.41\\end{matrix}\\right]$$"
       ],
       "metadata": {},
       "output_type": "pyout",
       "png": "[encoded data removed]",
       "prompt_number": 21,
       "text": [
        "[2.13  0  0.41]"
       ]
      }
     ],
     "prompt_number": 21
    }
   ],
   "metadata": {}
  }
 ]
}