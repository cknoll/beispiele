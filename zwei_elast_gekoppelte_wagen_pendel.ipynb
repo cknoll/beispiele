{
 "metadata": {
  "name": "",
  "signature": "sha256:da9d4cc946281756db97ad2314f1eff5cb5ad4a4754f1c98df45ee6c51480f1f"
 },
 "nbformat": 3,
 "nbformat_minor": 0,
 "worksheets": [
  {
   "cells": [
    {
     "cell_type": "code",
     "collapsed": false,
     "input": [
      "import time\n",
      "print time.ctime()\n",
      "\n",
      "from diss_aux import latex\n",
      "%load_ext displaytools\n",
      "%matplotlib inline"
     ],
     "language": "python",
     "metadata": {},
     "outputs": [
      {
       "output_type": "stream",
       "stream": "stdout",
       "text": [
        "Wed May 11 14:56:47 2016\n"
       ]
      }
     ],
     "prompt_number": 1
    },
    {
     "cell_type": "markdown",
     "metadata": {},
     "source": [
      "**Betrachtetes System**: aktuiertes Pendel, dessen Aufh\u00e4ngepunkt an einem horizontal verschieblichen Wagen h\u00e4ngt, der elastisch mit einem aktuierten Wagen verbunden ist.\n",
      "\n",
      "<img src=\"files/images/pendel_wagen_feder_wagen.png\">\n",
      "\n",
      "**Betrachtete Aspekte**:\n",
      "\n",
      "* Ist das System statisch Eingangs-Zustands-Linearisierbar.\n",
      "  * Wenn ja, wie sieht ein entsprechender linearisierender Ausgang aus?\n",
      "\n",
      "* Wie ist die Situation, wenn ein \"intuitiver\" flacher Ausgang (Absolutkoordinaten des Pendelschwerpunkts) untersucht wird?\n",
      "\n",
      "* Flachheitsbasierte Trajektorienplanung\n",
      "\n",
      "\n",
      "[//]: # (custom_config_start)\n",
      "$$\n",
      "\\newcommand{\\col}{\\mathrm{col}}\n",
      "\\newcommand{\\bs}{\\boldsymbol}\n",
      "\\newcommand{\\y}{\\bs y}\n",
      "\\newcommand{\\nx}{n_{\\boldsymbol x}}\n",
      "\\newcommand{\\Ddt}{\\left(\\tfrac{d}{dt}\\right)}\n",
      "$$\n",
      "[//]: # (custom_config_end)\n",
      "\n"
     ]
    },
    {
     "cell_type": "code",
     "collapsed": false,
     "input": [
      "import sympy as sp\n",
      "from sympy import sin, cos, pi\n",
      "from sympy.interactive import printing\n",
      "import symbtools as st\n",
      "import scipy.integrate as sc_integrate\n",
      "import matplotlib.pyplot as pl\n",
      "\n",
      "import symbtools.modeltools as mt\n",
      "\n",
      "\n",
      "printing.init_printing(1)"
     ],
     "language": "python",
     "metadata": {},
     "outputs": [],
     "prompt_number": 2
    },
    {
     "cell_type": "code",
     "collapsed": false,
     "input": [
      "t = sp.Symbol('t')\n",
      "np = 1\n",
      "nq = 2\n",
      "n = np + nq\n",
      "pp = st.symb_vector(\"p1:{0}\".format(np+1))\n",
      "qq = st.symb_vector(\"q1:{0}\".format(nq+1))\n",
      "\n",
      "aa = st.symb_vector(\"a1:{0}\".format(nq+1))\n",
      "\n",
      "ttheta = st.row_stack(pp, qq) ##:T\n",
      "tthetad = st.time_deriv(ttheta, ttheta) ##:T\n",
      "tthetadd = st.time_deriv(ttheta, ttheta, order=2) ##:T\n",
      "st.make_global(ttheta, tthetad, tthetadd)"
     ],
     "language": "python",
     "metadata": {},
     "outputs": [
      {
       "latex": [
        "ttheta.T := $$\\left[\\begin{matrix}p_{1} & q_{1} & q_{2}\\end{matrix}\\right]$$"
       ],
       "metadata": {},
       "output_type": "display_data",
       "png": "[encoded data removed]",
       "text": [
        "ttheta.T := [p\u2081  q\u2081  q\u2082]"
       ]
      },
      {
       "output_type": "stream",
       "stream": "stdout",
       "text": [
        "---\n"
       ]
      },
      {
       "latex": [
        "tthetad.T := $$\\left[\\begin{matrix}\\dot{p}_{1} & \\dot{q}_{1} & \\dot{q}_{2}\\end{matrix}\\right]$$"
       ],
       "metadata": {},
       "output_type": "display_data",
       "png": "[encoded data removed]",
       "text": [
        "tthetad.T := [p\u0307\u2081  q\u0307\u2081  q\u0307\u2082]"
       ]
      },
      {
       "output_type": "stream",
       "stream": "stdout",
       "text": [
        "---\n"
       ]
      },
      {
       "latex": [
        "tthetadd.T := $$\\left[\\begin{matrix}\\ddot{p}_{1} & \\ddot{q}_{1} & \\ddot{q}_{2}\\end{matrix}\\right]$$"
       ],
       "metadata": {},
       "output_type": "display_data",
       "png": "[encoded data removed]",
       "text": [
        "tthetadd.T := [p\u0308\u2081  q\u0308\u2081  q\u0308\u2082]"
       ]
      },
      {
       "output_type": "stream",
       "stream": "stdout",
       "text": [
        "---\n"
       ]
      }
     ],
     "prompt_number": 3
    },
    {
     "cell_type": "code",
     "collapsed": false,
     "input": [
      "params = sp.symbols('s3, m1, m2, m3, m4, g, c2')\n",
      "st.make_global(params)\n",
      "\n",
      "tau1, tau2 = ttau = st.symb_vector(\"tau1, tau2\")"
     ],
     "language": "python",
     "metadata": {},
     "outputs": [],
     "prompt_number": 4
    },
    {
     "cell_type": "markdown",
     "metadata": {},
     "source": [
      "### Festlegung der Geometrie des mechanischen Systemes"
     ]
    },
    {
     "cell_type": "code",
     "collapsed": false,
     "input": [
      "#Einheitsvektoren\n",
      "\n",
      "ex = sp.Matrix([1,0])\n",
      "ey = sp.Matrix([0,1])\n",
      "\n",
      "\n",
      "# Koordinaten der Schwerpunkte und Gelenke\n",
      "S1 = ex*q1\n",
      "S2 = ex*(q1 + p1)\n",
      "G3 = S2 # Gelenk\n",
      "\n",
      "# Schwerpunkt des Pendels #zeigt nach oben\n",
      "S3 = G3 + mt.Rz(q2)*ey*s3 ##:\n",
      "\n",
      "# Zeitableitungen der Schwerpunktskoordinaten\n",
      "Sd1, Sd2, Sd3  = st.col_split(st.time_deriv(st.col_stack(S1, S2, S3), ttheta)) ##"
     ],
     "language": "python",
     "metadata": {},
     "outputs": [
      {
       "latex": [
        "S3 := $$\\left[\\begin{matrix}p_{1} + q_{1} - s_{3} \\sin{\\left (q_{2} \\right )}\\\\s_{3} \\cos{\\left (q_{2} \\right )}\\end{matrix}\\right]$$"
       ],
       "metadata": {},
       "output_type": "display_data",
       "png": "[encoded data removed]",
       "text": [
        "S3 := \u23a1p\u2081 + q\u2081 - s\u2083\u22c5sin(q\u2082)\u23a4\n",
        "\u23a2                    \u23a5\n",
        "\u23a3     s\u2083\u22c5cos(q\u2082)     \u23a6"
       ]
      },
      {
       "output_type": "stream",
       "stream": "stdout",
       "text": [
        "---\n"
       ]
      },
      {
       "latex": [
        "$$\\left[\\begin{matrix}\\dot{q}_{1}\\\\0\\end{matrix}\\right]$$"
       ],
       "metadata": {},
       "output_type": "display_data",
       "png": "[encoded data removed]",
       "text": [
        "\u23a1q\u0307\u2081\u23a4\n",
        "\u23a2   \u23a5\n",
        "\u23a3 0 \u23a6"
       ]
      },
      {
       "latex": [
        "$$\\left[\\begin{matrix}\\dot{p}_{1} + \\dot{q}_{1}\\\\0\\end{matrix}\\right]$$"
       ],
       "metadata": {},
       "output_type": "display_data",
       "png": "[encoded data removed]",
       "text": [
        "\u23a1p\u0307\u2081 + q\u0307\u2081\u23a4\n",
        "\u23a2         \u23a5\n",
        "\u23a3    0    \u23a6"
       ]
      },
      {
       "latex": [
        "$$\\left[\\begin{matrix}\\dot{p}_{1} + \\dot{q}_{1} - \\dot{q}_{2} s_{3} \\cos{\\left (q_{2} \\right )}\\\\- \\dot{q}_{2} s_{3} \\sin{\\left (q_{2} \\right )}\\end{matrix}\\right]$$"
       ],
       "metadata": {},
       "output_type": "display_data",
       "png": "[encoded data removed]",
       "text": [
        "\u23a1p\u0307\u2081 + q\u0307\u2081 - q\u0307\u2082\u22c5s\u2083\u22c5cos(q\u2082)\u23a4\n",
        "\u23a2                          \u23a5\n",
        "\u23a3     -q\u0307\u2082\u22c5s\u2083\u22c5sin(q\u2082)      \u23a6"
       ]
      },
      {
       "output_type": "stream",
       "stream": "stdout",
       "text": [
        "---\n"
       ]
      }
     ],
     "prompt_number": 5
    },
    {
     "cell_type": "code",
     "collapsed": false,
     "input": [
      "# Energie\n",
      "\n",
      "T_rot = 0 # Pendel as mathematisches Pendel angenommen\n",
      "T_trans = ( m1*Sd1.T*Sd1  +  m2*Sd2.T*Sd2 + m3*Sd3.T*Sd3 )/2\n",
      "\n",
      "T = T_rot + T_trans[0] ##:\n",
      "V = m3*g*S3[1] + c2/2*p1**2 ##:"
     ],
     "language": "python",
     "metadata": {},
     "outputs": [
      {
       "latex": [
        "T := $$\\frac{m_{1} \\dot{q}_{1}^{2}}{2} + \\frac{m_{2}}{2} \\left(\\dot{p}_{1} + \\dot{q}_{1}\\right)^{2} + \\frac{m_{3} \\dot{q}_{2}^{2}}{2} s_{3}^{2} \\sin^{2}{\\left (q_{2} \\right )} + \\frac{m_{3}}{2} \\left(\\dot{p}_{1} + \\dot{q}_{1} - \\dot{q}_{2} s_{3} \\cos{\\left (q_{2} \\right )}\\right)^{2}$$"
       ],
       "metadata": {},
       "output_type": "display_data",
       "png": "[encoded data removed]",
       "text": [
        "T :=       2                 2         2   2    2                                  \n",
        "m\u2081\u22c5q\u0307\u2081    m\u2082\u22c5(p\u0307\u2081 + q\u0307\u2081)    m\u2083\u22c5q\u0307\u2082 \u22c5s\u2083 \u22c5sin (q\u2082)   m\u2083\u22c5(p\u0307\u2081 + q\u0307\u2081 - q\u0307\u2082\u22c5s\u2083\u22c5cos(\n",
        "\u2500\u2500\u2500\u2500\u2500\u2500\u2500 + \u2500\u2500\u2500\u2500\u2500\u2500\u2500\u2500\u2500\u2500\u2500\u2500\u2500\u2500\u2500 + \u2500\u2500\u2500\u2500\u2500\u2500\u2500\u2500\u2500\u2500\u2500\u2500\u2500\u2500\u2500\u2500\u2500\u2500\u2500\u2500 + \u2500\u2500\u2500\u2500\u2500\u2500\u2500\u2500\u2500\u2500\u2500\u2500\u2500\u2500\u2500\u2500\u2500\u2500\u2500\u2500\u2500\u2500\u2500\u2500\u2500\u2500\u2500\n",
        "   2             2                   2                            2           \n",
        "\n",
        "    2\n",
        "q\u2082)) \n",
        "\u2500\u2500\u2500\u2500\u2500\n",
        "     "
       ]
      },
      {
       "output_type": "stream",
       "stream": "stdout",
       "text": [
        "---\n"
       ]
      },
      {
       "latex": [
        "V := $$\\frac{c_{2} p_{1}^{2}}{2} + g m_{3} s_{3} \\cos{\\left (q_{2} \\right )}$$"
       ],
       "metadata": {},
       "output_type": "display_data",
       "png": "[encoded data removed]",
       "text": [
        "V :=      2                  \n",
        "c\u2082\u22c5p\u2081                   \n",
        "\u2500\u2500\u2500\u2500\u2500\u2500 + g\u22c5m\u2083\u22c5s\u2083\u22c5cos(q\u2082)\n",
        "  2                     "
       ]
      },
      {
       "output_type": "stream",
       "stream": "stdout",
       "text": [
        "---\n"
       ]
      }
     ],
     "prompt_number": 6
    },
    {
     "cell_type": "code",
     "collapsed": false,
     "input": [
      "external_forces = [0, tau1, tau2]\n",
      "assert not any(external_forces[:np])\n",
      "mod = mt.generate_symbolic_model(T, V, ttheta, external_forces)"
     ],
     "language": "python",
     "metadata": {},
     "outputs": [],
     "prompt_number": 7
    },
    {
     "cell_type": "code",
     "collapsed": false,
     "input": [
      "# Massenmatrix\n",
      "mod.MM"
     ],
     "language": "python",
     "metadata": {},
     "outputs": [
      {
       "latex": [
        "$$\\left[\\begin{matrix}m_{2} + m_{3} & m_{2} + m_{3} & - m_{3} s_{3} \\cos{\\left (q_{2} \\right )}\\\\m_{2} + m_{3} & m_{1} + m_{2} + m_{3} & - m_{3} s_{3} \\cos{\\left (q_{2} \\right )}\\\\- m_{3} s_{3} \\cos{\\left (q_{2} \\right )} & - m_{3} s_{3} \\cos{\\left (q_{2} \\right )} & m_{3} s_{3}^{2}\\end{matrix}\\right]$$"
       ],
       "metadata": {},
       "output_type": "pyout",
       "png": "[encoded data removed]",
       "prompt_number": 8,
       "text": [
        "\u23a1   m\u2082 + m\u2083         m\u2082 + m\u2083      -m\u2083\u22c5s\u2083\u22c5cos(q\u2082)\u23a4\n",
        "\u23a2                                              \u23a5\n",
        "\u23a2   m\u2082 + m\u2083       m\u2081 + m\u2082 + m\u2083   -m\u2083\u22c5s\u2083\u22c5cos(q\u2082)\u23a5\n",
        "\u23a2                                              \u23a5\n",
        "\u23a2                                         2    \u23a5\n",
        "\u23a3-m\u2083\u22c5s\u2083\u22c5cos(q\u2082)  -m\u2083\u22c5s\u2083\u22c5cos(q\u2082)      m\u2083\u22c5s\u2083     \u23a6"
       ]
      }
     ],
     "prompt_number": 8
    },
    {
     "cell_type": "code",
     "collapsed": false,
     "input": [
      "mod.eqns"
     ],
     "language": "python",
     "metadata": {},
     "outputs": [
      {
       "latex": [
        "$$\\left[\\begin{matrix}c_{2} p_{1} + m_{2} \\left(\\ddot{p}_{1} + \\ddot{q}_{1}\\right) + m_{3} \\left(\\ddot{p}_{1} + \\ddot{q}_{1} - \\ddot{q}_{2} s_{3} \\cos{\\left (q_{2} \\right )} + \\dot{q}_{2}^{2} s_{3} \\sin{\\left (q_{2} \\right )}\\right)\\\\m_{1} \\ddot{q}_{1} + m_{2} \\left(\\ddot{p}_{1} + \\ddot{q}_{1}\\right) + m_{3} \\left(\\ddot{p}_{1} + \\ddot{q}_{1} - \\ddot{q}_{2} s_{3} \\cos{\\left (q_{2} \\right )} + \\dot{q}_{2}^{2} s_{3} \\sin{\\left (q_{2} \\right )}\\right) - \\tau_{1}\\\\- g m_{3} s_{3} \\sin{\\left (q_{2} \\right )} - m_{3} \\ddot{p}_{1} s_{3} \\cos{\\left (q_{2} \\right )} - m_{3} \\ddot{q}_{1} s_{3} \\cos{\\left (q_{2} \\right )} + m_{3} \\ddot{q}_{2} s_{3}^{2} - \\tau_{2}\\end{matrix}\\right]$$"
       ],
       "metadata": {},
       "output_type": "pyout",
       "png": "[encoded data removed]",
       "prompt_number": 9,
       "text": [
        "\u23a1                               \u239b                                2           \u239e\n",
        "\u23a2   c\u2082\u22c5p\u2081 + m\u2082\u22c5(p\u0308\u2081 + q\u0308\u2081) + m\u2083\u22c5\u239dp\u0308\u2081 + q\u0308\u2081 - q\u0308\u2082\u22c5s\u2083\u22c5cos(q\u2082) + q\u0307\u2082 \u22c5s\u2083\u22c5sin(q\u2082)\u23a0\n",
        "\u23a2                                                                             \n",
        "\u23a2                             \u239b                                2           \u239e  \n",
        "\u23a2m\u2081\u22c5q\u0308\u2081 + m\u2082\u22c5(p\u0308\u2081 + q\u0308\u2081) + m\u2083\u22c5\u239dp\u0308\u2081 + q\u0308\u2081 - q\u0308\u2082\u22c5s\u2083\u22c5cos(q\u2082) + q\u0307\u2082 \u22c5s\u2083\u22c5sin(q\u2082)\u23a0 -\n",
        "\u23a2                                                                             \n",
        "\u23a2                                                                       2     \n",
        "\u23a3   -g\u22c5m\u2083\u22c5s\u2083\u22c5sin(q\u2082) - m\u2083\u22c5p\u0308\u2081\u22c5s\u2083\u22c5cos(q\u2082) - m\u2083\u22c5q\u0308\u2081\u22c5s\u2083\u22c5cos(q\u2082) + m\u2083\u22c5q\u0308\u2082\u22c5s\u2083  - \u03c4\u2082\n",
        "\n",
        "   \u23a4\n",
        "   \u23a5\n",
        "   \u23a5\n",
        "   \u23a5\n",
        " \u03c4\u2081\u23a5\n",
        "   \u23a5\n",
        "   \u23a5\n",
        "   \u23a6"
       ]
      }
     ],
     "prompt_number": 9
    },
    {
     "cell_type": "code",
     "collapsed": false,
     "input": [
      "mod.calc_coll_part_lin_state_eq()"
     ],
     "language": "python",
     "metadata": {},
     "outputs": [],
     "prompt_number": 10
    },
    {
     "cell_type": "code",
     "collapsed": false,
     "input": [
      "f = mod.ff ##:\n",
      "G = mod.gg ##:\n",
      "g1, g2 = st.col_split(G)\n",
      "\n",
      "xx = mod.x ##:T"
     ],
     "language": "python",
     "metadata": {},
     "outputs": [
      {
       "latex": [
        "f := $$\\left[\\begin{matrix}\\dot{p}_{1}\\\\\\dot{q}_{1}\\\\\\dot{q}_{2}\\\\- \\frac{1}{m_{2} + m_{3}} \\left(c_{2} p_{1} + m_{3} \\dot{q}_{2}^{2} s_{3} \\sin{\\left (q_{2} \\right )}\\right)\\\\0\\\\0\\end{matrix}\\right]$$"
       ],
       "metadata": {},
       "output_type": "display_data",
       "png": "[encoded data removed]",
       "text": [
        "f := \u23a1             p\u0307\u2081              \u23a4\n",
        "\u23a2                              \u23a5\n",
        "\u23a2             q\u0307\u2081              \u23a5\n",
        "\u23a2                              \u23a5\n",
        "\u23a2             q\u0307\u2082              \u23a5\n",
        "\u23a2                              \u23a5\n",
        "\u23a2 \u239b              2           \u239e \u23a5\n",
        "\u23a2-\u239dc\u2082\u22c5p\u2081 + m\u2083\u22c5q\u0307\u2082 \u22c5s\u2083\u22c5sin(q\u2082)\u23a0 \u23a5\n",
        "\u23a2\u2500\u2500\u2500\u2500\u2500\u2500\u2500\u2500\u2500\u2500\u2500\u2500\u2500\u2500\u2500\u2500\u2500\u2500\u2500\u2500\u2500\u2500\u2500\u2500\u2500\u2500\u2500\u2500\u2500\u2500\u23a5\n",
        "\u23a2           m\u2082 + m\u2083            \u23a5\n",
        "\u23a2                              \u23a5\n",
        "\u23a2              0               \u23a5\n",
        "\u23a2                              \u23a5\n",
        "\u23a3              0               \u23a6"
       ]
      },
      {
       "output_type": "stream",
       "stream": "stdout",
       "text": [
        "---\n"
       ]
      },
      {
       "latex": [
        "G := $$\\left[\\begin{matrix}0 & 0\\\\0 & 0\\\\0 & 0\\\\-1 & \\frac{m_{3} s_{3} \\cos{\\left (q_{2} \\right )}}{m_{2} + m_{3}}\\\\1 & 0\\\\0 & 1\\end{matrix}\\right]$$"
       ],
       "metadata": {},
       "output_type": "display_data",
       "png": "[encoded data removed]",
       "text": [
        "G := \u23a10         0      \u23a4\n",
        "\u23a2                 \u23a5\n",
        "\u23a20         0      \u23a5\n",
        "\u23a2                 \u23a5\n",
        "\u23a20         0      \u23a5\n",
        "\u23a2                 \u23a5\n",
        "\u23a2    m\u2083\u22c5s\u2083\u22c5cos(q\u2082)\u23a5\n",
        "\u23a2-1  \u2500\u2500\u2500\u2500\u2500\u2500\u2500\u2500\u2500\u2500\u2500\u2500\u2500\u23a5\n",
        "\u23a2       m\u2082 + m\u2083   \u23a5\n",
        "\u23a2                 \u23a5\n",
        "\u23a21         0      \u23a5\n",
        "\u23a2                 \u23a5\n",
        "\u23a30         1      \u23a6"
       ]
      },
      {
       "output_type": "stream",
       "stream": "stdout",
       "text": [
        "---\n"
       ]
      },
      {
       "latex": [
        "xx.T := $$\\left[\\begin{matrix}p_{1} & q_{1} & q_{2} & \\dot{p}_{1} & \\dot{q}_{1} & \\dot{q}_{2}\\end{matrix}\\right]$$"
       ],
       "metadata": {},
       "output_type": "display_data",
       "png": "[encoded data removed]",
       "text": [
        "xx.T := [p\u2081  q\u2081  q\u2082  p\u0307\u2081  q\u0307\u2081  q\u0307\u2082]"
       ]
      },
      {
       "output_type": "stream",
       "stream": "stdout",
       "text": [
        "---\n"
       ]
      }
     ],
     "prompt_number": 11
    },
    {
     "cell_type": "markdown",
     "metadata": {},
     "source": [
      "## \u00dcberpr\u00fcfung auf statische Eingangs-Zustands-Linearisierbarkeit\n",
      "\n",
      "Konstrunktion der Distributionen $\\Delta_k$"
     ]
    },
    {
     "cell_type": "code",
     "collapsed": false,
     "input": [
      "nx = len(xx)\n",
      "\n",
      "# Liste der Distributionen\n",
      "# (mit Eingangsvektorfeldern starten (Delta_0 = G) )\n",
      "Delta_list = [G]\n",
      "\n",
      "for k in range(1, nx):\n",
      "    Delta_j_full = Delta_list[-1]\n",
      "    Delta_j = Delta_j_full[:, -nq:]# nur die letzten nq Spalten f\u00fcr Lieklammer relevant\n",
      "    Delta_k = []\n",
      "    for vf in st.col_split(Delta_j):\n",
      "        Delta_k.append(st.lie_bracket(f, vf, xx))\n",
      "    \n",
      "    # neu berechnete VF zusammen mit bisherigen in Matrix konvertieren\n",
      "    Delta_k = st.col_stack(Delta_j_full, *Delta_k)\n",
      "    Delta_list.append(Delta_k)"
     ],
     "language": "python",
     "metadata": {},
     "outputs": [],
     "prompt_number": 12
    },
    {
     "cell_type": "code",
     "collapsed": false,
     "input": [
      "for i, D in enumerate(Delta_list):\n",
      "    print \"dim(Delta_%i) =\" %i, st.rnd_number_rank(D)\n",
      "    \n",
      "    # failing_vf enth\u00e4lt die ersten beiden VF, deren Lie-Klammer nicht in der Distribution liegen\n",
      "    inv_flag, failing_vf = st.involutivity_test(D, xx)\n",
      "    print \"Delta_%i involutiv? %s\\n\" %(i, inv_flag)"
     ],
     "language": "python",
     "metadata": {},
     "outputs": [
      {
       "output_type": "stream",
       "stream": "stdout",
       "text": [
        "dim(Delta_0) = 2\n",
        "Delta_0 involutiv? True\n"
       ]
      },
      {
       "output_type": "stream",
       "stream": "stdout",
       "text": [
        "\n",
        "dim(Delta_1) = 4\n",
        "Delta_1 involutiv? True\n"
       ]
      },
      {
       "output_type": "stream",
       "stream": "stdout",
       "text": [
        "\n",
        "dim(Delta_2) = 5\n",
        "Delta_2 involutiv? True\n"
       ]
      },
      {
       "output_type": "stream",
       "stream": "stdout",
       "text": [
        "\n",
        "dim(Delta_3) = "
       ]
      },
      {
       "output_type": "stream",
       "stream": "stdout",
       "text": [
        "6\n",
        "Delta_3 involutiv? True\n"
       ]
      },
      {
       "output_type": "stream",
       "stream": "stdout",
       "text": [
        "\n",
        "dim(Delta_4) = "
       ]
      },
      {
       "output_type": "stream",
       "stream": "stdout",
       "text": [
        "6\n",
        "Delta_4 involutiv? True\n"
       ]
      },
      {
       "output_type": "stream",
       "stream": "stdout",
       "text": [
        "\n",
        "dim(Delta_5) = "
       ]
      },
      {
       "output_type": "stream",
       "stream": "stdout",
       "text": [
        "6\n",
        "Delta_5 involutiv? True\n"
       ]
      },
      {
       "output_type": "stream",
       "stream": "stdout",
       "text": [
        "\n"
       ]
      }
     ],
     "prompt_number": 13
    },
    {
     "cell_type": "markdown",
     "metadata": {},
     "source": [
      "### Fazit:\n",
      "Das System ist also statisch Eingangs-Zustands-Linearisierbar.\n",
      "\n",
      "---\n",
      "\n",
      "\u00dcberpr\u00fcfung: wird durch die Absolutkoordinaten des Pendelschwerpunkts ein in statisch linearisierender Ausgang gebildet (d.h. hat dieser Ausgang einen wohldefinierten und vollst\u00e4ndigen relativen Grad?):"
     ]
    },
    {
     "cell_type": "code",
     "collapsed": false,
     "input": [
      "h1, h2 = S3"
     ],
     "language": "python",
     "metadata": {},
     "outputs": [],
     "prompt_number": 14
    },
    {
     "cell_type": "markdown",
     "metadata": {},
     "source": [
      "Funktion definieren, die $L_{\\bs g_i}L_{\\bs f}^k h(\\bs x)$ in Abh\u00e4ngigkeit von $h, i$ und $k$ berechnet"
     ]
    },
    {
     "cell_type": "code",
     "collapsed": false,
     "input": [
      "def LgLf(h, i, k):\n",
      "    \"\"\"\n",
      "    h:    Skalarfeld\n",
      "    i:    Index f\u00fcr Eingangsvektorfeld\n",
      "    k:    Ordnung der Lieableitung bez\u00fcglich k\n",
      "    \"\"\"\n",
      "    Lf = st.lie_deriv(h, f, xx, n=k)\n",
      "    res = st.lie_deriv(Lf, G[:, i], xx)\n",
      "    return res.simplify()"
     ],
     "language": "python",
     "metadata": {},
     "outputs": [],
     "prompt_number": 15
    },
    {
     "cell_type": "code",
     "collapsed": false,
     "input": [
      "# f\u00fcr y1 (d.h. h1)\n",
      "LgLf(h1, i=1, k=0) ##:\n",
      "LgLf(h1, i=1, k=1) ##:"
     ],
     "language": "python",
     "metadata": {},
     "outputs": [
      {
       "latex": [
        "LgLf(h1, i=1, k=0)  := $$0$$"
       ],
       "metadata": {},
       "output_type": "display_data",
       "png": "[encoded data removed]",
       "text": [
        "LgLf(h1, i=1, k=0)  := 0"
       ]
      },
      {
       "output_type": "stream",
       "stream": "stdout",
       "text": [
        "___\n"
       ]
      },
      {
       "latex": [
        "LgLf(h1, i=1, k=1)  := $$- \\frac{m_{2} s_{3} \\cos{\\left (q_{2} \\right )}}{m_{2} + m_{3}}$$"
       ],
       "metadata": {},
       "output_type": "display_data",
       "png": "[encoded data removed]",
       "text": [
        "LgLf(h1, i=1, k=1)  := -m\u2082\u22c5s\u2083\u22c5cos(q\u2082) \n",
        "\u2500\u2500\u2500\u2500\u2500\u2500\u2500\u2500\u2500\u2500\u2500\u2500\u2500\u2500\u2500\n",
        "    m\u2082 + m\u2083    "
       ]
      },
      {
       "output_type": "stream",
       "stream": "stdout",
       "text": [
        "___\n"
       ]
      }
     ],
     "prompt_number": 16
    },
    {
     "cell_type": "code",
     "collapsed": false,
     "input": [
      "LgLf(h2, i=1, k=0) ##:\n",
      "LgLf(h2, i=1, k=1) ##:"
     ],
     "language": "python",
     "metadata": {},
     "outputs": [
      {
       "latex": [
        "LgLf(h2, i=1, k=0)  := $$0$$"
       ],
       "metadata": {},
       "output_type": "display_data",
       "png": "[encoded data removed]",
       "text": [
        "LgLf(h2, i=1, k=0)  := 0"
       ]
      },
      {
       "output_type": "stream",
       "stream": "stdout",
       "text": [
        "___\n"
       ]
      },
      {
       "latex": [
        "LgLf(h2, i=1, k=1)  := $$- s_{3} \\sin{\\left (q_{2} \\right )}$$"
       ],
       "metadata": {},
       "output_type": "display_data",
       "png": "[encoded data removed]",
       "text": [
        "LgLf(h2, i=1, k=1)  := -s\u2083\u22c5sin(q\u2082)"
       ]
      },
      {
       "output_type": "stream",
       "stream": "stdout",
       "text": [
        "___\n"
       ]
      }
     ],
     "prompt_number": 17
    },
    {
     "cell_type": "markdown",
     "metadata": {},
     "source": [
      "Weil jeweils die zweite Lie-Ableitung nicht verschwindet, m\u00fcsste der vektorielle relative Grad $(2,2)^T$ sein.\n",
      "Andererseits gilt aber f\u00fcr $i=0$:"
     ]
    },
    {
     "cell_type": "code",
     "collapsed": false,
     "input": [
      "[LgLf(h1, i=0, k=0), LgLf(h1, i=0, k=1), LgLf(h2, i=0, k=0), LgLf(h2, i=0, k=1)]"
     ],
     "language": "python",
     "metadata": {},
     "outputs": [
      {
       "latex": [
        "$$\\left [ 0, \\quad 0, \\quad 0, \\quad 0\\right ]$$"
       ],
       "metadata": {},
       "output_type": "pyout",
       "png": "[encoded data removed]",
       "prompt_number": 18,
       "text": [
        "[0, 0, 0, 0]"
       ]
      }
     ],
     "prompt_number": 18
    },
    {
     "cell_type": "markdown",
     "metadata": {},
     "source": [
      "d.h. $\\ddot {\\bs y}$ h\u00e4ngt nicht von der ersten Eingangskomponente $a_1$ ab. Daraus resultiert die zu $\\hat {\\bs r}= (2,2)^T$\n",
      "geh\u00f6rige Entkopplungsmatrix"
     ]
    },
    {
     "cell_type": "code",
     "collapsed": false,
     "input": [
      "sp.Matrix([[LgLf(h1, i=0, k=1), LgLf(h1, i=1, k=1)],\n",
      "           [LgLf(h2, i=0, k=1), LgLf(h2, i=1, k=1)]])"
     ],
     "language": "python",
     "metadata": {},
     "outputs": [
      {
       "latex": [
        "$$\\left[\\begin{matrix}0 & - \\frac{m_{2} s_{3} \\cos{\\left (q_{2} \\right )}}{m_{2} + m_{3}}\\\\0 & - s_{3} \\sin{\\left (q_{2} \\right )}\\end{matrix}\\right]$$"
       ],
       "metadata": {},
       "output_type": "pyout",
       "png": "[encoded data removed]",
       "prompt_number": 19,
       "text": [
        "\u23a1   -m\u2082\u22c5s\u2083\u22c5cos(q\u2082) \u23a4\n",
        "\u23a20  \u2500\u2500\u2500\u2500\u2500\u2500\u2500\u2500\u2500\u2500\u2500\u2500\u2500\u2500\u2500\u23a5\n",
        "\u23a2       m\u2082 + m\u2083    \u23a5\n",
        "\u23a2                  \u23a5\n",
        "\u23a30    -s\u2083\u22c5sin(q\u2082)  \u23a6"
       ]
      }
     ],
     "prompt_number": 19
    },
    {
     "cell_type": "markdown",
     "metadata": {},
     "source": [
      "die offensichtlich singul\u00e4r ist. Das hei\u00dft, der Ausgang $(y_1, y_2)^T$ (Pendelschwerpunkt) hat keinen wohldefinierten relativen Grad.\n",
      "\n",
      "---\n",
      "\n",
      "Statdessen: Konstruktion eines linearisierenden Ausgangs nach [Beweis von Theorem 5.2.3 in Isidori, 1995]"
     ]
    },
    {
     "cell_type": "code",
     "collapsed": false,
     "input": [
      "# Bestimmung der Dimension \n",
      "[D.srn.rank() for D in Delta_list]"
     ],
     "language": "python",
     "metadata": {},
     "outputs": [
      {
       "latex": [
        "$$\\left [ 2, \\quad 4, \\quad 5, \\quad 6, \\quad 6, \\quad 6\\right ]$$"
       ],
       "metadata": {},
       "output_type": "pyout",
       "png": "[encoded data removed]",
       "prompt_number": 20,
       "text": [
        "[2, 4, 5, 6, 6, 6]"
       ]
      }
     ],
     "prompt_number": 20
    },
    {
     "cell_type": "markdown",
     "metadata": {},
     "source": [
      "Laut [Isidori, 1995], S. 233 wird $\\kappa$ folgenderma\u00dfen definiert:\n",
      "$$\n",
      "\\dim(\\Delta_{\\kappa-2} < \\nx) \\\\\n",
      "\\dim(\\Delta_{\\kappa-1} = \\nx).\n",
      "$$"
     ]
    },
    {
     "cell_type": "code",
     "collapsed": false,
     "input": [
      "Delta_list[2].srn.rank() ##\n",
      "Delta_list[3].srn.rank() ##"
     ],
     "language": "python",
     "metadata": {},
     "outputs": [
      {
       "latex": [
        "$$5$$"
       ],
       "metadata": {},
       "output_type": "display_data",
       "png": "[encoded data removed]",
       "text": [
        "5"
       ]
      },
      {
       "output_type": "stream",
       "stream": "stdout",
       "text": [
        "___\n"
       ]
      },
      {
       "latex": [
        "$$6$$"
       ],
       "metadata": {},
       "output_type": "display_data",
       "png": "[encoded data removed]",
       "text": [
        "6"
       ]
      },
      {
       "output_type": "stream",
       "stream": "stdout",
       "text": [
        "___\n"
       ]
      }
     ],
     "prompt_number": 21
    },
    {
     "cell_type": "markdown",
     "metadata": {},
     "source": [
      "Weil erst $\\Delta_3$ vollen Rang hat, gilt also $\\kappa = 3+1 = 4$.\n",
      "\n",
      "Weiterhin wird\n",
      "$$\n",
      "m_1:= \\dim(\\Delta_{\\kappa-2}^\\perp)  =\n",
      "\\nx - \\dim(\\Delta_{\\kappa-2}) = \\nx - \\dim(\\Delta_{2}) = 6 - 5 = 1\n",
      "$$\n",
      "festgelegt."
     ]
    },
    {
     "cell_type": "code",
     "collapsed": false,
     "input": [
      "Delta2 = Delta_list[2]"
     ],
     "language": "python",
     "metadata": {},
     "outputs": [],
     "prompt_number": 22
    },
    {
     "cell_type": "code",
     "collapsed": false,
     "input": [
      "W = st.nullspaceMatrix(Delta2.T).T ##\n",
      "m1 = W.shape[0] ##"
     ],
     "language": "python",
     "metadata": {},
     "outputs": [
      {
       "latex": [
        "$$\\left[\\begin{matrix}- m_{2} - m_{3} & - m_{2} - m_{3} & m_{3} s_{3} \\cos{\\left (q_{2} \\right )} & 0 & 0 & 0\\end{matrix}\\right]$$"
       ],
       "metadata": {},
       "output_type": "display_data",
       "png": "[encoded data removed]",
       "text": [
        "[-m\u2082 - m\u2083  -m\u2082 - m\u2083  m\u2083\u22c5s\u2083\u22c5cos(q\u2082)  0  0  0]"
       ]
      },
      {
       "output_type": "stream",
       "stream": "stdout",
       "text": [
        "---\n"
       ]
      },
      {
       "latex": [
        "$$1$$"
       ],
       "metadata": {},
       "output_type": "display_data",
       "png": "[encoded data removed]",
       "text": [
        "1"
       ]
      },
      {
       "output_type": "stream",
       "stream": "stdout",
       "text": [
        "---\n"
       ]
      }
     ],
     "prompt_number": 23
    },
    {
     "cell_type": "markdown",
     "metadata": {},
     "source": [
      "Es gibt also wegen $m_1=1$ eine Funktion, deren Differential $\\Delta_2^\\perp$ aufspannt."
     ]
    },
    {
     "cell_type": "code",
     "collapsed": false,
     "input": [
      "import pycartan as pc"
     ],
     "language": "python",
     "metadata": {},
     "outputs": [],
     "prompt_number": 24
    },
    {
     "cell_type": "code",
     "collapsed": false,
     "input": [
      "w1 = pc.DifferentialForm(1, xx, coeff=W[0, :]) ##:\n",
      "#w2 = pc.DifferentialForm(1, xx, coeff=W[1, :])"
     ],
     "language": "python",
     "metadata": {},
     "outputs": [
      {
       "metadata": {},
       "output_type": "display_data",
       "text": [
        "w1 := (-m2 - m3)dp1  +  (-m2 - m3)dq1  +  (m3*s3*cos(q2))dq2"
       ]
      },
      {
       "output_type": "stream",
       "stream": "stdout",
       "text": [
        "---\n"
       ]
      }
     ],
     "prompt_number": 25
    },
    {
     "cell_type": "code",
     "collapsed": false,
     "input": [
      "w1.d ##:\n",
      "h1_bar = w1.integrate() ##:"
     ],
     "language": "python",
     "metadata": {},
     "outputs": [
      {
       "metadata": {},
       "output_type": "display_data",
       "text": [
        "w1.d  := (0)dp1^dq1"
       ]
      },
      {
       "output_type": "stream",
       "stream": "stdout",
       "text": [
        "___\n"
       ]
      },
      {
       "latex": [
        "h1_bar := $$m_{3} s_{3} \\sin{\\left (q_{2} \\right )} - p_{1} \\left(m_{2} + m_{3}\\right) - q_{1} \\left(m_{2} + m_{3}\\right)$$"
       ],
       "metadata": {},
       "output_type": "display_data",
       "png": "[encoded data removed]",
       "text": [
        "h1_bar := m\u2083\u22c5s\u2083\u22c5sin(q\u2082) - p\u2081\u22c5(m\u2082 + m\u2083) - q\u2081\u22c5(m\u2082 + m\u2083)"
       ]
      },
      {
       "output_type": "stream",
       "stream": "stdout",
       "text": [
        "---\n"
       ]
      }
     ],
     "prompt_number": 26
    },
    {
     "cell_type": "code",
     "collapsed": false,
     "input": [
      "LgLf(h1_bar, 0, 0) ##\n",
      "LgLf(h1_bar, 0, 1) ##\n",
      "LgLf(h1_bar, 0, 2) ##\n",
      "LgLf(h1_bar, 0, 3) ##\n",
      "print \"-\"*10\n",
      "LgLf(h1_bar, 1, 0) ##\n",
      "LgLf(h1_bar, 1, 1) ##\n",
      "LgLf(h1_bar, 1, 2) ##\n",
      "LgLf(h1_bar, 1, 3) ##"
     ],
     "language": "python",
     "metadata": {},
     "outputs": [
      {
       "latex": [
        "$$0$$"
       ],
       "metadata": {},
       "output_type": "display_data",
       "png": "[encoded data removed]",
       "text": [
        "0"
       ]
      },
      {
       "output_type": "stream",
       "stream": "stdout",
       "text": [
        "___\n"
       ]
      },
      {
       "latex": [
        "$$0$$"
       ],
       "metadata": {},
       "output_type": "display_data",
       "png": "[encoded data removed]",
       "text": [
        "0"
       ]
      },
      {
       "output_type": "stream",
       "stream": "stdout",
       "text": [
        "___\n"
       ]
      },
      {
       "latex": [
        "$$0$$"
       ],
       "metadata": {},
       "output_type": "display_data",
       "png": "[encoded data removed]",
       "text": [
        "0"
       ]
      },
      {
       "output_type": "stream",
       "stream": "stdout",
       "text": [
        "___\n"
       ]
      },
      {
       "latex": [
        "$$- c_{2}$$"
       ],
       "metadata": {},
       "output_type": "display_data",
       "png": "[encoded data removed]",
       "text": [
        "-c\u2082"
       ]
      },
      {
       "output_type": "stream",
       "stream": "stdout",
       "text": [
        "___\n",
        "----------\n"
       ]
      },
      {
       "latex": [
        "$$0$$"
       ],
       "metadata": {},
       "output_type": "display_data",
       "png": "[encoded data removed]",
       "text": [
        "0"
       ]
      },
      {
       "output_type": "stream",
       "stream": "stdout",
       "text": [
        "___\n"
       ]
      },
      {
       "latex": [
        "$$0$$"
       ],
       "metadata": {},
       "output_type": "display_data",
       "png": "[encoded data removed]",
       "text": [
        "0"
       ]
      },
      {
       "output_type": "stream",
       "stream": "stdout",
       "text": [
        "___\n"
       ]
      },
      {
       "latex": [
        "$$0$$"
       ],
       "metadata": {},
       "output_type": "display_data",
       "png": "[encoded data removed]",
       "text": [
        "0"
       ]
      },
      {
       "output_type": "stream",
       "stream": "stdout",
       "text": [
        "___\n"
       ]
      },
      {
       "latex": [
        "$$\\frac{c_{2} m_{3} s_{3}}{m_{2} + m_{3}} \\cos{\\left (q_{2} \\right )}$$"
       ],
       "metadata": {},
       "output_type": "display_data",
       "png": "[encoded data removed]",
       "text": [
        "c\u2082\u22c5m\u2083\u22c5s\u2083\u22c5cos(q\u2082)\n",
        "\u2500\u2500\u2500\u2500\u2500\u2500\u2500\u2500\u2500\u2500\u2500\u2500\u2500\u2500\u2500\u2500\n",
        "    m\u2082 + m\u2083     "
       ]
      },
      {
       "output_type": "stream",
       "stream": "stdout",
       "text": [
        "___\n"
       ]
      }
     ],
     "prompt_number": 27
    },
    {
     "cell_type": "markdown",
     "metadata": {},
     "source": [
      "Die Ausgangskomponente $\\bar y_1 = \\bar h_1(\\bs x)$ hat relativen Grad 4.\n",
      "Das hei\u00dft, es reicht $\\bar y_2= \\bar h_2(\\bs x)$ als Funktion mit relativem Grad 2 zu w\u00e4hlen z.B. $\\bar h_2:=q_2$."
     ]
    },
    {
     "cell_type": "code",
     "collapsed": false,
     "input": [
      "h2_bar = q2\n",
      "\n",
      "LgLf(h2_bar, 0, 0) ##\n",
      "LgLf(h2_bar, 0, 1) ##\n",
      "print \"-\"*10\n",
      "LgLf(h2_bar, 1, 0) ##\n",
      "LgLf(h2_bar, 1, 1) ##"
     ],
     "language": "python",
     "metadata": {},
     "outputs": [
      {
       "latex": [
        "$$0$$"
       ],
       "metadata": {},
       "output_type": "display_data",
       "png": "[encoded data removed]",
       "text": [
        "0"
       ]
      },
      {
       "output_type": "stream",
       "stream": "stdout",
       "text": [
        "___\n"
       ]
      },
      {
       "latex": [
        "$$0$$"
       ],
       "metadata": {},
       "output_type": "display_data",
       "png": "[encoded data removed]",
       "text": [
        "0"
       ]
      },
      {
       "output_type": "stream",
       "stream": "stdout",
       "text": [
        "___\n",
        "----------\n"
       ]
      },
      {
       "latex": [
        "$$0$$"
       ],
       "metadata": {},
       "output_type": "display_data",
       "png": "[encoded data removed]",
       "text": [
        "0"
       ]
      },
      {
       "output_type": "stream",
       "stream": "stdout",
       "text": [
        "___\n"
       ]
      },
      {
       "latex": [
        "$$1$$"
       ],
       "metadata": {},
       "output_type": "display_data",
       "png": "[encoded data removed]",
       "text": [
        "1"
       ]
      },
      {
       "output_type": "stream",
       "stream": "stdout",
       "text": [
        "___\n"
       ]
      }
     ],
     "prompt_number": 28
    },
    {
     "cell_type": "markdown",
     "metadata": {},
     "source": [
      "Regularit\u00e4t der Matrix $\\bar R$ \u00fcberpr\u00fcfen:"
     ]
    },
    {
     "cell_type": "code",
     "collapsed": false,
     "input": [
      "R_bar = sp.Matrix([[LgLf(h1_bar, 0, 3), LgLf(h1_bar, 1, 3)], [LgLf(h2_bar, 0, 1), LgLf(h2_bar, 1, 1)]]) ##"
     ],
     "language": "python",
     "metadata": {},
     "outputs": [
      {
       "latex": [
        "$$\\left[\\begin{matrix}- c_{2} & \\frac{c_{2} m_{3} s_{3}}{m_{2} + m_{3}} \\cos{\\left (q_{2} \\right )}\\\\0 & 1\\end{matrix}\\right]$$"
       ],
       "metadata": {},
       "output_type": "display_data",
       "png": "[encoded data removed]",
       "text": [
        "\u23a1     c\u2082\u22c5m\u2083\u22c5s\u2083\u22c5cos(q\u2082)\u23a4\n",
        "\u23a2-c\u2082  \u2500\u2500\u2500\u2500\u2500\u2500\u2500\u2500\u2500\u2500\u2500\u2500\u2500\u2500\u2500\u2500\u23a5\n",
        "\u23a2         m\u2082 + m\u2083     \u23a5\n",
        "\u23a2                     \u23a5\n",
        "\u23a3 0          1        \u23a6"
       ]
      },
      {
       "output_type": "stream",
       "stream": "stdout",
       "text": [
        "---\n"
       ]
      }
     ],
     "prompt_number": 29
    },
    {
     "cell_type": "markdown",
     "metadata": {},
     "source": [
      "**Fazit**: Auch f\u00fcr ein statisch linearisierbares (Mehrgr\u00f6\u00dfen-)System muss ein flacher Ausgang nicht unbedingt vollst\u00e4ndigen relativen Grad haben. Andererseits gibt es immer einen Ausgang mit vollst\u00e4ndigem relativem Grad und der ist automatisch auch ein flacher Ausgang."
     ]
    },
    {
     "cell_type": "markdown",
     "metadata": {},
     "source": [
      "### Dynamische Erweiterung f\u00fcr  $\\bs y = \\bs S_3$ (Pendelschwerpunkt) konstruieren"
     ]
    },
    {
     "cell_type": "code",
     "collapsed": false,
     "input": [
      "h1, h2 = S3 ##"
     ],
     "language": "python",
     "metadata": {},
     "outputs": [
      {
       "latex": [
        "$$p_{1} + q_{1} - s_{3} \\sin{\\left (q_{2} \\right )}$$"
       ],
       "metadata": {},
       "output_type": "display_data",
       "png": "[encoded data removed]",
       "text": [
        "p\u2081 + q\u2081 - s\u2083\u22c5sin(q\u2082)"
       ]
      },
      {
       "latex": [
        "$$s_{3} \\cos{\\left (q_{2} \\right )}$$"
       ],
       "metadata": {},
       "output_type": "display_data",
       "png": "[encoded data removed]",
       "text": [
        "s\u2083\u22c5cos(q\u2082)"
       ]
      },
      {
       "output_type": "stream",
       "stream": "stdout",
       "text": [
        "---\n"
       ]
      }
     ],
     "prompt_number": 30
    },
    {
     "cell_type": "markdown",
     "metadata": {},
     "source": [
      "$\\bs R_{(2,2)}$ bilden:"
     ]
    },
    {
     "cell_type": "code",
     "collapsed": false,
     "input": [
      "# Lie_deriv und simplify kombinieren\n",
      "def lds(*args, **kwargs):\n",
      "    return st.lie_deriv(*args, **kwargs).simplify()"
     ],
     "language": "python",
     "metadata": {},
     "outputs": [],
     "prompt_number": 31
    },
    {
     "cell_type": "code",
     "collapsed": false,
     "input": [
      "st.lie_deriv(h1, f, g1, xx)"
     ],
     "language": "python",
     "metadata": {},
     "outputs": [
      {
       "latex": [
        "$$0$$"
       ],
       "metadata": {},
       "output_type": "pyout",
       "png": "[encoded data removed]",
       "prompt_number": 32,
       "text": [
        "0"
       ]
      }
     ],
     "prompt_number": 32
    },
    {
     "cell_type": "code",
     "collapsed": false,
     "input": [
      "sp.Matrix([[ lds(h1, f, g1, xx), lds(h1, f, g2, xx)],\n",
      "           [ lds(h2, f, g1, xx), lds(h1, f, g2, xx)]])"
     ],
     "language": "python",
     "metadata": {},
     "outputs": [
      {
       "latex": [
        "$$\\left[\\begin{matrix}0 & - \\frac{m_{2} s_{3} \\cos{\\left (q_{2} \\right )}}{m_{2} + m_{3}}\\\\0 & - \\frac{m_{2} s_{3} \\cos{\\left (q_{2} \\right )}}{m_{2} + m_{3}}\\end{matrix}\\right]$$"
       ],
       "metadata": {},
       "output_type": "pyout",
       "png": "[encoded data removed]",
       "prompt_number": 33,
       "text": [
        "\u23a1   -m\u2082\u22c5s\u2083\u22c5cos(q\u2082) \u23a4\n",
        "\u23a20  \u2500\u2500\u2500\u2500\u2500\u2500\u2500\u2500\u2500\u2500\u2500\u2500\u2500\u2500\u2500\u23a5\n",
        "\u23a2       m\u2082 + m\u2083    \u23a5\n",
        "\u23a2                  \u23a5\n",
        "\u23a2   -m\u2082\u22c5s\u2083\u22c5cos(q\u2082) \u23a5\n",
        "\u23a20  \u2500\u2500\u2500\u2500\u2500\u2500\u2500\u2500\u2500\u2500\u2500\u2500\u2500\u2500\u2500\u23a5\n",
        "\u23a3       m\u2082 + m\u2083    \u23a6"
       ]
      }
     ],
     "prompt_number": 33
    },
    {
     "cell_type": "code",
     "collapsed": false,
     "input": [
      "# Eingangstransformation, sodass erste Spalte ungleich 0 und zweite gleich 0 ist.\n",
      "# (entspricht Vertauschung)\n",
      "g1, g2 = g2, g1\n",
      "G0_swap = st.concat_cols(g1, g2)\n",
      "\n",
      "sp.Matrix([[ lds(h1, f, g1, xx), lds(h1, f, g2, xx)],\n",
      "           [ lds(h2, f, g1, xx), lds(h1, f, g2, xx)]])"
     ],
     "language": "python",
     "metadata": {},
     "outputs": [
      {
       "latex": [
        "$$\\left[\\begin{matrix}- \\frac{m_{2} s_{3} \\cos{\\left (q_{2} \\right )}}{m_{2} + m_{3}} & 0\\\\- s_{3} \\sin{\\left (q_{2} \\right )} & 0\\end{matrix}\\right]$$"
       ],
       "metadata": {},
       "output_type": "pyout",
       "png": "[encoded data removed]",
       "prompt_number": 34,
       "text": [
        "\u23a1-m\u2082\u22c5s\u2083\u22c5cos(q\u2082)    \u23a4\n",
        "\u23a2\u2500\u2500\u2500\u2500\u2500\u2500\u2500\u2500\u2500\u2500\u2500\u2500\u2500\u2500\u2500  0\u23a5\n",
        "\u23a2    m\u2082 + m\u2083       \u23a5\n",
        "\u23a2                  \u23a5\n",
        "\u23a3  -s\u2083\u22c5sin(q\u2082)    0\u23a6"
       ]
      }
     ],
     "prompt_number": 34
    },
    {
     "cell_type": "code",
     "collapsed": false,
     "input": [
      "# jetzt wird dem zu g1 geh\u00f6renden Eingang (Index 0) eine Integratorkette der L\u00e4nge 1 vorgeschalten\n",
      "# und der zu g2 geh\u00f6renden Eingang (Index 1) bleibt unver\u00e4ndert (IK der L\u00e4nge 0)\n",
      "\n",
      "f1, G1, xx1 = st.system_pronlongation(f, G0_swap, xx, [(0, 1), (1,0)]) ##"
     ],
     "language": "python",
     "metadata": {},
     "outputs": [
      {
       "latex": [
        "$$\\left[\\begin{matrix}\\dot{p}_{1}\\\\\\dot{q}_{1}\\\\\\dot{q}_{2}\\\\\\frac{m_{3} s_{3} z_{1}}{m_{2} + m_{3}} \\cos{\\left (q_{2} \\right )} - \\frac{1}{m_{2} + m_{3}} \\left(c_{2} p_{1} + m_{3} \\dot{q}_{2}^{2} s_{3} \\sin{\\left (q_{2} \\right )}\\right)\\\\0\\\\z_{1}\\\\0\\end{matrix}\\right]$$"
       ],
       "metadata": {},
       "output_type": "display_data",
       "png": "[encoded data removed]",
       "text": [
        "\u23a1                     p\u0307\u2081                     \u23a4\n",
        "\u23a2                                             \u23a5\n",
        "\u23a2                     q\u0307\u2081                     \u23a5\n",
        "\u23a2                                             \u23a5\n",
        "\u23a2                     q\u0307\u2082                     \u23a5\n",
        "\u23a2                                             \u23a5\n",
        "\u23a2                                 2           \u23a5\n",
        "\u23a2m\u2083\u22c5s\u2083\u22c5z\u2081\u22c5cos(q\u2082)   c\u2082\u22c5p\u2081 + m\u2083\u22c5q\u0307\u2082 \u22c5s\u2083\u22c5sin(q\u2082)\u23a5\n",
        "\u23a2\u2500\u2500\u2500\u2500\u2500\u2500\u2500\u2500\u2500\u2500\u2500\u2500\u2500\u2500\u2500\u2500 - \u2500\u2500\u2500\u2500\u2500\u2500\u2500\u2500\u2500\u2500\u2500\u2500\u2500\u2500\u2500\u2500\u2500\u2500\u2500\u2500\u2500\u2500\u2500\u2500\u2500\u2500\u23a5\n",
        "\u23a2    m\u2082 + m\u2083                 m\u2082 + m\u2083          \u23a5\n",
        "\u23a2                                             \u23a5\n",
        "\u23a2                      0                      \u23a5\n",
        "\u23a2                                             \u23a5\n",
        "\u23a2                     z\u2081                      \u23a5\n",
        "\u23a2                                             \u23a5\n",
        "\u23a3                      0                      \u23a6"
       ]
      },
      {
       "latex": [
        "$$\\left[\\begin{matrix}0 & 0\\\\0 & 0\\\\0 & 0\\\\0 & -1\\\\0 & 1\\\\0 & 0\\\\1 & 0\\end{matrix}\\right]$$"
       ],
       "metadata": {},
       "output_type": "display_data",
       "png": "[encoded data removed]",
       "text": [
        "\u23a10  0 \u23a4\n",
        "\u23a2     \u23a5\n",
        "\u23a20  0 \u23a5\n",
        "\u23a2     \u23a5\n",
        "\u23a20  0 \u23a5\n",
        "\u23a2     \u23a5\n",
        "\u23a20  -1\u23a5\n",
        "\u23a2     \u23a5\n",
        "\u23a20  1 \u23a5\n",
        "\u23a2     \u23a5\n",
        "\u23a20  0 \u23a5\n",
        "\u23a2     \u23a5\n",
        "\u23a31  0 \u23a6"
       ]
      },
      {
       "latex": [
        "$$\\left[\\begin{matrix}p_{1}\\\\q_{1}\\\\q_{2}\\\\\\dot{p}_{1}\\\\\\dot{q}_{1}\\\\\\dot{q}_{2}\\\\z_{1}\\end{matrix}\\right]$$"
       ],
       "metadata": {},
       "output_type": "display_data",
       "png": "[encoded data removed]",
       "text": [
        "\u23a1p\u2081 \u23a4\n",
        "\u23a2   \u23a5\n",
        "\u23a2q\u2081 \u23a5\n",
        "\u23a2   \u23a5\n",
        "\u23a2q\u2082 \u23a5\n",
        "\u23a2   \u23a5\n",
        "\u23a2p\u0307\u2081\u23a5\n",
        "\u23a2   \u23a5\n",
        "\u23a2q\u0307\u2081\u23a5\n",
        "\u23a2   \u23a5\n",
        "\u23a2q\u0307\u2082\u23a5\n",
        "\u23a2   \u23a5\n",
        "\u23a3z\u2081 \u23a6"
       ]
      },
      {
       "output_type": "stream",
       "stream": "stdout",
       "text": [
        "---\n"
       ]
      }
     ],
     "prompt_number": 35
    },
    {
     "cell_type": "markdown",
     "metadata": {},
     "source": [
      "$\\bs R_{(3,3)}$ bilden:"
     ]
    },
    {
     "cell_type": "code",
     "collapsed": false,
     "input": [
      "sp.Matrix([[ lds(h1, f1, f1, G1[:, 0], xx1), lds(h1, f1, f1, G1[:, 1], xx1)],\n",
      "           [ lds(h2, f1, f1, G1[:, 0], xx1), lds(h1, f1, f1, G1[:, 1], xx1)]])"
     ],
     "language": "python",
     "metadata": {},
     "outputs": [
      {
       "latex": [
        "$$\\left[\\begin{matrix}- \\frac{m_{2} s_{3} \\cos{\\left (q_{2} \\right )}}{m_{2} + m_{3}} & 0\\\\- s_{3} \\sin{\\left (q_{2} \\right )} & 0\\end{matrix}\\right]$$"
       ],
       "metadata": {},
       "output_type": "pyout",
       "png": "[encoded data removed]",
       "prompt_number": 36,
       "text": [
        "\u23a1-m\u2082\u22c5s\u2083\u22c5cos(q\u2082)    \u23a4\n",
        "\u23a2\u2500\u2500\u2500\u2500\u2500\u2500\u2500\u2500\u2500\u2500\u2500\u2500\u2500\u2500\u2500  0\u23a5\n",
        "\u23a2    m\u2082 + m\u2083       \u23a5\n",
        "\u23a2                  \u23a5\n",
        "\u23a3  -s\u2083\u22c5sin(q\u2082)    0\u23a6"
       ]
      }
     ],
     "prompt_number": 36
    },
    {
     "cell_type": "markdown",
     "metadata": {},
     "source": [
      "Die Situation ist die gleiche wie vorher. \u21d2 Weiteren Prolongationsschritt durchf\u00fchren:"
     ]
    },
    {
     "cell_type": "code",
     "collapsed": false,
     "input": [
      "f2, G2, xx2 = st.system_pronlongation(f1, G1, xx1, [(0, 1), (1,0)]) ##"
     ],
     "language": "python",
     "metadata": {},
     "outputs": [
      {
       "latex": [
        "$$\\left[\\begin{matrix}\\dot{p}_{1}\\\\\\dot{q}_{1}\\\\\\dot{q}_{2}\\\\\\frac{m_{3} s_{3} z_{1}}{m_{2} + m_{3}} \\cos{\\left (q_{2} \\right )} - \\frac{1}{m_{2} + m_{3}} \\left(c_{2} p_{1} + m_{3} \\dot{q}_{2}^{2} s_{3} \\sin{\\left (q_{2} \\right )}\\right)\\\\0\\\\z_{1}\\\\z_{2}\\\\0\\end{matrix}\\right]$$"
       ],
       "metadata": {},
       "output_type": "display_data",
       "png": "[encoded data removed]",
       "text": [
        "\u23a1                     p\u0307\u2081                     \u23a4\n",
        "\u23a2                                             \u23a5\n",
        "\u23a2                     q\u0307\u2081                     \u23a5\n",
        "\u23a2                                             \u23a5\n",
        "\u23a2                     q\u0307\u2082                     \u23a5\n",
        "\u23a2                                             \u23a5\n",
        "\u23a2                                 2           \u23a5\n",
        "\u23a2m\u2083\u22c5s\u2083\u22c5z\u2081\u22c5cos(q\u2082)   c\u2082\u22c5p\u2081 + m\u2083\u22c5q\u0307\u2082 \u22c5s\u2083\u22c5sin(q\u2082)\u23a5\n",
        "\u23a2\u2500\u2500\u2500\u2500\u2500\u2500\u2500\u2500\u2500\u2500\u2500\u2500\u2500\u2500\u2500\u2500 - \u2500\u2500\u2500\u2500\u2500\u2500\u2500\u2500\u2500\u2500\u2500\u2500\u2500\u2500\u2500\u2500\u2500\u2500\u2500\u2500\u2500\u2500\u2500\u2500\u2500\u2500\u23a5\n",
        "\u23a2    m\u2082 + m\u2083                 m\u2082 + m\u2083          \u23a5\n",
        "\u23a2                                             \u23a5\n",
        "\u23a2                      0                      \u23a5\n",
        "\u23a2                                             \u23a5\n",
        "\u23a2                     z\u2081                      \u23a5\n",
        "\u23a2                                             \u23a5\n",
        "\u23a2                     z\u2082                      \u23a5\n",
        "\u23a2                                             \u23a5\n",
        "\u23a3                      0                      \u23a6"
       ]
      },
      {
       "latex": [
        "$$\\left[\\begin{matrix}0 & 0\\\\0 & 0\\\\0 & 0\\\\0 & -1\\\\0 & 1\\\\0 & 0\\\\0 & 0\\\\1 & 0\\end{matrix}\\right]$$"
       ],
       "metadata": {},
       "output_type": "display_data",
       "png": "[encoded data removed]",
       "text": [
        "\u23a10  0 \u23a4\n",
        "\u23a2     \u23a5\n",
        "\u23a20  0 \u23a5\n",
        "\u23a2     \u23a5\n",
        "\u23a20  0 \u23a5\n",
        "\u23a2     \u23a5\n",
        "\u23a20  -1\u23a5\n",
        "\u23a2     \u23a5\n",
        "\u23a20  1 \u23a5\n",
        "\u23a2     \u23a5\n",
        "\u23a20  0 \u23a5\n",
        "\u23a2     \u23a5\n",
        "\u23a20  0 \u23a5\n",
        "\u23a2     \u23a5\n",
        "\u23a31  0 \u23a6"
       ]
      },
      {
       "latex": [
        "$$\\left[\\begin{matrix}p_{1}\\\\q_{1}\\\\q_{2}\\\\\\dot{p}_{1}\\\\\\dot{q}_{1}\\\\\\dot{q}_{2}\\\\z_{1}\\\\z_{2}\\end{matrix}\\right]$$"
       ],
       "metadata": {},
       "output_type": "display_data",
       "png": "[encoded data removed]",
       "text": [
        "\u23a1p\u2081 \u23a4\n",
        "\u23a2   \u23a5\n",
        "\u23a2q\u2081 \u23a5\n",
        "\u23a2   \u23a5\n",
        "\u23a2q\u2082 \u23a5\n",
        "\u23a2   \u23a5\n",
        "\u23a2p\u0307\u2081\u23a5\n",
        "\u23a2   \u23a5\n",
        "\u23a2q\u0307\u2081\u23a5\n",
        "\u23a2   \u23a5\n",
        "\u23a2q\u0307\u2082\u23a5\n",
        "\u23a2   \u23a5\n",
        "\u23a2z\u2081 \u23a5\n",
        "\u23a2   \u23a5\n",
        "\u23a3z\u2082 \u23a6"
       ]
      },
      {
       "output_type": "stream",
       "stream": "stdout",
       "text": [
        "---\n"
       ]
      }
     ],
     "prompt_number": 37
    },
    {
     "cell_type": "markdown",
     "metadata": {},
     "source": [
      "$\\bs R_{(4,4)}$ bilden:"
     ]
    },
    {
     "cell_type": "code",
     "collapsed": false,
     "input": [
      "R_44 = sp.Matrix([[ lds(h1, f2, f2, f2, G2[:, 0], xx2), lds(h1, f2, f2, f2, G2[:, 1], xx2)],\n",
      "                  [ lds(h2, f2, f2, f2, G2[:, 0], xx2), lds(h1, f2, f2, f2, G2[:, 1], xx2)]])\n",
      "R_44 ##\n",
      "R_44_det = R_44.det() ##:"
     ],
     "language": "python",
     "metadata": {},
     "outputs": [
      {
       "latex": [
        "$$\\left[\\begin{matrix}- \\frac{m_{2} s_{3} \\cos{\\left (q_{2} \\right )}}{m_{2} + m_{3}} & \\frac{c_{2}}{m_{2} + m_{3}}\\\\- s_{3} \\sin{\\left (q_{2} \\right )} & \\frac{c_{2}}{m_{2} + m_{3}}\\end{matrix}\\right]$$"
       ],
       "metadata": {},
       "output_type": "display_data",
       "png": "[encoded data removed]",
       "text": [
        "\u23a1-m\u2082\u22c5s\u2083\u22c5cos(q\u2082)      c\u2082  \u23a4\n",
        "\u23a2\u2500\u2500\u2500\u2500\u2500\u2500\u2500\u2500\u2500\u2500\u2500\u2500\u2500\u2500\u2500  \u2500\u2500\u2500\u2500\u2500\u2500\u2500\u23a5\n",
        "\u23a2    m\u2082 + m\u2083      m\u2082 + m\u2083\u23a5\n",
        "\u23a2                        \u23a5\n",
        "\u23a2                    c\u2082  \u23a5\n",
        "\u23a2  -s\u2083\u22c5sin(q\u2082)    \u2500\u2500\u2500\u2500\u2500\u2500\u2500\u23a5\n",
        "\u23a3                 m\u2082 + m\u2083\u23a6"
       ]
      },
      {
       "output_type": "stream",
       "stream": "stdout",
       "text": [
        "___\n"
       ]
      },
      {
       "latex": [
        "R_44_det := $$- \\frac{c_{2} m_{2} s_{3} \\cos{\\left (q_{2} \\right )}}{m_{2}^{2} + 2 m_{2} m_{3} + m_{3}^{2}} + \\frac{c_{2} s_{3} \\sin{\\left (q_{2} \\right )}}{m_{2} + m_{3}}$$"
       ],
       "metadata": {},
       "output_type": "display_data",
       "png": "[encoded data removed]",
       "text": [
        "R_44_det :=     c\u2082\u22c5m\u2082\u22c5s\u2083\u22c5cos(q\u2082)    c\u2082\u22c5s\u2083\u22c5sin(q\u2082)\n",
        "- \u2500\u2500\u2500\u2500\u2500\u2500\u2500\u2500\u2500\u2500\u2500\u2500\u2500\u2500\u2500\u2500\u2500\u2500\u2500 + \u2500\u2500\u2500\u2500\u2500\u2500\u2500\u2500\u2500\u2500\u2500\u2500\u2500\n",
        "    2               2      m\u2082 + m\u2083   \n",
        "  m\u2082  + 2\u22c5m\u2082\u22c5m\u2083 + m\u2083                 "
       ]
      },
      {
       "output_type": "stream",
       "stream": "stdout",
       "text": [
        "---\n"
       ]
      }
     ],
     "prompt_number": 38
    },
    {
     "cell_type": "code",
     "collapsed": false,
     "input": [
      "# Singul\u00e4re Konfigurationen bestimmen\n",
      "sol = sp.solve(R_44_det.as_numer_denom()[0], q2)##"
     ],
     "language": "python",
     "metadata": {},
     "outputs": [
      {
       "latex": [
        "$$\\left [ - 2 \\operatorname{atan}{\\left (\\frac{1}{m_{2}} \\left(m_{2} + m_{3} - \\sqrt{2 m_{2}^{2} + 2 m_{2} m_{3} + m_{3}^{2}}\\right) \\right )}, \\quad - 2 \\operatorname{atan}{\\left (\\frac{1}{m_{2}} \\left(m_{2} + m_{3} + \\sqrt{2 m_{2}^{2} + 2 m_{2} m_{3} + m_{3}^{2}}\\right) \\right )}\\right ]$$"
       ],
       "metadata": {},
       "output_type": "display_data",
       "png": "[encoded data removed]",
       "text": [
        "\u23a1       \u239b             _______________________\u239e         \u239b             _________\n",
        "\u23a2       \u239c            \u2571     2               2 \u239f         \u239c            \u2571     2   \n",
        "\u23a2       \u239cm\u2082 + m\u2083 - \u2572\u2571  2\u22c5m\u2082  + 2\u22c5m\u2082\u22c5m\u2083 + m\u2083  \u239f         \u239cm\u2082 + m\u2083 + \u2572\u2571  2\u22c5m\u2082  + \n",
        "\u23a2-2\u22c5atan\u239c\u2500\u2500\u2500\u2500\u2500\u2500\u2500\u2500\u2500\u2500\u2500\u2500\u2500\u2500\u2500\u2500\u2500\u2500\u2500\u2500\u2500\u2500\u2500\u2500\u2500\u2500\u2500\u2500\u2500\u2500\u2500\u2500\u2500\u2500\u2500\u2500\u239f, -2\u22c5atan\u239c\u2500\u2500\u2500\u2500\u2500\u2500\u2500\u2500\u2500\u2500\u2500\u2500\u2500\u2500\u2500\u2500\u2500\u2500\u2500\u2500\u2500\u2500\n",
        "\u23a3       \u239d                 m\u2082                 \u23a0         \u239d                 m\u2082   \n",
        "\n",
        "______________\u239e\u23a4\n",
        "            2 \u239f\u23a5\n",
        "2\u22c5m\u2082\u22c5m\u2083 + m\u2083  \u239f\u23a5\n",
        "\u2500\u2500\u2500\u2500\u2500\u2500\u2500\u2500\u2500\u2500\u2500\u2500\u2500\u2500\u239f\u23a5\n",
        "              \u23a0\u23a6"
       ]
      },
      {
       "output_type": "stream",
       "stream": "stdout",
       "text": [
        "---\n"
       ]
      }
     ],
     "prompt_number": 39
    },
    {
     "cell_type": "code",
     "collapsed": false,
     "input": [],
     "language": "python",
     "metadata": {},
     "outputs": [],
     "prompt_number": 39
    },
    {
     "cell_type": "code",
     "collapsed": false,
     "input": [
      "Lf4_h = sp.Matrix([lds(h1, f2, xx2, order=4), lds(h2, f2, xx2, order=4)]) ##"
     ],
     "language": "python",
     "metadata": {},
     "outputs": [
      {
       "latex": [
        "$$\\left[\\begin{matrix}\\frac{1}{m_{2}^{2} + 2 m_{2} m_{3} + m_{3}^{2}} \\left(c_{2}^{2} p_{1} + c_{2} m_{3} \\dot{q}_{2}^{2} s_{3} \\sin{\\left (q_{2} \\right )} - c_{2} m_{3} s_{3} z_{1} \\cos{\\left (q_{2} \\right )} - m_{2}^{2} \\dot{q}_{2}^{4} s_{3} \\sin{\\left (q_{2} \\right )} + 6 m_{2}^{2} \\dot{q}_{2}^{2} s_{3} z_{1} \\cos{\\left (q_{2} \\right )} + 4 m_{2}^{2} \\dot{q}_{2} s_{3} z_{2} \\sin{\\left (q_{2} \\right )} + 3 m_{2}^{2} s_{3} z_{1}^{2} \\sin{\\left (q_{2} \\right )} - m_{2} m_{3} \\dot{q}_{2}^{4} s_{3} \\sin{\\left (q_{2} \\right )} + 6 m_{2} m_{3} \\dot{q}_{2}^{2} s_{3} z_{1} \\cos{\\left (q_{2} \\right )} + 4 m_{2} m_{3} \\dot{q}_{2} s_{3} z_{2} \\sin{\\left (q_{2} \\right )} + 3 m_{2} m_{3} s_{3} z_{1}^{2} \\sin{\\left (q_{2} \\right )}\\right)\\\\s_{3} \\left(\\dot{q}_{2}^{4} \\cos{\\left (q_{2} \\right )} + 6 \\dot{q}_{2}^{2} z_{1} \\sin{\\left (q_{2} \\right )} - 4 \\dot{q}_{2} z_{2} \\cos{\\left (q_{2} \\right )} - 3 z_{1}^{2} \\cos{\\left (q_{2} \\right )}\\right)\\end{matrix}\\right]$$"
       ],
       "metadata": {},
       "output_type": "display_data",
       "png": "[encoded data removed]",
       "text": [
        "\u23a1  2               2                                      2    4              \n",
        "\u23a2c\u2082 \u22c5p\u2081 + c\u2082\u22c5m\u2083\u22c5q\u0307\u2082 \u22c5s\u2083\u22c5sin(q\u2082) - c\u2082\u22c5m\u2083\u22c5s\u2083\u22c5z\u2081\u22c5cos(q\u2082) - m\u2082 \u22c5q\u0307\u2082 \u22c5s\u2083\u22c5sin(q\u2082) + \n",
        "\u23a2\u2500\u2500\u2500\u2500\u2500\u2500\u2500\u2500\u2500\u2500\u2500\u2500\u2500\u2500\u2500\u2500\u2500\u2500\u2500\u2500\u2500\u2500\u2500\u2500\u2500\u2500\u2500\u2500\u2500\u2500\u2500\u2500\u2500\u2500\u2500\u2500\u2500\u2500\u2500\u2500\u2500\u2500\u2500\u2500\u2500\u2500\u2500\u2500\u2500\u2500\u2500\u2500\u2500\u2500\u2500\u2500\u2500\u2500\u2500\u2500\u2500\u2500\u2500\u2500\u2500\u2500\u2500\u2500\u2500\u2500\u2500\u2500\u2500\u2500\u2500\u2500\u2500\n",
        "\u23a2                                                                             \n",
        "\u23a2                                                                             \n",
        "\u23a2                                                                             \n",
        "\u23a2                                                                             \n",
        "\u23a3                                                                             \n",
        "\n",
        "    2    2                     2                         2      2             \n",
        "6\u22c5m\u2082 \u22c5q\u0307\u2082 \u22c5s\u2083\u22c5z\u2081\u22c5cos(q\u2082) + 4\u22c5m\u2082 \u22c5q\u0307\u2082\u22c5s\u2083\u22c5z\u2082\u22c5sin(q\u2082) + 3\u22c5m\u2082 \u22c5s\u2083\u22c5z\u2081 \u22c5sin(q\u2082) - m\u2082\n",
        "\u2500\u2500\u2500\u2500\u2500\u2500\u2500\u2500\u2500\u2500\u2500\u2500\u2500\u2500\u2500\u2500\u2500\u2500\u2500\u2500\u2500\u2500\u2500\u2500\u2500\u2500\u2500\u2500\u2500\u2500\u2500\u2500\u2500\u2500\u2500\u2500\u2500\u2500\u2500\u2500\u2500\u2500\u2500\u2500\u2500\u2500\u2500\u2500\u2500\u2500\u2500\u2500\u2500\u2500\u2500\u2500\u2500\u2500\u2500\u2500\u2500\u2500\u2500\u2500\u2500\u2500\u2500\u2500\u2500\u2500\u2500\u2500\u2500\u2500\u2500\u2500\u2500\u2500\n",
        "                                           2               2                  \n",
        "                                         m\u2082  + 2\u22c5m\u2082\u22c5m\u2083 + m\u2083                   \n",
        "                                                                              \n",
        "                  \u239b   4                2                                     2\n",
        "               s\u2083\u22c5\u239dq\u0307\u2082 \u22c5cos(q\u2082) + 6\u22c5q\u0307\u2082 \u22c5z\u2081\u22c5sin(q\u2082) - 4\u22c5q\u0307\u2082\u22c5z\u2082\u22c5cos(q\u2082) - 3\u22c5z\u2081 \n",
        "\n",
        "       4                         2                                            \n",
        "\u22c5m\u2083\u22c5q\u0307\u2082 \u22c5s\u2083\u22c5sin(q\u2082) + 6\u22c5m\u2082\u22c5m\u2083\u22c5q\u0307\u2082 \u22c5s\u2083\u22c5z\u2081\u22c5cos(q\u2082) + 4\u22c5m\u2082\u22c5m\u2083\u22c5q\u0307\u2082\u22c5s\u2083\u22c5z\u2082\u22c5sin(q\u2082) +\n",
        "\u2500\u2500\u2500\u2500\u2500\u2500\u2500\u2500\u2500\u2500\u2500\u2500\u2500\u2500\u2500\u2500\u2500\u2500\u2500\u2500\u2500\u2500\u2500\u2500\u2500\u2500\u2500\u2500\u2500\u2500\u2500\u2500\u2500\u2500\u2500\u2500\u2500\u2500\u2500\u2500\u2500\u2500\u2500\u2500\u2500\u2500\u2500\u2500\u2500\u2500\u2500\u2500\u2500\u2500\u2500\u2500\u2500\u2500\u2500\u2500\u2500\u2500\u2500\u2500\u2500\u2500\u2500\u2500\u2500\u2500\u2500\u2500\u2500\u2500\u2500\u2500\u2500\u2500\n",
        "                                                                              \n",
        "                                                                              \n",
        "                                                                              \n",
        "        \u239e                                                                     \n",
        "\u22c5cos(q\u2082)\u23a0                                                                     \n",
        "\n",
        "              2        \u23a4\n",
        " 3\u22c5m\u2082\u22c5m\u2083\u22c5s\u2083\u22c5z\u2081 \u22c5sin(q\u2082)\u23a5\n",
        "\u2500\u2500\u2500\u2500\u2500\u2500\u2500\u2500\u2500\u2500\u2500\u2500\u2500\u2500\u2500\u2500\u2500\u2500\u2500\u2500\u2500\u2500\u2500\u23a5\n",
        "                       \u23a5\n",
        "                       \u23a5\n",
        "                       \u23a5\n",
        "                       \u23a5\n",
        "                       \u23a6"
       ]
      },
      {
       "output_type": "stream",
       "stream": "stdout",
       "text": [
        "---\n"
       ]
      }
     ],
     "prompt_number": 40
    },
    {
     "cell_type": "code",
     "collapsed": false,
     "input": [
      "R_44_inv = R_44.inverse_ADJ()\n",
      "R_44_inv.simplify()"
     ],
     "language": "python",
     "metadata": {},
     "outputs": [],
     "prompt_number": 41
    },
    {
     "cell_type": "code",
     "collapsed": false,
     "input": [
      "R_44.co ##\n",
      "R_44_inv"
     ],
     "language": "python",
     "metadata": {},
     "outputs": [
      {
       "latex": [
        "$$\\left[\\begin{matrix}7 & 3\\\\4 & 3\\end{matrix}\\right]$$"
       ],
       "metadata": {},
       "output_type": "display_data",
       "png": "[encoded data removed]",
       "text": [
        "\u23a17  3\u23a4\n",
        "\u23a2    \u23a5\n",
        "\u23a34  3\u23a6"
       ]
      },
      {
       "output_type": "stream",
       "stream": "stdout",
       "text": [
        "___\n"
       ]
      },
      {
       "latex": [
        "$$\\left[\\begin{matrix}- \\frac{m_{2} + m_{3}}{s_{3} \\left(m_{2} \\cos{\\left (q_{2} \\right )} - \\left(m_{2} + m_{3}\\right) \\sin{\\left (q_{2} \\right )}\\right)} & \\frac{m_{2} + m_{3}}{s_{3} \\left(m_{2} \\cos{\\left (q_{2} \\right )} - \\left(m_{2} + m_{3}\\right) \\sin{\\left (q_{2} \\right )}\\right)}\\\\- \\frac{\\left(m_{2} + m_{3}\\right)^{2} \\sin{\\left (q_{2} \\right )}}{c_{2} \\left(m_{2} \\cos{\\left (q_{2} \\right )} - \\left(m_{2} + m_{3}\\right) \\sin{\\left (q_{2} \\right )}\\right)} & \\frac{m_{2} \\left(m_{2} + m_{3}\\right) \\cos{\\left (q_{2} \\right )}}{c_{2} \\left(m_{2} \\cos{\\left (q_{2} \\right )} - \\left(m_{2} + m_{3}\\right) \\sin{\\left (q_{2} \\right )}\\right)}\\end{matrix}\\right]$$"
       ],
       "metadata": {},
       "output_type": "pyout",
       "png": "[encoded data removed]",
       "prompt_number": 42,
       "text": [
        "\u23a1            -(m\u2082 + m\u2083)                             m\u2082 + m\u2083              \u23a4\n",
        "\u23a2\u2500\u2500\u2500\u2500\u2500\u2500\u2500\u2500\u2500\u2500\u2500\u2500\u2500\u2500\u2500\u2500\u2500\u2500\u2500\u2500\u2500\u2500\u2500\u2500\u2500\u2500\u2500\u2500\u2500\u2500\u2500\u2500\u2500\u2500\u2500  \u2500\u2500\u2500\u2500\u2500\u2500\u2500\u2500\u2500\u2500\u2500\u2500\u2500\u2500\u2500\u2500\u2500\u2500\u2500\u2500\u2500\u2500\u2500\u2500\u2500\u2500\u2500\u2500\u2500\u2500\u2500\u2500\u2500\u2500\u2500\u23a5\n",
        "\u23a2s\u2083\u22c5(m\u2082\u22c5cos(q\u2082) - (m\u2082 + m\u2083)\u22c5sin(q\u2082))  s\u2083\u22c5(m\u2082\u22c5cos(q\u2082) - (m\u2082 + m\u2083)\u22c5sin(q\u2082))\u23a5\n",
        "\u23a2                                                                        \u23a5\n",
        "\u23a2                  2                                                     \u23a5\n",
        "\u23a2        -(m\u2082 + m\u2083) \u22c5sin(q\u2082)                  m\u2082\u22c5(m\u2082 + m\u2083)\u22c5cos(q\u2082)       \u23a5\n",
        "\u23a2\u2500\u2500\u2500\u2500\u2500\u2500\u2500\u2500\u2500\u2500\u2500\u2500\u2500\u2500\u2500\u2500\u2500\u2500\u2500\u2500\u2500\u2500\u2500\u2500\u2500\u2500\u2500\u2500\u2500\u2500\u2500\u2500\u2500\u2500\u2500  \u2500\u2500\u2500\u2500\u2500\u2500\u2500\u2500\u2500\u2500\u2500\u2500\u2500\u2500\u2500\u2500\u2500\u2500\u2500\u2500\u2500\u2500\u2500\u2500\u2500\u2500\u2500\u2500\u2500\u2500\u2500\u2500\u2500\u2500\u2500\u23a5\n",
        "\u23a3c\u2082\u22c5(m\u2082\u22c5cos(q\u2082) - (m\u2082 + m\u2083)\u22c5sin(q\u2082))  c\u2082\u22c5(m\u2082\u22c5cos(q\u2082) - (m\u2082 + m\u2083)\u22c5sin(q\u2082))\u23a6"
       ]
      }
     ],
     "prompt_number": 42
    },
    {
     "cell_type": "code",
     "collapsed": false,
     "input": [
      "# Wahrscheinlich \u00fcberfl\u00fcssig\n",
      "\n",
      "tau_tilde = R_44_inv*(aa - Lf4_h)\n",
      "fG2 = f2+G2*tau_tilde"
     ],
     "language": "python",
     "metadata": {},
     "outputs": [],
     "prompt_number": 43
    },
    {
     "cell_type": "markdown",
     "metadata": {},
     "source": [
      "### \u00dcberpr\u00fcfung, ob $\\bs y = \\bs S_3$ (Pendelschwerpunkt) ein flacher Ausgang ist"
     ]
    },
    {
     "cell_type": "code",
     "collapsed": false,
     "input": [
      "# Bestimmung eines tangential flachen Ausgangs\n",
      "\n",
      "P0 = mod.eqns[:np, :].jacobian(ttheta) ##:\n",
      "P1 = mod.eqns[:np, :].jacobian(tthetad) ##:\n",
      "P2 = mod.eqns[:np, :].jacobian(tthetadd) ##:\n",
      "Q = S3.jacobian(ttheta) ##:"
     ],
     "language": "python",
     "metadata": {},
     "outputs": [
      {
       "latex": [
        "P0 := $$\\left[\\begin{matrix}c_{2} & 0 & m_{3} \\left(\\ddot{q}_{2} s_{3} \\sin{\\left (q_{2} \\right )} + \\dot{q}_{2}^{2} s_{3} \\cos{\\left (q_{2} \\right )}\\right)\\end{matrix}\\right]$$"
       ],
       "metadata": {},
       "output_type": "display_data",
       "png": "[encoded data removed]",
       "text": [
        "P0 := \u23a1          \u239b                    2           \u239e\u23a4\n",
        "\u23a3c\u2082  0  m\u2083\u22c5\u239dq\u0308\u2082\u22c5s\u2083\u22c5sin(q\u2082) + q\u0307\u2082 \u22c5s\u2083\u22c5cos(q\u2082)\u23a0\u23a6"
       ]
      },
      {
       "output_type": "stream",
       "stream": "stdout",
       "text": [
        "---\n"
       ]
      },
      {
       "latex": [
        "P1 := $$\\left[\\begin{matrix}0 & 0 & 2 m_{3} \\dot{q}_{2} s_{3} \\sin{\\left (q_{2} \\right )}\\end{matrix}\\right]$$"
       ],
       "metadata": {},
       "output_type": "display_data",
       "png": "[encoded data removed]",
       "text": [
        "P1 := [0  0  2\u22c5m\u2083\u22c5q\u0307\u2082\u22c5s\u2083\u22c5sin(q\u2082)]"
       ]
      },
      {
       "output_type": "stream",
       "stream": "stdout",
       "text": [
        "---\n"
       ]
      },
      {
       "latex": [
        "P2 := $$\\left[\\begin{matrix}m_{2} + m_{3} & m_{2} + m_{3} & - m_{3} s_{3} \\cos{\\left (q_{2} \\right )}\\end{matrix}\\right]$$"
       ],
       "metadata": {},
       "output_type": "display_data",
       "png": "[encoded data removed]",
       "text": [
        "P2 := [m\u2082 + m\u2083  m\u2082 + m\u2083  -m\u2083\u22c5s\u2083\u22c5cos(q\u2082)]"
       ]
      },
      {
       "output_type": "stream",
       "stream": "stdout",
       "text": [
        "---\n"
       ]
      },
      {
       "latex": [
        "Q := $$\\left[\\begin{matrix}1 & 1 & - s_{3} \\cos{\\left (q_{2} \\right )}\\\\0 & 0 & - s_{3} \\sin{\\left (q_{2} \\right )}\\end{matrix}\\right]$$"
       ],
       "metadata": {},
       "output_type": "display_data",
       "png": "[encoded data removed]",
       "text": [
        "Q := \u23a11  1  -s\u2083\u22c5cos(q\u2082)\u23a4\n",
        "\u23a2                 \u23a5\n",
        "\u23a30  0  -s\u2083\u22c5sin(q\u2082)\u23a6"
       ]
      },
      {
       "output_type": "stream",
       "stream": "stdout",
       "text": [
        "---\n"
       ]
      }
     ],
     "prompt_number": 44
    },
    {
     "cell_type": "code",
     "collapsed": false,
     "input": [
      "# Symbol f\u00fcr den Ableitungsoperator\n",
      "s = sp.Symbol('s', commutative=False)\n",
      "\n",
      "# P mit Q zu einer quadratischen Matrix erg\u00e4nzen\n",
      "P_compl = st.row_stack(P2*s**2 + P1*s + P0, Q) ##"
     ],
     "language": "python",
     "metadata": {},
     "outputs": [
      {
       "latex": [
        "$$\\left[\\begin{matrix}c_{2} + \\left(m_{2} + m_{3}\\right) s^{2} & \\left(m_{2} + m_{3}\\right) s^{2} & 2 m_{3} \\dot{q}_{2} s_{3} \\sin{\\left (q_{2} \\right )} s - m_{3} s_{3} \\cos{\\left (q_{2} \\right )} s^{2} + m_{3} \\left(\\ddot{q}_{2} s_{3} \\sin{\\left (q_{2} \\right )} + \\dot{q}_{2}^{2} s_{3} \\cos{\\left (q_{2} \\right )}\\right)\\\\1 & 1 & - s_{3} \\cos{\\left (q_{2} \\right )}\\\\0 & 0 & - s_{3} \\sin{\\left (q_{2} \\right )}\\end{matrix}\\right]$$"
       ],
       "metadata": {},
       "output_type": "display_data",
       "png": "[encoded data removed]",
       "text": [
        "\u23a1                2             2                                         2    \n",
        "\u23a2c\u2082 + (m\u2082 + m\u2083)\u22c5s   (m\u2082 + m\u2083)\u22c5s   2\u22c5m\u2083\u22c5q\u0307\u2082\u22c5s\u2083\u22c5sin(q\u2082)\u22c5s - m\u2083\u22c5s\u2083\u22c5cos(q\u2082)\u22c5s  + m\n",
        "\u23a2                                                                             \n",
        "\u23a2        1               1                                          -s\u2083\u22c5cos(q\u2082\n",
        "\u23a2                                                                             \n",
        "\u23a3        0               0                                          -s\u2083\u22c5sin(q\u2082\n",
        "\n",
        "  \u239b                    2           \u239e\u23a4\n",
        "\u2083\u22c5\u239dq\u0308\u2082\u22c5s\u2083\u22c5sin(q\u2082) + q\u0307\u2082 \u22c5s\u2083\u22c5cos(q\u2082)\u23a0\u23a5\n",
        "                                    \u23a5\n",
        ")                                   \u23a5\n",
        "                                    \u23a5\n",
        ")                                   \u23a6"
       ]
      },
      {
       "output_type": "stream",
       "stream": "stdout",
       "text": [
        "---\n"
       ]
      }
     ],
     "prompt_number": 45
    },
    {
     "cell_type": "code",
     "collapsed": false,
     "input": [
      "# Inverse berechenen.\n",
      "# Wenn PQ nicht unimodular w\u00e4re, g\u00e4be es eine Fehlermeldung\n",
      "\n",
      "import symbtools.noncommutativetools as nc\n",
      "# rechnet ca. 37s\n",
      "%time P_compl_inv = nc.unimod_inv(P_compl, s, time_dep_symbs=ttheta)"
     ],
     "language": "python",
     "metadata": {},
     "outputs": [
      {
       "output_type": "stream",
       "stream": "stdout",
       "text": [
        "CPU times: user 12.8 s, sys: 4 ms, total: 12.8 s\n",
        "Wall time: 12.8 s\n"
       ]
      }
     ],
     "prompt_number": 46
    },
    {
     "cell_type": "code",
     "collapsed": false,
     "input": [
      "P_compl_inv.co"
     ],
     "language": "python",
     "metadata": {},
     "outputs": [
      {
       "latex": [
        "$$\\left[\\begin{matrix}2 & 6 & 20\\\\3 & 6 & 23\\\\0 & 0 & 5\\end{matrix}\\right]$$"
       ],
       "metadata": {},
       "output_type": "pyout",
       "png": "[encoded data removed]",
       "prompt_number": 47,
       "text": [
        "\u23a12  6  20\u23a4\n",
        "\u23a2        \u23a5\n",
        "\u23a23  6  23\u23a5\n",
        "\u23a2        \u23a5\n",
        "\u23a30  0  5 \u23a6"
       ]
      }
     ],
     "prompt_number": 47
    },
    {
     "cell_type": "code",
     "collapsed": false,
     "input": [
      "P_compl_inv"
     ],
     "language": "python",
     "metadata": {},
     "outputs": [
      {
       "latex": [
        "$$\\left[\\begin{matrix}\\frac{1}{c_{2}} & - \\frac{s^{2}}{c_{2}} \\left(m_{2} + m_{3}\\right) & \\frac{m_{2} s^{2}}{c_{2} \\tan{\\left (q_{2} \\right )}} + \\frac{2 m_{3}}{c_{2}} \\dot{q}_{2} s + \\frac{m_{3} \\left(\\ddot{q}_{2} \\tan{\\left (q_{2} \\right )} + \\dot{q}_{2}^{2}\\right)}{c_{2} \\tan{\\left (q_{2} \\right )}}\\\\- \\frac{1}{c_{2}} & 1 + \\frac{s^{2}}{c_{2}} \\left(m_{2} + m_{3}\\right) & - \\frac{m_{2} s^{2}}{c_{2} \\tan{\\left (q_{2} \\right )}} - \\frac{2 m_{3}}{c_{2}} \\dot{q}_{2} s - \\frac{1}{c_{2} \\tan{\\left (q_{2} \\right )}} \\left(c_{2} + m_{3} \\ddot{q}_{2} \\tan{\\left (q_{2} \\right )} + m_{3} \\dot{q}_{2}^{2}\\right)\\\\0 & 0 & - \\frac{1}{s_{3} \\sin{\\left (q_{2} \\right )}}\\end{matrix}\\right]$$"
       ],
       "metadata": {},
       "output_type": "pyout",
       "png": "[encoded data removed]",
       "prompt_number": 48,
       "text": [
        "\u23a1                  2              2                      \u239b                 2\u239e \n",
        "\u23a21     -(m\u2082 + m\u2083)\u22c5s           m\u2082\u22c5s       2\u22c5m\u2083\u22c5q\u0307\u2082\u22c5s   m\u2083\u22c5\u239dq\u0308\u2082\u22c5tan(q\u2082) + q\u0307\u2082 \u23a0 \n",
        "\u23a2\u2500\u2500    \u2500\u2500\u2500\u2500\u2500\u2500\u2500\u2500\u2500\u2500\u2500\u2500\u2500\u2500       \u2500\u2500\u2500\u2500\u2500\u2500\u2500\u2500\u2500\u2500 + \u2500\u2500\u2500\u2500\u2500\u2500\u2500\u2500\u2500\u2500 + \u2500\u2500\u2500\u2500\u2500\u2500\u2500\u2500\u2500\u2500\u2500\u2500\u2500\u2500\u2500\u2500\u2500\u2500\u2500\u2500\u2500\u2500\u2500 \n",
        "\u23a2c\u2082          c\u2082             c\u2082\u22c5tan(q\u2082)       c\u2082              c\u2082\u22c5tan(q\u2082)       \n",
        "\u23a2                                                                             \n",
        "\u23a2                    2          2                                             \n",
        "\u23a2-1       (m\u2082 + m\u2083)\u22c5s       m\u2082\u22c5s       2\u22c5m\u2083\u22c5q\u0307\u2082\u22c5s   c\u2082 + m\u2083\u22c5q\u0308\u2082\u22c5tan(q\u2082) + m\u2083\u22c5q\n",
        "\u23a2\u2500\u2500\u2500  1 + \u2500\u2500\u2500\u2500\u2500\u2500\u2500\u2500\u2500\u2500\u2500\u2500  - \u2500\u2500\u2500\u2500\u2500\u2500\u2500\u2500\u2500\u2500 - \u2500\u2500\u2500\u2500\u2500\u2500\u2500\u2500\u2500\u2500 - \u2500\u2500\u2500\u2500\u2500\u2500\u2500\u2500\u2500\u2500\u2500\u2500\u2500\u2500\u2500\u2500\u2500\u2500\u2500\u2500\u2500\u2500\u2500\u2500\u2500\u2500\n",
        "\u23a2 c\u2082           c\u2082         c\u2082\u22c5tan(q\u2082)       c\u2082                 c\u2082\u22c5tan(q\u2082)      \n",
        "\u23a2                                                                             \n",
        "\u23a2                                                 -1                          \n",
        "\u23a2 0          0                                 \u2500\u2500\u2500\u2500\u2500\u2500\u2500\u2500\u2500\u2500                     \n",
        "\u23a3                                              s\u2083\u22c5sin(q\u2082)                     \n",
        "\n",
        "   \u23a4\n",
        "   \u23a5\n",
        "   \u23a5\n",
        "   \u23a5\n",
        "   \u23a5\n",
        "  2\u23a5\n",
        "\u0307\u2082 \u23a5\n",
        "\u2500\u2500\u2500\u23a5\n",
        "   \u23a5\n",
        "   \u23a5\n",
        "   \u23a5\n",
        "   \u23a5\n",
        "   \u23a6"
       ]
      }
     ],
     "prompt_number": 48
    },
    {
     "cell_type": "markdown",
     "metadata": {},
     "source": [
      "Da $(\\bs P_{compl})^{-1}$ existiert und eine Polynommatrix ist, ist $\\bs Q$ tats\u00e4chlich eine unimodulare Erweiterung von $\\bs P\\Ddt$. Damit ist gezeigt, dass $\\bs y = \\bs S_3$ (d.h. die Absolutkoordinaten des Pendelschwerpunktes) ein flacher Ausgang ist."
     ]
    },
    {
     "cell_type": "markdown",
     "metadata": {},
     "source": [
      "---\n",
      "### Trajektorienplanung\n",
      "\n",
      "Zur Illustration der flachheitsbasierten Trajektorienplanung wird im folgenden eine Trajektorie f\u00fcr den flachen Ausgang (Schwerpunkt des Pendels) vorgegeben. Daraus k\u00f6nnen dann die Verl\u00e4ufe aller anderer Systemgr\u00f6\u00dfen bestimmt werden, insbesondere auch die Eingangsverl\u00e4ufe.\n",
      "\n",
      "<img src=\"files/images/pendel_wagen_feder_wagen.png\">"
     ]
    },
    {
     "cell_type": "markdown",
     "metadata": {},
     "source": [
      "Zur Bestimmung flexiblen Festlegung der Solltrajektorien bietet es sich an, den Verlauf der Konfigurationskoordinaten zun\u00e4chst in Abh\u00e4ngigkeit eines Pfadparameters $\\lambda$ anzugeben und anschli\u00dfend den Verlauf von $\\lambda$ bez\u00fcglich der Zeit festzulegen.\n",
      "\n",
      "Gew\u00fcnschter Verlauf: schr\u00e4ge Gerade von oben nach unten."
     ]
    },
    {
     "cell_type": "code",
     "collapsed": false,
     "input": [
      "lmd = sp.Symbol('lambda')"
     ],
     "language": "python",
     "metadata": {},
     "outputs": [],
     "prompt_number": 49
    },
    {
     "cell_type": "code",
     "collapsed": false,
     "input": [
      "# Skalierungsfaktor um Singularit\u00e4t am Rand des Arbeitsraumes zu vermeiden\n",
      "sf = 0.8\n",
      "y_start = sp.Matrix([0, s3]) * sf\n",
      "y_end = sp.Matrix([2*s3, -s3]) * sf\n",
      "\n",
      "y_lmd = y_start*(1-lmd) + y_end*lmd"
     ],
     "language": "python",
     "metadata": {},
     "outputs": [],
     "prompt_number": 50
    },
    {
     "cell_type": "markdown",
     "metadata": {},
     "source": [
      "Bestimmung der Parametrisierung des Eingangs durch $\\y$ und seine Zeitableitungen"
     ]
    },
    {
     "cell_type": "code",
     "collapsed": false,
     "input": [
      "# Symbole f\u00fcr die Komponenten des flachen Ausgangs und deren Zeitableitungen:\n",
      "yy = st.symb_vector('y1, y2')\n",
      "st.make_global(yy)\n",
      "\n",
      "yy_dot = st.time_deriv(yy, yy) ##:\n",
      "yy_ddot = st.time_deriv(yy, yy, order=2) ##:\n",
      "yy_dddot = st.time_deriv(yy, yy, order=3) \n",
      "yy_ddddot = st.time_deriv(yy, yy, order=4)"
     ],
     "language": "python",
     "metadata": {},
     "outputs": [
      {
       "latex": [
        "yy_dot := $$\\left[\\begin{matrix}\\dot{y}_{1}\\\\\\dot{y}_{2}\\end{matrix}\\right]$$"
       ],
       "metadata": {},
       "output_type": "display_data",
       "png": "[encoded data removed]",
       "text": [
        "yy_dot := \u23a1y\u0307\u2081\u23a4\n",
        "\u23a2   \u23a5\n",
        "\u23a3y\u0307\u2082\u23a6"
       ]
      },
      {
       "output_type": "stream",
       "stream": "stdout",
       "text": [
        "---\n"
       ]
      },
      {
       "latex": [
        "yy_ddot := $$\\left[\\begin{matrix}\\ddot{y}_{1}\\\\\\ddot{y}_{2}\\end{matrix}\\right]$$"
       ],
       "metadata": {},
       "output_type": "display_data",
       "png": "[encoded data removed]",
       "text": [
        "yy_ddot := \u23a1y\u0308\u2081\u23a4\n",
        "\u23a2   \u23a5\n",
        "\u23a3y\u0308\u2082\u23a6"
       ]
      },
      {
       "output_type": "stream",
       "stream": "stdout",
       "text": [
        "---\n"
       ]
      }
     ],
     "prompt_number": 51
    },
    {
     "cell_type": "code",
     "collapsed": false,
     "input": [
      "# Ausdr\u00fccke, die den Symbolen zugeordnet werden\n",
      "YY = S3 ##:\n",
      "\n",
      "YY_dot = st.time_deriv(YY, ttheta) ##:\n",
      "YY_ddot = st.time_deriv(YY, ttheta, order=2) ##:"
     ],
     "language": "python",
     "metadata": {},
     "outputs": [
      {
       "latex": [
        "YY := $$\\left[\\begin{matrix}p_{1} + q_{1} - s_{3} \\sin{\\left (q_{2} \\right )}\\\\s_{3} \\cos{\\left (q_{2} \\right )}\\end{matrix}\\right]$$"
       ],
       "metadata": {},
       "output_type": "display_data",
       "png": "[encoded data removed]",
       "text": [
        "YY := \u23a1p\u2081 + q\u2081 - s\u2083\u22c5sin(q\u2082)\u23a4\n",
        "\u23a2                    \u23a5\n",
        "\u23a3     s\u2083\u22c5cos(q\u2082)     \u23a6"
       ]
      },
      {
       "output_type": "stream",
       "stream": "stdout",
       "text": [
        "---\n"
       ]
      },
      {
       "latex": [
        "YY_dot := $$\\left[\\begin{matrix}\\dot{p}_{1} + \\dot{q}_{1} - \\dot{q}_{2} s_{3} \\cos{\\left (q_{2} \\right )}\\\\- \\dot{q}_{2} s_{3} \\sin{\\left (q_{2} \\right )}\\end{matrix}\\right]$$"
       ],
       "metadata": {},
       "output_type": "display_data",
       "png": "[encoded data removed]",
       "text": [
        "YY_dot := \u23a1p\u0307\u2081 + q\u0307\u2081 - q\u0307\u2082\u22c5s\u2083\u22c5cos(q\u2082)\u23a4\n",
        "\u23a2                          \u23a5\n",
        "\u23a3     -q\u0307\u2082\u22c5s\u2083\u22c5sin(q\u2082)      \u23a6"
       ]
      },
      {
       "output_type": "stream",
       "stream": "stdout",
       "text": [
        "---\n"
       ]
      },
      {
       "latex": [
        "YY_ddot := $$\\left[\\begin{matrix}\\ddot{p}_{1} + \\ddot{q}_{1} - \\ddot{q}_{2} s_{3} \\cos{\\left (q_{2} \\right )} + \\dot{q}_{2}^{2} s_{3} \\sin{\\left (q_{2} \\right )}\\\\- s_{3} \\left(\\ddot{q}_{2} \\sin{\\left (q_{2} \\right )} + \\dot{q}_{2}^{2} \\cos{\\left (q_{2} \\right )}\\right)\\end{matrix}\\right]$$"
       ],
       "metadata": {},
       "output_type": "display_data",
       "png": "[encoded data removed]",
       "text": [
        "YY_ddot := \u23a1                                2           \u23a4\n",
        "\u23a2p\u0308\u2081 + q\u0308\u2081 - q\u0308\u2082\u22c5s\u2083\u22c5cos(q\u2082) + q\u0307\u2082 \u22c5s\u2083\u22c5sin(q\u2082)\u23a5\n",
        "\u23a2                                            \u23a5\n",
        "\u23a2          \u239b                 2        \u239e      \u23a5\n",
        "\u23a3      -s\u2083\u22c5\u239dq\u0308\u2082\u22c5sin(q\u2082) + q\u0307\u2082 \u22c5cos(q\u2082)\u23a0      \u23a6"
       ]
      },
      {
       "output_type": "stream",
       "stream": "stdout",
       "text": [
        "---\n"
       ]
      }
     ],
     "prompt_number": 52
    },
    {
     "cell_type": "code",
     "collapsed": false,
     "input": [
      "# Zuordnung in Form einer Liste von 2-Tupeln vornehmen\n",
      "\n",
      "replm = zip(yy, YY) + zip(yy_dot, YY_dot) + zip(yy_ddot, YY_ddot)\n",
      "\n",
      "# weitere Ersetzungen zur manuellen Vereinfachung einf\u00fchren\n",
      "# diese gelten unter der Annahme 0 <= q2 <= pi\n",
      "replm += [(sp.acos(cos(q2)), q2), (sp.sqrt(1- cos(q2)**2), sin(q2))]"
     ],
     "language": "python",
     "metadata": {},
     "outputs": [],
     "prompt_number": 53
    },
    {
     "cell_type": "markdown",
     "metadata": {},
     "source": [
      "Parametrisierung von $q_2$ durch $y_2$"
     ]
    },
    {
     "cell_type": "code",
     "collapsed": false,
     "input": [
      "q2_expr = sp.acos(y2/s3) ##:\n",
      "\n",
      "# Probe:\n",
      "q2_expr.subs(replm)"
     ],
     "language": "python",
     "metadata": {},
     "outputs": [
      {
       "latex": [
        "q2_expr := $$\\operatorname{acos}{\\left (\\frac{y_{2}}{s_{3}} \\right )}$$"
       ],
       "metadata": {},
       "output_type": "display_data",
       "png": "[encoded data removed]",
       "text": [
        "q2_expr :=     \u239by\u2082\u239e\n",
        "acos\u239c\u2500\u2500\u239f\n",
        "    \u239ds\u2083\u23a0"
       ]
      },
      {
       "output_type": "stream",
       "stream": "stdout",
       "text": [
        "---\n"
       ]
      },
      {
       "latex": [
        "$$q_{2}$$"
       ],
       "metadata": {},
       "output_type": "pyout",
       "png": "[encoded data removed]",
       "prompt_number": 54,
       "text": [
        "q\u2082"
       ]
      }
     ],
     "prompt_number": 54
    },
    {
     "cell_type": "code",
     "collapsed": false,
     "input": [
      "# Zeitableitungen\n",
      "\n",
      "q2_expr_dot = st.time_deriv(q2_expr, yy) ##:\n",
      "q2_expr_ddot = st.time_deriv(q2_expr, yy, order=2) ##:"
     ],
     "language": "python",
     "metadata": {},
     "outputs": [
      {
       "latex": [
        "q2_expr_dot := $$- \\frac{\\dot{y}_{2}}{s_{3} \\sqrt{1 - \\frac{y_{2}^{2}}{s_{3}^{2}}}}$$"
       ],
       "metadata": {},
       "output_type": "display_data",
       "png": "[encoded data removed]",
       "text": [
        "q2_expr_dot :=       -y\u0307\u2082        \n",
        "\u2500\u2500\u2500\u2500\u2500\u2500\u2500\u2500\u2500\u2500\u2500\u2500\u2500\u2500\u2500\u2500\u2500\u2500\n",
        "         _________\n",
        "        \u2571       2 \n",
        "       \u2571      y\u2082  \n",
        "s\u2083\u22c5   \u2571   1 - \u2500\u2500\u2500 \n",
        "     \u2571          2 \n",
        "   \u2572\u2571         s\u2083  "
       ]
      },
      {
       "output_type": "stream",
       "stream": "stdout",
       "text": [
        "---\n"
       ]
      },
      {
       "latex": [
        "q2_expr_ddot := $$- \\frac{\\ddot{y}_{2} + \\frac{y_{2} \\dot{y}_{2}^{2}}{s_{3}^{2} \\left(1 - \\frac{y_{2}^{2}}{s_{3}^{2}}\\right)}}{s_{3} \\sqrt{1 - \\frac{y_{2}^{2}}{s_{3}^{2}}}}$$"
       ],
       "metadata": {},
       "output_type": "display_data",
       "png": "[encoded data removed]",
       "text": [
        "q2_expr_ddot :=  \u239b               2   \u239e \n",
        " \u239c         y\u2082\u22c5y\u0307\u2082    \u239f \n",
        "-\u239cy\u0308\u2082 + \u2500\u2500\u2500\u2500\u2500\u2500\u2500\u2500\u2500\u2500\u2500\u2500\u2500\u239f \n",
        " \u239c          \u239b      2\u239e\u239f \n",
        " \u239c        2 \u239c    y\u2082 \u239f\u239f \n",
        " \u239c      s\u2083 \u22c5\u239c1 - \u2500\u2500\u2500\u239f\u239f \n",
        " \u239c          \u239c      2\u239f\u239f \n",
        " \u239d          \u239d    s\u2083 \u23a0\u23a0 \n",
        "\u2500\u2500\u2500\u2500\u2500\u2500\u2500\u2500\u2500\u2500\u2500\u2500\u2500\u2500\u2500\u2500\u2500\u2500\u2500\u2500\u2500\u2500\u2500\n",
        "            _________  \n",
        "           \u2571       2   \n",
        "          \u2571      y\u2082    \n",
        "   s\u2083\u22c5   \u2571   1 - \u2500\u2500\u2500   \n",
        "        \u2571          2   \n",
        "      \u2572\u2571         s\u2083    "
       ]
      },
      {
       "output_type": "stream",
       "stream": "stdout",
       "text": [
        "---\n"
       ]
      }
     ],
     "prompt_number": 55
    },
    {
     "cell_type": "code",
     "collapsed": false,
     "input": [
      "# Ausdruck f\u00fcr p1 + q1:\n",
      "\n",
      "sum_expr = y1 + s3*sin(q2_expr) ##\n",
      "\n",
      "# Probe\n",
      "sum_expr.subs(replm)"
     ],
     "language": "python",
     "metadata": {},
     "outputs": [
      {
       "latex": [
        "$$s_{3} \\sqrt{1 - \\frac{y_{2}^{2}}{s_{3}^{2}}} + y_{1}$$"
       ],
       "metadata": {},
       "output_type": "display_data",
       "png": "[encoded data removed]",
       "text": [
        "         _________     \n",
        "        \u2571       2      \n",
        "       \u2571      y\u2082       \n",
        "s\u2083\u22c5   \u2571   1 - \u2500\u2500\u2500  + y\u2081\n",
        "     \u2571          2      \n",
        "   \u2572\u2571         s\u2083       "
       ]
      },
      {
       "output_type": "stream",
       "stream": "stdout",
       "text": [
        "---\n"
       ]
      },
      {
       "latex": [
        "$$p_{1} + q_{1}$$"
       ],
       "metadata": {},
       "output_type": "pyout",
       "png": "[encoded data removed]",
       "prompt_number": 56,
       "text": [
        "p\u2081 + q\u2081"
       ]
      }
     ],
     "prompt_number": 56
    },
    {
     "cell_type": "code",
     "collapsed": false,
     "input": [
      "sum_expr"
     ],
     "language": "python",
     "metadata": {},
     "outputs": [
      {
       "latex": [
        "$$s_{3} \\sqrt{1 - \\frac{y_{2}^{2}}{s_{3}^{2}}} + y_{1}$$"
       ],
       "metadata": {},
       "output_type": "pyout",
       "png": "[encoded data removed]",
       "prompt_number": 57,
       "text": [
        "         _________     \n",
        "        \u2571       2      \n",
        "       \u2571      y\u2082       \n",
        "s\u2083\u22c5   \u2571   1 - \u2500\u2500\u2500  + y\u2081\n",
        "     \u2571          2      \n",
        "   \u2572\u2571         s\u2083       "
       ]
      }
     ],
     "prompt_number": 57
    },
    {
     "cell_type": "code",
     "collapsed": false,
     "input": [
      "sum_expr_ddot = st.time_deriv(sum_expr, yy, order=2) ##:"
     ],
     "language": "python",
     "metadata": {},
     "outputs": [
      {
       "latex": [
        "sum_expr_ddot := $$\\ddot{y}_{1} - \\frac{y_{2} \\ddot{y}_{2}}{s_{3} \\sqrt{1 - \\frac{y_{2}^{2}}{s_{3}^{2}}}} - \\frac{\\dot{y}_{2}^{2}}{s_{3} \\sqrt{1 - \\frac{y_{2}^{2}}{s_{3}^{2}}}} - \\frac{y_{2}^{2} \\dot{y}_{2}^{2}}{s_{3}^{3} \\left(1 - \\frac{y_{2}^{2}}{s_{3}^{2}}\\right)^{\\frac{3}{2}}}$$"
       ],
       "metadata": {},
       "output_type": "display_data",
       "png": "[encoded data removed]",
       "text": [
        "sum_expr_ddot :=                                      2                2    2    \n",
        "            y\u2082\u22c5y\u0308\u2082                y\u0307\u2082               y\u2082 \u22c5y\u0307\u2082     \n",
        "y\u0308\u2081 - \u2500\u2500\u2500\u2500\u2500\u2500\u2500\u2500\u2500\u2500\u2500\u2500\u2500\u2500\u2500\u2500\u2500\u2500 - \u2500\u2500\u2500\u2500\u2500\u2500\u2500\u2500\u2500\u2500\u2500\u2500\u2500\u2500\u2500\u2500\u2500\u2500 - \u2500\u2500\u2500\u2500\u2500\u2500\u2500\u2500\u2500\u2500\u2500\u2500\u2500\u2500\u2500\u2500\n",
        "               _________            _________                3/2\n",
        "              \u2571       2            \u2571       2        \u239b      2\u239e   \n",
        "             \u2571      y\u2082            \u2571      y\u2082       3 \u239c    y\u2082 \u239f   \n",
        "      s\u2083\u22c5   \u2571   1 - \u2500\u2500\u2500    s\u2083\u22c5   \u2571   1 - \u2500\u2500\u2500    s\u2083 \u22c5\u239c1 - \u2500\u2500\u2500\u239f   \n",
        "           \u2571          2         \u2571          2        \u239c      2\u239f   \n",
        "         \u2572\u2571         s\u2083        \u2572\u2571         s\u2083         \u239d    s\u2083 \u23a0   "
       ]
      },
      {
       "output_type": "stream",
       "stream": "stdout",
       "text": [
        "---\n"
       ]
      }
     ],
     "prompt_number": 58
    },
    {
     "cell_type": "code",
     "collapsed": false,
     "input": [
      "# Probe:\n",
      "\n",
      "sum_expr_ddot.subs(replm).expand()"
     ],
     "language": "python",
     "metadata": {},
     "outputs": [
      {
       "latex": [
        "$$\\ddot{p}_{1} + \\ddot{q}_{1}$$"
       ],
       "metadata": {},
       "output_type": "pyout",
       "png": "[encoded data removed]",
       "prompt_number": 59,
       "text": [
        "p\u0308\u2081 + q\u0308\u2081"
       ]
      }
     ],
     "prompt_number": 59
    },
    {
     "cell_type": "markdown",
     "metadata": {},
     "source": [
      "Aus der Bewegungsgleichung f\u00fcr die passive Koordinate $p_1$, die folgenderma\u00dfen lautet"
     ]
    },
    {
     "cell_type": "code",
     "collapsed": false,
     "input": [
      "eq = mod.eqns[:np, :][0]\n",
      "sp.Equality(eq, 0)"
     ],
     "language": "python",
     "metadata": {},
     "outputs": [
      {
       "latex": [
        "$$c_{2} p_{1} + m_{2} \\left(\\ddot{p}_{1} + \\ddot{q}_{1}\\right) + m_{3} \\left(\\ddot{p}_{1} + \\ddot{q}_{1} - \\ddot{q}_{2} s_{3} \\cos{\\left (q_{2} \\right )} + \\dot{q}_{2}^{2} s_{3} \\sin{\\left (q_{2} \\right )}\\right) = 0$$"
       ],
       "metadata": {},
       "output_type": "pyout",
       "png": "[encoded data removed]",
       "prompt_number": 60,
       "text": [
        "                            \u239b                                2           \u239e    \n",
        "c\u2082\u22c5p\u2081 + m\u2082\u22c5(p\u0308\u2081 + q\u0308\u2081) + m\u2083\u22c5\u239dp\u0308\u2081 + q\u0308\u2081 - q\u0308\u2082\u22c5s\u2083\u22c5cos(q\u2082) + q\u0307\u2082 \u22c5s\u2083\u22c5sin(q\u2082)\u23a0 = 0"
       ]
      }
     ],
     "prompt_number": 60
    },
    {
     "cell_type": "markdown",
     "metadata": {},
     "source": [
      "kann ein Ausdruck f\u00fcr $p_1$ bestimmt werden:"
     ]
    },
    {
     "cell_type": "code",
     "collapsed": false,
     "input": [
      "sp.solve(eq, p1)"
     ],
     "language": "python",
     "metadata": {},
     "outputs": [
      {
       "latex": [
        "$$\\left [ \\frac{1}{c_{2}} \\left(- m_{2} \\ddot{p}_{1} - m_{2} \\ddot{q}_{1} - m_{3} \\ddot{p}_{1} - m_{3} \\ddot{q}_{1} + m_{3} \\ddot{q}_{2} s_{3} \\cos{\\left (q_{2} \\right )} - m_{3} \\dot{q}_{2}^{2} s_{3} \\sin{\\left (q_{2} \\right )}\\right)\\right ]$$"
       ],
       "metadata": {},
       "output_type": "pyout",
       "png": "[encoded data removed]",
       "prompt_number": 61,
       "text": [
        "\u23a1                                                               2           \u23a4\n",
        "\u23a2-m\u2082\u22c5p\u0308\u2081 - m\u2082\u22c5q\u0308\u2081 - m\u2083\u22c5p\u0308\u2081 - m\u2083\u22c5q\u0308\u2081 + m\u2083\u22c5q\u0308\u2082\u22c5s\u2083\u22c5cos(q\u2082) - m\u2083\u22c5q\u0307\u2082 \u22c5s\u2083\u22c5sin(q\u2082)\u23a5\n",
        "\u23a2\u2500\u2500\u2500\u2500\u2500\u2500\u2500\u2500\u2500\u2500\u2500\u2500\u2500\u2500\u2500\u2500\u2500\u2500\u2500\u2500\u2500\u2500\u2500\u2500\u2500\u2500\u2500\u2500\u2500\u2500\u2500\u2500\u2500\u2500\u2500\u2500\u2500\u2500\u2500\u2500\u2500\u2500\u2500\u2500\u2500\u2500\u2500\u2500\u2500\u2500\u2500\u2500\u2500\u2500\u2500\u2500\u2500\u2500\u2500\u2500\u2500\u2500\u2500\u2500\u2500\u2500\u2500\u2500\u2500\u2500\u2500\u2500\u2500\u2500\u2500\u23a5\n",
        "\u23a3                                     c\u2082                                    \u23a6"
       ]
      }
     ],
     "prompt_number": 61
    },
    {
     "cell_type": "code",
     "collapsed": false,
     "input": [
      "p1_expr = 1/c2*( -(m2 + m3)*sum_expr_ddot + m3*s3*q2_expr_ddot*cos(q2_expr) - m3*s3*q2_expr_dot**2*sin(q2_expr) )"
     ],
     "language": "python",
     "metadata": {},
     "outputs": [],
     "prompt_number": 62
    },
    {
     "cell_type": "code",
     "collapsed": false,
     "input": [
      "import diss_aux as da"
     ],
     "language": "python",
     "metadata": {},
     "outputs": [],
     "prompt_number": 63
    },
    {
     "cell_type": "code",
     "collapsed": false,
     "input": [
      "print sp.latex(p1_expr.subs([(s3*sp.sqrt(1-y2**2/s3**2), q2)]))"
     ],
     "language": "python",
     "metadata": {},
     "outputs": [
      {
       "output_type": "stream",
       "stream": "stdout",
       "text": [
        "\\frac{1}{c_{2}} \\left(- \\frac{m_{3} y_{2}}{q_{2}} \\left(\\ddot{y}_{2} + \\frac{y_{2} \\dot{y}_{2}^{2}}{q_{2}^{2}}\\right) - \\frac{m_{3} \\dot{y}_{2}^{2}}{q_{2}} + \\left(- m_{2} - m_{3}\\right) \\left(\\ddot{y}_{1} - \\frac{y_{2} \\ddot{y}_{2}}{q_{2}} - \\frac{\\dot{y}_{2}^{2}}{q_{2}} - \\frac{y_{2}^{2} \\dot{y}_{2}^{2}}{q_{2}^{3}}\\right)\\right)\n"
       ]
      }
     ],
     "prompt_number": 64
    },
    {
     "cell_type": "code",
     "collapsed": false,
     "input": [
      "q1_expr = sum_expr - p1_expr"
     ],
     "language": "python",
     "metadata": {},
     "outputs": [],
     "prompt_number": 65
    },
    {
     "cell_type": "code",
     "collapsed": false,
     "input": [
      "#Probe:\n",
      "res = eq.subs([(p1, p1_expr), (pddot1 + qddot1, sum_expr_ddot), (q2, q2_expr), (qdot2, q2_expr_dot), (qddot2, q2_expr_ddot)])\n",
      "res.simplify()"
     ],
     "language": "python",
     "metadata": {},
     "outputs": [
      {
       "latex": [
        "$$0$$"
       ],
       "metadata": {},
       "output_type": "pyout",
       "png": "[encoded data removed]",
       "prompt_number": 66,
       "text": [
        "0"
       ]
      }
     ],
     "prompt_number": 66
    },
    {
     "cell_type": "markdown",
     "metadata": {},
     "source": [
      "**Zwischenfazit**: Die implizite Systemgleichung wird von den oben bestimmten Ausr\u00fccken in $y_1, y_2, \\dot y_1, \\dot y_2$ usw. erf\u00fcllt.\n",
      "\n",
      "---\n",
      "\n",
      "N\u00e4chster Schritt: Parametrierung des Eingangs $\\bs \\tau$:"
     ]
    },
    {
     "cell_type": "code",
     "collapsed": false,
     "input": [
      "# Aufl\u00f6sen der vollst\u00e4ndigen Systemgleichungen nach dem Eingang\n",
      "\n",
      "sol_tau = sp.solve(mod.eqns, ttau) # -> dict\n",
      "\n",
      "ttau_sol_expr = ttau.subs(sol_tau) ##:"
     ],
     "language": "python",
     "metadata": {},
     "outputs": [
      {
       "latex": [
        "ttau_sol_expr := $$\\left[\\begin{matrix}m_{1} \\ddot{q}_{1} + m_{2} \\ddot{p}_{1} + m_{2} \\ddot{q}_{1} + m_{3} \\ddot{p}_{1} + m_{3} \\ddot{q}_{1} - m_{3} \\ddot{q}_{2} s_{3} \\cos{\\left (q_{2} \\right )} + m_{3} \\dot{q}_{2}^{2} s_{3} \\sin{\\left (q_{2} \\right )}\\\\m_{3} s_{3} \\left(- g \\sin{\\left (q_{2} \\right )} - \\ddot{p}_{1} \\cos{\\left (q_{2} \\right )} - \\ddot{q}_{1} \\cos{\\left (q_{2} \\right )} + \\ddot{q}_{2} s_{3}\\right)\\end{matrix}\\right]$$"
       ],
       "metadata": {},
       "output_type": "display_data",
       "png": "[encoded data removed]",
       "text": [
        "ttau_sol_expr := \u23a1                                                                       2     \n",
        "\u23a2m\u2081\u22c5q\u0308\u2081 + m\u2082\u22c5p\u0308\u2081 + m\u2082\u22c5q\u0308\u2081 + m\u2083\u22c5p\u0308\u2081 + m\u2083\u22c5q\u0308\u2081 - m\u2083\u22c5q\u0308\u2082\u22c5s\u2083\u22c5cos(q\u2082) + m\u2083\u22c5q\u0307\u2082 \u22c5s\u2083\u22c5s\n",
        "\u23a2                                                                             \n",
        "\u23a3              m\u2083\u22c5s\u2083\u22c5(-g\u22c5sin(q\u2082) - p\u0308\u2081\u22c5cos(q\u2082) - q\u0308\u2081\u22c5cos(q\u2082) + q\u0308\u2082\u22c5s\u2083)        \n",
        "\n",
        "      \u23a4\n",
        "in(q\u2082)\u23a5\n",
        "      \u23a5\n",
        "      \u23a6"
       ]
      },
      {
       "output_type": "stream",
       "stream": "stdout",
       "text": [
        "---\n"
       ]
      }
     ],
     "prompt_number": 67
    },
    {
     "cell_type": "code",
     "collapsed": false,
     "input": [
      "# Berechnung der noch fehlenden Ausdr\u00fccke:\n",
      "\n",
      "p1_expr_dot = st.time_deriv(p1_expr, yy)\n",
      "q1_expr_dot = st.time_deriv(q1_expr, yy)\n",
      "\n",
      "p1_expr_ddot = st.time_deriv(p1_expr, yy, order=2)\n",
      "q1_expr_ddot = st.time_deriv(q1_expr, yy, order=2)\n",
      "\n",
      "\n",
      "replm2 = zip([p1, q1, q2, pdot1, qdot1, qdot2, pddot1, qddot1, qddot2],\n",
      "             [p1_expr, q1_expr, q2_expr, p1_expr_dot, q1_expr_dot, q2_expr_dot, p1_expr_ddot, q1_expr_ddot, q2_expr_ddot])"
     ],
     "language": "python",
     "metadata": {},
     "outputs": [],
     "prompt_number": 68
    },
    {
     "cell_type": "code",
     "collapsed": false,
     "input": [
      "ttau_expr = ttau_sol_expr.subs(replm2)\n",
      "ttau_expr.simplify()\n",
      "\n",
      "ttau_expr.co ##:\n",
      "ttau_expr.s"
     ],
     "language": "python",
     "metadata": {},
     "outputs": [
      {
       "latex": [
        "ttau_expr.co  := $$\\left[\\begin{matrix}601\\\\33\\end{matrix}\\right]$$"
       ],
       "metadata": {},
       "output_type": "display_data",
       "png": "[encoded data removed]",
       "text": [
        "ttau_expr.co  := \u23a1601\u23a4\n",
        "\u23a2   \u23a5\n",
        "\u23a333 \u23a6"
       ]
      },
      {
       "output_type": "stream",
       "stream": "stdout",
       "text": [
        "___\n"
       ]
      },
      {
       "latex": [
        "$$\\left\\{c_{2}, g, m_{1}, m_{2}, m_{3}, s_{3}, y_{2}, \\ddddot{y}_{1}, \\ddddot{y}_{2}, \\dddot{y}_{2}, \\ddot{y}_{1}, \\ddot{y}_{2}, \\dot{y}_{2}\\right\\}$$"
       ],
       "metadata": {},
       "output_type": "pyout",
       "png": "[encoded data removed]",
       "prompt_number": 69,
       "text": [
        "set([c\u2082, g, m\u2081, m\u2082, m\u2083, s\u2083, y\u2082, y\u0308\u0308\u2081, y\u0308\u0308\u2082, y\u0308\u0307\u2082, y\u0308\u2081, y\u0308\u2082, y\u0307\u2082])"
       ]
      }
     ],
     "prompt_number": 69
    },
    {
     "cell_type": "markdown",
     "metadata": {},
     "source": [
      "Damit steht die Eingangsprametrierung $\\bs h_{\\bs \\tau}$ fest. Sie h\u00e4ngt von Ableitungen des flachen Ausgangs bis zur 4. Ordnung ab.\n",
      "\n",
      "---\n",
      "\n",
      "N\u00e4chster Schritt: Zeitliche Parametrierung des flachen Ausgangs. Vorgabe: Eingang soll stetig sein"
     ]
    },
    {
     "cell_type": "code",
     "collapsed": false,
     "input": [
      "t = sp.Symbol('t')\n",
      "\n",
      "T_start = 0.5\n",
      "T_trans = 1 # Transitionszeit"
     ],
     "language": "python",
     "metadata": {},
     "outputs": [],
     "prompt_number": 70
    },
    {
     "cell_type": "code",
     "collapsed": false,
     "input": [
      "# Festlegung eines st\u00fcckweise definierten Polynoms\n",
      "lmd_t_poly = st.trans_poly(t, cn=4, left=(T_start, 0, 0,0,0,0), right=(T_trans+T_start, 1, 0,0,0,0))\n",
      "lmd_t = st.create_piecewise(t, (T_start, T_start + T_trans), [0, lmd_t_poly, 1])\n",
      "\n",
      "# Bestimmung der Zeitableitungen:\n",
      "lmd_dot_t = st.time_deriv(lmd_t, [])\n",
      "lmd_ddot_t = st.time_deriv(lmd_t, [], order=2)\n",
      "lmd_dddot_t = st.time_deriv(lmd_t, [], order=3)\n",
      "lmd_ddddot_t = st.time_deriv(lmd_t, [], order=4)\n",
      "\n",
      "# Ausdr\u00fccke in ausf\u00fchrbare Funktion verwandeln\n",
      "lmd_vect = sp.Matrix([lmd_t, lmd_dot_t, lmd_ddot_t, lmd_dddot_t, lmd_ddddot_t])\n",
      "lmd_func = st.expr_to_func(t, lmd_vect)"
     ],
     "language": "python",
     "metadata": {},
     "outputs": [],
     "prompt_number": 71
    },
    {
     "cell_type": "code",
     "collapsed": false,
     "input": [
      "print sp.latex(lmd_t)"
     ],
     "language": "python",
     "metadata": {},
     "outputs": [
      {
       "output_type": "stream",
       "stream": "stdout",
       "text": [
        "\\begin{cases} 0 & \\text{for}\\: t < 0.5 \\\\70.0 t^{9} - 630.0 t^{8} + 2430.0 t^{7} - 5250.0 t^{6} + 6977.25 t^{5} - 5906.25 t^{4} + 3189.375 t^{3} - 1063.125 t^{2} + 199.3359375 t - 16.0859375 & \\text{for}\\: t \\leq 1.5 \\\\1 & \\text{for}\\: t < \\infty \\end{cases}\n"
       ]
      }
     ],
     "prompt_number": 72
    },
    {
     "cell_type": "code",
     "collapsed": false,
     "input": [
      "# Plotten\n",
      "\n",
      "tt = st.np.arange(0, 2, 1e-3)\n",
      "\n",
      "pl.figure(figsize=(15, 4))\n",
      "pl.subplot(1, 3, 1)\n",
      "pl.title(r'$\\lambda(t), \\dot \\lambda(t)$', fontsize=16)\n",
      "pl.plot(tt, lmd_func(tt)[:,:2])\n",
      "pl.subplot(1, 3, 2)\n",
      "pl.plot(tt, lmd_func(tt)[:,2:-1])\n",
      "pl.title(r'$\\ddot \\lambda(t),  \\lambda^{(3)}(t)$', fontsize=16)\n",
      "pl.subplot(1, 3, 3)\n",
      "pl.plot(tt, lmd_func(tt)[:,-1:])\n",
      "pl.title(r'$\\lambda^{(4)}(t)$', fontsize=16)"
     ],
     "language": "python",
     "metadata": {},
     "outputs": [
      {
       "metadata": {},
       "output_type": "pyout",
       "prompt_number": 73,
       "text": [
        "<matplotlib.text.Text at 0xb232f4c>"
       ]
      },
      {
       "metadata": {},
       "output_type": "display_data",
       "png": "[encoded data removed]",
       "text": [
        "<matplotlib.figure.Figure at 0xb83e58c>"
       ]
      }
     ],
     "prompt_number": 73
    },
    {
     "cell_type": "code",
     "collapsed": false,
     "input": [
      "y_lmd_dot = st.time_deriv(y_lmd, [lmd]) \n",
      "y_lmd_ddot = st.time_deriv(y_lmd, [lmd], order=2)\n",
      "y_lmd_dddot = st.time_deriv(y_lmd, [lmd], order=3)\n",
      "y_lmd_ddddot = st.time_deriv(y_lmd, [lmd], order=4)"
     ],
     "language": "python",
     "metadata": {},
     "outputs": [],
     "prompt_number": 74
    },
    {
     "cell_type": "code",
     "collapsed": false,
     "input": [
      "# Zuordnung zwischen y-Symbolen und y-Ausdr\u00fccken (in Abh\u00e4ngigkeit von lambda)\n",
      "\n",
      "replm3 = zip(yy, y_lmd) + zip(yy_dot, y_lmd_dot) + zip(yy_ddot, y_lmd_ddot) + zip(yy_dddot, y_lmd_dddot) + \\\n",
      "         zip(yy_ddddot, y_lmd_ddddot)"
     ],
     "language": "python",
     "metadata": {},
     "outputs": [],
     "prompt_number": 75
    },
    {
     "cell_type": "code",
     "collapsed": false,
     "input": [
      "parameter_values = dict(s3=1, m1=1, m2=1, m3=1, g=9.81, c2=100).items()"
     ],
     "language": "python",
     "metadata": {},
     "outputs": [],
     "prompt_number": 76
    },
    {
     "cell_type": "code",
     "collapsed": false,
     "input": [
      "ttau_expr_lmd = ttau_expr.subs(replm3 + parameter_values)\n",
      "\n",
      "# wie umfangreich ist der Ausdruck?\n",
      "ttau_expr_lmd.co"
     ],
     "language": "python",
     "metadata": {},
     "outputs": [
      {
       "latex": [
        "$$\\left[\\begin{matrix}342\\\\33\\end{matrix}\\right]$$"
       ],
       "metadata": {},
       "output_type": "pyout",
       "png": "[encoded data removed]",
       "prompt_number": 77,
       "text": [
        "\u23a1342\u23a4\n",
        "\u23a2   \u23a5\n",
        "\u23a333 \u23a6"
       ]
      }
     ],
     "prompt_number": 77
    },
    {
     "cell_type": "code",
     "collapsed": false,
     "input": [
      "lmd_symbols = list (ttau_expr_lmd.s)\n",
      "lmd_symbols.sort(key=lambda arg:arg.difforder)\n",
      "lmd_symbols ##:\n",
      "\n",
      "replm_lmd_t = zip(lmd_symbols, sp.Matrix([lmd_t, lmd_dot_t, lmd_ddot_t, lmd_dddot_t, lmd_ddddot_t]))"
     ],
     "language": "python",
     "metadata": {},
     "outputs": [
      {
       "latex": [
        "lmd_symbols  := $$\\left [ \\lambda, \\quad \\dot{\\lambda}, \\quad \\ddot{\\lambda}, \\quad \\dddot{\\lambda}, \\quad \\ddddot{\\lambda}\\right ]$$"
       ],
       "metadata": {},
       "output_type": "display_data",
       "png": "[encoded data removed]",
       "text": [
        "lmd_symbols  := [\u03bb, \u03bb\u0307, \u03bb\u0308, \u03bb\u0308\u0307, \u03bb\u0308\u0308]"
       ]
      },
      {
       "output_type": "stream",
       "stream": "stdout",
       "text": [
        "___\n"
       ]
      }
     ],
     "prompt_number": 78
    },
    {
     "cell_type": "markdown",
     "metadata": {},
     "source": [
      "$\\bs \\tau(t)$ bestimmen"
     ]
    },
    {
     "cell_type": "code",
     "collapsed": false,
     "input": [
      "ttau_expr_t = ttau_expr_lmd.subs(replm_lmd_t)"
     ],
     "language": "python",
     "metadata": {},
     "outputs": [],
     "prompt_number": 79
    },
    {
     "cell_type": "code",
     "collapsed": false,
     "input": [
      "# Umfang der Ausdr\u00fccke:\n",
      "\n",
      "ttau_expr_t.co"
     ],
     "language": "python",
     "metadata": {},
     "outputs": [
      {
       "latex": [
        "$$\\left[\\begin{matrix}2415\\\\231\\end{matrix}\\right]$$"
       ],
       "metadata": {},
       "output_type": "pyout",
       "png": "[encoded data removed]",
       "prompt_number": 80,
       "text": [
        "\u23a12415\u23a4\n",
        "\u23a2    \u23a5\n",
        "\u23a3231 \u23a6"
       ]
      }
     ],
     "prompt_number": 80
    },
    {
     "cell_type": "code",
     "collapsed": false,
     "input": [
      "ttau_func_intern = st.expr_to_func(t, ttau_expr_t)\n",
      "\n",
      "# Wrapper-Funkttion f\u00fcr die Simulation\n",
      "def ttau_func_openloop(xx, t):\n",
      "    # Reine Steuerung\n",
      "    # Zustand ignorieren\n",
      "    return ttau_func_intern(t)"
     ],
     "language": "python",
     "metadata": {},
     "outputs": [],
     "prompt_number": 81
    },
    {
     "cell_type": "code",
     "collapsed": false,
     "input": [
      "ttau_func_intern(tt)"
     ],
     "language": "python",
     "metadata": {},
     "outputs": [
      {
       "metadata": {},
       "output_type": "pyout",
       "prompt_number": 82,
       "text": [
        "array([[ 0.   , -5.886],\n",
        "       [ 0.   , -5.886],\n",
        "       [ 0.   , -5.886],\n",
        "       ..., \n",
        "       [ 0.   , -5.886],\n",
        "       [ 0.   , -5.886],\n",
        "       [ 0.   , -5.886]])"
       ]
      }
     ],
     "prompt_number": 82
    },
    {
     "cell_type": "code",
     "collapsed": false,
     "input": [
      "pl.plot(tt, ttau_func_intern(tt))"
     ],
     "language": "python",
     "metadata": {},
     "outputs": [
      {
       "metadata": {},
       "output_type": "pyout",
       "prompt_number": 83,
       "text": [
        "[<matplotlib.lines.Line2D at 0xb64a50c>,\n",
        " <matplotlib.lines.Line2D at 0xb64a56c>]"
       ]
      },
      {
       "metadata": {},
       "output_type": "display_data",
       "png": "[encoded data removed]",
       "text": [
        "<matplotlib.figure.Figure at 0xb1ad82c>"
       ]
      }
     ],
     "prompt_number": 83
    },
    {
     "cell_type": "markdown",
     "metadata": {},
     "source": [
      "\n",
      "#### \u00dcberpr\u00fcfung mittels Simulation"
     ]
    },
    {
     "cell_type": "code",
     "collapsed": false,
     "input": [
      "mod.calc_state_eq()\n",
      "sm = st.SimulationModel(mod.f, mod.g, mod.xx, model_parameters=parameter_values)\n",
      "\n"
     ],
     "language": "python",
     "metadata": {},
     "outputs": [],
     "prompt_number": 84
    },
    {
     "cell_type": "code",
     "collapsed": false,
     "input": [
      "rhs = sm.create_simfunction(controller_function=ttau_func_openloop)"
     ],
     "language": "python",
     "metadata": {},
     "outputs": [],
     "prompt_number": 85
    },
    {
     "cell_type": "code",
     "collapsed": false,
     "input": [
      "# Zuordnung in replm2 verdeutlichen (2. Spalte sind die Ausdr\u00fccke in den y-Variablen)\n",
      "sp.Matrix(replm2)[:2*n, :1] ##:T\n",
      "\n",
      "# y durch lambda-Ausdr\u00fccke ersetzen und diese dann durch explizite Zeitfunktionen ersetzen\n",
      "xx_expr_t = sp.Matrix(replm2)[:2*n, 1:].subs(replm3 + replm_lmd_t + parameter_values)\n",
      "\n",
      "# Probe, dass das Ergebnis nur noch von t abh\u00e4ngt\n",
      "xx_expr_t.s"
     ],
     "language": "python",
     "metadata": {},
     "outputs": [
      {
       "latex": [
        "(sp.Matrix(replm2)[:2*n, :1] ).T := $$\\left[\\begin{matrix}p_{1} & q_{1} & q_{2} & \\dot{p}_{1} & \\dot{q}_{1} & \\dot{q}_{2}\\end{matrix}\\right]$$"
       ],
       "metadata": {},
       "output_type": "display_data",
       "png": "[encoded data removed]",
       "text": [
        "(sp.Matrix(replm2)[:2*n, :1] ).T := [p\u2081  q\u2081  q\u2082  p\u0307\u2081  q\u0307\u2081  q\u0307\u2082]"
       ]
      },
      {
       "output_type": "stream",
       "stream": "stdout",
       "text": [
        "___\n"
       ]
      },
      {
       "latex": [
        "$$\\left\\{t\\right\\}$$"
       ],
       "metadata": {},
       "output_type": "pyout",
       "png": "[encoded data removed]",
       "prompt_number": 86,
       "text": [
        "set([t])"
       ]
      }
     ],
     "prompt_number": 86
    },
    {
     "cell_type": "code",
     "collapsed": false,
     "input": [
      "0.64350111 /st.np.pi*180"
     ],
     "language": "python",
     "metadata": {},
     "outputs": [
      {
       "latex": [
        "$$36.869897715$$"
       ],
       "metadata": {},
       "output_type": "pyout",
       "png": "[encoded data removed]",
       "prompt_number": 87,
       "text": [
        "36.869897715"
       ]
      }
     ],
     "prompt_number": 87
    },
    {
     "cell_type": "code",
     "collapsed": false,
     "input": [
      "# Anfangszustand konsistent zur geplanten Trajektorie w\u00e4hlen:\n",
      "xx0 = st.to_np(xx_expr_t.subs(t, 0)).ravel() ##:T"
     ],
     "language": "python",
     "metadata": {},
     "outputs": [
      {
       "metadata": {},
       "output_type": "display_data",
       "text": [
        "xx0.T := array([ 0.        ,  0.6       ,  0.64350111,  0.        ,  0.        ,  0.        ])"
       ]
      },
      {
       "output_type": "stream",
       "stream": "stdout",
       "text": [
        "---\n"
       ]
      }
     ],
     "prompt_number": 88
    },
    {
     "cell_type": "code",
     "collapsed": false,
     "input": [
      "# durchf\u00fchren der Simulation\n",
      "res = sc_integrate.odeint(rhs, xx0, tt)\n",
      "X1, X2, X3, X4, X5, X6 = res.T\n",
      "\n",
      "# Speichern der relevanten Daten f\u00fcr extern erstellte plots\n",
      "res_tt = st.np.c_[tt, res, ttau_func_intern(tt)]\n",
      "st.np.save('data/zwei_wagen_pendel/transition1.npy', res_tt)"
     ],
     "language": "python",
     "metadata": {},
     "outputs": [],
     "prompt_number": 89
    },
    {
     "cell_type": "code",
     "collapsed": false,
     "input": [
      "pl.plot(tt, X1, label='$p_1(t)$')\n",
      "pl.plot(tt, X2, label='$q_1(t)$')\n",
      "pl.legend(loc='best')"
     ],
     "language": "python",
     "metadata": {},
     "outputs": [
      {
       "metadata": {},
       "output_type": "pyout",
       "prompt_number": 90,
       "text": [
        "<matplotlib.legend.Legend at 0xb9ca70c>"
       ]
      },
      {
       "metadata": {},
       "output_type": "display_data",
       "png": "[encoded data removed]",
       "text": [
        "<matplotlib.figure.Figure at 0xb31558c>"
       ]
      }
     ],
     "prompt_number": 90
    },
    {
     "cell_type": "code",
     "collapsed": false,
     "input": [
      "# Probe ob die Geometrie eingehalten ist:\n",
      "\n",
      "# Funktion f\u00fcr den Pendelschwerpunkt anlegen und dann simulierte Koordinatenverl\u00e4ufe einsetzen\n",
      "S3_func = st.expr_to_func(ttheta, S3.subs(parameter_values)) \n",
      "S3_values = S3_func(X1, X2, X3)\n"
     ],
     "language": "python",
     "metadata": {},
     "outputs": [],
     "prompt_number": 91
    },
    {
     "cell_type": "code",
     "collapsed": false,
     "input": [
      "pl.plot(S3_values[:,0], S3_values[:, 1])\n",
      "pl.axis('square')"
     ],
     "language": "python",
     "metadata": {},
     "outputs": [
      {
       "latex": [
        "$$\\left ( 0.0, \\quad 1.8, \\quad -1.0, \\quad 0.8\\right )$$"
       ],
       "metadata": {},
       "output_type": "pyout",
       "png": "[encoded data removed]",
       "prompt_number": 92,
       "text": [
        "(0.0, 1.8, -1.0, 0.8)"
       ]
      },
      {
       "metadata": {},
       "output_type": "display_data",
       "png": "[encoded data removed]",
       "text": [
        "<matplotlib.figure.Figure at 0xbb616ac>"
       ]
      }
     ],
     "prompt_number": 92
    },
    {
     "cell_type": "code",
     "collapsed": false,
     "input": [
      "# Zum Vergleich: Simulationen mit Anfangsfehlern:\n",
      "\n",
      "delta_x0 = st.np.array([0, 0, st.np.pi/180*3, 0, 0, 0])\n",
      "\n",
      "xx0_b = xx0 + delta_x0\n",
      "xx0_c = xx0 - delta_x0\n",
      "\n",
      "res_b = sc_integrate.odeint(rhs, xx0_b, tt)\n",
      "res_c = sc_integrate.odeint(rhs, xx0_c, tt)\n",
      "\n",
      "X1_b, X2_b, X3_b = res_b.T[:3, :]\n",
      "X1_c, X2_c, X3_c = res_c.T[:3, :]\n",
      "\n",
      "S3_values_b = S3_func(X1_b, X2_b, X3_b)\n",
      "S3_values_c = S3_func(X1_c, X2_c, X3_c)\n",
      "\n",
      "pl.plot(S3_values[:,0], S3_values[:, 1])\n",
      "pl.plot(S3_values_b[:,0], S3_values_b[:, 1])\n",
      "pl.plot(S3_values_c[:,0], S3_values_c[:, 1])\n",
      "pl.axis('square')\n",
      "\n",
      "res_S3 = st.np.c_[S3_values, S3_values_b, S3_values_c]\n",
      "\n",
      "st.np.save('data/zwei_wagen_pendel/transition1_S3.npy', res_S3)"
     ],
     "language": "python",
     "metadata": {},
     "outputs": [
      {
       "metadata": {},
       "output_type": "display_data",
       "png": "[encoded data removed]",
       "text": [
        "<matplotlib.figure.Figure at 0xbf00f6c>"
       ]
      }
     ],
     "prompt_number": 93
    }
   ],
   "metadata": {}
  }
 ]
}